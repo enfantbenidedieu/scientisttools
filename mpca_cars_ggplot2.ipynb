{
 "cells": [
  {
   "cell_type": "markdown",
   "metadata": {},
   "source": [
    "# PCAMIX wine ggplot2"
   ]
  },
  {
   "cell_type": "code",
   "execution_count": 1,
   "metadata": {},
   "outputs": [],
   "source": [
    "import warnings\n",
    "warnings.simplefilter(action='ignore', category=FutureWarning)\n",
    "warnings.filterwarnings(\"ignore\")"
   ]
  },
  {
   "cell_type": "code",
   "execution_count": 2,
   "metadata": {},
   "outputs": [
    {
     "data": {
      "text/html": [
       "<div>\n",
       "<style scoped>\n",
       "    .dataframe tbody tr th:only-of-type {\n",
       "        vertical-align: middle;\n",
       "    }\n",
       "\n",
       "    .dataframe tbody tr th {\n",
       "        vertical-align: top;\n",
       "    }\n",
       "\n",
       "    .dataframe thead th {\n",
       "        text-align: right;\n",
       "    }\n",
       "</style>\n",
       "<table border=\"1\" class=\"dataframe\">\n",
       "  <thead>\n",
       "    <tr style=\"text-align: right;\">\n",
       "      <th></th>\n",
       "      <th>CONS</th>\n",
       "      <th>CYLI</th>\n",
       "      <th>VITE</th>\n",
       "      <th>VOLU</th>\n",
       "      <th>RP/P</th>\n",
       "      <th>LONG</th>\n",
       "      <th>FISC</th>\n",
       "      <th>MARQ</th>\n",
       "      <th>PRIX</th>\n",
       "    </tr>\n",
       "    <tr>\n",
       "      <th>NOM</th>\n",
       "      <th></th>\n",
       "      <th></th>\n",
       "      <th></th>\n",
       "      <th></th>\n",
       "      <th></th>\n",
       "      <th></th>\n",
       "      <th></th>\n",
       "      <th></th>\n",
       "      <th></th>\n",
       "    </tr>\n",
       "  </thead>\n",
       "  <tbody>\n",
       "    <tr>\n",
       "      <th>AS2</th>\n",
       "      <td>6.2</td>\n",
       "      <td>998</td>\n",
       "      <td>140</td>\n",
       "      <td>955</td>\n",
       "      <td>23.2</td>\n",
       "      <td>3.40</td>\n",
       "      <td>4CV</td>\n",
       "      <td>ETRA</td>\n",
       "      <td>CP1</td>\n",
       "    </tr>\n",
       "    <tr>\n",
       "      <th>CI4</th>\n",
       "      <td>5.6</td>\n",
       "      <td>954</td>\n",
       "      <td>145</td>\n",
       "      <td>1170</td>\n",
       "      <td>19.4</td>\n",
       "      <td>3.50</td>\n",
       "      <td>4CV</td>\n",
       "      <td>FRAN</td>\n",
       "      <td>CP1</td>\n",
       "    </tr>\n",
       "    <tr>\n",
       "      <th>PE6</th>\n",
       "      <td>6.7</td>\n",
       "      <td>993</td>\n",
       "      <td>145</td>\n",
       "      <td>1151</td>\n",
       "      <td>20.8</td>\n",
       "      <td>3.61</td>\n",
       "      <td>4CV</td>\n",
       "      <td>FRAN</td>\n",
       "      <td>CP2</td>\n",
       "    </tr>\n",
       "    <tr>\n",
       "      <th>FI3</th>\n",
       "      <td>6.3</td>\n",
       "      <td>999</td>\n",
       "      <td>140</td>\n",
       "      <td>1088</td>\n",
       "      <td>21.8</td>\n",
       "      <td>3.64</td>\n",
       "      <td>4CV</td>\n",
       "      <td>ETRA</td>\n",
       "      <td>CP1</td>\n",
       "    </tr>\n",
       "    <tr>\n",
       "      <th>FI5</th>\n",
       "      <td>6.2</td>\n",
       "      <td>999</td>\n",
       "      <td>145</td>\n",
       "      <td>968</td>\n",
       "      <td>21.5</td>\n",
       "      <td>3.64</td>\n",
       "      <td>4CV</td>\n",
       "      <td>ETRA</td>\n",
       "      <td>CP2</td>\n",
       "    </tr>\n",
       "  </tbody>\n",
       "</table>\n",
       "</div>"
      ],
      "text/plain": [
       "     CONS  CYLI  VITE  VOLU  RP/P  LONG FISC  MARQ PRIX\n",
       "NOM                                                    \n",
       "AS2   6.2   998   140   955  23.2  3.40  4CV  ETRA  CP1\n",
       "CI4   5.6   954   145  1170  19.4  3.50  4CV  FRAN  CP1\n",
       "PE6   6.7   993   145  1151  20.8  3.61  4CV  FRAN  CP2\n",
       "FI3   6.3   999   140  1088  21.8  3.64  4CV  ETRA  CP1\n",
       "FI5   6.2   999   145   968  21.5  3.64  4CV  ETRA  CP2"
      ]
     },
     "execution_count": 2,
     "metadata": {},
     "output_type": "execute_result"
    }
   ],
   "source": [
    "import pandas as pd\n",
    "cars = pd.read_csv('./data/acpm_cars.txt', delimiter = \" \",header=0,index_col=0)\n",
    "cars.head()"
   ]
  },
  {
   "cell_type": "code",
   "execution_count": 3,
   "metadata": {},
   "outputs": [
    {
     "name": "stdout",
     "output_type": "stream",
     "text": [
      "<class 'pandas.core.frame.DataFrame'>\n",
      "Index: 54 entries, AS2 to VW32\n",
      "Data columns (total 18 columns):\n",
      " #   Column  Non-Null Count  Dtype  \n",
      "---  ------  --------------  -----  \n",
      " 0   CONS    54 non-null     float64\n",
      " 1   CYLI    54 non-null     int64  \n",
      " 2   VITE    54 non-null     int64  \n",
      " 3   VOLU    54 non-null     int64  \n",
      " 4   RP/P    54 non-null     float64\n",
      " 5   LONG    54 non-null     float64\n",
      " 6   FISC    54 non-null     object \n",
      " 7   MARQ    54 non-null     object \n",
      " 8   PRIX    54 non-null     object \n",
      " 9   CONS2   27 non-null     float64\n",
      " 10  CYLI2   27 non-null     float64\n",
      " 11  VITE2   27 non-null     float64\n",
      " 12  VOLU2   27 non-null     float64\n",
      " 13  RP/P2   27 non-null     float64\n",
      " 14  LONG2   27 non-null     float64\n",
      " 15  FISC2   27 non-null     object \n",
      " 16  MARQ2   27 non-null     object \n",
      " 17  PRIX2   27 non-null     object \n",
      "dtypes: float64(9), int64(3), object(6)\n",
      "memory usage: 10.1+ KB\n"
     ]
    }
   ],
   "source": [
    "cars2 = cars.copy()\n",
    "cars2.columns = [x+\"2\" for x in cars2.columns]\n",
    "cars3 = cars.copy()\n",
    "cars3.index = [x+\"2\" for x in cars3.index]\n",
    "Cars = pd.concat((pd.concat((cars,cars3),axis=0),cars2),axis=1)\n",
    "Cars.info()"
   ]
  },
  {
   "cell_type": "code",
   "execution_count": 4,
   "metadata": {},
   "outputs": [
    {
     "name": "stdout",
     "output_type": "stream",
     "text": [
      "Missing values are imputed by the mean of the variable.\n"
     ]
    },
    {
     "data": {
      "text/html": [
       "<style>#sk-container-id-1 {color: black;background-color: white;}#sk-container-id-1 pre{padding: 0;}#sk-container-id-1 div.sk-toggleable {background-color: white;}#sk-container-id-1 label.sk-toggleable__label {cursor: pointer;display: block;width: 100%;margin-bottom: 0;padding: 0.3em;box-sizing: border-box;text-align: center;}#sk-container-id-1 label.sk-toggleable__label-arrow:before {content: \"▸\";float: left;margin-right: 0.25em;color: #696969;}#sk-container-id-1 label.sk-toggleable__label-arrow:hover:before {color: black;}#sk-container-id-1 div.sk-estimator:hover label.sk-toggleable__label-arrow:before {color: black;}#sk-container-id-1 div.sk-toggleable__content {max-height: 0;max-width: 0;overflow: hidden;text-align: left;background-color: #f0f8ff;}#sk-container-id-1 div.sk-toggleable__content pre {margin: 0.2em;color: black;border-radius: 0.25em;background-color: #f0f8ff;}#sk-container-id-1 input.sk-toggleable__control:checked~div.sk-toggleable__content {max-height: 200px;max-width: 100%;overflow: auto;}#sk-container-id-1 input.sk-toggleable__control:checked~label.sk-toggleable__label-arrow:before {content: \"▾\";}#sk-container-id-1 div.sk-estimator input.sk-toggleable__control:checked~label.sk-toggleable__label {background-color: #d4ebff;}#sk-container-id-1 div.sk-label input.sk-toggleable__control:checked~label.sk-toggleable__label {background-color: #d4ebff;}#sk-container-id-1 input.sk-hidden--visually {border: 0;clip: rect(1px 1px 1px 1px);clip: rect(1px, 1px, 1px, 1px);height: 1px;margin: -1px;overflow: hidden;padding: 0;position: absolute;width: 1px;}#sk-container-id-1 div.sk-estimator {font-family: monospace;background-color: #f0f8ff;border: 1px dotted black;border-radius: 0.25em;box-sizing: border-box;margin-bottom: 0.5em;}#sk-container-id-1 div.sk-estimator:hover {background-color: #d4ebff;}#sk-container-id-1 div.sk-parallel-item::after {content: \"\";width: 100%;border-bottom: 1px solid gray;flex-grow: 1;}#sk-container-id-1 div.sk-label:hover label.sk-toggleable__label {background-color: #d4ebff;}#sk-container-id-1 div.sk-serial::before {content: \"\";position: absolute;border-left: 1px solid gray;box-sizing: border-box;top: 0;bottom: 0;left: 50%;z-index: 0;}#sk-container-id-1 div.sk-serial {display: flex;flex-direction: column;align-items: center;background-color: white;padding-right: 0.2em;padding-left: 0.2em;position: relative;}#sk-container-id-1 div.sk-item {position: relative;z-index: 1;}#sk-container-id-1 div.sk-parallel {display: flex;align-items: stretch;justify-content: center;background-color: white;position: relative;}#sk-container-id-1 div.sk-item::before, #sk-container-id-1 div.sk-parallel-item::before {content: \"\";position: absolute;border-left: 1px solid gray;box-sizing: border-box;top: 0;bottom: 0;left: 50%;z-index: -1;}#sk-container-id-1 div.sk-parallel-item {display: flex;flex-direction: column;z-index: 1;position: relative;background-color: white;}#sk-container-id-1 div.sk-parallel-item:first-child::after {align-self: flex-end;width: 50%;}#sk-container-id-1 div.sk-parallel-item:last-child::after {align-self: flex-start;width: 50%;}#sk-container-id-1 div.sk-parallel-item:only-child::after {width: 0;}#sk-container-id-1 div.sk-dashed-wrapped {border: 1px dashed gray;margin: 0 0.4em 0.5em 0.4em;box-sizing: border-box;padding-bottom: 0.4em;background-color: white;}#sk-container-id-1 div.sk-label label {font-family: monospace;font-weight: bold;display: inline-block;line-height: 1.2em;}#sk-container-id-1 div.sk-label-container {text-align: center;}#sk-container-id-1 div.sk-container {/* jupyter's `normalize.less` sets `[hidden] { display: none; }` but bootstrap.min.css set `[hidden] { display: none !important; }` so we also need the `!important` here to be able to override the default hidden behavior on the sphinx rendered scikit-learn.org. See: https://github.com/scikit-learn/scikit-learn/issues/21755 */display: inline-block !important;position: relative;}#sk-container-id-1 div.sk-text-repr-fallback {display: none;}</style><div id=\"sk-container-id-1\" class=\"sk-top-container\"><div class=\"sk-text-repr-fallback\"><pre>MPCA(ind_sup=[27, 28, 29, 30, 31, 32, 33, 34, 35, 36, 37, 38, 39, 40, 41, 42,\n",
       "              43, 44, 45, 46, 47, 48, 49, 50, 51, 52, 53],\n",
       "     n_components=5, quali_sup=[15, 16, 17],\n",
       "     quanti_sup=[9, 10, 11, 12, 13, 14])</pre><b>In a Jupyter environment, please rerun this cell to show the HTML representation or trust the notebook. <br />On GitHub, the HTML representation is unable to render, please try loading this page with nbviewer.org.</b></div><div class=\"sk-container\" hidden><div class=\"sk-item\"><div class=\"sk-estimator sk-toggleable\"><input class=\"sk-toggleable__control sk-hidden--visually\" id=\"sk-estimator-id-1\" type=\"checkbox\" checked><label for=\"sk-estimator-id-1\" class=\"sk-toggleable__label sk-toggleable__label-arrow\">MPCA</label><div class=\"sk-toggleable__content\"><pre>MPCA(ind_sup=[27, 28, 29, 30, 31, 32, 33, 34, 35, 36, 37, 38, 39, 40, 41, 42,\n",
       "              43, 44, 45, 46, 47, 48, 49, 50, 51, 52, 53],\n",
       "     n_components=5, quali_sup=[15, 16, 17],\n",
       "     quanti_sup=[9, 10, 11, 12, 13, 14])</pre></div></div></div></div></div>"
      ],
      "text/plain": [
       "MPCA(ind_sup=[27, 28, 29, 30, 31, 32, 33, 34, 35, 36, 37, 38, 39, 40, 41, 42,\n",
       "              43, 44, 45, 46, 47, 48, 49, 50, 51, 52, 53],\n",
       "     n_components=5, quali_sup=[15, 16, 17],\n",
       "     quanti_sup=[9, 10, 11, 12, 13, 14])"
      ]
     },
     "execution_count": 4,
     "metadata": {},
     "output_type": "execute_result"
    }
   ],
   "source": [
    "from scientisttools import MPCA\n",
    "res_mpca = MPCA(n_components= 5,quanti_sup=list(range(9,15)),quali_sup=[15,16,17],ind_sup=list(range(cars.shape[0],Cars.shape[0])))\n",
    "res_mpca.fit(Cars)"
   ]
  },
  {
   "cell_type": "markdown",
   "metadata": {},
   "source": [
    "## Eigenvalues"
   ]
  },
  {
   "cell_type": "code",
   "execution_count": 5,
   "metadata": {},
   "outputs": [
    {
     "data": {
      "image/png": "[encoded data removed]",
      "text/plain": [
       "<Figure size 432x288 with 1 Axes>"
      ]
     },
     "metadata": {
      "needs_background": "light"
     },
     "output_type": "display_data"
    },
    {
     "name": "stdout",
     "output_type": "stream",
     "text": [
      "\n"
     ]
    }
   ],
   "source": [
    "from scientisttools import fviz_screeplot\n",
    "p = fviz_screeplot(res_mpca)\n",
    "print(p)"
   ]
  },
  {
   "cell_type": "markdown",
   "metadata": {},
   "source": [
    "## Individuals Factor Map\n",
    "\n",
    "### Color by RGB colors"
   ]
  },
  {
   "cell_type": "code",
   "execution_count": 6,
   "metadata": {},
   "outputs": [
    {
     "data": {
      "image/png": "[encoded data removed]",
      "text/plain": [
       "<Figure size 640x480 with 1 Axes>"
      ]
     },
     "metadata": {
      "needs_background": "light"
     },
     "output_type": "display_data"
    },
    {
     "name": "stdout",
     "output_type": "stream",
     "text": [
      "\n"
     ]
    }
   ],
   "source": [
    "from scientisttools import fviz_mpca_ind\n",
    "p = fviz_mpca_ind(res_mpca,repel=True)\n",
    "print(p)"
   ]
  },
  {
   "cell_type": "code",
   "execution_count": 7,
   "metadata": {},
   "outputs": [
    {
     "data": {
      "text/html": [
       "<div>\n",
       "<style scoped>\n",
       "    .dataframe tbody tr th:only-of-type {\n",
       "        vertical-align: middle;\n",
       "    }\n",
       "\n",
       "    .dataframe tbody tr th {\n",
       "        vertical-align: top;\n",
       "    }\n",
       "\n",
       "    .dataframe thead th {\n",
       "        text-align: right;\n",
       "    }\n",
       "</style>\n",
       "<table border=\"1\" class=\"dataframe\">\n",
       "  <thead>\n",
       "    <tr style=\"text-align: right;\">\n",
       "      <th></th>\n",
       "      <th>Dim.1</th>\n",
       "      <th>Dim.2</th>\n",
       "      <th>Dim.3</th>\n",
       "      <th>Dim.4</th>\n",
       "      <th>Dim.5</th>\n",
       "      <th>cos2</th>\n",
       "    </tr>\n",
       "  </thead>\n",
       "  <tbody>\n",
       "    <tr>\n",
       "      <th>AS2</th>\n",
       "      <td>-2.626868</td>\n",
       "      <td>-1.700462</td>\n",
       "      <td>1.403855</td>\n",
       "      <td>0.374420</td>\n",
       "      <td>-1.431409</td>\n",
       "      <td>0.558574</td>\n",
       "    </tr>\n",
       "    <tr>\n",
       "      <th>CI4</th>\n",
       "      <td>-2.397295</td>\n",
       "      <td>0.966126</td>\n",
       "      <td>1.758490</td>\n",
       "      <td>0.827966</td>\n",
       "      <td>-1.324621</td>\n",
       "      <td>0.458741</td>\n",
       "    </tr>\n",
       "    <tr>\n",
       "      <th>PE6</th>\n",
       "      <td>-1.631235</td>\n",
       "      <td>2.247254</td>\n",
       "      <td>0.329646</td>\n",
       "      <td>-0.568445</td>\n",
       "      <td>1.283136</td>\n",
       "      <td>0.606847</td>\n",
       "    </tr>\n",
       "    <tr>\n",
       "      <th>FI3</th>\n",
       "      <td>-2.086566</td>\n",
       "      <td>-1.102789</td>\n",
       "      <td>0.837737</td>\n",
       "      <td>0.359289</td>\n",
       "      <td>0.400727</td>\n",
       "      <td>0.702753</td>\n",
       "    </tr>\n",
       "    <tr>\n",
       "      <th>FI5</th>\n",
       "      <td>-1.769700</td>\n",
       "      <td>-0.132189</td>\n",
       "      <td>-0.580175</td>\n",
       "      <td>-1.282820</td>\n",
       "      <td>1.868576</td>\n",
       "      <td>0.300255</td>\n",
       "    </tr>\n",
       "    <tr>\n",
       "      <th>FI8</th>\n",
       "      <td>3.766185</td>\n",
       "      <td>-0.661957</td>\n",
       "      <td>1.355248</td>\n",
       "      <td>-1.455975</td>\n",
       "      <td>-0.049329</td>\n",
       "      <td>0.707176</td>\n",
       "    </tr>\n",
       "    <tr>\n",
       "      <th>FID</th>\n",
       "      <td>2.161129</td>\n",
       "      <td>-1.272850</td>\n",
       "      <td>-0.715298</td>\n",
       "      <td>1.044895</td>\n",
       "      <td>0.709465</td>\n",
       "      <td>0.700685</td>\n",
       "    </tr>\n",
       "    <tr>\n",
       "      <th>FO1</th>\n",
       "      <td>-1.795874</td>\n",
       "      <td>-1.233806</td>\n",
       "      <td>0.752408</td>\n",
       "      <td>0.108646</td>\n",
       "      <td>0.327720</td>\n",
       "      <td>0.697422</td>\n",
       "    </tr>\n",
       "    <tr>\n",
       "      <th>RE7</th>\n",
       "      <td>4.002668</td>\n",
       "      <td>1.815679</td>\n",
       "      <td>1.850259</td>\n",
       "      <td>-0.808617</td>\n",
       "      <td>-0.566181</td>\n",
       "      <td>0.781237</td>\n",
       "    </tr>\n",
       "    <tr>\n",
       "      <th>NI1</th>\n",
       "      <td>-1.912613</td>\n",
       "      <td>-1.764613</td>\n",
       "      <td>0.130560</td>\n",
       "      <td>-1.156757</td>\n",
       "      <td>-0.415251</td>\n",
       "      <td>0.656943</td>\n",
       "    </tr>\n",
       "    <tr>\n",
       "      <th>OP1</th>\n",
       "      <td>-1.888796</td>\n",
       "      <td>-1.381416</td>\n",
       "      <td>0.838695</td>\n",
       "      <td>-0.054705</td>\n",
       "      <td>0.169040</td>\n",
       "      <td>0.782324</td>\n",
       "    </tr>\n",
       "    <tr>\n",
       "      <th>PE1</th>\n",
       "      <td>-2.165121</td>\n",
       "      <td>1.501280</td>\n",
       "      <td>1.388492</td>\n",
       "      <td>1.019595</td>\n",
       "      <td>0.526395</td>\n",
       "      <td>0.544024</td>\n",
       "    </tr>\n",
       "    <tr>\n",
       "      <th>PE3</th>\n",
       "      <td>-0.222393</td>\n",
       "      <td>2.356597</td>\n",
       "      <td>-2.199960</td>\n",
       "      <td>2.058609</td>\n",
       "      <td>-0.646423</td>\n",
       "      <td>0.334650</td>\n",
       "    </tr>\n",
       "    <tr>\n",
       "      <th>DA2</th>\n",
       "      <td>3.098776</td>\n",
       "      <td>-1.113514</td>\n",
       "      <td>-0.348331</td>\n",
       "      <td>1.346747</td>\n",
       "      <td>1.484363</td>\n",
       "      <td>0.704471</td>\n",
       "    </tr>\n",
       "    <tr>\n",
       "      <th>PE9</th>\n",
       "      <td>4.150984</td>\n",
       "      <td>2.107470</td>\n",
       "      <td>1.816939</td>\n",
       "      <td>-0.583353</td>\n",
       "      <td>-0.074522</td>\n",
       "      <td>0.825207</td>\n",
       "    </tr>\n",
       "    <tr>\n",
       "      <th>RE1</th>\n",
       "      <td>-3.337327</td>\n",
       "      <td>1.561796</td>\n",
       "      <td>1.051333</td>\n",
       "      <td>1.109674</td>\n",
       "      <td>0.378394</td>\n",
       "      <td>0.675832</td>\n",
       "    </tr>\n",
       "    <tr>\n",
       "      <th>RE3</th>\n",
       "      <td>-1.773843</td>\n",
       "      <td>3.395349</td>\n",
       "      <td>-2.098894</td>\n",
       "      <td>0.012404</td>\n",
       "      <td>0.425613</td>\n",
       "      <td>0.680341</td>\n",
       "    </tr>\n",
       "    <tr>\n",
       "      <th>RE4</th>\n",
       "      <td>-1.172103</td>\n",
       "      <td>2.963985</td>\n",
       "      <td>-1.914665</td>\n",
       "      <td>-0.519590</td>\n",
       "      <td>-0.620547</td>\n",
       "      <td>0.600440</td>\n",
       "    </tr>\n",
       "    <tr>\n",
       "      <th>FO9</th>\n",
       "      <td>2.484617</td>\n",
       "      <td>-1.478592</td>\n",
       "      <td>-0.587998</td>\n",
       "      <td>0.903153</td>\n",
       "      <td>0.213665</td>\n",
       "      <td>0.774692</td>\n",
       "    </tr>\n",
       "    <tr>\n",
       "      <th>RE8</th>\n",
       "      <td>3.805576</td>\n",
       "      <td>1.557855</td>\n",
       "      <td>1.921905</td>\n",
       "      <td>-1.174844</td>\n",
       "      <td>-1.154160</td>\n",
       "      <td>0.711736</td>\n",
       "    </tr>\n",
       "    <tr>\n",
       "      <th>SE4</th>\n",
       "      <td>3.084617</td>\n",
       "      <td>-1.219290</td>\n",
       "      <td>-0.222294</td>\n",
       "      <td>1.394515</td>\n",
       "      <td>0.881066</td>\n",
       "      <td>0.763592</td>\n",
       "    </tr>\n",
       "    <tr>\n",
       "      <th>SE9</th>\n",
       "      <td>-2.506774</td>\n",
       "      <td>-1.524648</td>\n",
       "      <td>1.571622</td>\n",
       "      <td>0.681453</td>\n",
       "      <td>-0.616449</td>\n",
       "      <td>0.592650</td>\n",
       "    </tr>\n",
       "    <tr>\n",
       "      <th>SZ2</th>\n",
       "      <td>-2.000447</td>\n",
       "      <td>-1.858788</td>\n",
       "      <td>0.350305</td>\n",
       "      <td>-1.048469</td>\n",
       "      <td>-0.806124</td>\n",
       "      <td>0.749707</td>\n",
       "    </tr>\n",
       "    <tr>\n",
       "      <th>SZ3</th>\n",
       "      <td>0.883669</td>\n",
       "      <td>-1.118285</td>\n",
       "      <td>-3.014050</td>\n",
       "      <td>-0.128212</td>\n",
       "      <td>-1.980307</td>\n",
       "      <td>0.132748</td>\n",
       "    </tr>\n",
       "    <tr>\n",
       "      <th>TO1</th>\n",
       "      <td>-1.644697</td>\n",
       "      <td>-0.628712</td>\n",
       "      <td>-1.553439</td>\n",
       "      <td>-2.891343</td>\n",
       "      <td>1.465478</td>\n",
       "      <td>0.186109</td>\n",
       "    </tr>\n",
       "    <tr>\n",
       "      <th>TO3</th>\n",
       "      <td>1.132242</td>\n",
       "      <td>-1.016719</td>\n",
       "      <td>-3.494236</td>\n",
       "      <td>-0.623758</td>\n",
       "      <td>-1.247660</td>\n",
       "      <td>0.126281</td>\n",
       "    </tr>\n",
       "    <tr>\n",
       "      <th>VW3</th>\n",
       "      <td>2.361192</td>\n",
       "      <td>-1.264758</td>\n",
       "      <td>-0.628156</td>\n",
       "      <td>1.055521</td>\n",
       "      <td>0.799346</td>\n",
       "      <td>0.730130</td>\n",
       "    </tr>\n",
       "  </tbody>\n",
       "</table>\n",
       "</div>"
      ],
      "text/plain": [
       "        Dim.1     Dim.2     Dim.3     Dim.4     Dim.5      cos2\n",
       "AS2 -2.626868 -1.700462  1.403855  0.374420 -1.431409  0.558574\n",
       "CI4 -2.397295  0.966126  1.758490  0.827966 -1.324621  0.458741\n",
       "PE6 -1.631235  2.247254  0.329646 -0.568445  1.283136  0.606847\n",
       "FI3 -2.086566 -1.102789  0.837737  0.359289  0.400727  0.702753\n",
       "FI5 -1.769700 -0.132189 -0.580175 -1.282820  1.868576  0.300255\n",
       "FI8  3.766185 -0.661957  1.355248 -1.455975 -0.049329  0.707176\n",
       "FID  2.161129 -1.272850 -0.715298  1.044895  0.709465  0.700685\n",
       "FO1 -1.795874 -1.233806  0.752408  0.108646  0.327720  0.697422\n",
       "RE7  4.002668  1.815679  1.850259 -0.808617 -0.566181  0.781237\n",
       "NI1 -1.912613 -1.764613  0.130560 -1.156757 -0.415251  0.656943\n",
       "OP1 -1.888796 -1.381416  0.838695 -0.054705  0.169040  0.782324\n",
       "PE1 -2.165121  1.501280  1.388492  1.019595  0.526395  0.544024\n",
       "PE3 -0.222393  2.356597 -2.199960  2.058609 -0.646423  0.334650\n",
       "DA2  3.098776 -1.113514 -0.348331  1.346747  1.484363  0.704471\n",
       "PE9  4.150984  2.107470  1.816939 -0.583353 -0.074522  0.825207\n",
       "RE1 -3.337327  1.561796  1.051333  1.109674  0.378394  0.675832\n",
       "RE3 -1.773843  3.395349 -2.098894  0.012404  0.425613  0.680341\n",
       "RE4 -1.172103  2.963985 -1.914665 -0.519590 -0.620547  0.600440\n",
       "FO9  2.484617 -1.478592 -0.587998  0.903153  0.213665  0.774692\n",
       "RE8  3.805576  1.557855  1.921905 -1.174844 -1.154160  0.711736\n",
       "SE4  3.084617 -1.219290 -0.222294  1.394515  0.881066  0.763592\n",
       "SE9 -2.506774 -1.524648  1.571622  0.681453 -0.616449  0.592650\n",
       "SZ2 -2.000447 -1.858788  0.350305 -1.048469 -0.806124  0.749707\n",
       "SZ3  0.883669 -1.118285 -3.014050 -0.128212 -1.980307  0.132748\n",
       "TO1 -1.644697 -0.628712 -1.553439 -2.891343  1.465478  0.186109\n",
       "TO3  1.132242 -1.016719 -3.494236 -0.623758 -1.247660  0.126281\n",
       "VW3  2.361192 -1.264758 -0.628156  1.055521  0.799346  0.730130"
      ]
     },
     "execution_count": 7,
     "metadata": {},
     "output_type": "execute_result"
    }
   ],
   "source": [
    "import plotnine as pn\n",
    "ind = res_mpca.ind_[\"coord\"]\n",
    "ind[\"cos2\"] = res_mpca.ind_[\"cos2\"].iloc[:,:2].sum(axis=1)\n",
    "p =  pn.ggplot()\n",
    "p = p + pn.geom_point(ind,pn.aes(x=\"Dim.1\",y=\"Dim.2\",color=\"cos2\"))\n",
    "print(p)"
   ]
  },
  {
   "cell_type": "markdown",
   "metadata": {},
   "source": [
    "### Color by Cos2"
   ]
  },
  {
   "cell_type": "code",
   "execution_count": 8,
   "metadata": {},
   "outputs": [
    {
     "name": "stdout",
     "output_type": "stream",
     "text": [
      "cos2\n"
     ]
    },
    {
     "ename": "PlotnineError",
     "evalue": "\"Could not evaluate the 'color' mapping: 'cos2' (original error: name 'cos2' is not defined)\"",
     "output_type": "error",
     "traceback": [
      "\u001b[1;31m---------------------------------------------------------------------------\u001b[0m",
      "\u001b[1;31mNameError\u001b[0m                                 Traceback (most recent call last)",
      "File \u001b[1;32m~\\AppData\\Roaming\\Python\\Python310\\site-packages\\plotnine\\mapping\\evaluation.py:219\u001b[0m, in \u001b[0;36mevaluate\u001b[1;34m(aesthetics, data, env)\u001b[0m\n\u001b[0;32m    218\u001b[0m \u001b[38;5;28;01mtry\u001b[39;00m:\n\u001b[1;32m--> 219\u001b[0m     new_val \u001b[38;5;241m=\u001b[39m \u001b[43menv\u001b[49m\u001b[38;5;241;43m.\u001b[39;49m\u001b[43meval\u001b[49m\u001b[43m(\u001b[49m\u001b[43mcol\u001b[49m\u001b[43m,\u001b[49m\u001b[43m \u001b[49m\u001b[43minner_namespace\u001b[49m\u001b[38;5;241;43m=\u001b[39;49m\u001b[43mdata\u001b[49m\u001b[43m)\u001b[49m\n\u001b[0;32m    220\u001b[0m \u001b[38;5;28;01mexcept\u001b[39;00m \u001b[38;5;167;01mException\u001b[39;00m \u001b[38;5;28;01mas\u001b[39;00m e:\n",
      "File \u001b[1;32mc:\\Users\\duver\\AppData\\Local\\Programs\\Python\\Python310\\lib\\site-packages\\patsy\\eval.py:165\u001b[0m, in \u001b[0;36mEvalEnvironment.eval\u001b[1;34m(self, expr, source_name, inner_namespace)\u001b[0m\n\u001b[0;32m    164\u001b[0m code \u001b[38;5;241m=\u001b[39m \u001b[38;5;28mcompile\u001b[39m(expr, source_name, \u001b[38;5;124m\"\u001b[39m\u001b[38;5;124meval\u001b[39m\u001b[38;5;124m\"\u001b[39m, \u001b[38;5;28mself\u001b[39m\u001b[38;5;241m.\u001b[39mflags, \u001b[38;5;28;01mFalse\u001b[39;00m)\n\u001b[1;32m--> 165\u001b[0m \u001b[38;5;28;01mreturn\u001b[39;00m \u001b[38;5;28;43meval\u001b[39;49m\u001b[43m(\u001b[49m\u001b[43mcode\u001b[49m\u001b[43m,\u001b[49m\u001b[43m \u001b[49m\u001b[43m{\u001b[49m\u001b[43m}\u001b[49m\u001b[43m,\u001b[49m\u001b[43m \u001b[49m\u001b[43mVarLookupDict\u001b[49m\u001b[43m(\u001b[49m\u001b[43m[\u001b[49m\u001b[43minner_namespace\u001b[49m\u001b[43m]\u001b[49m\n\u001b[0;32m    166\u001b[0m \u001b[43m                                    \u001b[49m\u001b[38;5;241;43m+\u001b[39;49m\u001b[43m \u001b[49m\u001b[38;5;28;43mself\u001b[39;49m\u001b[38;5;241;43m.\u001b[39;49m\u001b[43m_namespaces\u001b[49m\u001b[43m)\u001b[49m\u001b[43m)\u001b[49m\n",
      "File \u001b[1;32m<string>:1\u001b[0m, in \u001b[0;36m<module>\u001b[1;34m\u001b[0m\n",
      "\u001b[1;31mNameError\u001b[0m: name 'cos2' is not defined",
      "\nDuring handling of the above exception, another exception occurred:\n",
      "\u001b[1;31mPlotnineError\u001b[0m                             Traceback (most recent call last)",
      "Input \u001b[1;32mIn [8]\u001b[0m, in \u001b[0;36m<cell line: 2>\u001b[1;34m()\u001b[0m\n\u001b[0;32m      1\u001b[0m p \u001b[38;5;241m=\u001b[39m fviz_mpca_ind(res_mpca,color\u001b[38;5;241m=\u001b[39m\u001b[38;5;124m\"\u001b[39m\u001b[38;5;124mcos2\u001b[39m\u001b[38;5;124m\"\u001b[39m,repel\u001b[38;5;241m=\u001b[39m\u001b[38;5;28;01mTrue\u001b[39;00m)\n\u001b[1;32m----> 2\u001b[0m \u001b[38;5;28;43mprint\u001b[39;49m\u001b[43m(\u001b[49m\u001b[43mp\u001b[49m\u001b[43m)\u001b[49m\n",
      "File \u001b[1;32m~\\AppData\\Roaming\\Python\\Python310\\site-packages\\plotnine\\ggplot.py:86\u001b[0m, in \u001b[0;36mggplot.__str__\u001b[1;34m(self)\u001b[0m\n\u001b[0;32m     82\u001b[0m \u001b[38;5;28;01mdef\u001b[39;00m \u001b[38;5;21m__str__\u001b[39m(\u001b[38;5;28mself\u001b[39m):\n\u001b[0;32m     83\u001b[0m \u001b[38;5;250m    \u001b[39m\u001b[38;5;124;03m\"\"\"\u001b[39;00m\n\u001b[0;32m     84\u001b[0m \u001b[38;5;124;03m    Print/show the plot\u001b[39;00m\n\u001b[0;32m     85\u001b[0m \u001b[38;5;124;03m    \"\"\"\u001b[39;00m\n\u001b[1;32m---> 86\u001b[0m     \u001b[38;5;28;43mself\u001b[39;49m\u001b[38;5;241;43m.\u001b[39;49m\u001b[43mdraw\u001b[49m\u001b[43m(\u001b[49m\u001b[43mshow\u001b[49m\u001b[38;5;241;43m=\u001b[39;49m\u001b[38;5;28;43;01mTrue\u001b[39;49;00m\u001b[43m)\u001b[49m\n\u001b[0;32m     88\u001b[0m     \u001b[38;5;66;03m# Return and empty string so that print(p) is \"pretty\"\u001b[39;00m\n\u001b[0;32m     89\u001b[0m     \u001b[38;5;28;01mreturn\u001b[39;00m \u001b[38;5;124m'\u001b[39m\u001b[38;5;124m'\u001b[39m\n",
      "File \u001b[1;32m~\\AppData\\Roaming\\Python\\Python310\\site-packages\\plotnine\\ggplot.py:203\u001b[0m, in \u001b[0;36mggplot.draw\u001b[1;34m(self, return_ggplot, show)\u001b[0m\n\u001b[0;32m    201\u001b[0m \u001b[38;5;28mself\u001b[39m \u001b[38;5;241m=\u001b[39m deepcopy(\u001b[38;5;28mself\u001b[39m)\n\u001b[0;32m    202\u001b[0m \u001b[38;5;28;01mwith\u001b[39;00m plot_context(\u001b[38;5;28mself\u001b[39m, show\u001b[38;5;241m=\u001b[39mshow):\n\u001b[1;32m--> 203\u001b[0m     \u001b[38;5;28;43mself\u001b[39;49m\u001b[38;5;241;43m.\u001b[39;49m\u001b[43m_build\u001b[49m\u001b[43m(\u001b[49m\u001b[43m)\u001b[49m\n\u001b[0;32m    205\u001b[0m     \u001b[38;5;66;03m# setup\u001b[39;00m\n\u001b[0;32m    206\u001b[0m     figure, axs \u001b[38;5;241m=\u001b[39m \u001b[38;5;28mself\u001b[39m\u001b[38;5;241m.\u001b[39m_create_figure()\n",
      "File \u001b[1;32m~\\AppData\\Roaming\\Python\\Python310\\site-packages\\plotnine\\ggplot.py:289\u001b[0m, in \u001b[0;36mggplot._build\u001b[1;34m(self)\u001b[0m\n\u001b[0;32m    285\u001b[0m layout\u001b[38;5;241m.\u001b[39msetup(layers, \u001b[38;5;28mself\u001b[39m)\n\u001b[0;32m    287\u001b[0m \u001b[38;5;66;03m# Compute aesthetics to produce data with generalised\u001b[39;00m\n\u001b[0;32m    288\u001b[0m \u001b[38;5;66;03m# variable names\u001b[39;00m\n\u001b[1;32m--> 289\u001b[0m \u001b[43mlayers\u001b[49m\u001b[38;5;241;43m.\u001b[39;49m\u001b[43mcompute_aesthetics\u001b[49m\u001b[43m(\u001b[49m\u001b[38;5;28;43mself\u001b[39;49m\u001b[43m)\u001b[49m\n\u001b[0;32m    291\u001b[0m \u001b[38;5;66;03m# Transform data using all scales\u001b[39;00m\n\u001b[0;32m    292\u001b[0m layers\u001b[38;5;241m.\u001b[39mtransform(scales)\n",
      "File \u001b[1;32m~\\AppData\\Roaming\\Python\\Python310\\site-packages\\plotnine\\layer.py:67\u001b[0m, in \u001b[0;36mLayers.compute_aesthetics\u001b[1;34m(self, plot)\u001b[0m\n\u001b[0;32m     65\u001b[0m \u001b[38;5;28;01mdef\u001b[39;00m \u001b[38;5;21mcompute_aesthetics\u001b[39m(\u001b[38;5;28mself\u001b[39m, plot):\n\u001b[0;32m     66\u001b[0m     \u001b[38;5;28;01mfor\u001b[39;00m l \u001b[38;5;129;01min\u001b[39;00m \u001b[38;5;28mself\u001b[39m:\n\u001b[1;32m---> 67\u001b[0m         \u001b[43ml\u001b[49m\u001b[38;5;241;43m.\u001b[39;49m\u001b[43mcompute_aesthetics\u001b[49m\u001b[43m(\u001b[49m\u001b[43mplot\u001b[49m\u001b[43m)\u001b[49m\n",
      "File \u001b[1;32m~\\AppData\\Roaming\\Python\\Python310\\site-packages\\plotnine\\layer.py:309\u001b[0m, in \u001b[0;36mlayer.compute_aesthetics\u001b[1;34m(self, plot)\u001b[0m\n\u001b[0;32m    301\u001b[0m \u001b[38;5;28;01mdef\u001b[39;00m \u001b[38;5;21mcompute_aesthetics\u001b[39m(\u001b[38;5;28mself\u001b[39m, plot):\n\u001b[0;32m    302\u001b[0m \u001b[38;5;250m    \u001b[39m\u001b[38;5;124;03m\"\"\"\u001b[39;00m\n\u001b[0;32m    303\u001b[0m \u001b[38;5;124;03m    Return a dataframe where the columns match the\u001b[39;00m\n\u001b[0;32m    304\u001b[0m \u001b[38;5;124;03m    aesthetic mappings.\u001b[39;00m\n\u001b[1;32m   (...)\u001b[0m\n\u001b[0;32m    307\u001b[0m \u001b[38;5;124;03m    expression evaluation are  made in here\u001b[39;00m\n\u001b[0;32m    308\u001b[0m \u001b[38;5;124;03m    \"\"\"\u001b[39;00m\n\u001b[1;32m--> 309\u001b[0m     evaled \u001b[38;5;241m=\u001b[39m \u001b[43mevaluate\u001b[49m\u001b[43m(\u001b[49m\u001b[38;5;28;43mself\u001b[39;49m\u001b[38;5;241;43m.\u001b[39;49m\u001b[43mmapping\u001b[49m\u001b[38;5;241;43m.\u001b[39;49m\u001b[43m_starting\u001b[49m\u001b[43m,\u001b[49m\u001b[43m \u001b[49m\u001b[38;5;28;43mself\u001b[39;49m\u001b[38;5;241;43m.\u001b[39;49m\u001b[43mdata\u001b[49m\u001b[43m,\u001b[49m\u001b[43m \u001b[49m\u001b[43mplot\u001b[49m\u001b[38;5;241;43m.\u001b[39;49m\u001b[43menvironment\u001b[49m\u001b[43m)\u001b[49m\n\u001b[0;32m    310\u001b[0m     evaled_aes \u001b[38;5;241m=\u001b[39m aes(\u001b[38;5;241m*\u001b[39m\u001b[38;5;241m*\u001b[39m{col: col \u001b[38;5;28;01mfor\u001b[39;00m col \u001b[38;5;129;01min\u001b[39;00m evaled})\n\u001b[0;32m    311\u001b[0m     plot\u001b[38;5;241m.\u001b[39mscales\u001b[38;5;241m.\u001b[39madd_defaults(evaled, evaled_aes)\n",
      "File \u001b[1;32m~\\AppData\\Roaming\\Python\\Python310\\site-packages\\plotnine\\mapping\\evaluation.py:221\u001b[0m, in \u001b[0;36mevaluate\u001b[1;34m(aesthetics, data, env)\u001b[0m\n\u001b[0;32m    219\u001b[0m     new_val \u001b[38;5;241m=\u001b[39m env\u001b[38;5;241m.\u001b[39meval(col, inner_namespace\u001b[38;5;241m=\u001b[39mdata)\n\u001b[0;32m    220\u001b[0m \u001b[38;5;28;01mexcept\u001b[39;00m \u001b[38;5;167;01mException\u001b[39;00m \u001b[38;5;28;01mas\u001b[39;00m e:\n\u001b[1;32m--> 221\u001b[0m     \u001b[38;5;28;01mraise\u001b[39;00m PlotnineError(\n\u001b[0;32m    222\u001b[0m         _TPL_EVAL_FAIL\u001b[38;5;241m.\u001b[39mformat(ae, col, \u001b[38;5;28mstr\u001b[39m(e)))\n\u001b[0;32m    224\u001b[0m \u001b[38;5;28;01mtry\u001b[39;00m:\n\u001b[0;32m    225\u001b[0m     evaled[ae] \u001b[38;5;241m=\u001b[39m new_val\n",
      "\u001b[1;31mPlotnineError\u001b[0m: \"Could not evaluate the 'color' mapping: 'cos2' (original error: name 'cos2' is not defined)\""
     ]
    }
   ],
   "source": [
    "p = fviz_mpca_ind(res_mpca,color=\"cos2\",repel=True)\n",
    "print(p)"
   ]
  },
  {
   "cell_type": "code",
   "execution_count": null,
   "metadata": {},
   "outputs": [],
   "source": [
    "from scientisttools import fviz_corrplot\n",
    "p = fviz_corrplot(res_mpca.ind_[\"cos2\"],colors=[\"#00AFBB\", \"#E7B800\", \"#FC4E07\"])\n",
    "print(p)"
   ]
  },
  {
   "cell_type": "markdown",
   "metadata": {},
   "source": [
    "### Color by contrib"
   ]
  },
  {
   "cell_type": "code",
   "execution_count": null,
   "metadata": {},
   "outputs": [],
   "source": [
    "p = fviz_mpca_ind(res_mpca,color=\"contrib\",repel=True)\n",
    "print(p)"
   ]
  },
  {
   "cell_type": "markdown",
   "metadata": {},
   "source": [
    "### Color by quantitatives columns"
   ]
  },
  {
   "cell_type": "code",
   "execution_count": null,
   "metadata": {},
   "outputs": [],
   "source": [
    "p = fviz_mpca_ind(res_mpca,color=\"CONS\",repel=True)\n",
    "print(p)"
   ]
  },
  {
   "cell_type": "markdown",
   "metadata": {},
   "source": [
    "### Color by actives qualitatives columns"
   ]
  },
  {
   "cell_type": "code",
   "execution_count": null,
   "metadata": {},
   "outputs": [],
   "source": [
    "p = fviz_mpca_ind(res_mpca,habillage=\"FISC\",repel=True)\n",
    "print(p)"
   ]
  },
  {
   "cell_type": "markdown",
   "metadata": {},
   "source": [
    "### Color by supplementary qualitatives columns"
   ]
  },
  {
   "cell_type": "code",
   "execution_count": null,
   "metadata": {},
   "outputs": [],
   "source": [
    "p = fviz_mpca_ind(res_mpca,habillage=\"FISC2\",repel=True,add_ellipses=True)\n",
    "print(p)"
   ]
  },
  {
   "cell_type": "markdown",
   "metadata": {},
   "source": [
    "### Color by numpy array"
   ]
  },
  {
   "cell_type": "code",
   "execution_count": null,
   "metadata": {},
   "outputs": [],
   "source": [
    "import numpy as np\n",
    "np.random.seed(123)\n",
    "color_numpy = np.random.normal(size=res_mpca.call_[\"X\"].shape[0])\n",
    "p = fviz_mpca_ind(res_mpca,color=color_numpy,repel=True)\n",
    "print(p)"
   ]
  },
  {
   "cell_type": "markdown",
   "metadata": {},
   "source": [
    "### Color by kmeans clustering"
   ]
  },
  {
   "cell_type": "code",
   "execution_count": null,
   "metadata": {},
   "outputs": [],
   "source": [
    "from sklearn.cluster import KMeans\n",
    "kmeans = KMeans(n_clusters=3, random_state=np.random.seed(123), n_init=\"auto\").fit(res_mpca.ind_[\"coord\"])\n",
    "p = fviz_mpca_ind(res_mpca,color=kmeans,repel=True)\n",
    "print(p)"
   ]
  },
  {
   "cell_type": "markdown",
   "metadata": {},
   "source": [
    "### Set limits\n",
    "\n",
    "#### Limit cos2"
   ]
  },
  {
   "cell_type": "code",
   "execution_count": null,
   "metadata": {},
   "outputs": [],
   "source": [
    "p = fviz_mpca_ind(res_mpca,lim_cos2=0.50,repel=True)\n",
    "print(p)"
   ]
  },
  {
   "cell_type": "markdown",
   "metadata": {},
   "source": [
    "#### limit contrib"
   ]
  },
  {
   "cell_type": "code",
   "execution_count": null,
   "metadata": {},
   "outputs": [],
   "source": [
    "p = fviz_mpca_ind(res_mpca,lim_contrib=20,repel=True)\n",
    "print(p)"
   ]
  },
  {
   "cell_type": "markdown",
   "metadata": {},
   "source": [
    "## Quantitatives variables informations\n",
    "\n",
    "### Color by RGB colors"
   ]
  },
  {
   "cell_type": "code",
   "execution_count": null,
   "metadata": {},
   "outputs": [],
   "source": [
    "from scientisttools import fviz_mpca_col\n",
    "p = fviz_mpca_col(res_mpca)\n",
    "print(p)"
   ]
  },
  {
   "cell_type": "markdown",
   "metadata": {},
   "source": [
    "### Color by cos2"
   ]
  },
  {
   "cell_type": "code",
   "execution_count": null,
   "metadata": {},
   "outputs": [],
   "source": [
    "p = fviz_mpca_col(res_mpca,color=\"cos2\")\n",
    "print(p)"
   ]
  },
  {
   "cell_type": "code",
   "execution_count": null,
   "metadata": {},
   "outputs": [],
   "source": [
    "p = fviz_corrplot(res_mpca.quanti_var_[\"cos2\"],colors=[\"#00AFBB\", \"#E7B800\", \"#FC4E07\"])\n",
    "print(p)"
   ]
  },
  {
   "cell_type": "markdown",
   "metadata": {},
   "source": [
    "## Color by contrib"
   ]
  },
  {
   "cell_type": "code",
   "execution_count": null,
   "metadata": {},
   "outputs": [],
   "source": [
    "p = fviz_mpca_col(res_mpca,color=\"contrib\")\n",
    "print(p)"
   ]
  },
  {
   "cell_type": "markdown",
   "metadata": {},
   "source": [
    "### Coloor by numpy array"
   ]
  },
  {
   "cell_type": "code",
   "execution_count": null,
   "metadata": {},
   "outputs": [],
   "source": [
    "np.random.seed(123)\n",
    "color_numpy = np.random.normal(size=res_mpca.quanti_var_[\"coord\"].shape[0])\n",
    "p = fviz_mpca_col(res_mpca,color=color_numpy)\n",
    "print(p)"
   ]
  },
  {
   "cell_type": "markdown",
   "metadata": {},
   "source": [
    "### Color by kmeans clustering"
   ]
  },
  {
   "cell_type": "code",
   "execution_count": null,
   "metadata": {},
   "outputs": [],
   "source": [
    "kmeans = KMeans(n_clusters=3, random_state=np.random.seed(123), n_init=\"auto\").fit(res_mpca.quanti_var_[\"coord\"])\n",
    "p = fviz_mpca_col(res_mpca,color=kmeans)\n",
    "print(p)"
   ]
  },
  {
   "cell_type": "markdown",
   "metadata": {},
   "source": [
    "## Set limit\n",
    "\n",
    "### limit cos2"
   ]
  },
  {
   "cell_type": "code",
   "execution_count": null,
   "metadata": {},
   "outputs": [],
   "source": [
    "p = fviz_mpca_col(res_mpca,lim_cos2=0.8)\n",
    "print(p)"
   ]
  },
  {
   "cell_type": "markdown",
   "metadata": {},
   "source": [
    "### limit contrib"
   ]
  },
  {
   "cell_type": "code",
   "execution_count": null,
   "metadata": {},
   "outputs": [],
   "source": [
    "p = fviz_mpca_col(res_mpca,lim_contrib=8)\n",
    "print(p)"
   ]
  },
  {
   "cell_type": "markdown",
   "metadata": {},
   "source": [
    "## Qualitatives variables - Categories\n",
    "\n",
    "### Color by RGB colors"
   ]
  },
  {
   "cell_type": "code",
   "execution_count": null,
   "metadata": {},
   "outputs": [],
   "source": [
    "from scientisttools import fviz_mpca_mod\n",
    "p = fviz_mpca_mod(res_mpca,repel=True)\n",
    "print(p)"
   ]
  },
  {
   "cell_type": "markdown",
   "metadata": {},
   "source": [
    "### Color by cos2"
   ]
  },
  {
   "cell_type": "code",
   "execution_count": null,
   "metadata": {},
   "outputs": [],
   "source": [
    "p = fviz_mpca_mod(res_mpca,color=\"cos2\",repel=True)\n",
    "print(p)"
   ]
  },
  {
   "cell_type": "code",
   "execution_count": null,
   "metadata": {},
   "outputs": [],
   "source": [
    "p = fviz_corrplot(res_mpca.quali_var_[\"cos2\"],colors=[\"#00AFBB\", \"#E7B800\", \"#FC4E07\"])\n",
    "print(p)"
   ]
  },
  {
   "cell_type": "markdown",
   "metadata": {},
   "source": [
    "### Color by contrib"
   ]
  },
  {
   "cell_type": "code",
   "execution_count": null,
   "metadata": {},
   "outputs": [],
   "source": [
    "p = fviz_mpca_mod(res_mpca,color=\"contrib\",repel=True)\n",
    "print(p)"
   ]
  },
  {
   "cell_type": "markdown",
   "metadata": {},
   "source": [
    "### Color by numpy array"
   ]
  },
  {
   "cell_type": "code",
   "execution_count": null,
   "metadata": {},
   "outputs": [],
   "source": [
    "np.random.seed(123)\n",
    "color_numpy = np.random.normal(size=res_mpca.quali_var_[\"coord\"].shape[0])\n",
    "p = fviz_mpca_mod(res_mpca,color=color_numpy,repel=True)\n",
    "print(p)"
   ]
  },
  {
   "cell_type": "markdown",
   "metadata": {},
   "source": [
    "### Color by kmeans clustering"
   ]
  },
  {
   "cell_type": "code",
   "execution_count": null,
   "metadata": {},
   "outputs": [],
   "source": [
    "kmeans = KMeans(n_clusters=3, random_state=np.random.seed(123), n_init=\"auto\").fit(res_mpca.quali_var_[\"coord\"])\n",
    "p = fviz_mpca_mod(res_mpca,color=kmeans,repel=True)\n",
    "print(p)"
   ]
  },
  {
   "cell_type": "markdown",
   "metadata": {},
   "source": [
    "## Set limit\n",
    "\n",
    "### limit cos2"
   ]
  },
  {
   "cell_type": "code",
   "execution_count": null,
   "metadata": {},
   "outputs": [],
   "source": [
    "p = fviz_mpca_mod(res_mpca,lim_cos2=0.1,repel=True) # à corriger\n",
    "print(p)"
   ]
  },
  {
   "cell_type": "markdown",
   "metadata": {},
   "source": [
    "### limit contrib"
   ]
  },
  {
   "cell_type": "code",
   "execution_count": null,
   "metadata": {},
   "outputs": [],
   "source": [
    "p = fviz_mpca_mod(res_mpca,lim_contrib=8,repel=True)\n",
    "print(p)"
   ]
  },
  {
   "cell_type": "markdown",
   "metadata": {},
   "source": [
    "## Variables"
   ]
  },
  {
   "cell_type": "code",
   "execution_count": null,
   "metadata": {},
   "outputs": [],
   "source": [
    "from scientisttools import fviz_mpca_var\n",
    "p = fviz_mpca_var(res_mpca,repel=True)\n",
    "print(p)"
   ]
  },
  {
   "cell_type": "code",
   "execution_count": null,
   "metadata": {},
   "outputs": [],
   "source": [
    "p = fviz_corrplot(res_mpca.var_[\"cos2\"],colors=[\"#00AFBB\", \"#E7B800\", \"#FC4E07\"])\n",
    "print(p)"
   ]
  },
  {
   "cell_type": "markdown",
   "metadata": {},
   "source": [
    "## Plot contributions"
   ]
  },
  {
   "cell_type": "code",
   "execution_count": null,
   "metadata": {},
   "outputs": [],
   "source": [
    "from scientisttools import fviz_contrib\n",
    "p = fviz_contrib(res_mpca,choice=\"ind\")\n",
    "print(p)"
   ]
  },
  {
   "cell_type": "code",
   "execution_count": null,
   "metadata": {},
   "outputs": [],
   "source": [
    "p = fviz_contrib(res_mpca,choice=\"quanti_var\")\n",
    "print(p)"
   ]
  },
  {
   "cell_type": "code",
   "execution_count": null,
   "metadata": {},
   "outputs": [],
   "source": [
    "p = fviz_contrib(res_mpca,choice=\"quali_var\")\n",
    "print(p)"
   ]
  },
  {
   "cell_type": "markdown",
   "metadata": {},
   "source": [
    "## Plot cos2"
   ]
  },
  {
   "cell_type": "code",
   "execution_count": null,
   "metadata": {},
   "outputs": [],
   "source": [
    "from scientisttools import fviz_cos2\n",
    "p = fviz_cos2(res_mpca)\n",
    "print(p)"
   ]
  },
  {
   "cell_type": "code",
   "execution_count": null,
   "metadata": {},
   "outputs": [],
   "source": [
    "p = fviz_cos2(res_mpca,choice=\"quanti_var\")\n",
    "print(p)"
   ]
  },
  {
   "cell_type": "code",
   "execution_count": null,
   "metadata": {},
   "outputs": [],
   "source": [
    "p = fviz_cos2(res_mpca,choice=\"quali_var\")\n",
    "print(p)"
   ]
  },
  {
   "cell_type": "markdown",
   "metadata": {},
   "source": [
    "## Corrcircle"
   ]
  },
  {
   "cell_type": "code",
   "execution_count": null,
   "metadata": {},
   "outputs": [],
   "source": [
    "from scientisttools import fviz_corrcircle\n",
    "p = fviz_corrcircle(res_mpca)\n",
    "print(p)"
   ]
  }
 ],
 "metadata": {
  "kernelspec": {
   "display_name": "Python 3",
   "language": "python",
   "name": "python3"
  },
  "language_info": {
   "codemirror_mode": {
    "name": "ipython",
    "version": 3
   },
   "file_extension": ".py",
   "mimetype": "text/x-python",
   "name": "python",
   "nbconvert_exporter": "python",
   "pygments_lexer": "ipython3",
   "version": "3.10.5"
  }
 },
 "nbformat": 4,
 "nbformat_minor": 2
}
