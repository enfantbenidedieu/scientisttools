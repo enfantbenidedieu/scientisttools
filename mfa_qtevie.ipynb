{
 "cells": [
  {
   "cell_type": "markdown",
   "metadata": {},
   "source": [
    "# MFA - Qualite de vie"
   ]
  },
  {
   "cell_type": "code",
   "execution_count": 1,
   "metadata": {},
   "outputs": [
    {
     "name": "stdout",
     "output_type": "stream",
     "text": [
      "<class 'pandas.core.frame.DataFrame'>\n",
      "Index: 36 entries, Allemagne to Turquie\n",
      "Data columns (total 23 columns):\n",
      " #   Column                         Non-Null Count  Dtype  \n",
      "---  ------                         --------------  -----  \n",
      " 0   Logements sans sanitaires      36 non-null     float64\n",
      " 1   Coût logement                  36 non-null     int64  \n",
      " 2   Nb pièces par personne         36 non-null     float64\n",
      " 3   Revenu ménages                 36 non-null     int64  \n",
      " 4   Patrimoine financier           36 non-null     int64  \n",
      " 5   Taux emploi                    36 non-null     int64  \n",
      " 6   Sécurité emploi                36 non-null     float64\n",
      " 7   Chômage longue durée           36 non-null     float64\n",
      " 8   Revenus moyens activité        36 non-null     int64  \n",
      " 9   Horaires travail lourds        36 non-null     float64\n",
      " 10  Qualité réseau social          36 non-null     int64  \n",
      " 11  Satisfaction sur la vie        36 non-null     float64\n",
      " 12  Temps aux loisirs et à soi     36 non-null     float64\n",
      " 13  Pollution atmosphérique        36 non-null     int64  \n",
      " 14  Qualité eau                    36 non-null     int64  \n",
      " 15  Espérance de vie               36 non-null     float64\n",
      " 16  Auto-évaluation état de santé  36 non-null     int64  \n",
      " 17  Taux agression                 36 non-null     float64\n",
      " 18  Taux homicides                 36 non-null     float64\n",
      " 19  Niveau instruction             36 non-null     int64  \n",
      " 20  Compétences élèves             36 non-null     int64  \n",
      " 21  Années scolarité               36 non-null     float64\n",
      " 22  Région                         36 non-null     object \n",
      "dtypes: float64(11), int64(11), object(1)\n",
      "memory usage: 6.8+ KB\n"
     ]
    }
   ],
   "source": [
    "import pandas as pd\n",
    "qtevie = pd.read_csv(\"./scientisttools/data/QteVie.csv\",encoding=\"ISO-8859-1\",header=0,sep=\";\",index_col=0)\n",
    "qtevie.info()\n"
   ]
  },
  {
   "cell_type": "code",
   "execution_count": 2,
   "metadata": {},
   "outputs": [
    {
     "name": "stdout",
     "output_type": "stream",
     "text": [
      "<class 'pandas.core.frame.DataFrame'>\n",
      "Index: 36 entries, Allemagne to Turquie\n",
      "Data columns (total 23 columns):\n",
      " #   Column                                                Non-Null Count  Dtype \n",
      "---  ------                                                --------------  ----- \n",
      " 0   (weel_being, Logements sans sanitaires)               36 non-null     object\n",
      " 1   (weel_being, Coût logement)                           36 non-null     object\n",
      " 2   (weel_being, Nb pièces par personne)                  36 non-null     object\n",
      " 3   (weel_being, Revenu ménages)                          36 non-null     object\n",
      " 4   (weel_being, Patrimoine financier)                    36 non-null     object\n",
      " 5   (employment, Taux emploi)                             36 non-null     object\n",
      " 6   (employment, Sécurité emploi)                         36 non-null     object\n",
      " 7   (employment, Chômage longue durée)                    36 non-null     object\n",
      " 8   (employment, Revenus moyens activité)                 36 non-null     object\n",
      " 9   (employment, Horaires travail lourds)                 36 non-null     object\n",
      " 10  (pleasure, Qualité réseau social)                     36 non-null     object\n",
      " 11  (pleasure, Satisfaction sur la vie)                   36 non-null     object\n",
      " 12  (pleasure, Temps aux loisirs et à soi)                36 non-null     object\n",
      " 13  (health_and_security, Pollution atmosphérique)        36 non-null     object\n",
      " 14  (health_and_security, Qualité eau)                    36 non-null     object\n",
      " 15  (health_and_security, Espérance de vie)               36 non-null     object\n",
      " 16  (health_and_security, Auto-évaluation état de santé)  36 non-null     object\n",
      " 17  (health_and_security, Taux agression)                 36 non-null     object\n",
      " 18  (health_and_security, Taux homocides)                 36 non-null     object\n",
      " 19  (education, Niveau instruction)                       36 non-null     object\n",
      " 20  (education, Compétences élèves)                       36 non-null     object\n",
      " 21  (education, Années scolarité)                         36 non-null     object\n",
      " 22  (region, Région)                                      36 non-null     object\n",
      "dtypes: object(23)\n",
      "memory usage: 6.8+ KB\n"
     ]
    }
   ],
   "source": [
    "data = pd.DataFrame(qtevie.values,\n",
    "                    columns=pd.MultiIndex.from_tuples(\n",
    "                        [\n",
    "                            (\"weel_being\",\"Logements sans sanitaires\"),\n",
    "                            (\"weel_being\",\"Coût logement\"),\n",
    "                            (\"weel_being\",\"Nb pièces par personne\"),\n",
    "                            (\"weel_being\",\"Revenu ménages\"),\n",
    "                            (\"weel_being\",\"Patrimoine financier\"),\n",
    "                            (\"employment\",\"Taux emploi\"),\n",
    "                            (\"employment\",\"Sécurité emploi\"),\n",
    "                            (\"employment\",\"Chômage longue durée\"),\n",
    "                            (\"employment\",\"Revenus moyens activité\"),\n",
    "                            (\"employment\",\"Horaires travail lourds\"),\n",
    "                            (\"pleasure\",\"Qualité réseau social\"),\n",
    "                            (\"pleasure\",\"Satisfaction sur la vie\"),\n",
    "                            (\"pleasure\",\"Temps aux loisirs et à soi\"),\n",
    "                            (\"health_and_security\",\"Pollution atmosphérique\"),\n",
    "                            (\"health_and_security\",\"Qualité eau\"),\n",
    "                            (\"health_and_security\",\"Espérance de vie\"),\n",
    "                            (\"health_and_security\",\"Auto-évaluation état de santé\"),\n",
    "                            (\"health_and_security\",\"Taux agression\"),\n",
    "                            (\"health_and_security\",\"Taux homocides\"),\n",
    "                            (\"education\",\"Niveau instruction\"),\n",
    "                            (\"education\",\"Compétences élèves\"),\n",
    "                            (\"education\",\"Années scolarité\"),\n",
    "                            (\"region\",\"Région\")\n",
    "                        ]\n",
    "                    ))\n",
    "data.index = qtevie.index\n"
   ]
  },
  {
   "cell_type": "code",
   "execution_count": 4,
   "metadata": {},
   "outputs": [],
   "source": [
    "groups = data.columns.levels[0].drop([\"region\"]).tolist()\n",
    "for g in groups:\n",
    "    data[g] = data[g].astype(\"float\")\n",
    "data.info()"
   ]
  }
 ],
 "metadata": {
  "kernelspec": {
   "display_name": "Python 3",
   "language": "python",
   "name": "python3"
  },
  "language_info": {
   "codemirror_mode": {
    "name": "ipython",
    "version": 3
   },
   "file_extension": ".py",
   "mimetype": "text/x-python",
   "name": "python",
   "nbconvert_exporter": "python",
   "pygments_lexer": "ipython3",
   "version": "3.10.5"
  }
 },
 "nbformat": 4,
 "nbformat_minor": 2
}
