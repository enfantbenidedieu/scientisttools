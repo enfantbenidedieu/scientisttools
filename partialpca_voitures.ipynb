{
 "cells": [
  {
   "cell_type": "markdown",
   "metadata": {},
   "source": [
    "# Partial PCA"
   ]
  },
  {
   "cell_type": "code",
   "execution_count": 1,
   "metadata": {},
   "outputs": [],
   "source": [
    "import warnings\n",
    "warnings.simplefilter(action='ignore', category=FutureWarning)\n",
    "warnings.filterwarnings(\"ignore\")"
   ]
  },
  {
   "cell_type": "code",
   "execution_count": 2,
   "metadata": {},
   "outputs": [
    {
     "name": "stdout",
     "output_type": "stream",
     "text": [
      "<class 'pandas.core.frame.DataFrame'>\n",
      "Index: 18 entries, Alfasud TI to Lada 1300\n",
      "Data columns (total 6 columns):\n",
      " #   Column  Non-Null Count  Dtype\n",
      "---  ------  --------------  -----\n",
      " 0   CYL     18 non-null     int64\n",
      " 1   PUISS   18 non-null     int64\n",
      " 2   LONG    18 non-null     int64\n",
      " 3   LARG    18 non-null     int64\n",
      " 4   POIDS   18 non-null     int64\n",
      " 5   VMAX    18 non-null     int64\n",
      "dtypes: int64(6)\n",
      "memory usage: 1008.0+ bytes\n"
     ]
    }
   ],
   "source": [
    "import os\n",
    "os.chdir(\"d:/Bureau/PythonProject/packages/scientisttools/data/\")\n",
    "\n",
    "# Chargement des données\n",
    "import pandas as pd\n",
    "D = pd.read_excel(\"Data_Methodes_Factorielles.xlsx\",index_col=0,sheet_name=\"DATA_ACP_ACTIF\")\n",
    "D.info()"
   ]
  },
  {
   "cell_type": "code",
   "execution_count": 3,
   "metadata": {},
   "outputs": [
    {
     "data": {
      "text/html": [
       "<style>#sk-container-id-1 {color: black;background-color: white;}#sk-container-id-1 pre{padding: 0;}#sk-container-id-1 div.sk-toggleable {background-color: white;}#sk-container-id-1 label.sk-toggleable__label {cursor: pointer;display: block;width: 100%;margin-bottom: 0;padding: 0.3em;box-sizing: border-box;text-align: center;}#sk-container-id-1 label.sk-toggleable__label-arrow:before {content: \"▸\";float: left;margin-right: 0.25em;color: #696969;}#sk-container-id-1 label.sk-toggleable__label-arrow:hover:before {color: black;}#sk-container-id-1 div.sk-estimator:hover label.sk-toggleable__label-arrow:before {color: black;}#sk-container-id-1 div.sk-toggleable__content {max-height: 0;max-width: 0;overflow: hidden;text-align: left;background-color: #f0f8ff;}#sk-container-id-1 div.sk-toggleable__content pre {margin: 0.2em;color: black;border-radius: 0.25em;background-color: #f0f8ff;}#sk-container-id-1 input.sk-toggleable__control:checked~div.sk-toggleable__content {max-height: 200px;max-width: 100%;overflow: auto;}#sk-container-id-1 input.sk-toggleable__control:checked~label.sk-toggleable__label-arrow:before {content: \"▾\";}#sk-container-id-1 div.sk-estimator input.sk-toggleable__control:checked~label.sk-toggleable__label {background-color: #d4ebff;}#sk-container-id-1 div.sk-label input.sk-toggleable__control:checked~label.sk-toggleable__label {background-color: #d4ebff;}#sk-container-id-1 input.sk-hidden--visually {border: 0;clip: rect(1px 1px 1px 1px);clip: rect(1px, 1px, 1px, 1px);height: 1px;margin: -1px;overflow: hidden;padding: 0;position: absolute;width: 1px;}#sk-container-id-1 div.sk-estimator {font-family: monospace;background-color: #f0f8ff;border: 1px dotted black;border-radius: 0.25em;box-sizing: border-box;margin-bottom: 0.5em;}#sk-container-id-1 div.sk-estimator:hover {background-color: #d4ebff;}#sk-container-id-1 div.sk-parallel-item::after {content: \"\";width: 100%;border-bottom: 1px solid gray;flex-grow: 1;}#sk-container-id-1 div.sk-label:hover label.sk-toggleable__label {background-color: #d4ebff;}#sk-container-id-1 div.sk-serial::before {content: \"\";position: absolute;border-left: 1px solid gray;box-sizing: border-box;top: 0;bottom: 0;left: 50%;z-index: 0;}#sk-container-id-1 div.sk-serial {display: flex;flex-direction: column;align-items: center;background-color: white;padding-right: 0.2em;padding-left: 0.2em;position: relative;}#sk-container-id-1 div.sk-item {position: relative;z-index: 1;}#sk-container-id-1 div.sk-parallel {display: flex;align-items: stretch;justify-content: center;background-color: white;position: relative;}#sk-container-id-1 div.sk-item::before, #sk-container-id-1 div.sk-parallel-item::before {content: \"\";position: absolute;border-left: 1px solid gray;box-sizing: border-box;top: 0;bottom: 0;left: 50%;z-index: -1;}#sk-container-id-1 div.sk-parallel-item {display: flex;flex-direction: column;z-index: 1;position: relative;background-color: white;}#sk-container-id-1 div.sk-parallel-item:first-child::after {align-self: flex-end;width: 50%;}#sk-container-id-1 div.sk-parallel-item:last-child::after {align-self: flex-start;width: 50%;}#sk-container-id-1 div.sk-parallel-item:only-child::after {width: 0;}#sk-container-id-1 div.sk-dashed-wrapped {border: 1px dashed gray;margin: 0 0.4em 0.5em 0.4em;box-sizing: border-box;padding-bottom: 0.4em;background-color: white;}#sk-container-id-1 div.sk-label label {font-family: monospace;font-weight: bold;display: inline-block;line-height: 1.2em;}#sk-container-id-1 div.sk-label-container {text-align: center;}#sk-container-id-1 div.sk-container {/* jupyter's `normalize.less` sets `[hidden] { display: none; }` but bootstrap.min.css set `[hidden] { display: none !important; }` so we also need the `!important` here to be able to override the default hidden behavior on the sphinx rendered scikit-learn.org. See: https://github.com/scikit-learn/scikit-learn/issues/21755 */display: inline-block !important;position: relative;}#sk-container-id-1 div.sk-text-repr-fallback {display: none;}</style><div id=\"sk-container-id-1\" class=\"sk-top-container\"><div class=\"sk-text-repr-fallback\"><pre>PartialPCA(partial=[&#x27;CYL&#x27;])</pre><b>In a Jupyter environment, please rerun this cell to show the HTML representation or trust the notebook. <br />On GitHub, the HTML representation is unable to render, please try loading this page with nbviewer.org.</b></div><div class=\"sk-container\" hidden><div class=\"sk-item\"><div class=\"sk-estimator sk-toggleable\"><input class=\"sk-toggleable__control sk-hidden--visually\" id=\"sk-estimator-id-1\" type=\"checkbox\" checked><label for=\"sk-estimator-id-1\" class=\"sk-toggleable__label sk-toggleable__label-arrow\">PartialPCA</label><div class=\"sk-toggleable__content\"><pre>PartialPCA(partial=[&#x27;CYL&#x27;])</pre></div></div></div></div></div>"
      ],
      "text/plain": [
       "PartialPCA(partial=['CYL'])"
      ]
     },
     "execution_count": 3,
     "metadata": {},
     "output_type": "execute_result"
    }
   ],
   "source": [
    "from scientisttools import PartialPCA\n",
    "res_partialpca = PartialPCA(n_components=None,standardize=True,partial=[\"CYL\"],parallelize=False)\n",
    "res_partialpca.fit(D)"
   ]
  },
  {
   "cell_type": "markdown",
   "metadata": {},
   "source": [
    "## fit transform"
   ]
  },
  {
   "cell_type": "code",
   "execution_count": 4,
   "metadata": {},
   "outputs": [
    {
     "data": {
      "text/html": [
       "<div>\n",
       "<style scoped>\n",
       "    .dataframe tbody tr th:only-of-type {\n",
       "        vertical-align: middle;\n",
       "    }\n",
       "\n",
       "    .dataframe tbody tr th {\n",
       "        vertical-align: top;\n",
       "    }\n",
       "\n",
       "    .dataframe thead th {\n",
       "        text-align: right;\n",
       "    }\n",
       "</style>\n",
       "<table border=\"1\" class=\"dataframe\">\n",
       "  <thead>\n",
       "    <tr style=\"text-align: right;\">\n",
       "      <th></th>\n",
       "      <th>Dim.1</th>\n",
       "      <th>Dim.2</th>\n",
       "      <th>Dim.3</th>\n",
       "      <th>Dim.4</th>\n",
       "      <th>Dim.5</th>\n",
       "    </tr>\n",
       "  </thead>\n",
       "  <tbody>\n",
       "    <tr>\n",
       "      <th>Alfasud TI</th>\n",
       "      <td>-1.921062</td>\n",
       "      <td>2.158496</td>\n",
       "      <td>0.660509</td>\n",
       "      <td>0.453213</td>\n",
       "      <td>0.103214</td>\n",
       "    </tr>\n",
       "    <tr>\n",
       "      <th>Audi 100</th>\n",
       "      <td>3.116529</td>\n",
       "      <td>-0.815886</td>\n",
       "      <td>1.581323</td>\n",
       "      <td>-0.204197</td>\n",
       "      <td>-0.514384</td>\n",
       "    </tr>\n",
       "    <tr>\n",
       "      <th>Simca 1300</th>\n",
       "      <td>1.132429</td>\n",
       "      <td>-0.438785</td>\n",
       "      <td>0.303239</td>\n",
       "      <td>0.536789</td>\n",
       "      <td>0.395646</td>\n",
       "    </tr>\n",
       "    <tr>\n",
       "      <th>Citroen GS Club</th>\n",
       "      <td>-0.797750</td>\n",
       "      <td>-0.064210</td>\n",
       "      <td>0.180575</td>\n",
       "      <td>-0.294782</td>\n",
       "      <td>0.416335</td>\n",
       "    </tr>\n",
       "    <tr>\n",
       "      <th>Fiat 132</th>\n",
       "      <td>0.802569</td>\n",
       "      <td>1.373142</td>\n",
       "      <td>-0.679642</td>\n",
       "      <td>-0.468798</td>\n",
       "      <td>-0.041395</td>\n",
       "    </tr>\n",
       "    <tr>\n",
       "      <th>Lancia Beta</th>\n",
       "      <td>2.135040</td>\n",
       "      <td>0.751805</td>\n",
       "      <td>0.232398</td>\n",
       "      <td>0.576650</td>\n",
       "      <td>0.289279</td>\n",
       "    </tr>\n",
       "  </tbody>\n",
       "</table>\n",
       "</div>"
      ],
      "text/plain": [
       "                    Dim.1     Dim.2     Dim.3     Dim.4     Dim.5\n",
       "Alfasud TI      -1.921062  2.158496  0.660509  0.453213  0.103214\n",
       "Audi 100         3.116529 -0.815886  1.581323 -0.204197 -0.514384\n",
       "Simca 1300       1.132429 -0.438785  0.303239  0.536789  0.395646\n",
       "Citroen GS Club -0.797750 -0.064210  0.180575 -0.294782  0.416335\n",
       "Fiat 132         0.802569  1.373142 -0.679642 -0.468798 -0.041395\n",
       "Lancia Beta      2.135040  0.751805  0.232398  0.576650  0.289279"
      ]
     },
     "execution_count": 4,
     "metadata": {},
     "output_type": "execute_result"
    }
   ],
   "source": [
    "res_partialpca.fit_transform(D).iloc[:6,:]"
   ]
  },
  {
   "cell_type": "markdown",
   "metadata": {},
   "source": [
    "## transform"
   ]
  },
  {
   "cell_type": "code",
   "execution_count": 5,
   "metadata": {},
   "outputs": [
    {
     "data": {
      "text/html": [
       "<div>\n",
       "<style scoped>\n",
       "    .dataframe tbody tr th:only-of-type {\n",
       "        vertical-align: middle;\n",
       "    }\n",
       "\n",
       "    .dataframe tbody tr th {\n",
       "        vertical-align: top;\n",
       "    }\n",
       "\n",
       "    .dataframe thead th {\n",
       "        text-align: right;\n",
       "    }\n",
       "</style>\n",
       "<table border=\"1\" class=\"dataframe\">\n",
       "  <thead>\n",
       "    <tr style=\"text-align: right;\">\n",
       "      <th></th>\n",
       "      <th>Dim.1</th>\n",
       "      <th>Dim.2</th>\n",
       "      <th>Dim.3</th>\n",
       "      <th>Dim.4</th>\n",
       "      <th>Dim.5</th>\n",
       "    </tr>\n",
       "    <tr>\n",
       "      <th>Modele</th>\n",
       "      <th></th>\n",
       "      <th></th>\n",
       "      <th></th>\n",
       "      <th></th>\n",
       "      <th></th>\n",
       "    </tr>\n",
       "  </thead>\n",
       "  <tbody>\n",
       "    <tr>\n",
       "      <th>Alfasud TI</th>\n",
       "      <td>-1.921062</td>\n",
       "      <td>2.158496</td>\n",
       "      <td>0.660509</td>\n",
       "      <td>0.453213</td>\n",
       "      <td>0.103214</td>\n",
       "    </tr>\n",
       "    <tr>\n",
       "      <th>Audi 100</th>\n",
       "      <td>3.116529</td>\n",
       "      <td>-0.815886</td>\n",
       "      <td>1.581323</td>\n",
       "      <td>-0.204197</td>\n",
       "      <td>-0.514384</td>\n",
       "    </tr>\n",
       "    <tr>\n",
       "      <th>Simca 1300</th>\n",
       "      <td>1.132429</td>\n",
       "      <td>-0.438785</td>\n",
       "      <td>0.303239</td>\n",
       "      <td>0.536789</td>\n",
       "      <td>0.395646</td>\n",
       "    </tr>\n",
       "    <tr>\n",
       "      <th>Citroen GS Club</th>\n",
       "      <td>-0.797750</td>\n",
       "      <td>-0.064210</td>\n",
       "      <td>0.180575</td>\n",
       "      <td>-0.294782</td>\n",
       "      <td>0.416335</td>\n",
       "    </tr>\n",
       "    <tr>\n",
       "      <th>Fiat 132</th>\n",
       "      <td>0.802569</td>\n",
       "      <td>1.373142</td>\n",
       "      <td>-0.679642</td>\n",
       "      <td>-0.468798</td>\n",
       "      <td>-0.041395</td>\n",
       "    </tr>\n",
       "    <tr>\n",
       "      <th>Lancia Beta</th>\n",
       "      <td>2.135040</td>\n",
       "      <td>0.751805</td>\n",
       "      <td>0.232398</td>\n",
       "      <td>0.576650</td>\n",
       "      <td>0.289279</td>\n",
       "    </tr>\n",
       "  </tbody>\n",
       "</table>\n",
       "</div>"
      ],
      "text/plain": [
       "                    Dim.1     Dim.2     Dim.3     Dim.4     Dim.5\n",
       "Modele                                                           \n",
       "Alfasud TI      -1.921062  2.158496  0.660509  0.453213  0.103214\n",
       "Audi 100         3.116529 -0.815886  1.581323 -0.204197 -0.514384\n",
       "Simca 1300       1.132429 -0.438785  0.303239  0.536789  0.395646\n",
       "Citroen GS Club -0.797750 -0.064210  0.180575 -0.294782  0.416335\n",
       "Fiat 132         0.802569  1.373142 -0.679642 -0.468798 -0.041395\n",
       "Lancia Beta      2.135040  0.751805  0.232398  0.576650  0.289279"
      ]
     },
     "execution_count": 5,
     "metadata": {},
     "output_type": "execute_result"
    }
   ],
   "source": [
    "res_partialpca.transform(D).iloc[:6,:]"
   ]
  },
  {
   "cell_type": "markdown",
   "metadata": {},
   "source": [
    "## Eigenvalues"
   ]
  },
  {
   "cell_type": "code",
   "execution_count": 6,
   "metadata": {},
   "outputs": [
    {
     "data": {
      "text/html": [
       "<div>\n",
       "<style scoped>\n",
       "    .dataframe tbody tr th:only-of-type {\n",
       "        vertical-align: middle;\n",
       "    }\n",
       "\n",
       "    .dataframe tbody tr th {\n",
       "        vertical-align: top;\n",
       "    }\n",
       "\n",
       "    .dataframe thead th {\n",
       "        text-align: right;\n",
       "    }\n",
       "</style>\n",
       "<table border=\"1\" class=\"dataframe\">\n",
       "  <thead>\n",
       "    <tr style=\"text-align: right;\">\n",
       "      <th></th>\n",
       "      <th>eigenvalue</th>\n",
       "      <th>difference</th>\n",
       "      <th>proportion</th>\n",
       "      <th>cumulative</th>\n",
       "    </tr>\n",
       "  </thead>\n",
       "  <tbody>\n",
       "    <tr>\n",
       "      <th>Dim.1</th>\n",
       "      <td>2.401058</td>\n",
       "      <td>0.787887</td>\n",
       "      <td>48.021166</td>\n",
       "      <td>48.021166</td>\n",
       "    </tr>\n",
       "    <tr>\n",
       "      <th>Dim.2</th>\n",
       "      <td>1.613171</td>\n",
       "      <td>0.914485</td>\n",
       "      <td>32.263420</td>\n",
       "      <td>80.284586</td>\n",
       "    </tr>\n",
       "    <tr>\n",
       "      <th>Dim.3</th>\n",
       "      <td>0.698686</td>\n",
       "      <td>0.515194</td>\n",
       "      <td>13.973729</td>\n",
       "      <td>94.258316</td>\n",
       "    </tr>\n",
       "    <tr>\n",
       "      <th>Dim.4</th>\n",
       "      <td>0.183493</td>\n",
       "      <td>0.079901</td>\n",
       "      <td>3.669851</td>\n",
       "      <td>97.928167</td>\n",
       "    </tr>\n",
       "    <tr>\n",
       "      <th>Dim.5</th>\n",
       "      <td>0.103592</td>\n",
       "      <td>NaN</td>\n",
       "      <td>2.071833</td>\n",
       "      <td>100.000000</td>\n",
       "    </tr>\n",
       "  </tbody>\n",
       "</table>\n",
       "</div>"
      ],
      "text/plain": [
       "       eigenvalue  difference  proportion  cumulative\n",
       "Dim.1    2.401058    0.787887   48.021166   48.021166\n",
       "Dim.2    1.613171    0.914485   32.263420   80.284586\n",
       "Dim.3    0.698686    0.515194   13.973729   94.258316\n",
       "Dim.4    0.183493    0.079901    3.669851   97.928167\n",
       "Dim.5    0.103592         NaN    2.071833  100.000000"
      ]
     },
     "execution_count": 6,
     "metadata": {},
     "output_type": "execute_result"
    }
   ],
   "source": [
    "res_partialpca.eig_"
   ]
  },
  {
   "cell_type": "markdown",
   "metadata": {},
   "source": [
    "## Individuals informations"
   ]
  },
  {
   "cell_type": "code",
   "execution_count": 7,
   "metadata": {},
   "outputs": [
    {
     "data": {
      "text/plain": [
       "dict_keys(['coord', 'cos2', 'contrib', 'dist', 'infos'])"
      ]
     },
     "execution_count": 7,
     "metadata": {},
     "output_type": "execute_result"
    }
   ],
   "source": [
    "ind = res_partialpca.ind_\n",
    "ind.keys()"
   ]
  },
  {
   "cell_type": "markdown",
   "metadata": {},
   "source": [
    "### Individuals coordinates"
   ]
  },
  {
   "cell_type": "code",
   "execution_count": 8,
   "metadata": {},
   "outputs": [
    {
     "data": {
      "text/html": [
       "<div>\n",
       "<style scoped>\n",
       "    .dataframe tbody tr th:only-of-type {\n",
       "        vertical-align: middle;\n",
       "    }\n",
       "\n",
       "    .dataframe tbody tr th {\n",
       "        vertical-align: top;\n",
       "    }\n",
       "\n",
       "    .dataframe thead th {\n",
       "        text-align: right;\n",
       "    }\n",
       "</style>\n",
       "<table border=\"1\" class=\"dataframe\">\n",
       "  <thead>\n",
       "    <tr style=\"text-align: right;\">\n",
       "      <th></th>\n",
       "      <th>Dim.1</th>\n",
       "      <th>Dim.2</th>\n",
       "      <th>Dim.3</th>\n",
       "      <th>Dim.4</th>\n",
       "      <th>Dim.5</th>\n",
       "    </tr>\n",
       "  </thead>\n",
       "  <tbody>\n",
       "    <tr>\n",
       "      <th>Alfasud TI</th>\n",
       "      <td>-1.921062</td>\n",
       "      <td>2.158496</td>\n",
       "      <td>0.660509</td>\n",
       "      <td>0.453213</td>\n",
       "      <td>0.103214</td>\n",
       "    </tr>\n",
       "    <tr>\n",
       "      <th>Audi 100</th>\n",
       "      <td>3.116529</td>\n",
       "      <td>-0.815886</td>\n",
       "      <td>1.581323</td>\n",
       "      <td>-0.204197</td>\n",
       "      <td>-0.514384</td>\n",
       "    </tr>\n",
       "    <tr>\n",
       "      <th>Simca 1300</th>\n",
       "      <td>1.132429</td>\n",
       "      <td>-0.438785</td>\n",
       "      <td>0.303239</td>\n",
       "      <td>0.536789</td>\n",
       "      <td>0.395646</td>\n",
       "    </tr>\n",
       "    <tr>\n",
       "      <th>Citroen GS Club</th>\n",
       "      <td>-0.797750</td>\n",
       "      <td>-0.064210</td>\n",
       "      <td>0.180575</td>\n",
       "      <td>-0.294782</td>\n",
       "      <td>0.416335</td>\n",
       "    </tr>\n",
       "    <tr>\n",
       "      <th>Fiat 132</th>\n",
       "      <td>0.802569</td>\n",
       "      <td>1.373142</td>\n",
       "      <td>-0.679642</td>\n",
       "      <td>-0.468798</td>\n",
       "      <td>-0.041395</td>\n",
       "    </tr>\n",
       "    <tr>\n",
       "      <th>Lancia Beta</th>\n",
       "      <td>2.135040</td>\n",
       "      <td>0.751805</td>\n",
       "      <td>0.232398</td>\n",
       "      <td>0.576650</td>\n",
       "      <td>0.289279</td>\n",
       "    </tr>\n",
       "  </tbody>\n",
       "</table>\n",
       "</div>"
      ],
      "text/plain": [
       "                    Dim.1     Dim.2     Dim.3     Dim.4     Dim.5\n",
       "Alfasud TI      -1.921062  2.158496  0.660509  0.453213  0.103214\n",
       "Audi 100         3.116529 -0.815886  1.581323 -0.204197 -0.514384\n",
       "Simca 1300       1.132429 -0.438785  0.303239  0.536789  0.395646\n",
       "Citroen GS Club -0.797750 -0.064210  0.180575 -0.294782  0.416335\n",
       "Fiat 132         0.802569  1.373142 -0.679642 -0.468798 -0.041395\n",
       "Lancia Beta      2.135040  0.751805  0.232398  0.576650  0.289279"
      ]
     },
     "execution_count": 8,
     "metadata": {},
     "output_type": "execute_result"
    }
   ],
   "source": [
    "ind[\"coord\"].head(6)"
   ]
  },
  {
   "cell_type": "markdown",
   "metadata": {},
   "source": [
    "### Individuals cos2"
   ]
  },
  {
   "cell_type": "code",
   "execution_count": 9,
   "metadata": {},
   "outputs": [
    {
     "data": {
      "text/html": [
       "<div>\n",
       "<style scoped>\n",
       "    .dataframe tbody tr th:only-of-type {\n",
       "        vertical-align: middle;\n",
       "    }\n",
       "\n",
       "    .dataframe tbody tr th {\n",
       "        vertical-align: top;\n",
       "    }\n",
       "\n",
       "    .dataframe thead th {\n",
       "        text-align: right;\n",
       "    }\n",
       "</style>\n",
       "<table border=\"1\" class=\"dataframe\">\n",
       "  <thead>\n",
       "    <tr style=\"text-align: right;\">\n",
       "      <th></th>\n",
       "      <th>Dim.1</th>\n",
       "      <th>Dim.2</th>\n",
       "      <th>Dim.3</th>\n",
       "      <th>Dim.4</th>\n",
       "      <th>Dim.5</th>\n",
       "    </tr>\n",
       "  </thead>\n",
       "  <tbody>\n",
       "    <tr>\n",
       "      <th>Alfasud TI</th>\n",
       "      <td>0.409966</td>\n",
       "      <td>0.517568</td>\n",
       "      <td>0.048464</td>\n",
       "      <td>0.022818</td>\n",
       "      <td>0.001183</td>\n",
       "    </tr>\n",
       "    <tr>\n",
       "      <th>Audi 100</th>\n",
       "      <td>0.736635</td>\n",
       "      <td>0.050486</td>\n",
       "      <td>0.189649</td>\n",
       "      <td>0.003162</td>\n",
       "      <td>0.020067</td>\n",
       "    </tr>\n",
       "    <tr>\n",
       "      <th>Simca 1300</th>\n",
       "      <td>0.637513</td>\n",
       "      <td>0.095713</td>\n",
       "      <td>0.045713</td>\n",
       "      <td>0.143243</td>\n",
       "      <td>0.077818</td>\n",
       "    </tr>\n",
       "    <tr>\n",
       "      <th>Citroen GS Club</th>\n",
       "      <td>0.681838</td>\n",
       "      <td>0.004417</td>\n",
       "      <td>0.034935</td>\n",
       "      <td>0.093100</td>\n",
       "      <td>0.185709</td>\n",
       "    </tr>\n",
       "    <tr>\n",
       "      <th>Fiat 132</th>\n",
       "      <td>0.200470</td>\n",
       "      <td>0.586834</td>\n",
       "      <td>0.143762</td>\n",
       "      <td>0.068400</td>\n",
       "      <td>0.000533</td>\n",
       "    </tr>\n",
       "    <tr>\n",
       "      <th>Lancia Beta</th>\n",
       "      <td>0.814898</td>\n",
       "      <td>0.101042</td>\n",
       "      <td>0.009655</td>\n",
       "      <td>0.059445</td>\n",
       "      <td>0.014960</td>\n",
       "    </tr>\n",
       "  </tbody>\n",
       "</table>\n",
       "</div>"
      ],
      "text/plain": [
       "                    Dim.1     Dim.2     Dim.3     Dim.4     Dim.5\n",
       "Alfasud TI       0.409966  0.517568  0.048464  0.022818  0.001183\n",
       "Audi 100         0.736635  0.050486  0.189649  0.003162  0.020067\n",
       "Simca 1300       0.637513  0.095713  0.045713  0.143243  0.077818\n",
       "Citroen GS Club  0.681838  0.004417  0.034935  0.093100  0.185709\n",
       "Fiat 132         0.200470  0.586834  0.143762  0.068400  0.000533\n",
       "Lancia Beta      0.814898  0.101042  0.009655  0.059445  0.014960"
      ]
     },
     "execution_count": 9,
     "metadata": {},
     "output_type": "execute_result"
    }
   ],
   "source": [
    "ind[\"cos2\"].head(6)"
   ]
  },
  {
   "cell_type": "markdown",
   "metadata": {},
   "source": [
    "### Individuals contributions"
   ]
  },
  {
   "cell_type": "code",
   "execution_count": 10,
   "metadata": {},
   "outputs": [
    {
     "data": {
      "text/html": [
       "<div>\n",
       "<style scoped>\n",
       "    .dataframe tbody tr th:only-of-type {\n",
       "        vertical-align: middle;\n",
       "    }\n",
       "\n",
       "    .dataframe tbody tr th {\n",
       "        vertical-align: top;\n",
       "    }\n",
       "\n",
       "    .dataframe thead th {\n",
       "        text-align: right;\n",
       "    }\n",
       "</style>\n",
       "<table border=\"1\" class=\"dataframe\">\n",
       "  <thead>\n",
       "    <tr style=\"text-align: right;\">\n",
       "      <th></th>\n",
       "      <th>Dim.1</th>\n",
       "      <th>Dim.2</th>\n",
       "      <th>Dim.3</th>\n",
       "      <th>Dim.4</th>\n",
       "      <th>Dim.5</th>\n",
       "    </tr>\n",
       "  </thead>\n",
       "  <tbody>\n",
       "    <tr>\n",
       "      <th>Alfasud TI</th>\n",
       "      <td>8.539015</td>\n",
       "      <td>16.045367</td>\n",
       "      <td>3.468988</td>\n",
       "      <td>6.218914</td>\n",
       "      <td>0.571322</td>\n",
       "    </tr>\n",
       "    <tr>\n",
       "      <th>Audi 100</th>\n",
       "      <td>22.473309</td>\n",
       "      <td>2.292483</td>\n",
       "      <td>19.883191</td>\n",
       "      <td>1.262430</td>\n",
       "      <td>14.189847</td>\n",
       "    </tr>\n",
       "    <tr>\n",
       "      <th>Simca 1300</th>\n",
       "      <td>2.967199</td>\n",
       "      <td>0.663057</td>\n",
       "      <td>0.731163</td>\n",
       "      <td>8.724009</td>\n",
       "      <td>8.394900</td>\n",
       "    </tr>\n",
       "    <tr>\n",
       "      <th>Citroen GS Club</th>\n",
       "      <td>1.472509</td>\n",
       "      <td>0.014199</td>\n",
       "      <td>0.259273</td>\n",
       "      <td>2.630943</td>\n",
       "      <td>9.295820</td>\n",
       "    </tr>\n",
       "    <tr>\n",
       "      <th>Fiat 132</th>\n",
       "      <td>1.490356</td>\n",
       "      <td>6.493485</td>\n",
       "      <td>3.672867</td>\n",
       "      <td>6.653972</td>\n",
       "      <td>0.091897</td>\n",
       "    </tr>\n",
       "    <tr>\n",
       "      <th>Lancia Beta</th>\n",
       "      <td>10.547194</td>\n",
       "      <td>1.946512</td>\n",
       "      <td>0.429448</td>\n",
       "      <td>10.067786</td>\n",
       "      <td>4.487818</td>\n",
       "    </tr>\n",
       "  </tbody>\n",
       "</table>\n",
       "</div>"
      ],
      "text/plain": [
       "                     Dim.1      Dim.2      Dim.3      Dim.4      Dim.5\n",
       "Alfasud TI        8.539015  16.045367   3.468988   6.218914   0.571322\n",
       "Audi 100         22.473309   2.292483  19.883191   1.262430  14.189847\n",
       "Simca 1300        2.967199   0.663057   0.731163   8.724009   8.394900\n",
       "Citroen GS Club   1.472509   0.014199   0.259273   2.630943   9.295820\n",
       "Fiat 132          1.490356   6.493485   3.672867   6.653972   0.091897\n",
       "Lancia Beta      10.547194   1.946512   0.429448  10.067786   4.487818"
      ]
     },
     "execution_count": 10,
     "metadata": {},
     "output_type": "execute_result"
    }
   ],
   "source": [
    "ind[\"contrib\"].head(6)"
   ]
  },
  {
   "cell_type": "markdown",
   "metadata": {},
   "source": [
    "### Additionals informations"
   ]
  },
  {
   "cell_type": "code",
   "execution_count": 11,
   "metadata": {},
   "outputs": [
    {
     "data": {
      "text/html": [
       "<div>\n",
       "<style scoped>\n",
       "    .dataframe tbody tr th:only-of-type {\n",
       "        vertical-align: middle;\n",
       "    }\n",
       "\n",
       "    .dataframe tbody tr th {\n",
       "        vertical-align: top;\n",
       "    }\n",
       "\n",
       "    .dataframe thead th {\n",
       "        text-align: right;\n",
       "    }\n",
       "</style>\n",
       "<table border=\"1\" class=\"dataframe\">\n",
       "  <thead>\n",
       "    <tr style=\"text-align: right;\">\n",
       "      <th></th>\n",
       "      <th>dist</th>\n",
       "      <th>weight</th>\n",
       "      <th>inertia</th>\n",
       "    </tr>\n",
       "  </thead>\n",
       "  <tbody>\n",
       "    <tr>\n",
       "      <th>Alfasud TI</th>\n",
       "      <td>3.000319</td>\n",
       "      <td>0.055556</td>\n",
       "      <td>0.500106</td>\n",
       "    </tr>\n",
       "    <tr>\n",
       "      <th>Audi 100</th>\n",
       "      <td>3.631155</td>\n",
       "      <td>0.055556</td>\n",
       "      <td>0.732516</td>\n",
       "    </tr>\n",
       "    <tr>\n",
       "      <th>Simca 1300</th>\n",
       "      <td>1.418294</td>\n",
       "      <td>0.055556</td>\n",
       "      <td>0.111753</td>\n",
       "    </tr>\n",
       "    <tr>\n",
       "      <th>Citroen GS Club</th>\n",
       "      <td>0.966108</td>\n",
       "      <td>0.055556</td>\n",
       "      <td>0.051854</td>\n",
       "    </tr>\n",
       "    <tr>\n",
       "      <th>Fiat 132</th>\n",
       "      <td>1.792494</td>\n",
       "      <td>0.055556</td>\n",
       "      <td>0.178502</td>\n",
       "    </tr>\n",
       "    <tr>\n",
       "      <th>Lancia Beta</th>\n",
       "      <td>2.365127</td>\n",
       "      <td>0.055556</td>\n",
       "      <td>0.310768</td>\n",
       "    </tr>\n",
       "  </tbody>\n",
       "</table>\n",
       "</div>"
      ],
      "text/plain": [
       "                     dist    weight   inertia\n",
       "Alfasud TI       3.000319  0.055556  0.500106\n",
       "Audi 100         3.631155  0.055556  0.732516\n",
       "Simca 1300       1.418294  0.055556  0.111753\n",
       "Citroen GS Club  0.966108  0.055556  0.051854\n",
       "Fiat 132         1.792494  0.055556  0.178502\n",
       "Lancia Beta      2.365127  0.055556  0.310768"
      ]
     },
     "execution_count": 11,
     "metadata": {},
     "output_type": "execute_result"
    }
   ],
   "source": [
    "ind[\"infos\"].head(6)"
   ]
  },
  {
   "cell_type": "markdown",
   "metadata": {},
   "source": [
    "## Variables informations"
   ]
  },
  {
   "cell_type": "code",
   "execution_count": 12,
   "metadata": {},
   "outputs": [
    {
     "data": {
      "text/plain": [
       "dict_keys(['coord', 'cor', 'cos2', 'contrib', 'weighted_corr', 'infos'])"
      ]
     },
     "execution_count": 12,
     "metadata": {},
     "output_type": "execute_result"
    }
   ],
   "source": [
    "var = res_partialpca.var_\n",
    "var.keys()"
   ]
  },
  {
   "cell_type": "markdown",
   "metadata": {},
   "source": [
    "### Variables coordinates"
   ]
  },
  {
   "cell_type": "code",
   "execution_count": 13,
   "metadata": {},
   "outputs": [
    {
     "data": {
      "text/html": [
       "<div>\n",
       "<style scoped>\n",
       "    .dataframe tbody tr th:only-of-type {\n",
       "        vertical-align: middle;\n",
       "    }\n",
       "\n",
       "    .dataframe tbody tr th {\n",
       "        vertical-align: top;\n",
       "    }\n",
       "\n",
       "    .dataframe thead th {\n",
       "        text-align: right;\n",
       "    }\n",
       "</style>\n",
       "<table border=\"1\" class=\"dataframe\">\n",
       "  <thead>\n",
       "    <tr style=\"text-align: right;\">\n",
       "      <th></th>\n",
       "      <th>Dim.1</th>\n",
       "      <th>Dim.2</th>\n",
       "      <th>Dim.3</th>\n",
       "      <th>Dim.4</th>\n",
       "      <th>Dim.5</th>\n",
       "    </tr>\n",
       "  </thead>\n",
       "  <tbody>\n",
       "    <tr>\n",
       "      <th>PUISS</th>\n",
       "      <td>0.485409</td>\n",
       "      <td>0.799845</td>\n",
       "      <td>-0.285912</td>\n",
       "      <td>0.078113</td>\n",
       "      <td>-0.191778</td>\n",
       "    </tr>\n",
       "    <tr>\n",
       "      <th>LONG</th>\n",
       "      <td>0.902818</td>\n",
       "      <td>-0.267219</td>\n",
       "      <td>0.068446</td>\n",
       "      <td>-0.323900</td>\n",
       "      <td>-0.062589</td>\n",
       "    </tr>\n",
       "    <tr>\n",
       "      <th>LARG</th>\n",
       "      <td>0.777337</td>\n",
       "      <td>-0.271323</td>\n",
       "      <td>0.514130</td>\n",
       "      <td>0.235738</td>\n",
       "      <td>-0.047217</td>\n",
       "    </tr>\n",
       "    <tr>\n",
       "      <th>POIDS</th>\n",
       "      <td>0.828523</td>\n",
       "      <td>-0.185540</td>\n",
       "      <td>-0.487384</td>\n",
       "      <td>0.107549</td>\n",
       "      <td>0.173248</td>\n",
       "    </tr>\n",
       "    <tr>\n",
       "      <th>VMAX</th>\n",
       "      <td>0.244240</td>\n",
       "      <td>0.891051</td>\n",
       "      <td>0.332239</td>\n",
       "      <td>-0.073077</td>\n",
       "      <td>0.175075</td>\n",
       "    </tr>\n",
       "  </tbody>\n",
       "</table>\n",
       "</div>"
      ],
      "text/plain": [
       "          Dim.1     Dim.2     Dim.3     Dim.4     Dim.5\n",
       "PUISS  0.485409  0.799845 -0.285912  0.078113 -0.191778\n",
       "LONG   0.902818 -0.267219  0.068446 -0.323900 -0.062589\n",
       "LARG   0.777337 -0.271323  0.514130  0.235738 -0.047217\n",
       "POIDS  0.828523 -0.185540 -0.487384  0.107549  0.173248\n",
       "VMAX   0.244240  0.891051  0.332239 -0.073077  0.175075"
      ]
     },
     "execution_count": 13,
     "metadata": {},
     "output_type": "execute_result"
    }
   ],
   "source": [
    "var[\"coord\"].head(6)"
   ]
  },
  {
   "cell_type": "markdown",
   "metadata": {},
   "source": [
    "### Variables cos2"
   ]
  },
  {
   "cell_type": "code",
   "execution_count": 14,
   "metadata": {},
   "outputs": [
    {
     "data": {
      "text/html": [
       "<div>\n",
       "<style scoped>\n",
       "    .dataframe tbody tr th:only-of-type {\n",
       "        vertical-align: middle;\n",
       "    }\n",
       "\n",
       "    .dataframe tbody tr th {\n",
       "        vertical-align: top;\n",
       "    }\n",
       "\n",
       "    .dataframe thead th {\n",
       "        text-align: right;\n",
       "    }\n",
       "</style>\n",
       "<table border=\"1\" class=\"dataframe\">\n",
       "  <thead>\n",
       "    <tr style=\"text-align: right;\">\n",
       "      <th></th>\n",
       "      <th>Dim.1</th>\n",
       "      <th>Dim.2</th>\n",
       "      <th>Dim.3</th>\n",
       "      <th>Dim.4</th>\n",
       "      <th>Dim.5</th>\n",
       "    </tr>\n",
       "  </thead>\n",
       "  <tbody>\n",
       "    <tr>\n",
       "      <th>PUISS</th>\n",
       "      <td>0.235622</td>\n",
       "      <td>0.639752</td>\n",
       "      <td>0.081746</td>\n",
       "      <td>0.006102</td>\n",
       "      <td>0.036779</td>\n",
       "    </tr>\n",
       "    <tr>\n",
       "      <th>LONG</th>\n",
       "      <td>0.815080</td>\n",
       "      <td>0.071406</td>\n",
       "      <td>0.004685</td>\n",
       "      <td>0.104911</td>\n",
       "      <td>0.003917</td>\n",
       "    </tr>\n",
       "    <tr>\n",
       "      <th>LARG</th>\n",
       "      <td>0.604252</td>\n",
       "      <td>0.073616</td>\n",
       "      <td>0.264330</td>\n",
       "      <td>0.055572</td>\n",
       "      <td>0.002229</td>\n",
       "    </tr>\n",
       "    <tr>\n",
       "      <th>POIDS</th>\n",
       "      <td>0.686450</td>\n",
       "      <td>0.034425</td>\n",
       "      <td>0.237543</td>\n",
       "      <td>0.011567</td>\n",
       "      <td>0.030015</td>\n",
       "    </tr>\n",
       "    <tr>\n",
       "      <th>VMAX</th>\n",
       "      <td>0.059653</td>\n",
       "      <td>0.793973</td>\n",
       "      <td>0.110383</td>\n",
       "      <td>0.005340</td>\n",
       "      <td>0.030651</td>\n",
       "    </tr>\n",
       "  </tbody>\n",
       "</table>\n",
       "</div>"
      ],
      "text/plain": [
       "          Dim.1     Dim.2     Dim.3     Dim.4     Dim.5\n",
       "PUISS  0.235622  0.639752  0.081746  0.006102  0.036779\n",
       "LONG   0.815080  0.071406  0.004685  0.104911  0.003917\n",
       "LARG   0.604252  0.073616  0.264330  0.055572  0.002229\n",
       "POIDS  0.686450  0.034425  0.237543  0.011567  0.030015\n",
       "VMAX   0.059653  0.793973  0.110383  0.005340  0.030651"
      ]
     },
     "execution_count": 14,
     "metadata": {},
     "output_type": "execute_result"
    }
   ],
   "source": [
    "var[\"cos2\"].head(6)"
   ]
  },
  {
   "cell_type": "markdown",
   "metadata": {},
   "source": [
    "### Variables contrib"
   ]
  },
  {
   "cell_type": "code",
   "execution_count": 15,
   "metadata": {},
   "outputs": [
    {
     "data": {
      "text/html": [
       "<div>\n",
       "<style scoped>\n",
       "    .dataframe tbody tr th:only-of-type {\n",
       "        vertical-align: middle;\n",
       "    }\n",
       "\n",
       "    .dataframe tbody tr th {\n",
       "        vertical-align: top;\n",
       "    }\n",
       "\n",
       "    .dataframe thead th {\n",
       "        text-align: right;\n",
       "    }\n",
       "</style>\n",
       "<table border=\"1\" class=\"dataframe\">\n",
       "  <thead>\n",
       "    <tr style=\"text-align: right;\">\n",
       "      <th></th>\n",
       "      <th>Dim.1</th>\n",
       "      <th>Dim.2</th>\n",
       "      <th>Dim.3</th>\n",
       "      <th>Dim.4</th>\n",
       "      <th>Dim.5</th>\n",
       "    </tr>\n",
       "  </thead>\n",
       "  <tbody>\n",
       "    <tr>\n",
       "      <th>PUISS</th>\n",
       "      <td>9.813268</td>\n",
       "      <td>39.658011</td>\n",
       "      <td>11.699931</td>\n",
       "      <td>3.325306</td>\n",
       "      <td>35.503484</td>\n",
       "    </tr>\n",
       "    <tr>\n",
       "      <th>LONG</th>\n",
       "      <td>33.946708</td>\n",
       "      <td>4.426437</td>\n",
       "      <td>0.670532</td>\n",
       "      <td>57.174795</td>\n",
       "      <td>3.781528</td>\n",
       "    </tr>\n",
       "    <tr>\n",
       "      <th>LARG</th>\n",
       "      <td>25.166075</td>\n",
       "      <td>4.563429</td>\n",
       "      <td>37.832439</td>\n",
       "      <td>30.285887</td>\n",
       "      <td>2.152169</td>\n",
       "    </tr>\n",
       "    <tr>\n",
       "      <th>POIDS</th>\n",
       "      <td>28.589489</td>\n",
       "      <td>2.133992</td>\n",
       "      <td>33.998512</td>\n",
       "      <td>6.303686</td>\n",
       "      <td>28.974322</td>\n",
       "    </tr>\n",
       "    <tr>\n",
       "      <th>VMAX</th>\n",
       "      <td>2.484460</td>\n",
       "      <td>49.218131</td>\n",
       "      <td>15.798586</td>\n",
       "      <td>2.910326</td>\n",
       "      <td>29.588496</td>\n",
       "    </tr>\n",
       "  </tbody>\n",
       "</table>\n",
       "</div>"
      ],
      "text/plain": [
       "           Dim.1      Dim.2      Dim.3      Dim.4      Dim.5\n",
       "PUISS   9.813268  39.658011  11.699931   3.325306  35.503484\n",
       "LONG   33.946708   4.426437   0.670532  57.174795   3.781528\n",
       "LARG   25.166075   4.563429  37.832439  30.285887   2.152169\n",
       "POIDS  28.589489   2.133992  33.998512   6.303686  28.974322\n",
       "VMAX    2.484460  49.218131  15.798586   2.910326  29.588496"
      ]
     },
     "execution_count": 15,
     "metadata": {},
     "output_type": "execute_result"
    }
   ],
   "source": [
    "var[\"contrib\"].head(6)"
   ]
  },
  {
   "cell_type": "markdown",
   "metadata": {},
   "source": [
    "## Others informations"
   ]
  },
  {
   "cell_type": "code",
   "execution_count": 16,
   "metadata": {},
   "outputs": [
    {
     "data": {
      "text/plain": [
       "dict_keys(['weighted_corr', 'global_kmo', 'kmo_per_var', 'partial_corr', 'coef', 'normalized_coef', 'metrics'])"
      ]
     },
     "execution_count": 16,
     "metadata": {},
     "output_type": "execute_result"
    }
   ],
   "source": [
    "others = res_partialpca.others_\n",
    "others.keys()"
   ]
  },
  {
   "cell_type": "markdown",
   "metadata": {},
   "source": [
    "### Weighted correlation"
   ]
  },
  {
   "cell_type": "code",
   "execution_count": 17,
   "metadata": {},
   "outputs": [
    {
     "data": {
      "text/html": [
       "<div>\n",
       "<style scoped>\n",
       "    .dataframe tbody tr th:only-of-type {\n",
       "        vertical-align: middle;\n",
       "    }\n",
       "\n",
       "    .dataframe tbody tr th {\n",
       "        vertical-align: top;\n",
       "    }\n",
       "\n",
       "    .dataframe thead th {\n",
       "        text-align: right;\n",
       "    }\n",
       "</style>\n",
       "<table border=\"1\" class=\"dataframe\">\n",
       "  <thead>\n",
       "    <tr style=\"text-align: right;\">\n",
       "      <th></th>\n",
       "      <th>CYL</th>\n",
       "      <th>PUISS</th>\n",
       "      <th>LONG</th>\n",
       "      <th>LARG</th>\n",
       "      <th>POIDS</th>\n",
       "      <th>VMAX</th>\n",
       "    </tr>\n",
       "  </thead>\n",
       "  <tbody>\n",
       "    <tr>\n",
       "      <th>CYL</th>\n",
       "      <td>1.000000</td>\n",
       "      <td>0.796628</td>\n",
       "      <td>0.701462</td>\n",
       "      <td>0.629757</td>\n",
       "      <td>0.788952</td>\n",
       "      <td>0.664934</td>\n",
       "    </tr>\n",
       "    <tr>\n",
       "      <th>PUISS</th>\n",
       "      <td>0.796628</td>\n",
       "      <td>1.000000</td>\n",
       "      <td>0.641362</td>\n",
       "      <td>0.520832</td>\n",
       "      <td>0.765293</td>\n",
       "      <td>0.844379</td>\n",
       "    </tr>\n",
       "    <tr>\n",
       "      <th>LONG</th>\n",
       "      <td>0.701462</td>\n",
       "      <td>0.641362</td>\n",
       "      <td>1.000000</td>\n",
       "      <td>0.849266</td>\n",
       "      <td>0.868090</td>\n",
       "      <td>0.475928</td>\n",
       "    </tr>\n",
       "    <tr>\n",
       "      <th>LARG</th>\n",
       "      <td>0.629757</td>\n",
       "      <td>0.520832</td>\n",
       "      <td>0.849266</td>\n",
       "      <td>1.000000</td>\n",
       "      <td>0.716874</td>\n",
       "      <td>0.472945</td>\n",
       "    </tr>\n",
       "    <tr>\n",
       "      <th>POIDS</th>\n",
       "      <td>0.788952</td>\n",
       "      <td>0.765293</td>\n",
       "      <td>0.868090</td>\n",
       "      <td>0.716874</td>\n",
       "      <td>1.000000</td>\n",
       "      <td>0.477596</td>\n",
       "    </tr>\n",
       "    <tr>\n",
       "      <th>VMAX</th>\n",
       "      <td>0.664934</td>\n",
       "      <td>0.844379</td>\n",
       "      <td>0.475928</td>\n",
       "      <td>0.472945</td>\n",
       "      <td>0.477596</td>\n",
       "      <td>1.000000</td>\n",
       "    </tr>\n",
       "  </tbody>\n",
       "</table>\n",
       "</div>"
      ],
      "text/plain": [
       "            CYL     PUISS      LONG      LARG     POIDS      VMAX\n",
       "CYL    1.000000  0.796628  0.701462  0.629757  0.788952  0.664934\n",
       "PUISS  0.796628  1.000000  0.641362  0.520832  0.765293  0.844379\n",
       "LONG   0.701462  0.641362  1.000000  0.849266  0.868090  0.475928\n",
       "LARG   0.629757  0.520832  0.849266  1.000000  0.716874  0.472945\n",
       "POIDS  0.788952  0.765293  0.868090  0.716874  1.000000  0.477596\n",
       "VMAX   0.664934  0.844379  0.475928  0.472945  0.477596  1.000000"
      ]
     },
     "execution_count": 17,
     "metadata": {},
     "output_type": "execute_result"
    }
   ],
   "source": [
    "others[\"weighted_corr\"]"
   ]
  },
  {
   "cell_type": "markdown",
   "metadata": {},
   "source": [
    "### Partial correlation"
   ]
  },
  {
   "cell_type": "code",
   "execution_count": 18,
   "metadata": {},
   "outputs": [
    {
     "data": {
      "text/html": [
       "<div>\n",
       "<style scoped>\n",
       "    .dataframe tbody tr th:only-of-type {\n",
       "        vertical-align: middle;\n",
       "    }\n",
       "\n",
       "    .dataframe tbody tr th {\n",
       "        vertical-align: top;\n",
       "    }\n",
       "\n",
       "    .dataframe thead th {\n",
       "        text-align: right;\n",
       "    }\n",
       "</style>\n",
       "<table border=\"1\" class=\"dataframe\">\n",
       "  <thead>\n",
       "    <tr style=\"text-align: right;\">\n",
       "      <th></th>\n",
       "      <th>CYL</th>\n",
       "      <th>PUISS</th>\n",
       "      <th>LONG</th>\n",
       "      <th>LARG</th>\n",
       "      <th>POIDS</th>\n",
       "      <th>VMAX</th>\n",
       "    </tr>\n",
       "  </thead>\n",
       "  <tbody>\n",
       "    <tr>\n",
       "      <th>CYL</th>\n",
       "      <td>1.000000</td>\n",
       "      <td>0.107081</td>\n",
       "      <td>-0.059944</td>\n",
       "      <td>0.109058</td>\n",
       "      <td>0.320078</td>\n",
       "      <td>0.189489</td>\n",
       "    </tr>\n",
       "    <tr>\n",
       "      <th>PUISS</th>\n",
       "      <td>0.107081</td>\n",
       "      <td>1.000000</td>\n",
       "      <td>-0.083218</td>\n",
       "      <td>-0.334079</td>\n",
       "      <td>0.652087</td>\n",
       "      <td>0.841449</td>\n",
       "    </tr>\n",
       "    <tr>\n",
       "      <th>LONG</th>\n",
       "      <td>-0.059944</td>\n",
       "      <td>-0.083218</td>\n",
       "      <td>1.000000</td>\n",
       "      <td>0.581624</td>\n",
       "      <td>0.529678</td>\n",
       "      <td>0.090026</td>\n",
       "    </tr>\n",
       "    <tr>\n",
       "      <th>LARG</th>\n",
       "      <td>0.109058</td>\n",
       "      <td>-0.334079</td>\n",
       "      <td>0.581624</td>\n",
       "      <td>1.000000</td>\n",
       "      <td>0.126883</td>\n",
       "      <td>0.330532</td>\n",
       "    </tr>\n",
       "    <tr>\n",
       "      <th>POIDS</th>\n",
       "      <td>0.320078</td>\n",
       "      <td>0.652087</td>\n",
       "      <td>0.529678</td>\n",
       "      <td>0.126883</td>\n",
       "      <td>1.000000</td>\n",
       "      <td>-0.610662</td>\n",
       "    </tr>\n",
       "    <tr>\n",
       "      <th>VMAX</th>\n",
       "      <td>0.189489</td>\n",
       "      <td>0.841449</td>\n",
       "      <td>0.090026</td>\n",
       "      <td>0.330532</td>\n",
       "      <td>-0.610662</td>\n",
       "      <td>1.000000</td>\n",
       "    </tr>\n",
       "  </tbody>\n",
       "</table>\n",
       "</div>"
      ],
      "text/plain": [
       "            CYL     PUISS      LONG      LARG     POIDS      VMAX\n",
       "CYL    1.000000  0.107081 -0.059944  0.109058  0.320078  0.189489\n",
       "PUISS  0.107081  1.000000 -0.083218 -0.334079  0.652087  0.841449\n",
       "LONG  -0.059944 -0.083218  1.000000  0.581624  0.529678  0.090026\n",
       "LARG   0.109058 -0.334079  0.581624  1.000000  0.126883  0.330532\n",
       "POIDS  0.320078  0.652087  0.529678  0.126883  1.000000 -0.610662\n",
       "VMAX   0.189489  0.841449  0.090026  0.330532 -0.610662  1.000000"
      ]
     },
     "execution_count": 18,
     "metadata": {},
     "output_type": "execute_result"
    }
   ],
   "source": [
    "others[\"partial_corr\"]"
   ]
  },
  {
   "cell_type": "markdown",
   "metadata": {},
   "source": [
    "### KMO"
   ]
  },
  {
   "cell_type": "code",
   "execution_count": 19,
   "metadata": {},
   "outputs": [
    {
     "data": {
      "text/plain": [
       "0.7400088239713859"
      ]
     },
     "execution_count": 19,
     "metadata": {},
     "output_type": "execute_result"
    }
   ],
   "source": [
    "others[\"global_kmo\"]"
   ]
  },
  {
   "cell_type": "markdown",
   "metadata": {},
   "source": [
    "### KMO per variables"
   ]
  },
  {
   "cell_type": "code",
   "execution_count": 20,
   "metadata": {},
   "outputs": [
    {
     "data": {
      "text/plain": [
       "CYL      0.939956\n",
       "PUISS    0.674346\n",
       "LONG     0.803384\n",
       "LARG     0.783650\n",
       "POIDS    0.693091\n",
       "VMAX     0.597664\n",
       "Name: KMO, dtype: float64"
      ]
     },
     "execution_count": 20,
     "metadata": {},
     "output_type": "execute_result"
    }
   ],
   "source": [
    "others[\"kmo_per_var\"]"
   ]
  },
  {
   "cell_type": "markdown",
   "metadata": {},
   "source": [
    "### Coefficients"
   ]
  },
  {
   "cell_type": "code",
   "execution_count": 21,
   "metadata": {},
   "outputs": [
    {
     "data": {
      "text/html": [
       "<div>\n",
       "<style scoped>\n",
       "    .dataframe tbody tr th:only-of-type {\n",
       "        vertical-align: middle;\n",
       "    }\n",
       "\n",
       "    .dataframe tbody tr th {\n",
       "        vertical-align: top;\n",
       "    }\n",
       "\n",
       "    .dataframe thead th {\n",
       "        text-align: right;\n",
       "    }\n",
       "</style>\n",
       "<table border=\"1\" class=\"dataframe\">\n",
       "  <thead>\n",
       "    <tr style=\"text-align: right;\">\n",
       "      <th></th>\n",
       "      <th>PUISS</th>\n",
       "      <th>LONG</th>\n",
       "      <th>LARG</th>\n",
       "      <th>POIDS</th>\n",
       "      <th>VMAX</th>\n",
       "    </tr>\n",
       "  </thead>\n",
       "  <tbody>\n",
       "    <tr>\n",
       "      <th>intercept</th>\n",
       "      <td>13.780395</td>\n",
       "      <td>365.832168</td>\n",
       "      <td>152.064726</td>\n",
       "      <td>607.336582</td>\n",
       "      <td>123.052678</td>\n",
       "    </tr>\n",
       "    <tr>\n",
       "      <th>CYL</th>\n",
       "      <td>0.043410</td>\n",
       "      <td>0.041472</td>\n",
       "      <td>0.008949</td>\n",
       "      <td>0.288966</td>\n",
       "      <td>0.021588</td>\n",
       "    </tr>\n",
       "  </tbody>\n",
       "</table>\n",
       "</div>"
      ],
      "text/plain": [
       "               PUISS        LONG        LARG       POIDS        VMAX\n",
       "intercept  13.780395  365.832168  152.064726  607.336582  123.052678\n",
       "CYL         0.043410    0.041472    0.008949    0.288966    0.021588"
      ]
     },
     "execution_count": 21,
     "metadata": {},
     "output_type": "execute_result"
    }
   ],
   "source": [
    "others[\"coef\"]"
   ]
  },
  {
   "cell_type": "markdown",
   "metadata": {},
   "source": [
    "### Others coefficients"
   ]
  },
  {
   "cell_type": "code",
   "execution_count": 22,
   "metadata": {},
   "outputs": [
    {
     "data": {
      "text/html": [
       "<div>\n",
       "<style scoped>\n",
       "    .dataframe tbody tr th:only-of-type {\n",
       "        vertical-align: middle;\n",
       "    }\n",
       "\n",
       "    .dataframe tbody tr th {\n",
       "        vertical-align: top;\n",
       "    }\n",
       "\n",
       "    .dataframe thead th {\n",
       "        text-align: right;\n",
       "    }\n",
       "</style>\n",
       "<table border=\"1\" class=\"dataframe\">\n",
       "  <thead>\n",
       "    <tr style=\"text-align: right;\">\n",
       "      <th></th>\n",
       "      <th>PUISS</th>\n",
       "      <th>LONG</th>\n",
       "      <th>LARG</th>\n",
       "      <th>POIDS</th>\n",
       "      <th>VMAX</th>\n",
       "    </tr>\n",
       "  </thead>\n",
       "  <tbody>\n",
       "    <tr>\n",
       "      <th>CYL</th>\n",
       "      <td>0.796628</td>\n",
       "      <td>0.701462</td>\n",
       "      <td>0.629757</td>\n",
       "      <td>0.788952</td>\n",
       "      <td>0.664934</td>\n",
       "    </tr>\n",
       "  </tbody>\n",
       "</table>\n",
       "</div>"
      ],
      "text/plain": [
       "        PUISS      LONG      LARG     POIDS      VMAX\n",
       "CYL  0.796628  0.701462  0.629757  0.788952  0.664934"
      ]
     },
     "execution_count": 22,
     "metadata": {},
     "output_type": "execute_result"
    }
   ],
   "source": [
    "others[\"normalized_coef\"]"
   ]
  },
  {
   "cell_type": "markdown",
   "metadata": {},
   "source": [
    "### Metrics (RMSE - R2)"
   ]
  },
  {
   "cell_type": "code",
   "execution_count": 23,
   "metadata": {},
   "outputs": [
    {
     "data": {
      "text/html": [
       "<div>\n",
       "<style scoped>\n",
       "    .dataframe tbody tr th:only-of-type {\n",
       "        vertical-align: middle;\n",
       "    }\n",
       "\n",
       "    .dataframe tbody tr th {\n",
       "        vertical-align: top;\n",
       "    }\n",
       "\n",
       "    .dataframe thead th {\n",
       "        text-align: right;\n",
       "    }\n",
       "</style>\n",
       "<table border=\"1\" class=\"dataframe\">\n",
       "  <thead>\n",
       "    <tr style=\"text-align: right;\">\n",
       "      <th></th>\n",
       "      <th>rsquared</th>\n",
       "      <th>rmse</th>\n",
       "    </tr>\n",
       "  </thead>\n",
       "  <tbody>\n",
       "    <tr>\n",
       "      <th>PUISS</th>\n",
       "      <td>0.634616</td>\n",
       "      <td>11.969832</td>\n",
       "    </tr>\n",
       "    <tr>\n",
       "      <th>LONG</th>\n",
       "      <td>0.492049</td>\n",
       "      <td>15.312145</td>\n",
       "    </tr>\n",
       "    <tr>\n",
       "      <th>LARG</th>\n",
       "      <td>0.396594</td>\n",
       "      <td>4.011337</td>\n",
       "    </tr>\n",
       "    <tr>\n",
       "      <th>POIDS</th>\n",
       "      <td>0.622445</td>\n",
       "      <td>81.783359</td>\n",
       "    </tr>\n",
       "    <tr>\n",
       "      <th>VMAX</th>\n",
       "      <td>0.442137</td>\n",
       "      <td>8.812198</td>\n",
       "    </tr>\n",
       "  </tbody>\n",
       "</table>\n",
       "</div>"
      ],
      "text/plain": [
       "       rsquared       rmse\n",
       "PUISS  0.634616  11.969832\n",
       "LONG   0.492049  15.312145\n",
       "LARG   0.396594   4.011337\n",
       "POIDS  0.622445  81.783359\n",
       "VMAX   0.442137   8.812198"
      ]
     },
     "execution_count": 23,
     "metadata": {},
     "output_type": "execute_result"
    }
   ],
   "source": [
    "others[\"metrics\"]"
   ]
  },
  {
   "cell_type": "code",
   "execution_count": 24,
   "metadata": {},
   "outputs": [],
   "source": [
    "from scientisttools import get_partialpca,get_eig,summaryPartialPCA\n",
    "eig = get_eig(res_partialpca)\n",
    "ind = get_partialpca(res_partialpca,choice=\"ind\")\n",
    "var = get_partialpca(res_partialpca,choice = \"var\")"
   ]
  },
  {
   "cell_type": "code",
   "execution_count": 25,
   "metadata": {},
   "outputs": [
    {
     "name": "stdout",
     "output_type": "stream",
     "text": [
      "                     Partial Principal Component Analysis - Results                     \n",
      "\n",
      "Importance of components\n",
      "                          Dim.1   Dim.2   Dim.3   Dim.4    Dim.5\n",
      "Variance                  2.401   1.613   0.699   0.183    0.104\n",
      "Difference                0.788   0.914   0.515   0.080      NaN\n",
      "% of var.                48.021  32.263  13.974   3.670    2.072\n",
      "Cumulative of % of var.  48.021  80.285  94.258  97.928  100.000\n",
      "\n",
      "Individuals (the 10 first)\n",
      "\n",
      "                  dist  weight  inertia  Dim.1     ctr   cos2  Dim.2     ctr  \\\n",
      "Alfasud TI       3.000   0.056    0.500 -1.921   8.539  0.410  2.158  16.045   \n",
      "Audi 100         3.631   0.056    0.733  3.117  22.473  0.737 -0.816   2.292   \n",
      "Simca 1300       1.418   0.056    0.112  1.132   2.967  0.638 -0.439   0.663   \n",
      "Citroen GS Club  0.966   0.056    0.052 -0.798   1.473  0.682 -0.064   0.014   \n",
      "Fiat 132         1.792   0.056    0.179  0.803   1.490  0.200  1.373   6.493   \n",
      "Lancia Beta      2.365   0.056    0.311  2.135  10.547  0.815  0.752   1.947   \n",
      "Peugeot 504      1.568   0.056    0.137  0.185   0.079  0.014 -1.519   7.946   \n",
      "Renault 16 TL    3.127   0.056    0.543 -1.965   8.931  0.395 -2.402  19.863   \n",
      "Renault 30       1.885   0.056    0.197 -1.709   6.761  0.823  0.471   0.764   \n",
      "Toyota Corolla   2.617   0.056    0.381 -2.504  14.506  0.915 -0.417   0.598   \n",
      "\n",
      "                  cos2  Dim.3     ctr   cos2  \n",
      "Alfasud TI       0.518  0.661   3.469  0.048  \n",
      "Audi 100         0.050  1.581  19.883  0.190  \n",
      "Simca 1300       0.096  0.303   0.731  0.046  \n",
      "Citroen GS Club  0.004  0.181   0.259  0.035  \n",
      "Fiat 132         0.587 -0.680   3.673  0.144  \n",
      "Lancia Beta      0.101  0.232   0.429  0.010  \n",
      "Peugeot 504      0.938 -0.050   0.020  0.001  \n",
      "Renault 16 TL    0.590 -0.149   0.177  0.002  \n",
      "Renault 30       0.062 -0.153   0.186  0.007  \n",
      "Toyota Corolla   0.025 -0.105   0.088  0.002  \n",
      "\n",
      "Continues variables\n",
      "\n",
      "       dist  weight  inertia  Dim.1     ctr   cos2  Dim.2     ctr   cos2  \\\n",
      "PUISS   1.0     1.0      1.0  0.485   9.813  0.236  0.800  39.658  0.640   \n",
      "LONG    1.0     1.0      1.0  0.903  33.947  0.815 -0.267   4.426  0.071   \n",
      "LARG    1.0     1.0      1.0  0.777  25.166  0.604 -0.271   4.563  0.074   \n",
      "POIDS   1.0     1.0      1.0  0.829  28.589  0.686 -0.186   2.134  0.034   \n",
      "VMAX    1.0     1.0      1.0  0.244   2.484  0.060  0.891  49.218  0.794   \n",
      "\n",
      "       Dim.3     ctr   cos2  \n",
      "PUISS -0.286  11.700  0.082  \n",
      "LONG   0.068   0.671  0.005  \n",
      "LARG   0.514  37.832  0.264  \n",
      "POIDS -0.487  33.999  0.238  \n",
      "VMAX   0.332  15.799  0.110  \n"
     ]
    }
   ],
   "source": [
    "summaryPartialPCA(res_partialpca)"
   ]
  }
 ],
 "metadata": {
  "kernelspec": {
   "display_name": "Python 3",
   "language": "python",
   "name": "python3"
  },
  "language_info": {
   "codemirror_mode": {
    "name": "ipython",
    "version": 3
   },
   "file_extension": ".py",
   "mimetype": "text/x-python",
   "name": "python",
   "nbconvert_exporter": "python",
   "pygments_lexer": "ipython3",
   "version": "3.10.5"
  }
 },
 "nbformat": 4,
 "nbformat_minor": 2
}
