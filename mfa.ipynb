{
 "cells": [
  {
   "cell_type": "code",
   "execution_count": null,
   "metadata": {},
   "outputs": [],
   "source": [
    "import pandas as pd\n",
    "\n",
    "data = pd.DataFrame({\n",
    "    \"V1\" : [1,1,1,1,-1,-1,-1,-1],\n",
    "    \"v2\" : [1,1,-1,-1,1,1,-1,-1],\n",
    "    \"V3\" : [1,-1,1,-1,1,-1,1,-1],\n",
    "    \"V4\" : [1,0,0,1,-1,0,0,-1],\n",
    "    \"V5\" : [1,0,0,1,-1,0,0,-1]\n",
    "})\n",
    "data"
   ]
  },
  {
   "cell_type": "code",
   "execution_count": null,
   "metadata": {},
   "outputs": [],
   "source": [
    "data.corr(method=\"pearson\").round(2)"
   ]
  },
  {
   "cell_type": "code",
   "execution_count": null,
   "metadata": {},
   "outputs": [],
   "source": [
    "from scientisttools.decomposition import PCA\n",
    "\n",
    "res_pca = PCA(row_labels=data.index,col_labels=data.columns).fit(data)\n",
    "res_pca.col_coord_[:,:2].round(3)"
   ]
  },
  {
   "cell_type": "code",
   "execution_count": null,
   "metadata": {},
   "outputs": [],
   "source": [
    "res_pca.col_contrib_[:,:2].round(3)"
   ]
  }
 ],
 "metadata": {
  "kernelspec": {
   "display_name": "Python 3",
   "language": "python",
   "name": "python3"
  },
  "language_info": {
   "codemirror_mode": {
    "name": "ipython",
    "version": 3
   },
   "file_extension": ".py",
   "mimetype": "text/x-python",
   "name": "python",
   "nbconvert_exporter": "python",
   "pygments_lexer": "ipython3",
   "version": "3.10.5"
  }
 },
 "nbformat": 4,
 "nbformat_minor": 2
}
