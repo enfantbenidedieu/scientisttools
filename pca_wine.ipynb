{
 "cells": [
  {
   "cell_type": "markdown",
   "metadata": {},
   "source": [
    "# PCA wine"
   ]
  },
  {
   "cell_type": "code",
   "execution_count": 1,
   "metadata": {},
   "outputs": [],
   "source": [
    "import warnings\n",
    "warnings.simplefilter(action='ignore', category=FutureWarning)\n",
    "warnings.filterwarnings(\"ignore\")"
   ]
  },
  {
   "cell_type": "code",
   "execution_count": 2,
   "metadata": {},
   "outputs": [
    {
     "name": "stdout",
     "output_type": "stream",
     "text": [
      "<class 'pandas.core.frame.DataFrame'>\n",
      "Index: 21 entries, 2EL  to T2  \n",
      "Data columns (total 31 columns):\n",
      " #   Column                         Non-Null Count  Dtype   \n",
      "---  ------                         --------------  -----   \n",
      " 0   Label                          21 non-null     category\n",
      " 1   Soil                           21 non-null     category\n",
      " 2   Odor.Intensity.before.shaking  21 non-null     float64 \n",
      " 3   Aroma.quality.before.shaking   21 non-null     float64 \n",
      " 4   Fruity.before.shaking          21 non-null     float64 \n",
      " 5   Flower.before.shaking          21 non-null     float64 \n",
      " 6   Spice.before.shaking           21 non-null     float64 \n",
      " 7   Visual.intensity               21 non-null     float64 \n",
      " 8   Nuance                         21 non-null     float64 \n",
      " 9   Surface.feeling                21 non-null     float64 \n",
      " 10  Odor.Intensity                 21 non-null     float64 \n",
      " 11  Quality.of.odour               21 non-null     float64 \n",
      " 12  Fruity                         21 non-null     float64 \n",
      " 13  Flower                         21 non-null     float64 \n",
      " 14  Spice                          21 non-null     float64 \n",
      " 15  Plante                         21 non-null     float64 \n",
      " 16  Phenolic                       21 non-null     float64 \n",
      " 17  Aroma.intensity                21 non-null     float64 \n",
      " 18  Aroma.persistency              21 non-null     float64 \n",
      " 19  Aroma.quality                  21 non-null     float64 \n",
      " 20  Attack.intensity               21 non-null     float64 \n",
      " 21  Acidity                        21 non-null     float64 \n",
      " 22  Astringency                    21 non-null     float64 \n",
      " 23  Alcohol                        21 non-null     float64 \n",
      " 24  Balance                        21 non-null     float64 \n",
      " 25  Smooth                         21 non-null     float64 \n",
      " 26  Bitterness                     21 non-null     float64 \n",
      " 27  Intensity                      21 non-null     float64 \n",
      " 28  Harmony                        21 non-null     float64 \n",
      " 29  Overall.quality                21 non-null     float64 \n",
      " 30  Typical                        21 non-null     float64 \n",
      "dtypes: category(2), float64(29)\n",
      "memory usage: 5.3+ KB\n"
     ]
    }
   ],
   "source": [
    "#importation des données\n",
    "from scientisttools import load_wine\n",
    "wine = load_wine()\n",
    "wine.info()"
   ]
  },
  {
   "cell_type": "code",
   "execution_count": 3,
   "metadata": {},
   "outputs": [],
   "source": [
    "from scientisttools import PCA, get_eig, get_pca,summaryPCA, dimdesc"
   ]
  },
  {
   "cell_type": "code",
   "execution_count": 4,
   "metadata": {},
   "outputs": [
    {
     "data": {
      "text/html": [
       "<style>#sk-container-id-1 {color: black;background-color: white;}#sk-container-id-1 pre{padding: 0;}#sk-container-id-1 div.sk-toggleable {background-color: white;}#sk-container-id-1 label.sk-toggleable__label {cursor: pointer;display: block;width: 100%;margin-bottom: 0;padding: 0.3em;box-sizing: border-box;text-align: center;}#sk-container-id-1 label.sk-toggleable__label-arrow:before {content: \"▸\";float: left;margin-right: 0.25em;color: #696969;}#sk-container-id-1 label.sk-toggleable__label-arrow:hover:before {color: black;}#sk-container-id-1 div.sk-estimator:hover label.sk-toggleable__label-arrow:before {color: black;}#sk-container-id-1 div.sk-toggleable__content {max-height: 0;max-width: 0;overflow: hidden;text-align: left;background-color: #f0f8ff;}#sk-container-id-1 div.sk-toggleable__content pre {margin: 0.2em;color: black;border-radius: 0.25em;background-color: #f0f8ff;}#sk-container-id-1 input.sk-toggleable__control:checked~div.sk-toggleable__content {max-height: 200px;max-width: 100%;overflow: auto;}#sk-container-id-1 input.sk-toggleable__control:checked~label.sk-toggleable__label-arrow:before {content: \"▾\";}#sk-container-id-1 div.sk-estimator input.sk-toggleable__control:checked~label.sk-toggleable__label {background-color: #d4ebff;}#sk-container-id-1 div.sk-label input.sk-toggleable__control:checked~label.sk-toggleable__label {background-color: #d4ebff;}#sk-container-id-1 input.sk-hidden--visually {border: 0;clip: rect(1px 1px 1px 1px);clip: rect(1px, 1px, 1px, 1px);height: 1px;margin: -1px;overflow: hidden;padding: 0;position: absolute;width: 1px;}#sk-container-id-1 div.sk-estimator {font-family: monospace;background-color: #f0f8ff;border: 1px dotted black;border-radius: 0.25em;box-sizing: border-box;margin-bottom: 0.5em;}#sk-container-id-1 div.sk-estimator:hover {background-color: #d4ebff;}#sk-container-id-1 div.sk-parallel-item::after {content: \"\";width: 100%;border-bottom: 1px solid gray;flex-grow: 1;}#sk-container-id-1 div.sk-label:hover label.sk-toggleable__label {background-color: #d4ebff;}#sk-container-id-1 div.sk-serial::before {content: \"\";position: absolute;border-left: 1px solid gray;box-sizing: border-box;top: 0;bottom: 0;left: 50%;z-index: 0;}#sk-container-id-1 div.sk-serial {display: flex;flex-direction: column;align-items: center;background-color: white;padding-right: 0.2em;padding-left: 0.2em;position: relative;}#sk-container-id-1 div.sk-item {position: relative;z-index: 1;}#sk-container-id-1 div.sk-parallel {display: flex;align-items: stretch;justify-content: center;background-color: white;position: relative;}#sk-container-id-1 div.sk-item::before, #sk-container-id-1 div.sk-parallel-item::before {content: \"\";position: absolute;border-left: 1px solid gray;box-sizing: border-box;top: 0;bottom: 0;left: 50%;z-index: -1;}#sk-container-id-1 div.sk-parallel-item {display: flex;flex-direction: column;z-index: 1;position: relative;background-color: white;}#sk-container-id-1 div.sk-parallel-item:first-child::after {align-self: flex-end;width: 50%;}#sk-container-id-1 div.sk-parallel-item:last-child::after {align-self: flex-start;width: 50%;}#sk-container-id-1 div.sk-parallel-item:only-child::after {width: 0;}#sk-container-id-1 div.sk-dashed-wrapped {border: 1px dashed gray;margin: 0 0.4em 0.5em 0.4em;box-sizing: border-box;padding-bottom: 0.4em;background-color: white;}#sk-container-id-1 div.sk-label label {font-family: monospace;font-weight: bold;display: inline-block;line-height: 1.2em;}#sk-container-id-1 div.sk-label-container {text-align: center;}#sk-container-id-1 div.sk-container {/* jupyter's `normalize.less` sets `[hidden] { display: none; }` but bootstrap.min.css set `[hidden] { display: none !important; }` so we also need the `!important` here to be able to override the default hidden behavior on the sphinx rendered scikit-learn.org. See: https://github.com/scikit-learn/scikit-learn/issues/21755 */display: inline-block !important;position: relative;}#sk-container-id-1 div.sk-text-repr-fallback {display: none;}</style><div id=\"sk-container-id-1\" class=\"sk-top-container\"><div class=\"sk-text-repr-fallback\"><pre>PCA(ind_sup=[15, 16, 17, 18, 19, 20], parallelize=True, quali_sup=[0, 1],\n",
       "    quanti_sup=[29, 30])</pre><b>In a Jupyter environment, please rerun this cell to show the HTML representation or trust the notebook. <br />On GitHub, the HTML representation is unable to render, please try loading this page with nbviewer.org.</b></div><div class=\"sk-container\" hidden><div class=\"sk-item\"><div class=\"sk-estimator sk-toggleable\"><input class=\"sk-toggleable__control sk-hidden--visually\" id=\"sk-estimator-id-1\" type=\"checkbox\" checked><label for=\"sk-estimator-id-1\" class=\"sk-toggleable__label sk-toggleable__label-arrow\">PCA</label><div class=\"sk-toggleable__content\"><pre>PCA(ind_sup=[15, 16, 17, 18, 19, 20], parallelize=True, quali_sup=[0, 1],\n",
       "    quanti_sup=[29, 30])</pre></div></div></div></div></div>"
      ],
      "text/plain": [
       "PCA(ind_sup=[15, 16, 17, 18, 19, 20], parallelize=True, quali_sup=[0, 1],\n",
       "    quanti_sup=[29, 30])"
      ]
     },
     "execution_count": 4,
     "metadata": {},
     "output_type": "execute_result"
    }
   ],
   "source": [
    "# Instanciation\n",
    "res_pca = PCA(standardize=True,n_components=5,ind_sup=list(range(15,21)),quanti_sup=[29,30],quali_sup=[0,1],parallelize=True)\n",
    "res_pca.fit(wine)"
   ]
  },
  {
   "cell_type": "markdown",
   "metadata": {},
   "source": [
    "## Eigenvalues"
   ]
  },
  {
   "cell_type": "code",
   "execution_count": 5,
   "metadata": {},
   "outputs": [
    {
     "data": {
      "text/html": [
       "<div>\n",
       "<style scoped>\n",
       "    .dataframe tbody tr th:only-of-type {\n",
       "        vertical-align: middle;\n",
       "    }\n",
       "\n",
       "    .dataframe tbody tr th {\n",
       "        vertical-align: top;\n",
       "    }\n",
       "\n",
       "    .dataframe thead th {\n",
       "        text-align: right;\n",
       "    }\n",
       "</style>\n",
       "<table border=\"1\" class=\"dataframe\">\n",
       "  <thead>\n",
       "    <tr style=\"text-align: right;\">\n",
       "      <th></th>\n",
       "      <th>eigenvalue</th>\n",
       "      <th>difference</th>\n",
       "      <th>proportion</th>\n",
       "      <th>cumulative</th>\n",
       "    </tr>\n",
       "  </thead>\n",
       "  <tbody>\n",
       "    <tr>\n",
       "      <th>Dim.1</th>\n",
       "      <td>14.740851</td>\n",
       "      <td>11.804968</td>\n",
       "      <td>54.595746</td>\n",
       "      <td>54.595746</td>\n",
       "    </tr>\n",
       "    <tr>\n",
       "      <th>Dim.2</th>\n",
       "      <td>2.935884</td>\n",
       "      <td>0.644286</td>\n",
       "      <td>10.873643</td>\n",
       "      <td>65.469389</td>\n",
       "    </tr>\n",
       "    <tr>\n",
       "      <th>Dim.3</th>\n",
       "      <td>2.291597</td>\n",
       "      <td>0.569027</td>\n",
       "      <td>8.487397</td>\n",
       "      <td>73.956786</td>\n",
       "    </tr>\n",
       "    <tr>\n",
       "      <th>Dim.4</th>\n",
       "      <td>1.722570</td>\n",
       "      <td>0.178368</td>\n",
       "      <td>6.379889</td>\n",
       "      <td>80.336675</td>\n",
       "    </tr>\n",
       "    <tr>\n",
       "      <th>Dim.5</th>\n",
       "      <td>1.544202</td>\n",
       "      <td>0.439988</td>\n",
       "      <td>5.719266</td>\n",
       "      <td>86.055941</td>\n",
       "    </tr>\n",
       "    <tr>\n",
       "      <th>Dim.6</th>\n",
       "      <td>1.104214</td>\n",
       "      <td>0.355298</td>\n",
       "      <td>4.089681</td>\n",
       "      <td>90.145621</td>\n",
       "    </tr>\n",
       "  </tbody>\n",
       "</table>\n",
       "</div>"
      ],
      "text/plain": [
       "       eigenvalue  difference  proportion  cumulative\n",
       "Dim.1   14.740851   11.804968   54.595746   54.595746\n",
       "Dim.2    2.935884    0.644286   10.873643   65.469389\n",
       "Dim.3    2.291597    0.569027    8.487397   73.956786\n",
       "Dim.4    1.722570    0.178368    6.379889   80.336675\n",
       "Dim.5    1.544202    0.439988    5.719266   86.055941\n",
       "Dim.6    1.104214    0.355298    4.089681   90.145621"
      ]
     },
     "execution_count": 5,
     "metadata": {},
     "output_type": "execute_result"
    }
   ],
   "source": [
    "eig = res_pca.eig_\n",
    "eig.head(6)"
   ]
  },
  {
   "cell_type": "markdown",
   "metadata": {},
   "source": [
    "## Individuals informations"
   ]
  },
  {
   "cell_type": "code",
   "execution_count": 6,
   "metadata": {},
   "outputs": [
    {
     "data": {
      "text/plain": [
       "dict_keys(['coord', 'cos2', 'contrib', 'infos'])"
      ]
     },
     "execution_count": 6,
     "metadata": {},
     "output_type": "execute_result"
    }
   ],
   "source": [
    "ind = res_pca.ind_\n",
    "ind.keys()"
   ]
  },
  {
   "cell_type": "markdown",
   "metadata": {},
   "source": [
    "### Individuals coordinates"
   ]
  },
  {
   "cell_type": "code",
   "execution_count": 7,
   "metadata": {},
   "outputs": [
    {
     "data": {
      "text/html": [
       "<div>\n",
       "<style scoped>\n",
       "    .dataframe tbody tr th:only-of-type {\n",
       "        vertical-align: middle;\n",
       "    }\n",
       "\n",
       "    .dataframe tbody tr th {\n",
       "        vertical-align: top;\n",
       "    }\n",
       "\n",
       "    .dataframe thead th {\n",
       "        text-align: right;\n",
       "    }\n",
       "</style>\n",
       "<table border=\"1\" class=\"dataframe\">\n",
       "  <thead>\n",
       "    <tr style=\"text-align: right;\">\n",
       "      <th></th>\n",
       "      <th>Dim.1</th>\n",
       "      <th>Dim.2</th>\n",
       "      <th>Dim.3</th>\n",
       "      <th>Dim.4</th>\n",
       "      <th>Dim.5</th>\n",
       "    </tr>\n",
       "  </thead>\n",
       "  <tbody>\n",
       "    <tr>\n",
       "      <th>2EL</th>\n",
       "      <td>-0.697060</td>\n",
       "      <td>-2.852968</td>\n",
       "      <td>0.169384</td>\n",
       "      <td>0.942456</td>\n",
       "      <td>0.957457</td>\n",
       "    </tr>\n",
       "    <tr>\n",
       "      <th>1CHA</th>\n",
       "      <td>-4.802838</td>\n",
       "      <td>-4.236054</td>\n",
       "      <td>-0.969634</td>\n",
       "      <td>0.164637</td>\n",
       "      <td>0.288523</td>\n",
       "    </tr>\n",
       "    <tr>\n",
       "      <th>1FON</th>\n",
       "      <td>-2.577287</td>\n",
       "      <td>-0.184102</td>\n",
       "      <td>-1.879038</td>\n",
       "      <td>-2.541729</td>\n",
       "      <td>-0.390677</td>\n",
       "    </tr>\n",
       "    <tr>\n",
       "      <th>1VAU</th>\n",
       "      <td>-10.582720</td>\n",
       "      <td>2.180724</td>\n",
       "      <td>1.691468</td>\n",
       "      <td>-0.624785</td>\n",
       "      <td>0.968510</td>\n",
       "    </tr>\n",
       "    <tr>\n",
       "      <th>1DAM</th>\n",
       "      <td>4.906159</td>\n",
       "      <td>0.147573</td>\n",
       "      <td>0.864068</td>\n",
       "      <td>-0.138473</td>\n",
       "      <td>2.525392</td>\n",
       "    </tr>\n",
       "    <tr>\n",
       "      <th>2BOU</th>\n",
       "      <td>1.746737</td>\n",
       "      <td>0.926421</td>\n",
       "      <td>-1.281174</td>\n",
       "      <td>-1.113625</td>\n",
       "      <td>-1.805437</td>\n",
       "    </tr>\n",
       "  </tbody>\n",
       "</table>\n",
       "</div>"
      ],
      "text/plain": [
       "          Dim.1     Dim.2     Dim.3     Dim.4     Dim.5\n",
       "2EL   -0.697060 -2.852968  0.169384  0.942456  0.957457\n",
       "1CHA  -4.802838 -4.236054 -0.969634  0.164637  0.288523\n",
       "1FON  -2.577287 -0.184102 -1.879038 -2.541729 -0.390677\n",
       "1VAU -10.582720  2.180724  1.691468 -0.624785  0.968510\n",
       "1DAM   4.906159  0.147573  0.864068 -0.138473  2.525392\n",
       "2BOU   1.746737  0.926421 -1.281174 -1.113625 -1.805437"
      ]
     },
     "execution_count": 7,
     "metadata": {},
     "output_type": "execute_result"
    }
   ],
   "source": [
    "ind[\"coord\"].head(6)"
   ]
  },
  {
   "cell_type": "markdown",
   "metadata": {},
   "source": [
    "### Individuals Cos2"
   ]
  },
  {
   "cell_type": "code",
   "execution_count": 8,
   "metadata": {},
   "outputs": [
    {
     "data": {
      "text/html": [
       "<div>\n",
       "<style scoped>\n",
       "    .dataframe tbody tr th:only-of-type {\n",
       "        vertical-align: middle;\n",
       "    }\n",
       "\n",
       "    .dataframe tbody tr th {\n",
       "        vertical-align: top;\n",
       "    }\n",
       "\n",
       "    .dataframe thead th {\n",
       "        text-align: right;\n",
       "    }\n",
       "</style>\n",
       "<table border=\"1\" class=\"dataframe\">\n",
       "  <thead>\n",
       "    <tr style=\"text-align: right;\">\n",
       "      <th></th>\n",
       "      <th>Dim.1</th>\n",
       "      <th>Dim.2</th>\n",
       "      <th>Dim.3</th>\n",
       "      <th>Dim.4</th>\n",
       "      <th>Dim.5</th>\n",
       "    </tr>\n",
       "  </thead>\n",
       "  <tbody>\n",
       "    <tr>\n",
       "      <th>2EL</th>\n",
       "      <td>0.028305</td>\n",
       "      <td>0.474156</td>\n",
       "      <td>0.001671</td>\n",
       "      <td>0.051743</td>\n",
       "      <td>0.053403</td>\n",
       "    </tr>\n",
       "    <tr>\n",
       "      <th>1CHA</th>\n",
       "      <td>0.510143</td>\n",
       "      <td>0.396843</td>\n",
       "      <td>0.020793</td>\n",
       "      <td>0.000599</td>\n",
       "      <td>0.001841</td>\n",
       "    </tr>\n",
       "    <tr>\n",
       "      <th>1FON</th>\n",
       "      <td>0.322184</td>\n",
       "      <td>0.001644</td>\n",
       "      <td>0.171257</td>\n",
       "      <td>0.313355</td>\n",
       "      <td>0.007403</td>\n",
       "    </tr>\n",
       "    <tr>\n",
       "      <th>1VAU</th>\n",
       "      <td>0.918274</td>\n",
       "      <td>0.038992</td>\n",
       "      <td>0.023459</td>\n",
       "      <td>0.003201</td>\n",
       "      <td>0.007691</td>\n",
       "    </tr>\n",
       "    <tr>\n",
       "      <th>1DAM</th>\n",
       "      <td>0.706524</td>\n",
       "      <td>0.000639</td>\n",
       "      <td>0.021915</td>\n",
       "      <td>0.000563</td>\n",
       "      <td>0.187198</td>\n",
       "    </tr>\n",
       "    <tr>\n",
       "      <th>2BOU</th>\n",
       "      <td>0.200217</td>\n",
       "      <td>0.056320</td>\n",
       "      <td>0.107712</td>\n",
       "      <td>0.081381</td>\n",
       "      <td>0.213900</td>\n",
       "    </tr>\n",
       "  </tbody>\n",
       "</table>\n",
       "</div>"
      ],
      "text/plain": [
       "         Dim.1     Dim.2     Dim.3     Dim.4     Dim.5\n",
       "2EL   0.028305  0.474156  0.001671  0.051743  0.053403\n",
       "1CHA  0.510143  0.396843  0.020793  0.000599  0.001841\n",
       "1FON  0.322184  0.001644  0.171257  0.313355  0.007403\n",
       "1VAU  0.918274  0.038992  0.023459  0.003201  0.007691\n",
       "1DAM  0.706524  0.000639  0.021915  0.000563  0.187198\n",
       "2BOU  0.200217  0.056320  0.107712  0.081381  0.213900"
      ]
     },
     "execution_count": 8,
     "metadata": {},
     "output_type": "execute_result"
    }
   ],
   "source": [
    "ind[\"cos2\"].head(6)"
   ]
  },
  {
   "cell_type": "markdown",
   "metadata": {},
   "source": [
    "### Individuals contributions"
   ]
  },
  {
   "cell_type": "code",
   "execution_count": 9,
   "metadata": {},
   "outputs": [
    {
     "data": {
      "text/html": [
       "<div>\n",
       "<style scoped>\n",
       "    .dataframe tbody tr th:only-of-type {\n",
       "        vertical-align: middle;\n",
       "    }\n",
       "\n",
       "    .dataframe tbody tr th {\n",
       "        vertical-align: top;\n",
       "    }\n",
       "\n",
       "    .dataframe thead th {\n",
       "        text-align: right;\n",
       "    }\n",
       "</style>\n",
       "<table border=\"1\" class=\"dataframe\">\n",
       "  <thead>\n",
       "    <tr style=\"text-align: right;\">\n",
       "      <th></th>\n",
       "      <th>Dim.1</th>\n",
       "      <th>Dim.2</th>\n",
       "      <th>Dim.3</th>\n",
       "      <th>Dim.4</th>\n",
       "      <th>Dim.5</th>\n",
       "    </tr>\n",
       "  </thead>\n",
       "  <tbody>\n",
       "    <tr>\n",
       "      <th>2EL</th>\n",
       "      <td>0.219749</td>\n",
       "      <td>18.482624</td>\n",
       "      <td>0.083467</td>\n",
       "      <td>3.437589</td>\n",
       "      <td>3.957701</td>\n",
       "    </tr>\n",
       "    <tr>\n",
       "      <th>1CHA</th>\n",
       "      <td>10.432346</td>\n",
       "      <td>40.746751</td>\n",
       "      <td>2.735182</td>\n",
       "      <td>0.104903</td>\n",
       "      <td>0.359389</td>\n",
       "    </tr>\n",
       "    <tr>\n",
       "      <th>1FON</th>\n",
       "      <td>3.004081</td>\n",
       "      <td>0.076964</td>\n",
       "      <td>10.271679</td>\n",
       "      <td>25.002900</td>\n",
       "      <td>0.658931</td>\n",
       "    </tr>\n",
       "    <tr>\n",
       "      <th>1VAU</th>\n",
       "      <td>50.650156</td>\n",
       "      <td>10.798693</td>\n",
       "      <td>8.323352</td>\n",
       "      <td>1.510749</td>\n",
       "      <td>4.049606</td>\n",
       "    </tr>\n",
       "    <tr>\n",
       "      <th>1DAM</th>\n",
       "      <td>10.886025</td>\n",
       "      <td>0.049452</td>\n",
       "      <td>2.172030</td>\n",
       "      <td>0.074210</td>\n",
       "      <td>27.533558</td>\n",
       "    </tr>\n",
       "    <tr>\n",
       "      <th>2BOU</th>\n",
       "      <td>1.379880</td>\n",
       "      <td>1.948886</td>\n",
       "      <td>4.775147</td>\n",
       "      <td>4.799655</td>\n",
       "      <td>14.072433</td>\n",
       "    </tr>\n",
       "  </tbody>\n",
       "</table>\n",
       "</div>"
      ],
      "text/plain": [
       "          Dim.1      Dim.2      Dim.3      Dim.4      Dim.5\n",
       "2EL    0.219749  18.482624   0.083467   3.437589   3.957701\n",
       "1CHA  10.432346  40.746751   2.735182   0.104903   0.359389\n",
       "1FON   3.004081   0.076964  10.271679  25.002900   0.658931\n",
       "1VAU  50.650156  10.798693   8.323352   1.510749   4.049606\n",
       "1DAM  10.886025   0.049452   2.172030   0.074210  27.533558\n",
       "2BOU   1.379880   1.948886   4.775147   4.799655  14.072433"
      ]
     },
     "execution_count": 9,
     "metadata": {},
     "output_type": "execute_result"
    }
   ],
   "source": [
    "ind[\"contrib\"].head(6)"
   ]
  },
  {
   "cell_type": "markdown",
   "metadata": {},
   "source": [
    "### Individuals additionals informations"
   ]
  },
  {
   "cell_type": "code",
   "execution_count": 10,
   "metadata": {},
   "outputs": [
    {
     "data": {
      "text/html": [
       "<div>\n",
       "<style scoped>\n",
       "    .dataframe tbody tr th:only-of-type {\n",
       "        vertical-align: middle;\n",
       "    }\n",
       "\n",
       "    .dataframe tbody tr th {\n",
       "        vertical-align: top;\n",
       "    }\n",
       "\n",
       "    .dataframe thead th {\n",
       "        text-align: right;\n",
       "    }\n",
       "</style>\n",
       "<table border=\"1\" class=\"dataframe\">\n",
       "  <thead>\n",
       "    <tr style=\"text-align: right;\">\n",
       "      <th></th>\n",
       "      <th>Weight</th>\n",
       "      <th>Sq. Dist.</th>\n",
       "      <th>Inertia</th>\n",
       "    </tr>\n",
       "  </thead>\n",
       "  <tbody>\n",
       "    <tr>\n",
       "      <th>2EL</th>\n",
       "      <td>0.066667</td>\n",
       "      <td>17.166137</td>\n",
       "      <td>1.144409</td>\n",
       "    </tr>\n",
       "    <tr>\n",
       "      <th>1CHA</th>\n",
       "      <td>0.066667</td>\n",
       "      <td>45.217259</td>\n",
       "      <td>3.014484</td>\n",
       "    </tr>\n",
       "    <tr>\n",
       "      <th>1FON</th>\n",
       "      <td>0.066667</td>\n",
       "      <td>20.616812</td>\n",
       "      <td>1.374454</td>\n",
       "    </tr>\n",
       "    <tr>\n",
       "      <th>1VAU</th>\n",
       "      <td>0.066667</td>\n",
       "      <td>121.961410</td>\n",
       "      <td>8.130761</td>\n",
       "    </tr>\n",
       "    <tr>\n",
       "      <th>1DAM</th>\n",
       "      <td>0.066667</td>\n",
       "      <td>34.068756</td>\n",
       "      <td>2.271250</td>\n",
       "    </tr>\n",
       "    <tr>\n",
       "      <th>2BOU</th>\n",
       "      <td>0.066667</td>\n",
       "      <td>15.238900</td>\n",
       "      <td>1.015927</td>\n",
       "    </tr>\n",
       "  </tbody>\n",
       "</table>\n",
       "</div>"
      ],
      "text/plain": [
       "        Weight   Sq. Dist.   Inertia\n",
       "2EL   0.066667   17.166137  1.144409\n",
       "1CHA  0.066667   45.217259  3.014484\n",
       "1FON  0.066667   20.616812  1.374454\n",
       "1VAU  0.066667  121.961410  8.130761\n",
       "1DAM  0.066667   34.068756  2.271250\n",
       "2BOU  0.066667   15.238900  1.015927"
      ]
     },
     "execution_count": 10,
     "metadata": {},
     "output_type": "execute_result"
    }
   ],
   "source": [
    "ind[\"infos\"].head(6)"
   ]
  },
  {
   "cell_type": "markdown",
   "metadata": {},
   "source": [
    "## Variables informations"
   ]
  },
  {
   "cell_type": "code",
   "execution_count": 11,
   "metadata": {},
   "outputs": [
    {
     "data": {
      "text/plain": [
       "dict_keys(['coord', 'cor', 'cos2', 'contrib'])"
      ]
     },
     "execution_count": 11,
     "metadata": {},
     "output_type": "execute_result"
    }
   ],
   "source": [
    "var = res_pca.var_\n",
    "var.keys()"
   ]
  },
  {
   "cell_type": "markdown",
   "metadata": {},
   "source": [
    "### Variables coordinates"
   ]
  },
  {
   "cell_type": "code",
   "execution_count": 12,
   "metadata": {},
   "outputs": [
    {
     "data": {
      "text/html": [
       "<div>\n",
       "<style scoped>\n",
       "    .dataframe tbody tr th:only-of-type {\n",
       "        vertical-align: middle;\n",
       "    }\n",
       "\n",
       "    .dataframe tbody tr th {\n",
       "        vertical-align: top;\n",
       "    }\n",
       "\n",
       "    .dataframe thead th {\n",
       "        text-align: right;\n",
       "    }\n",
       "</style>\n",
       "<table border=\"1\" class=\"dataframe\">\n",
       "  <thead>\n",
       "    <tr style=\"text-align: right;\">\n",
       "      <th></th>\n",
       "      <th>Dim.1</th>\n",
       "      <th>Dim.2</th>\n",
       "      <th>Dim.3</th>\n",
       "      <th>Dim.4</th>\n",
       "      <th>Dim.5</th>\n",
       "    </tr>\n",
       "  </thead>\n",
       "  <tbody>\n",
       "    <tr>\n",
       "      <th>Odor.Intensity.before.shaking</th>\n",
       "      <td>0.679223</td>\n",
       "      <td>-0.012884</td>\n",
       "      <td>0.405537</td>\n",
       "      <td>0.201151</td>\n",
       "      <td>0.462175</td>\n",
       "    </tr>\n",
       "    <tr>\n",
       "      <th>Aroma.quality.before.shaking</th>\n",
       "      <td>0.868898</td>\n",
       "      <td>0.087875</td>\n",
       "      <td>-0.069727</td>\n",
       "      <td>0.154189</td>\n",
       "      <td>0.274444</td>\n",
       "    </tr>\n",
       "    <tr>\n",
       "      <th>Fruity.before.shaking</th>\n",
       "      <td>0.776118</td>\n",
       "      <td>0.199555</td>\n",
       "      <td>0.028592</td>\n",
       "      <td>-0.078228</td>\n",
       "      <td>0.527464</td>\n",
       "    </tr>\n",
       "    <tr>\n",
       "      <th>Flower.before.shaking</th>\n",
       "      <td>0.338582</td>\n",
       "      <td>-0.832045</td>\n",
       "      <td>0.285172</td>\n",
       "      <td>-0.069507</td>\n",
       "      <td>0.050458</td>\n",
       "    </tr>\n",
       "    <tr>\n",
       "      <th>Spice.before.shaking</th>\n",
       "      <td>-0.077172</td>\n",
       "      <td>0.364903</td>\n",
       "      <td>0.529580</td>\n",
       "      <td>-0.607497</td>\n",
       "      <td>-0.039790</td>\n",
       "    </tr>\n",
       "    <tr>\n",
       "      <th>Visual.intensity</th>\n",
       "      <td>0.871284</td>\n",
       "      <td>0.039047</td>\n",
       "      <td>0.079073</td>\n",
       "      <td>0.106147</td>\n",
       "      <td>-0.154367</td>\n",
       "    </tr>\n",
       "  </tbody>\n",
       "</table>\n",
       "</div>"
      ],
      "text/plain": [
       "                                  Dim.1     Dim.2     Dim.3     Dim.4  \\\n",
       "Odor.Intensity.before.shaking  0.679223 -0.012884  0.405537  0.201151   \n",
       "Aroma.quality.before.shaking   0.868898  0.087875 -0.069727  0.154189   \n",
       "Fruity.before.shaking          0.776118  0.199555  0.028592 -0.078228   \n",
       "Flower.before.shaking          0.338582 -0.832045  0.285172 -0.069507   \n",
       "Spice.before.shaking          -0.077172  0.364903  0.529580 -0.607497   \n",
       "Visual.intensity               0.871284  0.039047  0.079073  0.106147   \n",
       "\n",
       "                                  Dim.5  \n",
       "Odor.Intensity.before.shaking  0.462175  \n",
       "Aroma.quality.before.shaking   0.274444  \n",
       "Fruity.before.shaking          0.527464  \n",
       "Flower.before.shaking          0.050458  \n",
       "Spice.before.shaking          -0.039790  \n",
       "Visual.intensity              -0.154367  "
      ]
     },
     "execution_count": 12,
     "metadata": {},
     "output_type": "execute_result"
    }
   ],
   "source": [
    "var[\"coord\"].head(6)"
   ]
  },
  {
   "cell_type": "markdown",
   "metadata": {},
   "source": [
    "### Variables correlations"
   ]
  },
  {
   "cell_type": "code",
   "execution_count": 13,
   "metadata": {},
   "outputs": [
    {
     "data": {
      "text/html": [
       "<div>\n",
       "<style scoped>\n",
       "    .dataframe tbody tr th:only-of-type {\n",
       "        vertical-align: middle;\n",
       "    }\n",
       "\n",
       "    .dataframe tbody tr th {\n",
       "        vertical-align: top;\n",
       "    }\n",
       "\n",
       "    .dataframe thead th {\n",
       "        text-align: right;\n",
       "    }\n",
       "</style>\n",
       "<table border=\"1\" class=\"dataframe\">\n",
       "  <thead>\n",
       "    <tr style=\"text-align: right;\">\n",
       "      <th></th>\n",
       "      <th>Dim.1</th>\n",
       "      <th>Dim.2</th>\n",
       "      <th>Dim.3</th>\n",
       "      <th>Dim.4</th>\n",
       "      <th>Dim.5</th>\n",
       "    </tr>\n",
       "  </thead>\n",
       "  <tbody>\n",
       "    <tr>\n",
       "      <th>Odor.Intensity.before.shaking</th>\n",
       "      <td>0.679223</td>\n",
       "      <td>-0.012884</td>\n",
       "      <td>0.405537</td>\n",
       "      <td>0.201151</td>\n",
       "      <td>0.462175</td>\n",
       "    </tr>\n",
       "    <tr>\n",
       "      <th>Aroma.quality.before.shaking</th>\n",
       "      <td>0.868898</td>\n",
       "      <td>0.087875</td>\n",
       "      <td>-0.069727</td>\n",
       "      <td>0.154189</td>\n",
       "      <td>0.274444</td>\n",
       "    </tr>\n",
       "    <tr>\n",
       "      <th>Fruity.before.shaking</th>\n",
       "      <td>0.776118</td>\n",
       "      <td>0.199555</td>\n",
       "      <td>0.028592</td>\n",
       "      <td>-0.078228</td>\n",
       "      <td>0.527464</td>\n",
       "    </tr>\n",
       "    <tr>\n",
       "      <th>Flower.before.shaking</th>\n",
       "      <td>0.338582</td>\n",
       "      <td>-0.832045</td>\n",
       "      <td>0.285172</td>\n",
       "      <td>-0.069507</td>\n",
       "      <td>0.050458</td>\n",
       "    </tr>\n",
       "    <tr>\n",
       "      <th>Spice.before.shaking</th>\n",
       "      <td>-0.077172</td>\n",
       "      <td>0.364903</td>\n",
       "      <td>0.529580</td>\n",
       "      <td>-0.607497</td>\n",
       "      <td>-0.039790</td>\n",
       "    </tr>\n",
       "    <tr>\n",
       "      <th>Visual.intensity</th>\n",
       "      <td>0.871284</td>\n",
       "      <td>0.039047</td>\n",
       "      <td>0.079073</td>\n",
       "      <td>0.106147</td>\n",
       "      <td>-0.154367</td>\n",
       "    </tr>\n",
       "  </tbody>\n",
       "</table>\n",
       "</div>"
      ],
      "text/plain": [
       "                                  Dim.1     Dim.2     Dim.3     Dim.4  \\\n",
       "Odor.Intensity.before.shaking  0.679223 -0.012884  0.405537  0.201151   \n",
       "Aroma.quality.before.shaking   0.868898  0.087875 -0.069727  0.154189   \n",
       "Fruity.before.shaking          0.776118  0.199555  0.028592 -0.078228   \n",
       "Flower.before.shaking          0.338582 -0.832045  0.285172 -0.069507   \n",
       "Spice.before.shaking          -0.077172  0.364903  0.529580 -0.607497   \n",
       "Visual.intensity               0.871284  0.039047  0.079073  0.106147   \n",
       "\n",
       "                                  Dim.5  \n",
       "Odor.Intensity.before.shaking  0.462175  \n",
       "Aroma.quality.before.shaking   0.274444  \n",
       "Fruity.before.shaking          0.527464  \n",
       "Flower.before.shaking          0.050458  \n",
       "Spice.before.shaking          -0.039790  \n",
       "Visual.intensity              -0.154367  "
      ]
     },
     "execution_count": 13,
     "metadata": {},
     "output_type": "execute_result"
    }
   ],
   "source": [
    "var[\"cor\"].head(6)"
   ]
  },
  {
   "cell_type": "markdown",
   "metadata": {},
   "source": [
    "### Variables Cos2"
   ]
  },
  {
   "cell_type": "code",
   "execution_count": 14,
   "metadata": {},
   "outputs": [
    {
     "data": {
      "text/html": [
       "<div>\n",
       "<style scoped>\n",
       "    .dataframe tbody tr th:only-of-type {\n",
       "        vertical-align: middle;\n",
       "    }\n",
       "\n",
       "    .dataframe tbody tr th {\n",
       "        vertical-align: top;\n",
       "    }\n",
       "\n",
       "    .dataframe thead th {\n",
       "        text-align: right;\n",
       "    }\n",
       "</style>\n",
       "<table border=\"1\" class=\"dataframe\">\n",
       "  <thead>\n",
       "    <tr style=\"text-align: right;\">\n",
       "      <th></th>\n",
       "      <th>Dim.1</th>\n",
       "      <th>Dim.2</th>\n",
       "      <th>Dim.3</th>\n",
       "      <th>Dim.4</th>\n",
       "      <th>Dim.5</th>\n",
       "    </tr>\n",
       "  </thead>\n",
       "  <tbody>\n",
       "    <tr>\n",
       "      <th>Odor.Intensity.before.shaking</th>\n",
       "      <td>0.461343</td>\n",
       "      <td>0.000166</td>\n",
       "      <td>0.164461</td>\n",
       "      <td>0.040462</td>\n",
       "      <td>0.213606</td>\n",
       "    </tr>\n",
       "    <tr>\n",
       "      <th>Aroma.quality.before.shaking</th>\n",
       "      <td>0.754984</td>\n",
       "      <td>0.007722</td>\n",
       "      <td>0.004862</td>\n",
       "      <td>0.023774</td>\n",
       "      <td>0.075319</td>\n",
       "    </tr>\n",
       "    <tr>\n",
       "      <th>Fruity.before.shaking</th>\n",
       "      <td>0.602359</td>\n",
       "      <td>0.039822</td>\n",
       "      <td>0.000817</td>\n",
       "      <td>0.006120</td>\n",
       "      <td>0.278218</td>\n",
       "    </tr>\n",
       "    <tr>\n",
       "      <th>Flower.before.shaking</th>\n",
       "      <td>0.114638</td>\n",
       "      <td>0.692298</td>\n",
       "      <td>0.081323</td>\n",
       "      <td>0.004831</td>\n",
       "      <td>0.002546</td>\n",
       "    </tr>\n",
       "    <tr>\n",
       "      <th>Spice.before.shaking</th>\n",
       "      <td>0.005955</td>\n",
       "      <td>0.133154</td>\n",
       "      <td>0.280455</td>\n",
       "      <td>0.369052</td>\n",
       "      <td>0.001583</td>\n",
       "    </tr>\n",
       "    <tr>\n",
       "      <th>Visual.intensity</th>\n",
       "      <td>0.759136</td>\n",
       "      <td>0.001525</td>\n",
       "      <td>0.006253</td>\n",
       "      <td>0.011267</td>\n",
       "      <td>0.023829</td>\n",
       "    </tr>\n",
       "  </tbody>\n",
       "</table>\n",
       "</div>"
      ],
      "text/plain": [
       "                                  Dim.1     Dim.2     Dim.3     Dim.4  \\\n",
       "Odor.Intensity.before.shaking  0.461343  0.000166  0.164461  0.040462   \n",
       "Aroma.quality.before.shaking   0.754984  0.007722  0.004862  0.023774   \n",
       "Fruity.before.shaking          0.602359  0.039822  0.000817  0.006120   \n",
       "Flower.before.shaking          0.114638  0.692298  0.081323  0.004831   \n",
       "Spice.before.shaking           0.005955  0.133154  0.280455  0.369052   \n",
       "Visual.intensity               0.759136  0.001525  0.006253  0.011267   \n",
       "\n",
       "                                  Dim.5  \n",
       "Odor.Intensity.before.shaking  0.213606  \n",
       "Aroma.quality.before.shaking   0.075319  \n",
       "Fruity.before.shaking          0.278218  \n",
       "Flower.before.shaking          0.002546  \n",
       "Spice.before.shaking           0.001583  \n",
       "Visual.intensity               0.023829  "
      ]
     },
     "execution_count": 14,
     "metadata": {},
     "output_type": "execute_result"
    }
   ],
   "source": [
    "var[\"cos2\"].head(6)"
   ]
  },
  {
   "cell_type": "markdown",
   "metadata": {},
   "source": [
    "### Variables contributions"
   ]
  },
  {
   "cell_type": "code",
   "execution_count": 15,
   "metadata": {},
   "outputs": [
    {
     "data": {
      "text/html": [
       "<div>\n",
       "<style scoped>\n",
       "    .dataframe tbody tr th:only-of-type {\n",
       "        vertical-align: middle;\n",
       "    }\n",
       "\n",
       "    .dataframe tbody tr th {\n",
       "        vertical-align: top;\n",
       "    }\n",
       "\n",
       "    .dataframe thead th {\n",
       "        text-align: right;\n",
       "    }\n",
       "</style>\n",
       "<table border=\"1\" class=\"dataframe\">\n",
       "  <thead>\n",
       "    <tr style=\"text-align: right;\">\n",
       "      <th></th>\n",
       "      <th>Dim.1</th>\n",
       "      <th>Dim.2</th>\n",
       "      <th>Dim.3</th>\n",
       "      <th>Dim.4</th>\n",
       "      <th>Dim.5</th>\n",
       "    </tr>\n",
       "  </thead>\n",
       "  <tbody>\n",
       "    <tr>\n",
       "      <th>Odor.Intensity.before.shaking</th>\n",
       "      <td>3.129693</td>\n",
       "      <td>0.005654</td>\n",
       "      <td>7.176680</td>\n",
       "      <td>2.348909</td>\n",
       "      <td>13.832774</td>\n",
       "    </tr>\n",
       "    <tr>\n",
       "      <th>Aroma.quality.before.shaking</th>\n",
       "      <td>5.121714</td>\n",
       "      <td>0.263021</td>\n",
       "      <td>0.212162</td>\n",
       "      <td>1.380158</td>\n",
       "      <td>4.877560</td>\n",
       "    </tr>\n",
       "    <tr>\n",
       "      <th>Fruity.before.shaking</th>\n",
       "      <td>4.086324</td>\n",
       "      <td>1.356395</td>\n",
       "      <td>0.035674</td>\n",
       "      <td>0.355260</td>\n",
       "      <td>18.016949</td>\n",
       "    </tr>\n",
       "    <tr>\n",
       "      <th>Flower.before.shaking</th>\n",
       "      <td>0.777686</td>\n",
       "      <td>23.580569</td>\n",
       "      <td>3.548751</td>\n",
       "      <td>0.280466</td>\n",
       "      <td>0.164874</td>\n",
       "    </tr>\n",
       "    <tr>\n",
       "      <th>Spice.before.shaking</th>\n",
       "      <td>0.040401</td>\n",
       "      <td>4.535397</td>\n",
       "      <td>12.238401</td>\n",
       "      <td>21.424500</td>\n",
       "      <td>0.102528</td>\n",
       "    </tr>\n",
       "    <tr>\n",
       "      <th>Visual.intensity</th>\n",
       "      <td>5.149878</td>\n",
       "      <td>0.051933</td>\n",
       "      <td>0.272849</td>\n",
       "      <td>0.654089</td>\n",
       "      <td>1.543132</td>\n",
       "    </tr>\n",
       "  </tbody>\n",
       "</table>\n",
       "</div>"
      ],
      "text/plain": [
       "                                  Dim.1      Dim.2      Dim.3      Dim.4  \\\n",
       "Odor.Intensity.before.shaking  3.129693   0.005654   7.176680   2.348909   \n",
       "Aroma.quality.before.shaking   5.121714   0.263021   0.212162   1.380158   \n",
       "Fruity.before.shaking          4.086324   1.356395   0.035674   0.355260   \n",
       "Flower.before.shaking          0.777686  23.580569   3.548751   0.280466   \n",
       "Spice.before.shaking           0.040401   4.535397  12.238401  21.424500   \n",
       "Visual.intensity               5.149878   0.051933   0.272849   0.654089   \n",
       "\n",
       "                                   Dim.5  \n",
       "Odor.Intensity.before.shaking  13.832774  \n",
       "Aroma.quality.before.shaking    4.877560  \n",
       "Fruity.before.shaking          18.016949  \n",
       "Flower.before.shaking           0.164874  \n",
       "Spice.before.shaking            0.102528  \n",
       "Visual.intensity                1.543132  "
      ]
     },
     "execution_count": 15,
     "metadata": {},
     "output_type": "execute_result"
    }
   ],
   "source": [
    "var[\"contrib\"].head(6)"
   ]
  },
  {
   "cell_type": "markdown",
   "metadata": {},
   "source": [
    "## Supplementary elements\n",
    "\n",
    "### Supplementary individuals"
   ]
  },
  {
   "cell_type": "code",
   "execution_count": 16,
   "metadata": {},
   "outputs": [
    {
     "data": {
      "text/plain": [
       "dict_keys(['coord', 'cos2', 'dist'])"
      ]
     },
     "execution_count": 16,
     "metadata": {},
     "output_type": "execute_result"
    }
   ],
   "source": [
    "ind_sup = res_pca.ind_sup_\n",
    "ind_sup.keys()"
   ]
  },
  {
   "cell_type": "code",
   "execution_count": 17,
   "metadata": {},
   "outputs": [
    {
     "data": {
      "text/html": [
       "<div>\n",
       "<style scoped>\n",
       "    .dataframe tbody tr th:only-of-type {\n",
       "        vertical-align: middle;\n",
       "    }\n",
       "\n",
       "    .dataframe tbody tr th {\n",
       "        vertical-align: top;\n",
       "    }\n",
       "\n",
       "    .dataframe thead th {\n",
       "        text-align: right;\n",
       "    }\n",
       "</style>\n",
       "<table border=\"1\" class=\"dataframe\">\n",
       "  <thead>\n",
       "    <tr style=\"text-align: right;\">\n",
       "      <th></th>\n",
       "      <th>Dim.1</th>\n",
       "      <th>Dim.2</th>\n",
       "      <th>Dim.3</th>\n",
       "      <th>Dim.4</th>\n",
       "      <th>Dim.5</th>\n",
       "    </tr>\n",
       "  </thead>\n",
       "  <tbody>\n",
       "    <tr>\n",
       "      <th>1BEN</th>\n",
       "      <td>-0.109211</td>\n",
       "      <td>-0.142410</td>\n",
       "      <td>-1.544286</td>\n",
       "      <td>-1.008577</td>\n",
       "      <td>1.382430</td>\n",
       "    </tr>\n",
       "    <tr>\n",
       "      <th>2BEA</th>\n",
       "      <td>2.423154</td>\n",
       "      <td>0.282408</td>\n",
       "      <td>-0.511492</td>\n",
       "      <td>1.887631</td>\n",
       "      <td>1.267912</td>\n",
       "    </tr>\n",
       "    <tr>\n",
       "      <th>1ROC</th>\n",
       "      <td>-1.398201</td>\n",
       "      <td>-0.167966</td>\n",
       "      <td>-1.193781</td>\n",
       "      <td>1.036642</td>\n",
       "      <td>0.691046</td>\n",
       "    </tr>\n",
       "    <tr>\n",
       "      <th>2ING</th>\n",
       "      <td>-11.946521</td>\n",
       "      <td>-0.369919</td>\n",
       "      <td>-2.229423</td>\n",
       "      <td>-0.704345</td>\n",
       "      <td>2.122852</td>\n",
       "    </tr>\n",
       "    <tr>\n",
       "      <th>T1</th>\n",
       "      <td>-0.608133</td>\n",
       "      <td>5.064699</td>\n",
       "      <td>4.010545</td>\n",
       "      <td>2.088732</td>\n",
       "      <td>0.358167</td>\n",
       "    </tr>\n",
       "    <tr>\n",
       "      <th>T2</th>\n",
       "      <td>-0.506660</td>\n",
       "      <td>4.497229</td>\n",
       "      <td>5.092537</td>\n",
       "      <td>0.769481</td>\n",
       "      <td>-2.659177</td>\n",
       "    </tr>\n",
       "  </tbody>\n",
       "</table>\n",
       "</div>"
      ],
      "text/plain": [
       "          Dim.1     Dim.2     Dim.3     Dim.4     Dim.5\n",
       "1BEN  -0.109211 -0.142410 -1.544286 -1.008577  1.382430\n",
       "2BEA   2.423154  0.282408 -0.511492  1.887631  1.267912\n",
       "1ROC  -1.398201 -0.167966 -1.193781  1.036642  0.691046\n",
       "2ING -11.946521 -0.369919 -2.229423 -0.704345  2.122852\n",
       "T1    -0.608133  5.064699  4.010545  2.088732  0.358167\n",
       "T2    -0.506660  4.497229  5.092537  0.769481 -2.659177"
      ]
     },
     "execution_count": 17,
     "metadata": {},
     "output_type": "execute_result"
    }
   ],
   "source": [
    "# Coordinates\n",
    "ind_sup[\"coord\"]"
   ]
  },
  {
   "cell_type": "code",
   "execution_count": 18,
   "metadata": {},
   "outputs": [
    {
     "data": {
      "text/html": [
       "<div>\n",
       "<style scoped>\n",
       "    .dataframe tbody tr th:only-of-type {\n",
       "        vertical-align: middle;\n",
       "    }\n",
       "\n",
       "    .dataframe tbody tr th {\n",
       "        vertical-align: top;\n",
       "    }\n",
       "\n",
       "    .dataframe thead th {\n",
       "        text-align: right;\n",
       "    }\n",
       "</style>\n",
       "<table border=\"1\" class=\"dataframe\">\n",
       "  <thead>\n",
       "    <tr style=\"text-align: right;\">\n",
       "      <th></th>\n",
       "      <th>Dim.1</th>\n",
       "      <th>Dim.2</th>\n",
       "      <th>Dim.3</th>\n",
       "      <th>Dim.4</th>\n",
       "      <th>Dim.5</th>\n",
       "    </tr>\n",
       "  </thead>\n",
       "  <tbody>\n",
       "    <tr>\n",
       "      <th>1BEN</th>\n",
       "      <td>0.001174</td>\n",
       "      <td>0.001997</td>\n",
       "      <td>0.234812</td>\n",
       "      <td>0.100158</td>\n",
       "      <td>0.188171</td>\n",
       "    </tr>\n",
       "    <tr>\n",
       "      <th>2BEA</th>\n",
       "      <td>0.222078</td>\n",
       "      <td>0.003016</td>\n",
       "      <td>0.009895</td>\n",
       "      <td>0.134765</td>\n",
       "      <td>0.060803</td>\n",
       "    </tr>\n",
       "    <tr>\n",
       "      <th>1ROC</th>\n",
       "      <td>0.169796</td>\n",
       "      <td>0.002450</td>\n",
       "      <td>0.123776</td>\n",
       "      <td>0.093335</td>\n",
       "      <td>0.041477</td>\n",
       "    </tr>\n",
       "    <tr>\n",
       "      <th>2ING</th>\n",
       "      <td>0.797895</td>\n",
       "      <td>0.000765</td>\n",
       "      <td>0.027787</td>\n",
       "      <td>0.002774</td>\n",
       "      <td>0.025194</td>\n",
       "    </tr>\n",
       "    <tr>\n",
       "      <th>T1</th>\n",
       "      <td>0.005002</td>\n",
       "      <td>0.346949</td>\n",
       "      <td>0.217553</td>\n",
       "      <td>0.059010</td>\n",
       "      <td>0.001735</td>\n",
       "    </tr>\n",
       "    <tr>\n",
       "      <th>T2</th>\n",
       "      <td>0.002329</td>\n",
       "      <td>0.183458</td>\n",
       "      <td>0.235243</td>\n",
       "      <td>0.005371</td>\n",
       "      <td>0.064142</td>\n",
       "    </tr>\n",
       "  </tbody>\n",
       "</table>\n",
       "</div>"
      ],
      "text/plain": [
       "         Dim.1     Dim.2     Dim.3     Dim.4     Dim.5\n",
       "1BEN  0.001174  0.001997  0.234812  0.100158  0.188171\n",
       "2BEA  0.222078  0.003016  0.009895  0.134765  0.060803\n",
       "1ROC  0.169796  0.002450  0.123776  0.093335  0.041477\n",
       "2ING  0.797895  0.000765  0.027787  0.002774  0.025194\n",
       "T1    0.005002  0.346949  0.217553  0.059010  0.001735\n",
       "T2    0.002329  0.183458  0.235243  0.005371  0.064142"
      ]
     },
     "execution_count": 18,
     "metadata": {},
     "output_type": "execute_result"
    }
   ],
   "source": [
    "# Cos2\n",
    "ind_sup[\"cos2\"]"
   ]
  },
  {
   "cell_type": "code",
   "execution_count": 19,
   "metadata": {},
   "outputs": [
    {
     "data": {
      "text/plain": [
       "1BEN     10.156274\n",
       "2BEA     26.439669\n",
       "1ROC     11.513594\n",
       "2ING    178.869874\n",
       "T1       73.933462\n",
       "T2      110.243362\n",
       "Name: Sq. Dist., dtype: float64"
      ]
     },
     "execution_count": 19,
     "metadata": {},
     "output_type": "execute_result"
    }
   ],
   "source": [
    "# Squared ddistance \n",
    "ind_sup[\"dist\"]"
   ]
  },
  {
   "cell_type": "markdown",
   "metadata": {},
   "source": [
    "### Supplementary quantitatives informations"
   ]
  },
  {
   "cell_type": "code",
   "execution_count": 20,
   "metadata": {},
   "outputs": [
    {
     "data": {
      "text/plain": [
       "dict_keys(['coord', 'cor', 'cos2'])"
      ]
     },
     "execution_count": 20,
     "metadata": {},
     "output_type": "execute_result"
    }
   ],
   "source": [
    "quanti_sup = res_pca.quanti_sup_\n",
    "quanti_sup.keys()"
   ]
  },
  {
   "cell_type": "markdown",
   "metadata": {},
   "source": [
    "#### Supplementary quantitatives coordinates"
   ]
  },
  {
   "cell_type": "code",
   "execution_count": 21,
   "metadata": {},
   "outputs": [
    {
     "data": {
      "text/html": [
       "<div>\n",
       "<style scoped>\n",
       "    .dataframe tbody tr th:only-of-type {\n",
       "        vertical-align: middle;\n",
       "    }\n",
       "\n",
       "    .dataframe tbody tr th {\n",
       "        vertical-align: top;\n",
       "    }\n",
       "\n",
       "    .dataframe thead th {\n",
       "        text-align: right;\n",
       "    }\n",
       "</style>\n",
       "<table border=\"1\" class=\"dataframe\">\n",
       "  <thead>\n",
       "    <tr style=\"text-align: right;\">\n",
       "      <th></th>\n",
       "      <th>Dim.1</th>\n",
       "      <th>Dim.2</th>\n",
       "      <th>Dim.3</th>\n",
       "      <th>Dim.4</th>\n",
       "      <th>Dim.5</th>\n",
       "    </tr>\n",
       "  </thead>\n",
       "  <tbody>\n",
       "    <tr>\n",
       "      <th>Overall.quality</th>\n",
       "      <td>0.853883</td>\n",
       "      <td>-0.177835</td>\n",
       "      <td>-0.202882</td>\n",
       "      <td>-0.188847</td>\n",
       "      <td>-0.161748</td>\n",
       "    </tr>\n",
       "    <tr>\n",
       "      <th>Typical</th>\n",
       "      <td>0.879680</td>\n",
       "      <td>-0.122414</td>\n",
       "      <td>-0.199397</td>\n",
       "      <td>0.061905</td>\n",
       "      <td>0.011944</td>\n",
       "    </tr>\n",
       "  </tbody>\n",
       "</table>\n",
       "</div>"
      ],
      "text/plain": [
       "                    Dim.1     Dim.2     Dim.3     Dim.4     Dim.5\n",
       "Overall.quality  0.853883 -0.177835 -0.202882 -0.188847 -0.161748\n",
       "Typical          0.879680 -0.122414 -0.199397  0.061905  0.011944"
      ]
     },
     "execution_count": 21,
     "metadata": {},
     "output_type": "execute_result"
    }
   ],
   "source": [
    "quanti_sup[\"coord\"].head(6)"
   ]
  },
  {
   "cell_type": "markdown",
   "metadata": {},
   "source": [
    "#### Supplementary quantitatives correlations"
   ]
  },
  {
   "cell_type": "code",
   "execution_count": 22,
   "metadata": {},
   "outputs": [
    {
     "data": {
      "text/html": [
       "<div>\n",
       "<style scoped>\n",
       "    .dataframe tbody tr th:only-of-type {\n",
       "        vertical-align: middle;\n",
       "    }\n",
       "\n",
       "    .dataframe tbody tr th {\n",
       "        vertical-align: top;\n",
       "    }\n",
       "\n",
       "    .dataframe thead th {\n",
       "        text-align: right;\n",
       "    }\n",
       "</style>\n",
       "<table border=\"1\" class=\"dataframe\">\n",
       "  <thead>\n",
       "    <tr style=\"text-align: right;\">\n",
       "      <th></th>\n",
       "      <th>Dim.1</th>\n",
       "      <th>Dim.2</th>\n",
       "      <th>Dim.3</th>\n",
       "      <th>Dim.4</th>\n",
       "      <th>Dim.5</th>\n",
       "    </tr>\n",
       "  </thead>\n",
       "  <tbody>\n",
       "    <tr>\n",
       "      <th>Overall.quality</th>\n",
       "      <td>0.853883</td>\n",
       "      <td>-0.177835</td>\n",
       "      <td>-0.202882</td>\n",
       "      <td>-0.188847</td>\n",
       "      <td>-0.161748</td>\n",
       "    </tr>\n",
       "    <tr>\n",
       "      <th>Typical</th>\n",
       "      <td>0.879680</td>\n",
       "      <td>-0.122414</td>\n",
       "      <td>-0.199397</td>\n",
       "      <td>0.061905</td>\n",
       "      <td>0.011944</td>\n",
       "    </tr>\n",
       "  </tbody>\n",
       "</table>\n",
       "</div>"
      ],
      "text/plain": [
       "                    Dim.1     Dim.2     Dim.3     Dim.4     Dim.5\n",
       "Overall.quality  0.853883 -0.177835 -0.202882 -0.188847 -0.161748\n",
       "Typical          0.879680 -0.122414 -0.199397  0.061905  0.011944"
      ]
     },
     "execution_count": 22,
     "metadata": {},
     "output_type": "execute_result"
    }
   ],
   "source": [
    "quanti_sup[\"cor\"].head(6)"
   ]
  },
  {
   "cell_type": "markdown",
   "metadata": {},
   "source": [
    "#### Supplementary quantitatives Cos2"
   ]
  },
  {
   "cell_type": "code",
   "execution_count": 23,
   "metadata": {},
   "outputs": [
    {
     "data": {
      "text/html": [
       "<div>\n",
       "<style scoped>\n",
       "    .dataframe tbody tr th:only-of-type {\n",
       "        vertical-align: middle;\n",
       "    }\n",
       "\n",
       "    .dataframe tbody tr th {\n",
       "        vertical-align: top;\n",
       "    }\n",
       "\n",
       "    .dataframe thead th {\n",
       "        text-align: right;\n",
       "    }\n",
       "</style>\n",
       "<table border=\"1\" class=\"dataframe\">\n",
       "  <thead>\n",
       "    <tr style=\"text-align: right;\">\n",
       "      <th></th>\n",
       "      <th>Dim.1</th>\n",
       "      <th>Dim.2</th>\n",
       "      <th>Dim.3</th>\n",
       "      <th>Dim.4</th>\n",
       "      <th>Dim.5</th>\n",
       "    </tr>\n",
       "  </thead>\n",
       "  <tbody>\n",
       "    <tr>\n",
       "      <th>Overall.quality</th>\n",
       "      <td>0.729115</td>\n",
       "      <td>0.031625</td>\n",
       "      <td>0.041161</td>\n",
       "      <td>0.035663</td>\n",
       "      <td>0.026162</td>\n",
       "    </tr>\n",
       "    <tr>\n",
       "      <th>Typical</th>\n",
       "      <td>0.773836</td>\n",
       "      <td>0.014985</td>\n",
       "      <td>0.039759</td>\n",
       "      <td>0.003832</td>\n",
       "      <td>0.000143</td>\n",
       "    </tr>\n",
       "  </tbody>\n",
       "</table>\n",
       "</div>"
      ],
      "text/plain": [
       "                    Dim.1     Dim.2     Dim.3     Dim.4     Dim.5\n",
       "Overall.quality  0.729115  0.031625  0.041161  0.035663  0.026162\n",
       "Typical          0.773836  0.014985  0.039759  0.003832  0.000143"
      ]
     },
     "execution_count": 23,
     "metadata": {},
     "output_type": "execute_result"
    }
   ],
   "source": [
    "quanti_sup[\"cos2\"].head(6)"
   ]
  },
  {
   "cell_type": "markdown",
   "metadata": {},
   "source": [
    "### Supplementary qualitatives informations"
   ]
  },
  {
   "cell_type": "code",
   "execution_count": 24,
   "metadata": {},
   "outputs": [
    {
     "data": {
      "text/plain": [
       "dict_keys(['coord', 'cos2', 'vtest', 'dist', 'eta2'])"
      ]
     },
     "execution_count": 24,
     "metadata": {},
     "output_type": "execute_result"
    }
   ],
   "source": [
    "quali_sup = res_pca.quali_sup_\n",
    "quali_sup.keys()"
   ]
  },
  {
   "cell_type": "markdown",
   "metadata": {},
   "source": [
    "#### Supplementary qualitatives coordinates"
   ]
  },
  {
   "cell_type": "code",
   "execution_count": 25,
   "metadata": {},
   "outputs": [
    {
     "data": {
      "text/html": [
       "<div>\n",
       "<style scoped>\n",
       "    .dataframe tbody tr th:only-of-type {\n",
       "        vertical-align: middle;\n",
       "    }\n",
       "\n",
       "    .dataframe tbody tr th {\n",
       "        vertical-align: top;\n",
       "    }\n",
       "\n",
       "    .dataframe thead th {\n",
       "        text-align: right;\n",
       "    }\n",
       "</style>\n",
       "<table border=\"1\" class=\"dataframe\">\n",
       "  <thead>\n",
       "    <tr style=\"text-align: right;\">\n",
       "      <th></th>\n",
       "      <th>Dim.1</th>\n",
       "      <th>Dim.2</th>\n",
       "      <th>Dim.3</th>\n",
       "      <th>Dim.4</th>\n",
       "      <th>Dim.5</th>\n",
       "    </tr>\n",
       "  </thead>\n",
       "  <tbody>\n",
       "    <tr>\n",
       "      <th>Bourgueuil</th>\n",
       "      <td>1.067280</td>\n",
       "      <td>0.376755</td>\n",
       "      <td>-0.718225</td>\n",
       "      <td>-1.479874</td>\n",
       "      <td>-0.346224</td>\n",
       "    </tr>\n",
       "    <tr>\n",
       "      <th>Chinon</th>\n",
       "      <td>-5.398981</td>\n",
       "      <td>1.638657</td>\n",
       "      <td>0.316559</td>\n",
       "      <td>-0.673173</td>\n",
       "      <td>0.566278</td>\n",
       "    </tr>\n",
       "    <tr>\n",
       "      <th>Saumur</th>\n",
       "      <td>0.725427</td>\n",
       "      <td>-0.531593</td>\n",
       "      <td>0.248865</td>\n",
       "      <td>0.807316</td>\n",
       "      <td>0.028038</td>\n",
       "    </tr>\n",
       "    <tr>\n",
       "      <th>Env1</th>\n",
       "      <td>-1.029053</td>\n",
       "      <td>-1.177642</td>\n",
       "      <td>0.001387</td>\n",
       "      <td>-0.436696</td>\n",
       "      <td>-0.349507</td>\n",
       "    </tr>\n",
       "    <tr>\n",
       "      <th>Env2</th>\n",
       "      <td>-2.539236</td>\n",
       "      <td>1.705166</td>\n",
       "      <td>0.194401</td>\n",
       "      <td>1.215357</td>\n",
       "      <td>0.270016</td>\n",
       "    </tr>\n",
       "    <tr>\n",
       "      <th>Reference</th>\n",
       "      <td>3.266253</td>\n",
       "      <td>0.049038</td>\n",
       "      <td>-0.157185</td>\n",
       "      <td>-0.448250</td>\n",
       "      <td>0.203396</td>\n",
       "    </tr>\n",
       "  </tbody>\n",
       "</table>\n",
       "</div>"
      ],
      "text/plain": [
       "               Dim.1     Dim.2     Dim.3     Dim.4     Dim.5\n",
       "Bourgueuil  1.067280  0.376755 -0.718225 -1.479874 -0.346224\n",
       "Chinon     -5.398981  1.638657  0.316559 -0.673173  0.566278\n",
       "Saumur      0.725427 -0.531593  0.248865  0.807316  0.028038\n",
       "Env1       -1.029053 -1.177642  0.001387 -0.436696 -0.349507\n",
       "Env2       -2.539236  1.705166  0.194401  1.215357  0.270016\n",
       "Reference   3.266253  0.049038 -0.157185 -0.448250  0.203396"
      ]
     },
     "execution_count": 25,
     "metadata": {},
     "output_type": "execute_result"
    }
   ],
   "source": [
    "quali_sup[\"coord\"]"
   ]
  },
  {
   "cell_type": "markdown",
   "metadata": {},
   "source": [
    "#### Supplementary qualitatives Cos2"
   ]
  },
  {
   "cell_type": "code",
   "execution_count": 26,
   "metadata": {},
   "outputs": [
    {
     "data": {
      "text/html": [
       "<div>\n",
       "<style scoped>\n",
       "    .dataframe tbody tr th:only-of-type {\n",
       "        vertical-align: middle;\n",
       "    }\n",
       "\n",
       "    .dataframe tbody tr th {\n",
       "        vertical-align: top;\n",
       "    }\n",
       "\n",
       "    .dataframe thead th {\n",
       "        text-align: right;\n",
       "    }\n",
       "</style>\n",
       "<table border=\"1\" class=\"dataframe\">\n",
       "  <thead>\n",
       "    <tr style=\"text-align: right;\">\n",
       "      <th></th>\n",
       "      <th>Dim.1</th>\n",
       "      <th>Dim.2</th>\n",
       "      <th>Dim.3</th>\n",
       "      <th>Dim.4</th>\n",
       "      <th>Dim.5</th>\n",
       "    </tr>\n",
       "  </thead>\n",
       "  <tbody>\n",
       "    <tr>\n",
       "      <th>Bourgueuil</th>\n",
       "      <td>0.251845</td>\n",
       "      <td>0.031383</td>\n",
       "      <td>1.140506e-01</td>\n",
       "      <td>0.484202</td>\n",
       "      <td>0.026503</td>\n",
       "    </tr>\n",
       "    <tr>\n",
       "      <th>Chinon</th>\n",
       "      <td>0.856957</td>\n",
       "      <td>0.078943</td>\n",
       "      <td>2.946074e-03</td>\n",
       "      <td>0.013323</td>\n",
       "      <td>0.009427</td>\n",
       "    </tr>\n",
       "    <tr>\n",
       "      <th>Saumur</th>\n",
       "      <td>0.331707</td>\n",
       "      <td>0.178125</td>\n",
       "      <td>3.903857e-02</td>\n",
       "      <td>0.410823</td>\n",
       "      <td>0.000496</td>\n",
       "    </tr>\n",
       "    <tr>\n",
       "      <th>Env1</th>\n",
       "      <td>0.339567</td>\n",
       "      <td>0.444709</td>\n",
       "      <td>6.168715e-07</td>\n",
       "      <td>0.061152</td>\n",
       "      <td>0.039171</td>\n",
       "    </tr>\n",
       "    <tr>\n",
       "      <th>Env2</th>\n",
       "      <td>0.579357</td>\n",
       "      <td>0.261260</td>\n",
       "      <td>3.395750e-03</td>\n",
       "      <td>0.132724</td>\n",
       "      <td>0.006551</td>\n",
       "    </tr>\n",
       "    <tr>\n",
       "      <th>Reference</th>\n",
       "      <td>0.937500</td>\n",
       "      <td>0.000211</td>\n",
       "      <td>2.171168e-03</td>\n",
       "      <td>0.017657</td>\n",
       "      <td>0.003635</td>\n",
       "    </tr>\n",
       "  </tbody>\n",
       "</table>\n",
       "</div>"
      ],
      "text/plain": [
       "               Dim.1     Dim.2         Dim.3     Dim.4     Dim.5\n",
       "Bourgueuil  0.251845  0.031383  1.140506e-01  0.484202  0.026503\n",
       "Chinon      0.856957  0.078943  2.946074e-03  0.013323  0.009427\n",
       "Saumur      0.331707  0.178125  3.903857e-02  0.410823  0.000496\n",
       "Env1        0.339567  0.444709  6.168715e-07  0.061152  0.039171\n",
       "Env2        0.579357  0.261260  3.395750e-03  0.132724  0.006551\n",
       "Reference   0.937500  0.000211  2.171168e-03  0.017657  0.003635"
      ]
     },
     "execution_count": 26,
     "metadata": {},
     "output_type": "execute_result"
    }
   ],
   "source": [
    "quali_sup[\"cos2\"]"
   ]
  },
  {
   "cell_type": "markdown",
   "metadata": {},
   "source": [
    "#### Supplementary qualitatives vtest"
   ]
  },
  {
   "cell_type": "code",
   "execution_count": 27,
   "metadata": {},
   "outputs": [
    {
     "data": {
      "text/html": [
       "<div>\n",
       "<style scoped>\n",
       "    .dataframe tbody tr th:only-of-type {\n",
       "        vertical-align: middle;\n",
       "    }\n",
       "\n",
       "    .dataframe tbody tr th {\n",
       "        vertical-align: top;\n",
       "    }\n",
       "\n",
       "    .dataframe thead th {\n",
       "        text-align: right;\n",
       "    }\n",
       "</style>\n",
       "<table border=\"1\" class=\"dataframe\">\n",
       "  <thead>\n",
       "    <tr style=\"text-align: right;\">\n",
       "      <th></th>\n",
       "      <th>Dim.1</th>\n",
       "      <th>Dim.2</th>\n",
       "      <th>Dim.3</th>\n",
       "      <th>Dim.4</th>\n",
       "      <th>Dim.5</th>\n",
       "    </tr>\n",
       "  </thead>\n",
       "  <tbody>\n",
       "    <tr>\n",
       "      <th>Bourgueuil</th>\n",
       "      <td>0.627213</td>\n",
       "      <td>0.496120</td>\n",
       "      <td>-1.070505</td>\n",
       "      <td>-2.544098</td>\n",
       "      <td>-0.628642</td>\n",
       "    </tr>\n",
       "    <tr>\n",
       "      <th>Chinon</th>\n",
       "      <td>-2.063753</td>\n",
       "      <td>1.403544</td>\n",
       "      <td>0.306897</td>\n",
       "      <td>-0.752741</td>\n",
       "      <td>0.668782</td>\n",
       "    </tr>\n",
       "    <tr>\n",
       "      <th>Saumur</th>\n",
       "      <td>0.865848</td>\n",
       "      <td>-1.421736</td>\n",
       "      <td>0.753362</td>\n",
       "      <td>2.818802</td>\n",
       "      <td>0.103396</td>\n",
       "    </tr>\n",
       "    <tr>\n",
       "      <th>Env1</th>\n",
       "      <td>-0.818832</td>\n",
       "      <td>-2.099724</td>\n",
       "      <td>0.002799</td>\n",
       "      <td>-1.016505</td>\n",
       "      <td>-0.859256</td>\n",
       "    </tr>\n",
       "    <tr>\n",
       "      <th>Env2</th>\n",
       "      <td>-1.492243</td>\n",
       "      <td>2.245406</td>\n",
       "      <td>0.289752</td>\n",
       "      <td>2.089359</td>\n",
       "      <td>0.490271</td>\n",
       "    </tr>\n",
       "    <tr>\n",
       "      <th>Reference</th>\n",
       "      <td>2.250803</td>\n",
       "      <td>0.075720</td>\n",
       "      <td>-0.274720</td>\n",
       "      <td>-0.903610</td>\n",
       "      <td>0.433051</td>\n",
       "    </tr>\n",
       "  </tbody>\n",
       "</table>\n",
       "</div>"
      ],
      "text/plain": [
       "               Dim.1     Dim.2     Dim.3     Dim.4     Dim.5\n",
       "Bourgueuil  0.627213  0.496120 -1.070505 -2.544098 -0.628642\n",
       "Chinon     -2.063753  1.403544  0.306897 -0.752741  0.668782\n",
       "Saumur      0.865848 -1.421736  0.753362  2.818802  0.103396\n",
       "Env1       -0.818832 -2.099724  0.002799 -1.016505 -0.859256\n",
       "Env2       -1.492243  2.245406  0.289752  2.089359  0.490271\n",
       "Reference   2.250803  0.075720 -0.274720 -0.903610  0.433051"
      ]
     },
     "execution_count": 27,
     "metadata": {},
     "output_type": "execute_result"
    }
   ],
   "source": [
    "quali_sup[\"vtest\"]"
   ]
  },
  {
   "cell_type": "markdown",
   "metadata": {},
   "source": [
    "#### Supplementary qualitatives dist"
   ]
  },
  {
   "cell_type": "code",
   "execution_count": 28,
   "metadata": {},
   "outputs": [
    {
     "data": {
      "text/plain": [
       "Bourgueuil     4.522962\n",
       "Chinon        34.014547\n",
       "Saumur         1.586472\n",
       "Env1           3.118536\n",
       "Env2          11.129090\n",
       "Reference     11.379634\n",
       "Name: Sq. Dist., dtype: float64"
      ]
     },
     "execution_count": 28,
     "metadata": {},
     "output_type": "execute_result"
    }
   ],
   "source": [
    "quali_sup[\"dist\"]"
   ]
  },
  {
   "cell_type": "markdown",
   "metadata": {},
   "source": [
    "#### Supplementary qualitatives eta2"
   ]
  },
  {
   "cell_type": "code",
   "execution_count": 29,
   "metadata": {},
   "outputs": [
    {
     "data": {
      "text/html": [
       "<div>\n",
       "<style scoped>\n",
       "    .dataframe tbody tr th:only-of-type {\n",
       "        vertical-align: middle;\n",
       "    }\n",
       "\n",
       "    .dataframe tbody tr th {\n",
       "        vertical-align: top;\n",
       "    }\n",
       "\n",
       "    .dataframe thead th {\n",
       "        text-align: right;\n",
       "    }\n",
       "</style>\n",
       "<table border=\"1\" class=\"dataframe\">\n",
       "  <thead>\n",
       "    <tr style=\"text-align: right;\">\n",
       "      <th></th>\n",
       "      <th>Dim.1</th>\n",
       "      <th>Dim.2</th>\n",
       "      <th>Dim.3</th>\n",
       "      <th>Dim.4</th>\n",
       "      <th>Dim.5</th>\n",
       "    </tr>\n",
       "  </thead>\n",
       "  <tbody>\n",
       "    <tr>\n",
       "      <th>Label</th>\n",
       "      <td>0.305683</td>\n",
       "      <td>0.192594</td>\n",
       "      <td>0.082074</td>\n",
       "      <td>0.601127</td>\n",
       "      <td>0.048694</td>\n",
       "    </tr>\n",
       "    <tr>\n",
       "      <th>Soil</th>\n",
       "      <td>0.386620</td>\n",
       "      <td>0.453320</td>\n",
       "      <td>0.007992</td>\n",
       "      <td>0.311830</td>\n",
       "      <td>0.053163</td>\n",
       "    </tr>\n",
       "  </tbody>\n",
       "</table>\n",
       "</div>"
      ],
      "text/plain": [
       "          Dim.1     Dim.2     Dim.3     Dim.4     Dim.5\n",
       "Label  0.305683  0.192594  0.082074  0.601127  0.048694\n",
       "Soil   0.386620  0.453320  0.007992  0.311830  0.053163"
      ]
     },
     "execution_count": 29,
     "metadata": {},
     "output_type": "execute_result"
    }
   ],
   "source": [
    "quali_sup[\"eta2\"]"
   ]
  },
  {
   "cell_type": "markdown",
   "metadata": {},
   "source": [
    "## Extractions"
   ]
  },
  {
   "cell_type": "code",
   "execution_count": 30,
   "metadata": {},
   "outputs": [],
   "source": [
    "eig = get_eig(res_pca)\n",
    "ind = get_pca(res_pca,choice=\"ind\")\n",
    "var = get_pca(res_pca,choice=\"var\")\n"
   ]
  },
  {
   "cell_type": "markdown",
   "metadata": {},
   "source": [
    "## Summary PCA"
   ]
  },
  {
   "cell_type": "code",
   "execution_count": 31,
   "metadata": {},
   "outputs": [
    {
     "name": "stdout",
     "output_type": "stream",
     "text": [
      "                     Principal Component Analysis - Results                     \n",
      "\n",
      "Eigenvalues\n",
      "                       Dim.1   Dim.2   Dim.3   Dim.4   Dim.5   Dim.6   Dim.7  \\\n",
      "Variance              14.741   2.936   2.292   1.723   1.544   1.104   0.749   \n",
      "Difference            11.805   0.644   0.569   0.178   0.440   0.355   0.112   \n",
      "% of var.             54.596  10.874   8.487   6.380   5.719   4.090   2.774   \n",
      "Cumulative % of var.  54.596  65.469  73.957  80.337  86.056  90.146  92.919   \n",
      "\n",
      "                       Dim.8   Dim.9  Dim.10  Dim.11  Dim.12  Dim.13   Dim.14  \n",
      "Variance               0.636   0.441   0.334   0.201   0.136   0.102    0.062  \n",
      "Difference             0.196   0.107   0.133   0.065   0.034   0.040      NaN  \n",
      "% of var.              2.357   1.632   1.237   0.744   0.505   0.377    0.230  \n",
      "Cumulative % of var.  95.276  96.908  98.145  98.889  99.394  99.770  100.000  \n",
      "\n",
      "Bartlett's test of sphericity\n",
      "\n",
      "                    value\n",
      "|CORR.MATRIX|   -5.647871\n",
      "statistic       23.532798\n",
      "dof            351.000000\n",
      "p-value          1.000000\n",
      "\n",
      "Individuals (the 10 first)\n",
      "\n",
      "      Weight  Sq. Dist.  Inertia   Dim.1     ctr   cos2  Dim.2     ctr   cos2  \\\n",
      "2EL    0.067     17.166    1.144  -0.697   0.220  0.028 -2.853  18.483  0.474   \n",
      "1CHA   0.067     45.217    3.014  -4.803  10.432  0.510 -4.236  40.747  0.397   \n",
      "1FON   0.067     20.617    1.374  -2.577   3.004  0.322 -0.184   0.077  0.002   \n",
      "1VAU   0.067    121.961    8.131 -10.583  50.650  0.918  2.181  10.799  0.039   \n",
      "1DAM   0.067     34.069    2.271   4.906  10.886  0.707  0.148   0.049  0.001   \n",
      "2BOU   0.067     15.239    1.016   1.747   1.380  0.200  0.926   1.949  0.056   \n",
      "1BOI   0.067     16.770    1.118   2.959   3.961  0.522  0.586   0.780  0.020   \n",
      "3EL    0.067     25.627    1.708  -0.022   0.000  0.000 -1.068   2.590  0.045   \n",
      "DOM1   0.067      9.086    0.606  -0.215   0.021  0.005  1.097   2.731  0.132   \n",
      "1TUR   0.067     27.966    1.864  -3.074   4.272  0.338  1.496   5.080  0.080   \n",
      "\n",
      "      Dim.3     ctr   cos2  \n",
      "2EL   0.169   0.083  0.002  \n",
      "1CHA -0.970   2.735  0.021  \n",
      "1FON -1.879  10.272  0.171  \n",
      "1VAU  1.691   8.323  0.023  \n",
      "1DAM  0.864   2.172  0.022  \n",
      "2BOU -1.281   4.775  0.108  \n",
      "1BOI  0.648   1.222  0.025  \n",
      "3EL   4.107  49.067  0.658  \n",
      "DOM1 -1.058   3.259  0.123  \n",
      "1TUR -2.092  12.727  0.156  \n",
      "\n",
      "Supplementary individuals\n",
      "\n",
      "      Sq. Dist.   Dim.1   cos2  Dim.2   cos2  Dim.3   cos2\n",
      "1BEN     10.156  -0.109  0.001 -0.142  0.002 -1.544  0.235\n",
      "2BEA     26.440   2.423  0.222  0.282  0.003 -0.511  0.010\n",
      "1ROC     11.514  -1.398  0.170 -0.168  0.002 -1.194  0.124\n",
      "2ING    178.870 -11.947  0.798 -0.370  0.001 -2.229  0.028\n",
      "T1       73.933  -0.608  0.005  5.065  0.347  4.011  0.218\n",
      "T2      110.243  -0.507  0.002  4.497  0.183  5.093  0.235\n",
      "\n",
      "Variables (the 10 first)\n",
      "\n",
      "                               Dim.1    ctr   cos2  Dim.2     ctr   cos2  \\\n",
      "Odor.Intensity.before.shaking  0.679  3.130  0.461 -0.013   0.006  0.000   \n",
      "Aroma.quality.before.shaking   0.869  5.122  0.755  0.088   0.263  0.008   \n",
      "Fruity.before.shaking          0.776  4.086  0.602  0.200   1.356  0.040   \n",
      "Flower.before.shaking          0.339  0.778  0.115 -0.832  23.581  0.692   \n",
      "Spice.before.shaking          -0.077  0.040  0.006  0.365   4.535  0.133   \n",
      "Visual.intensity               0.871  5.150  0.759  0.039   0.052  0.002   \n",
      "Nuance                         0.863  5.049  0.744  0.087   0.255  0.007   \n",
      "Surface.feeling                0.935  5.935  0.875  0.052   0.092  0.003   \n",
      "Odor.Intensity                 0.545  2.014  0.297 -0.219   1.635  0.048   \n",
      "Quality.of.odour               0.846  4.860  0.716  0.191   1.243  0.037   \n",
      "\n",
      "                               Dim.3     ctr   cos2  \n",
      "Odor.Intensity.before.shaking  0.406   7.177  0.164  \n",
      "Aroma.quality.before.shaking  -0.070   0.212  0.005  \n",
      "Fruity.before.shaking          0.029   0.036  0.001  \n",
      "Flower.before.shaking          0.285   3.549  0.081  \n",
      "Spice.before.shaking           0.530  12.238  0.280  \n",
      "Visual.intensity               0.079   0.273  0.006  \n",
      "Nuance                         0.024   0.025  0.001  \n",
      "Surface.feeling               -0.181   1.437  0.033  \n",
      "Odor.Intensity                 0.612  16.329  0.374  \n",
      "Quality.of.odour              -0.137   0.824  0.019  \n",
      "\n",
      "Supplementary continuous variables\n",
      "\n",
      "                 Dim.1   cos2  Dim.2   cos2  Dim.3   cos2\n",
      "Overall.quality  0.854  0.729 -0.178  0.032 -0.203  0.041\n",
      "Typical          0.880  0.774 -0.122  0.015 -0.199  0.040\n",
      "\n",
      "Supplementary categories\n",
      "\n",
      "            Sq. Dist.  Dim.1   cos2  v.test  Dim.2   cos2  v.test  Dim.3  \\\n",
      "Bourgueuil      4.523  1.067  0.252   0.627  0.377  0.031   0.496 -0.718   \n",
      "Chinon         34.015 -5.399  0.857  -2.064  1.639  0.079   1.404  0.317   \n",
      "Saumur          1.586  0.725  0.332   0.866 -0.532  0.178  -1.422  0.249   \n",
      "Env1            3.119 -1.029  0.340  -0.819 -1.178  0.445  -2.100  0.001   \n",
      "Env2           11.129 -2.539  0.579  -1.492  1.705  0.261   2.245  0.194   \n",
      "Reference      11.380  3.266  0.938   2.251  0.049  0.000   0.076 -0.157   \n",
      "\n",
      "             cos2  v.test  \n",
      "Bourgueuil  0.114  -1.071  \n",
      "Chinon      0.003   0.307  \n",
      "Saumur      0.039   0.753  \n",
      "Env1        0.000   0.003  \n",
      "Env2        0.003   0.290  \n",
      "Reference   0.002  -0.275  \n",
      "\n",
      "Supplementary categorical variable (eta2)\n",
      "\n",
      "       Dim.1  Dim.2  Dim.3\n",
      "Label  0.306  0.193  0.082\n",
      "Soil   0.387  0.453  0.008\n"
     ]
    }
   ],
   "source": [
    "summaryPCA(res_pca)"
   ]
  },
  {
   "cell_type": "code",
   "execution_count": 32,
   "metadata": {},
   "outputs": [
    {
     "name": "stdout",
     "output_type": "stream",
     "text": [
      "                     Principal Component Analysis - Results                     \n",
      "\n",
      "Eigenvalues\n",
      "|                      |   Dim.1 |   Dim.2 |   Dim.3 |   Dim.4 |   Dim.5 |   Dim.6 |   Dim.7 |   Dim.8 |   Dim.9 |   Dim.10 |   Dim.11 |   Dim.12 |   Dim.13 |   Dim.14 |\n",
      "|:---------------------|--------:|--------:|--------:|--------:|--------:|--------:|--------:|--------:|--------:|---------:|---------:|---------:|---------:|---------:|\n",
      "| Variance             |  14.741 |   2.936 |   2.292 |   1.723 |   1.544 |   1.104 |   0.749 |   0.636 |   0.441 |    0.334 |    0.201 |    0.136 |    0.102 |    0.062 |\n",
      "| Difference           |  11.805 |   0.644 |   0.569 |   0.178 |   0.44  |   0.355 |   0.112 |   0.196 |   0.107 |    0.133 |    0.065 |    0.034 |    0.04  |  nan     |\n",
      "| % of var.            |  54.596 |  10.874 |   8.487 |   6.38  |   5.719 |   4.09  |   2.774 |   2.357 |   1.632 |    1.237 |    0.744 |    0.505 |    0.377 |    0.23  |\n",
      "| Cumulative % of var. |  54.596 |  65.469 |  73.957 |  80.337 |  86.056 |  90.146 |  92.919 |  95.276 |  96.908 |   98.145 |   98.889 |   99.394 |   99.77  |  100     |\n",
      "\n",
      "Bartlett's test of sphericity\n",
      "\n",
      "|               |     value |\n",
      "|:--------------|----------:|\n",
      "| |CORR.MATRIX| |  -5.64787 |\n",
      "| statistic     |  23.5328  |\n",
      "| dof           | 351       |\n",
      "| p-value       |   1       |\n",
      "\n",
      "Individuals (the 10 first)\n",
      "\n",
      "|      |   Weight |   Sq. Dist. |   Inertia |   Dim.1 |    ctr |   cos2 |   Dim.2 |    ctr |   cos2 |   Dim.3 |    ctr |   cos2 |\n",
      "|:-----|---------:|------------:|----------:|--------:|-------:|-------:|--------:|-------:|-------:|--------:|-------:|-------:|\n",
      "| 2EL  |    0.067 |      17.166 |     1.144 |  -0.697 |  0.22  |  0.028 |  -2.853 | 18.483 |  0.474 |   0.169 |  0.083 |  0.002 |\n",
      "| 1CHA |    0.067 |      45.217 |     3.014 |  -4.803 | 10.432 |  0.51  |  -4.236 | 40.747 |  0.397 |  -0.97  |  2.735 |  0.021 |\n",
      "| 1FON |    0.067 |      20.617 |     1.374 |  -2.577 |  3.004 |  0.322 |  -0.184 |  0.077 |  0.002 |  -1.879 | 10.272 |  0.171 |\n",
      "| 1VAU |    0.067 |     121.961 |     8.131 | -10.583 | 50.65  |  0.918 |   2.181 | 10.799 |  0.039 |   1.691 |  8.323 |  0.023 |\n",
      "| 1DAM |    0.067 |      34.069 |     2.271 |   4.906 | 10.886 |  0.707 |   0.148 |  0.049 |  0.001 |   0.864 |  2.172 |  0.022 |\n",
      "| 2BOU |    0.067 |      15.239 |     1.016 |   1.747 |  1.38  |  0.2   |   0.926 |  1.949 |  0.056 |  -1.281 |  4.775 |  0.108 |\n",
      "| 1BOI |    0.067 |      16.77  |     1.118 |   2.959 |  3.961 |  0.522 |   0.586 |  0.78  |  0.02  |   0.648 |  1.222 |  0.025 |\n",
      "| 3EL  |    0.067 |      25.627 |     1.708 |  -0.022 |  0     |  0     |  -1.068 |  2.59  |  0.045 |   4.107 | 49.067 |  0.658 |\n",
      "| DOM1 |    0.067 |       9.086 |     0.606 |  -0.215 |  0.021 |  0.005 |   1.097 |  2.731 |  0.132 |  -1.058 |  3.259 |  0.123 |\n",
      "| 1TUR |    0.067 |      27.966 |     1.864 |  -3.074 |  4.272 |  0.338 |   1.496 |  5.08  |  0.08  |  -2.092 | 12.727 |  0.156 |\n",
      "\n",
      "Supplementary individuals\n",
      "\n",
      "|      |   Sq. Dist. |   Dim.1 |   cos2 |   Dim.2 |   cos2 |   Dim.3 |   cos2 |\n",
      "|:-----|------------:|--------:|-------:|--------:|-------:|--------:|-------:|\n",
      "| 1BEN |      10.156 |  -0.109 |  0.001 |  -0.142 |  0.002 |  -1.544 |  0.235 |\n",
      "| 2BEA |      26.44  |   2.423 |  0.222 |   0.282 |  0.003 |  -0.511 |  0.01  |\n",
      "| 1ROC |      11.514 |  -1.398 |  0.17  |  -0.168 |  0.002 |  -1.194 |  0.124 |\n",
      "| 2ING |     178.87  | -11.947 |  0.798 |  -0.37  |  0.001 |  -2.229 |  0.028 |\n",
      "| T1   |      73.933 |  -0.608 |  0.005 |   5.065 |  0.347 |   4.011 |  0.218 |\n",
      "| T2   |     110.243 |  -0.507 |  0.002 |   4.497 |  0.183 |   5.093 |  0.235 |\n",
      "\n",
      "Variables (the 10 first)\n",
      "\n",
      "|                               |   Dim.1 |   ctr |   cos2 |   Dim.2 |    ctr |   cos2 |   Dim.3 |    ctr |   cos2 |\n",
      "|:------------------------------|--------:|------:|-------:|--------:|-------:|-------:|--------:|-------:|-------:|\n",
      "| Odor.Intensity.before.shaking |   0.679 | 3.13  |  0.461 |  -0.013 |  0.006 |  0     |   0.406 |  7.177 |  0.164 |\n",
      "| Aroma.quality.before.shaking  |   0.869 | 5.122 |  0.755 |   0.088 |  0.263 |  0.008 |  -0.07  |  0.212 |  0.005 |\n",
      "| Fruity.before.shaking         |   0.776 | 4.086 |  0.602 |   0.2   |  1.356 |  0.04  |   0.029 |  0.036 |  0.001 |\n",
      "| Flower.before.shaking         |   0.339 | 0.778 |  0.115 |  -0.832 | 23.581 |  0.692 |   0.285 |  3.549 |  0.081 |\n",
      "| Spice.before.shaking          |  -0.077 | 0.04  |  0.006 |   0.365 |  4.535 |  0.133 |   0.53  | 12.238 |  0.28  |\n",
      "| Visual.intensity              |   0.871 | 5.15  |  0.759 |   0.039 |  0.052 |  0.002 |   0.079 |  0.273 |  0.006 |\n",
      "| Nuance                        |   0.863 | 5.049 |  0.744 |   0.087 |  0.255 |  0.007 |   0.024 |  0.025 |  0.001 |\n",
      "| Surface.feeling               |   0.935 | 5.935 |  0.875 |   0.052 |  0.092 |  0.003 |  -0.181 |  1.437 |  0.033 |\n",
      "| Odor.Intensity                |   0.545 | 2.014 |  0.297 |  -0.219 |  1.635 |  0.048 |   0.612 | 16.329 |  0.374 |\n",
      "| Quality.of.odour              |   0.846 | 4.86  |  0.716 |   0.191 |  1.243 |  0.037 |  -0.137 |  0.824 |  0.019 |\n",
      "\n",
      "Supplementary continuous variables\n",
      "\n",
      "|                 |   Dim.1 |   cos2 |   Dim.2 |   cos2 |   Dim.3 |   cos2 |\n",
      "|:----------------|--------:|-------:|--------:|-------:|--------:|-------:|\n",
      "| Overall.quality |   0.854 |  0.729 |  -0.178 |  0.032 |  -0.203 |  0.041 |\n",
      "| Typical         |   0.88  |  0.774 |  -0.122 |  0.015 |  -0.199 |  0.04  |\n",
      "\n",
      "Supplementary categories\n",
      "\n",
      "|            |   Sq. Dist. |   Dim.1 |   cos2 |   v.test |   Dim.2 |   cos2 |   v.test |   Dim.3 |   cos2 |   v.test |\n",
      "|:-----------|------------:|--------:|-------:|---------:|--------:|-------:|---------:|--------:|-------:|---------:|\n",
      "| Bourgueuil |       4.523 |   1.067 |  0.252 |    0.627 |   0.377 |  0.031 |    0.496 |  -0.718 |  0.114 |   -1.071 |\n",
      "| Chinon     |      34.015 |  -5.399 |  0.857 |   -2.064 |   1.639 |  0.079 |    1.404 |   0.317 |  0.003 |    0.307 |\n",
      "| Saumur     |       1.586 |   0.725 |  0.332 |    0.866 |  -0.532 |  0.178 |   -1.422 |   0.249 |  0.039 |    0.753 |\n",
      "| Env1       |       3.119 |  -1.029 |  0.34  |   -0.819 |  -1.178 |  0.445 |   -2.1   |   0.001 |  0     |    0.003 |\n",
      "| Env2       |      11.129 |  -2.539 |  0.579 |   -1.492 |   1.705 |  0.261 |    2.245 |   0.194 |  0.003 |    0.29  |\n",
      "| Reference  |      11.38  |   3.266 |  0.938 |    2.251 |   0.049 |  0     |    0.076 |  -0.157 |  0.002 |   -0.275 |\n",
      "\n",
      "Supplementary categorical variable (eta2)\n",
      "\n",
      "|       |   Dim.1 |   Dim.2 |   Dim.3 |\n",
      "|:------|--------:|--------:|--------:|\n",
      "| Label |   0.306 |   0.193 |   0.082 |\n",
      "| Soil  |   0.387 |   0.453 |   0.008 |\n"
     ]
    }
   ],
   "source": [
    "summaryPCA(res_pca,to_markdown=True)"
   ]
  },
  {
   "cell_type": "code",
   "execution_count": 33,
   "metadata": {},
   "outputs": [
    {
     "data": {
      "text/plain": [
       "dict_keys(['Dim.1', 'Dim.2', 'Dim.3', 'Dim.4', 'Dim.5'])"
      ]
     },
     "execution_count": 33,
     "metadata": {},
     "output_type": "execute_result"
    }
   ],
   "source": [
    "dimDesc = dimdesc(res_pca)\n",
    "dimDesc.keys()"
   ]
  },
  {
   "cell_type": "markdown",
   "metadata": {},
   "source": [
    "## Reconst"
   ]
  },
  {
   "cell_type": "code",
   "execution_count": 34,
   "metadata": {},
   "outputs": [],
   "source": [
    "from scientisttools import reconst\n",
    "X_new = reconst(res_pca,n_components=2)"
   ]
  }
 ],
 "metadata": {
  "kernelspec": {
   "display_name": "Python 3",
   "language": "python",
   "name": "python3"
  },
  "language_info": {
   "codemirror_mode": {
    "name": "ipython",
    "version": 3
   },
   "file_extension": ".py",
   "mimetype": "text/x-python",
   "name": "python",
   "nbconvert_exporter": "python",
   "pygments_lexer": "ipython3",
   "version": "3.10.5"
  }
 },
 "nbformat": 4,
 "nbformat_minor": 2
}
