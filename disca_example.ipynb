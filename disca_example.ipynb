{
 "cells": [
  {
   "attachments": {},
   "cell_type": "markdown",
   "metadata": {},
   "source": [
    "# Discriminant Correspondence Analysis (DISCA)"
   ]
  },
  {
   "cell_type": "code",
   "execution_count": null,
   "metadata": {},
   "outputs": [],
   "source": [
    "# Chargement de la base\n",
    "import numpy as np \n",
    "import pandas as pd\n",
    "import plotnine as pn\n",
    "\n",
    "D = pd.read_excel(\"./data/Data_Illustration_Livre_ADL.xlsx\",sheet_name=\"DIVAY\",header=0)\n",
    "D"
   ]
  },
  {
   "cell_type": "code",
   "execution_count": null,
   "metadata": {},
   "outputs": [],
   "source": [
    "from scientisttools.discriminant_analysis import DISCA"
   ]
  },
  {
   "cell_type": "code",
   "execution_count": null,
   "metadata": {},
   "outputs": [],
   "source": [
    "disca = DISCA(n_components=None,\n",
    "              target=[\"Region\"],\n",
    "              features_labels=list(D.columns[1:]),\n",
    "              matrix_type=\"completed\",\n",
    "              priors=None)\n",
    "\n",
    "disca.fit(D)"
   ]
  },
  {
   "cell_type": "code",
   "execution_count": null,
   "metadata": {},
   "outputs": [],
   "source": [
    "disca.statistics_test_[\"cramer's V\"]"
   ]
  }
 ],
 "metadata": {
  "kernelspec": {
   "display_name": "Python 3",
   "language": "python",
   "name": "python3"
  },
  "language_info": {
   "codemirror_mode": {
    "name": "ipython",
    "version": 3
   },
   "file_extension": ".py",
   "mimetype": "text/x-python",
   "name": "python",
   "nbconvert_exporter": "python",
   "pygments_lexer": "ipython3",
   "version": "3.10.5"
  },
  "orig_nbformat": 4
 },
 "nbformat": 4,
 "nbformat_minor": 2
}
