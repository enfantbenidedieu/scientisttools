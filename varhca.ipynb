{
 "cells": [
  {
   "attachments": {},
   "cell_type": "markdown",
   "metadata": {},
   "source": [
    "# Hierarchical Clustering Analysis of continuous variables"
   ]
  },
  {
   "cell_type": "code",
   "execution_count": 1,
   "metadata": {},
   "outputs": [
    {
     "data": {
      "text/html": [
       "<div>\n",
       "<style scoped>\n",
       "    .dataframe tbody tr th:only-of-type {\n",
       "        vertical-align: middle;\n",
       "    }\n",
       "\n",
       "    .dataframe tbody tr th {\n",
       "        vertical-align: top;\n",
       "    }\n",
       "\n",
       "    .dataframe thead th {\n",
       "        text-align: right;\n",
       "    }\n",
       "</style>\n",
       "<table border=\"1\" class=\"dataframe\">\n",
       "  <thead>\n",
       "    <tr style=\"text-align: right;\">\n",
       "      <th></th>\n",
       "      <th>Communication_Skills</th>\n",
       "      <th>Problem_Solving</th>\n",
       "      <th>Learning_Ability</th>\n",
       "      <th>Judgement_under_Pressure</th>\n",
       "      <th>Observational_Skills</th>\n",
       "      <th>Willingness_to_Confront_Problems</th>\n",
       "      <th>Interest_in_People</th>\n",
       "      <th>Interpersonal_Sensitivity</th>\n",
       "      <th>Desire_for_Self_Improvement</th>\n",
       "      <th>Appearance</th>\n",
       "      <th>Dependability</th>\n",
       "      <th>Physical_Ability</th>\n",
       "      <th>Integrity</th>\n",
       "      <th>Overall_Rating</th>\n",
       "    </tr>\n",
       "  </thead>\n",
       "  <tbody>\n",
       "    <tr>\n",
       "      <th>0</th>\n",
       "      <td>2</td>\n",
       "      <td>6</td>\n",
       "      <td>8</td>\n",
       "      <td>3</td>\n",
       "      <td>8</td>\n",
       "      <td>8</td>\n",
       "      <td>5</td>\n",
       "      <td>3</td>\n",
       "      <td>8</td>\n",
       "      <td>7</td>\n",
       "      <td>9</td>\n",
       "      <td>8</td>\n",
       "      <td>6</td>\n",
       "      <td>7</td>\n",
       "    </tr>\n",
       "    <tr>\n",
       "      <th>1</th>\n",
       "      <td>7</td>\n",
       "      <td>4</td>\n",
       "      <td>7</td>\n",
       "      <td>5</td>\n",
       "      <td>8</td>\n",
       "      <td>8</td>\n",
       "      <td>7</td>\n",
       "      <td>6</td>\n",
       "      <td>8</td>\n",
       "      <td>5</td>\n",
       "      <td>7</td>\n",
       "      <td>6</td>\n",
       "      <td>6</td>\n",
       "      <td>7</td>\n",
       "    </tr>\n",
       "    <tr>\n",
       "      <th>2</th>\n",
       "      <td>5</td>\n",
       "      <td>6</td>\n",
       "      <td>7</td>\n",
       "      <td>5</td>\n",
       "      <td>7</td>\n",
       "      <td>8</td>\n",
       "      <td>6</td>\n",
       "      <td>3</td>\n",
       "      <td>7</td>\n",
       "      <td>7</td>\n",
       "      <td>5</td>\n",
       "      <td>8</td>\n",
       "      <td>7</td>\n",
       "      <td>5</td>\n",
       "    </tr>\n",
       "    <tr>\n",
       "      <th>3</th>\n",
       "      <td>6</td>\n",
       "      <td>7</td>\n",
       "      <td>8</td>\n",
       "      <td>6</td>\n",
       "      <td>9</td>\n",
       "      <td>7</td>\n",
       "      <td>7</td>\n",
       "      <td>7</td>\n",
       "      <td>9</td>\n",
       "      <td>8</td>\n",
       "      <td>8</td>\n",
       "      <td>9</td>\n",
       "      <td>9</td>\n",
       "      <td>7</td>\n",
       "    </tr>\n",
       "    <tr>\n",
       "      <th>4</th>\n",
       "      <td>9</td>\n",
       "      <td>9</td>\n",
       "      <td>9</td>\n",
       "      <td>9</td>\n",
       "      <td>7</td>\n",
       "      <td>7</td>\n",
       "      <td>9</td>\n",
       "      <td>8</td>\n",
       "      <td>8</td>\n",
       "      <td>7</td>\n",
       "      <td>8</td>\n",
       "      <td>8</td>\n",
       "      <td>8</td>\n",
       "      <td>8</td>\n",
       "    </tr>\n",
       "  </tbody>\n",
       "</table>\n",
       "</div>"
      ],
      "text/plain": [
       "   Communication_Skills  Problem_Solving  Learning_Ability  \\\n",
       "0                     2                6                 8   \n",
       "1                     7                4                 7   \n",
       "2                     5                6                 7   \n",
       "3                     6                7                 8   \n",
       "4                     9                9                 9   \n",
       "\n",
       "   Judgement_under_Pressure  Observational_Skills  \\\n",
       "0                         3                     8   \n",
       "1                         5                     8   \n",
       "2                         5                     7   \n",
       "3                         6                     9   \n",
       "4                         9                     7   \n",
       "\n",
       "   Willingness_to_Confront_Problems  Interest_in_People  \\\n",
       "0                                 8                   5   \n",
       "1                                 8                   7   \n",
       "2                                 8                   6   \n",
       "3                                 7                   7   \n",
       "4                                 7                   9   \n",
       "\n",
       "   Interpersonal_Sensitivity  Desire_for_Self_Improvement  Appearance  \\\n",
       "0                          3                            8           7   \n",
       "1                          6                            8           5   \n",
       "2                          3                            7           7   \n",
       "3                          7                            9           8   \n",
       "4                          8                            8           7   \n",
       "\n",
       "   Dependability  Physical_Ability  Integrity  Overall_Rating  \n",
       "0              9                 8          6               7  \n",
       "1              7                 6          6               7  \n",
       "2              5                 8          7               5  \n",
       "3              8                 9          9               7  \n",
       "4              8                 8          8               8  "
      ]
     },
     "execution_count": 1,
     "metadata": {},
     "output_type": "execute_result"
    }
   ],
   "source": [
    "\n",
    "import os\n",
    "os.chdir(\"d:/Bureau/PythonProject/packages/scientisttools/data/\")\n",
    "import pandas as pd\n",
    "df = pd.read_excel(\"jobrate.xlsx\")\n",
    "df.head()"
   ]
  },
  {
   "cell_type": "code",
   "execution_count": 2,
   "metadata": {},
   "outputs": [
    {
     "name": "stdout",
     "output_type": "stream",
     "text": [
      "<class 'pandas.core.frame.DataFrame'>\n",
      "RangeIndex: 103 entries, 0 to 102\n",
      "Data columns (total 14 columns):\n",
      " #   Column                            Non-Null Count  Dtype\n",
      "---  ------                            --------------  -----\n",
      " 0   Communication_Skills              103 non-null    int64\n",
      " 1   Problem_Solving                   103 non-null    int64\n",
      " 2   Learning_Ability                  103 non-null    int64\n",
      " 3   Judgement_under_Pressure          103 non-null    int64\n",
      " 4   Observational_Skills              103 non-null    int64\n",
      " 5   Willingness_to_Confront_Problems  103 non-null    int64\n",
      " 6   Interest_in_People                103 non-null    int64\n",
      " 7   Interpersonal_Sensitivity         103 non-null    int64\n",
      " 8   Desire_for_Self_Improvement       103 non-null    int64\n",
      " 9   Appearance                        103 non-null    int64\n",
      " 10  Dependability                     103 non-null    int64\n",
      " 11  Physical_Ability                  103 non-null    int64\n",
      " 12  Integrity                         103 non-null    int64\n",
      " 13  Overall_Rating                    103 non-null    int64\n",
      "dtypes: int64(14)\n",
      "memory usage: 11.4 KB\n"
     ]
    }
   ],
   "source": [
    "df.info()"
   ]
  },
  {
   "cell_type": "code",
   "execution_count": 3,
   "metadata": {},
   "outputs": [],
   "source": [
    "#variables actives\n",
    "D = df[df.columns[:-1]]"
   ]
  },
  {
   "cell_type": "code",
   "execution_count": 4,
   "metadata": {},
   "outputs": [],
   "source": [
    "from scientisttools.clustering import VARHCA"
   ]
  },
  {
   "cell_type": "code",
   "execution_count": 5,
   "metadata": {},
   "outputs": [
    {
     "data": {
      "text/html": [
       "<style>#sk-container-id-1 {color: black;background-color: white;}#sk-container-id-1 pre{padding: 0;}#sk-container-id-1 div.sk-toggleable {background-color: white;}#sk-container-id-1 label.sk-toggleable__label {cursor: pointer;display: block;width: 100%;margin-bottom: 0;padding: 0.3em;box-sizing: border-box;text-align: center;}#sk-container-id-1 label.sk-toggleable__label-arrow:before {content: \"▸\";float: left;margin-right: 0.25em;color: #696969;}#sk-container-id-1 label.sk-toggleable__label-arrow:hover:before {color: black;}#sk-container-id-1 div.sk-estimator:hover label.sk-toggleable__label-arrow:before {color: black;}#sk-container-id-1 div.sk-toggleable__content {max-height: 0;max-width: 0;overflow: hidden;text-align: left;background-color: #f0f8ff;}#sk-container-id-1 div.sk-toggleable__content pre {margin: 0.2em;color: black;border-radius: 0.25em;background-color: #f0f8ff;}#sk-container-id-1 input.sk-toggleable__control:checked~div.sk-toggleable__content {max-height: 200px;max-width: 100%;overflow: auto;}#sk-container-id-1 input.sk-toggleable__control:checked~label.sk-toggleable__label-arrow:before {content: \"▾\";}#sk-container-id-1 div.sk-estimator input.sk-toggleable__control:checked~label.sk-toggleable__label {background-color: #d4ebff;}#sk-container-id-1 div.sk-label input.sk-toggleable__control:checked~label.sk-toggleable__label {background-color: #d4ebff;}#sk-container-id-1 input.sk-hidden--visually {border: 0;clip: rect(1px 1px 1px 1px);clip: rect(1px, 1px, 1px, 1px);height: 1px;margin: -1px;overflow: hidden;padding: 0;position: absolute;width: 1px;}#sk-container-id-1 div.sk-estimator {font-family: monospace;background-color: #f0f8ff;border: 1px dotted black;border-radius: 0.25em;box-sizing: border-box;margin-bottom: 0.5em;}#sk-container-id-1 div.sk-estimator:hover {background-color: #d4ebff;}#sk-container-id-1 div.sk-parallel-item::after {content: \"\";width: 100%;border-bottom: 1px solid gray;flex-grow: 1;}#sk-container-id-1 div.sk-label:hover label.sk-toggleable__label {background-color: #d4ebff;}#sk-container-id-1 div.sk-serial::before {content: \"\";position: absolute;border-left: 1px solid gray;box-sizing: border-box;top: 0;bottom: 0;left: 50%;z-index: 0;}#sk-container-id-1 div.sk-serial {display: flex;flex-direction: column;align-items: center;background-color: white;padding-right: 0.2em;padding-left: 0.2em;position: relative;}#sk-container-id-1 div.sk-item {position: relative;z-index: 1;}#sk-container-id-1 div.sk-parallel {display: flex;align-items: stretch;justify-content: center;background-color: white;position: relative;}#sk-container-id-1 div.sk-item::before, #sk-container-id-1 div.sk-parallel-item::before {content: \"\";position: absolute;border-left: 1px solid gray;box-sizing: border-box;top: 0;bottom: 0;left: 50%;z-index: -1;}#sk-container-id-1 div.sk-parallel-item {display: flex;flex-direction: column;z-index: 1;position: relative;background-color: white;}#sk-container-id-1 div.sk-parallel-item:first-child::after {align-self: flex-end;width: 50%;}#sk-container-id-1 div.sk-parallel-item:last-child::after {align-self: flex-start;width: 50%;}#sk-container-id-1 div.sk-parallel-item:only-child::after {width: 0;}#sk-container-id-1 div.sk-dashed-wrapped {border: 1px dashed gray;margin: 0 0.4em 0.5em 0.4em;box-sizing: border-box;padding-bottom: 0.4em;background-color: white;}#sk-container-id-1 div.sk-label label {font-family: monospace;font-weight: bold;display: inline-block;line-height: 1.2em;}#sk-container-id-1 div.sk-label-container {text-align: center;}#sk-container-id-1 div.sk-container {/* jupyter's `normalize.less` sets `[hidden] { display: none; }` but bootstrap.min.css set `[hidden] { display: none !important; }` so we also need the `!important` here to be able to override the default hidden behavior on the sphinx rendered scikit-learn.org. See: https://github.com/scikit-learn/scikit-learn/issues/21755 */display: inline-block !important;position: relative;}#sk-container-id-1 div.sk-text-repr-fallback {display: none;}</style><div id=\"sk-container-id-1\" class=\"sk-top-container\"><div class=\"sk-text-repr-fallback\"><pre>VARHCA(n_clusters=4,\n",
       "       var_labels=Index([&#x27;Communication_Skills&#x27;, &#x27;Problem_Solving&#x27;, &#x27;Learning_Ability&#x27;,\n",
       "       &#x27;Judgement_under_Pressure&#x27;, &#x27;Observational_Skills&#x27;,\n",
       "       &#x27;Willingness_to_Confront_Problems&#x27;, &#x27;Interest_in_People&#x27;,\n",
       "       &#x27;Interpersonal_Sensitivity&#x27;, &#x27;Desire_for_Self_Improvement&#x27;,\n",
       "       &#x27;Appearance&#x27;, &#x27;Dependability&#x27;, &#x27;Physical_Ability&#x27;, &#x27;Integrity&#x27;],\n",
       "      dtype=&#x27;object&#x27;))</pre><b>In a Jupyter environment, please rerun this cell to show the HTML representation or trust the notebook. <br />On GitHub, the HTML representation is unable to render, please try loading this page with nbviewer.org.</b></div><div class=\"sk-container\" hidden><div class=\"sk-item\"><div class=\"sk-estimator sk-toggleable\"><input class=\"sk-toggleable__control sk-hidden--visually\" id=\"sk-estimator-id-1\" type=\"checkbox\" checked><label for=\"sk-estimator-id-1\" class=\"sk-toggleable__label sk-toggleable__label-arrow\">VARHCA</label><div class=\"sk-toggleable__content\"><pre>VARHCA(n_clusters=4,\n",
       "       var_labels=Index([&#x27;Communication_Skills&#x27;, &#x27;Problem_Solving&#x27;, &#x27;Learning_Ability&#x27;,\n",
       "       &#x27;Judgement_under_Pressure&#x27;, &#x27;Observational_Skills&#x27;,\n",
       "       &#x27;Willingness_to_Confront_Problems&#x27;, &#x27;Interest_in_People&#x27;,\n",
       "       &#x27;Interpersonal_Sensitivity&#x27;, &#x27;Desire_for_Self_Improvement&#x27;,\n",
       "       &#x27;Appearance&#x27;, &#x27;Dependability&#x27;, &#x27;Physical_Ability&#x27;, &#x27;Integrity&#x27;],\n",
       "      dtype=&#x27;object&#x27;))</pre></div></div></div></div></div>"
      ],
      "text/plain": [
       "VARHCA(n_clusters=4,\n",
       "       var_labels=Index(['Communication_Skills', 'Problem_Solving', 'Learning_Ability',\n",
       "       'Judgement_under_Pressure', 'Observational_Skills',\n",
       "       'Willingness_to_Confront_Problems', 'Interest_in_People',\n",
       "       'Interpersonal_Sensitivity', 'Desire_for_Self_Improvement',\n",
       "       'Appearance', 'Dependability', 'Physical_Ability', 'Integrity'],\n",
       "      dtype='object'))"
      ]
     },
     "execution_count": 5,
     "metadata": {},
     "output_type": "execute_result"
    }
   ],
   "source": [
    "varhca = VARHCA(n_clusters=4,\n",
    "                var_labels=D.columns,\n",
    "                matrix_type=\"completed\",\n",
    "                metric=\"euclidean\",\n",
    "                method=\"ward\",\n",
    "                parallelize=False)\n",
    "\n",
    "# Instanciation\n",
    "varhca.fit(D)"
   ]
  },
  {
   "cell_type": "code",
   "execution_count": 6,
   "metadata": {},
   "outputs": [
    {
     "data": {
      "text/plain": [
       "array([[ 6.        ,  7.        ,  0.59307603,  2.        ],\n",
       "       [ 4.        ,  5.        ,  0.68349431,  2.        ],\n",
       "       [12.        , 13.        ,  0.72571077,  3.        ],\n",
       "       [ 0.        ,  1.        ,  0.77818523,  2.        ],\n",
       "       [ 8.        , 10.        ,  0.80140227,  2.        ],\n",
       "       [ 3.        , 16.        ,  0.81925402,  3.        ],\n",
       "       [ 2.        , 17.        ,  0.85193531,  3.        ],\n",
       "       [14.        , 19.        ,  0.91093491,  5.        ],\n",
       "       [ 9.        , 11.        ,  0.92416038,  2.        ],\n",
       "       [20.        , 21.        ,  0.98022744,  7.        ],\n",
       "       [18.        , 22.        ,  1.03939101, 10.        ],\n",
       "       [15.        , 23.        ,  1.23922901, 13.        ]])"
      ]
     },
     "execution_count": 6,
     "metadata": {},
     "output_type": "execute_result"
    }
   ],
   "source": [
    "varhca.linkage_matrix_"
   ]
  },
  {
   "cell_type": "code",
   "execution_count": 7,
   "metadata": {},
   "outputs": [
    {
     "data": {
      "text/plain": [
       "array([0.59307603, 0.68349431, 0.72571077, 0.77818523, 0.80140227,\n",
       "       0.81925402, 0.85193531, 0.91093491, 0.92416038, 0.98022744,\n",
       "       1.03939101, 1.23922901])"
      ]
     },
     "execution_count": 7,
     "metadata": {},
     "output_type": "execute_result"
    }
   ],
   "source": [
    "varhca.distances_"
   ]
  },
  {
   "attachments": {},
   "cell_type": "markdown",
   "metadata": {},
   "source": [
    "# Individus supplémentaires"
   ]
  },
  {
   "cell_type": "code",
   "execution_count": 8,
   "metadata": {},
   "outputs": [
    {
     "data": {
      "text/plain": [
       "0    7\n",
       "1    7\n",
       "2    5\n",
       "3    7\n",
       "4    8\n",
       "Name: Overall_Rating, dtype: int64"
      ]
     },
     "execution_count": 8,
     "metadata": {},
     "output_type": "execute_result"
    }
   ],
   "source": [
    "Xsup = df[df.columns[-1]]\n",
    "Xsup.head()"
   ]
  },
  {
   "cell_type": "code",
   "execution_count": 9,
   "metadata": {},
   "outputs": [
    {
     "data": {
      "text/html": [
       "<div>\n",
       "<style scoped>\n",
       "    .dataframe tbody tr th:only-of-type {\n",
       "        vertical-align: middle;\n",
       "    }\n",
       "\n",
       "    .dataframe tbody tr th {\n",
       "        vertical-align: top;\n",
       "    }\n",
       "\n",
       "    .dataframe thead th {\n",
       "        text-align: right;\n",
       "    }\n",
       "</style>\n",
       "<table border=\"1\" class=\"dataframe\">\n",
       "  <thead>\n",
       "    <tr style=\"text-align: right;\">\n",
       "      <th></th>\n",
       "      <th>Overall_Rating</th>\n",
       "    </tr>\n",
       "    <tr>\n",
       "      <th>cluster</th>\n",
       "      <th></th>\n",
       "    </tr>\n",
       "  </thead>\n",
       "  <tbody>\n",
       "    <tr>\n",
       "      <th>cluster_1</th>\n",
       "      <td>0.408350</td>\n",
       "    </tr>\n",
       "    <tr>\n",
       "      <th>cluster_2</th>\n",
       "      <td>0.415382</td>\n",
       "    </tr>\n",
       "    <tr>\n",
       "      <th>cluster_3</th>\n",
       "      <td>0.386838</td>\n",
       "    </tr>\n",
       "    <tr>\n",
       "      <th>cluster_4</th>\n",
       "      <td>0.257862</td>\n",
       "    </tr>\n",
       "  </tbody>\n",
       "</table>\n",
       "</div>"
      ],
      "text/plain": [
       "           Overall_Rating\n",
       "cluster                  \n",
       "cluster_1        0.408350\n",
       "cluster_2        0.415382\n",
       "cluster_3        0.386838\n",
       "cluster_4        0.257862"
      ]
     },
     "execution_count": 9,
     "metadata": {},
     "output_type": "execute_result"
    }
   ],
   "source": [
    "varhca.transform(Xsup)"
   ]
  },
  {
   "attachments": {},
   "cell_type": "markdown",
   "metadata": {},
   "source": [
    "# Approche 2 : Matrice globale"
   ]
  },
  {
   "cell_type": "code",
   "execution_count": 10,
   "metadata": {},
   "outputs": [
    {
     "data": {
      "text/html": [
       "<style>#sk-container-id-2 {color: black;background-color: white;}#sk-container-id-2 pre{padding: 0;}#sk-container-id-2 div.sk-toggleable {background-color: white;}#sk-container-id-2 label.sk-toggleable__label {cursor: pointer;display: block;width: 100%;margin-bottom: 0;padding: 0.3em;box-sizing: border-box;text-align: center;}#sk-container-id-2 label.sk-toggleable__label-arrow:before {content: \"▸\";float: left;margin-right: 0.25em;color: #696969;}#sk-container-id-2 label.sk-toggleable__label-arrow:hover:before {color: black;}#sk-container-id-2 div.sk-estimator:hover label.sk-toggleable__label-arrow:before {color: black;}#sk-container-id-2 div.sk-toggleable__content {max-height: 0;max-width: 0;overflow: hidden;text-align: left;background-color: #f0f8ff;}#sk-container-id-2 div.sk-toggleable__content pre {margin: 0.2em;color: black;border-radius: 0.25em;background-color: #f0f8ff;}#sk-container-id-2 input.sk-toggleable__control:checked~div.sk-toggleable__content {max-height: 200px;max-width: 100%;overflow: auto;}#sk-container-id-2 input.sk-toggleable__control:checked~label.sk-toggleable__label-arrow:before {content: \"▾\";}#sk-container-id-2 div.sk-estimator input.sk-toggleable__control:checked~label.sk-toggleable__label {background-color: #d4ebff;}#sk-container-id-2 div.sk-label input.sk-toggleable__control:checked~label.sk-toggleable__label {background-color: #d4ebff;}#sk-container-id-2 input.sk-hidden--visually {border: 0;clip: rect(1px 1px 1px 1px);clip: rect(1px, 1px, 1px, 1px);height: 1px;margin: -1px;overflow: hidden;padding: 0;position: absolute;width: 1px;}#sk-container-id-2 div.sk-estimator {font-family: monospace;background-color: #f0f8ff;border: 1px dotted black;border-radius: 0.25em;box-sizing: border-box;margin-bottom: 0.5em;}#sk-container-id-2 div.sk-estimator:hover {background-color: #d4ebff;}#sk-container-id-2 div.sk-parallel-item::after {content: \"\";width: 100%;border-bottom: 1px solid gray;flex-grow: 1;}#sk-container-id-2 div.sk-label:hover label.sk-toggleable__label {background-color: #d4ebff;}#sk-container-id-2 div.sk-serial::before {content: \"\";position: absolute;border-left: 1px solid gray;box-sizing: border-box;top: 0;bottom: 0;left: 50%;z-index: 0;}#sk-container-id-2 div.sk-serial {display: flex;flex-direction: column;align-items: center;background-color: white;padding-right: 0.2em;padding-left: 0.2em;position: relative;}#sk-container-id-2 div.sk-item {position: relative;z-index: 1;}#sk-container-id-2 div.sk-parallel {display: flex;align-items: stretch;justify-content: center;background-color: white;position: relative;}#sk-container-id-2 div.sk-item::before, #sk-container-id-2 div.sk-parallel-item::before {content: \"\";position: absolute;border-left: 1px solid gray;box-sizing: border-box;top: 0;bottom: 0;left: 50%;z-index: -1;}#sk-container-id-2 div.sk-parallel-item {display: flex;flex-direction: column;z-index: 1;position: relative;background-color: white;}#sk-container-id-2 div.sk-parallel-item:first-child::after {align-self: flex-end;width: 50%;}#sk-container-id-2 div.sk-parallel-item:last-child::after {align-self: flex-start;width: 50%;}#sk-container-id-2 div.sk-parallel-item:only-child::after {width: 0;}#sk-container-id-2 div.sk-dashed-wrapped {border: 1px dashed gray;margin: 0 0.4em 0.5em 0.4em;box-sizing: border-box;padding-bottom: 0.4em;background-color: white;}#sk-container-id-2 div.sk-label label {font-family: monospace;font-weight: bold;display: inline-block;line-height: 1.2em;}#sk-container-id-2 div.sk-label-container {text-align: center;}#sk-container-id-2 div.sk-container {/* jupyter's `normalize.less` sets `[hidden] { display: none; }` but bootstrap.min.css set `[hidden] { display: none !important; }` so we also need the `!important` here to be able to override the default hidden behavior on the sphinx rendered scikit-learn.org. See: https://github.com/scikit-learn/scikit-learn/issues/21755 */display: inline-block !important;position: relative;}#sk-container-id-2 div.sk-text-repr-fallback {display: none;}</style><div id=\"sk-container-id-2\" class=\"sk-top-container\"><div class=\"sk-text-repr-fallback\"><pre>VARHCA(n_clusters=4,\n",
       "       var_labels=Index([&#x27;Communication_Skills&#x27;, &#x27;Problem_Solving&#x27;, &#x27;Learning_Ability&#x27;,\n",
       "       &#x27;Judgement_under_Pressure&#x27;, &#x27;Observational_Skills&#x27;,\n",
       "       &#x27;Willingness_to_Confront_Problems&#x27;, &#x27;Interest_in_People&#x27;,\n",
       "       &#x27;Interpersonal_Sensitivity&#x27;, &#x27;Desire_for_Self_Improvement&#x27;,\n",
       "       &#x27;Appearance&#x27;, &#x27;Dependability&#x27;, &#x27;Physical_Ability&#x27;, &#x27;Integrity&#x27;],\n",
       "      dtype=&#x27;object&#x27;),\n",
       "       var_sup_labels=[&#x27;Overall_Rating&#x27;])</pre><b>In a Jupyter environment, please rerun this cell to show the HTML representation or trust the notebook. <br />On GitHub, the HTML representation is unable to render, please try loading this page with nbviewer.org.</b></div><div class=\"sk-container\" hidden><div class=\"sk-item\"><div class=\"sk-estimator sk-toggleable\"><input class=\"sk-toggleable__control sk-hidden--visually\" id=\"sk-estimator-id-2\" type=\"checkbox\" checked><label for=\"sk-estimator-id-2\" class=\"sk-toggleable__label sk-toggleable__label-arrow\">VARHCA</label><div class=\"sk-toggleable__content\"><pre>VARHCA(n_clusters=4,\n",
       "       var_labels=Index([&#x27;Communication_Skills&#x27;, &#x27;Problem_Solving&#x27;, &#x27;Learning_Ability&#x27;,\n",
       "       &#x27;Judgement_under_Pressure&#x27;, &#x27;Observational_Skills&#x27;,\n",
       "       &#x27;Willingness_to_Confront_Problems&#x27;, &#x27;Interest_in_People&#x27;,\n",
       "       &#x27;Interpersonal_Sensitivity&#x27;, &#x27;Desire_for_Self_Improvement&#x27;,\n",
       "       &#x27;Appearance&#x27;, &#x27;Dependability&#x27;, &#x27;Physical_Ability&#x27;, &#x27;Integrity&#x27;],\n",
       "      dtype=&#x27;object&#x27;),\n",
       "       var_sup_labels=[&#x27;Overall_Rating&#x27;])</pre></div></div></div></div></div>"
      ],
      "text/plain": [
       "VARHCA(n_clusters=4,\n",
       "       var_labels=Index(['Communication_Skills', 'Problem_Solving', 'Learning_Ability',\n",
       "       'Judgement_under_Pressure', 'Observational_Skills',\n",
       "       'Willingness_to_Confront_Problems', 'Interest_in_People',\n",
       "       'Interpersonal_Sensitivity', 'Desire_for_Self_Improvement',\n",
       "       'Appearance', 'Dependability', 'Physical_Ability', 'Integrity'],\n",
       "      dtype='object'),\n",
       "       var_sup_labels=['Overall_Rating'])"
      ]
     },
     "execution_count": 10,
     "metadata": {},
     "output_type": "execute_result"
    }
   ],
   "source": [
    "varhca2 = VARHCA(n_clusters=4,\n",
    "                 var_labels=df.columns[:-1],\n",
    "                 var_sup_labels=[\"Overall_Rating\"],\n",
    "                 matrix_type=\"completed\",\n",
    "                 metric=\"euclidean\",\n",
    "                 method=\"ward\",\n",
    "                 parallelize=False)\n",
    "\n",
    "varhca2.fit(df)"
   ]
  },
  {
   "cell_type": "code",
   "execution_count": 11,
   "metadata": {},
   "outputs": [
    {
     "data": {
      "text/html": [
       "<div>\n",
       "<style scoped>\n",
       "    .dataframe tbody tr th:only-of-type {\n",
       "        vertical-align: middle;\n",
       "    }\n",
       "\n",
       "    .dataframe tbody tr th {\n",
       "        vertical-align: top;\n",
       "    }\n",
       "\n",
       "    .dataframe thead th {\n",
       "        text-align: right;\n",
       "    }\n",
       "</style>\n",
       "<table border=\"1\" class=\"dataframe\">\n",
       "  <thead>\n",
       "    <tr style=\"text-align: right;\">\n",
       "      <th></th>\n",
       "      <th>Overall_Rating</th>\n",
       "    </tr>\n",
       "    <tr>\n",
       "      <th>cluster</th>\n",
       "      <th></th>\n",
       "    </tr>\n",
       "  </thead>\n",
       "  <tbody>\n",
       "    <tr>\n",
       "      <th>cluster_1</th>\n",
       "      <td>0.408350</td>\n",
       "    </tr>\n",
       "    <tr>\n",
       "      <th>cluster_2</th>\n",
       "      <td>0.415382</td>\n",
       "    </tr>\n",
       "    <tr>\n",
       "      <th>cluster_3</th>\n",
       "      <td>0.386838</td>\n",
       "    </tr>\n",
       "    <tr>\n",
       "      <th>cluster_4</th>\n",
       "      <td>0.257862</td>\n",
       "    </tr>\n",
       "  </tbody>\n",
       "</table>\n",
       "</div>"
      ],
      "text/plain": [
       "           Overall_Rating\n",
       "cluster                  \n",
       "cluster_1        0.408350\n",
       "cluster_2        0.415382\n",
       "cluster_3        0.386838\n",
       "cluster_4        0.257862"
      ]
     },
     "execution_count": 11,
     "metadata": {},
     "output_type": "execute_result"
    }
   ],
   "source": [
    "varhca2.corr_mean_square_"
   ]
  }
 ],
 "metadata": {
  "kernelspec": {
   "display_name": "Python 3",
   "language": "python",
   "name": "python3"
  },
  "language_info": {
   "codemirror_mode": {
    "name": "ipython",
    "version": 3
   },
   "file_extension": ".py",
   "mimetype": "text/x-python",
   "name": "python",
   "nbconvert_exporter": "python",
   "pygments_lexer": "ipython3",
   "version": "3.10.5"
  },
  "orig_nbformat": 4
 },
 "nbformat": 4,
 "nbformat_minor": 2
}
