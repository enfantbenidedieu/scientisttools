{
 "cells": [
  {
   "attachments": {},
   "cell_type": "markdown",
   "metadata": {},
   "source": [
    "# CA - predictCA & supvarCA"
   ]
  },
  {
   "cell_type": "code",
   "execution_count": 1,
   "metadata": {},
   "outputs": [],
   "source": [
    "import warnings\n",
    "warnings.simplefilter(action='ignore', category=FutureWarning)\n",
    "warnings.filterwarnings(\"ignore\")"
   ]
  },
  {
   "cell_type": "code",
   "execution_count": 2,
   "metadata": {},
   "outputs": [],
   "source": [
    "# Load children dataset\n",
    "from scientisttools import load_children\n",
    "children = load_children()\n",
    "# Add qualitatives variables\n",
    "children[\"group\"] = [\"A\"]*4 + [\"B\"]*5 + [\"C\"]*5 +[\"D\"]*4"
   ]
  },
  {
   "cell_type": "code",
   "execution_count": 3,
   "metadata": {},
   "outputs": [
    {
     "name": "stdout",
     "output_type": "stream",
     "text": [
      "<class 'pandas.core.frame.DataFrame'>\n",
      "Index: 14 entries, money to work\n",
      "Data columns (total 5 columns):\n",
      " #   Column               Non-Null Count  Dtype\n",
      "---  ------               --------------  -----\n",
      " 0   unqualified          14 non-null     int32\n",
      " 1   cep                  14 non-null     int32\n",
      " 2   bepc                 14 non-null     int32\n",
      " 3   high_school_diploma  14 non-null     int32\n",
      " 4   university           14 non-null     int32\n",
      "dtypes: int32(5)\n",
      "memory usage: 392.0+ bytes\n"
     ]
    }
   ],
   "source": [
    "# Actifs elements\n",
    "actif = children.iloc[:14,:5]\n",
    "actif.info()"
   ]
  },
  {
   "cell_type": "code",
   "execution_count": 4,
   "metadata": {},
   "outputs": [
    {
     "name": "stdout",
     "output_type": "stream",
     "text": [
      "<class 'pandas.core.frame.DataFrame'>\n",
      "Index: 4 entries, comfort to to_live\n",
      "Data columns (total 5 columns):\n",
      " #   Column               Non-Null Count  Dtype\n",
      "---  ------               --------------  -----\n",
      " 0   unqualified          4 non-null      int32\n",
      " 1   cep                  4 non-null      int32\n",
      " 2   bepc                 4 non-null      int32\n",
      " 3   high_school_diploma  4 non-null      int32\n",
      " 4   university           4 non-null      int32\n",
      "dtypes: int32(5)\n",
      "memory usage: 112.0+ bytes\n"
     ]
    }
   ],
   "source": [
    "# Supplementary rows\n",
    "row_sup = children.iloc[14:,:5]\n",
    "row_sup.info()"
   ]
  },
  {
   "cell_type": "code",
   "execution_count": 5,
   "metadata": {},
   "outputs": [
    {
     "name": "stdout",
     "output_type": "stream",
     "text": [
      "<class 'pandas.core.frame.DataFrame'>\n",
      "Index: 14 entries, money to work\n",
      "Data columns (total 3 columns):\n",
      " #   Column      Non-Null Count  Dtype \n",
      "---  ------      --------------  ----- \n",
      " 0   thirty      14 non-null     object\n",
      " 1   fifty       14 non-null     object\n",
      " 2   more_fifty  14 non-null     object\n",
      "dtypes: object(3)\n",
      "memory usage: 448.0+ bytes\n"
     ]
    }
   ],
   "source": [
    "# Supplementary columns\n",
    "X_col_sup = children.iloc[:14,5:8]\n",
    "X_col_sup.info()"
   ]
  },
  {
   "cell_type": "code",
   "execution_count": 6,
   "metadata": {},
   "outputs": [
    {
     "name": "stdout",
     "output_type": "stream",
     "text": [
      "<class 'pandas.core.series.Series'>\n",
      "Index: 14 entries, money to work\n",
      "Series name: group\n",
      "Non-Null Count  Dtype \n",
      "--------------  ----- \n",
      "14 non-null     object\n",
      "dtypes: object(1)\n",
      "memory usage: 224.0+ bytes\n"
     ]
    }
   ],
   "source": [
    "X_quali_sup = children.iloc[:14,8]\n",
    "X_quali_sup.info()"
   ]
  },
  {
   "cell_type": "code",
   "execution_count": 7,
   "metadata": {},
   "outputs": [
    {
     "data": {
      "text/html": [
       "<style>#sk-container-id-1 {color: black;background-color: white;}#sk-container-id-1 pre{padding: 0;}#sk-container-id-1 div.sk-toggleable {background-color: white;}#sk-container-id-1 label.sk-toggleable__label {cursor: pointer;display: block;width: 100%;margin-bottom: 0;padding: 0.3em;box-sizing: border-box;text-align: center;}#sk-container-id-1 label.sk-toggleable__label-arrow:before {content: \"▸\";float: left;margin-right: 0.25em;color: #696969;}#sk-container-id-1 label.sk-toggleable__label-arrow:hover:before {color: black;}#sk-container-id-1 div.sk-estimator:hover label.sk-toggleable__label-arrow:before {color: black;}#sk-container-id-1 div.sk-toggleable__content {max-height: 0;max-width: 0;overflow: hidden;text-align: left;background-color: #f0f8ff;}#sk-container-id-1 div.sk-toggleable__content pre {margin: 0.2em;color: black;border-radius: 0.25em;background-color: #f0f8ff;}#sk-container-id-1 input.sk-toggleable__control:checked~div.sk-toggleable__content {max-height: 200px;max-width: 100%;overflow: auto;}#sk-container-id-1 input.sk-toggleable__control:checked~label.sk-toggleable__label-arrow:before {content: \"▾\";}#sk-container-id-1 div.sk-estimator input.sk-toggleable__control:checked~label.sk-toggleable__label {background-color: #d4ebff;}#sk-container-id-1 div.sk-label input.sk-toggleable__control:checked~label.sk-toggleable__label {background-color: #d4ebff;}#sk-container-id-1 input.sk-hidden--visually {border: 0;clip: rect(1px 1px 1px 1px);clip: rect(1px, 1px, 1px, 1px);height: 1px;margin: -1px;overflow: hidden;padding: 0;position: absolute;width: 1px;}#sk-container-id-1 div.sk-estimator {font-family: monospace;background-color: #f0f8ff;border: 1px dotted black;border-radius: 0.25em;box-sizing: border-box;margin-bottom: 0.5em;}#sk-container-id-1 div.sk-estimator:hover {background-color: #d4ebff;}#sk-container-id-1 div.sk-parallel-item::after {content: \"\";width: 100%;border-bottom: 1px solid gray;flex-grow: 1;}#sk-container-id-1 div.sk-label:hover label.sk-toggleable__label {background-color: #d4ebff;}#sk-container-id-1 div.sk-serial::before {content: \"\";position: absolute;border-left: 1px solid gray;box-sizing: border-box;top: 0;bottom: 0;left: 50%;z-index: 0;}#sk-container-id-1 div.sk-serial {display: flex;flex-direction: column;align-items: center;background-color: white;padding-right: 0.2em;padding-left: 0.2em;position: relative;}#sk-container-id-1 div.sk-item {position: relative;z-index: 1;}#sk-container-id-1 div.sk-parallel {display: flex;align-items: stretch;justify-content: center;background-color: white;position: relative;}#sk-container-id-1 div.sk-item::before, #sk-container-id-1 div.sk-parallel-item::before {content: \"\";position: absolute;border-left: 1px solid gray;box-sizing: border-box;top: 0;bottom: 0;left: 50%;z-index: -1;}#sk-container-id-1 div.sk-parallel-item {display: flex;flex-direction: column;z-index: 1;position: relative;background-color: white;}#sk-container-id-1 div.sk-parallel-item:first-child::after {align-self: flex-end;width: 50%;}#sk-container-id-1 div.sk-parallel-item:last-child::after {align-self: flex-start;width: 50%;}#sk-container-id-1 div.sk-parallel-item:only-child::after {width: 0;}#sk-container-id-1 div.sk-dashed-wrapped {border: 1px dashed gray;margin: 0 0.4em 0.5em 0.4em;box-sizing: border-box;padding-bottom: 0.4em;background-color: white;}#sk-container-id-1 div.sk-label label {font-family: monospace;font-weight: bold;display: inline-block;line-height: 1.2em;}#sk-container-id-1 div.sk-label-container {text-align: center;}#sk-container-id-1 div.sk-container {/* jupyter's `normalize.less` sets `[hidden] { display: none; }` but bootstrap.min.css set `[hidden] { display: none !important; }` so we also need the `!important` here to be able to override the default hidden behavior on the sphinx rendered scikit-learn.org. See: https://github.com/scikit-learn/scikit-learn/issues/21755 */display: inline-block !important;position: relative;}#sk-container-id-1 div.sk-text-repr-fallback {display: none;}</style><div id=\"sk-container-id-1\" class=\"sk-top-container\"><div class=\"sk-text-repr-fallback\"><pre>CA(col_sup=[5, 6, 7], n_components=None, quali_sup=8, row_sup=[14, 15, 16, 17])</pre><b>In a Jupyter environment, please rerun this cell to show the HTML representation or trust the notebook. <br />On GitHub, the HTML representation is unable to render, please try loading this page with nbviewer.org.</b></div><div class=\"sk-container\" hidden><div class=\"sk-item\"><div class=\"sk-estimator sk-toggleable\"><input class=\"sk-toggleable__control sk-hidden--visually\" id=\"sk-estimator-id-1\" type=\"checkbox\" checked><label for=\"sk-estimator-id-1\" class=\"sk-toggleable__label sk-toggleable__label-arrow\">CA</label><div class=\"sk-toggleable__content\"><pre>CA(col_sup=[5, 6, 7], n_components=None, quali_sup=8, row_sup=[14, 15, 16, 17])</pre></div></div></div></div></div>"
      ],
      "text/plain": [
       "CA(col_sup=[5, 6, 7], n_components=None, quali_sup=8, row_sup=[14, 15, 16, 17])"
      ]
     },
     "execution_count": 7,
     "metadata": {},
     "output_type": "execute_result"
    }
   ],
   "source": [
    "# Instanciation du modèle\n",
    "from scientisttools import CA\n",
    "res_ca = CA(n_components=None,row_sup=list(range(14,18)),col_sup=list(range(5,8)),quali_sup=8)\n",
    "res_ca.fit(children)"
   ]
  },
  {
   "cell_type": "code",
   "execution_count": 8,
   "metadata": {},
   "outputs": [
    {
     "data": {
      "text/html": [
       "<div>\n",
       "<style scoped>\n",
       "    .dataframe tbody tr th:only-of-type {\n",
       "        vertical-align: middle;\n",
       "    }\n",
       "\n",
       "    .dataframe tbody tr th {\n",
       "        vertical-align: top;\n",
       "    }\n",
       "\n",
       "    .dataframe thead th {\n",
       "        text-align: right;\n",
       "    }\n",
       "</style>\n",
       "<table border=\"1\" class=\"dataframe\">\n",
       "  <thead>\n",
       "    <tr style=\"text-align: right;\">\n",
       "      <th></th>\n",
       "      <th>Dim.1</th>\n",
       "      <th>Dim.2</th>\n",
       "      <th>Dim.3</th>\n",
       "      <th>Dim.4</th>\n",
       "    </tr>\n",
       "  </thead>\n",
       "  <tbody>\n",
       "    <tr>\n",
       "      <th>comfort</th>\n",
       "      <td>0.209670</td>\n",
       "      <td>0.703168</td>\n",
       "      <td>0.071112</td>\n",
       "      <td>0.307135</td>\n",
       "    </tr>\n",
       "    <tr>\n",
       "      <th>disagreement</th>\n",
       "      <td>0.146278</td>\n",
       "      <td>0.119011</td>\n",
       "      <td>0.171089</td>\n",
       "      <td>-0.313217</td>\n",
       "    </tr>\n",
       "    <tr>\n",
       "      <th>world</th>\n",
       "      <td>0.523304</td>\n",
       "      <td>0.142971</td>\n",
       "      <td>0.083993</td>\n",
       "      <td>-0.106360</td>\n",
       "    </tr>\n",
       "    <tr>\n",
       "      <th>to_live</th>\n",
       "      <td>0.308307</td>\n",
       "      <td>0.502019</td>\n",
       "      <td>0.520934</td>\n",
       "      <td>0.255736</td>\n",
       "    </tr>\n",
       "  </tbody>\n",
       "</table>\n",
       "</div>"
      ],
      "text/plain": [
       "                 Dim.1     Dim.2     Dim.3     Dim.4\n",
       "comfort       0.209670  0.703168  0.071112  0.307135\n",
       "disagreement  0.146278  0.119011  0.171089 -0.313217\n",
       "world         0.523304  0.142971  0.083993 -0.106360\n",
       "to_live       0.308307  0.502019  0.520934  0.255736"
      ]
     },
     "execution_count": 8,
     "metadata": {},
     "output_type": "execute_result"
    }
   ],
   "source": [
    "# Apply transformation\n",
    "res_ca.transform(row_sup)"
   ]
  },
  {
   "cell_type": "markdown",
   "metadata": {},
   "source": [
    "# Predict"
   ]
  },
  {
   "cell_type": "code",
   "execution_count": 9,
   "metadata": {},
   "outputs": [
    {
     "data": {
      "text/plain": [
       "dict_keys(['coord', 'cos2', 'dist'])"
      ]
     },
     "execution_count": 9,
     "metadata": {},
     "output_type": "execute_result"
    }
   ],
   "source": [
    "from scientisttools import predictCA\n",
    "predict = predictCA(res_ca, X=row_sup)\n",
    "predict.keys()"
   ]
  },
  {
   "cell_type": "code",
   "execution_count": 10,
   "metadata": {},
   "outputs": [
    {
     "data": {
      "text/html": [
       "<div>\n",
       "<style scoped>\n",
       "    .dataframe tbody tr th:only-of-type {\n",
       "        vertical-align: middle;\n",
       "    }\n",
       "\n",
       "    .dataframe tbody tr th {\n",
       "        vertical-align: top;\n",
       "    }\n",
       "\n",
       "    .dataframe thead th {\n",
       "        text-align: right;\n",
       "    }\n",
       "</style>\n",
       "<table border=\"1\" class=\"dataframe\">\n",
       "  <thead>\n",
       "    <tr style=\"text-align: right;\">\n",
       "      <th></th>\n",
       "      <th>Dim.1</th>\n",
       "      <th>Dim.2</th>\n",
       "      <th>Dim.3</th>\n",
       "      <th>Dim.4</th>\n",
       "    </tr>\n",
       "    <tr>\n",
       "      <th>rownames</th>\n",
       "      <th></th>\n",
       "      <th></th>\n",
       "      <th></th>\n",
       "      <th></th>\n",
       "    </tr>\n",
       "  </thead>\n",
       "  <tbody>\n",
       "    <tr>\n",
       "      <th>comfort</th>\n",
       "      <td>0.209670</td>\n",
       "      <td>0.703168</td>\n",
       "      <td>0.071112</td>\n",
       "      <td>0.307135</td>\n",
       "    </tr>\n",
       "    <tr>\n",
       "      <th>disagreement</th>\n",
       "      <td>0.146278</td>\n",
       "      <td>0.119011</td>\n",
       "      <td>0.171089</td>\n",
       "      <td>-0.313217</td>\n",
       "    </tr>\n",
       "    <tr>\n",
       "      <th>world</th>\n",
       "      <td>0.523304</td>\n",
       "      <td>0.142971</td>\n",
       "      <td>0.083993</td>\n",
       "      <td>-0.106360</td>\n",
       "    </tr>\n",
       "    <tr>\n",
       "      <th>to_live</th>\n",
       "      <td>0.308307</td>\n",
       "      <td>0.502019</td>\n",
       "      <td>0.520934</td>\n",
       "      <td>0.255736</td>\n",
       "    </tr>\n",
       "  </tbody>\n",
       "</table>\n",
       "</div>"
      ],
      "text/plain": [
       "                 Dim.1     Dim.2     Dim.3     Dim.4\n",
       "rownames                                            \n",
       "comfort       0.209670  0.703168  0.071112  0.307135\n",
       "disagreement  0.146278  0.119011  0.171089 -0.313217\n",
       "world         0.523304  0.142971  0.083993 -0.106360\n",
       "to_live       0.308307  0.502019  0.520934  0.255736"
      ]
     },
     "execution_count": 10,
     "metadata": {},
     "output_type": "execute_result"
    }
   ],
   "source": [
    "predict[\"coord\"].head(6)"
   ]
  },
  {
   "cell_type": "code",
   "execution_count": 11,
   "metadata": {},
   "outputs": [
    {
     "data": {
      "text/html": [
       "<div>\n",
       "<style scoped>\n",
       "    .dataframe tbody tr th:only-of-type {\n",
       "        vertical-align: middle;\n",
       "    }\n",
       "\n",
       "    .dataframe tbody tr th {\n",
       "        vertical-align: top;\n",
       "    }\n",
       "\n",
       "    .dataframe thead th {\n",
       "        text-align: right;\n",
       "    }\n",
       "</style>\n",
       "<table border=\"1\" class=\"dataframe\">\n",
       "  <thead>\n",
       "    <tr style=\"text-align: right;\">\n",
       "      <th></th>\n",
       "      <th>Dim.1</th>\n",
       "      <th>Dim.2</th>\n",
       "      <th>Dim.3</th>\n",
       "      <th>Dim.4</th>\n",
       "    </tr>\n",
       "    <tr>\n",
       "      <th>rownames</th>\n",
       "      <th></th>\n",
       "      <th></th>\n",
       "      <th></th>\n",
       "      <th></th>\n",
       "    </tr>\n",
       "  </thead>\n",
       "  <tbody>\n",
       "    <tr>\n",
       "      <th>comfort</th>\n",
       "      <td>0.068928</td>\n",
       "      <td>0.775240</td>\n",
       "      <td>0.007929</td>\n",
       "      <td>0.147903</td>\n",
       "    </tr>\n",
       "    <tr>\n",
       "      <th>disagreement</th>\n",
       "      <td>0.131322</td>\n",
       "      <td>0.086926</td>\n",
       "      <td>0.179649</td>\n",
       "      <td>0.602103</td>\n",
       "    </tr>\n",
       "    <tr>\n",
       "      <th>world</th>\n",
       "      <td>0.875877</td>\n",
       "      <td>0.065377</td>\n",
       "      <td>0.022564</td>\n",
       "      <td>0.036182</td>\n",
       "    </tr>\n",
       "    <tr>\n",
       "      <th>to_live</th>\n",
       "      <td>0.138997</td>\n",
       "      <td>0.368536</td>\n",
       "      <td>0.396830</td>\n",
       "      <td>0.095636</td>\n",
       "    </tr>\n",
       "  </tbody>\n",
       "</table>\n",
       "</div>"
      ],
      "text/plain": [
       "                 Dim.1     Dim.2     Dim.3     Dim.4\n",
       "rownames                                            \n",
       "comfort       0.068928  0.775240  0.007929  0.147903\n",
       "disagreement  0.131322  0.086926  0.179649  0.602103\n",
       "world         0.875877  0.065377  0.022564  0.036182\n",
       "to_live       0.138997  0.368536  0.396830  0.095636"
      ]
     },
     "execution_count": 11,
     "metadata": {},
     "output_type": "execute_result"
    }
   ],
   "source": [
    "predict[\"cos2\"].head(6)"
   ]
  },
  {
   "cell_type": "code",
   "execution_count": 12,
   "metadata": {},
   "outputs": [
    {
     "data": {
      "text/plain": [
       "rownames\n",
       "comfort         0.637796\n",
       "disagreement    0.162937\n",
       "world           0.312655\n",
       "to_live         0.683849\n",
       "Name: Sq. Dist., dtype: float64"
      ]
     },
     "execution_count": 12,
     "metadata": {},
     "output_type": "execute_result"
    }
   ],
   "source": [
    "predict[\"dist\"].head(6)"
   ]
  },
  {
   "cell_type": "code",
   "execution_count": 13,
   "metadata": {},
   "outputs": [
    {
     "data": {
      "text/plain": [
       "{'coord':                Dim.1     Dim.2     Dim.3     Dim.4\n",
       " thirty      0.105413 -0.059696 -0.103226  0.069780\n",
       " fifty      -0.017064  0.049077 -0.015689 -0.013061\n",
       " more_fifty -0.177068 -0.048138  0.100773 -0.085175,\n",
       " 'cos2':                Dim.1     Dim.2     Dim.3     Dim.4\n",
       " thirty      0.137560  0.044115  0.131911  0.060278\n",
       " fifty       0.010870  0.089903  0.009188  0.006368\n",
       " more_fifty  0.286099  0.021145  0.092667  0.066201,\n",
       " 'dist': thirty        0.080779\n",
       " fifty         0.026790\n",
       " more_fifty    0.109588\n",
       " Name: Sq. Dist., dtype: float64}"
      ]
     },
     "execution_count": 13,
     "metadata": {},
     "output_type": "execute_result"
    }
   ],
   "source": [
    "from scientisttools import supvarCA\n",
    "supvar = supvarCA(res_ca,X_col_sup=X_col_sup,X_quanti_sup=X_col_sup,X_quali_sup=X_quali_sup)\n",
    "supvar[\"col\"]"
   ]
  },
  {
   "cell_type": "code",
   "execution_count": 14,
   "metadata": {},
   "outputs": [
    {
     "data": {
      "text/plain": [
       "{'coord':                Dim.1     Dim.2     Dim.3     Dim.4\n",
       " thirty      0.121921 -0.605608 -0.253446 -0.030834\n",
       " fifty       0.016173 -0.601050 -0.247368 -0.088893\n",
       " more_fifty -0.435563 -0.511125 -0.006104 -0.212475,\n",
       " 'cos2':                Dim.1     Dim.2     Dim.3     Dim.4\n",
       " thirty      0.014865  0.366761  0.064235  0.000951\n",
       " fifty       0.000262  0.361261  0.061191  0.007902\n",
       " more_fifty  0.189715  0.261249  0.000037  0.045146}"
      ]
     },
     "execution_count": 14,
     "metadata": {},
     "output_type": "execute_result"
    }
   ],
   "source": [
    "supvar[\"quanti\"]"
   ]
  },
  {
   "cell_type": "code",
   "execution_count": 15,
   "metadata": {},
   "outputs": [
    {
     "data": {
      "text/plain": [
       "{'coord':       Dim.1     Dim.2     Dim.3     Dim.4\n",
       " A -0.021294 -0.048999  0.001423  0.002995\n",
       " B  0.004519  0.093721  0.024615  0.002073\n",
       " C  0.033353  0.025645 -0.017511 -0.006352,\n",
       " 'cos2':       Dim.1     Dim.2     Dim.3     Dim.4\n",
       " A  0.158249  0.837913  0.000707  0.003131\n",
       " B  0.002169  0.933017  0.064358  0.000456\n",
       " C  0.525452  0.310650  0.144839  0.019059,\n",
       " 'vtest':       Dim.1     Dim.2     Dim.3     Dim.4\n",
       " A -0.870975 -2.004171  0.058216  0.122506\n",
       " B  0.085968  1.782850  0.468242  0.039425\n",
       " C  0.875353  0.673057 -0.459577 -0.166714,\n",
       " 'eta2':           Dim.1     Dim.2     Dim.3     Dim.4\n",
       " group  0.016166  0.233092  0.028208  0.002816,\n",
       " 'dist': A    0.002865\n",
       " B    0.009414\n",
       " C    0.002117\n",
       " Name: Sq. Dist., dtype: float64}"
      ]
     },
     "execution_count": 15,
     "metadata": {},
     "output_type": "execute_result"
    }
   ],
   "source": [
    "supvar[\"quali\"]"
   ]
  }
 ],
 "metadata": {
  "kernelspec": {
   "display_name": "Python 3",
   "language": "python",
   "name": "python3"
  },
  "language_info": {
   "codemirror_mode": {
    "name": "ipython",
    "version": 3
   },
   "file_extension": ".py",
   "mimetype": "text/x-python",
   "name": "python",
   "nbconvert_exporter": "python",
   "pygments_lexer": "ipython3",
   "version": "3.10.5"
  },
  "orig_nbformat": 4
 },
 "nbformat": 4,
 "nbformat_minor": 2
}
