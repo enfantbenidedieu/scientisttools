{
 "cells": [
  {
   "cell_type": "markdown",
   "metadata": {},
   "source": [
    "# PCA wine"
   ]
  },
  {
   "cell_type": "code",
   "execution_count": 1,
   "metadata": {},
   "outputs": [],
   "source": [
    "import warnings\n",
    "warnings.simplefilter(action='ignore', category=FutureWarning)\n",
    "warnings.filterwarnings(\"ignore\")"
   ]
  },
  {
   "cell_type": "code",
   "execution_count": 2,
   "metadata": {},
   "outputs": [
    {
     "name": "stdout",
     "output_type": "stream",
     "text": [
      "<class 'pandas.core.frame.DataFrame'>\n",
      "Index: 21 entries, 2EL  to T2  \n",
      "Data columns (total 31 columns):\n",
      " #   Column                         Non-Null Count  Dtype  \n",
      "---  ------                         --------------  -----  \n",
      " 0   Label                          21 non-null     object \n",
      " 1   Soil                           21 non-null     object \n",
      " 2   Odor.Intensity.before.shaking  21 non-null     float64\n",
      " 3   Aroma.quality.before.shaking   21 non-null     float64\n",
      " 4   Fruity.before.shaking          21 non-null     float64\n",
      " 5   Flower.before.shaking          21 non-null     float64\n",
      " 6   Spice.before.shaking           21 non-null     float64\n",
      " 7   Visual.intensity               21 non-null     float64\n",
      " 8   Nuance                         21 non-null     float64\n",
      " 9   Surface.feeling                21 non-null     float64\n",
      " 10  Odor.Intensity                 21 non-null     float64\n",
      " 11  Quality.of.odour               21 non-null     float64\n",
      " 12  Fruity                         21 non-null     float64\n",
      " 13  Flower                         21 non-null     float64\n",
      " 14  Spice                          21 non-null     float64\n",
      " 15  Plante                         21 non-null     float64\n",
      " 16  Phenolic                       21 non-null     float64\n",
      " 17  Aroma.intensity                21 non-null     float64\n",
      " 18  Aroma.persistency              21 non-null     float64\n",
      " 19  Aroma.quality                  21 non-null     float64\n",
      " 20  Attack.intensity               21 non-null     float64\n",
      " 21  Acidity                        21 non-null     float64\n",
      " 22  Astringency                    21 non-null     float64\n",
      " 23  Alcohol                        21 non-null     float64\n",
      " 24  Balance                        21 non-null     float64\n",
      " 25  Smooth                         21 non-null     float64\n",
      " 26  Bitterness                     21 non-null     float64\n",
      " 27  Intensity                      21 non-null     float64\n",
      " 28  Harmony                        21 non-null     float64\n",
      " 29  Overall.quality                21 non-null     float64\n",
      " 30  Typical                        21 non-null     float64\n",
      "dtypes: float64(29), object(2)\n",
      "memory usage: 5.2+ KB\n"
     ]
    }
   ],
   "source": [
    "#importation des données\n",
    "import pandas as pd\n",
    "url = \"http://factominer.free.fr/factomethods/datasets/wine.txt\"\n",
    "wine = pd.read_table(url,sep=\"\\t\")\n",
    "wine.info()"
   ]
  },
  {
   "cell_type": "code",
   "execution_count": 3,
   "metadata": {},
   "outputs": [],
   "source": [
    "from scientisttools import PCA, get_eig, get_pca,summaryPCA, dimdesc"
   ]
  },
  {
   "cell_type": "code",
   "execution_count": 4,
   "metadata": {},
   "outputs": [
    {
     "data": {
      "text/html": [
       "<style>#sk-container-id-1 {color: black;background-color: white;}#sk-container-id-1 pre{padding: 0;}#sk-container-id-1 div.sk-toggleable {background-color: white;}#sk-container-id-1 label.sk-toggleable__label {cursor: pointer;display: block;width: 100%;margin-bottom: 0;padding: 0.3em;box-sizing: border-box;text-align: center;}#sk-container-id-1 label.sk-toggleable__label-arrow:before {content: \"▸\";float: left;margin-right: 0.25em;color: #696969;}#sk-container-id-1 label.sk-toggleable__label-arrow:hover:before {color: black;}#sk-container-id-1 div.sk-estimator:hover label.sk-toggleable__label-arrow:before {color: black;}#sk-container-id-1 div.sk-toggleable__content {max-height: 0;max-width: 0;overflow: hidden;text-align: left;background-color: #f0f8ff;}#sk-container-id-1 div.sk-toggleable__content pre {margin: 0.2em;color: black;border-radius: 0.25em;background-color: #f0f8ff;}#sk-container-id-1 input.sk-toggleable__control:checked~div.sk-toggleable__content {max-height: 200px;max-width: 100%;overflow: auto;}#sk-container-id-1 input.sk-toggleable__control:checked~label.sk-toggleable__label-arrow:before {content: \"▾\";}#sk-container-id-1 div.sk-estimator input.sk-toggleable__control:checked~label.sk-toggleable__label {background-color: #d4ebff;}#sk-container-id-1 div.sk-label input.sk-toggleable__control:checked~label.sk-toggleable__label {background-color: #d4ebff;}#sk-container-id-1 input.sk-hidden--visually {border: 0;clip: rect(1px 1px 1px 1px);clip: rect(1px, 1px, 1px, 1px);height: 1px;margin: -1px;overflow: hidden;padding: 0;position: absolute;width: 1px;}#sk-container-id-1 div.sk-estimator {font-family: monospace;background-color: #f0f8ff;border: 1px dotted black;border-radius: 0.25em;box-sizing: border-box;margin-bottom: 0.5em;}#sk-container-id-1 div.sk-estimator:hover {background-color: #d4ebff;}#sk-container-id-1 div.sk-parallel-item::after {content: \"\";width: 100%;border-bottom: 1px solid gray;flex-grow: 1;}#sk-container-id-1 div.sk-label:hover label.sk-toggleable__label {background-color: #d4ebff;}#sk-container-id-1 div.sk-serial::before {content: \"\";position: absolute;border-left: 1px solid gray;box-sizing: border-box;top: 0;bottom: 0;left: 50%;z-index: 0;}#sk-container-id-1 div.sk-serial {display: flex;flex-direction: column;align-items: center;background-color: white;padding-right: 0.2em;padding-left: 0.2em;position: relative;}#sk-container-id-1 div.sk-item {position: relative;z-index: 1;}#sk-container-id-1 div.sk-parallel {display: flex;align-items: stretch;justify-content: center;background-color: white;position: relative;}#sk-container-id-1 div.sk-item::before, #sk-container-id-1 div.sk-parallel-item::before {content: \"\";position: absolute;border-left: 1px solid gray;box-sizing: border-box;top: 0;bottom: 0;left: 50%;z-index: -1;}#sk-container-id-1 div.sk-parallel-item {display: flex;flex-direction: column;z-index: 1;position: relative;background-color: white;}#sk-container-id-1 div.sk-parallel-item:first-child::after {align-self: flex-end;width: 50%;}#sk-container-id-1 div.sk-parallel-item:last-child::after {align-self: flex-start;width: 50%;}#sk-container-id-1 div.sk-parallel-item:only-child::after {width: 0;}#sk-container-id-1 div.sk-dashed-wrapped {border: 1px dashed gray;margin: 0 0.4em 0.5em 0.4em;box-sizing: border-box;padding-bottom: 0.4em;background-color: white;}#sk-container-id-1 div.sk-label label {font-family: monospace;font-weight: bold;display: inline-block;line-height: 1.2em;}#sk-container-id-1 div.sk-label-container {text-align: center;}#sk-container-id-1 div.sk-container {/* jupyter's `normalize.less` sets `[hidden] { display: none; }` but bootstrap.min.css set `[hidden] { display: none !important; }` so we also need the `!important` here to be able to override the default hidden behavior on the sphinx rendered scikit-learn.org. See: https://github.com/scikit-learn/scikit-learn/issues/21755 */display: inline-block !important;position: relative;}#sk-container-id-1 div.sk-text-repr-fallback {display: none;}</style><div id=\"sk-container-id-1\" class=\"sk-top-container\"><div class=\"sk-text-repr-fallback\"><pre>PCA(parallelize=True, quali_sup=[0, 1], quanti_sup=[29, 30])</pre><b>In a Jupyter environment, please rerun this cell to show the HTML representation or trust the notebook. <br />On GitHub, the HTML representation is unable to render, please try loading this page with nbviewer.org.</b></div><div class=\"sk-container\" hidden><div class=\"sk-item\"><div class=\"sk-estimator sk-toggleable\"><input class=\"sk-toggleable__control sk-hidden--visually\" id=\"sk-estimator-id-1\" type=\"checkbox\" checked><label for=\"sk-estimator-id-1\" class=\"sk-toggleable__label sk-toggleable__label-arrow\">PCA</label><div class=\"sk-toggleable__content\"><pre>PCA(parallelize=True, quali_sup=[0, 1], quanti_sup=[29, 30])</pre></div></div></div></div></div>"
      ],
      "text/plain": [
       "PCA(parallelize=True, quali_sup=[0, 1], quanti_sup=[29, 30])"
      ]
     },
     "execution_count": 4,
     "metadata": {},
     "output_type": "execute_result"
    }
   ],
   "source": [
    "# Instanciation\n",
    "res_pca = PCA(standardize=True,n_components=5,quanti_sup=[29,30],quali_sup=[0,1],parallelize=True)\n",
    "res_pca.fit(wine)"
   ]
  },
  {
   "cell_type": "markdown",
   "metadata": {},
   "source": [
    "## Eigenvalues"
   ]
  },
  {
   "cell_type": "code",
   "execution_count": 5,
   "metadata": {},
   "outputs": [
    {
     "data": {
      "text/html": [
       "<div>\n",
       "<style scoped>\n",
       "    .dataframe tbody tr th:only-of-type {\n",
       "        vertical-align: middle;\n",
       "    }\n",
       "\n",
       "    .dataframe tbody tr th {\n",
       "        vertical-align: top;\n",
       "    }\n",
       "\n",
       "    .dataframe thead th {\n",
       "        text-align: right;\n",
       "    }\n",
       "</style>\n",
       "<table border=\"1\" class=\"dataframe\">\n",
       "  <thead>\n",
       "    <tr style=\"text-align: right;\">\n",
       "      <th></th>\n",
       "      <th>eigenvalue</th>\n",
       "      <th>difference</th>\n",
       "      <th>proportion</th>\n",
       "      <th>cumulative</th>\n",
       "    </tr>\n",
       "  </thead>\n",
       "  <tbody>\n",
       "    <tr>\n",
       "      <th>Dim.1</th>\n",
       "      <td>13.706103</td>\n",
       "      <td>8.613631</td>\n",
       "      <td>50.763344</td>\n",
       "      <td>50.763344</td>\n",
       "    </tr>\n",
       "    <tr>\n",
       "      <th>Dim.2</th>\n",
       "      <td>5.092472</td>\n",
       "      <td>3.090622</td>\n",
       "      <td>18.861006</td>\n",
       "      <td>69.624350</td>\n",
       "    </tr>\n",
       "    <tr>\n",
       "      <th>Dim.3</th>\n",
       "      <td>2.001849</td>\n",
       "      <td>0.669977</td>\n",
       "      <td>7.414256</td>\n",
       "      <td>77.038606</td>\n",
       "    </tr>\n",
       "    <tr>\n",
       "      <th>Dim.4</th>\n",
       "      <td>1.331872</td>\n",
       "      <td>0.248833</td>\n",
       "      <td>4.932859</td>\n",
       "      <td>81.971466</td>\n",
       "    </tr>\n",
       "    <tr>\n",
       "      <th>Dim.5</th>\n",
       "      <td>1.083039</td>\n",
       "      <td>0.270512</td>\n",
       "      <td>4.011256</td>\n",
       "      <td>85.982722</td>\n",
       "    </tr>\n",
       "    <tr>\n",
       "      <th>Dim.6</th>\n",
       "      <td>0.812527</td>\n",
       "      <td>0.067466</td>\n",
       "      <td>3.009360</td>\n",
       "      <td>88.992082</td>\n",
       "    </tr>\n",
       "  </tbody>\n",
       "</table>\n",
       "</div>"
      ],
      "text/plain": [
       "       eigenvalue  difference  proportion  cumulative\n",
       "Dim.1   13.706103    8.613631   50.763344   50.763344\n",
       "Dim.2    5.092472    3.090622   18.861006   69.624350\n",
       "Dim.3    2.001849    0.669977    7.414256   77.038606\n",
       "Dim.4    1.331872    0.248833    4.932859   81.971466\n",
       "Dim.5    1.083039    0.270512    4.011256   85.982722\n",
       "Dim.6    0.812527    0.067466    3.009360   88.992082"
      ]
     },
     "execution_count": 5,
     "metadata": {},
     "output_type": "execute_result"
    }
   ],
   "source": [
    "eig = res_pca.eig_\n",
    "eig.head(6)"
   ]
  },
  {
   "cell_type": "markdown",
   "metadata": {},
   "source": [
    "## Individuals informations"
   ]
  },
  {
   "cell_type": "code",
   "execution_count": 6,
   "metadata": {},
   "outputs": [
    {
     "data": {
      "text/plain": [
       "dict_keys(['coord', 'cos2', 'contrib', 'dist', 'infos'])"
      ]
     },
     "execution_count": 6,
     "metadata": {},
     "output_type": "execute_result"
    }
   ],
   "source": [
    "ind = res_pca.ind_\n",
    "ind.keys()"
   ]
  },
  {
   "cell_type": "markdown",
   "metadata": {},
   "source": [
    "### Individuals coordinates"
   ]
  },
  {
   "cell_type": "code",
   "execution_count": 7,
   "metadata": {},
   "outputs": [
    {
     "data": {
      "text/html": [
       "<div>\n",
       "<style scoped>\n",
       "    .dataframe tbody tr th:only-of-type {\n",
       "        vertical-align: middle;\n",
       "    }\n",
       "\n",
       "    .dataframe tbody tr th {\n",
       "        vertical-align: top;\n",
       "    }\n",
       "\n",
       "    .dataframe thead th {\n",
       "        text-align: right;\n",
       "    }\n",
       "</style>\n",
       "<table border=\"1\" class=\"dataframe\">\n",
       "  <thead>\n",
       "    <tr style=\"text-align: right;\">\n",
       "      <th></th>\n",
       "      <th>Dim.1</th>\n",
       "      <th>Dim.2</th>\n",
       "      <th>Dim.3</th>\n",
       "      <th>Dim.4</th>\n",
       "      <th>Dim.5</th>\n",
       "    </tr>\n",
       "  </thead>\n",
       "  <tbody>\n",
       "    <tr>\n",
       "      <th>2EL</th>\n",
       "      <td>0.134223</td>\n",
       "      <td>-1.725774</td>\n",
       "      <td>1.495078</td>\n",
       "      <td>1.519684</td>\n",
       "      <td>-1.136681</td>\n",
       "    </tr>\n",
       "    <tr>\n",
       "      <th>1CHA</th>\n",
       "      <td>-3.701657</td>\n",
       "      <td>-2.673946</td>\n",
       "      <td>2.796711</td>\n",
       "      <td>1.084411</td>\n",
       "      <td>0.273956</td>\n",
       "    </tr>\n",
       "    <tr>\n",
       "      <th>1FON</th>\n",
       "      <td>-1.963855</td>\n",
       "      <td>-1.499394</td>\n",
       "      <td>0.466540</td>\n",
       "      <td>-2.530920</td>\n",
       "      <td>0.177908</td>\n",
       "    </tr>\n",
       "    <tr>\n",
       "      <th>1VAU</th>\n",
       "      <td>-8.813927</td>\n",
       "      <td>1.926699</td>\n",
       "      <td>-0.339826</td>\n",
       "      <td>0.404183</td>\n",
       "      <td>2.354573</td>\n",
       "    </tr>\n",
       "    <tr>\n",
       "      <th>1DAM</th>\n",
       "      <td>4.898062</td>\n",
       "      <td>-0.329325</td>\n",
       "      <td>-1.188657</td>\n",
       "      <td>0.726856</td>\n",
       "      <td>1.263892</td>\n",
       "    </tr>\n",
       "    <tr>\n",
       "      <th>2BOU</th>\n",
       "      <td>2.098701</td>\n",
       "      <td>-0.732127</td>\n",
       "      <td>0.601086</td>\n",
       "      <td>-1.901156</td>\n",
       "      <td>0.248006</td>\n",
       "    </tr>\n",
       "  </tbody>\n",
       "</table>\n",
       "</div>"
      ],
      "text/plain": [
       "         Dim.1     Dim.2     Dim.3     Dim.4     Dim.5\n",
       "2EL   0.134223 -1.725774  1.495078  1.519684 -1.136681\n",
       "1CHA -3.701657 -2.673946  2.796711  1.084411  0.273956\n",
       "1FON -1.963855 -1.499394  0.466540 -2.530920  0.177908\n",
       "1VAU -8.813927  1.926699 -0.339826  0.404183  2.354573\n",
       "1DAM  4.898062 -0.329325 -1.188657  0.726856  1.263892\n",
       "2BOU  2.098701 -0.732127  0.601086 -1.901156  0.248006"
      ]
     },
     "execution_count": 7,
     "metadata": {},
     "output_type": "execute_result"
    }
   ],
   "source": [
    "ind[\"coord\"].head(6)"
   ]
  },
  {
   "cell_type": "markdown",
   "metadata": {},
   "source": [
    "### Individuals Cos2"
   ]
  },
  {
   "cell_type": "code",
   "execution_count": 8,
   "metadata": {},
   "outputs": [
    {
     "data": {
      "text/html": [
       "<div>\n",
       "<style scoped>\n",
       "    .dataframe tbody tr th:only-of-type {\n",
       "        vertical-align: middle;\n",
       "    }\n",
       "\n",
       "    .dataframe tbody tr th {\n",
       "        vertical-align: top;\n",
       "    }\n",
       "\n",
       "    .dataframe thead th {\n",
       "        text-align: right;\n",
       "    }\n",
       "</style>\n",
       "<table border=\"1\" class=\"dataframe\">\n",
       "  <thead>\n",
       "    <tr style=\"text-align: right;\">\n",
       "      <th></th>\n",
       "      <th>Dim.1</th>\n",
       "      <th>Dim.2</th>\n",
       "      <th>Dim.3</th>\n",
       "      <th>Dim.4</th>\n",
       "      <th>Dim.5</th>\n",
       "    </tr>\n",
       "  </thead>\n",
       "  <tbody>\n",
       "    <tr>\n",
       "      <th>2EL</th>\n",
       "      <td>0.001294</td>\n",
       "      <td>0.213986</td>\n",
       "      <td>0.160600</td>\n",
       "      <td>0.165930</td>\n",
       "      <td>0.092832</td>\n",
       "    </tr>\n",
       "    <tr>\n",
       "      <th>1CHA</th>\n",
       "      <td>0.398448</td>\n",
       "      <td>0.207915</td>\n",
       "      <td>0.227444</td>\n",
       "      <td>0.034195</td>\n",
       "      <td>0.002182</td>\n",
       "    </tr>\n",
       "    <tr>\n",
       "      <th>1FON</th>\n",
       "      <td>0.242350</td>\n",
       "      <td>0.141272</td>\n",
       "      <td>0.013677</td>\n",
       "      <td>0.402514</td>\n",
       "      <td>0.001989</td>\n",
       "    </tr>\n",
       "    <tr>\n",
       "      <th>1VAU</th>\n",
       "      <td>0.858923</td>\n",
       "      <td>0.041043</td>\n",
       "      <td>0.001277</td>\n",
       "      <td>0.001806</td>\n",
       "      <td>0.061297</td>\n",
       "    </tr>\n",
       "    <tr>\n",
       "      <th>1DAM</th>\n",
       "      <td>0.751491</td>\n",
       "      <td>0.003397</td>\n",
       "      <td>0.044258</td>\n",
       "      <td>0.016549</td>\n",
       "      <td>0.050037</td>\n",
       "    </tr>\n",
       "    <tr>\n",
       "      <th>2BOU</th>\n",
       "      <td>0.328668</td>\n",
       "      <td>0.039997</td>\n",
       "      <td>0.026961</td>\n",
       "      <td>0.269707</td>\n",
       "      <td>0.004590</td>\n",
       "    </tr>\n",
       "  </tbody>\n",
       "</table>\n",
       "</div>"
      ],
      "text/plain": [
       "         Dim.1     Dim.2     Dim.3     Dim.4     Dim.5\n",
       "2EL   0.001294  0.213986  0.160600  0.165930  0.092832\n",
       "1CHA  0.398448  0.207915  0.227444  0.034195  0.002182\n",
       "1FON  0.242350  0.141272  0.013677  0.402514  0.001989\n",
       "1VAU  0.858923  0.041043  0.001277  0.001806  0.061297\n",
       "1DAM  0.751491  0.003397  0.044258  0.016549  0.050037\n",
       "2BOU  0.328668  0.039997  0.026961  0.269707  0.004590"
      ]
     },
     "execution_count": 8,
     "metadata": {},
     "output_type": "execute_result"
    }
   ],
   "source": [
    "ind[\"cos2\"].head(6)"
   ]
  },
  {
   "cell_type": "markdown",
   "metadata": {},
   "source": [
    "### Individuals contributions"
   ]
  },
  {
   "cell_type": "code",
   "execution_count": 9,
   "metadata": {},
   "outputs": [
    {
     "data": {
      "text/html": [
       "<div>\n",
       "<style scoped>\n",
       "    .dataframe tbody tr th:only-of-type {\n",
       "        vertical-align: middle;\n",
       "    }\n",
       "\n",
       "    .dataframe tbody tr th {\n",
       "        vertical-align: top;\n",
       "    }\n",
       "\n",
       "    .dataframe thead th {\n",
       "        text-align: right;\n",
       "    }\n",
       "</style>\n",
       "<table border=\"1\" class=\"dataframe\">\n",
       "  <thead>\n",
       "    <tr style=\"text-align: right;\">\n",
       "      <th></th>\n",
       "      <th>Dim.1</th>\n",
       "      <th>Dim.2</th>\n",
       "      <th>Dim.3</th>\n",
       "      <th>Dim.4</th>\n",
       "      <th>Dim.5</th>\n",
       "    </tr>\n",
       "  </thead>\n",
       "  <tbody>\n",
       "    <tr>\n",
       "      <th>2EL</th>\n",
       "      <td>0.006259</td>\n",
       "      <td>2.784967</td>\n",
       "      <td>5.317129</td>\n",
       "      <td>8.257047</td>\n",
       "      <td>5.680856</td>\n",
       "    </tr>\n",
       "    <tr>\n",
       "      <th>1CHA</th>\n",
       "      <td>4.760571</td>\n",
       "      <td>6.685862</td>\n",
       "      <td>18.605634</td>\n",
       "      <td>4.204421</td>\n",
       "      <td>0.329989</td>\n",
       "    </tr>\n",
       "    <tr>\n",
       "      <th>1FON</th>\n",
       "      <td>1.339940</td>\n",
       "      <td>2.102248</td>\n",
       "      <td>0.517758</td>\n",
       "      <td>22.902095</td>\n",
       "      <td>0.139164</td>\n",
       "    </tr>\n",
       "    <tr>\n",
       "      <th>1VAU</th>\n",
       "      <td>26.990168</td>\n",
       "      <td>3.471202</td>\n",
       "      <td>0.274702</td>\n",
       "      <td>0.584081</td>\n",
       "      <td>24.375908</td>\n",
       "    </tr>\n",
       "    <tr>\n",
       "      <th>1DAM</th>\n",
       "      <td>8.335186</td>\n",
       "      <td>0.101415</td>\n",
       "      <td>3.360951</td>\n",
       "      <td>1.888928</td>\n",
       "      <td>7.023547</td>\n",
       "    </tr>\n",
       "    <tr>\n",
       "      <th>2BOU</th>\n",
       "      <td>1.530270</td>\n",
       "      <td>0.501217</td>\n",
       "      <td>0.859455</td>\n",
       "      <td>12.922712</td>\n",
       "      <td>0.270433</td>\n",
       "    </tr>\n",
       "  </tbody>\n",
       "</table>\n",
       "</div>"
      ],
      "text/plain": [
       "          Dim.1     Dim.2      Dim.3      Dim.4      Dim.5\n",
       "2EL    0.006259  2.784967   5.317129   8.257047   5.680856\n",
       "1CHA   4.760571  6.685862  18.605634   4.204421   0.329989\n",
       "1FON   1.339940  2.102248   0.517758  22.902095   0.139164\n",
       "1VAU  26.990168  3.471202   0.274702   0.584081  24.375908\n",
       "1DAM   8.335186  0.101415   3.360951   1.888928   7.023547\n",
       "2BOU   1.530270  0.501217   0.859455  12.922712   0.270433"
      ]
     },
     "execution_count": 9,
     "metadata": {},
     "output_type": "execute_result"
    }
   ],
   "source": [
    "ind[\"contrib\"].head(6)"
   ]
  },
  {
   "cell_type": "markdown",
   "metadata": {},
   "source": [
    "### Individuals dist2"
   ]
  },
  {
   "cell_type": "code",
   "execution_count": 10,
   "metadata": {},
   "outputs": [
    {
     "data": {
      "text/plain": [
       "2EL     3.730705\n",
       "1CHA    5.864218\n",
       "1FON    3.989222\n",
       "1VAU    9.510261\n",
       "1DAM    5.650181\n",
       "2BOU    3.660764\n",
       "Name: dist, dtype: float64"
      ]
     },
     "execution_count": 10,
     "metadata": {},
     "output_type": "execute_result"
    }
   ],
   "source": [
    "ind[\"dist\"].head(6)"
   ]
  },
  {
   "cell_type": "markdown",
   "metadata": {},
   "source": [
    "### Individuals additionals informations"
   ]
  },
  {
   "cell_type": "code",
   "execution_count": 11,
   "metadata": {},
   "outputs": [
    {
     "data": {
      "text/html": [
       "<div>\n",
       "<style scoped>\n",
       "    .dataframe tbody tr th:only-of-type {\n",
       "        vertical-align: middle;\n",
       "    }\n",
       "\n",
       "    .dataframe tbody tr th {\n",
       "        vertical-align: top;\n",
       "    }\n",
       "\n",
       "    .dataframe thead th {\n",
       "        text-align: right;\n",
       "    }\n",
       "</style>\n",
       "<table border=\"1\" class=\"dataframe\">\n",
       "  <thead>\n",
       "    <tr style=\"text-align: right;\">\n",
       "      <th></th>\n",
       "      <th>dist</th>\n",
       "      <th>weight</th>\n",
       "      <th>inertia</th>\n",
       "    </tr>\n",
       "  </thead>\n",
       "  <tbody>\n",
       "    <tr>\n",
       "      <th>2EL</th>\n",
       "      <td>3.730705</td>\n",
       "      <td>0.047619</td>\n",
       "      <td>0.662769</td>\n",
       "    </tr>\n",
       "    <tr>\n",
       "      <th>1CHA</th>\n",
       "      <td>5.864218</td>\n",
       "      <td>0.047619</td>\n",
       "      <td>1.637574</td>\n",
       "    </tr>\n",
       "    <tr>\n",
       "      <th>1FON</th>\n",
       "      <td>3.989222</td>\n",
       "      <td>0.047619</td>\n",
       "      <td>0.757804</td>\n",
       "    </tr>\n",
       "    <tr>\n",
       "      <th>1VAU</th>\n",
       "      <td>9.510261</td>\n",
       "      <td>0.047619</td>\n",
       "      <td>4.306908</td>\n",
       "    </tr>\n",
       "    <tr>\n",
       "      <th>1DAM</th>\n",
       "      <td>5.650181</td>\n",
       "      <td>0.047619</td>\n",
       "      <td>1.520216</td>\n",
       "    </tr>\n",
       "    <tr>\n",
       "      <th>2BOU</th>\n",
       "      <td>3.660764</td>\n",
       "      <td>0.047619</td>\n",
       "      <td>0.638152</td>\n",
       "    </tr>\n",
       "  </tbody>\n",
       "</table>\n",
       "</div>"
      ],
      "text/plain": [
       "          dist    weight   inertia\n",
       "2EL   3.730705  0.047619  0.662769\n",
       "1CHA  5.864218  0.047619  1.637574\n",
       "1FON  3.989222  0.047619  0.757804\n",
       "1VAU  9.510261  0.047619  4.306908\n",
       "1DAM  5.650181  0.047619  1.520216\n",
       "2BOU  3.660764  0.047619  0.638152"
      ]
     },
     "execution_count": 11,
     "metadata": {},
     "output_type": "execute_result"
    }
   ],
   "source": [
    "ind[\"infos\"].head(6)"
   ]
  },
  {
   "cell_type": "markdown",
   "metadata": {},
   "source": [
    "## Variables informations"
   ]
  },
  {
   "cell_type": "code",
   "execution_count": 12,
   "metadata": {},
   "outputs": [
    {
     "data": {
      "text/plain": [
       "dict_keys(['coord', 'cor', 'cos2', 'contrib', 'weighted_corr', 'infos'])"
      ]
     },
     "execution_count": 12,
     "metadata": {},
     "output_type": "execute_result"
    }
   ],
   "source": [
    "var = res_pca.var_\n",
    "var.keys()"
   ]
  },
  {
   "cell_type": "markdown",
   "metadata": {},
   "source": [
    "### Variables coordinates"
   ]
  },
  {
   "cell_type": "code",
   "execution_count": 13,
   "metadata": {},
   "outputs": [
    {
     "data": {
      "text/html": [
       "<div>\n",
       "<style scoped>\n",
       "    .dataframe tbody tr th:only-of-type {\n",
       "        vertical-align: middle;\n",
       "    }\n",
       "\n",
       "    .dataframe tbody tr th {\n",
       "        vertical-align: top;\n",
       "    }\n",
       "\n",
       "    .dataframe thead th {\n",
       "        text-align: right;\n",
       "    }\n",
       "</style>\n",
       "<table border=\"1\" class=\"dataframe\">\n",
       "  <thead>\n",
       "    <tr style=\"text-align: right;\">\n",
       "      <th></th>\n",
       "      <th>Dim.1</th>\n",
       "      <th>Dim.2</th>\n",
       "      <th>Dim.3</th>\n",
       "      <th>Dim.4</th>\n",
       "      <th>Dim.5</th>\n",
       "    </tr>\n",
       "  </thead>\n",
       "  <tbody>\n",
       "    <tr>\n",
       "      <th>Odor.Intensity.before.shaking</th>\n",
       "      <td>0.532390</td>\n",
       "      <td>0.693097</td>\n",
       "      <td>-0.034398</td>\n",
       "      <td>0.188690</td>\n",
       "      <td>0.020270</td>\n",
       "    </tr>\n",
       "    <tr>\n",
       "      <th>Aroma.quality.before.shaking</th>\n",
       "      <td>0.809992</td>\n",
       "      <td>-0.031873</td>\n",
       "      <td>-0.364068</td>\n",
       "      <td>0.078443</td>\n",
       "      <td>-0.005038</td>\n",
       "    </tr>\n",
       "    <tr>\n",
       "      <th>Fruity.before.shaking</th>\n",
       "      <td>0.685334</td>\n",
       "      <td>-0.112073</td>\n",
       "      <td>-0.580247</td>\n",
       "      <td>0.176198</td>\n",
       "      <td>0.129708</td>\n",
       "    </tr>\n",
       "    <tr>\n",
       "      <th>Flower.before.shaking</th>\n",
       "      <td>0.454212</td>\n",
       "      <td>-0.358005</td>\n",
       "      <td>0.575140</td>\n",
       "      <td>0.388612</td>\n",
       "      <td>0.165130</td>\n",
       "    </tr>\n",
       "    <tr>\n",
       "      <th>Spice.before.shaking</th>\n",
       "      <td>0.005297</td>\n",
       "      <td>0.815598</td>\n",
       "      <td>0.148530</td>\n",
       "      <td>-0.324381</td>\n",
       "      <td>0.207673</td>\n",
       "    </tr>\n",
       "    <tr>\n",
       "      <th>Visual.intensity</th>\n",
       "      <td>0.868795</td>\n",
       "      <td>0.264525</td>\n",
       "      <td>0.105026</td>\n",
       "      <td>-0.123494</td>\n",
       "      <td>-0.235911</td>\n",
       "    </tr>\n",
       "  </tbody>\n",
       "</table>\n",
       "</div>"
      ],
      "text/plain": [
       "                                  Dim.1     Dim.2     Dim.3     Dim.4  \\\n",
       "Odor.Intensity.before.shaking  0.532390  0.693097 -0.034398  0.188690   \n",
       "Aroma.quality.before.shaking   0.809992 -0.031873 -0.364068  0.078443   \n",
       "Fruity.before.shaking          0.685334 -0.112073 -0.580247  0.176198   \n",
       "Flower.before.shaking          0.454212 -0.358005  0.575140  0.388612   \n",
       "Spice.before.shaking           0.005297  0.815598  0.148530 -0.324381   \n",
       "Visual.intensity               0.868795  0.264525  0.105026 -0.123494   \n",
       "\n",
       "                                  Dim.5  \n",
       "Odor.Intensity.before.shaking  0.020270  \n",
       "Aroma.quality.before.shaking  -0.005038  \n",
       "Fruity.before.shaking          0.129708  \n",
       "Flower.before.shaking          0.165130  \n",
       "Spice.before.shaking           0.207673  \n",
       "Visual.intensity              -0.235911  "
      ]
     },
     "execution_count": 13,
     "metadata": {},
     "output_type": "execute_result"
    }
   ],
   "source": [
    "var[\"coord\"].head(6)"
   ]
  },
  {
   "cell_type": "markdown",
   "metadata": {},
   "source": [
    "### Variables correlations"
   ]
  },
  {
   "cell_type": "code",
   "execution_count": 14,
   "metadata": {},
   "outputs": [
    {
     "data": {
      "text/html": [
       "<div>\n",
       "<style scoped>\n",
       "    .dataframe tbody tr th:only-of-type {\n",
       "        vertical-align: middle;\n",
       "    }\n",
       "\n",
       "    .dataframe tbody tr th {\n",
       "        vertical-align: top;\n",
       "    }\n",
       "\n",
       "    .dataframe thead th {\n",
       "        text-align: right;\n",
       "    }\n",
       "</style>\n",
       "<table border=\"1\" class=\"dataframe\">\n",
       "  <thead>\n",
       "    <tr style=\"text-align: right;\">\n",
       "      <th></th>\n",
       "      <th>Dim.1</th>\n",
       "      <th>Dim.2</th>\n",
       "      <th>Dim.3</th>\n",
       "      <th>Dim.4</th>\n",
       "      <th>Dim.5</th>\n",
       "    </tr>\n",
       "  </thead>\n",
       "  <tbody>\n",
       "    <tr>\n",
       "      <th>Odor.Intensity.before.shaking</th>\n",
       "      <td>0.532390</td>\n",
       "      <td>0.693097</td>\n",
       "      <td>-0.034398</td>\n",
       "      <td>0.188690</td>\n",
       "      <td>0.020270</td>\n",
       "    </tr>\n",
       "    <tr>\n",
       "      <th>Aroma.quality.before.shaking</th>\n",
       "      <td>0.809992</td>\n",
       "      <td>-0.031873</td>\n",
       "      <td>-0.364068</td>\n",
       "      <td>0.078443</td>\n",
       "      <td>-0.005038</td>\n",
       "    </tr>\n",
       "    <tr>\n",
       "      <th>Fruity.before.shaking</th>\n",
       "      <td>0.685334</td>\n",
       "      <td>-0.112073</td>\n",
       "      <td>-0.580247</td>\n",
       "      <td>0.176198</td>\n",
       "      <td>0.129708</td>\n",
       "    </tr>\n",
       "    <tr>\n",
       "      <th>Flower.before.shaking</th>\n",
       "      <td>0.454212</td>\n",
       "      <td>-0.358005</td>\n",
       "      <td>0.575140</td>\n",
       "      <td>0.388612</td>\n",
       "      <td>0.165130</td>\n",
       "    </tr>\n",
       "    <tr>\n",
       "      <th>Spice.before.shaking</th>\n",
       "      <td>0.005297</td>\n",
       "      <td>0.815598</td>\n",
       "      <td>0.148530</td>\n",
       "      <td>-0.324381</td>\n",
       "      <td>0.207673</td>\n",
       "    </tr>\n",
       "    <tr>\n",
       "      <th>Visual.intensity</th>\n",
       "      <td>0.868795</td>\n",
       "      <td>0.264525</td>\n",
       "      <td>0.105026</td>\n",
       "      <td>-0.123494</td>\n",
       "      <td>-0.235911</td>\n",
       "    </tr>\n",
       "  </tbody>\n",
       "</table>\n",
       "</div>"
      ],
      "text/plain": [
       "                                  Dim.1     Dim.2     Dim.3     Dim.4  \\\n",
       "Odor.Intensity.before.shaking  0.532390  0.693097 -0.034398  0.188690   \n",
       "Aroma.quality.before.shaking   0.809992 -0.031873 -0.364068  0.078443   \n",
       "Fruity.before.shaking          0.685334 -0.112073 -0.580247  0.176198   \n",
       "Flower.before.shaking          0.454212 -0.358005  0.575140  0.388612   \n",
       "Spice.before.shaking           0.005297  0.815598  0.148530 -0.324381   \n",
       "Visual.intensity               0.868795  0.264525  0.105026 -0.123494   \n",
       "\n",
       "                                  Dim.5  \n",
       "Odor.Intensity.before.shaking  0.020270  \n",
       "Aroma.quality.before.shaking  -0.005038  \n",
       "Fruity.before.shaking          0.129708  \n",
       "Flower.before.shaking          0.165130  \n",
       "Spice.before.shaking           0.207673  \n",
       "Visual.intensity              -0.235911  "
      ]
     },
     "execution_count": 14,
     "metadata": {},
     "output_type": "execute_result"
    }
   ],
   "source": [
    "var[\"cor\"].head(6)"
   ]
  },
  {
   "cell_type": "markdown",
   "metadata": {},
   "source": [
    "### Variables Cos2"
   ]
  },
  {
   "cell_type": "code",
   "execution_count": 15,
   "metadata": {},
   "outputs": [
    {
     "data": {
      "text/html": [
       "<div>\n",
       "<style scoped>\n",
       "    .dataframe tbody tr th:only-of-type {\n",
       "        vertical-align: middle;\n",
       "    }\n",
       "\n",
       "    .dataframe tbody tr th {\n",
       "        vertical-align: top;\n",
       "    }\n",
       "\n",
       "    .dataframe thead th {\n",
       "        text-align: right;\n",
       "    }\n",
       "</style>\n",
       "<table border=\"1\" class=\"dataframe\">\n",
       "  <thead>\n",
       "    <tr style=\"text-align: right;\">\n",
       "      <th></th>\n",
       "      <th>Dim.1</th>\n",
       "      <th>Dim.2</th>\n",
       "      <th>Dim.3</th>\n",
       "      <th>Dim.4</th>\n",
       "      <th>Dim.5</th>\n",
       "    </tr>\n",
       "  </thead>\n",
       "  <tbody>\n",
       "    <tr>\n",
       "      <th>Odor.Intensity.before.shaking</th>\n",
       "      <td>0.283439</td>\n",
       "      <td>0.480384</td>\n",
       "      <td>0.001183</td>\n",
       "      <td>0.035604</td>\n",
       "      <td>0.000411</td>\n",
       "    </tr>\n",
       "    <tr>\n",
       "      <th>Aroma.quality.before.shaking</th>\n",
       "      <td>0.656087</td>\n",
       "      <td>0.001016</td>\n",
       "      <td>0.132545</td>\n",
       "      <td>0.006153</td>\n",
       "      <td>0.000025</td>\n",
       "    </tr>\n",
       "    <tr>\n",
       "      <th>Fruity.before.shaking</th>\n",
       "      <td>0.469682</td>\n",
       "      <td>0.012560</td>\n",
       "      <td>0.336687</td>\n",
       "      <td>0.031046</td>\n",
       "      <td>0.016824</td>\n",
       "    </tr>\n",
       "    <tr>\n",
       "      <th>Flower.before.shaking</th>\n",
       "      <td>0.206309</td>\n",
       "      <td>0.128168</td>\n",
       "      <td>0.330787</td>\n",
       "      <td>0.151020</td>\n",
       "      <td>0.027268</td>\n",
       "    </tr>\n",
       "    <tr>\n",
       "      <th>Spice.before.shaking</th>\n",
       "      <td>0.000028</td>\n",
       "      <td>0.665201</td>\n",
       "      <td>0.022061</td>\n",
       "      <td>0.105223</td>\n",
       "      <td>0.043128</td>\n",
       "    </tr>\n",
       "    <tr>\n",
       "      <th>Visual.intensity</th>\n",
       "      <td>0.754804</td>\n",
       "      <td>0.069974</td>\n",
       "      <td>0.011030</td>\n",
       "      <td>0.015251</td>\n",
       "      <td>0.055654</td>\n",
       "    </tr>\n",
       "  </tbody>\n",
       "</table>\n",
       "</div>"
      ],
      "text/plain": [
       "                                  Dim.1     Dim.2     Dim.3     Dim.4  \\\n",
       "Odor.Intensity.before.shaking  0.283439  0.480384  0.001183  0.035604   \n",
       "Aroma.quality.before.shaking   0.656087  0.001016  0.132545  0.006153   \n",
       "Fruity.before.shaking          0.469682  0.012560  0.336687  0.031046   \n",
       "Flower.before.shaking          0.206309  0.128168  0.330787  0.151020   \n",
       "Spice.before.shaking           0.000028  0.665201  0.022061  0.105223   \n",
       "Visual.intensity               0.754804  0.069974  0.011030  0.015251   \n",
       "\n",
       "                                  Dim.5  \n",
       "Odor.Intensity.before.shaking  0.000411  \n",
       "Aroma.quality.before.shaking   0.000025  \n",
       "Fruity.before.shaking          0.016824  \n",
       "Flower.before.shaking          0.027268  \n",
       "Spice.before.shaking           0.043128  \n",
       "Visual.intensity               0.055654  "
      ]
     },
     "execution_count": 15,
     "metadata": {},
     "output_type": "execute_result"
    }
   ],
   "source": [
    "var[\"cos2\"].head(6)"
   ]
  },
  {
   "cell_type": "markdown",
   "metadata": {},
   "source": [
    "### Variables contributions"
   ]
  },
  {
   "cell_type": "code",
   "execution_count": 16,
   "metadata": {},
   "outputs": [
    {
     "data": {
      "text/html": [
       "<div>\n",
       "<style scoped>\n",
       "    .dataframe tbody tr th:only-of-type {\n",
       "        vertical-align: middle;\n",
       "    }\n",
       "\n",
       "    .dataframe tbody tr th {\n",
       "        vertical-align: top;\n",
       "    }\n",
       "\n",
       "    .dataframe thead th {\n",
       "        text-align: right;\n",
       "    }\n",
       "</style>\n",
       "<table border=\"1\" class=\"dataframe\">\n",
       "  <thead>\n",
       "    <tr style=\"text-align: right;\">\n",
       "      <th></th>\n",
       "      <th>Dim.1</th>\n",
       "      <th>Dim.2</th>\n",
       "      <th>Dim.3</th>\n",
       "      <th>Dim.4</th>\n",
       "      <th>Dim.5</th>\n",
       "    </tr>\n",
       "  </thead>\n",
       "  <tbody>\n",
       "    <tr>\n",
       "      <th>Odor.Intensity.before.shaking</th>\n",
       "      <td>2.067979</td>\n",
       "      <td>9.433216</td>\n",
       "      <td>0.059105</td>\n",
       "      <td>2.673234</td>\n",
       "      <td>0.037936</td>\n",
       "    </tr>\n",
       "    <tr>\n",
       "      <th>Aroma.quality.before.shaking</th>\n",
       "      <td>4.786821</td>\n",
       "      <td>0.019949</td>\n",
       "      <td>6.621143</td>\n",
       "      <td>0.462006</td>\n",
       "      <td>0.002343</td>\n",
       "    </tr>\n",
       "    <tr>\n",
       "      <th>Fruity.before.shaking</th>\n",
       "      <td>3.426813</td>\n",
       "      <td>0.246644</td>\n",
       "      <td>16.818783</td>\n",
       "      <td>2.330982</td>\n",
       "      <td>1.553423</td>\n",
       "    </tr>\n",
       "    <tr>\n",
       "      <th>Flower.before.shaking</th>\n",
       "      <td>1.505234</td>\n",
       "      <td>2.516809</td>\n",
       "      <td>16.524050</td>\n",
       "      <td>11.338902</td>\n",
       "      <td>2.517710</td>\n",
       "    </tr>\n",
       "    <tr>\n",
       "      <th>Spice.before.shaking</th>\n",
       "      <td>0.000205</td>\n",
       "      <td>13.062435</td>\n",
       "      <td>1.102041</td>\n",
       "      <td>7.900365</td>\n",
       "      <td>3.982116</td>\n",
       "    </tr>\n",
       "    <tr>\n",
       "      <th>Visual.intensity</th>\n",
       "      <td>5.507067</td>\n",
       "      <td>1.374061</td>\n",
       "      <td>0.551013</td>\n",
       "      <td>1.145069</td>\n",
       "      <td>5.138695</td>\n",
       "    </tr>\n",
       "  </tbody>\n",
       "</table>\n",
       "</div>"
      ],
      "text/plain": [
       "                                  Dim.1      Dim.2      Dim.3      Dim.4  \\\n",
       "Odor.Intensity.before.shaking  2.067979   9.433216   0.059105   2.673234   \n",
       "Aroma.quality.before.shaking   4.786821   0.019949   6.621143   0.462006   \n",
       "Fruity.before.shaking          3.426813   0.246644  16.818783   2.330982   \n",
       "Flower.before.shaking          1.505234   2.516809  16.524050  11.338902   \n",
       "Spice.before.shaking           0.000205  13.062435   1.102041   7.900365   \n",
       "Visual.intensity               5.507067   1.374061   0.551013   1.145069   \n",
       "\n",
       "                                  Dim.5  \n",
       "Odor.Intensity.before.shaking  0.037936  \n",
       "Aroma.quality.before.shaking   0.002343  \n",
       "Fruity.before.shaking          1.553423  \n",
       "Flower.before.shaking          2.517710  \n",
       "Spice.before.shaking           3.982116  \n",
       "Visual.intensity               5.138695  "
      ]
     },
     "execution_count": 16,
     "metadata": {},
     "output_type": "execute_result"
    }
   ],
   "source": [
    "var[\"contrib\"].head(6)"
   ]
  },
  {
   "cell_type": "markdown",
   "metadata": {},
   "source": [
    "## Supplementary elements\n",
    "\n",
    "### Supplementary quantitatives informations"
   ]
  },
  {
   "cell_type": "code",
   "execution_count": 17,
   "metadata": {},
   "outputs": [
    {
     "data": {
      "text/plain": [
       "dict_keys(['coord', 'cor', 'cos2', 'weighted_corr'])"
      ]
     },
     "execution_count": 17,
     "metadata": {},
     "output_type": "execute_result"
    }
   ],
   "source": [
    "quanti_sup =res_pca.quanti_sup_\n",
    "quanti_sup.keys()"
   ]
  },
  {
   "cell_type": "markdown",
   "metadata": {},
   "source": [
    "#### Supplementary quantitatives coordinates"
   ]
  },
  {
   "cell_type": "code",
   "execution_count": 18,
   "metadata": {},
   "outputs": [
    {
     "data": {
      "text/html": [
       "<div>\n",
       "<style scoped>\n",
       "    .dataframe tbody tr th:only-of-type {\n",
       "        vertical-align: middle;\n",
       "    }\n",
       "\n",
       "    .dataframe tbody tr th {\n",
       "        vertical-align: top;\n",
       "    }\n",
       "\n",
       "    .dataframe thead th {\n",
       "        text-align: right;\n",
       "    }\n",
       "</style>\n",
       "<table border=\"1\" class=\"dataframe\">\n",
       "  <thead>\n",
       "    <tr style=\"text-align: right;\">\n",
       "      <th></th>\n",
       "      <th>Dim.1</th>\n",
       "      <th>Dim.2</th>\n",
       "      <th>Dim.3</th>\n",
       "      <th>Dim.4</th>\n",
       "      <th>Dim.5</th>\n",
       "    </tr>\n",
       "  </thead>\n",
       "  <tbody>\n",
       "    <tr>\n",
       "      <th>Overall.quality</th>\n",
       "      <td>0.793189</td>\n",
       "      <td>-0.478622</td>\n",
       "      <td>0.124883</td>\n",
       "      <td>-0.148803</td>\n",
       "      <td>0.137198</td>\n",
       "    </tr>\n",
       "    <tr>\n",
       "      <th>Typical</th>\n",
       "      <td>0.801855</td>\n",
       "      <td>-0.443116</td>\n",
       "      <td>0.023896</td>\n",
       "      <td>-0.087525</td>\n",
       "      <td>-0.014061</td>\n",
       "    </tr>\n",
       "  </tbody>\n",
       "</table>\n",
       "</div>"
      ],
      "text/plain": [
       "                    Dim.1     Dim.2     Dim.3     Dim.4     Dim.5\n",
       "Overall.quality  0.793189 -0.478622  0.124883 -0.148803  0.137198\n",
       "Typical          0.801855 -0.443116  0.023896 -0.087525 -0.014061"
      ]
     },
     "execution_count": 18,
     "metadata": {},
     "output_type": "execute_result"
    }
   ],
   "source": [
    "quanti_sup[\"coord\"].head(6)"
   ]
  },
  {
   "cell_type": "markdown",
   "metadata": {},
   "source": [
    "#### Supplementary quantitatives correlations"
   ]
  },
  {
   "cell_type": "code",
   "execution_count": 19,
   "metadata": {},
   "outputs": [
    {
     "data": {
      "text/html": [
       "<div>\n",
       "<style scoped>\n",
       "    .dataframe tbody tr th:only-of-type {\n",
       "        vertical-align: middle;\n",
       "    }\n",
       "\n",
       "    .dataframe tbody tr th {\n",
       "        vertical-align: top;\n",
       "    }\n",
       "\n",
       "    .dataframe thead th {\n",
       "        text-align: right;\n",
       "    }\n",
       "</style>\n",
       "<table border=\"1\" class=\"dataframe\">\n",
       "  <thead>\n",
       "    <tr style=\"text-align: right;\">\n",
       "      <th></th>\n",
       "      <th>Dim.1</th>\n",
       "      <th>Dim.2</th>\n",
       "      <th>Dim.3</th>\n",
       "      <th>Dim.4</th>\n",
       "      <th>Dim.5</th>\n",
       "    </tr>\n",
       "  </thead>\n",
       "  <tbody>\n",
       "    <tr>\n",
       "      <th>Overall.quality</th>\n",
       "      <td>0.793189</td>\n",
       "      <td>-0.478622</td>\n",
       "      <td>0.124883</td>\n",
       "      <td>-0.148803</td>\n",
       "      <td>0.137198</td>\n",
       "    </tr>\n",
       "    <tr>\n",
       "      <th>Typical</th>\n",
       "      <td>0.801855</td>\n",
       "      <td>-0.443116</td>\n",
       "      <td>0.023896</td>\n",
       "      <td>-0.087525</td>\n",
       "      <td>-0.014061</td>\n",
       "    </tr>\n",
       "  </tbody>\n",
       "</table>\n",
       "</div>"
      ],
      "text/plain": [
       "                    Dim.1     Dim.2     Dim.3     Dim.4     Dim.5\n",
       "Overall.quality  0.793189 -0.478622  0.124883 -0.148803  0.137198\n",
       "Typical          0.801855 -0.443116  0.023896 -0.087525 -0.014061"
      ]
     },
     "execution_count": 19,
     "metadata": {},
     "output_type": "execute_result"
    }
   ],
   "source": [
    "quanti_sup[\"cor\"].head(6)"
   ]
  },
  {
   "cell_type": "markdown",
   "metadata": {},
   "source": [
    "#### Supplementary quantitatives Cos2"
   ]
  },
  {
   "cell_type": "code",
   "execution_count": 20,
   "metadata": {},
   "outputs": [
    {
     "data": {
      "text/html": [
       "<div>\n",
       "<style scoped>\n",
       "    .dataframe tbody tr th:only-of-type {\n",
       "        vertical-align: middle;\n",
       "    }\n",
       "\n",
       "    .dataframe tbody tr th {\n",
       "        vertical-align: top;\n",
       "    }\n",
       "\n",
       "    .dataframe thead th {\n",
       "        text-align: right;\n",
       "    }\n",
       "</style>\n",
       "<table border=\"1\" class=\"dataframe\">\n",
       "  <thead>\n",
       "    <tr style=\"text-align: right;\">\n",
       "      <th></th>\n",
       "      <th>Dim.1</th>\n",
       "      <th>Dim.2</th>\n",
       "      <th>Dim.3</th>\n",
       "      <th>Dim.4</th>\n",
       "      <th>Dim.5</th>\n",
       "    </tr>\n",
       "  </thead>\n",
       "  <tbody>\n",
       "    <tr>\n",
       "      <th>Overall.quality</th>\n",
       "      <td>0.629148</td>\n",
       "      <td>0.229079</td>\n",
       "      <td>0.015596</td>\n",
       "      <td>0.022142</td>\n",
       "      <td>0.018823</td>\n",
       "    </tr>\n",
       "    <tr>\n",
       "      <th>Typical</th>\n",
       "      <td>0.642972</td>\n",
       "      <td>0.196352</td>\n",
       "      <td>0.000571</td>\n",
       "      <td>0.007661</td>\n",
       "      <td>0.000198</td>\n",
       "    </tr>\n",
       "  </tbody>\n",
       "</table>\n",
       "</div>"
      ],
      "text/plain": [
       "                    Dim.1     Dim.2     Dim.3     Dim.4     Dim.5\n",
       "Overall.quality  0.629148  0.229079  0.015596  0.022142  0.018823\n",
       "Typical          0.642972  0.196352  0.000571  0.007661  0.000198"
      ]
     },
     "execution_count": 20,
     "metadata": {},
     "output_type": "execute_result"
    }
   ],
   "source": [
    "quanti_sup[\"cos2\"].head(6)"
   ]
  },
  {
   "cell_type": "markdown",
   "metadata": {},
   "source": [
    "### Supplementary qualitatives informations"
   ]
  },
  {
   "cell_type": "code",
   "execution_count": 21,
   "metadata": {},
   "outputs": [
    {
     "data": {
      "text/plain": [
       "dict_keys(['coord', 'cos2', 'vtest', 'dist', 'eta2', 'barycentre'])"
      ]
     },
     "execution_count": 21,
     "metadata": {},
     "output_type": "execute_result"
    }
   ],
   "source": [
    "quali_sup = res_pca.quali_sup_\n",
    "quali_sup.keys()"
   ]
  },
  {
   "cell_type": "markdown",
   "metadata": {},
   "source": [
    "#### Supplementary qualitatives coordinates"
   ]
  },
  {
   "cell_type": "code",
   "execution_count": 22,
   "metadata": {},
   "outputs": [
    {
     "data": {
      "text/html": [
       "<div>\n",
       "<style scoped>\n",
       "    .dataframe tbody tr th:only-of-type {\n",
       "        vertical-align: middle;\n",
       "    }\n",
       "\n",
       "    .dataframe tbody tr th {\n",
       "        vertical-align: top;\n",
       "    }\n",
       "\n",
       "    .dataframe thead th {\n",
       "        text-align: right;\n",
       "    }\n",
       "</style>\n",
       "<table border=\"1\" class=\"dataframe\">\n",
       "  <thead>\n",
       "    <tr style=\"text-align: right;\">\n",
       "      <th></th>\n",
       "      <th>Dim.1</th>\n",
       "      <th>Dim.2</th>\n",
       "      <th>Dim.3</th>\n",
       "      <th>Dim.4</th>\n",
       "      <th>Dim.5</th>\n",
       "    </tr>\n",
       "  </thead>\n",
       "  <tbody>\n",
       "    <tr>\n",
       "      <th>Bourgueuil</th>\n",
       "      <td>-0.674803</td>\n",
       "      <td>-1.180081</td>\n",
       "      <td>-0.297725</td>\n",
       "      <td>-1.085369</td>\n",
       "      <td>0.309303</td>\n",
       "    </tr>\n",
       "    <tr>\n",
       "      <th>Chinon</th>\n",
       "      <td>-1.635225</td>\n",
       "      <td>-0.260931</td>\n",
       "      <td>-0.774604</td>\n",
       "      <td>0.575388</td>\n",
       "      <td>0.714423</td>\n",
       "    </tr>\n",
       "    <tr>\n",
       "      <th>Saumur</th>\n",
       "      <td>0.962702</td>\n",
       "      <td>0.738565</td>\n",
       "      <td>0.444069</td>\n",
       "      <td>0.382788</td>\n",
       "      <td>-0.428501</td>\n",
       "    </tr>\n",
       "    <tr>\n",
       "      <th>Env1</th>\n",
       "      <td>-1.760332</td>\n",
       "      <td>-1.062026</td>\n",
       "      <td>0.888072</td>\n",
       "      <td>-0.127049</td>\n",
       "      <td>-0.415128</td>\n",
       "    </tr>\n",
       "    <tr>\n",
       "      <th>Env2</th>\n",
       "      <td>-1.562089</td>\n",
       "      <td>0.451926</td>\n",
       "      <td>-0.699714</td>\n",
       "      <td>0.366271</td>\n",
       "      <td>0.085919</td>\n",
       "    </tr>\n",
       "    <tr>\n",
       "      <th>Env4</th>\n",
       "      <td>-0.096819</td>\n",
       "      <td>6.013915</td>\n",
       "      <td>-0.054770</td>\n",
       "      <td>-0.091971</td>\n",
       "      <td>-0.387154</td>\n",
       "    </tr>\n",
       "    <tr>\n",
       "      <th>Reference</th>\n",
       "      <td>2.903772</td>\n",
       "      <td>-0.979039</td>\n",
       "      <td>-0.372628</td>\n",
       "      <td>-0.108296</td>\n",
       "      <td>0.464373</td>\n",
       "    </tr>\n",
       "  </tbody>\n",
       "</table>\n",
       "</div>"
      ],
      "text/plain": [
       "               Dim.1     Dim.2     Dim.3     Dim.4     Dim.5\n",
       "Bourgueuil -0.674803 -1.180081 -0.297725 -1.085369  0.309303\n",
       "Chinon     -1.635225 -0.260931 -0.774604  0.575388  0.714423\n",
       "Saumur      0.962702  0.738565  0.444069  0.382788 -0.428501\n",
       "Env1       -1.760332 -1.062026  0.888072 -0.127049 -0.415128\n",
       "Env2       -1.562089  0.451926 -0.699714  0.366271  0.085919\n",
       "Env4       -0.096819  6.013915 -0.054770 -0.091971 -0.387154\n",
       "Reference   2.903772 -0.979039 -0.372628 -0.108296  0.464373"
      ]
     },
     "execution_count": 22,
     "metadata": {},
     "output_type": "execute_result"
    }
   ],
   "source": [
    "quali_sup[\"coord\"]"
   ]
  },
  {
   "cell_type": "markdown",
   "metadata": {},
   "source": [
    "#### Supplementary qualitatives Cos2"
   ]
  },
  {
   "cell_type": "code",
   "execution_count": 23,
   "metadata": {},
   "outputs": [
    {
     "data": {
      "text/html": [
       "<div>\n",
       "<style scoped>\n",
       "    .dataframe tbody tr th:only-of-type {\n",
       "        vertical-align: middle;\n",
       "    }\n",
       "\n",
       "    .dataframe tbody tr th {\n",
       "        vertical-align: top;\n",
       "    }\n",
       "\n",
       "    .dataframe thead th {\n",
       "        text-align: right;\n",
       "    }\n",
       "</style>\n",
       "<table border=\"1\" class=\"dataframe\">\n",
       "  <thead>\n",
       "    <tr style=\"text-align: right;\">\n",
       "      <th></th>\n",
       "      <th>Dim.1</th>\n",
       "      <th>Dim.2</th>\n",
       "      <th>Dim.3</th>\n",
       "      <th>Dim.4</th>\n",
       "      <th>Dim.5</th>\n",
       "    </tr>\n",
       "  </thead>\n",
       "  <tbody>\n",
       "    <tr>\n",
       "      <th>Bourgueuil</th>\n",
       "      <td>0.128891</td>\n",
       "      <td>0.394178</td>\n",
       "      <td>0.025090</td>\n",
       "      <td>0.333444</td>\n",
       "      <td>0.027079</td>\n",
       "    </tr>\n",
       "    <tr>\n",
       "      <th>Chinon</th>\n",
       "      <td>0.513382</td>\n",
       "      <td>0.013072</td>\n",
       "      <td>0.115198</td>\n",
       "      <td>0.063563</td>\n",
       "      <td>0.097993</td>\n",
       "    </tr>\n",
       "    <tr>\n",
       "      <th>Saumur</th>\n",
       "      <td>0.438702</td>\n",
       "      <td>0.258205</td>\n",
       "      <td>0.093344</td>\n",
       "      <td>0.069359</td>\n",
       "      <td>0.086914</td>\n",
       "    </tr>\n",
       "    <tr>\n",
       "      <th>Env1</th>\n",
       "      <td>0.555104</td>\n",
       "      <td>0.202049</td>\n",
       "      <td>0.141280</td>\n",
       "      <td>0.002892</td>\n",
       "      <td>0.030871</td>\n",
       "    </tr>\n",
       "    <tr>\n",
       "      <th>Env2</th>\n",
       "      <td>0.562470</td>\n",
       "      <td>0.047078</td>\n",
       "      <td>0.112857</td>\n",
       "      <td>0.030924</td>\n",
       "      <td>0.001702</td>\n",
       "    </tr>\n",
       "    <tr>\n",
       "      <th>Env4</th>\n",
       "      <td>0.000251</td>\n",
       "      <td>0.969681</td>\n",
       "      <td>0.000080</td>\n",
       "      <td>0.000227</td>\n",
       "      <td>0.004019</td>\n",
       "    </tr>\n",
       "    <tr>\n",
       "      <th>Reference</th>\n",
       "      <td>0.848514</td>\n",
       "      <td>0.096457</td>\n",
       "      <td>0.013973</td>\n",
       "      <td>0.001180</td>\n",
       "      <td>0.021700</td>\n",
       "    </tr>\n",
       "  </tbody>\n",
       "</table>\n",
       "</div>"
      ],
      "text/plain": [
       "               Dim.1     Dim.2     Dim.3     Dim.4     Dim.5\n",
       "Bourgueuil  0.128891  0.394178  0.025090  0.333444  0.027079\n",
       "Chinon      0.513382  0.013072  0.115198  0.063563  0.097993\n",
       "Saumur      0.438702  0.258205  0.093344  0.069359  0.086914\n",
       "Env1        0.555104  0.202049  0.141280  0.002892  0.030871\n",
       "Env2        0.562470  0.047078  0.112857  0.030924  0.001702\n",
       "Env4        0.000251  0.969681  0.000080  0.000227  0.004019\n",
       "Reference   0.848514  0.096457  0.013973  0.001180  0.021700"
      ]
     },
     "execution_count": 23,
     "metadata": {},
     "output_type": "execute_result"
    }
   ],
   "source": [
    "quali_sup[\"cos2\"]"
   ]
  },
  {
   "cell_type": "markdown",
   "metadata": {},
   "source": [
    "#### Supplementary qualitatives vtest"
   ]
  },
  {
   "cell_type": "code",
   "execution_count": 24,
   "metadata": {},
   "outputs": [
    {
     "data": {
      "text/html": [
       "<div>\n",
       "<style scoped>\n",
       "    .dataframe tbody tr th:only-of-type {\n",
       "        vertical-align: middle;\n",
       "    }\n",
       "\n",
       "    .dataframe tbody tr th {\n",
       "        vertical-align: top;\n",
       "    }\n",
       "\n",
       "    .dataframe thead th {\n",
       "        text-align: right;\n",
       "    }\n",
       "</style>\n",
       "<table border=\"1\" class=\"dataframe\">\n",
       "  <thead>\n",
       "    <tr style=\"text-align: right;\">\n",
       "      <th></th>\n",
       "      <th>Dim.1</th>\n",
       "      <th>Dim.2</th>\n",
       "      <th>Dim.3</th>\n",
       "      <th>Dim.4</th>\n",
       "      <th>Dim.5</th>\n",
       "    </tr>\n",
       "  </thead>\n",
       "  <tbody>\n",
       "    <tr>\n",
       "      <th>Bourgueuil</th>\n",
       "      <td>-0.515543</td>\n",
       "      <td>-1.479083</td>\n",
       "      <td>-0.595174</td>\n",
       "      <td>-2.660059</td>\n",
       "      <td>0.840635</td>\n",
       "    </tr>\n",
       "    <tr>\n",
       "      <th>Chinon</th>\n",
       "      <td>-0.958167</td>\n",
       "      <td>-0.250832</td>\n",
       "      <td>-1.187640</td>\n",
       "      <td>1.081558</td>\n",
       "      <td>1.489203</td>\n",
       "    </tr>\n",
       "    <tr>\n",
       "      <th>Saumur</th>\n",
       "      <td>1.219680</td>\n",
       "      <td>1.535096</td>\n",
       "      <td>1.472131</td>\n",
       "      <td>1.555743</td>\n",
       "      <td>-1.931262</td>\n",
       "    </tr>\n",
       "    <tr>\n",
       "      <th>Env1</th>\n",
       "      <td>-1.503618</td>\n",
       "      <td>-1.488233</td>\n",
       "      <td>1.984873</td>\n",
       "      <td>-0.348129</td>\n",
       "      <td>-1.261420</td>\n",
       "    </tr>\n",
       "    <tr>\n",
       "      <th>Env2</th>\n",
       "      <td>-1.054845</td>\n",
       "      <td>0.500660</td>\n",
       "      <td>-1.236360</td>\n",
       "      <td>0.793435</td>\n",
       "      <td>0.206398</td>\n",
       "    </tr>\n",
       "    <tr>\n",
       "      <th>Env4</th>\n",
       "      <td>-0.037945</td>\n",
       "      <td>3.866751</td>\n",
       "      <td>-0.056167</td>\n",
       "      <td>-0.115631</td>\n",
       "      <td>-0.539778</td>\n",
       "    </tr>\n",
       "    <tr>\n",
       "      <th>Reference</th>\n",
       "      <td>2.480308</td>\n",
       "      <td>-1.371942</td>\n",
       "      <td>-0.832837</td>\n",
       "      <td>-0.296742</td>\n",
       "      <td>1.411058</td>\n",
       "    </tr>\n",
       "  </tbody>\n",
       "</table>\n",
       "</div>"
      ],
      "text/plain": [
       "               Dim.1     Dim.2     Dim.3     Dim.4     Dim.5\n",
       "Bourgueuil -0.515543 -1.479083 -0.595174 -2.660059  0.840635\n",
       "Chinon     -0.958167 -0.250832 -1.187640  1.081558  1.489203\n",
       "Saumur      1.219680  1.535096  1.472131  1.555743 -1.931262\n",
       "Env1       -1.503618 -1.488233  1.984873 -0.348129 -1.261420\n",
       "Env2       -1.054845  0.500660 -1.236360  0.793435  0.206398\n",
       "Env4       -0.037945  3.866751 -0.056167 -0.115631 -0.539778\n",
       "Reference   2.480308 -1.371942 -0.832837 -0.296742  1.411058"
      ]
     },
     "execution_count": 24,
     "metadata": {},
     "output_type": "execute_result"
    }
   ],
   "source": [
    "quali_sup[\"vtest\"]"
   ]
  },
  {
   "cell_type": "markdown",
   "metadata": {},
   "source": [
    "#### Supplementary qualitatives dist"
   ]
  },
  {
   "cell_type": "code",
   "execution_count": 25,
   "metadata": {},
   "outputs": [
    {
     "data": {
      "text/plain": [
       "Bourgueuil    1.879602\n",
       "Chinon        2.282218\n",
       "Saumur        1.453472\n",
       "Env1          2.362693\n",
       "Env2          2.082841\n",
       "Env4          6.107209\n",
       "Reference     3.152340\n",
       "Name: dist, dtype: float64"
      ]
     },
     "execution_count": 25,
     "metadata": {},
     "output_type": "execute_result"
    }
   ],
   "source": [
    "quali_sup[\"dist\"]"
   ]
  },
  {
   "cell_type": "markdown",
   "metadata": {},
   "source": [
    "#### Supplementary qualitatives eta2"
   ]
  },
  {
   "cell_type": "code",
   "execution_count": 26,
   "metadata": {},
   "outputs": [
    {
     "data": {
      "text/html": [
       "<div>\n",
       "<style scoped>\n",
       "    .dataframe tbody tr th:only-of-type {\n",
       "        vertical-align: middle;\n",
       "    }\n",
       "\n",
       "    .dataframe tbody tr th {\n",
       "        vertical-align: top;\n",
       "    }\n",
       "\n",
       "    .dataframe thead th {\n",
       "        text-align: right;\n",
       "    }\n",
       "</style>\n",
       "<table border=\"1\" class=\"dataframe\">\n",
       "  <thead>\n",
       "    <tr style=\"text-align: right;\">\n",
       "      <th></th>\n",
       "      <th>Dim.1</th>\n",
       "      <th>Dim.2</th>\n",
       "      <th>Dim.3</th>\n",
       "      <th>Dim.4</th>\n",
       "      <th>Dim.5</th>\n",
       "    </tr>\n",
       "  </thead>\n",
       "  <tbody>\n",
       "    <tr>\n",
       "      <th>Label</th>\n",
       "      <td>0.082072</td>\n",
       "      <td>0.136786</td>\n",
       "      <td>0.121342</td>\n",
       "      <td>0.357686</td>\n",
       "      <td>0.203807</td>\n",
       "    </tr>\n",
       "    <tr>\n",
       "      <th>Soil</th>\n",
       "      <td>0.322880</td>\n",
       "      <td>0.822507</td>\n",
       "      <td>0.212819</td>\n",
       "      <td>0.031562</td>\n",
       "      <td>0.134212</td>\n",
       "    </tr>\n",
       "  </tbody>\n",
       "</table>\n",
       "</div>"
      ],
      "text/plain": [
       "          Dim.1     Dim.2     Dim.3     Dim.4     Dim.5\n",
       "Label  0.082072  0.136786  0.121342  0.357686  0.203807\n",
       "Soil   0.322880  0.822507  0.212819  0.031562  0.134212"
      ]
     },
     "execution_count": 26,
     "metadata": {},
     "output_type": "execute_result"
    }
   ],
   "source": [
    "quali_sup[\"eta2\"]"
   ]
  },
  {
   "cell_type": "markdown",
   "metadata": {},
   "source": [
    "## Extractions"
   ]
  },
  {
   "cell_type": "code",
   "execution_count": 27,
   "metadata": {},
   "outputs": [],
   "source": [
    "eig = get_eig(res_pca)\n",
    "ind = get_pca(res_pca,choice=\"ind\")\n",
    "var = get_pca(res_pca,choice=\"var\")\n",
    "quanti_sup = get_pca(res_pca,choice=\"quanti_sup\")\n",
    "quali_sup = get_pca(res_pca,choice=\"quali_sup\")\n"
   ]
  },
  {
   "cell_type": "markdown",
   "metadata": {},
   "source": [
    "## Summary PCA"
   ]
  },
  {
   "cell_type": "code",
   "execution_count": 28,
   "metadata": {},
   "outputs": [
    {
     "name": "stdout",
     "output_type": "stream",
     "text": [
      "                     Principal Component Analysis - Results                     \n",
      "\n",
      "Importance of components\n",
      "                       Dim.1   Dim.2   Dim.3   Dim.4   Dim.5   Dim.6   Dim.7  \\\n",
      "Variance              13.706   5.092   2.002   1.332   1.083   0.813   0.745   \n",
      "Difference             8.614   3.091   0.670   0.249   0.271   0.067   0.221   \n",
      "% of var.             50.763  18.861   7.414   4.933   4.011   3.009   2.759   \n",
      "Cumulative % of var.  50.763  69.624  77.039  81.971  85.983  88.992  91.752   \n",
      "\n",
      "                       Dim.8   Dim.9  Dim.10  Dim.11  Dim.12  Dim.13  Dim.14  \\\n",
      "Variance               0.524   0.404   0.343   0.307   0.212   0.114   0.097   \n",
      "Difference             0.121   0.061   0.036   0.095   0.098   0.017   0.014   \n",
      "% of var.              1.942   1.496   1.270   1.138   0.786   0.421   0.359   \n",
      "Cumulative % of var.  93.693  95.189  96.459  97.598  98.383  98.805  99.163   \n",
      "\n",
      "                      Dim.15  Dim.16  Dim.17  Dim.18  Dim.19   Dim.20  \n",
      "Variance               0.083   0.048   0.042   0.029   0.013    0.010  \n",
      "Difference             0.035   0.006   0.013   0.016   0.003      NaN  \n",
      "% of var.              0.308   0.177   0.155   0.108   0.050    0.038  \n",
      "Cumulative % of var.  99.471  99.648  99.804  99.912  99.962  100.000  \n",
      "\n",
      "Individuals (the 10 first)\n",
      "\n",
      "       dist  weight  inertia  Dim.1     ctr   cos2  Dim.2    ctr   cos2  \\\n",
      "2EL   3.731   0.048    0.663  0.134   0.006  0.001 -1.726  2.785  0.214   \n",
      "1CHA  5.864   0.048    1.638 -3.702   4.761  0.398 -2.674  6.686  0.208   \n",
      "1FON  3.989   0.048    0.758 -1.964   1.340  0.242 -1.499  2.102  0.141   \n",
      "1VAU  9.510   0.048    4.307 -8.814  26.990  0.859  1.927  3.471  0.041   \n",
      "1DAM  5.650   0.048    1.520  4.898   8.335  0.751 -0.329  0.101  0.003   \n",
      "2BOU  3.661   0.048    0.638  2.099   1.530  0.329 -0.732  0.501  0.040   \n",
      "1BOI  4.040   0.048    0.777  3.123   3.388  0.598 -0.549  0.282  0.018   \n",
      "3EL   4.628   0.048    1.020  0.684   0.163  0.022  1.692  2.679  0.134   \n",
      "DOM1  2.703   0.048    0.348  0.231   0.019  0.007 -0.808  0.611  0.089   \n",
      "1TUR  4.034   0.048    0.775 -2.191   1.668  0.295 -0.493  0.227  0.015   \n",
      "\n",
      "      Dim.3     ctr   cos2  \n",
      "2EL   1.495   5.317  0.161  \n",
      "1CHA  2.797  18.606  0.227  \n",
      "1FON  0.467   0.518  0.014  \n",
      "1VAU -0.340   0.275  0.001  \n",
      "1DAM -1.189   3.361  0.044  \n",
      "2BOU  0.601   0.859  0.027  \n",
      "1BOI -0.870   1.799  0.046  \n",
      "3EL   3.474  28.704  0.563  \n",
      "DOM1 -0.882   1.848  0.106  \n",
      "1TUR -1.145   3.120  0.081  \n",
      "\n",
      "Continuous variables (the 10 first)\n",
      "\n",
      "                               dist  weight  inertia  Dim.1    ctr   cos2  \\\n",
      "Odor.Intensity.before.shaking   1.0     1.0      1.0  0.532  2.068  0.283   \n",
      "Aroma.quality.before.shaking    1.0     1.0      1.0  0.810  4.787  0.656   \n",
      "Fruity.before.shaking           1.0     1.0      1.0  0.685  3.427  0.470   \n",
      "Flower.before.shaking           1.0     1.0      1.0  0.454  1.505  0.206   \n",
      "Spice.before.shaking            1.0     1.0      1.0  0.005  0.000  0.000   \n",
      "Visual.intensity                1.0     1.0      1.0  0.869  5.507  0.755   \n",
      "Nuance                          1.0     1.0      1.0  0.851  5.287  0.725   \n",
      "Surface.feeling                 1.0     1.0      1.0  0.946  6.529  0.895   \n",
      "Odor.Intensity                  1.0     1.0      1.0  0.600  2.626  0.360   \n",
      "Quality.of.odour                1.0     1.0      1.0  0.806  4.738  0.649   \n",
      "\n",
      "                               Dim.2     ctr   cos2  Dim.3     ctr   cos2  \n",
      "Odor.Intensity.before.shaking  0.693   9.433  0.480 -0.034   0.059  0.001  \n",
      "Aroma.quality.before.shaking  -0.032   0.020  0.001 -0.364   6.621  0.133  \n",
      "Fruity.before.shaking         -0.112   0.247  0.013 -0.580  16.819  0.337  \n",
      "Flower.before.shaking         -0.358   2.517  0.128  0.575  16.524  0.331  \n",
      "Spice.before.shaking           0.816  13.062  0.665  0.149   1.102  0.022  \n",
      "Visual.intensity               0.265   1.374  0.070  0.105   0.551  0.011  \n",
      "Nuance                         0.262   1.349  0.069  0.098   0.480  0.010  \n",
      "Surface.feeling                0.099   0.192  0.010 -0.069   0.240  0.005  \n",
      "Odor.Intensity                 0.620   7.542  0.384  0.200   1.997  0.040  \n",
      "Quality.of.odour              -0.346   2.354  0.120 -0.281   3.955  0.079  \n",
      "\n",
      "Supplementary continuous variables\n",
      "\n",
      "                 Dim.1   cos2  Dim.2   cos2  Dim.3   cos2\n",
      "Overall.quality  0.793  0.629 -0.479  0.229  0.125  0.016\n",
      "Typical          0.802  0.643 -0.443  0.196  0.024  0.001\n",
      "\n",
      "Supplementary categories\n",
      "\n",
      "             dist  Dim.1   cos2  v.test  Dim.2   cos2  v.test  Dim.3   cos2  \\\n",
      "Bourgueuil  1.880 -0.675  0.129  -0.516 -1.180  0.394  -1.479 -0.298  0.025   \n",
      "Chinon      2.282 -1.635  0.513  -0.958 -0.261  0.013  -0.251 -0.775  0.115   \n",
      "Saumur      1.453  0.963  0.439   1.220  0.739  0.258   1.535  0.444  0.093   \n",
      "Env1        2.363 -1.760  0.555  -1.504 -1.062  0.202  -1.488  0.888  0.141   \n",
      "Env2        2.083 -1.562  0.562  -1.055  0.452  0.047   0.501 -0.700  0.113   \n",
      "Env4        6.107 -0.097  0.000  -0.038  6.014  0.970   3.867 -0.055  0.000   \n",
      "Reference   3.152  2.904  0.849   2.480 -0.979  0.096  -1.372 -0.373  0.014   \n",
      "\n",
      "            v.test  \n",
      "Bourgueuil  -0.595  \n",
      "Chinon      -1.188  \n",
      "Saumur       1.472  \n",
      "Env1         1.985  \n",
      "Env2        -1.236  \n",
      "Env4        -0.056  \n",
      "Reference   -0.833  \n",
      "\n",
      "Supplementary categorical variable (eta2)\n",
      "\n",
      "       Dim.1  Dim.2  Dim.3\n",
      "Label  0.082  0.137  0.121\n",
      "Soil   0.323  0.823  0.213\n"
     ]
    }
   ],
   "source": [
    "summaryPCA(res_pca)"
   ]
  },
  {
   "cell_type": "code",
   "execution_count": 29,
   "metadata": {},
   "outputs": [
    {
     "name": "stdout",
     "output_type": "stream",
     "text": [
      "                     Principal Component Analysis - Results                     \n",
      "\n",
      "Importance of components\n",
      "|                      |   Dim.1 |   Dim.2 |   Dim.3 |   Dim.4 |   Dim.5 |   Dim.6 |   Dim.7 |   Dim.8 |   Dim.9 |   Dim.10 |   Dim.11 |   Dim.12 |   Dim.13 |   Dim.14 |   Dim.15 |   Dim.16 |   Dim.17 |   Dim.18 |   Dim.19 |   Dim.20 |\n",
      "|:---------------------|--------:|--------:|--------:|--------:|--------:|--------:|--------:|--------:|--------:|---------:|---------:|---------:|---------:|---------:|---------:|---------:|---------:|---------:|---------:|---------:|\n",
      "| Variance             |  13.706 |   5.092 |   2.002 |   1.332 |   1.083 |   0.813 |   0.745 |   0.524 |   0.404 |    0.343 |    0.307 |    0.212 |    0.114 |    0.097 |    0.083 |    0.048 |    0.042 |    0.029 |    0.013 |    0.01  |\n",
      "| Difference           |   8.614 |   3.091 |   0.67  |   0.249 |   0.271 |   0.067 |   0.221 |   0.121 |   0.061 |    0.036 |    0.095 |    0.098 |    0.017 |    0.014 |    0.035 |    0.006 |    0.013 |    0.016 |    0.003 |  nan     |\n",
      "| % of var.            |  50.763 |  18.861 |   7.414 |   4.933 |   4.011 |   3.009 |   2.759 |   1.942 |   1.496 |    1.27  |    1.138 |    0.786 |    0.421 |    0.359 |    0.308 |    0.177 |    0.155 |    0.108 |    0.05  |    0.038 |\n",
      "| Cumulative % of var. |  50.763 |  69.624 |  77.039 |  81.971 |  85.983 |  88.992 |  91.752 |  93.693 |  95.189 |   96.459 |   97.598 |   98.383 |   98.805 |   99.163 |   99.471 |   99.648 |   99.804 |   99.912 |   99.962 |  100     |\n",
      "\n",
      "Individuals (the 10 first)\n",
      "\n",
      "|      |   dist |   weight |   inertia |   Dim.1 |    ctr |   cos2 |   Dim.2 |   ctr |   cos2 |   Dim.3 |    ctr |   cos2 |\n",
      "|:-----|-------:|---------:|----------:|--------:|-------:|-------:|--------:|------:|-------:|--------:|-------:|-------:|\n",
      "| 2EL  |  3.731 |    0.048 |     0.663 |   0.134 |  0.006 |  0.001 |  -1.726 | 2.785 |  0.214 |   1.495 |  5.317 |  0.161 |\n",
      "| 1CHA |  5.864 |    0.048 |     1.638 |  -3.702 |  4.761 |  0.398 |  -2.674 | 6.686 |  0.208 |   2.797 | 18.606 |  0.227 |\n",
      "| 1FON |  3.989 |    0.048 |     0.758 |  -1.964 |  1.34  |  0.242 |  -1.499 | 2.102 |  0.141 |   0.467 |  0.518 |  0.014 |\n",
      "| 1VAU |  9.51  |    0.048 |     4.307 |  -8.814 | 26.99  |  0.859 |   1.927 | 3.471 |  0.041 |  -0.34  |  0.275 |  0.001 |\n",
      "| 1DAM |  5.65  |    0.048 |     1.52  |   4.898 |  8.335 |  0.751 |  -0.329 | 0.101 |  0.003 |  -1.189 |  3.361 |  0.044 |\n",
      "| 2BOU |  3.661 |    0.048 |     0.638 |   2.099 |  1.53  |  0.329 |  -0.732 | 0.501 |  0.04  |   0.601 |  0.859 |  0.027 |\n",
      "| 1BOI |  4.04  |    0.048 |     0.777 |   3.123 |  3.388 |  0.598 |  -0.549 | 0.282 |  0.018 |  -0.87  |  1.799 |  0.046 |\n",
      "| 3EL  |  4.628 |    0.048 |     1.02  |   0.684 |  0.163 |  0.022 |   1.692 | 2.679 |  0.134 |   3.474 | 28.704 |  0.563 |\n",
      "| DOM1 |  2.703 |    0.048 |     0.348 |   0.231 |  0.019 |  0.007 |  -0.808 | 0.611 |  0.089 |  -0.882 |  1.848 |  0.106 |\n",
      "| 1TUR |  4.034 |    0.048 |     0.775 |  -2.191 |  1.668 |  0.295 |  -0.493 | 0.227 |  0.015 |  -1.145 |  3.12  |  0.081 |\n",
      "\n",
      "Continuous variables (the 10 first)\n",
      "\n",
      "|                               |   dist |   weight |   inertia |   Dim.1 |   ctr |   cos2 |   Dim.2 |    ctr |   cos2 |   Dim.3 |    ctr |   cos2 |\n",
      "|:------------------------------|-------:|---------:|----------:|--------:|------:|-------:|--------:|-------:|-------:|--------:|-------:|-------:|\n",
      "| Odor.Intensity.before.shaking |      1 |        1 |         1 |   0.532 | 2.068 |  0.283 |   0.693 |  9.433 |  0.48  |  -0.034 |  0.059 |  0.001 |\n",
      "| Aroma.quality.before.shaking  |      1 |        1 |         1 |   0.81  | 4.787 |  0.656 |  -0.032 |  0.02  |  0.001 |  -0.364 |  6.621 |  0.133 |\n",
      "| Fruity.before.shaking         |      1 |        1 |         1 |   0.685 | 3.427 |  0.47  |  -0.112 |  0.247 |  0.013 |  -0.58  | 16.819 |  0.337 |\n",
      "| Flower.before.shaking         |      1 |        1 |         1 |   0.454 | 1.505 |  0.206 |  -0.358 |  2.517 |  0.128 |   0.575 | 16.524 |  0.331 |\n",
      "| Spice.before.shaking          |      1 |        1 |         1 |   0.005 | 0     |  0     |   0.816 | 13.062 |  0.665 |   0.149 |  1.102 |  0.022 |\n",
      "| Visual.intensity              |      1 |        1 |         1 |   0.869 | 5.507 |  0.755 |   0.265 |  1.374 |  0.07  |   0.105 |  0.551 |  0.011 |\n",
      "| Nuance                        |      1 |        1 |         1 |   0.851 | 5.287 |  0.725 |   0.262 |  1.349 |  0.069 |   0.098 |  0.48  |  0.01  |\n",
      "| Surface.feeling               |      1 |        1 |         1 |   0.946 | 6.529 |  0.895 |   0.099 |  0.192 |  0.01  |  -0.069 |  0.24  |  0.005 |\n",
      "| Odor.Intensity                |      1 |        1 |         1 |   0.6   | 2.626 |  0.36  |   0.62  |  7.542 |  0.384 |   0.2   |  1.997 |  0.04  |\n",
      "| Quality.of.odour              |      1 |        1 |         1 |   0.806 | 4.738 |  0.649 |  -0.346 |  2.354 |  0.12  |  -0.281 |  3.955 |  0.079 |\n",
      "\n",
      "Supplementary continuous variables\n",
      "\n",
      "|                 |   Dim.1 |   cos2 |   Dim.2 |   cos2 |   Dim.3 |   cos2 |\n",
      "|:----------------|--------:|-------:|--------:|-------:|--------:|-------:|\n",
      "| Overall.quality |   0.793 |  0.629 |  -0.479 |  0.229 |   0.125 |  0.016 |\n",
      "| Typical         |   0.802 |  0.643 |  -0.443 |  0.196 |   0.024 |  0.001 |\n",
      "\n",
      "Supplementary categories\n",
      "\n",
      "|            |   dist |   Dim.1 |   cos2 |   v.test |   Dim.2 |   cos2 |   v.test |   Dim.3 |   cos2 |   v.test |\n",
      "|:-----------|-------:|--------:|-------:|---------:|--------:|-------:|---------:|--------:|-------:|---------:|\n",
      "| Bourgueuil |  1.88  |  -0.675 |  0.129 |   -0.516 |  -1.18  |  0.394 |   -1.479 |  -0.298 |  0.025 |   -0.595 |\n",
      "| Chinon     |  2.282 |  -1.635 |  0.513 |   -0.958 |  -0.261 |  0.013 |   -0.251 |  -0.775 |  0.115 |   -1.188 |\n",
      "| Saumur     |  1.453 |   0.963 |  0.439 |    1.22  |   0.739 |  0.258 |    1.535 |   0.444 |  0.093 |    1.472 |\n",
      "| Env1       |  2.363 |  -1.76  |  0.555 |   -1.504 |  -1.062 |  0.202 |   -1.488 |   0.888 |  0.141 |    1.985 |\n",
      "| Env2       |  2.083 |  -1.562 |  0.562 |   -1.055 |   0.452 |  0.047 |    0.501 |  -0.7   |  0.113 |   -1.236 |\n",
      "| Env4       |  6.107 |  -0.097 |  0     |   -0.038 |   6.014 |  0.97  |    3.867 |  -0.055 |  0     |   -0.056 |\n",
      "| Reference  |  3.152 |   2.904 |  0.849 |    2.48  |  -0.979 |  0.096 |   -1.372 |  -0.373 |  0.014 |   -0.833 |\n",
      "\n",
      "Supplementary categorical variable (eta2)\n",
      "\n",
      "|       |   Dim.1 |   Dim.2 |   Dim.3 |\n",
      "|:------|--------:|--------:|--------:|\n",
      "| Label |   0.082 |   0.137 |   0.121 |\n",
      "| Soil  |   0.323 |   0.823 |   0.213 |\n"
     ]
    }
   ],
   "source": [
    "summaryPCA(res_pca,to_markdown=True)"
   ]
  },
  {
   "cell_type": "code",
   "execution_count": 30,
   "metadata": {},
   "outputs": [
    {
     "data": {
      "text/plain": [
       "dict_keys(['Dim.1', 'Dim.2', 'Dim.3', 'Dim.4', 'Dim.5'])"
      ]
     },
     "execution_count": 30,
     "metadata": {},
     "output_type": "execute_result"
    }
   ],
   "source": [
    "dimDesc = dimdesc(res_pca)\n",
    "dimDesc.keys()"
   ]
  },
  {
   "cell_type": "markdown",
   "metadata": {},
   "source": [
    "## Reconst"
   ]
  },
  {
   "cell_type": "code",
   "execution_count": 31,
   "metadata": {},
   "outputs": [],
   "source": [
    "from scientisttools import reconst\n",
    "X_new = reconst(res_pca,n_components=2)"
   ]
  }
 ],
 "metadata": {
  "kernelspec": {
   "display_name": "Python 3",
   "language": "python",
   "name": "python3"
  },
  "language_info": {
   "codemirror_mode": {
    "name": "ipython",
    "version": 3
   },
   "file_extension": ".py",
   "mimetype": "text/x-python",
   "name": "python",
   "nbconvert_exporter": "python",
   "pygments_lexer": "ipython3",
   "version": "3.10.5"
  }
 },
 "nbformat": 4,
 "nbformat_minor": 2
}
