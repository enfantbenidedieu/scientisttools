{
 "cells": [
  {
   "cell_type": "markdown",
   "metadata": {},
   "source": [
    "# Mixed PCA (MPCA) gironde"
   ]
  },
  {
   "cell_type": "code",
   "execution_count": 1,
   "metadata": {},
   "outputs": [],
   "source": [
    "import warnings\n",
    "warnings.simplefilter(action='ignore', category=FutureWarning)\n",
    "warnings.filterwarnings(\"ignore\")"
   ]
  },
  {
   "cell_type": "code",
   "execution_count": 2,
   "metadata": {},
   "outputs": [
    {
     "name": "stdout",
     "output_type": "stream",
     "text": [
      "<class 'pandas.core.frame.DataFrame'>\n",
      "Index: 542 entries, ABZAC to MARCHEPRIME\n",
      "Data columns (total 27 columns):\n",
      " #   Column      Non-Null Count  Dtype   \n",
      "---  ------      --------------  -----   \n",
      " 0   farmers     542 non-null    float64 \n",
      " 1   tradesmen   542 non-null    float64 \n",
      " 2   managers    542 non-null    float64 \n",
      " 3   workers     542 non-null    float64 \n",
      " 4   unemployed  542 non-null    float64 \n",
      " 5   middleempl  542 non-null    float64 \n",
      " 6   retired     542 non-null    float64 \n",
      " 7   employrate  542 non-null    float64 \n",
      " 8   income      540 non-null    float64 \n",
      " 9   density     542 non-null    float64 \n",
      " 10  primaryres  542 non-null    float64 \n",
      " 11  houses      542 non-null    category\n",
      " 12  owners      542 non-null    float64 \n",
      " 13  council     542 non-null    category\n",
      " 14  butcher     542 non-null    category\n",
      " 15  baker       542 non-null    category\n",
      " 16  postoffice  542 non-null    category\n",
      " 17  dentist     542 non-null    category\n",
      " 18  grocery     542 non-null    category\n",
      " 19  nursery     542 non-null    category\n",
      " 20  doctor      542 non-null    category\n",
      " 21  chemist     542 non-null    category\n",
      " 22  restaurant  542 non-null    category\n",
      " 23  building    542 non-null    float64 \n",
      " 24  water       542 non-null    float64 \n",
      " 25  vegetation  542 non-null    float64 \n",
      " 26  agricul     542 non-null    float64 \n",
      "dtypes: category(11), float64(16)\n",
      "memory usage: 79.3+ KB\n"
     ]
    }
   ],
   "source": [
    "# Load gironde dataset\n",
    "from scientisttools import load_gironde\n",
    "gironde = load_gironde()\n",
    "gironde.info()"
   ]
  },
  {
   "cell_type": "markdown",
   "metadata": {},
   "source": [
    "## MPCA with supplementary elements"
   ]
  },
  {
   "cell_type": "code",
   "execution_count": 3,
   "metadata": {},
   "outputs": [],
   "source": [
    "from scientisttools import MPCA\n",
    "res_mpca = MPCA(n_components=5,quanti_sup=list(range(23,27)),quali_sup=list(range(14,23)),ind_sup=list(range(500,542))).fit(gironde)"
   ]
  },
  {
   "cell_type": "markdown",
   "metadata": {},
   "source": [
    "### Eigenvalues"
   ]
  },
  {
   "cell_type": "code",
   "execution_count": 4,
   "metadata": {},
   "outputs": [
    {
     "data": {
      "text/html": [
       "<div>\n",
       "<style scoped>\n",
       "    .dataframe tbody tr th:only-of-type {\n",
       "        vertical-align: middle;\n",
       "    }\n",
       "\n",
       "    .dataframe tbody tr th {\n",
       "        vertical-align: top;\n",
       "    }\n",
       "\n",
       "    .dataframe thead th {\n",
       "        text-align: right;\n",
       "    }\n",
       "</style>\n",
       "<table border=\"1\" class=\"dataframe\">\n",
       "  <thead>\n",
       "    <tr style=\"text-align: right;\">\n",
       "      <th></th>\n",
       "      <th>eigenvalue</th>\n",
       "      <th>difference</th>\n",
       "      <th>proportion</th>\n",
       "      <th>cumulative</th>\n",
       "    </tr>\n",
       "  </thead>\n",
       "  <tbody>\n",
       "    <tr>\n",
       "      <th>Dim.1</th>\n",
       "      <td>4.302148</td>\n",
       "      <td>1.690650</td>\n",
       "      <td>26.888426</td>\n",
       "      <td>26.888426</td>\n",
       "    </tr>\n",
       "    <tr>\n",
       "      <th>Dim.2</th>\n",
       "      <td>2.611498</td>\n",
       "      <td>0.870962</td>\n",
       "      <td>16.321861</td>\n",
       "      <td>43.210287</td>\n",
       "    </tr>\n",
       "    <tr>\n",
       "      <th>Dim.3</th>\n",
       "      <td>1.740536</td>\n",
       "      <td>0.565576</td>\n",
       "      <td>10.878349</td>\n",
       "      <td>54.088636</td>\n",
       "    </tr>\n",
       "    <tr>\n",
       "      <th>Dim.4</th>\n",
       "      <td>1.174960</td>\n",
       "      <td>0.100297</td>\n",
       "      <td>7.343498</td>\n",
       "      <td>61.432134</td>\n",
       "    </tr>\n",
       "    <tr>\n",
       "      <th>Dim.5</th>\n",
       "      <td>1.074663</td>\n",
       "      <td>0.156104</td>\n",
       "      <td>6.716642</td>\n",
       "      <td>68.148776</td>\n",
       "    </tr>\n",
       "    <tr>\n",
       "      <th>Dim.6</th>\n",
       "      <td>0.918559</td>\n",
       "      <td>0.004590</td>\n",
       "      <td>5.740993</td>\n",
       "      <td>73.889770</td>\n",
       "    </tr>\n",
       "  </tbody>\n",
       "</table>\n",
       "</div>"
      ],
      "text/plain": [
       "       eigenvalue  difference  proportion  cumulative\n",
       "Dim.1    4.302148    1.690650   26.888426   26.888426\n",
       "Dim.2    2.611498    0.870962   16.321861   43.210287\n",
       "Dim.3    1.740536    0.565576   10.878349   54.088636\n",
       "Dim.4    1.174960    0.100297    7.343498   61.432134\n",
       "Dim.5    1.074663    0.156104    6.716642   68.148776\n",
       "Dim.6    0.918559    0.004590    5.740993   73.889770"
      ]
     },
     "execution_count": 4,
     "metadata": {},
     "output_type": "execute_result"
    }
   ],
   "source": [
    "# Eigenvalues\n",
    "res_mpca.eig_.head(6)"
   ]
  }
 ],
 "metadata": {
  "kernelspec": {
   "display_name": "Python 3",
   "language": "python",
   "name": "python3"
  },
  "language_info": {
   "codemirror_mode": {
    "name": "ipython",
    "version": 3
   },
   "file_extension": ".py",
   "mimetype": "text/x-python",
   "name": "python",
   "nbconvert_exporter": "python",
   "pygments_lexer": "ipython3",
   "version": "3.10.5"
  }
 },
 "nbformat": 4,
 "nbformat_minor": 2
}
