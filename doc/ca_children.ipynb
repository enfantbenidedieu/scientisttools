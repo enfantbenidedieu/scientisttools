{
 "cells": [
  {
   "cell_type": "markdown",
   "metadata": {},
   "source": [
    "# CA children"
   ]
  },
  {
   "cell_type": "code",
   "execution_count": 1,
   "metadata": {},
   "outputs": [],
   "source": [
    "import warnings\n",
    "warnings.simplefilter(action='ignore', category=FutureWarning)\n",
    "warnings.filterwarnings(\"ignore\")"
   ]
  },
  {
   "cell_type": "code",
   "execution_count": 2,
   "metadata": {},
   "outputs": [],
   "source": [
    "import pyreadr\n",
    "result = pyreadr.read_r('./data/children.rda')\n",
    "children = result[\"children\"]"
   ]
  },
  {
   "cell_type": "code",
   "execution_count": 3,
   "metadata": {},
   "outputs": [],
   "source": [
    "children[\"group\"] = [\"A\"]*4 + [\"B\"]*5 + [\"C\"]*5 +[\"D\"]*4"
   ]
  },
  {
   "cell_type": "code",
   "execution_count": 4,
   "metadata": {},
   "outputs": [
    {
     "data": {
      "text/html": [
       "<style>#sk-container-id-1 {color: black;background-color: white;}#sk-container-id-1 pre{padding: 0;}#sk-container-id-1 div.sk-toggleable {background-color: white;}#sk-container-id-1 label.sk-toggleable__label {cursor: pointer;display: block;width: 100%;margin-bottom: 0;padding: 0.3em;box-sizing: border-box;text-align: center;}#sk-container-id-1 label.sk-toggleable__label-arrow:before {content: \"▸\";float: left;margin-right: 0.25em;color: #696969;}#sk-container-id-1 label.sk-toggleable__label-arrow:hover:before {color: black;}#sk-container-id-1 div.sk-estimator:hover label.sk-toggleable__label-arrow:before {color: black;}#sk-container-id-1 div.sk-toggleable__content {max-height: 0;max-width: 0;overflow: hidden;text-align: left;background-color: #f0f8ff;}#sk-container-id-1 div.sk-toggleable__content pre {margin: 0.2em;color: black;border-radius: 0.25em;background-color: #f0f8ff;}#sk-container-id-1 input.sk-toggleable__control:checked~div.sk-toggleable__content {max-height: 200px;max-width: 100%;overflow: auto;}#sk-container-id-1 input.sk-toggleable__control:checked~label.sk-toggleable__label-arrow:before {content: \"▾\";}#sk-container-id-1 div.sk-estimator input.sk-toggleable__control:checked~label.sk-toggleable__label {background-color: #d4ebff;}#sk-container-id-1 div.sk-label input.sk-toggleable__control:checked~label.sk-toggleable__label {background-color: #d4ebff;}#sk-container-id-1 input.sk-hidden--visually {border: 0;clip: rect(1px 1px 1px 1px);clip: rect(1px, 1px, 1px, 1px);height: 1px;margin: -1px;overflow: hidden;padding: 0;position: absolute;width: 1px;}#sk-container-id-1 div.sk-estimator {font-family: monospace;background-color: #f0f8ff;border: 1px dotted black;border-radius: 0.25em;box-sizing: border-box;margin-bottom: 0.5em;}#sk-container-id-1 div.sk-estimator:hover {background-color: #d4ebff;}#sk-container-id-1 div.sk-parallel-item::after {content: \"\";width: 100%;border-bottom: 1px solid gray;flex-grow: 1;}#sk-container-id-1 div.sk-label:hover label.sk-toggleable__label {background-color: #d4ebff;}#sk-container-id-1 div.sk-serial::before {content: \"\";position: absolute;border-left: 1px solid gray;box-sizing: border-box;top: 0;bottom: 0;left: 50%;z-index: 0;}#sk-container-id-1 div.sk-serial {display: flex;flex-direction: column;align-items: center;background-color: white;padding-right: 0.2em;padding-left: 0.2em;position: relative;}#sk-container-id-1 div.sk-item {position: relative;z-index: 1;}#sk-container-id-1 div.sk-parallel {display: flex;align-items: stretch;justify-content: center;background-color: white;position: relative;}#sk-container-id-1 div.sk-item::before, #sk-container-id-1 div.sk-parallel-item::before {content: \"\";position: absolute;border-left: 1px solid gray;box-sizing: border-box;top: 0;bottom: 0;left: 50%;z-index: -1;}#sk-container-id-1 div.sk-parallel-item {display: flex;flex-direction: column;z-index: 1;position: relative;background-color: white;}#sk-container-id-1 div.sk-parallel-item:first-child::after {align-self: flex-end;width: 50%;}#sk-container-id-1 div.sk-parallel-item:last-child::after {align-self: flex-start;width: 50%;}#sk-container-id-1 div.sk-parallel-item:only-child::after {width: 0;}#sk-container-id-1 div.sk-dashed-wrapped {border: 1px dashed gray;margin: 0 0.4em 0.5em 0.4em;box-sizing: border-box;padding-bottom: 0.4em;background-color: white;}#sk-container-id-1 div.sk-label label {font-family: monospace;font-weight: bold;display: inline-block;line-height: 1.2em;}#sk-container-id-1 div.sk-label-container {text-align: center;}#sk-container-id-1 div.sk-container {/* jupyter's `normalize.less` sets `[hidden] { display: none; }` but bootstrap.min.css set `[hidden] { display: none !important; }` so we also need the `!important` here to be able to override the default hidden behavior on the sphinx rendered scikit-learn.org. See: https://github.com/scikit-learn/scikit-learn/issues/21755 */display: inline-block !important;position: relative;}#sk-container-id-1 div.sk-text-repr-fallback {display: none;}</style><div id=\"sk-container-id-1\" class=\"sk-top-container\"><div class=\"sk-text-repr-fallback\"><pre>CA(col_sup=[5, 6, 7], quali_sup=8, row_sup=[14, 15, 16, 17])</pre><b>In a Jupyter environment, please rerun this cell to show the HTML representation or trust the notebook. <br />On GitHub, the HTML representation is unable to render, please try loading this page with nbviewer.org.</b></div><div class=\"sk-container\" hidden><div class=\"sk-item\"><div class=\"sk-estimator sk-toggleable\"><input class=\"sk-toggleable__control sk-hidden--visually\" id=\"sk-estimator-id-1\" type=\"checkbox\" checked><label for=\"sk-estimator-id-1\" class=\"sk-toggleable__label sk-toggleable__label-arrow\">CA</label><div class=\"sk-toggleable__content\"><pre>CA(col_sup=[5, 6, 7], quali_sup=8, row_sup=[14, 15, 16, 17])</pre></div></div></div></div></div>"
      ],
      "text/plain": [
       "CA(col_sup=[5, 6, 7], quali_sup=8, row_sup=[14, 15, 16, 17])"
      ]
     },
     "execution_count": 4,
     "metadata": {},
     "output_type": "execute_result"
    }
   ],
   "source": [
    "from scientisttools import CA\n",
    "res_ca = CA(n_components=None,row_sup=list(range(14,18)),col_sup=list(range(5,8)),quali_sup=8)\n",
    "res_ca.fit(children)"
   ]
  },
  {
   "cell_type": "markdown",
   "metadata": {},
   "source": [
    "## fit_transform"
   ]
  },
  {
   "cell_type": "code",
   "execution_count": 5,
   "metadata": {},
   "outputs": [
    {
     "data": {
      "text/html": [
       "<div>\n",
       "<style scoped>\n",
       "    .dataframe tbody tr th:only-of-type {\n",
       "        vertical-align: middle;\n",
       "    }\n",
       "\n",
       "    .dataframe tbody tr th {\n",
       "        vertical-align: top;\n",
       "    }\n",
       "\n",
       "    .dataframe thead th {\n",
       "        text-align: right;\n",
       "    }\n",
       "</style>\n",
       "<table border=\"1\" class=\"dataframe\">\n",
       "  <thead>\n",
       "    <tr style=\"text-align: right;\">\n",
       "      <th></th>\n",
       "      <th>Dim.1</th>\n",
       "      <th>Dim.2</th>\n",
       "      <th>Dim.3</th>\n",
       "      <th>Dim.4</th>\n",
       "    </tr>\n",
       "  </thead>\n",
       "  <tbody>\n",
       "    <tr>\n",
       "      <th>money</th>\n",
       "      <td>-0.115267</td>\n",
       "      <td>0.020046</td>\n",
       "      <td>0.100837</td>\n",
       "      <td>0.084583</td>\n",
       "    </tr>\n",
       "    <tr>\n",
       "      <th>future</th>\n",
       "      <td>0.176449</td>\n",
       "      <td>-0.097863</td>\n",
       "      <td>-0.052594</td>\n",
       "      <td>-0.005372</td>\n",
       "    </tr>\n",
       "    <tr>\n",
       "      <th>unemployment</th>\n",
       "      <td>-0.212228</td>\n",
       "      <td>-0.070718</td>\n",
       "      <td>-0.004350</td>\n",
       "      <td>-0.037671</td>\n",
       "    </tr>\n",
       "    <tr>\n",
       "      <th>circumstances</th>\n",
       "      <td>0.400922</td>\n",
       "      <td>0.330987</td>\n",
       "      <td>-0.015637</td>\n",
       "      <td>-0.068690</td>\n",
       "    </tr>\n",
       "    <tr>\n",
       "      <th>hard</th>\n",
       "      <td>-0.249984</td>\n",
       "      <td>0.067650</td>\n",
       "      <td>0.060320</td>\n",
       "      <td>-0.003176</td>\n",
       "    </tr>\n",
       "    <tr>\n",
       "      <th>economic</th>\n",
       "      <td>0.353964</td>\n",
       "      <td>0.320724</td>\n",
       "      <td>0.084022</td>\n",
       "      <td>0.154444</td>\n",
       "    </tr>\n",
       "  </tbody>\n",
       "</table>\n",
       "</div>"
      ],
      "text/plain": [
       "                  Dim.1     Dim.2     Dim.3     Dim.4\n",
       "money         -0.115267  0.020046  0.100837  0.084583\n",
       "future         0.176449 -0.097863 -0.052594 -0.005372\n",
       "unemployment  -0.212228 -0.070718 -0.004350 -0.037671\n",
       "circumstances  0.400922  0.330987 -0.015637 -0.068690\n",
       "hard          -0.249984  0.067650  0.060320 -0.003176\n",
       "economic       0.353964  0.320724  0.084022  0.154444"
      ]
     },
     "execution_count": 5,
     "metadata": {},
     "output_type": "execute_result"
    }
   ],
   "source": [
    "res_ca.fit_transform(children).iloc[:6,:6]"
   ]
  },
  {
   "cell_type": "markdown",
   "metadata": {},
   "source": [
    "## transform"
   ]
  },
  {
   "cell_type": "code",
   "execution_count": 6,
   "metadata": {},
   "outputs": [
    {
     "data": {
      "text/html": [
       "<div>\n",
       "<style scoped>\n",
       "    .dataframe tbody tr th:only-of-type {\n",
       "        vertical-align: middle;\n",
       "    }\n",
       "\n",
       "    .dataframe tbody tr th {\n",
       "        vertical-align: top;\n",
       "    }\n",
       "\n",
       "    .dataframe thead th {\n",
       "        text-align: right;\n",
       "    }\n",
       "</style>\n",
       "<table border=\"1\" class=\"dataframe\">\n",
       "  <thead>\n",
       "    <tr style=\"text-align: right;\">\n",
       "      <th></th>\n",
       "      <th>Dim.1</th>\n",
       "      <th>Dim.2</th>\n",
       "      <th>Dim.3</th>\n",
       "      <th>Dim.4</th>\n",
       "    </tr>\n",
       "    <tr>\n",
       "      <th>rownames</th>\n",
       "      <th></th>\n",
       "      <th></th>\n",
       "      <th></th>\n",
       "      <th></th>\n",
       "    </tr>\n",
       "  </thead>\n",
       "  <tbody>\n",
       "    <tr>\n",
       "      <th>money</th>\n",
       "      <td>-0.115267</td>\n",
       "      <td>0.020046</td>\n",
       "      <td>0.100837</td>\n",
       "      <td>0.084583</td>\n",
       "    </tr>\n",
       "    <tr>\n",
       "      <th>future</th>\n",
       "      <td>0.176449</td>\n",
       "      <td>-0.097863</td>\n",
       "      <td>-0.052594</td>\n",
       "      <td>-0.005372</td>\n",
       "    </tr>\n",
       "    <tr>\n",
       "      <th>unemployment</th>\n",
       "      <td>-0.212228</td>\n",
       "      <td>-0.070718</td>\n",
       "      <td>-0.004350</td>\n",
       "      <td>-0.037671</td>\n",
       "    </tr>\n",
       "    <tr>\n",
       "      <th>circumstances</th>\n",
       "      <td>0.400922</td>\n",
       "      <td>0.330987</td>\n",
       "      <td>-0.015637</td>\n",
       "      <td>-0.068690</td>\n",
       "    </tr>\n",
       "    <tr>\n",
       "      <th>hard</th>\n",
       "      <td>-0.249984</td>\n",
       "      <td>0.067650</td>\n",
       "      <td>0.060320</td>\n",
       "      <td>-0.003176</td>\n",
       "    </tr>\n",
       "    <tr>\n",
       "      <th>economic</th>\n",
       "      <td>0.353964</td>\n",
       "      <td>0.320724</td>\n",
       "      <td>0.084022</td>\n",
       "      <td>0.154444</td>\n",
       "    </tr>\n",
       "  </tbody>\n",
       "</table>\n",
       "</div>"
      ],
      "text/plain": [
       "                  Dim.1     Dim.2     Dim.3     Dim.4\n",
       "rownames                                             \n",
       "money         -0.115267  0.020046  0.100837  0.084583\n",
       "future         0.176449 -0.097863 -0.052594 -0.005372\n",
       "unemployment  -0.212228 -0.070718 -0.004350 -0.037671\n",
       "circumstances  0.400922  0.330987 -0.015637 -0.068690\n",
       "hard          -0.249984  0.067650  0.060320 -0.003176\n",
       "economic       0.353964  0.320724  0.084022  0.154444"
      ]
     },
     "execution_count": 6,
     "metadata": {},
     "output_type": "execute_result"
    }
   ],
   "source": [
    "res_ca.transform(res_ca.call_[\"X\"]).iloc[:6,:5]"
   ]
  },
  {
   "cell_type": "markdown",
   "metadata": {},
   "source": [
    "## Eigenvalues"
   ]
  },
  {
   "cell_type": "code",
   "execution_count": 7,
   "metadata": {},
   "outputs": [
    {
     "data": {
      "text/html": [
       "<div>\n",
       "<style scoped>\n",
       "    .dataframe tbody tr th:only-of-type {\n",
       "        vertical-align: middle;\n",
       "    }\n",
       "\n",
       "    .dataframe tbody tr th {\n",
       "        vertical-align: top;\n",
       "    }\n",
       "\n",
       "    .dataframe thead th {\n",
       "        text-align: right;\n",
       "    }\n",
       "</style>\n",
       "<table border=\"1\" class=\"dataframe\">\n",
       "  <thead>\n",
       "    <tr style=\"text-align: right;\">\n",
       "      <th></th>\n",
       "      <th>eigenvalue</th>\n",
       "      <th>difference</th>\n",
       "      <th>proportion</th>\n",
       "      <th>cumulative</th>\n",
       "    </tr>\n",
       "  </thead>\n",
       "  <tbody>\n",
       "    <tr>\n",
       "      <th>Dim.1</th>\n",
       "      <td>0.035402</td>\n",
       "      <td>0.022287</td>\n",
       "      <td>57.042856</td>\n",
       "      <td>57.042856</td>\n",
       "    </tr>\n",
       "    <tr>\n",
       "      <th>Dim.2</th>\n",
       "      <td>0.013115</td>\n",
       "      <td>0.005814</td>\n",
       "      <td>21.131905</td>\n",
       "      <td>78.174761</td>\n",
       "    </tr>\n",
       "    <tr>\n",
       "      <th>Dim.3</th>\n",
       "      <td>0.007301</td>\n",
       "      <td>0.001057</td>\n",
       "      <td>11.764358</td>\n",
       "      <td>89.939119</td>\n",
       "    </tr>\n",
       "    <tr>\n",
       "      <th>Dim.4</th>\n",
       "      <td>0.006244</td>\n",
       "      <td>NaN</td>\n",
       "      <td>10.060881</td>\n",
       "      <td>100.000000</td>\n",
       "    </tr>\n",
       "  </tbody>\n",
       "</table>\n",
       "</div>"
      ],
      "text/plain": [
       "       eigenvalue  difference  proportion  cumulative\n",
       "Dim.1    0.035402    0.022287   57.042856   57.042856\n",
       "Dim.2    0.013115    0.005814   21.131905   78.174761\n",
       "Dim.3    0.007301    0.001057   11.764358   89.939119\n",
       "Dim.4    0.006244         NaN   10.060881  100.000000"
      ]
     },
     "execution_count": 7,
     "metadata": {},
     "output_type": "execute_result"
    }
   ],
   "source": [
    "eig = res_ca.eig_\n",
    "eig"
   ]
  },
  {
   "cell_type": "markdown",
   "metadata": {},
   "source": [
    "## Row informations"
   ]
  },
  {
   "cell_type": "code",
   "execution_count": 8,
   "metadata": {},
   "outputs": [
    {
     "data": {
      "text/plain": [
       "dict_keys(['coord', 'contrib', 'cos2', 'infos'])"
      ]
     },
     "execution_count": 8,
     "metadata": {},
     "output_type": "execute_result"
    }
   ],
   "source": [
    "row = res_ca.row_\n",
    "row.keys()"
   ]
  },
  {
   "cell_type": "markdown",
   "metadata": {},
   "source": [
    "### Row coordinates"
   ]
  },
  {
   "cell_type": "code",
   "execution_count": 9,
   "metadata": {},
   "outputs": [
    {
     "data": {
      "text/html": [
       "<div>\n",
       "<style scoped>\n",
       "    .dataframe tbody tr th:only-of-type {\n",
       "        vertical-align: middle;\n",
       "    }\n",
       "\n",
       "    .dataframe tbody tr th {\n",
       "        vertical-align: top;\n",
       "    }\n",
       "\n",
       "    .dataframe thead th {\n",
       "        text-align: right;\n",
       "    }\n",
       "</style>\n",
       "<table border=\"1\" class=\"dataframe\">\n",
       "  <thead>\n",
       "    <tr style=\"text-align: right;\">\n",
       "      <th></th>\n",
       "      <th>Dim.1</th>\n",
       "      <th>Dim.2</th>\n",
       "      <th>Dim.3</th>\n",
       "      <th>Dim.4</th>\n",
       "    </tr>\n",
       "  </thead>\n",
       "  <tbody>\n",
       "    <tr>\n",
       "      <th>money</th>\n",
       "      <td>-0.115267</td>\n",
       "      <td>0.020046</td>\n",
       "      <td>0.100837</td>\n",
       "      <td>0.084583</td>\n",
       "    </tr>\n",
       "    <tr>\n",
       "      <th>future</th>\n",
       "      <td>0.176449</td>\n",
       "      <td>-0.097863</td>\n",
       "      <td>-0.052594</td>\n",
       "      <td>-0.005372</td>\n",
       "    </tr>\n",
       "    <tr>\n",
       "      <th>unemployment</th>\n",
       "      <td>-0.212228</td>\n",
       "      <td>-0.070718</td>\n",
       "      <td>-0.004350</td>\n",
       "      <td>-0.037671</td>\n",
       "    </tr>\n",
       "    <tr>\n",
       "      <th>circumstances</th>\n",
       "      <td>0.400922</td>\n",
       "      <td>0.330987</td>\n",
       "      <td>-0.015637</td>\n",
       "      <td>-0.068690</td>\n",
       "    </tr>\n",
       "    <tr>\n",
       "      <th>hard</th>\n",
       "      <td>-0.249984</td>\n",
       "      <td>0.067650</td>\n",
       "      <td>0.060320</td>\n",
       "      <td>-0.003176</td>\n",
       "    </tr>\n",
       "    <tr>\n",
       "      <th>economic</th>\n",
       "      <td>0.353964</td>\n",
       "      <td>0.320724</td>\n",
       "      <td>0.084022</td>\n",
       "      <td>0.154444</td>\n",
       "    </tr>\n",
       "  </tbody>\n",
       "</table>\n",
       "</div>"
      ],
      "text/plain": [
       "                  Dim.1     Dim.2     Dim.3     Dim.4\n",
       "money         -0.115267  0.020046  0.100837  0.084583\n",
       "future         0.176449 -0.097863 -0.052594 -0.005372\n",
       "unemployment  -0.212228 -0.070718 -0.004350 -0.037671\n",
       "circumstances  0.400922  0.330987 -0.015637 -0.068690\n",
       "hard          -0.249984  0.067650  0.060320 -0.003176\n",
       "economic       0.353964  0.320724  0.084022  0.154444"
      ]
     },
     "execution_count": 9,
     "metadata": {},
     "output_type": "execute_result"
    }
   ],
   "source": [
    "row[\"coord\"].head(6)"
   ]
  },
  {
   "cell_type": "markdown",
   "metadata": {},
   "source": [
    "### Row contributions"
   ]
  },
  {
   "cell_type": "code",
   "execution_count": 10,
   "metadata": {},
   "outputs": [
    {
     "data": {
      "text/html": [
       "<div>\n",
       "<style scoped>\n",
       "    .dataframe tbody tr th:only-of-type {\n",
       "        vertical-align: middle;\n",
       "    }\n",
       "\n",
       "    .dataframe tbody tr th {\n",
       "        vertical-align: top;\n",
       "    }\n",
       "\n",
       "    .dataframe thead th {\n",
       "        text-align: right;\n",
       "    }\n",
       "</style>\n",
       "<table border=\"1\" class=\"dataframe\">\n",
       "  <thead>\n",
       "    <tr style=\"text-align: right;\">\n",
       "      <th></th>\n",
       "      <th>Dim.1</th>\n",
       "      <th>Dim.2</th>\n",
       "      <th>Dim.3</th>\n",
       "      <th>Dim.4</th>\n",
       "    </tr>\n",
       "  </thead>\n",
       "  <tbody>\n",
       "    <tr>\n",
       "      <th>money</th>\n",
       "      <td>4.549939</td>\n",
       "      <td>0.371463</td>\n",
       "      <td>16.883571</td>\n",
       "      <td>13.890815</td>\n",
       "    </tr>\n",
       "    <tr>\n",
       "      <th>future</th>\n",
       "      <td>17.567192</td>\n",
       "      <td>14.586929</td>\n",
       "      <td>7.567800</td>\n",
       "      <td>0.092336</td>\n",
       "    </tr>\n",
       "    <tr>\n",
       "      <th>unemployment</th>\n",
       "      <td>22.616497</td>\n",
       "      <td>6.778601</td>\n",
       "      <td>0.046080</td>\n",
       "      <td>4.040257</td>\n",
       "    </tr>\n",
       "    <tr>\n",
       "      <th>circumstances</th>\n",
       "      <td>6.274473</td>\n",
       "      <td>11.543600</td>\n",
       "      <td>0.046281</td>\n",
       "      <td>1.044260</td>\n",
       "    </tr>\n",
       "    <tr>\n",
       "      <th>hard</th>\n",
       "      <td>2.993810</td>\n",
       "      <td>0.591838</td>\n",
       "      <td>0.845179</td>\n",
       "      <td>0.002740</td>\n",
       "    </tr>\n",
       "    <tr>\n",
       "      <th>economic</th>\n",
       "      <td>12.004568</td>\n",
       "      <td>26.604422</td>\n",
       "      <td>3.279789</td>\n",
       "      <td>12.957996</td>\n",
       "    </tr>\n",
       "  </tbody>\n",
       "</table>\n",
       "</div>"
      ],
      "text/plain": [
       "                   Dim.1      Dim.2      Dim.3      Dim.4\n",
       "money           4.549939   0.371463  16.883571  13.890815\n",
       "future         17.567192  14.586929   7.567800   0.092336\n",
       "unemployment   22.616497   6.778601   0.046080   4.040257\n",
       "circumstances   6.274473  11.543600   0.046281   1.044260\n",
       "hard            2.993810   0.591838   0.845179   0.002740\n",
       "economic       12.004568  26.604422   3.279789  12.957996"
      ]
     },
     "execution_count": 10,
     "metadata": {},
     "output_type": "execute_result"
    }
   ],
   "source": [
    "row[\"contrib\"].head(6)"
   ]
  },
  {
   "cell_type": "markdown",
   "metadata": {},
   "source": [
    "### Row Cos2"
   ]
  },
  {
   "cell_type": "code",
   "execution_count": 11,
   "metadata": {},
   "outputs": [
    {
     "data": {
      "text/html": [
       "<div>\n",
       "<style scoped>\n",
       "    .dataframe tbody tr th:only-of-type {\n",
       "        vertical-align: middle;\n",
       "    }\n",
       "\n",
       "    .dataframe tbody tr th {\n",
       "        vertical-align: top;\n",
       "    }\n",
       "\n",
       "    .dataframe thead th {\n",
       "        text-align: right;\n",
       "    }\n",
       "</style>\n",
       "<table border=\"1\" class=\"dataframe\">\n",
       "  <thead>\n",
       "    <tr style=\"text-align: right;\">\n",
       "      <th></th>\n",
       "      <th>Dim.1</th>\n",
       "      <th>Dim.2</th>\n",
       "      <th>Dim.3</th>\n",
       "      <th>Dim.4</th>\n",
       "    </tr>\n",
       "  </thead>\n",
       "  <tbody>\n",
       "    <tr>\n",
       "      <th>money</th>\n",
       "      <td>0.428449</td>\n",
       "      <td>0.012958</td>\n",
       "      <td>0.327888</td>\n",
       "      <td>0.230705</td>\n",
       "    </tr>\n",
       "    <tr>\n",
       "      <th>future</th>\n",
       "      <td>0.715624</td>\n",
       "      <td>0.220132</td>\n",
       "      <td>0.063580</td>\n",
       "      <td>0.000663</td>\n",
       "    </tr>\n",
       "    <tr>\n",
       "      <th>unemployment</th>\n",
       "      <td>0.874920</td>\n",
       "      <td>0.097145</td>\n",
       "      <td>0.000368</td>\n",
       "      <td>0.027567</td>\n",
       "    </tr>\n",
       "    <tr>\n",
       "      <th>circumstances</th>\n",
       "      <td>0.583965</td>\n",
       "      <td>0.398005</td>\n",
       "      <td>0.000888</td>\n",
       "      <td>0.017142</td>\n",
       "    </tr>\n",
       "    <tr>\n",
       "      <th>hard</th>\n",
       "      <td>0.883690</td>\n",
       "      <td>0.064717</td>\n",
       "      <td>0.051451</td>\n",
       "      <td>0.000143</td>\n",
       "    </tr>\n",
       "    <tr>\n",
       "      <th>economic</th>\n",
       "      <td>0.483622</td>\n",
       "      <td>0.397055</td>\n",
       "      <td>0.027250</td>\n",
       "      <td>0.092073</td>\n",
       "    </tr>\n",
       "  </tbody>\n",
       "</table>\n",
       "</div>"
      ],
      "text/plain": [
       "                  Dim.1     Dim.2     Dim.3     Dim.4\n",
       "money          0.428449  0.012958  0.327888  0.230705\n",
       "future         0.715624  0.220132  0.063580  0.000663\n",
       "unemployment   0.874920  0.097145  0.000368  0.027567\n",
       "circumstances  0.583965  0.398005  0.000888  0.017142\n",
       "hard           0.883690  0.064717  0.051451  0.000143\n",
       "economic       0.483622  0.397055  0.027250  0.092073"
      ]
     },
     "execution_count": 11,
     "metadata": {},
     "output_type": "execute_result"
    }
   ],
   "source": [
    "row[\"cos2\"].head(6)"
   ]
  },
  {
   "cell_type": "markdown",
   "metadata": {},
   "source": [
    "### Row additionals informations"
   ]
  },
  {
   "cell_type": "code",
   "execution_count": 12,
   "metadata": {},
   "outputs": [
    {
     "data": {
      "text/html": [
       "<div>\n",
       "<style scoped>\n",
       "    .dataframe tbody tr th:only-of-type {\n",
       "        vertical-align: middle;\n",
       "    }\n",
       "\n",
       "    .dataframe tbody tr th {\n",
       "        vertical-align: top;\n",
       "    }\n",
       "\n",
       "    .dataframe thead th {\n",
       "        text-align: right;\n",
       "    }\n",
       "</style>\n",
       "<table border=\"1\" class=\"dataframe\">\n",
       "  <thead>\n",
       "    <tr style=\"text-align: right;\">\n",
       "      <th></th>\n",
       "      <th>dist</th>\n",
       "      <th>marge</th>\n",
       "      <th>inertia</th>\n",
       "    </tr>\n",
       "  </thead>\n",
       "  <tbody>\n",
       "    <tr>\n",
       "      <th>money</th>\n",
       "      <td>0.176099</td>\n",
       "      <td>0.121231</td>\n",
       "      <td>0.003759</td>\n",
       "    </tr>\n",
       "    <tr>\n",
       "      <th>future</th>\n",
       "      <td>0.208582</td>\n",
       "      <td>0.199749</td>\n",
       "      <td>0.008690</td>\n",
       "    </tr>\n",
       "    <tr>\n",
       "      <th>unemployment</th>\n",
       "      <td>0.226891</td>\n",
       "      <td>0.177764</td>\n",
       "      <td>0.009151</td>\n",
       "    </tr>\n",
       "    <tr>\n",
       "      <th>circumstances</th>\n",
       "      <td>0.524646</td>\n",
       "      <td>0.013819</td>\n",
       "      <td>0.003804</td>\n",
       "    </tr>\n",
       "    <tr>\n",
       "      <th>hard</th>\n",
       "      <td>0.265927</td>\n",
       "      <td>0.016960</td>\n",
       "      <td>0.001199</td>\n",
       "    </tr>\n",
       "    <tr>\n",
       "      <th>economic</th>\n",
       "      <td>0.508986</td>\n",
       "      <td>0.033920</td>\n",
       "      <td>0.008787</td>\n",
       "    </tr>\n",
       "  </tbody>\n",
       "</table>\n",
       "</div>"
      ],
      "text/plain": [
       "                   dist     marge   inertia\n",
       "money          0.176099  0.121231  0.003759\n",
       "future         0.208582  0.199749  0.008690\n",
       "unemployment   0.226891  0.177764  0.009151\n",
       "circumstances  0.524646  0.013819  0.003804\n",
       "hard           0.265927  0.016960  0.001199\n",
       "economic       0.508986  0.033920  0.008787"
      ]
     },
     "execution_count": 12,
     "metadata": {},
     "output_type": "execute_result"
    }
   ],
   "source": [
    "row[\"infos\"].head(6)"
   ]
  },
  {
   "cell_type": "markdown",
   "metadata": {},
   "source": [
    "## Columns informations"
   ]
  },
  {
   "cell_type": "code",
   "execution_count": 13,
   "metadata": {},
   "outputs": [
    {
     "data": {
      "text/plain": [
       "dict_keys(['coord', 'contrib', 'cos2', 'infos'])"
      ]
     },
     "execution_count": 13,
     "metadata": {},
     "output_type": "execute_result"
    }
   ],
   "source": [
    "col = res_ca.col_\n",
    "col.keys()"
   ]
  },
  {
   "cell_type": "markdown",
   "metadata": {},
   "source": [
    "### Columns coordinates"
   ]
  },
  {
   "cell_type": "code",
   "execution_count": 14,
   "metadata": {},
   "outputs": [
    {
     "data": {
      "text/html": [
       "<div>\n",
       "<style scoped>\n",
       "    .dataframe tbody tr th:only-of-type {\n",
       "        vertical-align: middle;\n",
       "    }\n",
       "\n",
       "    .dataframe tbody tr th {\n",
       "        vertical-align: top;\n",
       "    }\n",
       "\n",
       "    .dataframe thead th {\n",
       "        text-align: right;\n",
       "    }\n",
       "</style>\n",
       "<table border=\"1\" class=\"dataframe\">\n",
       "  <thead>\n",
       "    <tr style=\"text-align: right;\">\n",
       "      <th></th>\n",
       "      <th>Dim.1</th>\n",
       "      <th>Dim.2</th>\n",
       "      <th>Dim.3</th>\n",
       "      <th>Dim.4</th>\n",
       "    </tr>\n",
       "  </thead>\n",
       "  <tbody>\n",
       "    <tr>\n",
       "      <th>unqualified</th>\n",
       "      <td>-0.209318</td>\n",
       "      <td>-0.080727</td>\n",
       "      <td>0.072630</td>\n",
       "      <td>0.095862</td>\n",
       "    </tr>\n",
       "    <tr>\n",
       "      <th>cep</th>\n",
       "      <td>-0.138577</td>\n",
       "      <td>0.056047</td>\n",
       "      <td>-0.018139</td>\n",
       "      <td>-0.084279</td>\n",
       "    </tr>\n",
       "    <tr>\n",
       "      <th>bepc</th>\n",
       "      <td>0.108758</td>\n",
       "      <td>-0.028483</td>\n",
       "      <td>-0.147013</td>\n",
       "      <td>0.060587</td>\n",
       "    </tr>\n",
       "    <tr>\n",
       "      <th>high_school_diploma</th>\n",
       "      <td>0.274039</td>\n",
       "      <td>-0.121344</td>\n",
       "      <td>0.076653</td>\n",
       "      <td>-0.057914</td>\n",
       "    </tr>\n",
       "    <tr>\n",
       "      <th>university</th>\n",
       "      <td>0.231233</td>\n",
       "      <td>0.317858</td>\n",
       "      <td>0.094188</td>\n",
       "      <td>0.090330</td>\n",
       "    </tr>\n",
       "  </tbody>\n",
       "</table>\n",
       "</div>"
      ],
      "text/plain": [
       "                        Dim.1     Dim.2     Dim.3     Dim.4\n",
       "unqualified         -0.209318 -0.080727  0.072630  0.095862\n",
       "cep                 -0.138577  0.056047 -0.018139 -0.084279\n",
       "bepc                 0.108758 -0.028483 -0.147013  0.060587\n",
       "high_school_diploma  0.274039 -0.121344  0.076653 -0.057914\n",
       "university           0.231233  0.317858  0.094188  0.090330"
      ]
     },
     "execution_count": 14,
     "metadata": {},
     "output_type": "execute_result"
    }
   ],
   "source": [
    "col[\"coord\"].head(6)"
   ]
  },
  {
   "cell_type": "markdown",
   "metadata": {},
   "source": [
    "### Columns contributions"
   ]
  },
  {
   "cell_type": "code",
   "execution_count": 15,
   "metadata": {},
   "outputs": [
    {
     "data": {
      "text/html": [
       "<div>\n",
       "<style scoped>\n",
       "    .dataframe tbody tr th:only-of-type {\n",
       "        vertical-align: middle;\n",
       "    }\n",
       "\n",
       "    .dataframe tbody tr th {\n",
       "        vertical-align: top;\n",
       "    }\n",
       "\n",
       "    .dataframe thead th {\n",
       "        text-align: right;\n",
       "    }\n",
       "</style>\n",
       "<table border=\"1\" class=\"dataframe\">\n",
       "  <thead>\n",
       "    <tr style=\"text-align: right;\">\n",
       "      <th></th>\n",
       "      <th>Dim.1</th>\n",
       "      <th>Dim.2</th>\n",
       "      <th>Dim.3</th>\n",
       "      <th>Dim.4</th>\n",
       "    </tr>\n",
       "  </thead>\n",
       "  <tbody>\n",
       "    <tr>\n",
       "      <th>unqualified</th>\n",
       "      <td>25.110193</td>\n",
       "      <td>10.081893</td>\n",
       "      <td>14.658839</td>\n",
       "      <td>29.860130</td>\n",
       "    </tr>\n",
       "    <tr>\n",
       "      <th>cep</th>\n",
       "      <td>18.297373</td>\n",
       "      <td>8.079359</td>\n",
       "      <td>1.520060</td>\n",
       "      <td>38.372052</td>\n",
       "    </tr>\n",
       "    <tr>\n",
       "      <th>bepc</th>\n",
       "      <td>6.757893</td>\n",
       "      <td>1.251193</td>\n",
       "      <td>59.873926</td>\n",
       "      <td>11.890857</td>\n",
       "    </tr>\n",
       "    <tr>\n",
       "      <th>high_school_diploma</th>\n",
       "      <td>37.975661</td>\n",
       "      <td>20.099117</td>\n",
       "      <td>14.406774</td>\n",
       "      <td>9.616438</td>\n",
       "    </tr>\n",
       "    <tr>\n",
       "      <th>university</th>\n",
       "      <td>11.858880</td>\n",
       "      <td>60.488438</td>\n",
       "      <td>9.540400</td>\n",
       "      <td>10.260524</td>\n",
       "    </tr>\n",
       "  </tbody>\n",
       "</table>\n",
       "</div>"
      ],
      "text/plain": [
       "                         Dim.1      Dim.2      Dim.3      Dim.4\n",
       "unqualified          25.110193  10.081893  14.658839  29.860130\n",
       "cep                  18.297373   8.079359   1.520060  38.372052\n",
       "bepc                  6.757893   1.251193  59.873926  11.890857\n",
       "high_school_diploma  37.975661  20.099117  14.406774   9.616438\n",
       "university           11.858880  60.488438   9.540400  10.260524"
      ]
     },
     "execution_count": 15,
     "metadata": {},
     "output_type": "execute_result"
    }
   ],
   "source": [
    "col[\"contrib\"].head(6)"
   ]
  },
  {
   "cell_type": "markdown",
   "metadata": {},
   "source": [
    "### Columns Cos2"
   ]
  },
  {
   "cell_type": "code",
   "execution_count": 16,
   "metadata": {},
   "outputs": [
    {
     "data": {
      "text/html": [
       "<div>\n",
       "<style scoped>\n",
       "    .dataframe tbody tr th:only-of-type {\n",
       "        vertical-align: middle;\n",
       "    }\n",
       "\n",
       "    .dataframe tbody tr th {\n",
       "        vertical-align: top;\n",
       "    }\n",
       "\n",
       "    .dataframe thead th {\n",
       "        text-align: right;\n",
       "    }\n",
       "</style>\n",
       "<table border=\"1\" class=\"dataframe\">\n",
       "  <thead>\n",
       "    <tr style=\"text-align: right;\">\n",
       "      <th></th>\n",
       "      <th>Dim.1</th>\n",
       "      <th>Dim.2</th>\n",
       "      <th>Dim.3</th>\n",
       "      <th>Dim.4</th>\n",
       "    </tr>\n",
       "  </thead>\n",
       "  <tbody>\n",
       "    <tr>\n",
       "      <th>unqualified</th>\n",
       "      <td>0.676189</td>\n",
       "      <td>0.100577</td>\n",
       "      <td>0.081411</td>\n",
       "      <td>0.141822</td>\n",
       "    </tr>\n",
       "    <tr>\n",
       "      <th>cep</th>\n",
       "      <td>0.644915</td>\n",
       "      <td>0.105494</td>\n",
       "      <td>0.011049</td>\n",
       "      <td>0.238541</td>\n",
       "    </tr>\n",
       "    <tr>\n",
       "      <th>bepc</th>\n",
       "      <td>0.311900</td>\n",
       "      <td>0.021393</td>\n",
       "      <td>0.569913</td>\n",
       "      <td>0.096795</td>\n",
       "    </tr>\n",
       "    <tr>\n",
       "      <th>high_school_diploma</th>\n",
       "      <td>0.758166</td>\n",
       "      <td>0.148653</td>\n",
       "      <td>0.059319</td>\n",
       "      <td>0.033862</td>\n",
       "    </tr>\n",
       "    <tr>\n",
       "      <th>university</th>\n",
       "      <td>0.311711</td>\n",
       "      <td>0.589004</td>\n",
       "      <td>0.051718</td>\n",
       "      <td>0.047568</td>\n",
       "    </tr>\n",
       "  </tbody>\n",
       "</table>\n",
       "</div>"
      ],
      "text/plain": [
       "                        Dim.1     Dim.2     Dim.3     Dim.4\n",
       "unqualified          0.676189  0.100577  0.081411  0.141822\n",
       "cep                  0.644915  0.105494  0.011049  0.238541\n",
       "bepc                 0.311900  0.021393  0.569913  0.096795\n",
       "high_school_diploma  0.758166  0.148653  0.059319  0.033862\n",
       "university           0.311711  0.589004  0.051718  0.047568"
      ]
     },
     "execution_count": 16,
     "metadata": {},
     "output_type": "execute_result"
    }
   ],
   "source": [
    "col[\"cos2\"].head(6)"
   ]
  },
  {
   "cell_type": "markdown",
   "metadata": {},
   "source": [
    "### Columns additionals informations"
   ]
  },
  {
   "cell_type": "code",
   "execution_count": 17,
   "metadata": {},
   "outputs": [
    {
     "data": {
      "text/html": [
       "<div>\n",
       "<style scoped>\n",
       "    .dataframe tbody tr th:only-of-type {\n",
       "        vertical-align: middle;\n",
       "    }\n",
       "\n",
       "    .dataframe tbody tr th {\n",
       "        vertical-align: top;\n",
       "    }\n",
       "\n",
       "    .dataframe thead th {\n",
       "        text-align: right;\n",
       "    }\n",
       "</style>\n",
       "<table border=\"1\" class=\"dataframe\">\n",
       "  <thead>\n",
       "    <tr style=\"text-align: right;\">\n",
       "      <th></th>\n",
       "      <th>dist</th>\n",
       "      <th>marge</th>\n",
       "      <th>inertia</th>\n",
       "    </tr>\n",
       "  </thead>\n",
       "  <tbody>\n",
       "    <tr>\n",
       "      <th>unqualified</th>\n",
       "      <td>0.254549</td>\n",
       "      <td>0.202889</td>\n",
       "      <td>0.013146</td>\n",
       "    </tr>\n",
       "    <tr>\n",
       "      <th>cep</th>\n",
       "      <td>0.172559</td>\n",
       "      <td>0.337312</td>\n",
       "      <td>0.010044</td>\n",
       "    </tr>\n",
       "    <tr>\n",
       "      <th>bepc</th>\n",
       "      <td>0.194739</td>\n",
       "      <td>0.202261</td>\n",
       "      <td>0.007670</td>\n",
       "    </tr>\n",
       "    <tr>\n",
       "      <th>high_school_diploma</th>\n",
       "      <td>0.314725</td>\n",
       "      <td>0.179020</td>\n",
       "      <td>0.017732</td>\n",
       "    </tr>\n",
       "    <tr>\n",
       "      <th>university</th>\n",
       "      <td>0.414165</td>\n",
       "      <td>0.078518</td>\n",
       "      <td>0.013468</td>\n",
       "    </tr>\n",
       "  </tbody>\n",
       "</table>\n",
       "</div>"
      ],
      "text/plain": [
       "                         dist     marge   inertia\n",
       "unqualified          0.254549  0.202889  0.013146\n",
       "cep                  0.172559  0.337312  0.010044\n",
       "bepc                 0.194739  0.202261  0.007670\n",
       "high_school_diploma  0.314725  0.179020  0.017732\n",
       "university           0.414165  0.078518  0.013468"
      ]
     },
     "execution_count": 17,
     "metadata": {},
     "output_type": "execute_result"
    }
   ],
   "source": [
    "col[\"infos\"].head(6)"
   ]
  },
  {
   "cell_type": "markdown",
   "metadata": {},
   "source": [
    "## Supplementary columns"
   ]
  },
  {
   "cell_type": "code",
   "execution_count": 18,
   "metadata": {},
   "outputs": [
    {
     "data": {
      "text/plain": [
       "dict_keys(['coord', 'cos2', 'dist'])"
      ]
     },
     "execution_count": 18,
     "metadata": {},
     "output_type": "execute_result"
    }
   ],
   "source": [
    "col_sup = res_ca.col_sup_\n",
    "col_sup.keys()"
   ]
  },
  {
   "cell_type": "markdown",
   "metadata": {},
   "source": [
    "### Supplementary columns coordinates"
   ]
  },
  {
   "cell_type": "code",
   "execution_count": 19,
   "metadata": {},
   "outputs": [
    {
     "data": {
      "text/html": [
       "<div>\n",
       "<style scoped>\n",
       "    .dataframe tbody tr th:only-of-type {\n",
       "        vertical-align: middle;\n",
       "    }\n",
       "\n",
       "    .dataframe tbody tr th {\n",
       "        vertical-align: top;\n",
       "    }\n",
       "\n",
       "    .dataframe thead th {\n",
       "        text-align: right;\n",
       "    }\n",
       "</style>\n",
       "<table border=\"1\" class=\"dataframe\">\n",
       "  <thead>\n",
       "    <tr style=\"text-align: right;\">\n",
       "      <th></th>\n",
       "      <th>Dim.1</th>\n",
       "      <th>Dim.2</th>\n",
       "      <th>Dim.3</th>\n",
       "      <th>Dim.4</th>\n",
       "    </tr>\n",
       "  </thead>\n",
       "  <tbody>\n",
       "    <tr>\n",
       "      <th>thirty</th>\n",
       "      <td>0.105413</td>\n",
       "      <td>-0.059696</td>\n",
       "      <td>-0.103226</td>\n",
       "      <td>0.069780</td>\n",
       "    </tr>\n",
       "    <tr>\n",
       "      <th>fifty</th>\n",
       "      <td>-0.017064</td>\n",
       "      <td>0.049077</td>\n",
       "      <td>-0.015689</td>\n",
       "      <td>-0.013061</td>\n",
       "    </tr>\n",
       "    <tr>\n",
       "      <th>more_fifty</th>\n",
       "      <td>-0.177068</td>\n",
       "      <td>-0.048138</td>\n",
       "      <td>0.100773</td>\n",
       "      <td>-0.085175</td>\n",
       "    </tr>\n",
       "  </tbody>\n",
       "</table>\n",
       "</div>"
      ],
      "text/plain": [
       "               Dim.1     Dim.2     Dim.3     Dim.4\n",
       "thirty      0.105413 -0.059696 -0.103226  0.069780\n",
       "fifty      -0.017064  0.049077 -0.015689 -0.013061\n",
       "more_fifty -0.177068 -0.048138  0.100773 -0.085175"
      ]
     },
     "execution_count": 19,
     "metadata": {},
     "output_type": "execute_result"
    }
   ],
   "source": [
    "col_sup[\"coord\"].head(6)"
   ]
  },
  {
   "cell_type": "markdown",
   "metadata": {},
   "source": [
    "### Supplementary columns Cos2"
   ]
  },
  {
   "cell_type": "code",
   "execution_count": 20,
   "metadata": {},
   "outputs": [
    {
     "data": {
      "text/html": [
       "<div>\n",
       "<style scoped>\n",
       "    .dataframe tbody tr th:only-of-type {\n",
       "        vertical-align: middle;\n",
       "    }\n",
       "\n",
       "    .dataframe tbody tr th {\n",
       "        vertical-align: top;\n",
       "    }\n",
       "\n",
       "    .dataframe thead th {\n",
       "        text-align: right;\n",
       "    }\n",
       "</style>\n",
       "<table border=\"1\" class=\"dataframe\">\n",
       "  <thead>\n",
       "    <tr style=\"text-align: right;\">\n",
       "      <th></th>\n",
       "      <th>Dim.1</th>\n",
       "      <th>Dim.2</th>\n",
       "      <th>Dim.3</th>\n",
       "      <th>Dim.4</th>\n",
       "    </tr>\n",
       "  </thead>\n",
       "  <tbody>\n",
       "    <tr>\n",
       "      <th>thirty</th>\n",
       "      <td>0.137560</td>\n",
       "      <td>0.044115</td>\n",
       "      <td>0.131911</td>\n",
       "      <td>0.060278</td>\n",
       "    </tr>\n",
       "    <tr>\n",
       "      <th>fifty</th>\n",
       "      <td>0.010870</td>\n",
       "      <td>0.089903</td>\n",
       "      <td>0.009188</td>\n",
       "      <td>0.006368</td>\n",
       "    </tr>\n",
       "    <tr>\n",
       "      <th>more_fifty</th>\n",
       "      <td>0.286099</td>\n",
       "      <td>0.021145</td>\n",
       "      <td>0.092667</td>\n",
       "      <td>0.066201</td>\n",
       "    </tr>\n",
       "  </tbody>\n",
       "</table>\n",
       "</div>"
      ],
      "text/plain": [
       "               Dim.1     Dim.2     Dim.3     Dim.4\n",
       "thirty      0.137560  0.044115  0.131911  0.060278\n",
       "fifty       0.010870  0.089903  0.009188  0.006368\n",
       "more_fifty  0.286099  0.021145  0.092667  0.066201"
      ]
     },
     "execution_count": 20,
     "metadata": {},
     "output_type": "execute_result"
    }
   ],
   "source": [
    "col_sup[\"cos2\"].head(6)"
   ]
  },
  {
   "cell_type": "markdown",
   "metadata": {},
   "source": [
    "### Supplementary dist"
   ]
  },
  {
   "cell_type": "code",
   "execution_count": 21,
   "metadata": {},
   "outputs": [
    {
     "data": {
      "text/plain": [
       "thirty        0.284217\n",
       "fifty         0.163677\n",
       "more_fifty    0.331041\n",
       "Name: dist, dtype: float64"
      ]
     },
     "execution_count": 21,
     "metadata": {},
     "output_type": "execute_result"
    }
   ],
   "source": [
    "col_sup[\"dist\"].head(6)"
   ]
  },
  {
   "cell_type": "markdown",
   "metadata": {},
   "source": [
    "## Supplementary qualitatives"
   ]
  },
  {
   "cell_type": "code",
   "execution_count": 22,
   "metadata": {},
   "outputs": [
    {
     "data": {
      "text/plain": [
       "dict_keys(['coord', 'cos2', 'vtest', 'eta2', 'dist', 'summary_quali'])"
      ]
     },
     "execution_count": 22,
     "metadata": {},
     "output_type": "execute_result"
    }
   ],
   "source": [
    "quali_sup = res_ca.quali_sup_\n",
    "quali_sup.keys()"
   ]
  },
  {
   "cell_type": "markdown",
   "metadata": {},
   "source": [
    "### Supplementary qualitatives coordinates"
   ]
  },
  {
   "cell_type": "code",
   "execution_count": 23,
   "metadata": {},
   "outputs": [
    {
     "data": {
      "text/html": [
       "<div>\n",
       "<style scoped>\n",
       "    .dataframe tbody tr th:only-of-type {\n",
       "        vertical-align: middle;\n",
       "    }\n",
       "\n",
       "    .dataframe tbody tr th {\n",
       "        vertical-align: top;\n",
       "    }\n",
       "\n",
       "    .dataframe thead th {\n",
       "        text-align: right;\n",
       "    }\n",
       "</style>\n",
       "<table border=\"1\" class=\"dataframe\">\n",
       "  <thead>\n",
       "    <tr style=\"text-align: right;\">\n",
       "      <th></th>\n",
       "      <th>Dim.1</th>\n",
       "      <th>Dim.2</th>\n",
       "      <th>Dim.3</th>\n",
       "      <th>Dim.4</th>\n",
       "    </tr>\n",
       "  </thead>\n",
       "  <tbody>\n",
       "    <tr>\n",
       "      <th>A</th>\n",
       "      <td>-0.021294</td>\n",
       "      <td>-0.048999</td>\n",
       "      <td>0.001423</td>\n",
       "      <td>0.002995</td>\n",
       "    </tr>\n",
       "    <tr>\n",
       "      <th>B</th>\n",
       "      <td>0.004519</td>\n",
       "      <td>0.093721</td>\n",
       "      <td>0.024615</td>\n",
       "      <td>0.002073</td>\n",
       "    </tr>\n",
       "    <tr>\n",
       "      <th>C</th>\n",
       "      <td>0.033353</td>\n",
       "      <td>0.025645</td>\n",
       "      <td>-0.017511</td>\n",
       "      <td>-0.006352</td>\n",
       "    </tr>\n",
       "  </tbody>\n",
       "</table>\n",
       "</div>"
      ],
      "text/plain": [
       "      Dim.1     Dim.2     Dim.3     Dim.4\n",
       "A -0.021294 -0.048999  0.001423  0.002995\n",
       "B  0.004519  0.093721  0.024615  0.002073\n",
       "C  0.033353  0.025645 -0.017511 -0.006352"
      ]
     },
     "execution_count": 23,
     "metadata": {},
     "output_type": "execute_result"
    }
   ],
   "source": [
    "quali_sup[\"coord\"].head(6)"
   ]
  },
  {
   "cell_type": "markdown",
   "metadata": {},
   "source": [
    "### Supplementary qualitatives cos2"
   ]
  },
  {
   "cell_type": "code",
   "execution_count": 24,
   "metadata": {},
   "outputs": [
    {
     "data": {
      "text/html": [
       "<div>\n",
       "<style scoped>\n",
       "    .dataframe tbody tr th:only-of-type {\n",
       "        vertical-align: middle;\n",
       "    }\n",
       "\n",
       "    .dataframe tbody tr th {\n",
       "        vertical-align: top;\n",
       "    }\n",
       "\n",
       "    .dataframe thead th {\n",
       "        text-align: right;\n",
       "    }\n",
       "</style>\n",
       "<table border=\"1\" class=\"dataframe\">\n",
       "  <thead>\n",
       "    <tr style=\"text-align: right;\">\n",
       "      <th></th>\n",
       "      <th>Dim.1</th>\n",
       "      <th>Dim.2</th>\n",
       "      <th>Dim.3</th>\n",
       "      <th>Dim.4</th>\n",
       "    </tr>\n",
       "  </thead>\n",
       "  <tbody>\n",
       "    <tr>\n",
       "      <th>A</th>\n",
       "      <td>0.158249</td>\n",
       "      <td>0.837913</td>\n",
       "      <td>0.000707</td>\n",
       "      <td>0.003131</td>\n",
       "    </tr>\n",
       "    <tr>\n",
       "      <th>B</th>\n",
       "      <td>0.002169</td>\n",
       "      <td>0.933017</td>\n",
       "      <td>0.064358</td>\n",
       "      <td>0.000456</td>\n",
       "    </tr>\n",
       "    <tr>\n",
       "      <th>C</th>\n",
       "      <td>0.525452</td>\n",
       "      <td>0.310650</td>\n",
       "      <td>0.144839</td>\n",
       "      <td>0.019059</td>\n",
       "    </tr>\n",
       "  </tbody>\n",
       "</table>\n",
       "</div>"
      ],
      "text/plain": [
       "      Dim.1     Dim.2     Dim.3     Dim.4\n",
       "A  0.158249  0.837913  0.000707  0.003131\n",
       "B  0.002169  0.933017  0.064358  0.000456\n",
       "C  0.525452  0.310650  0.144839  0.019059"
      ]
     },
     "execution_count": 24,
     "metadata": {},
     "output_type": "execute_result"
    }
   ],
   "source": [
    "quali_sup[\"cos2\"].head(6)"
   ]
  },
  {
   "cell_type": "markdown",
   "metadata": {},
   "source": [
    "### Supplementary qualitatives dist"
   ]
  },
  {
   "cell_type": "code",
   "execution_count": 25,
   "metadata": {},
   "outputs": [
    {
     "data": {
      "text/plain": [
       "A    0.053529\n",
       "B    0.097027\n",
       "C    0.046011\n",
       "Name: dist, dtype: float64"
      ]
     },
     "execution_count": 25,
     "metadata": {},
     "output_type": "execute_result"
    }
   ],
   "source": [
    "quali_sup[\"dist\"]"
   ]
  },
  {
   "cell_type": "markdown",
   "metadata": {},
   "source": [
    "### supplementary qualitatives vtest"
   ]
  },
  {
   "cell_type": "code",
   "execution_count": 26,
   "metadata": {},
   "outputs": [
    {
     "data": {
      "text/html": [
       "<div>\n",
       "<style scoped>\n",
       "    .dataframe tbody tr th:only-of-type {\n",
       "        vertical-align: middle;\n",
       "    }\n",
       "\n",
       "    .dataframe tbody tr th {\n",
       "        vertical-align: top;\n",
       "    }\n",
       "\n",
       "    .dataframe thead th {\n",
       "        text-align: right;\n",
       "    }\n",
       "</style>\n",
       "<table border=\"1\" class=\"dataframe\">\n",
       "  <thead>\n",
       "    <tr style=\"text-align: right;\">\n",
       "      <th></th>\n",
       "      <th>Dim.1</th>\n",
       "      <th>Dim.2</th>\n",
       "      <th>Dim.3</th>\n",
       "      <th>Dim.4</th>\n",
       "    </tr>\n",
       "  </thead>\n",
       "  <tbody>\n",
       "    <tr>\n",
       "      <th>A</th>\n",
       "      <td>-0.870975</td>\n",
       "      <td>-2.004171</td>\n",
       "      <td>0.058216</td>\n",
       "      <td>0.122506</td>\n",
       "    </tr>\n",
       "    <tr>\n",
       "      <th>B</th>\n",
       "      <td>0.085968</td>\n",
       "      <td>1.782850</td>\n",
       "      <td>0.468242</td>\n",
       "      <td>0.039425</td>\n",
       "    </tr>\n",
       "    <tr>\n",
       "      <th>C</th>\n",
       "      <td>0.875353</td>\n",
       "      <td>0.673057</td>\n",
       "      <td>-0.459577</td>\n",
       "      <td>-0.166714</td>\n",
       "    </tr>\n",
       "  </tbody>\n",
       "</table>\n",
       "</div>"
      ],
      "text/plain": [
       "      Dim.1     Dim.2     Dim.3     Dim.4\n",
       "A -0.870975 -2.004171  0.058216  0.122506\n",
       "B  0.085968  1.782850  0.468242  0.039425\n",
       "C  0.875353  0.673057 -0.459577 -0.166714"
      ]
     },
     "execution_count": 26,
     "metadata": {},
     "output_type": "execute_result"
    }
   ],
   "source": [
    "quali_sup[\"vtest\"].head(6)"
   ]
  },
  {
   "cell_type": "markdown",
   "metadata": {},
   "source": [
    "### Supplementary qualitatives eta2"
   ]
  },
  {
   "cell_type": "code",
   "execution_count": 27,
   "metadata": {},
   "outputs": [
    {
     "data": {
      "text/html": [
       "<div>\n",
       "<style scoped>\n",
       "    .dataframe tbody tr th:only-of-type {\n",
       "        vertical-align: middle;\n",
       "    }\n",
       "\n",
       "    .dataframe tbody tr th {\n",
       "        vertical-align: top;\n",
       "    }\n",
       "\n",
       "    .dataframe thead th {\n",
       "        text-align: right;\n",
       "    }\n",
       "</style>\n",
       "<table border=\"1\" class=\"dataframe\">\n",
       "  <thead>\n",
       "    <tr style=\"text-align: right;\">\n",
       "      <th></th>\n",
       "      <th>Dim.1</th>\n",
       "      <th>Dim.2</th>\n",
       "      <th>Dim.3</th>\n",
       "      <th>Dim.4</th>\n",
       "    </tr>\n",
       "  </thead>\n",
       "  <tbody>\n",
       "    <tr>\n",
       "      <th>group</th>\n",
       "      <td>0.016166</td>\n",
       "      <td>0.233092</td>\n",
       "      <td>0.028208</td>\n",
       "      <td>0.002816</td>\n",
       "    </tr>\n",
       "  </tbody>\n",
       "</table>\n",
       "</div>"
      ],
      "text/plain": [
       "          Dim.1     Dim.2     Dim.3     Dim.4\n",
       "group  0.016166  0.233092  0.028208  0.002816"
      ]
     },
     "execution_count": 27,
     "metadata": {},
     "output_type": "execute_result"
    }
   ],
   "source": [
    "quali_sup[\"eta2\"].head(6)"
   ]
  },
  {
   "cell_type": "markdown",
   "metadata": {},
   "source": [
    "## Supplementary rows"
   ]
  },
  {
   "cell_type": "code",
   "execution_count": 28,
   "metadata": {},
   "outputs": [
    {
     "data": {
      "text/plain": [
       "dict_keys(['coord', 'cos2', 'dist'])"
      ]
     },
     "execution_count": 28,
     "metadata": {},
     "output_type": "execute_result"
    }
   ],
   "source": [
    "row_sup = res_ca.row_sup_\n",
    "row_sup.keys()"
   ]
  },
  {
   "cell_type": "markdown",
   "metadata": {},
   "source": [
    "### Supplementary dist2"
   ]
  },
  {
   "cell_type": "code",
   "execution_count": 29,
   "metadata": {},
   "outputs": [
    {
     "data": {
      "text/plain": [
       "rownames\n",
       "comfort         0.798621\n",
       "disagreement    0.403655\n",
       "world           0.559156\n",
       "to_live         0.826952\n",
       "Name: dist, dtype: float64"
      ]
     },
     "execution_count": 29,
     "metadata": {},
     "output_type": "execute_result"
    }
   ],
   "source": [
    "row_sup[\"dist\"]"
   ]
  },
  {
   "cell_type": "markdown",
   "metadata": {},
   "source": [
    "### Supplementary rows coordinates"
   ]
  },
  {
   "cell_type": "code",
   "execution_count": 30,
   "metadata": {},
   "outputs": [
    {
     "data": {
      "text/html": [
       "<div>\n",
       "<style scoped>\n",
       "    .dataframe tbody tr th:only-of-type {\n",
       "        vertical-align: middle;\n",
       "    }\n",
       "\n",
       "    .dataframe tbody tr th {\n",
       "        vertical-align: top;\n",
       "    }\n",
       "\n",
       "    .dataframe thead th {\n",
       "        text-align: right;\n",
       "    }\n",
       "</style>\n",
       "<table border=\"1\" class=\"dataframe\">\n",
       "  <thead>\n",
       "    <tr style=\"text-align: right;\">\n",
       "      <th></th>\n",
       "      <th>Dim.1</th>\n",
       "      <th>Dim.2</th>\n",
       "      <th>Dim.3</th>\n",
       "      <th>Dim.4</th>\n",
       "    </tr>\n",
       "  </thead>\n",
       "  <tbody>\n",
       "    <tr>\n",
       "      <th>comfort</th>\n",
       "      <td>0.209670</td>\n",
       "      <td>0.703168</td>\n",
       "      <td>0.071112</td>\n",
       "      <td>0.307135</td>\n",
       "    </tr>\n",
       "    <tr>\n",
       "      <th>disagreement</th>\n",
       "      <td>0.146278</td>\n",
       "      <td>0.119011</td>\n",
       "      <td>0.171089</td>\n",
       "      <td>-0.313217</td>\n",
       "    </tr>\n",
       "    <tr>\n",
       "      <th>world</th>\n",
       "      <td>0.523304</td>\n",
       "      <td>0.142971</td>\n",
       "      <td>0.083993</td>\n",
       "      <td>-0.106360</td>\n",
       "    </tr>\n",
       "    <tr>\n",
       "      <th>to_live</th>\n",
       "      <td>0.308307</td>\n",
       "      <td>0.502019</td>\n",
       "      <td>0.520934</td>\n",
       "      <td>0.255736</td>\n",
       "    </tr>\n",
       "  </tbody>\n",
       "</table>\n",
       "</div>"
      ],
      "text/plain": [
       "                 Dim.1     Dim.2     Dim.3     Dim.4\n",
       "comfort       0.209670  0.703168  0.071112  0.307135\n",
       "disagreement  0.146278  0.119011  0.171089 -0.313217\n",
       "world         0.523304  0.142971  0.083993 -0.106360\n",
       "to_live       0.308307  0.502019  0.520934  0.255736"
      ]
     },
     "execution_count": 30,
     "metadata": {},
     "output_type": "execute_result"
    }
   ],
   "source": [
    "row_sup[\"coord\"]"
   ]
  },
  {
   "cell_type": "markdown",
   "metadata": {},
   "source": [
    "### Supplementary cos2"
   ]
  },
  {
   "cell_type": "code",
   "execution_count": 31,
   "metadata": {},
   "outputs": [
    {
     "data": {
      "text/html": [
       "<div>\n",
       "<style scoped>\n",
       "    .dataframe tbody tr th:only-of-type {\n",
       "        vertical-align: middle;\n",
       "    }\n",
       "\n",
       "    .dataframe tbody tr th {\n",
       "        vertical-align: top;\n",
       "    }\n",
       "\n",
       "    .dataframe thead th {\n",
       "        text-align: right;\n",
       "    }\n",
       "</style>\n",
       "<table border=\"1\" class=\"dataframe\">\n",
       "  <thead>\n",
       "    <tr style=\"text-align: right;\">\n",
       "      <th></th>\n",
       "      <th>Dim.1</th>\n",
       "      <th>Dim.2</th>\n",
       "      <th>Dim.3</th>\n",
       "      <th>Dim.4</th>\n",
       "    </tr>\n",
       "  </thead>\n",
       "  <tbody>\n",
       "    <tr>\n",
       "      <th>comfort</th>\n",
       "      <td>0.068928</td>\n",
       "      <td>0.775240</td>\n",
       "      <td>0.007929</td>\n",
       "      <td>0.147903</td>\n",
       "    </tr>\n",
       "    <tr>\n",
       "      <th>disagreement</th>\n",
       "      <td>0.131322</td>\n",
       "      <td>0.086926</td>\n",
       "      <td>0.179649</td>\n",
       "      <td>0.602103</td>\n",
       "    </tr>\n",
       "    <tr>\n",
       "      <th>world</th>\n",
       "      <td>0.875877</td>\n",
       "      <td>0.065377</td>\n",
       "      <td>0.022564</td>\n",
       "      <td>0.036182</td>\n",
       "    </tr>\n",
       "    <tr>\n",
       "      <th>to_live</th>\n",
       "      <td>0.138997</td>\n",
       "      <td>0.368536</td>\n",
       "      <td>0.396830</td>\n",
       "      <td>0.095636</td>\n",
       "    </tr>\n",
       "  </tbody>\n",
       "</table>\n",
       "</div>"
      ],
      "text/plain": [
       "                 Dim.1     Dim.2     Dim.3     Dim.4\n",
       "comfort       0.068928  0.775240  0.007929  0.147903\n",
       "disagreement  0.131322  0.086926  0.179649  0.602103\n",
       "world         0.875877  0.065377  0.022564  0.036182\n",
       "to_live       0.138997  0.368536  0.396830  0.095636"
      ]
     },
     "execution_count": 31,
     "metadata": {},
     "output_type": "execute_result"
    }
   ],
   "source": [
    "row_sup[\"cos2\"]"
   ]
  },
  {
   "cell_type": "markdown",
   "metadata": {},
   "source": [
    "## Extractions functions"
   ]
  },
  {
   "cell_type": "code",
   "execution_count": 32,
   "metadata": {},
   "outputs": [],
   "source": [
    "from scientisttools import get_ca\n",
    "\n",
    "row = get_ca(res_ca,choice=\"row\")\n",
    "row_sup = get_ca(res_ca,choice=\"row_sup\")\n",
    "col = get_ca(res_ca,choice=\"col\")\n",
    "col_sup = get_ca(res_ca,choice=\"col_sup\")\n",
    "qual_sup = get_ca(res_ca,choice=\"quali_sup\")"
   ]
  },
  {
   "cell_type": "markdown",
   "metadata": {},
   "source": [
    "## Summary"
   ]
  },
  {
   "cell_type": "code",
   "execution_count": 33,
   "metadata": {},
   "outputs": [
    {
     "name": "stdout",
     "output_type": "stream",
     "text": [
      "                     Correspondence Analysis - Results                     \n",
      "\n",
      "Importance of components\n",
      "                          Dim.1   Dim.2   Dim.3    Dim.4\n",
      "Variance                  0.035   0.013   0.007    0.006\n",
      "Difference                0.022   0.006   0.001      NaN\n",
      "% of var.                57.043  21.132  11.764   10.061\n",
      "Cumulative of % of var.  57.043  78.175  89.939  100.000\n",
      "\n",
      "Rows\n",
      "\n",
      "                dist  marge  inertia  Dim.1     ctr   cos2  Dim.2     ctr  \\\n",
      "money          0.176  0.121    0.004 -0.115   4.550  0.428  0.020   0.371   \n",
      "future         0.209  0.200    0.009  0.176  17.567  0.716 -0.098  14.587   \n",
      "unemployment   0.227  0.178    0.009 -0.212  22.616  0.875 -0.071   6.779   \n",
      "circumstances  0.525  0.014    0.004  0.401   6.274  0.584  0.331  11.544   \n",
      "hard           0.266  0.017    0.001 -0.250   2.994  0.884  0.068   0.592   \n",
      "economic       0.509  0.034    0.009  0.354  12.005  0.484  0.321  26.604   \n",
      "egoism         0.221  0.067    0.003  0.060   0.681  0.073 -0.026   0.338   \n",
      "employment     0.337  0.050    0.006 -0.137   2.621  0.164  0.215  17.555   \n",
      "finances       0.451  0.018    0.004 -0.237   2.790  0.276 -0.206   5.690   \n",
      "war            0.251  0.016    0.001  0.217   2.169  0.749 -0.075   0.694   \n",
      "\n",
      "                cos2  Dim.3     ctr   cos2  \n",
      "money          0.013  0.101  16.884  0.328  \n",
      "future         0.220 -0.053   7.568  0.064  \n",
      "unemployment   0.097 -0.004   0.046  0.000  \n",
      "circumstances  0.398 -0.016   0.046  0.001  \n",
      "hard           0.065  0.060   0.845  0.051  \n",
      "economic       0.397  0.084   3.280  0.027  \n",
      "egoism         0.013  0.179  29.496  0.655  \n",
      "employment     0.408 -0.213  30.815  0.398  \n",
      "finances       0.209 -0.044   0.469  0.010  \n",
      "war            0.089 -0.098   2.139  0.152  \n",
      "\n",
      "Supplementary rows\n",
      "\n",
      "               dist  Dim.1   cos2  Dim.2   cos2  Dim.3   cos2\n",
      "comfort       0.799  0.210  0.069  0.703  0.775  0.071  0.008\n",
      "disagreement  0.404  0.146  0.131  0.119  0.087  0.171  0.180\n",
      "world         0.559  0.523  0.876  0.143  0.065  0.084  0.023\n",
      "to_live       0.827  0.308  0.139  0.502  0.369  0.521  0.397\n",
      "\n",
      "Columns\n",
      "\n",
      "                      dist  marge  inertia  Dim.1     ctr   cos2  Dim.2  \\\n",
      "unqualified          0.255  0.203    0.013 -0.209  25.110  0.676 -0.081   \n",
      "cep                  0.173  0.337    0.010 -0.139  18.297  0.645  0.056   \n",
      "bepc                 0.195  0.202    0.008  0.109   6.758  0.312 -0.028   \n",
      "high_school_diploma  0.315  0.179    0.018  0.274  37.976  0.758 -0.121   \n",
      "university           0.414  0.079    0.013  0.231  11.859  0.312  0.318   \n",
      "\n",
      "                        ctr   cos2  Dim.3     ctr   cos2  \n",
      "unqualified          10.082  0.101  0.073  14.659  0.081  \n",
      "cep                   8.079  0.105 -0.018   1.520  0.011  \n",
      "bepc                  1.251  0.021 -0.147  59.874  0.570  \n",
      "high_school_diploma  20.099  0.149  0.077  14.407  0.059  \n",
      "university           60.488  0.589  0.094   9.540  0.052  \n",
      "\n",
      "Supplementary columns\n",
      "\n",
      "             dist  Dim.1   cos2  Dim.2   cos2  Dim.3   cos2\n",
      "thirty      0.284  0.105  0.138 -0.060  0.044 -0.103  0.132\n",
      "fifty       0.164 -0.017  0.011  0.049  0.090 -0.016  0.009\n",
      "more_fifty  0.331 -0.177  0.286 -0.048  0.021  0.101  0.093\n",
      "\n",
      "Supplementary categories\n",
      "\n",
      "    dist  Dim.1   cos2  vtest  Dim.2   cos2  vtest  Dim.3   cos2  vtest\n",
      "A  0.054 -0.021  0.158 -0.871 -0.049  0.838 -2.004  0.001  0.001  0.058\n",
      "B  0.097  0.005  0.002  0.086  0.094  0.933  1.783  0.025  0.064  0.468\n",
      "C  0.046  0.033  0.525  0.875  0.026  0.311  0.673 -0.018  0.145 -0.460\n",
      "\n",
      "Supplementary qualitatives variables (eta2)\n",
      "\n",
      "       Dim.1  Dim.2  Dim.3\n",
      "group  0.016  0.233  0.028\n"
     ]
    }
   ],
   "source": [
    "from scientisttools import summaryCA\n",
    "summaryCA(res_ca)"
   ]
  },
  {
   "cell_type": "code",
   "execution_count": 34,
   "metadata": {},
   "outputs": [
    {
     "data": {
      "text/plain": [
       "dict_keys(['Dim.1', 'Dim.2', 'Dim.3', 'Dim.4'])"
      ]
     },
     "execution_count": 34,
     "metadata": {},
     "output_type": "execute_result"
    }
   ],
   "source": [
    "from scientisttools import dimdesc\n",
    "dimDesc = dimdesc(res_ca)\n",
    "dimDesc.keys()"
   ]
  },
  {
   "cell_type": "code",
   "execution_count": 35,
   "metadata": {},
   "outputs": [
    {
     "data": {
      "text/plain": [
       "{'row':                   coord\n",
       " hard          -0.249984\n",
       " finances      -0.236996\n",
       " unemployment  -0.212228\n",
       " work          -0.211677\n",
       " employment    -0.136755\n",
       " money         -0.115267\n",
       " housing       -0.006681\n",
       " egoism         0.059889\n",
       " health         0.111652\n",
       " disagreement   0.146278\n",
       " future         0.176449\n",
       " fear           0.203348\n",
       " comfort        0.209670\n",
       " war            0.216824\n",
       " to_live        0.308307\n",
       " economic       0.353964\n",
       " circumstances  0.400922\n",
       " world          0.523304,\n",
       " 'col':                         coord\n",
       " unqualified         -0.209318\n",
       " more_fifty          -0.177068\n",
       " cep                 -0.138577\n",
       " fifty               -0.017064\n",
       " thirty               0.105413\n",
       " bepc                 0.108758\n",
       " university           0.231233\n",
       " high_school_diploma  0.274039}"
      ]
     },
     "execution_count": 35,
     "metadata": {},
     "output_type": "execute_result"
    }
   ],
   "source": [
    "dimDesc[\"Dim.1\"]"
   ]
  }
 ],
 "metadata": {
  "kernelspec": {
   "display_name": "Python 3",
   "language": "python",
   "name": "python3"
  },
  "language_info": {
   "codemirror_mode": {
    "name": "ipython",
    "version": 3
   },
   "file_extension": ".py",
   "mimetype": "text/x-python",
   "name": "python",
   "nbconvert_exporter": "python",
   "pygments_lexer": "ipython3",
   "version": "3.10.5"
  }
 },
 "nbformat": 4,
 "nbformat_minor": 2
}
