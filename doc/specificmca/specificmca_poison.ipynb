{
 "cells": [
  {
   "cell_type": "markdown",
   "metadata": {},
   "source": [
    "# Specific MCA - Poison"
   ]
  },
  {
   "cell_type": "code",
   "execution_count": 1,
   "metadata": {},
   "outputs": [],
   "source": [
    "import warnings\n",
    "warnings.simplefilter(action='ignore', category=FutureWarning)\n",
    "warnings.filterwarnings(\"ignore\")"
   ]
  },
  {
   "cell_type": "code",
   "execution_count": 2,
   "metadata": {},
   "outputs": [
    {
     "data": {
      "text/html": [
       "<div>\n",
       "<style scoped>\n",
       "    .dataframe tbody tr th:only-of-type {\n",
       "        vertical-align: middle;\n",
       "    }\n",
       "\n",
       "    .dataframe tbody tr th {\n",
       "        vertical-align: top;\n",
       "    }\n",
       "\n",
       "    .dataframe thead th {\n",
       "        text-align: right;\n",
       "    }\n",
       "</style>\n",
       "<table border=\"1\" class=\"dataframe\">\n",
       "  <thead>\n",
       "    <tr style=\"text-align: right;\">\n",
       "      <th></th>\n",
       "      <th>Age</th>\n",
       "      <th>Time</th>\n",
       "      <th>Sick</th>\n",
       "      <th>Sex</th>\n",
       "      <th>Nausea</th>\n",
       "      <th>Vomiting</th>\n",
       "      <th>Abdominals</th>\n",
       "      <th>Fever</th>\n",
       "      <th>Diarrhae</th>\n",
       "      <th>Potato</th>\n",
       "      <th>Fish</th>\n",
       "      <th>Mayo</th>\n",
       "      <th>Courgette</th>\n",
       "      <th>Cheese</th>\n",
       "      <th>Icecream</th>\n",
       "    </tr>\n",
       "    <tr>\n",
       "      <th>rownames</th>\n",
       "      <th></th>\n",
       "      <th></th>\n",
       "      <th></th>\n",
       "      <th></th>\n",
       "      <th></th>\n",
       "      <th></th>\n",
       "      <th></th>\n",
       "      <th></th>\n",
       "      <th></th>\n",
       "      <th></th>\n",
       "      <th></th>\n",
       "      <th></th>\n",
       "      <th></th>\n",
       "      <th></th>\n",
       "      <th></th>\n",
       "    </tr>\n",
       "  </thead>\n",
       "  <tbody>\n",
       "    <tr>\n",
       "      <th>1</th>\n",
       "      <td>9</td>\n",
       "      <td>22</td>\n",
       "      <td>Sick_y</td>\n",
       "      <td>F</td>\n",
       "      <td>Nausea_y</td>\n",
       "      <td>Vomit_n</td>\n",
       "      <td>Abdo_y</td>\n",
       "      <td>Fever_y</td>\n",
       "      <td>Diarrhea_y</td>\n",
       "      <td>Potato_y</td>\n",
       "      <td>Fish_y</td>\n",
       "      <td>Mayo_y</td>\n",
       "      <td>Courg_y</td>\n",
       "      <td>Cheese_y</td>\n",
       "      <td>Icecream_y</td>\n",
       "    </tr>\n",
       "    <tr>\n",
       "      <th>2</th>\n",
       "      <td>5</td>\n",
       "      <td>0</td>\n",
       "      <td>Sick_n</td>\n",
       "      <td>F</td>\n",
       "      <td>Nausea_n</td>\n",
       "      <td>Vomit_n</td>\n",
       "      <td>Abdo_n</td>\n",
       "      <td>Fever_n</td>\n",
       "      <td>Diarrhea_n</td>\n",
       "      <td>Potato_y</td>\n",
       "      <td>Fish_y</td>\n",
       "      <td>Mayo_y</td>\n",
       "      <td>Courg_y</td>\n",
       "      <td>Cheese_n</td>\n",
       "      <td>Icecream_y</td>\n",
       "    </tr>\n",
       "    <tr>\n",
       "      <th>3</th>\n",
       "      <td>6</td>\n",
       "      <td>16</td>\n",
       "      <td>Sick_y</td>\n",
       "      <td>F</td>\n",
       "      <td>Nausea_n</td>\n",
       "      <td>Vomit_y</td>\n",
       "      <td>Abdo_y</td>\n",
       "      <td>Fever_y</td>\n",
       "      <td>Diarrhea_y</td>\n",
       "      <td>Potato_y</td>\n",
       "      <td>Fish_y</td>\n",
       "      <td>Mayo_y</td>\n",
       "      <td>Courg_y</td>\n",
       "      <td>Cheese_y</td>\n",
       "      <td>Icecream_y</td>\n",
       "    </tr>\n",
       "    <tr>\n",
       "      <th>4</th>\n",
       "      <td>9</td>\n",
       "      <td>0</td>\n",
       "      <td>Sick_n</td>\n",
       "      <td>F</td>\n",
       "      <td>Nausea_n</td>\n",
       "      <td>Vomit_n</td>\n",
       "      <td>Abdo_n</td>\n",
       "      <td>Fever_n</td>\n",
       "      <td>Diarrhea_n</td>\n",
       "      <td>Potato_y</td>\n",
       "      <td>Fish_y</td>\n",
       "      <td>Mayo_n</td>\n",
       "      <td>Courg_y</td>\n",
       "      <td>Cheese_y</td>\n",
       "      <td>Icecream_y</td>\n",
       "    </tr>\n",
       "    <tr>\n",
       "      <th>5</th>\n",
       "      <td>7</td>\n",
       "      <td>14</td>\n",
       "      <td>Sick_y</td>\n",
       "      <td>M</td>\n",
       "      <td>Nausea_n</td>\n",
       "      <td>Vomit_y</td>\n",
       "      <td>Abdo_y</td>\n",
       "      <td>Fever_y</td>\n",
       "      <td>Diarrhea_y</td>\n",
       "      <td>Potato_y</td>\n",
       "      <td>Fish_y</td>\n",
       "      <td>Mayo_y</td>\n",
       "      <td>Courg_y</td>\n",
       "      <td>Cheese_y</td>\n",
       "      <td>Icecream_y</td>\n",
       "    </tr>\n",
       "    <tr>\n",
       "      <th>6</th>\n",
       "      <td>72</td>\n",
       "      <td>9</td>\n",
       "      <td>Sick_y</td>\n",
       "      <td>M</td>\n",
       "      <td>Nausea_n</td>\n",
       "      <td>Vomit_n</td>\n",
       "      <td>Abdo_y</td>\n",
       "      <td>Fever_y</td>\n",
       "      <td>Diarrhea_y</td>\n",
       "      <td>Potato_y</td>\n",
       "      <td>Fish_n</td>\n",
       "      <td>Mayo_y</td>\n",
       "      <td>Courg_y</td>\n",
       "      <td>Cheese_y</td>\n",
       "      <td>Icecream_y</td>\n",
       "    </tr>\n",
       "  </tbody>\n",
       "</table>\n",
       "</div>"
      ],
      "text/plain": [
       "          Age  Time    Sick Sex    Nausea Vomiting Abdominals    Fever  \\\n",
       "rownames                                                                 \n",
       "1           9    22  Sick_y   F  Nausea_y  Vomit_n     Abdo_y  Fever_y   \n",
       "2           5     0  Sick_n   F  Nausea_n  Vomit_n     Abdo_n  Fever_n   \n",
       "3           6    16  Sick_y   F  Nausea_n  Vomit_y     Abdo_y  Fever_y   \n",
       "4           9     0  Sick_n   F  Nausea_n  Vomit_n     Abdo_n  Fever_n   \n",
       "5           7    14  Sick_y   M  Nausea_n  Vomit_y     Abdo_y  Fever_y   \n",
       "6          72     9  Sick_y   M  Nausea_n  Vomit_n     Abdo_y  Fever_y   \n",
       "\n",
       "            Diarrhae    Potato    Fish    Mayo Courgette    Cheese    Icecream  \n",
       "rownames                                                                        \n",
       "1         Diarrhea_y  Potato_y  Fish_y  Mayo_y   Courg_y  Cheese_y  Icecream_y  \n",
       "2         Diarrhea_n  Potato_y  Fish_y  Mayo_y   Courg_y  Cheese_n  Icecream_y  \n",
       "3         Diarrhea_y  Potato_y  Fish_y  Mayo_y   Courg_y  Cheese_y  Icecream_y  \n",
       "4         Diarrhea_n  Potato_y  Fish_y  Mayo_n   Courg_y  Cheese_y  Icecream_y  \n",
       "5         Diarrhea_y  Potato_y  Fish_y  Mayo_y   Courg_y  Cheese_y  Icecream_y  \n",
       "6         Diarrhea_y  Potato_y  Fish_n  Mayo_y   Courg_y  Cheese_y  Icecream_y  "
      ]
     },
     "execution_count": 2,
     "metadata": {},
     "output_type": "execute_result"
    }
   ],
   "source": [
    "from scientisttools import load_poison\n",
    "poison = load_poison()\n",
    "poison.head(6)"
   ]
  },
  {
   "cell_type": "code",
   "execution_count": 3,
   "metadata": {},
   "outputs": [
    {
     "data": {
      "text/html": [
       "<style>#sk-container-id-1 {color: black;background-color: white;}#sk-container-id-1 pre{padding: 0;}#sk-container-id-1 div.sk-toggleable {background-color: white;}#sk-container-id-1 label.sk-toggleable__label {cursor: pointer;display: block;width: 100%;margin-bottom: 0;padding: 0.3em;box-sizing: border-box;text-align: center;}#sk-container-id-1 label.sk-toggleable__label-arrow:before {content: \"▸\";float: left;margin-right: 0.25em;color: #696969;}#sk-container-id-1 label.sk-toggleable__label-arrow:hover:before {color: black;}#sk-container-id-1 div.sk-estimator:hover label.sk-toggleable__label-arrow:before {color: black;}#sk-container-id-1 div.sk-toggleable__content {max-height: 0;max-width: 0;overflow: hidden;text-align: left;background-color: #f0f8ff;}#sk-container-id-1 div.sk-toggleable__content pre {margin: 0.2em;color: black;border-radius: 0.25em;background-color: #f0f8ff;}#sk-container-id-1 input.sk-toggleable__control:checked~div.sk-toggleable__content {max-height: 200px;max-width: 100%;overflow: auto;}#sk-container-id-1 input.sk-toggleable__control:checked~label.sk-toggleable__label-arrow:before {content: \"▾\";}#sk-container-id-1 div.sk-estimator input.sk-toggleable__control:checked~label.sk-toggleable__label {background-color: #d4ebff;}#sk-container-id-1 div.sk-label input.sk-toggleable__control:checked~label.sk-toggleable__label {background-color: #d4ebff;}#sk-container-id-1 input.sk-hidden--visually {border: 0;clip: rect(1px 1px 1px 1px);clip: rect(1px, 1px, 1px, 1px);height: 1px;margin: -1px;overflow: hidden;padding: 0;position: absolute;width: 1px;}#sk-container-id-1 div.sk-estimator {font-family: monospace;background-color: #f0f8ff;border: 1px dotted black;border-radius: 0.25em;box-sizing: border-box;margin-bottom: 0.5em;}#sk-container-id-1 div.sk-estimator:hover {background-color: #d4ebff;}#sk-container-id-1 div.sk-parallel-item::after {content: \"\";width: 100%;border-bottom: 1px solid gray;flex-grow: 1;}#sk-container-id-1 div.sk-label:hover label.sk-toggleable__label {background-color: #d4ebff;}#sk-container-id-1 div.sk-serial::before {content: \"\";position: absolute;border-left: 1px solid gray;box-sizing: border-box;top: 0;bottom: 0;left: 50%;z-index: 0;}#sk-container-id-1 div.sk-serial {display: flex;flex-direction: column;align-items: center;background-color: white;padding-right: 0.2em;padding-left: 0.2em;position: relative;}#sk-container-id-1 div.sk-item {position: relative;z-index: 1;}#sk-container-id-1 div.sk-parallel {display: flex;align-items: stretch;justify-content: center;background-color: white;position: relative;}#sk-container-id-1 div.sk-item::before, #sk-container-id-1 div.sk-parallel-item::before {content: \"\";position: absolute;border-left: 1px solid gray;box-sizing: border-box;top: 0;bottom: 0;left: 50%;z-index: -1;}#sk-container-id-1 div.sk-parallel-item {display: flex;flex-direction: column;z-index: 1;position: relative;background-color: white;}#sk-container-id-1 div.sk-parallel-item:first-child::after {align-self: flex-end;width: 50%;}#sk-container-id-1 div.sk-parallel-item:last-child::after {align-self: flex-start;width: 50%;}#sk-container-id-1 div.sk-parallel-item:only-child::after {width: 0;}#sk-container-id-1 div.sk-dashed-wrapped {border: 1px dashed gray;margin: 0 0.4em 0.5em 0.4em;box-sizing: border-box;padding-bottom: 0.4em;background-color: white;}#sk-container-id-1 div.sk-label label {font-family: monospace;font-weight: bold;display: inline-block;line-height: 1.2em;}#sk-container-id-1 div.sk-label-container {text-align: center;}#sk-container-id-1 div.sk-container {/* jupyter's `normalize.less` sets `[hidden] { display: none; }` but bootstrap.min.css set `[hidden] { display: none !important; }` so we also need the `!important` here to be able to override the default hidden behavior on the sphinx rendered scikit-learn.org. See: https://github.com/scikit-learn/scikit-learn/issues/21755 */display: inline-block !important;position: relative;}#sk-container-id-1 div.sk-text-repr-fallback {display: none;}</style><div id=\"sk-container-id-1\" class=\"sk-top-container\"><div class=\"sk-text-repr-fallback\"><pre>SpecificMCA(excl={&#x27;Sex&#x27;: &#x27;F&#x27;, &#x27;Sick&#x27;: &#x27;Sick_n&#x27;}, quali_sup=[13, 14],\n",
       "            quanti_sup=[0, 1])</pre><b>In a Jupyter environment, please rerun this cell to show the HTML representation or trust the notebook. <br />On GitHub, the HTML representation is unable to render, please try loading this page with nbviewer.org.</b></div><div class=\"sk-container\" hidden><div class=\"sk-item\"><div class=\"sk-estimator sk-toggleable\"><input class=\"sk-toggleable__control sk-hidden--visually\" id=\"sk-estimator-id-1\" type=\"checkbox\" checked><label for=\"sk-estimator-id-1\" class=\"sk-toggleable__label sk-toggleable__label-arrow\">SpecificMCA</label><div class=\"sk-toggleable__content\"><pre>SpecificMCA(excl={&#x27;Sex&#x27;: &#x27;F&#x27;, &#x27;Sick&#x27;: &#x27;Sick_n&#x27;}, quali_sup=[13, 14],\n",
       "            quanti_sup=[0, 1])</pre></div></div></div></div></div>"
      ],
      "text/plain": [
       "SpecificMCA(excl={'Sex': 'F', 'Sick': 'Sick_n'}, quali_sup=[13, 14],\n",
       "            quanti_sup=[0, 1])"
      ]
     },
     "execution_count": 3,
     "metadata": {},
     "output_type": "execute_result"
    }
   ],
   "source": [
    "from scientisttools import SpecificMCA\n",
    "# Junk \n",
    "excl = {\"Sick\" : \"Sick_n\", \"Sex\" : \"F\"}\n",
    "res_mca = SpecificMCA(n_components=5,excl=excl,quanti_sup=[0,1],quali_sup=[13,14])\n",
    "res_mca.fit(poison)"
   ]
  },
  {
   "cell_type": "markdown",
   "metadata": {},
   "source": [
    "## Eigenvalues"
   ]
  },
  {
   "cell_type": "code",
   "execution_count": 4,
   "metadata": {},
   "outputs": [
    {
     "data": {
      "text/html": [
       "<div>\n",
       "<style scoped>\n",
       "    .dataframe tbody tr th:only-of-type {\n",
       "        vertical-align: middle;\n",
       "    }\n",
       "\n",
       "    .dataframe tbody tr th {\n",
       "        vertical-align: top;\n",
       "    }\n",
       "\n",
       "    .dataframe thead th {\n",
       "        text-align: right;\n",
       "    }\n",
       "</style>\n",
       "<table border=\"1\" class=\"dataframe\">\n",
       "  <thead>\n",
       "    <tr style=\"text-align: right;\">\n",
       "      <th></th>\n",
       "      <th>eigenvalue</th>\n",
       "      <th>difference</th>\n",
       "      <th>proportion</th>\n",
       "      <th>cumulative</th>\n",
       "      <th>modified rates</th>\n",
       "      <th>cumulative modified rates</th>\n",
       "    </tr>\n",
       "  </thead>\n",
       "  <tbody>\n",
       "    <tr>\n",
       "      <th>Dim.1</th>\n",
       "      <td>0.345458</td>\n",
       "      <td>0.220992</td>\n",
       "      <td>38.704126</td>\n",
       "      <td>38.704126</td>\n",
       "      <td>98.086085</td>\n",
       "      <td>98.086085</td>\n",
       "    </tr>\n",
       "    <tr>\n",
       "      <th>Dim.2</th>\n",
       "      <td>0.124466</td>\n",
       "      <td>0.021800</td>\n",
       "      <td>13.944852</td>\n",
       "      <td>52.648978</td>\n",
       "      <td>1.704666</td>\n",
       "      <td>99.790751</td>\n",
       "    </tr>\n",
       "    <tr>\n",
       "      <th>Dim.3</th>\n",
       "      <td>0.102666</td>\n",
       "      <td>0.021593</td>\n",
       "      <td>11.502415</td>\n",
       "      <td>64.151393</td>\n",
       "      <td>0.209249</td>\n",
       "      <td>100.000000</td>\n",
       "    </tr>\n",
       "    <tr>\n",
       "      <th>Dim.4</th>\n",
       "      <td>0.081073</td>\n",
       "      <td>0.017993</td>\n",
       "      <td>9.083166</td>\n",
       "      <td>73.234560</td>\n",
       "      <td>0.000000</td>\n",
       "      <td>100.000000</td>\n",
       "    </tr>\n",
       "    <tr>\n",
       "      <th>Dim.5</th>\n",
       "      <td>0.063080</td>\n",
       "      <td>0.001496</td>\n",
       "      <td>7.067335</td>\n",
       "      <td>80.301895</td>\n",
       "      <td>0.000000</td>\n",
       "      <td>100.000000</td>\n",
       "    </tr>\n",
       "    <tr>\n",
       "      <th>Dim.6</th>\n",
       "      <td>0.061585</td>\n",
       "      <td>0.012116</td>\n",
       "      <td>6.899784</td>\n",
       "      <td>87.201679</td>\n",
       "      <td>0.000000</td>\n",
       "      <td>100.000000</td>\n",
       "    </tr>\n",
       "    <tr>\n",
       "      <th>Dim.7</th>\n",
       "      <td>0.049468</td>\n",
       "      <td>0.010890</td>\n",
       "      <td>5.542301</td>\n",
       "      <td>92.743980</td>\n",
       "      <td>0.000000</td>\n",
       "      <td>100.000000</td>\n",
       "    </tr>\n",
       "    <tr>\n",
       "      <th>Dim.8</th>\n",
       "      <td>0.038579</td>\n",
       "      <td>0.025585</td>\n",
       "      <td>4.322253</td>\n",
       "      <td>97.066233</td>\n",
       "      <td>0.000000</td>\n",
       "      <td>100.000000</td>\n",
       "    </tr>\n",
       "    <tr>\n",
       "      <th>Dim.9</th>\n",
       "      <td>0.012994</td>\n",
       "      <td>0.000778</td>\n",
       "      <td>1.455809</td>\n",
       "      <td>98.522042</td>\n",
       "      <td>0.000000</td>\n",
       "      <td>100.000000</td>\n",
       "    </tr>\n",
       "    <tr>\n",
       "      <th>Dim.10</th>\n",
       "      <td>0.012216</td>\n",
       "      <td>0.011239</td>\n",
       "      <td>1.368596</td>\n",
       "      <td>99.890637</td>\n",
       "      <td>0.000000</td>\n",
       "      <td>100.000000</td>\n",
       "    </tr>\n",
       "    <tr>\n",
       "      <th>Dim.11</th>\n",
       "      <td>0.000976</td>\n",
       "      <td>NaN</td>\n",
       "      <td>0.109363</td>\n",
       "      <td>100.000000</td>\n",
       "      <td>0.000000</td>\n",
       "      <td>100.000000</td>\n",
       "    </tr>\n",
       "  </tbody>\n",
       "</table>\n",
       "</div>"
      ],
      "text/plain": [
       "        eigenvalue  difference  proportion  cumulative  modified rates  \\\n",
       "Dim.1     0.345458    0.220992   38.704126   38.704126       98.086085   \n",
       "Dim.2     0.124466    0.021800   13.944852   52.648978        1.704666   \n",
       "Dim.3     0.102666    0.021593   11.502415   64.151393        0.209249   \n",
       "Dim.4     0.081073    0.017993    9.083166   73.234560        0.000000   \n",
       "Dim.5     0.063080    0.001496    7.067335   80.301895        0.000000   \n",
       "Dim.6     0.061585    0.012116    6.899784   87.201679        0.000000   \n",
       "Dim.7     0.049468    0.010890    5.542301   92.743980        0.000000   \n",
       "Dim.8     0.038579    0.025585    4.322253   97.066233        0.000000   \n",
       "Dim.9     0.012994    0.000778    1.455809   98.522042        0.000000   \n",
       "Dim.10    0.012216    0.011239    1.368596   99.890637        0.000000   \n",
       "Dim.11    0.000976         NaN    0.109363  100.000000        0.000000   \n",
       "\n",
       "        cumulative modified rates  \n",
       "Dim.1                   98.086085  \n",
       "Dim.2                   99.790751  \n",
       "Dim.3                  100.000000  \n",
       "Dim.4                  100.000000  \n",
       "Dim.5                  100.000000  \n",
       "Dim.6                  100.000000  \n",
       "Dim.7                  100.000000  \n",
       "Dim.8                  100.000000  \n",
       "Dim.9                  100.000000  \n",
       "Dim.10                 100.000000  \n",
       "Dim.11                 100.000000  "
      ]
     },
     "execution_count": 4,
     "metadata": {},
     "output_type": "execute_result"
    }
   ],
   "source": [
    "res_mca.eig_"
   ]
  },
  {
   "cell_type": "markdown",
   "metadata": {},
   "source": [
    "## Individuals informations"
   ]
  },
  {
   "cell_type": "code",
   "execution_count": 5,
   "metadata": {},
   "outputs": [
    {
     "data": {
      "text/plain": [
       "dict_keys(['coord', 'contrib', 'cos2', 'infos'])"
      ]
     },
     "execution_count": 5,
     "metadata": {},
     "output_type": "execute_result"
    }
   ],
   "source": [
    "ind = res_mca.ind_\n",
    "ind.keys()"
   ]
  },
  {
   "cell_type": "markdown",
   "metadata": {},
   "source": [
    "# Individuals coordinates"
   ]
  },
  {
   "cell_type": "code",
   "execution_count": 6,
   "metadata": {},
   "outputs": [
    {
     "data": {
      "text/html": [
       "<div>\n",
       "<style scoped>\n",
       "    .dataframe tbody tr th:only-of-type {\n",
       "        vertical-align: middle;\n",
       "    }\n",
       "\n",
       "    .dataframe tbody tr th {\n",
       "        vertical-align: top;\n",
       "    }\n",
       "\n",
       "    .dataframe thead th {\n",
       "        text-align: right;\n",
       "    }\n",
       "</style>\n",
       "<table border=\"1\" class=\"dataframe\">\n",
       "  <thead>\n",
       "    <tr style=\"text-align: right;\">\n",
       "      <th></th>\n",
       "      <th>Dim.1</th>\n",
       "      <th>Dim.2</th>\n",
       "      <th>Dim.3</th>\n",
       "      <th>Dim.4</th>\n",
       "      <th>Dim.5</th>\n",
       "    </tr>\n",
       "  </thead>\n",
       "  <tbody>\n",
       "    <tr>\n",
       "      <th>1</th>\n",
       "      <td>0.440528</td>\n",
       "      <td>0.284897</td>\n",
       "      <td>-0.121332</td>\n",
       "      <td>-0.116405</td>\n",
       "      <td>0.143585</td>\n",
       "    </tr>\n",
       "    <tr>\n",
       "      <th>2</th>\n",
       "      <td>-0.733351</td>\n",
       "      <td>0.049914</td>\n",
       "      <td>-0.023681</td>\n",
       "      <td>-0.146486</td>\n",
       "      <td>-0.355949</td>\n",
       "    </tr>\n",
       "    <tr>\n",
       "      <th>3</th>\n",
       "      <td>0.441478</td>\n",
       "      <td>-0.222924</td>\n",
       "      <td>0.053872</td>\n",
       "      <td>-0.225714</td>\n",
       "      <td>-0.022648</td>\n",
       "    </tr>\n",
       "    <tr>\n",
       "      <th>4</th>\n",
       "      <td>-0.973966</td>\n",
       "      <td>-0.032149</td>\n",
       "      <td>-0.068564</td>\n",
       "      <td>0.053242</td>\n",
       "      <td>0.335419</td>\n",
       "    </tr>\n",
       "    <tr>\n",
       "      <th>5</th>\n",
       "      <td>0.444577</td>\n",
       "      <td>-0.187343</td>\n",
       "      <td>0.102264</td>\n",
       "      <td>-0.191521</td>\n",
       "      <td>-0.000859</td>\n",
       "    </tr>\n",
       "    <tr>\n",
       "      <th>6</th>\n",
       "      <td>0.352338</td>\n",
       "      <td>0.378504</td>\n",
       "      <td>2.045537</td>\n",
       "      <td>0.655324</td>\n",
       "      <td>-0.055846</td>\n",
       "    </tr>\n",
       "  </tbody>\n",
       "</table>\n",
       "</div>"
      ],
      "text/plain": [
       "      Dim.1     Dim.2     Dim.3     Dim.4     Dim.5\n",
       "1  0.440528  0.284897 -0.121332 -0.116405  0.143585\n",
       "2 -0.733351  0.049914 -0.023681 -0.146486 -0.355949\n",
       "3  0.441478 -0.222924  0.053872 -0.225714 -0.022648\n",
       "4 -0.973966 -0.032149 -0.068564  0.053242  0.335419\n",
       "5  0.444577 -0.187343  0.102264 -0.191521 -0.000859\n",
       "6  0.352338  0.378504  2.045537  0.655324 -0.055846"
      ]
     },
     "execution_count": 6,
     "metadata": {},
     "output_type": "execute_result"
    }
   ],
   "source": [
    "ind[\"coord\"].head(6)"
   ]
  },
  {
   "cell_type": "code",
   "execution_count": 7,
   "metadata": {},
   "outputs": [
    {
     "data": {
      "text/html": [
       "<div>\n",
       "<style scoped>\n",
       "    .dataframe tbody tr th:only-of-type {\n",
       "        vertical-align: middle;\n",
       "    }\n",
       "\n",
       "    .dataframe tbody tr th {\n",
       "        vertical-align: top;\n",
       "    }\n",
       "\n",
       "    .dataframe thead th {\n",
       "        text-align: right;\n",
       "    }\n",
       "</style>\n",
       "<table border=\"1\" class=\"dataframe\">\n",
       "  <thead>\n",
       "    <tr style=\"text-align: right;\">\n",
       "      <th></th>\n",
       "      <th>Dim.1</th>\n",
       "      <th>Dim.2</th>\n",
       "      <th>Dim.3</th>\n",
       "      <th>Dim.4</th>\n",
       "      <th>Dim.5</th>\n",
       "    </tr>\n",
       "  </thead>\n",
       "  <tbody>\n",
       "    <tr>\n",
       "      <th>1</th>\n",
       "      <td>0.309067</td>\n",
       "      <td>0.129265</td>\n",
       "      <td>0.023445</td>\n",
       "      <td>0.021580</td>\n",
       "      <td>0.032834</td>\n",
       "    </tr>\n",
       "    <tr>\n",
       "      <th>2</th>\n",
       "      <td>0.732019</td>\n",
       "      <td>0.003391</td>\n",
       "      <td>0.000763</td>\n",
       "      <td>0.029207</td>\n",
       "      <td>0.172455</td>\n",
       "    </tr>\n",
       "    <tr>\n",
       "      <th>3</th>\n",
       "      <td>0.483300</td>\n",
       "      <td>0.123229</td>\n",
       "      <td>0.007197</td>\n",
       "      <td>0.126333</td>\n",
       "      <td>0.001272</td>\n",
       "    </tr>\n",
       "    <tr>\n",
       "      <th>4</th>\n",
       "      <td>0.844279</td>\n",
       "      <td>0.000920</td>\n",
       "      <td>0.004184</td>\n",
       "      <td>0.002523</td>\n",
       "      <td>0.100132</td>\n",
       "    </tr>\n",
       "    <tr>\n",
       "      <th>5</th>\n",
       "      <td>0.486049</td>\n",
       "      <td>0.086310</td>\n",
       "      <td>0.025718</td>\n",
       "      <td>0.090202</td>\n",
       "      <td>0.000002</td>\n",
       "    </tr>\n",
       "    <tr>\n",
       "      <th>6</th>\n",
       "      <td>0.023699</td>\n",
       "      <td>0.027350</td>\n",
       "      <td>0.798776</td>\n",
       "      <td>0.081983</td>\n",
       "      <td>0.000595</td>\n",
       "    </tr>\n",
       "  </tbody>\n",
       "</table>\n",
       "</div>"
      ],
      "text/plain": [
       "      Dim.1     Dim.2     Dim.3     Dim.4     Dim.5\n",
       "1  0.309067  0.129265  0.023445  0.021580  0.032834\n",
       "2  0.732019  0.003391  0.000763  0.029207  0.172455\n",
       "3  0.483300  0.123229  0.007197  0.126333  0.001272\n",
       "4  0.844279  0.000920  0.004184  0.002523  0.100132\n",
       "5  0.486049  0.086310  0.025718  0.090202  0.000002\n",
       "6  0.023699  0.027350  0.798776  0.081983  0.000595"
      ]
     },
     "execution_count": 7,
     "metadata": {},
     "output_type": "execute_result"
    }
   ],
   "source": [
    "ind[\"cos2\"].head(6)"
   ]
  },
  {
   "cell_type": "markdown",
   "metadata": {},
   "source": [
    "## Supplementary quantitatives"
   ]
  },
  {
   "cell_type": "code",
   "execution_count": 8,
   "metadata": {},
   "outputs": [
    {
     "data": {
      "text/plain": [
       "dict_keys(['coord', 'cos2'])"
      ]
     },
     "execution_count": 8,
     "metadata": {},
     "output_type": "execute_result"
    }
   ],
   "source": [
    "quanti_sup = res_mca.quanti_sup_\n",
    "quanti_sup.keys()"
   ]
  },
  {
   "cell_type": "code",
   "execution_count": 9,
   "metadata": {},
   "outputs": [
    {
     "data": {
      "text/html": [
       "<div>\n",
       "<style scoped>\n",
       "    .dataframe tbody tr th:only-of-type {\n",
       "        vertical-align: middle;\n",
       "    }\n",
       "\n",
       "    .dataframe tbody tr th {\n",
       "        vertical-align: top;\n",
       "    }\n",
       "\n",
       "    .dataframe thead th {\n",
       "        text-align: right;\n",
       "    }\n",
       "</style>\n",
       "<table border=\"1\" class=\"dataframe\">\n",
       "  <thead>\n",
       "    <tr style=\"text-align: right;\">\n",
       "      <th></th>\n",
       "      <th>Dim.1</th>\n",
       "      <th>Dim.2</th>\n",
       "      <th>Dim.3</th>\n",
       "      <th>Dim.4</th>\n",
       "      <th>Dim.5</th>\n",
       "    </tr>\n",
       "  </thead>\n",
       "  <tbody>\n",
       "    <tr>\n",
       "      <th>Age</th>\n",
       "      <td>-0.002857</td>\n",
       "      <td>-0.037462</td>\n",
       "      <td>0.306205</td>\n",
       "      <td>0.129299</td>\n",
       "      <td>-0.027888</td>\n",
       "    </tr>\n",
       "    <tr>\n",
       "      <th>Time</th>\n",
       "      <td>0.840685</td>\n",
       "      <td>0.036761</td>\n",
       "      <td>0.017441</td>\n",
       "      <td>-0.104713</td>\n",
       "      <td>0.029749</td>\n",
       "    </tr>\n",
       "  </tbody>\n",
       "</table>\n",
       "</div>"
      ],
      "text/plain": [
       "         Dim.1     Dim.2     Dim.3     Dim.4     Dim.5\n",
       "Age  -0.002857 -0.037462  0.306205  0.129299 -0.027888\n",
       "Time  0.840685  0.036761  0.017441 -0.104713  0.029749"
      ]
     },
     "execution_count": 9,
     "metadata": {},
     "output_type": "execute_result"
    }
   ],
   "source": [
    "# Coordinates\n",
    "quanti_sup[\"coord\"]"
   ]
  },
  {
   "cell_type": "code",
   "execution_count": 10,
   "metadata": {},
   "outputs": [
    {
     "data": {
      "text/html": [
       "<div>\n",
       "<style scoped>\n",
       "    .dataframe tbody tr th:only-of-type {\n",
       "        vertical-align: middle;\n",
       "    }\n",
       "\n",
       "    .dataframe tbody tr th {\n",
       "        vertical-align: top;\n",
       "    }\n",
       "\n",
       "    .dataframe thead th {\n",
       "        text-align: right;\n",
       "    }\n",
       "</style>\n",
       "<table border=\"1\" class=\"dataframe\">\n",
       "  <thead>\n",
       "    <tr style=\"text-align: right;\">\n",
       "      <th></th>\n",
       "      <th>Dim.1</th>\n",
       "      <th>Dim.2</th>\n",
       "      <th>Dim.3</th>\n",
       "      <th>Dim.4</th>\n",
       "      <th>Dim.5</th>\n",
       "    </tr>\n",
       "  </thead>\n",
       "  <tbody>\n",
       "    <tr>\n",
       "      <th>Age</th>\n",
       "      <td>0.000008</td>\n",
       "      <td>0.001403</td>\n",
       "      <td>0.093761</td>\n",
       "      <td>0.016718</td>\n",
       "      <td>0.000778</td>\n",
       "    </tr>\n",
       "    <tr>\n",
       "      <th>Time</th>\n",
       "      <td>0.706752</td>\n",
       "      <td>0.001351</td>\n",
       "      <td>0.000304</td>\n",
       "      <td>0.010965</td>\n",
       "      <td>0.000885</td>\n",
       "    </tr>\n",
       "  </tbody>\n",
       "</table>\n",
       "</div>"
      ],
      "text/plain": [
       "         Dim.1     Dim.2     Dim.3     Dim.4     Dim.5\n",
       "Age   0.000008  0.001403  0.093761  0.016718  0.000778\n",
       "Time  0.706752  0.001351  0.000304  0.010965  0.000885"
      ]
     },
     "execution_count": 10,
     "metadata": {},
     "output_type": "execute_result"
    }
   ],
   "source": [
    "# Square cosinus\n",
    "quanti_sup[\"cos2\"]"
   ]
  },
  {
   "cell_type": "markdown",
   "metadata": {},
   "source": [
    "## Supplementary qualitatives"
   ]
  },
  {
   "cell_type": "code",
   "execution_count": 11,
   "metadata": {},
   "outputs": [
    {
     "data": {
      "text/plain": [
       "dict_keys(['coord', 'cos2', 'dist', 'vtest', 'eta2'])"
      ]
     },
     "execution_count": 11,
     "metadata": {},
     "output_type": "execute_result"
    }
   ],
   "source": [
    "quali_sup = res_mca.quali_sup_\n",
    "quali_sup.keys()"
   ]
  },
  {
   "cell_type": "markdown",
   "metadata": {},
   "source": [
    "### transform"
   ]
  },
  {
   "cell_type": "code",
   "execution_count": 12,
   "metadata": {},
   "outputs": [
    {
     "data": {
      "text/html": [
       "<div>\n",
       "<style scoped>\n",
       "    .dataframe tbody tr th:only-of-type {\n",
       "        vertical-align: middle;\n",
       "    }\n",
       "\n",
       "    .dataframe tbody tr th {\n",
       "        vertical-align: top;\n",
       "    }\n",
       "\n",
       "    .dataframe thead th {\n",
       "        text-align: right;\n",
       "    }\n",
       "</style>\n",
       "<table border=\"1\" class=\"dataframe\">\n",
       "  <thead>\n",
       "    <tr style=\"text-align: right;\">\n",
       "      <th></th>\n",
       "      <th>Dim.1</th>\n",
       "      <th>Dim.2</th>\n",
       "      <th>Dim.3</th>\n",
       "      <th>Dim.4</th>\n",
       "      <th>Dim.5</th>\n",
       "    </tr>\n",
       "  </thead>\n",
       "  <tbody>\n",
       "    <tr>\n",
       "      <th>1</th>\n",
       "      <td>0.440528</td>\n",
       "      <td>0.284897</td>\n",
       "      <td>-0.121332</td>\n",
       "      <td>-0.116405</td>\n",
       "      <td>0.143585</td>\n",
       "    </tr>\n",
       "    <tr>\n",
       "      <th>2</th>\n",
       "      <td>-0.733351</td>\n",
       "      <td>0.049914</td>\n",
       "      <td>-0.023681</td>\n",
       "      <td>-0.146486</td>\n",
       "      <td>-0.355949</td>\n",
       "    </tr>\n",
       "    <tr>\n",
       "      <th>3</th>\n",
       "      <td>0.441478</td>\n",
       "      <td>-0.222924</td>\n",
       "      <td>0.053872</td>\n",
       "      <td>-0.225714</td>\n",
       "      <td>-0.022648</td>\n",
       "    </tr>\n",
       "    <tr>\n",
       "      <th>4</th>\n",
       "      <td>-0.973966</td>\n",
       "      <td>-0.032149</td>\n",
       "      <td>-0.068564</td>\n",
       "      <td>0.053242</td>\n",
       "      <td>0.335419</td>\n",
       "    </tr>\n",
       "    <tr>\n",
       "      <th>5</th>\n",
       "      <td>0.444577</td>\n",
       "      <td>-0.187343</td>\n",
       "      <td>0.102264</td>\n",
       "      <td>-0.191521</td>\n",
       "      <td>-0.000859</td>\n",
       "    </tr>\n",
       "    <tr>\n",
       "      <th>6</th>\n",
       "      <td>0.352338</td>\n",
       "      <td>0.378504</td>\n",
       "      <td>2.045537</td>\n",
       "      <td>0.655324</td>\n",
       "      <td>-0.055846</td>\n",
       "    </tr>\n",
       "  </tbody>\n",
       "</table>\n",
       "</div>"
      ],
      "text/plain": [
       "      Dim.1     Dim.2     Dim.3     Dim.4     Dim.5\n",
       "1  0.440528  0.284897 -0.121332 -0.116405  0.143585\n",
       "2 -0.733351  0.049914 -0.023681 -0.146486 -0.355949\n",
       "3  0.441478 -0.222924  0.053872 -0.225714 -0.022648\n",
       "4 -0.973966 -0.032149 -0.068564  0.053242  0.335419\n",
       "5  0.444577 -0.187343  0.102264 -0.191521 -0.000859\n",
       "6  0.352338  0.378504  2.045537  0.655324 -0.055846"
      ]
     },
     "execution_count": 12,
     "metadata": {},
     "output_type": "execute_result"
    }
   ],
   "source": [
    "ind = poison.drop(columns=[\"Age\",\"Time\",\"Cheese\",\"Icecream\"])\n",
    "res_mca.transform(ind).head(6)"
   ]
  },
  {
   "cell_type": "markdown",
   "metadata": {},
   "source": [
    "## Predict SpecificMCA"
   ]
  },
  {
   "cell_type": "code",
   "execution_count": 13,
   "metadata": {},
   "outputs": [
    {
     "data": {
      "text/plain": [
       "dict_keys(['coord', 'cos2', 'dist'])"
      ]
     },
     "execution_count": 13,
     "metadata": {},
     "output_type": "execute_result"
    }
   ],
   "source": [
    "from scientisttools import predictSpecificMCA\n",
    "\n",
    "predict = predictSpecificMCA(res_mca,X=ind)\n",
    "predict.keys()"
   ]
  },
  {
   "cell_type": "code",
   "execution_count": 14,
   "metadata": {},
   "outputs": [
    {
     "data": {
      "text/html": [
       "<div>\n",
       "<style scoped>\n",
       "    .dataframe tbody tr th:only-of-type {\n",
       "        vertical-align: middle;\n",
       "    }\n",
       "\n",
       "    .dataframe tbody tr th {\n",
       "        vertical-align: top;\n",
       "    }\n",
       "\n",
       "    .dataframe thead th {\n",
       "        text-align: right;\n",
       "    }\n",
       "</style>\n",
       "<table border=\"1\" class=\"dataframe\">\n",
       "  <thead>\n",
       "    <tr style=\"text-align: right;\">\n",
       "      <th></th>\n",
       "      <th>Dim.1</th>\n",
       "      <th>Dim.2</th>\n",
       "      <th>Dim.3</th>\n",
       "      <th>Dim.4</th>\n",
       "      <th>Dim.5</th>\n",
       "    </tr>\n",
       "  </thead>\n",
       "  <tbody>\n",
       "    <tr>\n",
       "      <th>1</th>\n",
       "      <td>0.440528</td>\n",
       "      <td>0.284897</td>\n",
       "      <td>-0.121332</td>\n",
       "      <td>-0.116405</td>\n",
       "      <td>0.143585</td>\n",
       "    </tr>\n",
       "    <tr>\n",
       "      <th>2</th>\n",
       "      <td>-0.733351</td>\n",
       "      <td>0.049914</td>\n",
       "      <td>-0.023681</td>\n",
       "      <td>-0.146486</td>\n",
       "      <td>-0.355949</td>\n",
       "    </tr>\n",
       "    <tr>\n",
       "      <th>3</th>\n",
       "      <td>0.441478</td>\n",
       "      <td>-0.222924</td>\n",
       "      <td>0.053872</td>\n",
       "      <td>-0.225714</td>\n",
       "      <td>-0.022648</td>\n",
       "    </tr>\n",
       "    <tr>\n",
       "      <th>4</th>\n",
       "      <td>-0.973966</td>\n",
       "      <td>-0.032149</td>\n",
       "      <td>-0.068564</td>\n",
       "      <td>0.053242</td>\n",
       "      <td>0.335419</td>\n",
       "    </tr>\n",
       "    <tr>\n",
       "      <th>5</th>\n",
       "      <td>0.444577</td>\n",
       "      <td>-0.187343</td>\n",
       "      <td>0.102264</td>\n",
       "      <td>-0.191521</td>\n",
       "      <td>-0.000859</td>\n",
       "    </tr>\n",
       "    <tr>\n",
       "      <th>6</th>\n",
       "      <td>0.352338</td>\n",
       "      <td>0.378504</td>\n",
       "      <td>2.045537</td>\n",
       "      <td>0.655324</td>\n",
       "      <td>-0.055846</td>\n",
       "    </tr>\n",
       "  </tbody>\n",
       "</table>\n",
       "</div>"
      ],
      "text/plain": [
       "      Dim.1     Dim.2     Dim.3     Dim.4     Dim.5\n",
       "1  0.440528  0.284897 -0.121332 -0.116405  0.143585\n",
       "2 -0.733351  0.049914 -0.023681 -0.146486 -0.355949\n",
       "3  0.441478 -0.222924  0.053872 -0.225714 -0.022648\n",
       "4 -0.973966 -0.032149 -0.068564  0.053242  0.335419\n",
       "5  0.444577 -0.187343  0.102264 -0.191521 -0.000859\n",
       "6  0.352338  0.378504  2.045537  0.655324 -0.055846"
      ]
     },
     "execution_count": 14,
     "metadata": {},
     "output_type": "execute_result"
    }
   ],
   "source": [
    "predict[\"coord\"].head(6)"
   ]
  },
  {
   "cell_type": "code",
   "execution_count": 15,
   "metadata": {},
   "outputs": [
    {
     "data": {
      "text/html": [
       "<div>\n",
       "<style scoped>\n",
       "    .dataframe tbody tr th:only-of-type {\n",
       "        vertical-align: middle;\n",
       "    }\n",
       "\n",
       "    .dataframe tbody tr th {\n",
       "        vertical-align: top;\n",
       "    }\n",
       "\n",
       "    .dataframe thead th {\n",
       "        text-align: right;\n",
       "    }\n",
       "</style>\n",
       "<table border=\"1\" class=\"dataframe\">\n",
       "  <thead>\n",
       "    <tr style=\"text-align: right;\">\n",
       "      <th></th>\n",
       "      <th>Dim.1</th>\n",
       "      <th>Dim.2</th>\n",
       "      <th>Dim.3</th>\n",
       "      <th>Dim.4</th>\n",
       "      <th>Dim.5</th>\n",
       "    </tr>\n",
       "  </thead>\n",
       "  <tbody>\n",
       "    <tr>\n",
       "      <th>1</th>\n",
       "      <td>0.309067</td>\n",
       "      <td>0.129265</td>\n",
       "      <td>0.023445</td>\n",
       "      <td>0.021580</td>\n",
       "      <td>0.032834</td>\n",
       "    </tr>\n",
       "    <tr>\n",
       "      <th>2</th>\n",
       "      <td>0.732019</td>\n",
       "      <td>0.003391</td>\n",
       "      <td>0.000763</td>\n",
       "      <td>0.029207</td>\n",
       "      <td>0.172455</td>\n",
       "    </tr>\n",
       "    <tr>\n",
       "      <th>3</th>\n",
       "      <td>0.483300</td>\n",
       "      <td>0.123229</td>\n",
       "      <td>0.007197</td>\n",
       "      <td>0.126333</td>\n",
       "      <td>0.001272</td>\n",
       "    </tr>\n",
       "    <tr>\n",
       "      <th>4</th>\n",
       "      <td>0.844279</td>\n",
       "      <td>0.000920</td>\n",
       "      <td>0.004184</td>\n",
       "      <td>0.002523</td>\n",
       "      <td>0.100132</td>\n",
       "    </tr>\n",
       "    <tr>\n",
       "      <th>5</th>\n",
       "      <td>0.486049</td>\n",
       "      <td>0.086310</td>\n",
       "      <td>0.025718</td>\n",
       "      <td>0.090202</td>\n",
       "      <td>0.000002</td>\n",
       "    </tr>\n",
       "    <tr>\n",
       "      <th>6</th>\n",
       "      <td>0.023699</td>\n",
       "      <td>0.027350</td>\n",
       "      <td>0.798776</td>\n",
       "      <td>0.081983</td>\n",
       "      <td>0.000595</td>\n",
       "    </tr>\n",
       "  </tbody>\n",
       "</table>\n",
       "</div>"
      ],
      "text/plain": [
       "      Dim.1     Dim.2     Dim.3     Dim.4     Dim.5\n",
       "1  0.309067  0.129265  0.023445  0.021580  0.032834\n",
       "2  0.732019  0.003391  0.000763  0.029207  0.172455\n",
       "3  0.483300  0.123229  0.007197  0.126333  0.001272\n",
       "4  0.844279  0.000920  0.004184  0.002523  0.100132\n",
       "5  0.486049  0.086310  0.025718  0.090202  0.000002\n",
       "6  0.023699  0.027350  0.798776  0.081983  0.000595"
      ]
     },
     "execution_count": 15,
     "metadata": {},
     "output_type": "execute_result"
    }
   ],
   "source": [
    "predict[\"cos2\"].head(6)"
   ]
  },
  {
   "cell_type": "markdown",
   "metadata": {},
   "source": [
    "### Supvar"
   ]
  },
  {
   "cell_type": "code",
   "execution_count": 16,
   "metadata": {},
   "outputs": [
    {
     "data": {
      "text/plain": [
       "dict_keys(['quanti', 'quali'])"
      ]
     },
     "execution_count": 16,
     "metadata": {},
     "output_type": "execute_result"
    }
   ],
   "source": [
    "from scientisttools import supvarSpecificMCA\n",
    "quantisup = poison.iloc[:,:2]\n",
    "qualisup = poison.iloc[:,[13,14]]\n",
    "supvar = supvarSpecificMCA(res_mca,X_quanti_sup=quantisup,X_quali_sup=qualisup)\n",
    "supvar.keys()"
   ]
  },
  {
   "cell_type": "markdown",
   "metadata": {},
   "source": [
    "### Supplementary quantitatives"
   ]
  },
  {
   "cell_type": "code",
   "execution_count": 17,
   "metadata": {},
   "outputs": [
    {
     "data": {
      "text/plain": [
       "dict_keys(['coord', 'cos2'])"
      ]
     },
     "execution_count": 17,
     "metadata": {},
     "output_type": "execute_result"
    }
   ],
   "source": [
    "supvar[\"quanti\"].keys()"
   ]
  },
  {
   "cell_type": "code",
   "execution_count": 18,
   "metadata": {},
   "outputs": [
    {
     "data": {
      "text/html": [
       "<div>\n",
       "<style scoped>\n",
       "    .dataframe tbody tr th:only-of-type {\n",
       "        vertical-align: middle;\n",
       "    }\n",
       "\n",
       "    .dataframe tbody tr th {\n",
       "        vertical-align: top;\n",
       "    }\n",
       "\n",
       "    .dataframe thead th {\n",
       "        text-align: right;\n",
       "    }\n",
       "</style>\n",
       "<table border=\"1\" class=\"dataframe\">\n",
       "  <thead>\n",
       "    <tr style=\"text-align: right;\">\n",
       "      <th></th>\n",
       "      <th>Dim.1</th>\n",
       "      <th>Dim.2</th>\n",
       "      <th>Dim.3</th>\n",
       "      <th>Dim.4</th>\n",
       "      <th>Dim.5</th>\n",
       "    </tr>\n",
       "  </thead>\n",
       "  <tbody>\n",
       "    <tr>\n",
       "      <th>Age</th>\n",
       "      <td>-0.002857</td>\n",
       "      <td>-0.037462</td>\n",
       "      <td>0.306205</td>\n",
       "      <td>0.129299</td>\n",
       "      <td>-0.027888</td>\n",
       "    </tr>\n",
       "    <tr>\n",
       "      <th>Time</th>\n",
       "      <td>0.840685</td>\n",
       "      <td>0.036761</td>\n",
       "      <td>0.017441</td>\n",
       "      <td>-0.104713</td>\n",
       "      <td>0.029749</td>\n",
       "    </tr>\n",
       "  </tbody>\n",
       "</table>\n",
       "</div>"
      ],
      "text/plain": [
       "         Dim.1     Dim.2     Dim.3     Dim.4     Dim.5\n",
       "Age  -0.002857 -0.037462  0.306205  0.129299 -0.027888\n",
       "Time  0.840685  0.036761  0.017441 -0.104713  0.029749"
      ]
     },
     "execution_count": 18,
     "metadata": {},
     "output_type": "execute_result"
    }
   ],
   "source": [
    "# Coordinates\n",
    "supvar[\"quanti\"][\"coord\"]"
   ]
  },
  {
   "cell_type": "code",
   "execution_count": 19,
   "metadata": {},
   "outputs": [
    {
     "data": {
      "text/html": [
       "<div>\n",
       "<style scoped>\n",
       "    .dataframe tbody tr th:only-of-type {\n",
       "        vertical-align: middle;\n",
       "    }\n",
       "\n",
       "    .dataframe tbody tr th {\n",
       "        vertical-align: top;\n",
       "    }\n",
       "\n",
       "    .dataframe thead th {\n",
       "        text-align: right;\n",
       "    }\n",
       "</style>\n",
       "<table border=\"1\" class=\"dataframe\">\n",
       "  <thead>\n",
       "    <tr style=\"text-align: right;\">\n",
       "      <th></th>\n",
       "      <th>Dim.1</th>\n",
       "      <th>Dim.2</th>\n",
       "      <th>Dim.3</th>\n",
       "      <th>Dim.4</th>\n",
       "      <th>Dim.5</th>\n",
       "    </tr>\n",
       "  </thead>\n",
       "  <tbody>\n",
       "    <tr>\n",
       "      <th>Age</th>\n",
       "      <td>0.000008</td>\n",
       "      <td>0.001403</td>\n",
       "      <td>0.093761</td>\n",
       "      <td>0.016718</td>\n",
       "      <td>0.000778</td>\n",
       "    </tr>\n",
       "    <tr>\n",
       "      <th>Time</th>\n",
       "      <td>0.706752</td>\n",
       "      <td>0.001351</td>\n",
       "      <td>0.000304</td>\n",
       "      <td>0.010965</td>\n",
       "      <td>0.000885</td>\n",
       "    </tr>\n",
       "  </tbody>\n",
       "</table>\n",
       "</div>"
      ],
      "text/plain": [
       "         Dim.1     Dim.2     Dim.3     Dim.4     Dim.5\n",
       "Age   0.000008  0.001403  0.093761  0.016718  0.000778\n",
       "Time  0.706752  0.001351  0.000304  0.010965  0.000885"
      ]
     },
     "execution_count": 19,
     "metadata": {},
     "output_type": "execute_result"
    }
   ],
   "source": [
    "# Cos2\n",
    "supvar[\"quanti\"][\"cos2\"]"
   ]
  },
  {
   "cell_type": "markdown",
   "metadata": {},
   "source": [
    "### Supplementary qualitatives variables"
   ]
  },
  {
   "cell_type": "code",
   "execution_count": 20,
   "metadata": {},
   "outputs": [
    {
     "data": {
      "text/plain": [
       "dict_keys(['coord', 'cos2', 'dist', 'vtest', 'eta2'])"
      ]
     },
     "execution_count": 20,
     "metadata": {},
     "output_type": "execute_result"
    }
   ],
   "source": [
    "# Coordinates\n",
    "supvar[\"quali\"].keys()"
   ]
  },
  {
   "cell_type": "code",
   "execution_count": 21,
   "metadata": {},
   "outputs": [
    {
     "data": {
      "text/html": [
       "<div>\n",
       "<style scoped>\n",
       "    .dataframe tbody tr th:only-of-type {\n",
       "        vertical-align: middle;\n",
       "    }\n",
       "\n",
       "    .dataframe tbody tr th {\n",
       "        vertical-align: top;\n",
       "    }\n",
       "\n",
       "    .dataframe thead th {\n",
       "        text-align: right;\n",
       "    }\n",
       "</style>\n",
       "<table border=\"1\" class=\"dataframe\">\n",
       "  <thead>\n",
       "    <tr style=\"text-align: right;\">\n",
       "      <th></th>\n",
       "      <th>Dim.1</th>\n",
       "      <th>Dim.2</th>\n",
       "      <th>Dim.3</th>\n",
       "      <th>Dim.4</th>\n",
       "      <th>Dim.5</th>\n",
       "    </tr>\n",
       "  </thead>\n",
       "  <tbody>\n",
       "    <tr>\n",
       "      <th>Cheese_n</th>\n",
       "      <td>-0.875692</td>\n",
       "      <td>-0.229080</td>\n",
       "      <td>-0.056300</td>\n",
       "      <td>0.215892</td>\n",
       "      <td>0.062425</td>\n",
       "    </tr>\n",
       "    <tr>\n",
       "      <th>Cheese_y</th>\n",
       "      <td>0.127705</td>\n",
       "      <td>0.033408</td>\n",
       "      <td>0.008210</td>\n",
       "      <td>-0.031484</td>\n",
       "      <td>-0.009104</td>\n",
       "    </tr>\n",
       "    <tr>\n",
       "      <th>Icecream_n</th>\n",
       "      <td>-0.417971</td>\n",
       "      <td>-0.340865</td>\n",
       "      <td>-0.297100</td>\n",
       "      <td>0.537827</td>\n",
       "      <td>0.579215</td>\n",
       "    </tr>\n",
       "    <tr>\n",
       "      <th>Icecream_y</th>\n",
       "      <td>0.032782</td>\n",
       "      <td>0.026734</td>\n",
       "      <td>0.023302</td>\n",
       "      <td>-0.042182</td>\n",
       "      <td>-0.045429</td>\n",
       "    </tr>\n",
       "  </tbody>\n",
       "</table>\n",
       "</div>"
      ],
      "text/plain": [
       "               Dim.1     Dim.2     Dim.3     Dim.4     Dim.5\n",
       "Cheese_n   -0.875692 -0.229080 -0.056300  0.215892  0.062425\n",
       "Cheese_y    0.127705  0.033408  0.008210 -0.031484 -0.009104\n",
       "Icecream_n -0.417971 -0.340865 -0.297100  0.537827  0.579215\n",
       "Icecream_y  0.032782  0.026734  0.023302 -0.042182 -0.045429"
      ]
     },
     "execution_count": 21,
     "metadata": {},
     "output_type": "execute_result"
    }
   ],
   "source": [
    "# Coordinates\n",
    "supvar[\"quali\"][\"coord\"]"
   ]
  },
  {
   "cell_type": "code",
   "execution_count": 22,
   "metadata": {},
   "outputs": [
    {
     "data": {
      "text/html": [
       "<div>\n",
       "<style scoped>\n",
       "    .dataframe tbody tr th:only-of-type {\n",
       "        vertical-align: middle;\n",
       "    }\n",
       "\n",
       "    .dataframe tbody tr th {\n",
       "        vertical-align: top;\n",
       "    }\n",
       "\n",
       "    .dataframe thead th {\n",
       "        text-align: right;\n",
       "    }\n",
       "</style>\n",
       "<table border=\"1\" class=\"dataframe\">\n",
       "  <thead>\n",
       "    <tr style=\"text-align: right;\">\n",
       "      <th></th>\n",
       "      <th>Dim.1</th>\n",
       "      <th>Dim.2</th>\n",
       "      <th>Dim.3</th>\n",
       "      <th>Dim.4</th>\n",
       "      <th>Dim.5</th>\n",
       "    </tr>\n",
       "  </thead>\n",
       "  <tbody>\n",
       "    <tr>\n",
       "      <th>Cheese_n</th>\n",
       "      <td>0.111830</td>\n",
       "      <td>0.007653</td>\n",
       "      <td>0.000462</td>\n",
       "      <td>0.006797</td>\n",
       "      <td>0.000568</td>\n",
       "    </tr>\n",
       "    <tr>\n",
       "      <th>Cheese_y</th>\n",
       "      <td>0.111830</td>\n",
       "      <td>0.007653</td>\n",
       "      <td>0.000462</td>\n",
       "      <td>0.006797</td>\n",
       "      <td>0.000568</td>\n",
       "    </tr>\n",
       "    <tr>\n",
       "      <th>Icecream_n</th>\n",
       "      <td>0.013702</td>\n",
       "      <td>0.009113</td>\n",
       "      <td>0.006923</td>\n",
       "      <td>0.022687</td>\n",
       "      <td>0.026313</td>\n",
       "    </tr>\n",
       "    <tr>\n",
       "      <th>Icecream_y</th>\n",
       "      <td>0.013702</td>\n",
       "      <td>0.009113</td>\n",
       "      <td>0.006923</td>\n",
       "      <td>0.022687</td>\n",
       "      <td>0.026313</td>\n",
       "    </tr>\n",
       "  </tbody>\n",
       "</table>\n",
       "</div>"
      ],
      "text/plain": [
       "               Dim.1     Dim.2     Dim.3     Dim.4     Dim.5\n",
       "Cheese_n    0.111830  0.007653  0.000462  0.006797  0.000568\n",
       "Cheese_y    0.111830  0.007653  0.000462  0.006797  0.000568\n",
       "Icecream_n  0.013702  0.009113  0.006923  0.022687  0.026313\n",
       "Icecream_y  0.013702  0.009113  0.006923  0.022687  0.026313"
      ]
     },
     "execution_count": 22,
     "metadata": {},
     "output_type": "execute_result"
    }
   ],
   "source": [
    "# Square cosinus\n",
    "supvar[\"quali\"][\"cos2\"]"
   ]
  },
  {
   "cell_type": "code",
   "execution_count": 23,
   "metadata": {},
   "outputs": [
    {
     "data": {
      "text/plain": [
       "Cheese_n       6.857143\n",
       "Cheese_y       0.145833\n",
       "Icecream_n    12.750000\n",
       "Icecream_y     0.078431\n",
       "Name: Sq. Dist., dtype: float64"
      ]
     },
     "execution_count": 23,
     "metadata": {},
     "output_type": "execute_result"
    }
   ],
   "source": [
    "# square distance\n",
    "supvar[\"quali\"][\"dist\"]"
   ]
  },
  {
   "cell_type": "code",
   "execution_count": 24,
   "metadata": {},
   "outputs": [
    {
     "data": {
      "text/html": [
       "<div>\n",
       "<style scoped>\n",
       "    .dataframe tbody tr th:only-of-type {\n",
       "        vertical-align: middle;\n",
       "    }\n",
       "\n",
       "    .dataframe tbody tr th {\n",
       "        vertical-align: top;\n",
       "    }\n",
       "\n",
       "    .dataframe thead th {\n",
       "        text-align: right;\n",
       "    }\n",
       "</style>\n",
       "<table border=\"1\" class=\"dataframe\">\n",
       "  <thead>\n",
       "    <tr style=\"text-align: right;\">\n",
       "      <th></th>\n",
       "      <th>Dim.1</th>\n",
       "      <th>Dim.2</th>\n",
       "      <th>Dim.3</th>\n",
       "      <th>Dim.4</th>\n",
       "      <th>Dim.5</th>\n",
       "    </tr>\n",
       "  </thead>\n",
       "  <tbody>\n",
       "    <tr>\n",
       "      <th>Cheese_n</th>\n",
       "      <td>-2.457405</td>\n",
       "      <td>-0.642854</td>\n",
       "      <td>-0.157991</td>\n",
       "      <td>0.605846</td>\n",
       "      <td>0.175180</td>\n",
       "    </tr>\n",
       "    <tr>\n",
       "      <th>Cheese_y</th>\n",
       "      <td>2.457405</td>\n",
       "      <td>0.642854</td>\n",
       "      <td>0.157991</td>\n",
       "      <td>-0.605846</td>\n",
       "      <td>-0.175180</td>\n",
       "    </tr>\n",
       "    <tr>\n",
       "      <th>Icecream_n</th>\n",
       "      <td>-0.860177</td>\n",
       "      <td>-0.701494</td>\n",
       "      <td>-0.611426</td>\n",
       "      <td>1.106838</td>\n",
       "      <td>1.192015</td>\n",
       "    </tr>\n",
       "    <tr>\n",
       "      <th>Icecream_y</th>\n",
       "      <td>0.860177</td>\n",
       "      <td>0.701494</td>\n",
       "      <td>0.611426</td>\n",
       "      <td>-1.106838</td>\n",
       "      <td>-1.192015</td>\n",
       "    </tr>\n",
       "  </tbody>\n",
       "</table>\n",
       "</div>"
      ],
      "text/plain": [
       "               Dim.1     Dim.2     Dim.3     Dim.4     Dim.5\n",
       "Cheese_n   -2.457405 -0.642854 -0.157991  0.605846  0.175180\n",
       "Cheese_y    2.457405  0.642854  0.157991 -0.605846 -0.175180\n",
       "Icecream_n -0.860177 -0.701494 -0.611426  1.106838  1.192015\n",
       "Icecream_y  0.860177  0.701494  0.611426 -1.106838 -1.192015"
      ]
     },
     "execution_count": 24,
     "metadata": {},
     "output_type": "execute_result"
    }
   ],
   "source": [
    "# vtest\n",
    "supvar[\"quali\"][\"vtest\"]"
   ]
  },
  {
   "cell_type": "code",
   "execution_count": 25,
   "metadata": {},
   "outputs": [
    {
     "data": {
      "text/html": [
       "<div>\n",
       "<style scoped>\n",
       "    .dataframe tbody tr th:only-of-type {\n",
       "        vertical-align: middle;\n",
       "    }\n",
       "\n",
       "    .dataframe tbody tr th {\n",
       "        vertical-align: top;\n",
       "    }\n",
       "\n",
       "    .dataframe thead th {\n",
       "        text-align: right;\n",
       "    }\n",
       "</style>\n",
       "<table border=\"1\" class=\"dataframe\">\n",
       "  <thead>\n",
       "    <tr style=\"text-align: right;\">\n",
       "      <th></th>\n",
       "      <th>Dim.1</th>\n",
       "      <th>Dim.2</th>\n",
       "      <th>Dim.3</th>\n",
       "      <th>Dim.4</th>\n",
       "      <th>Dim.5</th>\n",
       "    </tr>\n",
       "  </thead>\n",
       "  <tbody>\n",
       "    <tr>\n",
       "      <th>Cheese</th>\n",
       "      <td>0.111830</td>\n",
       "      <td>0.007653</td>\n",
       "      <td>0.000462</td>\n",
       "      <td>0.006797</td>\n",
       "      <td>0.000568</td>\n",
       "    </tr>\n",
       "    <tr>\n",
       "      <th>Icecream</th>\n",
       "      <td>0.013702</td>\n",
       "      <td>0.009113</td>\n",
       "      <td>0.006923</td>\n",
       "      <td>0.022687</td>\n",
       "      <td>0.026313</td>\n",
       "    </tr>\n",
       "  </tbody>\n",
       "</table>\n",
       "</div>"
      ],
      "text/plain": [
       "             Dim.1     Dim.2     Dim.3     Dim.4     Dim.5\n",
       "Cheese    0.111830  0.007653  0.000462  0.006797  0.000568\n",
       "Icecream  0.013702  0.009113  0.006923  0.022687  0.026313"
      ]
     },
     "execution_count": 25,
     "metadata": {},
     "output_type": "execute_result"
    }
   ],
   "source": [
    "# eta2\n",
    "supvar[\"quali\"][\"eta2\"]"
   ]
  }
 ],
 "metadata": {
  "kernelspec": {
   "display_name": "Python 3",
   "language": "python",
   "name": "python3"
  },
  "language_info": {
   "codemirror_mode": {
    "name": "ipython",
    "version": 3
   },
   "file_extension": ".py",
   "mimetype": "text/x-python",
   "name": "python",
   "nbconvert_exporter": "python",
   "pygments_lexer": "ipython3",
   "version": "3.10.5"
  }
 },
 "nbformat": 4,
 "nbformat_minor": 2
}
