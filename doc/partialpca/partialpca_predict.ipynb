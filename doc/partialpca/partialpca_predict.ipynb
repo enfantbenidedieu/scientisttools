{
 "cells": [
  {
   "cell_type": "markdown",
   "metadata": {},
   "source": [
    "# Partial PCA - predict functions"
   ]
  },
  {
   "cell_type": "code",
   "execution_count": 1,
   "metadata": {},
   "outputs": [],
   "source": [
    "import warnings\n",
    "warnings.simplefilter(action='ignore', category=FutureWarning)\n",
    "warnings.filterwarnings(\"ignore\")"
   ]
  },
  {
   "cell_type": "code",
   "execution_count": 2,
   "metadata": {},
   "outputs": [],
   "source": [
    "# Load cars2006 datasets\n",
    "from scientisttools import load_cars2006\n",
    "D = load_cars2006(which=\"actif\")"
   ]
  },
  {
   "cell_type": "code",
   "execution_count": 3,
   "metadata": {},
   "outputs": [
    {
     "data": {
      "text/html": [
       "<style>#sk-container-id-1 {color: black;background-color: white;}#sk-container-id-1 pre{padding: 0;}#sk-container-id-1 div.sk-toggleable {background-color: white;}#sk-container-id-1 label.sk-toggleable__label {cursor: pointer;display: block;width: 100%;margin-bottom: 0;padding: 0.3em;box-sizing: border-box;text-align: center;}#sk-container-id-1 label.sk-toggleable__label-arrow:before {content: \"▸\";float: left;margin-right: 0.25em;color: #696969;}#sk-container-id-1 label.sk-toggleable__label-arrow:hover:before {color: black;}#sk-container-id-1 div.sk-estimator:hover label.sk-toggleable__label-arrow:before {color: black;}#sk-container-id-1 div.sk-toggleable__content {max-height: 0;max-width: 0;overflow: hidden;text-align: left;background-color: #f0f8ff;}#sk-container-id-1 div.sk-toggleable__content pre {margin: 0.2em;color: black;border-radius: 0.25em;background-color: #f0f8ff;}#sk-container-id-1 input.sk-toggleable__control:checked~div.sk-toggleable__content {max-height: 200px;max-width: 100%;overflow: auto;}#sk-container-id-1 input.sk-toggleable__control:checked~label.sk-toggleable__label-arrow:before {content: \"▾\";}#sk-container-id-1 div.sk-estimator input.sk-toggleable__control:checked~label.sk-toggleable__label {background-color: #d4ebff;}#sk-container-id-1 div.sk-label input.sk-toggleable__control:checked~label.sk-toggleable__label {background-color: #d4ebff;}#sk-container-id-1 input.sk-hidden--visually {border: 0;clip: rect(1px 1px 1px 1px);clip: rect(1px, 1px, 1px, 1px);height: 1px;margin: -1px;overflow: hidden;padding: 0;position: absolute;width: 1px;}#sk-container-id-1 div.sk-estimator {font-family: monospace;background-color: #f0f8ff;border: 1px dotted black;border-radius: 0.25em;box-sizing: border-box;margin-bottom: 0.5em;}#sk-container-id-1 div.sk-estimator:hover {background-color: #d4ebff;}#sk-container-id-1 div.sk-parallel-item::after {content: \"\";width: 100%;border-bottom: 1px solid gray;flex-grow: 1;}#sk-container-id-1 div.sk-label:hover label.sk-toggleable__label {background-color: #d4ebff;}#sk-container-id-1 div.sk-serial::before {content: \"\";position: absolute;border-left: 1px solid gray;box-sizing: border-box;top: 0;bottom: 0;left: 50%;z-index: 0;}#sk-container-id-1 div.sk-serial {display: flex;flex-direction: column;align-items: center;background-color: white;padding-right: 0.2em;padding-left: 0.2em;position: relative;}#sk-container-id-1 div.sk-item {position: relative;z-index: 1;}#sk-container-id-1 div.sk-parallel {display: flex;align-items: stretch;justify-content: center;background-color: white;position: relative;}#sk-container-id-1 div.sk-item::before, #sk-container-id-1 div.sk-parallel-item::before {content: \"\";position: absolute;border-left: 1px solid gray;box-sizing: border-box;top: 0;bottom: 0;left: 50%;z-index: -1;}#sk-container-id-1 div.sk-parallel-item {display: flex;flex-direction: column;z-index: 1;position: relative;background-color: white;}#sk-container-id-1 div.sk-parallel-item:first-child::after {align-self: flex-end;width: 50%;}#sk-container-id-1 div.sk-parallel-item:last-child::after {align-self: flex-start;width: 50%;}#sk-container-id-1 div.sk-parallel-item:only-child::after {width: 0;}#sk-container-id-1 div.sk-dashed-wrapped {border: 1px dashed gray;margin: 0 0.4em 0.5em 0.4em;box-sizing: border-box;padding-bottom: 0.4em;background-color: white;}#sk-container-id-1 div.sk-label label {font-family: monospace;font-weight: bold;display: inline-block;line-height: 1.2em;}#sk-container-id-1 div.sk-label-container {text-align: center;}#sk-container-id-1 div.sk-container {/* jupyter's `normalize.less` sets `[hidden] { display: none; }` but bootstrap.min.css set `[hidden] { display: none !important; }` so we also need the `!important` here to be able to override the default hidden behavior on the sphinx rendered scikit-learn.org. See: https://github.com/scikit-learn/scikit-learn/issues/21755 */display: inline-block !important;position: relative;}#sk-container-id-1 div.sk-text-repr-fallback {display: none;}</style><div id=\"sk-container-id-1\" class=\"sk-top-container\"><div class=\"sk-text-repr-fallback\"><pre>PartialPCA(n_components=None, partial=[&#x27;CYL&#x27;])</pre><b>In a Jupyter environment, please rerun this cell to show the HTML representation or trust the notebook. <br />On GitHub, the HTML representation is unable to render, please try loading this page with nbviewer.org.</b></div><div class=\"sk-container\" hidden><div class=\"sk-item\"><div class=\"sk-estimator sk-toggleable\"><input class=\"sk-toggleable__control sk-hidden--visually\" id=\"sk-estimator-id-1\" type=\"checkbox\" checked><label for=\"sk-estimator-id-1\" class=\"sk-toggleable__label sk-toggleable__label-arrow\">PartialPCA</label><div class=\"sk-toggleable__content\"><pre>PartialPCA(n_components=None, partial=[&#x27;CYL&#x27;])</pre></div></div></div></div></div>"
      ],
      "text/plain": [
       "PartialPCA(n_components=None, partial=['CYL'])"
      ]
     },
     "execution_count": 3,
     "metadata": {},
     "output_type": "execute_result"
    }
   ],
   "source": [
    "from scientisttools import PartialPCA\n",
    "res_partialpca = PartialPCA(n_components=None,standardize=True,partial=[\"CYL\"],parallelize=False)\n",
    "res_partialpca.fit(D)"
   ]
  },
  {
   "cell_type": "markdown",
   "metadata": {},
   "source": [
    "## Predict"
   ]
  },
  {
   "cell_type": "code",
   "execution_count": 4,
   "metadata": {},
   "outputs": [
    {
     "data": {
      "text/html": [
       "<div>\n",
       "<style scoped>\n",
       "    .dataframe tbody tr th:only-of-type {\n",
       "        vertical-align: middle;\n",
       "    }\n",
       "\n",
       "    .dataframe tbody tr th {\n",
       "        vertical-align: top;\n",
       "    }\n",
       "\n",
       "    .dataframe thead th {\n",
       "        text-align: right;\n",
       "    }\n",
       "</style>\n",
       "<table border=\"1\" class=\"dataframe\">\n",
       "  <thead>\n",
       "    <tr style=\"text-align: right;\">\n",
       "      <th></th>\n",
       "      <th>CYL</th>\n",
       "      <th>PUISS</th>\n",
       "      <th>LONG</th>\n",
       "      <th>LARG</th>\n",
       "      <th>POIDS</th>\n",
       "      <th>VMAX</th>\n",
       "    </tr>\n",
       "    <tr>\n",
       "      <th>Modele</th>\n",
       "      <th></th>\n",
       "      <th></th>\n",
       "      <th></th>\n",
       "      <th></th>\n",
       "      <th></th>\n",
       "      <th></th>\n",
       "    </tr>\n",
       "  </thead>\n",
       "  <tbody>\n",
       "    <tr>\n",
       "      <th>Peugeot 604</th>\n",
       "      <td>2664</td>\n",
       "      <td>136</td>\n",
       "      <td>472</td>\n",
       "      <td>177</td>\n",
       "      <td>1410</td>\n",
       "      <td>180</td>\n",
       "    </tr>\n",
       "    <tr>\n",
       "      <th>Peugeot 304 S</th>\n",
       "      <td>1288</td>\n",
       "      <td>74</td>\n",
       "      <td>414</td>\n",
       "      <td>157</td>\n",
       "      <td>915</td>\n",
       "      <td>160</td>\n",
       "    </tr>\n",
       "  </tbody>\n",
       "</table>\n",
       "</div>"
      ],
      "text/plain": [
       "                CYL  PUISS  LONG  LARG  POIDS  VMAX\n",
       "Modele                                             \n",
       "Peugeot 604    2664    136   472   177   1410   180\n",
       "Peugeot 304 S  1288     74   414   157    915   160"
      ]
     },
     "execution_count": 4,
     "metadata": {},
     "output_type": "execute_result"
    }
   ],
   "source": [
    "from scientisttools import predictPartialPCA\n",
    "indsup = load_cars2006(which=\"indsup\")\n",
    "indsup"
   ]
  },
  {
   "cell_type": "code",
   "execution_count": 5,
   "metadata": {},
   "outputs": [
    {
     "data": {
      "text/plain": [
       "dict_keys(['coord', 'cos2', 'dist'])"
      ]
     },
     "execution_count": 5,
     "metadata": {},
     "output_type": "execute_result"
    }
   ],
   "source": [
    "ind_sup = predictPartialPCA(res_partialpca,X=indsup)\n",
    "ind_sup.keys()"
   ]
  },
  {
   "cell_type": "code",
   "execution_count": 6,
   "metadata": {},
   "outputs": [
    {
     "data": {
      "text/html": [
       "<div>\n",
       "<style scoped>\n",
       "    .dataframe tbody tr th:only-of-type {\n",
       "        vertical-align: middle;\n",
       "    }\n",
       "\n",
       "    .dataframe tbody tr th {\n",
       "        vertical-align: top;\n",
       "    }\n",
       "\n",
       "    .dataframe thead th {\n",
       "        text-align: right;\n",
       "    }\n",
       "</style>\n",
       "<table border=\"1\" class=\"dataframe\">\n",
       "  <thead>\n",
       "    <tr style=\"text-align: right;\">\n",
       "      <th></th>\n",
       "      <th>Dim.1</th>\n",
       "      <th>Dim.2</th>\n",
       "      <th>Dim.3</th>\n",
       "      <th>Dim.4</th>\n",
       "      <th>Dim.5</th>\n",
       "    </tr>\n",
       "  </thead>\n",
       "  <tbody>\n",
       "    <tr>\n",
       "      <th>Peugeot 604</th>\n",
       "      <td>0.349636</td>\n",
       "      <td>0.243270</td>\n",
       "      <td>-0.30278</td>\n",
       "      <td>0.575133</td>\n",
       "      <td>-0.131155</td>\n",
       "    </tr>\n",
       "    <tr>\n",
       "      <th>Peugeot 304 S</th>\n",
       "      <td>-1.169584</td>\n",
       "      <td>1.492756</td>\n",
       "      <td>-0.28945</td>\n",
       "      <td>-0.954562</td>\n",
       "      <td>0.232860</td>\n",
       "    </tr>\n",
       "  </tbody>\n",
       "</table>\n",
       "</div>"
      ],
      "text/plain": [
       "                  Dim.1     Dim.2    Dim.3     Dim.4     Dim.5\n",
       "Peugeot 604    0.349636  0.243270 -0.30278  0.575133 -0.131155\n",
       "Peugeot 304 S -1.169584  1.492756 -0.28945 -0.954562  0.232860"
      ]
     },
     "execution_count": 6,
     "metadata": {},
     "output_type": "execute_result"
    }
   ],
   "source": [
    "# Coordinates\n",
    "ind_sup[\"coord\"]"
   ]
  },
  {
   "cell_type": "code",
   "execution_count": 7,
   "metadata": {},
   "outputs": [
    {
     "data": {
      "text/html": [
       "<div>\n",
       "<style scoped>\n",
       "    .dataframe tbody tr th:only-of-type {\n",
       "        vertical-align: middle;\n",
       "    }\n",
       "\n",
       "    .dataframe tbody tr th {\n",
       "        vertical-align: top;\n",
       "    }\n",
       "\n",
       "    .dataframe thead th {\n",
       "        text-align: right;\n",
       "    }\n",
       "</style>\n",
       "<table border=\"1\" class=\"dataframe\">\n",
       "  <thead>\n",
       "    <tr style=\"text-align: right;\">\n",
       "      <th></th>\n",
       "      <th>Dim.1</th>\n",
       "      <th>Dim.2</th>\n",
       "      <th>Dim.3</th>\n",
       "      <th>Dim.4</th>\n",
       "      <th>Dim.5</th>\n",
       "    </tr>\n",
       "  </thead>\n",
       "  <tbody>\n",
       "    <tr>\n",
       "      <th>Peugeot 604</th>\n",
       "      <td>0.196827</td>\n",
       "      <td>0.095286</td>\n",
       "      <td>0.147607</td>\n",
       "      <td>0.532584</td>\n",
       "      <td>0.027696</td>\n",
       "    </tr>\n",
       "    <tr>\n",
       "      <th>Peugeot 304 S</th>\n",
       "      <td>0.294466</td>\n",
       "      <td>0.479679</td>\n",
       "      <td>0.018035</td>\n",
       "      <td>0.196147</td>\n",
       "      <td>0.011673</td>\n",
       "    </tr>\n",
       "  </tbody>\n",
       "</table>\n",
       "</div>"
      ],
      "text/plain": [
       "                  Dim.1     Dim.2     Dim.3     Dim.4     Dim.5\n",
       "Peugeot 604    0.196827  0.095286  0.147607  0.532584  0.027696\n",
       "Peugeot 304 S  0.294466  0.479679  0.018035  0.196147  0.011673"
      ]
     },
     "execution_count": 7,
     "metadata": {},
     "output_type": "execute_result"
    }
   ],
   "source": [
    "# Square cosinus (cos2)\n",
    "ind_sup[\"cos2\"]"
   ]
  },
  {
   "cell_type": "code",
   "execution_count": 8,
   "metadata": {},
   "outputs": [
    {
     "data": {
      "text/plain": [
       "Peugeot 604      0.621082\n",
       "Peugeot 304 S    4.645441\n",
       "Name: Sq. Dist., dtype: float64"
      ]
     },
     "execution_count": 8,
     "metadata": {},
     "output_type": "execute_result"
    }
   ],
   "source": [
    "# Square distance\n",
    "ind_sup[\"dist\"]"
   ]
  },
  {
   "cell_type": "markdown",
   "metadata": {},
   "source": [
    "## supvar"
   ]
  },
  {
   "cell_type": "code",
   "execution_count": 9,
   "metadata": {},
   "outputs": [
    {
     "data": {
      "text/plain": [
       "dict_keys(['quanti', 'quali'])"
      ]
     },
     "execution_count": 9,
     "metadata": {},
     "output_type": "execute_result"
    }
   ],
   "source": [
    "from scientisttools import supvarPartialPCA\n",
    "quantisup = load_cars2006(which=\"varquantsup\")\n",
    "qualisup = load_cars2006(which=\"varqualsup\")\n",
    "var_sup = supvarPartialPCA(res_partialpca,X_quanti_sup=quantisup,X_quali_sup=qualisup)\n",
    "var_sup.keys()"
   ]
  },
  {
   "cell_type": "markdown",
   "metadata": {},
   "source": [
    "### Supplementary quantitatives"
   ]
  },
  {
   "cell_type": "code",
   "execution_count": 10,
   "metadata": {},
   "outputs": [
    {
     "data": {
      "text/html": [
       "<div>\n",
       "<style scoped>\n",
       "    .dataframe tbody tr th:only-of-type {\n",
       "        vertical-align: middle;\n",
       "    }\n",
       "\n",
       "    .dataframe tbody tr th {\n",
       "        vertical-align: top;\n",
       "    }\n",
       "\n",
       "    .dataframe thead th {\n",
       "        text-align: right;\n",
       "    }\n",
       "</style>\n",
       "<table border=\"1\" class=\"dataframe\">\n",
       "  <thead>\n",
       "    <tr style=\"text-align: right;\">\n",
       "      <th></th>\n",
       "      <th>Dim.1</th>\n",
       "      <th>Dim.2</th>\n",
       "      <th>Dim.3</th>\n",
       "      <th>Dim.4</th>\n",
       "      <th>Dim.5</th>\n",
       "    </tr>\n",
       "  </thead>\n",
       "  <tbody>\n",
       "    <tr>\n",
       "      <th>PRIX</th>\n",
       "      <td>0.548403</td>\n",
       "      <td>0.299630</td>\n",
       "      <td>-0.280296</td>\n",
       "      <td>0.146074</td>\n",
       "      <td>-0.135533</td>\n",
       "    </tr>\n",
       "    <tr>\n",
       "      <th>RPOIDPUIS</th>\n",
       "      <td>-0.169961</td>\n",
       "      <td>-0.909932</td>\n",
       "      <td>-0.021393</td>\n",
       "      <td>-0.060493</td>\n",
       "      <td>0.298141</td>\n",
       "    </tr>\n",
       "  </tbody>\n",
       "</table>\n",
       "</div>"
      ],
      "text/plain": [
       "              Dim.1     Dim.2     Dim.3     Dim.4     Dim.5\n",
       "PRIX       0.548403  0.299630 -0.280296  0.146074 -0.135533\n",
       "RPOIDPUIS -0.169961 -0.909932 -0.021393 -0.060493  0.298141"
      ]
     },
     "execution_count": 10,
     "metadata": {},
     "output_type": "execute_result"
    }
   ],
   "source": [
    "# Coordinates\n",
    "var_sup[\"quanti\"][\"coord\"]"
   ]
  },
  {
   "cell_type": "code",
   "execution_count": 11,
   "metadata": {},
   "outputs": [
    {
     "data": {
      "text/html": [
       "<div>\n",
       "<style scoped>\n",
       "    .dataframe tbody tr th:only-of-type {\n",
       "        vertical-align: middle;\n",
       "    }\n",
       "\n",
       "    .dataframe tbody tr th {\n",
       "        vertical-align: top;\n",
       "    }\n",
       "\n",
       "    .dataframe thead th {\n",
       "        text-align: right;\n",
       "    }\n",
       "</style>\n",
       "<table border=\"1\" class=\"dataframe\">\n",
       "  <thead>\n",
       "    <tr style=\"text-align: right;\">\n",
       "      <th></th>\n",
       "      <th>Dim.1</th>\n",
       "      <th>Dim.2</th>\n",
       "      <th>Dim.3</th>\n",
       "      <th>Dim.4</th>\n",
       "      <th>Dim.5</th>\n",
       "    </tr>\n",
       "  </thead>\n",
       "  <tbody>\n",
       "    <tr>\n",
       "      <th>PRIX</th>\n",
       "      <td>0.300746</td>\n",
       "      <td>0.089778</td>\n",
       "      <td>0.078566</td>\n",
       "      <td>0.021338</td>\n",
       "      <td>0.018369</td>\n",
       "    </tr>\n",
       "    <tr>\n",
       "      <th>RPOIDPUIS</th>\n",
       "      <td>0.028887</td>\n",
       "      <td>0.827976</td>\n",
       "      <td>0.000458</td>\n",
       "      <td>0.003659</td>\n",
       "      <td>0.088888</td>\n",
       "    </tr>\n",
       "  </tbody>\n",
       "</table>\n",
       "</div>"
      ],
      "text/plain": [
       "              Dim.1     Dim.2     Dim.3     Dim.4     Dim.5\n",
       "PRIX       0.300746  0.089778  0.078566  0.021338  0.018369\n",
       "RPOIDPUIS  0.028887  0.827976  0.000458  0.003659  0.088888"
      ]
     },
     "execution_count": 11,
     "metadata": {},
     "output_type": "execute_result"
    }
   ],
   "source": [
    "# Square cosinus (cos2)\n",
    "var_sup[\"quanti\"][\"cos2\"]"
   ]
  },
  {
   "cell_type": "markdown",
   "metadata": {},
   "source": [
    "### Supplementary qualitatives"
   ]
  },
  {
   "cell_type": "code",
   "execution_count": 12,
   "metadata": {},
   "outputs": [
    {
     "data": {
      "text/html": [
       "<div>\n",
       "<style scoped>\n",
       "    .dataframe tbody tr th:only-of-type {\n",
       "        vertical-align: middle;\n",
       "    }\n",
       "\n",
       "    .dataframe tbody tr th {\n",
       "        vertical-align: top;\n",
       "    }\n",
       "\n",
       "    .dataframe thead th {\n",
       "        text-align: right;\n",
       "    }\n",
       "</style>\n",
       "<table border=\"1\" class=\"dataframe\">\n",
       "  <thead>\n",
       "    <tr style=\"text-align: right;\">\n",
       "      <th></th>\n",
       "      <th>Dim.1</th>\n",
       "      <th>Dim.2</th>\n",
       "      <th>Dim.3</th>\n",
       "      <th>Dim.4</th>\n",
       "      <th>Dim.5</th>\n",
       "    </tr>\n",
       "  </thead>\n",
       "  <tbody>\n",
       "    <tr>\n",
       "      <th>1_M</th>\n",
       "      <td>-0.825037</td>\n",
       "      <td>-0.282131</td>\n",
       "      <td>-0.049728</td>\n",
       "      <td>-0.067161</td>\n",
       "      <td>0.080932</td>\n",
       "    </tr>\n",
       "    <tr>\n",
       "      <th>2_B</th>\n",
       "      <td>-0.411659</td>\n",
       "      <td>-0.127503</td>\n",
       "      <td>0.337329</td>\n",
       "      <td>-0.074411</td>\n",
       "      <td>0.018238</td>\n",
       "    </tr>\n",
       "    <tr>\n",
       "      <th>3_TB</th>\n",
       "      <td>1.167800</td>\n",
       "      <td>0.383863</td>\n",
       "      <td>-0.352111</td>\n",
       "      <td>0.142779</td>\n",
       "      <td>-0.088721</td>\n",
       "    </tr>\n",
       "  </tbody>\n",
       "</table>\n",
       "</div>"
      ],
      "text/plain": [
       "         Dim.1     Dim.2     Dim.3     Dim.4     Dim.5\n",
       "1_M  -0.825037 -0.282131 -0.049728 -0.067161  0.080932\n",
       "2_B  -0.411659 -0.127503  0.337329 -0.074411  0.018238\n",
       "3_TB  1.167800  0.383863 -0.352111  0.142779 -0.088721"
      ]
     },
     "execution_count": 12,
     "metadata": {},
     "output_type": "execute_result"
    }
   ],
   "source": [
    "# Coordinates\n",
    "var_sup[\"quali\"][\"coord\"]"
   ]
  },
  {
   "cell_type": "code",
   "execution_count": 13,
   "metadata": {},
   "outputs": [
    {
     "data": {
      "text/html": [
       "<div>\n",
       "<style scoped>\n",
       "    .dataframe tbody tr th:only-of-type {\n",
       "        vertical-align: middle;\n",
       "    }\n",
       "\n",
       "    .dataframe tbody tr th {\n",
       "        vertical-align: top;\n",
       "    }\n",
       "\n",
       "    .dataframe thead th {\n",
       "        text-align: right;\n",
       "    }\n",
       "</style>\n",
       "<table border=\"1\" class=\"dataframe\">\n",
       "  <thead>\n",
       "    <tr style=\"text-align: right;\">\n",
       "      <th></th>\n",
       "      <th>Dim.1</th>\n",
       "      <th>Dim.2</th>\n",
       "      <th>Dim.3</th>\n",
       "      <th>Dim.4</th>\n",
       "      <th>Dim.5</th>\n",
       "    </tr>\n",
       "  </thead>\n",
       "  <tbody>\n",
       "    <tr>\n",
       "      <th>1_M</th>\n",
       "      <td>0.879647</td>\n",
       "      <td>0.102864</td>\n",
       "      <td>0.003196</td>\n",
       "      <td>0.005829</td>\n",
       "      <td>0.008464</td>\n",
       "    </tr>\n",
       "    <tr>\n",
       "      <th>2_B</th>\n",
       "      <td>0.554925</td>\n",
       "      <td>0.053235</td>\n",
       "      <td>0.372619</td>\n",
       "      <td>0.018131</td>\n",
       "      <td>0.001089</td>\n",
       "    </tr>\n",
       "    <tr>\n",
       "      <th>3_TB</th>\n",
       "      <td>0.819887</td>\n",
       "      <td>0.088587</td>\n",
       "      <td>0.074538</td>\n",
       "      <td>0.012256</td>\n",
       "      <td>0.004732</td>\n",
       "    </tr>\n",
       "  </tbody>\n",
       "</table>\n",
       "</div>"
      ],
      "text/plain": [
       "         Dim.1     Dim.2     Dim.3     Dim.4     Dim.5\n",
       "1_M   0.879647  0.102864  0.003196  0.005829  0.008464\n",
       "2_B   0.554925  0.053235  0.372619  0.018131  0.001089\n",
       "3_TB  0.819887  0.088587  0.074538  0.012256  0.004732"
      ]
     },
     "execution_count": 13,
     "metadata": {},
     "output_type": "execute_result"
    }
   ],
   "source": [
    "# Square cosinus (cos2)\n",
    "var_sup[\"quali\"][\"cos2\"]"
   ]
  },
  {
   "cell_type": "code",
   "execution_count": 14,
   "metadata": {},
   "outputs": [
    {
     "data": {
      "text/html": [
       "<div>\n",
       "<style scoped>\n",
       "    .dataframe tbody tr th:only-of-type {\n",
       "        vertical-align: middle;\n",
       "    }\n",
       "\n",
       "    .dataframe tbody tr th {\n",
       "        vertical-align: top;\n",
       "    }\n",
       "\n",
       "    .dataframe thead th {\n",
       "        text-align: right;\n",
       "    }\n",
       "</style>\n",
       "<table border=\"1\" class=\"dataframe\">\n",
       "  <thead>\n",
       "    <tr style=\"text-align: right;\">\n",
       "      <th></th>\n",
       "      <th>Dim.1</th>\n",
       "      <th>Dim.2</th>\n",
       "      <th>Dim.3</th>\n",
       "      <th>Dim.4</th>\n",
       "      <th>Dim.5</th>\n",
       "    </tr>\n",
       "  </thead>\n",
       "  <tbody>\n",
       "    <tr>\n",
       "      <th>1_M</th>\n",
       "      <td>-1.361475</td>\n",
       "      <td>-0.568001</td>\n",
       "      <td>-0.152123</td>\n",
       "      <td>-0.400906</td>\n",
       "      <td>0.642976</td>\n",
       "    </tr>\n",
       "    <tr>\n",
       "      <th>2_B</th>\n",
       "      <td>-0.873803</td>\n",
       "      <td>-0.330185</td>\n",
       "      <td>1.327363</td>\n",
       "      <td>-0.571350</td>\n",
       "      <td>0.186379</td>\n",
       "    </tr>\n",
       "    <tr>\n",
       "      <th>3_TB</th>\n",
       "      <td>2.197235</td>\n",
       "      <td>0.881142</td>\n",
       "      <td>-1.228139</td>\n",
       "      <td>0.971776</td>\n",
       "      <td>-0.803663</td>\n",
       "    </tr>\n",
       "  </tbody>\n",
       "</table>\n",
       "</div>"
      ],
      "text/plain": [
       "         Dim.1     Dim.2     Dim.3     Dim.4     Dim.5\n",
       "1_M  -1.361475 -0.568001 -0.152123 -0.400906  0.642976\n",
       "2_B  -0.873803 -0.330185  1.327363 -0.571350  0.186379\n",
       "3_TB  2.197235  0.881142 -1.228139  0.971776 -0.803663"
      ]
     },
     "execution_count": 14,
     "metadata": {},
     "output_type": "execute_result"
    }
   ],
   "source": [
    "#v-test\n",
    "var_sup[\"quali\"][\"vtest\"]"
   ]
  },
  {
   "cell_type": "code",
   "execution_count": 15,
   "metadata": {},
   "outputs": [
    {
     "data": {
      "text/plain": [
       "1_M     0.773817\n",
       "2_B     0.305381\n",
       "3_TB    1.663347\n",
       "Name: Sq. Dist., dtype: float64"
      ]
     },
     "execution_count": 15,
     "metadata": {},
     "output_type": "execute_result"
    }
   ],
   "source": [
    "# Square distance\n",
    "var_sup[\"quali\"][\"dist\"]"
   ]
  },
  {
   "cell_type": "code",
   "execution_count": 16,
   "metadata": {},
   "outputs": [
    {
     "data": {
      "text/html": [
       "<div>\n",
       "<style scoped>\n",
       "    .dataframe tbody tr th:only-of-type {\n",
       "        vertical-align: middle;\n",
       "    }\n",
       "\n",
       "    .dataframe tbody tr th {\n",
       "        vertical-align: top;\n",
       "    }\n",
       "\n",
       "    .dataframe thead th {\n",
       "        text-align: right;\n",
       "    }\n",
       "</style>\n",
       "<table border=\"1\" class=\"dataframe\">\n",
       "  <thead>\n",
       "    <tr style=\"text-align: right;\">\n",
       "      <th></th>\n",
       "      <th>Dim.1</th>\n",
       "      <th>Dim.2</th>\n",
       "      <th>Dim.3</th>\n",
       "      <th>Dim.4</th>\n",
       "      <th>Dim.5</th>\n",
       "    </tr>\n",
       "  </thead>\n",
       "  <tbody>\n",
       "    <tr>\n",
       "      <th>FINITION</th>\n",
       "      <td>0.295523</td>\n",
       "      <td>0.048073</td>\n",
       "      <td>0.123469</td>\n",
       "      <td>0.055596</td>\n",
       "      <td>0.044141</td>\n",
       "    </tr>\n",
       "  </tbody>\n",
       "</table>\n",
       "</div>"
      ],
      "text/plain": [
       "             Dim.1     Dim.2     Dim.3     Dim.4     Dim.5\n",
       "FINITION  0.295523  0.048073  0.123469  0.055596  0.044141"
      ]
     },
     "execution_count": 16,
     "metadata": {},
     "output_type": "execute_result"
    }
   ],
   "source": [
    "# Square correlation ratio (eta2)\n",
    "var_sup[\"quali\"][\"eta2\"]"
   ]
  }
 ],
 "metadata": {
  "kernelspec": {
   "display_name": "Python 3",
   "language": "python",
   "name": "python3"
  },
  "language_info": {
   "codemirror_mode": {
    "name": "ipython",
    "version": 3
   },
   "file_extension": ".py",
   "mimetype": "text/x-python",
   "name": "python",
   "nbconvert_exporter": "python",
   "pygments_lexer": "ipython3",
   "version": "3.10.5"
  }
 },
 "nbformat": 4,
 "nbformat_minor": 2
}
