{
 "cells": [
  {
   "cell_type": "markdown",
   "metadata": {},
   "source": [
    "# Correspondence Analysis (CA) - Children2 Dataset graphs"
   ]
  },
  {
   "cell_type": "code",
   "execution_count": null,
   "metadata": {},
   "outputs": [],
   "source": [
    "import warnings\n",
    "warnings.simplefilter(action='ignore', category=FutureWarning)\n",
    "warnings.filterwarnings(\"ignore\")\n",
    "#activation des tables interactifs\n",
    "from itables import init_notebook_mode\n",
    "init_notebook_mode(all_interactive=True)"
   ]
  },
  {
   "cell_type": "code",
   "execution_count": null,
   "metadata": {},
   "outputs": [],
   "source": [
    "from scientisttools import load_children2\n",
    "children2 = load_children2()\n",
    "children2"
   ]
  },
  {
   "cell_type": "code",
   "execution_count": null,
   "metadata": {},
   "outputs": [],
   "source": [
    "from scientisttools import CA\n",
    "#with supplementary columns\n",
    "res_ca = CA(n_components=None,row_sup=[14,15,16,17],col_sup=[5,6,7],quali_sup=8)\n",
    "res_ca.fit(children2)"
   ]
  },
  {
   "cell_type": "code",
   "execution_count": null,
   "metadata": {},
   "outputs": [],
   "source": [
    "#with supplementary quantitative variables\n",
    "res_ca2 = CA(n_components=None,row_sup=[14,15,16,17],quanti_sup=[5,6,7],quali_sup=8)\n",
    "res_ca2.fit(children2)"
   ]
  },
  {
   "cell_type": "code",
   "execution_count": null,
   "metadata": {},
   "outputs": [],
   "source": [
    "from scientisttools import fviz_eig\n",
    "p = fviz_eig(res_ca,add_labels=True)\n",
    "print(p)"
   ]
  },
  {
   "cell_type": "markdown",
   "metadata": {},
   "source": [
    "## Row factor map\n",
    "\n",
    "### Color by RGB color"
   ]
  },
  {
   "cell_type": "code",
   "execution_count": null,
   "metadata": {},
   "outputs": [],
   "source": [
    "#color by RGB color\n",
    "from scientisttools import fviz_ca_row\n",
    "print(fviz_ca_row(res_ca,repel=True))"
   ]
  },
  {
   "cell_type": "markdown",
   "metadata": {},
   "source": [
    "### Color by cos2"
   ]
  },
  {
   "cell_type": "code",
   "execution_count": null,
   "metadata": {},
   "outputs": [],
   "source": [
    "#color by cos2\n",
    "print(fviz_ca_row(res_ca,col_row=\"cos2\",repel=True))"
   ]
  },
  {
   "cell_type": "markdown",
   "metadata": {},
   "source": [
    "### Color by contrib"
   ]
  },
  {
   "cell_type": "code",
   "execution_count": null,
   "metadata": {},
   "outputs": [],
   "source": [
    "#color by contrib\n",
    "print(fviz_ca_row(res_ca,col_row=\"contrib\",repel=True))"
   ]
  },
  {
   "cell_type": "markdown",
   "metadata": {},
   "source": [
    "### Color by quantitatives columns"
   ]
  },
  {
   "cell_type": "code",
   "execution_count": null,
   "metadata": {},
   "outputs": [],
   "source": [
    "#color by quantitative variables\n",
    "print(fviz_ca_row(res_ca,col_row=\"unqualified\",repel=True))"
   ]
  },
  {
   "cell_type": "markdown",
   "metadata": {},
   "source": [
    "### Color by numpy array"
   ]
  },
  {
   "cell_type": "code",
   "execution_count": null,
   "metadata": {},
   "outputs": [],
   "source": [
    "#color using numpy array\n",
    "import numpy as np\n",
    "np.random.seed(123)\n",
    "color_numpy = np.random.normal(size=res_ca.call_.X.shape[0])\n",
    "print(fviz_ca_row(res_ca,col_row=color_numpy,repel=True))"
   ]
  },
  {
   "cell_type": "markdown",
   "metadata": {},
   "source": [
    "### Color by Kmeans"
   ]
  },
  {
   "cell_type": "code",
   "execution_count": null,
   "metadata": {},
   "outputs": [],
   "source": [
    "#color using kmeans clustering\n",
    "from sklearn.cluster import KMeans\n",
    "kmeans = KMeans(n_clusters=3, random_state=np.random.seed(123), n_init=\"auto\").fit(res_ca.row_.coord)\n",
    "print(fviz_ca_row(res_ca,col_row=kmeans,repel=True))"
   ]
  },
  {
   "cell_type": "markdown",
   "metadata": {},
   "source": [
    "### Color by qualitative"
   ]
  },
  {
   "cell_type": "code",
   "execution_count": null,
   "metadata": {},
   "outputs": [],
   "source": [
    "#color using qualitative variable\n",
    "print(fviz_ca_row(res_ca,repel=True,habillage=\"group\",add_ellipses=False))"
   ]
  },
  {
   "cell_type": "code",
   "execution_count": null,
   "metadata": {},
   "outputs": [],
   "source": [
    "p = fviz_ca_row(res_ca,repel=True,habillage=\"group\",add_ellipses=True)\n",
    "print(p)"
   ]
  },
  {
   "cell_type": "markdown",
   "metadata": {},
   "source": [
    "### Set limits"
   ]
  },
  {
   "cell_type": "code",
   "execution_count": null,
   "metadata": {},
   "outputs": [],
   "source": [
    "p = fviz_ca_row(res_ca,repel=True,lim_cos2=0.9)\n",
    "print(p)"
   ]
  },
  {
   "cell_type": "code",
   "execution_count": null,
   "metadata": {},
   "outputs": [],
   "source": [
    "p = fviz_ca_row(res_ca,repel=True,lim_contrib=20)\n",
    "print(p)"
   ]
  },
  {
   "cell_type": "markdown",
   "metadata": {},
   "source": [
    "## Columns Factor Map\n",
    "\n",
    "### Color by RGB"
   ]
  },
  {
   "cell_type": "code",
   "execution_count": null,
   "metadata": {},
   "outputs": [],
   "source": [
    "from scientisttools import fviz_ca_col\n",
    "p = fviz_ca_col(res_ca,repel=True)\n",
    "print(p)"
   ]
  },
  {
   "cell_type": "markdown",
   "metadata": {},
   "source": [
    "### Color by numpy array"
   ]
  },
  {
   "cell_type": "code",
   "execution_count": null,
   "metadata": {},
   "outputs": [],
   "source": [
    "np.random.seed(123)\n",
    "color_numpy = np.random.normal(size=res_ca.call_.X.shape[1])\n",
    "p = fviz_ca_col(res_ca,col_col=color_numpy,repel=True)\n",
    "print(p)"
   ]
  },
  {
   "cell_type": "markdown",
   "metadata": {},
   "source": [
    "### Color by kmeans"
   ]
  },
  {
   "cell_type": "code",
   "execution_count": null,
   "metadata": {},
   "outputs": [],
   "source": [
    "kmeans = KMeans(n_clusters=3, random_state=np.random.seed(123), n_init=\"auto\").fit(res_ca.col_.coord)\n",
    "p = fviz_ca_col(res_ca,col_col=kmeans,repel=True)\n",
    "print(p)"
   ]
  },
  {
   "cell_type": "markdown",
   "metadata": {},
   "source": [
    "## Biplot"
   ]
  },
  {
   "cell_type": "code",
   "execution_count": null,
   "metadata": {},
   "outputs": [],
   "source": [
    "from scientisttools import fviz_ca_biplot\n",
    "p = fviz_ca_biplot(res_ca)\n",
    "print(p)"
   ]
  },
  {
   "cell_type": "markdown",
   "metadata": {},
   "source": [
    "## Biplot"
   ]
  },
  {
   "cell_type": "code",
   "execution_count": null,
   "metadata": {},
   "outputs": [],
   "source": [
    "from scientisttools import fviz_ca_biplot\n",
    "p = fviz_ca_biplot(res_ca)\n",
    "print(p)"
   ]
  },
  {
   "cell_type": "code",
   "execution_count": null,
   "metadata": {},
   "outputs": [],
   "source": [
    "p = fviz_ca_biplot(res_ca)\n",
    "print(p)"
   ]
  },
  {
   "cell_type": "markdown",
   "metadata": {},
   "source": [
    "## Plot supplementary quantitative variables"
   ]
  },
  {
   "cell_type": "code",
   "execution_count": null,
   "metadata": {},
   "outputs": [],
   "source": [
    "from scientisttools import fviz_corrcircle\n",
    "print(fviz_corrcircle(res_ca2))"
   ]
  },
  {
   "cell_type": "markdown",
   "metadata": {},
   "source": [
    "### plot contrib"
   ]
  },
  {
   "cell_type": "code",
   "execution_count": null,
   "metadata": {},
   "outputs": [],
   "source": [
    "import patchworklib as pw\n",
    "from scientisttools import fviz_contrib\n",
    "p1, p2 = fviz_contrib(res_ca,choice=\"row\"),fviz_contrib(res_ca,choice=\"col\")\n",
    "g1, g2 = pw.load_ggplot(p1, figsize=(4,4)), pw.load_ggplot(p2, figsize=(4,4))\n",
    "(g1|g2).savefig()"
   ]
  },
  {
   "cell_type": "markdown",
   "metadata": {},
   "source": [
    "## Plot cos2"
   ]
  },
  {
   "cell_type": "code",
   "execution_count": null,
   "metadata": {},
   "outputs": [],
   "source": [
    "from scientisttools import fviz_cos2\n",
    "p1, p2 = fviz_cos2(res_ca,choice=\"row\"), fviz_cos2(res_ca,choice=\"col\")\n",
    "g1, g2 = pw.load_ggplot(p1, figsize=(4,4)), pw.load_ggplot(p2, figsize=(4,4))\n",
    "(g1|g2).savefig()"
   ]
  }
 ],
 "metadata": {
  "kernelspec": {
   "display_name": "Python 3",
   "language": "python",
   "name": "python3"
  },
  "language_info": {
   "codemirror_mode": {
    "name": "ipython",
    "version": 3
   },
   "file_extension": ".py",
   "mimetype": "text/x-python",
   "name": "python",
   "nbconvert_exporter": "python",
   "pygments_lexer": "ipython3",
   "version": "3.10.5"
  }
 },
 "nbformat": 4,
 "nbformat_minor": 2
}
