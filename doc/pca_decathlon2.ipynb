{
 "cells": [
  {
   "cell_type": "markdown",
   "metadata": {},
   "source": [
    "# Principal Components Analysis (PCA)"
   ]
  },
  {
   "cell_type": "code",
   "execution_count": 1,
   "metadata": {},
   "outputs": [],
   "source": [
    "import warnings\n",
    "warnings.simplefilter(action='ignore', category=FutureWarning)\n",
    "warnings.filterwarnings(\"ignore\")"
   ]
  },
  {
   "cell_type": "code",
   "execution_count": 2,
   "metadata": {},
   "outputs": [
    {
     "data": {
      "text/html": [
       "<div>\n",
       "<style scoped>\n",
       "    .dataframe tbody tr th:only-of-type {\n",
       "        vertical-align: middle;\n",
       "    }\n",
       "\n",
       "    .dataframe tbody tr th {\n",
       "        vertical-align: top;\n",
       "    }\n",
       "\n",
       "    .dataframe thead th {\n",
       "        text-align: right;\n",
       "    }\n",
       "</style>\n",
       "<table border=\"1\" class=\"dataframe\">\n",
       "  <thead>\n",
       "    <tr style=\"text-align: right;\">\n",
       "      <th></th>\n",
       "      <th>X100m</th>\n",
       "      <th>Long.jump</th>\n",
       "      <th>Shot.put</th>\n",
       "      <th>High.jump</th>\n",
       "      <th>X400m</th>\n",
       "      <th>X110m.hurdle</th>\n",
       "      <th>Discus</th>\n",
       "      <th>Pole.vault</th>\n",
       "      <th>Javeline</th>\n",
       "      <th>X1500m</th>\n",
       "      <th>Rank</th>\n",
       "      <th>Points</th>\n",
       "      <th>Competition</th>\n",
       "    </tr>\n",
       "    <tr>\n",
       "      <th>name</th>\n",
       "      <th></th>\n",
       "      <th></th>\n",
       "      <th></th>\n",
       "      <th></th>\n",
       "      <th></th>\n",
       "      <th></th>\n",
       "      <th></th>\n",
       "      <th></th>\n",
       "      <th></th>\n",
       "      <th></th>\n",
       "      <th></th>\n",
       "      <th></th>\n",
       "      <th></th>\n",
       "    </tr>\n",
       "  </thead>\n",
       "  <tbody>\n",
       "    <tr>\n",
       "      <th>SEBRLE</th>\n",
       "      <td>11.04</td>\n",
       "      <td>7.58</td>\n",
       "      <td>14.83</td>\n",
       "      <td>2.07</td>\n",
       "      <td>49.81</td>\n",
       "      <td>14.69</td>\n",
       "      <td>43.75</td>\n",
       "      <td>5.02</td>\n",
       "      <td>63.19</td>\n",
       "      <td>291.7</td>\n",
       "      <td>1</td>\n",
       "      <td>8217</td>\n",
       "      <td>Decastar</td>\n",
       "    </tr>\n",
       "    <tr>\n",
       "      <th>CLAY</th>\n",
       "      <td>10.76</td>\n",
       "      <td>7.40</td>\n",
       "      <td>14.26</td>\n",
       "      <td>1.86</td>\n",
       "      <td>49.37</td>\n",
       "      <td>14.05</td>\n",
       "      <td>50.72</td>\n",
       "      <td>4.92</td>\n",
       "      <td>60.15</td>\n",
       "      <td>301.5</td>\n",
       "      <td>2</td>\n",
       "      <td>8122</td>\n",
       "      <td>Decastar</td>\n",
       "    </tr>\n",
       "    <tr>\n",
       "      <th>BERNARD</th>\n",
       "      <td>11.02</td>\n",
       "      <td>7.23</td>\n",
       "      <td>14.25</td>\n",
       "      <td>1.92</td>\n",
       "      <td>48.93</td>\n",
       "      <td>14.99</td>\n",
       "      <td>40.87</td>\n",
       "      <td>5.32</td>\n",
       "      <td>62.77</td>\n",
       "      <td>280.1</td>\n",
       "      <td>4</td>\n",
       "      <td>8067</td>\n",
       "      <td>Decastar</td>\n",
       "    </tr>\n",
       "    <tr>\n",
       "      <th>YURKOV</th>\n",
       "      <td>11.34</td>\n",
       "      <td>7.09</td>\n",
       "      <td>15.19</td>\n",
       "      <td>2.10</td>\n",
       "      <td>50.42</td>\n",
       "      <td>15.31</td>\n",
       "      <td>46.26</td>\n",
       "      <td>4.72</td>\n",
       "      <td>63.44</td>\n",
       "      <td>276.4</td>\n",
       "      <td>5</td>\n",
       "      <td>8036</td>\n",
       "      <td>Decastar</td>\n",
       "    </tr>\n",
       "    <tr>\n",
       "      <th>ZSIVOCZKY</th>\n",
       "      <td>11.13</td>\n",
       "      <td>7.30</td>\n",
       "      <td>13.48</td>\n",
       "      <td>2.01</td>\n",
       "      <td>48.62</td>\n",
       "      <td>14.17</td>\n",
       "      <td>45.67</td>\n",
       "      <td>4.42</td>\n",
       "      <td>55.37</td>\n",
       "      <td>268.0</td>\n",
       "      <td>7</td>\n",
       "      <td>8004</td>\n",
       "      <td>Decastar</td>\n",
       "    </tr>\n",
       "  </tbody>\n",
       "</table>\n",
       "</div>"
      ],
      "text/plain": [
       "           X100m  Long.jump  Shot.put  High.jump  X400m  X110m.hurdle  Discus  \\\n",
       "name                                                                            \n",
       "SEBRLE     11.04       7.58     14.83       2.07  49.81         14.69   43.75   \n",
       "CLAY       10.76       7.40     14.26       1.86  49.37         14.05   50.72   \n",
       "BERNARD    11.02       7.23     14.25       1.92  48.93         14.99   40.87   \n",
       "YURKOV     11.34       7.09     15.19       2.10  50.42         15.31   46.26   \n",
       "ZSIVOCZKY  11.13       7.30     13.48       2.01  48.62         14.17   45.67   \n",
       "\n",
       "           Pole.vault  Javeline  X1500m  Rank  Points Competition  \n",
       "name                                                               \n",
       "SEBRLE           5.02     63.19   291.7     1    8217    Decastar  \n",
       "CLAY             4.92     60.15   301.5     2    8122    Decastar  \n",
       "BERNARD          5.32     62.77   280.1     4    8067    Decastar  \n",
       "YURKOV           4.72     63.44   276.4     5    8036    Decastar  \n",
       "ZSIVOCZKY        4.42     55.37   268.0     7    8004    Decastar  "
      ]
     },
     "execution_count": 2,
     "metadata": {},
     "output_type": "execute_result"
    }
   ],
   "source": [
    "from scientisttools.datasets import load_decathlon2\n",
    "X = load_decathlon2()\n",
    "X.head()"
   ]
  },
  {
   "cell_type": "code",
   "execution_count": 3,
   "metadata": {},
   "outputs": [],
   "source": [
    "from scientisttools import PCA"
   ]
  },
  {
   "cell_type": "markdown",
   "metadata": {},
   "source": [
    "## Without supplementary"
   ]
  },
  {
   "cell_type": "code",
   "execution_count": 4,
   "metadata": {},
   "outputs": [
    {
     "data": {
      "text/html": [
       "<style>#sk-container-id-1 {color: black;background-color: white;}#sk-container-id-1 pre{padding: 0;}#sk-container-id-1 div.sk-toggleable {background-color: white;}#sk-container-id-1 label.sk-toggleable__label {cursor: pointer;display: block;width: 100%;margin-bottom: 0;padding: 0.3em;box-sizing: border-box;text-align: center;}#sk-container-id-1 label.sk-toggleable__label-arrow:before {content: \"▸\";float: left;margin-right: 0.25em;color: #696969;}#sk-container-id-1 label.sk-toggleable__label-arrow:hover:before {color: black;}#sk-container-id-1 div.sk-estimator:hover label.sk-toggleable__label-arrow:before {color: black;}#sk-container-id-1 div.sk-toggleable__content {max-height: 0;max-width: 0;overflow: hidden;text-align: left;background-color: #f0f8ff;}#sk-container-id-1 div.sk-toggleable__content pre {margin: 0.2em;color: black;border-radius: 0.25em;background-color: #f0f8ff;}#sk-container-id-1 input.sk-toggleable__control:checked~div.sk-toggleable__content {max-height: 200px;max-width: 100%;overflow: auto;}#sk-container-id-1 input.sk-toggleable__control:checked~label.sk-toggleable__label-arrow:before {content: \"▾\";}#sk-container-id-1 div.sk-estimator input.sk-toggleable__control:checked~label.sk-toggleable__label {background-color: #d4ebff;}#sk-container-id-1 div.sk-label input.sk-toggleable__control:checked~label.sk-toggleable__label {background-color: #d4ebff;}#sk-container-id-1 input.sk-hidden--visually {border: 0;clip: rect(1px 1px 1px 1px);clip: rect(1px, 1px, 1px, 1px);height: 1px;margin: -1px;overflow: hidden;padding: 0;position: absolute;width: 1px;}#sk-container-id-1 div.sk-estimator {font-family: monospace;background-color: #f0f8ff;border: 1px dotted black;border-radius: 0.25em;box-sizing: border-box;margin-bottom: 0.5em;}#sk-container-id-1 div.sk-estimator:hover {background-color: #d4ebff;}#sk-container-id-1 div.sk-parallel-item::after {content: \"\";width: 100%;border-bottom: 1px solid gray;flex-grow: 1;}#sk-container-id-1 div.sk-label:hover label.sk-toggleable__label {background-color: #d4ebff;}#sk-container-id-1 div.sk-serial::before {content: \"\";position: absolute;border-left: 1px solid gray;box-sizing: border-box;top: 0;bottom: 0;left: 50%;z-index: 0;}#sk-container-id-1 div.sk-serial {display: flex;flex-direction: column;align-items: center;background-color: white;padding-right: 0.2em;padding-left: 0.2em;position: relative;}#sk-container-id-1 div.sk-item {position: relative;z-index: 1;}#sk-container-id-1 div.sk-parallel {display: flex;align-items: stretch;justify-content: center;background-color: white;position: relative;}#sk-container-id-1 div.sk-item::before, #sk-container-id-1 div.sk-parallel-item::before {content: \"\";position: absolute;border-left: 1px solid gray;box-sizing: border-box;top: 0;bottom: 0;left: 50%;z-index: -1;}#sk-container-id-1 div.sk-parallel-item {display: flex;flex-direction: column;z-index: 1;position: relative;background-color: white;}#sk-container-id-1 div.sk-parallel-item:first-child::after {align-self: flex-end;width: 50%;}#sk-container-id-1 div.sk-parallel-item:last-child::after {align-self: flex-start;width: 50%;}#sk-container-id-1 div.sk-parallel-item:only-child::after {width: 0;}#sk-container-id-1 div.sk-dashed-wrapped {border: 1px dashed gray;margin: 0 0.4em 0.5em 0.4em;box-sizing: border-box;padding-bottom: 0.4em;background-color: white;}#sk-container-id-1 div.sk-label label {font-family: monospace;font-weight: bold;display: inline-block;line-height: 1.2em;}#sk-container-id-1 div.sk-label-container {text-align: center;}#sk-container-id-1 div.sk-container {/* jupyter's `normalize.less` sets `[hidden] { display: none; }` but bootstrap.min.css set `[hidden] { display: none !important; }` so we also need the `!important` here to be able to override the default hidden behavior on the sphinx rendered scikit-learn.org. See: https://github.com/scikit-learn/scikit-learn/issues/21755 */display: inline-block !important;position: relative;}#sk-container-id-1 div.sk-text-repr-fallback {display: none;}</style><div id=\"sk-container-id-1\" class=\"sk-top-container\"><div class=\"sk-text-repr-fallback\"><pre>PCA(parallelize=True)</pre><b>In a Jupyter environment, please rerun this cell to show the HTML representation or trust the notebook. <br />On GitHub, the HTML representation is unable to render, please try loading this page with nbviewer.org.</b></div><div class=\"sk-container\" hidden><div class=\"sk-item\"><div class=\"sk-estimator sk-toggleable\"><input class=\"sk-toggleable__control sk-hidden--visually\" id=\"sk-estimator-id-1\" type=\"checkbox\" checked><label for=\"sk-estimator-id-1\" class=\"sk-toggleable__label sk-toggleable__label-arrow\">PCA</label><div class=\"sk-toggleable__content\"><pre>PCA(parallelize=True)</pre></div></div></div></div></div>"
      ],
      "text/plain": [
       "PCA(parallelize=True)"
      ]
     },
     "execution_count": 4,
     "metadata": {},
     "output_type": "execute_result"
    }
   ],
   "source": [
    "# Instanciation\n",
    "X1 = X.iloc[:23,:10]\n",
    "res_pca1 = PCA(standardize=True,ind_sup=None,quanti_sup=None,quali_sup=None,parallelize=True)\n",
    "# Entrainement\n",
    "res_pca1.fit(X1)"
   ]
  },
  {
   "cell_type": "markdown",
   "metadata": {},
   "source": [
    "### Eigen values"
   ]
  },
  {
   "cell_type": "code",
   "execution_count": 5,
   "metadata": {},
   "outputs": [
    {
     "data": {
      "text/html": [
       "<div>\n",
       "<style scoped>\n",
       "    .dataframe tbody tr th:only-of-type {\n",
       "        vertical-align: middle;\n",
       "    }\n",
       "\n",
       "    .dataframe tbody tr th {\n",
       "        vertical-align: top;\n",
       "    }\n",
       "\n",
       "    .dataframe thead th {\n",
       "        text-align: right;\n",
       "    }\n",
       "</style>\n",
       "<table border=\"1\" class=\"dataframe\">\n",
       "  <thead>\n",
       "    <tr style=\"text-align: right;\">\n",
       "      <th></th>\n",
       "      <th>eigenvalue</th>\n",
       "      <th>difference</th>\n",
       "      <th>proportion</th>\n",
       "      <th>cumulative</th>\n",
       "    </tr>\n",
       "  </thead>\n",
       "  <tbody>\n",
       "    <tr>\n",
       "      <th>Dim.1</th>\n",
       "      <td>4.124213</td>\n",
       "      <td>2.285682</td>\n",
       "      <td>41.242133</td>\n",
       "      <td>41.242133</td>\n",
       "    </tr>\n",
       "    <tr>\n",
       "      <th>Dim.2</th>\n",
       "      <td>1.838531</td>\n",
       "      <td>0.599391</td>\n",
       "      <td>18.385309</td>\n",
       "      <td>59.627443</td>\n",
       "    </tr>\n",
       "    <tr>\n",
       "      <th>Dim.3</th>\n",
       "      <td>1.239140</td>\n",
       "      <td>0.419700</td>\n",
       "      <td>12.391403</td>\n",
       "      <td>72.018845</td>\n",
       "    </tr>\n",
       "    <tr>\n",
       "      <th>Dim.4</th>\n",
       "      <td>0.819440</td>\n",
       "      <td>0.117887</td>\n",
       "      <td>8.194402</td>\n",
       "      <td>80.213247</td>\n",
       "    </tr>\n",
       "    <tr>\n",
       "      <th>Dim.5</th>\n",
       "      <td>0.701553</td>\n",
       "      <td>0.278670</td>\n",
       "      <td>7.015528</td>\n",
       "      <td>87.228776</td>\n",
       "    </tr>\n",
       "    <tr>\n",
       "      <th>Dim.6</th>\n",
       "      <td>0.422883</td>\n",
       "      <td>0.120301</td>\n",
       "      <td>4.228828</td>\n",
       "      <td>91.457604</td>\n",
       "    </tr>\n",
       "    <tr>\n",
       "      <th>Dim.7</th>\n",
       "      <td>0.302582</td>\n",
       "      <td>0.028112</td>\n",
       "      <td>3.025817</td>\n",
       "      <td>94.483420</td>\n",
       "    </tr>\n",
       "    <tr>\n",
       "      <th>Dim.8</th>\n",
       "      <td>0.274470</td>\n",
       "      <td>0.119253</td>\n",
       "      <td>2.744700</td>\n",
       "      <td>97.228120</td>\n",
       "    </tr>\n",
       "    <tr>\n",
       "      <th>Dim.9</th>\n",
       "      <td>0.155217</td>\n",
       "      <td>0.033246</td>\n",
       "      <td>1.552169</td>\n",
       "      <td>98.780290</td>\n",
       "    </tr>\n",
       "    <tr>\n",
       "      <th>Dim.10</th>\n",
       "      <td>0.121971</td>\n",
       "      <td>NaN</td>\n",
       "      <td>1.219710</td>\n",
       "      <td>100.000000</td>\n",
       "    </tr>\n",
       "  </tbody>\n",
       "</table>\n",
       "</div>"
      ],
      "text/plain": [
       "        eigenvalue  difference  proportion  cumulative\n",
       "Dim.1     4.124213    2.285682   41.242133   41.242133\n",
       "Dim.2     1.838531    0.599391   18.385309   59.627443\n",
       "Dim.3     1.239140    0.419700   12.391403   72.018845\n",
       "Dim.4     0.819440    0.117887    8.194402   80.213247\n",
       "Dim.5     0.701553    0.278670    7.015528   87.228776\n",
       "Dim.6     0.422883    0.120301    4.228828   91.457604\n",
       "Dim.7     0.302582    0.028112    3.025817   94.483420\n",
       "Dim.8     0.274470    0.119253    2.744700   97.228120\n",
       "Dim.9     0.155217    0.033246    1.552169   98.780290\n",
       "Dim.10    0.121971         NaN    1.219710  100.000000"
      ]
     },
     "execution_count": 5,
     "metadata": {},
     "output_type": "execute_result"
    }
   ],
   "source": [
    "res_pca1.eig_"
   ]
  },
  {
   "cell_type": "markdown",
   "metadata": {},
   "source": [
    "### Individuals"
   ]
  },
  {
   "cell_type": "code",
   "execution_count": 6,
   "metadata": {},
   "outputs": [
    {
     "data": {
      "text/plain": [
       "dict_keys(['coord', 'cos2', 'contrib', 'dist', 'infos'])"
      ]
     },
     "execution_count": 6,
     "metadata": {},
     "output_type": "execute_result"
    }
   ],
   "source": [
    "ind = res_pca1.ind_\n",
    "ind.keys()"
   ]
  },
  {
   "cell_type": "markdown",
   "metadata": {},
   "source": [
    "#### Individuas coordinates"
   ]
  },
  {
   "cell_type": "code",
   "execution_count": 7,
   "metadata": {},
   "outputs": [
    {
     "data": {
      "text/html": [
       "<div>\n",
       "<style scoped>\n",
       "    .dataframe tbody tr th:only-of-type {\n",
       "        vertical-align: middle;\n",
       "    }\n",
       "\n",
       "    .dataframe tbody tr th {\n",
       "        vertical-align: top;\n",
       "    }\n",
       "\n",
       "    .dataframe thead th {\n",
       "        text-align: right;\n",
       "    }\n",
       "</style>\n",
       "<table border=\"1\" class=\"dataframe\">\n",
       "  <thead>\n",
       "    <tr style=\"text-align: right;\">\n",
       "      <th></th>\n",
       "      <th>Dim.1</th>\n",
       "      <th>Dim.2</th>\n",
       "      <th>Dim.3</th>\n",
       "      <th>Dim.4</th>\n",
       "      <th>Dim.5</th>\n",
       "    </tr>\n",
       "  </thead>\n",
       "  <tbody>\n",
       "    <tr>\n",
       "      <th>SEBRLE</th>\n",
       "      <td>0.195505</td>\n",
       "      <td>1.589057</td>\n",
       "      <td>0.642491</td>\n",
       "      <td>0.083897</td>\n",
       "      <td>1.168294</td>\n",
       "    </tr>\n",
       "    <tr>\n",
       "      <th>CLAY</th>\n",
       "      <td>0.807879</td>\n",
       "      <td>2.474814</td>\n",
       "      <td>-1.387383</td>\n",
       "      <td>1.298382</td>\n",
       "      <td>-0.824982</td>\n",
       "    </tr>\n",
       "    <tr>\n",
       "      <th>BERNARD</th>\n",
       "      <td>-1.359134</td>\n",
       "      <td>1.648095</td>\n",
       "      <td>0.200558</td>\n",
       "      <td>-1.964094</td>\n",
       "      <td>0.084193</td>\n",
       "    </tr>\n",
       "    <tr>\n",
       "      <th>YURKOV</th>\n",
       "      <td>-0.888953</td>\n",
       "      <td>-0.442607</td>\n",
       "      <td>2.529584</td>\n",
       "      <td>0.712908</td>\n",
       "      <td>0.407823</td>\n",
       "    </tr>\n",
       "    <tr>\n",
       "      <th>ZSIVOCZKY</th>\n",
       "      <td>-0.108122</td>\n",
       "      <td>-2.068838</td>\n",
       "      <td>-1.334259</td>\n",
       "      <td>-0.101528</td>\n",
       "      <td>-0.201452</td>\n",
       "    </tr>\n",
       "    <tr>\n",
       "      <th>McMULLEN</th>\n",
       "      <td>0.121220</td>\n",
       "      <td>-1.013910</td>\n",
       "      <td>-0.862517</td>\n",
       "      <td>1.341643</td>\n",
       "      <td>1.621513</td>\n",
       "    </tr>\n",
       "  </tbody>\n",
       "</table>\n",
       "</div>"
      ],
      "text/plain": [
       "              Dim.1     Dim.2     Dim.3     Dim.4     Dim.5\n",
       "SEBRLE     0.195505  1.589057  0.642491  0.083897  1.168294\n",
       "CLAY       0.807879  2.474814 -1.387383  1.298382 -0.824982\n",
       "BERNARD   -1.359134  1.648095  0.200558 -1.964094  0.084193\n",
       "YURKOV    -0.888953 -0.442607  2.529584  0.712908  0.407823\n",
       "ZSIVOCZKY -0.108122 -2.068838 -1.334259 -0.101528 -0.201452\n",
       "McMULLEN   0.121220 -1.013910 -0.862517  1.341643  1.621513"
      ]
     },
     "execution_count": 7,
     "metadata": {},
     "output_type": "execute_result"
    }
   ],
   "source": [
    "ind[\"coord\"].head(6)"
   ]
  },
  {
   "cell_type": "markdown",
   "metadata": {},
   "source": [
    "#### Individuals Cos2"
   ]
  },
  {
   "cell_type": "code",
   "execution_count": 8,
   "metadata": {},
   "outputs": [
    {
     "data": {
      "text/html": [
       "<div>\n",
       "<style scoped>\n",
       "    .dataframe tbody tr th:only-of-type {\n",
       "        vertical-align: middle;\n",
       "    }\n",
       "\n",
       "    .dataframe tbody tr th {\n",
       "        vertical-align: top;\n",
       "    }\n",
       "\n",
       "    .dataframe thead th {\n",
       "        text-align: right;\n",
       "    }\n",
       "</style>\n",
       "<table border=\"1\" class=\"dataframe\">\n",
       "  <thead>\n",
       "    <tr style=\"text-align: right;\">\n",
       "      <th></th>\n",
       "      <th>Dim.1</th>\n",
       "      <th>Dim.2</th>\n",
       "      <th>Dim.3</th>\n",
       "      <th>Dim.4</th>\n",
       "      <th>Dim.5</th>\n",
       "    </tr>\n",
       "  </thead>\n",
       "  <tbody>\n",
       "    <tr>\n",
       "      <th>SEBRLE</th>\n",
       "      <td>0.007530</td>\n",
       "      <td>0.497473</td>\n",
       "      <td>0.081325</td>\n",
       "      <td>0.001387</td>\n",
       "      <td>0.268903</td>\n",
       "    </tr>\n",
       "    <tr>\n",
       "      <th>CLAY</th>\n",
       "      <td>0.048701</td>\n",
       "      <td>0.457017</td>\n",
       "      <td>0.143628</td>\n",
       "      <td>0.125792</td>\n",
       "      <td>0.050785</td>\n",
       "    </tr>\n",
       "    <tr>\n",
       "      <th>BERNARD</th>\n",
       "      <td>0.197200</td>\n",
       "      <td>0.289966</td>\n",
       "      <td>0.004294</td>\n",
       "      <td>0.411819</td>\n",
       "      <td>0.000757</td>\n",
       "    </tr>\n",
       "    <tr>\n",
       "      <th>YURKOV</th>\n",
       "      <td>0.096110</td>\n",
       "      <td>0.023826</td>\n",
       "      <td>0.778230</td>\n",
       "      <td>0.061813</td>\n",
       "      <td>0.020228</td>\n",
       "    </tr>\n",
       "    <tr>\n",
       "      <th>ZSIVOCZKY</th>\n",
       "      <td>0.001574</td>\n",
       "      <td>0.576419</td>\n",
       "      <td>0.239754</td>\n",
       "      <td>0.001388</td>\n",
       "      <td>0.005465</td>\n",
       "    </tr>\n",
       "    <tr>\n",
       "      <th>McMULLEN</th>\n",
       "      <td>0.002175</td>\n",
       "      <td>0.152195</td>\n",
       "      <td>0.110138</td>\n",
       "      <td>0.266487</td>\n",
       "      <td>0.389262</td>\n",
       "    </tr>\n",
       "  </tbody>\n",
       "</table>\n",
       "</div>"
      ],
      "text/plain": [
       "              Dim.1     Dim.2     Dim.3     Dim.4     Dim.5\n",
       "SEBRLE     0.007530  0.497473  0.081325  0.001387  0.268903\n",
       "CLAY       0.048701  0.457017  0.143628  0.125792  0.050785\n",
       "BERNARD    0.197200  0.289966  0.004294  0.411819  0.000757\n",
       "YURKOV     0.096110  0.023826  0.778230  0.061813  0.020228\n",
       "ZSIVOCZKY  0.001574  0.576419  0.239754  0.001388  0.005465\n",
       "McMULLEN   0.002175  0.152195  0.110138  0.266487  0.389262"
      ]
     },
     "execution_count": 8,
     "metadata": {},
     "output_type": "execute_result"
    }
   ],
   "source": [
    "ind[\"cos2\"].head(6)"
   ]
  },
  {
   "cell_type": "markdown",
   "metadata": {},
   "source": [
    "#### Individuals contributions"
   ]
  },
  {
   "cell_type": "code",
   "execution_count": 9,
   "metadata": {},
   "outputs": [
    {
     "data": {
      "text/html": [
       "<div>\n",
       "<style scoped>\n",
       "    .dataframe tbody tr th:only-of-type {\n",
       "        vertical-align: middle;\n",
       "    }\n",
       "\n",
       "    .dataframe tbody tr th {\n",
       "        vertical-align: top;\n",
       "    }\n",
       "\n",
       "    .dataframe thead th {\n",
       "        text-align: right;\n",
       "    }\n",
       "</style>\n",
       "<table border=\"1\" class=\"dataframe\">\n",
       "  <thead>\n",
       "    <tr style=\"text-align: right;\">\n",
       "      <th></th>\n",
       "      <th>Dim.1</th>\n",
       "      <th>Dim.2</th>\n",
       "      <th>Dim.3</th>\n",
       "      <th>Dim.4</th>\n",
       "      <th>Dim.5</th>\n",
       "    </tr>\n",
       "  </thead>\n",
       "  <tbody>\n",
       "    <tr>\n",
       "      <th>SEBRLE</th>\n",
       "      <td>0.040294</td>\n",
       "      <td>5.971453</td>\n",
       "      <td>1.448392</td>\n",
       "      <td>0.037346</td>\n",
       "      <td>8.458941</td>\n",
       "    </tr>\n",
       "    <tr>\n",
       "      <th>CLAY</th>\n",
       "      <td>0.688057</td>\n",
       "      <td>14.483925</td>\n",
       "      <td>6.753738</td>\n",
       "      <td>8.944583</td>\n",
       "      <td>4.217944</td>\n",
       "    </tr>\n",
       "    <tr>\n",
       "      <th>BERNARD</th>\n",
       "      <td>1.947402</td>\n",
       "      <td>6.423411</td>\n",
       "      <td>0.141135</td>\n",
       "      <td>20.468194</td>\n",
       "      <td>0.043931</td>\n",
       "    </tr>\n",
       "    <tr>\n",
       "      <th>YURKOV</th>\n",
       "      <td>0.833084</td>\n",
       "      <td>0.463273</td>\n",
       "      <td>22.451740</td>\n",
       "      <td>2.696636</td>\n",
       "      <td>1.030753</td>\n",
       "    </tr>\n",
       "    <tr>\n",
       "      <th>ZSIVOCZKY</th>\n",
       "      <td>0.012324</td>\n",
       "      <td>10.121714</td>\n",
       "      <td>6.246432</td>\n",
       "      <td>0.054692</td>\n",
       "      <td>0.251510</td>\n",
       "    </tr>\n",
       "    <tr>\n",
       "      <th>McMULLEN</th>\n",
       "      <td>0.015491</td>\n",
       "      <td>2.431085</td>\n",
       "      <td>2.610279</td>\n",
       "      <td>9.550559</td>\n",
       "      <td>16.294933</td>\n",
       "    </tr>\n",
       "  </tbody>\n",
       "</table>\n",
       "</div>"
      ],
      "text/plain": [
       "              Dim.1      Dim.2      Dim.3      Dim.4      Dim.5\n",
       "SEBRLE     0.040294   5.971453   1.448392   0.037346   8.458941\n",
       "CLAY       0.688057  14.483925   6.753738   8.944583   4.217944\n",
       "BERNARD    1.947402   6.423411   0.141135  20.468194   0.043931\n",
       "YURKOV     0.833084   0.463273  22.451740   2.696636   1.030753\n",
       "ZSIVOCZKY  0.012324  10.121714   6.246432   0.054692   0.251510\n",
       "McMULLEN   0.015491   2.431085   2.610279   9.550559  16.294933"
      ]
     },
     "execution_count": 9,
     "metadata": {},
     "output_type": "execute_result"
    }
   ],
   "source": [
    "ind[\"contrib\"].head(6)"
   ]
  },
  {
   "cell_type": "markdown",
   "metadata": {},
   "source": [
    "#### Individuals dist2"
   ]
  },
  {
   "cell_type": "code",
   "execution_count": 10,
   "metadata": {},
   "outputs": [
    {
     "data": {
      "text/plain": [
       "name\n",
       "SEBRLE       2.252966\n",
       "CLAY         3.660804\n",
       "BERNARD      3.060617\n",
       "YURKOV       2.867445\n",
       "ZSIVOCZKY    2.724941\n",
       "McMULLEN     2.598958\n",
       "Name: dist, dtype: float64"
      ]
     },
     "execution_count": 10,
     "metadata": {},
     "output_type": "execute_result"
    }
   ],
   "source": [
    "ind[\"dist\"].head(6)"
   ]
  },
  {
   "cell_type": "markdown",
   "metadata": {},
   "source": [
    "#### Individuals additionnals informations"
   ]
  },
  {
   "cell_type": "code",
   "execution_count": 11,
   "metadata": {},
   "outputs": [
    {
     "data": {
      "text/html": [
       "<div>\n",
       "<style scoped>\n",
       "    .dataframe tbody tr th:only-of-type {\n",
       "        vertical-align: middle;\n",
       "    }\n",
       "\n",
       "    .dataframe tbody tr th {\n",
       "        vertical-align: top;\n",
       "    }\n",
       "\n",
       "    .dataframe thead th {\n",
       "        text-align: right;\n",
       "    }\n",
       "</style>\n",
       "<table border=\"1\" class=\"dataframe\">\n",
       "  <thead>\n",
       "    <tr style=\"text-align: right;\">\n",
       "      <th></th>\n",
       "      <th>dist</th>\n",
       "      <th>weight</th>\n",
       "      <th>inertia</th>\n",
       "    </tr>\n",
       "    <tr>\n",
       "      <th>name</th>\n",
       "      <th></th>\n",
       "      <th></th>\n",
       "      <th></th>\n",
       "    </tr>\n",
       "  </thead>\n",
       "  <tbody>\n",
       "    <tr>\n",
       "      <th>SEBRLE</th>\n",
       "      <td>2.252966</td>\n",
       "      <td>0.043478</td>\n",
       "      <td>0.220689</td>\n",
       "    </tr>\n",
       "    <tr>\n",
       "      <th>CLAY</th>\n",
       "      <td>3.660804</td>\n",
       "      <td>0.043478</td>\n",
       "      <td>0.582673</td>\n",
       "    </tr>\n",
       "    <tr>\n",
       "      <th>BERNARD</th>\n",
       "      <td>3.060617</td>\n",
       "      <td>0.043478</td>\n",
       "      <td>0.407277</td>\n",
       "    </tr>\n",
       "    <tr>\n",
       "      <th>YURKOV</th>\n",
       "      <td>2.867445</td>\n",
       "      <td>0.043478</td>\n",
       "      <td>0.357489</td>\n",
       "    </tr>\n",
       "    <tr>\n",
       "      <th>ZSIVOCZKY</th>\n",
       "      <td>2.724941</td>\n",
       "      <td>0.043478</td>\n",
       "      <td>0.322839</td>\n",
       "    </tr>\n",
       "    <tr>\n",
       "      <th>McMULLEN</th>\n",
       "      <td>2.598958</td>\n",
       "      <td>0.043478</td>\n",
       "      <td>0.293678</td>\n",
       "    </tr>\n",
       "  </tbody>\n",
       "</table>\n",
       "</div>"
      ],
      "text/plain": [
       "               dist    weight   inertia\n",
       "name                                   \n",
       "SEBRLE     2.252966  0.043478  0.220689\n",
       "CLAY       3.660804  0.043478  0.582673\n",
       "BERNARD    3.060617  0.043478  0.407277\n",
       "YURKOV     2.867445  0.043478  0.357489\n",
       "ZSIVOCZKY  2.724941  0.043478  0.322839\n",
       "McMULLEN   2.598958  0.043478  0.293678"
      ]
     },
     "execution_count": 11,
     "metadata": {},
     "output_type": "execute_result"
    }
   ],
   "source": [
    "ind[\"infos\"].head(6)"
   ]
  },
  {
   "cell_type": "markdown",
   "metadata": {},
   "source": [
    "### Variables"
   ]
  },
  {
   "cell_type": "code",
   "execution_count": 12,
   "metadata": {},
   "outputs": [
    {
     "data": {
      "text/plain": [
       "dict_keys(['coord', 'cor', 'cos2', 'contrib', 'weighted_corr', 'infos'])"
      ]
     },
     "execution_count": 12,
     "metadata": {},
     "output_type": "execute_result"
    }
   ],
   "source": [
    "var = res_pca1.var_\n",
    "var.keys()"
   ]
  },
  {
   "cell_type": "markdown",
   "metadata": {},
   "source": [
    "#### Variables coordinates"
   ]
  },
  {
   "cell_type": "code",
   "execution_count": 13,
   "metadata": {},
   "outputs": [
    {
     "data": {
      "text/html": [
       "<div>\n",
       "<style scoped>\n",
       "    .dataframe tbody tr th:only-of-type {\n",
       "        vertical-align: middle;\n",
       "    }\n",
       "\n",
       "    .dataframe tbody tr th {\n",
       "        vertical-align: top;\n",
       "    }\n",
       "\n",
       "    .dataframe thead th {\n",
       "        text-align: right;\n",
       "    }\n",
       "</style>\n",
       "<table border=\"1\" class=\"dataframe\">\n",
       "  <thead>\n",
       "    <tr style=\"text-align: right;\">\n",
       "      <th></th>\n",
       "      <th>Dim.1</th>\n",
       "      <th>Dim.2</th>\n",
       "      <th>Dim.3</th>\n",
       "      <th>Dim.4</th>\n",
       "      <th>Dim.5</th>\n",
       "    </tr>\n",
       "  </thead>\n",
       "  <tbody>\n",
       "    <tr>\n",
       "      <th>X100m</th>\n",
       "      <td>-0.850626</td>\n",
       "      <td>-0.179398</td>\n",
       "      <td>0.301556</td>\n",
       "      <td>0.033573</td>\n",
       "      <td>-0.194444</td>\n",
       "    </tr>\n",
       "    <tr>\n",
       "      <th>Long.jump</th>\n",
       "      <td>0.794181</td>\n",
       "      <td>0.280857</td>\n",
       "      <td>-0.190547</td>\n",
       "      <td>-0.115390</td>\n",
       "      <td>0.233157</td>\n",
       "    </tr>\n",
       "    <tr>\n",
       "      <th>Shot.put</th>\n",
       "      <td>0.733913</td>\n",
       "      <td>0.085404</td>\n",
       "      <td>0.517598</td>\n",
       "      <td>0.128468</td>\n",
       "      <td>-0.248813</td>\n",
       "    </tr>\n",
       "    <tr>\n",
       "      <th>High.jump</th>\n",
       "      <td>0.610084</td>\n",
       "      <td>-0.465214</td>\n",
       "      <td>0.330085</td>\n",
       "      <td>0.144550</td>\n",
       "      <td>0.402700</td>\n",
       "    </tr>\n",
       "    <tr>\n",
       "      <th>X400m</th>\n",
       "      <td>-0.701603</td>\n",
       "      <td>0.290178</td>\n",
       "      <td>0.283533</td>\n",
       "      <td>0.430826</td>\n",
       "      <td>0.103909</td>\n",
       "    </tr>\n",
       "    <tr>\n",
       "      <th>X110m.hurdle</th>\n",
       "      <td>-0.764125</td>\n",
       "      <td>-0.024741</td>\n",
       "      <td>0.448887</td>\n",
       "      <td>-0.016896</td>\n",
       "      <td>0.224220</td>\n",
       "    </tr>\n",
       "  </tbody>\n",
       "</table>\n",
       "</div>"
      ],
      "text/plain": [
       "                 Dim.1     Dim.2     Dim.3     Dim.4     Dim.5\n",
       "X100m        -0.850626 -0.179398  0.301556  0.033573 -0.194444\n",
       "Long.jump     0.794181  0.280857 -0.190547 -0.115390  0.233157\n",
       "Shot.put      0.733913  0.085404  0.517598  0.128468 -0.248813\n",
       "High.jump     0.610084 -0.465214  0.330085  0.144550  0.402700\n",
       "X400m        -0.701603  0.290178  0.283533  0.430826  0.103909\n",
       "X110m.hurdle -0.764125 -0.024741  0.448887 -0.016896  0.224220"
      ]
     },
     "execution_count": 13,
     "metadata": {},
     "output_type": "execute_result"
    }
   ],
   "source": [
    "var[\"coord\"].head(6)"
   ]
  },
  {
   "cell_type": "markdown",
   "metadata": {},
   "source": [
    "#### Variables Cos2"
   ]
  },
  {
   "cell_type": "code",
   "execution_count": 14,
   "metadata": {},
   "outputs": [
    {
     "data": {
      "text/html": [
       "<div>\n",
       "<style scoped>\n",
       "    .dataframe tbody tr th:only-of-type {\n",
       "        vertical-align: middle;\n",
       "    }\n",
       "\n",
       "    .dataframe tbody tr th {\n",
       "        vertical-align: top;\n",
       "    }\n",
       "\n",
       "    .dataframe thead th {\n",
       "        text-align: right;\n",
       "    }\n",
       "</style>\n",
       "<table border=\"1\" class=\"dataframe\">\n",
       "  <thead>\n",
       "    <tr style=\"text-align: right;\">\n",
       "      <th></th>\n",
       "      <th>Dim.1</th>\n",
       "      <th>Dim.2</th>\n",
       "      <th>Dim.3</th>\n",
       "      <th>Dim.4</th>\n",
       "      <th>Dim.5</th>\n",
       "    </tr>\n",
       "  </thead>\n",
       "  <tbody>\n",
       "    <tr>\n",
       "      <th>X100m</th>\n",
       "      <td>0.723564</td>\n",
       "      <td>0.032184</td>\n",
       "      <td>0.090936</td>\n",
       "      <td>0.001127</td>\n",
       "      <td>0.037808</td>\n",
       "    </tr>\n",
       "    <tr>\n",
       "      <th>Long.jump</th>\n",
       "      <td>0.630723</td>\n",
       "      <td>0.078881</td>\n",
       "      <td>0.036308</td>\n",
       "      <td>0.013315</td>\n",
       "      <td>0.054362</td>\n",
       "    </tr>\n",
       "    <tr>\n",
       "      <th>Shot.put</th>\n",
       "      <td>0.538628</td>\n",
       "      <td>0.007294</td>\n",
       "      <td>0.267907</td>\n",
       "      <td>0.016504</td>\n",
       "      <td>0.061908</td>\n",
       "    </tr>\n",
       "    <tr>\n",
       "      <th>High.jump</th>\n",
       "      <td>0.372202</td>\n",
       "      <td>0.216424</td>\n",
       "      <td>0.108956</td>\n",
       "      <td>0.020895</td>\n",
       "      <td>0.162167</td>\n",
       "    </tr>\n",
       "    <tr>\n",
       "      <th>X400m</th>\n",
       "      <td>0.492247</td>\n",
       "      <td>0.084203</td>\n",
       "      <td>0.080391</td>\n",
       "      <td>0.185611</td>\n",
       "      <td>0.010797</td>\n",
       "    </tr>\n",
       "    <tr>\n",
       "      <th>X110m.hurdle</th>\n",
       "      <td>0.583887</td>\n",
       "      <td>0.000612</td>\n",
       "      <td>0.201500</td>\n",
       "      <td>0.000285</td>\n",
       "      <td>0.050275</td>\n",
       "    </tr>\n",
       "  </tbody>\n",
       "</table>\n",
       "</div>"
      ],
      "text/plain": [
       "                 Dim.1     Dim.2     Dim.3     Dim.4     Dim.5\n",
       "X100m         0.723564  0.032184  0.090936  0.001127  0.037808\n",
       "Long.jump     0.630723  0.078881  0.036308  0.013315  0.054362\n",
       "Shot.put      0.538628  0.007294  0.267907  0.016504  0.061908\n",
       "High.jump     0.372202  0.216424  0.108956  0.020895  0.162167\n",
       "X400m         0.492247  0.084203  0.080391  0.185611  0.010797\n",
       "X110m.hurdle  0.583887  0.000612  0.201500  0.000285  0.050275"
      ]
     },
     "execution_count": 14,
     "metadata": {},
     "output_type": "execute_result"
    }
   ],
   "source": [
    "var[\"cos2\"].head(6)"
   ]
  },
  {
   "cell_type": "markdown",
   "metadata": {},
   "source": [
    "#### Variables contributions"
   ]
  },
  {
   "cell_type": "code",
   "execution_count": 15,
   "metadata": {},
   "outputs": [
    {
     "data": {
      "text/html": [
       "<div>\n",
       "<style scoped>\n",
       "    .dataframe tbody tr th:only-of-type {\n",
       "        vertical-align: middle;\n",
       "    }\n",
       "\n",
       "    .dataframe tbody tr th {\n",
       "        vertical-align: top;\n",
       "    }\n",
       "\n",
       "    .dataframe thead th {\n",
       "        text-align: right;\n",
       "    }\n",
       "</style>\n",
       "<table border=\"1\" class=\"dataframe\">\n",
       "  <thead>\n",
       "    <tr style=\"text-align: right;\">\n",
       "      <th></th>\n",
       "      <th>Dim.1</th>\n",
       "      <th>Dim.2</th>\n",
       "      <th>Dim.3</th>\n",
       "      <th>Dim.4</th>\n",
       "      <th>Dim.5</th>\n",
       "    </tr>\n",
       "  </thead>\n",
       "  <tbody>\n",
       "    <tr>\n",
       "      <th>X100m</th>\n",
       "      <td>17.544293</td>\n",
       "      <td>1.750510</td>\n",
       "      <td>7.338659</td>\n",
       "      <td>0.137552</td>\n",
       "      <td>5.389252</td>\n",
       "    </tr>\n",
       "    <tr>\n",
       "      <th>Long.jump</th>\n",
       "      <td>15.293168</td>\n",
       "      <td>4.290416</td>\n",
       "      <td>2.930094</td>\n",
       "      <td>1.624859</td>\n",
       "      <td>7.748815</td>\n",
       "    </tr>\n",
       "    <tr>\n",
       "      <th>Shot.put</th>\n",
       "      <td>13.060137</td>\n",
       "      <td>0.396722</td>\n",
       "      <td>21.620432</td>\n",
       "      <td>2.014073</td>\n",
       "      <td>8.824401</td>\n",
       "    </tr>\n",
       "    <tr>\n",
       "      <th>High.jump</th>\n",
       "      <td>9.024811</td>\n",
       "      <td>11.771584</td>\n",
       "      <td>8.792888</td>\n",
       "      <td>2.549880</td>\n",
       "      <td>23.115504</td>\n",
       "    </tr>\n",
       "    <tr>\n",
       "      <th>X400m</th>\n",
       "      <td>11.935544</td>\n",
       "      <td>4.579930</td>\n",
       "      <td>6.487636</td>\n",
       "      <td>22.650906</td>\n",
       "      <td>1.539012</td>\n",
       "    </tr>\n",
       "    <tr>\n",
       "      <th>X110m.hurdle</th>\n",
       "      <td>14.157544</td>\n",
       "      <td>0.033293</td>\n",
       "      <td>16.261261</td>\n",
       "      <td>0.034837</td>\n",
       "      <td>7.166193</td>\n",
       "    </tr>\n",
       "  </tbody>\n",
       "</table>\n",
       "</div>"
      ],
      "text/plain": [
       "                  Dim.1      Dim.2      Dim.3      Dim.4      Dim.5\n",
       "X100m         17.544293   1.750510   7.338659   0.137552   5.389252\n",
       "Long.jump     15.293168   4.290416   2.930094   1.624859   7.748815\n",
       "Shot.put      13.060137   0.396722  21.620432   2.014073   8.824401\n",
       "High.jump      9.024811  11.771584   8.792888   2.549880  23.115504\n",
       "X400m         11.935544   4.579930   6.487636  22.650906   1.539012\n",
       "X110m.hurdle  14.157544   0.033293  16.261261   0.034837   7.166193"
      ]
     },
     "execution_count": 15,
     "metadata": {},
     "output_type": "execute_result"
    }
   ],
   "source": [
    "var[\"contrib\"].head(6)"
   ]
  },
  {
   "cell_type": "markdown",
   "metadata": {},
   "source": [
    "#### Variables correlations with factors"
   ]
  },
  {
   "cell_type": "code",
   "execution_count": 16,
   "metadata": {},
   "outputs": [
    {
     "data": {
      "text/html": [
       "<div>\n",
       "<style scoped>\n",
       "    .dataframe tbody tr th:only-of-type {\n",
       "        vertical-align: middle;\n",
       "    }\n",
       "\n",
       "    .dataframe tbody tr th {\n",
       "        vertical-align: top;\n",
       "    }\n",
       "\n",
       "    .dataframe thead th {\n",
       "        text-align: right;\n",
       "    }\n",
       "</style>\n",
       "<table border=\"1\" class=\"dataframe\">\n",
       "  <thead>\n",
       "    <tr style=\"text-align: right;\">\n",
       "      <th></th>\n",
       "      <th>Dim.1</th>\n",
       "      <th>Dim.2</th>\n",
       "      <th>Dim.3</th>\n",
       "      <th>Dim.4</th>\n",
       "      <th>Dim.5</th>\n",
       "    </tr>\n",
       "  </thead>\n",
       "  <tbody>\n",
       "    <tr>\n",
       "      <th>X100m</th>\n",
       "      <td>-0.850626</td>\n",
       "      <td>-0.179398</td>\n",
       "      <td>0.301556</td>\n",
       "      <td>0.033573</td>\n",
       "      <td>-0.194444</td>\n",
       "    </tr>\n",
       "    <tr>\n",
       "      <th>Long.jump</th>\n",
       "      <td>0.794181</td>\n",
       "      <td>0.280857</td>\n",
       "      <td>-0.190547</td>\n",
       "      <td>-0.115390</td>\n",
       "      <td>0.233157</td>\n",
       "    </tr>\n",
       "    <tr>\n",
       "      <th>Shot.put</th>\n",
       "      <td>0.733913</td>\n",
       "      <td>0.085404</td>\n",
       "      <td>0.517598</td>\n",
       "      <td>0.128468</td>\n",
       "      <td>-0.248813</td>\n",
       "    </tr>\n",
       "    <tr>\n",
       "      <th>High.jump</th>\n",
       "      <td>0.610084</td>\n",
       "      <td>-0.465214</td>\n",
       "      <td>0.330085</td>\n",
       "      <td>0.144550</td>\n",
       "      <td>0.402700</td>\n",
       "    </tr>\n",
       "    <tr>\n",
       "      <th>X400m</th>\n",
       "      <td>-0.701603</td>\n",
       "      <td>0.290178</td>\n",
       "      <td>0.283533</td>\n",
       "      <td>0.430826</td>\n",
       "      <td>0.103909</td>\n",
       "    </tr>\n",
       "    <tr>\n",
       "      <th>X110m.hurdle</th>\n",
       "      <td>-0.764125</td>\n",
       "      <td>-0.024741</td>\n",
       "      <td>0.448887</td>\n",
       "      <td>-0.016896</td>\n",
       "      <td>0.224220</td>\n",
       "    </tr>\n",
       "  </tbody>\n",
       "</table>\n",
       "</div>"
      ],
      "text/plain": [
       "                 Dim.1     Dim.2     Dim.3     Dim.4     Dim.5\n",
       "X100m        -0.850626 -0.179398  0.301556  0.033573 -0.194444\n",
       "Long.jump     0.794181  0.280857 -0.190547 -0.115390  0.233157\n",
       "Shot.put      0.733913  0.085404  0.517598  0.128468 -0.248813\n",
       "High.jump     0.610084 -0.465214  0.330085  0.144550  0.402700\n",
       "X400m        -0.701603  0.290178  0.283533  0.430826  0.103909\n",
       "X110m.hurdle -0.764125 -0.024741  0.448887 -0.016896  0.224220"
      ]
     },
     "execution_count": 16,
     "metadata": {},
     "output_type": "execute_result"
    }
   ],
   "source": [
    "var[\"cor\"].head(6)"
   ]
  },
  {
   "cell_type": "markdown",
   "metadata": {},
   "source": [
    "#### Weighted pearson correlation"
   ]
  },
  {
   "cell_type": "code",
   "execution_count": 17,
   "metadata": {},
   "outputs": [
    {
     "data": {
      "text/html": [
       "<div>\n",
       "<style scoped>\n",
       "    .dataframe tbody tr th:only-of-type {\n",
       "        vertical-align: middle;\n",
       "    }\n",
       "\n",
       "    .dataframe tbody tr th {\n",
       "        vertical-align: top;\n",
       "    }\n",
       "\n",
       "    .dataframe thead th {\n",
       "        text-align: right;\n",
       "    }\n",
       "</style>\n",
       "<table border=\"1\" class=\"dataframe\">\n",
       "  <thead>\n",
       "    <tr style=\"text-align: right;\">\n",
       "      <th></th>\n",
       "      <th>X100m</th>\n",
       "      <th>Long.jump</th>\n",
       "      <th>Shot.put</th>\n",
       "      <th>High.jump</th>\n",
       "      <th>X400m</th>\n",
       "      <th>X110m.hurdle</th>\n",
       "      <th>Discus</th>\n",
       "      <th>Pole.vault</th>\n",
       "      <th>Javeline</th>\n",
       "      <th>X1500m</th>\n",
       "    </tr>\n",
       "  </thead>\n",
       "  <tbody>\n",
       "    <tr>\n",
       "      <th>X100m</th>\n",
       "      <td>1.000000</td>\n",
       "      <td>-0.761136</td>\n",
       "      <td>-0.445782</td>\n",
       "      <td>-0.402832</td>\n",
       "      <td>0.594669</td>\n",
       "      <td>0.730672</td>\n",
       "      <td>-0.482742</td>\n",
       "      <td>0.087680</td>\n",
       "      <td>-0.293786</td>\n",
       "      <td>-0.221632</td>\n",
       "    </tr>\n",
       "    <tr>\n",
       "      <th>Long.jump</th>\n",
       "      <td>-0.761136</td>\n",
       "      <td>1.000000</td>\n",
       "      <td>0.439314</td>\n",
       "      <td>0.341704</td>\n",
       "      <td>-0.510151</td>\n",
       "      <td>-0.593577</td>\n",
       "      <td>0.455022</td>\n",
       "      <td>0.020554</td>\n",
       "      <td>0.365966</td>\n",
       "      <td>0.220860</td>\n",
       "    </tr>\n",
       "    <tr>\n",
       "      <th>Shot.put</th>\n",
       "      <td>-0.445782</td>\n",
       "      <td>0.439314</td>\n",
       "      <td>1.000000</td>\n",
       "      <td>0.532871</td>\n",
       "      <td>-0.314086</td>\n",
       "      <td>-0.381375</td>\n",
       "      <td>0.709329</td>\n",
       "      <td>0.018156</td>\n",
       "      <td>0.478482</td>\n",
       "      <td>-0.046872</td>\n",
       "    </tr>\n",
       "    <tr>\n",
       "      <th>High.jump</th>\n",
       "      <td>-0.402832</td>\n",
       "      <td>0.341704</td>\n",
       "      <td>0.532871</td>\n",
       "      <td>1.000000</td>\n",
       "      <td>-0.367598</td>\n",
       "      <td>-0.246574</td>\n",
       "      <td>0.338967</td>\n",
       "      <td>-0.498502</td>\n",
       "      <td>0.222953</td>\n",
       "      <td>-0.259632</td>\n",
       "    </tr>\n",
       "    <tr>\n",
       "      <th>X400m</th>\n",
       "      <td>0.594669</td>\n",
       "      <td>-0.510151</td>\n",
       "      <td>-0.314086</td>\n",
       "      <td>-0.367598</td>\n",
       "      <td>1.000000</td>\n",
       "      <td>0.581991</td>\n",
       "      <td>-0.363603</td>\n",
       "      <td>0.252382</td>\n",
       "      <td>-0.134648</td>\n",
       "      <td>0.292877</td>\n",
       "    </tr>\n",
       "    <tr>\n",
       "      <th>X110m.hurdle</th>\n",
       "      <td>0.730672</td>\n",
       "      <td>-0.593577</td>\n",
       "      <td>-0.381375</td>\n",
       "      <td>-0.246574</td>\n",
       "      <td>0.581991</td>\n",
       "      <td>1.000000</td>\n",
       "      <td>-0.529572</td>\n",
       "      <td>0.144971</td>\n",
       "      <td>-0.071029</td>\n",
       "      <td>-0.047557</td>\n",
       "    </tr>\n",
       "    <tr>\n",
       "      <th>Discus</th>\n",
       "      <td>-0.482742</td>\n",
       "      <td>0.455022</td>\n",
       "      <td>0.709329</td>\n",
       "      <td>0.338967</td>\n",
       "      <td>-0.363603</td>\n",
       "      <td>-0.529572</td>\n",
       "      <td>1.000000</td>\n",
       "      <td>-0.189673</td>\n",
       "      <td>0.283150</td>\n",
       "      <td>0.077233</td>\n",
       "    </tr>\n",
       "    <tr>\n",
       "      <th>Pole.vault</th>\n",
       "      <td>0.087680</td>\n",
       "      <td>0.020554</td>\n",
       "      <td>0.018156</td>\n",
       "      <td>-0.498502</td>\n",
       "      <td>0.252382</td>\n",
       "      <td>0.144971</td>\n",
       "      <td>-0.189673</td>\n",
       "      <td>1.000000</td>\n",
       "      <td>0.227496</td>\n",
       "      <td>0.389431</td>\n",
       "    </tr>\n",
       "    <tr>\n",
       "      <th>Javeline</th>\n",
       "      <td>-0.293786</td>\n",
       "      <td>0.365966</td>\n",
       "      <td>0.478482</td>\n",
       "      <td>0.222953</td>\n",
       "      <td>-0.134648</td>\n",
       "      <td>-0.071029</td>\n",
       "      <td>0.283150</td>\n",
       "      <td>0.227496</td>\n",
       "      <td>1.000000</td>\n",
       "      <td>0.090116</td>\n",
       "    </tr>\n",
       "    <tr>\n",
       "      <th>X1500m</th>\n",
       "      <td>-0.221632</td>\n",
       "      <td>0.220860</td>\n",
       "      <td>-0.046872</td>\n",
       "      <td>-0.259632</td>\n",
       "      <td>0.292877</td>\n",
       "      <td>-0.047557</td>\n",
       "      <td>0.077233</td>\n",
       "      <td>0.389431</td>\n",
       "      <td>0.090116</td>\n",
       "      <td>1.000000</td>\n",
       "    </tr>\n",
       "  </tbody>\n",
       "</table>\n",
       "</div>"
      ],
      "text/plain": [
       "                 X100m  Long.jump  Shot.put  High.jump     X400m  \\\n",
       "X100m         1.000000  -0.761136 -0.445782  -0.402832  0.594669   \n",
       "Long.jump    -0.761136   1.000000  0.439314   0.341704 -0.510151   \n",
       "Shot.put     -0.445782   0.439314  1.000000   0.532871 -0.314086   \n",
       "High.jump    -0.402832   0.341704  0.532871   1.000000 -0.367598   \n",
       "X400m         0.594669  -0.510151 -0.314086  -0.367598  1.000000   \n",
       "X110m.hurdle  0.730672  -0.593577 -0.381375  -0.246574  0.581991   \n",
       "Discus       -0.482742   0.455022  0.709329   0.338967 -0.363603   \n",
       "Pole.vault    0.087680   0.020554  0.018156  -0.498502  0.252382   \n",
       "Javeline     -0.293786   0.365966  0.478482   0.222953 -0.134648   \n",
       "X1500m       -0.221632   0.220860 -0.046872  -0.259632  0.292877   \n",
       "\n",
       "              X110m.hurdle    Discus  Pole.vault  Javeline    X1500m  \n",
       "X100m             0.730672 -0.482742    0.087680 -0.293786 -0.221632  \n",
       "Long.jump        -0.593577  0.455022    0.020554  0.365966  0.220860  \n",
       "Shot.put         -0.381375  0.709329    0.018156  0.478482 -0.046872  \n",
       "High.jump        -0.246574  0.338967   -0.498502  0.222953 -0.259632  \n",
       "X400m             0.581991 -0.363603    0.252382 -0.134648  0.292877  \n",
       "X110m.hurdle      1.000000 -0.529572    0.144971 -0.071029 -0.047557  \n",
       "Discus           -0.529572  1.000000   -0.189673  0.283150  0.077233  \n",
       "Pole.vault        0.144971 -0.189673    1.000000  0.227496  0.389431  \n",
       "Javeline         -0.071029  0.283150    0.227496  1.000000  0.090116  \n",
       "X1500m           -0.047557  0.077233    0.389431  0.090116  1.000000  "
      ]
     },
     "execution_count": 17,
     "metadata": {},
     "output_type": "execute_result"
    }
   ],
   "source": [
    "var[\"weighted_corr\"]"
   ]
  },
  {
   "cell_type": "markdown",
   "metadata": {},
   "source": [
    "#### Variables additionals informations"
   ]
  },
  {
   "cell_type": "code",
   "execution_count": 18,
   "metadata": {},
   "outputs": [
    {
     "data": {
      "text/html": [
       "<div>\n",
       "<style scoped>\n",
       "    .dataframe tbody tr th:only-of-type {\n",
       "        vertical-align: middle;\n",
       "    }\n",
       "\n",
       "    .dataframe tbody tr th {\n",
       "        vertical-align: top;\n",
       "    }\n",
       "\n",
       "    .dataframe thead th {\n",
       "        text-align: right;\n",
       "    }\n",
       "</style>\n",
       "<table border=\"1\" class=\"dataframe\">\n",
       "  <thead>\n",
       "    <tr style=\"text-align: right;\">\n",
       "      <th></th>\n",
       "      <th>dist</th>\n",
       "      <th>weight</th>\n",
       "      <th>inertia</th>\n",
       "    </tr>\n",
       "  </thead>\n",
       "  <tbody>\n",
       "    <tr>\n",
       "      <th>X100m</th>\n",
       "      <td>1.0</td>\n",
       "      <td>1.0</td>\n",
       "      <td>1.0</td>\n",
       "    </tr>\n",
       "    <tr>\n",
       "      <th>Long.jump</th>\n",
       "      <td>1.0</td>\n",
       "      <td>1.0</td>\n",
       "      <td>1.0</td>\n",
       "    </tr>\n",
       "    <tr>\n",
       "      <th>Shot.put</th>\n",
       "      <td>1.0</td>\n",
       "      <td>1.0</td>\n",
       "      <td>1.0</td>\n",
       "    </tr>\n",
       "    <tr>\n",
       "      <th>High.jump</th>\n",
       "      <td>1.0</td>\n",
       "      <td>1.0</td>\n",
       "      <td>1.0</td>\n",
       "    </tr>\n",
       "    <tr>\n",
       "      <th>X400m</th>\n",
       "      <td>1.0</td>\n",
       "      <td>1.0</td>\n",
       "      <td>1.0</td>\n",
       "    </tr>\n",
       "    <tr>\n",
       "      <th>X110m.hurdle</th>\n",
       "      <td>1.0</td>\n",
       "      <td>1.0</td>\n",
       "      <td>1.0</td>\n",
       "    </tr>\n",
       "  </tbody>\n",
       "</table>\n",
       "</div>"
      ],
      "text/plain": [
       "              dist  weight  inertia\n",
       "X100m          1.0     1.0      1.0\n",
       "Long.jump      1.0     1.0      1.0\n",
       "Shot.put       1.0     1.0      1.0\n",
       "High.jump      1.0     1.0      1.0\n",
       "X400m          1.0     1.0      1.0\n",
       "X110m.hurdle   1.0     1.0      1.0"
      ]
     },
     "execution_count": 18,
     "metadata": {},
     "output_type": "execute_result"
    }
   ],
   "source": [
    "var[\"infos\"].head(6)"
   ]
  },
  {
   "cell_type": "markdown",
   "metadata": {},
   "source": [
    "### Singular values decomposition"
   ]
  },
  {
   "cell_type": "code",
   "execution_count": 19,
   "metadata": {},
   "outputs": [
    {
     "data": {
      "text/plain": [
       "dict_keys(['vs', 'U', 'V'])"
      ]
     },
     "execution_count": 19,
     "metadata": {},
     "output_type": "execute_result"
    }
   ],
   "source": [
    "svd = res_pca1.svd_\n",
    "svd.keys()"
   ]
  },
  {
   "cell_type": "code",
   "execution_count": 20,
   "metadata": {},
   "outputs": [
    {
     "data": {
      "text/plain": [
       "array([2.03081593, 1.35592437, 1.11316678, 0.90522936, 0.8375875 ,\n",
       "       0.65029442, 0.55007423, 0.52389883, 0.39397582, 0.34924353])"
      ]
     },
     "execution_count": 20,
     "metadata": {},
     "output_type": "execute_result"
    }
   ],
   "source": [
    "svd[\"vs\"]"
   ]
  },
  {
   "cell_type": "code",
   "execution_count": 21,
   "metadata": {},
   "outputs": [
    {
     "data": {
      "text/plain": [
       "array([[ 9.6300e-02,  1.1719e+00,  5.7720e-01,  9.2700e-02,  1.3948e+00],\n",
       "       [ 3.9780e-01,  1.8252e+00, -1.2463e+00,  1.4343e+00, -9.8500e-01],\n",
       "       [-6.6930e-01,  1.2155e+00,  1.8020e-01, -2.1697e+00,  1.0050e-01],\n",
       "       [-4.3770e-01, -3.2640e-01,  2.2724e+00,  7.8750e-01,  4.8690e-01],\n",
       "       [-5.3200e-02, -1.5258e+00, -1.1986e+00, -1.1220e-01, -2.4050e-01],\n",
       "       [ 5.9700e-02, -7.4780e-01, -7.7480e-01,  1.4821e+00,  1.9359e+00],\n",
       "       [-1.2045e+00, -9.6890e-01,  8.2500e-01,  4.2140e-01, -2.7385e+00],\n",
       "       [-9.5210e-01,  8.8870e-01,  1.4370e-01,  1.0067e+00, -1.5470e-01],\n",
       "       [-8.9340e-01, -3.1110e-01, -6.0460e-01,  2.5840e-01, -2.8550e-01],\n",
       "       [-1.3982e+00, -1.1859e+00, -5.5780e-01, -1.7569e+00,  1.7386e+00],\n",
       "       [-2.2222e+00,  9.5280e-01,  9.2000e-03,  7.5310e-01,  5.1170e-01],\n",
       "       [ 1.7377e+00,  9.1770e-01,  1.5414e+00, -9.1350e-01, -3.0600e-02],\n",
       "       [ 1.6697e+00,  1.2241e+00,  5.6800e-01, -3.5780e-01,  6.9480e-01],\n",
       "       [ 2.0493e+00, -6.0200e-01, -9.3230e-01,  3.5400e-01, -9.7340e-01],\n",
       "       [ 9.3070e-01, -1.5563e+00,  8.9950e-01,  6.6040e-01, -3.0000e-04],\n",
       "       [ 6.9850e-01,  2.1260e-01, -1.8368e+00, -1.1517e+00, -4.9500e-02],\n",
       "       [ 2.3740e-01, -6.9880e-01,  1.5874e+00, -2.0880e-01,  4.9720e-01],\n",
       "       [ 1.3910e-01, -8.7910e-01, -1.5670e-01, -9.5860e-01, -8.4170e-01],\n",
       "       [ 6.8840e-01, -1.1146e+00, -7.6360e-01,  8.4180e-01,  1.0496e+00],\n",
       "       [-3.5760e-01,  4.9650e-01, -9.5600e-01, -1.0473e+00, -3.5250e-01],\n",
       "       [-1.0790e-01,  6.4930e-01, -2.7340e-01,  1.5312e+00, -1.8400e-02],\n",
       "       [-2.4940e-01,  9.8030e-01, -9.4600e-02, -2.8160e-01, -7.8770e-01],\n",
       "       [-1.5900e-01, -6.1790e-01,  7.9150e-01, -6.6570e-01, -9.5190e-01]])"
      ]
     },
     "execution_count": 21,
     "metadata": {},
     "output_type": "execute_result"
    }
   ],
   "source": [
    "svd[\"U\"].round(4)"
   ]
  },
  {
   "cell_type": "code",
   "execution_count": 22,
   "metadata": {},
   "outputs": [
    {
     "data": {
      "text/plain": [
       "array([[-0.41885908, -0.13230683,  0.27089959,  0.03708806, -0.23214763],\n",
       "       [ 0.39106481,  0.2071332 , -0.17117519, -0.12746997,  0.27836694],\n",
       "       [ 0.36138811,  0.0629859 ,  0.46497777,  0.14191803, -0.29705893],\n",
       "       [ 0.30041324, -0.34309742,  0.29652805,  0.15968342,  0.48078585],\n",
       "       [-0.34547857,  0.2140077 ,  0.25470839,  0.47592968,  0.12405692],\n",
       "       [-0.37626512, -0.01824645,  0.40325254, -0.01866477,  0.26769746],\n",
       "       [ 0.36596572,  0.0366251 ,  0.15857927,  0.43636361, -0.48739877],\n",
       "       [-0.10698559,  0.59549862,  0.08449563, -0.37447391, -0.2646712 ],\n",
       "       [ 0.21086433,  0.28475723,  0.54270782, -0.36646463,  0.23616976],\n",
       "       [ 0.00210678,  0.57855748, -0.19715884,  0.49491281,  0.3142987 ]])"
      ]
     },
     "execution_count": 22,
     "metadata": {},
     "output_type": "execute_result"
    }
   ],
   "source": [
    "svd[\"V\"]"
   ]
  },
  {
   "cell_type": "markdown",
   "metadata": {},
   "source": [
    "### Others informations"
   ]
  },
  {
   "cell_type": "code",
   "execution_count": 23,
   "metadata": {},
   "outputs": [
    {
     "data": {
      "text/plain": [
       "dict_keys(['Xtot', 'X', 'Z', 'var_weights', 'ind_weights', 'means', 'std', 'n_components', 'standardize'])"
      ]
     },
     "execution_count": 23,
     "metadata": {},
     "output_type": "execute_result"
    }
   ],
   "source": [
    "call = res_pca1.call_\n",
    "call.keys()"
   ]
  },
  {
   "cell_type": "code",
   "execution_count": 24,
   "metadata": {},
   "outputs": [
    {
     "data": {
      "text/plain": [
       "X100m           1.0\n",
       "Long.jump       1.0\n",
       "Shot.put        1.0\n",
       "High.jump       1.0\n",
       "X400m           1.0\n",
       "X110m.hurdle    1.0\n",
       "Discus          1.0\n",
       "Pole.vault      1.0\n",
       "Javeline        1.0\n",
       "X1500m          1.0\n",
       "Name: weight, dtype: float64"
      ]
     },
     "execution_count": 24,
     "metadata": {},
     "output_type": "execute_result"
    }
   ],
   "source": [
    "call[\"var_weights\"]"
   ]
  },
  {
   "cell_type": "markdown",
   "metadata": {},
   "source": [
    "## With supplementary individuals"
   ]
  },
  {
   "cell_type": "code",
   "execution_count": 25,
   "metadata": {},
   "outputs": [
    {
     "data": {
      "text/html": [
       "<style>#sk-container-id-2 {color: black;background-color: white;}#sk-container-id-2 pre{padding: 0;}#sk-container-id-2 div.sk-toggleable {background-color: white;}#sk-container-id-2 label.sk-toggleable__label {cursor: pointer;display: block;width: 100%;margin-bottom: 0;padding: 0.3em;box-sizing: border-box;text-align: center;}#sk-container-id-2 label.sk-toggleable__label-arrow:before {content: \"▸\";float: left;margin-right: 0.25em;color: #696969;}#sk-container-id-2 label.sk-toggleable__label-arrow:hover:before {color: black;}#sk-container-id-2 div.sk-estimator:hover label.sk-toggleable__label-arrow:before {color: black;}#sk-container-id-2 div.sk-toggleable__content {max-height: 0;max-width: 0;overflow: hidden;text-align: left;background-color: #f0f8ff;}#sk-container-id-2 div.sk-toggleable__content pre {margin: 0.2em;color: black;border-radius: 0.25em;background-color: #f0f8ff;}#sk-container-id-2 input.sk-toggleable__control:checked~div.sk-toggleable__content {max-height: 200px;max-width: 100%;overflow: auto;}#sk-container-id-2 input.sk-toggleable__control:checked~label.sk-toggleable__label-arrow:before {content: \"▾\";}#sk-container-id-2 div.sk-estimator input.sk-toggleable__control:checked~label.sk-toggleable__label {background-color: #d4ebff;}#sk-container-id-2 div.sk-label input.sk-toggleable__control:checked~label.sk-toggleable__label {background-color: #d4ebff;}#sk-container-id-2 input.sk-hidden--visually {border: 0;clip: rect(1px 1px 1px 1px);clip: rect(1px, 1px, 1px, 1px);height: 1px;margin: -1px;overflow: hidden;padding: 0;position: absolute;width: 1px;}#sk-container-id-2 div.sk-estimator {font-family: monospace;background-color: #f0f8ff;border: 1px dotted black;border-radius: 0.25em;box-sizing: border-box;margin-bottom: 0.5em;}#sk-container-id-2 div.sk-estimator:hover {background-color: #d4ebff;}#sk-container-id-2 div.sk-parallel-item::after {content: \"\";width: 100%;border-bottom: 1px solid gray;flex-grow: 1;}#sk-container-id-2 div.sk-label:hover label.sk-toggleable__label {background-color: #d4ebff;}#sk-container-id-2 div.sk-serial::before {content: \"\";position: absolute;border-left: 1px solid gray;box-sizing: border-box;top: 0;bottom: 0;left: 50%;z-index: 0;}#sk-container-id-2 div.sk-serial {display: flex;flex-direction: column;align-items: center;background-color: white;padding-right: 0.2em;padding-left: 0.2em;position: relative;}#sk-container-id-2 div.sk-item {position: relative;z-index: 1;}#sk-container-id-2 div.sk-parallel {display: flex;align-items: stretch;justify-content: center;background-color: white;position: relative;}#sk-container-id-2 div.sk-item::before, #sk-container-id-2 div.sk-parallel-item::before {content: \"\";position: absolute;border-left: 1px solid gray;box-sizing: border-box;top: 0;bottom: 0;left: 50%;z-index: -1;}#sk-container-id-2 div.sk-parallel-item {display: flex;flex-direction: column;z-index: 1;position: relative;background-color: white;}#sk-container-id-2 div.sk-parallel-item:first-child::after {align-self: flex-end;width: 50%;}#sk-container-id-2 div.sk-parallel-item:last-child::after {align-self: flex-start;width: 50%;}#sk-container-id-2 div.sk-parallel-item:only-child::after {width: 0;}#sk-container-id-2 div.sk-dashed-wrapped {border: 1px dashed gray;margin: 0 0.4em 0.5em 0.4em;box-sizing: border-box;padding-bottom: 0.4em;background-color: white;}#sk-container-id-2 div.sk-label label {font-family: monospace;font-weight: bold;display: inline-block;line-height: 1.2em;}#sk-container-id-2 div.sk-label-container {text-align: center;}#sk-container-id-2 div.sk-container {/* jupyter's `normalize.less` sets `[hidden] { display: none; }` but bootstrap.min.css set `[hidden] { display: none !important; }` so we also need the `!important` here to be able to override the default hidden behavior on the sphinx rendered scikit-learn.org. See: https://github.com/scikit-learn/scikit-learn/issues/21755 */display: inline-block !important;position: relative;}#sk-container-id-2 div.sk-text-repr-fallback {display: none;}</style><div id=\"sk-container-id-2\" class=\"sk-top-container\"><div class=\"sk-text-repr-fallback\"><pre>PCA(ind_sup=[23, 24, 25, 26], parallelize=True)</pre><b>In a Jupyter environment, please rerun this cell to show the HTML representation or trust the notebook. <br />On GitHub, the HTML representation is unable to render, please try loading this page with nbviewer.org.</b></div><div class=\"sk-container\" hidden><div class=\"sk-item\"><div class=\"sk-estimator sk-toggleable\"><input class=\"sk-toggleable__control sk-hidden--visually\" id=\"sk-estimator-id-2\" type=\"checkbox\" checked><label for=\"sk-estimator-id-2\" class=\"sk-toggleable__label sk-toggleable__label-arrow\">PCA</label><div class=\"sk-toggleable__content\"><pre>PCA(ind_sup=[23, 24, 25, 26], parallelize=True)</pre></div></div></div></div></div>"
      ],
      "text/plain": [
       "PCA(ind_sup=[23, 24, 25, 26], parallelize=True)"
      ]
     },
     "execution_count": 25,
     "metadata": {},
     "output_type": "execute_result"
    }
   ],
   "source": [
    "X2 = X.iloc[:,:10]\n",
    "res_pca2 = PCA(standardize=True,ind_sup=list(range(23,X2.shape[0])),quanti_sup=None,quali_sup=None,parallelize=True)\n",
    "res_pca2.fit(X2)"
   ]
  },
  {
   "cell_type": "markdown",
   "metadata": {},
   "source": [
    "### Supplementary individuals informations"
   ]
  },
  {
   "cell_type": "code",
   "execution_count": 26,
   "metadata": {},
   "outputs": [
    {
     "data": {
      "text/plain": [
       "dict_keys(['coord', 'cos2', 'dist'])"
      ]
     },
     "execution_count": 26,
     "metadata": {},
     "output_type": "execute_result"
    }
   ],
   "source": [
    "ind_sup = res_pca2.ind_sup_\n",
    "ind_sup.keys()"
   ]
  },
  {
   "cell_type": "markdown",
   "metadata": {},
   "source": [
    "#### Supplementary individuals coordinates"
   ]
  },
  {
   "cell_type": "code",
   "execution_count": 27,
   "metadata": {},
   "outputs": [
    {
     "data": {
      "text/html": [
       "<div>\n",
       "<style scoped>\n",
       "    .dataframe tbody tr th:only-of-type {\n",
       "        vertical-align: middle;\n",
       "    }\n",
       "\n",
       "    .dataframe tbody tr th {\n",
       "        vertical-align: top;\n",
       "    }\n",
       "\n",
       "    .dataframe thead th {\n",
       "        text-align: right;\n",
       "    }\n",
       "</style>\n",
       "<table border=\"1\" class=\"dataframe\">\n",
       "  <thead>\n",
       "    <tr style=\"text-align: right;\">\n",
       "      <th></th>\n",
       "      <th>Dim.1</th>\n",
       "      <th>Dim.2</th>\n",
       "      <th>Dim.3</th>\n",
       "      <th>Dim.4</th>\n",
       "      <th>Dim.5</th>\n",
       "    </tr>\n",
       "  </thead>\n",
       "  <tbody>\n",
       "    <tr>\n",
       "      <th>KARPOV</th>\n",
       "      <td>0.794721</td>\n",
       "      <td>0.779512</td>\n",
       "      <td>-1.633020</td>\n",
       "      <td>1.724228</td>\n",
       "      <td>-0.750704</td>\n",
       "    </tr>\n",
       "    <tr>\n",
       "      <th>WARNERS</th>\n",
       "      <td>-0.386464</td>\n",
       "      <td>-0.121592</td>\n",
       "      <td>-1.738733</td>\n",
       "      <td>-0.706334</td>\n",
       "      <td>-0.032300</td>\n",
       "    </tr>\n",
       "    <tr>\n",
       "      <th>Nool</th>\n",
       "      <td>-0.559131</td>\n",
       "      <td>1.977489</td>\n",
       "      <td>-0.483036</td>\n",
       "      <td>-2.278453</td>\n",
       "      <td>-0.254615</td>\n",
       "    </tr>\n",
       "    <tr>\n",
       "      <th>Drews</th>\n",
       "      <td>-1.109204</td>\n",
       "      <td>0.017415</td>\n",
       "      <td>-3.048818</td>\n",
       "      <td>-1.534347</td>\n",
       "      <td>-0.326422</td>\n",
       "    </tr>\n",
       "  </tbody>\n",
       "</table>\n",
       "</div>"
      ],
      "text/plain": [
       "            Dim.1     Dim.2     Dim.3     Dim.4     Dim.5\n",
       "KARPOV   0.794721  0.779512 -1.633020  1.724228 -0.750704\n",
       "WARNERS -0.386464 -0.121592 -1.738733 -0.706334 -0.032300\n",
       "Nool    -0.559131  1.977489 -0.483036 -2.278453 -0.254615\n",
       "Drews   -1.109204  0.017415 -3.048818 -1.534347 -0.326422"
      ]
     },
     "execution_count": 27,
     "metadata": {},
     "output_type": "execute_result"
    }
   ],
   "source": [
    "ind_sup[\"coord\"].head(6)"
   ]
  },
  {
   "cell_type": "markdown",
   "metadata": {},
   "source": [
    "#### Supplementary individuals cos2"
   ]
  },
  {
   "cell_type": "code",
   "execution_count": 28,
   "metadata": {},
   "outputs": [
    {
     "data": {
      "text/html": [
       "<div>\n",
       "<style scoped>\n",
       "    .dataframe tbody tr th:only-of-type {\n",
       "        vertical-align: middle;\n",
       "    }\n",
       "\n",
       "    .dataframe tbody tr th {\n",
       "        vertical-align: top;\n",
       "    }\n",
       "\n",
       "    .dataframe thead th {\n",
       "        text-align: right;\n",
       "    }\n",
       "</style>\n",
       "<table border=\"1\" class=\"dataframe\">\n",
       "  <thead>\n",
       "    <tr style=\"text-align: right;\">\n",
       "      <th></th>\n",
       "      <th>Dim.1</th>\n",
       "      <th>Dim.2</th>\n",
       "      <th>Dim.3</th>\n",
       "      <th>Dim.4</th>\n",
       "      <th>Dim.5</th>\n",
       "    </tr>\n",
       "  </thead>\n",
       "  <tbody>\n",
       "    <tr>\n",
       "      <th>KARPOV</th>\n",
       "      <td>0.051047</td>\n",
       "      <td>0.049112</td>\n",
       "      <td>0.215537</td>\n",
       "      <td>0.240286</td>\n",
       "      <td>0.045549</td>\n",
       "    </tr>\n",
       "    <tr>\n",
       "      <th>WARNERS</th>\n",
       "      <td>0.024227</td>\n",
       "      <td>0.002398</td>\n",
       "      <td>0.490397</td>\n",
       "      <td>0.080929</td>\n",
       "      <td>0.000169</td>\n",
       "    </tr>\n",
       "    <tr>\n",
       "      <th>Nool</th>\n",
       "      <td>0.028971</td>\n",
       "      <td>0.362387</td>\n",
       "      <td>0.021622</td>\n",
       "      <td>0.481088</td>\n",
       "      <td>0.006008</td>\n",
       "    </tr>\n",
       "    <tr>\n",
       "      <th>Drews</th>\n",
       "      <td>0.092071</td>\n",
       "      <td>0.000023</td>\n",
       "      <td>0.695605</td>\n",
       "      <td>0.176176</td>\n",
       "      <td>0.007974</td>\n",
       "    </tr>\n",
       "  </tbody>\n",
       "</table>\n",
       "</div>"
      ],
      "text/plain": [
       "            Dim.1     Dim.2     Dim.3     Dim.4     Dim.5\n",
       "KARPOV   0.051047  0.049112  0.215537  0.240286  0.045549\n",
       "WARNERS  0.024227  0.002398  0.490397  0.080929  0.000169\n",
       "Nool     0.028971  0.362387  0.021622  0.481088  0.006008\n",
       "Drews    0.092071  0.000023  0.695605  0.176176  0.007974"
      ]
     },
     "execution_count": 28,
     "metadata": {},
     "output_type": "execute_result"
    }
   ],
   "source": [
    "ind_sup[\"cos2\"].head(6)"
   ]
  },
  {
   "cell_type": "markdown",
   "metadata": {},
   "source": [
    "#### Supplementary individuals dist"
   ]
  },
  {
   "cell_type": "code",
   "execution_count": 29,
   "metadata": {},
   "outputs": [
    {
     "data": {
      "text/plain": [
       "name\n",
       "KARPOV     3.517470\n",
       "WARNERS    2.482899\n",
       "Nool       3.284943\n",
       "Drews      3.655527\n",
       "Name: dist, dtype: float64"
      ]
     },
     "execution_count": 29,
     "metadata": {},
     "output_type": "execute_result"
    }
   ],
   "source": [
    "ind_sup[\"dist\"].head(6)"
   ]
  },
  {
   "cell_type": "markdown",
   "metadata": {},
   "source": [
    "## With supplementary quantitatives variables"
   ]
  },
  {
   "cell_type": "code",
   "execution_count": 30,
   "metadata": {},
   "outputs": [
    {
     "data": {
      "text/html": [
       "<style>#sk-container-id-3 {color: black;background-color: white;}#sk-container-id-3 pre{padding: 0;}#sk-container-id-3 div.sk-toggleable {background-color: white;}#sk-container-id-3 label.sk-toggleable__label {cursor: pointer;display: block;width: 100%;margin-bottom: 0;padding: 0.3em;box-sizing: border-box;text-align: center;}#sk-container-id-3 label.sk-toggleable__label-arrow:before {content: \"▸\";float: left;margin-right: 0.25em;color: #696969;}#sk-container-id-3 label.sk-toggleable__label-arrow:hover:before {color: black;}#sk-container-id-3 div.sk-estimator:hover label.sk-toggleable__label-arrow:before {color: black;}#sk-container-id-3 div.sk-toggleable__content {max-height: 0;max-width: 0;overflow: hidden;text-align: left;background-color: #f0f8ff;}#sk-container-id-3 div.sk-toggleable__content pre {margin: 0.2em;color: black;border-radius: 0.25em;background-color: #f0f8ff;}#sk-container-id-3 input.sk-toggleable__control:checked~div.sk-toggleable__content {max-height: 200px;max-width: 100%;overflow: auto;}#sk-container-id-3 input.sk-toggleable__control:checked~label.sk-toggleable__label-arrow:before {content: \"▾\";}#sk-container-id-3 div.sk-estimator input.sk-toggleable__control:checked~label.sk-toggleable__label {background-color: #d4ebff;}#sk-container-id-3 div.sk-label input.sk-toggleable__control:checked~label.sk-toggleable__label {background-color: #d4ebff;}#sk-container-id-3 input.sk-hidden--visually {border: 0;clip: rect(1px 1px 1px 1px);clip: rect(1px, 1px, 1px, 1px);height: 1px;margin: -1px;overflow: hidden;padding: 0;position: absolute;width: 1px;}#sk-container-id-3 div.sk-estimator {font-family: monospace;background-color: #f0f8ff;border: 1px dotted black;border-radius: 0.25em;box-sizing: border-box;margin-bottom: 0.5em;}#sk-container-id-3 div.sk-estimator:hover {background-color: #d4ebff;}#sk-container-id-3 div.sk-parallel-item::after {content: \"\";width: 100%;border-bottom: 1px solid gray;flex-grow: 1;}#sk-container-id-3 div.sk-label:hover label.sk-toggleable__label {background-color: #d4ebff;}#sk-container-id-3 div.sk-serial::before {content: \"\";position: absolute;border-left: 1px solid gray;box-sizing: border-box;top: 0;bottom: 0;left: 50%;z-index: 0;}#sk-container-id-3 div.sk-serial {display: flex;flex-direction: column;align-items: center;background-color: white;padding-right: 0.2em;padding-left: 0.2em;position: relative;}#sk-container-id-3 div.sk-item {position: relative;z-index: 1;}#sk-container-id-3 div.sk-parallel {display: flex;align-items: stretch;justify-content: center;background-color: white;position: relative;}#sk-container-id-3 div.sk-item::before, #sk-container-id-3 div.sk-parallel-item::before {content: \"\";position: absolute;border-left: 1px solid gray;box-sizing: border-box;top: 0;bottom: 0;left: 50%;z-index: -1;}#sk-container-id-3 div.sk-parallel-item {display: flex;flex-direction: column;z-index: 1;position: relative;background-color: white;}#sk-container-id-3 div.sk-parallel-item:first-child::after {align-self: flex-end;width: 50%;}#sk-container-id-3 div.sk-parallel-item:last-child::after {align-self: flex-start;width: 50%;}#sk-container-id-3 div.sk-parallel-item:only-child::after {width: 0;}#sk-container-id-3 div.sk-dashed-wrapped {border: 1px dashed gray;margin: 0 0.4em 0.5em 0.4em;box-sizing: border-box;padding-bottom: 0.4em;background-color: white;}#sk-container-id-3 div.sk-label label {font-family: monospace;font-weight: bold;display: inline-block;line-height: 1.2em;}#sk-container-id-3 div.sk-label-container {text-align: center;}#sk-container-id-3 div.sk-container {/* jupyter's `normalize.less` sets `[hidden] { display: none; }` but bootstrap.min.css set `[hidden] { display: none !important; }` so we also need the `!important` here to be able to override the default hidden behavior on the sphinx rendered scikit-learn.org. See: https://github.com/scikit-learn/scikit-learn/issues/21755 */display: inline-block !important;position: relative;}#sk-container-id-3 div.sk-text-repr-fallback {display: none;}</style><div id=\"sk-container-id-3\" class=\"sk-top-container\"><div class=\"sk-text-repr-fallback\"><pre>PCA(parallelize=True, quanti_sup=[10, 11])</pre><b>In a Jupyter environment, please rerun this cell to show the HTML representation or trust the notebook. <br />On GitHub, the HTML representation is unable to render, please try loading this page with nbviewer.org.</b></div><div class=\"sk-container\" hidden><div class=\"sk-item\"><div class=\"sk-estimator sk-toggleable\"><input class=\"sk-toggleable__control sk-hidden--visually\" id=\"sk-estimator-id-3\" type=\"checkbox\" checked><label for=\"sk-estimator-id-3\" class=\"sk-toggleable__label sk-toggleable__label-arrow\">PCA</label><div class=\"sk-toggleable__content\"><pre>PCA(parallelize=True, quanti_sup=[10, 11])</pre></div></div></div></div></div>"
      ],
      "text/plain": [
       "PCA(parallelize=True, quanti_sup=[10, 11])"
      ]
     },
     "execution_count": 30,
     "metadata": {},
     "output_type": "execute_result"
    }
   ],
   "source": [
    "X3 = X.iloc[:23,:12]\n",
    "res_pca3 = PCA(standardize=True,ind_sup=None,quanti_sup=[10,11],quali_sup=None,parallelize=True)\n",
    "res_pca3.fit(X3)"
   ]
  },
  {
   "cell_type": "markdown",
   "metadata": {},
   "source": [
    "### Supplementary quantitatives variables informations"
   ]
  },
  {
   "cell_type": "code",
   "execution_count": 31,
   "metadata": {},
   "outputs": [
    {
     "data": {
      "text/plain": [
       "dict_keys(['coord', 'cor', 'cos2', 'weighted_corr'])"
      ]
     },
     "execution_count": 31,
     "metadata": {},
     "output_type": "execute_result"
    }
   ],
   "source": [
    "quanti_sup = res_pca3.quanti_sup_\n",
    "quanti_sup.keys()"
   ]
  },
  {
   "cell_type": "markdown",
   "metadata": {},
   "source": [
    "#### Supplementary quantitatives variables coordinates"
   ]
  },
  {
   "cell_type": "code",
   "execution_count": 32,
   "metadata": {},
   "outputs": [
    {
     "data": {
      "text/html": [
       "<div>\n",
       "<style scoped>\n",
       "    .dataframe tbody tr th:only-of-type {\n",
       "        vertical-align: middle;\n",
       "    }\n",
       "\n",
       "    .dataframe tbody tr th {\n",
       "        vertical-align: top;\n",
       "    }\n",
       "\n",
       "    .dataframe thead th {\n",
       "        text-align: right;\n",
       "    }\n",
       "</style>\n",
       "<table border=\"1\" class=\"dataframe\">\n",
       "  <thead>\n",
       "    <tr style=\"text-align: right;\">\n",
       "      <th></th>\n",
       "      <th>Dim.1</th>\n",
       "      <th>Dim.2</th>\n",
       "      <th>Dim.3</th>\n",
       "      <th>Dim.4</th>\n",
       "      <th>Dim.5</th>\n",
       "    </tr>\n",
       "  </thead>\n",
       "  <tbody>\n",
       "    <tr>\n",
       "      <th>Rank</th>\n",
       "      <td>-0.701478</td>\n",
       "      <td>-0.245194</td>\n",
       "      <td>-0.183429</td>\n",
       "      <td>0.055752</td>\n",
       "      <td>-0.073826</td>\n",
       "    </tr>\n",
       "    <tr>\n",
       "      <th>Points</th>\n",
       "      <td>0.963708</td>\n",
       "      <td>0.077683</td>\n",
       "      <td>0.158022</td>\n",
       "      <td>-0.166231</td>\n",
       "      <td>-0.031147</td>\n",
       "    </tr>\n",
       "  </tbody>\n",
       "</table>\n",
       "</div>"
      ],
      "text/plain": [
       "           Dim.1     Dim.2     Dim.3     Dim.4     Dim.5\n",
       "Rank   -0.701478 -0.245194 -0.183429  0.055752 -0.073826\n",
       "Points  0.963708  0.077683  0.158022 -0.166231 -0.031147"
      ]
     },
     "execution_count": 32,
     "metadata": {},
     "output_type": "execute_result"
    }
   ],
   "source": [
    "quanti_sup[\"coord\"].head(6)"
   ]
  },
  {
   "cell_type": "markdown",
   "metadata": {},
   "source": [
    "#### Supplementary quantitatives variables Cos2"
   ]
  },
  {
   "cell_type": "code",
   "execution_count": 33,
   "metadata": {},
   "outputs": [
    {
     "data": {
      "text/html": [
       "<div>\n",
       "<style scoped>\n",
       "    .dataframe tbody tr th:only-of-type {\n",
       "        vertical-align: middle;\n",
       "    }\n",
       "\n",
       "    .dataframe tbody tr th {\n",
       "        vertical-align: top;\n",
       "    }\n",
       "\n",
       "    .dataframe thead th {\n",
       "        text-align: right;\n",
       "    }\n",
       "</style>\n",
       "<table border=\"1\" class=\"dataframe\">\n",
       "  <thead>\n",
       "    <tr style=\"text-align: right;\">\n",
       "      <th></th>\n",
       "      <th>Dim.1</th>\n",
       "      <th>Dim.2</th>\n",
       "      <th>Dim.3</th>\n",
       "      <th>Dim.4</th>\n",
       "      <th>Dim.5</th>\n",
       "    </tr>\n",
       "  </thead>\n",
       "  <tbody>\n",
       "    <tr>\n",
       "      <th>Rank</th>\n",
       "      <td>0.492071</td>\n",
       "      <td>0.060120</td>\n",
       "      <td>0.033646</td>\n",
       "      <td>0.003108</td>\n",
       "      <td>0.00545</td>\n",
       "    </tr>\n",
       "    <tr>\n",
       "      <th>Points</th>\n",
       "      <td>0.928732</td>\n",
       "      <td>0.006035</td>\n",
       "      <td>0.024971</td>\n",
       "      <td>0.027633</td>\n",
       "      <td>0.00097</td>\n",
       "    </tr>\n",
       "  </tbody>\n",
       "</table>\n",
       "</div>"
      ],
      "text/plain": [
       "           Dim.1     Dim.2     Dim.3     Dim.4    Dim.5\n",
       "Rank    0.492071  0.060120  0.033646  0.003108  0.00545\n",
       "Points  0.928732  0.006035  0.024971  0.027633  0.00097"
      ]
     },
     "execution_count": 33,
     "metadata": {},
     "output_type": "execute_result"
    }
   ],
   "source": [
    "quanti_sup[\"cos2\"].head(6)"
   ]
  },
  {
   "cell_type": "markdown",
   "metadata": {},
   "source": [
    "#### Supplementary quantitatives variables cor"
   ]
  },
  {
   "cell_type": "code",
   "execution_count": 34,
   "metadata": {},
   "outputs": [
    {
     "data": {
      "text/html": [
       "<div>\n",
       "<style scoped>\n",
       "    .dataframe tbody tr th:only-of-type {\n",
       "        vertical-align: middle;\n",
       "    }\n",
       "\n",
       "    .dataframe tbody tr th {\n",
       "        vertical-align: top;\n",
       "    }\n",
       "\n",
       "    .dataframe thead th {\n",
       "        text-align: right;\n",
       "    }\n",
       "</style>\n",
       "<table border=\"1\" class=\"dataframe\">\n",
       "  <thead>\n",
       "    <tr style=\"text-align: right;\">\n",
       "      <th></th>\n",
       "      <th>Dim.1</th>\n",
       "      <th>Dim.2</th>\n",
       "      <th>Dim.3</th>\n",
       "      <th>Dim.4</th>\n",
       "      <th>Dim.5</th>\n",
       "    </tr>\n",
       "  </thead>\n",
       "  <tbody>\n",
       "    <tr>\n",
       "      <th>Rank</th>\n",
       "      <td>-0.701478</td>\n",
       "      <td>-0.245194</td>\n",
       "      <td>-0.183429</td>\n",
       "      <td>0.055752</td>\n",
       "      <td>-0.073826</td>\n",
       "    </tr>\n",
       "    <tr>\n",
       "      <th>Points</th>\n",
       "      <td>0.963708</td>\n",
       "      <td>0.077683</td>\n",
       "      <td>0.158022</td>\n",
       "      <td>-0.166231</td>\n",
       "      <td>-0.031147</td>\n",
       "    </tr>\n",
       "  </tbody>\n",
       "</table>\n",
       "</div>"
      ],
      "text/plain": [
       "           Dim.1     Dim.2     Dim.3     Dim.4     Dim.5\n",
       "Rank   -0.701478 -0.245194 -0.183429  0.055752 -0.073826\n",
       "Points  0.963708  0.077683  0.158022 -0.166231 -0.031147"
      ]
     },
     "execution_count": 34,
     "metadata": {},
     "output_type": "execute_result"
    }
   ],
   "source": [
    "quanti_sup[\"cor\"].head(6)"
   ]
  },
  {
   "cell_type": "markdown",
   "metadata": {},
   "source": [
    "## With supplementary quantitatives and qualitatives variables"
   ]
  },
  {
   "cell_type": "code",
   "execution_count": 35,
   "metadata": {},
   "outputs": [
    {
     "data": {
      "text/html": [
       "<style>#sk-container-id-4 {color: black;background-color: white;}#sk-container-id-4 pre{padding: 0;}#sk-container-id-4 div.sk-toggleable {background-color: white;}#sk-container-id-4 label.sk-toggleable__label {cursor: pointer;display: block;width: 100%;margin-bottom: 0;padding: 0.3em;box-sizing: border-box;text-align: center;}#sk-container-id-4 label.sk-toggleable__label-arrow:before {content: \"▸\";float: left;margin-right: 0.25em;color: #696969;}#sk-container-id-4 label.sk-toggleable__label-arrow:hover:before {color: black;}#sk-container-id-4 div.sk-estimator:hover label.sk-toggleable__label-arrow:before {color: black;}#sk-container-id-4 div.sk-toggleable__content {max-height: 0;max-width: 0;overflow: hidden;text-align: left;background-color: #f0f8ff;}#sk-container-id-4 div.sk-toggleable__content pre {margin: 0.2em;color: black;border-radius: 0.25em;background-color: #f0f8ff;}#sk-container-id-4 input.sk-toggleable__control:checked~div.sk-toggleable__content {max-height: 200px;max-width: 100%;overflow: auto;}#sk-container-id-4 input.sk-toggleable__control:checked~label.sk-toggleable__label-arrow:before {content: \"▾\";}#sk-container-id-4 div.sk-estimator input.sk-toggleable__control:checked~label.sk-toggleable__label {background-color: #d4ebff;}#sk-container-id-4 div.sk-label input.sk-toggleable__control:checked~label.sk-toggleable__label {background-color: #d4ebff;}#sk-container-id-4 input.sk-hidden--visually {border: 0;clip: rect(1px 1px 1px 1px);clip: rect(1px, 1px, 1px, 1px);height: 1px;margin: -1px;overflow: hidden;padding: 0;position: absolute;width: 1px;}#sk-container-id-4 div.sk-estimator {font-family: monospace;background-color: #f0f8ff;border: 1px dotted black;border-radius: 0.25em;box-sizing: border-box;margin-bottom: 0.5em;}#sk-container-id-4 div.sk-estimator:hover {background-color: #d4ebff;}#sk-container-id-4 div.sk-parallel-item::after {content: \"\";width: 100%;border-bottom: 1px solid gray;flex-grow: 1;}#sk-container-id-4 div.sk-label:hover label.sk-toggleable__label {background-color: #d4ebff;}#sk-container-id-4 div.sk-serial::before {content: \"\";position: absolute;border-left: 1px solid gray;box-sizing: border-box;top: 0;bottom: 0;left: 50%;z-index: 0;}#sk-container-id-4 div.sk-serial {display: flex;flex-direction: column;align-items: center;background-color: white;padding-right: 0.2em;padding-left: 0.2em;position: relative;}#sk-container-id-4 div.sk-item {position: relative;z-index: 1;}#sk-container-id-4 div.sk-parallel {display: flex;align-items: stretch;justify-content: center;background-color: white;position: relative;}#sk-container-id-4 div.sk-item::before, #sk-container-id-4 div.sk-parallel-item::before {content: \"\";position: absolute;border-left: 1px solid gray;box-sizing: border-box;top: 0;bottom: 0;left: 50%;z-index: -1;}#sk-container-id-4 div.sk-parallel-item {display: flex;flex-direction: column;z-index: 1;position: relative;background-color: white;}#sk-container-id-4 div.sk-parallel-item:first-child::after {align-self: flex-end;width: 50%;}#sk-container-id-4 div.sk-parallel-item:last-child::after {align-self: flex-start;width: 50%;}#sk-container-id-4 div.sk-parallel-item:only-child::after {width: 0;}#sk-container-id-4 div.sk-dashed-wrapped {border: 1px dashed gray;margin: 0 0.4em 0.5em 0.4em;box-sizing: border-box;padding-bottom: 0.4em;background-color: white;}#sk-container-id-4 div.sk-label label {font-family: monospace;font-weight: bold;display: inline-block;line-height: 1.2em;}#sk-container-id-4 div.sk-label-container {text-align: center;}#sk-container-id-4 div.sk-container {/* jupyter's `normalize.less` sets `[hidden] { display: none; }` but bootstrap.min.css set `[hidden] { display: none !important; }` so we also need the `!important` here to be able to override the default hidden behavior on the sphinx rendered scikit-learn.org. See: https://github.com/scikit-learn/scikit-learn/issues/21755 */display: inline-block !important;position: relative;}#sk-container-id-4 div.sk-text-repr-fallback {display: none;}</style><div id=\"sk-container-id-4\" class=\"sk-top-container\"><div class=\"sk-text-repr-fallback\"><pre>PCA(parallelize=True, quali_sup=12, quanti_sup=[10, 11])</pre><b>In a Jupyter environment, please rerun this cell to show the HTML representation or trust the notebook. <br />On GitHub, the HTML representation is unable to render, please try loading this page with nbviewer.org.</b></div><div class=\"sk-container\" hidden><div class=\"sk-item\"><div class=\"sk-estimator sk-toggleable\"><input class=\"sk-toggleable__control sk-hidden--visually\" id=\"sk-estimator-id-4\" type=\"checkbox\" checked><label for=\"sk-estimator-id-4\" class=\"sk-toggleable__label sk-toggleable__label-arrow\">PCA</label><div class=\"sk-toggleable__content\"><pre>PCA(parallelize=True, quali_sup=12, quanti_sup=[10, 11])</pre></div></div></div></div></div>"
      ],
      "text/plain": [
       "PCA(parallelize=True, quali_sup=12, quanti_sup=[10, 11])"
      ]
     },
     "execution_count": 35,
     "metadata": {},
     "output_type": "execute_result"
    }
   ],
   "source": [
    "X4 = X.iloc[:23,:]\n",
    "res_pca4 = PCA(standardize=True,ind_sup=None,quanti_sup=[10,11],quali_sup=12,parallelize=True)\n",
    "res_pca4.fit(X4)"
   ]
  },
  {
   "cell_type": "markdown",
   "metadata": {},
   "source": [
    "### Supplementary qualitatives informations"
   ]
  },
  {
   "cell_type": "code",
   "execution_count": 36,
   "metadata": {},
   "outputs": [
    {
     "data": {
      "text/plain": [
       "dict_keys(['coord', 'cos2', 'vtest', 'dist', 'eta2', 'barycentre'])"
      ]
     },
     "execution_count": 36,
     "metadata": {},
     "output_type": "execute_result"
    }
   ],
   "source": [
    "quali_sup = res_pca4.quali_sup_\n",
    "quali_sup.keys()"
   ]
  },
  {
   "cell_type": "markdown",
   "metadata": {},
   "source": [
    "#### Supplementary qualitatives coordinates"
   ]
  },
  {
   "cell_type": "code",
   "execution_count": 37,
   "metadata": {},
   "outputs": [
    {
     "data": {
      "text/html": [
       "<div>\n",
       "<style scoped>\n",
       "    .dataframe tbody tr th:only-of-type {\n",
       "        vertical-align: middle;\n",
       "    }\n",
       "\n",
       "    .dataframe tbody tr th {\n",
       "        vertical-align: top;\n",
       "    }\n",
       "\n",
       "    .dataframe thead th {\n",
       "        text-align: right;\n",
       "    }\n",
       "</style>\n",
       "<table border=\"1\" class=\"dataframe\">\n",
       "  <thead>\n",
       "    <tr style=\"text-align: right;\">\n",
       "      <th></th>\n",
       "      <th>Dim.1</th>\n",
       "      <th>Dim.2</th>\n",
       "      <th>Dim.3</th>\n",
       "      <th>Dim.4</th>\n",
       "      <th>Dim.5</th>\n",
       "    </tr>\n",
       "  </thead>\n",
       "  <tbody>\n",
       "    <tr>\n",
       "      <th>Decastar</th>\n",
       "      <td>-1.343451</td>\n",
       "      <td>0.121810</td>\n",
       "      <td>-0.037895</td>\n",
       "      <td>0.180836</td>\n",
       "      <td>0.134336</td>\n",
       "    </tr>\n",
       "    <tr>\n",
       "      <th>OlympicG</th>\n",
       "      <td>1.231497</td>\n",
       "      <td>-0.111659</td>\n",
       "      <td>0.034737</td>\n",
       "      <td>-0.165766</td>\n",
       "      <td>-0.123142</td>\n",
       "    </tr>\n",
       "  </tbody>\n",
       "</table>\n",
       "</div>"
      ],
      "text/plain": [
       "             Dim.1     Dim.2     Dim.3     Dim.4     Dim.5\n",
       "Decastar -1.343451  0.121810 -0.037895  0.180836  0.134336\n",
       "OlympicG  1.231497 -0.111659  0.034737 -0.165766 -0.123142"
      ]
     },
     "execution_count": 37,
     "metadata": {},
     "output_type": "execute_result"
    }
   ],
   "source": [
    "quali_sup[\"coord\"].head(6)"
   ]
  },
  {
   "cell_type": "markdown",
   "metadata": {},
   "source": [
    "#### Supplementary qualitatives cos2"
   ]
  },
  {
   "cell_type": "code",
   "execution_count": 38,
   "metadata": {},
   "outputs": [
    {
     "data": {
      "text/html": [
       "<div>\n",
       "<style scoped>\n",
       "    .dataframe tbody tr th:only-of-type {\n",
       "        vertical-align: middle;\n",
       "    }\n",
       "\n",
       "    .dataframe tbody tr th {\n",
       "        vertical-align: top;\n",
       "    }\n",
       "\n",
       "    .dataframe thead th {\n",
       "        text-align: right;\n",
       "    }\n",
       "</style>\n",
       "<table border=\"1\" class=\"dataframe\">\n",
       "  <thead>\n",
       "    <tr style=\"text-align: right;\">\n",
       "      <th></th>\n",
       "      <th>Dim.1</th>\n",
       "      <th>Dim.2</th>\n",
       "      <th>Dim.3</th>\n",
       "      <th>Dim.4</th>\n",
       "      <th>Dim.5</th>\n",
       "    </tr>\n",
       "  </thead>\n",
       "  <tbody>\n",
       "    <tr>\n",
       "      <th>Decastar</th>\n",
       "      <td>0.905123</td>\n",
       "      <td>0.007441</td>\n",
       "      <td>0.00072</td>\n",
       "      <td>0.0164</td>\n",
       "      <td>0.00905</td>\n",
       "    </tr>\n",
       "    <tr>\n",
       "      <th>OlympicG</th>\n",
       "      <td>0.905123</td>\n",
       "      <td>0.007441</td>\n",
       "      <td>0.00072</td>\n",
       "      <td>0.0164</td>\n",
       "      <td>0.00905</td>\n",
       "    </tr>\n",
       "  </tbody>\n",
       "</table>\n",
       "</div>"
      ],
      "text/plain": [
       "             Dim.1     Dim.2    Dim.3   Dim.4    Dim.5\n",
       "Decastar  0.905123  0.007441  0.00072  0.0164  0.00905\n",
       "OlympicG  0.905123  0.007441  0.00072  0.0164  0.00905"
      ]
     },
     "execution_count": 38,
     "metadata": {},
     "output_type": "execute_result"
    }
   ],
   "source": [
    "quali_sup[\"cos2\"]"
   ]
  },
  {
   "cell_type": "markdown",
   "metadata": {},
   "source": [
    "#### Supplementary qualitatives Vtest"
   ]
  },
  {
   "cell_type": "code",
   "execution_count": 39,
   "metadata": {},
   "outputs": [
    {
     "data": {
      "text/html": [
       "<div>\n",
       "<style scoped>\n",
       "    .dataframe tbody tr th:only-of-type {\n",
       "        vertical-align: middle;\n",
       "    }\n",
       "\n",
       "    .dataframe tbody tr th {\n",
       "        vertical-align: top;\n",
       "    }\n",
       "\n",
       "    .dataframe thead th {\n",
       "        text-align: right;\n",
       "    }\n",
       "</style>\n",
       "<table border=\"1\" class=\"dataframe\">\n",
       "  <thead>\n",
       "    <tr style=\"text-align: right;\">\n",
       "      <th></th>\n",
       "      <th>Dim.1</th>\n",
       "      <th>Dim.2</th>\n",
       "      <th>Dim.3</th>\n",
       "      <th>Dim.4</th>\n",
       "      <th>Dim.5</th>\n",
       "    </tr>\n",
       "  </thead>\n",
       "  <tbody>\n",
       "    <tr>\n",
       "      <th>Decastar</th>\n",
       "      <td>-2.970766</td>\n",
       "      <td>0.403426</td>\n",
       "      <td>-0.152877</td>\n",
       "      <td>0.897104</td>\n",
       "      <td>0.720246</td>\n",
       "    </tr>\n",
       "    <tr>\n",
       "      <th>OlympicG</th>\n",
       "      <td>2.970766</td>\n",
       "      <td>-0.403426</td>\n",
       "      <td>0.152877</td>\n",
       "      <td>-0.897104</td>\n",
       "      <td>-0.720246</td>\n",
       "    </tr>\n",
       "  </tbody>\n",
       "</table>\n",
       "</div>"
      ],
      "text/plain": [
       "             Dim.1     Dim.2     Dim.3     Dim.4     Dim.5\n",
       "Decastar -2.970766  0.403426 -0.152877  0.897104  0.720246\n",
       "OlympicG  2.970766 -0.403426  0.152877 -0.897104 -0.720246"
      ]
     },
     "execution_count": 39,
     "metadata": {},
     "output_type": "execute_result"
    }
   ],
   "source": [
    "quali_sup[\"vtest\"].head(6)"
   ]
  },
  {
   "cell_type": "markdown",
   "metadata": {},
   "source": [
    "#### Supplementary qualitatives dist"
   ]
  },
  {
   "cell_type": "code",
   "execution_count": 40,
   "metadata": {},
   "outputs": [
    {
     "data": {
      "text/plain": [
       "Decastar    1.412108\n",
       "OlympicG    1.294433\n",
       "Name: dist, dtype: float64"
      ]
     },
     "execution_count": 40,
     "metadata": {},
     "output_type": "execute_result"
    }
   ],
   "source": [
    "quali_sup[\"dist\"]"
   ]
  },
  {
   "cell_type": "markdown",
   "metadata": {},
   "source": [
    "##### Supplementary qualitatives correlation ratio"
   ]
  },
  {
   "cell_type": "code",
   "execution_count": 41,
   "metadata": {},
   "outputs": [
    {
     "data": {
      "text/html": [
       "<div>\n",
       "<style scoped>\n",
       "    .dataframe tbody tr th:only-of-type {\n",
       "        vertical-align: middle;\n",
       "    }\n",
       "\n",
       "    .dataframe tbody tr th {\n",
       "        vertical-align: top;\n",
       "    }\n",
       "\n",
       "    .dataframe thead th {\n",
       "        text-align: right;\n",
       "    }\n",
       "</style>\n",
       "<table border=\"1\" class=\"dataframe\">\n",
       "  <thead>\n",
       "    <tr style=\"text-align: right;\">\n",
       "      <th></th>\n",
       "      <th>Dim.1</th>\n",
       "      <th>Dim.2</th>\n",
       "      <th>Dim.3</th>\n",
       "      <th>Dim.4</th>\n",
       "      <th>Dim.5</th>\n",
       "    </tr>\n",
       "  </thead>\n",
       "  <tbody>\n",
       "    <tr>\n",
       "      <th>Competition</th>\n",
       "      <td>0.401157</td>\n",
       "      <td>0.007398</td>\n",
       "      <td>0.001062</td>\n",
       "      <td>0.036582</td>\n",
       "      <td>0.02358</td>\n",
       "    </tr>\n",
       "  </tbody>\n",
       "</table>\n",
       "</div>"
      ],
      "text/plain": [
       "                Dim.1     Dim.2     Dim.3     Dim.4    Dim.5\n",
       "Competition  0.401157  0.007398  0.001062  0.036582  0.02358"
      ]
     },
     "execution_count": 41,
     "metadata": {},
     "output_type": "execute_result"
    }
   ],
   "source": [
    "quali_sup[\"eta2\"].head(6)"
   ]
  },
  {
   "cell_type": "markdown",
   "metadata": {},
   "source": [
    "## With supplementary elements"
   ]
  },
  {
   "cell_type": "code",
   "execution_count": 42,
   "metadata": {},
   "outputs": [
    {
     "data": {
      "text/html": [
       "<style>#sk-container-id-5 {color: black;background-color: white;}#sk-container-id-5 pre{padding: 0;}#sk-container-id-5 div.sk-toggleable {background-color: white;}#sk-container-id-5 label.sk-toggleable__label {cursor: pointer;display: block;width: 100%;margin-bottom: 0;padding: 0.3em;box-sizing: border-box;text-align: center;}#sk-container-id-5 label.sk-toggleable__label-arrow:before {content: \"▸\";float: left;margin-right: 0.25em;color: #696969;}#sk-container-id-5 label.sk-toggleable__label-arrow:hover:before {color: black;}#sk-container-id-5 div.sk-estimator:hover label.sk-toggleable__label-arrow:before {color: black;}#sk-container-id-5 div.sk-toggleable__content {max-height: 0;max-width: 0;overflow: hidden;text-align: left;background-color: #f0f8ff;}#sk-container-id-5 div.sk-toggleable__content pre {margin: 0.2em;color: black;border-radius: 0.25em;background-color: #f0f8ff;}#sk-container-id-5 input.sk-toggleable__control:checked~div.sk-toggleable__content {max-height: 200px;max-width: 100%;overflow: auto;}#sk-container-id-5 input.sk-toggleable__control:checked~label.sk-toggleable__label-arrow:before {content: \"▾\";}#sk-container-id-5 div.sk-estimator input.sk-toggleable__control:checked~label.sk-toggleable__label {background-color: #d4ebff;}#sk-container-id-5 div.sk-label input.sk-toggleable__control:checked~label.sk-toggleable__label {background-color: #d4ebff;}#sk-container-id-5 input.sk-hidden--visually {border: 0;clip: rect(1px 1px 1px 1px);clip: rect(1px, 1px, 1px, 1px);height: 1px;margin: -1px;overflow: hidden;padding: 0;position: absolute;width: 1px;}#sk-container-id-5 div.sk-estimator {font-family: monospace;background-color: #f0f8ff;border: 1px dotted black;border-radius: 0.25em;box-sizing: border-box;margin-bottom: 0.5em;}#sk-container-id-5 div.sk-estimator:hover {background-color: #d4ebff;}#sk-container-id-5 div.sk-parallel-item::after {content: \"\";width: 100%;border-bottom: 1px solid gray;flex-grow: 1;}#sk-container-id-5 div.sk-label:hover label.sk-toggleable__label {background-color: #d4ebff;}#sk-container-id-5 div.sk-serial::before {content: \"\";position: absolute;border-left: 1px solid gray;box-sizing: border-box;top: 0;bottom: 0;left: 50%;z-index: 0;}#sk-container-id-5 div.sk-serial {display: flex;flex-direction: column;align-items: center;background-color: white;padding-right: 0.2em;padding-left: 0.2em;position: relative;}#sk-container-id-5 div.sk-item {position: relative;z-index: 1;}#sk-container-id-5 div.sk-parallel {display: flex;align-items: stretch;justify-content: center;background-color: white;position: relative;}#sk-container-id-5 div.sk-item::before, #sk-container-id-5 div.sk-parallel-item::before {content: \"\";position: absolute;border-left: 1px solid gray;box-sizing: border-box;top: 0;bottom: 0;left: 50%;z-index: -1;}#sk-container-id-5 div.sk-parallel-item {display: flex;flex-direction: column;z-index: 1;position: relative;background-color: white;}#sk-container-id-5 div.sk-parallel-item:first-child::after {align-self: flex-end;width: 50%;}#sk-container-id-5 div.sk-parallel-item:last-child::after {align-self: flex-start;width: 50%;}#sk-container-id-5 div.sk-parallel-item:only-child::after {width: 0;}#sk-container-id-5 div.sk-dashed-wrapped {border: 1px dashed gray;margin: 0 0.4em 0.5em 0.4em;box-sizing: border-box;padding-bottom: 0.4em;background-color: white;}#sk-container-id-5 div.sk-label label {font-family: monospace;font-weight: bold;display: inline-block;line-height: 1.2em;}#sk-container-id-5 div.sk-label-container {text-align: center;}#sk-container-id-5 div.sk-container {/* jupyter's `normalize.less` sets `[hidden] { display: none; }` but bootstrap.min.css set `[hidden] { display: none !important; }` so we also need the `!important` here to be able to override the default hidden behavior on the sphinx rendered scikit-learn.org. See: https://github.com/scikit-learn/scikit-learn/issues/21755 */display: inline-block !important;position: relative;}#sk-container-id-5 div.sk-text-repr-fallback {display: none;}</style><div id=\"sk-container-id-5\" class=\"sk-top-container\"><div class=\"sk-text-repr-fallback\"><pre>PCA(ind_sup=[23, 24, 25, 26], n_components=None, parallelize=True, quali_sup=12,\n",
       "    quanti_sup=[10, 11])</pre><b>In a Jupyter environment, please rerun this cell to show the HTML representation or trust the notebook. <br />On GitHub, the HTML representation is unable to render, please try loading this page with nbviewer.org.</b></div><div class=\"sk-container\" hidden><div class=\"sk-item\"><div class=\"sk-estimator sk-toggleable\"><input class=\"sk-toggleable__control sk-hidden--visually\" id=\"sk-estimator-id-5\" type=\"checkbox\" checked><label for=\"sk-estimator-id-5\" class=\"sk-toggleable__label sk-toggleable__label-arrow\">PCA</label><div class=\"sk-toggleable__content\"><pre>PCA(ind_sup=[23, 24, 25, 26], n_components=None, parallelize=True, quali_sup=12,\n",
       "    quanti_sup=[10, 11])</pre></div></div></div></div></div>"
      ],
      "text/plain": [
       "PCA(ind_sup=[23, 24, 25, 26], n_components=None, parallelize=True, quali_sup=12,\n",
       "    quanti_sup=[10, 11])"
      ]
     },
     "execution_count": 42,
     "metadata": {},
     "output_type": "execute_result"
    }
   ],
   "source": [
    "res_pca = PCA(standardize=True,n_components=None,ind_sup=list(range(23,X2.shape[0])),quanti_sup=[10,11],quali_sup=12,parallelize=True)\n",
    "res_pca.fit(X)"
   ]
  },
  {
   "cell_type": "markdown",
   "metadata": {},
   "source": [
    "### fit transform"
   ]
  },
  {
   "cell_type": "code",
   "execution_count": 43,
   "metadata": {},
   "outputs": [
    {
     "data": {
      "text/html": [
       "<div>\n",
       "<style scoped>\n",
       "    .dataframe tbody tr th:only-of-type {\n",
       "        vertical-align: middle;\n",
       "    }\n",
       "\n",
       "    .dataframe tbody tr th {\n",
       "        vertical-align: top;\n",
       "    }\n",
       "\n",
       "    .dataframe thead th {\n",
       "        text-align: right;\n",
       "    }\n",
       "</style>\n",
       "<table border=\"1\" class=\"dataframe\">\n",
       "  <thead>\n",
       "    <tr style=\"text-align: right;\">\n",
       "      <th></th>\n",
       "      <th>Dim.1</th>\n",
       "      <th>Dim.2</th>\n",
       "    </tr>\n",
       "  </thead>\n",
       "  <tbody>\n",
       "    <tr>\n",
       "      <th>SEBRLE</th>\n",
       "      <td>0.195505</td>\n",
       "      <td>1.589057</td>\n",
       "    </tr>\n",
       "    <tr>\n",
       "      <th>CLAY</th>\n",
       "      <td>0.807879</td>\n",
       "      <td>2.474814</td>\n",
       "    </tr>\n",
       "    <tr>\n",
       "      <th>BERNARD</th>\n",
       "      <td>-1.359134</td>\n",
       "      <td>1.648095</td>\n",
       "    </tr>\n",
       "    <tr>\n",
       "      <th>YURKOV</th>\n",
       "      <td>-0.888953</td>\n",
       "      <td>-0.442607</td>\n",
       "    </tr>\n",
       "    <tr>\n",
       "      <th>ZSIVOCZKY</th>\n",
       "      <td>-0.108122</td>\n",
       "      <td>-2.068838</td>\n",
       "    </tr>\n",
       "    <tr>\n",
       "      <th>McMULLEN</th>\n",
       "      <td>0.121220</td>\n",
       "      <td>-1.013910</td>\n",
       "    </tr>\n",
       "  </tbody>\n",
       "</table>\n",
       "</div>"
      ],
      "text/plain": [
       "              Dim.1     Dim.2\n",
       "SEBRLE     0.195505  1.589057\n",
       "CLAY       0.807879  2.474814\n",
       "BERNARD   -1.359134  1.648095\n",
       "YURKOV    -0.888953 -0.442607\n",
       "ZSIVOCZKY -0.108122 -2.068838\n",
       "McMULLEN   0.121220 -1.013910"
      ]
     },
     "execution_count": 43,
     "metadata": {},
     "output_type": "execute_result"
    }
   ],
   "source": [
    "res_pca.fit_transform(X).iloc[:6,:2]"
   ]
  },
  {
   "cell_type": "markdown",
   "metadata": {},
   "source": [
    "### transform"
   ]
  },
  {
   "cell_type": "code",
   "execution_count": 44,
   "metadata": {},
   "outputs": [
    {
     "data": {
      "text/html": [
       "<div>\n",
       "<style scoped>\n",
       "    .dataframe tbody tr th:only-of-type {\n",
       "        vertical-align: middle;\n",
       "    }\n",
       "\n",
       "    .dataframe tbody tr th {\n",
       "        vertical-align: top;\n",
       "    }\n",
       "\n",
       "    .dataframe thead th {\n",
       "        text-align: right;\n",
       "    }\n",
       "</style>\n",
       "<table border=\"1\" class=\"dataframe\">\n",
       "  <thead>\n",
       "    <tr style=\"text-align: right;\">\n",
       "      <th></th>\n",
       "      <th>Dim.1</th>\n",
       "      <th>Dim.2</th>\n",
       "    </tr>\n",
       "    <tr>\n",
       "      <th>name</th>\n",
       "      <th></th>\n",
       "      <th></th>\n",
       "    </tr>\n",
       "  </thead>\n",
       "  <tbody>\n",
       "    <tr>\n",
       "      <th>SEBRLE</th>\n",
       "      <td>0.195505</td>\n",
       "      <td>1.589057</td>\n",
       "    </tr>\n",
       "    <tr>\n",
       "      <th>CLAY</th>\n",
       "      <td>0.807879</td>\n",
       "      <td>2.474814</td>\n",
       "    </tr>\n",
       "    <tr>\n",
       "      <th>BERNARD</th>\n",
       "      <td>-1.359134</td>\n",
       "      <td>1.648095</td>\n",
       "    </tr>\n",
       "    <tr>\n",
       "      <th>YURKOV</th>\n",
       "      <td>-0.888953</td>\n",
       "      <td>-0.442607</td>\n",
       "    </tr>\n",
       "    <tr>\n",
       "      <th>ZSIVOCZKY</th>\n",
       "      <td>-0.108122</td>\n",
       "      <td>-2.068838</td>\n",
       "    </tr>\n",
       "    <tr>\n",
       "      <th>McMULLEN</th>\n",
       "      <td>0.121220</td>\n",
       "      <td>-1.013910</td>\n",
       "    </tr>\n",
       "  </tbody>\n",
       "</table>\n",
       "</div>"
      ],
      "text/plain": [
       "              Dim.1     Dim.2\n",
       "name                         \n",
       "SEBRLE     0.195505  1.589057\n",
       "CLAY       0.807879  2.474814\n",
       "BERNARD   -1.359134  1.648095\n",
       "YURKOV    -0.888953 -0.442607\n",
       "ZSIVOCZKY -0.108122 -2.068838\n",
       "McMULLEN   0.121220 -1.013910"
      ]
     },
     "execution_count": 44,
     "metadata": {},
     "output_type": "execute_result"
    }
   ],
   "source": [
    "res_pca.transform(res_pca.call_[\"X\"]).iloc[:6,:2]"
   ]
  },
  {
   "cell_type": "markdown",
   "metadata": {},
   "source": [
    "## Extractions functions"
   ]
  },
  {
   "cell_type": "code",
   "execution_count": 45,
   "metadata": {},
   "outputs": [],
   "source": [
    "from scientisttools import get_pca,get_eig\n",
    "eig = get_eig(res_pca)\n",
    "ind = get_pca(res_pca,choice=\"ind\")\n",
    "ind_sup = get_pca(res_pca,choice=\"ind_sup\")\n",
    "var = get_pca(res_pca,choice=\"var\")\n",
    "quanti_sup = get_pca(res_pca,choice=\"quanti_sup\")\n",
    "quali_sup = get_pca(res_pca,choice=\"quali_sup\") "
   ]
  },
  {
   "cell_type": "markdown",
   "metadata": {},
   "source": [
    "## Summary PCA"
   ]
  },
  {
   "cell_type": "code",
   "execution_count": 46,
   "metadata": {},
   "outputs": [
    {
     "name": "stdout",
     "output_type": "stream",
     "text": [
      "                     Principal Component Analysis - Results                     \n",
      "\n",
      "Importance of components\n",
      "                       Dim.1   Dim.2   Dim.3   Dim.4   Dim.5   Dim.6   Dim.7  \\\n",
      "Variance               4.124   1.839   1.239   0.819   0.702   0.423   0.303   \n",
      "Difference             2.286   0.599   0.420   0.118   0.279   0.120   0.028   \n",
      "% of var.             41.242  18.385  12.391   8.194   7.016   4.229   3.026   \n",
      "Cumulative % of var.  41.242  59.627  72.019  80.213  87.229  91.458  94.483   \n",
      "\n",
      "                       Dim.8   Dim.9   Dim.10  \n",
      "Variance               0.274   0.155    0.122  \n",
      "Difference             0.119   0.033      NaN  \n",
      "% of var.              2.745   1.552    1.220  \n",
      "Cumulative % of var.  97.228  98.780  100.000  \n",
      "\n",
      "Individuals (the 10 first)\n",
      "\n",
      "            dist  weight  inertia  Dim.1    ctr   cos2  Dim.2     ctr   cos2  \\\n",
      "SEBRLE     2.253   0.043    0.221  0.196  0.040  0.008  1.589   5.971  0.497   \n",
      "CLAY       3.661   0.043    0.583  0.808  0.688  0.049  2.475  14.484  0.457   \n",
      "BERNARD    3.061   0.043    0.407 -1.359  1.947  0.197  1.648   6.423  0.290   \n",
      "YURKOV     2.867   0.043    0.357 -0.889  0.833  0.096 -0.443   0.463  0.024   \n",
      "ZSIVOCZKY  2.725   0.043    0.323 -0.108  0.012  0.002 -2.069  10.122  0.576   \n",
      "McMULLEN   2.599   0.043    0.294  0.121  0.015  0.002 -1.014   2.431  0.152   \n",
      "MARTINEAU  3.848   0.043    0.644 -2.446  6.308  0.404 -1.314   4.082  0.117   \n",
      "HERNU      3.060   0.043    0.407 -1.934  3.941  0.399  1.205   3.434  0.155   \n",
      "BARRAS     2.311   0.043    0.232 -1.814  3.470  0.616 -0.422   0.421  0.033   \n",
      "NOOL       4.057   0.043    0.716 -2.839  8.499  0.490 -1.608   6.115  0.157   \n",
      "\n",
      "           Dim.3     ctr   cos2  \n",
      "SEBRLE     0.642   1.448  0.081  \n",
      "CLAY      -1.387   6.754  0.144  \n",
      "BERNARD    0.201   0.141  0.004  \n",
      "YURKOV     2.530  22.452  0.778  \n",
      "ZSIVOCZKY -1.334   6.246  0.240  \n",
      "McMULLEN  -0.863   2.610  0.110  \n",
      "MARTINEAU  0.918   2.959  0.057  \n",
      "HERNU      0.160   0.090  0.003  \n",
      "BARRAS    -0.673   1.589  0.085  \n",
      "NOOL      -0.621   1.353  0.023  \n",
      "\n",
      "Supplementary individuals\n",
      "\n",
      "          dist  Dim.1   cos2  Dim.2   cos2  Dim.3   cos2\n",
      "KARPOV   3.517  0.795  0.051  0.780  0.049 -1.633  0.216\n",
      "WARNERS  2.483 -0.386  0.024 -0.122  0.002 -1.739  0.490\n",
      "Nool     3.285 -0.559  0.029  1.977  0.362 -0.483  0.022\n",
      "Drews    3.656 -1.109  0.092  0.017  0.000 -3.049  0.696\n",
      "\n",
      "Continuous variables\n",
      "\n",
      "              dist  weight  inertia  Dim.1     ctr   cos2  Dim.2     ctr  \\\n",
      "X100m          1.0     1.0      1.0 -0.851  17.544  0.724 -0.179   1.751   \n",
      "Long.jump      1.0     1.0      1.0  0.794  15.293  0.631  0.281   4.290   \n",
      "Shot.put       1.0     1.0      1.0  0.734  13.060  0.539  0.085   0.397   \n",
      "High.jump      1.0     1.0      1.0  0.610   9.025  0.372 -0.465  11.772   \n",
      "X400m          1.0     1.0      1.0 -0.702  11.936  0.492  0.290   4.580   \n",
      "X110m.hurdle   1.0     1.0      1.0 -0.764  14.158  0.584 -0.025   0.033   \n",
      "Discus         1.0     1.0      1.0  0.743  13.393  0.552  0.050   0.134   \n",
      "Pole.vault     1.0     1.0      1.0 -0.217   1.145  0.047  0.807  35.462   \n",
      "Javeline       1.0     1.0      1.0  0.428   4.446  0.183  0.386   8.109   \n",
      "X1500m         1.0     1.0      1.0  0.004   0.000  0.000  0.784  33.473   \n",
      "\n",
      "               cos2  Dim.3     ctr   cos2  \n",
      "X100m         0.032  0.302   7.339  0.091  \n",
      "Long.jump     0.079 -0.191   2.930  0.036  \n",
      "Shot.put      0.007  0.518  21.620  0.268  \n",
      "High.jump     0.216  0.330   8.793  0.109  \n",
      "X400m         0.084  0.284   6.488  0.080  \n",
      "X110m.hurdle  0.001  0.449  16.261  0.201  \n",
      "Discus        0.002  0.177   2.515  0.031  \n",
      "Pole.vault    0.652  0.094   0.714  0.009  \n",
      "Javeline      0.149  0.604  29.453  0.365  \n",
      "X1500m        0.615 -0.219   3.887  0.048  \n",
      "\n",
      "Supplementary continuous variables\n",
      "\n",
      "        Dim.1   cos2  Dim.2   cos2  Dim.3   cos2\n",
      "Rank   -0.701  0.492 -0.245  0.060 -0.183  0.034\n",
      "Points  0.964  0.929  0.078  0.006  0.158  0.025\n",
      "\n",
      "Supplementary categories\n",
      "\n",
      "           dist  Dim.1   cos2  v.test  Dim.2   cos2  v.test  Dim.3   cos2  \\\n",
      "Decastar  1.412 -1.343  0.905  -2.971  0.122  0.007   0.403 -0.038  0.001   \n",
      "OlympicG  1.294  1.231  0.905   2.971 -0.112  0.007  -0.403  0.035  0.001   \n",
      "\n",
      "          v.test  \n",
      "Decastar  -0.153  \n",
      "OlympicG   0.153  \n",
      "\n",
      "Supplementary categorical variable (eta2)\n",
      "\n",
      "             Dim.1  Dim.2  Dim.3\n",
      "Competition  0.401  0.007  0.001\n"
     ]
    }
   ],
   "source": [
    "from scientisttools import summaryPCA\n",
    "summaryPCA(res_pca,to_markdown=False)"
   ]
  },
  {
   "cell_type": "markdown",
   "metadata": {},
   "source": [
    "## Approche par Machine Learning"
   ]
  },
  {
   "cell_type": "code",
   "execution_count": 47,
   "metadata": {},
   "outputs": [],
   "source": [
    "from sklearn.pipeline import Pipeline\n",
    "from sklearn.linear_model import LogisticRegression\n",
    "from sklearn.model_selection import GridSearchCV"
   ]
  },
  {
   "cell_type": "code",
   "execution_count": 48,
   "metadata": {},
   "outputs": [],
   "source": [
    "x = X.drop(columns=[\"Competition\"])\n",
    "y = X[\"Competition\"]"
   ]
  },
  {
   "cell_type": "code",
   "execution_count": 49,
   "metadata": {},
   "outputs": [
    {
     "data": {
      "text/html": [
       "<style>#sk-container-id-6 {color: black;background-color: white;}#sk-container-id-6 pre{padding: 0;}#sk-container-id-6 div.sk-toggleable {background-color: white;}#sk-container-id-6 label.sk-toggleable__label {cursor: pointer;display: block;width: 100%;margin-bottom: 0;padding: 0.3em;box-sizing: border-box;text-align: center;}#sk-container-id-6 label.sk-toggleable__label-arrow:before {content: \"▸\";float: left;margin-right: 0.25em;color: #696969;}#sk-container-id-6 label.sk-toggleable__label-arrow:hover:before {color: black;}#sk-container-id-6 div.sk-estimator:hover label.sk-toggleable__label-arrow:before {color: black;}#sk-container-id-6 div.sk-toggleable__content {max-height: 0;max-width: 0;overflow: hidden;text-align: left;background-color: #f0f8ff;}#sk-container-id-6 div.sk-toggleable__content pre {margin: 0.2em;color: black;border-radius: 0.25em;background-color: #f0f8ff;}#sk-container-id-6 input.sk-toggleable__control:checked~div.sk-toggleable__content {max-height: 200px;max-width: 100%;overflow: auto;}#sk-container-id-6 input.sk-toggleable__control:checked~label.sk-toggleable__label-arrow:before {content: \"▾\";}#sk-container-id-6 div.sk-estimator input.sk-toggleable__control:checked~label.sk-toggleable__label {background-color: #d4ebff;}#sk-container-id-6 div.sk-label input.sk-toggleable__control:checked~label.sk-toggleable__label {background-color: #d4ebff;}#sk-container-id-6 input.sk-hidden--visually {border: 0;clip: rect(1px 1px 1px 1px);clip: rect(1px, 1px, 1px, 1px);height: 1px;margin: -1px;overflow: hidden;padding: 0;position: absolute;width: 1px;}#sk-container-id-6 div.sk-estimator {font-family: monospace;background-color: #f0f8ff;border: 1px dotted black;border-radius: 0.25em;box-sizing: border-box;margin-bottom: 0.5em;}#sk-container-id-6 div.sk-estimator:hover {background-color: #d4ebff;}#sk-container-id-6 div.sk-parallel-item::after {content: \"\";width: 100%;border-bottom: 1px solid gray;flex-grow: 1;}#sk-container-id-6 div.sk-label:hover label.sk-toggleable__label {background-color: #d4ebff;}#sk-container-id-6 div.sk-serial::before {content: \"\";position: absolute;border-left: 1px solid gray;box-sizing: border-box;top: 0;bottom: 0;left: 50%;z-index: 0;}#sk-container-id-6 div.sk-serial {display: flex;flex-direction: column;align-items: center;background-color: white;padding-right: 0.2em;padding-left: 0.2em;position: relative;}#sk-container-id-6 div.sk-item {position: relative;z-index: 1;}#sk-container-id-6 div.sk-parallel {display: flex;align-items: stretch;justify-content: center;background-color: white;position: relative;}#sk-container-id-6 div.sk-item::before, #sk-container-id-6 div.sk-parallel-item::before {content: \"\";position: absolute;border-left: 1px solid gray;box-sizing: border-box;top: 0;bottom: 0;left: 50%;z-index: -1;}#sk-container-id-6 div.sk-parallel-item {display: flex;flex-direction: column;z-index: 1;position: relative;background-color: white;}#sk-container-id-6 div.sk-parallel-item:first-child::after {align-self: flex-end;width: 50%;}#sk-container-id-6 div.sk-parallel-item:last-child::after {align-self: flex-start;width: 50%;}#sk-container-id-6 div.sk-parallel-item:only-child::after {width: 0;}#sk-container-id-6 div.sk-dashed-wrapped {border: 1px dashed gray;margin: 0 0.4em 0.5em 0.4em;box-sizing: border-box;padding-bottom: 0.4em;background-color: white;}#sk-container-id-6 div.sk-label label {font-family: monospace;font-weight: bold;display: inline-block;line-height: 1.2em;}#sk-container-id-6 div.sk-label-container {text-align: center;}#sk-container-id-6 div.sk-container {/* jupyter's `normalize.less` sets `[hidden] { display: none; }` but bootstrap.min.css set `[hidden] { display: none !important; }` so we also need the `!important` here to be able to override the default hidden behavior on the sphinx rendered scikit-learn.org. See: https://github.com/scikit-learn/scikit-learn/issues/21755 */display: inline-block !important;position: relative;}#sk-container-id-6 div.sk-text-repr-fallback {display: none;}</style><div id=\"sk-container-id-6\" class=\"sk-top-container\"><div class=\"sk-text-repr-fallback\"><pre>Pipeline(steps=[(&#x27;pca&#x27;, PCA()),\n",
       "                (&#x27;logistic_regression&#x27;, LogisticRegression(penalty=&#x27;none&#x27;))])</pre><b>In a Jupyter environment, please rerun this cell to show the HTML representation or trust the notebook. <br />On GitHub, the HTML representation is unable to render, please try loading this page with nbviewer.org.</b></div><div class=\"sk-container\" hidden><div class=\"sk-item sk-dashed-wrapped\"><div class=\"sk-label-container\"><div class=\"sk-label sk-toggleable\"><input class=\"sk-toggleable__control sk-hidden--visually\" id=\"sk-estimator-id-6\" type=\"checkbox\" ><label for=\"sk-estimator-id-6\" class=\"sk-toggleable__label sk-toggleable__label-arrow\">Pipeline</label><div class=\"sk-toggleable__content\"><pre>Pipeline(steps=[(&#x27;pca&#x27;, PCA()),\n",
       "                (&#x27;logistic_regression&#x27;, LogisticRegression(penalty=&#x27;none&#x27;))])</pre></div></div></div><div class=\"sk-serial\"><div class=\"sk-item\"><div class=\"sk-estimator sk-toggleable\"><input class=\"sk-toggleable__control sk-hidden--visually\" id=\"sk-estimator-id-7\" type=\"checkbox\" ><label for=\"sk-estimator-id-7\" class=\"sk-toggleable__label sk-toggleable__label-arrow\">PCA</label><div class=\"sk-toggleable__content\"><pre>PCA()</pre></div></div></div><div class=\"sk-item\"><div class=\"sk-estimator sk-toggleable\"><input class=\"sk-toggleable__control sk-hidden--visually\" id=\"sk-estimator-id-8\" type=\"checkbox\" ><label for=\"sk-estimator-id-8\" class=\"sk-toggleable__label sk-toggleable__label-arrow\">LogisticRegression</label><div class=\"sk-toggleable__content\"><pre>LogisticRegression(penalty=&#x27;none&#x27;)</pre></div></div></div></div></div></div></div>"
      ],
      "text/plain": [
       "Pipeline(steps=[('pca', PCA()),\n",
       "                ('logistic_regression', LogisticRegression(penalty='none'))])"
      ]
     },
     "execution_count": 49,
     "metadata": {},
     "output_type": "execute_result"
    }
   ],
   "source": [
    "# Construction de la Pipeline\n",
    "# On enchaine une Analyse en Composantes Prnicipales (4 axes retenus) puis une régression logistique\n",
    "pipe = Pipeline([(\"pca\", PCA()), (\"logistic_regression\", LogisticRegression(penalty=\"none\"))])\n",
    "# Estimation du modèle\n",
    "pipe.fit(x, y)"
   ]
  },
  {
   "cell_type": "markdown",
   "metadata": {},
   "source": [
    "#### Recherche oprimale de `n_components`"
   ]
  },
  {
   "cell_type": "code",
   "execution_count": 50,
   "metadata": {},
   "outputs": [
    {
     "data": {
      "text/html": [
       "<style>#sk-container-id-7 {color: black;background-color: white;}#sk-container-id-7 pre{padding: 0;}#sk-container-id-7 div.sk-toggleable {background-color: white;}#sk-container-id-7 label.sk-toggleable__label {cursor: pointer;display: block;width: 100%;margin-bottom: 0;padding: 0.3em;box-sizing: border-box;text-align: center;}#sk-container-id-7 label.sk-toggleable__label-arrow:before {content: \"▸\";float: left;margin-right: 0.25em;color: #696969;}#sk-container-id-7 label.sk-toggleable__label-arrow:hover:before {color: black;}#sk-container-id-7 div.sk-estimator:hover label.sk-toggleable__label-arrow:before {color: black;}#sk-container-id-7 div.sk-toggleable__content {max-height: 0;max-width: 0;overflow: hidden;text-align: left;background-color: #f0f8ff;}#sk-container-id-7 div.sk-toggleable__content pre {margin: 0.2em;color: black;border-radius: 0.25em;background-color: #f0f8ff;}#sk-container-id-7 input.sk-toggleable__control:checked~div.sk-toggleable__content {max-height: 200px;max-width: 100%;overflow: auto;}#sk-container-id-7 input.sk-toggleable__control:checked~label.sk-toggleable__label-arrow:before {content: \"▾\";}#sk-container-id-7 div.sk-estimator input.sk-toggleable__control:checked~label.sk-toggleable__label {background-color: #d4ebff;}#sk-container-id-7 div.sk-label input.sk-toggleable__control:checked~label.sk-toggleable__label {background-color: #d4ebff;}#sk-container-id-7 input.sk-hidden--visually {border: 0;clip: rect(1px 1px 1px 1px);clip: rect(1px, 1px, 1px, 1px);height: 1px;margin: -1px;overflow: hidden;padding: 0;position: absolute;width: 1px;}#sk-container-id-7 div.sk-estimator {font-family: monospace;background-color: #f0f8ff;border: 1px dotted black;border-radius: 0.25em;box-sizing: border-box;margin-bottom: 0.5em;}#sk-container-id-7 div.sk-estimator:hover {background-color: #d4ebff;}#sk-container-id-7 div.sk-parallel-item::after {content: \"\";width: 100%;border-bottom: 1px solid gray;flex-grow: 1;}#sk-container-id-7 div.sk-label:hover label.sk-toggleable__label {background-color: #d4ebff;}#sk-container-id-7 div.sk-serial::before {content: \"\";position: absolute;border-left: 1px solid gray;box-sizing: border-box;top: 0;bottom: 0;left: 50%;z-index: 0;}#sk-container-id-7 div.sk-serial {display: flex;flex-direction: column;align-items: center;background-color: white;padding-right: 0.2em;padding-left: 0.2em;position: relative;}#sk-container-id-7 div.sk-item {position: relative;z-index: 1;}#sk-container-id-7 div.sk-parallel {display: flex;align-items: stretch;justify-content: center;background-color: white;position: relative;}#sk-container-id-7 div.sk-item::before, #sk-container-id-7 div.sk-parallel-item::before {content: \"\";position: absolute;border-left: 1px solid gray;box-sizing: border-box;top: 0;bottom: 0;left: 50%;z-index: -1;}#sk-container-id-7 div.sk-parallel-item {display: flex;flex-direction: column;z-index: 1;position: relative;background-color: white;}#sk-container-id-7 div.sk-parallel-item:first-child::after {align-self: flex-end;width: 50%;}#sk-container-id-7 div.sk-parallel-item:last-child::after {align-self: flex-start;width: 50%;}#sk-container-id-7 div.sk-parallel-item:only-child::after {width: 0;}#sk-container-id-7 div.sk-dashed-wrapped {border: 1px dashed gray;margin: 0 0.4em 0.5em 0.4em;box-sizing: border-box;padding-bottom: 0.4em;background-color: white;}#sk-container-id-7 div.sk-label label {font-family: monospace;font-weight: bold;display: inline-block;line-height: 1.2em;}#sk-container-id-7 div.sk-label-container {text-align: center;}#sk-container-id-7 div.sk-container {/* jupyter's `normalize.less` sets `[hidden] { display: none; }` but bootstrap.min.css set `[hidden] { display: none !important; }` so we also need the `!important` here to be able to override the default hidden behavior on the sphinx rendered scikit-learn.org. See: https://github.com/scikit-learn/scikit-learn/issues/21755 */display: inline-block !important;position: relative;}#sk-container-id-7 div.sk-text-repr-fallback {display: none;}</style><div id=\"sk-container-id-7\" class=\"sk-top-container\"><div class=\"sk-text-repr-fallback\"><pre>GridSearchCV(estimator=Pipeline(steps=[(&#x27;pca&#x27;, PCA(n_components=None)),\n",
       "                                       (&#x27;logistic_regression&#x27;,\n",
       "                                        LogisticRegression(penalty=&#x27;none&#x27;))]),\n",
       "             param_grid=[{&#x27;pca__n_components&#x27;: [1, 2, 3, 4, 5, 6, 7, 8, 9, 10,\n",
       "                                                11, 12]}],\n",
       "             scoring=&#x27;accuracy&#x27;)</pre><b>In a Jupyter environment, please rerun this cell to show the HTML representation or trust the notebook. <br />On GitHub, the HTML representation is unable to render, please try loading this page with nbviewer.org.</b></div><div class=\"sk-container\" hidden><div class=\"sk-item sk-dashed-wrapped\"><div class=\"sk-label-container\"><div class=\"sk-label sk-toggleable\"><input class=\"sk-toggleable__control sk-hidden--visually\" id=\"sk-estimator-id-9\" type=\"checkbox\" ><label for=\"sk-estimator-id-9\" class=\"sk-toggleable__label sk-toggleable__label-arrow\">GridSearchCV</label><div class=\"sk-toggleable__content\"><pre>GridSearchCV(estimator=Pipeline(steps=[(&#x27;pca&#x27;, PCA(n_components=None)),\n",
       "                                       (&#x27;logistic_regression&#x27;,\n",
       "                                        LogisticRegression(penalty=&#x27;none&#x27;))]),\n",
       "             param_grid=[{&#x27;pca__n_components&#x27;: [1, 2, 3, 4, 5, 6, 7, 8, 9, 10,\n",
       "                                                11, 12]}],\n",
       "             scoring=&#x27;accuracy&#x27;)</pre></div></div></div><div class=\"sk-parallel\"><div class=\"sk-parallel-item\"><div class=\"sk-item\"><div class=\"sk-label-container\"><div class=\"sk-label sk-toggleable\"><input class=\"sk-toggleable__control sk-hidden--visually\" id=\"sk-estimator-id-10\" type=\"checkbox\" ><label for=\"sk-estimator-id-10\" class=\"sk-toggleable__label sk-toggleable__label-arrow\">estimator: Pipeline</label><div class=\"sk-toggleable__content\"><pre>Pipeline(steps=[(&#x27;pca&#x27;, PCA(n_components=None)),\n",
       "                (&#x27;logistic_regression&#x27;, LogisticRegression(penalty=&#x27;none&#x27;))])</pre></div></div></div><div class=\"sk-serial\"><div class=\"sk-item\"><div class=\"sk-serial\"><div class=\"sk-item\"><div class=\"sk-estimator sk-toggleable\"><input class=\"sk-toggleable__control sk-hidden--visually\" id=\"sk-estimator-id-11\" type=\"checkbox\" ><label for=\"sk-estimator-id-11\" class=\"sk-toggleable__label sk-toggleable__label-arrow\">PCA</label><div class=\"sk-toggleable__content\"><pre>PCA(n_components=None)</pre></div></div></div><div class=\"sk-item\"><div class=\"sk-estimator sk-toggleable\"><input class=\"sk-toggleable__control sk-hidden--visually\" id=\"sk-estimator-id-12\" type=\"checkbox\" ><label for=\"sk-estimator-id-12\" class=\"sk-toggleable__label sk-toggleable__label-arrow\">LogisticRegression</label><div class=\"sk-toggleable__content\"><pre>LogisticRegression(penalty=&#x27;none&#x27;)</pre></div></div></div></div></div></div></div></div></div></div></div></div>"
      ],
      "text/plain": [
       "GridSearchCV(estimator=Pipeline(steps=[('pca', PCA(n_components=None)),\n",
       "                                       ('logistic_regression',\n",
       "                                        LogisticRegression(penalty='none'))]),\n",
       "             param_grid=[{'pca__n_components': [1, 2, 3, 4, 5, 6, 7, 8, 9, 10,\n",
       "                                                11, 12]}],\n",
       "             scoring='accuracy')"
      ]
     },
     "execution_count": 50,
     "metadata": {},
     "output_type": "execute_result"
    }
   ],
   "source": [
    "# Reconstruction d'une Pipeline, sans spécifier de valeur a priori pour n_components\n",
    "pipe2 = Pipeline([(\"pca\", PCA(n_components=None)), (\"logistic_regression\", LogisticRegression(penalty=\"none\"))])\n",
    "param = [{\"pca__n_components\": [x + 1 for x in range(x.shape[1])]}]\n",
    "# Construction de l'obet GridSearchCV\n",
    "grid_search = GridSearchCV(pipe2, param_grid=param, scoring=\"accuracy\")\n",
    "# Estimation du modèle\n",
    "grid_search.fit(x, y)"
   ]
  },
  {
   "cell_type": "code",
   "execution_count": 51,
   "metadata": {},
   "outputs": [
    {
     "data": {
      "text/plain": [
       "{'pca__n_components': 10}"
      ]
     },
     "execution_count": 51,
     "metadata": {},
     "output_type": "execute_result"
    }
   ],
   "source": [
    "# Affichage du paramètre optimal\n",
    "grid_search.best_params_"
   ]
  }
 ],
 "metadata": {
  "kernelspec": {
   "display_name": "Python 3",
   "language": "python",
   "name": "python3"
  },
  "language_info": {
   "codemirror_mode": {
    "name": "ipython",
    "version": 3
   },
   "file_extension": ".py",
   "mimetype": "text/x-python",
   "name": "python",
   "nbconvert_exporter": "python",
   "pygments_lexer": "ipython3",
   "version": "3.10.5"
  }
 },
 "nbformat": 4,
 "nbformat_minor": 2
}
