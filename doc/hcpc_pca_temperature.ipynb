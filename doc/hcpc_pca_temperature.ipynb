{
 "cells": [
  {
   "cell_type": "markdown",
   "metadata": {},
   "source": [
    "# HCPC temperature"
   ]
  },
  {
   "cell_type": "code",
   "execution_count": 1,
   "metadata": {},
   "outputs": [],
   "source": [
    "import warnings\n",
    "warnings.simplefilter(action='ignore', category=FutureWarning)\n",
    "warnings.filterwarnings(\"ignore\")"
   ]
  },
  {
   "cell_type": "code",
   "execution_count": 2,
   "metadata": {},
   "outputs": [
    {
     "name": "stdout",
     "output_type": "stream",
     "text": [
      "<class 'pandas.core.frame.DataFrame'>\n",
      "Index: 25 entries, Bordeaux to Dublin\n",
      "Data columns (total 17 columns):\n",
      " #   Column  Non-Null Count  Dtype  \n",
      "---  ------  --------------  -----  \n",
      " 0   Jan     25 non-null     float64\n",
      " 1   Fev     25 non-null     float64\n",
      " 2   Mars    25 non-null     float64\n",
      " 3   Avril   25 non-null     float64\n",
      " 4   Mai     25 non-null     float64\n",
      " 5   Juin    25 non-null     float64\n",
      " 6   Juil    25 non-null     float64\n",
      " 7   Août    25 non-null     float64\n",
      " 8   Sept    25 non-null     float64\n",
      " 9   Oct     25 non-null     float64\n",
      " 10  Nov     25 non-null     float64\n",
      " 11  Dec     25 non-null     float64\n",
      " 12  moy     15 non-null     float64\n",
      " 13  amp     15 non-null     float64\n",
      " 14  Lati    15 non-null     float64\n",
      " 15  Long    15 non-null     float64\n",
      " 16  groupe  15 non-null     object \n",
      "dtypes: float64(16), object(1)\n",
      "memory usage: 3.5+ KB\n"
     ]
    }
   ],
   "source": [
    "from scientisttools.datasets import load_temperature2\n",
    "X = load_temperature2( )\n",
    "X.info()"
   ]
  },
  {
   "cell_type": "code",
   "execution_count": 3,
   "metadata": {},
   "outputs": [
    {
     "name": "stdout",
     "output_type": "stream",
     "text": [
      "Missing values are imputed by the mean of the variable.\n"
     ]
    },
    {
     "data": {
      "text/html": [
       "<style>#sk-container-id-1 {color: black;background-color: white;}#sk-container-id-1 pre{padding: 0;}#sk-container-id-1 div.sk-toggleable {background-color: white;}#sk-container-id-1 label.sk-toggleable__label {cursor: pointer;display: block;width: 100%;margin-bottom: 0;padding: 0.3em;box-sizing: border-box;text-align: center;}#sk-container-id-1 label.sk-toggleable__label-arrow:before {content: \"▸\";float: left;margin-right: 0.25em;color: #696969;}#sk-container-id-1 label.sk-toggleable__label-arrow:hover:before {color: black;}#sk-container-id-1 div.sk-estimator:hover label.sk-toggleable__label-arrow:before {color: black;}#sk-container-id-1 div.sk-toggleable__content {max-height: 0;max-width: 0;overflow: hidden;text-align: left;background-color: #f0f8ff;}#sk-container-id-1 div.sk-toggleable__content pre {margin: 0.2em;color: black;border-radius: 0.25em;background-color: #f0f8ff;}#sk-container-id-1 input.sk-toggleable__control:checked~div.sk-toggleable__content {max-height: 200px;max-width: 100%;overflow: auto;}#sk-container-id-1 input.sk-toggleable__control:checked~label.sk-toggleable__label-arrow:before {content: \"▾\";}#sk-container-id-1 div.sk-estimator input.sk-toggleable__control:checked~label.sk-toggleable__label {background-color: #d4ebff;}#sk-container-id-1 div.sk-label input.sk-toggleable__control:checked~label.sk-toggleable__label {background-color: #d4ebff;}#sk-container-id-1 input.sk-hidden--visually {border: 0;clip: rect(1px 1px 1px 1px);clip: rect(1px, 1px, 1px, 1px);height: 1px;margin: -1px;overflow: hidden;padding: 0;position: absolute;width: 1px;}#sk-container-id-1 div.sk-estimator {font-family: monospace;background-color: #f0f8ff;border: 1px dotted black;border-radius: 0.25em;box-sizing: border-box;margin-bottom: 0.5em;}#sk-container-id-1 div.sk-estimator:hover {background-color: #d4ebff;}#sk-container-id-1 div.sk-parallel-item::after {content: \"\";width: 100%;border-bottom: 1px solid gray;flex-grow: 1;}#sk-container-id-1 div.sk-label:hover label.sk-toggleable__label {background-color: #d4ebff;}#sk-container-id-1 div.sk-serial::before {content: \"\";position: absolute;border-left: 1px solid gray;box-sizing: border-box;top: 0;bottom: 0;left: 50%;z-index: 0;}#sk-container-id-1 div.sk-serial {display: flex;flex-direction: column;align-items: center;background-color: white;padding-right: 0.2em;padding-left: 0.2em;position: relative;}#sk-container-id-1 div.sk-item {position: relative;z-index: 1;}#sk-container-id-1 div.sk-parallel {display: flex;align-items: stretch;justify-content: center;background-color: white;position: relative;}#sk-container-id-1 div.sk-item::before, #sk-container-id-1 div.sk-parallel-item::before {content: \"\";position: absolute;border-left: 1px solid gray;box-sizing: border-box;top: 0;bottom: 0;left: 50%;z-index: -1;}#sk-container-id-1 div.sk-parallel-item {display: flex;flex-direction: column;z-index: 1;position: relative;background-color: white;}#sk-container-id-1 div.sk-parallel-item:first-child::after {align-self: flex-end;width: 50%;}#sk-container-id-1 div.sk-parallel-item:last-child::after {align-self: flex-start;width: 50%;}#sk-container-id-1 div.sk-parallel-item:only-child::after {width: 0;}#sk-container-id-1 div.sk-dashed-wrapped {border: 1px dashed gray;margin: 0 0.4em 0.5em 0.4em;box-sizing: border-box;padding-bottom: 0.4em;background-color: white;}#sk-container-id-1 div.sk-label label {font-family: monospace;font-weight: bold;display: inline-block;line-height: 1.2em;}#sk-container-id-1 div.sk-label-container {text-align: center;}#sk-container-id-1 div.sk-container {/* jupyter's `normalize.less` sets `[hidden] { display: none; }` but bootstrap.min.css set `[hidden] { display: none !important; }` so we also need the `!important` here to be able to override the default hidden behavior on the sphinx rendered scikit-learn.org. See: https://github.com/scikit-learn/scikit-learn/issues/21755 */display: inline-block !important;position: relative;}#sk-container-id-1 div.sk-text-repr-fallback {display: none;}</style><div id=\"sk-container-id-1\" class=\"sk-top-container\"><div class=\"sk-text-repr-fallback\"><pre>PCA(ind_sup=[15, 16, 17, 18, 19, 20, 21, 22, 23, 24], parallelize=True,\n",
       "    quali_sup=16, quanti_sup=[12, 13, 14, 15])</pre><b>In a Jupyter environment, please rerun this cell to show the HTML representation or trust the notebook. <br />On GitHub, the HTML representation is unable to render, please try loading this page with nbviewer.org.</b></div><div class=\"sk-container\" hidden><div class=\"sk-item\"><div class=\"sk-estimator sk-toggleable\"><input class=\"sk-toggleable__control sk-hidden--visually\" id=\"sk-estimator-id-1\" type=\"checkbox\" checked><label for=\"sk-estimator-id-1\" class=\"sk-toggleable__label sk-toggleable__label-arrow\">PCA</label><div class=\"sk-toggleable__content\"><pre>PCA(ind_sup=[15, 16, 17, 18, 19, 20, 21, 22, 23, 24], parallelize=True,\n",
       "    quali_sup=16, quanti_sup=[12, 13, 14, 15])</pre></div></div></div></div></div>"
      ],
      "text/plain": [
       "PCA(ind_sup=[15, 16, 17, 18, 19, 20, 21, 22, 23, 24], parallelize=True,\n",
       "    quali_sup=16, quanti_sup=[12, 13, 14, 15])"
      ]
     },
     "execution_count": 3,
     "metadata": {},
     "output_type": "execute_result"
    }
   ],
   "source": [
    "from scientisttools import PCA\n",
    "res_pca = PCA(standardize=True,n_components=5,ind_sup=list(range(15,X.shape[0])),quanti_sup=list(range(12,16)),quali_sup=16,parallelize=True)\n",
    "res_pca.fit(X)"
   ]
  },
  {
   "cell_type": "code",
   "execution_count": 4,
   "metadata": {},
   "outputs": [
    {
     "data": {
      "image/png": "[encoded data removed]",
      "text/plain": [
       "<Figure size 432x288 with 1 Axes>"
      ]
     },
     "metadata": {
      "needs_background": "light"
     },
     "output_type": "display_data"
    },
    {
     "name": "stdout",
     "output_type": "stream",
     "text": [
      "\n"
     ]
    }
   ],
   "source": [
    "from scientisttools import fviz_pca_ind\n",
    "p = fviz_pca_ind(res_pca,repel=True,ind_sup=False,quali_sup=False)\n",
    "print(p)"
   ]
  },
  {
   "cell_type": "markdown",
   "metadata": {},
   "source": [
    "> L'observation graphique propose 3 groupes :\n",
    "> * Groupe 1 : Brest, Rennes et Nantes\n",
    "> * Groupe 2 : Nice, Bordeaux, Toulouse, Montpellier et Marseille\n",
    "> * Groupe 3 : le reste\n"
   ]
  },
  {
   "cell_type": "code",
   "execution_count": 5,
   "metadata": {},
   "outputs": [],
   "source": [
    "from scientisttools import HCPC\n",
    "res_hcpc = HCPC(res_pca,n_clusters=3)"
   ]
  },
  {
   "cell_type": "markdown",
   "metadata": {},
   "source": [
    "## Description of quantitatives variables"
   ]
  },
  {
   "cell_type": "code",
   "execution_count": 6,
   "metadata": {},
   "outputs": [
    {
     "data": {
      "text/plain": [
       "dict_keys(['quanti_var', 'quanti', 'test_chi2', 'category', 'call'])"
      ]
     },
     "execution_count": 6,
     "metadata": {},
     "output_type": "execute_result"
    }
   ],
   "source": [
    "desc_var = res_hcpc.desc_var_\n",
    "desc_var.keys()"
   ]
  },
  {
   "cell_type": "markdown",
   "metadata": {},
   "source": [
    "### Description of quantitatives variables in overall cluster"
   ]
  },
  {
   "cell_type": "code",
   "execution_count": 7,
   "metadata": {},
   "outputs": [
    {
     "data": {
      "text/html": [
       "<div>\n",
       "<style scoped>\n",
       "    .dataframe tbody tr th:only-of-type {\n",
       "        vertical-align: middle;\n",
       "    }\n",
       "\n",
       "    .dataframe tbody tr th {\n",
       "        vertical-align: top;\n",
       "    }\n",
       "\n",
       "    .dataframe thead th {\n",
       "        text-align: right;\n",
       "    }\n",
       "</style>\n",
       "<table border=\"1\" class=\"dataframe\">\n",
       "  <thead>\n",
       "    <tr style=\"text-align: right;\">\n",
       "      <th></th>\n",
       "      <th>Eta2</th>\n",
       "      <th>pvalue</th>\n",
       "    </tr>\n",
       "  </thead>\n",
       "  <tbody>\n",
       "    <tr>\n",
       "      <th>moy</th>\n",
       "      <td>0.836587</td>\n",
       "      <td>0.000019</td>\n",
       "    </tr>\n",
       "    <tr>\n",
       "      <th>Oct</th>\n",
       "      <td>0.836220</td>\n",
       "      <td>0.000019</td>\n",
       "    </tr>\n",
       "    <tr>\n",
       "      <th>Sept</th>\n",
       "      <td>0.830080</td>\n",
       "      <td>0.000024</td>\n",
       "    </tr>\n",
       "    <tr>\n",
       "      <th>Fev</th>\n",
       "      <td>0.822729</td>\n",
       "      <td>0.000031</td>\n",
       "    </tr>\n",
       "    <tr>\n",
       "      <th>Mars</th>\n",
       "      <td>0.812639</td>\n",
       "      <td>0.000043</td>\n",
       "    </tr>\n",
       "    <tr>\n",
       "      <th>Jan</th>\n",
       "      <td>0.811794</td>\n",
       "      <td>0.000044</td>\n",
       "    </tr>\n",
       "    <tr>\n",
       "      <th>Nov</th>\n",
       "      <td>0.808300</td>\n",
       "      <td>0.000050</td>\n",
       "    </tr>\n",
       "    <tr>\n",
       "      <th>Avril</th>\n",
       "      <td>0.792899</td>\n",
       "      <td>0.000079</td>\n",
       "    </tr>\n",
       "    <tr>\n",
       "      <th>Dec</th>\n",
       "      <td>0.787085</td>\n",
       "      <td>0.000093</td>\n",
       "    </tr>\n",
       "    <tr>\n",
       "      <th>Août</th>\n",
       "      <td>0.786378</td>\n",
       "      <td>0.000095</td>\n",
       "    </tr>\n",
       "    <tr>\n",
       "      <th>Juin</th>\n",
       "      <td>0.724120</td>\n",
       "      <td>0.000441</td>\n",
       "    </tr>\n",
       "    <tr>\n",
       "      <th>Mai</th>\n",
       "      <td>0.716377</td>\n",
       "      <td>0.000521</td>\n",
       "    </tr>\n",
       "    <tr>\n",
       "      <th>Juil</th>\n",
       "      <td>0.715637</td>\n",
       "      <td>0.000529</td>\n",
       "    </tr>\n",
       "    <tr>\n",
       "      <th>amp</th>\n",
       "      <td>0.646425</td>\n",
       "      <td>0.001954</td>\n",
       "    </tr>\n",
       "    <tr>\n",
       "      <th>Lati</th>\n",
       "      <td>0.639599</td>\n",
       "      <td>0.002191</td>\n",
       "    </tr>\n",
       "    <tr>\n",
       "      <th>Long</th>\n",
       "      <td>0.601613</td>\n",
       "      <td>0.003998</td>\n",
       "    </tr>\n",
       "  </tbody>\n",
       "</table>\n",
       "</div>"
      ],
      "text/plain": [
       "           Eta2    pvalue\n",
       "moy    0.836587  0.000019\n",
       "Oct    0.836220  0.000019\n",
       "Sept   0.830080  0.000024\n",
       "Fev    0.822729  0.000031\n",
       "Mars   0.812639  0.000043\n",
       "Jan    0.811794  0.000044\n",
       "Nov    0.808300  0.000050\n",
       "Avril  0.792899  0.000079\n",
       "Dec    0.787085  0.000093\n",
       "Août   0.786378  0.000095\n",
       "Juin   0.724120  0.000441\n",
       "Mai    0.716377  0.000521\n",
       "Juil   0.715637  0.000529\n",
       "amp    0.646425  0.001954\n",
       "Lati   0.639599  0.002191\n",
       "Long   0.601613  0.003998"
      ]
     },
     "execution_count": 7,
     "metadata": {},
     "output_type": "execute_result"
    }
   ],
   "source": [
    "quanti_var = desc_var[\"quanti_var\"]\n",
    "quanti_var"
   ]
  },
  {
   "cell_type": "markdown",
   "metadata": {},
   "source": [
    "### Description of quantitatives variables by cluster"
   ]
  },
  {
   "cell_type": "code",
   "execution_count": 8,
   "metadata": {},
   "outputs": [
    {
     "data": {
      "text/html": [
       "<div>\n",
       "<style scoped>\n",
       "    .dataframe tbody tr th:only-of-type {\n",
       "        vertical-align: middle;\n",
       "    }\n",
       "\n",
       "    .dataframe tbody tr th {\n",
       "        vertical-align: top;\n",
       "    }\n",
       "\n",
       "    .dataframe thead th {\n",
       "        text-align: right;\n",
       "    }\n",
       "</style>\n",
       "<table border=\"1\" class=\"dataframe\">\n",
       "  <thead>\n",
       "    <tr style=\"text-align: right;\">\n",
       "      <th></th>\n",
       "      <th>vtest</th>\n",
       "      <th>Mean in category</th>\n",
       "      <th>Overall mean</th>\n",
       "      <th>sd in categorie</th>\n",
       "      <th>Overall sd</th>\n",
       "      <th>pvalue</th>\n",
       "    </tr>\n",
       "  </thead>\n",
       "  <tbody>\n",
       "    <tr>\n",
       "      <th>Sept</th>\n",
       "      <td>3.398358</td>\n",
       "      <td>19.280000</td>\n",
       "      <td>16.986667</td>\n",
       "      <td>0.754718</td>\n",
       "      <td>1.785447</td>\n",
       "      <td>0.000678</td>\n",
       "    </tr>\n",
       "    <tr>\n",
       "      <th>moy</th>\n",
       "      <td>3.387913</td>\n",
       "      <td>13.796667</td>\n",
       "      <td>11.813889</td>\n",
       "      <td>0.741069</td>\n",
       "      <td>1.548427</td>\n",
       "      <td>0.000704</td>\n",
       "    </tr>\n",
       "    <tr>\n",
       "      <th>Avril</th>\n",
       "      <td>3.329339</td>\n",
       "      <td>12.700000</td>\n",
       "      <td>10.980000</td>\n",
       "      <td>0.579655</td>\n",
       "      <td>1.366846</td>\n",
       "      <td>0.000871</td>\n",
       "    </tr>\n",
       "    <tr>\n",
       "      <th>Oct</th>\n",
       "      <td>3.322273</td>\n",
       "      <td>14.540000</td>\n",
       "      <td>12.320000</td>\n",
       "      <td>0.941488</td>\n",
       "      <td>1.767937</td>\n",
       "      <td>0.000893</td>\n",
       "    </tr>\n",
       "    <tr>\n",
       "      <th>Mars</th>\n",
       "      <td>3.235769</td>\n",
       "      <td>10.040000</td>\n",
       "      <td>8.233333</td>\n",
       "      <td>0.523832</td>\n",
       "      <td>1.477235</td>\n",
       "      <td>0.001213</td>\n",
       "    </tr>\n",
       "    <tr>\n",
       "      <th>Août</th>\n",
       "      <td>3.176011</td>\n",
       "      <td>21.900000</td>\n",
       "      <td>19.566667</td>\n",
       "      <td>0.792465</td>\n",
       "      <td>1.943765</td>\n",
       "      <td>0.001493</td>\n",
       "    </tr>\n",
       "    <tr>\n",
       "      <th>Juin</th>\n",
       "      <td>3.003021</td>\n",
       "      <td>19.800000</td>\n",
       "      <td>17.833333</td>\n",
       "      <td>0.726636</td>\n",
       "      <td>1.732692</td>\n",
       "      <td>0.002673</td>\n",
       "    </tr>\n",
       "    <tr>\n",
       "      <th>Mai</th>\n",
       "      <td>2.997205</td>\n",
       "      <td>16.080000</td>\n",
       "      <td>14.433333</td>\n",
       "      <td>0.691086</td>\n",
       "      <td>1.453578</td>\n",
       "      <td>0.002725</td>\n",
       "    </tr>\n",
       "    <tr>\n",
       "      <th>Nov</th>\n",
       "      <td>2.965719</td>\n",
       "      <td>9.880000</td>\n",
       "      <td>7.926667</td>\n",
       "      <td>0.998799</td>\n",
       "      <td>1.742591</td>\n",
       "      <td>0.003020</td>\n",
       "    </tr>\n",
       "    <tr>\n",
       "      <th>Juil</th>\n",
       "      <td>2.915782</td>\n",
       "      <td>22.100000</td>\n",
       "      <td>19.833333</td>\n",
       "      <td>1.003992</td>\n",
       "      <td>2.056750</td>\n",
       "      <td>0.003548</td>\n",
       "    </tr>\n",
       "    <tr>\n",
       "      <th>Fev</th>\n",
       "      <td>2.882633</td>\n",
       "      <td>6.800000</td>\n",
       "      <td>4.833333</td>\n",
       "      <td>0.940213</td>\n",
       "      <td>1.805055</td>\n",
       "      <td>0.003944</td>\n",
       "    </tr>\n",
       "    <tr>\n",
       "      <th>Dec</th>\n",
       "      <td>2.535689</td>\n",
       "      <td>6.660000</td>\n",
       "      <td>4.846667</td>\n",
       "      <td>0.895768</td>\n",
       "      <td>1.892042</td>\n",
       "      <td>0.011223</td>\n",
       "    </tr>\n",
       "    <tr>\n",
       "      <th>Jan</th>\n",
       "      <td>2.464888</td>\n",
       "      <td>5.780000</td>\n",
       "      <td>3.973333</td>\n",
       "      <td>0.923905</td>\n",
       "      <td>1.939232</td>\n",
       "      <td>0.013706</td>\n",
       "    </tr>\n",
       "    <tr>\n",
       "      <th>Lati</th>\n",
       "      <td>-2.953993</td>\n",
       "      <td>43.564000</td>\n",
       "      <td>46.039333</td>\n",
       "      <td>0.474873</td>\n",
       "      <td>2.217038</td>\n",
       "      <td>0.003137</td>\n",
       "    </tr>\n",
       "  </tbody>\n",
       "</table>\n",
       "</div>"
      ],
      "text/plain": [
       "          vtest  Mean in category  Overall mean  sd in categorie  Overall sd  \\\n",
       "Sept   3.398358         19.280000     16.986667         0.754718    1.785447   \n",
       "moy    3.387913         13.796667     11.813889         0.741069    1.548427   \n",
       "Avril  3.329339         12.700000     10.980000         0.579655    1.366846   \n",
       "Oct    3.322273         14.540000     12.320000         0.941488    1.767937   \n",
       "Mars   3.235769         10.040000      8.233333         0.523832    1.477235   \n",
       "Août   3.176011         21.900000     19.566667         0.792465    1.943765   \n",
       "Juin   3.003021         19.800000     17.833333         0.726636    1.732692   \n",
       "Mai    2.997205         16.080000     14.433333         0.691086    1.453578   \n",
       "Nov    2.965719          9.880000      7.926667         0.998799    1.742591   \n",
       "Juil   2.915782         22.100000     19.833333         1.003992    2.056750   \n",
       "Fev    2.882633          6.800000      4.833333         0.940213    1.805055   \n",
       "Dec    2.535689          6.660000      4.846667         0.895768    1.892042   \n",
       "Jan    2.464888          5.780000      3.973333         0.923905    1.939232   \n",
       "Lati  -2.953993         43.564000     46.039333         0.474873    2.217038   \n",
       "\n",
       "         pvalue  \n",
       "Sept   0.000678  \n",
       "moy    0.000704  \n",
       "Avril  0.000871  \n",
       "Oct    0.000893  \n",
       "Mars   0.001213  \n",
       "Août   0.001493  \n",
       "Juin   0.002673  \n",
       "Mai    0.002725  \n",
       "Nov    0.003020  \n",
       "Juil   0.003548  \n",
       "Fev    0.003944  \n",
       "Dec    0.011223  \n",
       "Jan    0.013706  \n",
       "Lati   0.003137  "
      ]
     },
     "execution_count": 8,
     "metadata": {},
     "output_type": "execute_result"
    }
   ],
   "source": [
    "quanti = desc_var[\"quanti\"]\n",
    "quanti[\"1\"]"
   ]
  },
  {
   "cell_type": "code",
   "execution_count": 9,
   "metadata": {},
   "outputs": [
    {
     "data": {
      "text/html": [
       "<div>\n",
       "<style scoped>\n",
       "    .dataframe tbody tr th:only-of-type {\n",
       "        vertical-align: middle;\n",
       "    }\n",
       "\n",
       "    .dataframe tbody tr th {\n",
       "        vertical-align: top;\n",
       "    }\n",
       "\n",
       "    .dataframe thead th {\n",
       "        text-align: right;\n",
       "    }\n",
       "</style>\n",
       "<table border=\"1\" class=\"dataframe\">\n",
       "  <thead>\n",
       "    <tr style=\"text-align: right;\">\n",
       "      <th></th>\n",
       "      <th>vtest</th>\n",
       "      <th>Mean in category</th>\n",
       "      <th>Overall mean</th>\n",
       "      <th>sd in categorie</th>\n",
       "      <th>Overall sd</th>\n",
       "      <th>pvalue</th>\n",
       "    </tr>\n",
       "  </thead>\n",
       "  <tbody>\n",
       "    <tr>\n",
       "      <th>Mai</th>\n",
       "      <td>-2.016380</td>\n",
       "      <td>12.866667</td>\n",
       "      <td>14.433333</td>\n",
       "      <td>0.953357</td>\n",
       "      <td>1.453578</td>\n",
       "      <td>0.043760</td>\n",
       "    </tr>\n",
       "    <tr>\n",
       "      <th>Août</th>\n",
       "      <td>-2.021201</td>\n",
       "      <td>17.466667</td>\n",
       "      <td>19.566667</td>\n",
       "      <td>1.087300</td>\n",
       "      <td>1.943765</td>\n",
       "      <td>0.043259</td>\n",
       "    </tr>\n",
       "    <tr>\n",
       "      <th>Juin</th>\n",
       "      <td>-2.051475</td>\n",
       "      <td>15.933333</td>\n",
       "      <td>17.833333</td>\n",
       "      <td>1.158543</td>\n",
       "      <td>1.732692</td>\n",
       "      <td>0.040221</td>\n",
       "    </tr>\n",
       "    <tr>\n",
       "      <th>Juil</th>\n",
       "      <td>-2.183050</td>\n",
       "      <td>17.433333</td>\n",
       "      <td>19.833333</td>\n",
       "      <td>1.347426</td>\n",
       "      <td>2.056750</td>\n",
       "      <td>0.029032</td>\n",
       "    </tr>\n",
       "    <tr>\n",
       "      <th>Long</th>\n",
       "      <td>-2.875244</td>\n",
       "      <td>-2.343333</td>\n",
       "      <td>2.583333</td>\n",
       "      <td>1.376889</td>\n",
       "      <td>3.205624</td>\n",
       "      <td>0.004037</td>\n",
       "    </tr>\n",
       "    <tr>\n",
       "      <th>amp</th>\n",
       "      <td>-2.952095</td>\n",
       "      <td>12.366667</td>\n",
       "      <td>15.913333</td>\n",
       "      <td>1.558489</td>\n",
       "      <td>2.247626</td>\n",
       "      <td>0.003156</td>\n",
       "    </tr>\n",
       "  </tbody>\n",
       "</table>\n",
       "</div>"
      ],
      "text/plain": [
       "         vtest  Mean in category  Overall mean  sd in categorie  Overall sd  \\\n",
       "Mai  -2.016380         12.866667     14.433333         0.953357    1.453578   \n",
       "Août -2.021201         17.466667     19.566667         1.087300    1.943765   \n",
       "Juin -2.051475         15.933333     17.833333         1.158543    1.732692   \n",
       "Juil -2.183050         17.433333     19.833333         1.347426    2.056750   \n",
       "Long -2.875244         -2.343333      2.583333         1.376889    3.205624   \n",
       "amp  -2.952095         12.366667     15.913333         1.558489    2.247626   \n",
       "\n",
       "        pvalue  \n",
       "Mai   0.043760  \n",
       "Août  0.043259  \n",
       "Juin  0.040221  \n",
       "Juil  0.029032  \n",
       "Long  0.004037  \n",
       "amp   0.003156  "
      ]
     },
     "execution_count": 9,
     "metadata": {},
     "output_type": "execute_result"
    }
   ],
   "source": [
    "# Cluster 2\n",
    "quanti[\"2\"]"
   ]
  },
  {
   "cell_type": "code",
   "execution_count": 10,
   "metadata": {},
   "outputs": [
    {
     "data": {
      "text/html": [
       "<div>\n",
       "<style scoped>\n",
       "    .dataframe tbody tr th:only-of-type {\n",
       "        vertical-align: middle;\n",
       "    }\n",
       "\n",
       "    .dataframe tbody tr th {\n",
       "        vertical-align: top;\n",
       "    }\n",
       "\n",
       "    .dataframe thead th {\n",
       "        text-align: right;\n",
       "    }\n",
       "</style>\n",
       "<table border=\"1\" class=\"dataframe\">\n",
       "  <thead>\n",
       "    <tr style=\"text-align: right;\">\n",
       "      <th></th>\n",
       "      <th>vtest</th>\n",
       "      <th>Mean in category</th>\n",
       "      <th>Overall mean</th>\n",
       "      <th>sd in categorie</th>\n",
       "      <th>Overall sd</th>\n",
       "      <th>pvalue</th>\n",
       "    </tr>\n",
       "  </thead>\n",
       "  <tbody>\n",
       "    <tr>\n",
       "      <th>Sept</th>\n",
       "      <td>-2.046173</td>\n",
       "      <td>15.942857</td>\n",
       "      <td>16.986667</td>\n",
       "      <td>0.738448</td>\n",
       "      <td>1.785447</td>\n",
       "      <td>0.040739</td>\n",
       "    </tr>\n",
       "    <tr>\n",
       "      <th>Avril</th>\n",
       "      <td>-2.107041</td>\n",
       "      <td>10.157143</td>\n",
       "      <td>10.980000</td>\n",
       "      <td>0.636637</td>\n",
       "      <td>1.366846</td>\n",
       "      <td>0.035114</td>\n",
       "    </tr>\n",
       "    <tr>\n",
       "      <th>moy</th>\n",
       "      <td>-2.603897</td>\n",
       "      <td>10.661905</td>\n",
       "      <td>11.813889</td>\n",
       "      <td>0.620737</td>\n",
       "      <td>1.548427</td>\n",
       "      <td>0.009217</td>\n",
       "    </tr>\n",
       "    <tr>\n",
       "      <th>Oct</th>\n",
       "      <td>-2.811187</td>\n",
       "      <td>10.900000</td>\n",
       "      <td>12.320000</td>\n",
       "      <td>0.661168</td>\n",
       "      <td>1.767937</td>\n",
       "      <td>0.004936</td>\n",
       "    </tr>\n",
       "    <tr>\n",
       "      <th>Mars</th>\n",
       "      <td>-2.854433</td>\n",
       "      <td>7.028571</td>\n",
       "      <td>8.233333</td>\n",
       "      <td>0.806605</td>\n",
       "      <td>1.477235</td>\n",
       "      <td>0.004311</td>\n",
       "    </tr>\n",
       "    <tr>\n",
       "      <th>Nov</th>\n",
       "      <td>-3.152395</td>\n",
       "      <td>6.357143</td>\n",
       "      <td>7.926667</td>\n",
       "      <td>0.654342</td>\n",
       "      <td>1.742591</td>\n",
       "      <td>0.001619</td>\n",
       "    </tr>\n",
       "    <tr>\n",
       "      <th>Fev</th>\n",
       "      <td>-3.250132</td>\n",
       "      <td>3.157143</td>\n",
       "      <td>4.833333</td>\n",
       "      <td>0.763183</td>\n",
       "      <td>1.805055</td>\n",
       "      <td>0.001154</td>\n",
       "    </tr>\n",
       "    <tr>\n",
       "      <th>Dec</th>\n",
       "      <td>-3.283930</td>\n",
       "      <td>3.071429</td>\n",
       "      <td>4.846667</td>\n",
       "      <td>0.911379</td>\n",
       "      <td>1.892042</td>\n",
       "      <td>0.001024</td>\n",
       "    </tr>\n",
       "    <tr>\n",
       "      <th>Jan</th>\n",
       "      <td>-3.355280</td>\n",
       "      <td>2.114286</td>\n",
       "      <td>3.973333</td>\n",
       "      <td>0.875750</td>\n",
       "      <td>1.939232</td>\n",
       "      <td>0.000793</td>\n",
       "    </tr>\n",
       "  </tbody>\n",
       "</table>\n",
       "</div>"
      ],
      "text/plain": [
       "          vtest  Mean in category  Overall mean  sd in categorie  Overall sd  \\\n",
       "Sept  -2.046173         15.942857     16.986667         0.738448    1.785447   \n",
       "Avril -2.107041         10.157143     10.980000         0.636637    1.366846   \n",
       "moy   -2.603897         10.661905     11.813889         0.620737    1.548427   \n",
       "Oct   -2.811187         10.900000     12.320000         0.661168    1.767937   \n",
       "Mars  -2.854433          7.028571      8.233333         0.806605    1.477235   \n",
       "Nov   -3.152395          6.357143      7.926667         0.654342    1.742591   \n",
       "Fev   -3.250132          3.157143      4.833333         0.763183    1.805055   \n",
       "Dec   -3.283930          3.071429      4.846667         0.911379    1.892042   \n",
       "Jan   -3.355280          2.114286      3.973333         0.875750    1.939232   \n",
       "\n",
       "         pvalue  \n",
       "Sept   0.040739  \n",
       "Avril  0.035114  \n",
       "moy    0.009217  \n",
       "Oct    0.004936  \n",
       "Mars   0.004311  \n",
       "Nov    0.001619  \n",
       "Fev    0.001154  \n",
       "Dec    0.001024  \n",
       "Jan    0.000793  "
      ]
     },
     "execution_count": 10,
     "metadata": {},
     "output_type": "execute_result"
    }
   ],
   "source": [
    "# Cluster 3\n",
    "quanti[\"3\"]"
   ]
  },
  {
   "cell_type": "markdown",
   "metadata": {},
   "source": [
    "## Description by individuals"
   ]
  },
  {
   "cell_type": "code",
   "execution_count": 11,
   "metadata": {},
   "outputs": [
    {
     "data": {
      "text/plain": [
       "dict_keys(['para', 'dist'])"
      ]
     },
     "execution_count": 11,
     "metadata": {},
     "output_type": "execute_result"
    }
   ],
   "source": [
    "desc_ind = res_hcpc.desc_ind_\n",
    "desc_ind.keys()"
   ]
  },
  {
   "cell_type": "markdown",
   "metadata": {},
   "source": [
    "### Paragons"
   ]
  },
  {
   "cell_type": "code",
   "execution_count": 12,
   "metadata": {},
   "outputs": [
    {
     "data": {
      "text/plain": [
       "Montpellier    0.175490\n",
       "Bordeaux       1.302643\n",
       "Marseille      1.423228\n",
       "Nice           5.027258\n",
       "Toulouse       5.088993\n",
       "Name: distance, dtype: float64"
      ]
     },
     "execution_count": 12,
     "metadata": {},
     "output_type": "execute_result"
    }
   ],
   "source": [
    "para = desc_ind[\"para\"]\n",
    "para[\"Cluster : 1\"]"
   ]
  },
  {
   "cell_type": "code",
   "execution_count": 13,
   "metadata": {},
   "outputs": [
    {
     "data": {
      "text/plain": [
       "Rennes    0.410280\n",
       "Nantes    2.514486\n",
       "Brest     4.182422\n",
       "Name: distance, dtype: float64"
      ]
     },
     "execution_count": 13,
     "metadata": {},
     "output_type": "execute_result"
    }
   ],
   "source": [
    "para[\"Cluster : 2\"]"
   ]
  },
  {
   "cell_type": "code",
   "execution_count": 14,
   "metadata": {},
   "outputs": [
    {
     "data": {
      "text/plain": [
       "Vichy       0.183210\n",
       "Clermont    0.446900\n",
       "Grenoble    1.401182\n",
       "Paris       1.793753\n",
       "Lyon        2.822719\n",
       "Name: distance, dtype: float64"
      ]
     },
     "execution_count": 14,
     "metadata": {},
     "output_type": "execute_result"
    }
   ],
   "source": [
    "para[\"Cluster : 3\"]"
   ]
  },
  {
   "cell_type": "markdown",
   "metadata": {},
   "source": [
    "## Description by axis"
   ]
  },
  {
   "cell_type": "code",
   "execution_count": 15,
   "metadata": {},
   "outputs": [
    {
     "data": {
      "text/plain": [
       "dict_keys(['quanti_var', 'quanti', 'call'])"
      ]
     },
     "execution_count": 15,
     "metadata": {},
     "output_type": "execute_result"
    }
   ],
   "source": [
    "desc_axes = res_hcpc.desc_axes_\n",
    "desc_axes.keys()"
   ]
  },
  {
   "cell_type": "code",
   "execution_count": 16,
   "metadata": {},
   "outputs": [
    {
     "data": {
      "text/html": [
       "<div>\n",
       "<style scoped>\n",
       "    .dataframe tbody tr th:only-of-type {\n",
       "        vertical-align: middle;\n",
       "    }\n",
       "\n",
       "    .dataframe tbody tr th {\n",
       "        vertical-align: top;\n",
       "    }\n",
       "\n",
       "    .dataframe thead th {\n",
       "        text-align: right;\n",
       "    }\n",
       "</style>\n",
       "<table border=\"1\" class=\"dataframe\">\n",
       "  <thead>\n",
       "    <tr style=\"text-align: right;\">\n",
       "      <th></th>\n",
       "      <th>Eta2</th>\n",
       "      <th>pvalue</th>\n",
       "    </tr>\n",
       "  </thead>\n",
       "  <tbody>\n",
       "    <tr>\n",
       "      <th>Dim.1</th>\n",
       "      <td>0.834734</td>\n",
       "      <td>0.000020</td>\n",
       "    </tr>\n",
       "    <tr>\n",
       "      <th>Dim.2</th>\n",
       "      <td>0.633565</td>\n",
       "      <td>0.002421</td>\n",
       "    </tr>\n",
       "  </tbody>\n",
       "</table>\n",
       "</div>"
      ],
      "text/plain": [
       "           Eta2    pvalue\n",
       "Dim.1  0.834734  0.000020\n",
       "Dim.2  0.633565  0.002421"
      ]
     },
     "execution_count": 16,
     "metadata": {},
     "output_type": "execute_result"
    }
   ],
   "source": [
    "desc_axes[\"quanti_var\"]"
   ]
  },
  {
   "cell_type": "code",
   "execution_count": 17,
   "metadata": {},
   "outputs": [
    {
     "data": {
      "text/html": [
       "<div>\n",
       "<style scoped>\n",
       "    .dataframe tbody tr th:only-of-type {\n",
       "        vertical-align: middle;\n",
       "    }\n",
       "\n",
       "    .dataframe tbody tr th {\n",
       "        vertical-align: top;\n",
       "    }\n",
       "\n",
       "    .dataframe thead th {\n",
       "        text-align: right;\n",
       "    }\n",
       "</style>\n",
       "<table border=\"1\" class=\"dataframe\">\n",
       "  <thead>\n",
       "    <tr style=\"text-align: right;\">\n",
       "      <th></th>\n",
       "      <th>vtest</th>\n",
       "      <th>Mean in category</th>\n",
       "      <th>Overall mean</th>\n",
       "      <th>sd in categorie</th>\n",
       "      <th>Overall sd</th>\n",
       "      <th>pvalue</th>\n",
       "    </tr>\n",
       "  </thead>\n",
       "  <tbody>\n",
       "    <tr>\n",
       "      <th>Dim.1</th>\n",
       "      <td>3.392217</td>\n",
       "      <td>3.968786</td>\n",
       "      <td>-4.144833e-15</td>\n",
       "      <td>1.45853</td>\n",
       "      <td>3.095445</td>\n",
       "      <td>0.000693</td>\n",
       "    </tr>\n",
       "  </tbody>\n",
       "</table>\n",
       "</div>"
      ],
      "text/plain": [
       "          vtest  Mean in category  Overall mean  sd in categorie  Overall sd  \\\n",
       "Dim.1  3.392217          3.968786 -4.144833e-15          1.45853    3.095445   \n",
       "\n",
       "         pvalue  \n",
       "Dim.1  0.000693  "
      ]
     },
     "execution_count": 17,
     "metadata": {},
     "output_type": "execute_result"
    }
   ],
   "source": [
    "desc_axes_quanti = desc_axes[\"quanti\"]\n",
    "desc_axes_quanti[\"1\"]"
   ]
  },
  {
   "cell_type": "code",
   "execution_count": 18,
   "metadata": {},
   "outputs": [
    {
     "data": {
      "text/html": [
       "<div>\n",
       "<style scoped>\n",
       "    .dataframe tbody tr th:only-of-type {\n",
       "        vertical-align: middle;\n",
       "    }\n",
       "\n",
       "    .dataframe tbody tr th {\n",
       "        vertical-align: top;\n",
       "    }\n",
       "\n",
       "    .dataframe thead th {\n",
       "        text-align: right;\n",
       "    }\n",
       "</style>\n",
       "<table border=\"1\" class=\"dataframe\">\n",
       "  <thead>\n",
       "    <tr style=\"text-align: right;\">\n",
       "      <th></th>\n",
       "      <th>vtest</th>\n",
       "      <th>Mean in category</th>\n",
       "      <th>Overall mean</th>\n",
       "      <th>sd in categorie</th>\n",
       "      <th>Overall sd</th>\n",
       "      <th>pvalue</th>\n",
       "    </tr>\n",
       "  </thead>\n",
       "  <tbody>\n",
       "    <tr>\n",
       "      <th>Dim.2</th>\n",
       "      <td>2.843227</td>\n",
       "      <td>2.292998</td>\n",
       "      <td>2.116825e-15</td>\n",
       "      <td>1.293129</td>\n",
       "      <td>1.50878</td>\n",
       "      <td>0.004466</td>\n",
       "    </tr>\n",
       "  </tbody>\n",
       "</table>\n",
       "</div>"
      ],
      "text/plain": [
       "          vtest  Mean in category  Overall mean  sd in categorie  Overall sd  \\\n",
       "Dim.2  2.843227          2.292998  2.116825e-15         1.293129     1.50878   \n",
       "\n",
       "         pvalue  \n",
       "Dim.2  0.004466  "
      ]
     },
     "execution_count": 18,
     "metadata": {},
     "output_type": "execute_result"
    }
   ],
   "source": [
    "desc_axes_quanti[\"2\"]"
   ]
  },
  {
   "cell_type": "code",
   "execution_count": 19,
   "metadata": {},
   "outputs": [
    {
     "data": {
      "text/html": [
       "<div>\n",
       "<style scoped>\n",
       "    .dataframe tbody tr th:only-of-type {\n",
       "        vertical-align: middle;\n",
       "    }\n",
       "\n",
       "    .dataframe tbody tr th {\n",
       "        vertical-align: top;\n",
       "    }\n",
       "\n",
       "    .dataframe thead th {\n",
       "        text-align: right;\n",
       "    }\n",
       "</style>\n",
       "<table border=\"1\" class=\"dataframe\">\n",
       "  <thead>\n",
       "    <tr style=\"text-align: right;\">\n",
       "      <th></th>\n",
       "      <th>vtest</th>\n",
       "      <th>Mean in category</th>\n",
       "      <th>Overall mean</th>\n",
       "      <th>sd in categorie</th>\n",
       "      <th>Overall sd</th>\n",
       "      <th>pvalue</th>\n",
       "    </tr>\n",
       "  </thead>\n",
       "  <tbody>\n",
       "    <tr>\n",
       "      <th>Dim.2</th>\n",
       "      <td>-2.113402</td>\n",
       "      <td>-0.911045</td>\n",
       "      <td>2.116825e-15</td>\n",
       "      <td>0.927073</td>\n",
       "      <td>1.508780</td>\n",
       "      <td>0.034566</td>\n",
       "    </tr>\n",
       "    <tr>\n",
       "      <th>Dim.1</th>\n",
       "      <td>-2.561180</td>\n",
       "      <td>-2.265141</td>\n",
       "      <td>-4.144833e-15</td>\n",
       "      <td>1.260674</td>\n",
       "      <td>3.095445</td>\n",
       "      <td>0.010432</td>\n",
       "    </tr>\n",
       "  </tbody>\n",
       "</table>\n",
       "</div>"
      ],
      "text/plain": [
       "          vtest  Mean in category  Overall mean  sd in categorie  Overall sd  \\\n",
       "Dim.2 -2.113402         -0.911045  2.116825e-15         0.927073    1.508780   \n",
       "Dim.1 -2.561180         -2.265141 -4.144833e-15         1.260674    3.095445   \n",
       "\n",
       "         pvalue  \n",
       "Dim.2  0.034566  \n",
       "Dim.1  0.010432  "
      ]
     },
     "execution_count": 19,
     "metadata": {},
     "output_type": "execute_result"
    }
   ],
   "source": [
    "desc_axes_quanti[\"3\"]"
   ]
  },
  {
   "cell_type": "code",
   "execution_count": 20,
   "metadata": {},
   "outputs": [
    {
     "data": {
      "image/png": "[encoded data removed]",
      "text/plain": [
       "<Figure size 1700x400 with 1 Axes>"
      ]
     },
     "metadata": {},
     "output_type": "display_data"
    }
   ],
   "source": [
    "from scientisttools import plot_dendrogram\n",
    "import matplotlib.pyplot as plt\n",
    "fig, axe = plt.subplots(figsize=(17,4))\n",
    "plot_dendrogram(res_hcpc,ax=axe,max_d=5)\n",
    "plt.show()"
   ]
  },
  {
   "cell_type": "code",
   "execution_count": 21,
   "metadata": {},
   "outputs": [
    {
     "data": {
      "image/png": "[encoded data removed]",
      "text/plain": [
       "<Figure size 640x480 with 1 Axes>"
      ]
     },
     "metadata": {
      "needs_background": "light"
     },
     "output_type": "display_data"
    },
    {
     "name": "stdout",
     "output_type": "stream",
     "text": [
      "\n"
     ]
    }
   ],
   "source": [
    "from scientisttools import fviz_hcpc_cluster\n",
    "p = fviz_hcpc_cluster(res_hcpc,repel=True)\n",
    "print(p)"
   ]
  }
 ],
 "metadata": {
  "kernelspec": {
   "display_name": "Python 3",
   "language": "python",
   "name": "python3"
  },
  "language_info": {
   "codemirror_mode": {
    "name": "ipython",
    "version": 3
   },
   "file_extension": ".py",
   "mimetype": "text/x-python",
   "name": "python",
   "nbconvert_exporter": "python",
   "pygments_lexer": "ipython3",
   "version": "3.10.5"
  }
 },
 "nbformat": 4,
 "nbformat_minor": 2
}
