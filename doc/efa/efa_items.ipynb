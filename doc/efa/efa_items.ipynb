{
 "cells": [
  {
   "cell_type": "code",
   "execution_count": null,
   "metadata": {},
   "outputs": [],
   "source": []
  },
  {
   "cell_type": "code",
   "execution_count": 3,
   "metadata": {},
   "outputs": [
    {
     "name": "stdout",
     "output_type": "stream",
     "text": [
      "<class 'pandas.core.frame.DataFrame'>\n",
      "RangeIndex: 1428 entries, 0 to 1427\n",
      "Data columns (total 67 columns):\n",
      " #   Column    Non-Null Count  Dtype  \n",
      "---  ------    --------------  -----  \n",
      " 0   FACSEX    1428 non-null   float64\n",
      " 1   FACETHN   1428 non-null   float64\n",
      " 2   FACNAT    1428 non-null   float64\n",
      " 3   FACRANK   1428 non-null   float64\n",
      " 4   EMPLOYM   1413 non-null   float64\n",
      " 5   SALARY    1428 non-null   float64\n",
      " 6   YRSTEACH  1077 non-null   float64\n",
      " 7   YRSUT     1349 non-null   float64\n",
      " 8   DEGREE    1428 non-null   float64\n",
      " 9   SAMPLE    1428 non-null   float64\n",
      " 10  REMIND    1428 non-null   float64\n",
      " 11  NSTUD     1428 non-null   float64\n",
      " 12  STUDRANK  1417 non-null   float64\n",
      " 13  STUDSEX   1420 non-null   float64\n",
      " 14  GRADE     1428 non-null   float64\n",
      " 15  GPA       1428 non-null   float64\n",
      " 16  SATISFY   1410 non-null   float64\n",
      " 17  RELIGION  1428 non-null   float64\n",
      " 18  PSD       1387 non-null   float64\n",
      " 19  ITEM13    1419 non-null   float64\n",
      " 20  ITEM14    1424 non-null   float64\n",
      " 21  ITEM15    1424 non-null   float64\n",
      " 22  ITEM16    1420 non-null   float64\n",
      " 23  ITEM17    1423 non-null   float64\n",
      " 24  ITEM18    1424 non-null   float64\n",
      " 25  ITEM19    1420 non-null   float64\n",
      " 26  ITEM20    1396 non-null   float64\n",
      " 27  ITEM21    1422 non-null   float64\n",
      " 28  ITEM22    1414 non-null   float64\n",
      " 29  ITEM23    1423 non-null   float64\n",
      " 30  ITEM24    1417 non-null   float64\n",
      " 31  ITEM25    1398 non-null   float64\n",
      " 32  ITEM26    1414 non-null   float64\n",
      " 33  ITEM27    1420 non-null   float64\n",
      " 34  ITEM28    1419 non-null   float64\n",
      " 35  ITEM29    1415 non-null   float64\n",
      " 36  ITEM30    1416 non-null   float64\n",
      " 37  ITEM31    1412 non-null   float64\n",
      " 38  ITEM32    1411 non-null   float64\n",
      " 39  ITEM33    1412 non-null   float64\n",
      " 40  ITEM34    1414 non-null   float64\n",
      " 41  ITEM35    1414 non-null   float64\n",
      " 42  ITEM36    1406 non-null   float64\n",
      " 43  ITEM37    1406 non-null   float64\n",
      " 44  ITEM38    1404 non-null   float64\n",
      " 45  ITEM39    1387 non-null   float64\n",
      " 46  ITEM40    1389 non-null   float64\n",
      " 47  ITEM41    1402 non-null   float64\n",
      " 48  ITEM42    1399 non-null   float64\n",
      " 49  ITEM43    1394 non-null   float64\n",
      " 50  ITEM44    1407 non-null   float64\n",
      " 51  ITEM45    1402 non-null   float64\n",
      " 52  ITEM46    1404 non-null   float64\n",
      " 53  ITEM47    1399 non-null   float64\n",
      " 54  ITEM48    1399 non-null   float64\n",
      " 55  ITEM49    1402 non-null   float64\n",
      " 56  ITEM50    1395 non-null   float64\n",
      " 57  ITEM51    1390 non-null   float64\n",
      " 58  ITEM52    1373 non-null   float64\n",
      " 59  RACE      1374 non-null   float64\n",
      " 60  SEXISM    1325 non-null   float64\n",
      " 61  RACISM    1356 non-null   float64\n",
      " 62  RPOLICY   1385 non-null   float64\n",
      " 63  CASTEMAN  1390 non-null   float64\n",
      " 64  COMPETEN  1411 non-null   float64\n",
      " 65  SENSITIV  1383 non-null   float64\n",
      " 66  CSTATUS   1251 non-null   float64\n",
      "dtypes: float64(67)\n",
      "memory usage: 747.6 KB\n"
     ]
    }
   ],
   "source": [
    "import pyreadstat\n",
    "import pandas as pd\n",
    "# Read the sas7bdat file\n",
    "df = pd.read_sas('./scientisttools/datasets/m255_sas.sas7bdat')\n",
    "df.info()"
   ]
  }
 ],
 "metadata": {
  "kernelspec": {
   "display_name": "Python 3",
   "language": "python",
   "name": "python3"
  },
  "language_info": {
   "codemirror_mode": {
    "name": "ipython",
    "version": 3
   },
   "file_extension": ".py",
   "mimetype": "text/x-python",
   "name": "python",
   "nbconvert_exporter": "python",
   "pygments_lexer": "ipython3",
   "version": "3.10.5"
  }
 },
 "nbformat": 4,
 "nbformat_minor": 2
}
