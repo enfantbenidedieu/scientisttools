{
 "cells": [
  {
   "attachments": {},
   "cell_type": "markdown",
   "metadata": {},
   "source": [
    "# Correspondence Analysis"
   ]
  },
  {
   "cell_type": "code",
   "execution_count": 1,
   "metadata": {},
   "outputs": [
    {
     "name": "stderr",
     "output_type": "stream",
     "text": [
      "c:\\Users\\duver\\AppData\\Local\\Programs\\Python\\Python310\\lib\\site-packages\\outdated\\utils.py:14: OutdatedPackageWarning: The package outdated is out of date. Your version is 0.2.1, the latest is 0.2.2.\n",
      "Set the environment variable OUTDATED_IGNORE=1 to disable these warnings.\n",
      "  return warn(\n",
      "c:\\Users\\duver\\AppData\\Local\\Programs\\Python\\Python310\\lib\\site-packages\\outdated\\utils.py:14: OutdatedPackageWarning: The package pingouin is out of date. Your version is 0.5.2, the latest is 0.5.3.\n",
      "Set the environment variable OUTDATED_IGNORE=1 to disable these warnings.\n",
      "  return warn(\n"
     ]
    }
   ],
   "source": [
    "# Chargement des librairies\n",
    "import pandas as pd\n",
    "from scientisttools.graphics import plotCA,plot_cosines,plot_contrib,plot_eigenvalues\n",
    "from scientisttools.extractfactor import get_eig\n",
    "import matplotlib.pyplot as plt\n",
    "from scientisttools.decomposition import CA"
   ]
  },
  {
   "cell_type": "code",
   "execution_count": 2,
   "metadata": {},
   "outputs": [
    {
     "data": {
      "text/html": [
       "<div>\n",
       "<style scoped>\n",
       "    .dataframe tbody tr th:only-of-type {\n",
       "        vertical-align: middle;\n",
       "    }\n",
       "\n",
       "    .dataframe tbody tr th {\n",
       "        vertical-align: top;\n",
       "    }\n",
       "\n",
       "    .dataframe thead th {\n",
       "        text-align: right;\n",
       "    }\n",
       "</style>\n",
       "<table border=\"1\" class=\"dataframe\">\n",
       "  <thead>\n",
       "    <tr style=\"text-align: right;\">\n",
       "      <th></th>\n",
       "      <th>Droit</th>\n",
       "      <th>Sciences</th>\n",
       "      <th>Medecine</th>\n",
       "      <th>IUT</th>\n",
       "    </tr>\n",
       "    <tr>\n",
       "      <th>CSP_vs_Filiere</th>\n",
       "      <th></th>\n",
       "      <th></th>\n",
       "      <th></th>\n",
       "      <th></th>\n",
       "    </tr>\n",
       "  </thead>\n",
       "  <tbody>\n",
       "    <tr>\n",
       "      <th>ExpAgri</th>\n",
       "      <td>80</td>\n",
       "      <td>99</td>\n",
       "      <td>65</td>\n",
       "      <td>58</td>\n",
       "    </tr>\n",
       "    <tr>\n",
       "      <th>Patron</th>\n",
       "      <td>168</td>\n",
       "      <td>137</td>\n",
       "      <td>208</td>\n",
       "      <td>62</td>\n",
       "    </tr>\n",
       "    <tr>\n",
       "      <th>CadreSup</th>\n",
       "      <td>470</td>\n",
       "      <td>400</td>\n",
       "      <td>876</td>\n",
       "      <td>79</td>\n",
       "    </tr>\n",
       "    <tr>\n",
       "      <th>Employe</th>\n",
       "      <td>145</td>\n",
       "      <td>133</td>\n",
       "      <td>135</td>\n",
       "      <td>54</td>\n",
       "    </tr>\n",
       "    <tr>\n",
       "      <th>Ouvrier</th>\n",
       "      <td>166</td>\n",
       "      <td>193</td>\n",
       "      <td>127</td>\n",
       "      <td>129</td>\n",
       "    </tr>\n",
       "  </tbody>\n",
       "</table>\n",
       "</div>"
      ],
      "text/plain": [
       "                Droit  Sciences  Medecine  IUT\n",
       "CSP_vs_Filiere                                \n",
       "ExpAgri            80        99        65   58\n",
       "Patron            168       137       208   62\n",
       "CadreSup          470       400       876   79\n",
       "Employe           145       133       135   54\n",
       "Ouvrier           166       193       127  129"
      ]
     },
     "metadata": {},
     "output_type": "display_data"
    }
   ],
   "source": [
    "# Chargement des données\n",
    "D = pd.read_excel(\"Data_Methodes_Factorielles.xlsx\",sheet_name=\"AFC_ETUDES\",index_col=0) \n",
    "display(D)"
   ]
  },
  {
   "cell_type": "code",
   "execution_count": 3,
   "metadata": {},
   "outputs": [
    {
     "data": {
      "text/html": [
       "<style>#sk-container-id-1 {color: black;background-color: white;}#sk-container-id-1 pre{padding: 0;}#sk-container-id-1 div.sk-toggleable {background-color: white;}#sk-container-id-1 label.sk-toggleable__label {cursor: pointer;display: block;width: 100%;margin-bottom: 0;padding: 0.3em;box-sizing: border-box;text-align: center;}#sk-container-id-1 label.sk-toggleable__label-arrow:before {content: \"▸\";float: left;margin-right: 0.25em;color: #696969;}#sk-container-id-1 label.sk-toggleable__label-arrow:hover:before {color: black;}#sk-container-id-1 div.sk-estimator:hover label.sk-toggleable__label-arrow:before {color: black;}#sk-container-id-1 div.sk-toggleable__content {max-height: 0;max-width: 0;overflow: hidden;text-align: left;background-color: #f0f8ff;}#sk-container-id-1 div.sk-toggleable__content pre {margin: 0.2em;color: black;border-radius: 0.25em;background-color: #f0f8ff;}#sk-container-id-1 input.sk-toggleable__control:checked~div.sk-toggleable__content {max-height: 200px;max-width: 100%;overflow: auto;}#sk-container-id-1 input.sk-toggleable__control:checked~label.sk-toggleable__label-arrow:before {content: \"▾\";}#sk-container-id-1 div.sk-estimator input.sk-toggleable__control:checked~label.sk-toggleable__label {background-color: #d4ebff;}#sk-container-id-1 div.sk-label input.sk-toggleable__control:checked~label.sk-toggleable__label {background-color: #d4ebff;}#sk-container-id-1 input.sk-hidden--visually {border: 0;clip: rect(1px 1px 1px 1px);clip: rect(1px, 1px, 1px, 1px);height: 1px;margin: -1px;overflow: hidden;padding: 0;position: absolute;width: 1px;}#sk-container-id-1 div.sk-estimator {font-family: monospace;background-color: #f0f8ff;border: 1px dotted black;border-radius: 0.25em;box-sizing: border-box;margin-bottom: 0.5em;}#sk-container-id-1 div.sk-estimator:hover {background-color: #d4ebff;}#sk-container-id-1 div.sk-parallel-item::after {content: \"\";width: 100%;border-bottom: 1px solid gray;flex-grow: 1;}#sk-container-id-1 div.sk-label:hover label.sk-toggleable__label {background-color: #d4ebff;}#sk-container-id-1 div.sk-serial::before {content: \"\";position: absolute;border-left: 1px solid gray;box-sizing: border-box;top: 0;bottom: 0;left: 50%;z-index: 0;}#sk-container-id-1 div.sk-serial {display: flex;flex-direction: column;align-items: center;background-color: white;padding-right: 0.2em;padding-left: 0.2em;position: relative;}#sk-container-id-1 div.sk-item {position: relative;z-index: 1;}#sk-container-id-1 div.sk-parallel {display: flex;align-items: stretch;justify-content: center;background-color: white;position: relative;}#sk-container-id-1 div.sk-item::before, #sk-container-id-1 div.sk-parallel-item::before {content: \"\";position: absolute;border-left: 1px solid gray;box-sizing: border-box;top: 0;bottom: 0;left: 50%;z-index: -1;}#sk-container-id-1 div.sk-parallel-item {display: flex;flex-direction: column;z-index: 1;position: relative;background-color: white;}#sk-container-id-1 div.sk-parallel-item:first-child::after {align-self: flex-end;width: 50%;}#sk-container-id-1 div.sk-parallel-item:last-child::after {align-self: flex-start;width: 50%;}#sk-container-id-1 div.sk-parallel-item:only-child::after {width: 0;}#sk-container-id-1 div.sk-dashed-wrapped {border: 1px dashed gray;margin: 0 0.4em 0.5em 0.4em;box-sizing: border-box;padding-bottom: 0.4em;background-color: white;}#sk-container-id-1 div.sk-label label {font-family: monospace;font-weight: bold;display: inline-block;line-height: 1.2em;}#sk-container-id-1 div.sk-label-container {text-align: center;}#sk-container-id-1 div.sk-container {/* jupyter's `normalize.less` sets `[hidden] { display: none; }` but bootstrap.min.css set `[hidden] { display: none !important; }` so we also need the `!important` here to be able to override the default hidden behavior on the sphinx rendered scikit-learn.org. See: https://github.com/scikit-learn/scikit-learn/issues/21755 */display: inline-block !important;position: relative;}#sk-container-id-1 div.sk-text-repr-fallback {display: none;}</style><div id=\"sk-container-id-1\" class=\"sk-top-container\"><div class=\"sk-text-repr-fallback\"><pre>CA(col_labels=Index([&#x27;Droit&#x27;, &#x27;Sciences&#x27;, &#x27;Medecine&#x27;, &#x27;IUT&#x27;], dtype=&#x27;object&#x27;),\n",
       "   figsize=(16, 8),\n",
       "   row_labels=Index([&#x27;ExpAgri&#x27;, &#x27;Patron&#x27;, &#x27;CadreSup&#x27;, &#x27;Employe&#x27;, &#x27;Ouvrier&#x27;], dtype=&#x27;object&#x27;, name=&#x27;CSP_vs_Filiere&#x27;))</pre><b>In a Jupyter environment, please rerun this cell to show the HTML representation or trust the notebook. <br />On GitHub, the HTML representation is unable to render, please try loading this page with nbviewer.org.</b></div><div class=\"sk-container\" hidden><div class=\"sk-item\"><div class=\"sk-estimator sk-toggleable\"><input class=\"sk-toggleable__control sk-hidden--visually\" id=\"sk-estimator-id-1\" type=\"checkbox\" checked><label for=\"sk-estimator-id-1\" class=\"sk-toggleable__label sk-toggleable__label-arrow\">CA</label><div class=\"sk-toggleable__content\"><pre>CA(col_labels=Index([&#x27;Droit&#x27;, &#x27;Sciences&#x27;, &#x27;Medecine&#x27;, &#x27;IUT&#x27;], dtype=&#x27;object&#x27;),\n",
       "   figsize=(16, 8),\n",
       "   row_labels=Index([&#x27;ExpAgri&#x27;, &#x27;Patron&#x27;, &#x27;CadreSup&#x27;, &#x27;Employe&#x27;, &#x27;Ouvrier&#x27;], dtype=&#x27;object&#x27;, name=&#x27;CSP_vs_Filiere&#x27;))</pre></div></div></div></div></div>"
      ],
      "text/plain": [
       "CA(col_labels=Index(['Droit', 'Sciences', 'Medecine', 'IUT'], dtype='object'),\n",
       "   figsize=(16, 8),\n",
       "   row_labels=Index(['ExpAgri', 'Patron', 'CadreSup', 'Employe', 'Ouvrier'], dtype='object', name='CSP_vs_Filiere'))"
      ]
     },
     "execution_count": 3,
     "metadata": {},
     "output_type": "execute_result"
    },
    {
     "data": {
      "image/png": "[encoded data removed]",
      "text/plain": [
       "<Figure size 1152x576 with 2 Axes>"
      ]
     },
     "metadata": {
      "needs_background": "light"
     },
     "output_type": "display_data"
    }
   ],
   "source": [
    "# Instanciation du modèle\n",
    "my_ca = CA(n_components=None,\n",
    "           row_labels=D.index,\n",
    "           col_labels=D.columns,\n",
    "           row_sup_labels=None,\n",
    "           col_sup_labels=None,\n",
    "           graph=True,\n",
    "           figsize=(16,8))\n",
    "my_ca.fit(D)"
   ]
  },
  {
   "cell_type": "code",
   "execution_count": 4,
   "metadata": {},
   "outputs": [
    {
     "data": {
      "text/html": [
       "<div>\n",
       "<style scoped>\n",
       "    .dataframe tbody tr th:only-of-type {\n",
       "        vertical-align: middle;\n",
       "    }\n",
       "\n",
       "    .dataframe tbody tr th {\n",
       "        vertical-align: top;\n",
       "    }\n",
       "\n",
       "    .dataframe thead th {\n",
       "        text-align: right;\n",
       "    }\n",
       "</style>\n",
       "<table border=\"1\" class=\"dataframe\">\n",
       "  <thead>\n",
       "    <tr style=\"text-align: right;\">\n",
       "      <th></th>\n",
       "      <th>eigenvalue</th>\n",
       "      <th>difference</th>\n",
       "      <th>proportion</th>\n",
       "      <th>cumulative</th>\n",
       "    </tr>\n",
       "  </thead>\n",
       "  <tbody>\n",
       "    <tr>\n",
       "      <th>Dim.1</th>\n",
       "      <td>0.082394</td>\n",
       "      <td>0.080690</td>\n",
       "      <td>97.349552</td>\n",
       "      <td>97.349552</td>\n",
       "    </tr>\n",
       "    <tr>\n",
       "      <th>Dim.2</th>\n",
       "      <td>0.001703</td>\n",
       "      <td>0.001164</td>\n",
       "      <td>2.012656</td>\n",
       "      <td>99.362208</td>\n",
       "    </tr>\n",
       "    <tr>\n",
       "      <th>Dim.3</th>\n",
       "      <td>0.000540</td>\n",
       "      <td>NaN</td>\n",
       "      <td>0.637792</td>\n",
       "      <td>100.000000</td>\n",
       "    </tr>\n",
       "  </tbody>\n",
       "</table>\n",
       "</div>"
      ],
      "text/plain": [
       "       eigenvalue  difference  proportion  cumulative\n",
       "Dim.1    0.082394    0.080690   97.349552   97.349552\n",
       "Dim.2    0.001703    0.001164    2.012656   99.362208\n",
       "Dim.3    0.000540         NaN    0.637792  100.000000"
      ]
     },
     "metadata": {},
     "output_type": "display_data"
    }
   ],
   "source": [
    "eig = get_eig(my_ca)\n",
    "display(eig)"
   ]
  },
  {
   "cell_type": "code",
   "execution_count": 5,
   "metadata": {},
   "outputs": [
    {
     "data": {
      "image/png": "[encoded data removed]",
      "text/plain": [
       "<Figure size 576x360 with 1 Axes>"
      ]
     },
     "metadata": {
      "needs_background": "light"
     },
     "output_type": "display_data"
    }
   ],
   "source": [
    "# \n",
    "fig, axe = plt.subplots(figsize=(8,5))\n",
    "plot_eigenvalues(my_ca,choice=\"eigenvalue\")"
   ]
  },
  {
   "cell_type": "code",
   "execution_count": 6,
   "metadata": {},
   "outputs": [
    {
     "data": {
      "text/html": [
       "<div>\n",
       "<style scoped>\n",
       "    .dataframe tbody tr th:only-of-type {\n",
       "        vertical-align: middle;\n",
       "    }\n",
       "\n",
       "    .dataframe tbody tr th {\n",
       "        vertical-align: top;\n",
       "    }\n",
       "\n",
       "    .dataframe thead th {\n",
       "        text-align: right;\n",
       "    }\n",
       "</style>\n",
       "<table border=\"1\" class=\"dataframe\">\n",
       "  <thead>\n",
       "    <tr style=\"text-align: right;\">\n",
       "      <th></th>\n",
       "      <th>statistic</th>\n",
       "      <th>pvalue</th>\n",
       "      <th>dof</th>\n",
       "    </tr>\n",
       "  </thead>\n",
       "  <tbody>\n",
       "    <tr>\n",
       "      <th>chi2</th>\n",
       "      <td>320.265872</td>\n",
       "      <td>2.582613e-61</td>\n",
       "      <td>12</td>\n",
       "    </tr>\n",
       "  </tbody>\n",
       "</table>\n",
       "</div>"
      ],
      "text/plain": [
       "       statistic        pvalue  dof\n",
       "chi2  320.265872  2.582613e-61   12"
      ]
     },
     "execution_count": 6,
     "metadata": {},
     "output_type": "execute_result"
    }
   ],
   "source": [
    "pd.DataFrame(my_ca.chi2_test_,index =[\"chi2\"])"
   ]
  },
  {
   "attachments": {},
   "cell_type": "markdown",
   "metadata": {},
   "source": [
    "## Extraction des résultats\n",
    "\n",
    "### Résultats sur les profils lignes"
   ]
  },
  {
   "cell_type": "code",
   "execution_count": 7,
   "metadata": {},
   "outputs": [
    {
     "name": "stdout",
     "output_type": "stream",
     "text": [
      "dict_keys(['coord', 'cos2', 'contrib', 'dist', 'res.dist', 'infos'])\n"
     ]
    }
   ],
   "source": [
    "from scientisttools.extractfactor import get_ca\n",
    "row = get_ca(my_ca,choice=\"row\")\n",
    "print(row.keys())"
   ]
  },
  {
   "attachments": {},
   "cell_type": "markdown",
   "metadata": {},
   "source": [
    "#### Coordonnées des profils lignes"
   ]
  },
  {
   "cell_type": "code",
   "execution_count": 8,
   "metadata": {},
   "outputs": [
    {
     "data": {
      "text/html": [
       "<div>\n",
       "<style scoped>\n",
       "    .dataframe tbody tr th:only-of-type {\n",
       "        vertical-align: middle;\n",
       "    }\n",
       "\n",
       "    .dataframe tbody tr th {\n",
       "        vertical-align: top;\n",
       "    }\n",
       "\n",
       "    .dataframe thead th {\n",
       "        text-align: right;\n",
       "    }\n",
       "</style>\n",
       "<table border=\"1\" class=\"dataframe\">\n",
       "  <thead>\n",
       "    <tr style=\"text-align: right;\">\n",
       "      <th></th>\n",
       "      <th>Dim.1</th>\n",
       "      <th>Dim.2</th>\n",
       "      <th>Dim.3</th>\n",
       "    </tr>\n",
       "    <tr>\n",
       "      <th>CSP_vs_Filiere</th>\n",
       "      <th></th>\n",
       "      <th></th>\n",
       "      <th></th>\n",
       "    </tr>\n",
       "  </thead>\n",
       "  <tbody>\n",
       "    <tr>\n",
       "      <th>ExpAgri</th>\n",
       "      <td>0.410115</td>\n",
       "      <td>-0.026253</td>\n",
       "      <td>0.038284</td>\n",
       "    </tr>\n",
       "    <tr>\n",
       "      <th>Patron</th>\n",
       "      <td>0.020151</td>\n",
       "      <td>0.026585</td>\n",
       "      <td>-0.046881</td>\n",
       "    </tr>\n",
       "    <tr>\n",
       "      <th>CadreSup</th>\n",
       "      <td>-0.262717</td>\n",
       "      <td>-0.015596</td>\n",
       "      <td>0.006199</td>\n",
       "    </tr>\n",
       "    <tr>\n",
       "      <th>Employe</th>\n",
       "      <td>0.142090</td>\n",
       "      <td>0.097326</td>\n",
       "      <td>0.021242</td>\n",
       "    </tr>\n",
       "    <tr>\n",
       "      <th>Ouvrier</th>\n",
       "      <td>0.451481</td>\n",
       "      <td>-0.039588</td>\n",
       "      <td>-0.009493</td>\n",
       "    </tr>\n",
       "  </tbody>\n",
       "</table>\n",
       "</div>"
      ],
      "text/plain": [
       "                   Dim.1     Dim.2     Dim.3\n",
       "CSP_vs_Filiere                              \n",
       "ExpAgri         0.410115 -0.026253  0.038284\n",
       "Patron          0.020151  0.026585 -0.046881\n",
       "CadreSup       -0.262717 -0.015596  0.006199\n",
       "Employe         0.142090  0.097326  0.021242\n",
       "Ouvrier         0.451481 -0.039588 -0.009493"
      ]
     },
     "metadata": {},
     "output_type": "display_data"
    }
   ],
   "source": [
    "# Coordonnées des profils lignes\n",
    "row_coord = row[\"coord\"]\n",
    "display(row_coord)"
   ]
  },
  {
   "cell_type": "code",
   "execution_count": 9,
   "metadata": {},
   "outputs": [
    {
     "data": {
      "image/png": "[encoded data removed]",
      "text/plain": [
       "<Figure size 720x720 with 1 Axes>"
      ]
     },
     "metadata": {
      "needs_background": "light"
     },
     "output_type": "display_data"
    }
   ],
   "source": [
    "# Représentation des profils lignes\n",
    "fig,axe = plt.subplots(figsize=(10,10))\n",
    "plotCA(my_ca,xlim=(-0.5,0.6),ylim=(-0.3,0.3),repel=True,ax=axe)"
   ]
  },
  {
   "cell_type": "code",
   "execution_count": 10,
   "metadata": {},
   "outputs": [
    {
     "data": {
      "text/html": [
       "<div>\n",
       "<style scoped>\n",
       "    .dataframe tbody tr th:only-of-type {\n",
       "        vertical-align: middle;\n",
       "    }\n",
       "\n",
       "    .dataframe tbody tr th {\n",
       "        vertical-align: top;\n",
       "    }\n",
       "\n",
       "    .dataframe thead th {\n",
       "        text-align: right;\n",
       "    }\n",
       "</style>\n",
       "<table border=\"1\" class=\"dataframe\">\n",
       "  <thead>\n",
       "    <tr style=\"text-align: right;\">\n",
       "      <th></th>\n",
       "      <th>Dim.1</th>\n",
       "      <th>Dim.2</th>\n",
       "      <th>Dim.3</th>\n",
       "    </tr>\n",
       "    <tr>\n",
       "      <th>CSP_vs_Filiere</th>\n",
       "      <th></th>\n",
       "      <th></th>\n",
       "      <th></th>\n",
       "    </tr>\n",
       "  </thead>\n",
       "  <tbody>\n",
       "    <tr>\n",
       "      <th>ExpAgri</th>\n",
       "      <td>0.987350</td>\n",
       "      <td>0.004046</td>\n",
       "      <td>0.008604</td>\n",
       "    </tr>\n",
       "    <tr>\n",
       "      <th>Patron</th>\n",
       "      <td>0.122652</td>\n",
       "      <td>0.213489</td>\n",
       "      <td>0.663859</td>\n",
       "    </tr>\n",
       "    <tr>\n",
       "      <th>CadreSup</th>\n",
       "      <td>0.995936</td>\n",
       "      <td>0.003510</td>\n",
       "      <td>0.000554</td>\n",
       "    </tr>\n",
       "    <tr>\n",
       "      <th>Employe</th>\n",
       "      <td>0.670459</td>\n",
       "      <td>0.314556</td>\n",
       "      <td>0.014984</td>\n",
       "    </tr>\n",
       "    <tr>\n",
       "      <th>Ouvrier</th>\n",
       "      <td>0.991935</td>\n",
       "      <td>0.007627</td>\n",
       "      <td>0.000439</td>\n",
       "    </tr>\n",
       "  </tbody>\n",
       "</table>\n",
       "</div>"
      ],
      "text/plain": [
       "                   Dim.1     Dim.2     Dim.3\n",
       "CSP_vs_Filiere                              \n",
       "ExpAgri         0.987350  0.004046  0.008604\n",
       "Patron          0.122652  0.213489  0.663859\n",
       "CadreSup        0.995936  0.003510  0.000554\n",
       "Employe         0.670459  0.314556  0.014984\n",
       "Ouvrier         0.991935  0.007627  0.000439"
      ]
     },
     "metadata": {},
     "output_type": "display_data"
    }
   ],
   "source": [
    "# Cosinus carré\n",
    "row_cos2 = row[\"cos2\"]\n",
    "display(row_cos2)"
   ]
  },
  {
   "cell_type": "code",
   "execution_count": 11,
   "metadata": {},
   "outputs": [
    {
     "data": {
      "image/png": "[encoded data removed]",
      "text/plain": [
       "<Figure size 720x720 with 2 Axes>"
      ]
     },
     "metadata": {
      "needs_background": "light"
     },
     "output_type": "display_data"
    }
   ],
   "source": [
    "fig,axe = plt.subplots(figsize=(10,10))\n",
    "plotCA(my_ca,color=\"cos2\",repel=True,ax=axe)"
   ]
  },
  {
   "cell_type": "code",
   "execution_count": 12,
   "metadata": {},
   "outputs": [
    {
     "data": {
      "image/png": "[encoded data removed]",
      "text/plain": [
       "<Figure size 720x432 with 1 Axes>"
      ]
     },
     "metadata": {
      "needs_background": "light"
     },
     "output_type": "display_data"
    }
   ],
   "source": [
    "# \n",
    "fig, axe = plt.subplots(figsize=(10,6))\n",
    "plot_cosines(my_ca,choice=\"ind\",ax=axe)"
   ]
  },
  {
   "cell_type": "code",
   "execution_count": 13,
   "metadata": {},
   "outputs": [
    {
     "data": {
      "text/html": [
       "<div>\n",
       "<style scoped>\n",
       "    .dataframe tbody tr th:only-of-type {\n",
       "        vertical-align: middle;\n",
       "    }\n",
       "\n",
       "    .dataframe tbody tr th {\n",
       "        vertical-align: top;\n",
       "    }\n",
       "\n",
       "    .dataframe thead th {\n",
       "        text-align: right;\n",
       "    }\n",
       "</style>\n",
       "<table border=\"1\" class=\"dataframe\">\n",
       "  <thead>\n",
       "    <tr style=\"text-align: right;\">\n",
       "      <th></th>\n",
       "      <th>Dim.1</th>\n",
       "      <th>Dim.2</th>\n",
       "      <th>Dim.3</th>\n",
       "    </tr>\n",
       "    <tr>\n",
       "      <th>CSP_vs_Filiere</th>\n",
       "      <th></th>\n",
       "      <th></th>\n",
       "      <th></th>\n",
       "    </tr>\n",
       "  </thead>\n",
       "  <tbody>\n",
       "    <tr>\n",
       "      <th>ExpAgri</th>\n",
       "      <td>16.292006</td>\n",
       "      <td>3.229165</td>\n",
       "      <td>21.669399</td>\n",
       "    </tr>\n",
       "    <tr>\n",
       "      <th>Patron</th>\n",
       "      <td>0.074887</td>\n",
       "      <td>6.304816</td>\n",
       "      <td>61.867745</td>\n",
       "    </tr>\n",
       "    <tr>\n",
       "      <th>CadreSup</th>\n",
       "      <td>40.401242</td>\n",
       "      <td>6.886489</td>\n",
       "      <td>3.433167</td>\n",
       "    </tr>\n",
       "    <tr>\n",
       "      <th>Employe</th>\n",
       "      <td>3.024136</td>\n",
       "      <td>68.626434</td>\n",
       "      <td>10.316292</td>\n",
       "    </tr>\n",
       "    <tr>\n",
       "      <th>Ouvrier</th>\n",
       "      <td>40.207729</td>\n",
       "      <td>14.953096</td>\n",
       "      <td>2.713396</td>\n",
       "    </tr>\n",
       "  </tbody>\n",
       "</table>\n",
       "</div>"
      ],
      "text/plain": [
       "                    Dim.1      Dim.2      Dim.3\n",
       "CSP_vs_Filiere                                 \n",
       "ExpAgri         16.292006   3.229165  21.669399\n",
       "Patron           0.074887   6.304816  61.867745\n",
       "CadreSup        40.401242   6.886489   3.433167\n",
       "Employe          3.024136  68.626434  10.316292\n",
       "Ouvrier         40.207729  14.953096   2.713396"
      ]
     },
     "metadata": {},
     "output_type": "display_data"
    }
   ],
   "source": [
    "# Contribution\n",
    "row_contrib = row[\"contrib\"]\n",
    "display(row_contrib)"
   ]
  },
  {
   "cell_type": "code",
   "execution_count": 14,
   "metadata": {},
   "outputs": [
    {
     "data": {
      "image/png": "[encoded data removed]",
      "text/plain": [
       "<Figure size 720x720 with 2 Axes>"
      ]
     },
     "metadata": {
      "needs_background": "light"
     },
     "output_type": "display_data"
    }
   ],
   "source": [
    "fig,axe = plt.subplots(figsize=(10,10))\n",
    "plotCA(my_ca,color=\"contrib\",repel=True,ax=axe)"
   ]
  },
  {
   "cell_type": "code",
   "execution_count": 15,
   "metadata": {},
   "outputs": [
    {
     "data": {
      "image/png": "[encoded data removed]",
      "text/plain": [
       "<Figure size 720x432 with 1 Axes>"
      ]
     },
     "metadata": {
      "needs_background": "light"
     },
     "output_type": "display_data"
    }
   ],
   "source": [
    "fig,axe = plt.subplots(figsize=(10,6))\n",
    "plot_contrib(my_ca,choice=\"ind\",ax=axe)"
   ]
  },
  {
   "cell_type": "code",
   "execution_count": 16,
   "metadata": {},
   "outputs": [
    {
     "data": {
      "text/html": [
       "<div>\n",
       "<style scoped>\n",
       "    .dataframe tbody tr th:only-of-type {\n",
       "        vertical-align: middle;\n",
       "    }\n",
       "\n",
       "    .dataframe tbody tr th {\n",
       "        vertical-align: top;\n",
       "    }\n",
       "\n",
       "    .dataframe thead th {\n",
       "        text-align: right;\n",
       "    }\n",
       "</style>\n",
       "<table border=\"1\" class=\"dataframe\">\n",
       "  <thead>\n",
       "    <tr style=\"text-align: right;\">\n",
       "      <th>CSP_vs_Filiere</th>\n",
       "      <th>ExpAgri</th>\n",
       "      <th>Patron</th>\n",
       "      <th>CadreSup</th>\n",
       "      <th>Employe</th>\n",
       "      <th>Ouvrier</th>\n",
       "    </tr>\n",
       "    <tr>\n",
       "      <th>CSP_vs_Filiere</th>\n",
       "      <th></th>\n",
       "      <th></th>\n",
       "      <th></th>\n",
       "      <th></th>\n",
       "      <th></th>\n",
       "    </tr>\n",
       "  </thead>\n",
       "  <tbody>\n",
       "    <tr>\n",
       "      <th>ExpAgri</th>\n",
       "      <td>0.000000</td>\n",
       "      <td>0.162117</td>\n",
       "      <td>0.453847</td>\n",
       "      <td>0.087400</td>\n",
       "      <td>0.004172</td>\n",
       "    </tr>\n",
       "    <tr>\n",
       "      <th>Patron</th>\n",
       "      <td>0.162117</td>\n",
       "      <td>0.000000</td>\n",
       "      <td>0.084611</td>\n",
       "      <td>0.024514</td>\n",
       "      <td>0.191823</td>\n",
       "    </tr>\n",
       "    <tr>\n",
       "      <th>CadreSup</th>\n",
       "      <td>0.453847</td>\n",
       "      <td>0.084611</td>\n",
       "      <td>0.000000</td>\n",
       "      <td>0.176847</td>\n",
       "      <td>0.510901</td>\n",
       "    </tr>\n",
       "    <tr>\n",
       "      <th>Employe</th>\n",
       "      <td>0.087400</td>\n",
       "      <td>0.024514</td>\n",
       "      <td>0.176847</td>\n",
       "      <td>0.000000</td>\n",
       "      <td>0.115413</td>\n",
       "    </tr>\n",
       "    <tr>\n",
       "      <th>Ouvrier</th>\n",
       "      <td>0.004172</td>\n",
       "      <td>0.191823</td>\n",
       "      <td>0.510901</td>\n",
       "      <td>0.115413</td>\n",
       "      <td>0.000000</td>\n",
       "    </tr>\n",
       "  </tbody>\n",
       "</table>\n",
       "</div>"
      ],
      "text/plain": [
       "CSP_vs_Filiere   ExpAgri    Patron  CadreSup   Employe   Ouvrier\n",
       "CSP_vs_Filiere                                                  \n",
       "ExpAgri         0.000000  0.162117  0.453847  0.087400  0.004172\n",
       "Patron          0.162117  0.000000  0.084611  0.024514  0.191823\n",
       "CadreSup        0.453847  0.084611  0.000000  0.176847  0.510901\n",
       "Employe         0.087400  0.024514  0.176847  0.000000  0.115413\n",
       "Ouvrier         0.004172  0.191823  0.510901  0.115413  0.000000"
      ]
     },
     "metadata": {},
     "output_type": "display_data"
    }
   ],
   "source": [
    "# Distances resituées\n",
    "res_row_dist = row[\"res.dist\"]\n",
    "display(res_row_dist)"
   ]
  },
  {
   "cell_type": "code",
   "execution_count": 17,
   "metadata": {},
   "outputs": [
    {
     "data": {
      "text/html": [
       "<div>\n",
       "<style scoped>\n",
       "    .dataframe tbody tr th:only-of-type {\n",
       "        vertical-align: middle;\n",
       "    }\n",
       "\n",
       "    .dataframe tbody tr th {\n",
       "        vertical-align: top;\n",
       "    }\n",
       "\n",
       "    .dataframe thead th {\n",
       "        text-align: right;\n",
       "    }\n",
       "</style>\n",
       "<table border=\"1\" class=\"dataframe\">\n",
       "  <thead>\n",
       "    <tr style=\"text-align: right;\">\n",
       "      <th></th>\n",
       "      <th>d(i,G)</th>\n",
       "      <th>p(i)</th>\n",
       "      <th>I(i,G)</th>\n",
       "    </tr>\n",
       "    <tr>\n",
       "      <th>CSP_vs_Filiere</th>\n",
       "      <th></th>\n",
       "      <th></th>\n",
       "      <th></th>\n",
       "    </tr>\n",
       "  </thead>\n",
       "  <tbody>\n",
       "    <tr>\n",
       "      <th>ExpAgri</th>\n",
       "      <td>0.170350</td>\n",
       "      <td>0.079810</td>\n",
       "      <td>0.013596</td>\n",
       "    </tr>\n",
       "    <tr>\n",
       "      <th>Patron</th>\n",
       "      <td>0.003311</td>\n",
       "      <td>0.151956</td>\n",
       "      <td>0.000503</td>\n",
       "    </tr>\n",
       "    <tr>\n",
       "      <th>CadreSup</th>\n",
       "      <td>0.069302</td>\n",
       "      <td>0.482294</td>\n",
       "      <td>0.033424</td>\n",
       "    </tr>\n",
       "    <tr>\n",
       "      <th>Employe</th>\n",
       "      <td>0.030113</td>\n",
       "      <td>0.123414</td>\n",
       "      <td>0.003716</td>\n",
       "    </tr>\n",
       "    <tr>\n",
       "      <th>Ouvrier</th>\n",
       "      <td>0.205492</td>\n",
       "      <td>0.162526</td>\n",
       "      <td>0.033398</td>\n",
       "    </tr>\n",
       "  </tbody>\n",
       "</table>\n",
       "</div>"
      ],
      "text/plain": [
       "                  d(i,G)      p(i)    I(i,G)\n",
       "CSP_vs_Filiere                              \n",
       "ExpAgri         0.170350  0.079810  0.013596\n",
       "Patron          0.003311  0.151956  0.000503\n",
       "CadreSup        0.069302  0.482294  0.033424\n",
       "Employe         0.030113  0.123414  0.003716\n",
       "Ouvrier         0.205492  0.162526  0.033398"
      ]
     },
     "metadata": {},
     "output_type": "display_data"
    }
   ],
   "source": [
    "# Informations sur les profils lignes\n",
    "row_infos = row[\"infos\"]\n",
    "display(row_infos)"
   ]
  },
  {
   "attachments": {},
   "cell_type": "markdown",
   "metadata": {},
   "source": [
    "### Analyse des profils colonnes"
   ]
  },
  {
   "cell_type": "code",
   "execution_count": 18,
   "metadata": {},
   "outputs": [
    {
     "name": "stdout",
     "output_type": "stream",
     "text": [
      "dict_keys(['coord', 'cos2', 'contrib', 'dist', 'res.dist', 'infos'])\n"
     ]
    }
   ],
   "source": [
    "col = get_ca(my_ca,choice=\"col\")\n",
    "print(col.keys())"
   ]
  },
  {
   "attachments": {},
   "cell_type": "markdown",
   "metadata": {},
   "source": [
    "#### Coordonnées des profils colonnes"
   ]
  },
  {
   "cell_type": "code",
   "execution_count": 19,
   "metadata": {},
   "outputs": [
    {
     "data": {
      "text/html": [
       "<div>\n",
       "<style scoped>\n",
       "    .dataframe tbody tr th:only-of-type {\n",
       "        vertical-align: middle;\n",
       "    }\n",
       "\n",
       "    .dataframe tbody tr th {\n",
       "        vertical-align: top;\n",
       "    }\n",
       "\n",
       "    .dataframe thead th {\n",
       "        text-align: right;\n",
       "    }\n",
       "</style>\n",
       "<table border=\"1\" class=\"dataframe\">\n",
       "  <thead>\n",
       "    <tr style=\"text-align: right;\">\n",
       "      <th></th>\n",
       "      <th>Dim.1</th>\n",
       "      <th>Dim.2</th>\n",
       "      <th>Dim.3</th>\n",
       "    </tr>\n",
       "  </thead>\n",
       "  <tbody>\n",
       "    <tr>\n",
       "      <th>Droit</th>\n",
       "      <td>0.027987</td>\n",
       "      <td>0.060669</td>\n",
       "      <td>-0.016545</td>\n",
       "    </tr>\n",
       "    <tr>\n",
       "      <th>Sciences</th>\n",
       "      <td>0.160462</td>\n",
       "      <td>0.002734</td>\n",
       "      <td>0.037583</td>\n",
       "    </tr>\n",
       "    <tr>\n",
       "      <th>Medecine</th>\n",
       "      <td>-0.303125</td>\n",
       "      <td>-0.029662</td>\n",
       "      <td>-0.005200</td>\n",
       "    </tr>\n",
       "    <tr>\n",
       "      <th>IUT</th>\n",
       "      <td>0.640174</td>\n",
       "      <td>-0.060749</td>\n",
       "      <td>-0.030870</td>\n",
       "    </tr>\n",
       "  </tbody>\n",
       "</table>\n",
       "</div>"
      ],
      "text/plain": [
       "             Dim.1     Dim.2     Dim.3\n",
       "Droit     0.027987  0.060669 -0.016545\n",
       "Sciences  0.160462  0.002734  0.037583\n",
       "Medecine -0.303125 -0.029662 -0.005200\n",
       "IUT       0.640174 -0.060749 -0.030870"
      ]
     },
     "metadata": {},
     "output_type": "display_data"
    }
   ],
   "source": [
    "# Coordonnées des profils colonnes\n",
    "col_coord = col[\"coord\"]\n",
    "display(col_coord)"
   ]
  },
  {
   "cell_type": "code",
   "execution_count": 20,
   "metadata": {},
   "outputs": [
    {
     "data": {
      "image/png": "[encoded data removed]",
      "text/plain": [
       "<Figure size 720x720 with 1 Axes>"
      ]
     },
     "metadata": {
      "needs_background": "light"
     },
     "output_type": "display_data"
    }
   ],
   "source": [
    "fig,axe = plt.subplots(figsize=(10,10))\n",
    "plotCA(my_ca,choice =\"col\",color=\"blue\",repel=True,ax=axe)"
   ]
  },
  {
   "attachments": {},
   "cell_type": "markdown",
   "metadata": {},
   "source": [
    "#### Cosinus carré des profils colonnes"
   ]
  },
  {
   "cell_type": "code",
   "execution_count": 21,
   "metadata": {},
   "outputs": [
    {
     "data": {
      "text/html": [
       "<div>\n",
       "<style scoped>\n",
       "    .dataframe tbody tr th:only-of-type {\n",
       "        vertical-align: middle;\n",
       "    }\n",
       "\n",
       "    .dataframe tbody tr th {\n",
       "        vertical-align: top;\n",
       "    }\n",
       "\n",
       "    .dataframe thead th {\n",
       "        text-align: right;\n",
       "    }\n",
       "</style>\n",
       "<table border=\"1\" class=\"dataframe\">\n",
       "  <thead>\n",
       "    <tr style=\"text-align: right;\">\n",
       "      <th></th>\n",
       "      <th>Dim.1</th>\n",
       "      <th>Dim.2</th>\n",
       "      <th>Dim.3</th>\n",
       "    </tr>\n",
       "  </thead>\n",
       "  <tbody>\n",
       "    <tr>\n",
       "      <th>Droit</th>\n",
       "      <td>0.165328</td>\n",
       "      <td>0.776896</td>\n",
       "      <td>0.057776</td>\n",
       "    </tr>\n",
       "    <tr>\n",
       "      <th>Sciences</th>\n",
       "      <td>0.947735</td>\n",
       "      <td>0.000275</td>\n",
       "      <td>0.051990</td>\n",
       "    </tr>\n",
       "    <tr>\n",
       "      <th>Medecine</th>\n",
       "      <td>0.990227</td>\n",
       "      <td>0.009482</td>\n",
       "      <td>0.000291</td>\n",
       "    </tr>\n",
       "    <tr>\n",
       "      <th>IUT</th>\n",
       "      <td>0.988797</td>\n",
       "      <td>0.008904</td>\n",
       "      <td>0.002299</td>\n",
       "    </tr>\n",
       "  </tbody>\n",
       "</table>\n",
       "</div>"
      ],
      "text/plain": [
       "             Dim.1     Dim.2     Dim.3\n",
       "Droit     0.165328  0.776896  0.057776\n",
       "Sciences  0.947735  0.000275  0.051990\n",
       "Medecine  0.990227  0.009482  0.000291\n",
       "IUT       0.988797  0.008904  0.002299"
      ]
     },
     "metadata": {},
     "output_type": "display_data"
    }
   ],
   "source": [
    "# Cosinus carré des profils colonnes\n",
    "col_cos2 = col[\"cos2\"]\n",
    "display(col_cos2)"
   ]
  },
  {
   "cell_type": "code",
   "execution_count": 22,
   "metadata": {},
   "outputs": [
    {
     "data": {
      "image/png": "[encoded data removed]",
      "text/plain": [
       "<Figure size 720x720 with 2 Axes>"
      ]
     },
     "metadata": {
      "needs_background": "light"
     },
     "output_type": "display_data"
    }
   ],
   "source": [
    "fig,axe = plt.subplots(figsize=(10,10))\n",
    "plotCA(my_ca,choice =\"col\",color=\"cos2\",repel=True,ax=axe)"
   ]
  },
  {
   "cell_type": "code",
   "execution_count": 23,
   "metadata": {},
   "outputs": [
    {
     "data": {
      "image/png": "[encoded data removed]",
      "text/plain": [
       "<Figure size 720x432 with 1 Axes>"
      ]
     },
     "metadata": {
      "needs_background": "light"
     },
     "output_type": "display_data"
    }
   ],
   "source": [
    "fig, axe = plt.subplots(figsize=(10,6))\n",
    "plot_cosines(my_ca,choice=\"var\",ax=axe)"
   ]
  },
  {
   "attachments": {},
   "cell_type": "markdown",
   "metadata": {},
   "source": [
    "#### Contribution des profils colonnes"
   ]
  },
  {
   "cell_type": "code",
   "execution_count": 24,
   "metadata": {},
   "outputs": [
    {
     "data": {
      "text/html": [
       "<div>\n",
       "<style scoped>\n",
       "    .dataframe tbody tr th:only-of-type {\n",
       "        vertical-align: middle;\n",
       "    }\n",
       "\n",
       "    .dataframe tbody tr th {\n",
       "        vertical-align: top;\n",
       "    }\n",
       "\n",
       "    .dataframe thead th {\n",
       "        text-align: right;\n",
       "    }\n",
       "</style>\n",
       "<table border=\"1\" class=\"dataframe\">\n",
       "  <thead>\n",
       "    <tr style=\"text-align: right;\">\n",
       "      <th></th>\n",
       "      <th>Dim.1</th>\n",
       "      <th>Dim.2</th>\n",
       "      <th>Dim.3</th>\n",
       "    </tr>\n",
       "  </thead>\n",
       "  <tbody>\n",
       "    <tr>\n",
       "      <th>Droit</th>\n",
       "      <td>0.258518</td>\n",
       "      <td>58.758560</td>\n",
       "      <td>13.789476</td>\n",
       "    </tr>\n",
       "    <tr>\n",
       "      <th>Sciences</th>\n",
       "      <td>7.944621</td>\n",
       "      <td>0.111572</td>\n",
       "      <td>66.520974</td>\n",
       "    </tr>\n",
       "    <tr>\n",
       "      <th>Medecine</th>\n",
       "      <td>41.583998</td>\n",
       "      <td>19.259378</td>\n",
       "      <td>1.868040</td>\n",
       "    </tr>\n",
       "    <tr>\n",
       "      <th>IUT</th>\n",
       "      <td>50.212862</td>\n",
       "      <td>21.870490</td>\n",
       "      <td>17.821510</td>\n",
       "    </tr>\n",
       "  </tbody>\n",
       "</table>\n",
       "</div>"
      ],
      "text/plain": [
       "              Dim.1      Dim.2      Dim.3\n",
       "Droit      0.258518  58.758560  13.789476\n",
       "Sciences   7.944621   0.111572  66.520974\n",
       "Medecine  41.583998  19.259378   1.868040\n",
       "IUT       50.212862  21.870490  17.821510"
      ]
     },
     "metadata": {},
     "output_type": "display_data"
    }
   ],
   "source": [
    "# Contribution des profils colonnes\n",
    "col_contrib = col[\"contrib\"]\n",
    "display(col_contrib)"
   ]
  },
  {
   "cell_type": "code",
   "execution_count": 25,
   "metadata": {},
   "outputs": [
    {
     "data": {
      "image/png": "[encoded data removed]",
      "text/plain": [
       "<Figure size 720x720 with 2 Axes>"
      ]
     },
     "metadata": {
      "needs_background": "light"
     },
     "output_type": "display_data"
    }
   ],
   "source": [
    "fig,axe = plt.subplots(figsize=(10,10))\n",
    "plotCA(my_ca,choice =\"col\",color=\"contrib\",repel=True,ax=axe)"
   ]
  },
  {
   "cell_type": "code",
   "execution_count": 26,
   "metadata": {},
   "outputs": [
    {
     "data": {
      "image/png": "[encoded data removed]",
      "text/plain": [
       "<Figure size 720x432 with 1 Axes>"
      ]
     },
     "metadata": {
      "needs_background": "light"
     },
     "output_type": "display_data"
    }
   ],
   "source": [
    "fig,axe = plt.subplots(figsize=(10,6))\n",
    "plot_contrib(my_ca,choice=\"var\",ax=axe)"
   ]
  },
  {
   "attachments": {},
   "cell_type": "markdown",
   "metadata": {},
   "source": [
    "#### Distance des profils colonnes"
   ]
  },
  {
   "cell_type": "code",
   "execution_count": 27,
   "metadata": {},
   "outputs": [
    {
     "data": {
      "text/html": [
       "<div>\n",
       "<style scoped>\n",
       "    .dataframe tbody tr th:only-of-type {\n",
       "        vertical-align: middle;\n",
       "    }\n",
       "\n",
       "    .dataframe tbody tr th {\n",
       "        vertical-align: top;\n",
       "    }\n",
       "\n",
       "    .dataframe thead th {\n",
       "        text-align: right;\n",
       "    }\n",
       "</style>\n",
       "<table border=\"1\" class=\"dataframe\">\n",
       "  <thead>\n",
       "    <tr style=\"text-align: right;\">\n",
       "      <th></th>\n",
       "      <th>Droit</th>\n",
       "      <th>Sciences</th>\n",
       "      <th>Medecine</th>\n",
       "      <th>IUT</th>\n",
       "    </tr>\n",
       "  </thead>\n",
       "  <tbody>\n",
       "    <tr>\n",
       "      <th>Droit</th>\n",
       "      <td>0.000000</td>\n",
       "      <td>0.023836</td>\n",
       "      <td>0.117924</td>\n",
       "      <td>0.389720</td>\n",
       "    </tr>\n",
       "    <tr>\n",
       "      <th>Sciences</th>\n",
       "      <td>0.023836</td>\n",
       "      <td>0.000000</td>\n",
       "      <td>0.217793</td>\n",
       "      <td>0.238840</td>\n",
       "    </tr>\n",
       "    <tr>\n",
       "      <th>Medecine</th>\n",
       "      <td>0.117924</td>\n",
       "      <td>0.217793</td>\n",
       "      <td>0.000000</td>\n",
       "      <td>0.891439</td>\n",
       "    </tr>\n",
       "    <tr>\n",
       "      <th>IUT</th>\n",
       "      <td>0.389720</td>\n",
       "      <td>0.238840</td>\n",
       "      <td>0.891439</td>\n",
       "      <td>0.000000</td>\n",
       "    </tr>\n",
       "  </tbody>\n",
       "</table>\n",
       "</div>"
      ],
      "text/plain": [
       "             Droit  Sciences  Medecine       IUT\n",
       "Droit     0.000000  0.023836  0.117924  0.389720\n",
       "Sciences  0.023836  0.000000  0.217793  0.238840\n",
       "Medecine  0.117924  0.217793  0.000000  0.891439\n",
       "IUT       0.389720  0.238840  0.891439  0.000000"
      ]
     },
     "metadata": {},
     "output_type": "display_data"
    }
   ],
   "source": [
    "# Distance des profils colonnes\n",
    "col_dist = col[\"dist\"]\n",
    "display(col_dist)"
   ]
  },
  {
   "attachments": {},
   "cell_type": "markdown",
   "metadata": {},
   "source": [
    "#### Distance restituée sur les profils colonnes"
   ]
  },
  {
   "cell_type": "code",
   "execution_count": 28,
   "metadata": {},
   "outputs": [
    {
     "data": {
      "text/html": [
       "<div>\n",
       "<style scoped>\n",
       "    .dataframe tbody tr th:only-of-type {\n",
       "        vertical-align: middle;\n",
       "    }\n",
       "\n",
       "    .dataframe tbody tr th {\n",
       "        vertical-align: top;\n",
       "    }\n",
       "\n",
       "    .dataframe thead th {\n",
       "        text-align: right;\n",
       "    }\n",
       "</style>\n",
       "<table border=\"1\" class=\"dataframe\">\n",
       "  <thead>\n",
       "    <tr style=\"text-align: right;\">\n",
       "      <th></th>\n",
       "      <th>Droit</th>\n",
       "      <th>Sciences</th>\n",
       "      <th>Medecine</th>\n",
       "      <th>IUT</th>\n",
       "    </tr>\n",
       "  </thead>\n",
       "  <tbody>\n",
       "    <tr>\n",
       "      <th>Droit</th>\n",
       "      <td>0.000000</td>\n",
       "      <td>0.023836</td>\n",
       "      <td>0.117924</td>\n",
       "      <td>0.389720</td>\n",
       "    </tr>\n",
       "    <tr>\n",
       "      <th>Sciences</th>\n",
       "      <td>0.023836</td>\n",
       "      <td>0.000000</td>\n",
       "      <td>0.217793</td>\n",
       "      <td>0.238840</td>\n",
       "    </tr>\n",
       "    <tr>\n",
       "      <th>Medecine</th>\n",
       "      <td>0.117924</td>\n",
       "      <td>0.217793</td>\n",
       "      <td>0.000000</td>\n",
       "      <td>0.891439</td>\n",
       "    </tr>\n",
       "    <tr>\n",
       "      <th>IUT</th>\n",
       "      <td>0.389720</td>\n",
       "      <td>0.238840</td>\n",
       "      <td>0.891439</td>\n",
       "      <td>0.000000</td>\n",
       "    </tr>\n",
       "  </tbody>\n",
       "</table>\n",
       "</div>"
      ],
      "text/plain": [
       "             Droit  Sciences  Medecine       IUT\n",
       "Droit     0.000000  0.023836  0.117924  0.389720\n",
       "Sciences  0.023836  0.000000  0.217793  0.238840\n",
       "Medecine  0.117924  0.217793  0.000000  0.891439\n",
       "IUT       0.389720  0.238840  0.891439  0.000000"
      ]
     },
     "metadata": {},
     "output_type": "display_data"
    }
   ],
   "source": [
    "# Distance restituée sur les profils colonnes\n",
    "res_col_dist = col[\"res.dist\"]\n",
    "display(res_col_dist)"
   ]
  },
  {
   "attachments": {},
   "cell_type": "markdown",
   "metadata": {},
   "source": [
    "## Autres informations\n",
    "\n",
    "### Résidus"
   ]
  },
  {
   "cell_type": "code",
   "execution_count": 29,
   "metadata": {},
   "outputs": [
    {
     "data": {
      "text/html": [
       "<div>\n",
       "<style scoped>\n",
       "    .dataframe tbody tr th:only-of-type {\n",
       "        vertical-align: middle;\n",
       "    }\n",
       "\n",
       "    .dataframe tbody tr th {\n",
       "        vertical-align: top;\n",
       "    }\n",
       "\n",
       "    .dataframe thead th {\n",
       "        text-align: right;\n",
       "    }\n",
       "</style>\n",
       "<table border=\"1\" class=\"dataframe\">\n",
       "  <thead>\n",
       "    <tr style=\"text-align: right;\">\n",
       "      <th></th>\n",
       "      <th>Droit</th>\n",
       "      <th>Sciences</th>\n",
       "      <th>Medecine</th>\n",
       "      <th>IUT</th>\n",
       "    </tr>\n",
       "    <tr>\n",
       "      <th>CSP_vs_Filiere</th>\n",
       "      <th></th>\n",
       "      <th></th>\n",
       "      <th></th>\n",
       "      <th></th>\n",
       "    </tr>\n",
       "  </thead>\n",
       "  <tbody>\n",
       "    <tr>\n",
       "      <th>ExpAgri</th>\n",
       "      <td>-2.124207</td>\n",
       "      <td>22.223044</td>\n",
       "      <td>-47.611522</td>\n",
       "      <td>27.512685</td>\n",
       "    </tr>\n",
       "    <tr>\n",
       "      <th>Patron</th>\n",
       "      <td>11.637685</td>\n",
       "      <td>-9.181290</td>\n",
       "      <td>-6.409355</td>\n",
       "      <td>3.952960</td>\n",
       "    </tr>\n",
       "    <tr>\n",
       "      <th>CadreSup</th>\n",
       "      <td>-26.280391</td>\n",
       "      <td>-63.966702</td>\n",
       "      <td>195.483351</td>\n",
       "      <td>-105.236258</td>\n",
       "    </tr>\n",
       "    <tr>\n",
       "      <th>Employe</th>\n",
       "      <td>18.006607</td>\n",
       "      <td>14.275370</td>\n",
       "      <td>-39.137685</td>\n",
       "      <td>6.855708</td>\n",
       "    </tr>\n",
       "    <tr>\n",
       "      <th>Ouvrier</th>\n",
       "      <td>-1.239693</td>\n",
       "      <td>36.649577</td>\n",
       "      <td>-102.324789</td>\n",
       "      <td>66.914905</td>\n",
       "    </tr>\n",
       "  </tbody>\n",
       "</table>\n",
       "</div>"
      ],
      "text/plain": [
       "                    Droit   Sciences    Medecine         IUT\n",
       "CSP_vs_Filiere                                              \n",
       "ExpAgri         -2.124207  22.223044  -47.611522   27.512685\n",
       "Patron          11.637685  -9.181290   -6.409355    3.952960\n",
       "CadreSup       -26.280391 -63.966702  195.483351 -105.236258\n",
       "Employe         18.006607  14.275370  -39.137685    6.855708\n",
       "Ouvrier         -1.239693  36.649577 -102.324789   66.914905"
      ]
     },
     "metadata": {},
     "output_type": "display_data"
    }
   ],
   "source": [
    "resid  = pd.DataFrame(my_ca.resid_,index=D.index,columns=D.columns)\n",
    "display(resid)"
   ]
  },
  {
   "attachments": {},
   "cell_type": "markdown",
   "metadata": {},
   "source": [
    "### Résidus standardisés"
   ]
  },
  {
   "cell_type": "code",
   "execution_count": 30,
   "metadata": {},
   "outputs": [
    {
     "data": {
      "text/html": [
       "<div>\n",
       "<style scoped>\n",
       "    .dataframe tbody tr th:only-of-type {\n",
       "        vertical-align: middle;\n",
       "    }\n",
       "\n",
       "    .dataframe tbody tr th {\n",
       "        vertical-align: top;\n",
       "    }\n",
       "\n",
       "    .dataframe thead th {\n",
       "        text-align: right;\n",
       "    }\n",
       "</style>\n",
       "<table border=\"1\" class=\"dataframe\">\n",
       "  <thead>\n",
       "    <tr style=\"text-align: right;\">\n",
       "      <th></th>\n",
       "      <th>Droit</th>\n",
       "      <th>Sciences</th>\n",
       "      <th>Medecine</th>\n",
       "      <th>IUT</th>\n",
       "    </tr>\n",
       "    <tr>\n",
       "      <th>CSP_vs_Filiere</th>\n",
       "      <th></th>\n",
       "      <th></th>\n",
       "      <th></th>\n",
       "      <th></th>\n",
       "    </tr>\n",
       "  </thead>\n",
       "  <tbody>\n",
       "    <tr>\n",
       "      <th>ExpAgri</th>\n",
       "      <td>-0.234402</td>\n",
       "      <td>2.536227</td>\n",
       "      <td>-4.486634</td>\n",
       "      <td>4.982799</td>\n",
       "    </tr>\n",
       "    <tr>\n",
       "      <th>Patron</th>\n",
       "      <td>0.930680</td>\n",
       "      <td>-0.759378</td>\n",
       "      <td>-0.437716</td>\n",
       "      <td>0.518839</td>\n",
       "    </tr>\n",
       "    <tr>\n",
       "      <th>CadreSup</th>\n",
       "      <td>-1.179691</td>\n",
       "      <td>-2.969686</td>\n",
       "      <td>7.493598</td>\n",
       "      <td>-7.753144</td>\n",
       "    </tr>\n",
       "    <tr>\n",
       "      <th>Employe</th>\n",
       "      <td>1.597870</td>\n",
       "      <td>1.310138</td>\n",
       "      <td>-2.965847</td>\n",
       "      <td>0.998476</td>\n",
       "    </tr>\n",
       "    <tr>\n",
       "      <th>Ouvrier</th>\n",
       "      <td>-0.095862</td>\n",
       "      <td>2.931024</td>\n",
       "      <td>-6.757022</td>\n",
       "      <td>8.492376</td>\n",
       "    </tr>\n",
       "  </tbody>\n",
       "</table>\n",
       "</div>"
      ],
      "text/plain": [
       "                   Droit  Sciences  Medecine       IUT\n",
       "CSP_vs_Filiere                                        \n",
       "ExpAgri        -0.234402  2.536227 -4.486634  4.982799\n",
       "Patron          0.930680 -0.759378 -0.437716  0.518839\n",
       "CadreSup       -1.179691 -2.969686  7.493598 -7.753144\n",
       "Employe         1.597870  1.310138 -2.965847  0.998476\n",
       "Ouvrier        -0.095862  2.931024 -6.757022  8.492376"
      ]
     },
     "metadata": {},
     "output_type": "display_data"
    }
   ],
   "source": [
    "standardized_resid = pd.DataFrame(my_ca.standardized_resid_,index=D.index,columns=D.columns)\n",
    "display(standardized_resid)"
   ]
  },
  {
   "attachments": {},
   "cell_type": "markdown",
   "metadata": {},
   "source": [
    "#### Résidus ajustés"
   ]
  },
  {
   "cell_type": "code",
   "execution_count": 31,
   "metadata": {},
   "outputs": [
    {
     "data": {
      "text/html": [
       "<div>\n",
       "<style scoped>\n",
       "    .dataframe tbody tr th:only-of-type {\n",
       "        vertical-align: middle;\n",
       "    }\n",
       "\n",
       "    .dataframe tbody tr th {\n",
       "        vertical-align: top;\n",
       "    }\n",
       "\n",
       "    .dataframe thead th {\n",
       "        text-align: right;\n",
       "    }\n",
       "</style>\n",
       "<table border=\"1\" class=\"dataframe\">\n",
       "  <thead>\n",
       "    <tr style=\"text-align: right;\">\n",
       "      <th></th>\n",
       "      <th>Droit</th>\n",
       "      <th>Sciences</th>\n",
       "      <th>Medecine</th>\n",
       "      <th>IUT</th>\n",
       "    </tr>\n",
       "    <tr>\n",
       "      <th>CSP_vs_Filiere</th>\n",
       "      <th></th>\n",
       "      <th></th>\n",
       "      <th></th>\n",
       "      <th></th>\n",
       "    </tr>\n",
       "  </thead>\n",
       "  <tbody>\n",
       "    <tr>\n",
       "      <th>ExpAgri</th>\n",
       "      <td>-0.286376</td>\n",
       "      <td>3.061585</td>\n",
       "      <td>-5.906205</td>\n",
       "      <td>5.478264</td>\n",
       "    </tr>\n",
       "    <tr>\n",
       "      <th>Patron</th>\n",
       "      <td>1.184421</td>\n",
       "      <td>-0.954873</td>\n",
       "      <td>-0.600219</td>\n",
       "      <td>0.594198</td>\n",
       "    </tr>\n",
       "    <tr>\n",
       "      <th>CadreSup</th>\n",
       "      <td>-1.921504</td>\n",
       "      <td>-4.779318</td>\n",
       "      <td>13.151505</td>\n",
       "      <td>-11.364350</td>\n",
       "    </tr>\n",
       "    <tr>\n",
       "      <th>Employe</th>\n",
       "      <td>2.000133</td>\n",
       "      <td>1.620380</td>\n",
       "      <td>-4.000168</td>\n",
       "      <td>1.124732</td>\n",
       "    </tr>\n",
       "    <tr>\n",
       "      <th>Ouvrier</th>\n",
       "      <td>-0.122765</td>\n",
       "      <td>3.708779</td>\n",
       "      <td>-9.323876</td>\n",
       "      <td>9.787055</td>\n",
       "    </tr>\n",
       "  </tbody>\n",
       "</table>\n",
       "</div>"
      ],
      "text/plain": [
       "                   Droit  Sciences   Medecine        IUT\n",
       "CSP_vs_Filiere                                          \n",
       "ExpAgri        -0.286376  3.061585  -5.906205   5.478264\n",
       "Patron          1.184421 -0.954873  -0.600219   0.594198\n",
       "CadreSup       -1.921504 -4.779318  13.151505 -11.364350\n",
       "Employe         2.000133  1.620380  -4.000168   1.124732\n",
       "Ouvrier        -0.122765  3.708779  -9.323876   9.787055"
      ]
     },
     "metadata": {},
     "output_type": "display_data"
    }
   ],
   "source": [
    "adjusted_resid = pd.DataFrame(my_ca.adjusted_resid_,index=D.index,columns=D.columns)\n",
    "display(adjusted_resid)"
   ]
  },
  {
   "attachments": {},
   "cell_type": "markdown",
   "metadata": {},
   "source": [
    "#### Contributions"
   ]
  },
  {
   "cell_type": "code",
   "execution_count": 32,
   "metadata": {},
   "outputs": [
    {
     "data": {
      "text/html": [
       "<div>\n",
       "<style scoped>\n",
       "    .dataframe tbody tr th:only-of-type {\n",
       "        vertical-align: middle;\n",
       "    }\n",
       "\n",
       "    .dataframe tbody tr th {\n",
       "        vertical-align: top;\n",
       "    }\n",
       "\n",
       "    .dataframe thead th {\n",
       "        text-align: right;\n",
       "    }\n",
       "</style>\n",
       "<table border=\"1\" class=\"dataframe\">\n",
       "  <thead>\n",
       "    <tr style=\"text-align: right;\">\n",
       "      <th></th>\n",
       "      <th>Droit</th>\n",
       "      <th>Sciences</th>\n",
       "      <th>Medecine</th>\n",
       "      <th>IUT</th>\n",
       "    </tr>\n",
       "    <tr>\n",
       "      <th>CSP_vs_Filiere</th>\n",
       "      <th></th>\n",
       "      <th></th>\n",
       "      <th></th>\n",
       "      <th></th>\n",
       "    </tr>\n",
       "  </thead>\n",
       "  <tbody>\n",
       "    <tr>\n",
       "      <th>ExpAgri</th>\n",
       "      <td>0.017156</td>\n",
       "      <td>2.008471</td>\n",
       "      <td>6.285367</td>\n",
       "      <td>7.752399</td>\n",
       "    </tr>\n",
       "    <tr>\n",
       "      <th>Patron</th>\n",
       "      <td>0.270452</td>\n",
       "      <td>0.180055</td>\n",
       "      <td>0.059824</td>\n",
       "      <td>0.084053</td>\n",
       "    </tr>\n",
       "    <tr>\n",
       "      <th>CadreSup</th>\n",
       "      <td>0.434536</td>\n",
       "      <td>2.753661</td>\n",
       "      <td>17.533561</td>\n",
       "      <td>18.769168</td>\n",
       "    </tr>\n",
       "    <tr>\n",
       "      <th>Employe</th>\n",
       "      <td>0.797209</td>\n",
       "      <td>0.535949</td>\n",
       "      <td>2.746546</td>\n",
       "      <td>0.311290</td>\n",
       "    </tr>\n",
       "    <tr>\n",
       "      <th>Ouvrier</th>\n",
       "      <td>0.002869</td>\n",
       "      <td>2.682429</td>\n",
       "      <td>14.256078</td>\n",
       "      <td>22.518928</td>\n",
       "    </tr>\n",
       "  </tbody>\n",
       "</table>\n",
       "</div>"
      ],
      "text/plain": [
       "                   Droit  Sciences   Medecine        IUT\n",
       "CSP_vs_Filiere                                          \n",
       "ExpAgri         0.017156  2.008471   6.285367   7.752399\n",
       "Patron          0.270452  0.180055   0.059824   0.084053\n",
       "CadreSup        0.434536  2.753661  17.533561  18.769168\n",
       "Employe         0.797209  0.535949   2.746546   0.311290\n",
       "Ouvrier         0.002869  2.682429  14.256078  22.518928"
      ]
     },
     "metadata": {},
     "output_type": "display_data"
    }
   ],
   "source": [
    "chi2_contribution = pd.DataFrame(my_ca.chi2_contribution_,index=D.index,columns=D.columns)\n",
    "display(chi2_contribution)"
   ]
  },
  {
   "attachments": {},
   "cell_type": "markdown",
   "metadata": {},
   "source": [
    "#### Indice d'attraction répulsion"
   ]
  },
  {
   "cell_type": "code",
   "execution_count": 33,
   "metadata": {},
   "outputs": [
    {
     "data": {
      "text/html": [
       "<div>\n",
       "<style scoped>\n",
       "    .dataframe tbody tr th:only-of-type {\n",
       "        vertical-align: middle;\n",
       "    }\n",
       "\n",
       "    .dataframe tbody tr th {\n",
       "        vertical-align: top;\n",
       "    }\n",
       "\n",
       "    .dataframe thead th {\n",
       "        text-align: right;\n",
       "    }\n",
       "</style>\n",
       "<table border=\"1\" class=\"dataframe\">\n",
       "  <thead>\n",
       "    <tr style=\"text-align: right;\">\n",
       "      <th></th>\n",
       "      <th>Droit</th>\n",
       "      <th>Sciences</th>\n",
       "      <th>Medecine</th>\n",
       "      <th>IUT</th>\n",
       "    </tr>\n",
       "    <tr>\n",
       "      <th>CSP_vs_Filiere</th>\n",
       "      <th></th>\n",
       "      <th></th>\n",
       "      <th></th>\n",
       "      <th></th>\n",
       "    </tr>\n",
       "  </thead>\n",
       "  <tbody>\n",
       "    <tr>\n",
       "      <th>ExpAgri</th>\n",
       "      <td>0.974134</td>\n",
       "      <td>1.289449</td>\n",
       "      <td>0.577206</td>\n",
       "      <td>1.902431</td>\n",
       "    </tr>\n",
       "    <tr>\n",
       "      <th>Patron</th>\n",
       "      <td>1.074428</td>\n",
       "      <td>0.937192</td>\n",
       "      <td>0.970107</td>\n",
       "      <td>1.068099</td>\n",
       "    </tr>\n",
       "    <tr>\n",
       "      <th>CadreSup</th>\n",
       "      <td>0.947045</td>\n",
       "      <td>0.862131</td>\n",
       "      <td>1.287257</td>\n",
       "      <td>0.428797</td>\n",
       "    </tr>\n",
       "    <tr>\n",
       "      <th>Employe</th>\n",
       "      <td>1.141792</td>\n",
       "      <td>1.120239</td>\n",
       "      <td>0.775249</td>\n",
       "      <td>1.145420</td>\n",
       "    </tr>\n",
       "    <tr>\n",
       "      <th>Ouvrier</th>\n",
       "      <td>0.992587</td>\n",
       "      <td>1.234407</td>\n",
       "      <td>0.553800</td>\n",
       "      <td>2.077793</td>\n",
       "    </tr>\n",
       "  </tbody>\n",
       "</table>\n",
       "</div>"
      ],
      "text/plain": [
       "                   Droit  Sciences  Medecine       IUT\n",
       "CSP_vs_Filiere                                        \n",
       "ExpAgri         0.974134  1.289449  0.577206  1.902431\n",
       "Patron          1.074428  0.937192  0.970107  1.068099\n",
       "CadreSup        0.947045  0.862131  1.287257  0.428797\n",
       "Employe         1.141792  1.120239  0.775249  1.145420\n",
       "Ouvrier         0.992587  1.234407  0.553800  2.077793"
      ]
     },
     "metadata": {},
     "output_type": "display_data"
    }
   ],
   "source": [
    "# Indice d'attraction - répulsion\n",
    "iar = pd.DataFrame(my_ca.attraction_repulsion_index_,index=D.index,columns=D.columns)\n",
    "display(iar)"
   ]
  },
  {
   "attachments": {},
   "cell_type": "markdown",
   "metadata": {},
   "source": [
    "##### Log-likelihood test"
   ]
  },
  {
   "cell_type": "code",
   "execution_count": 34,
   "metadata": {},
   "outputs": [
    {
     "data": {
      "text/html": [
       "<div>\n",
       "<style scoped>\n",
       "    .dataframe tbody tr th:only-of-type {\n",
       "        vertical-align: middle;\n",
       "    }\n",
       "\n",
       "    .dataframe tbody tr th {\n",
       "        vertical-align: top;\n",
       "    }\n",
       "\n",
       "    .dataframe thead th {\n",
       "        text-align: right;\n",
       "    }\n",
       "</style>\n",
       "<table border=\"1\" class=\"dataframe\">\n",
       "  <thead>\n",
       "    <tr style=\"text-align: right;\">\n",
       "      <th></th>\n",
       "      <th>statistic</th>\n",
       "      <th>pvalue</th>\n",
       "    </tr>\n",
       "  </thead>\n",
       "  <tbody>\n",
       "    <tr>\n",
       "      <th>log-likelihood test</th>\n",
       "      <td>321.963659</td>\n",
       "      <td>1.134482e-61</td>\n",
       "    </tr>\n",
       "  </tbody>\n",
       "</table>\n",
       "</div>"
      ],
      "text/plain": [
       "                      statistic        pvalue\n",
       "log-likelihood test  321.963659  1.134482e-61"
      ]
     },
     "metadata": {},
     "output_type": "display_data"
    }
   ],
   "source": [
    "# Log - likelihood test\n",
    "log_likelihood_test = pd.DataFrame(my_ca.log_likelihood_test_,index = [\"log-likelihood test\"])\n",
    "display(log_likelihood_test)"
   ]
  },
  {
   "attachments": {},
   "cell_type": "markdown",
   "metadata": {},
   "source": [
    "#### Others stats"
   ]
  },
  {
   "cell_type": "code",
   "execution_count": 35,
   "metadata": {},
   "outputs": [
    {
     "data": {
      "text/html": [
       "<div>\n",
       "<style scoped>\n",
       "    .dataframe tbody tr th:only-of-type {\n",
       "        vertical-align: middle;\n",
       "    }\n",
       "\n",
       "    .dataframe tbody tr th {\n",
       "        vertical-align: top;\n",
       "    }\n",
       "\n",
       "    .dataframe thead th {\n",
       "        text-align: right;\n",
       "    }\n",
       "</style>\n",
       "<table border=\"1\" class=\"dataframe\">\n",
       "  <thead>\n",
       "    <tr style=\"text-align: right;\">\n",
       "      <th></th>\n",
       "      <th>cramer</th>\n",
       "      <th>tschuprow</th>\n",
       "      <th>pearson</th>\n",
       "    </tr>\n",
       "  </thead>\n",
       "  <tbody>\n",
       "    <tr>\n",
       "      <th>others stats</th>\n",
       "      <td>0.167965</td>\n",
       "      <td>0.156309</td>\n",
       "      <td>0.279343</td>\n",
       "    </tr>\n",
       "  </tbody>\n",
       "</table>\n",
       "</div>"
      ],
      "text/plain": [
       "                cramer  tschuprow   pearson\n",
       "others stats  0.167965   0.156309  0.279343"
      ]
     },
     "execution_count": 35,
     "metadata": {},
     "output_type": "execute_result"
    }
   ],
   "source": [
    "# Others stats\n",
    "pd.DataFrame(my_ca.contingency_association_,index=[\"others stats\"])"
   ]
  },
  {
   "cell_type": "code",
   "execution_count": 36,
   "metadata": {},
   "outputs": [],
   "source": [
    "from scientisttools.summarise import summaryCA"
   ]
  },
  {
   "cell_type": "code",
   "execution_count": 37,
   "metadata": {},
   "outputs": [
    {
     "name": "stdout",
     "output_type": "stream",
     "text": [
      "                     Correspondence Analysis - Results                     \n",
      "\n",
      "Importance of components\n",
      "|                         |   Dim.1 |   Dim.2 |   Dim.3 |\n",
      "|:------------------------|--------:|--------:|--------:|\n",
      "| Variance                |   0.082 |   0.002 |   0.001 |\n",
      "| Difference              |   0.081 |   0.001 | nan     |\n",
      "| % of var.               |  97.35  |   2.013 |   0.638 |\n",
      "| Cumulative of % of var. |  97.35  |  99.362 | 100     |\n",
      "\n",
      "Rows\n",
      "\n",
      "| CSP_vs_Filiere   |   d(i,G) |   p(i) |   I(i,G) |   Dim.1 |    ctr |   cos2 |   Dim.2 |    ctr |   cos2 |   Dim.3 |    ctr |   cos2 |\n",
      "|:-----------------|---------:|-------:|---------:|--------:|-------:|-------:|--------:|-------:|-------:|--------:|-------:|-------:|\n",
      "| ExpAgri          |    0.17  |  0.08  |    0.014 |   0.41  | 16.292 |  0.987 |  -0.026 |  3.229 |  0.004 |   0.038 | 21.669 |  0.009 |\n",
      "| Patron           |    0.003 |  0.152 |    0.001 |   0.02  |  0.075 |  0.123 |   0.027 |  6.305 |  0.213 |  -0.047 | 61.868 |  0.664 |\n",
      "| CadreSup         |    0.069 |  0.482 |    0.033 |  -0.263 | 40.401 |  0.996 |  -0.016 |  6.886 |  0.004 |   0.006 |  3.433 |  0.001 |\n",
      "| Employe          |    0.03  |  0.123 |    0.004 |   0.142 |  3.024 |  0.67  |   0.097 | 68.626 |  0.315 |   0.021 | 10.316 |  0.015 |\n",
      "| Ouvrier          |    0.205 |  0.163 |    0.033 |   0.451 | 40.208 |  0.992 |  -0.04  | 14.953 |  0.008 |  -0.009 |  2.713 |  0     |\n",
      "\n",
      "Columns\n",
      "\n",
      "|          |   d(k,G) |   p(k) |   I(k,G) |   Dim.1 |    ctr |   cos2 |   Dim.2 |    ctr |   cos2 |   Dim.3 |    ctr |   cos2 |\n",
      "|:---------|---------:|-------:|---------:|--------:|-------:|-------:|--------:|-------:|-------:|--------:|-------:|-------:|\n",
      "| Droit    |    0.005 |  0.272 |    0.001 |   0.028 |  0.259 |  0.165 |   0.061 | 58.759 |  0.777 |  -0.017 | 13.789 |  0.058 |\n",
      "| Sciences |    0.027 |  0.254 |    0.007 |   0.16  |  7.945 |  0.948 |   0.003 |  0.112 |  0     |   0.038 | 66.521 |  0.052 |\n",
      "| Medecine |    0.093 |  0.373 |    0.035 |  -0.303 | 41.584 |  0.99  |  -0.03  | 19.259 |  0.009 |  -0.005 |  1.868 |  0     |\n",
      "| IUT      |    0.414 |  0.101 |    0.042 |   0.64  | 50.213 |  0.989 |  -0.061 | 21.87  |  0.009 |  -0.031 | 17.822 |  0.002 |\n"
     ]
    }
   ],
   "source": [
    "summaryCA(my_ca,to_markdown=True)"
   ]
  },
  {
   "cell_type": "markdown",
   "metadata": {},
   "source": []
  },
  {
   "cell_type": "code",
   "execution_count": 38,
   "metadata": {},
   "outputs": [
    {
     "data": {
      "text/html": [
       "<div>\n",
       "<style scoped>\n",
       "    .dataframe tbody tr th:only-of-type {\n",
       "        vertical-align: middle;\n",
       "    }\n",
       "\n",
       "    .dataframe tbody tr th {\n",
       "        vertical-align: top;\n",
       "    }\n",
       "\n",
       "    .dataframe thead th {\n",
       "        text-align: right;\n",
       "    }\n",
       "</style>\n",
       "<table border=\"1\" class=\"dataframe\">\n",
       "  <thead>\n",
       "    <tr style=\"text-align: right;\">\n",
       "      <th></th>\n",
       "      <th>Cereals</th>\n",
       "      <th>Muesli</th>\n",
       "      <th>Porridge</th>\n",
       "      <th>BaconEggs</th>\n",
       "      <th>ToastTea</th>\n",
       "      <th>FreshFruit</th>\n",
       "      <th>StewedFruit</th>\n",
       "      <th>Yoghurt</th>\n",
       "    </tr>\n",
       "    <tr>\n",
       "      <th>Statement</th>\n",
       "      <th></th>\n",
       "      <th></th>\n",
       "      <th></th>\n",
       "      <th></th>\n",
       "      <th></th>\n",
       "      <th></th>\n",
       "      <th></th>\n",
       "      <th></th>\n",
       "    </tr>\n",
       "  </thead>\n",
       "  <tbody>\n",
       "    <tr>\n",
       "      <th>Healthy</th>\n",
       "      <td>14</td>\n",
       "      <td>38</td>\n",
       "      <td>25</td>\n",
       "      <td>18</td>\n",
       "      <td>8</td>\n",
       "      <td>31</td>\n",
       "      <td>28</td>\n",
       "      <td>34</td>\n",
       "    </tr>\n",
       "    <tr>\n",
       "      <th>Nutritious</th>\n",
       "      <td>14</td>\n",
       "      <td>28</td>\n",
       "      <td>25</td>\n",
       "      <td>25</td>\n",
       "      <td>7</td>\n",
       "      <td>32</td>\n",
       "      <td>26</td>\n",
       "      <td>31</td>\n",
       "    </tr>\n",
       "    <tr>\n",
       "      <th>GoodSummer</th>\n",
       "      <td>42</td>\n",
       "      <td>22</td>\n",
       "      <td>11</td>\n",
       "      <td>13</td>\n",
       "      <td>7</td>\n",
       "      <td>37</td>\n",
       "      <td>16</td>\n",
       "      <td>35</td>\n",
       "    </tr>\n",
       "    <tr>\n",
       "      <th>GoodWinter</th>\n",
       "      <td>10</td>\n",
       "      <td>10</td>\n",
       "      <td>32</td>\n",
       "      <td>26</td>\n",
       "      <td>6</td>\n",
       "      <td>11</td>\n",
       "      <td>19</td>\n",
       "      <td>8</td>\n",
       "    </tr>\n",
       "    <tr>\n",
       "      <th>Expensive</th>\n",
       "      <td>6</td>\n",
       "      <td>33</td>\n",
       "      <td>5</td>\n",
       "      <td>27</td>\n",
       "      <td>3</td>\n",
       "      <td>9</td>\n",
       "      <td>18</td>\n",
       "      <td>10</td>\n",
       "    </tr>\n",
       "    <tr>\n",
       "      <th>QuickEasy</th>\n",
       "      <td>54</td>\n",
       "      <td>33</td>\n",
       "      <td>8</td>\n",
       "      <td>2</td>\n",
       "      <td>15</td>\n",
       "      <td>26</td>\n",
       "      <td>8</td>\n",
       "      <td>20</td>\n",
       "    </tr>\n",
       "    <tr>\n",
       "      <th>Tasty</th>\n",
       "      <td>24</td>\n",
       "      <td>21</td>\n",
       "      <td>16</td>\n",
       "      <td>34</td>\n",
       "      <td>11</td>\n",
       "      <td>33</td>\n",
       "      <td>26</td>\n",
       "      <td>26</td>\n",
       "    </tr>\n",
       "    <tr>\n",
       "      <th>Economical</th>\n",
       "      <td>24</td>\n",
       "      <td>3</td>\n",
       "      <td>20</td>\n",
       "      <td>3</td>\n",
       "      <td>16</td>\n",
       "      <td>7</td>\n",
       "      <td>3</td>\n",
       "      <td>7</td>\n",
       "    </tr>\n",
       "    <tr>\n",
       "      <th>ForATreat</th>\n",
       "      <td>5</td>\n",
       "      <td>3</td>\n",
       "      <td>3</td>\n",
       "      <td>31</td>\n",
       "      <td>4</td>\n",
       "      <td>4</td>\n",
       "      <td>16</td>\n",
       "      <td>17</td>\n",
       "    </tr>\n",
       "    <tr>\n",
       "      <th>ForWeekdays</th>\n",
       "      <td>47</td>\n",
       "      <td>24</td>\n",
       "      <td>15</td>\n",
       "      <td>9</td>\n",
       "      <td>13</td>\n",
       "      <td>11</td>\n",
       "      <td>6</td>\n",
       "      <td>10</td>\n",
       "    </tr>\n",
       "    <tr>\n",
       "      <th>ForWeekends</th>\n",
       "      <td>12</td>\n",
       "      <td>5</td>\n",
       "      <td>8</td>\n",
       "      <td>56</td>\n",
       "      <td>16</td>\n",
       "      <td>10</td>\n",
       "      <td>23</td>\n",
       "      <td>18</td>\n",
       "    </tr>\n",
       "    <tr>\n",
       "      <th>Tasteless</th>\n",
       "      <td>8</td>\n",
       "      <td>6</td>\n",
       "      <td>2</td>\n",
       "      <td>2</td>\n",
       "      <td>0</td>\n",
       "      <td>0</td>\n",
       "      <td>2</td>\n",
       "      <td>1</td>\n",
       "    </tr>\n",
       "    <tr>\n",
       "      <th>TooLongToPrepare</th>\n",
       "      <td>0</td>\n",
       "      <td>0</td>\n",
       "      <td>9</td>\n",
       "      <td>35</td>\n",
       "      <td>1</td>\n",
       "      <td>0</td>\n",
       "      <td>10</td>\n",
       "      <td>0</td>\n",
       "    </tr>\n",
       "    <tr>\n",
       "      <th>FamilyFavourite</th>\n",
       "      <td>14</td>\n",
       "      <td>4</td>\n",
       "      <td>10</td>\n",
       "      <td>31</td>\n",
       "      <td>5</td>\n",
       "      <td>7</td>\n",
       "      <td>2</td>\n",
       "      <td>5</td>\n",
       "    </tr>\n",
       "  </tbody>\n",
       "</table>\n",
       "</div>"
      ],
      "text/plain": [
       "                  Cereals  Muesli  Porridge  BaconEggs  ToastTea  FreshFruit   \n",
       "Statement                                                                      \n",
       "Healthy                14      38        25         18         8          31  \\\n",
       "Nutritious             14      28        25         25         7          32   \n",
       "GoodSummer             42      22        11         13         7          37   \n",
       "GoodWinter             10      10        32         26         6          11   \n",
       "Expensive               6      33         5         27         3           9   \n",
       "QuickEasy              54      33         8          2        15          26   \n",
       "Tasty                  24      21        16         34        11          33   \n",
       "Economical             24       3        20          3        16           7   \n",
       "ForATreat               5       3         3         31         4           4   \n",
       "ForWeekdays            47      24        15          9        13          11   \n",
       "ForWeekends            12       5         8         56        16          10   \n",
       "Tasteless               8       6         2          2         0           0   \n",
       "TooLongToPrepare        0       0         9         35         1           0   \n",
       "FamilyFavourite        14       4        10         31         5           7   \n",
       "\n",
       "                  StewedFruit  Yoghurt  \n",
       "Statement                               \n",
       "Healthy                    28       34  \n",
       "Nutritious                 26       31  \n",
       "GoodSummer                 16       35  \n",
       "GoodWinter                 19        8  \n",
       "Expensive                  18       10  \n",
       "QuickEasy                   8       20  \n",
       "Tasty                      26       26  \n",
       "Economical                  3        7  \n",
       "ForATreat                  16       17  \n",
       "ForWeekdays                 6       10  \n",
       "ForWeekends                23       18  \n",
       "Tasteless                   2        1  \n",
       "TooLongToPrepare           10        0  \n",
       "FamilyFavourite             2        5  "
      ]
     },
     "metadata": {},
     "output_type": "display_data"
    }
   ],
   "source": [
    "# Chargement des données\n",
    "D = pd.read_excel(\"Data_Methodes_Factorielles.xlsx\",sheet_name=\"AFC_FOODS\",index_col=0) \n",
    "display(D)"
   ]
  },
  {
   "cell_type": "code",
   "execution_count": 39,
   "metadata": {},
   "outputs": [
    {
     "data": {
      "text/html": [
       "<style>#sk-container-id-2 {color: black;background-color: white;}#sk-container-id-2 pre{padding: 0;}#sk-container-id-2 div.sk-toggleable {background-color: white;}#sk-container-id-2 label.sk-toggleable__label {cursor: pointer;display: block;width: 100%;margin-bottom: 0;padding: 0.3em;box-sizing: border-box;text-align: center;}#sk-container-id-2 label.sk-toggleable__label-arrow:before {content: \"▸\";float: left;margin-right: 0.25em;color: #696969;}#sk-container-id-2 label.sk-toggleable__label-arrow:hover:before {color: black;}#sk-container-id-2 div.sk-estimator:hover label.sk-toggleable__label-arrow:before {color: black;}#sk-container-id-2 div.sk-toggleable__content {max-height: 0;max-width: 0;overflow: hidden;text-align: left;background-color: #f0f8ff;}#sk-container-id-2 div.sk-toggleable__content pre {margin: 0.2em;color: black;border-radius: 0.25em;background-color: #f0f8ff;}#sk-container-id-2 input.sk-toggleable__control:checked~div.sk-toggleable__content {max-height: 200px;max-width: 100%;overflow: auto;}#sk-container-id-2 input.sk-toggleable__control:checked~label.sk-toggleable__label-arrow:before {content: \"▾\";}#sk-container-id-2 div.sk-estimator input.sk-toggleable__control:checked~label.sk-toggleable__label {background-color: #d4ebff;}#sk-container-id-2 div.sk-label input.sk-toggleable__control:checked~label.sk-toggleable__label {background-color: #d4ebff;}#sk-container-id-2 input.sk-hidden--visually {border: 0;clip: rect(1px 1px 1px 1px);clip: rect(1px, 1px, 1px, 1px);height: 1px;margin: -1px;overflow: hidden;padding: 0;position: absolute;width: 1px;}#sk-container-id-2 div.sk-estimator {font-family: monospace;background-color: #f0f8ff;border: 1px dotted black;border-radius: 0.25em;box-sizing: border-box;margin-bottom: 0.5em;}#sk-container-id-2 div.sk-estimator:hover {background-color: #d4ebff;}#sk-container-id-2 div.sk-parallel-item::after {content: \"\";width: 100%;border-bottom: 1px solid gray;flex-grow: 1;}#sk-container-id-2 div.sk-label:hover label.sk-toggleable__label {background-color: #d4ebff;}#sk-container-id-2 div.sk-serial::before {content: \"\";position: absolute;border-left: 1px solid gray;box-sizing: border-box;top: 0;bottom: 0;left: 50%;z-index: 0;}#sk-container-id-2 div.sk-serial {display: flex;flex-direction: column;align-items: center;background-color: white;padding-right: 0.2em;padding-left: 0.2em;position: relative;}#sk-container-id-2 div.sk-item {position: relative;z-index: 1;}#sk-container-id-2 div.sk-parallel {display: flex;align-items: stretch;justify-content: center;background-color: white;position: relative;}#sk-container-id-2 div.sk-item::before, #sk-container-id-2 div.sk-parallel-item::before {content: \"\";position: absolute;border-left: 1px solid gray;box-sizing: border-box;top: 0;bottom: 0;left: 50%;z-index: -1;}#sk-container-id-2 div.sk-parallel-item {display: flex;flex-direction: column;z-index: 1;position: relative;background-color: white;}#sk-container-id-2 div.sk-parallel-item:first-child::after {align-self: flex-end;width: 50%;}#sk-container-id-2 div.sk-parallel-item:last-child::after {align-self: flex-start;width: 50%;}#sk-container-id-2 div.sk-parallel-item:only-child::after {width: 0;}#sk-container-id-2 div.sk-dashed-wrapped {border: 1px dashed gray;margin: 0 0.4em 0.5em 0.4em;box-sizing: border-box;padding-bottom: 0.4em;background-color: white;}#sk-container-id-2 div.sk-label label {font-family: monospace;font-weight: bold;display: inline-block;line-height: 1.2em;}#sk-container-id-2 div.sk-label-container {text-align: center;}#sk-container-id-2 div.sk-container {/* jupyter's `normalize.less` sets `[hidden] { display: none; }` but bootstrap.min.css set `[hidden] { display: none !important; }` so we also need the `!important` here to be able to override the default hidden behavior on the sphinx rendered scikit-learn.org. See: https://github.com/scikit-learn/scikit-learn/issues/21755 */display: inline-block !important;position: relative;}#sk-container-id-2 div.sk-text-repr-fallback {display: none;}</style><div id=\"sk-container-id-2\" class=\"sk-top-container\"><div class=\"sk-text-repr-fallback\"><pre>CA(col_labels=Index([&#x27;Cereals&#x27;, &#x27;Muesli&#x27;, &#x27;Porridge&#x27;, &#x27;BaconEggs&#x27;, &#x27;ToastTea&#x27;, &#x27;FreshFruit&#x27;,\n",
       "       &#x27;StewedFruit&#x27;, &#x27;Yoghurt&#x27;],\n",
       "      dtype=&#x27;object&#x27;),\n",
       "   figsize=(16, 8),\n",
       "   row_labels=Index([&#x27;Healthy&#x27;, &#x27;Nutritious&#x27;, &#x27;GoodSummer&#x27;, &#x27;GoodWinter&#x27;, &#x27;Expensive&#x27;,\n",
       "       &#x27;QuickEasy&#x27;, &#x27;Tasty&#x27;, &#x27;Economical&#x27;, &#x27;ForATreat&#x27;, &#x27;ForWeekdays&#x27;,\n",
       "       &#x27;ForWeekends&#x27;, &#x27;Tasteless&#x27;, &#x27;TooLongToPrepare&#x27;, &#x27;FamilyFavourite&#x27;],\n",
       "      dtype=&#x27;object&#x27;, name=&#x27;Statement&#x27;))</pre><b>In a Jupyter environment, please rerun this cell to show the HTML representation or trust the notebook. <br />On GitHub, the HTML representation is unable to render, please try loading this page with nbviewer.org.</b></div><div class=\"sk-container\" hidden><div class=\"sk-item\"><div class=\"sk-estimator sk-toggleable\"><input class=\"sk-toggleable__control sk-hidden--visually\" id=\"sk-estimator-id-2\" type=\"checkbox\" checked><label for=\"sk-estimator-id-2\" class=\"sk-toggleable__label sk-toggleable__label-arrow\">CA</label><div class=\"sk-toggleable__content\"><pre>CA(col_labels=Index([&#x27;Cereals&#x27;, &#x27;Muesli&#x27;, &#x27;Porridge&#x27;, &#x27;BaconEggs&#x27;, &#x27;ToastTea&#x27;, &#x27;FreshFruit&#x27;,\n",
       "       &#x27;StewedFruit&#x27;, &#x27;Yoghurt&#x27;],\n",
       "      dtype=&#x27;object&#x27;),\n",
       "   figsize=(16, 8),\n",
       "   row_labels=Index([&#x27;Healthy&#x27;, &#x27;Nutritious&#x27;, &#x27;GoodSummer&#x27;, &#x27;GoodWinter&#x27;, &#x27;Expensive&#x27;,\n",
       "       &#x27;QuickEasy&#x27;, &#x27;Tasty&#x27;, &#x27;Economical&#x27;, &#x27;ForATreat&#x27;, &#x27;ForWeekdays&#x27;,\n",
       "       &#x27;ForWeekends&#x27;, &#x27;Tasteless&#x27;, &#x27;TooLongToPrepare&#x27;, &#x27;FamilyFavourite&#x27;],\n",
       "      dtype=&#x27;object&#x27;, name=&#x27;Statement&#x27;))</pre></div></div></div></div></div>"
      ],
      "text/plain": [
       "CA(col_labels=Index(['Cereals', 'Muesli', 'Porridge', 'BaconEggs', 'ToastTea', 'FreshFruit',\n",
       "       'StewedFruit', 'Yoghurt'],\n",
       "      dtype='object'),\n",
       "   figsize=(16, 8),\n",
       "   row_labels=Index(['Healthy', 'Nutritious', 'GoodSummer', 'GoodWinter', 'Expensive',\n",
       "       'QuickEasy', 'Tasty', 'Economical', 'ForATreat', 'ForWeekdays',\n",
       "       'ForWeekends', 'Tasteless', 'TooLongToPrepare', 'FamilyFavourite'],\n",
       "      dtype='object', name='Statement'))"
      ]
     },
     "execution_count": 39,
     "metadata": {},
     "output_type": "execute_result"
    },
    {
     "data": {
      "image/png": "[encoded data removed]",
      "text/plain": [
       "<Figure size 1152x576 with 2 Axes>"
      ]
     },
     "metadata": {
      "needs_background": "light"
     },
     "output_type": "display_data"
    }
   ],
   "source": [
    "# Instanciation du modèle\n",
    "my_ca2 = CA(n_components=None,\n",
    "           row_labels=D.index,\n",
    "           col_labels=D.columns,\n",
    "           row_sup_labels=None,\n",
    "           col_sup_labels=None,\n",
    "           graph=True,\n",
    "           figsize=(16,8))\n",
    "my_ca2.fit(D)"
   ]
  },
  {
   "cell_type": "code",
   "execution_count": 40,
   "metadata": {},
   "outputs": [
    {
     "name": "stdout",
     "output_type": "stream",
     "text": [
      "                     Correspondence Analysis - Results                     \n",
      "\n",
      "Importance of components\n",
      "                          Dim.1   Dim.2   Dim.3   Dim.4   Dim.5   Dim.6   \n",
      "Variance                  0.193   0.078   0.044   0.033   0.012   0.006  \\\n",
      "Difference                0.115   0.034   0.011   0.021   0.007   0.003   \n",
      "% of var.                52.501  21.135  11.924   8.919   3.333   1.546   \n",
      "Cumulative of % of var.  52.501  73.636  85.559  94.479  97.811  99.357   \n",
      "\n",
      "                           Dim.7  \n",
      "Variance                   0.002  \n",
      "Difference                   NaN  \n",
      "% of var.                  0.643  \n",
      "Cumulative of % of var.  100.000  \n",
      "\n",
      "Rows\n",
      "\n",
      "             d(i,G)   p(i)  I(i,G)  Dim.1     ctr   cos2  Dim.2     ctr   \n",
      "Statement                                                                 \n",
      "Healthy       0.163  0.111   0.018  0.087   0.433  0.046  0.346  17.143  \\\n",
      "Nutritious    0.107  0.107   0.011 -0.009   0.004  0.001  0.269   9.934   \n",
      "GoodSummer    0.220  0.104   0.023  0.349   6.551  0.552  0.133   2.357   \n",
      "GoodWinter    0.339  0.069   0.024 -0.277   2.763  0.227 -0.127   1.441   \n",
      "Expensive     0.405  0.063   0.026 -0.201   1.315  0.100  0.361  10.588   \n",
      "QuickEasy     0.466  0.094   0.044  0.644  20.236  0.889 -0.085   0.872   \n",
      "Tasty         0.039  0.109   0.004 -0.040   0.088  0.041  0.113   1.774   \n",
      "Economical    0.804  0.047   0.038  0.417   4.245  0.216 -0.657  26.177   \n",
      "ForATreat     0.542  0.047   0.026 -0.619   9.372  0.707  0.065   0.256   \n",
      "ForWeekdays   0.420  0.077   0.032  0.507  10.201  0.611 -0.338  11.273   \n",
      "\n",
      "              cos2  Dim.3     ctr   cos2  \n",
      "Statement                                 \n",
      "Healthy      0.734 -0.173   7.563  0.183  \n",
      "Nutritious   0.676 -0.177   7.646  0.294  \n",
      "GoodSummer   0.080  0.085   1.713  0.033  \n",
      "GoodWinter   0.048 -0.457  33.080  0.617  \n",
      "Expensive    0.322  0.219   6.910  0.119  \n",
      "QuickEasy    0.015  0.205   9.076  0.091  \n",
      "Tasty        0.328  0.002   0.001  0.000  \n",
      "Economical   0.537 -0.382  15.727  0.182  \n",
      "ForATreat    0.008  0.217   5.044  0.086  \n",
      "ForWeekdays  0.272  0.121   2.575  0.035  \n",
      "\n",
      "Columns\n",
      "\n",
      "             d(k,G)   p(k)  I(k,G)  Dim.1     ctr   cos2  Dim.2     ctr   \n",
      "Cereals       0.490  0.156   0.076  0.563  25.530  0.647 -0.358  25.656  \\\n",
      "Muesli        0.339  0.131   0.044  0.313   6.635  0.289  0.319  17.075   \n",
      "Porridge      0.355  0.107   0.038 -0.054   0.160  0.008 -0.213   6.273   \n",
      "BaconEggs     0.670  0.177   0.119 -0.783  56.349  0.917 -0.148   5.005   \n",
      "ToastTea      0.377  0.064   0.024  0.175   1.013  0.081 -0.447  16.360   \n",
      "FreshFruit    0.197  0.124   0.024  0.246   3.888  0.308  0.245   9.559   \n",
      "StewedFruit   0.191  0.115   0.022 -0.315   5.942  0.520  0.243   8.749   \n",
      "Yoghurt       0.159  0.126   0.020  0.086   0.483  0.047  0.264  11.323   \n",
      "\n",
      "              cos2  Dim.3     ctr   cos2  \n",
      "Cereals      0.262  0.186  12.274  0.071  \n",
      "Muesli       0.299  0.114   3.906  0.039  \n",
      "Porridge     0.128 -0.531  69.112  0.796  \n",
      "BaconEggs    0.033  0.171  11.835  0.044  \n",
      "ToastTea     0.529 -0.047   0.326  0.006  \n",
      "FreshFruit   0.305 -0.072   1.449  0.026  \n",
      "StewedFruit  0.308 -0.063   1.032  0.021  \n",
      "Yoghurt      0.439  0.015   0.067  0.001  \n"
     ]
    }
   ],
   "source": [
    "summaryCA(my_ca2)"
   ]
  }
 ],
 "metadata": {
  "kernelspec": {
   "display_name": "Python 3",
   "language": "python",
   "name": "python3"
  },
  "language_info": {
   "codemirror_mode": {
    "name": "ipython",
    "version": 3
   },
   "file_extension": ".py",
   "mimetype": "text/x-python",
   "name": "python",
   "nbconvert_exporter": "python",
   "pygments_lexer": "ipython3",
   "version": "3.10.5"
  },
  "orig_nbformat": 4
 },
 "nbformat": 4,
 "nbformat_minor": 2
}
