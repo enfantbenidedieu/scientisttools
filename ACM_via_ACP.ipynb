{
 "cells": [
  {
   "cell_type": "code",
   "execution_count": 1,
   "metadata": {},
   "outputs": [
    {
     "name": "stdout",
     "output_type": "stream",
     "text": [
      "odict_keys(['poison'])\n"
     ]
    }
   ],
   "source": [
    "import pyreadr\n",
    "import pandas as pd\n",
    "result = pyreadr.read_r('./data/poison.rda') # also works for Rds, rda\n",
    "\n",
    "# done! let's see what we got\n",
    "# result is a dictionary where keys are the name of objects and the values python\n",
    "# objects\n",
    "print(result.keys()) #"
   ]
  },
  {
   "cell_type": "code",
   "execution_count": 2,
   "metadata": {},
   "outputs": [],
   "source": [
    "# Chargement des données\n",
    "poison = result[\"poison\"]\n",
    "\n",
    "poison2 = pd.DataFrame(data=poison.values,\n",
    "                     columns = pd.MultiIndex.from_tuples(\n",
    "    [\n",
    "        (\"desc\",\"Age\"),\n",
    "        (\"desc\",\"Time\"),\n",
    "        (\"desc2\",\"Sick\"),\n",
    "        (\"desc2\",\"Sex\"),\n",
    "        (\"symptom\",\"Nausea\"),\n",
    "        (\"symptom\",\"Vomiting\"),\n",
    "        (\"symptom\",\"Abdominals\"),\n",
    "        (\"symptom\",\"Fever\"),\n",
    "        (\"symptom\",\"Diarrhae\"),\n",
    "        (\"eat\",\"Potato\"),\n",
    "        (\"eat\",\"Fish\"),\n",
    "        (\"eat\",\"Mayo\"),\n",
    "        (\"eat\",\"Courgette\"),\n",
    "        (\"eat\",\"Cheese\"),\n",
    "        (\"eat\",\"Icecream\") \n",
    "    ]\n",
    "))\n",
    "poison2.index= poison.index"
   ]
  },
  {
   "cell_type": "code",
   "execution_count": 3,
   "metadata": {},
   "outputs": [],
   "source": [
    "import numpy as np"
   ]
  },
  {
   "cell_type": "code",
   "execution_count": 4,
   "metadata": {},
   "outputs": [],
   "source": [
    "Data = poison2[\"symptom\"]\n",
    "dummies = pd.concat((pd.get_dummies(Data.loc[:,col],prefix=col,prefix_sep='_') for col in Data.columns),axis=1)\n",
    "I = dummies.shape[0]\n",
    "J = Data.shape[1]\n",
    "I_k = dummies.sum(axis=0)\n",
    "X = pd.concat((dummies.loc[:,k]*(I/I_k[k])-1 for k  in dummies.columns),axis=1)"
   ]
  },
  {
   "cell_type": "code",
   "execution_count": 5,
   "metadata": {},
   "outputs": [
    {
     "data": {
      "text/plain": [
       "array([0.636 +0.j, 0.1657+0.j, 0.1384+0.j, 0.0289+0.j, 0.0309+0.j])"
      ]
     },
     "execution_count": 5,
     "metadata": {},
     "output_type": "execute_result"
    }
   ],
   "source": [
    "D = np.diag(np.repeat(1/I,I))\n",
    "m_k = (1/(I*J))*I_k\n",
    "M = np.diag(m_k)\n",
    "A = np.dot(np.dot(np.dot(X.T,D),X),M)\n",
    "eig, vect = np.linalg.eig(A)\n",
    "eig.round(4)[:J]"
   ]
  },
  {
   "cell_type": "markdown",
   "metadata": {},
   "source": []
  }
 ],
 "metadata": {
  "kernelspec": {
   "display_name": "Python 3",
   "language": "python",
   "name": "python3"
  },
  "language_info": {
   "codemirror_mode": {
    "name": "ipython",
    "version": 3
   },
   "file_extension": ".py",
   "mimetype": "text/x-python",
   "name": "python",
   "nbconvert_exporter": "python",
   "pygments_lexer": "ipython3",
   "version": "3.10.5"
  }
 },
 "nbformat": 4,
 "nbformat_minor": 2
}
