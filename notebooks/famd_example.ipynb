{
 "cells": [
  {
   "attachments": {},
   "cell_type": "markdown",
   "metadata": {},
   "source": [
    "# Factor Analysis of Mixed Data (FAMD)"
   ]
  },
  {
   "cell_type": "code",
   "execution_count": 1,
   "metadata": {},
   "outputs": [],
   "source": [
    "# Chargement des librairies\n",
    "import pandas as pd\n",
    "import numpy as np\n",
    "import matplotlib.pyplot as plt\n",
    "from scientisttools.decomposition import FAMD\n",
    "from scientisttools.extractfactor import get_eig,get_famd_ind,get_famd_col,get_famd_var,get_famd_mod\n",
    "from scientisttools.pyplot import plotFAMD,plot_eigenvalues,plot_cosines,plot_contrib,plot_correlation_circle\n",
    "from plydata import *"
   ]
  },
  {
   "cell_type": "code",
   "execution_count": 2,
   "metadata": {},
   "outputs": [
    {
     "data": {
      "text/html": [
       "<div>\n",
       "<style scoped>\n",
       "    .dataframe tbody tr th:only-of-type {\n",
       "        vertical-align: middle;\n",
       "    }\n",
       "\n",
       "    .dataframe tbody tr th {\n",
       "        vertical-align: top;\n",
       "    }\n",
       "\n",
       "    .dataframe thead th {\n",
       "        text-align: right;\n",
       "    }\n",
       "</style>\n",
       "<table border=\"1\" class=\"dataframe\">\n",
       "  <thead>\n",
       "    <tr style=\"text-align: right;\">\n",
       "      <th></th>\n",
       "      <th>puissance</th>\n",
       "      <th>longueur</th>\n",
       "      <th>hauteur</th>\n",
       "      <th>poids</th>\n",
       "      <th>CO2</th>\n",
       "      <th>origine</th>\n",
       "      <th>carburant</th>\n",
       "      <th>4X4</th>\n",
       "    </tr>\n",
       "    <tr>\n",
       "      <th>Modele</th>\n",
       "      <th></th>\n",
       "      <th></th>\n",
       "      <th></th>\n",
       "      <th></th>\n",
       "      <th></th>\n",
       "      <th></th>\n",
       "      <th></th>\n",
       "      <th></th>\n",
       "    </tr>\n",
       "  </thead>\n",
       "  <tbody>\n",
       "    <tr>\n",
       "      <th>GOLF</th>\n",
       "      <td>75</td>\n",
       "      <td>421</td>\n",
       "      <td>149</td>\n",
       "      <td>1217</td>\n",
       "      <td>143</td>\n",
       "      <td>Europe</td>\n",
       "      <td>Diesel</td>\n",
       "      <td>non</td>\n",
       "    </tr>\n",
       "    <tr>\n",
       "      <th>CITRONC4</th>\n",
       "      <td>138</td>\n",
       "      <td>426</td>\n",
       "      <td>146</td>\n",
       "      <td>1381</td>\n",
       "      <td>142</td>\n",
       "      <td>France</td>\n",
       "      <td>Diesel</td>\n",
       "      <td>non</td>\n",
       "    </tr>\n",
       "    <tr>\n",
       "      <th>P607</th>\n",
       "      <td>204</td>\n",
       "      <td>491</td>\n",
       "      <td>145</td>\n",
       "      <td>1723</td>\n",
       "      <td>223</td>\n",
       "      <td>France</td>\n",
       "      <td>Diesel</td>\n",
       "      <td>non</td>\n",
       "    </tr>\n",
       "    <tr>\n",
       "      <th>VELSATIS</th>\n",
       "      <td>150</td>\n",
       "      <td>486</td>\n",
       "      <td>158</td>\n",
       "      <td>1735</td>\n",
       "      <td>188</td>\n",
       "      <td>France</td>\n",
       "      <td>Diesel</td>\n",
       "      <td>non</td>\n",
       "    </tr>\n",
       "    <tr>\n",
       "      <th>CITRONC2</th>\n",
       "      <td>61</td>\n",
       "      <td>367</td>\n",
       "      <td>147</td>\n",
       "      <td>932</td>\n",
       "      <td>141</td>\n",
       "      <td>France</td>\n",
       "      <td>Essence</td>\n",
       "      <td>non</td>\n",
       "    </tr>\n",
       "    <tr>\n",
       "      <th>CHRYS300</th>\n",
       "      <td>340</td>\n",
       "      <td>502</td>\n",
       "      <td>148</td>\n",
       "      <td>1835</td>\n",
       "      <td>291</td>\n",
       "      <td>Autres</td>\n",
       "      <td>Essence</td>\n",
       "      <td>non</td>\n",
       "    </tr>\n",
       "    <tr>\n",
       "      <th>AUDIA3</th>\n",
       "      <td>102</td>\n",
       "      <td>421</td>\n",
       "      <td>143</td>\n",
       "      <td>1205</td>\n",
       "      <td>168</td>\n",
       "      <td>Europe</td>\n",
       "      <td>Essence</td>\n",
       "      <td>non</td>\n",
       "    </tr>\n",
       "    <tr>\n",
       "      <th>OUTLAND</th>\n",
       "      <td>202</td>\n",
       "      <td>455</td>\n",
       "      <td>167</td>\n",
       "      <td>1595</td>\n",
       "      <td>237</td>\n",
       "      <td>Autres</td>\n",
       "      <td>Diesel</td>\n",
       "      <td>oui</td>\n",
       "    </tr>\n",
       "    <tr>\n",
       "      <th>PTCRUISER</th>\n",
       "      <td>223</td>\n",
       "      <td>429</td>\n",
       "      <td>154</td>\n",
       "      <td>1595</td>\n",
       "      <td>235</td>\n",
       "      <td>Autres</td>\n",
       "      <td>Essence</td>\n",
       "      <td>non</td>\n",
       "    </tr>\n",
       "    <tr>\n",
       "      <th>SANTA_FE</th>\n",
       "      <td>125</td>\n",
       "      <td>450</td>\n",
       "      <td>173</td>\n",
       "      <td>1757</td>\n",
       "      <td>197</td>\n",
       "      <td>Autres</td>\n",
       "      <td>Diesel</td>\n",
       "      <td>oui</td>\n",
       "    </tr>\n",
       "  </tbody>\n",
       "</table>\n",
       "</div>"
      ],
      "text/plain": [
       "              puissance  longueur  hauteur  poids  CO2 origine carburant  4X4\n",
       "Modele                                                                       \n",
       "GOLF                 75       421      149   1217  143  Europe    Diesel  non\n",
       "CITRONC4            138       426      146   1381  142  France    Diesel  non\n",
       "P607                204       491      145   1723  223  France    Diesel  non\n",
       "VELSATIS            150       486      158   1735  188  France    Diesel  non\n",
       "CITRONC2             61       367      147    932  141  France   Essence  non\n",
       "CHRYS300            340       502      148   1835  291  Autres   Essence  non\n",
       "AUDIA3              102       421      143   1205  168  Europe   Essence  non\n",
       "OUTLAND             202       455      167   1595  237  Autres    Diesel  oui\n",
       "PTCRUISER           223       429      154   1595  235  Autres   Essence  non\n",
       "SANTA_FE            125       450      173   1757  197  Autres    Diesel  oui"
      ]
     },
     "metadata": {},
     "output_type": "display_data"
    }
   ],
   "source": [
    "# Chargement des données\n",
    "D = pd.read_excel(\"Data_Methodes_Factorielles.xlsx\",sheet_name=\"AFDM_AUTOS\",index_col=0)\n",
    "display(D)"
   ]
  },
  {
   "cell_type": "code",
   "execution_count": 3,
   "metadata": {},
   "outputs": [
    {
     "name": "stdout",
     "output_type": "stream",
     "text": [
      "<class 'pandas.core.frame.DataFrame'>\n",
      "Index: 10 entries, GOLF         to SANTA_FE    \n",
      "Data columns (total 8 columns):\n",
      " #   Column     Non-Null Count  Dtype \n",
      "---  ------     --------------  ----- \n",
      " 0   puissance  10 non-null     int64 \n",
      " 1   longueur   10 non-null     int64 \n",
      " 2   hauteur    10 non-null     int64 \n",
      " 3   poids      10 non-null     int64 \n",
      " 4   CO2        10 non-null     int64 \n",
      " 5   origine    10 non-null     object\n",
      " 6   carburant  10 non-null     object\n",
      " 7   4X4        10 non-null     object\n",
      "dtypes: int64(5), object(3)\n",
      "memory usage: 720.0+ bytes\n"
     ]
    }
   ],
   "source": [
    "D.info()"
   ]
  },
  {
   "cell_type": "code",
   "execution_count": 4,
   "metadata": {},
   "outputs": [
    {
     "data": {
      "text/html": [
       "<style>#sk-container-id-1 {color: black;background-color: white;}#sk-container-id-1 pre{padding: 0;}#sk-container-id-1 div.sk-toggleable {background-color: white;}#sk-container-id-1 label.sk-toggleable__label {cursor: pointer;display: block;width: 100%;margin-bottom: 0;padding: 0.3em;box-sizing: border-box;text-align: center;}#sk-container-id-1 label.sk-toggleable__label-arrow:before {content: \"▸\";float: left;margin-right: 0.25em;color: #696969;}#sk-container-id-1 label.sk-toggleable__label-arrow:hover:before {color: black;}#sk-container-id-1 div.sk-estimator:hover label.sk-toggleable__label-arrow:before {color: black;}#sk-container-id-1 div.sk-toggleable__content {max-height: 0;max-width: 0;overflow: hidden;text-align: left;background-color: #f0f8ff;}#sk-container-id-1 div.sk-toggleable__content pre {margin: 0.2em;color: black;border-radius: 0.25em;background-color: #f0f8ff;}#sk-container-id-1 input.sk-toggleable__control:checked~div.sk-toggleable__content {max-height: 200px;max-width: 100%;overflow: auto;}#sk-container-id-1 input.sk-toggleable__control:checked~label.sk-toggleable__label-arrow:before {content: \"▾\";}#sk-container-id-1 div.sk-estimator input.sk-toggleable__control:checked~label.sk-toggleable__label {background-color: #d4ebff;}#sk-container-id-1 div.sk-label input.sk-toggleable__control:checked~label.sk-toggleable__label {background-color: #d4ebff;}#sk-container-id-1 input.sk-hidden--visually {border: 0;clip: rect(1px 1px 1px 1px);clip: rect(1px, 1px, 1px, 1px);height: 1px;margin: -1px;overflow: hidden;padding: 0;position: absolute;width: 1px;}#sk-container-id-1 div.sk-estimator {font-family: monospace;background-color: #f0f8ff;border: 1px dotted black;border-radius: 0.25em;box-sizing: border-box;margin-bottom: 0.5em;}#sk-container-id-1 div.sk-estimator:hover {background-color: #d4ebff;}#sk-container-id-1 div.sk-parallel-item::after {content: \"\";width: 100%;border-bottom: 1px solid gray;flex-grow: 1;}#sk-container-id-1 div.sk-label:hover label.sk-toggleable__label {background-color: #d4ebff;}#sk-container-id-1 div.sk-serial::before {content: \"\";position: absolute;border-left: 1px solid gray;box-sizing: border-box;top: 0;bottom: 0;left: 50%;z-index: 0;}#sk-container-id-1 div.sk-serial {display: flex;flex-direction: column;align-items: center;background-color: white;padding-right: 0.2em;padding-left: 0.2em;position: relative;}#sk-container-id-1 div.sk-item {position: relative;z-index: 1;}#sk-container-id-1 div.sk-parallel {display: flex;align-items: stretch;justify-content: center;background-color: white;position: relative;}#sk-container-id-1 div.sk-item::before, #sk-container-id-1 div.sk-parallel-item::before {content: \"\";position: absolute;border-left: 1px solid gray;box-sizing: border-box;top: 0;bottom: 0;left: 50%;z-index: -1;}#sk-container-id-1 div.sk-parallel-item {display: flex;flex-direction: column;z-index: 1;position: relative;background-color: white;}#sk-container-id-1 div.sk-parallel-item:first-child::after {align-self: flex-end;width: 50%;}#sk-container-id-1 div.sk-parallel-item:last-child::after {align-self: flex-start;width: 50%;}#sk-container-id-1 div.sk-parallel-item:only-child::after {width: 0;}#sk-container-id-1 div.sk-dashed-wrapped {border: 1px dashed gray;margin: 0 0.4em 0.5em 0.4em;box-sizing: border-box;padding-bottom: 0.4em;background-color: white;}#sk-container-id-1 div.sk-label label {font-family: monospace;font-weight: bold;display: inline-block;line-height: 1.2em;}#sk-container-id-1 div.sk-label-container {text-align: center;}#sk-container-id-1 div.sk-container {/* jupyter's `normalize.less` sets `[hidden] { display: none; }` but bootstrap.min.css set `[hidden] { display: none !important; }` so we also need the `!important` here to be able to override the default hidden behavior on the sphinx rendered scikit-learn.org. See: https://github.com/scikit-learn/scikit-learn/issues/21755 */display: inline-block !important;position: relative;}#sk-container-id-1 div.sk-text-repr-fallback {display: none;}</style><div id=\"sk-container-id-1\" class=\"sk-top-container\"><div class=\"sk-text-repr-fallback\"><pre>FAMD(quali_labels=[&#x27;origine&#x27;, &#x27;carburant&#x27;, &#x27;4X4&#x27;],\n",
       "     quanti_labels=[&#x27;puissance&#x27;, &#x27;longueur&#x27;, &#x27;hauteur&#x27;, &#x27;poids&#x27;, &#x27;CO2&#x27;],\n",
       "     row_labels=Index([&#x27;GOLF        &#x27;, &#x27;CITRONC4    &#x27;, &#x27;P607        &#x27;, &#x27;VELSATIS    &#x27;,\n",
       "       &#x27;CITRONC2    &#x27;, &#x27;CHRYS300    &#x27;, &#x27;AUDIA3      &#x27;, &#x27;OUTLAND     &#x27;,\n",
       "       &#x27;PTCRUISER   &#x27;, &#x27;SANTA_FE    &#x27;],\n",
       "      dtype=&#x27;object&#x27;, name=&#x27;Modele&#x27;))</pre><b>In a Jupyter environment, please rerun this cell to show the HTML representation or trust the notebook. <br />On GitHub, the HTML representation is unable to render, please try loading this page with nbviewer.org.</b></div><div class=\"sk-container\" hidden><div class=\"sk-item\"><div class=\"sk-estimator sk-toggleable\"><input class=\"sk-toggleable__control sk-hidden--visually\" id=\"sk-estimator-id-1\" type=\"checkbox\" checked><label for=\"sk-estimator-id-1\" class=\"sk-toggleable__label sk-toggleable__label-arrow\">FAMD</label><div class=\"sk-toggleable__content\"><pre>FAMD(quali_labels=[&#x27;origine&#x27;, &#x27;carburant&#x27;, &#x27;4X4&#x27;],\n",
       "     quanti_labels=[&#x27;puissance&#x27;, &#x27;longueur&#x27;, &#x27;hauteur&#x27;, &#x27;poids&#x27;, &#x27;CO2&#x27;],\n",
       "     row_labels=Index([&#x27;GOLF        &#x27;, &#x27;CITRONC4    &#x27;, &#x27;P607        &#x27;, &#x27;VELSATIS    &#x27;,\n",
       "       &#x27;CITRONC2    &#x27;, &#x27;CHRYS300    &#x27;, &#x27;AUDIA3      &#x27;, &#x27;OUTLAND     &#x27;,\n",
       "       &#x27;PTCRUISER   &#x27;, &#x27;SANTA_FE    &#x27;],\n",
       "      dtype=&#x27;object&#x27;, name=&#x27;Modele&#x27;))</pre></div></div></div></div></div>"
      ],
      "text/plain": [
       "FAMD(quali_labels=['origine', 'carburant', '4X4'],\n",
       "     quanti_labels=['puissance', 'longueur', 'hauteur', 'poids', 'CO2'],\n",
       "     row_labels=Index(['GOLF        ', 'CITRONC4    ', 'P607        ', 'VELSATIS    ',\n",
       "       'CITRONC2    ', 'CHRYS300    ', 'AUDIA3      ', 'OUTLAND     ',\n",
       "       'PTCRUISER   ', 'SANTA_FE    '],\n",
       "      dtype='object', name='Modele'))"
      ]
     },
     "execution_count": 4,
     "metadata": {},
     "output_type": "execute_result"
    }
   ],
   "source": [
    "my_famd = FAMD(normalize=True,\n",
    "               n_components=None,\n",
    "               row_labels= D.index,\n",
    "               quanti_labels= list(D.columns[:5]),\n",
    "               quali_labels=list(D.columns[5:]),\n",
    "               row_sup_labels=None,\n",
    "               quanti_sup_labels=None,\n",
    "               quali_sup_labels=None)\n",
    "my_famd.fit(D)"
   ]
  },
  {
   "attachments": {},
   "cell_type": "markdown",
   "metadata": {},
   "source": [
    "## Valeurs propres"
   ]
  },
  {
   "cell_type": "code",
   "execution_count": 5,
   "metadata": {},
   "outputs": [
    {
     "name": "stdout",
     "output_type": "stream",
     "text": [
      "       eigenvalue  difference  proportion  cumulative\n",
      "Dim.1    4.273136    2.151248   47.479285   47.479285\n",
      "Dim.2    2.121887    0.683169   23.576526   71.055811\n",
      "Dim.3    1.438718    0.602351   15.985754   87.041565\n",
      "Dim.4    0.836367    0.672337    9.292968   96.334533\n",
      "Dim.5    0.164030    0.049560    1.822556   98.157089\n",
      "Dim.6    0.114470    0.080845    1.271892   99.428982\n",
      "Dim.7    0.033625    0.017820    0.373613   99.802594\n",
      "Dim.8    0.015805    0.013844    0.175614   99.978208\n",
      "Dim.9    0.001961    0.001961    0.021792  100.000000\n"
     ]
    }
   ],
   "source": [
    "eig = get_eig(my_famd)\n",
    "print(eig)"
   ]
  },
  {
   "attachments": {},
   "cell_type": "markdown",
   "metadata": {},
   "source": [
    "## Informations sur les individus"
   ]
  },
  {
   "cell_type": "code",
   "execution_count": 6,
   "metadata": {},
   "outputs": [
    {
     "name": "stdout",
     "output_type": "stream",
     "text": [
      "dict_keys(['coord', 'cos2', 'contrib', 'infos'])\n"
     ]
    }
   ],
   "source": [
    "row = get_famd_ind(my_famd)\n",
    "print(row.keys())"
   ]
  },
  {
   "attachments": {},
   "cell_type": "markdown",
   "metadata": {},
   "source": [
    "#### Coordonnées des individus"
   ]
  },
  {
   "cell_type": "code",
   "execution_count": 7,
   "metadata": {},
   "outputs": [
    {
     "name": "stdout",
     "output_type": "stream",
     "text": [
      "                 Dim.1     Dim.2\n",
      "Modele                          \n",
      "GOLF          2.317805 -0.687271\n",
      "CITRONC4      1.445368 -0.122286\n",
      "P607         -0.779731  1.018563\n",
      "VELSATIS     -0.541063 -0.160059\n",
      "CITRONC2      3.275864  0.025117\n"
     ]
    }
   ],
   "source": [
    "row_coord = row[\"coord\"]\n",
    "print(row_coord >> select(\"Dim.1\",\"Dim.2\") >> head())"
   ]
  },
  {
   "cell_type": "code",
   "execution_count": 8,
   "metadata": {},
   "outputs": [
    {
     "data": {
      "image/png": "[encoded data removed]",
      "text/plain": [
       "<Figure size 720x720 with 1 Axes>"
      ]
     },
     "metadata": {
      "needs_background": "light"
     },
     "output_type": "display_data"
    }
   ],
   "source": [
    "fig, axe =plt.subplots(figsize=(10,10))\n",
    "plotFAMD(my_famd,ax=axe,xlim=(-6,5),ylim=(-5,3),repel=True)"
   ]
  },
  {
   "cell_type": "code",
   "execution_count": 9,
   "metadata": {},
   "outputs": [
    {
     "name": "stdout",
     "output_type": "stream",
     "text": [
      "                 Dim.1     Dim.2\n",
      "Modele                          \n",
      "GOLF          0.601466  0.052883\n",
      "CITRONC4      0.438205  0.003137\n",
      "P607          0.105450  0.179942\n",
      "VELSATIS      0.063969  0.005598\n",
      "CITRONC2      0.732475  0.000043\n"
     ]
    }
   ],
   "source": [
    "cos2 = row[\"cos2\"]\n",
    "print(cos2>>select(\"Dim.1\",\"Dim.2\")>>head())"
   ]
  },
  {
   "cell_type": "code",
   "execution_count": 10,
   "metadata": {},
   "outputs": [
    {
     "data": {
      "image/png": "[encoded data removed]",
      "text/plain": [
       "<Figure size 720x720 with 2 Axes>"
      ]
     },
     "metadata": {
      "needs_background": "light"
     },
     "output_type": "display_data"
    }
   ],
   "source": [
    "fig, axe =plt.subplots(figsize=(10,10))\n",
    "plotFAMD(my_famd,color=\"cos2\",ax=axe,xlim=(-6,5),ylim=(-5,3),repel=True)"
   ]
  },
  {
   "cell_type": "code",
   "execution_count": 11,
   "metadata": {},
   "outputs": [
    {
     "name": "stdout",
     "output_type": "stream",
     "text": [
      "                  Dim.1     Dim.2\n",
      "Modele                           \n",
      "GOLF          12.572078  2.226044\n",
      "CITRONC4       4.888892  0.070475\n",
      "P607           1.422797  4.889378\n",
      "VELSATIS       0.685092  0.120737\n",
      "CITRONC2      25.113374  0.002973\n"
     ]
    }
   ],
   "source": [
    "contrib = row[\"contrib\"]\n",
    "print(contrib>>select(\"Dim.1\",\"Dim.2\")>>head())"
   ]
  },
  {
   "cell_type": "code",
   "execution_count": 12,
   "metadata": {},
   "outputs": [
    {
     "data": {
      "image/png": "[encoded data removed]",
      "text/plain": [
       "<Figure size 720x720 with 2 Axes>"
      ]
     },
     "metadata": {
      "needs_background": "light"
     },
     "output_type": "display_data"
    }
   ],
   "source": [
    "fig, axe =plt.subplots(figsize=(10,10))\n",
    "plotFAMD(my_famd,color=\"contrib\",ax=axe,xlim=(-6,5),ylim=(-5,3),repel=True)"
   ]
  },
  {
   "cell_type": "code",
   "execution_count": 13,
   "metadata": {},
   "outputs": [
    {
     "data": {
      "text/html": [
       "<div>\n",
       "<style scoped>\n",
       "    .dataframe tbody tr th:only-of-type {\n",
       "        vertical-align: middle;\n",
       "    }\n",
       "\n",
       "    .dataframe tbody tr th {\n",
       "        vertical-align: top;\n",
       "    }\n",
       "\n",
       "    .dataframe thead th {\n",
       "        text-align: right;\n",
       "    }\n",
       "</style>\n",
       "<table border=\"1\" class=\"dataframe\">\n",
       "  <thead>\n",
       "    <tr style=\"text-align: right;\">\n",
       "      <th></th>\n",
       "      <th>0</th>\n",
       "      <th>1</th>\n",
       "      <th>2</th>\n",
       "    </tr>\n",
       "    <tr>\n",
       "      <th>Modele</th>\n",
       "      <th></th>\n",
       "      <th></th>\n",
       "      <th></th>\n",
       "    </tr>\n",
       "  </thead>\n",
       "  <tbody>\n",
       "    <tr>\n",
       "      <th>GOLF</th>\n",
       "      <td>2.988625</td>\n",
       "      <td>0.1</td>\n",
       "      <td>0.893188</td>\n",
       "    </tr>\n",
       "    <tr>\n",
       "      <th>CITRONC4</th>\n",
       "      <td>2.183433</td>\n",
       "      <td>0.1</td>\n",
       "      <td>0.476738</td>\n",
       "    </tr>\n",
       "    <tr>\n",
       "      <th>P607</th>\n",
       "      <td>2.401165</td>\n",
       "      <td>0.1</td>\n",
       "      <td>0.576559</td>\n",
       "    </tr>\n",
       "    <tr>\n",
       "      <th>VELSATIS</th>\n",
       "      <td>2.139256</td>\n",
       "      <td>0.1</td>\n",
       "      <td>0.457641</td>\n",
       "    </tr>\n",
       "    <tr>\n",
       "      <th>CITRONC2</th>\n",
       "      <td>3.827625</td>\n",
       "      <td>0.1</td>\n",
       "      <td>1.465072</td>\n",
       "    </tr>\n",
       "    <tr>\n",
       "      <th>CHRYS300</th>\n",
       "      <td>4.020953</td>\n",
       "      <td>0.1</td>\n",
       "      <td>1.616807</td>\n",
       "    </tr>\n",
       "    <tr>\n",
       "      <th>AUDIA3</th>\n",
       "      <td>3.037246</td>\n",
       "      <td>0.1</td>\n",
       "      <td>0.922486</td>\n",
       "    </tr>\n",
       "    <tr>\n",
       "      <th>OUTLAND</th>\n",
       "      <td>3.080184</td>\n",
       "      <td>0.1</td>\n",
       "      <td>0.948754</td>\n",
       "    </tr>\n",
       "    <tr>\n",
       "      <th>PTCRUISER</th>\n",
       "      <td>2.190984</td>\n",
       "      <td>0.1</td>\n",
       "      <td>0.480041</td>\n",
       "    </tr>\n",
       "    <tr>\n",
       "      <th>SANTA_FE</th>\n",
       "      <td>3.409860</td>\n",
       "      <td>0.1</td>\n",
       "      <td>1.162714</td>\n",
       "    </tr>\n",
       "  </tbody>\n",
       "</table>\n",
       "</div>"
      ],
      "text/plain": [
       "                     0    1         2\n",
       "Modele                               \n",
       "GOLF          2.988625  0.1  0.893188\n",
       "CITRONC4      2.183433  0.1  0.476738\n",
       "P607          2.401165  0.1  0.576559\n",
       "VELSATIS      2.139256  0.1  0.457641\n",
       "CITRONC2      3.827625  0.1  1.465072\n",
       "CHRYS300      4.020953  0.1  1.616807\n",
       "AUDIA3        3.037246  0.1  0.922486\n",
       "OUTLAND       3.080184  0.1  0.948754\n",
       "PTCRUISER     2.190984  0.1  0.480041\n",
       "SANTA_FE      3.409860  0.1  1.162714"
      ]
     },
     "execution_count": 13,
     "metadata": {},
     "output_type": "execute_result"
    }
   ],
   "source": [
    "pd.DataFrame(my_famd.row_infos_,index=D.index)"
   ]
  },
  {
   "cell_type": "code",
   "execution_count": 14,
   "metadata": {},
   "outputs": [
    {
     "data": {
      "text/html": [
       "<div>\n",
       "<style scoped>\n",
       "    .dataframe tbody tr th:only-of-type {\n",
       "        vertical-align: middle;\n",
       "    }\n",
       "\n",
       "    .dataframe tbody tr th {\n",
       "        vertical-align: top;\n",
       "    }\n",
       "\n",
       "    .dataframe thead th {\n",
       "        text-align: right;\n",
       "    }\n",
       "</style>\n",
       "<table border=\"1\" class=\"dataframe\">\n",
       "  <thead>\n",
       "    <tr style=\"text-align: right;\">\n",
       "      <th></th>\n",
       "      <th>Dim.1</th>\n",
       "      <th>Dim.2</th>\n",
       "    </tr>\n",
       "  </thead>\n",
       "  <tbody>\n",
       "    <tr>\n",
       "      <th>puissance</th>\n",
       "      <td>-0.819345</td>\n",
       "      <td>0.539186</td>\n",
       "    </tr>\n",
       "    <tr>\n",
       "      <th>longueur</th>\n",
       "      <td>-0.796182</td>\n",
       "      <td>0.244889</td>\n",
       "    </tr>\n",
       "    <tr>\n",
       "      <th>hauteur</th>\n",
       "      <td>-0.578377</td>\n",
       "      <td>-0.763585</td>\n",
       "    </tr>\n",
       "    <tr>\n",
       "      <th>poids</th>\n",
       "      <td>-0.929516</td>\n",
       "      <td>0.061131</td>\n",
       "    </tr>\n",
       "    <tr>\n",
       "      <th>CO2</th>\n",
       "      <td>-0.890662</td>\n",
       "      <td>0.378984</td>\n",
       "    </tr>\n",
       "  </tbody>\n",
       "</table>\n",
       "</div>"
      ],
      "text/plain": [
       "              Dim.1     Dim.2\n",
       "puissance -0.819345  0.539186\n",
       "longueur  -0.796182  0.244889\n",
       "hauteur   -0.578377 -0.763585\n",
       "poids     -0.929516  0.061131\n",
       "CO2       -0.890662  0.378984"
      ]
     },
     "execution_count": 14,
     "metadata": {},
     "output_type": "execute_result"
    }
   ],
   "source": [
    "pd.DataFrame(my_famd.col_coord_[:,:2],index=D.columns[:5],columns=my_famd.dim_index_[:2])"
   ]
  },
  {
   "cell_type": "code",
   "execution_count": 15,
   "metadata": {},
   "outputs": [
    {
     "data": {
      "text/html": [
       "<div>\n",
       "<style scoped>\n",
       "    .dataframe tbody tr th:only-of-type {\n",
       "        vertical-align: middle;\n",
       "    }\n",
       "\n",
       "    .dataframe tbody tr th {\n",
       "        vertical-align: top;\n",
       "    }\n",
       "\n",
       "    .dataframe thead th {\n",
       "        text-align: right;\n",
       "    }\n",
       "</style>\n",
       "<table border=\"1\" class=\"dataframe\">\n",
       "  <thead>\n",
       "    <tr style=\"text-align: right;\">\n",
       "      <th></th>\n",
       "      <th>Dim.1</th>\n",
       "      <th>Dim.2</th>\n",
       "    </tr>\n",
       "  </thead>\n",
       "  <tbody>\n",
       "    <tr>\n",
       "      <th>origine_Autres</th>\n",
       "      <td>-2.008594</td>\n",
       "      <td>-0.217351</td>\n",
       "    </tr>\n",
       "    <tr>\n",
       "      <th>origine_Europe</th>\n",
       "      <td>2.316969</td>\n",
       "      <td>0.054035</td>\n",
       "    </tr>\n",
       "    <tr>\n",
       "      <th>origine_France</th>\n",
       "      <td>0.850110</td>\n",
       "      <td>0.190334</td>\n",
       "    </tr>\n",
       "    <tr>\n",
       "      <th>carburant_Diesel</th>\n",
       "      <td>-0.283747</td>\n",
       "      <td>-0.756570</td>\n",
       "    </tr>\n",
       "    <tr>\n",
       "      <th>carburant_Essence</th>\n",
       "      <td>0.425621</td>\n",
       "      <td>1.134856</td>\n",
       "    </tr>\n",
       "    <tr>\n",
       "      <th>4X4_non</th>\n",
       "      <td>0.518108</td>\n",
       "      <td>0.573546</td>\n",
       "    </tr>\n",
       "    <tr>\n",
       "      <th>4X4_oui</th>\n",
       "      <td>-2.072431</td>\n",
       "      <td>-2.294185</td>\n",
       "    </tr>\n",
       "  </tbody>\n",
       "</table>\n",
       "</div>"
      ],
      "text/plain": [
       "                      Dim.1     Dim.2\n",
       "origine_Autres    -2.008594 -0.217351\n",
       "origine_Europe     2.316969  0.054035\n",
       "origine_France     0.850110  0.190334\n",
       "carburant_Diesel  -0.283747 -0.756570\n",
       "carburant_Essence  0.425621  1.134856\n",
       "4X4_non            0.518108  0.573546\n",
       "4X4_oui           -2.072431 -2.294185"
      ]
     },
     "execution_count": 15,
     "metadata": {},
     "output_type": "execute_result"
    }
   ],
   "source": [
    "pd.DataFrame(my_famd.mod_coord_[:,:2],index=my_famd.mod_labels_,columns=my_famd.dim_index_[:2])"
   ]
  },
  {
   "cell_type": "code",
   "execution_count": 16,
   "metadata": {},
   "outputs": [
    {
     "data": {
      "text/html": [
       "<div>\n",
       "<style scoped>\n",
       "    .dataframe tbody tr th:only-of-type {\n",
       "        vertical-align: middle;\n",
       "    }\n",
       "\n",
       "    .dataframe tbody tr th {\n",
       "        vertical-align: top;\n",
       "    }\n",
       "\n",
       "    .dataframe thead th {\n",
       "        text-align: right;\n",
       "    }\n",
       "</style>\n",
       "<table border=\"1\" class=\"dataframe\">\n",
       "  <thead>\n",
       "    <tr style=\"text-align: right;\">\n",
       "      <th></th>\n",
       "      <th>0</th>\n",
       "      <th>1</th>\n",
       "      <th>2</th>\n",
       "      <th>3</th>\n",
       "      <th>4</th>\n",
       "      <th>5</th>\n",
       "      <th>6</th>\n",
       "      <th>7</th>\n",
       "      <th>8</th>\n",
       "    </tr>\n",
       "  </thead>\n",
       "  <tbody>\n",
       "    <tr>\n",
       "      <th>0</th>\n",
       "      <td>-0.614538</td>\n",
       "      <td>-0.094369</td>\n",
       "      <td>0.428288</td>\n",
       "      <td>-0.103731</td>\n",
       "      <td>-0.025422</td>\n",
       "      <td>0.133227</td>\n",
       "      <td>-0.021513</td>\n",
       "      <td>-0.002860</td>\n",
       "      <td>0.019495</td>\n",
       "    </tr>\n",
       "    <tr>\n",
       "      <th>1</th>\n",
       "      <td>0.501259</td>\n",
       "      <td>0.016589</td>\n",
       "      <td>0.246903</td>\n",
       "      <td>0.696348</td>\n",
       "      <td>0.021173</td>\n",
       "      <td>-0.042601</td>\n",
       "      <td>0.012072</td>\n",
       "      <td>0.002593</td>\n",
       "      <td>-0.013692</td>\n",
       "    </tr>\n",
       "    <tr>\n",
       "      <th>2</th>\n",
       "      <td>0.260095</td>\n",
       "      <td>0.082639</td>\n",
       "      <td>-0.602875</td>\n",
       "      <td>-0.388662</td>\n",
       "      <td>0.010450</td>\n",
       "      <td>-0.103104</td>\n",
       "      <td>0.012977</td>\n",
       "      <td>0.001026</td>\n",
       "      <td>-0.009814</td>\n",
       "    </tr>\n",
       "    <tr>\n",
       "      <th>3</th>\n",
       "      <td>-0.106325</td>\n",
       "      <td>-0.402313</td>\n",
       "      <td>-0.424677</td>\n",
       "      <td>0.162042</td>\n",
       "      <td>-0.110840</td>\n",
       "      <td>0.085237</td>\n",
       "      <td>0.022825</td>\n",
       "      <td>-0.012585</td>\n",
       "      <td>0.000933</td>\n",
       "    </tr>\n",
       "    <tr>\n",
       "      <th>4</th>\n",
       "      <td>0.130221</td>\n",
       "      <td>0.492730</td>\n",
       "      <td>0.520122</td>\n",
       "      <td>-0.198460</td>\n",
       "      <td>0.135750</td>\n",
       "      <td>-0.104394</td>\n",
       "      <td>-0.027955</td>\n",
       "      <td>0.015413</td>\n",
       "      <td>-0.001143</td>\n",
       "    </tr>\n",
       "    <tr>\n",
       "      <th>5</th>\n",
       "      <td>0.224177</td>\n",
       "      <td>0.352170</td>\n",
       "      <td>-0.112145</td>\n",
       "      <td>0.015990</td>\n",
       "      <td>0.071545</td>\n",
       "      <td>0.082556</td>\n",
       "      <td>0.030806</td>\n",
       "      <td>-0.001585</td>\n",
       "      <td>0.001780</td>\n",
       "    </tr>\n",
       "    <tr>\n",
       "      <th>6</th>\n",
       "      <td>-0.448355</td>\n",
       "      <td>-0.704340</td>\n",
       "      <td>0.224289</td>\n",
       "      <td>-0.031980</td>\n",
       "      <td>-0.143089</td>\n",
       "      <td>-0.165112</td>\n",
       "      <td>-0.061611</td>\n",
       "      <td>0.003171</td>\n",
       "      <td>-0.003561</td>\n",
       "    </tr>\n",
       "  </tbody>\n",
       "</table>\n",
       "</div>"
      ],
      "text/plain": [
       "          0         1         2         3         4         5         6  \\\n",
       "0 -0.614538 -0.094369  0.428288 -0.103731 -0.025422  0.133227 -0.021513   \n",
       "1  0.501259  0.016589  0.246903  0.696348  0.021173 -0.042601  0.012072   \n",
       "2  0.260095  0.082639 -0.602875 -0.388662  0.010450 -0.103104  0.012977   \n",
       "3 -0.106325 -0.402313 -0.424677  0.162042 -0.110840  0.085237  0.022825   \n",
       "4  0.130221  0.492730  0.520122 -0.198460  0.135750 -0.104394 -0.027955   \n",
       "5  0.224177  0.352170 -0.112145  0.015990  0.071545  0.082556  0.030806   \n",
       "6 -0.448355 -0.704340  0.224289 -0.031980 -0.143089 -0.165112 -0.061611   \n",
       "\n",
       "          7         8  \n",
       "0 -0.002860  0.019495  \n",
       "1  0.002593 -0.013692  \n",
       "2  0.001026 -0.009814  \n",
       "3 -0.012585  0.000933  \n",
       "4  0.015413 -0.001143  \n",
       "5 -0.001585  0.001780  \n",
       "6  0.003171 -0.003561  "
      ]
     },
     "execution_count": 16,
     "metadata": {},
     "output_type": "execute_result"
    }
   ],
   "source": [
    "pd.DataFrame(my_famd.coord_mod_)"
   ]
  },
  {
   "cell_type": "code",
   "execution_count": 17,
   "metadata": {},
   "outputs": [
    {
     "data": {
      "text/html": [
       "<div>\n",
       "<style scoped>\n",
       "    .dataframe tbody tr th:only-of-type {\n",
       "        vertical-align: middle;\n",
       "    }\n",
       "\n",
       "    .dataframe tbody tr th {\n",
       "        vertical-align: top;\n",
       "    }\n",
       "\n",
       "    .dataframe thead th {\n",
       "        text-align: right;\n",
       "    }\n",
       "</style>\n",
       "<table border=\"1\" class=\"dataframe\">\n",
       "  <thead>\n",
       "    <tr style=\"text-align: right;\">\n",
       "      <th></th>\n",
       "      <th>0</th>\n",
       "      <th>1</th>\n",
       "    </tr>\n",
       "  </thead>\n",
       "  <tbody>\n",
       "    <tr>\n",
       "      <th>0</th>\n",
       "      <td>0.696567</td>\n",
       "      <td>0.016010</td>\n",
       "    </tr>\n",
       "    <tr>\n",
       "      <th>1</th>\n",
       "      <td>0.028262</td>\n",
       "      <td>0.404639</td>\n",
       "    </tr>\n",
       "    <tr>\n",
       "      <th>2</th>\n",
       "      <td>0.251277</td>\n",
       "      <td>0.620118</td>\n",
       "    </tr>\n",
       "  </tbody>\n",
       "</table>\n",
       "</div>"
      ],
      "text/plain": [
       "          0         1\n",
       "0  0.696567  0.016010\n",
       "1  0.028262  0.404639\n",
       "2  0.251277  0.620118"
      ]
     },
     "execution_count": 17,
     "metadata": {},
     "output_type": "execute_result"
    }
   ],
   "source": [
    "pd.DataFrame(my_famd.var_eta2_[:,:2])"
   ]
  },
  {
   "cell_type": "code",
   "execution_count": 18,
   "metadata": {},
   "outputs": [
    {
     "data": {
      "text/html": [
       "<div>\n",
       "<style scoped>\n",
       "    .dataframe tbody tr th:only-of-type {\n",
       "        vertical-align: middle;\n",
       "    }\n",
       "\n",
       "    .dataframe tbody tr th {\n",
       "        vertical-align: top;\n",
       "    }\n",
       "\n",
       "    .dataframe thead th {\n",
       "        text-align: right;\n",
       "    }\n",
       "</style>\n",
       "<table border=\"1\" class=\"dataframe\">\n",
       "  <thead>\n",
       "    <tr style=\"text-align: right;\">\n",
       "      <th></th>\n",
       "      <th>Dim.1</th>\n",
       "      <th>Dim.2</th>\n",
       "    </tr>\n",
       "  </thead>\n",
       "  <tbody>\n",
       "    <tr>\n",
       "      <th>origine_Autres</th>\n",
       "      <td>2.689633</td>\n",
       "      <td>0.031494</td>\n",
       "    </tr>\n",
       "    <tr>\n",
       "      <th>origine_Europe</th>\n",
       "      <td>1.342086</td>\n",
       "      <td>0.000730</td>\n",
       "    </tr>\n",
       "    <tr>\n",
       "      <th>origine_France</th>\n",
       "      <td>0.481791</td>\n",
       "      <td>0.024151</td>\n",
       "    </tr>\n",
       "    <tr>\n",
       "      <th>carburant_Diesel</th>\n",
       "      <td>0.120769</td>\n",
       "      <td>0.858598</td>\n",
       "    </tr>\n",
       "    <tr>\n",
       "      <th>carburant_Essence</th>\n",
       "      <td>0.120769</td>\n",
       "      <td>0.858598</td>\n",
       "    </tr>\n",
       "    <tr>\n",
       "      <th>4X4_non</th>\n",
       "      <td>1.073743</td>\n",
       "      <td>1.315821</td>\n",
       "    </tr>\n",
       "    <tr>\n",
       "      <th>4X4_oui</th>\n",
       "      <td>1.073743</td>\n",
       "      <td>1.315821</td>\n",
       "    </tr>\n",
       "  </tbody>\n",
       "</table>\n",
       "</div>"
      ],
      "text/plain": [
       "                      Dim.1     Dim.2\n",
       "origine_Autres     2.689633  0.031494\n",
       "origine_Europe     1.342086  0.000730\n",
       "origine_France     0.481791  0.024151\n",
       "carburant_Diesel   0.120769  0.858598\n",
       "carburant_Essence  0.120769  0.858598\n",
       "4X4_non            1.073743  1.315821\n",
       "4X4_oui            1.073743  1.315821"
      ]
     },
     "execution_count": 18,
     "metadata": {},
     "output_type": "execute_result"
    }
   ],
   "source": [
    "pd.DataFrame(my_famd.mod_cos2_[:,:2],index=my_famd.mod_labels_,columns=my_famd.dim_index_[:2])"
   ]
  },
  {
   "cell_type": "code",
   "execution_count": 19,
   "metadata": {},
   "outputs": [
    {
     "data": {
      "text/html": [
       "<div>\n",
       "<style scoped>\n",
       "    .dataframe tbody tr th:only-of-type {\n",
       "        vertical-align: middle;\n",
       "    }\n",
       "\n",
       "    .dataframe tbody tr th {\n",
       "        vertical-align: top;\n",
       "    }\n",
       "\n",
       "    .dataframe thead th {\n",
       "        text-align: right;\n",
       "    }\n",
       "</style>\n",
       "<table border=\"1\" class=\"dataframe\">\n",
       "  <thead>\n",
       "    <tr style=\"text-align: right;\">\n",
       "      <th></th>\n",
       "      <th>0</th>\n",
       "      <th>1</th>\n",
       "      <th>2</th>\n",
       "      <th>3</th>\n",
       "      <th>4</th>\n",
       "      <th>5</th>\n",
       "      <th>6</th>\n",
       "      <th>7</th>\n",
       "      <th>8</th>\n",
       "    </tr>\n",
       "  </thead>\n",
       "  <tbody>\n",
       "    <tr>\n",
       "      <th>0</th>\n",
       "      <td>8.837938</td>\n",
       "      <td>0.419701</td>\n",
       "      <td>12.749589</td>\n",
       "      <td>1.286521</td>\n",
       "      <td>0.393999</td>\n",
       "      <td>15.505654</td>\n",
       "      <td>1.376355</td>\n",
       "      <td>0.051742</td>\n",
       "      <td>19.378501</td>\n",
       "    </tr>\n",
       "    <tr>\n",
       "      <th>1</th>\n",
       "      <td>5.879996</td>\n",
       "      <td>0.012970</td>\n",
       "      <td>4.237196</td>\n",
       "      <td>57.976965</td>\n",
       "      <td>0.273307</td>\n",
       "      <td>1.585403</td>\n",
       "      <td>0.433381</td>\n",
       "      <td>0.042536</td>\n",
       "      <td>9.558247</td>\n",
       "    </tr>\n",
       "    <tr>\n",
       "      <th>2</th>\n",
       "      <td>1.583130</td>\n",
       "      <td>0.321845</td>\n",
       "      <td>25.262657</td>\n",
       "      <td>18.061192</td>\n",
       "      <td>0.066578</td>\n",
       "      <td>9.286550</td>\n",
       "      <td>0.500813</td>\n",
       "      <td>0.006664</td>\n",
       "      <td>4.910573</td>\n",
       "    </tr>\n",
       "    <tr>\n",
       "      <th>3</th>\n",
       "      <td>0.264558</td>\n",
       "      <td>7.627905</td>\n",
       "      <td>12.535535</td>\n",
       "      <td>3.139473</td>\n",
       "      <td>7.489731</td>\n",
       "      <td>6.346950</td>\n",
       "      <td>1.549401</td>\n",
       "      <td>1.002015</td>\n",
       "      <td>0.044431</td>\n",
       "    </tr>\n",
       "    <tr>\n",
       "      <th>4</th>\n",
       "      <td>0.396837</td>\n",
       "      <td>11.441858</td>\n",
       "      <td>18.803302</td>\n",
       "      <td>4.709210</td>\n",
       "      <td>11.234597</td>\n",
       "      <td>9.520424</td>\n",
       "      <td>2.324102</td>\n",
       "      <td>1.503023</td>\n",
       "      <td>0.066646</td>\n",
       "    </tr>\n",
       "    <tr>\n",
       "      <th>5</th>\n",
       "      <td>1.176080</td>\n",
       "      <td>5.844967</td>\n",
       "      <td>0.874141</td>\n",
       "      <td>0.030570</td>\n",
       "      <td>3.120546</td>\n",
       "      <td>5.953942</td>\n",
       "      <td>2.822243</td>\n",
       "      <td>0.015903</td>\n",
       "      <td>0.161609</td>\n",
       "    </tr>\n",
       "    <tr>\n",
       "      <th>6</th>\n",
       "      <td>4.704320</td>\n",
       "      <td>23.379868</td>\n",
       "      <td>3.496564</td>\n",
       "      <td>0.122279</td>\n",
       "      <td>12.482182</td>\n",
       "      <td>23.815768</td>\n",
       "      <td>11.288972</td>\n",
       "      <td>0.063612</td>\n",
       "      <td>0.646435</td>\n",
       "    </tr>\n",
       "  </tbody>\n",
       "</table>\n",
       "</div>"
      ],
      "text/plain": [
       "          0          1          2          3          4          5          6  \\\n",
       "0  8.837938   0.419701  12.749589   1.286521   0.393999  15.505654   1.376355   \n",
       "1  5.879996   0.012970   4.237196  57.976965   0.273307   1.585403   0.433381   \n",
       "2  1.583130   0.321845  25.262657  18.061192   0.066578   9.286550   0.500813   \n",
       "3  0.264558   7.627905  12.535535   3.139473   7.489731   6.346950   1.549401   \n",
       "4  0.396837  11.441858  18.803302   4.709210  11.234597   9.520424   2.324102   \n",
       "5  1.176080   5.844967   0.874141   0.030570   3.120546   5.953942   2.822243   \n",
       "6  4.704320  23.379868   3.496564   0.122279  12.482182  23.815768  11.288972   \n",
       "\n",
       "          7          8  \n",
       "0  0.051742  19.378501  \n",
       "1  0.042536   9.558247  \n",
       "2  0.006664   4.910573  \n",
       "3  1.002015   0.044431  \n",
       "4  1.503023   0.066646  \n",
       "5  0.015903   0.161609  \n",
       "6  0.063612   0.646435  "
      ]
     },
     "execution_count": 19,
     "metadata": {},
     "output_type": "execute_result"
    }
   ],
   "source": [
    "pd.DataFrame(my_famd.mod_contrib_)"
   ]
  },
  {
   "cell_type": "code",
   "execution_count": 20,
   "metadata": {},
   "outputs": [
    {
     "data": {
      "text/html": [
       "<div>\n",
       "<style scoped>\n",
       "    .dataframe tbody tr th:only-of-type {\n",
       "        vertical-align: middle;\n",
       "    }\n",
       "\n",
       "    .dataframe tbody tr th {\n",
       "        vertical-align: top;\n",
       "    }\n",
       "\n",
       "    .dataframe thead th {\n",
       "        text-align: right;\n",
       "    }\n",
       "</style>\n",
       "<table border=\"1\" class=\"dataframe\">\n",
       "  <thead>\n",
       "    <tr style=\"text-align: right;\">\n",
       "      <th></th>\n",
       "      <th>0</th>\n",
       "      <th>1</th>\n",
       "      <th>2</th>\n",
       "      <th>3</th>\n",
       "      <th>4</th>\n",
       "      <th>5</th>\n",
       "      <th>6</th>\n",
       "      <th>7</th>\n",
       "      <th>8</th>\n",
       "    </tr>\n",
       "  </thead>\n",
       "  <tbody>\n",
       "    <tr>\n",
       "      <th>0</th>\n",
       "      <td>-2.380096</td>\n",
       "      <td>-0.365491</td>\n",
       "      <td>1.658752</td>\n",
       "      <td>-0.401747</td>\n",
       "      <td>-0.098459</td>\n",
       "      <td>0.515985</td>\n",
       "      <td>-0.083319</td>\n",
       "      <td>-0.011076</td>\n",
       "      <td>0.075505</td>\n",
       "    </tr>\n",
       "    <tr>\n",
       "      <th>1</th>\n",
       "      <td>1.681272</td>\n",
       "      <td>0.055643</td>\n",
       "      <td>0.828139</td>\n",
       "      <td>2.335622</td>\n",
       "      <td>0.071017</td>\n",
       "      <td>-0.142887</td>\n",
       "      <td>0.040490</td>\n",
       "      <td>0.008697</td>\n",
       "      <td>-0.045924</td>\n",
       "    </tr>\n",
       "    <tr>\n",
       "      <th>2</th>\n",
       "      <td>1.007343</td>\n",
       "      <td>0.320059</td>\n",
       "      <td>-2.334925</td>\n",
       "      <td>-1.505280</td>\n",
       "      <td>0.040474</td>\n",
       "      <td>-0.399318</td>\n",
       "      <td>0.050259</td>\n",
       "      <td>0.003975</td>\n",
       "      <td>-0.038009</td>\n",
       "    </tr>\n",
       "    <tr>\n",
       "      <th>3</th>\n",
       "      <td>-0.504342</td>\n",
       "      <td>-1.908337</td>\n",
       "      <td>-2.014422</td>\n",
       "      <td>0.768631</td>\n",
       "      <td>-0.525758</td>\n",
       "      <td>0.404315</td>\n",
       "      <td>0.108269</td>\n",
       "      <td>-0.059694</td>\n",
       "      <td>0.004428</td>\n",
       "    </tr>\n",
       "    <tr>\n",
       "      <th>4</th>\n",
       "      <td>0.504342</td>\n",
       "      <td>1.908337</td>\n",
       "      <td>2.014422</td>\n",
       "      <td>-0.768631</td>\n",
       "      <td>0.525758</td>\n",
       "      <td>-0.404315</td>\n",
       "      <td>-0.108269</td>\n",
       "      <td>0.059694</td>\n",
       "      <td>-0.004428</td>\n",
       "    </tr>\n",
       "    <tr>\n",
       "      <th>5</th>\n",
       "      <td>1.503828</td>\n",
       "      <td>2.362427</td>\n",
       "      <td>-0.752289</td>\n",
       "      <td>0.107263</td>\n",
       "      <td>0.479936</td>\n",
       "      <td>0.553803</td>\n",
       "      <td>0.206650</td>\n",
       "      <td>-0.010635</td>\n",
       "      <td>0.011943</td>\n",
       "    </tr>\n",
       "    <tr>\n",
       "      <th>6</th>\n",
       "      <td>-1.503828</td>\n",
       "      <td>-2.362427</td>\n",
       "      <td>0.752289</td>\n",
       "      <td>-0.107263</td>\n",
       "      <td>-0.479936</td>\n",
       "      <td>-0.553803</td>\n",
       "      <td>-0.206650</td>\n",
       "      <td>0.010635</td>\n",
       "      <td>-0.011943</td>\n",
       "    </tr>\n",
       "  </tbody>\n",
       "</table>\n",
       "</div>"
      ],
      "text/plain": [
       "          0         1         2         3         4         5         6  \\\n",
       "0 -2.380096 -0.365491  1.658752 -0.401747 -0.098459  0.515985 -0.083319   \n",
       "1  1.681272  0.055643  0.828139  2.335622  0.071017 -0.142887  0.040490   \n",
       "2  1.007343  0.320059 -2.334925 -1.505280  0.040474 -0.399318  0.050259   \n",
       "3 -0.504342 -1.908337 -2.014422  0.768631 -0.525758  0.404315  0.108269   \n",
       "4  0.504342  1.908337  2.014422 -0.768631  0.525758 -0.404315 -0.108269   \n",
       "5  1.503828  2.362427 -0.752289  0.107263  0.479936  0.553803  0.206650   \n",
       "6 -1.503828 -2.362427  0.752289 -0.107263 -0.479936 -0.553803 -0.206650   \n",
       "\n",
       "          7         8  \n",
       "0 -0.011076  0.075505  \n",
       "1  0.008697 -0.045924  \n",
       "2  0.003975 -0.038009  \n",
       "3 -0.059694  0.004428  \n",
       "4  0.059694 -0.004428  \n",
       "5 -0.010635  0.011943  \n",
       "6  0.010635 -0.011943  "
      ]
     },
     "execution_count": 20,
     "metadata": {},
     "output_type": "execute_result"
    }
   ],
   "source": [
    "pd.DataFrame(my_famd.mod_vtest_)"
   ]
  },
  {
   "cell_type": "code",
   "execution_count": 21,
   "metadata": {},
   "outputs": [
    {
     "data": {
      "image/png": "[encoded data removed]",
      "text/plain": [
       "<Figure size 720x720 with 1 Axes>"
      ]
     },
     "metadata": {
      "needs_background": "light"
     },
     "output_type": "display_data"
    }
   ],
   "source": [
    "# \n",
    "fig, axe = plt.subplots(figsize=(10,10))\n",
    "plotFAMD(my_famd,choice=\"var\",repel=True,ax=axe)"
   ]
  },
  {
   "cell_type": "code",
   "execution_count": 22,
   "metadata": {},
   "outputs": [
    {
     "data": {
      "text/html": [
       "<div>\n",
       "<style scoped>\n",
       "    .dataframe tbody tr th:only-of-type {\n",
       "        vertical-align: middle;\n",
       "    }\n",
       "\n",
       "    .dataframe tbody tr th {\n",
       "        vertical-align: top;\n",
       "    }\n",
       "\n",
       "    .dataframe thead th {\n",
       "        text-align: right;\n",
       "    }\n",
       "</style>\n",
       "<table border=\"1\" class=\"dataframe\">\n",
       "  <thead>\n",
       "    <tr style=\"text-align: right;\">\n",
       "      <th></th>\n",
       "      <th>Dim.1</th>\n",
       "      <th>Dim.2</th>\n",
       "      <th>Dim.3</th>\n",
       "      <th>Dim.4</th>\n",
       "      <th>Dim.5</th>\n",
       "      <th>Dim.6</th>\n",
       "      <th>Dim.7</th>\n",
       "      <th>Dim.8</th>\n",
       "      <th>Dim.9</th>\n",
       "    </tr>\n",
       "  </thead>\n",
       "  <tbody>\n",
       "    <tr>\n",
       "      <th>X-TRAIL</th>\n",
       "      <td>-1.318885</td>\n",
       "      <td>-2.512626</td>\n",
       "      <td>0.660037</td>\n",
       "      <td>-0.164363</td>\n",
       "      <td>-0.260505</td>\n",
       "      <td>-0.084434</td>\n",
       "      <td>-0.137976</td>\n",
       "      <td>0.223623</td>\n",
       "      <td>0.330056</td>\n",
       "    </tr>\n",
       "  </tbody>\n",
       "</table>\n",
       "</div>"
      ],
      "text/plain": [
       "            Dim.1     Dim.2     Dim.3     Dim.4     Dim.5     Dim.6     Dim.7  \\\n",
       "X-TRAIL -1.318885 -2.512626  0.660037 -0.164363 -0.260505 -0.084434 -0.137976   \n",
       "\n",
       "            Dim.8     Dim.9  \n",
       "X-TRAIL  0.223623  0.330056  "
      ]
     },
     "execution_count": 22,
     "metadata": {},
     "output_type": "execute_result"
    }
   ],
   "source": [
    "# chargement des individus supplémentaire\n",
    "row_sup = pd.DataFrame([136,446,168,1520,190,\"Autres\",\"Diesel\",\"oui\"],index=D.columns,columns=[\"X-TRAIL\"]).T\n",
    "row_sup_coord = my_famd.transform(row_sup)\n",
    "pd.DataFrame(row_sup_coord[0],index=my_famd.dim_index_,columns=row_sup.index).T\n"
   ]
  },
  {
   "cell_type": "code",
   "execution_count": 23,
   "metadata": {},
   "outputs": [
    {
     "data": {
      "text/html": [
       "<div>\n",
       "<style scoped>\n",
       "    .dataframe tbody tr th:only-of-type {\n",
       "        vertical-align: middle;\n",
       "    }\n",
       "\n",
       "    .dataframe tbody tr th {\n",
       "        vertical-align: top;\n",
       "    }\n",
       "\n",
       "    .dataframe thead th {\n",
       "        text-align: right;\n",
       "    }\n",
       "</style>\n",
       "<table border=\"1\" class=\"dataframe\">\n",
       "  <thead>\n",
       "    <tr style=\"text-align: right;\">\n",
       "      <th></th>\n",
       "      <th>prix</th>\n",
       "      <th>surtaxe</th>\n",
       "    </tr>\n",
       "    <tr>\n",
       "      <th>Modele</th>\n",
       "      <th></th>\n",
       "      <th></th>\n",
       "    </tr>\n",
       "  </thead>\n",
       "  <tbody>\n",
       "    <tr>\n",
       "      <th>GOLF</th>\n",
       "      <td>19140</td>\n",
       "      <td>non</td>\n",
       "    </tr>\n",
       "    <tr>\n",
       "      <th>CITRONC4</th>\n",
       "      <td>23400</td>\n",
       "      <td>non</td>\n",
       "    </tr>\n",
       "    <tr>\n",
       "      <th>P607</th>\n",
       "      <td>40550</td>\n",
       "      <td>oui</td>\n",
       "    </tr>\n",
       "    <tr>\n",
       "      <th>VELSATIS</th>\n",
       "      <td>38250</td>\n",
       "      <td>oui</td>\n",
       "    </tr>\n",
       "    <tr>\n",
       "      <th>CITRONC2</th>\n",
       "      <td>10700</td>\n",
       "      <td>non</td>\n",
       "    </tr>\n",
       "    <tr>\n",
       "      <th>CHRYS300</th>\n",
       "      <td>54900</td>\n",
       "      <td>oui</td>\n",
       "    </tr>\n",
       "    <tr>\n",
       "      <th>AUDIA3</th>\n",
       "      <td>21630</td>\n",
       "      <td>non</td>\n",
       "    </tr>\n",
       "    <tr>\n",
       "      <th>OUTLAND</th>\n",
       "      <td>29990</td>\n",
       "      <td>oui</td>\n",
       "    </tr>\n",
       "    <tr>\n",
       "      <th>PTCRUISER</th>\n",
       "      <td>27400</td>\n",
       "      <td>oui</td>\n",
       "    </tr>\n",
       "    <tr>\n",
       "      <th>SANTA_FE</th>\n",
       "      <td>27990</td>\n",
       "      <td>oui</td>\n",
       "    </tr>\n",
       "  </tbody>\n",
       "</table>\n",
       "</div>"
      ],
      "text/plain": [
       "               prix surtaxe\n",
       "Modele                     \n",
       "GOLF          19140     non\n",
       "CITRONC4      23400     non\n",
       "P607          40550     oui\n",
       "VELSATIS      38250     oui\n",
       "CITRONC2      10700     non\n",
       "CHRYS300      54900     oui\n",
       "AUDIA3        21630     non\n",
       "OUTLAND       29990     oui\n",
       "PTCRUISER     27400     oui\n",
       "SANTA_FE      27990     oui"
      ]
     },
     "execution_count": 23,
     "metadata": {},
     "output_type": "execute_result"
    }
   ],
   "source": [
    "# chargement des données\n",
    "varsup = pd.DataFrame({\n",
    "    \"prix\" : [19140,23400,40550,38250,10700,54900,21630,29990,27400,27990],\n",
    "    \"surtaxe\" : [\"non\",\"non\",\"oui\",\"oui\",\"non\",\"oui\",\"non\",\"oui\",\"oui\",\"oui\"]\n",
    "},index=D.index)\n",
    "varsup"
   ]
  },
  {
   "cell_type": "code",
   "execution_count": 24,
   "metadata": {},
   "outputs": [
    {
     "data": {
      "text/plain": [
       "dict_keys(['corr', 'coord', 'cos2', 'ftest'])"
      ]
     },
     "execution_count": 24,
     "metadata": {},
     "output_type": "execute_result"
    }
   ],
   "source": [
    "var_quant_sup_infos = my_famd._compute_quanti_sup_stats(varsup[\"prix\"])\n",
    "var_quant_sup_infos.keys()"
   ]
  },
  {
   "cell_type": "code",
   "execution_count": 25,
   "metadata": {},
   "outputs": [
    {
     "data": {
      "text/html": [
       "<div>\n",
       "<style scoped>\n",
       "    .dataframe tbody tr th:only-of-type {\n",
       "        vertical-align: middle;\n",
       "    }\n",
       "\n",
       "    .dataframe tbody tr th {\n",
       "        vertical-align: top;\n",
       "    }\n",
       "\n",
       "    .dataframe thead th {\n",
       "        text-align: right;\n",
       "    }\n",
       "</style>\n",
       "<table border=\"1\" class=\"dataframe\">\n",
       "  <thead>\n",
       "    <tr style=\"text-align: right;\">\n",
       "      <th></th>\n",
       "      <th>puissance</th>\n",
       "      <th>longueur</th>\n",
       "      <th>hauteur</th>\n",
       "      <th>poids</th>\n",
       "      <th>CO2</th>\n",
       "    </tr>\n",
       "  </thead>\n",
       "  <tbody>\n",
       "    <tr>\n",
       "      <th>prix</th>\n",
       "      <td>0.880187</td>\n",
       "      <td>0.948292</td>\n",
       "      <td>0.069255</td>\n",
       "      <td>0.864805</td>\n",
       "      <td>0.835326</td>\n",
       "    </tr>\n",
       "  </tbody>\n",
       "</table>\n",
       "</div>"
      ],
      "text/plain": [
       "      puissance  longueur   hauteur     poids       CO2\n",
       "prix   0.880187  0.948292  0.069255  0.864805  0.835326"
      ]
     },
     "execution_count": 25,
     "metadata": {},
     "output_type": "execute_result"
    }
   ],
   "source": [
    "var_quant_sup_infos[\"corr\"]"
   ]
  },
  {
   "cell_type": "code",
   "execution_count": 26,
   "metadata": {},
   "outputs": [
    {
     "data": {
      "text/html": [
       "<div>\n",
       "<style scoped>\n",
       "    .dataframe tbody tr th:only-of-type {\n",
       "        vertical-align: middle;\n",
       "    }\n",
       "\n",
       "    .dataframe tbody tr th {\n",
       "        vertical-align: top;\n",
       "    }\n",
       "\n",
       "    .dataframe thead th {\n",
       "        text-align: right;\n",
       "    }\n",
       "</style>\n",
       "<table border=\"1\" class=\"dataframe\">\n",
       "  <thead>\n",
       "    <tr style=\"text-align: right;\">\n",
       "      <th></th>\n",
       "      <th>Dim.1</th>\n",
       "      <th>Dim.2</th>\n",
       "      <th>Dim.3</th>\n",
       "      <th>Dim.4</th>\n",
       "      <th>Dim.5</th>\n",
       "      <th>Dim.6</th>\n",
       "      <th>Dim.7</th>\n",
       "      <th>Dim.8</th>\n",
       "      <th>Dim.9</th>\n",
       "    </tr>\n",
       "  </thead>\n",
       "  <tbody>\n",
       "    <tr>\n",
       "      <th>prix</th>\n",
       "      <td>-0.804104</td>\n",
       "      <td>0.454902</td>\n",
       "      <td>-0.275091</td>\n",
       "      <td>0.172402</td>\n",
       "      <td>0.041537</td>\n",
       "      <td>-0.106965</td>\n",
       "      <td>-0.002639</td>\n",
       "      <td>0.119633</td>\n",
       "      <td>0.116607</td>\n",
       "    </tr>\n",
       "  </tbody>\n",
       "</table>\n",
       "</div>"
      ],
      "text/plain": [
       "         Dim.1     Dim.2     Dim.3     Dim.4     Dim.5     Dim.6     Dim.7  \\\n",
       "prix -0.804104  0.454902 -0.275091  0.172402  0.041537 -0.106965 -0.002639   \n",
       "\n",
       "         Dim.8     Dim.9  \n",
       "prix  0.119633  0.116607  "
      ]
     },
     "execution_count": 26,
     "metadata": {},
     "output_type": "execute_result"
    }
   ],
   "source": [
    "pd.DataFrame(var_quant_sup_infos[\"coord\"])"
   ]
  },
  {
   "cell_type": "code",
   "execution_count": 27,
   "metadata": {},
   "outputs": [
    {
     "data": {
      "text/html": [
       "<div>\n",
       "<style scoped>\n",
       "    .dataframe tbody tr th:only-of-type {\n",
       "        vertical-align: middle;\n",
       "    }\n",
       "\n",
       "    .dataframe tbody tr th {\n",
       "        vertical-align: top;\n",
       "    }\n",
       "\n",
       "    .dataframe thead th {\n",
       "        text-align: right;\n",
       "    }\n",
       "</style>\n",
       "<table border=\"1\" class=\"dataframe\">\n",
       "  <thead>\n",
       "    <tr style=\"text-align: right;\">\n",
       "      <th></th>\n",
       "      <th>Dim.1</th>\n",
       "      <th>Dim.2</th>\n",
       "      <th>Dim.3</th>\n",
       "      <th>Dim.4</th>\n",
       "      <th>Dim.5</th>\n",
       "      <th>Dim.6</th>\n",
       "      <th>Dim.7</th>\n",
       "      <th>Dim.8</th>\n",
       "      <th>Dim.9</th>\n",
       "    </tr>\n",
       "  </thead>\n",
       "  <tbody>\n",
       "    <tr>\n",
       "      <th>prix</th>\n",
       "      <td>0.646584</td>\n",
       "      <td>0.206935</td>\n",
       "      <td>0.075675</td>\n",
       "      <td>0.029723</td>\n",
       "      <td>0.001725</td>\n",
       "      <td>0.011442</td>\n",
       "      <td>0.000007</td>\n",
       "      <td>0.014312</td>\n",
       "      <td>0.013597</td>\n",
       "    </tr>\n",
       "  </tbody>\n",
       "</table>\n",
       "</div>"
      ],
      "text/plain": [
       "         Dim.1     Dim.2     Dim.3     Dim.4     Dim.5     Dim.6     Dim.7  \\\n",
       "prix  0.646584  0.206935  0.075675  0.029723  0.001725  0.011442  0.000007   \n",
       "\n",
       "         Dim.8     Dim.9  \n",
       "prix  0.014312  0.013597  "
      ]
     },
     "execution_count": 27,
     "metadata": {},
     "output_type": "execute_result"
    }
   ],
   "source": [
    "pd.DataFrame(var_quant_sup_infos[\"cos2\"])"
   ]
  },
  {
   "cell_type": "code",
   "execution_count": 28,
   "metadata": {},
   "outputs": [
    {
     "data": {
      "text/html": [
       "<div>\n",
       "<style scoped>\n",
       "    .dataframe tbody tr th:only-of-type {\n",
       "        vertical-align: middle;\n",
       "    }\n",
       "\n",
       "    .dataframe tbody tr th {\n",
       "        vertical-align: top;\n",
       "    }\n",
       "\n",
       "    .dataframe thead th {\n",
       "        text-align: right;\n",
       "    }\n",
       "</style>\n",
       "<table border=\"1\" class=\"dataframe\">\n",
       "  <thead>\n",
       "    <tr style=\"text-align: right;\">\n",
       "      <th></th>\n",
       "      <th>Dim.1</th>\n",
       "      <th>Dim.2</th>\n",
       "      <th>Dim.3</th>\n",
       "      <th>Dim.4</th>\n",
       "      <th>Dim.5</th>\n",
       "      <th>Dim.6</th>\n",
       "      <th>Dim.7</th>\n",
       "      <th>Dim.8</th>\n",
       "      <th>Dim.9</th>\n",
       "    </tr>\n",
       "  </thead>\n",
       "  <tbody>\n",
       "    <tr>\n",
       "      <th>prix</th>\n",
       "      <td>-2.937098</td>\n",
       "      <td>1.298703</td>\n",
       "      <td>-0.747063</td>\n",
       "      <td>0.460735</td>\n",
       "      <td>0.10996</td>\n",
       "      <td>-0.28409</td>\n",
       "      <td>-0.006982</td>\n",
       "      <td>0.318043</td>\n",
       "      <td>0.309922</td>\n",
       "    </tr>\n",
       "  </tbody>\n",
       "</table>\n",
       "</div>"
      ],
      "text/plain": [
       "         Dim.1     Dim.2     Dim.3     Dim.4    Dim.5    Dim.6     Dim.7  \\\n",
       "prix -2.937098  1.298703 -0.747063  0.460735  0.10996 -0.28409 -0.006982   \n",
       "\n",
       "         Dim.8     Dim.9  \n",
       "prix  0.318043  0.309922  "
      ]
     },
     "execution_count": 28,
     "metadata": {},
     "output_type": "execute_result"
    }
   ],
   "source": [
    "pd.DataFrame(var_quant_sup_infos[\"ftest\"])"
   ]
  },
  {
   "attachments": {},
   "cell_type": "markdown",
   "metadata": {},
   "source": [
    "#### Variables qualitatives supplémentaires"
   ]
  },
  {
   "cell_type": "code",
   "execution_count": 29,
   "metadata": {},
   "outputs": [
    {
     "data": {
      "text/plain": [
       "dict_keys(['chi2', 'coord', 'cos2', 'dist', 'eta2', 'vtest'])"
      ]
     },
     "execution_count": 29,
     "metadata": {},
     "output_type": "execute_result"
    }
   ],
   "source": [
    "var_qual_sup_infos = my_famd._compute_quali_sup_stats(varsup[\"surtaxe\"])\n",
    "var_qual_sup_infos.keys()"
   ]
  },
  {
   "cell_type": "code",
   "execution_count": 30,
   "metadata": {},
   "outputs": [
    {
     "data": {
      "text/html": [
       "<div>\n",
       "<style scoped>\n",
       "    .dataframe tbody tr th:only-of-type {\n",
       "        vertical-align: middle;\n",
       "    }\n",
       "\n",
       "    .dataframe tbody tr th {\n",
       "        vertical-align: top;\n",
       "    }\n",
       "\n",
       "    .dataframe thead th {\n",
       "        text-align: right;\n",
       "    }\n",
       "</style>\n",
       "<table border=\"1\" class=\"dataframe\">\n",
       "  <thead>\n",
       "    <tr style=\"text-align: right;\">\n",
       "      <th></th>\n",
       "      <th>origine</th>\n",
       "      <th>carburant</th>\n",
       "      <th>4X4</th>\n",
       "    </tr>\n",
       "  </thead>\n",
       "  <tbody>\n",
       "    <tr>\n",
       "      <th>surtaxe</th>\n",
       "      <td>5.833333</td>\n",
       "      <td>0.0</td>\n",
       "      <td>0.234375</td>\n",
       "    </tr>\n",
       "  </tbody>\n",
       "</table>\n",
       "</div>"
      ],
      "text/plain": [
       "          origine  carburant       4X4\n",
       "surtaxe  5.833333        0.0  0.234375"
      ]
     },
     "execution_count": 30,
     "metadata": {},
     "output_type": "execute_result"
    }
   ],
   "source": [
    "var_qual_sup_infos[\"chi2\"][\"statistic\"]"
   ]
  },
  {
   "cell_type": "code",
   "execution_count": 31,
   "metadata": {},
   "outputs": [
    {
     "data": {
      "text/html": [
       "<div>\n",
       "<style scoped>\n",
       "    .dataframe tbody tr th:only-of-type {\n",
       "        vertical-align: middle;\n",
       "    }\n",
       "\n",
       "    .dataframe tbody tr th {\n",
       "        vertical-align: top;\n",
       "    }\n",
       "\n",
       "    .dataframe thead th {\n",
       "        text-align: right;\n",
       "    }\n",
       "</style>\n",
       "<table border=\"1\" class=\"dataframe\">\n",
       "  <thead>\n",
       "    <tr style=\"text-align: right;\">\n",
       "      <th></th>\n",
       "      <th>origine</th>\n",
       "      <th>carburant</th>\n",
       "      <th>4X4</th>\n",
       "    </tr>\n",
       "  </thead>\n",
       "  <tbody>\n",
       "    <tr>\n",
       "      <th>surtaxe</th>\n",
       "      <td>0.054114</td>\n",
       "      <td>1.0</td>\n",
       "      <td>0.628299</td>\n",
       "    </tr>\n",
       "  </tbody>\n",
       "</table>\n",
       "</div>"
      ],
      "text/plain": [
       "          origine  carburant       4X4\n",
       "surtaxe  0.054114        1.0  0.628299"
      ]
     },
     "execution_count": 31,
     "metadata": {},
     "output_type": "execute_result"
    }
   ],
   "source": [
    "var_qual_sup_infos[\"chi2\"][\"pvalue\"]"
   ]
  },
  {
   "cell_type": "code",
   "execution_count": 32,
   "metadata": {},
   "outputs": [
    {
     "data": {
      "text/html": [
       "<div>\n",
       "<style scoped>\n",
       "    .dataframe tbody tr th:only-of-type {\n",
       "        vertical-align: middle;\n",
       "    }\n",
       "\n",
       "    .dataframe tbody tr th {\n",
       "        vertical-align: top;\n",
       "    }\n",
       "\n",
       "    .dataframe thead th {\n",
       "        text-align: right;\n",
       "    }\n",
       "</style>\n",
       "<table border=\"1\" class=\"dataframe\">\n",
       "  <thead>\n",
       "    <tr style=\"text-align: right;\">\n",
       "      <th></th>\n",
       "      <th>Dim.1</th>\n",
       "      <th>Dim.2</th>\n",
       "      <th>Dim.3</th>\n",
       "      <th>Dim.4</th>\n",
       "      <th>Dim.5</th>\n",
       "      <th>Dim.6</th>\n",
       "      <th>Dim.7</th>\n",
       "      <th>Dim.8</th>\n",
       "      <th>Dim.9</th>\n",
       "    </tr>\n",
       "  </thead>\n",
       "  <tbody>\n",
       "    <tr>\n",
       "      <th>surtaxe_non</th>\n",
       "      <td>2.338792</td>\n",
       "      <td>0.002725</td>\n",
       "      <td>0.151900</td>\n",
       "      <td>0.109839</td>\n",
       "      <td>-0.102048</td>\n",
       "      <td>0.024850</td>\n",
       "      <td>-0.036605</td>\n",
       "      <td>0.034331</td>\n",
       "      <td>0.003473</td>\n",
       "    </tr>\n",
       "    <tr>\n",
       "      <th>surtaxe_oui</th>\n",
       "      <td>-1.559195</td>\n",
       "      <td>-0.001817</td>\n",
       "      <td>-0.101267</td>\n",
       "      <td>-0.073226</td>\n",
       "      <td>0.068032</td>\n",
       "      <td>-0.016567</td>\n",
       "      <td>0.024403</td>\n",
       "      <td>-0.022888</td>\n",
       "      <td>-0.002316</td>\n",
       "    </tr>\n",
       "  </tbody>\n",
       "</table>\n",
       "</div>"
      ],
      "text/plain": [
       "                Dim.1     Dim.2     Dim.3     Dim.4     Dim.5     Dim.6  \\\n",
       "surtaxe_non  2.338792  0.002725  0.151900  0.109839 -0.102048  0.024850   \n",
       "surtaxe_oui -1.559195 -0.001817 -0.101267 -0.073226  0.068032 -0.016567   \n",
       "\n",
       "                Dim.7     Dim.8     Dim.9  \n",
       "surtaxe_non -0.036605  0.034331  0.003473  \n",
       "surtaxe_oui  0.024403 -0.022888 -0.002316  "
      ]
     },
     "execution_count": 32,
     "metadata": {},
     "output_type": "execute_result"
    }
   ],
   "source": [
    "var_qual_sup_infos[\"coord\"]"
   ]
  },
  {
   "cell_type": "code",
   "execution_count": 33,
   "metadata": {},
   "outputs": [
    {
     "data": {
      "text/html": [
       "<div>\n",
       "<style scoped>\n",
       "    .dataframe tbody tr th:only-of-type {\n",
       "        vertical-align: middle;\n",
       "    }\n",
       "\n",
       "    .dataframe tbody tr th {\n",
       "        vertical-align: top;\n",
       "    }\n",
       "\n",
       "    .dataframe thead th {\n",
       "        text-align: right;\n",
       "    }\n",
       "</style>\n",
       "<table border=\"1\" class=\"dataframe\">\n",
       "  <thead>\n",
       "    <tr style=\"text-align: right;\">\n",
       "      <th></th>\n",
       "      <th>Dim.1</th>\n",
       "      <th>Dim.2</th>\n",
       "      <th>Dim.3</th>\n",
       "      <th>Dim.4</th>\n",
       "      <th>Dim.5</th>\n",
       "      <th>Dim.6</th>\n",
       "      <th>Dim.7</th>\n",
       "      <th>Dim.8</th>\n",
       "      <th>Dim.9</th>\n",
       "    </tr>\n",
       "  </thead>\n",
       "  <tbody>\n",
       "    <tr>\n",
       "      <th>surtaxe_non</th>\n",
       "      <td>0.642114</td>\n",
       "      <td>8.718459e-07</td>\n",
       "      <td>0.002709</td>\n",
       "      <td>0.001416</td>\n",
       "      <td>0.001222</td>\n",
       "      <td>0.000072</td>\n",
       "      <td>0.000157</td>\n",
       "      <td>0.000138</td>\n",
       "      <td>1.416287e-06</td>\n",
       "    </tr>\n",
       "    <tr>\n",
       "      <th>surtaxe_oui</th>\n",
       "      <td>0.445847</td>\n",
       "      <td>6.053602e-07</td>\n",
       "      <td>0.001881</td>\n",
       "      <td>0.000983</td>\n",
       "      <td>0.000849</td>\n",
       "      <td>0.000050</td>\n",
       "      <td>0.000109</td>\n",
       "      <td>0.000096</td>\n",
       "      <td>9.833889e-07</td>\n",
       "    </tr>\n",
       "  </tbody>\n",
       "</table>\n",
       "</div>"
      ],
      "text/plain": [
       "                Dim.1         Dim.2     Dim.3     Dim.4     Dim.5     Dim.6  \\\n",
       "surtaxe_non  0.642114  8.718459e-07  0.002709  0.001416  0.001222  0.000072   \n",
       "surtaxe_oui  0.445847  6.053602e-07  0.001881  0.000983  0.000849  0.000050   \n",
       "\n",
       "                Dim.7     Dim.8         Dim.9  \n",
       "surtaxe_non  0.000157  0.000138  1.416287e-06  \n",
       "surtaxe_oui  0.000109  0.000096  9.833889e-07  "
      ]
     },
     "execution_count": 33,
     "metadata": {},
     "output_type": "execute_result"
    }
   ],
   "source": [
    "var_qual_sup_infos[\"cos2\"]"
   ]
  },
  {
   "cell_type": "code",
   "execution_count": 34,
   "metadata": {},
   "outputs": [
    {
     "data": {
      "text/html": [
       "<div>\n",
       "<style scoped>\n",
       "    .dataframe tbody tr th:only-of-type {\n",
       "        vertical-align: middle;\n",
       "    }\n",
       "\n",
       "    .dataframe tbody tr th {\n",
       "        vertical-align: top;\n",
       "    }\n",
       "\n",
       "    .dataframe thead th {\n",
       "        text-align: right;\n",
       "    }\n",
       "</style>\n",
       "<table border=\"1\" class=\"dataframe\">\n",
       "  <thead>\n",
       "    <tr style=\"text-align: right;\">\n",
       "      <th></th>\n",
       "      <th>Dim.1</th>\n",
       "      <th>Dim.2</th>\n",
       "      <th>Dim.3</th>\n",
       "      <th>Dim.4</th>\n",
       "      <th>Dim.5</th>\n",
       "      <th>Dim.6</th>\n",
       "      <th>Dim.7</th>\n",
       "      <th>Dim.8</th>\n",
       "      <th>Dim.9</th>\n",
       "    </tr>\n",
       "  </thead>\n",
       "  <tbody>\n",
       "    <tr>\n",
       "      <th>surtaxe_non</th>\n",
       "      <td>2.771367</td>\n",
       "      <td>0.004583</td>\n",
       "      <td>0.310202</td>\n",
       "      <td>0.294194</td>\n",
       "      <td>-0.617191</td>\n",
       "      <td>0.179909</td>\n",
       "      <td>-0.48897</td>\n",
       "      <td>0.668908</td>\n",
       "      <td>0.192117</td>\n",
       "    </tr>\n",
       "    <tr>\n",
       "      <th>surtaxe_oui</th>\n",
       "      <td>-2.771367</td>\n",
       "      <td>-0.004583</td>\n",
       "      <td>-0.310202</td>\n",
       "      <td>-0.294194</td>\n",
       "      <td>0.617191</td>\n",
       "      <td>-0.179909</td>\n",
       "      <td>0.48897</td>\n",
       "      <td>-0.668908</td>\n",
       "      <td>-0.192117</td>\n",
       "    </tr>\n",
       "  </tbody>\n",
       "</table>\n",
       "</div>"
      ],
      "text/plain": [
       "                Dim.1     Dim.2     Dim.3     Dim.4     Dim.5     Dim.6  \\\n",
       "surtaxe_non  2.771367  0.004583  0.310202  0.294194 -0.617191  0.179909   \n",
       "surtaxe_oui -2.771367 -0.004583 -0.310202 -0.294194  0.617191 -0.179909   \n",
       "\n",
       "               Dim.7     Dim.8     Dim.9  \n",
       "surtaxe_non -0.48897  0.668908  0.192117  \n",
       "surtaxe_oui  0.48897 -0.668908 -0.192117  "
      ]
     },
     "execution_count": 34,
     "metadata": {},
     "output_type": "execute_result"
    }
   ],
   "source": [
    "var_qual_sup_infos[\"vtest\"]"
   ]
  },
  {
   "cell_type": "code",
   "execution_count": 35,
   "metadata": {},
   "outputs": [
    {
     "data": {
      "text/html": [
       "<div>\n",
       "<style scoped>\n",
       "    .dataframe tbody tr th:only-of-type {\n",
       "        vertical-align: middle;\n",
       "    }\n",
       "\n",
       "    .dataframe tbody tr th {\n",
       "        vertical-align: top;\n",
       "    }\n",
       "\n",
       "    .dataframe thead th {\n",
       "        text-align: right;\n",
       "    }\n",
       "</style>\n",
       "<table border=\"1\" class=\"dataframe\">\n",
       "  <thead>\n",
       "    <tr style=\"text-align: right;\">\n",
       "      <th></th>\n",
       "      <th>dist</th>\n",
       "    </tr>\n",
       "  </thead>\n",
       "  <tbody>\n",
       "    <tr>\n",
       "      <th>surtaxe_non</th>\n",
       "      <td>8.518658</td>\n",
       "    </tr>\n",
       "    <tr>\n",
       "      <th>surtaxe_oui</th>\n",
       "      <td>5.452737</td>\n",
       "    </tr>\n",
       "  </tbody>\n",
       "</table>\n",
       "</div>"
      ],
      "text/plain": [
       "                 dist\n",
       "surtaxe_non  8.518658\n",
       "surtaxe_oui  5.452737"
      ]
     },
     "execution_count": 35,
     "metadata": {},
     "output_type": "execute_result"
    }
   ],
   "source": [
    "var_qual_sup_infos[\"dist\"]"
   ]
  },
  {
   "cell_type": "code",
   "execution_count": 36,
   "metadata": {},
   "outputs": [
    {
     "data": {
      "text/html": [
       "<div>\n",
       "<style scoped>\n",
       "    .dataframe tbody tr th:only-of-type {\n",
       "        vertical-align: middle;\n",
       "    }\n",
       "\n",
       "    .dataframe tbody tr th {\n",
       "        vertical-align: top;\n",
       "    }\n",
       "\n",
       "    .dataframe thead th {\n",
       "        text-align: right;\n",
       "    }\n",
       "</style>\n",
       "<table border=\"1\" class=\"dataframe\">\n",
       "  <thead>\n",
       "    <tr style=\"text-align: right;\">\n",
       "      <th></th>\n",
       "      <th>Dim.1</th>\n",
       "      <th>Dim.2</th>\n",
       "      <th>Dim.3</th>\n",
       "      <th>Dim.4</th>\n",
       "      <th>Dim.5</th>\n",
       "      <th>Dim.6</th>\n",
       "      <th>Dim.7</th>\n",
       "      <th>Dim.8</th>\n",
       "      <th>Dim.9</th>\n",
       "    </tr>\n",
       "  </thead>\n",
       "  <tbody>\n",
       "    <tr>\n",
       "      <th>0</th>\n",
       "      <td>0.853386</td>\n",
       "      <td>0.000002</td>\n",
       "      <td>0.010692</td>\n",
       "      <td>0.009617</td>\n",
       "      <td>0.042325</td>\n",
       "      <td>0.003596</td>\n",
       "      <td>0.026566</td>\n",
       "      <td>0.049715</td>\n",
       "      <td>0.004101</td>\n",
       "    </tr>\n",
       "  </tbody>\n",
       "</table>\n",
       "</div>"
      ],
      "text/plain": [
       "      Dim.1     Dim.2     Dim.3     Dim.4     Dim.5     Dim.6     Dim.7  \\\n",
       "0  0.853386  0.000002  0.010692  0.009617  0.042325  0.003596  0.026566   \n",
       "\n",
       "      Dim.8     Dim.9  \n",
       "0  0.049715  0.004101  "
      ]
     },
     "execution_count": 36,
     "metadata": {},
     "output_type": "execute_result"
    }
   ],
   "source": [
    "var_qual_sup_infos[\"eta2\"]"
   ]
  },
  {
   "cell_type": "code",
   "execution_count": 37,
   "metadata": {},
   "outputs": [],
   "source": [
    "from scientisttools.pyplot import plotFAMD"
   ]
  },
  {
   "cell_type": "code",
   "execution_count": 38,
   "metadata": {},
   "outputs": [
    {
     "data": {
      "image/png": "[encoded data removed]",
      "text/plain": [
       "<Figure size 576x576 with 2 Axes>"
      ]
     },
     "metadata": {
      "needs_background": "light"
     },
     "output_type": "display_data"
    }
   ],
   "source": [
    "# \n",
    "fig, axe =plt.subplots(figsize=(8,8))\n",
    "plotFAMD(my_famd,choice =\"ind\",color=\"contrib\",xlim=(-7,6),ylim=(-5,3),repel=True)"
   ]
  },
  {
   "cell_type": "code",
   "execution_count": 39,
   "metadata": {},
   "outputs": [
    {
     "data": {
      "image/png": "[encoded data removed]",
      "text/plain": [
       "<Figure size 576x576 with 1 Axes>"
      ]
     },
     "metadata": {
      "needs_background": "light"
     },
     "output_type": "display_data"
    }
   ],
   "source": [
    "fig, axe =plt.subplots(figsize=(8,8))\n",
    "plotFAMD(my_famd,choice =\"col\",color=\"contrib\",epel=True)"
   ]
  },
  {
   "cell_type": "code",
   "execution_count": 40,
   "metadata": {},
   "outputs": [
    {
     "data": {
      "image/png": "[encoded data removed]",
      "text/plain": [
       "<Figure size 576x576 with 2 Axes>"
      ]
     },
     "metadata": {
      "needs_background": "light"
     },
     "output_type": "display_data"
    }
   ],
   "source": [
    "fig, axe =plt.subplots(figsize=(8,8))\n",
    "plotFAMD(my_famd,choice =\"mod\",color=\"contrib\",xlim=(-3,3),ylim=(-3.5,3),repel=True,short_labels=False)"
   ]
  },
  {
   "cell_type": "code",
   "execution_count": 41,
   "metadata": {},
   "outputs": [
    {
     "data": {
      "image/png": "[encoded data removed]",
      "text/plain": [
       "<Figure size 576x576 with 2 Axes>"
      ]
     },
     "metadata": {
      "needs_background": "light"
     },
     "output_type": "display_data"
    }
   ],
   "source": [
    "fig, axe =plt.subplots(figsize=(8,8))\n",
    "plotFAMD(my_famd,choice =\"var\",color=\"contrib\",repel=True)"
   ]
  },
  {
   "attachments": {},
   "cell_type": "markdown",
   "metadata": {},
   "source": [
    "##\n"
   ]
  },
  {
   "cell_type": "code",
   "execution_count": 42,
   "metadata": {},
   "outputs": [
    {
     "data": {
      "text/html": [
       "<div>\n",
       "<style scoped>\n",
       "    .dataframe tbody tr th:only-of-type {\n",
       "        vertical-align: middle;\n",
       "    }\n",
       "\n",
       "    .dataframe tbody tr th {\n",
       "        vertical-align: top;\n",
       "    }\n",
       "\n",
       "    .dataframe thead th {\n",
       "        text-align: right;\n",
       "    }\n",
       "</style>\n",
       "<table border=\"1\" class=\"dataframe\">\n",
       "  <thead>\n",
       "    <tr style=\"text-align: right;\">\n",
       "      <th></th>\n",
       "      <th>Taille</th>\n",
       "      <th>Lateralite</th>\n",
       "      <th>MainsRevers</th>\n",
       "      <th>Titres</th>\n",
       "      <th>Finales</th>\n",
       "      <th>TitresGC</th>\n",
       "      <th>RolandGarros</th>\n",
       "      <th>BestClassDouble</th>\n",
       "    </tr>\n",
       "    <tr>\n",
       "      <th>Joueur</th>\n",
       "      <th></th>\n",
       "      <th></th>\n",
       "      <th></th>\n",
       "      <th></th>\n",
       "      <th></th>\n",
       "      <th></th>\n",
       "      <th></th>\n",
       "      <th></th>\n",
       "    </tr>\n",
       "  </thead>\n",
       "  <tbody>\n",
       "    <tr>\n",
       "      <th>Agassi</th>\n",
       "      <td>180</td>\n",
       "      <td>droitier</td>\n",
       "      <td>deux</td>\n",
       "      <td>60</td>\n",
       "      <td>30</td>\n",
       "      <td>8</td>\n",
       "      <td>vainqueur</td>\n",
       "      <td>123</td>\n",
       "    </tr>\n",
       "    <tr>\n",
       "      <th>Becker</th>\n",
       "      <td>191</td>\n",
       "      <td>droitier</td>\n",
       "      <td>une</td>\n",
       "      <td>49</td>\n",
       "      <td>28</td>\n",
       "      <td>6</td>\n",
       "      <td>demi</td>\n",
       "      <td>6</td>\n",
       "    </tr>\n",
       "    <tr>\n",
       "      <th>Borg</th>\n",
       "      <td>180</td>\n",
       "      <td>droitier</td>\n",
       "      <td>deux</td>\n",
       "      <td>64</td>\n",
       "      <td>25</td>\n",
       "      <td>11</td>\n",
       "      <td>vainqueur</td>\n",
       "      <td>890</td>\n",
       "    </tr>\n",
       "    <tr>\n",
       "      <th>Connors</th>\n",
       "      <td>178</td>\n",
       "      <td>gaucher</td>\n",
       "      <td>deux</td>\n",
       "      <td>109</td>\n",
       "      <td>52</td>\n",
       "      <td>8</td>\n",
       "      <td>demi</td>\n",
       "      <td>370</td>\n",
       "    </tr>\n",
       "    <tr>\n",
       "      <th>Courier</th>\n",
       "      <td>185</td>\n",
       "      <td>droitier</td>\n",
       "      <td>deux</td>\n",
       "      <td>23</td>\n",
       "      <td>13</td>\n",
       "      <td>4</td>\n",
       "      <td>vainqueur</td>\n",
       "      <td>20</td>\n",
       "    </tr>\n",
       "    <tr>\n",
       "      <th>Djokovic</th>\n",
       "      <td>188</td>\n",
       "      <td>droitier</td>\n",
       "      <td>deux</td>\n",
       "      <td>79</td>\n",
       "      <td>34</td>\n",
       "      <td>17</td>\n",
       "      <td>vainqueur</td>\n",
       "      <td>114</td>\n",
       "    </tr>\n",
       "    <tr>\n",
       "      <th>Edberg</th>\n",
       "      <td>187</td>\n",
       "      <td>droitier</td>\n",
       "      <td>une</td>\n",
       "      <td>41</td>\n",
       "      <td>36</td>\n",
       "      <td>6</td>\n",
       "      <td>finale</td>\n",
       "      <td>1</td>\n",
       "    </tr>\n",
       "    <tr>\n",
       "      <th>Federer</th>\n",
       "      <td>185</td>\n",
       "      <td>droitier</td>\n",
       "      <td>une</td>\n",
       "      <td>103</td>\n",
       "      <td>54</td>\n",
       "      <td>20</td>\n",
       "      <td>vainqueur</td>\n",
       "      <td>24</td>\n",
       "    </tr>\n",
       "    <tr>\n",
       "      <th>Kafelnikov</th>\n",
       "      <td>190</td>\n",
       "      <td>droitier</td>\n",
       "      <td>deux</td>\n",
       "      <td>26</td>\n",
       "      <td>20</td>\n",
       "      <td>2</td>\n",
       "      <td>vainqueur</td>\n",
       "      <td>4</td>\n",
       "    </tr>\n",
       "    <tr>\n",
       "      <th>Kuerten</th>\n",
       "      <td>190</td>\n",
       "      <td>droitier</td>\n",
       "      <td>une</td>\n",
       "      <td>20</td>\n",
       "      <td>9</td>\n",
       "      <td>3</td>\n",
       "      <td>vainqueur</td>\n",
       "      <td>38</td>\n",
       "    </tr>\n",
       "    <tr>\n",
       "      <th>Lendl</th>\n",
       "      <td>187</td>\n",
       "      <td>droitier</td>\n",
       "      <td>une</td>\n",
       "      <td>94</td>\n",
       "      <td>50</td>\n",
       "      <td>8</td>\n",
       "      <td>vainqueur</td>\n",
       "      <td>20</td>\n",
       "    </tr>\n",
       "    <tr>\n",
       "      <th>McEnroe</th>\n",
       "      <td>180</td>\n",
       "      <td>gaucher</td>\n",
       "      <td>une</td>\n",
       "      <td>77</td>\n",
       "      <td>31</td>\n",
       "      <td>7</td>\n",
       "      <td>finale</td>\n",
       "      <td>1</td>\n",
       "    </tr>\n",
       "    <tr>\n",
       "      <th>Murray</th>\n",
       "      <td>191</td>\n",
       "      <td>droitier</td>\n",
       "      <td>deux</td>\n",
       "      <td>46</td>\n",
       "      <td>22</td>\n",
       "      <td>3</td>\n",
       "      <td>finale</td>\n",
       "      <td>51</td>\n",
       "    </tr>\n",
       "    <tr>\n",
       "      <th>Nadal</th>\n",
       "      <td>185</td>\n",
       "      <td>gaucher</td>\n",
       "      <td>deux</td>\n",
       "      <td>85</td>\n",
       "      <td>37</td>\n",
       "      <td>19</td>\n",
       "      <td>vainqueur</td>\n",
       "      <td>26</td>\n",
       "    </tr>\n",
       "    <tr>\n",
       "      <th>Nastase</th>\n",
       "      <td>180</td>\n",
       "      <td>droitier</td>\n",
       "      <td>une</td>\n",
       "      <td>58</td>\n",
       "      <td>38</td>\n",
       "      <td>2</td>\n",
       "      <td>vainqueur</td>\n",
       "      <td>59</td>\n",
       "    </tr>\n",
       "    <tr>\n",
       "      <th>Rafter</th>\n",
       "      <td>185</td>\n",
       "      <td>droitier</td>\n",
       "      <td>une</td>\n",
       "      <td>11</td>\n",
       "      <td>14</td>\n",
       "      <td>2</td>\n",
       "      <td>demi</td>\n",
       "      <td>6</td>\n",
       "    </tr>\n",
       "    <tr>\n",
       "      <th>Safin</th>\n",
       "      <td>193</td>\n",
       "      <td>droitier</td>\n",
       "      <td>deux</td>\n",
       "      <td>15</td>\n",
       "      <td>12</td>\n",
       "      <td>2</td>\n",
       "      <td>demi</td>\n",
       "      <td>71</td>\n",
       "    </tr>\n",
       "    <tr>\n",
       "      <th>Sampras</th>\n",
       "      <td>185</td>\n",
       "      <td>droitier</td>\n",
       "      <td>une</td>\n",
       "      <td>64</td>\n",
       "      <td>24</td>\n",
       "      <td>14</td>\n",
       "      <td>demi</td>\n",
       "      <td>27</td>\n",
       "    </tr>\n",
       "    <tr>\n",
       "      <th>Vilas</th>\n",
       "      <td>180</td>\n",
       "      <td>gaucher</td>\n",
       "      <td>une</td>\n",
       "      <td>62</td>\n",
       "      <td>40</td>\n",
       "      <td>4</td>\n",
       "      <td>vainqueur</td>\n",
       "      <td>175</td>\n",
       "    </tr>\n",
       "    <tr>\n",
       "      <th>Wilander</th>\n",
       "      <td>182</td>\n",
       "      <td>droitier</td>\n",
       "      <td>deux</td>\n",
       "      <td>33</td>\n",
       "      <td>27</td>\n",
       "      <td>7</td>\n",
       "      <td>vainqueur</td>\n",
       "      <td>3</td>\n",
       "    </tr>\n",
       "  </tbody>\n",
       "</table>\n",
       "</div>"
      ],
      "text/plain": [
       "            Taille Lateralite MainsRevers  Titres  Finales  TitresGC  \\\n",
       "Joueur                                                                 \n",
       "Agassi         180   droitier        deux      60       30         8   \n",
       "Becker         191   droitier         une      49       28         6   \n",
       "Borg           180   droitier        deux      64       25        11   \n",
       "Connors        178    gaucher        deux     109       52         8   \n",
       "Courier        185   droitier        deux      23       13         4   \n",
       "Djokovic       188   droitier        deux      79       34        17   \n",
       "Edberg         187   droitier         une      41       36         6   \n",
       "Federer        185   droitier         une     103       54        20   \n",
       "Kafelnikov     190   droitier        deux      26       20         2   \n",
       "Kuerten        190   droitier         une      20        9         3   \n",
       "Lendl          187   droitier         une      94       50         8   \n",
       "McEnroe        180    gaucher         une      77       31         7   \n",
       "Murray         191   droitier        deux      46       22         3   \n",
       "Nadal          185    gaucher        deux      85       37        19   \n",
       "Nastase        180   droitier         une      58       38         2   \n",
       "Rafter         185   droitier         une      11       14         2   \n",
       "Safin          193   droitier        deux      15       12         2   \n",
       "Sampras        185   droitier         une      64       24        14   \n",
       "Vilas          180    gaucher         une      62       40         4   \n",
       "Wilander       182   droitier        deux      33       27         7   \n",
       "\n",
       "           RolandGarros  BestClassDouble  \n",
       "Joueur                                    \n",
       "Agassi        vainqueur              123  \n",
       "Becker             demi                6  \n",
       "Borg          vainqueur              890  \n",
       "Connors            demi              370  \n",
       "Courier       vainqueur               20  \n",
       "Djokovic      vainqueur              114  \n",
       "Edberg           finale                1  \n",
       "Federer       vainqueur               24  \n",
       "Kafelnikov    vainqueur                4  \n",
       "Kuerten       vainqueur               38  \n",
       "Lendl         vainqueur               20  \n",
       "McEnroe          finale                1  \n",
       "Murray           finale               51  \n",
       "Nadal         vainqueur               26  \n",
       "Nastase       vainqueur               59  \n",
       "Rafter             demi                6  \n",
       "Safin              demi               71  \n",
       "Sampras            demi               27  \n",
       "Vilas         vainqueur              175  \n",
       "Wilander      vainqueur                3  "
      ]
     },
     "metadata": {},
     "output_type": "display_data"
    }
   ],
   "source": [
    "# \n",
    "D = pd.read_excel(\"Data_Methodes_Factorielles.xlsx\",sheet_name=\"AFDM_TENNIS\",index_col=0)\n",
    "display(D)"
   ]
  },
  {
   "cell_type": "code",
   "execution_count": 43,
   "metadata": {},
   "outputs": [
    {
     "data": {
      "text/html": [
       "<style>#sk-container-id-2 {color: black;background-color: white;}#sk-container-id-2 pre{padding: 0;}#sk-container-id-2 div.sk-toggleable {background-color: white;}#sk-container-id-2 label.sk-toggleable__label {cursor: pointer;display: block;width: 100%;margin-bottom: 0;padding: 0.3em;box-sizing: border-box;text-align: center;}#sk-container-id-2 label.sk-toggleable__label-arrow:before {content: \"▸\";float: left;margin-right: 0.25em;color: #696969;}#sk-container-id-2 label.sk-toggleable__label-arrow:hover:before {color: black;}#sk-container-id-2 div.sk-estimator:hover label.sk-toggleable__label-arrow:before {color: black;}#sk-container-id-2 div.sk-toggleable__content {max-height: 0;max-width: 0;overflow: hidden;text-align: left;background-color: #f0f8ff;}#sk-container-id-2 div.sk-toggleable__content pre {margin: 0.2em;color: black;border-radius: 0.25em;background-color: #f0f8ff;}#sk-container-id-2 input.sk-toggleable__control:checked~div.sk-toggleable__content {max-height: 200px;max-width: 100%;overflow: auto;}#sk-container-id-2 input.sk-toggleable__control:checked~label.sk-toggleable__label-arrow:before {content: \"▾\";}#sk-container-id-2 div.sk-estimator input.sk-toggleable__control:checked~label.sk-toggleable__label {background-color: #d4ebff;}#sk-container-id-2 div.sk-label input.sk-toggleable__control:checked~label.sk-toggleable__label {background-color: #d4ebff;}#sk-container-id-2 input.sk-hidden--visually {border: 0;clip: rect(1px 1px 1px 1px);clip: rect(1px, 1px, 1px, 1px);height: 1px;margin: -1px;overflow: hidden;padding: 0;position: absolute;width: 1px;}#sk-container-id-2 div.sk-estimator {font-family: monospace;background-color: #f0f8ff;border: 1px dotted black;border-radius: 0.25em;box-sizing: border-box;margin-bottom: 0.5em;}#sk-container-id-2 div.sk-estimator:hover {background-color: #d4ebff;}#sk-container-id-2 div.sk-parallel-item::after {content: \"\";width: 100%;border-bottom: 1px solid gray;flex-grow: 1;}#sk-container-id-2 div.sk-label:hover label.sk-toggleable__label {background-color: #d4ebff;}#sk-container-id-2 div.sk-serial::before {content: \"\";position: absolute;border-left: 1px solid gray;box-sizing: border-box;top: 0;bottom: 0;left: 50%;z-index: 0;}#sk-container-id-2 div.sk-serial {display: flex;flex-direction: column;align-items: center;background-color: white;padding-right: 0.2em;padding-left: 0.2em;position: relative;}#sk-container-id-2 div.sk-item {position: relative;z-index: 1;}#sk-container-id-2 div.sk-parallel {display: flex;align-items: stretch;justify-content: center;background-color: white;position: relative;}#sk-container-id-2 div.sk-item::before, #sk-container-id-2 div.sk-parallel-item::before {content: \"\";position: absolute;border-left: 1px solid gray;box-sizing: border-box;top: 0;bottom: 0;left: 50%;z-index: -1;}#sk-container-id-2 div.sk-parallel-item {display: flex;flex-direction: column;z-index: 1;position: relative;background-color: white;}#sk-container-id-2 div.sk-parallel-item:first-child::after {align-self: flex-end;width: 50%;}#sk-container-id-2 div.sk-parallel-item:last-child::after {align-self: flex-start;width: 50%;}#sk-container-id-2 div.sk-parallel-item:only-child::after {width: 0;}#sk-container-id-2 div.sk-dashed-wrapped {border: 1px dashed gray;margin: 0 0.4em 0.5em 0.4em;box-sizing: border-box;padding-bottom: 0.4em;background-color: white;}#sk-container-id-2 div.sk-label label {font-family: monospace;font-weight: bold;display: inline-block;line-height: 1.2em;}#sk-container-id-2 div.sk-label-container {text-align: center;}#sk-container-id-2 div.sk-container {/* jupyter's `normalize.less` sets `[hidden] { display: none; }` but bootstrap.min.css set `[hidden] { display: none !important; }` so we also need the `!important` here to be able to override the default hidden behavior on the sphinx rendered scikit-learn.org. See: https://github.com/scikit-learn/scikit-learn/issues/21755 */display: inline-block !important;position: relative;}#sk-container-id-2 div.sk-text-repr-fallback {display: none;}</style><div id=\"sk-container-id-2\" class=\"sk-top-container\"><div class=\"sk-text-repr-fallback\"><pre>FAMD(n_components=2, quali_labels=[&#x27;Lateralite&#x27;, &#x27;MainsRevers&#x27;, &#x27;RolandGarros&#x27;],\n",
       "     quanti_labels=[&#x27;Taille&#x27;, &#x27;Titres&#x27;, &#x27;Finales&#x27;, &#x27;TitresGC&#x27;,\n",
       "                    &#x27;BestClassDouble&#x27;],\n",
       "     row_labels=Index([&#x27;Agassi&#x27;, &#x27;Becker&#x27;, &#x27;Borg&#x27;, &#x27;Connors&#x27;, &#x27;Courier&#x27;, &#x27;Djokovic&#x27;, &#x27;Edberg&#x27;,\n",
       "       &#x27;Federer&#x27;, &#x27;Kafelnikov&#x27;, &#x27;Kuerten&#x27;, &#x27;Lendl&#x27;, &#x27;McEnroe&#x27;, &#x27;Murray&#x27;,\n",
       "       &#x27;Nadal&#x27;, &#x27;Nastase&#x27;, &#x27;Rafter&#x27;, &#x27;Safin&#x27;, &#x27;Sampras&#x27;, &#x27;Vilas&#x27;, &#x27;Wilander&#x27;],\n",
       "      dtype=&#x27;object&#x27;, name=&#x27;Joueur&#x27;))</pre><b>In a Jupyter environment, please rerun this cell to show the HTML representation or trust the notebook. <br />On GitHub, the HTML representation is unable to render, please try loading this page with nbviewer.org.</b></div><div class=\"sk-container\" hidden><div class=\"sk-item\"><div class=\"sk-estimator sk-toggleable\"><input class=\"sk-toggleable__control sk-hidden--visually\" id=\"sk-estimator-id-2\" type=\"checkbox\" checked><label for=\"sk-estimator-id-2\" class=\"sk-toggleable__label sk-toggleable__label-arrow\">FAMD</label><div class=\"sk-toggleable__content\"><pre>FAMD(n_components=2, quali_labels=[&#x27;Lateralite&#x27;, &#x27;MainsRevers&#x27;, &#x27;RolandGarros&#x27;],\n",
       "     quanti_labels=[&#x27;Taille&#x27;, &#x27;Titres&#x27;, &#x27;Finales&#x27;, &#x27;TitresGC&#x27;,\n",
       "                    &#x27;BestClassDouble&#x27;],\n",
       "     row_labels=Index([&#x27;Agassi&#x27;, &#x27;Becker&#x27;, &#x27;Borg&#x27;, &#x27;Connors&#x27;, &#x27;Courier&#x27;, &#x27;Djokovic&#x27;, &#x27;Edberg&#x27;,\n",
       "       &#x27;Federer&#x27;, &#x27;Kafelnikov&#x27;, &#x27;Kuerten&#x27;, &#x27;Lendl&#x27;, &#x27;McEnroe&#x27;, &#x27;Murray&#x27;,\n",
       "       &#x27;Nadal&#x27;, &#x27;Nastase&#x27;, &#x27;Rafter&#x27;, &#x27;Safin&#x27;, &#x27;Sampras&#x27;, &#x27;Vilas&#x27;, &#x27;Wilander&#x27;],\n",
       "      dtype=&#x27;object&#x27;, name=&#x27;Joueur&#x27;))</pre></div></div></div></div></div>"
      ],
      "text/plain": [
       "FAMD(n_components=2, quali_labels=['Lateralite', 'MainsRevers', 'RolandGarros'],\n",
       "     quanti_labels=['Taille', 'Titres', 'Finales', 'TitresGC',\n",
       "                    'BestClassDouble'],\n",
       "     row_labels=Index(['Agassi', 'Becker', 'Borg', 'Connors', 'Courier', 'Djokovic', 'Edberg',\n",
       "       'Federer', 'Kafelnikov', 'Kuerten', 'Lendl', 'McEnroe', 'Murray',\n",
       "       'Nadal', 'Nastase', 'Rafter', 'Safin', 'Sampras', 'Vilas', 'Wilander'],\n",
       "      dtype='object', name='Joueur'))"
      ]
     },
     "execution_count": 43,
     "metadata": {},
     "output_type": "execute_result"
    }
   ],
   "source": [
    "quali_labels = list(D.select_dtypes(include=[\"object\"]))\n",
    "quanti_labels = list(D.select_dtypes(include=np.number))\n",
    "my_famd2 = FAMD(normalize=True,\n",
    "               n_components=2,\n",
    "               row_labels= D.index,\n",
    "               quanti_labels= quanti_labels,\n",
    "               quali_labels=quali_labels,\n",
    "               row_sup_labels=None,\n",
    "               quanti_sup_labels=None,\n",
    "               quali_sup_labels=None)\n",
    "my_famd2.fit(D)"
   ]
  },
  {
   "cell_type": "code",
   "execution_count": 44,
   "metadata": {},
   "outputs": [
    {
     "data": {
      "text/html": [
       "<div>\n",
       "<style scoped>\n",
       "    .dataframe tbody tr th:only-of-type {\n",
       "        vertical-align: middle;\n",
       "    }\n",
       "\n",
       "    .dataframe tbody tr th {\n",
       "        vertical-align: top;\n",
       "    }\n",
       "\n",
       "    .dataframe thead th {\n",
       "        text-align: right;\n",
       "    }\n",
       "</style>\n",
       "<table border=\"1\" class=\"dataframe\">\n",
       "  <thead>\n",
       "    <tr style=\"text-align: right;\">\n",
       "      <th></th>\n",
       "      <th>eigenvalue</th>\n",
       "      <th>difference</th>\n",
       "      <th>proportion</th>\n",
       "      <th>cumulative</th>\n",
       "    </tr>\n",
       "  </thead>\n",
       "  <tbody>\n",
       "    <tr>\n",
       "      <th>Dim.1</th>\n",
       "      <td>3.100885</td>\n",
       "      <td>1.574654</td>\n",
       "      <td>34.454279</td>\n",
       "      <td>34.454279</td>\n",
       "    </tr>\n",
       "    <tr>\n",
       "      <th>Dim.2</th>\n",
       "      <td>1.526231</td>\n",
       "      <td>0.348425</td>\n",
       "      <td>16.958125</td>\n",
       "      <td>51.412404</td>\n",
       "    </tr>\n",
       "  </tbody>\n",
       "</table>\n",
       "</div>"
      ],
      "text/plain": [
       "       eigenvalue  difference  proportion  cumulative\n",
       "Dim.1    3.100885    1.574654   34.454279   34.454279\n",
       "Dim.2    1.526231    0.348425   16.958125   51.412404"
      ]
     },
     "execution_count": 44,
     "metadata": {},
     "output_type": "execute_result"
    }
   ],
   "source": [
    "get_eig(my_famd2)"
   ]
  },
  {
   "cell_type": "code",
   "execution_count": 45,
   "metadata": {},
   "outputs": [
    {
     "data": {
      "text/html": [
       "<div>\n",
       "<style scoped>\n",
       "    .dataframe tbody tr th:only-of-type {\n",
       "        vertical-align: middle;\n",
       "    }\n",
       "\n",
       "    .dataframe tbody tr th {\n",
       "        vertical-align: top;\n",
       "    }\n",
       "\n",
       "    .dataframe thead th {\n",
       "        text-align: right;\n",
       "    }\n",
       "</style>\n",
       "<table border=\"1\" class=\"dataframe\">\n",
       "  <thead>\n",
       "    <tr style=\"text-align: right;\">\n",
       "      <th></th>\n",
       "      <th>Dim.1</th>\n",
       "      <th>Dim.2</th>\n",
       "    </tr>\n",
       "  </thead>\n",
       "  <tbody>\n",
       "    <tr>\n",
       "      <th>0</th>\n",
       "      <td>-0.525858</td>\n",
       "      <td>1.206655</td>\n",
       "    </tr>\n",
       "    <tr>\n",
       "      <th>1</th>\n",
       "      <td>1.319872</td>\n",
       "      <td>-1.089276</td>\n",
       "    </tr>\n",
       "    <tr>\n",
       "      <th>2</th>\n",
       "      <td>-1.428784</td>\n",
       "      <td>3.374996</td>\n",
       "    </tr>\n",
       "    <tr>\n",
       "      <th>3</th>\n",
       "      <td>-3.219605</td>\n",
       "      <td>0.426121</td>\n",
       "    </tr>\n",
       "    <tr>\n",
       "      <th>4</th>\n",
       "      <td>1.634467</td>\n",
       "      <td>1.203651</td>\n",
       "    </tr>\n",
       "    <tr>\n",
       "      <th>5</th>\n",
       "      <td>-0.926075</td>\n",
       "      <td>0.894837</td>\n",
       "    </tr>\n",
       "    <tr>\n",
       "      <th>6</th>\n",
       "      <td>0.705409</td>\n",
       "      <td>-1.923419</td>\n",
       "    </tr>\n",
       "    <tr>\n",
       "      <th>7</th>\n",
       "      <td>-2.523321</td>\n",
       "      <td>-0.921028</td>\n",
       "    </tr>\n",
       "    <tr>\n",
       "      <th>8</th>\n",
       "      <td>1.908150</td>\n",
       "      <td>0.863067</td>\n",
       "    </tr>\n",
       "    <tr>\n",
       "      <th>9</th>\n",
       "      <td>2.320907</td>\n",
       "      <td>-0.046681</td>\n",
       "    </tr>\n",
       "    <tr>\n",
       "      <th>10</th>\n",
       "      <td>-1.203975</td>\n",
       "      <td>-0.995449</td>\n",
       "    </tr>\n",
       "    <tr>\n",
       "      <th>11</th>\n",
       "      <td>-1.309486</td>\n",
       "      <td>-2.183572</td>\n",
       "    </tr>\n",
       "    <tr>\n",
       "      <th>12</th>\n",
       "      <td>1.666955</td>\n",
       "      <td>-0.468253</td>\n",
       "    </tr>\n",
       "    <tr>\n",
       "      <th>13</th>\n",
       "      <td>-2.310127</td>\n",
       "      <td>0.272910</td>\n",
       "    </tr>\n",
       "    <tr>\n",
       "      <th>14</th>\n",
       "      <td>-0.330978</td>\n",
       "      <td>-0.390282</td>\n",
       "    </tr>\n",
       "    <tr>\n",
       "      <th>15</th>\n",
       "      <td>2.299974</td>\n",
       "      <td>-0.554296</td>\n",
       "    </tr>\n",
       "    <tr>\n",
       "      <th>16</th>\n",
       "      <td>2.956045</td>\n",
       "      <td>0.646802</td>\n",
       "    </tr>\n",
       "    <tr>\n",
       "      <th>17</th>\n",
       "      <td>0.094794</td>\n",
       "      <td>-0.775960</td>\n",
       "    </tr>\n",
       "    <tr>\n",
       "      <th>18</th>\n",
       "      <td>-1.590679</td>\n",
       "      <td>-0.521215</td>\n",
       "    </tr>\n",
       "    <tr>\n",
       "      <th>19</th>\n",
       "      <td>0.462317</td>\n",
       "      <td>0.980390</td>\n",
       "    </tr>\n",
       "  </tbody>\n",
       "</table>\n",
       "</div>"
      ],
      "text/plain": [
       "       Dim.1     Dim.2\n",
       "0  -0.525858  1.206655\n",
       "1   1.319872 -1.089276\n",
       "2  -1.428784  3.374996\n",
       "3  -3.219605  0.426121\n",
       "4   1.634467  1.203651\n",
       "5  -0.926075  0.894837\n",
       "6   0.705409 -1.923419\n",
       "7  -2.523321 -0.921028\n",
       "8   1.908150  0.863067\n",
       "9   2.320907 -0.046681\n",
       "10 -1.203975 -0.995449\n",
       "11 -1.309486 -2.183572\n",
       "12  1.666955 -0.468253\n",
       "13 -2.310127  0.272910\n",
       "14 -0.330978 -0.390282\n",
       "15  2.299974 -0.554296\n",
       "16  2.956045  0.646802\n",
       "17  0.094794 -0.775960\n",
       "18 -1.590679 -0.521215\n",
       "19  0.462317  0.980390"
      ]
     },
     "execution_count": 45,
     "metadata": {},
     "output_type": "execute_result"
    }
   ],
   "source": [
    "pd.DataFrame(my_famd2.row_coord_,columns=my_famd2.dim_index_)"
   ]
  },
  {
   "cell_type": "code",
   "execution_count": 46,
   "metadata": {},
   "outputs": [
    {
     "data": {
      "text/html": [
       "<div>\n",
       "<style scoped>\n",
       "    .dataframe tbody tr th:only-of-type {\n",
       "        vertical-align: middle;\n",
       "    }\n",
       "\n",
       "    .dataframe tbody tr th {\n",
       "        vertical-align: top;\n",
       "    }\n",
       "\n",
       "    .dataframe thead th {\n",
       "        text-align: right;\n",
       "    }\n",
       "</style>\n",
       "<table border=\"1\" class=\"dataframe\">\n",
       "  <thead>\n",
       "    <tr style=\"text-align: right;\">\n",
       "      <th></th>\n",
       "      <th>0</th>\n",
       "      <th>1</th>\n",
       "      <th>2</th>\n",
       "    </tr>\n",
       "    <tr>\n",
       "      <th>Joueur</th>\n",
       "      <th></th>\n",
       "      <th></th>\n",
       "      <th></th>\n",
       "    </tr>\n",
       "  </thead>\n",
       "  <tbody>\n",
       "    <tr>\n",
       "      <th>Agassi</th>\n",
       "      <td>1.816841</td>\n",
       "      <td>0.05</td>\n",
       "      <td>0.165046</td>\n",
       "    </tr>\n",
       "    <tr>\n",
       "      <th>Becker</th>\n",
       "      <td>2.539517</td>\n",
       "      <td>0.05</td>\n",
       "      <td>0.322457</td>\n",
       "    </tr>\n",
       "    <tr>\n",
       "      <th>Borg</th>\n",
       "      <td>4.409229</td>\n",
       "      <td>0.05</td>\n",
       "      <td>0.972065</td>\n",
       "    </tr>\n",
       "    <tr>\n",
       "      <th>Connors</th>\n",
       "      <td>4.345099</td>\n",
       "      <td>0.05</td>\n",
       "      <td>0.943994</td>\n",
       "    </tr>\n",
       "    <tr>\n",
       "      <th>Courier</th>\n",
       "      <td>2.358551</td>\n",
       "      <td>0.05</td>\n",
       "      <td>0.278138</td>\n",
       "    </tr>\n",
       "    <tr>\n",
       "      <th>Djokovic</th>\n",
       "      <td>2.431828</td>\n",
       "      <td>0.05</td>\n",
       "      <td>0.295689</td>\n",
       "    </tr>\n",
       "    <tr>\n",
       "      <th>Edberg</th>\n",
       "      <td>2.819990</td>\n",
       "      <td>0.05</td>\n",
       "      <td>0.397617</td>\n",
       "    </tr>\n",
       "    <tr>\n",
       "      <th>Federer</th>\n",
       "      <td>3.638408</td>\n",
       "      <td>0.05</td>\n",
       "      <td>0.661901</td>\n",
       "    </tr>\n",
       "    <tr>\n",
       "      <th>Kafelnikov</th>\n",
       "      <td>2.470996</td>\n",
       "      <td>0.05</td>\n",
       "      <td>0.305291</td>\n",
       "    </tr>\n",
       "    <tr>\n",
       "      <th>Kuerten</th>\n",
       "      <td>2.859914</td>\n",
       "      <td>0.05</td>\n",
       "      <td>0.408956</td>\n",
       "    </tr>\n",
       "    <tr>\n",
       "      <th>Lendl</th>\n",
       "      <td>2.557003</td>\n",
       "      <td>0.05</td>\n",
       "      <td>0.326913</td>\n",
       "    </tr>\n",
       "    <tr>\n",
       "      <th>McEnroe</th>\n",
       "      <td>3.582240</td>\n",
       "      <td>0.05</td>\n",
       "      <td>0.641622</td>\n",
       "    </tr>\n",
       "    <tr>\n",
       "      <th>Murray</th>\n",
       "      <td>3.157583</td>\n",
       "      <td>0.05</td>\n",
       "      <td>0.498517</td>\n",
       "    </tr>\n",
       "    <tr>\n",
       "      <th>Nadal</th>\n",
       "      <td>3.359205</td>\n",
       "      <td>0.05</td>\n",
       "      <td>0.564213</td>\n",
       "    </tr>\n",
       "    <tr>\n",
       "      <th>Nastase</th>\n",
       "      <td>2.179101</td>\n",
       "      <td>0.05</td>\n",
       "      <td>0.237424</td>\n",
       "    </tr>\n",
       "    <tr>\n",
       "      <th>Rafter</th>\n",
       "      <td>3.081895</td>\n",
       "      <td>0.05</td>\n",
       "      <td>0.474904</td>\n",
       "    </tr>\n",
       "    <tr>\n",
       "      <th>Safin</th>\n",
       "      <td>3.538074</td>\n",
       "      <td>0.05</td>\n",
       "      <td>0.625899</td>\n",
       "    </tr>\n",
       "    <tr>\n",
       "      <th>Sampras</th>\n",
       "      <td>2.442460</td>\n",
       "      <td>0.05</td>\n",
       "      <td>0.298281</td>\n",
       "    </tr>\n",
       "    <tr>\n",
       "      <th>Vilas</th>\n",
       "      <td>2.873644</td>\n",
       "      <td>0.05</td>\n",
       "      <td>0.412891</td>\n",
       "    </tr>\n",
       "    <tr>\n",
       "      <th>Wilander</th>\n",
       "      <td>1.834025</td>\n",
       "      <td>0.05</td>\n",
       "      <td>0.168182</td>\n",
       "    </tr>\n",
       "  </tbody>\n",
       "</table>\n",
       "</div>"
      ],
      "text/plain": [
       "                   0     1         2\n",
       "Joueur                              \n",
       "Agassi      1.816841  0.05  0.165046\n",
       "Becker      2.539517  0.05  0.322457\n",
       "Borg        4.409229  0.05  0.972065\n",
       "Connors     4.345099  0.05  0.943994\n",
       "Courier     2.358551  0.05  0.278138\n",
       "Djokovic    2.431828  0.05  0.295689\n",
       "Edberg      2.819990  0.05  0.397617\n",
       "Federer     3.638408  0.05  0.661901\n",
       "Kafelnikov  2.470996  0.05  0.305291\n",
       "Kuerten     2.859914  0.05  0.408956\n",
       "Lendl       2.557003  0.05  0.326913\n",
       "McEnroe     3.582240  0.05  0.641622\n",
       "Murray      3.157583  0.05  0.498517\n",
       "Nadal       3.359205  0.05  0.564213\n",
       "Nastase     2.179101  0.05  0.237424\n",
       "Rafter      3.081895  0.05  0.474904\n",
       "Safin       3.538074  0.05  0.625899\n",
       "Sampras     2.442460  0.05  0.298281\n",
       "Vilas       2.873644  0.05  0.412891\n",
       "Wilander    1.834025  0.05  0.168182"
      ]
     },
     "execution_count": 46,
     "metadata": {},
     "output_type": "execute_result"
    }
   ],
   "source": [
    "pd.DataFrame(my_famd2.row_infos_,index=D.index)"
   ]
  },
  {
   "cell_type": "code",
   "execution_count": 47,
   "metadata": {},
   "outputs": [
    {
     "data": {
      "text/html": [
       "<div>\n",
       "<style scoped>\n",
       "    .dataframe tbody tr th:only-of-type {\n",
       "        vertical-align: middle;\n",
       "    }\n",
       "\n",
       "    .dataframe tbody tr th {\n",
       "        vertical-align: top;\n",
       "    }\n",
       "\n",
       "    .dataframe thead th {\n",
       "        text-align: right;\n",
       "    }\n",
       "</style>\n",
       "<table border=\"1\" class=\"dataframe\">\n",
       "  <thead>\n",
       "    <tr style=\"text-align: right;\">\n",
       "      <th></th>\n",
       "      <th>Dim.1</th>\n",
       "      <th>Dim.2</th>\n",
       "    </tr>\n",
       "  </thead>\n",
       "  <tbody>\n",
       "    <tr>\n",
       "      <th>0</th>\n",
       "      <td>0.685398</td>\n",
       "      <td>-0.152959</td>\n",
       "    </tr>\n",
       "    <tr>\n",
       "      <th>1</th>\n",
       "      <td>-0.933778</td>\n",
       "      <td>-0.143072</td>\n",
       "    </tr>\n",
       "    <tr>\n",
       "      <th>2</th>\n",
       "      <td>-0.859790</td>\n",
       "      <td>-0.282608</td>\n",
       "    </tr>\n",
       "    <tr>\n",
       "      <th>3</th>\n",
       "      <td>-0.671014</td>\n",
       "      <td>0.066300</td>\n",
       "    </tr>\n",
       "    <tr>\n",
       "      <th>4</th>\n",
       "      <td>-0.373610</td>\n",
       "      <td>0.664545</td>\n",
       "    </tr>\n",
       "  </tbody>\n",
       "</table>\n",
       "</div>"
      ],
      "text/plain": [
       "      Dim.1     Dim.2\n",
       "0  0.685398 -0.152959\n",
       "1 -0.933778 -0.143072\n",
       "2 -0.859790 -0.282608\n",
       "3 -0.671014  0.066300\n",
       "4 -0.373610  0.664545"
      ]
     },
     "execution_count": 47,
     "metadata": {},
     "output_type": "execute_result"
    }
   ],
   "source": [
    "pd.DataFrame(my_famd2.col_coord_,columns=my_famd2.dim_index_)"
   ]
  },
  {
   "cell_type": "code",
   "execution_count": 48,
   "metadata": {},
   "outputs": [
    {
     "data": {
      "text/html": [
       "<div>\n",
       "<style scoped>\n",
       "    .dataframe tbody tr th:only-of-type {\n",
       "        vertical-align: middle;\n",
       "    }\n",
       "\n",
       "    .dataframe tbody tr th {\n",
       "        vertical-align: top;\n",
       "    }\n",
       "\n",
       "    .dataframe thead th {\n",
       "        text-align: right;\n",
       "    }\n",
       "</style>\n",
       "<table border=\"1\" class=\"dataframe\">\n",
       "  <thead>\n",
       "    <tr style=\"text-align: right;\">\n",
       "      <th></th>\n",
       "      <th>Dim.1</th>\n",
       "      <th>Dim.2</th>\n",
       "    </tr>\n",
       "  </thead>\n",
       "  <tbody>\n",
       "    <tr>\n",
       "      <th>0</th>\n",
       "      <td>0.526869</td>\n",
       "      <td>0.125360</td>\n",
       "    </tr>\n",
       "    <tr>\n",
       "      <th>1</th>\n",
       "      <td>-2.107474</td>\n",
       "      <td>-0.501439</td>\n",
       "    </tr>\n",
       "    <tr>\n",
       "      <th>2</th>\n",
       "      <td>0.021748</td>\n",
       "      <td>0.940118</td>\n",
       "    </tr>\n",
       "    <tr>\n",
       "      <th>3</th>\n",
       "      <td>-0.021748</td>\n",
       "      <td>-0.940118</td>\n",
       "    </tr>\n",
       "    <tr>\n",
       "      <th>4</th>\n",
       "      <td>0.690216</td>\n",
       "      <td>-0.269322</td>\n",
       "    </tr>\n",
       "    <tr>\n",
       "      <th>5</th>\n",
       "      <td>0.354293</td>\n",
       "      <td>-1.525081</td>\n",
       "    </tr>\n",
       "    <tr>\n",
       "      <th>6</th>\n",
       "      <td>-0.376163</td>\n",
       "      <td>0.493488</td>\n",
       "    </tr>\n",
       "  </tbody>\n",
       "</table>\n",
       "</div>"
      ],
      "text/plain": [
       "      Dim.1     Dim.2\n",
       "0  0.526869  0.125360\n",
       "1 -2.107474 -0.501439\n",
       "2  0.021748  0.940118\n",
       "3 -0.021748 -0.940118\n",
       "4  0.690216 -0.269322\n",
       "5  0.354293 -1.525081\n",
       "6 -0.376163  0.493488"
      ]
     },
     "execution_count": 48,
     "metadata": {},
     "output_type": "execute_result"
    }
   ],
   "source": [
    "pd.DataFrame(my_famd2.mod_coord_,columns=my_famd2.dim_index_)"
   ]
  },
  {
   "cell_type": "code",
   "execution_count": 49,
   "metadata": {},
   "outputs": [],
   "source": [
    "from scientisttools.extractfactor import summaryFAMD"
   ]
  },
  {
   "cell_type": "code",
   "execution_count": 50,
   "metadata": {},
   "outputs": [
    {
     "name": "stdout",
     "output_type": "stream",
     "text": [
      "                     Factor Analysis of Mixed Data - Results                     \n",
      "\n",
      "Importance of components\n",
      "|                         |   Dim.1 |   Dim.2 |\n",
      "|:------------------------|--------:|--------:|\n",
      "| Variance                |   3.101 |   1.526 |\n",
      "| Difference              |   1.575 |   0.348 |\n",
      "| % of var.               |  34.454 |  16.958 |\n",
      "| Cumulative of % of var. |  34.454 |  51.412 |\n",
      "\n",
      "Individuals (the 10 first)\n",
      "\n",
      "| Joueur     |   d(i,G) |   p(i) |   I(i,G) |   Dim.1 |    ctr |   cos2 |   Dim.2 |    ctr |   cos2 |\n",
      "|:-----------|---------:|-------:|---------:|--------:|-------:|-------:|--------:|-------:|-------:|\n",
      "| Agassi     |    1.817 |   0.05 |    0.165 |  -0.526 |  0.446 |  0.084 |   1.207 |  4.77  |  0.441 |\n",
      "| Becker     |    2.54  |   0.05 |    0.322 |   1.32  |  2.809 |  0.27  |  -1.089 |  3.887 |  0.184 |\n",
      "| Borg       |    4.409 |   0.05 |    0.972 |  -1.429 |  3.292 |  0.105 |   3.375 | 37.316 |  0.586 |\n",
      "| Connors    |    4.345 |   0.05 |    0.944 |  -3.22  | 16.714 |  0.549 |   0.426 |  0.595 |  0.01  |\n",
      "| Courier    |    2.359 |   0.05 |    0.278 |   1.634 |  4.308 |  0.48  |   1.204 |  4.746 |  0.26  |\n",
      "| Djokovic   |    2.432 |   0.05 |    0.296 |  -0.926 |  1.383 |  0.145 |   0.895 |  2.623 |  0.135 |\n",
      "| Edberg     |    2.82  |   0.05 |    0.398 |   0.705 |  0.802 |  0.063 |  -1.923 | 12.12  |  0.465 |\n",
      "| Federer    |    3.638 |   0.05 |    0.662 |  -2.523 | 10.267 |  0.481 |  -0.921 |  2.779 |  0.064 |\n",
      "| Kafelnikov |    2.471 |   0.05 |    0.305 |   1.908 |  5.871 |  0.596 |   0.863 |  2.44  |  0.122 |\n",
      "| Kuerten    |    2.86  |   0.05 |    0.409 |   2.321 |  8.686 |  0.659 |  -0.047 |  0.007 |  0     |\n",
      "\n",
      "Continuous variables\n",
      "\n",
      "|                 |   Dim.1 |    ctr |   cos2 |   Dim.2 |    ctr |   cos2 |\n",
      "|:----------------|--------:|-------:|-------:|--------:|-------:|-------:|\n",
      "| Taille          |   0.685 | 15.15  |  0.47  |  -0.153 |  1.533 |  0.023 |\n",
      "| Titres          |  -0.934 | 28.119 |  0.872 |  -0.143 |  1.341 |  0.02  |\n",
      "| Finales         |  -0.86  | 23.84  |  0.739 |  -0.283 |  5.233 |  0.08  |\n",
      "| TitresGC        |  -0.671 | 14.52  |  0.45  |   0.066 |  0.288 |  0.004 |\n",
      "| BestClassDouble |  -0.374 |  4.501 |  0.14  |   0.665 | 28.935 |  0.442 |\n",
      "\n",
      "Categories\n",
      "\n",
      "|                        |   d(k,G) |   p(k) |   I(k,G) |   Dim.1 |   ctr |   cos2 |   vtest |   Dim.2 |    ctr |   cos2 |   vtest |\n",
      "|:-----------------------|---------:|-------:|---------:|--------:|------:|-------:|--------:|--------:|-------:|-------:|--------:|\n",
      "| Lateralite_droitier    |    0.5   |  0.114 |    0.029 |   0.527 | 2.31  |  1.11  |   2.608 |   0.125 |  0.54  |  0.063 |   0.885 |\n",
      "| Lateralite_gaucher     |    2     |  0.029 |    0.114 |  -2.107 | 9.238 |  1.11  |  -2.608 |  -0.501 |  2.159 |  0.063 |  -0.885 |\n",
      "| MainsRevers_deux       |    1     |  0.071 |    0.071 |   0.022 | 0.002 |  0     |   0.054 |   0.94  | 18.971 |  0.884 |   3.317 |\n",
      "| MainsRevers_une        |    1     |  0.071 |    0.071 |  -0.022 | 0.002 |  0     |  -0.054 |  -0.94  | 18.971 |  0.884 |  -3.317 |\n",
      "| RolandGarros_demi      |    1.732 |  0.036 |    0.107 |   0.69  | 1.239 |  0.159 |   0.986 |  -0.269 |  0.778 |  0.024 |  -0.549 |\n",
      "| RolandGarros_finale    |    2.38  |  0.021 |    0.121 |   0.354 | 0.196 |  0.022 |   0.368 |  -1.525 | 14.977 |  0.41  |  -2.26  |\n",
      "| RolandGarros_vainqueur |    0.816 |  0.086 |    0.057 |  -0.376 | 0.883 |  0.212 |  -1.14  |   0.493 |  6.273 |  0.365 |   2.132 |\n",
      "\n",
      "Categorical variables\n",
      "\n",
      "|              |   eta2.1 |   cos2.1 |   eta2.2 |   cos2.2 |\n",
      "|:-------------|---------:|---------:|---------:|---------:|\n",
      "| Lateralite   |    0.358 |    0.358 |    0.041 |    0.041 |\n",
      "| MainsRevers  |    0     |    0     |    0.579 |    0.579 |\n",
      "| RolandGarros |    0.072 |    0.036 |    0.336 |    0.168 |\n"
     ]
    }
   ],
   "source": [
    "summaryFAMD(my_famd2,to_markdown=True)"
   ]
  },
  {
   "cell_type": "code",
   "execution_count": 51,
   "metadata": {},
   "outputs": [
    {
     "data": {
      "text/plain": [
       "dict_keys(['coord', 'cos2', 'contrib', 'infos'])"
      ]
     },
     "execution_count": 51,
     "metadata": {},
     "output_type": "execute_result"
    }
   ],
   "source": [
    "row = get_famd_ind(my_famd2)\n",
    "row.keys()"
   ]
  },
  {
   "cell_type": "code",
   "execution_count": 52,
   "metadata": {},
   "outputs": [
    {
     "data": {
      "text/html": [
       "<div>\n",
       "<style scoped>\n",
       "    .dataframe tbody tr th:only-of-type {\n",
       "        vertical-align: middle;\n",
       "    }\n",
       "\n",
       "    .dataframe tbody tr th {\n",
       "        vertical-align: top;\n",
       "    }\n",
       "\n",
       "    .dataframe thead th {\n",
       "        text-align: right;\n",
       "    }\n",
       "</style>\n",
       "<table border=\"1\" class=\"dataframe\">\n",
       "  <thead>\n",
       "    <tr style=\"text-align: right;\">\n",
       "      <th></th>\n",
       "      <th>Dim.1</th>\n",
       "      <th>Dim.2</th>\n",
       "    </tr>\n",
       "    <tr>\n",
       "      <th>Joueur</th>\n",
       "      <th></th>\n",
       "      <th></th>\n",
       "    </tr>\n",
       "  </thead>\n",
       "  <tbody>\n",
       "    <tr>\n",
       "      <th>Agassi</th>\n",
       "      <td>-0.525858</td>\n",
       "      <td>1.206655</td>\n",
       "    </tr>\n",
       "    <tr>\n",
       "      <th>Becker</th>\n",
       "      <td>1.319872</td>\n",
       "      <td>-1.089276</td>\n",
       "    </tr>\n",
       "    <tr>\n",
       "      <th>Borg</th>\n",
       "      <td>-1.428784</td>\n",
       "      <td>3.374996</td>\n",
       "    </tr>\n",
       "    <tr>\n",
       "      <th>Connors</th>\n",
       "      <td>-3.219605</td>\n",
       "      <td>0.426121</td>\n",
       "    </tr>\n",
       "    <tr>\n",
       "      <th>Courier</th>\n",
       "      <td>1.634467</td>\n",
       "      <td>1.203651</td>\n",
       "    </tr>\n",
       "    <tr>\n",
       "      <th>Djokovic</th>\n",
       "      <td>-0.926075</td>\n",
       "      <td>0.894837</td>\n",
       "    </tr>\n",
       "  </tbody>\n",
       "</table>\n",
       "</div>"
      ],
      "text/plain": [
       "             Dim.1     Dim.2\n",
       "Joueur                      \n",
       "Agassi   -0.525858  1.206655\n",
       "Becker    1.319872 -1.089276\n",
       "Borg     -1.428784  3.374996\n",
       "Connors  -3.219605  0.426121\n",
       "Courier   1.634467  1.203651\n",
       "Djokovic -0.926075  0.894837"
      ]
     },
     "execution_count": 52,
     "metadata": {},
     "output_type": "execute_result"
    }
   ],
   "source": [
    "row_coord = row[\"coord\"]\n",
    "row_coord >> head(6)"
   ]
  },
  {
   "cell_type": "code",
   "execution_count": 53,
   "metadata": {},
   "outputs": [
    {
     "data": {
      "image/png": "[encoded data removed]",
      "text/plain": [
       "<Figure size 720x720 with 1 Axes>"
      ]
     },
     "metadata": {
      "needs_background": "light"
     },
     "output_type": "display_data"
    }
   ],
   "source": [
    "fig,axe = plt.subplots(figsize=(10,10))\n",
    "plotFAMD(my_famd2,choice=\"ind\",xlim=(-4,4),ylim=(-4,4),repel=True,ax=axe)"
   ]
  },
  {
   "cell_type": "code",
   "execution_count": 54,
   "metadata": {},
   "outputs": [
    {
     "data": {
      "text/html": [
       "<div>\n",
       "<style scoped>\n",
       "    .dataframe tbody tr th:only-of-type {\n",
       "        vertical-align: middle;\n",
       "    }\n",
       "\n",
       "    .dataframe tbody tr th {\n",
       "        vertical-align: top;\n",
       "    }\n",
       "\n",
       "    .dataframe thead th {\n",
       "        text-align: right;\n",
       "    }\n",
       "</style>\n",
       "<table border=\"1\" class=\"dataframe\">\n",
       "  <thead>\n",
       "    <tr style=\"text-align: right;\">\n",
       "      <th></th>\n",
       "      <th>Dim.1</th>\n",
       "      <th>Dim.2</th>\n",
       "    </tr>\n",
       "    <tr>\n",
       "      <th>Joueur</th>\n",
       "      <th></th>\n",
       "      <th></th>\n",
       "    </tr>\n",
       "  </thead>\n",
       "  <tbody>\n",
       "    <tr>\n",
       "      <th>Agassi</th>\n",
       "      <td>0.083773</td>\n",
       "      <td>0.441095</td>\n",
       "    </tr>\n",
       "    <tr>\n",
       "      <th>Becker</th>\n",
       "      <td>0.270123</td>\n",
       "      <td>0.183981</td>\n",
       "    </tr>\n",
       "    <tr>\n",
       "      <th>Borg</th>\n",
       "      <td>0.105005</td>\n",
       "      <td>0.585897</td>\n",
       "    </tr>\n",
       "    <tr>\n",
       "      <th>Connors</th>\n",
       "      <td>0.549042</td>\n",
       "      <td>0.009618</td>\n",
       "    </tr>\n",
       "    <tr>\n",
       "      <th>Courier</th>\n",
       "      <td>0.480244</td>\n",
       "      <td>0.260442</td>\n",
       "    </tr>\n",
       "    <tr>\n",
       "      <th>Djokovic</th>\n",
       "      <td>0.145020</td>\n",
       "      <td>0.135401</td>\n",
       "    </tr>\n",
       "  </tbody>\n",
       "</table>\n",
       "</div>"
      ],
      "text/plain": [
       "             Dim.1     Dim.2\n",
       "Joueur                      \n",
       "Agassi    0.083773  0.441095\n",
       "Becker    0.270123  0.183981\n",
       "Borg      0.105005  0.585897\n",
       "Connors   0.549042  0.009618\n",
       "Courier   0.480244  0.260442\n",
       "Djokovic  0.145020  0.135401"
      ]
     },
     "execution_count": 54,
     "metadata": {},
     "output_type": "execute_result"
    }
   ],
   "source": [
    "row_cos2 = row[\"cos2\"]\n",
    "row_cos2 >> head(6)"
   ]
  },
  {
   "cell_type": "code",
   "execution_count": 55,
   "metadata": {},
   "outputs": [
    {
     "data": {
      "image/png": "[encoded data removed]",
      "text/plain": [
       "<Figure size 720x720 with 2 Axes>"
      ]
     },
     "metadata": {
      "needs_background": "light"
     },
     "output_type": "display_data"
    }
   ],
   "source": [
    "fig,axe = plt.subplots(figsize=(10,10))\n",
    "plotFAMD(my_famd2,choice=\"ind\",color=\"cos2\",xlim=(-4,4),ylim=(-4,4),repel=True,ax=axe)"
   ]
  },
  {
   "cell_type": "code",
   "execution_count": 56,
   "metadata": {},
   "outputs": [
    {
     "data": {
      "image/png": "[encoded data removed]",
      "text/plain": [
       "<Figure size 1152x576 with 1 Axes>"
      ]
     },
     "metadata": {
      "needs_background": "light"
     },
     "output_type": "display_data"
    }
   ],
   "source": [
    "fig,axe =plt.subplots(figsize=(16,8))\n",
    "plot_cosines(my_famd2,choice=\"ind\",ax=axe)"
   ]
  },
  {
   "cell_type": "code",
   "execution_count": 57,
   "metadata": {},
   "outputs": [
    {
     "data": {
      "text/html": [
       "<div>\n",
       "<style scoped>\n",
       "    .dataframe tbody tr th:only-of-type {\n",
       "        vertical-align: middle;\n",
       "    }\n",
       "\n",
       "    .dataframe tbody tr th {\n",
       "        vertical-align: top;\n",
       "    }\n",
       "\n",
       "    .dataframe thead th {\n",
       "        text-align: right;\n",
       "    }\n",
       "</style>\n",
       "<table border=\"1\" class=\"dataframe\">\n",
       "  <thead>\n",
       "    <tr style=\"text-align: right;\">\n",
       "      <th></th>\n",
       "      <th>Dim.1</th>\n",
       "      <th>Dim.2</th>\n",
       "    </tr>\n",
       "    <tr>\n",
       "      <th>Joueur</th>\n",
       "      <th></th>\n",
       "      <th></th>\n",
       "    </tr>\n",
       "  </thead>\n",
       "  <tbody>\n",
       "    <tr>\n",
       "      <th>Agassi</th>\n",
       "      <td>0.445884</td>\n",
       "      <td>4.769975</td>\n",
       "    </tr>\n",
       "    <tr>\n",
       "      <th>Becker</th>\n",
       "      <td>2.808974</td>\n",
       "      <td>3.887098</td>\n",
       "    </tr>\n",
       "    <tr>\n",
       "      <th>Borg</th>\n",
       "      <td>3.291681</td>\n",
       "      <td>37.316093</td>\n",
       "    </tr>\n",
       "    <tr>\n",
       "      <th>Connors</th>\n",
       "      <td>16.714355</td>\n",
       "      <td>0.594861</td>\n",
       "    </tr>\n",
       "    <tr>\n",
       "      <th>Courier</th>\n",
       "      <td>4.307612</td>\n",
       "      <td>4.746253</td>\n",
       "    </tr>\n",
       "    <tr>\n",
       "      <th>Djokovic</th>\n",
       "      <td>1.382855</td>\n",
       "      <td>2.623237</td>\n",
       "    </tr>\n",
       "  </tbody>\n",
       "</table>\n",
       "</div>"
      ],
      "text/plain": [
       "              Dim.1      Dim.2\n",
       "Joueur                        \n",
       "Agassi     0.445884   4.769975\n",
       "Becker     2.808974   3.887098\n",
       "Borg       3.291681  37.316093\n",
       "Connors   16.714355   0.594861\n",
       "Courier    4.307612   4.746253\n",
       "Djokovic   1.382855   2.623237"
      ]
     },
     "execution_count": 57,
     "metadata": {},
     "output_type": "execute_result"
    }
   ],
   "source": [
    "row_cos2 = row[\"contrib\"]\n",
    "row_cos2 >> head(6)"
   ]
  },
  {
   "cell_type": "code",
   "execution_count": 58,
   "metadata": {},
   "outputs": [
    {
     "data": {
      "image/png": "[encoded data removed]",
      "text/plain": [
       "<Figure size 720x720 with 2 Axes>"
      ]
     },
     "metadata": {
      "needs_background": "light"
     },
     "output_type": "display_data"
    }
   ],
   "source": [
    "fig,axe = plt.subplots(figsize=(10,10))\n",
    "plotFAMD(my_famd2,choice=\"ind\",color=\"contrib\",xlim=(-4,4),ylim=(-4,4),repel=True,ax=axe)"
   ]
  },
  {
   "cell_type": "code",
   "execution_count": 59,
   "metadata": {},
   "outputs": [
    {
     "data": {
      "image/png": "[encoded data removed]",
      "text/plain": [
       "<Figure size 1152x576 with 1 Axes>"
      ]
     },
     "metadata": {
      "needs_background": "light"
     },
     "output_type": "display_data"
    }
   ],
   "source": [
    "fig,axe =plt.subplots(figsize=(16,8))\n",
    "plot_contrib(my_famd2,choice=\"ind\",ax=axe)"
   ]
  },
  {
   "cell_type": "code",
   "execution_count": 60,
   "metadata": {},
   "outputs": [
    {
     "data": {
      "text/html": [
       "<div>\n",
       "<style scoped>\n",
       "    .dataframe tbody tr th:only-of-type {\n",
       "        vertical-align: middle;\n",
       "    }\n",
       "\n",
       "    .dataframe tbody tr th {\n",
       "        vertical-align: top;\n",
       "    }\n",
       "\n",
       "    .dataframe thead th {\n",
       "        text-align: right;\n",
       "    }\n",
       "</style>\n",
       "<table border=\"1\" class=\"dataframe\">\n",
       "  <thead>\n",
       "    <tr style=\"text-align: right;\">\n",
       "      <th></th>\n",
       "      <th>d(i,G)</th>\n",
       "      <th>p(i)</th>\n",
       "      <th>I(i,G)</th>\n",
       "    </tr>\n",
       "    <tr>\n",
       "      <th>Joueur</th>\n",
       "      <th></th>\n",
       "      <th></th>\n",
       "      <th></th>\n",
       "    </tr>\n",
       "  </thead>\n",
       "  <tbody>\n",
       "    <tr>\n",
       "      <th>Agassi</th>\n",
       "      <td>1.816841</td>\n",
       "      <td>0.05</td>\n",
       "      <td>0.165046</td>\n",
       "    </tr>\n",
       "    <tr>\n",
       "      <th>Becker</th>\n",
       "      <td>2.539517</td>\n",
       "      <td>0.05</td>\n",
       "      <td>0.322457</td>\n",
       "    </tr>\n",
       "    <tr>\n",
       "      <th>Borg</th>\n",
       "      <td>4.409229</td>\n",
       "      <td>0.05</td>\n",
       "      <td>0.972065</td>\n",
       "    </tr>\n",
       "    <tr>\n",
       "      <th>Connors</th>\n",
       "      <td>4.345099</td>\n",
       "      <td>0.05</td>\n",
       "      <td>0.943994</td>\n",
       "    </tr>\n",
       "    <tr>\n",
       "      <th>Courier</th>\n",
       "      <td>2.358551</td>\n",
       "      <td>0.05</td>\n",
       "      <td>0.278138</td>\n",
       "    </tr>\n",
       "    <tr>\n",
       "      <th>Djokovic</th>\n",
       "      <td>2.431828</td>\n",
       "      <td>0.05</td>\n",
       "      <td>0.295689</td>\n",
       "    </tr>\n",
       "  </tbody>\n",
       "</table>\n",
       "</div>"
      ],
      "text/plain": [
       "            d(i,G)  p(i)    I(i,G)\n",
       "Joueur                            \n",
       "Agassi    1.816841  0.05  0.165046\n",
       "Becker    2.539517  0.05  0.322457\n",
       "Borg      4.409229  0.05  0.972065\n",
       "Connors   4.345099  0.05  0.943994\n",
       "Courier   2.358551  0.05  0.278138\n",
       "Djokovic  2.431828  0.05  0.295689"
      ]
     },
     "execution_count": 60,
     "metadata": {},
     "output_type": "execute_result"
    }
   ],
   "source": [
    "row_infos = row[\"infos\"]\n",
    "row_infos >> head(6)"
   ]
  },
  {
   "cell_type": "code",
   "execution_count": 61,
   "metadata": {},
   "outputs": [
    {
     "data": {
      "text/plain": [
       "dict_keys(['corr', 'pcorr', 'coord', 'cos2', 'contrib', 'ftest'])"
      ]
     },
     "execution_count": 61,
     "metadata": {},
     "output_type": "execute_result"
    }
   ],
   "source": [
    "col = get_famd_col(my_famd2)\n",
    "col.keys()"
   ]
  },
  {
   "cell_type": "code",
   "execution_count": 62,
   "metadata": {},
   "outputs": [
    {
     "data": {
      "text/html": [
       "<div>\n",
       "<style scoped>\n",
       "    .dataframe tbody tr th:only-of-type {\n",
       "        vertical-align: middle;\n",
       "    }\n",
       "\n",
       "    .dataframe tbody tr th {\n",
       "        vertical-align: top;\n",
       "    }\n",
       "\n",
       "    .dataframe thead th {\n",
       "        text-align: right;\n",
       "    }\n",
       "</style>\n",
       "<table border=\"1\" class=\"dataframe\">\n",
       "  <thead>\n",
       "    <tr style=\"text-align: right;\">\n",
       "      <th></th>\n",
       "      <th>Taille</th>\n",
       "      <th>Titres</th>\n",
       "      <th>Finales</th>\n",
       "      <th>TitresGC</th>\n",
       "      <th>BestClassDouble</th>\n",
       "    </tr>\n",
       "  </thead>\n",
       "  <tbody>\n",
       "    <tr>\n",
       "      <th>Taille</th>\n",
       "      <td>1.000000</td>\n",
       "      <td>-0.458630</td>\n",
       "      <td>-0.453484</td>\n",
       "      <td>-0.159513</td>\n",
       "      <td>-0.429777</td>\n",
       "    </tr>\n",
       "    <tr>\n",
       "      <th>Titres</th>\n",
       "      <td>-0.458630</td>\n",
       "      <td>1.000000</td>\n",
       "      <td>0.889289</td>\n",
       "      <td>0.697721</td>\n",
       "      <td>0.245463</td>\n",
       "    </tr>\n",
       "    <tr>\n",
       "      <th>Finales</th>\n",
       "      <td>-0.453484</td>\n",
       "      <td>0.889289</td>\n",
       "      <td>1.000000</td>\n",
       "      <td>0.511686</td>\n",
       "      <td>0.093875</td>\n",
       "    </tr>\n",
       "    <tr>\n",
       "      <th>TitresGC</th>\n",
       "      <td>-0.159513</td>\n",
       "      <td>0.697721</td>\n",
       "      <td>0.511686</td>\n",
       "      <td>1.000000</td>\n",
       "      <td>0.137085</td>\n",
       "    </tr>\n",
       "    <tr>\n",
       "      <th>BestClassDouble</th>\n",
       "      <td>-0.429777</td>\n",
       "      <td>0.245463</td>\n",
       "      <td>0.093875</td>\n",
       "      <td>0.137085</td>\n",
       "      <td>1.000000</td>\n",
       "    </tr>\n",
       "  </tbody>\n",
       "</table>\n",
       "</div>"
      ],
      "text/plain": [
       "                   Taille    Titres   Finales  TitresGC  BestClassDouble\n",
       "Taille           1.000000 -0.458630 -0.453484 -0.159513        -0.429777\n",
       "Titres          -0.458630  1.000000  0.889289  0.697721         0.245463\n",
       "Finales         -0.453484  0.889289  1.000000  0.511686         0.093875\n",
       "TitresGC        -0.159513  0.697721  0.511686  1.000000         0.137085\n",
       "BestClassDouble -0.429777  0.245463  0.093875  0.137085         1.000000"
      ]
     },
     "execution_count": 62,
     "metadata": {},
     "output_type": "execute_result"
    }
   ],
   "source": [
    "col_corr = col[\"corr\"]\n",
    "col_corr"
   ]
  },
  {
   "cell_type": "code",
   "execution_count": 63,
   "metadata": {},
   "outputs": [
    {
     "data": {
      "text/html": [
       "<div>\n",
       "<style scoped>\n",
       "    .dataframe tbody tr th:only-of-type {\n",
       "        vertical-align: middle;\n",
       "    }\n",
       "\n",
       "    .dataframe tbody tr th {\n",
       "        vertical-align: top;\n",
       "    }\n",
       "\n",
       "    .dataframe thead th {\n",
       "        text-align: right;\n",
       "    }\n",
       "</style>\n",
       "<table border=\"1\" class=\"dataframe\">\n",
       "  <thead>\n",
       "    <tr style=\"text-align: right;\">\n",
       "      <th></th>\n",
       "      <th>Taille</th>\n",
       "      <th>Titres</th>\n",
       "      <th>Finales</th>\n",
       "      <th>TitresGC</th>\n",
       "      <th>BestClassDouble</th>\n",
       "    </tr>\n",
       "  </thead>\n",
       "  <tbody>\n",
       "    <tr>\n",
       "      <th>Taille</th>\n",
       "      <td>1.000000</td>\n",
       "      <td>-0.096841</td>\n",
       "      <td>-0.166973</td>\n",
       "      <td>0.182091</td>\n",
       "      <td>-0.398499</td>\n",
       "    </tr>\n",
       "    <tr>\n",
       "      <th>Titres</th>\n",
       "      <td>-0.096841</td>\n",
       "      <td>1.000000</td>\n",
       "      <td>0.846483</td>\n",
       "      <td>0.628914</td>\n",
       "      <td>0.301539</td>\n",
       "    </tr>\n",
       "    <tr>\n",
       "      <th>Finales</th>\n",
       "      <td>-0.166973</td>\n",
       "      <td>0.846483</td>\n",
       "      <td>1.000000</td>\n",
       "      <td>-0.319361</td>\n",
       "      <td>-0.351576</td>\n",
       "    </tr>\n",
       "    <tr>\n",
       "      <th>TitresGC</th>\n",
       "      <td>0.182091</td>\n",
       "      <td>0.628914</td>\n",
       "      <td>-0.319361</td>\n",
       "      <td>1.000000</td>\n",
       "      <td>-0.069279</td>\n",
       "    </tr>\n",
       "    <tr>\n",
       "      <th>BestClassDouble</th>\n",
       "      <td>-0.398499</td>\n",
       "      <td>0.301539</td>\n",
       "      <td>-0.351576</td>\n",
       "      <td>-0.069279</td>\n",
       "      <td>1.000000</td>\n",
       "    </tr>\n",
       "  </tbody>\n",
       "</table>\n",
       "</div>"
      ],
      "text/plain": [
       "                   Taille    Titres   Finales  TitresGC  BestClassDouble\n",
       "Taille           1.000000 -0.096841 -0.166973  0.182091        -0.398499\n",
       "Titres          -0.096841  1.000000  0.846483  0.628914         0.301539\n",
       "Finales         -0.166973  0.846483  1.000000 -0.319361        -0.351576\n",
       "TitresGC         0.182091  0.628914 -0.319361  1.000000        -0.069279\n",
       "BestClassDouble -0.398499  0.301539 -0.351576 -0.069279         1.000000"
      ]
     },
     "execution_count": 63,
     "metadata": {},
     "output_type": "execute_result"
    }
   ],
   "source": [
    "col_pcorr = col[\"pcorr\"]\n",
    "col_pcorr"
   ]
  },
  {
   "cell_type": "code",
   "execution_count": 64,
   "metadata": {},
   "outputs": [
    {
     "data": {
      "text/html": [
       "<div>\n",
       "<style scoped>\n",
       "    .dataframe tbody tr th:only-of-type {\n",
       "        vertical-align: middle;\n",
       "    }\n",
       "\n",
       "    .dataframe tbody tr th {\n",
       "        vertical-align: top;\n",
       "    }\n",
       "\n",
       "    .dataframe thead th {\n",
       "        text-align: right;\n",
       "    }\n",
       "</style>\n",
       "<table border=\"1\" class=\"dataframe\">\n",
       "  <thead>\n",
       "    <tr style=\"text-align: right;\">\n",
       "      <th></th>\n",
       "      <th>Dim.1</th>\n",
       "      <th>Dim.2</th>\n",
       "    </tr>\n",
       "  </thead>\n",
       "  <tbody>\n",
       "    <tr>\n",
       "      <th>Taille</th>\n",
       "      <td>0.685398</td>\n",
       "      <td>-0.152959</td>\n",
       "    </tr>\n",
       "    <tr>\n",
       "      <th>Titres</th>\n",
       "      <td>-0.933778</td>\n",
       "      <td>-0.143072</td>\n",
       "    </tr>\n",
       "    <tr>\n",
       "      <th>Finales</th>\n",
       "      <td>-0.859790</td>\n",
       "      <td>-0.282608</td>\n",
       "    </tr>\n",
       "    <tr>\n",
       "      <th>TitresGC</th>\n",
       "      <td>-0.671014</td>\n",
       "      <td>0.066300</td>\n",
       "    </tr>\n",
       "    <tr>\n",
       "      <th>BestClassDouble</th>\n",
       "      <td>-0.373610</td>\n",
       "      <td>0.664545</td>\n",
       "    </tr>\n",
       "  </tbody>\n",
       "</table>\n",
       "</div>"
      ],
      "text/plain": [
       "                    Dim.1     Dim.2\n",
       "Taille           0.685398 -0.152959\n",
       "Titres          -0.933778 -0.143072\n",
       "Finales         -0.859790 -0.282608\n",
       "TitresGC        -0.671014  0.066300\n",
       "BestClassDouble -0.373610  0.664545"
      ]
     },
     "execution_count": 64,
     "metadata": {},
     "output_type": "execute_result"
    }
   ],
   "source": [
    "col_coord = col[\"coord\"]\n",
    "col_coord >> head(6)"
   ]
  },
  {
   "cell_type": "code",
   "execution_count": 65,
   "metadata": {},
   "outputs": [
    {
     "data": {
      "image/png": "[encoded data removed]",
      "text/plain": [
       "<Figure size 576x576 with 1 Axes>"
      ]
     },
     "metadata": {
      "needs_background": "light"
     },
     "output_type": "display_data"
    }
   ],
   "source": [
    "fig,axe =plt.subplots(figsize=(8,8))\n",
    "plot_correlation_circle(my_famd2,ax=axe)"
   ]
  },
  {
   "cell_type": "code",
   "execution_count": 66,
   "metadata": {},
   "outputs": [
    {
     "data": {
      "text/html": [
       "<div>\n",
       "<style scoped>\n",
       "    .dataframe tbody tr th:only-of-type {\n",
       "        vertical-align: middle;\n",
       "    }\n",
       "\n",
       "    .dataframe tbody tr th {\n",
       "        vertical-align: top;\n",
       "    }\n",
       "\n",
       "    .dataframe thead th {\n",
       "        text-align: right;\n",
       "    }\n",
       "</style>\n",
       "<table border=\"1\" class=\"dataframe\">\n",
       "  <thead>\n",
       "    <tr style=\"text-align: right;\">\n",
       "      <th></th>\n",
       "      <th>Dim.1</th>\n",
       "      <th>Dim.2</th>\n",
       "    </tr>\n",
       "  </thead>\n",
       "  <tbody>\n",
       "    <tr>\n",
       "      <th>Taille</th>\n",
       "      <td>0.469770</td>\n",
       "      <td>0.023396</td>\n",
       "    </tr>\n",
       "    <tr>\n",
       "      <th>Titres</th>\n",
       "      <td>0.871942</td>\n",
       "      <td>0.020470</td>\n",
       "    </tr>\n",
       "    <tr>\n",
       "      <th>Finales</th>\n",
       "      <td>0.739239</td>\n",
       "      <td>0.079867</td>\n",
       "    </tr>\n",
       "    <tr>\n",
       "      <th>TitresGC</th>\n",
       "      <td>0.450260</td>\n",
       "      <td>0.004396</td>\n",
       "    </tr>\n",
       "    <tr>\n",
       "      <th>BestClassDouble</th>\n",
       "      <td>0.139584</td>\n",
       "      <td>0.441619</td>\n",
       "    </tr>\n",
       "  </tbody>\n",
       "</table>\n",
       "</div>"
      ],
      "text/plain": [
       "                    Dim.1     Dim.2\n",
       "Taille           0.469770  0.023396\n",
       "Titres           0.871942  0.020470\n",
       "Finales          0.739239  0.079867\n",
       "TitresGC         0.450260  0.004396\n",
       "BestClassDouble  0.139584  0.441619"
      ]
     },
     "execution_count": 66,
     "metadata": {},
     "output_type": "execute_result"
    }
   ],
   "source": [
    "col_cos2 = col[\"cos2\"]\n",
    "col_cos2 >> head(6)"
   ]
  },
  {
   "cell_type": "code",
   "execution_count": 67,
   "metadata": {},
   "outputs": [
    {
     "data": {
      "image/png": "[encoded data removed]",
      "text/plain": [
       "<Figure size 576x576 with 1 Axes>"
      ]
     },
     "metadata": {
      "needs_background": "light"
     },
     "output_type": "display_data"
    }
   ],
   "source": [
    "fig,axe =plt.subplots(figsize=(8,8))\n",
    "plot_correlation_circle(my_famd2,color=\"cos2\",ax=axe)"
   ]
  },
  {
   "cell_type": "code",
   "execution_count": 68,
   "metadata": {},
   "outputs": [
    {
     "data": {
      "image/png": "[encoded data removed]",
      "text/plain": [
       "<Figure size 576x360 with 1 Axes>"
      ]
     },
     "metadata": {
      "needs_background": "light"
     },
     "output_type": "display_data"
    }
   ],
   "source": [
    "fig,axe =plt.subplots(figsize=(8,5))\n",
    "plot_cosines(my_famd2,choice=\"var\",ax=axe)"
   ]
  },
  {
   "cell_type": "code",
   "execution_count": 69,
   "metadata": {},
   "outputs": [
    {
     "data": {
      "text/html": [
       "<div>\n",
       "<style scoped>\n",
       "    .dataframe tbody tr th:only-of-type {\n",
       "        vertical-align: middle;\n",
       "    }\n",
       "\n",
       "    .dataframe tbody tr th {\n",
       "        vertical-align: top;\n",
       "    }\n",
       "\n",
       "    .dataframe thead th {\n",
       "        text-align: right;\n",
       "    }\n",
       "</style>\n",
       "<table border=\"1\" class=\"dataframe\">\n",
       "  <thead>\n",
       "    <tr style=\"text-align: right;\">\n",
       "      <th></th>\n",
       "      <th>Dim.1</th>\n",
       "      <th>Dim.2</th>\n",
       "    </tr>\n",
       "  </thead>\n",
       "  <tbody>\n",
       "    <tr>\n",
       "      <th>Taille</th>\n",
       "      <td>15.149538</td>\n",
       "      <td>1.532957</td>\n",
       "    </tr>\n",
       "    <tr>\n",
       "      <th>Titres</th>\n",
       "      <td>28.119130</td>\n",
       "      <td>1.341194</td>\n",
       "    </tr>\n",
       "    <tr>\n",
       "      <th>Finales</th>\n",
       "      <td>23.839609</td>\n",
       "      <td>5.232974</td>\n",
       "    </tr>\n",
       "    <tr>\n",
       "      <th>TitresGC</th>\n",
       "      <td>14.520358</td>\n",
       "      <td>0.288005</td>\n",
       "    </tr>\n",
       "    <tr>\n",
       "      <th>BestClassDouble</th>\n",
       "      <td>4.501431</td>\n",
       "      <td>28.935287</td>\n",
       "    </tr>\n",
       "  </tbody>\n",
       "</table>\n",
       "</div>"
      ],
      "text/plain": [
       "                     Dim.1      Dim.2\n",
       "Taille           15.149538   1.532957\n",
       "Titres           28.119130   1.341194\n",
       "Finales          23.839609   5.232974\n",
       "TitresGC         14.520358   0.288005\n",
       "BestClassDouble   4.501431  28.935287"
      ]
     },
     "execution_count": 69,
     "metadata": {},
     "output_type": "execute_result"
    }
   ],
   "source": [
    "col_contrib = col[\"contrib\"]\n",
    "col_contrib >> head(6)"
   ]
  },
  {
   "cell_type": "code",
   "execution_count": 70,
   "metadata": {},
   "outputs": [
    {
     "data": {
      "image/png": "[encoded data removed]",
      "text/plain": [
       "<Figure size 576x576 with 1 Axes>"
      ]
     },
     "metadata": {
      "needs_background": "light"
     },
     "output_type": "display_data"
    }
   ],
   "source": [
    "fig,axe =plt.subplots(figsize=(8,8))\n",
    "plot_correlation_circle(my_famd2,color=\"contrib\",ax=axe)"
   ]
  },
  {
   "cell_type": "code",
   "execution_count": 71,
   "metadata": {},
   "outputs": [
    {
     "data": {
      "image/png": "[encoded data removed]",
      "text/plain": [
       "<Figure size 576x360 with 1 Axes>"
      ]
     },
     "metadata": {
      "needs_background": "light"
     },
     "output_type": "display_data"
    }
   ],
   "source": [
    "fig,axe = plt.subplots(figsize=(8,5))\n",
    "plot_contrib(my_famd2,choice=\"var\",ax=axe)"
   ]
  },
  {
   "cell_type": "code",
   "execution_count": 72,
   "metadata": {},
   "outputs": [
    {
     "data": {
      "text/html": [
       "<div>\n",
       "<style scoped>\n",
       "    .dataframe tbody tr th:only-of-type {\n",
       "        vertical-align: middle;\n",
       "    }\n",
       "\n",
       "    .dataframe tbody tr th {\n",
       "        vertical-align: top;\n",
       "    }\n",
       "\n",
       "    .dataframe thead th {\n",
       "        text-align: right;\n",
       "    }\n",
       "</style>\n",
       "<table border=\"1\" class=\"dataframe\">\n",
       "  <thead>\n",
       "    <tr style=\"text-align: right;\">\n",
       "      <th></th>\n",
       "      <th>Dim.1</th>\n",
       "      <th>Dim.2</th>\n",
       "    </tr>\n",
       "  </thead>\n",
       "  <tbody>\n",
       "    <tr>\n",
       "      <th>Taille</th>\n",
       "      <td>3.460207</td>\n",
       "      <td>-0.635655</td>\n",
       "    </tr>\n",
       "    <tr>\n",
       "      <th>Titres</th>\n",
       "      <td>-6.956139</td>\n",
       "      <td>-0.593978</td>\n",
       "    </tr>\n",
       "    <tr>\n",
       "      <th>Finales</th>\n",
       "      <td>-5.329274</td>\n",
       "      <td>-1.197821</td>\n",
       "    </tr>\n",
       "    <tr>\n",
       "      <th>TitresGC</th>\n",
       "      <td>-3.350374</td>\n",
       "      <td>0.273762</td>\n",
       "    </tr>\n",
       "    <tr>\n",
       "      <th>BestClassDouble</th>\n",
       "      <td>-1.618780</td>\n",
       "      <td>3.302231</td>\n",
       "    </tr>\n",
       "  </tbody>\n",
       "</table>\n",
       "</div>"
      ],
      "text/plain": [
       "                    Dim.1     Dim.2\n",
       "Taille           3.460207 -0.635655\n",
       "Titres          -6.956139 -0.593978\n",
       "Finales         -5.329274 -1.197821\n",
       "TitresGC        -3.350374  0.273762\n",
       "BestClassDouble -1.618780  3.302231"
      ]
     },
     "execution_count": 72,
     "metadata": {},
     "output_type": "execute_result"
    }
   ],
   "source": [
    "col_ftest = col[\"ftest\"]\n",
    "col_ftest >> head(6)"
   ]
  },
  {
   "attachments": {},
   "cell_type": "markdown",
   "metadata": {},
   "source": [
    "## Categories"
   ]
  },
  {
   "cell_type": "code",
   "execution_count": 73,
   "metadata": {},
   "outputs": [
    {
     "data": {
      "text/plain": [
       "dict_keys(['stats', 'coord', 'cos2', 'contrib', 'vtest', 'infos'])"
      ]
     },
     "execution_count": 73,
     "metadata": {},
     "output_type": "execute_result"
    }
   ],
   "source": [
    "mod = get_famd_mod(my_famd2)\n",
    "mod.keys()"
   ]
  },
  {
   "cell_type": "code",
   "execution_count": 74,
   "metadata": {},
   "outputs": [
    {
     "data": {
      "text/html": [
       "<div>\n",
       "<style scoped>\n",
       "    .dataframe tbody tr th:only-of-type {\n",
       "        vertical-align: middle;\n",
       "    }\n",
       "\n",
       "    .dataframe tbody tr th {\n",
       "        vertical-align: top;\n",
       "    }\n",
       "\n",
       "    .dataframe thead th {\n",
       "        text-align: right;\n",
       "    }\n",
       "</style>\n",
       "<table border=\"1\" class=\"dataframe\">\n",
       "  <thead>\n",
       "    <tr style=\"text-align: right;\">\n",
       "      <th></th>\n",
       "      <th>n(k)</th>\n",
       "      <th>p(k)</th>\n",
       "    </tr>\n",
       "  </thead>\n",
       "  <tbody>\n",
       "    <tr>\n",
       "      <th>Lateralite_droitier</th>\n",
       "      <td>16.0</td>\n",
       "      <td>0.80</td>\n",
       "    </tr>\n",
       "    <tr>\n",
       "      <th>Lateralite_gaucher</th>\n",
       "      <td>4.0</td>\n",
       "      <td>0.20</td>\n",
       "    </tr>\n",
       "    <tr>\n",
       "      <th>MainsRevers_deux</th>\n",
       "      <td>10.0</td>\n",
       "      <td>0.50</td>\n",
       "    </tr>\n",
       "    <tr>\n",
       "      <th>MainsRevers_une</th>\n",
       "      <td>10.0</td>\n",
       "      <td>0.50</td>\n",
       "    </tr>\n",
       "    <tr>\n",
       "      <th>RolandGarros_demi</th>\n",
       "      <td>5.0</td>\n",
       "      <td>0.25</td>\n",
       "    </tr>\n",
       "    <tr>\n",
       "      <th>RolandGarros_finale</th>\n",
       "      <td>3.0</td>\n",
       "      <td>0.15</td>\n",
       "    </tr>\n",
       "  </tbody>\n",
       "</table>\n",
       "</div>"
      ],
      "text/plain": [
       "                     n(k)  p(k)\n",
       "Lateralite_droitier  16.0  0.80\n",
       "Lateralite_gaucher    4.0  0.20\n",
       "MainsRevers_deux     10.0  0.50\n",
       "MainsRevers_une      10.0  0.50\n",
       "RolandGarros_demi     5.0  0.25\n",
       "RolandGarros_finale   3.0  0.15"
      ]
     },
     "execution_count": 74,
     "metadata": {},
     "output_type": "execute_result"
    }
   ],
   "source": [
    "mod_stats = mod[\"stats\"]\n",
    "mod_stats >> head(6)"
   ]
  },
  {
   "cell_type": "code",
   "execution_count": 75,
   "metadata": {},
   "outputs": [
    {
     "data": {
      "text/html": [
       "<div>\n",
       "<style scoped>\n",
       "    .dataframe tbody tr th:only-of-type {\n",
       "        vertical-align: middle;\n",
       "    }\n",
       "\n",
       "    .dataframe tbody tr th {\n",
       "        vertical-align: top;\n",
       "    }\n",
       "\n",
       "    .dataframe thead th {\n",
       "        text-align: right;\n",
       "    }\n",
       "</style>\n",
       "<table border=\"1\" class=\"dataframe\">\n",
       "  <thead>\n",
       "    <tr style=\"text-align: right;\">\n",
       "      <th></th>\n",
       "      <th>Dim.1</th>\n",
       "      <th>Dim.2</th>\n",
       "    </tr>\n",
       "  </thead>\n",
       "  <tbody>\n",
       "    <tr>\n",
       "      <th>Lateralite_droitier</th>\n",
       "      <td>0.526869</td>\n",
       "      <td>0.125360</td>\n",
       "    </tr>\n",
       "    <tr>\n",
       "      <th>Lateralite_gaucher</th>\n",
       "      <td>-2.107474</td>\n",
       "      <td>-0.501439</td>\n",
       "    </tr>\n",
       "    <tr>\n",
       "      <th>MainsRevers_deux</th>\n",
       "      <td>0.021748</td>\n",
       "      <td>0.940118</td>\n",
       "    </tr>\n",
       "    <tr>\n",
       "      <th>MainsRevers_une</th>\n",
       "      <td>-0.021748</td>\n",
       "      <td>-0.940118</td>\n",
       "    </tr>\n",
       "    <tr>\n",
       "      <th>RolandGarros_demi</th>\n",
       "      <td>0.690216</td>\n",
       "      <td>-0.269322</td>\n",
       "    </tr>\n",
       "    <tr>\n",
       "      <th>RolandGarros_finale</th>\n",
       "      <td>0.354293</td>\n",
       "      <td>-1.525081</td>\n",
       "    </tr>\n",
       "  </tbody>\n",
       "</table>\n",
       "</div>"
      ],
      "text/plain": [
       "                        Dim.1     Dim.2\n",
       "Lateralite_droitier  0.526869  0.125360\n",
       "Lateralite_gaucher  -2.107474 -0.501439\n",
       "MainsRevers_deux     0.021748  0.940118\n",
       "MainsRevers_une     -0.021748 -0.940118\n",
       "RolandGarros_demi    0.690216 -0.269322\n",
       "RolandGarros_finale  0.354293 -1.525081"
      ]
     },
     "execution_count": 75,
     "metadata": {},
     "output_type": "execute_result"
    }
   ],
   "source": [
    "mod_coord = mod[\"coord\"]\n",
    "mod_coord >> head(6)"
   ]
  },
  {
   "cell_type": "code",
   "execution_count": 76,
   "metadata": {},
   "outputs": [
    {
     "data": {
      "image/png": "[encoded data removed]",
      "text/plain": [
       "<Figure size 720x720 with 1 Axes>"
      ]
     },
     "metadata": {
      "needs_background": "light"
     },
     "output_type": "display_data"
    }
   ],
   "source": [
    "fig,axe = plt.subplots(figsize=(10,10))\n",
    "plotFAMD(my_famd2,choice=\"mod\",xlim=(-3,3),ylim=(-3,3),repel=True,short_labels=True,ax=axe)"
   ]
  },
  {
   "cell_type": "code",
   "execution_count": 77,
   "metadata": {},
   "outputs": [
    {
     "data": {
      "text/html": [
       "<div>\n",
       "<style scoped>\n",
       "    .dataframe tbody tr th:only-of-type {\n",
       "        vertical-align: middle;\n",
       "    }\n",
       "\n",
       "    .dataframe tbody tr th {\n",
       "        vertical-align: top;\n",
       "    }\n",
       "\n",
       "    .dataframe thead th {\n",
       "        text-align: right;\n",
       "    }\n",
       "</style>\n",
       "<table border=\"1\" class=\"dataframe\">\n",
       "  <thead>\n",
       "    <tr style=\"text-align: right;\">\n",
       "      <th></th>\n",
       "      <th>Dim.1</th>\n",
       "      <th>Dim.2</th>\n",
       "    </tr>\n",
       "  </thead>\n",
       "  <tbody>\n",
       "    <tr>\n",
       "      <th>Lateralite_droitier</th>\n",
       "      <td>1.110362</td>\n",
       "      <td>0.062860</td>\n",
       "    </tr>\n",
       "    <tr>\n",
       "      <th>Lateralite_gaucher</th>\n",
       "      <td>1.110362</td>\n",
       "      <td>0.062860</td>\n",
       "    </tr>\n",
       "    <tr>\n",
       "      <th>MainsRevers_deux</th>\n",
       "      <td>0.000473</td>\n",
       "      <td>0.883821</td>\n",
       "    </tr>\n",
       "    <tr>\n",
       "      <th>MainsRevers_une</th>\n",
       "      <td>0.000473</td>\n",
       "      <td>0.883821</td>\n",
       "    </tr>\n",
       "    <tr>\n",
       "      <th>RolandGarros_demi</th>\n",
       "      <td>0.158799</td>\n",
       "      <td>0.024178</td>\n",
       "    </tr>\n",
       "    <tr>\n",
       "      <th>RolandGarros_finale</th>\n",
       "      <td>0.022151</td>\n",
       "      <td>0.410448</td>\n",
       "    </tr>\n",
       "  </tbody>\n",
       "</table>\n",
       "</div>"
      ],
      "text/plain": [
       "                        Dim.1     Dim.2\n",
       "Lateralite_droitier  1.110362  0.062860\n",
       "Lateralite_gaucher   1.110362  0.062860\n",
       "MainsRevers_deux     0.000473  0.883821\n",
       "MainsRevers_une      0.000473  0.883821\n",
       "RolandGarros_demi    0.158799  0.024178\n",
       "RolandGarros_finale  0.022151  0.410448"
      ]
     },
     "execution_count": 77,
     "metadata": {},
     "output_type": "execute_result"
    }
   ],
   "source": [
    "mod_cos2 = mod[\"cos2\"]\n",
    "mod_cos2 >> head(6)"
   ]
  },
  {
   "cell_type": "code",
   "execution_count": 78,
   "metadata": {},
   "outputs": [
    {
     "data": {
      "image/png": "[encoded data removed]",
      "text/plain": [
       "<Figure size 720x720 with 2 Axes>"
      ]
     },
     "metadata": {
      "needs_background": "light"
     },
     "output_type": "display_data"
    }
   ],
   "source": [
    "fig,axe = plt.subplots(figsize=(10,10))\n",
    "plotFAMD(my_famd2,choice=\"mod\",color=\"cos2\",xlim=(-3,3),ylim=(-3,3),repel=True,short_labels=True,ax=axe)"
   ]
  },
  {
   "cell_type": "code",
   "execution_count": 79,
   "metadata": {},
   "outputs": [
    {
     "data": {
      "image/png": "[encoded data removed]",
      "text/plain": [
       "<Figure size 576x360 with 1 Axes>"
      ]
     },
     "metadata": {
      "needs_background": "light"
     },
     "output_type": "display_data"
    }
   ],
   "source": [
    "fig,axe =plt.subplots(figsize=(8,5))\n",
    "plot_cosines(my_famd2,choice=\"mod\",ax=axe)"
   ]
  },
  {
   "cell_type": "code",
   "execution_count": 80,
   "metadata": {},
   "outputs": [
    {
     "data": {
      "text/html": [
       "<div>\n",
       "<style scoped>\n",
       "    .dataframe tbody tr th:only-of-type {\n",
       "        vertical-align: middle;\n",
       "    }\n",
       "\n",
       "    .dataframe tbody tr th {\n",
       "        vertical-align: top;\n",
       "    }\n",
       "\n",
       "    .dataframe thead th {\n",
       "        text-align: right;\n",
       "    }\n",
       "</style>\n",
       "<table border=\"1\" class=\"dataframe\">\n",
       "  <thead>\n",
       "    <tr style=\"text-align: right;\">\n",
       "      <th></th>\n",
       "      <th>Dim.1</th>\n",
       "      <th>Dim.2</th>\n",
       "    </tr>\n",
       "  </thead>\n",
       "  <tbody>\n",
       "    <tr>\n",
       "      <th>Lateralite_droitier</th>\n",
       "      <td>2.309527</td>\n",
       "      <td>0.539716</td>\n",
       "    </tr>\n",
       "    <tr>\n",
       "      <th>Lateralite_gaucher</th>\n",
       "      <td>9.238110</td>\n",
       "      <td>2.158865</td>\n",
       "    </tr>\n",
       "    <tr>\n",
       "      <th>MainsRevers_deux</th>\n",
       "      <td>0.002460</td>\n",
       "      <td>18.971152</td>\n",
       "    </tr>\n",
       "    <tr>\n",
       "      <th>MainsRevers_une</th>\n",
       "      <td>0.002460</td>\n",
       "      <td>18.971152</td>\n",
       "    </tr>\n",
       "    <tr>\n",
       "      <th>RolandGarros_demi</th>\n",
       "      <td>1.238621</td>\n",
       "      <td>0.778471</td>\n",
       "    </tr>\n",
       "    <tr>\n",
       "      <th>RolandGarros_finale</th>\n",
       "      <td>0.195814</td>\n",
       "      <td>14.977402</td>\n",
       "    </tr>\n",
       "  </tbody>\n",
       "</table>\n",
       "</div>"
      ],
      "text/plain": [
       "                        Dim.1      Dim.2\n",
       "Lateralite_droitier  2.309527   0.539716\n",
       "Lateralite_gaucher   9.238110   2.158865\n",
       "MainsRevers_deux     0.002460  18.971152\n",
       "MainsRevers_une      0.002460  18.971152\n",
       "RolandGarros_demi    1.238621   0.778471\n",
       "RolandGarros_finale  0.195814  14.977402"
      ]
     },
     "execution_count": 80,
     "metadata": {},
     "output_type": "execute_result"
    }
   ],
   "source": [
    "mod_contrib = mod[\"contrib\"]\n",
    "mod_contrib >> head(6)"
   ]
  },
  {
   "cell_type": "code",
   "execution_count": 81,
   "metadata": {},
   "outputs": [
    {
     "data": {
      "image/png": "[encoded data removed]",
      "text/plain": [
       "<Figure size 720x720 with 2 Axes>"
      ]
     },
     "metadata": {
      "needs_background": "light"
     },
     "output_type": "display_data"
    }
   ],
   "source": [
    "fig,axe = plt.subplots(figsize=(10,10))\n",
    "plotFAMD(my_famd2,choice=\"mod\",color=\"contrib\",xlim=(-3,3),ylim=(-3,3),repel=True,short_labels=True,ax=axe)"
   ]
  },
  {
   "cell_type": "code",
   "execution_count": 82,
   "metadata": {},
   "outputs": [
    {
     "data": {
      "image/png": "[encoded data removed]",
      "text/plain": [
       "<Figure size 576x360 with 1 Axes>"
      ]
     },
     "metadata": {
      "needs_background": "light"
     },
     "output_type": "display_data"
    }
   ],
   "source": [
    "fig,axe = plt.subplots(figsize=(8,5))\n",
    "plot_contrib(my_famd2,choice=\"mod\",ax=axe)"
   ]
  },
  {
   "cell_type": "code",
   "execution_count": 83,
   "metadata": {},
   "outputs": [
    {
     "data": {
      "text/html": [
       "<div>\n",
       "<style scoped>\n",
       "    .dataframe tbody tr th:only-of-type {\n",
       "        vertical-align: middle;\n",
       "    }\n",
       "\n",
       "    .dataframe tbody tr th {\n",
       "        vertical-align: top;\n",
       "    }\n",
       "\n",
       "    .dataframe thead th {\n",
       "        text-align: right;\n",
       "    }\n",
       "</style>\n",
       "<table border=\"1\" class=\"dataframe\">\n",
       "  <thead>\n",
       "    <tr style=\"text-align: right;\">\n",
       "      <th></th>\n",
       "      <th>Dim.1</th>\n",
       "      <th>Dim.2</th>\n",
       "    </tr>\n",
       "  </thead>\n",
       "  <tbody>\n",
       "    <tr>\n",
       "      <th>Lateralite_droitier</th>\n",
       "      <td>2.608352</td>\n",
       "      <td>0.884616</td>\n",
       "    </tr>\n",
       "    <tr>\n",
       "      <th>Lateralite_gaucher</th>\n",
       "      <td>-2.608352</td>\n",
       "      <td>-0.884616</td>\n",
       "    </tr>\n",
       "    <tr>\n",
       "      <th>MainsRevers_deux</th>\n",
       "      <td>0.053834</td>\n",
       "      <td>3.317026</td>\n",
       "    </tr>\n",
       "    <tr>\n",
       "      <th>MainsRevers_une</th>\n",
       "      <td>-0.053834</td>\n",
       "      <td>-3.317026</td>\n",
       "    </tr>\n",
       "    <tr>\n",
       "      <th>RolandGarros_demi</th>\n",
       "      <td>0.986412</td>\n",
       "      <td>-0.548627</td>\n",
       "    </tr>\n",
       "    <tr>\n",
       "      <th>RolandGarros_finale</th>\n",
       "      <td>0.368411</td>\n",
       "      <td>-2.260454</td>\n",
       "    </tr>\n",
       "    <tr>\n",
       "      <th>RolandGarros_vainqueur</th>\n",
       "      <td>-1.140396</td>\n",
       "      <td>2.132498</td>\n",
       "    </tr>\n",
       "  </tbody>\n",
       "</table>\n",
       "</div>"
      ],
      "text/plain": [
       "                           Dim.1     Dim.2\n",
       "Lateralite_droitier     2.608352  0.884616\n",
       "Lateralite_gaucher     -2.608352 -0.884616\n",
       "MainsRevers_deux        0.053834  3.317026\n",
       "MainsRevers_une        -0.053834 -3.317026\n",
       "RolandGarros_demi       0.986412 -0.548627\n",
       "RolandGarros_finale     0.368411 -2.260454\n",
       "RolandGarros_vainqueur -1.140396  2.132498"
      ]
     },
     "execution_count": 83,
     "metadata": {},
     "output_type": "execute_result"
    }
   ],
   "source": [
    "mod_vtest = mod[\"vtest\"]\n",
    "mod_vtest"
   ]
  },
  {
   "cell_type": "code",
   "execution_count": 84,
   "metadata": {},
   "outputs": [
    {
     "data": {
      "text/html": [
       "<div>\n",
       "<style scoped>\n",
       "    .dataframe tbody tr th:only-of-type {\n",
       "        vertical-align: middle;\n",
       "    }\n",
       "\n",
       "    .dataframe tbody tr th {\n",
       "        vertical-align: top;\n",
       "    }\n",
       "\n",
       "    .dataframe thead th {\n",
       "        text-align: right;\n",
       "    }\n",
       "</style>\n",
       "<table border=\"1\" class=\"dataframe\">\n",
       "  <thead>\n",
       "    <tr style=\"text-align: right;\">\n",
       "      <th></th>\n",
       "      <th>d(k,G)</th>\n",
       "      <th>p(k)</th>\n",
       "      <th>I(k,G)</th>\n",
       "    </tr>\n",
       "  </thead>\n",
       "  <tbody>\n",
       "    <tr>\n",
       "      <th>Lateralite_droitier</th>\n",
       "      <td>0.500000</td>\n",
       "      <td>0.114286</td>\n",
       "      <td>0.028571</td>\n",
       "    </tr>\n",
       "    <tr>\n",
       "      <th>Lateralite_gaucher</th>\n",
       "      <td>2.000000</td>\n",
       "      <td>0.028571</td>\n",
       "      <td>0.114286</td>\n",
       "    </tr>\n",
       "    <tr>\n",
       "      <th>MainsRevers_deux</th>\n",
       "      <td>1.000000</td>\n",
       "      <td>0.071429</td>\n",
       "      <td>0.071429</td>\n",
       "    </tr>\n",
       "    <tr>\n",
       "      <th>MainsRevers_une</th>\n",
       "      <td>1.000000</td>\n",
       "      <td>0.071429</td>\n",
       "      <td>0.071429</td>\n",
       "    </tr>\n",
       "    <tr>\n",
       "      <th>RolandGarros_demi</th>\n",
       "      <td>1.732051</td>\n",
       "      <td>0.035714</td>\n",
       "      <td>0.107143</td>\n",
       "    </tr>\n",
       "    <tr>\n",
       "      <th>RolandGarros_finale</th>\n",
       "      <td>2.380476</td>\n",
       "      <td>0.021429</td>\n",
       "      <td>0.121429</td>\n",
       "    </tr>\n",
       "    <tr>\n",
       "      <th>RolandGarros_vainqueur</th>\n",
       "      <td>0.816497</td>\n",
       "      <td>0.085714</td>\n",
       "      <td>0.057143</td>\n",
       "    </tr>\n",
       "  </tbody>\n",
       "</table>\n",
       "</div>"
      ],
      "text/plain": [
       "                          d(k,G)      p(k)    I(k,G)\n",
       "Lateralite_droitier     0.500000  0.114286  0.028571\n",
       "Lateralite_gaucher      2.000000  0.028571  0.114286\n",
       "MainsRevers_deux        1.000000  0.071429  0.071429\n",
       "MainsRevers_une         1.000000  0.071429  0.071429\n",
       "RolandGarros_demi       1.732051  0.035714  0.107143\n",
       "RolandGarros_finale     2.380476  0.021429  0.121429\n",
       "RolandGarros_vainqueur  0.816497  0.085714  0.057143"
      ]
     },
     "execution_count": 84,
     "metadata": {},
     "output_type": "execute_result"
    }
   ],
   "source": [
    "mod_infos = mod[\"infos\"]\n",
    "mod_infos"
   ]
  },
  {
   "attachments": {},
   "cell_type": "markdown",
   "metadata": {},
   "source": [
    "## Categorical variables"
   ]
  },
  {
   "cell_type": "code",
   "execution_count": 85,
   "metadata": {},
   "outputs": [
    {
     "data": {
      "text/plain": [
       "dict_keys(['chi2', 'eta2', 'cos2', 'contrib'])"
      ]
     },
     "execution_count": 85,
     "metadata": {},
     "output_type": "execute_result"
    }
   ],
   "source": [
    "var = get_famd_var(my_famd2)\n",
    "var.keys()"
   ]
  },
  {
   "cell_type": "code",
   "execution_count": 86,
   "metadata": {},
   "outputs": [
    {
     "data": {
      "text/html": [
       "<div>\n",
       "<style scoped>\n",
       "    .dataframe tbody tr th:only-of-type {\n",
       "        vertical-align: middle;\n",
       "    }\n",
       "\n",
       "    .dataframe tbody tr th {\n",
       "        vertical-align: top;\n",
       "    }\n",
       "\n",
       "    .dataframe thead th {\n",
       "        text-align: right;\n",
       "    }\n",
       "</style>\n",
       "<table border=\"1\" class=\"dataframe\">\n",
       "  <thead>\n",
       "    <tr style=\"text-align: right;\">\n",
       "      <th></th>\n",
       "      <th>Lateralite</th>\n",
       "      <th>MainsRevers</th>\n",
       "      <th>RolandGarros</th>\n",
       "    </tr>\n",
       "  </thead>\n",
       "  <tbody>\n",
       "    <tr>\n",
       "      <th>Lateralite</th>\n",
       "      <td>160.0</td>\n",
       "      <td>7.500000</td>\n",
       "      <td>6.4</td>\n",
       "    </tr>\n",
       "    <tr>\n",
       "      <th>MainsRevers</th>\n",
       "      <td>7.5</td>\n",
       "      <td>14.238281</td>\n",
       "      <td>0.0</td>\n",
       "    </tr>\n",
       "    <tr>\n",
       "      <th>RolandGarros</th>\n",
       "      <td>6.4</td>\n",
       "      <td>0.000000</td>\n",
       "      <td>16.2</td>\n",
       "    </tr>\n",
       "  </tbody>\n",
       "</table>\n",
       "</div>"
      ],
      "text/plain": [
       "              Lateralite  MainsRevers  RolandGarros\n",
       "Lateralite         160.0     7.500000           6.4\n",
       "MainsRevers          7.5    14.238281           0.0\n",
       "RolandGarros         6.4     0.000000          16.2"
      ]
     },
     "execution_count": 86,
     "metadata": {},
     "output_type": "execute_result"
    }
   ],
   "source": [
    "var_chi2 = var[\"chi2\"]\n",
    "var_chi2[\"statistic\"]"
   ]
  },
  {
   "cell_type": "code",
   "execution_count": 87,
   "metadata": {},
   "outputs": [
    {
     "data": {
      "text/html": [
       "<div>\n",
       "<style scoped>\n",
       "    .dataframe tbody tr th:only-of-type {\n",
       "        vertical-align: middle;\n",
       "    }\n",
       "\n",
       "    .dataframe tbody tr th {\n",
       "        vertical-align: top;\n",
       "    }\n",
       "\n",
       "    .dataframe thead th {\n",
       "        text-align: right;\n",
       "    }\n",
       "</style>\n",
       "<table border=\"1\" class=\"dataframe\">\n",
       "  <thead>\n",
       "    <tr style=\"text-align: right;\">\n",
       "      <th></th>\n",
       "      <th>Lateralite</th>\n",
       "      <th>MainsRevers</th>\n",
       "      <th>RolandGarros</th>\n",
       "    </tr>\n",
       "  </thead>\n",
       "  <tbody>\n",
       "    <tr>\n",
       "      <th>Lateralite</th>\n",
       "      <td>3.506399e-10</td>\n",
       "      <td>0.483767</td>\n",
       "      <td>0.602520</td>\n",
       "    </tr>\n",
       "    <tr>\n",
       "      <th>MainsRevers</th>\n",
       "      <td>4.837674e-01</td>\n",
       "      <td>0.000161</td>\n",
       "      <td>1.000000</td>\n",
       "    </tr>\n",
       "    <tr>\n",
       "      <th>RolandGarros</th>\n",
       "      <td>6.025197e-01</td>\n",
       "      <td>1.000000</td>\n",
       "      <td>0.000057</td>\n",
       "    </tr>\n",
       "  </tbody>\n",
       "</table>\n",
       "</div>"
      ],
      "text/plain": [
       "                Lateralite  MainsRevers  RolandGarros\n",
       "Lateralite    3.506399e-10     0.483767      0.602520\n",
       "MainsRevers   4.837674e-01     0.000161      1.000000\n",
       "RolandGarros  6.025197e-01     1.000000      0.000057"
      ]
     },
     "execution_count": 87,
     "metadata": {},
     "output_type": "execute_result"
    }
   ],
   "source": [
    "var_chi2[\"pvalue\"]"
   ]
  },
  {
   "cell_type": "code",
   "execution_count": 88,
   "metadata": {},
   "outputs": [
    {
     "data": {
      "text/html": [
       "<div>\n",
       "<style scoped>\n",
       "    .dataframe tbody tr th:only-of-type {\n",
       "        vertical-align: middle;\n",
       "    }\n",
       "\n",
       "    .dataframe tbody tr th {\n",
       "        vertical-align: top;\n",
       "    }\n",
       "\n",
       "    .dataframe thead th {\n",
       "        text-align: right;\n",
       "    }\n",
       "</style>\n",
       "<table border=\"1\" class=\"dataframe\">\n",
       "  <thead>\n",
       "    <tr style=\"text-align: right;\">\n",
       "      <th></th>\n",
       "      <th>Dim.1</th>\n",
       "      <th>Dim.2</th>\n",
       "    </tr>\n",
       "  </thead>\n",
       "  <tbody>\n",
       "    <tr>\n",
       "      <th>Lateralite</th>\n",
       "      <td>0.358079</td>\n",
       "      <td>0.041187</td>\n",
       "    </tr>\n",
       "    <tr>\n",
       "      <th>MainsRevers</th>\n",
       "      <td>0.000153</td>\n",
       "      <td>0.579087</td>\n",
       "    </tr>\n",
       "    <tr>\n",
       "      <th>RolandGarros</th>\n",
       "      <td>0.071859</td>\n",
       "      <td>0.336209</td>\n",
       "    </tr>\n",
       "  </tbody>\n",
       "</table>\n",
       "</div>"
      ],
      "text/plain": [
       "                 Dim.1     Dim.2\n",
       "Lateralite    0.358079  0.041187\n",
       "MainsRevers   0.000153  0.579087\n",
       "RolandGarros  0.071859  0.336209"
      ]
     },
     "execution_count": 88,
     "metadata": {},
     "output_type": "execute_result"
    }
   ],
   "source": [
    "var_eta2 = var[\"eta2\"]\n",
    "var_eta2"
   ]
  },
  {
   "cell_type": "code",
   "execution_count": 89,
   "metadata": {},
   "outputs": [
    {
     "data": {
      "text/html": [
       "<div>\n",
       "<style scoped>\n",
       "    .dataframe tbody tr th:only-of-type {\n",
       "        vertical-align: middle;\n",
       "    }\n",
       "\n",
       "    .dataframe tbody tr th {\n",
       "        vertical-align: top;\n",
       "    }\n",
       "\n",
       "    .dataframe thead th {\n",
       "        text-align: right;\n",
       "    }\n",
       "</style>\n",
       "<table border=\"1\" class=\"dataframe\">\n",
       "  <thead>\n",
       "    <tr style=\"text-align: right;\">\n",
       "      <th></th>\n",
       "      <th>Dim.1</th>\n",
       "      <th>Dim.2</th>\n",
       "    </tr>\n",
       "  </thead>\n",
       "  <tbody>\n",
       "    <tr>\n",
       "      <th>Lateralite</th>\n",
       "      <td>0.358079</td>\n",
       "      <td>0.041187</td>\n",
       "    </tr>\n",
       "    <tr>\n",
       "      <th>MainsRevers</th>\n",
       "      <td>0.000153</td>\n",
       "      <td>0.579087</td>\n",
       "    </tr>\n",
       "    <tr>\n",
       "      <th>RolandGarros</th>\n",
       "      <td>0.035930</td>\n",
       "      <td>0.168104</td>\n",
       "    </tr>\n",
       "  </tbody>\n",
       "</table>\n",
       "</div>"
      ],
      "text/plain": [
       "                 Dim.1     Dim.2\n",
       "Lateralite    0.358079  0.041187\n",
       "MainsRevers   0.000153  0.579087\n",
       "RolandGarros  0.035930  0.168104"
      ]
     },
     "execution_count": 89,
     "metadata": {},
     "output_type": "execute_result"
    }
   ],
   "source": [
    "var_cos2 = var[\"cos2\"]\n",
    "var_cos2"
   ]
  },
  {
   "cell_type": "code",
   "execution_count": 90,
   "metadata": {},
   "outputs": [
    {
     "data": {
      "image/png": "[encoded data removed]",
      "text/plain": [
       "<Figure size 720x720 with 1 Axes>"
      ]
     },
     "metadata": {
      "needs_background": "light"
     },
     "output_type": "display_data"
    }
   ],
   "source": [
    "fig,axe = plt.subplots(figsize=(10,10))\n",
    "plotFAMD(my_famd2,choice=\"var\",repel=True,ax=axe)"
   ]
  },
  {
   "cell_type": "code",
   "execution_count": 91,
   "metadata": {},
   "outputs": [
    {
     "data": {
      "text/html": [
       "<div>\n",
       "<style scoped>\n",
       "    .dataframe tbody tr th:only-of-type {\n",
       "        vertical-align: middle;\n",
       "    }\n",
       "\n",
       "    .dataframe tbody tr th {\n",
       "        vertical-align: top;\n",
       "    }\n",
       "\n",
       "    .dataframe thead th {\n",
       "        text-align: right;\n",
       "    }\n",
       "</style>\n",
       "<table border=\"1\" class=\"dataframe\">\n",
       "  <thead>\n",
       "    <tr style=\"text-align: right;\">\n",
       "      <th></th>\n",
       "      <th>Dim.1</th>\n",
       "      <th>Dim.2</th>\n",
       "    </tr>\n",
       "  </thead>\n",
       "  <tbody>\n",
       "    <tr>\n",
       "      <th>Lateralite</th>\n",
       "      <td>11.547637</td>\n",
       "      <td>2.698581</td>\n",
       "    </tr>\n",
       "    <tr>\n",
       "      <th>MainsRevers</th>\n",
       "      <td>0.004919</td>\n",
       "      <td>37.942303</td>\n",
       "    </tr>\n",
       "    <tr>\n",
       "      <th>RolandGarros</th>\n",
       "      <td>2.317377</td>\n",
       "      <td>22.028698</td>\n",
       "    </tr>\n",
       "  </tbody>\n",
       "</table>\n",
       "</div>"
      ],
      "text/plain": [
       "                  Dim.1      Dim.2\n",
       "Lateralite    11.547637   2.698581\n",
       "MainsRevers    0.004919  37.942303\n",
       "RolandGarros   2.317377  22.028698"
      ]
     },
     "execution_count": 91,
     "metadata": {},
     "output_type": "execute_result"
    }
   ],
   "source": [
    "var_contrib = var[\"contrib\"]\n",
    "var_contrib"
   ]
  },
  {
   "cell_type": "code",
   "execution_count": 92,
   "metadata": {},
   "outputs": [
    {
     "name": "stdout",
     "output_type": "stream",
     "text": [
      "                     Factor Analysis of Mixed Data - Results                     \n",
      "\n",
      "Importance of components\n",
      "|                         |   Dim.1 |   Dim.2 |\n",
      "|:------------------------|--------:|--------:|\n",
      "| Variance                |   3.101 |   1.526 |\n",
      "| Difference              |   1.575 |   0.348 |\n",
      "| % of var.               |  34.454 |  16.958 |\n",
      "| Cumulative of % of var. |  34.454 |  51.412 |\n",
      "\n",
      "Individuals (the 10 first)\n",
      "\n",
      "| Joueur     |   d(i,G) |   p(i) |   I(i,G) |   Dim.1 |    ctr |   cos2 |   Dim.2 |    ctr |   cos2 |\n",
      "|:-----------|---------:|-------:|---------:|--------:|-------:|-------:|--------:|-------:|-------:|\n",
      "| Agassi     |    1.817 |   0.05 |    0.165 |  -0.526 |  0.446 |  0.084 |   1.207 |  4.77  |  0.441 |\n",
      "| Becker     |    2.54  |   0.05 |    0.322 |   1.32  |  2.809 |  0.27  |  -1.089 |  3.887 |  0.184 |\n",
      "| Borg       |    4.409 |   0.05 |    0.972 |  -1.429 |  3.292 |  0.105 |   3.375 | 37.316 |  0.586 |\n",
      "| Connors    |    4.345 |   0.05 |    0.944 |  -3.22  | 16.714 |  0.549 |   0.426 |  0.595 |  0.01  |\n",
      "| Courier    |    2.359 |   0.05 |    0.278 |   1.634 |  4.308 |  0.48  |   1.204 |  4.746 |  0.26  |\n",
      "| Djokovic   |    2.432 |   0.05 |    0.296 |  -0.926 |  1.383 |  0.145 |   0.895 |  2.623 |  0.135 |\n",
      "| Edberg     |    2.82  |   0.05 |    0.398 |   0.705 |  0.802 |  0.063 |  -1.923 | 12.12  |  0.465 |\n",
      "| Federer    |    3.638 |   0.05 |    0.662 |  -2.523 | 10.267 |  0.481 |  -0.921 |  2.779 |  0.064 |\n",
      "| Kafelnikov |    2.471 |   0.05 |    0.305 |   1.908 |  5.871 |  0.596 |   0.863 |  2.44  |  0.122 |\n",
      "| Kuerten    |    2.86  |   0.05 |    0.409 |   2.321 |  8.686 |  0.659 |  -0.047 |  0.007 |  0     |\n",
      "\n",
      "Continuous variables\n",
      "\n",
      "|                 |   Dim.1 |    ctr |   cos2 |   Dim.2 |    ctr |   cos2 |\n",
      "|:----------------|--------:|-------:|-------:|--------:|-------:|-------:|\n",
      "| Taille          |   0.685 | 15.15  |  0.47  |  -0.153 |  1.533 |  0.023 |\n",
      "| Titres          |  -0.934 | 28.119 |  0.872 |  -0.143 |  1.341 |  0.02  |\n",
      "| Finales         |  -0.86  | 23.84  |  0.739 |  -0.283 |  5.233 |  0.08  |\n",
      "| TitresGC        |  -0.671 | 14.52  |  0.45  |   0.066 |  0.288 |  0.004 |\n",
      "| BestClassDouble |  -0.374 |  4.501 |  0.14  |   0.665 | 28.935 |  0.442 |\n",
      "\n",
      "Categories\n",
      "\n",
      "|                        |   d(k,G) |   p(k) |   I(k,G) |   Dim.1 |   ctr |   cos2 |   vtest |   Dim.2 |    ctr |   cos2 |   vtest |\n",
      "|:-----------------------|---------:|-------:|---------:|--------:|------:|-------:|--------:|--------:|-------:|-------:|--------:|\n",
      "| Lateralite_droitier    |    0.5   |  0.114 |    0.029 |   0.527 | 2.31  |  1.11  |   2.608 |   0.125 |  0.54  |  0.063 |   0.885 |\n",
      "| Lateralite_gaucher     |    2     |  0.029 |    0.114 |  -2.107 | 9.238 |  1.11  |  -2.608 |  -0.501 |  2.159 |  0.063 |  -0.885 |\n",
      "| MainsRevers_deux       |    1     |  0.071 |    0.071 |   0.022 | 0.002 |  0     |   0.054 |   0.94  | 18.971 |  0.884 |   3.317 |\n",
      "| MainsRevers_une        |    1     |  0.071 |    0.071 |  -0.022 | 0.002 |  0     |  -0.054 |  -0.94  | 18.971 |  0.884 |  -3.317 |\n",
      "| RolandGarros_demi      |    1.732 |  0.036 |    0.107 |   0.69  | 1.239 |  0.159 |   0.986 |  -0.269 |  0.778 |  0.024 |  -0.549 |\n",
      "| RolandGarros_finale    |    2.38  |  0.021 |    0.121 |   0.354 | 0.196 |  0.022 |   0.368 |  -1.525 | 14.977 |  0.41  |  -2.26  |\n",
      "| RolandGarros_vainqueur |    0.816 |  0.086 |    0.057 |  -0.376 | 0.883 |  0.212 |  -1.14  |   0.493 |  6.273 |  0.365 |   2.132 |\n",
      "\n",
      "Categorical variables\n",
      "\n",
      "|              |   eta2.1 |   cos2.1 |   eta2.2 |   cos2.2 |\n",
      "|:-------------|---------:|---------:|---------:|---------:|\n",
      "| Lateralite   |    0.358 |    0.358 |    0.041 |    0.041 |\n",
      "| MainsRevers  |    0     |    0     |    0.579 |    0.579 |\n",
      "| RolandGarros |    0.072 |    0.036 |    0.336 |    0.168 |\n"
     ]
    }
   ],
   "source": [
    "summaryFAMD(my_famd2,to_markdown=True)"
   ]
  },
  {
   "cell_type": "code",
   "execution_count": 93,
   "metadata": {},
   "outputs": [
    {
     "data": {
      "text/html": [
       "<div>\n",
       "<style scoped>\n",
       "    .dataframe tbody tr th:only-of-type {\n",
       "        vertical-align: middle;\n",
       "    }\n",
       "\n",
       "    .dataframe tbody tr th {\n",
       "        vertical-align: top;\n",
       "    }\n",
       "\n",
       "    .dataframe thead th {\n",
       "        text-align: right;\n",
       "    }\n",
       "</style>\n",
       "<table border=\"1\" class=\"dataframe\">\n",
       "  <thead>\n",
       "    <tr style=\"text-align: right;\">\n",
       "      <th></th>\n",
       "      <th>0</th>\n",
       "      <th>1</th>\n",
       "      <th>2</th>\n",
       "      <th>3</th>\n",
       "      <th>4</th>\n",
       "      <th>5</th>\n",
       "      <th>6</th>\n",
       "      <th>7</th>\n",
       "      <th>8</th>\n",
       "    </tr>\n",
       "  </thead>\n",
       "  <tbody>\n",
       "    <tr>\n",
       "      <th>0</th>\n",
       "      <td>-0.396363</td>\n",
       "      <td>0.370150</td>\n",
       "      <td>0.032435</td>\n",
       "      <td>-0.029145</td>\n",
       "      <td>-0.395339</td>\n",
       "      <td>0.211470</td>\n",
       "      <td>0.004070</td>\n",
       "      <td>0.536560</td>\n",
       "      <td>-0.463744</td>\n",
       "    </tr>\n",
       "    <tr>\n",
       "      <th>1</th>\n",
       "      <td>-0.385158</td>\n",
       "      <td>0.168116</td>\n",
       "      <td>-0.357254</td>\n",
       "      <td>0.344782</td>\n",
       "      <td>0.169403</td>\n",
       "      <td>-0.370150</td>\n",
       "      <td>0.032980</td>\n",
       "      <td>0.365031</td>\n",
       "      <td>0.526157</td>\n",
       "    </tr>\n",
       "    <tr>\n",
       "      <th>2</th>\n",
       "      <td>-0.279793</td>\n",
       "      <td>-0.524199</td>\n",
       "      <td>0.124555</td>\n",
       "      <td>-0.105006</td>\n",
       "      <td>0.502210</td>\n",
       "      <td>0.058204</td>\n",
       "      <td>0.479528</td>\n",
       "      <td>0.284520</td>\n",
       "      <td>-0.232139</td>\n",
       "    </tr>\n",
       "    <tr>\n",
       "      <th>3</th>\n",
       "      <td>-0.449659</td>\n",
       "      <td>0.041966</td>\n",
       "      <td>-0.227349</td>\n",
       "      <td>0.126256</td>\n",
       "      <td>0.426298</td>\n",
       "      <td>0.156867</td>\n",
       "      <td>-0.536109</td>\n",
       "      <td>-0.362203</td>\n",
       "      <td>-0.321678</td>\n",
       "    </tr>\n",
       "    <tr>\n",
       "      <th>4</th>\n",
       "      <td>-0.430863</td>\n",
       "      <td>0.260172</td>\n",
       "      <td>0.156608</td>\n",
       "      <td>0.006833</td>\n",
       "      <td>-0.174514</td>\n",
       "      <td>-0.264816</td>\n",
       "      <td>0.527809</td>\n",
       "      <td>-0.582974</td>\n",
       "      <td>-0.055417</td>\n",
       "    </tr>\n",
       "    <tr>\n",
       "      <th>5</th>\n",
       "      <td>-0.297287</td>\n",
       "      <td>-0.064784</td>\n",
       "      <td>0.357066</td>\n",
       "      <td>-0.113425</td>\n",
       "      <td>-0.062769</td>\n",
       "      <td>0.393772</td>\n",
       "      <td>-0.117318</td>\n",
       "      <td>-0.022747</td>\n",
       "      <td>0.440210</td>\n",
       "    </tr>\n",
       "    <tr>\n",
       "      <th>6</th>\n",
       "      <td>0.242487</td>\n",
       "      <td>0.011389</td>\n",
       "      <td>0.205844</td>\n",
       "      <td>0.761426</td>\n",
       "      <td>0.052279</td>\n",
       "      <td>-0.125913</td>\n",
       "      <td>0.065832</td>\n",
       "      <td>0.020624</td>\n",
       "      <td>-0.309164</td>\n",
       "    </tr>\n",
       "    <tr>\n",
       "      <th>7</th>\n",
       "      <td>0.125822</td>\n",
       "      <td>0.056731</td>\n",
       "      <td>-0.502620</td>\n",
       "      <td>-0.424985</td>\n",
       "      <td>0.025803</td>\n",
       "      <td>-0.304738</td>\n",
       "      <td>0.070768</td>\n",
       "      <td>0.008163</td>\n",
       "      <td>-0.221598</td>\n",
       "    </tr>\n",
       "    <tr>\n",
       "      <th>8</th>\n",
       "      <td>-0.051435</td>\n",
       "      <td>-0.276187</td>\n",
       "      <td>-0.354056</td>\n",
       "      <td>0.177186</td>\n",
       "      <td>-0.273674</td>\n",
       "      <td>0.251932</td>\n",
       "      <td>0.124475</td>\n",
       "      <td>-0.100101</td>\n",
       "      <td>0.021079</td>\n",
       "    </tr>\n",
       "    <tr>\n",
       "      <th>9</th>\n",
       "      <td>0.062995</td>\n",
       "      <td>0.338258</td>\n",
       "      <td>0.433628</td>\n",
       "      <td>-0.217007</td>\n",
       "      <td>0.335181</td>\n",
       "      <td>-0.308552</td>\n",
       "      <td>-0.152450</td>\n",
       "      <td>0.122598</td>\n",
       "      <td>-0.025816</td>\n",
       "    </tr>\n",
       "    <tr>\n",
       "      <th>10</th>\n",
       "      <td>0.108447</td>\n",
       "      <td>0.241764</td>\n",
       "      <td>-0.093496</td>\n",
       "      <td>0.017484</td>\n",
       "      <td>0.176651</td>\n",
       "      <td>0.244007</td>\n",
       "      <td>0.167995</td>\n",
       "      <td>-0.012611</td>\n",
       "      <td>0.040201</td>\n",
       "    </tr>\n",
       "    <tr>\n",
       "      <th>11</th>\n",
       "      <td>-0.216894</td>\n",
       "      <td>-0.483527</td>\n",
       "      <td>0.186991</td>\n",
       "      <td>-0.034968</td>\n",
       "      <td>-0.353301</td>\n",
       "      <td>-0.488014</td>\n",
       "      <td>-0.335991</td>\n",
       "      <td>0.025221</td>\n",
       "      <td>-0.080401</td>\n",
       "    </tr>\n",
       "  </tbody>\n",
       "</table>\n",
       "</div>"
      ],
      "text/plain": [
       "           0         1         2         3         4         5         6  \\\n",
       "0  -0.396363  0.370150  0.032435 -0.029145 -0.395339  0.211470  0.004070   \n",
       "1  -0.385158  0.168116 -0.357254  0.344782  0.169403 -0.370150  0.032980   \n",
       "2  -0.279793 -0.524199  0.124555 -0.105006  0.502210  0.058204  0.479528   \n",
       "3  -0.449659  0.041966 -0.227349  0.126256  0.426298  0.156867 -0.536109   \n",
       "4  -0.430863  0.260172  0.156608  0.006833 -0.174514 -0.264816  0.527809   \n",
       "5  -0.297287 -0.064784  0.357066 -0.113425 -0.062769  0.393772 -0.117318   \n",
       "6   0.242487  0.011389  0.205844  0.761426  0.052279 -0.125913  0.065832   \n",
       "7   0.125822  0.056731 -0.502620 -0.424985  0.025803 -0.304738  0.070768   \n",
       "8  -0.051435 -0.276187 -0.354056  0.177186 -0.273674  0.251932  0.124475   \n",
       "9   0.062995  0.338258  0.433628 -0.217007  0.335181 -0.308552 -0.152450   \n",
       "10  0.108447  0.241764 -0.093496  0.017484  0.176651  0.244007  0.167995   \n",
       "11 -0.216894 -0.483527  0.186991 -0.034968 -0.353301 -0.488014 -0.335991   \n",
       "\n",
       "           7         8  \n",
       "0   0.536560 -0.463744  \n",
       "1   0.365031  0.526157  \n",
       "2   0.284520 -0.232139  \n",
       "3  -0.362203 -0.321678  \n",
       "4  -0.582974 -0.055417  \n",
       "5  -0.022747  0.440210  \n",
       "6   0.020624 -0.309164  \n",
       "7   0.008163 -0.221598  \n",
       "8  -0.100101  0.021079  \n",
       "9   0.122598 -0.025816  \n",
       "10 -0.012611  0.040201  \n",
       "11  0.025221 -0.080401  "
      ]
     },
     "execution_count": 93,
     "metadata": {},
     "output_type": "execute_result"
    }
   ],
   "source": [
    "pd.DataFrame(my_famd.eigen_vectors_)"
   ]
  }
 ],
 "metadata": {
  "kernelspec": {
   "display_name": "Python 3",
   "language": "python",
   "name": "python3"
  },
  "language_info": {
   "codemirror_mode": {
    "name": "ipython",
    "version": 3
   },
   "file_extension": ".py",
   "mimetype": "text/x-python",
   "name": "python",
   "nbconvert_exporter": "python",
   "pygments_lexer": "ipython3",
   "version": "3.10.5"
  },
  "orig_nbformat": 4
 },
 "nbformat": 4,
 "nbformat_minor": 2
}
