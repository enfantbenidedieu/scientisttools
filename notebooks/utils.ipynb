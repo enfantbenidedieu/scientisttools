{
 "cells": [
  {
   "attachments": {},
   "cell_type": "markdown",
   "metadata": {},
   "source": [
    "# Additionnal functions"
   ]
  },
  {
   "cell_type": "code",
   "execution_count": 1,
   "metadata": {},
   "outputs": [],
   "source": [
    "from scientisttools.utils import *\n",
    "import numpy as np\n",
    "from scipy.spatial.distance import pdist,squareform"
   ]
  },
  {
   "cell_type": "code",
   "execution_count": 2,
   "metadata": {},
   "outputs": [
    {
     "name": "stdout",
     "output_type": "stream",
     "text": [
      "['gaussian']\n",
      "[]\n"
     ]
    }
   ],
   "source": [
    "# Match arg\n",
    "lst = [\"gaussian\", \"epanechnikov\", \"rectangular\", \"triangular\"]\n",
    "print(match_arg(\"gauss\", lst))\n",
    "print(match_arg(\"pauss\", lst))"
   ]
  },
  {
   "cell_type": "code",
   "execution_count": 3,
   "metadata": {},
   "outputs": [
    {
     "data": {
      "text/plain": [
       "True"
      ]
     },
     "execution_count": 3,
     "metadata": {},
     "output_type": "execute_result"
    }
   ],
   "source": [
    "# is_euclidean\n",
    "np.random.seed(123)\n",
    "w = np.array(np.random.uniform(size=10000)).reshape(100,100)\n",
    "w = squareform(pdist(w,metric=\"euclidean\"))\n",
    "is_euclidean(w)"
   ]
  },
  {
   "cell_type": "code",
   "execution_count": 4,
   "metadata": {},
   "outputs": [
    {
     "data": {
      "image/png": "[encoded data removed]",
      "text/plain": [
       "<Figure size 432x288 with 1 Axes>"
      ]
     },
     "metadata": {
      "needs_background": "light"
     },
     "output_type": "display_data"
    },
    {
     "name": "stdout",
     "output_type": "stream",
     "text": [
      "[ 3.09885326e+01  2.87117281e+01  2.75224694e+01  2.71799785e+01\n",
      "  2.59485274e+01  2.50014073e+01  2.36471159e+01  2.31340717e+01\n",
      "  2.26080280e+01  2.22715660e+01  2.10251223e+01  2.11392958e+01\n",
      "  1.96753086e+01  1.93115804e+01  1.91355593e+01  1.81930731e+01\n",
      "  1.75251693e+01  1.68266964e+01  1.63514243e+01  1.61440077e+01\n",
      "  1.53400460e+01  1.52450884e+01  1.56584437e+01  1.39107811e+01\n",
      "  1.36516386e+01  1.28877748e+01  1.10540440e+01  1.23205213e+01\n",
      "  1.22247664e+01  1.18778565e+01  1.16690937e+01  1.06726794e+01\n",
      "  1.03756393e+01  1.00521256e+01  9.43444070e+00  9.19106021e+00\n",
      "  8.92786749e+00  8.53606012e+00  8.43634490e+00  7.97191230e+00\n",
      "  7.72798807e+00  7.59093114e+00  7.13840138e+00  6.97262561e+00\n",
      "  6.76889256e+00  6.45260078e+00  6.21007850e+00  6.12328482e+00\n",
      "  5.57904624e+00  5.30773038e+00  5.42502498e+00  5.06467405e+00\n",
      "  4.76356208e+00  4.23342210e+00  4.21490870e+00  3.67027577e+00\n",
      "  3.85768709e+00  3.92034886e+00  4.07027499e+00  3.33295178e+00\n",
      "  3.26188132e+00  3.09604130e+00  3.00376159e+00  2.71146385e+00\n",
      "  2.39960185e+00  2.81302695e+00  2.03373819e+00  2.22860477e+00\n",
      "  2.21396004e+00  1.85359280e+00  1.76917241e+00  1.61922920e+00\n",
      "  1.54252440e+00  1.34484577e+00  1.27609216e+00  1.57374842e+00\n",
      "  1.20704491e+00  1.03851822e+00  9.55659366e-01  6.22326925e-01\n",
      "  7.43710977e-01  8.26017607e-01  8.92837692e-01  5.00764173e-01\n",
      "  4.80284406e-01  3.92586222e-01  1.75970337e-01  2.38945595e-01\n",
      "  2.85104262e-01  1.13369113e-01  7.30665077e-02 -5.02865035e-16\n",
      "  2.73847769e-01  9.21473623e-02  3.42023765e-02  2.90981745e-02\n",
      "  9.56446147e-03  3.86052327e-03  6.25813291e-03  4.42501257e-01]\n"
     ]
    },
    {
     "data": {
      "text/plain": [
       "True"
      ]
     },
     "execution_count": 4,
     "metadata": {},
     "output_type": "execute_result"
    }
   ],
   "source": [
    "is_euclidean(w,plot=True,printf=True)"
   ]
  },
  {
   "cell_type": "code",
   "execution_count": 5,
   "metadata": {},
   "outputs": [
    {
     "data": {
      "text/plain": [
       "array([[0., 0.],\n",
       "       [0., 0.],\n",
       "       [0., 0.]])"
      ]
     },
     "execution_count": 5,
     "metadata": {},
     "output_type": "execute_result"
    }
   ],
   "source": [
    "w = np.array([[1,4],[2,5],[3,6]])\n",
    "bicenter_wt(w, [0.2,0.6,0.2], [0.3,0.7])"
   ]
  },
  {
   "cell_type": "code",
   "execution_count": 6,
   "metadata": {},
   "outputs": [
    {
     "data": {
      "text/plain": [
       "array([13, 11, 10, 11, 12,  5,  8,  7,  2,  4, 16, 17, 13, 16, 15])"
      ]
     },
     "metadata": {},
     "output_type": "display_data"
    },
    {
     "data": {
      "text/plain": [
       "array([1, 1, 1, 1, 1, 2, 2, 2, 2, 2, 3, 3, 3, 3, 3])"
      ]
     },
     "metadata": {},
     "output_type": "display_data"
    }
   ],
   "source": [
    "notes = np.array([13, 11, 10, 11, 12, 5, 8, 7, 2, 4, 16, 17, 13, 16, 15])\n",
    "suivi = np.array([1,1,1,1,1,2,2,2,2,2,3,3,3,3,3])\n",
    "display(notes)\n",
    "display(suivi)"
   ]
  },
  {
   "cell_type": "code",
   "execution_count": 7,
   "metadata": {},
   "outputs": [
    {
     "data": {
      "text/html": [
       "<div>\n",
       "<style scoped>\n",
       "    .dataframe tbody tr th:only-of-type {\n",
       "        vertical-align: middle;\n",
       "    }\n",
       "\n",
       "    .dataframe tbody tr th {\n",
       "        vertical-align: top;\n",
       "    }\n",
       "\n",
       "    .dataframe thead th {\n",
       "        text-align: right;\n",
       "    }\n",
       "</style>\n",
       "<table border=\"1\" class=\"dataframe\">\n",
       "  <thead>\n",
       "    <tr style=\"text-align: right;\">\n",
       "      <th></th>\n",
       "      <th>Sum. Intra</th>\n",
       "      <th>Sum. Inter</th>\n",
       "      <th>correlation ratio</th>\n",
       "      <th>F-stats</th>\n",
       "      <th>pvalue</th>\n",
       "    </tr>\n",
       "  </thead>\n",
       "  <tbody>\n",
       "    <tr>\n",
       "      <th>eta - test</th>\n",
       "      <td>37.2</td>\n",
       "      <td>264.1333</td>\n",
       "      <td>0.8765</td>\n",
       "      <td>42.6022</td>\n",
       "      <td>0.0</td>\n",
       "    </tr>\n",
       "  </tbody>\n",
       "</table>\n",
       "</div>"
      ],
      "text/plain": [
       "            Sum. Intra  Sum. Inter  correlation ratio  F-stats  pvalue\n",
       "eta - test        37.2    264.1333             0.8765  42.6022     0.0"
      ]
     },
     "execution_count": 7,
     "metadata": {},
     "output_type": "execute_result"
    }
   ],
   "source": [
    "pd.DataFrame(eta2(suivi,notes),index=['eta - test'])"
   ]
  }
 ],
 "metadata": {
  "kernelspec": {
   "display_name": "Python 3",
   "language": "python",
   "name": "python3"
  },
  "language_info": {
   "codemirror_mode": {
    "name": "ipython",
    "version": 3
   },
   "file_extension": ".py",
   "mimetype": "text/x-python",
   "name": "python",
   "nbconvert_exporter": "python",
   "pygments_lexer": "ipython3",
   "version": "3.10.5"
  },
  "orig_nbformat": 4
 },
 "nbformat": 4,
 "nbformat_minor": 2
}
