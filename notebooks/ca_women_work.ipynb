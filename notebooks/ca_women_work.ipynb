{
 "cells": [
  {
   "cell_type": "markdown",
   "metadata": {},
   "source": [
    "# Correspondance Analysis - Women Work"
   ]
  },
  {
   "cell_type": "code",
   "execution_count": 1,
   "metadata": {},
   "outputs": [],
   "source": [
    "import pandas as pd\n",
    "url = \"http://factominer.free.fr/factomethods/datasets/women_work.txt\"\n",
    "women_work = pd.read_table(url,header=0)"
   ]
  },
  {
   "cell_type": "code",
   "execution_count": 2,
   "metadata": {},
   "outputs": [],
   "source": [
    "# Modèle avec colonnes supplémentaires\n",
    "from scientisttools.decomposition import CA\n",
    "my_ca1 = CA(n_components=None,\n",
    "            row_labels=women_work.index.values,\n",
    "            col_labels=women_work.columns[:3].values,\n",
    "            row_sup_labels=None,\n",
    "            col_sup_labels=women_work.columns[3:].values).fit(women_work)"
   ]
  },
  {
   "cell_type": "code",
   "execution_count": 3,
   "metadata": {},
   "outputs": [],
   "source": [
    "from scientisttools.ggplot import fviz_ca_col"
   ]
  },
  {
   "cell_type": "code",
   "execution_count": 4,
   "metadata": {},
   "outputs": [
    {
     "data": {
      "image/png": "[encoded data removed]",
      "text/plain": [
       "<Figure size 432x288 with 1 Axes>"
      ]
     },
     "metadata": {},
     "output_type": "display_data"
    },
    {
     "name": "stdout",
     "output_type": "stream",
     "text": [
      "\n"
     ]
    }
   ],
   "source": [
    "p = fviz_ca_col(self=my_ca1)\n",
    "print(p)"
   ]
  },
  {
   "cell_type": "code",
   "execution_count": 5,
   "metadata": {},
   "outputs": [
    {
     "data": {
      "text/plain": [
       "dict_keys(['Dim.1', 'Dim.2'])"
      ]
     },
     "execution_count": 5,
     "metadata": {},
     "output_type": "execute_result"
    }
   ],
   "source": [
    "from scientisttools.extractfactor import dimdesc\n",
    "DimDesc = dimdesc(my_ca1)\n",
    "DimDesc.keys()"
   ]
  },
  {
   "cell_type": "code",
   "execution_count": 7,
   "metadata": {},
   "outputs": [
    {
     "data": {
      "text/html": [
       "<div>\n",
       "<style scoped>\n",
       "    .dataframe tbody tr th:only-of-type {\n",
       "        vertical-align: middle;\n",
       "    }\n",
       "\n",
       "    .dataframe tbody tr th {\n",
       "        vertical-align: top;\n",
       "    }\n",
       "\n",
       "    .dataframe thead th {\n",
       "        text-align: right;\n",
       "    }\n",
       "</style>\n",
       "<table border=\"1\" class=\"dataframe\">\n",
       "  <thead>\n",
       "    <tr style=\"text-align: right;\">\n",
       "      <th></th>\n",
       "      <th>coord</th>\n",
       "    </tr>\n",
       "  </thead>\n",
       "  <tbody>\n",
       "    <tr>\n",
       "      <th>both.man.and.woman.work</th>\n",
       "      <td>-0.558605</td>\n",
       "    </tr>\n",
       "    <tr>\n",
       "      <th>man.morks.more</th>\n",
       "      <td>-0.243759</td>\n",
       "    </tr>\n",
       "    <tr>\n",
       "      <th>only.man.works</th>\n",
       "      <td>0.309562</td>\n",
       "    </tr>\n",
       "  </tbody>\n",
       "</table>\n",
       "</div>"
      ],
      "text/plain": [
       "                            coord\n",
       "both.man.and.woman.work -0.558605\n",
       "man.morks.more          -0.243759\n",
       "only.man.works           0.309562"
      ]
     },
     "execution_count": 7,
     "metadata": {},
     "output_type": "execute_result"
    }
   ],
   "source": [
    "DimDesc[\"Dim.1\"][\"row\"]"
   ]
  },
  {
   "cell_type": "code",
   "execution_count": 8,
   "metadata": {},
   "outputs": [
    {
     "data": {
      "text/html": [
       "<div>\n",
       "<style scoped>\n",
       "    .dataframe tbody tr th:only-of-type {\n",
       "        vertical-align: middle;\n",
       "    }\n",
       "\n",
       "    .dataframe tbody tr th {\n",
       "        vertical-align: top;\n",
       "    }\n",
       "\n",
       "    .dataframe thead th {\n",
       "        text-align: right;\n",
       "    }\n",
       "</style>\n",
       "<table border=\"1\" class=\"dataframe\">\n",
       "  <thead>\n",
       "    <tr style=\"text-align: right;\">\n",
       "      <th></th>\n",
       "      <th>coord</th>\n",
       "    </tr>\n",
       "  </thead>\n",
       "  <tbody>\n",
       "    <tr>\n",
       "      <th>full-time.work</th>\n",
       "      <td>-0.541113</td>\n",
       "    </tr>\n",
       "    <tr>\n",
       "      <th>housewives.cut.from.world.totally.agree</th>\n",
       "      <td>-0.421395</td>\n",
       "    </tr>\n",
       "    <tr>\n",
       "      <th>housewives.cut.from.world.quite.agree</th>\n",
       "      <td>-0.113230</td>\n",
       "    </tr>\n",
       "    <tr>\n",
       "      <th>part-time.work</th>\n",
       "      <td>-0.003638</td>\n",
       "    </tr>\n",
       "    <tr>\n",
       "      <th>housewives.cut.from.world.quite.disagree</th>\n",
       "      <td>0.236928</td>\n",
       "    </tr>\n",
       "    <tr>\n",
       "      <th>housewives.cut.from.world.totally.disagree</th>\n",
       "      <td>0.338720</td>\n",
       "    </tr>\n",
       "    <tr>\n",
       "      <th>stay.at.home</th>\n",
       "      <td>0.618376</td>\n",
       "    </tr>\n",
       "  </tbody>\n",
       "</table>\n",
       "</div>"
      ],
      "text/plain": [
       "                                               coord\n",
       "full-time.work                             -0.541113\n",
       "housewives.cut.from.world.totally.agree    -0.421395\n",
       "housewives.cut.from.world.quite.agree      -0.113230\n",
       "part-time.work                             -0.003638\n",
       "housewives.cut.from.world.quite.disagree    0.236928\n",
       "housewives.cut.from.world.totally.disagree  0.338720\n",
       "stay.at.home                                0.618376"
      ]
     },
     "execution_count": 8,
     "metadata": {},
     "output_type": "execute_result"
    }
   ],
   "source": [
    "DimDesc[\"Dim.1\"][\"col\"]"
   ]
  },
  {
   "cell_type": "code",
   "execution_count": 9,
   "metadata": {},
   "outputs": [
    {
     "data": {
      "text/html": [
       "<div>\n",
       "<style scoped>\n",
       "    .dataframe tbody tr th:only-of-type {\n",
       "        vertical-align: middle;\n",
       "    }\n",
       "\n",
       "    .dataframe tbody tr th {\n",
       "        vertical-align: top;\n",
       "    }\n",
       "\n",
       "    .dataframe thead th {\n",
       "        text-align: right;\n",
       "    }\n",
       "</style>\n",
       "<table border=\"1\" class=\"dataframe\">\n",
       "  <thead>\n",
       "    <tr style=\"text-align: right;\">\n",
       "      <th></th>\n",
       "      <th>coord</th>\n",
       "    </tr>\n",
       "  </thead>\n",
       "  <tbody>\n",
       "    <tr>\n",
       "      <th>man.morks.more</th>\n",
       "      <td>-0.172207</td>\n",
       "    </tr>\n",
       "    <tr>\n",
       "      <th>only.man.works</th>\n",
       "      <td>0.038173</td>\n",
       "    </tr>\n",
       "    <tr>\n",
       "      <th>both.man.and.woman.work</th>\n",
       "      <td>0.233387</td>\n",
       "    </tr>\n",
       "  </tbody>\n",
       "</table>\n",
       "</div>"
      ],
      "text/plain": [
       "                            coord\n",
       "man.morks.more          -0.172207\n",
       "only.man.works           0.038173\n",
       "both.man.and.woman.work  0.233387"
      ]
     },
     "execution_count": 9,
     "metadata": {},
     "output_type": "execute_result"
    }
   ],
   "source": [
    "DimDesc[\"Dim.2\"][\"row\"]"
   ]
  },
  {
   "cell_type": "code",
   "execution_count": 10,
   "metadata": {},
   "outputs": [
    {
     "data": {
      "text/html": [
       "<div>\n",
       "<style scoped>\n",
       "    .dataframe tbody tr th:only-of-type {\n",
       "        vertical-align: middle;\n",
       "    }\n",
       "\n",
       "    .dataframe tbody tr th {\n",
       "        vertical-align: top;\n",
       "    }\n",
       "\n",
       "    .dataframe thead th {\n",
       "        text-align: right;\n",
       "    }\n",
       "</style>\n",
       "<table border=\"1\" class=\"dataframe\">\n",
       "  <thead>\n",
       "    <tr style=\"text-align: right;\">\n",
       "      <th></th>\n",
       "      <th>coord</th>\n",
       "    </tr>\n",
       "  </thead>\n",
       "  <tbody>\n",
       "    <tr>\n",
       "      <th>part-time.work</th>\n",
       "      <td>-0.099654</td>\n",
       "    </tr>\n",
       "    <tr>\n",
       "      <th>housewives.cut.from.world.quite.agree</th>\n",
       "      <td>-0.069851</td>\n",
       "    </tr>\n",
       "    <tr>\n",
       "      <th>housewives.cut.from.world.totally.agree</th>\n",
       "      <td>-0.045932</td>\n",
       "    </tr>\n",
       "    <tr>\n",
       "      <th>housewives.cut.from.world.quite.disagree</th>\n",
       "      <td>0.033732</td>\n",
       "    </tr>\n",
       "    <tr>\n",
       "      <th>housewives.cut.from.world.totally.disagree</th>\n",
       "      <td>0.092381</td>\n",
       "    </tr>\n",
       "    <tr>\n",
       "      <th>stay.at.home</th>\n",
       "      <td>0.182662</td>\n",
       "    </tr>\n",
       "    <tr>\n",
       "      <th>full-time.work</th>\n",
       "      <td>0.189387</td>\n",
       "    </tr>\n",
       "  </tbody>\n",
       "</table>\n",
       "</div>"
      ],
      "text/plain": [
       "                                               coord\n",
       "part-time.work                             -0.099654\n",
       "housewives.cut.from.world.quite.agree      -0.069851\n",
       "housewives.cut.from.world.totally.agree    -0.045932\n",
       "housewives.cut.from.world.quite.disagree    0.033732\n",
       "housewives.cut.from.world.totally.disagree  0.092381\n",
       "stay.at.home                                0.182662\n",
       "full-time.work                              0.189387"
      ]
     },
     "execution_count": 10,
     "metadata": {},
     "output_type": "execute_result"
    }
   ],
   "source": [
    "DimDesc[\"Dim.2\"][\"col\"]"
   ]
  }
 ],
 "metadata": {
  "kernelspec": {
   "display_name": "Python 3",
   "language": "python",
   "name": "python3"
  },
  "language_info": {
   "codemirror_mode": {
    "name": "ipython",
    "version": 3
   },
   "file_extension": ".py",
   "mimetype": "text/x-python",
   "name": "python",
   "nbconvert_exporter": "python",
   "pygments_lexer": "ipython3",
   "version": "3.10.5"
  }
 },
 "nbformat": 4,
 "nbformat_minor": 2
}
