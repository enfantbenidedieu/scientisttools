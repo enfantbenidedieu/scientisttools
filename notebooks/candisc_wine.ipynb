{
 "cells": [
  {
   "attachments": {},
   "cell_type": "markdown",
   "metadata": {},
   "source": [
    "# Canonical Discriminant Analysis (CANDISC)"
   ]
  },
  {
   "cell_type": "code",
   "execution_count": 1,
   "metadata": {},
   "outputs": [
    {
     "data": {
      "text/html": [
       "<div>\n",
       "<style scoped>\n",
       "    .dataframe tbody tr th:only-of-type {\n",
       "        vertical-align: middle;\n",
       "    }\n",
       "\n",
       "    .dataframe tbody tr th {\n",
       "        vertical-align: top;\n",
       "    }\n",
       "\n",
       "    .dataframe thead th {\n",
       "        text-align: right;\n",
       "    }\n",
       "</style>\n",
       "<table border=\"1\" class=\"dataframe\">\n",
       "  <thead>\n",
       "    <tr style=\"text-align: right;\">\n",
       "      <th></th>\n",
       "      <th>Temperature</th>\n",
       "      <th>Soleil</th>\n",
       "      <th>Chaleur</th>\n",
       "      <th>Pluie</th>\n",
       "      <th>Qualite</th>\n",
       "    </tr>\n",
       "  </thead>\n",
       "  <tbody>\n",
       "    <tr>\n",
       "      <th>0</th>\n",
       "      <td>3064</td>\n",
       "      <td>1201</td>\n",
       "      <td>10</td>\n",
       "      <td>361</td>\n",
       "      <td>medium</td>\n",
       "    </tr>\n",
       "    <tr>\n",
       "      <th>1</th>\n",
       "      <td>3000</td>\n",
       "      <td>1053</td>\n",
       "      <td>11</td>\n",
       "      <td>338</td>\n",
       "      <td>bad</td>\n",
       "    </tr>\n",
       "    <tr>\n",
       "      <th>2</th>\n",
       "      <td>3155</td>\n",
       "      <td>1133</td>\n",
       "      <td>19</td>\n",
       "      <td>393</td>\n",
       "      <td>medium</td>\n",
       "    </tr>\n",
       "    <tr>\n",
       "      <th>3</th>\n",
       "      <td>3085</td>\n",
       "      <td>970</td>\n",
       "      <td>4</td>\n",
       "      <td>467</td>\n",
       "      <td>bad</td>\n",
       "    </tr>\n",
       "    <tr>\n",
       "      <th>4</th>\n",
       "      <td>3245</td>\n",
       "      <td>1258</td>\n",
       "      <td>36</td>\n",
       "      <td>294</td>\n",
       "      <td>good</td>\n",
       "    </tr>\n",
       "  </tbody>\n",
       "</table>\n",
       "</div>"
      ],
      "text/plain": [
       "   Temperature  Soleil  Chaleur  Pluie Qualite\n",
       "0         3064    1201       10    361  medium\n",
       "1         3000    1053       11    338     bad\n",
       "2         3155    1133       19    393  medium\n",
       "3         3085     970        4    467     bad\n",
       "4         3245    1258       36    294    good"
      ]
     },
     "execution_count": 1,
     "metadata": {},
     "output_type": "execute_result"
    }
   ],
   "source": [
    "# Chargement des librairies\n",
    "import numpy as np\n",
    "import pandas as pd\n",
    "\n",
    "import os\n",
    "os.chdir(\"d:/Bureau/PythonProject/packages/scientisttools/data/\")\n",
    "\n",
    "# Chargement de la base\n",
    "DTrain = pd.read_excel(\"Data_Illustration_Livre_ADL.xlsx\",sheet_name=\"WINE\",header=0)\n",
    "DTrain.head()"
   ]
  },
  {
   "cell_type": "code",
   "execution_count": 2,
   "metadata": {},
   "outputs": [],
   "source": [
    "from scientisttools.discriminant_analysis import CANDISC"
   ]
  },
  {
   "cell_type": "code",
   "execution_count": 3,
   "metadata": {},
   "outputs": [
    {
     "data": {
      "text/html": [
       "<style>#sk-container-id-1 {color: black;background-color: white;}#sk-container-id-1 pre{padding: 0;}#sk-container-id-1 div.sk-toggleable {background-color: white;}#sk-container-id-1 label.sk-toggleable__label {cursor: pointer;display: block;width: 100%;margin-bottom: 0;padding: 0.3em;box-sizing: border-box;text-align: center;}#sk-container-id-1 label.sk-toggleable__label-arrow:before {content: \"▸\";float: left;margin-right: 0.25em;color: #696969;}#sk-container-id-1 label.sk-toggleable__label-arrow:hover:before {color: black;}#sk-container-id-1 div.sk-estimator:hover label.sk-toggleable__label-arrow:before {color: black;}#sk-container-id-1 div.sk-toggleable__content {max-height: 0;max-width: 0;overflow: hidden;text-align: left;background-color: #f0f8ff;}#sk-container-id-1 div.sk-toggleable__content pre {margin: 0.2em;color: black;border-radius: 0.25em;background-color: #f0f8ff;}#sk-container-id-1 input.sk-toggleable__control:checked~div.sk-toggleable__content {max-height: 200px;max-width: 100%;overflow: auto;}#sk-container-id-1 input.sk-toggleable__control:checked~label.sk-toggleable__label-arrow:before {content: \"▾\";}#sk-container-id-1 div.sk-estimator input.sk-toggleable__control:checked~label.sk-toggleable__label {background-color: #d4ebff;}#sk-container-id-1 div.sk-label input.sk-toggleable__control:checked~label.sk-toggleable__label {background-color: #d4ebff;}#sk-container-id-1 input.sk-hidden--visually {border: 0;clip: rect(1px 1px 1px 1px);clip: rect(1px, 1px, 1px, 1px);height: 1px;margin: -1px;overflow: hidden;padding: 0;position: absolute;width: 1px;}#sk-container-id-1 div.sk-estimator {font-family: monospace;background-color: #f0f8ff;border: 1px dotted black;border-radius: 0.25em;box-sizing: border-box;margin-bottom: 0.5em;}#sk-container-id-1 div.sk-estimator:hover {background-color: #d4ebff;}#sk-container-id-1 div.sk-parallel-item::after {content: \"\";width: 100%;border-bottom: 1px solid gray;flex-grow: 1;}#sk-container-id-1 div.sk-label:hover label.sk-toggleable__label {background-color: #d4ebff;}#sk-container-id-1 div.sk-serial::before {content: \"\";position: absolute;border-left: 1px solid gray;box-sizing: border-box;top: 0;bottom: 0;left: 50%;z-index: 0;}#sk-container-id-1 div.sk-serial {display: flex;flex-direction: column;align-items: center;background-color: white;padding-right: 0.2em;padding-left: 0.2em;position: relative;}#sk-container-id-1 div.sk-item {position: relative;z-index: 1;}#sk-container-id-1 div.sk-parallel {display: flex;align-items: stretch;justify-content: center;background-color: white;position: relative;}#sk-container-id-1 div.sk-item::before, #sk-container-id-1 div.sk-parallel-item::before {content: \"\";position: absolute;border-left: 1px solid gray;box-sizing: border-box;top: 0;bottom: 0;left: 50%;z-index: -1;}#sk-container-id-1 div.sk-parallel-item {display: flex;flex-direction: column;z-index: 1;position: relative;background-color: white;}#sk-container-id-1 div.sk-parallel-item:first-child::after {align-self: flex-end;width: 50%;}#sk-container-id-1 div.sk-parallel-item:last-child::after {align-self: flex-start;width: 50%;}#sk-container-id-1 div.sk-parallel-item:only-child::after {width: 0;}#sk-container-id-1 div.sk-dashed-wrapped {border: 1px dashed gray;margin: 0 0.4em 0.5em 0.4em;box-sizing: border-box;padding-bottom: 0.4em;background-color: white;}#sk-container-id-1 div.sk-label label {font-family: monospace;font-weight: bold;display: inline-block;line-height: 1.2em;}#sk-container-id-1 div.sk-label-container {text-align: center;}#sk-container-id-1 div.sk-container {/* jupyter's `normalize.less` sets `[hidden] { display: none; }` but bootstrap.min.css set `[hidden] { display: none !important; }` so we also need the `!important` here to be able to override the default hidden behavior on the sphinx rendered scikit-learn.org. See: https://github.com/scikit-learn/scikit-learn/issues/21755 */display: inline-block !important;position: relative;}#sk-container-id-1 div.sk-text-repr-fallback {display: none;}</style><div id=\"sk-container-id-1\" class=\"sk-top-container\"><div class=\"sk-text-repr-fallback\"><pre>CANDISC(features_labels=[&#x27;Temperature&#x27;, &#x27;Soleil&#x27;, &#x27;Chaleur&#x27;, &#x27;Pluie&#x27;],\n",
       "        n_components=2, row_labels=RangeIndex(start=0, stop=34, step=1),\n",
       "        target=[&#x27;Qualite&#x27;])</pre><b>In a Jupyter environment, please rerun this cell to show the HTML representation or trust the notebook. <br />On GitHub, the HTML representation is unable to render, please try loading this page with nbviewer.org.</b></div><div class=\"sk-container\" hidden><div class=\"sk-item\"><div class=\"sk-estimator sk-toggleable\"><input class=\"sk-toggleable__control sk-hidden--visually\" id=\"sk-estimator-id-1\" type=\"checkbox\" checked><label for=\"sk-estimator-id-1\" class=\"sk-toggleable__label sk-toggleable__label-arrow\">CANDISC</label><div class=\"sk-toggleable__content\"><pre>CANDISC(features_labels=[&#x27;Temperature&#x27;, &#x27;Soleil&#x27;, &#x27;Chaleur&#x27;, &#x27;Pluie&#x27;],\n",
       "        n_components=2, row_labels=RangeIndex(start=0, stop=34, step=1),\n",
       "        target=[&#x27;Qualite&#x27;])</pre></div></div></div></div></div>"
      ],
      "text/plain": [
       "CANDISC(features_labels=['Temperature', 'Soleil', 'Chaleur', 'Pluie'],\n",
       "        n_components=2, row_labels=RangeIndex(start=0, stop=34, step=1),\n",
       "        target=['Qualite'])"
      ]
     },
     "execution_count": 3,
     "metadata": {},
     "output_type": "execute_result"
    }
   ],
   "source": [
    "candisc = CANDISC(n_components=2,\n",
    "                  target=[\"Qualite\"],\n",
    "                  row_labels=DTrain.index,\n",
    "                  features_labels=list(DTrain.columns[:-1]),\n",
    "                  priors=None,\n",
    "                  parallelize=False)\n",
    "# Entraînement\n",
    "candisc.fit(DTrain)"
   ]
  },
  {
   "cell_type": "code",
   "execution_count": 4,
   "metadata": {},
   "outputs": [],
   "source": [
    "from scientisttools.ggplot import fviz_candisc"
   ]
  },
  {
   "cell_type": "code",
   "execution_count": 5,
   "metadata": {},
   "outputs": [
    {
     "name": "stdout",
     "output_type": "stream",
     "text": [
      "Qualite\n"
     ]
    },
    {
     "name": "stderr",
     "output_type": "stream",
     "text": [
      "C:\\Users\\duver\\AppData\\Roaming\\Python\\Python310\\site-packages\\plotnine\\layer.py:411: PlotnineWarning: geom_point : Removed 34 rows containing missing values.\n",
      "C:\\Users\\duver\\AppData\\Roaming\\Python\\Python310\\site-packages\\plotnine\\guides\\guides.py:253: PlotnineWarning: geom_point legend : Removed 4 rows containing missing values.\n"
     ]
    },
    {
     "data": {
      "image/png": "[encoded data removed]",
      "text/plain": [
       "<Figure size 432x288 with 1 Axes>"
      ]
     },
     "metadata": {},
     "output_type": "display_data"
    },
    {
     "name": "stdout",
     "output_type": "stream",
     "text": [
      "\n"
     ]
    }
   ],
   "source": [
    "p = fviz_candisc(candisc)\n",
    "print(p)"
   ]
  },
  {
   "cell_type": "code",
   "execution_count": 6,
   "metadata": {},
   "outputs": [
    {
     "data": {
      "text/html": [
       "<div>\n",
       "<style scoped>\n",
       "    .dataframe tbody tr th:only-of-type {\n",
       "        vertical-align: middle;\n",
       "    }\n",
       "\n",
       "    .dataframe tbody tr th {\n",
       "        vertical-align: top;\n",
       "    }\n",
       "\n",
       "    .dataframe thead th {\n",
       "        text-align: right;\n",
       "    }\n",
       "</style>\n",
       "<table border=\"1\" class=\"dataframe\">\n",
       "  <thead>\n",
       "    <tr style=\"text-align: right;\">\n",
       "      <th></th>\n",
       "      <th>Sum. Intra</th>\n",
       "      <th>Sum. Inter</th>\n",
       "      <th>correlation ratio</th>\n",
       "      <th>F-stats</th>\n",
       "      <th>pvalue</th>\n",
       "    </tr>\n",
       "  </thead>\n",
       "  <tbody>\n",
       "    <tr>\n",
       "      <th>Temperature</th>\n",
       "      <td>237722.1212</td>\n",
       "      <td>420067.4082</td>\n",
       "      <td>0.6386</td>\n",
       "      <td>27.3893</td>\n",
       "      <td>0.0000</td>\n",
       "    </tr>\n",
       "    <tr>\n",
       "      <th>Soleil</th>\n",
       "      <td>202192.3712</td>\n",
       "      <td>326909.0700</td>\n",
       "      <td>0.6179</td>\n",
       "      <td>25.0607</td>\n",
       "      <td>0.0000</td>\n",
       "    </tr>\n",
       "    <tr>\n",
       "      <th>Chaleur</th>\n",
       "      <td>1664.3712</td>\n",
       "      <td>1646.5700</td>\n",
       "      <td>0.4973</td>\n",
       "      <td>15.3342</td>\n",
       "      <td>0.0000</td>\n",
       "    </tr>\n",
       "    <tr>\n",
       "      <th>Pluie</th>\n",
       "      <td>178499.2121</td>\n",
       "      <td>97191.1702</td>\n",
       "      <td>0.3525</td>\n",
       "      <td>8.4396</td>\n",
       "      <td>0.0012</td>\n",
       "    </tr>\n",
       "  </tbody>\n",
       "</table>\n",
       "</div>"
      ],
      "text/plain": [
       "              Sum. Intra   Sum. Inter  correlation ratio  F-stats  pvalue\n",
       "Temperature  237722.1212  420067.4082             0.6386  27.3893  0.0000\n",
       "Soleil       202192.3712  326909.0700             0.6179  25.0607  0.0000\n",
       "Chaleur        1664.3712    1646.5700             0.4973  15.3342  0.0000\n",
       "Pluie        178499.2121   97191.1702             0.3525   8.4396  0.0012"
      ]
     },
     "execution_count": 6,
     "metadata": {},
     "output_type": "execute_result"
    }
   ],
   "source": [
    "candisc.correlation_ratio_"
   ]
  },
  {
   "cell_type": "code",
   "execution_count": 7,
   "metadata": {},
   "outputs": [
    {
     "data": {
      "text/html": [
       "<div>\n",
       "<style scoped>\n",
       "    .dataframe tbody tr th:only-of-type {\n",
       "        vertical-align: middle;\n",
       "    }\n",
       "\n",
       "    .dataframe tbody tr th {\n",
       "        vertical-align: top;\n",
       "    }\n",
       "\n",
       "    .dataframe thead th {\n",
       "        text-align: right;\n",
       "    }\n",
       "</style>\n",
       "<table border=\"1\" class=\"dataframe\">\n",
       "  <thead>\n",
       "    <tr style=\"text-align: right;\">\n",
       "      <th></th>\n",
       "      <th></th>\n",
       "      <th>sum_sq</th>\n",
       "      <th>df</th>\n",
       "      <th>mean_sq</th>\n",
       "      <th>F</th>\n",
       "      <th>PR(&gt;F)</th>\n",
       "      <th>eta_sq</th>\n",
       "      <th>omega_sq</th>\n",
       "    </tr>\n",
       "  </thead>\n",
       "  <tbody>\n",
       "    <tr>\n",
       "      <th rowspan=\"2\" valign=\"top\">Temperature</th>\n",
       "      <th>C(Qualite)</th>\n",
       "      <td>420067.408200</td>\n",
       "      <td>2.0</td>\n",
       "      <td>210033.704100</td>\n",
       "      <td>27.389310</td>\n",
       "      <td>1.408416e-07</td>\n",
       "      <td>0.638605</td>\n",
       "      <td>0.608198</td>\n",
       "    </tr>\n",
       "    <tr>\n",
       "      <th>Residual</th>\n",
       "      <td>237722.121212</td>\n",
       "      <td>31.0</td>\n",
       "      <td>7668.455523</td>\n",
       "      <td>NaN</td>\n",
       "      <td>NaN</td>\n",
       "      <td>NaN</td>\n",
       "      <td>NaN</td>\n",
       "    </tr>\n",
       "    <tr>\n",
       "      <th rowspan=\"2\" valign=\"top\">Soleil</th>\n",
       "      <th>C(Qualite)</th>\n",
       "      <td>326909.069964</td>\n",
       "      <td>2.0</td>\n",
       "      <td>163454.534982</td>\n",
       "      <td>25.060741</td>\n",
       "      <td>3.345802e-07</td>\n",
       "      <td>0.617857</td>\n",
       "      <td>0.585979</td>\n",
       "    </tr>\n",
       "    <tr>\n",
       "      <th>Residual</th>\n",
       "      <td>202192.371212</td>\n",
       "      <td>31.0</td>\n",
       "      <td>6522.334555</td>\n",
       "      <td>NaN</td>\n",
       "      <td>NaN</td>\n",
       "      <td>NaN</td>\n",
       "      <td>NaN</td>\n",
       "    </tr>\n",
       "    <tr>\n",
       "      <th rowspan=\"2\" valign=\"top\">Chaleur</th>\n",
       "      <th>C(Qualite)</th>\n",
       "      <td>1646.569964</td>\n",
       "      <td>2.0</td>\n",
       "      <td>823.284982</td>\n",
       "      <td>15.334220</td>\n",
       "      <td>2.344932e-05</td>\n",
       "      <td>0.497312</td>\n",
       "      <td>0.457462</td>\n",
       "    </tr>\n",
       "    <tr>\n",
       "      <th>Residual</th>\n",
       "      <td>1664.371212</td>\n",
       "      <td>31.0</td>\n",
       "      <td>53.689394</td>\n",
       "      <td>NaN</td>\n",
       "      <td>NaN</td>\n",
       "      <td>NaN</td>\n",
       "      <td>NaN</td>\n",
       "    </tr>\n",
       "    <tr>\n",
       "      <th rowspan=\"2\" valign=\"top\">Pluie</th>\n",
       "      <th>C(Qualite)</th>\n",
       "      <td>97191.170232</td>\n",
       "      <td>2.0</td>\n",
       "      <td>48595.585116</td>\n",
       "      <td>8.439607</td>\n",
       "      <td>1.185298e-03</td>\n",
       "      <td>0.352537</td>\n",
       "      <td>0.304408</td>\n",
       "    </tr>\n",
       "    <tr>\n",
       "      <th>Residual</th>\n",
       "      <td>178499.212121</td>\n",
       "      <td>31.0</td>\n",
       "      <td>5758.039101</td>\n",
       "      <td>NaN</td>\n",
       "      <td>NaN</td>\n",
       "      <td>NaN</td>\n",
       "      <td>NaN</td>\n",
       "    </tr>\n",
       "  </tbody>\n",
       "</table>\n",
       "</div>"
      ],
      "text/plain": [
       "                               sum_sq    df        mean_sq          F  \\\n",
       "Temperature C(Qualite)  420067.408200   2.0  210033.704100  27.389310   \n",
       "            Residual    237722.121212  31.0    7668.455523        NaN   \n",
       "Soleil      C(Qualite)  326909.069964   2.0  163454.534982  25.060741   \n",
       "            Residual    202192.371212  31.0    6522.334555        NaN   \n",
       "Chaleur     C(Qualite)    1646.569964   2.0     823.284982  15.334220   \n",
       "            Residual      1664.371212  31.0      53.689394        NaN   \n",
       "Pluie       C(Qualite)   97191.170232   2.0   48595.585116   8.439607   \n",
       "            Residual    178499.212121  31.0    5758.039101        NaN   \n",
       "\n",
       "                              PR(>F)    eta_sq  omega_sq  \n",
       "Temperature C(Qualite)  1.408416e-07  0.638605  0.608198  \n",
       "            Residual             NaN       NaN       NaN  \n",
       "Soleil      C(Qualite)  3.345802e-07  0.617857  0.585979  \n",
       "            Residual             NaN       NaN       NaN  \n",
       "Chaleur     C(Qualite)  2.344932e-05  0.497312  0.457462  \n",
       "            Residual             NaN       NaN       NaN  \n",
       "Pluie       C(Qualite)  1.185298e-03  0.352537  0.304408  \n",
       "            Residual             NaN       NaN       NaN  "
      ]
     },
     "execution_count": 7,
     "metadata": {},
     "output_type": "execute_result"
    }
   ],
   "source": [
    "candisc.anova_"
   ]
  },
  {
   "cell_type": "code",
   "execution_count": 8,
   "metadata": {},
   "outputs": [
    {
     "name": "stdout",
     "output_type": "stream",
     "text": [
      "                 Multivariate linear model\n",
      "============================================================\n",
      "                                                            \n",
      "------------------------------------------------------------\n",
      "        Qualite         Value  Num DF  Den DF F Value Pr > F\n",
      "------------------------------------------------------------\n",
      "          Wilks' lambda 0.2053 8.0000 56.0000  8.4505 0.0000\n",
      "         Pillai's trace 0.8880 8.0000 58.0000  5.7896 0.0000\n",
      " Hotelling-Lawley trace 3.4174 8.0000 37.7500 11.7280 0.0000\n",
      "    Roy's greatest root 3.2789 4.0000 29.0000 23.7717 0.0000\n",
      "============================================================\n",
      "\n"
     ]
    }
   ],
   "source": [
    "print(candisc.manova_) # ne pas oublier d'utiliser print"
   ]
  },
  {
   "attachments": {},
   "cell_type": "markdown",
   "metadata": {},
   "source": [
    "## Coefficients canoniques bruts"
   ]
  },
  {
   "cell_type": "code",
   "execution_count": 9,
   "metadata": {},
   "outputs": [],
   "source": [
    "from scientisttools.extractfactor import get_candisc_coef"
   ]
  },
  {
   "cell_type": "code",
   "execution_count": 10,
   "metadata": {},
   "outputs": [
    {
     "data": {
      "text/html": [
       "<div>\n",
       "<style scoped>\n",
       "    .dataframe tbody tr th:only-of-type {\n",
       "        vertical-align: middle;\n",
       "    }\n",
       "\n",
       "    .dataframe tbody tr th {\n",
       "        vertical-align: top;\n",
       "    }\n",
       "\n",
       "    .dataframe thead th {\n",
       "        text-align: right;\n",
       "    }\n",
       "</style>\n",
       "<table border=\"1\" class=\"dataframe\">\n",
       "  <thead>\n",
       "    <tr style=\"text-align: right;\">\n",
       "      <th></th>\n",
       "      <th>LD1</th>\n",
       "      <th>LD2</th>\n",
       "    </tr>\n",
       "  </thead>\n",
       "  <tbody>\n",
       "    <tr>\n",
       "      <th>Temperature</th>\n",
       "      <td>0.008566</td>\n",
       "      <td>0.000046</td>\n",
       "    </tr>\n",
       "    <tr>\n",
       "      <th>Soleil</th>\n",
       "      <td>0.006774</td>\n",
       "      <td>0.005329</td>\n",
       "    </tr>\n",
       "    <tr>\n",
       "      <th>Chaleur</th>\n",
       "      <td>-0.027054</td>\n",
       "      <td>-0.127636</td>\n",
       "    </tr>\n",
       "    <tr>\n",
       "      <th>Pluie</th>\n",
       "      <td>-0.005866</td>\n",
       "      <td>-0.006175</td>\n",
       "    </tr>\n",
       "    <tr>\n",
       "      <th>Intercept</th>\n",
       "      <td>-32.876282</td>\n",
       "      <td>-2.165279</td>\n",
       "    </tr>\n",
       "  </tbody>\n",
       "</table>\n",
       "</div>"
      ],
      "text/plain": [
       "                   LD1       LD2\n",
       "Temperature   0.008566  0.000046\n",
       "Soleil        0.006774  0.005329\n",
       "Chaleur      -0.027054 -0.127636\n",
       "Pluie        -0.005866 -0.006175\n",
       "Intercept   -32.876282 -2.165279"
      ]
     },
     "execution_count": 10,
     "metadata": {},
     "output_type": "execute_result"
    }
   ],
   "source": [
    "# Coefficients\n",
    "coef = get_candisc_coef(candisc)\n",
    "coef"
   ]
  },
  {
   "cell_type": "code",
   "execution_count": 11,
   "metadata": {},
   "outputs": [
    {
     "data": {
      "image/png": "[encoded data removed]",
      "text/plain": [
       "<Figure size 1600x800 with 1 Axes>"
      ]
     },
     "metadata": {},
     "output_type": "display_data"
    }
   ],
   "source": [
    "from scientisttools.pyplot import plotCANDISC\n",
    "import matplotlib.pyplot as plt \n",
    "\n",
    "fig, axe =plt.subplots(figsize=(16,8))\n",
    "plotCANDISC(candisc,color=[\"blue\",'#5DC83F','red'],marker=['o',\"*\",'>'],ax=axe)\n",
    "plt.show()"
   ]
  },
  {
   "cell_type": "code",
   "execution_count": 12,
   "metadata": {},
   "outputs": [
    {
     "data": {
      "text/html": [
       "<div>\n",
       "<style scoped>\n",
       "    .dataframe tbody tr th:only-of-type {\n",
       "        vertical-align: middle;\n",
       "    }\n",
       "\n",
       "    .dataframe tbody tr th {\n",
       "        vertical-align: top;\n",
       "    }\n",
       "\n",
       "    .dataframe thead th {\n",
       "        text-align: right;\n",
       "    }\n",
       "</style>\n",
       "<table border=\"1\" class=\"dataframe\">\n",
       "  <thead>\n",
       "    <tr style=\"text-align: right;\">\n",
       "      <th></th>\n",
       "      <th>Stat</th>\n",
       "      <th>Value</th>\n",
       "      <th>p-value</th>\n",
       "    </tr>\n",
       "  </thead>\n",
       "  <tbody>\n",
       "    <tr>\n",
       "      <th>0</th>\n",
       "      <td>Wilks' Lambda</td>\n",
       "      <td>0.205263</td>\n",
       "      <td>NaN</td>\n",
       "    </tr>\n",
       "    <tr>\n",
       "      <th>1</th>\n",
       "      <td>Bartlett -- C(8)</td>\n",
       "      <td>46.712169</td>\n",
       "      <td>1.739815e-07</td>\n",
       "    </tr>\n",
       "    <tr>\n",
       "      <th>2</th>\n",
       "      <td>Rao -- F(8,56)</td>\n",
       "      <td>8.450507</td>\n",
       "      <td>1.890358e-07</td>\n",
       "    </tr>\n",
       "  </tbody>\n",
       "</table>\n",
       "</div>"
      ],
      "text/plain": [
       "               Stat      Value       p-value\n",
       "0     Wilks' Lambda   0.205263           NaN\n",
       "1  Bartlett -- C(8)  46.712169  1.739815e-07\n",
       "2    Rao -- F(8,56)   8.450507  1.890358e-07"
      ]
     },
     "execution_count": 12,
     "metadata": {},
     "output_type": "execute_result"
    }
   ],
   "source": [
    "candisc.global_performance_"
   ]
  },
  {
   "cell_type": "code",
   "execution_count": 13,
   "metadata": {},
   "outputs": [
    {
     "data": {
      "text/html": [
       "<div>\n",
       "<style scoped>\n",
       "    .dataframe tbody tr th:only-of-type {\n",
       "        vertical-align: middle;\n",
       "    }\n",
       "\n",
       "    .dataframe tbody tr th {\n",
       "        vertical-align: top;\n",
       "    }\n",
       "\n",
       "    .dataframe thead th {\n",
       "        text-align: right;\n",
       "    }\n",
       "</style>\n",
       "<table border=\"1\" class=\"dataframe\">\n",
       "  <thead>\n",
       "    <tr style=\"text-align: right;\">\n",
       "      <th></th>\n",
       "      <th>statistic</th>\n",
       "      <th>DDL num.</th>\n",
       "      <th>DDL den.</th>\n",
       "      <th>Pr&gt;F</th>\n",
       "    </tr>\n",
       "  </thead>\n",
       "  <tbody>\n",
       "    <tr>\n",
       "      <th>0</th>\n",
       "      <td>8.450507</td>\n",
       "      <td>8.0</td>\n",
       "      <td>56.0</td>\n",
       "      <td>1.890358e-07</td>\n",
       "    </tr>\n",
       "    <tr>\n",
       "      <th>1</th>\n",
       "      <td>1.339549</td>\n",
       "      <td>3.0</td>\n",
       "      <td>29.0</td>\n",
       "      <td>2.807850e-01</td>\n",
       "    </tr>\n",
       "  </tbody>\n",
       "</table>\n",
       "</div>"
      ],
      "text/plain": [
       "   statistic  DDL num.  DDL den.          Pr>F\n",
       "0   8.450507       8.0      56.0  1.890358e-07\n",
       "1   1.339549       3.0      29.0  2.807850e-01"
      ]
     },
     "execution_count": 13,
     "metadata": {},
     "output_type": "execute_result"
    }
   ],
   "source": [
    "candisc.likelihood_test_"
   ]
  },
  {
   "cell_type": "code",
   "execution_count": 14,
   "metadata": {},
   "outputs": [
    {
     "data": {
      "text/html": [
       "<div>\n",
       "<style scoped>\n",
       "    .dataframe tbody tr th:only-of-type {\n",
       "        vertical-align: middle;\n",
       "    }\n",
       "\n",
       "    .dataframe tbody tr th {\n",
       "        vertical-align: top;\n",
       "    }\n",
       "\n",
       "    .dataframe thead th {\n",
       "        text-align: right;\n",
       "    }\n",
       "</style>\n",
       "<table border=\"1\" class=\"dataframe\">\n",
       "  <thead>\n",
       "    <tr style=\"text-align: right;\">\n",
       "      <th></th>\n",
       "      <th></th>\n",
       "      <th>Temperature</th>\n",
       "      <th>Soleil</th>\n",
       "      <th>Chaleur</th>\n",
       "      <th>Pluie</th>\n",
       "    </tr>\n",
       "  </thead>\n",
       "  <tbody>\n",
       "    <tr>\n",
       "      <th rowspan=\"4\" valign=\"top\">Total</th>\n",
       "      <th>Temperature</th>\n",
       "      <td>19346.750865</td>\n",
       "      <td>12360.302768</td>\n",
       "      <td>1187.420415</td>\n",
       "      <td>-5130.448097</td>\n",
       "    </tr>\n",
       "    <tr>\n",
       "      <th>Soleil</th>\n",
       "      <td>12360.302768</td>\n",
       "      <td>15561.807093</td>\n",
       "      <td>795.792388</td>\n",
       "      <td>-5317.760381</td>\n",
       "    </tr>\n",
       "    <tr>\n",
       "      <th>Chaleur</th>\n",
       "      <td>1187.420415</td>\n",
       "      <td>795.792388</td>\n",
       "      <td>97.380623</td>\n",
       "      <td>-356.451557</td>\n",
       "    </tr>\n",
       "    <tr>\n",
       "      <th>Pluie</th>\n",
       "      <td>-5130.448097</td>\n",
       "      <td>-5317.760381</td>\n",
       "      <td>-356.451557</td>\n",
       "      <td>8108.540657</td>\n",
       "    </tr>\n",
       "    <tr>\n",
       "      <th rowspan=\"4\" valign=\"top\">Between</th>\n",
       "      <th>Temperature</th>\n",
       "      <td>12354.923771</td>\n",
       "      <td>10646.046975</td>\n",
       "      <td>766.804551</td>\n",
       "      <td>-5522.721715</td>\n",
       "    </tr>\n",
       "    <tr>\n",
       "      <th>Soleil</th>\n",
       "      <td>10646.046975</td>\n",
       "      <td>9614.972646</td>\n",
       "      <td>641.521220</td>\n",
       "      <td>-5173.700666</td>\n",
       "    </tr>\n",
       "    <tr>\n",
       "      <th>Chaleur</th>\n",
       "      <td>766.804551</td>\n",
       "      <td>641.521220</td>\n",
       "      <td>48.428528</td>\n",
       "      <td>-324.701111</td>\n",
       "    </tr>\n",
       "    <tr>\n",
       "      <th>Pluie</th>\n",
       "      <td>-5522.721715</td>\n",
       "      <td>-5173.700666</td>\n",
       "      <td>-324.701111</td>\n",
       "      <td>2858.563830</td>\n",
       "    </tr>\n",
       "    <tr>\n",
       "      <th rowspan=\"4\" valign=\"top\">Within</th>\n",
       "      <th>Temperature</th>\n",
       "      <td>6991.827094</td>\n",
       "      <td>1714.255793</td>\n",
       "      <td>420.615865</td>\n",
       "      <td>392.273619</td>\n",
       "    </tr>\n",
       "    <tr>\n",
       "      <th>Soleil</th>\n",
       "      <td>1714.255793</td>\n",
       "      <td>5946.834447</td>\n",
       "      <td>154.271168</td>\n",
       "      <td>-144.059715</td>\n",
       "    </tr>\n",
       "    <tr>\n",
       "      <th>Chaleur</th>\n",
       "      <td>420.615865</td>\n",
       "      <td>154.271168</td>\n",
       "      <td>48.952094</td>\n",
       "      <td>-31.750446</td>\n",
       "    </tr>\n",
       "    <tr>\n",
       "      <th>Pluie</th>\n",
       "      <td>392.273619</td>\n",
       "      <td>-144.059715</td>\n",
       "      <td>-31.750446</td>\n",
       "      <td>5249.976827</td>\n",
       "    </tr>\n",
       "  </tbody>\n",
       "</table>\n",
       "</div>"
      ],
      "text/plain": [
       "                      Temperature        Soleil      Chaleur        Pluie\n",
       "Total   Temperature  19346.750865  12360.302768  1187.420415 -5130.448097\n",
       "        Soleil       12360.302768  15561.807093   795.792388 -5317.760381\n",
       "        Chaleur       1187.420415    795.792388    97.380623  -356.451557\n",
       "        Pluie        -5130.448097  -5317.760381  -356.451557  8108.540657\n",
       "Between Temperature  12354.923771  10646.046975   766.804551 -5522.721715\n",
       "        Soleil       10646.046975   9614.972646   641.521220 -5173.700666\n",
       "        Chaleur        766.804551    641.521220    48.428528  -324.701111\n",
       "        Pluie        -5522.721715  -5173.700666  -324.701111  2858.563830\n",
       "Within  Temperature   6991.827094   1714.255793   420.615865   392.273619\n",
       "        Soleil        1714.255793   5946.834447   154.271168  -144.059715\n",
       "        Chaleur        420.615865    154.271168    48.952094   -31.750446\n",
       "        Pluie          392.273619   -144.059715   -31.750446  5249.976827"
      ]
     },
     "execution_count": 14,
     "metadata": {},
     "output_type": "execute_result"
    }
   ],
   "source": [
    "from scientisttools.extractfactor import get_candisc_var\n",
    "# Covariance\n",
    "pd.concat(get_candisc_var(candisc,choice=\"covariance\"),axis=0)"
   ]
  },
  {
   "cell_type": "code",
   "execution_count": 15,
   "metadata": {},
   "outputs": [
    {
     "data": {
      "text/html": [
       "<div>\n",
       "<style scoped>\n",
       "    .dataframe tbody tr th:only-of-type {\n",
       "        vertical-align: middle;\n",
       "    }\n",
       "\n",
       "    .dataframe tbody tr th {\n",
       "        vertical-align: top;\n",
       "    }\n",
       "\n",
       "    .dataframe thead th {\n",
       "        text-align: right;\n",
       "    }\n",
       "</style>\n",
       "<table border=\"1\" class=\"dataframe\">\n",
       "  <thead>\n",
       "    <tr style=\"text-align: right;\">\n",
       "      <th></th>\n",
       "      <th></th>\n",
       "      <th>LD1</th>\n",
       "      <th>LD2</th>\n",
       "    </tr>\n",
       "  </thead>\n",
       "  <tbody>\n",
       "    <tr>\n",
       "      <th rowspan=\"4\" valign=\"top\">Total</th>\n",
       "      <th>Temperature</th>\n",
       "      <td>0.900589</td>\n",
       "      <td>-0.374779</td>\n",
       "    </tr>\n",
       "    <tr>\n",
       "      <th>Soleil</th>\n",
       "      <td>0.896744</td>\n",
       "      <td>0.116190</td>\n",
       "    </tr>\n",
       "    <tr>\n",
       "      <th>Chaleur</th>\n",
       "      <td>0.770513</td>\n",
       "      <td>-0.590030</td>\n",
       "    </tr>\n",
       "    <tr>\n",
       "      <th>Pluie</th>\n",
       "      <td>-0.662815</td>\n",
       "      <td>-0.361294</td>\n",
       "    </tr>\n",
       "    <tr>\n",
       "      <th rowspan=\"4\" valign=\"top\">Between</th>\n",
       "      <th>Temperature</th>\n",
       "      <td>0.986524</td>\n",
       "      <td>-0.163614</td>\n",
       "    </tr>\n",
       "    <tr>\n",
       "      <th>Soleil</th>\n",
       "      <td>0.998669</td>\n",
       "      <td>0.051569</td>\n",
       "    </tr>\n",
       "    <tr>\n",
       "      <th>Chaleur</th>\n",
       "      <td>0.956452</td>\n",
       "      <td>-0.291891</td>\n",
       "    </tr>\n",
       "    <tr>\n",
       "      <th>Pluie</th>\n",
       "      <td>-0.977208</td>\n",
       "      <td>-0.212284</td>\n",
       "    </tr>\n",
       "    <tr>\n",
       "      <th rowspan=\"4\" valign=\"top\">Within</th>\n",
       "      <th>Temperature</th>\n",
       "      <td>0.724221</td>\n",
       "      <td>-0.584256</td>\n",
       "    </tr>\n",
       "    <tr>\n",
       "      <th>Soleil</th>\n",
       "      <td>0.701280</td>\n",
       "      <td>0.176148</td>\n",
       "    </tr>\n",
       "    <tr>\n",
       "      <th>Chaleur</th>\n",
       "      <td>0.525372</td>\n",
       "      <td>-0.779910</td>\n",
       "    </tr>\n",
       "    <tr>\n",
       "      <th>Pluie</th>\n",
       "      <td>-0.398218</td>\n",
       "      <td>-0.420797</td>\n",
       "    </tr>\n",
       "  </tbody>\n",
       "</table>\n",
       "</div>"
      ],
      "text/plain": [
       "                          LD1       LD2\n",
       "Total   Temperature  0.900589 -0.374779\n",
       "        Soleil       0.896744  0.116190\n",
       "        Chaleur      0.770513 -0.590030\n",
       "        Pluie       -0.662815 -0.361294\n",
       "Between Temperature  0.986524 -0.163614\n",
       "        Soleil       0.998669  0.051569\n",
       "        Chaleur      0.956452 -0.291891\n",
       "        Pluie       -0.977208 -0.212284\n",
       "Within  Temperature  0.724221 -0.584256\n",
       "        Soleil       0.701280  0.176148\n",
       "        Chaleur      0.525372 -0.779910\n",
       "        Pluie       -0.398218 -0.420797"
      ]
     },
     "execution_count": 15,
     "metadata": {},
     "output_type": "execute_result"
    }
   ],
   "source": [
    "# Correlation avec les axes\n",
    "pd.concat(get_candisc_var(candisc,choice=\"correlation\"),axis=0)"
   ]
  },
  {
   "attachments": {},
   "cell_type": "markdown",
   "metadata": {},
   "source": [
    "### Individus supplémentaires"
   ]
  },
  {
   "cell_type": "code",
   "execution_count": 16,
   "metadata": {},
   "outputs": [
    {
     "data": {
      "text/html": [
       "<div>\n",
       "<style scoped>\n",
       "    .dataframe tbody tr th:only-of-type {\n",
       "        vertical-align: middle;\n",
       "    }\n",
       "\n",
       "    .dataframe tbody tr th {\n",
       "        vertical-align: top;\n",
       "    }\n",
       "\n",
       "    .dataframe thead th {\n",
       "        text-align: right;\n",
       "    }\n",
       "</style>\n",
       "<table border=\"1\" class=\"dataframe\">\n",
       "  <thead>\n",
       "    <tr style=\"text-align: right;\">\n",
       "      <th></th>\n",
       "      <th>Temperature</th>\n",
       "      <th>Soleil</th>\n",
       "      <th>Chaleur</th>\n",
       "      <th>Pluie</th>\n",
       "    </tr>\n",
       "  </thead>\n",
       "  <tbody>\n",
       "    <tr>\n",
       "      <th>1958</th>\n",
       "      <td>3000</td>\n",
       "      <td>1100</td>\n",
       "      <td>20</td>\n",
       "      <td>300</td>\n",
       "    </tr>\n",
       "  </tbody>\n",
       "</table>\n",
       "</div>"
      ],
      "text/plain": [
       "      Temperature  Soleil  Chaleur  Pluie\n",
       "1958         3000    1100       20    300"
      ]
     },
     "execution_count": 16,
     "metadata": {},
     "output_type": "execute_result"
    }
   ],
   "source": [
    "## Inidvidu supplémentaire\n",
    "XTest = pd.DataFrame({\"Temperature\" : 3000, \"Soleil\" : 1100, \"Chaleur\" : 20, \"Pluie\" : 300},index=[1958])\n",
    "XTest"
   ]
  },
  {
   "cell_type": "code",
   "execution_count": 17,
   "metadata": {},
   "outputs": [
    {
     "data": {
      "text/html": [
       "<div>\n",
       "<style scoped>\n",
       "    .dataframe tbody tr th:only-of-type {\n",
       "        vertical-align: middle;\n",
       "    }\n",
       "\n",
       "    .dataframe tbody tr th {\n",
       "        vertical-align: top;\n",
       "    }\n",
       "\n",
       "    .dataframe thead th {\n",
       "        text-align: right;\n",
       "    }\n",
       "</style>\n",
       "<table border=\"1\" class=\"dataframe\">\n",
       "  <thead>\n",
       "    <tr style=\"text-align: right;\">\n",
       "      <th></th>\n",
       "      <th>LD1</th>\n",
       "      <th>LD2</th>\n",
       "    </tr>\n",
       "  </thead>\n",
       "  <tbody>\n",
       "    <tr>\n",
       "      <th>1958</th>\n",
       "      <td>-2.027679</td>\n",
       "      <td>-0.569395</td>\n",
       "    </tr>\n",
       "  </tbody>\n",
       "</table>\n",
       "</div>"
      ],
      "text/plain": [
       "           LD1       LD2\n",
       "1958 -2.027679 -0.569395"
      ]
     },
     "execution_count": 17,
     "metadata": {},
     "output_type": "execute_result"
    }
   ],
   "source": [
    "candisc.transform(XTest)"
   ]
  },
  {
   "cell_type": "code",
   "execution_count": 18,
   "metadata": {},
   "outputs": [
    {
     "data": {
      "text/html": [
       "<div>\n",
       "<style scoped>\n",
       "    .dataframe tbody tr th:only-of-type {\n",
       "        vertical-align: middle;\n",
       "    }\n",
       "\n",
       "    .dataframe tbody tr th {\n",
       "        vertical-align: top;\n",
       "    }\n",
       "\n",
       "    .dataframe thead th {\n",
       "        text-align: right;\n",
       "    }\n",
       "</style>\n",
       "<table border=\"1\" class=\"dataframe\">\n",
       "  <thead>\n",
       "    <tr style=\"text-align: right;\">\n",
       "      <th></th>\n",
       "      <th>bad</th>\n",
       "      <th>good</th>\n",
       "      <th>medium</th>\n",
       "    </tr>\n",
       "  </thead>\n",
       "  <tbody>\n",
       "    <tr>\n",
       "      <th>1958</th>\n",
       "      <td>1.114437</td>\n",
       "      <td>-7.56466</td>\n",
       "      <td>-1.859627</td>\n",
       "    </tr>\n",
       "  </tbody>\n",
       "</table>\n",
       "</div>"
      ],
      "text/plain": [
       "           bad     good    medium\n",
       "1958  1.114437 -7.56466 -1.859627"
      ]
     },
     "execution_count": 18,
     "metadata": {},
     "output_type": "execute_result"
    }
   ],
   "source": [
    "candisc.decision_function(XTest)"
   ]
  },
  {
   "cell_type": "code",
   "execution_count": 19,
   "metadata": {},
   "outputs": [
    {
     "data": {
      "text/html": [
       "<div>\n",
       "<style scoped>\n",
       "    .dataframe tbody tr th:only-of-type {\n",
       "        vertical-align: middle;\n",
       "    }\n",
       "\n",
       "    .dataframe tbody tr th {\n",
       "        vertical-align: top;\n",
       "    }\n",
       "\n",
       "    .dataframe thead th {\n",
       "        text-align: right;\n",
       "    }\n",
       "</style>\n",
       "<table border=\"1\" class=\"dataframe\">\n",
       "  <thead>\n",
       "    <tr style=\"text-align: right;\">\n",
       "      <th></th>\n",
       "      <th>bad</th>\n",
       "      <th>good</th>\n",
       "      <th>medium</th>\n",
       "    </tr>\n",
       "  </thead>\n",
       "  <tbody>\n",
       "    <tr>\n",
       "      <th>1958</th>\n",
       "      <td>0.951235</td>\n",
       "      <td>0.000162</td>\n",
       "      <td>0.048604</td>\n",
       "    </tr>\n",
       "  </tbody>\n",
       "</table>\n",
       "</div>"
      ],
      "text/plain": [
       "           bad      good    medium\n",
       "1958  0.951235  0.000162  0.048604"
      ]
     },
     "execution_count": 19,
     "metadata": {},
     "output_type": "execute_result"
    }
   ],
   "source": [
    "candisc.predict_proba(XTest)"
   ]
  },
  {
   "attachments": {},
   "cell_type": "markdown",
   "metadata": {},
   "source": [
    "## Fonctions de décision"
   ]
  },
  {
   "cell_type": "code",
   "execution_count": 20,
   "metadata": {},
   "outputs": [
    {
     "data": {
      "text/html": [
       "<div>\n",
       "<style scoped>\n",
       "    .dataframe tbody tr th:only-of-type {\n",
       "        vertical-align: middle;\n",
       "    }\n",
       "\n",
       "    .dataframe tbody tr th {\n",
       "        vertical-align: top;\n",
       "    }\n",
       "\n",
       "    .dataframe thead th {\n",
       "        text-align: right;\n",
       "    }\n",
       "</style>\n",
       "<table border=\"1\" class=\"dataframe\">\n",
       "  <thead>\n",
       "    <tr style=\"text-align: right;\">\n",
       "      <th></th>\n",
       "      <th>bad</th>\n",
       "      <th>good</th>\n",
       "      <th>medium</th>\n",
       "    </tr>\n",
       "  </thead>\n",
       "  <tbody>\n",
       "    <tr>\n",
       "      <th>Temperature</th>\n",
       "      <td>-0.017821</td>\n",
       "      <td>0.018164</td>\n",
       "      <td>0.001277</td>\n",
       "    </tr>\n",
       "    <tr>\n",
       "      <th>Soleil</th>\n",
       "      <td>-0.015263</td>\n",
       "      <td>0.012925</td>\n",
       "      <td>0.003726</td>\n",
       "    </tr>\n",
       "    <tr>\n",
       "      <th>Chaleur</th>\n",
       "      <td>0.084484</td>\n",
       "      <td>-0.022716</td>\n",
       "      <td>-0.069449</td>\n",
       "    </tr>\n",
       "    <tr>\n",
       "      <th>Pluie</th>\n",
       "      <td>0.013562</td>\n",
       "      <td>-0.010768</td>\n",
       "      <td>-0.004026</td>\n",
       "    </tr>\n",
       "    <tr>\n",
       "      <th>Intercept</th>\n",
       "      <td>65.609287</td>\n",
       "      <td>-72.590473</td>\n",
       "      <td>-7.191833</td>\n",
       "    </tr>\n",
       "  </tbody>\n",
       "</table>\n",
       "</div>"
      ],
      "text/plain": [
       "                   bad       good    medium\n",
       "Temperature  -0.017821   0.018164  0.001277\n",
       "Soleil       -0.015263   0.012925  0.003726\n",
       "Chaleur       0.084484  -0.022716 -0.069449\n",
       "Pluie         0.013562  -0.010768 -0.004026\n",
       "Intercept    65.609287 -72.590473 -7.191833"
      ]
     },
     "execution_count": 20,
     "metadata": {},
     "output_type": "execute_result"
    }
   ],
   "source": [
    "score_coef = get_candisc_coef(candisc,choice=\"score\")\n",
    "score_coef"
   ]
  },
  {
   "cell_type": "code",
   "execution_count": 21,
   "metadata": {},
   "outputs": [],
   "source": [
    "XTrain = DTrain.drop(columns=[\"Qualite\"])"
   ]
  },
  {
   "cell_type": "code",
   "execution_count": 22,
   "metadata": {},
   "outputs": [
    {
     "data": {
      "text/html": [
       "<div>\n",
       "<style scoped>\n",
       "    .dataframe tbody tr th:only-of-type {\n",
       "        vertical-align: middle;\n",
       "    }\n",
       "\n",
       "    .dataframe tbody tr th {\n",
       "        vertical-align: top;\n",
       "    }\n",
       "\n",
       "    .dataframe thead th {\n",
       "        text-align: right;\n",
       "    }\n",
       "</style>\n",
       "<table border=\"1\" class=\"dataframe\">\n",
       "  <thead>\n",
       "    <tr style=\"text-align: right;\">\n",
       "      <th></th>\n",
       "      <th>bad</th>\n",
       "      <th>good</th>\n",
       "      <th>medium</th>\n",
       "    </tr>\n",
       "  </thead>\n",
       "  <tbody>\n",
       "    <tr>\n",
       "      <th>0</th>\n",
       "      <td>-1.585276</td>\n",
       "      <td>-5.526406</td>\n",
       "      <td>-0.952740</td>\n",
       "    </tr>\n",
       "    <tr>\n",
       "      <th>1</th>\n",
       "      <td>1.586807</td>\n",
       "      <td>-8.376910</td>\n",
       "      <td>-1.562690</td>\n",
       "    </tr>\n",
       "    <tr>\n",
       "      <th>2</th>\n",
       "      <td>-0.974760</td>\n",
       "      <td>-5.301410</td>\n",
       "      <td>-1.843753</td>\n",
       "    </tr>\n",
       "    <tr>\n",
       "      <th>3</th>\n",
       "      <td>2.496957</td>\n",
       "      <td>-9.135866</td>\n",
       "      <td>-1.796625</td>\n",
       "    </tr>\n",
       "    <tr>\n",
       "      <th>4</th>\n",
       "      <td>-4.392974</td>\n",
       "      <td>-1.371053</td>\n",
       "      <td>-2.045149</td>\n",
       "    </tr>\n",
       "  </tbody>\n",
       "</table>\n",
       "</div>"
      ],
      "text/plain": [
       "        bad      good    medium\n",
       "0 -1.585276 -5.526406 -0.952740\n",
       "1  1.586807 -8.376910 -1.562690\n",
       "2 -0.974760 -5.301410 -1.843753\n",
       "3  2.496957 -9.135866 -1.796625\n",
       "4 -4.392974 -1.371053 -2.045149"
      ]
     },
     "execution_count": 22,
     "metadata": {},
     "output_type": "execute_result"
    }
   ],
   "source": [
    "candisc.decision_function(XTrain).head()"
   ]
  },
  {
   "cell_type": "code",
   "execution_count": 23,
   "metadata": {},
   "outputs": [
    {
     "data": {
      "text/html": [
       "<div>\n",
       "<style scoped>\n",
       "    .dataframe tbody tr th:only-of-type {\n",
       "        vertical-align: middle;\n",
       "    }\n",
       "\n",
       "    .dataframe tbody tr th {\n",
       "        vertical-align: top;\n",
       "    }\n",
       "\n",
       "    .dataframe thead th {\n",
       "        text-align: right;\n",
       "    }\n",
       "</style>\n",
       "<table border=\"1\" class=\"dataframe\">\n",
       "  <thead>\n",
       "    <tr style=\"text-align: right;\">\n",
       "      <th></th>\n",
       "      <th>bad</th>\n",
       "      <th>good</th>\n",
       "      <th>medium</th>\n",
       "    </tr>\n",
       "  </thead>\n",
       "  <tbody>\n",
       "    <tr>\n",
       "      <th>0</th>\n",
       "      <td>0.344613</td>\n",
       "      <td>0.006695</td>\n",
       "      <td>0.648692</td>\n",
       "    </tr>\n",
       "    <tr>\n",
       "      <th>1</th>\n",
       "      <td>0.958846</td>\n",
       "      <td>0.000045</td>\n",
       "      <td>0.041109</td>\n",
       "    </tr>\n",
       "    <tr>\n",
       "      <th>2</th>\n",
       "      <td>0.698039</td>\n",
       "      <td>0.009222</td>\n",
       "      <td>0.292739</td>\n",
       "    </tr>\n",
       "    <tr>\n",
       "      <th>3</th>\n",
       "      <td>0.986519</td>\n",
       "      <td>0.000009</td>\n",
       "      <td>0.013472</td>\n",
       "    </tr>\n",
       "    <tr>\n",
       "      <th>4</th>\n",
       "      <td>0.031256</td>\n",
       "      <td>0.641715</td>\n",
       "      <td>0.327029</td>\n",
       "    </tr>\n",
       "  </tbody>\n",
       "</table>\n",
       "</div>"
      ],
      "text/plain": [
       "        bad      good    medium\n",
       "0  0.344613  0.006695  0.648692\n",
       "1  0.958846  0.000045  0.041109\n",
       "2  0.698039  0.009222  0.292739\n",
       "3  0.986519  0.000009  0.013472\n",
       "4  0.031256  0.641715  0.327029"
      ]
     },
     "execution_count": 23,
     "metadata": {},
     "output_type": "execute_result"
    }
   ],
   "source": [
    "candisc.predict_proba(XTrain).head()"
   ]
  },
  {
   "cell_type": "code",
   "execution_count": 24,
   "metadata": {},
   "outputs": [
    {
     "data": {
      "text/html": [
       "<div>\n",
       "<style scoped>\n",
       "    .dataframe tbody tr th:only-of-type {\n",
       "        vertical-align: middle;\n",
       "    }\n",
       "\n",
       "    .dataframe tbody tr th {\n",
       "        vertical-align: top;\n",
       "    }\n",
       "\n",
       "    .dataframe thead th {\n",
       "        text-align: right;\n",
       "    }\n",
       "</style>\n",
       "<table border=\"1\" class=\"dataframe\">\n",
       "  <thead>\n",
       "    <tr style=\"text-align: right;\">\n",
       "      <th></th>\n",
       "      <th>predict</th>\n",
       "    </tr>\n",
       "  </thead>\n",
       "  <tbody>\n",
       "    <tr>\n",
       "      <th>0</th>\n",
       "      <td>medium</td>\n",
       "    </tr>\n",
       "    <tr>\n",
       "      <th>1</th>\n",
       "      <td>bad</td>\n",
       "    </tr>\n",
       "    <tr>\n",
       "      <th>2</th>\n",
       "      <td>bad</td>\n",
       "    </tr>\n",
       "    <tr>\n",
       "      <th>3</th>\n",
       "      <td>bad</td>\n",
       "    </tr>\n",
       "    <tr>\n",
       "      <th>4</th>\n",
       "      <td>good</td>\n",
       "    </tr>\n",
       "  </tbody>\n",
       "</table>\n",
       "</div>"
      ],
      "text/plain": [
       "  predict\n",
       "0  medium\n",
       "1     bad\n",
       "2     bad\n",
       "3     bad\n",
       "4    good"
      ]
     },
     "execution_count": 24,
     "metadata": {},
     "output_type": "execute_result"
    }
   ],
   "source": [
    "candisc.predict(XTrain).head()"
   ]
  },
  {
   "cell_type": "code",
   "execution_count": 25,
   "metadata": {},
   "outputs": [
    {
     "data": {
      "text/plain": [
       "0.7941176470588235"
      ]
     },
     "execution_count": 25,
     "metadata": {},
     "output_type": "execute_result"
    }
   ],
   "source": [
    "# score \n",
    "candisc.score(XTrain,DTrain[\"Qualite\"])"
   ]
  },
  {
   "cell_type": "code",
   "execution_count": 26,
   "metadata": {},
   "outputs": [
    {
     "name": "stdout",
     "output_type": "stream",
     "text": [
      "                     Canonical Discriminant Analysis - Results                     \n",
      "\n",
      "\n",
      "Summary Information\n",
      "|       |   Total Sample Size |   Variables |   Classes |   DF Total |   DF Within Classes |   DF Between Classes |\n",
      "|:------|--------------------:|------------:|----------:|-----------:|--------------------:|---------------------:|\n",
      "| value |                  34 |           4 |         3 |         33 |                  31 |                    2 |\n",
      "\n",
      "Class Level information\n",
      "|             |   n(k) |     p(k) |\n",
      "|:------------|-------:|---------:|\n",
      "| ('bad',)    |     12 | 0.352941 |\n",
      "| ('good',)   |     11 | 0.323529 |\n",
      "| ('medium',) |     11 | 0.323529 |\n",
      "\n",
      "Importance of components\n",
      "|                         |    LD1 |     LD2 |\n",
      "|:------------------------|-------:|--------:|\n",
      "| Variance                |  3.279 |   0.139 |\n",
      "| Difference              |  3.14  | nan     |\n",
      "| % of var.               | 95.945 |   4.055 |\n",
      "| Cumulative of % of var. | 95.945 | 100     |\n",
      "\n",
      "Group means:\n",
      "| Qualite   |   Temperature |   Soleil |   Chaleur |   Pluie |\n",
      "|:----------|--------------:|---------:|----------:|--------:|\n",
      "| bad       |       3037.33 |  1126.42 |    12.083 | 430.333 |\n",
      "| good      |       3306.36 |  1363.64 |    28.545 | 305     |\n",
      "| medium    |       3140.91 |  1262.91 |    16.455 | 339.636 |\n",
      "\n",
      "Coefficients of canonical discriminants:\n",
      "|             |     LD1 |    LD2 |\n",
      "|:------------|--------:|-------:|\n",
      "| Temperature |   0.009 |  0     |\n",
      "| Soleil      |   0.007 |  0.005 |\n",
      "| Chaleur     |  -0.027 | -0.128 |\n",
      "| Pluie       |  -0.006 | -0.006 |\n",
      "| Intercept   | -32.876 | -2.165 |\n",
      "\n",
      "Classification functions coefficients:\n",
      "|             |    bad |    good |   medium |\n",
      "|:------------|-------:|--------:|---------:|\n",
      "| Temperature | -0.018 |   0.018 |    0.001 |\n",
      "| Soleil      | -0.015 |   0.013 |    0.004 |\n",
      "| Chaleur     |  0.084 |  -0.023 |   -0.069 |\n",
      "| Pluie       |  0.014 |  -0.011 |   -0.004 |\n",
      "| Intercept   | 65.609 | -72.59  |   -7.192 |\n",
      "\n",
      "Individuals (the 10 first)\n",
      "\n",
      "|    |    LD1 |    LD2 |\n",
      "|---:|-------:|-------:|\n",
      "|  0 | -0.883 |  0.872 |\n",
      "|  1 | -2.325 |  0.094 |\n",
      "|  2 | -0.995 | -0.833 |\n",
      "|  3 | -2.727 | -0.247 |\n",
      "|  4 |  0.744 | -1.721 |\n",
      "|  5 |  2.231 | -0.484 |\n",
      "|  6 | -2.747 | -1.109 |\n",
      "|  7 | -2.534 | -0.236 |\n",
      "|  8 | -3.731 | -2.114 |\n",
      "|  9 |  1.13  | -1.368 |\n",
      "\n",
      "Continues variables\n",
      "\n",
      "|             |   total.1 |   between.1 |   within.1 |   total.2 |   between.2 |   within.2 |\n",
      "|:------------|----------:|------------:|-----------:|----------:|------------:|-----------:|\n",
      "| Temperature |     0.901 |       0.987 |      0.724 |    -0.375 |      -0.164 |     -0.584 |\n",
      "| Soleil      |     0.897 |       0.999 |      0.701 |     0.116 |       0.052 |      0.176 |\n",
      "| Chaleur     |     0.771 |       0.956 |      0.525 |    -0.59  |      -0.292 |     -0.78  |\n",
      "| Pluie       |    -0.663 |      -0.977 |     -0.398 |    -0.361 |      -0.212 |     -0.421 |\n"
     ]
    }
   ],
   "source": [
    "from scientisttools.extractfactor import summaryCANDISC\n",
    "summaryCANDISC(candisc,to_markdown=True)"
   ]
  },
  {
   "attachments": {},
   "cell_type": "markdown",
   "metadata": {},
   "source": [
    "## Backward Elimination"
   ]
  },
  {
   "cell_type": "code",
   "execution_count": 27,
   "metadata": {},
   "outputs": [
    {
     "name": "stdout",
     "output_type": "stream",
     "text": [
      "             Wilks L.  Partial L.         F   p-value\n",
      "Temperature  0.213053    0.750263  4.660113  0.017906\n",
      "Soleil       0.220777    0.724016  5.336596  0.010876\n",
      "Chaleur      0.181627    0.880076  1.907721  0.167217\n",
      "Pluie        0.205825    0.776611  4.027032  0.029030\n",
      "\n",
      "             Wilks L.  Partial L.         F   p-value\n",
      "Temperature  0.281219    0.645857  7.950792  0.001766\n",
      "Soleil       0.247078    0.735102  5.225166  0.011535\n",
      "Pluie        0.229942    0.789886  3.857090  0.032710\n",
      "\n",
      "             Wilks L.  Partial L.         F   p-value\n",
      "Temperature  0.358983    0.640536  8.417873  0.001254\n",
      "Soleil       0.339493    0.677309  7.146457  0.002896\n",
      "\n"
     ]
    },
    {
     "data": {
      "text/html": [
       "<style>#sk-container-id-2 {color: black;background-color: white;}#sk-container-id-2 pre{padding: 0;}#sk-container-id-2 div.sk-toggleable {background-color: white;}#sk-container-id-2 label.sk-toggleable__label {cursor: pointer;display: block;width: 100%;margin-bottom: 0;padding: 0.3em;box-sizing: border-box;text-align: center;}#sk-container-id-2 label.sk-toggleable__label-arrow:before {content: \"▸\";float: left;margin-right: 0.25em;color: #696969;}#sk-container-id-2 label.sk-toggleable__label-arrow:hover:before {color: black;}#sk-container-id-2 div.sk-estimator:hover label.sk-toggleable__label-arrow:before {color: black;}#sk-container-id-2 div.sk-toggleable__content {max-height: 0;max-width: 0;overflow: hidden;text-align: left;background-color: #f0f8ff;}#sk-container-id-2 div.sk-toggleable__content pre {margin: 0.2em;color: black;border-radius: 0.25em;background-color: #f0f8ff;}#sk-container-id-2 input.sk-toggleable__control:checked~div.sk-toggleable__content {max-height: 200px;max-width: 100%;overflow: auto;}#sk-container-id-2 input.sk-toggleable__control:checked~label.sk-toggleable__label-arrow:before {content: \"▾\";}#sk-container-id-2 div.sk-estimator input.sk-toggleable__control:checked~label.sk-toggleable__label {background-color: #d4ebff;}#sk-container-id-2 div.sk-label input.sk-toggleable__control:checked~label.sk-toggleable__label {background-color: #d4ebff;}#sk-container-id-2 input.sk-hidden--visually {border: 0;clip: rect(1px 1px 1px 1px);clip: rect(1px, 1px, 1px, 1px);height: 1px;margin: -1px;overflow: hidden;padding: 0;position: absolute;width: 1px;}#sk-container-id-2 div.sk-estimator {font-family: monospace;background-color: #f0f8ff;border: 1px dotted black;border-radius: 0.25em;box-sizing: border-box;margin-bottom: 0.5em;}#sk-container-id-2 div.sk-estimator:hover {background-color: #d4ebff;}#sk-container-id-2 div.sk-parallel-item::after {content: \"\";width: 100%;border-bottom: 1px solid gray;flex-grow: 1;}#sk-container-id-2 div.sk-label:hover label.sk-toggleable__label {background-color: #d4ebff;}#sk-container-id-2 div.sk-serial::before {content: \"\";position: absolute;border-left: 1px solid gray;box-sizing: border-box;top: 0;bottom: 0;left: 50%;z-index: 0;}#sk-container-id-2 div.sk-serial {display: flex;flex-direction: column;align-items: center;background-color: white;padding-right: 0.2em;padding-left: 0.2em;position: relative;}#sk-container-id-2 div.sk-item {position: relative;z-index: 1;}#sk-container-id-2 div.sk-parallel {display: flex;align-items: stretch;justify-content: center;background-color: white;position: relative;}#sk-container-id-2 div.sk-item::before, #sk-container-id-2 div.sk-parallel-item::before {content: \"\";position: absolute;border-left: 1px solid gray;box-sizing: border-box;top: 0;bottom: 0;left: 50%;z-index: -1;}#sk-container-id-2 div.sk-parallel-item {display: flex;flex-direction: column;z-index: 1;position: relative;background-color: white;}#sk-container-id-2 div.sk-parallel-item:first-child::after {align-self: flex-end;width: 50%;}#sk-container-id-2 div.sk-parallel-item:last-child::after {align-self: flex-start;width: 50%;}#sk-container-id-2 div.sk-parallel-item:only-child::after {width: 0;}#sk-container-id-2 div.sk-dashed-wrapped {border: 1px dashed gray;margin: 0 0.4em 0.5em 0.4em;box-sizing: border-box;padding-bottom: 0.4em;background-color: white;}#sk-container-id-2 div.sk-label label {font-family: monospace;font-weight: bold;display: inline-block;line-height: 1.2em;}#sk-container-id-2 div.sk-label-container {text-align: center;}#sk-container-id-2 div.sk-container {/* jupyter's `normalize.less` sets `[hidden] { display: none; }` but bootstrap.min.css set `[hidden] { display: none !important; }` so we also need the `!important` here to be able to override the default hidden behavior on the sphinx rendered scikit-learn.org. See: https://github.com/scikit-learn/scikit-learn/issues/21755 */display: inline-block !important;position: relative;}#sk-container-id-2 div.sk-text-repr-fallback {display: none;}</style><div id=\"sk-container-id-2\" class=\"sk-top-container\"><div class=\"sk-text-repr-fallback\"><pre>STEPDISC(method=&#x27;backward&#x27;, model_train=True)</pre><b>In a Jupyter environment, please rerun this cell to show the HTML representation or trust the notebook. <br />On GitHub, the HTML representation is unable to render, please try loading this page with nbviewer.org.</b></div><div class=\"sk-container\" hidden><div class=\"sk-item\"><div class=\"sk-estimator sk-toggleable\"><input class=\"sk-toggleable__control sk-hidden--visually\" id=\"sk-estimator-id-2\" type=\"checkbox\" checked><label for=\"sk-estimator-id-2\" class=\"sk-toggleable__label sk-toggleable__label-arrow\">STEPDISC</label><div class=\"sk-toggleable__content\"><pre>STEPDISC(method=&#x27;backward&#x27;, model_train=True)</pre></div></div></div></div></div>"
      ],
      "text/plain": [
       "STEPDISC(method='backward', model_train=True)"
      ]
     },
     "execution_count": 27,
     "metadata": {},
     "output_type": "execute_result"
    }
   ],
   "source": [
    "from scientisttools.discriminant_analysis import STEPDISC\n",
    "\n",
    "stepdisc = STEPDISC(method=\"backward\",alpha=0.01,model_train=True,verbose=True)\n",
    "stepdisc.fit(candisc)"
   ]
  },
  {
   "cell_type": "code",
   "execution_count": 28,
   "metadata": {},
   "outputs": [
    {
     "data": {
      "text/html": [
       "<style>#sk-container-id-3 {color: black;background-color: white;}#sk-container-id-3 pre{padding: 0;}#sk-container-id-3 div.sk-toggleable {background-color: white;}#sk-container-id-3 label.sk-toggleable__label {cursor: pointer;display: block;width: 100%;margin-bottom: 0;padding: 0.3em;box-sizing: border-box;text-align: center;}#sk-container-id-3 label.sk-toggleable__label-arrow:before {content: \"▸\";float: left;margin-right: 0.25em;color: #696969;}#sk-container-id-3 label.sk-toggleable__label-arrow:hover:before {color: black;}#sk-container-id-3 div.sk-estimator:hover label.sk-toggleable__label-arrow:before {color: black;}#sk-container-id-3 div.sk-toggleable__content {max-height: 0;max-width: 0;overflow: hidden;text-align: left;background-color: #f0f8ff;}#sk-container-id-3 div.sk-toggleable__content pre {margin: 0.2em;color: black;border-radius: 0.25em;background-color: #f0f8ff;}#sk-container-id-3 input.sk-toggleable__control:checked~div.sk-toggleable__content {max-height: 200px;max-width: 100%;overflow: auto;}#sk-container-id-3 input.sk-toggleable__control:checked~label.sk-toggleable__label-arrow:before {content: \"▾\";}#sk-container-id-3 div.sk-estimator input.sk-toggleable__control:checked~label.sk-toggleable__label {background-color: #d4ebff;}#sk-container-id-3 div.sk-label input.sk-toggleable__control:checked~label.sk-toggleable__label {background-color: #d4ebff;}#sk-container-id-3 input.sk-hidden--visually {border: 0;clip: rect(1px 1px 1px 1px);clip: rect(1px, 1px, 1px, 1px);height: 1px;margin: -1px;overflow: hidden;padding: 0;position: absolute;width: 1px;}#sk-container-id-3 div.sk-estimator {font-family: monospace;background-color: #f0f8ff;border: 1px dotted black;border-radius: 0.25em;box-sizing: border-box;margin-bottom: 0.5em;}#sk-container-id-3 div.sk-estimator:hover {background-color: #d4ebff;}#sk-container-id-3 div.sk-parallel-item::after {content: \"\";width: 100%;border-bottom: 1px solid gray;flex-grow: 1;}#sk-container-id-3 div.sk-label:hover label.sk-toggleable__label {background-color: #d4ebff;}#sk-container-id-3 div.sk-serial::before {content: \"\";position: absolute;border-left: 1px solid gray;box-sizing: border-box;top: 0;bottom: 0;left: 50%;z-index: 0;}#sk-container-id-3 div.sk-serial {display: flex;flex-direction: column;align-items: center;background-color: white;padding-right: 0.2em;padding-left: 0.2em;position: relative;}#sk-container-id-3 div.sk-item {position: relative;z-index: 1;}#sk-container-id-3 div.sk-parallel {display: flex;align-items: stretch;justify-content: center;background-color: white;position: relative;}#sk-container-id-3 div.sk-item::before, #sk-container-id-3 div.sk-parallel-item::before {content: \"\";position: absolute;border-left: 1px solid gray;box-sizing: border-box;top: 0;bottom: 0;left: 50%;z-index: -1;}#sk-container-id-3 div.sk-parallel-item {display: flex;flex-direction: column;z-index: 1;position: relative;background-color: white;}#sk-container-id-3 div.sk-parallel-item:first-child::after {align-self: flex-end;width: 50%;}#sk-container-id-3 div.sk-parallel-item:last-child::after {align-self: flex-start;width: 50%;}#sk-container-id-3 div.sk-parallel-item:only-child::after {width: 0;}#sk-container-id-3 div.sk-dashed-wrapped {border: 1px dashed gray;margin: 0 0.4em 0.5em 0.4em;box-sizing: border-box;padding-bottom: 0.4em;background-color: white;}#sk-container-id-3 div.sk-label label {font-family: monospace;font-weight: bold;display: inline-block;line-height: 1.2em;}#sk-container-id-3 div.sk-label-container {text-align: center;}#sk-container-id-3 div.sk-container {/* jupyter's `normalize.less` sets `[hidden] { display: none; }` but bootstrap.min.css set `[hidden] { display: none !important; }` so we also need the `!important` here to be able to override the default hidden behavior on the sphinx rendered scikit-learn.org. See: https://github.com/scikit-learn/scikit-learn/issues/21755 */display: inline-block !important;position: relative;}#sk-container-id-3 div.sk-text-repr-fallback {display: none;}</style><div id=\"sk-container-id-3\" class=\"sk-top-container\"><div class=\"sk-text-repr-fallback\"><pre>CANDISC(features_labels=[&#x27;Temperature&#x27;, &#x27;Soleil&#x27;],\n",
       "        row_labels=RangeIndex(start=0, stop=34, step=1), target=[&#x27;Qualite&#x27;])</pre><b>In a Jupyter environment, please rerun this cell to show the HTML representation or trust the notebook. <br />On GitHub, the HTML representation is unable to render, please try loading this page with nbviewer.org.</b></div><div class=\"sk-container\" hidden><div class=\"sk-item\"><div class=\"sk-estimator sk-toggleable\"><input class=\"sk-toggleable__control sk-hidden--visually\" id=\"sk-estimator-id-3\" type=\"checkbox\" checked><label for=\"sk-estimator-id-3\" class=\"sk-toggleable__label sk-toggleable__label-arrow\">CANDISC</label><div class=\"sk-toggleable__content\"><pre>CANDISC(features_labels=[&#x27;Temperature&#x27;, &#x27;Soleil&#x27;],\n",
       "        row_labels=RangeIndex(start=0, stop=34, step=1), target=[&#x27;Qualite&#x27;])</pre></div></div></div></div></div>"
      ],
      "text/plain": [
       "CANDISC(features_labels=['Temperature', 'Soleil'],\n",
       "        row_labels=RangeIndex(start=0, stop=34, step=1), target=['Qualite'])"
      ]
     },
     "execution_count": 28,
     "metadata": {},
     "output_type": "execute_result"
    }
   ],
   "source": [
    "stepdisc.train_model_"
   ]
  },
  {
   "cell_type": "code",
   "execution_count": 29,
   "metadata": {},
   "outputs": [
    {
     "data": {
      "image/png": "[encoded data removed]",
      "text/plain": [
       "<Figure size 1600x800 with 1 Axes>"
      ]
     },
     "metadata": {},
     "output_type": "display_data"
    }
   ],
   "source": [
    "fig, axe =plt.subplots(figsize=(16,8))\n",
    "plotCANDISC(stepdisc.train_model_,color=[\"blue\",'#5DC83F','red'],marker=['o',\"*\",'>'],ax=axe)\n",
    "plt.show()"
   ]
  },
  {
   "cell_type": "code",
   "execution_count": 30,
   "metadata": {},
   "outputs": [
    {
     "name": "stdout",
     "output_type": "stream",
     "text": [
      "                     Canonical Discriminant Analysis - Results                     \n",
      "\n",
      "\n",
      "Summary Information\n",
      "|       |   Total Sample Size |   Variables |   Classes |   DF Total |   DF Within Classes |   DF Between Classes |\n",
      "|:------|--------------------:|------------:|----------:|-----------:|--------------------:|---------------------:|\n",
      "| value |                  34 |           2 |         3 |         33 |                  31 |                    2 |\n",
      "\n",
      "Class Level information\n",
      "|             |   n(k) |     p(k) |\n",
      "|:------------|-------:|---------:|\n",
      "| ('bad',)    |     12 | 0.352941 |\n",
      "| ('good',)   |     11 | 0.323529 |\n",
      "| ('medium',) |     11 | 0.323529 |\n",
      "\n",
      "Importance of components\n",
      "|                         |    LD1 |     LD2 |\n",
      "|:------------------------|-------:|--------:|\n",
      "| Variance                |  2.643 |   0.053 |\n",
      "| Difference              |  2.59  | nan     |\n",
      "| % of var.               | 98.02  |   1.98  |\n",
      "| Cumulative of % of var. | 98.02  | 100     |\n",
      "\n",
      "Group means:\n",
      "| Qualite   |   Temperature |   Soleil |\n",
      "|:----------|--------------:|---------:|\n",
      "| bad       |       3037.33 |  1126.42 |\n",
      "| good      |       3306.36 |  1363.64 |\n",
      "| medium    |       3140.91 |  1262.91 |\n",
      "\n",
      "Coefficients of canonical discriminants:\n",
      "|             |     LD1 |    LD2 |\n",
      "|:------------|--------:|-------:|\n",
      "| Temperature |   0.007 | -0.009 |\n",
      "| Soleil      |   0.007 |  0.01  |\n",
      "| Intercept   | -32.868 | 16.032 |\n",
      "\n",
      "Classification functions coefficients:\n",
      "|             |    bad |    good |   medium |\n",
      "|:------------|-------:|--------:|---------:|\n",
      "| Temperature | -0.012 |   0.016 |   -0.003 |\n",
      "| Soleil      | -0.015 |   0.013 |    0.003 |\n",
      "| Intercept   | 54.095 | -70.474 |    4.269 |\n",
      "\n",
      "Individuals (the 10 first)\n",
      "\n",
      "|    |    LD1 |    LD2 |\n",
      "|---:|-------:|-------:|\n",
      "|  0 | -1.046 |  0.38  |\n",
      "|  1 | -2.629 | -0.577 |\n",
      "|  2 | -0.876 | -1.168 |\n",
      "|  3 | -2.615 | -2.227 |\n",
      "|  4 |  0.729 | -0.69  |\n",
      "|  5 |  1.85  |  0.445 |\n",
      "|  6 | -2.683 | -2.223 |\n",
      "|  7 | -1.807 |  1.083 |\n",
      "|  8 | -1.972 | -0.405 |\n",
      "|  9 |  1.662 | -0.819 |\n",
      "\n",
      "Continues variables\n",
      "\n",
      "|             |   total.1 |   between.1 |   within.1 |   total.2 |   between.2 |   within.2 |\n",
      "|:------------|----------:|------------:|-----------:|----------:|------------:|-----------:|\n",
      "| Temperature |     0.933 |       0.995 |      0.813 |    -0.359 |      -0.101 |     -0.582 |\n",
      "| Soleil      |     0.917 |       0.993 |      0.777 |     0.399 |       0.114 |      0.63  |\n"
     ]
    }
   ],
   "source": [
    "# Summary\n",
    "summaryCANDISC(stepdisc.train_model_,to_markdown=True)"
   ]
  }
 ],
 "metadata": {
  "kernelspec": {
   "display_name": "Python 3",
   "language": "python",
   "name": "python3"
  },
  "language_info": {
   "codemirror_mode": {
    "name": "ipython",
    "version": 3
   },
   "file_extension": ".py",
   "mimetype": "text/x-python",
   "name": "python",
   "nbconvert_exporter": "python",
   "pygments_lexer": "ipython3",
   "version": "3.10.5"
  },
  "orig_nbformat": 4
 },
 "nbformat": 4,
 "nbformat_minor": 2
}
