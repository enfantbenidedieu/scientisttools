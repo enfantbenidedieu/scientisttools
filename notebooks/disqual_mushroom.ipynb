{
 "cells": [
  {
   "attachments": {},
   "cell_type": "markdown",
   "metadata": {},
   "source": [
    "# Importation, partition train-test et DISQUAL"
   ]
  },
  {
   "cell_type": "code",
   "execution_count": 1,
   "metadata": {},
   "outputs": [
    {
     "name": "stdout",
     "output_type": "stream",
     "text": [
      "<class 'pandas.core.frame.DataFrame'>\n",
      "RangeIndex: 8124 entries, 0 to 8123\n",
      "Data columns (total 21 columns):\n",
      " #   Column             Non-Null Count  Dtype \n",
      "---  ------             --------------  ----- \n",
      " 0   capshape           8124 non-null   object\n",
      " 1   capsurface         8124 non-null   object\n",
      " 2   capcolor           8124 non-null   object\n",
      " 3   bruises            8124 non-null   object\n",
      " 4   gillattachment     8124 non-null   object\n",
      " 5   gillspacing        8124 non-null   object\n",
      " 6   gillsize           8124 non-null   object\n",
      " 7   gillcolor          8124 non-null   object\n",
      " 8   stalkshape         8124 non-null   object\n",
      " 9   stalksurfaceabove  8124 non-null   object\n",
      " 10  stalksurfacebelow  8124 non-null   object\n",
      " 11  stalkcoloraboveri  8124 non-null   object\n",
      " 12  stalkcolorbelowri  8124 non-null   object\n",
      " 13  veilcolor          8124 non-null   object\n",
      " 14  ringnumber         8124 non-null   object\n",
      " 15  ringtype           8124 non-null   object\n",
      " 16  sporeprintcolor    8124 non-null   object\n",
      " 17  population         8124 non-null   object\n",
      " 18  habitat            8124 non-null   object\n",
      " 19  classe             8124 non-null   object\n",
      " 20  SAMPLE_STATUS      8124 non-null   object\n",
      "dtypes: object(21)\n",
      "memory usage: 1.3+ MB\n"
     ]
    }
   ],
   "source": [
    "#changement de dossier\n",
    "import os\n",
    "os.chdir(\"d:/Bureau/PythonProject/packages/scientisttools/data/\")\n",
    "\n",
    "#importation des données\n",
    "import pandas\n",
    "df = pandas.read_excel(\"mushroom.xls\")\n",
    "df.info()"
   ]
  },
  {
   "cell_type": "code",
   "execution_count": 2,
   "metadata": {},
   "outputs": [
    {
     "data": {
      "text/html": [
       "<div>\n",
       "<style scoped>\n",
       "    .dataframe tbody tr th:only-of-type {\n",
       "        vertical-align: middle;\n",
       "    }\n",
       "\n",
       "    .dataframe tbody tr th {\n",
       "        vertical-align: top;\n",
       "    }\n",
       "\n",
       "    .dataframe thead th {\n",
       "        text-align: right;\n",
       "    }\n",
       "</style>\n",
       "<table border=\"1\" class=\"dataframe\">\n",
       "  <thead>\n",
       "    <tr style=\"text-align: right;\">\n",
       "      <th></th>\n",
       "      <th>capshape</th>\n",
       "      <th>capsurface</th>\n",
       "      <th>capcolor</th>\n",
       "      <th>bruises</th>\n",
       "      <th>gillattachment</th>\n",
       "      <th>gillspacing</th>\n",
       "      <th>gillsize</th>\n",
       "      <th>gillcolor</th>\n",
       "      <th>stalkshape</th>\n",
       "      <th>stalksurfaceabove</th>\n",
       "      <th>...</th>\n",
       "      <th>stalkcoloraboveri</th>\n",
       "      <th>stalkcolorbelowri</th>\n",
       "      <th>veilcolor</th>\n",
       "      <th>ringnumber</th>\n",
       "      <th>ringtype</th>\n",
       "      <th>sporeprintcolor</th>\n",
       "      <th>population</th>\n",
       "      <th>habitat</th>\n",
       "      <th>classe</th>\n",
       "      <th>SAMPLE_STATUS</th>\n",
       "    </tr>\n",
       "  </thead>\n",
       "  <tbody>\n",
       "    <tr>\n",
       "      <th>count</th>\n",
       "      <td>8124</td>\n",
       "      <td>8124</td>\n",
       "      <td>8124</td>\n",
       "      <td>8124</td>\n",
       "      <td>8124</td>\n",
       "      <td>8124</td>\n",
       "      <td>8124</td>\n",
       "      <td>8124</td>\n",
       "      <td>8124</td>\n",
       "      <td>8124</td>\n",
       "      <td>...</td>\n",
       "      <td>8124</td>\n",
       "      <td>8124</td>\n",
       "      <td>8124</td>\n",
       "      <td>8124</td>\n",
       "      <td>8124</td>\n",
       "      <td>8124</td>\n",
       "      <td>8124</td>\n",
       "      <td>8124</td>\n",
       "      <td>8124</td>\n",
       "      <td>8124</td>\n",
       "    </tr>\n",
       "    <tr>\n",
       "      <th>unique</th>\n",
       "      <td>6</td>\n",
       "      <td>4</td>\n",
       "      <td>10</td>\n",
       "      <td>2</td>\n",
       "      <td>2</td>\n",
       "      <td>2</td>\n",
       "      <td>2</td>\n",
       "      <td>12</td>\n",
       "      <td>2</td>\n",
       "      <td>4</td>\n",
       "      <td>...</td>\n",
       "      <td>9</td>\n",
       "      <td>9</td>\n",
       "      <td>4</td>\n",
       "      <td>3</td>\n",
       "      <td>5</td>\n",
       "      <td>9</td>\n",
       "      <td>6</td>\n",
       "      <td>7</td>\n",
       "      <td>2</td>\n",
       "      <td>2</td>\n",
       "    </tr>\n",
       "    <tr>\n",
       "      <th>top</th>\n",
       "      <td>x</td>\n",
       "      <td>y</td>\n",
       "      <td>n</td>\n",
       "      <td>f</td>\n",
       "      <td>f</td>\n",
       "      <td>c</td>\n",
       "      <td>b</td>\n",
       "      <td>b</td>\n",
       "      <td>t</td>\n",
       "      <td>s</td>\n",
       "      <td>...</td>\n",
       "      <td>w</td>\n",
       "      <td>w</td>\n",
       "      <td>w</td>\n",
       "      <td>o</td>\n",
       "      <td>p</td>\n",
       "      <td>w</td>\n",
       "      <td>v</td>\n",
       "      <td>d</td>\n",
       "      <td>edible</td>\n",
       "      <td>train</td>\n",
       "    </tr>\n",
       "    <tr>\n",
       "      <th>freq</th>\n",
       "      <td>3656</td>\n",
       "      <td>3244</td>\n",
       "      <td>2284</td>\n",
       "      <td>4748</td>\n",
       "      <td>7914</td>\n",
       "      <td>6812</td>\n",
       "      <td>5612</td>\n",
       "      <td>1728</td>\n",
       "      <td>4608</td>\n",
       "      <td>5176</td>\n",
       "      <td>...</td>\n",
       "      <td>4464</td>\n",
       "      <td>4384</td>\n",
       "      <td>7924</td>\n",
       "      <td>7488</td>\n",
       "      <td>3968</td>\n",
       "      <td>2388</td>\n",
       "      <td>4040</td>\n",
       "      <td>3148</td>\n",
       "      <td>4208</td>\n",
       "      <td>4124</td>\n",
       "    </tr>\n",
       "  </tbody>\n",
       "</table>\n",
       "<p>4 rows × 21 columns</p>\n",
       "</div>"
      ],
      "text/plain": [
       "       capshape capsurface capcolor bruises gillattachment gillspacing  \\\n",
       "count      8124       8124     8124    8124           8124        8124   \n",
       "unique        6          4       10       2              2           2   \n",
       "top           x          y        n       f              f           c   \n",
       "freq       3656       3244     2284    4748           7914        6812   \n",
       "\n",
       "       gillsize gillcolor stalkshape stalksurfaceabove  ... stalkcoloraboveri  \\\n",
       "count      8124      8124       8124              8124  ...              8124   \n",
       "unique        2        12          2                 4  ...                 9   \n",
       "top           b         b          t                 s  ...                 w   \n",
       "freq       5612      1728       4608              5176  ...              4464   \n",
       "\n",
       "       stalkcolorbelowri veilcolor ringnumber ringtype sporeprintcolor  \\\n",
       "count               8124      8124       8124     8124            8124   \n",
       "unique                 9         4          3        5               9   \n",
       "top                    w         w          o        p               w   \n",
       "freq                4384      7924       7488     3968            2388   \n",
       "\n",
       "       population habitat  classe SAMPLE_STATUS  \n",
       "count        8124    8124    8124          8124  \n",
       "unique          6       7       2             2  \n",
       "top             v       d  edible         train  \n",
       "freq         4040    3148    4208          4124  \n",
       "\n",
       "[4 rows x 21 columns]"
      ]
     },
     "execution_count": 2,
     "metadata": {},
     "output_type": "execute_result"
    }
   ],
   "source": [
    "#description\n",
    "df.describe(include='object')"
   ]
  },
  {
   "cell_type": "code",
   "execution_count": 3,
   "metadata": {},
   "outputs": [
    {
     "data": {
      "text/plain": [
       "capshape              6\n",
       "capsurface            4\n",
       "capcolor             10\n",
       "bruises               2\n",
       "gillattachment        2\n",
       "gillspacing           2\n",
       "gillsize              2\n",
       "gillcolor            12\n",
       "stalkshape            2\n",
       "stalksurfaceabove     4\n",
       "stalksurfacebelow     4\n",
       "stalkcoloraboveri     9\n",
       "stalkcolorbelowri     9\n",
       "veilcolor             4\n",
       "ringnumber            3\n",
       "ringtype              5\n",
       "sporeprintcolor       9\n",
       "population            6\n",
       "habitat               7\n",
       "classe                2\n",
       "SAMPLE_STATUS         2\n",
       "Name: unique, dtype: object"
      ]
     },
     "execution_count": 3,
     "metadata": {},
     "output_type": "execute_result"
    }
   ],
   "source": [
    "#valeurs par variable\n",
    "df.describe(include='object').loc['unique']"
   ]
  },
  {
   "cell_type": "code",
   "execution_count": 4,
   "metadata": {},
   "outputs": [
    {
     "name": "stdout",
     "output_type": "stream",
     "text": [
      "(4124, 20)\n",
      "(4000, 20)\n"
     ]
    }
   ],
   "source": [
    "#partition sur la base de la colonne SAMPLE_STATUS\n",
    "dfTrain = df.loc[df.SAMPLE_STATUS == 'train'].drop('SAMPLE_STATUS',axis='columns')\n",
    "dfTest = df.loc[df.SAMPLE_STATUS == 'test'].drop('SAMPLE_STATUS',axis='columns')\n",
    "\n",
    "#vérif.\n",
    "print(dfTrain.shape)\n",
    "print(dfTest.shape)"
   ]
  },
  {
   "cell_type": "code",
   "execution_count": 5,
   "metadata": {},
   "outputs": [],
   "source": [
    "#méthode DISQUAL instanciation\n",
    "from scientisttools.discriminant_analysis import DISQUAL\n",
    "disqual = DISQUAL(n_components=2,\n",
    "                  target=['classe'],\n",
    "                  features_labels=list(dfTrain.columns[:-1]),\n",
    "                  row_labels=dfTrain.index,\n",
    "                  parallelize=True)"
   ]
  },
  {
   "cell_type": "code",
   "execution_count": 6,
   "metadata": {},
   "outputs": [
    {
     "data": {
      "text/html": [
       "<style>#sk-container-id-1 {color: black;background-color: white;}#sk-container-id-1 pre{padding: 0;}#sk-container-id-1 div.sk-toggleable {background-color: white;}#sk-container-id-1 label.sk-toggleable__label {cursor: pointer;display: block;width: 100%;margin-bottom: 0;padding: 0.3em;box-sizing: border-box;text-align: center;}#sk-container-id-1 label.sk-toggleable__label-arrow:before {content: \"▸\";float: left;margin-right: 0.25em;color: #696969;}#sk-container-id-1 label.sk-toggleable__label-arrow:hover:before {color: black;}#sk-container-id-1 div.sk-estimator:hover label.sk-toggleable__label-arrow:before {color: black;}#sk-container-id-1 div.sk-toggleable__content {max-height: 0;max-width: 0;overflow: hidden;text-align: left;background-color: #f0f8ff;}#sk-container-id-1 div.sk-toggleable__content pre {margin: 0.2em;color: black;border-radius: 0.25em;background-color: #f0f8ff;}#sk-container-id-1 input.sk-toggleable__control:checked~div.sk-toggleable__content {max-height: 200px;max-width: 100%;overflow: auto;}#sk-container-id-1 input.sk-toggleable__control:checked~label.sk-toggleable__label-arrow:before {content: \"▾\";}#sk-container-id-1 div.sk-estimator input.sk-toggleable__control:checked~label.sk-toggleable__label {background-color: #d4ebff;}#sk-container-id-1 div.sk-label input.sk-toggleable__control:checked~label.sk-toggleable__label {background-color: #d4ebff;}#sk-container-id-1 input.sk-hidden--visually {border: 0;clip: rect(1px 1px 1px 1px);clip: rect(1px, 1px, 1px, 1px);height: 1px;margin: -1px;overflow: hidden;padding: 0;position: absolute;width: 1px;}#sk-container-id-1 div.sk-estimator {font-family: monospace;background-color: #f0f8ff;border: 1px dotted black;border-radius: 0.25em;box-sizing: border-box;margin-bottom: 0.5em;}#sk-container-id-1 div.sk-estimator:hover {background-color: #d4ebff;}#sk-container-id-1 div.sk-parallel-item::after {content: \"\";width: 100%;border-bottom: 1px solid gray;flex-grow: 1;}#sk-container-id-1 div.sk-label:hover label.sk-toggleable__label {background-color: #d4ebff;}#sk-container-id-1 div.sk-serial::before {content: \"\";position: absolute;border-left: 1px solid gray;box-sizing: border-box;top: 0;bottom: 0;left: 50%;z-index: 0;}#sk-container-id-1 div.sk-serial {display: flex;flex-direction: column;align-items: center;background-color: white;padding-right: 0.2em;padding-left: 0.2em;position: relative;}#sk-container-id-1 div.sk-item {position: relative;z-index: 1;}#sk-container-id-1 div.sk-parallel {display: flex;align-items: stretch;justify-content: center;background-color: white;position: relative;}#sk-container-id-1 div.sk-item::before, #sk-container-id-1 div.sk-parallel-item::before {content: \"\";position: absolute;border-left: 1px solid gray;box-sizing: border-box;top: 0;bottom: 0;left: 50%;z-index: -1;}#sk-container-id-1 div.sk-parallel-item {display: flex;flex-direction: column;z-index: 1;position: relative;background-color: white;}#sk-container-id-1 div.sk-parallel-item:first-child::after {align-self: flex-end;width: 50%;}#sk-container-id-1 div.sk-parallel-item:last-child::after {align-self: flex-start;width: 50%;}#sk-container-id-1 div.sk-parallel-item:only-child::after {width: 0;}#sk-container-id-1 div.sk-dashed-wrapped {border: 1px dashed gray;margin: 0 0.4em 0.5em 0.4em;box-sizing: border-box;padding-bottom: 0.4em;background-color: white;}#sk-container-id-1 div.sk-label label {font-family: monospace;font-weight: bold;display: inline-block;line-height: 1.2em;}#sk-container-id-1 div.sk-label-container {text-align: center;}#sk-container-id-1 div.sk-container {/* jupyter's `normalize.less` sets `[hidden] { display: none; }` but bootstrap.min.css set `[hidden] { display: none !important; }` so we also need the `!important` here to be able to override the default hidden behavior on the sphinx rendered scikit-learn.org. See: https://github.com/scikit-learn/scikit-learn/issues/21755 */display: inline-block !important;position: relative;}#sk-container-id-1 div.sk-text-repr-fallback {display: none;}</style><div id=\"sk-container-id-1\" class=\"sk-top-container\"><div class=\"sk-text-repr-fallback\"><pre>DISQUAL(features_labels=[&#x27;capshape&#x27;, &#x27;capsurface&#x27;, &#x27;capcolor&#x27;, &#x27;bruises&#x27;,\n",
       "                         &#x27;gillattachment&#x27;, &#x27;gillspacing&#x27;, &#x27;gillsize&#x27;,\n",
       "                         &#x27;gillcolor&#x27;, &#x27;stalkshape&#x27;, &#x27;stalksurfaceabove&#x27;,\n",
       "                         &#x27;stalksurfacebelow&#x27;, &#x27;stalkcoloraboveri&#x27;,\n",
       "                         &#x27;stalkcolorbelowri&#x27;, &#x27;veilcolor&#x27;, &#x27;ringnumber&#x27;,\n",
       "                         &#x27;ringtype&#x27;, &#x27;sporeprintcolor&#x27;, &#x27;population&#x27;,\n",
       "                         &#x27;habitat&#x27;],\n",
       "        n_components=2, parallelize=True,\n",
       "        row_labels=Int64Index([   0,    1,    2,    3,    4,    5,    6,    7,    8,    9,\n",
       "            ...\n",
       "            4114, 4115, 4116, 4117, 4118, 4119, 4120, 4121, 4122, 4123],\n",
       "           dtype=&#x27;int64&#x27;, length=4124),\n",
       "        target=[&#x27;classe&#x27;])</pre><b>In a Jupyter environment, please rerun this cell to show the HTML representation or trust the notebook. <br />On GitHub, the HTML representation is unable to render, please try loading this page with nbviewer.org.</b></div><div class=\"sk-container\" hidden><div class=\"sk-item\"><div class=\"sk-estimator sk-toggleable\"><input class=\"sk-toggleable__control sk-hidden--visually\" id=\"sk-estimator-id-1\" type=\"checkbox\" checked><label for=\"sk-estimator-id-1\" class=\"sk-toggleable__label sk-toggleable__label-arrow\">DISQUAL</label><div class=\"sk-toggleable__content\"><pre>DISQUAL(features_labels=[&#x27;capshape&#x27;, &#x27;capsurface&#x27;, &#x27;capcolor&#x27;, &#x27;bruises&#x27;,\n",
       "                         &#x27;gillattachment&#x27;, &#x27;gillspacing&#x27;, &#x27;gillsize&#x27;,\n",
       "                         &#x27;gillcolor&#x27;, &#x27;stalkshape&#x27;, &#x27;stalksurfaceabove&#x27;,\n",
       "                         &#x27;stalksurfacebelow&#x27;, &#x27;stalkcoloraboveri&#x27;,\n",
       "                         &#x27;stalkcolorbelowri&#x27;, &#x27;veilcolor&#x27;, &#x27;ringnumber&#x27;,\n",
       "                         &#x27;ringtype&#x27;, &#x27;sporeprintcolor&#x27;, &#x27;population&#x27;,\n",
       "                         &#x27;habitat&#x27;],\n",
       "        n_components=2, parallelize=True,\n",
       "        row_labels=Int64Index([   0,    1,    2,    3,    4,    5,    6,    7,    8,    9,\n",
       "            ...\n",
       "            4114, 4115, 4116, 4117, 4118, 4119, 4120, 4121, 4122, 4123],\n",
       "           dtype=&#x27;int64&#x27;, length=4124),\n",
       "        target=[&#x27;classe&#x27;])</pre></div></div></div></div></div>"
      ],
      "text/plain": [
       "DISQUAL(features_labels=['capshape', 'capsurface', 'capcolor', 'bruises',\n",
       "                         'gillattachment', 'gillspacing', 'gillsize',\n",
       "                         'gillcolor', 'stalkshape', 'stalksurfaceabove',\n",
       "                         'stalksurfacebelow', 'stalkcoloraboveri',\n",
       "                         'stalkcolorbelowri', 'veilcolor', 'ringnumber',\n",
       "                         'ringtype', 'sporeprintcolor', 'population',\n",
       "                         'habitat'],\n",
       "        n_components=2, parallelize=True,\n",
       "        row_labels=Int64Index([   0,    1,    2,    3,    4,    5,    6,    7,    8,    9,\n",
       "            ...\n",
       "            4114, 4115, 4116, 4117, 4118, 4119, 4120, 4121, 4122, 4123],\n",
       "           dtype='int64', length=4124),\n",
       "        target=['classe'])"
      ]
     },
     "execution_count": 6,
     "metadata": {},
     "output_type": "execute_result"
    }
   ],
   "source": [
    "#entraînement - temps de traitement dépasse la minute\n",
    "#ai dû interrompre les calculs\n",
    "\n",
    "disqual.fit(dfTrain)"
   ]
  },
  {
   "attachments": {},
   "cell_type": "markdown",
   "metadata": {},
   "source": [
    "# Test avec simplement l'analyse des corresp. multiples"
   ]
  },
  {
   "cell_type": "code",
   "execution_count": 7,
   "metadata": {},
   "outputs": [
    {
     "data": {
      "text/plain": [
       "Index(['capshape', 'capsurface', 'capcolor', 'bruises', 'gillattachment',\n",
       "       'gillspacing', 'gillsize', 'gillcolor', 'stalkshape',\n",
       "       'stalksurfaceabove', 'stalksurfacebelow', 'stalkcoloraboveri',\n",
       "       'stalkcolorbelowri', 'veilcolor', 'ringnumber', 'ringtype',\n",
       "       'sporeprintcolor', 'population', 'habitat'],\n",
       "      dtype='object')"
      ]
     },
     "execution_count": 7,
     "metadata": {},
     "output_type": "execute_result"
    }
   ],
   "source": [
    "#variables X seulement\n",
    "XTrain = dfTrain.loc[:,dfTrain.columns != 'classe']\n",
    "XTrain.columns"
   ]
  },
  {
   "cell_type": "code",
   "execution_count": 8,
   "metadata": {},
   "outputs": [
    {
     "data": {
      "text/html": [
       "<style>#sk-container-id-2 {color: black;background-color: white;}#sk-container-id-2 pre{padding: 0;}#sk-container-id-2 div.sk-toggleable {background-color: white;}#sk-container-id-2 label.sk-toggleable__label {cursor: pointer;display: block;width: 100%;margin-bottom: 0;padding: 0.3em;box-sizing: border-box;text-align: center;}#sk-container-id-2 label.sk-toggleable__label-arrow:before {content: \"▸\";float: left;margin-right: 0.25em;color: #696969;}#sk-container-id-2 label.sk-toggleable__label-arrow:hover:before {color: black;}#sk-container-id-2 div.sk-estimator:hover label.sk-toggleable__label-arrow:before {color: black;}#sk-container-id-2 div.sk-toggleable__content {max-height: 0;max-width: 0;overflow: hidden;text-align: left;background-color: #f0f8ff;}#sk-container-id-2 div.sk-toggleable__content pre {margin: 0.2em;color: black;border-radius: 0.25em;background-color: #f0f8ff;}#sk-container-id-2 input.sk-toggleable__control:checked~div.sk-toggleable__content {max-height: 200px;max-width: 100%;overflow: auto;}#sk-container-id-2 input.sk-toggleable__control:checked~label.sk-toggleable__label-arrow:before {content: \"▾\";}#sk-container-id-2 div.sk-estimator input.sk-toggleable__control:checked~label.sk-toggleable__label {background-color: #d4ebff;}#sk-container-id-2 div.sk-label input.sk-toggleable__control:checked~label.sk-toggleable__label {background-color: #d4ebff;}#sk-container-id-2 input.sk-hidden--visually {border: 0;clip: rect(1px 1px 1px 1px);clip: rect(1px, 1px, 1px, 1px);height: 1px;margin: -1px;overflow: hidden;padding: 0;position: absolute;width: 1px;}#sk-container-id-2 div.sk-estimator {font-family: monospace;background-color: #f0f8ff;border: 1px dotted black;border-radius: 0.25em;box-sizing: border-box;margin-bottom: 0.5em;}#sk-container-id-2 div.sk-estimator:hover {background-color: #d4ebff;}#sk-container-id-2 div.sk-parallel-item::after {content: \"\";width: 100%;border-bottom: 1px solid gray;flex-grow: 1;}#sk-container-id-2 div.sk-label:hover label.sk-toggleable__label {background-color: #d4ebff;}#sk-container-id-2 div.sk-serial::before {content: \"\";position: absolute;border-left: 1px solid gray;box-sizing: border-box;top: 0;bottom: 0;left: 50%;z-index: 0;}#sk-container-id-2 div.sk-serial {display: flex;flex-direction: column;align-items: center;background-color: white;padding-right: 0.2em;padding-left: 0.2em;position: relative;}#sk-container-id-2 div.sk-item {position: relative;z-index: 1;}#sk-container-id-2 div.sk-parallel {display: flex;align-items: stretch;justify-content: center;background-color: white;position: relative;}#sk-container-id-2 div.sk-item::before, #sk-container-id-2 div.sk-parallel-item::before {content: \"\";position: absolute;border-left: 1px solid gray;box-sizing: border-box;top: 0;bottom: 0;left: 50%;z-index: -1;}#sk-container-id-2 div.sk-parallel-item {display: flex;flex-direction: column;z-index: 1;position: relative;background-color: white;}#sk-container-id-2 div.sk-parallel-item:first-child::after {align-self: flex-end;width: 50%;}#sk-container-id-2 div.sk-parallel-item:last-child::after {align-self: flex-start;width: 50%;}#sk-container-id-2 div.sk-parallel-item:only-child::after {width: 0;}#sk-container-id-2 div.sk-dashed-wrapped {border: 1px dashed gray;margin: 0 0.4em 0.5em 0.4em;box-sizing: border-box;padding-bottom: 0.4em;background-color: white;}#sk-container-id-2 div.sk-label label {font-family: monospace;font-weight: bold;display: inline-block;line-height: 1.2em;}#sk-container-id-2 div.sk-label-container {text-align: center;}#sk-container-id-2 div.sk-container {/* jupyter's `normalize.less` sets `[hidden] { display: none; }` but bootstrap.min.css set `[hidden] { display: none !important; }` so we also need the `!important` here to be able to override the default hidden behavior on the sphinx rendered scikit-learn.org. See: https://github.com/scikit-learn/scikit-learn/issues/21755 */display: inline-block !important;position: relative;}#sk-container-id-2 div.sk-text-repr-fallback {display: none;}</style><div id=\"sk-container-id-2\" class=\"sk-top-container\"><div class=\"sk-text-repr-fallback\"><pre>MCA(parallelize=True,\n",
       "    row_labels=array([   0,    1,    2, ..., 4121, 4122, 4123], dtype=int64),\n",
       "    var_labels=array([&#x27;capshape&#x27;, &#x27;capsurface&#x27;, &#x27;capcolor&#x27;, &#x27;bruises&#x27;, &#x27;gillattachment&#x27;,\n",
       "       &#x27;gillspacing&#x27;, &#x27;gillsize&#x27;, &#x27;gillcolor&#x27;, &#x27;stalkshape&#x27;,\n",
       "       &#x27;stalksurfaceabove&#x27;, &#x27;stalksurfacebelow&#x27;, &#x27;stalkcoloraboveri&#x27;,\n",
       "       &#x27;stalkcolorbelowri&#x27;, &#x27;veilcolor&#x27;, &#x27;ringnumber&#x27;, &#x27;ringtype&#x27;,\n",
       "       &#x27;sporeprintcolor&#x27;, &#x27;population&#x27;, &#x27;habitat&#x27;], dtype=object))</pre><b>In a Jupyter environment, please rerun this cell to show the HTML representation or trust the notebook. <br />On GitHub, the HTML representation is unable to render, please try loading this page with nbviewer.org.</b></div><div class=\"sk-container\" hidden><div class=\"sk-item\"><div class=\"sk-estimator sk-toggleable\"><input class=\"sk-toggleable__control sk-hidden--visually\" id=\"sk-estimator-id-2\" type=\"checkbox\" checked><label for=\"sk-estimator-id-2\" class=\"sk-toggleable__label sk-toggleable__label-arrow\">MCA</label><div class=\"sk-toggleable__content\"><pre>MCA(parallelize=True,\n",
       "    row_labels=array([   0,    1,    2, ..., 4121, 4122, 4123], dtype=int64),\n",
       "    var_labels=array([&#x27;capshape&#x27;, &#x27;capsurface&#x27;, &#x27;capcolor&#x27;, &#x27;bruises&#x27;, &#x27;gillattachment&#x27;,\n",
       "       &#x27;gillspacing&#x27;, &#x27;gillsize&#x27;, &#x27;gillcolor&#x27;, &#x27;stalkshape&#x27;,\n",
       "       &#x27;stalksurfaceabove&#x27;, &#x27;stalksurfacebelow&#x27;, &#x27;stalkcoloraboveri&#x27;,\n",
       "       &#x27;stalkcolorbelowri&#x27;, &#x27;veilcolor&#x27;, &#x27;ringnumber&#x27;, &#x27;ringtype&#x27;,\n",
       "       &#x27;sporeprintcolor&#x27;, &#x27;population&#x27;, &#x27;habitat&#x27;], dtype=object))</pre></div></div></div></div></div>"
      ],
      "text/plain": [
       "MCA(parallelize=True,\n",
       "    row_labels=array([   0,    1,    2, ..., 4121, 4122, 4123], dtype=int64),\n",
       "    var_labels=array(['capshape', 'capsurface', 'capcolor', 'bruises', 'gillattachment',\n",
       "       'gillspacing', 'gillsize', 'gillcolor', 'stalkshape',\n",
       "       'stalksurfaceabove', 'stalksurfacebelow', 'stalkcoloraboveri',\n",
       "       'stalkcolorbelowri', 'veilcolor', 'ringnumber', 'ringtype',\n",
       "       'sporeprintcolor', 'population', 'habitat'], dtype=object))"
      ]
     },
     "execution_count": 8,
     "metadata": {},
     "output_type": "execute_result"
    }
   ],
   "source": [
    "#instancier et lancer l'ACM\n",
    "from scientisttools.decomposition import MCA\n",
    "my_mca = MCA(n_components=None,\n",
    "             row_labels=XTrain.index.values,\n",
    "             var_labels=XTrain.columns.values,\n",
    "             mod_labels=None,\n",
    "             matrix_type='completed',\n",
    "             benzecri=True,\n",
    "             greenacre=True,\n",
    "             row_sup_labels=None,\n",
    "             quali_sup_labels=None,\n",
    "             quanti_sup_labels=None,\n",
    "             parallelize=True)\n",
    "\n",
    "#entraînement -- ici aussi arrêt des calculs\n",
    "#après plus d'une minute\n",
    "\n",
    "my_mca.fit(XTrain)"
   ]
  }
 ],
 "metadata": {
  "kernelspec": {
   "display_name": "env_tutos",
   "language": "python",
   "name": "python3"
  },
  "language_info": {
   "codemirror_mode": {
    "name": "ipython",
    "version": 3
   },
   "file_extension": ".py",
   "mimetype": "text/x-python",
   "name": "python",
   "nbconvert_exporter": "python",
   "pygments_lexer": "ipython3",
   "version": "3.10.5"
  },
  "orig_nbformat": 4
 },
 "nbformat": 4,
 "nbformat_minor": 2
}
