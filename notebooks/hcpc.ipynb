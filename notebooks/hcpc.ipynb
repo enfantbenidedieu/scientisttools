{
 "cells": [
  {
   "attachments": {},
   "cell_type": "markdown",
   "metadata": {},
   "source": [
    "# HCPC - MCA"
   ]
  },
  {
   "cell_type": "code",
   "execution_count": 8,
   "metadata": {},
   "outputs": [
    {
     "data": {
      "text/plain": [
       "array([1, 1, 1, 1, 1, 1, 1, 1, 3, 3, 1, 1, 1, 1, 1, 2, 3, 3, 1, 1, 3, 3,\n",
       "       1, 1, 3, 3, 1, 3, 1, 1, 2, 3, 3, 1, 3, 1, 1, 1, 3, 1, 1, 1, 1, 3,\n",
       "       1, 3, 1, 3, 1, 3, 3, 3, 2, 1, 1, 3, 3, 3, 3, 3, 3, 2, 1, 3, 1, 3,\n",
       "       3, 3, 3, 1, 1, 3, 1, 2, 3, 1, 1, 1, 1, 3, 1, 1, 1, 1, 1, 1, 3, 1,\n",
       "       3, 1, 1, 1, 1, 2, 2, 1, 1, 1, 3, 2, 3, 1, 3, 1, 1, 1, 1, 3, 1, 3,\n",
       "       1, 3, 1, 1, 1, 1, 1, 1, 1, 3, 1, 3, 1, 1, 1, 1, 3, 3, 1, 1, 1, 1,\n",
       "       3, 1, 3, 3, 1, 1, 1, 1, 1, 1, 1, 1, 1, 1, 1, 3, 1, 1, 1, 1, 1, 1,\n",
       "       1, 1, 1, 1, 1, 3, 1, 1, 1, 1, 2, 1, 1, 2, 1, 1, 2, 3, 3, 1, 1, 1,\n",
       "       1, 1, 1, 1, 1, 2, 1, 1, 3, 1, 1, 1, 1, 2, 2, 1, 1, 1, 2, 1, 1, 3,\n",
       "       2, 1, 3, 2, 3, 3, 1, 2, 3, 2, 1, 1, 2, 2, 1, 1, 3, 1, 1, 1, 1, 2,\n",
       "       3, 2, 1, 3, 3, 1, 2, 1, 2, 1, 1, 1, 3, 3, 3, 1, 1, 3, 3, 3, 3, 1,\n",
       "       3, 3, 1, 3, 1, 2, 2, 1, 3, 3, 3, 1, 1, 1, 1, 1, 3, 1, 2, 1, 1, 3,\n",
       "       3, 1, 3, 3, 3, 3, 3, 2, 3, 3, 1, 1, 3, 3, 3, 3, 1, 1, 3, 1, 1, 3,\n",
       "       2, 1, 1, 1, 1, 1, 1, 1, 3, 1, 2, 1, 2, 1], dtype=int64)"
      ]
     },
     "execution_count": 8,
     "metadata": {},
     "output_type": "execute_result"
    }
   ],
   "source": [
    "\n",
    "import os\n",
    "os.chdir(\"d:\\\\Bureau\\\\PythonProject\\\\packages\\\\scientisttools\\\\data\\\\\")\n",
    "\n",
    "import pandas as pd\n",
    "\n",
    "cutree = pd.read_excel(\"d:/Bureau/PythonProject/packages/scientisttools/data/mca_hcpc.xlsx\")[\"clust\"].values\n",
    "cutree"
   ]
  }
 ],
 "metadata": {
  "kernelspec": {
   "display_name": "Python 3",
   "language": "python",
   "name": "python3"
  },
  "language_info": {
   "codemirror_mode": {
    "name": "ipython",
    "version": 3
   },
   "file_extension": ".py",
   "mimetype": "text/x-python",
   "name": "python",
   "nbconvert_exporter": "python",
   "pygments_lexer": "ipython3",
   "version": "3.10.5"
  },
  "orig_nbformat": 4
 },
 "nbformat": 4,
 "nbformat_minor": 2
}
