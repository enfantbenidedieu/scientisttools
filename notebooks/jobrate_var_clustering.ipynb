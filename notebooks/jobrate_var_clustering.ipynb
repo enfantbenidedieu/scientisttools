{
 "cells": [
  {
   "attachments": {},
   "cell_type": "markdown",
   "metadata": {},
   "source": [
    "# Importation et inspection des données"
   ]
  },
  {
   "cell_type": "code",
   "execution_count": 1,
   "metadata": {},
   "outputs": [
    {
     "data": {
      "text/html": [
       "<div>\n",
       "<style scoped>\n",
       "    .dataframe tbody tr th:only-of-type {\n",
       "        vertical-align: middle;\n",
       "    }\n",
       "\n",
       "    .dataframe tbody tr th {\n",
       "        vertical-align: top;\n",
       "    }\n",
       "\n",
       "    .dataframe thead th {\n",
       "        text-align: right;\n",
       "    }\n",
       "</style>\n",
       "<table border=\"1\" class=\"dataframe\">\n",
       "  <thead>\n",
       "    <tr style=\"text-align: right;\">\n",
       "      <th></th>\n",
       "      <th>Communication_Skills</th>\n",
       "      <th>Problem_Solving</th>\n",
       "      <th>Learning_Ability</th>\n",
       "      <th>Judgement_under_Pressure</th>\n",
       "      <th>Observational_Skills</th>\n",
       "      <th>Willingness_to_Confront_Problems</th>\n",
       "      <th>Interest_in_People</th>\n",
       "      <th>Interpersonal_Sensitivity</th>\n",
       "      <th>Desire_for_Self_Improvement</th>\n",
       "      <th>Appearance</th>\n",
       "      <th>Dependability</th>\n",
       "      <th>Physical_Ability</th>\n",
       "      <th>Integrity</th>\n",
       "      <th>Overall_Rating</th>\n",
       "    </tr>\n",
       "  </thead>\n",
       "  <tbody>\n",
       "    <tr>\n",
       "      <th>0</th>\n",
       "      <td>2</td>\n",
       "      <td>6</td>\n",
       "      <td>8</td>\n",
       "      <td>3</td>\n",
       "      <td>8</td>\n",
       "      <td>8</td>\n",
       "      <td>5</td>\n",
       "      <td>3</td>\n",
       "      <td>8</td>\n",
       "      <td>7</td>\n",
       "      <td>9</td>\n",
       "      <td>8</td>\n",
       "      <td>6</td>\n",
       "      <td>7</td>\n",
       "    </tr>\n",
       "    <tr>\n",
       "      <th>1</th>\n",
       "      <td>7</td>\n",
       "      <td>4</td>\n",
       "      <td>7</td>\n",
       "      <td>5</td>\n",
       "      <td>8</td>\n",
       "      <td>8</td>\n",
       "      <td>7</td>\n",
       "      <td>6</td>\n",
       "      <td>8</td>\n",
       "      <td>5</td>\n",
       "      <td>7</td>\n",
       "      <td>6</td>\n",
       "      <td>6</td>\n",
       "      <td>7</td>\n",
       "    </tr>\n",
       "    <tr>\n",
       "      <th>2</th>\n",
       "      <td>5</td>\n",
       "      <td>6</td>\n",
       "      <td>7</td>\n",
       "      <td>5</td>\n",
       "      <td>7</td>\n",
       "      <td>8</td>\n",
       "      <td>6</td>\n",
       "      <td>3</td>\n",
       "      <td>7</td>\n",
       "      <td>7</td>\n",
       "      <td>5</td>\n",
       "      <td>8</td>\n",
       "      <td>7</td>\n",
       "      <td>5</td>\n",
       "    </tr>\n",
       "    <tr>\n",
       "      <th>3</th>\n",
       "      <td>6</td>\n",
       "      <td>7</td>\n",
       "      <td>8</td>\n",
       "      <td>6</td>\n",
       "      <td>9</td>\n",
       "      <td>7</td>\n",
       "      <td>7</td>\n",
       "      <td>7</td>\n",
       "      <td>9</td>\n",
       "      <td>8</td>\n",
       "      <td>8</td>\n",
       "      <td>9</td>\n",
       "      <td>9</td>\n",
       "      <td>7</td>\n",
       "    </tr>\n",
       "    <tr>\n",
       "      <th>4</th>\n",
       "      <td>9</td>\n",
       "      <td>9</td>\n",
       "      <td>9</td>\n",
       "      <td>9</td>\n",
       "      <td>7</td>\n",
       "      <td>7</td>\n",
       "      <td>9</td>\n",
       "      <td>8</td>\n",
       "      <td>8</td>\n",
       "      <td>7</td>\n",
       "      <td>8</td>\n",
       "      <td>8</td>\n",
       "      <td>8</td>\n",
       "      <td>8</td>\n",
       "    </tr>\n",
       "  </tbody>\n",
       "</table>\n",
       "</div>"
      ],
      "text/plain": [
       "   Communication_Skills  Problem_Solving  Learning_Ability  \\\n",
       "0                     2                6                 8   \n",
       "1                     7                4                 7   \n",
       "2                     5                6                 7   \n",
       "3                     6                7                 8   \n",
       "4                     9                9                 9   \n",
       "\n",
       "   Judgement_under_Pressure  Observational_Skills  \\\n",
       "0                         3                     8   \n",
       "1                         5                     8   \n",
       "2                         5                     7   \n",
       "3                         6                     9   \n",
       "4                         9                     7   \n",
       "\n",
       "   Willingness_to_Confront_Problems  Interest_in_People  \\\n",
       "0                                 8                   5   \n",
       "1                                 8                   7   \n",
       "2                                 8                   6   \n",
       "3                                 7                   7   \n",
       "4                                 7                   9   \n",
       "\n",
       "   Interpersonal_Sensitivity  Desire_for_Self_Improvement  Appearance  \\\n",
       "0                          3                            8           7   \n",
       "1                          6                            8           5   \n",
       "2                          3                            7           7   \n",
       "3                          7                            9           8   \n",
       "4                          8                            8           7   \n",
       "\n",
       "   Dependability  Physical_Ability  Integrity  Overall_Rating  \n",
       "0              9                 8          6               7  \n",
       "1              7                 6          6               7  \n",
       "2              5                 8          7               5  \n",
       "3              8                 9          9               7  \n",
       "4              8                 8          8               8  "
      ]
     },
     "execution_count": 1,
     "metadata": {},
     "output_type": "execute_result"
    }
   ],
   "source": [
    "#changement de dossier\n",
    "import os\n",
    "os.chdir(\"d:/Bureau/PythonProject/packages/scientisttools/data/\")\n",
    "\n",
    "#chargement des données\n",
    "import pandas\n",
    "jobrate = pandas.read_excel(\"jobrate.xlsx\")\n",
    "jobrate.head()"
   ]
  },
  {
   "cell_type": "code",
   "execution_count": 2,
   "metadata": {},
   "outputs": [
    {
     "name": "stdout",
     "output_type": "stream",
     "text": [
      "<class 'pandas.core.frame.DataFrame'>\n",
      "RangeIndex: 103 entries, 0 to 102\n",
      "Data columns (total 14 columns):\n",
      " #   Column                            Non-Null Count  Dtype\n",
      "---  ------                            --------------  -----\n",
      " 0   Communication_Skills              103 non-null    int64\n",
      " 1   Problem_Solving                   103 non-null    int64\n",
      " 2   Learning_Ability                  103 non-null    int64\n",
      " 3   Judgement_under_Pressure          103 non-null    int64\n",
      " 4   Observational_Skills              103 non-null    int64\n",
      " 5   Willingness_to_Confront_Problems  103 non-null    int64\n",
      " 6   Interest_in_People                103 non-null    int64\n",
      " 7   Interpersonal_Sensitivity         103 non-null    int64\n",
      " 8   Desire_for_Self_Improvement       103 non-null    int64\n",
      " 9   Appearance                        103 non-null    int64\n",
      " 10  Dependability                     103 non-null    int64\n",
      " 11  Physical_Ability                  103 non-null    int64\n",
      " 12  Integrity                         103 non-null    int64\n",
      " 13  Overall_Rating                    103 non-null    int64\n",
      "dtypes: int64(14)\n",
      "memory usage: 11.4 KB\n"
     ]
    }
   ],
   "source": [
    "#information sur les données\n",
    "jobrate.info()"
   ]
  },
  {
   "cell_type": "code",
   "execution_count": 3,
   "metadata": {},
   "outputs": [
    {
     "name": "stdout",
     "output_type": "stream",
     "text": [
      "Index(['Communication_Skills', 'Problem_Solving', 'Learning_Ability',\n",
      "       'Judgement_under_Pressure', 'Observational_Skills',\n",
      "       'Willingness_to_Confront_Problems', 'Interest_in_People',\n",
      "       'Interpersonal_Sensitivity', 'Desire_for_Self_Improvement',\n",
      "       'Appearance', 'Dependability', 'Physical_Ability', 'Integrity'],\n",
      "      dtype='object')\n"
     ]
    }
   ],
   "source": [
    "#variables actives\n",
    "X = jobrate[jobrate.columns[:-1]]\n",
    "print(X.columns)"
   ]
  },
  {
   "cell_type": "code",
   "execution_count": 4,
   "metadata": {},
   "outputs": [
    {
     "name": "stdout",
     "output_type": "stream",
     "text": [
      "                                  Communication_Skills  Problem_Solving  \\\n",
      "Communication_Skills                          1.000000         0.628035   \n",
      "Problem_Solving                               0.628035         1.000000   \n",
      "Learning_Ability                              0.554550         0.569010   \n",
      "Judgement_under_Pressure                      0.553767         0.619508   \n",
      "Observational_Skills                          0.538073         0.428397   \n",
      "Willingness_to_Confront_Problems              0.526495         0.501478   \n",
      "Interest_in_People                            0.439102         0.397212   \n",
      "Interpersonal_Sensitivity                     0.503019         0.439777   \n",
      "Desire_for_Self_Improvement                   0.564244         0.409005   \n",
      "Appearance                                    0.491275         0.387283   \n",
      "Dependability                                 0.547073         0.454569   \n",
      "Physical_Ability                              0.219193         0.320063   \n",
      "Integrity                                     0.508065         0.384584   \n",
      "\n",
      "                                  Learning_Ability  Judgement_under_Pressure  \\\n",
      "Communication_Skills                      0.554550                  0.553767   \n",
      "Problem_Solving                           0.569010                  0.619508   \n",
      "Learning_Ability                          1.000000                  0.489166   \n",
      "Judgement_under_Pressure                  0.489166                  1.000000   \n",
      "Observational_Skills                      0.622984                  0.373307   \n",
      "Willingness_to_Confront_Problems          0.524514                  0.400366   \n",
      "Interest_in_People                        0.273500                  0.622643   \n",
      "Interpersonal_Sensitivity                 0.185492                  0.613361   \n",
      "Desire_for_Self_Improvement               0.573672                  0.482604   \n",
      "Appearance                                0.398800                  0.226605   \n",
      "Dependability                             0.510967                  0.547136   \n",
      "Physical_Ability                          0.226865                  0.347631   \n",
      "Integrity                                 0.314219                  0.588322   \n",
      "\n",
      "                                  Observational_Skills  \\\n",
      "Communication_Skills                          0.538073   \n",
      "Problem_Solving                               0.428397   \n",
      "Learning_Ability                              0.622984   \n",
      "Judgement_under_Pressure                      0.373307   \n",
      "Observational_Skills                          1.000000   \n",
      "Willingness_to_Confront_Problems              0.729956   \n",
      "Interest_in_People                            0.261634   \n",
      "Interpersonal_Sensitivity                     0.165465   \n",
      "Desire_for_Self_Improvement                   0.598463   \n",
      "Appearance                                    0.417708   \n",
      "Dependability                                 0.562557   \n",
      "Physical_Ability                              0.427365   \n",
      "Integrity                                     0.390568   \n",
      "\n",
      "                                  Willingness_to_Confront_Problems  \\\n",
      "Communication_Skills                                      0.526495   \n",
      "Problem_Solving                                           0.501478   \n",
      "Learning_Ability                                          0.524514   \n",
      "Judgement_under_Pressure                                  0.400366   \n",
      "Observational_Skills                                      0.729956   \n",
      "Willingness_to_Confront_Problems                          1.000000   \n",
      "Interest_in_People                                        0.223305   \n",
      "Interpersonal_Sensitivity                                 0.129088   \n",
      "Desire_for_Self_Improvement                               0.530721   \n",
      "Appearance                                                0.482461   \n",
      "Dependability                                             0.487022   \n",
      "Physical_Ability                                          0.487234   \n",
      "Integrity                                                 0.326041   \n",
      "\n",
      "                                  Interest_in_People  \\\n",
      "Communication_Skills                        0.439102   \n",
      "Problem_Solving                             0.397212   \n",
      "Learning_Ability                            0.273500   \n",
      "Judgement_under_Pressure                    0.622643   \n",
      "Observational_Skills                        0.261634   \n",
      "Willingness_to_Confront_Problems            0.223305   \n",
      "Interest_in_People                          1.000000   \n",
      "Interpersonal_Sensitivity                   0.805146   \n",
      "Desire_for_Self_Improvement                 0.485749   \n",
      "Appearance                                  0.267870   \n",
      "Dependability                               0.607408   \n",
      "Physical_Ability                            0.376810   \n",
      "Integrity                                   0.745175   \n",
      "\n",
      "                                  Interpersonal_Sensitivity  \\\n",
      "Communication_Skills                               0.503019   \n",
      "Problem_Solving                                    0.439777   \n",
      "Learning_Ability                                   0.185492   \n",
      "Judgement_under_Pressure                           0.613361   \n",
      "Observational_Skills                               0.165465   \n",
      "Willingness_to_Confront_Problems                   0.129088   \n",
      "Interest_in_People                                 0.805146   \n",
      "Interpersonal_Sensitivity                          1.000000   \n",
      "Desire_for_Self_Improvement                        0.371262   \n",
      "Appearance                                         0.260027   \n",
      "Dependability                                      0.540765   \n",
      "Physical_Ability                                   0.218213   \n",
      "Integrity                                          0.691997   \n",
      "\n",
      "                                  Desire_for_Self_Improvement  Appearance  \\\n",
      "Communication_Skills                                 0.564244    0.491275   \n",
      "Problem_Solving                                      0.409005    0.387283   \n",
      "Learning_Ability                                     0.573672    0.398800   \n",
      "Judgement_under_Pressure                             0.482604    0.226605   \n",
      "Observational_Skills                                 0.598463    0.417708   \n",
      "Willingness_to_Confront_Problems                     0.530721    0.482461   \n",
      "Interest_in_People                                   0.485749    0.267870   \n",
      "Interpersonal_Sensitivity                            0.371262    0.260027   \n",
      "Desire_for_Self_Improvement                          1.000000    0.447442   \n",
      "Appearance                                           0.447442    1.000000   \n",
      "Dependability                                        0.598126    0.508938   \n",
      "Physical_Ability                                     0.375248    0.382005   \n",
      "Integrity                                            0.566381    0.413541   \n",
      "\n",
      "                                  Dependability  Physical_Ability  Integrity  \n",
      "Communication_Skills                   0.547073          0.219193   0.508065  \n",
      "Problem_Solving                        0.454569          0.320063   0.384584  \n",
      "Learning_Ability                       0.510967          0.226865   0.314219  \n",
      "Judgement_under_Pressure               0.547136          0.347631   0.588322  \n",
      "Observational_Skills                   0.562557          0.427365   0.390568  \n",
      "Willingness_to_Confront_Problems       0.487022          0.487234   0.326041  \n",
      "Interest_in_People                     0.607408          0.376810   0.745175  \n",
      "Interpersonal_Sensitivity              0.540765          0.218213   0.691997  \n",
      "Desire_for_Self_Improvement            0.598126          0.375248   0.566381  \n",
      "Appearance                             0.508938          0.382005   0.413541  \n",
      "Dependability                          1.000000          0.446120   0.653645  \n",
      "Physical_Ability                       0.446120          1.000000   0.380959  \n",
      "Integrity                              0.653645          0.380959   1.000000  \n"
     ]
    }
   ],
   "source": [
    "#matrice des corrélations\n",
    "R = X.corr()\n",
    "print(R)"
   ]
  },
  {
   "cell_type": "code",
   "execution_count": 5,
   "metadata": {},
   "outputs": [
    {
     "data": {
      "text/plain": [
       "<AxesSubplot:>"
      ]
     },
     "execution_count": 5,
     "metadata": {},
     "output_type": "execute_result"
    },
    {
     "data": {
      "image/png": "[encoded data removed]",
      "text/plain": [
       "<Figure size 432x288 with 2 Axes>"
      ]
     },
     "metadata": {
      "needs_background": "light"
     },
     "output_type": "display_data"
    }
   ],
   "source": [
    "#représentation graphique - heatmap\n",
    "import seaborn as sns\n",
    "sns.heatmap(R,vmin=-1,vmax=+1,cmap='Blues')"
   ]
  },
  {
   "cell_type": "code",
   "execution_count": 6,
   "metadata": {},
   "outputs": [
    {
     "data": {
      "text/plain": [
       "<AxesSubplot:>"
      ]
     },
     "execution_count": 6,
     "metadata": {},
     "output_type": "execute_result"
    },
    {
     "data": {
      "image/png": "[encoded data removed]",
      "text/plain": [
       "<Figure size 432x288 with 2 Axes>"
      ]
     },
     "metadata": {
      "needs_background": "light"
     },
     "output_type": "display_data"
    }
   ],
   "source": [
    "#ou avec le carré des corrélations\n",
    "#la valeur min devient 0 dans ce cas\n",
    "sns.heatmap(R**2,vmin=0,vmax=+1,cmap='Blues')"
   ]
  },
  {
   "attachments": {},
   "cell_type": "markdown",
   "metadata": {},
   "source": [
    "# CAH sur les variables"
   ]
  },
  {
   "cell_type": "code",
   "execution_count": 7,
   "metadata": {},
   "outputs": [
    {
     "name": "stdout",
     "output_type": "stream",
     "text": [
      "                      Communication_Skills  Problem_Solving  Learning_Ability\n",
      "Communication_Skills              0.000000         0.778185           0.83215\n",
      "Problem_Solving                   0.778185         0.000000           0.82233\n",
      "Learning_Ability                  0.832150         0.822330           0.00000\n"
     ]
    }
   ],
   "source": [
    "import numpy\n",
    "D = numpy.sqrt(1-R**2)\n",
    "print(D.iloc[:3,:3])"
   ]
  },
  {
   "cell_type": "code",
   "execution_count": 8,
   "metadata": {},
   "outputs": [
    {
     "name": "stdout",
     "output_type": "stream",
     "text": [
      "[0.77818523 0.83215007 0.83267178 0.84289804 0.85017808 0.89843705\n",
      " 0.86427518 0.82560814 0.87100447 0.83708488 0.97568158 0.8613188\n",
      " 0.82233043 0.78499017 0.90359063 0.86517037 0.91772702 0.89810686\n",
      " 0.91253221 0.92196106 0.89071177 0.94739634 0.92309005 0.87219097\n",
      " 0.78223456 0.85140174 0.96187211 0.98264578 0.8190852  0.91703795\n",
      " 0.85960042 0.97392625 0.94935047 0.92770778 0.91635538 0.78250602\n",
      " 0.78980271 0.87583841 0.97398669 0.83704371 0.93763126 0.80862658\n",
      " 0.68349431 0.96516709 0.9862157  0.80115068 0.90858111 0.82675831\n",
      " 0.90407921 0.92057396 0.97474855 0.99163318 0.84754664 0.87591723\n",
      " 0.87338953 0.87327121 0.94535553 0.59307603 0.87409835 0.96345514\n",
      " 0.79439041 0.92629042 0.66686892 0.92852812 0.9656013  0.84117373\n",
      " 0.97590127 0.7219     0.89431316 0.80140227 0.92692439 0.82414385\n",
      " 0.86080325 0.92416038 0.91048572 0.8949733  0.75680154 0.9245921 ]\n"
     ]
    }
   ],
   "source": [
    "#préparation pour la CAH de scipy\n",
    "#vectoriser la matrice des distances\n",
    "from scipy.spatial.distance import squareform\n",
    "VD = squareform(D)\n",
    "print(VD)"
   ]
  },
  {
   "cell_type": "code",
   "execution_count": 9,
   "metadata": {},
   "outputs": [
    {
     "name": "stdout",
     "output_type": "stream",
     "text": [
      "[[ 6.          7.          0.59307603  2.        ]\n",
      " [ 4.          5.          0.68349431  2.        ]\n",
      " [12.         13.          0.72571077  3.        ]\n",
      " [ 0.          1.          0.77818523  2.        ]\n",
      " [ 8.         10.          0.80140227  2.        ]\n",
      " [ 3.         16.          0.81925402  3.        ]\n",
      " [ 2.         17.          0.85193531  3.        ]\n",
      " [14.         19.          0.91093491  5.        ]\n",
      " [ 9.         11.          0.92416038  2.        ]\n",
      " [20.         21.          0.98022744  7.        ]\n",
      " [18.         22.          1.03939101 10.        ]\n",
      " [15.         23.          1.23922901 13.        ]]\n"
     ]
    }
   ],
   "source": [
    "#CAH - Ward\n",
    "from scipy.cluster.hierarchy import ward\n",
    "cah = ward(VD)\n",
    "print(cah)"
   ]
  },
  {
   "cell_type": "code",
   "execution_count": 10,
   "metadata": {},
   "outputs": [
    {
     "data": {
      "image/png": "[encoded data removed]",
      "text/plain": [
       "<Figure size 432x288 with 1 Axes>"
      ]
     },
     "metadata": {
      "needs_background": "light"
     },
     "output_type": "display_data"
    }
   ],
   "source": [
    "#dendrogramme\n",
    "import matplotlib.pyplot as plt\n",
    "from scipy.cluster.hierarchy import dendrogram\n",
    "plt.title(\"CAH\")\n",
    "dendrogram(cah,labels=X.columns,orientation='left',color_threshold=0)\n",
    "plt.show()"
   ]
  },
  {
   "cell_type": "code",
   "execution_count": 11,
   "metadata": {},
   "outputs": [
    {
     "data": {
      "image/png": "[encoded data removed]",
      "text/plain": [
       "<Figure size 432x288 with 1 Axes>"
      ]
     },
     "metadata": {
      "needs_background": "light"
     },
     "output_type": "display_data"
    }
   ],
   "source": [
    "#matérialisation de 4 classes\n",
    "plt.title(\"CAH - 4 classes\")\n",
    "dendrogram(cah,labels=X.columns,orientation='left',color_threshold=0.95)\n",
    "plt.show()"
   ]
  },
  {
   "cell_type": "code",
   "execution_count": 12,
   "metadata": {},
   "outputs": [
    {
     "name": "stdout",
     "output_type": "stream",
     "text": [
      "[2 2 3 2 3 3 1 1 3 4 3 4 1]\n"
     ]
    }
   ],
   "source": [
    "#découpage effectif en 4 classes\n",
    "from scipy.cluster.hierarchy import fcluster\n",
    "groupes = fcluster(cah,t=0.95,criterion='distance')\n",
    "print(groupes)"
   ]
  },
  {
   "cell_type": "code",
   "execution_count": 13,
   "metadata": {},
   "outputs": [
    {
     "name": "stdout",
     "output_type": "stream",
     "text": [
      "(array([1, 2, 3, 4], dtype=int32), array([3, 3, 5, 2], dtype=int64))\n"
     ]
    }
   ],
   "source": [
    "#comptage\n",
    "print(numpy.unique(groupes,return_counts=True))"
   ]
  },
  {
   "cell_type": "code",
   "execution_count": 14,
   "metadata": {},
   "outputs": [
    {
     "name": "stdout",
     "output_type": "stream",
     "text": [
      "Index(['Interest_in_People', 'Interpersonal_Sensitivity', 'Integrity'], dtype='object')\n"
     ]
    }
   ],
   "source": [
    "#liste des variables pour le groupe 1\n",
    "print(X.columns[groupes == 1])"
   ]
  },
  {
   "cell_type": "code",
   "execution_count": 15,
   "metadata": {},
   "outputs": [
    {
     "name": "stdout",
     "output_type": "stream",
     "text": [
      "1  :  Index(['Interest_in_People', 'Interpersonal_Sensitivity', 'Integrity'], dtype='object')\n",
      "2  :  Index(['Communication_Skills', 'Problem_Solving', 'Judgement_under_Pressure'], dtype='object')\n",
      "3  :  Index(['Learning_Ability', 'Observational_Skills',\n",
      "       'Willingness_to_Confront_Problems', 'Desire_for_Self_Improvement',\n",
      "       'Dependability'],\n",
      "      dtype='object')\n",
      "4  :  Index(['Appearance', 'Physical_Ability'], dtype='object')\n"
     ]
    }
   ],
   "source": [
    "#affichage des groupes\n",
    "for g in numpy.unique(groupes):\n",
    "    print(g,\" : \",X.columns[groupes == g])"
   ]
  },
  {
   "attachments": {},
   "cell_type": "markdown",
   "metadata": {},
   "source": [
    "# Traitement de la variable supplémentaire (overral)"
   ]
  },
  {
   "cell_type": "code",
   "execution_count": 16,
   "metadata": {},
   "outputs": [
    {
     "name": "stdout",
     "output_type": "stream",
     "text": [
      "Communication_Skills                0.680250\n",
      "Problem_Solving                     0.577254\n",
      "Learning_Ability                    0.592385\n",
      "Judgement_under_Pressure            0.655048\n",
      "Observational_Skills                0.584425\n",
      "Willingness_to_Confront_Problems    0.589032\n",
      "Interest_in_People                  0.613343\n",
      "Interpersonal_Sensitivity           0.577246\n",
      "Desire_for_Self_Improvement         0.667191\n",
      "Appearance                          0.568722\n",
      "Dependability                       0.769633\n",
      "Physical_Ability                    0.438495\n",
      "Integrity                           0.671647\n",
      "dtype: float64\n"
     ]
    }
   ],
   "source": [
    "#corrélation avec chaque variable\n",
    "print(X.corrwith(jobrate.Overall_Rating))"
   ]
  },
  {
   "cell_type": "code",
   "execution_count": 17,
   "metadata": {},
   "outputs": [
    {
     "data": {
      "text/html": [
       "<div>\n",
       "<style scoped>\n",
       "    .dataframe tbody tr th:only-of-type {\n",
       "        vertical-align: middle;\n",
       "    }\n",
       "\n",
       "    .dataframe tbody tr th {\n",
       "        vertical-align: top;\n",
       "    }\n",
       "\n",
       "    .dataframe thead th {\n",
       "        text-align: right;\n",
       "    }\n",
       "</style>\n",
       "<table border=\"1\" class=\"dataframe\">\n",
       "  <thead>\n",
       "    <tr style=\"text-align: right;\">\n",
       "      <th></th>\n",
       "      <th>Interest_in_People</th>\n",
       "      <th>Interpersonal_Sensitivity</th>\n",
       "      <th>Integrity</th>\n",
       "    </tr>\n",
       "  </thead>\n",
       "  <tbody>\n",
       "    <tr>\n",
       "      <th>0</th>\n",
       "      <td>5</td>\n",
       "      <td>3</td>\n",
       "      <td>6</td>\n",
       "    </tr>\n",
       "    <tr>\n",
       "      <th>1</th>\n",
       "      <td>7</td>\n",
       "      <td>6</td>\n",
       "      <td>6</td>\n",
       "    </tr>\n",
       "    <tr>\n",
       "      <th>2</th>\n",
       "      <td>6</td>\n",
       "      <td>3</td>\n",
       "      <td>7</td>\n",
       "    </tr>\n",
       "    <tr>\n",
       "      <th>3</th>\n",
       "      <td>7</td>\n",
       "      <td>7</td>\n",
       "      <td>9</td>\n",
       "    </tr>\n",
       "    <tr>\n",
       "      <th>4</th>\n",
       "      <td>9</td>\n",
       "      <td>8</td>\n",
       "      <td>8</td>\n",
       "    </tr>\n",
       "  </tbody>\n",
       "</table>\n",
       "</div>"
      ],
      "text/plain": [
       "   Interest_in_People  Interpersonal_Sensitivity  Integrity\n",
       "0                   5                          3          6\n",
       "1                   7                          6          6\n",
       "2                   6                          3          7\n",
       "3                   7                          7          9\n",
       "4                   9                          8          8"
      ]
     },
     "execution_count": 17,
     "metadata": {},
     "output_type": "execute_result"
    }
   ],
   "source": [
    "#dataset pour le groupe 1\n",
    "X[X.columns[groupes == 1]].head()"
   ]
  },
  {
   "cell_type": "code",
   "execution_count": 18,
   "metadata": {},
   "outputs": [
    {
     "name": "stdout",
     "output_type": "stream",
     "text": [
      "Interest_in_People           0.613343\n",
      "Interpersonal_Sensitivity    0.577246\n",
      "Integrity                    0.671647\n",
      "dtype: float64\n"
     ]
    }
   ],
   "source": [
    "#corrélations des variables du groupe 1 avec \"overall\"\n",
    "print(X[X.columns[groupes == 1]].corrwith(jobrate.Overall_Rating))"
   ]
  },
  {
   "cell_type": "code",
   "execution_count": 19,
   "metadata": {},
   "outputs": [
    {
     "name": "stdout",
     "output_type": "stream",
     "text": [
      "1  :  0.38683756104936434\n",
      "2  :  0.40834988274785666\n",
      "3  :  0.4153820426907955\n",
      "4  :  0.25786162385199723\n"
     ]
    }
   ],
   "source": [
    "#moyenne des carrés des corrélations avec les groupes\n",
    "for g in numpy.unique(groupes):\n",
    "    print(g,\" : \",numpy.mean(X[X.columns[groupes==g]].corrwith(jobrate.Overall_Rating)**2))"
   ]
  }
 ],
 "metadata": {
  "kernelspec": {
   "display_name": "base",
   "language": "python",
   "name": "python3"
  },
  "language_info": {
   "codemirror_mode": {
    "name": "ipython",
    "version": 3
   },
   "file_extension": ".py",
   "mimetype": "text/x-python",
   "name": "python",
   "nbconvert_exporter": "python",
   "pygments_lexer": "ipython3",
   "version": "3.10.5"
  },
  "orig_nbformat": 4,
  "vscode": {
   "interpreter": {
    "hash": "45021634a580003dd4940c9b62733de5a2e63533d32943a51f0c123d76d77221"
   }
  }
 },
 "nbformat": 4,
 "nbformat_minor": 2
}
