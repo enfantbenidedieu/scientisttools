{
 "cells": [
  {
   "attachments": {},
   "cell_type": "markdown",
   "metadata": {},
   "source": [
    "# VARHCPC"
   ]
  },
  {
   "cell_type": "code",
   "execution_count": 1,
   "metadata": {},
   "outputs": [
    {
     "data": {
      "text/html": [
       "<div>\n",
       "<style scoped>\n",
       "    .dataframe tbody tr th:only-of-type {\n",
       "        vertical-align: middle;\n",
       "    }\n",
       "\n",
       "    .dataframe tbody tr th {\n",
       "        vertical-align: top;\n",
       "    }\n",
       "\n",
       "    .dataframe thead th {\n",
       "        text-align: right;\n",
       "    }\n",
       "</style>\n",
       "<table border=\"1\" class=\"dataframe\">\n",
       "  <thead>\n",
       "    <tr style=\"text-align: right;\">\n",
       "      <th></th>\n",
       "      <th>affiliation</th>\n",
       "      <th>budget</th>\n",
       "      <th>physician</th>\n",
       "      <th>salvador</th>\n",
       "      <th>nicaraguan</th>\n",
       "      <th>missile</th>\n",
       "      <th>education</th>\n",
       "    </tr>\n",
       "  </thead>\n",
       "  <tbody>\n",
       "    <tr>\n",
       "      <th>0</th>\n",
       "      <td>republican</td>\n",
       "      <td>n</td>\n",
       "      <td>y</td>\n",
       "      <td>y</td>\n",
       "      <td>n</td>\n",
       "      <td>n</td>\n",
       "      <td>y</td>\n",
       "    </tr>\n",
       "    <tr>\n",
       "      <th>1</th>\n",
       "      <td>republican</td>\n",
       "      <td>n</td>\n",
       "      <td>y</td>\n",
       "      <td>y</td>\n",
       "      <td>n</td>\n",
       "      <td>n</td>\n",
       "      <td>y</td>\n",
       "    </tr>\n",
       "    <tr>\n",
       "      <th>2</th>\n",
       "      <td>democrat</td>\n",
       "      <td>y</td>\n",
       "      <td>neither</td>\n",
       "      <td>y</td>\n",
       "      <td>n</td>\n",
       "      <td>n</td>\n",
       "      <td>n</td>\n",
       "    </tr>\n",
       "    <tr>\n",
       "      <th>3</th>\n",
       "      <td>democrat</td>\n",
       "      <td>y</td>\n",
       "      <td>n</td>\n",
       "      <td>neither</td>\n",
       "      <td>n</td>\n",
       "      <td>n</td>\n",
       "      <td>n</td>\n",
       "    </tr>\n",
       "    <tr>\n",
       "      <th>4</th>\n",
       "      <td>democrat</td>\n",
       "      <td>y</td>\n",
       "      <td>n</td>\n",
       "      <td>y</td>\n",
       "      <td>n</td>\n",
       "      <td>n</td>\n",
       "      <td>neither</td>\n",
       "    </tr>\n",
       "  </tbody>\n",
       "</table>\n",
       "</div>"
      ],
      "text/plain": [
       "  affiliation budget physician salvador nicaraguan missile education\n",
       "0  republican      n         y        y          n       n         y\n",
       "1  republican      n         y        y          n       n         y\n",
       "2    democrat      y   neither        y          n       n         n\n",
       "3    democrat      y         n  neither          n       n         n\n",
       "4    democrat      y         n        y          n       n   neither"
      ]
     },
     "execution_count": 1,
     "metadata": {},
     "output_type": "execute_result"
    }
   ],
   "source": [
    "#changement de dossier\n",
    "import os\n",
    "os.chdir(\"d:/Bureau/PythonProject/packages/scientisttools/data/\")\n",
    "\n",
    "#importation des données\n",
    "import pandas as pd\n",
    "vote = pd.read_excel(\"vote_clustering.xlsx\")\n",
    "vote.head()"
   ]
  },
  {
   "cell_type": "code",
   "execution_count": 2,
   "metadata": {},
   "outputs": [
    {
     "name": "stdout",
     "output_type": "stream",
     "text": [
      "Index(['budget', 'physician', 'salvador', 'nicaraguan', 'missile',\n",
      "       'education'],\n",
      "      dtype='object')\n"
     ]
    }
   ],
   "source": [
    "#variables actives\n",
    "X = vote.iloc[:,1:]\n",
    "print(X.columns)"
   ]
  },
  {
   "attachments": {},
   "cell_type": "markdown",
   "metadata": {},
   "source": [
    "## ACM sur les données actives"
   ]
  },
  {
   "cell_type": "code",
   "execution_count": 3,
   "metadata": {},
   "outputs": [
    {
     "data": {
      "text/html": [
       "<style>#sk-container-id-1 {color: black;background-color: white;}#sk-container-id-1 pre{padding: 0;}#sk-container-id-1 div.sk-toggleable {background-color: white;}#sk-container-id-1 label.sk-toggleable__label {cursor: pointer;display: block;width: 100%;margin-bottom: 0;padding: 0.3em;box-sizing: border-box;text-align: center;}#sk-container-id-1 label.sk-toggleable__label-arrow:before {content: \"▸\";float: left;margin-right: 0.25em;color: #696969;}#sk-container-id-1 label.sk-toggleable__label-arrow:hover:before {color: black;}#sk-container-id-1 div.sk-estimator:hover label.sk-toggleable__label-arrow:before {color: black;}#sk-container-id-1 div.sk-toggleable__content {max-height: 0;max-width: 0;overflow: hidden;text-align: left;background-color: #f0f8ff;}#sk-container-id-1 div.sk-toggleable__content pre {margin: 0.2em;color: black;border-radius: 0.25em;background-color: #f0f8ff;}#sk-container-id-1 input.sk-toggleable__control:checked~div.sk-toggleable__content {max-height: 200px;max-width: 100%;overflow: auto;}#sk-container-id-1 input.sk-toggleable__control:checked~label.sk-toggleable__label-arrow:before {content: \"▾\";}#sk-container-id-1 div.sk-estimator input.sk-toggleable__control:checked~label.sk-toggleable__label {background-color: #d4ebff;}#sk-container-id-1 div.sk-label input.sk-toggleable__control:checked~label.sk-toggleable__label {background-color: #d4ebff;}#sk-container-id-1 input.sk-hidden--visually {border: 0;clip: rect(1px 1px 1px 1px);clip: rect(1px, 1px, 1px, 1px);height: 1px;margin: -1px;overflow: hidden;padding: 0;position: absolute;width: 1px;}#sk-container-id-1 div.sk-estimator {font-family: monospace;background-color: #f0f8ff;border: 1px dotted black;border-radius: 0.25em;box-sizing: border-box;margin-bottom: 0.5em;}#sk-container-id-1 div.sk-estimator:hover {background-color: #d4ebff;}#sk-container-id-1 div.sk-parallel-item::after {content: \"\";width: 100%;border-bottom: 1px solid gray;flex-grow: 1;}#sk-container-id-1 div.sk-label:hover label.sk-toggleable__label {background-color: #d4ebff;}#sk-container-id-1 div.sk-serial::before {content: \"\";position: absolute;border-left: 1px solid gray;box-sizing: border-box;top: 0;bottom: 0;left: 50%;z-index: 0;}#sk-container-id-1 div.sk-serial {display: flex;flex-direction: column;align-items: center;background-color: white;padding-right: 0.2em;padding-left: 0.2em;position: relative;}#sk-container-id-1 div.sk-item {position: relative;z-index: 1;}#sk-container-id-1 div.sk-parallel {display: flex;align-items: stretch;justify-content: center;background-color: white;position: relative;}#sk-container-id-1 div.sk-item::before, #sk-container-id-1 div.sk-parallel-item::before {content: \"\";position: absolute;border-left: 1px solid gray;box-sizing: border-box;top: 0;bottom: 0;left: 50%;z-index: -1;}#sk-container-id-1 div.sk-parallel-item {display: flex;flex-direction: column;z-index: 1;position: relative;background-color: white;}#sk-container-id-1 div.sk-parallel-item:first-child::after {align-self: flex-end;width: 50%;}#sk-container-id-1 div.sk-parallel-item:last-child::after {align-self: flex-start;width: 50%;}#sk-container-id-1 div.sk-parallel-item:only-child::after {width: 0;}#sk-container-id-1 div.sk-dashed-wrapped {border: 1px dashed gray;margin: 0 0.4em 0.5em 0.4em;box-sizing: border-box;padding-bottom: 0.4em;background-color: white;}#sk-container-id-1 div.sk-label label {font-family: monospace;font-weight: bold;display: inline-block;line-height: 1.2em;}#sk-container-id-1 div.sk-label-container {text-align: center;}#sk-container-id-1 div.sk-container {/* jupyter's `normalize.less` sets `[hidden] { display: none; }` but bootstrap.min.css set `[hidden] { display: none !important; }` so we also need the `!important` here to be able to override the default hidden behavior on the sphinx rendered scikit-learn.org. See: https://github.com/scikit-learn/scikit-learn/issues/21755 */display: inline-block !important;position: relative;}#sk-container-id-1 div.sk-text-repr-fallback {display: none;}</style><div id=\"sk-container-id-1\" class=\"sk-top-container\"><div class=\"sk-text-repr-fallback\"><pre>MCA(n_components=2, row_labels=RangeIndex(start=0, stop=435, step=1),\n",
       "    var_labels=Index([&#x27;budget&#x27;, &#x27;physician&#x27;, &#x27;salvador&#x27;, &#x27;nicaraguan&#x27;, &#x27;missile&#x27;,\n",
       "       &#x27;education&#x27;],\n",
       "      dtype=&#x27;object&#x27;))</pre><b>In a Jupyter environment, please rerun this cell to show the HTML representation or trust the notebook. <br />On GitHub, the HTML representation is unable to render, please try loading this page with nbviewer.org.</b></div><div class=\"sk-container\" hidden><div class=\"sk-item\"><div class=\"sk-estimator sk-toggleable\"><input class=\"sk-toggleable__control sk-hidden--visually\" id=\"sk-estimator-id-1\" type=\"checkbox\" checked><label for=\"sk-estimator-id-1\" class=\"sk-toggleable__label sk-toggleable__label-arrow\">MCA</label><div class=\"sk-toggleable__content\"><pre>MCA(n_components=2, row_labels=RangeIndex(start=0, stop=435, step=1),\n",
       "    var_labels=Index([&#x27;budget&#x27;, &#x27;physician&#x27;, &#x27;salvador&#x27;, &#x27;nicaraguan&#x27;, &#x27;missile&#x27;,\n",
       "       &#x27;education&#x27;],\n",
       "      dtype=&#x27;object&#x27;))</pre></div></div></div></div></div>"
      ],
      "text/plain": [
       "MCA(n_components=2, row_labels=RangeIndex(start=0, stop=435, step=1),\n",
       "    var_labels=Index(['budget', 'physician', 'salvador', 'nicaraguan', 'missile',\n",
       "       'education'],\n",
       "      dtype='object'))"
      ]
     },
     "execution_count": 3,
     "metadata": {},
     "output_type": "execute_result"
    }
   ],
   "source": [
    "# ACM\n",
    "from scientisttools.decomposition import MCA\n",
    "\n",
    "my_mca = MCA(n_components=2,\n",
    "             row_labels=X.index,\n",
    "             var_labels=X.columns,\n",
    "             mod_labels=None,\n",
    "             matrix_type=\"completed\",\n",
    "             benzecri=True,\n",
    "             greenacre=True,\n",
    "             row_sup_labels=None,\n",
    "             quali_sup_labels=None,\n",
    "             quanti_sup_labels=None,\n",
    "            parallelize=False)\n",
    "my_mca.fit(X)"
   ]
  },
  {
   "cell_type": "code",
   "execution_count": 4,
   "metadata": {},
   "outputs": [
    {
     "data": {
      "text/html": [
       "<div>\n",
       "<style scoped>\n",
       "    .dataframe tbody tr th:only-of-type {\n",
       "        vertical-align: middle;\n",
       "    }\n",
       "\n",
       "    .dataframe tbody tr th {\n",
       "        vertical-align: top;\n",
       "    }\n",
       "\n",
       "    .dataframe thead th {\n",
       "        text-align: right;\n",
       "    }\n",
       "</style>\n",
       "<table border=\"1\" class=\"dataframe\">\n",
       "  <thead>\n",
       "    <tr style=\"text-align: right;\">\n",
       "      <th></th>\n",
       "      <th>Dim.1</th>\n",
       "      <th>Dim.2</th>\n",
       "    </tr>\n",
       "  </thead>\n",
       "  <tbody>\n",
       "    <tr>\n",
       "      <th>budget_n</th>\n",
       "      <td>-1.036268</td>\n",
       "      <td>0.122848</td>\n",
       "    </tr>\n",
       "    <tr>\n",
       "      <th>budget_neither</th>\n",
       "      <td>0.144353</td>\n",
       "      <td>-4.493302</td>\n",
       "    </tr>\n",
       "    <tr>\n",
       "      <th>budget_y</th>\n",
       "      <td>0.694127</td>\n",
       "      <td>0.112329</td>\n",
       "    </tr>\n",
       "    <tr>\n",
       "      <th>physician_n</th>\n",
       "      <td>0.742239</td>\n",
       "      <td>0.123821</td>\n",
       "    </tr>\n",
       "    <tr>\n",
       "      <th>physician_neither</th>\n",
       "      <td>0.382880</td>\n",
       "      <td>-4.489729</td>\n",
       "    </tr>\n",
       "    <tr>\n",
       "      <th>physician_y</th>\n",
       "      <td>-1.059575</td>\n",
       "      <td>0.106234</td>\n",
       "    </tr>\n",
       "    <tr>\n",
       "      <th>salvador_n</th>\n",
       "      <td>0.918398</td>\n",
       "      <td>0.152289</td>\n",
       "    </tr>\n",
       "    <tr>\n",
       "      <th>salvador_neither</th>\n",
       "      <td>0.305731</td>\n",
       "      <td>-3.222448</td>\n",
       "    </tr>\n",
       "    <tr>\n",
       "      <th>salvador_y</th>\n",
       "      <td>-0.922701</td>\n",
       "      <td>0.078588</td>\n",
       "    </tr>\n",
       "    <tr>\n",
       "      <th>nicaraguan_n</th>\n",
       "      <td>-1.036804</td>\n",
       "      <td>0.098726</td>\n",
       "    </tr>\n",
       "    <tr>\n",
       "      <th>nicaraguan_neither</th>\n",
       "      <td>-0.441227</td>\n",
       "      <td>-3.042789</td>\n",
       "    </tr>\n",
       "    <tr>\n",
       "      <th>nicaraguan_y</th>\n",
       "      <td>0.789957</td>\n",
       "      <td>0.115986</td>\n",
       "    </tr>\n",
       "    <tr>\n",
       "      <th>missile_n</th>\n",
       "      <td>-0.890791</td>\n",
       "      <td>0.036200</td>\n",
       "    </tr>\n",
       "    <tr>\n",
       "      <th>missile_neither</th>\n",
       "      <td>0.452118</td>\n",
       "      <td>-1.389835</td>\n",
       "    </tr>\n",
       "    <tr>\n",
       "      <th>missile_y</th>\n",
       "      <td>0.838436</td>\n",
       "      <td>0.111687</td>\n",
       "    </tr>\n",
       "    <tr>\n",
       "      <th>education_n</th>\n",
       "      <td>0.712394</td>\n",
       "      <td>0.152655</td>\n",
       "    </tr>\n",
       "    <tr>\n",
       "      <th>education_neither</th>\n",
       "      <td>0.019439</td>\n",
       "      <td>-1.838427</td>\n",
       "    </tr>\n",
       "    <tr>\n",
       "      <th>education_y</th>\n",
       "      <td>-0.974213</td>\n",
       "      <td>0.125279</td>\n",
       "    </tr>\n",
       "  </tbody>\n",
       "</table>\n",
       "</div>"
      ],
      "text/plain": [
       "                       Dim.1     Dim.2\n",
       "budget_n           -1.036268  0.122848\n",
       "budget_neither      0.144353 -4.493302\n",
       "budget_y            0.694127  0.112329\n",
       "physician_n         0.742239  0.123821\n",
       "physician_neither   0.382880 -4.489729\n",
       "physician_y        -1.059575  0.106234\n",
       "salvador_n          0.918398  0.152289\n",
       "salvador_neither    0.305731 -3.222448\n",
       "salvador_y         -0.922701  0.078588\n",
       "nicaraguan_n       -1.036804  0.098726\n",
       "nicaraguan_neither -0.441227 -3.042789\n",
       "nicaraguan_y        0.789957  0.115986\n",
       "missile_n          -0.890791  0.036200\n",
       "missile_neither     0.452118 -1.389835\n",
       "missile_y           0.838436  0.111687\n",
       "education_n         0.712394  0.152655\n",
       "education_neither   0.019439 -1.838427\n",
       "education_y        -0.974213  0.125279"
      ]
     },
     "execution_count": 4,
     "metadata": {},
     "output_type": "execute_result"
    }
   ],
   "source": [
    "# Coordonnées des modalités\n",
    "pd.DataFrame(my_mca.mod_coord_,index=my_mca.mod_labels_,columns=my_mca.dim_index_)"
   ]
  },
  {
   "cell_type": "code",
   "execution_count": 5,
   "metadata": {},
   "outputs": [
    {
     "data": {
      "text/html": [
       "<div>\n",
       "<style scoped>\n",
       "    .dataframe tbody tr th:only-of-type {\n",
       "        vertical-align: middle;\n",
       "    }\n",
       "\n",
       "    .dataframe tbody tr th {\n",
       "        vertical-align: top;\n",
       "    }\n",
       "\n",
       "    .dataframe thead th {\n",
       "        text-align: right;\n",
       "    }\n",
       "</style>\n",
       "<table border=\"1\" class=\"dataframe\">\n",
       "  <thead>\n",
       "    <tr style=\"text-align: right;\">\n",
       "      <th></th>\n",
       "      <th>dist</th>\n",
       "      <th>weight</th>\n",
       "      <th>Inertie</th>\n",
       "    </tr>\n",
       "  </thead>\n",
       "  <tbody>\n",
       "    <tr>\n",
       "      <th>budget_n</th>\n",
       "      <td>1.242521</td>\n",
       "      <td>0.065517</td>\n",
       "      <td>0.101149</td>\n",
       "    </tr>\n",
       "    <tr>\n",
       "      <th>budget_neither</th>\n",
       "      <td>6.208499</td>\n",
       "      <td>0.004215</td>\n",
       "      <td>0.162452</td>\n",
       "    </tr>\n",
       "    <tr>\n",
       "      <th>budget_y</th>\n",
       "      <td>0.848155</td>\n",
       "      <td>0.096935</td>\n",
       "      <td>0.069732</td>\n",
       "    </tr>\n",
       "    <tr>\n",
       "      <th>physician_n</th>\n",
       "      <td>0.872430</td>\n",
       "      <td>0.094636</td>\n",
       "      <td>0.072031</td>\n",
       "    </tr>\n",
       "    <tr>\n",
       "      <th>physician_neither</th>\n",
       "      <td>6.208499</td>\n",
       "      <td>0.004215</td>\n",
       "      <td>0.162452</td>\n",
       "    </tr>\n",
       "    <tr>\n",
       "      <th>physician_y</th>\n",
       "      <td>1.207322</td>\n",
       "      <td>0.067816</td>\n",
       "      <td>0.098851</td>\n",
       "    </tr>\n",
       "    <tr>\n",
       "      <th>salvador_n</th>\n",
       "      <td>1.044675</td>\n",
       "      <td>0.079693</td>\n",
       "      <td>0.086973</td>\n",
       "    </tr>\n",
       "    <tr>\n",
       "      <th>salvador_neither</th>\n",
       "      <td>5.291503</td>\n",
       "      <td>0.005747</td>\n",
       "      <td>0.160920</td>\n",
       "    </tr>\n",
       "    <tr>\n",
       "      <th>salvador_y</th>\n",
       "      <td>1.025615</td>\n",
       "      <td>0.081226</td>\n",
       "      <td>0.085441</td>\n",
       "    </tr>\n",
       "    <tr>\n",
       "      <th>nicaraguan_n</th>\n",
       "      <td>1.201591</td>\n",
       "      <td>0.068199</td>\n",
       "      <td>0.098467</td>\n",
       "    </tr>\n",
       "    <tr>\n",
       "      <th>nicaraguan_neither</th>\n",
       "      <td>5.291503</td>\n",
       "      <td>0.005747</td>\n",
       "      <td>0.160920</td>\n",
       "    </tr>\n",
       "    <tr>\n",
       "      <th>nicaraguan_y</th>\n",
       "      <td>0.893040</td>\n",
       "      <td>0.092720</td>\n",
       "      <td>0.073946</td>\n",
       "    </tr>\n",
       "    <tr>\n",
       "      <th>missile_n</th>\n",
       "      <td>1.054348</td>\n",
       "      <td>0.078927</td>\n",
       "      <td>0.087739</td>\n",
       "    </tr>\n",
       "    <tr>\n",
       "      <th>missile_neither</th>\n",
       "      <td>4.332751</td>\n",
       "      <td>0.008429</td>\n",
       "      <td>0.158238</td>\n",
       "    </tr>\n",
       "    <tr>\n",
       "      <th>missile_y</th>\n",
       "      <td>1.049500</td>\n",
       "      <td>0.079310</td>\n",
       "      <td>0.087356</td>\n",
       "    </tr>\n",
       "    <tr>\n",
       "      <th>education_n</th>\n",
       "      <td>0.931103</td>\n",
       "      <td>0.089272</td>\n",
       "      <td>0.077395</td>\n",
       "    </tr>\n",
       "    <tr>\n",
       "      <th>education_neither</th>\n",
       "      <td>3.610022</td>\n",
       "      <td>0.011877</td>\n",
       "      <td>0.154789</td>\n",
       "    </tr>\n",
       "    <tr>\n",
       "      <th>education_y</th>\n",
       "      <td>1.242521</td>\n",
       "      <td>0.065517</td>\n",
       "      <td>0.101149</td>\n",
       "    </tr>\n",
       "  </tbody>\n",
       "</table>\n",
       "</div>"
      ],
      "text/plain": [
       "                        dist    weight   Inertie\n",
       "budget_n            1.242521  0.065517  0.101149\n",
       "budget_neither      6.208499  0.004215  0.162452\n",
       "budget_y            0.848155  0.096935  0.069732\n",
       "physician_n         0.872430  0.094636  0.072031\n",
       "physician_neither   6.208499  0.004215  0.162452\n",
       "physician_y         1.207322  0.067816  0.098851\n",
       "salvador_n          1.044675  0.079693  0.086973\n",
       "salvador_neither    5.291503  0.005747  0.160920\n",
       "salvador_y          1.025615  0.081226  0.085441\n",
       "nicaraguan_n        1.201591  0.068199  0.098467\n",
       "nicaraguan_neither  5.291503  0.005747  0.160920\n",
       "nicaraguan_y        0.893040  0.092720  0.073946\n",
       "missile_n           1.054348  0.078927  0.087739\n",
       "missile_neither     4.332751  0.008429  0.158238\n",
       "missile_y           1.049500  0.079310  0.087356\n",
       "education_n         0.931103  0.089272  0.077395\n",
       "education_neither   3.610022  0.011877  0.154789\n",
       "education_y         1.242521  0.065517  0.101149"
      ]
     },
     "execution_count": 5,
     "metadata": {},
     "output_type": "execute_result"
    }
   ],
   "source": [
    "pd.DataFrame(my_mca.mod_infos_,index=my_mca.mod_labels_,columns=[\"dist\",\"weight\",\"Inertie\"])"
   ]
  },
  {
   "attachments": {},
   "cell_type": "markdown",
   "metadata": {},
   "source": [
    "> Note\n",
    "\n",
    "Dans ce tableau `weight` représente le poids relatif de chaque modalité, c'est - à - dire :\n",
    "\n",
    "$$\n",
    "w_{k} = \\dfrac{n_{k}}{n\\times p}\n",
    "$$\n",
    "\n",
    "où \n",
    "* $n_{k}$ est le nombre d'individu possédant la modalité $k$\n",
    "* $n$ le nombre total d'individu\n",
    "* $p$ le nombre de variables catégorielles\n",
    "\n",
    "Dans le cadre de la classification automatique, on utilise le poids absolu (ou proportion), c'est - à - dire :\n",
    "\n",
    "$$\n",
    "p_{k} = \\dfrac{n_{k}}{n} = w_{k}\\times p\n",
    "$$"
   ]
  },
  {
   "cell_type": "code",
   "execution_count": 6,
   "metadata": {},
   "outputs": [
    {
     "data": {
      "text/plain": [
       "array([0.39310345, 0.02528736, 0.5816092 , 0.56781609, 0.02528736,\n",
       "       0.40689655, 0.47816092, 0.03448276, 0.48735632, 0.4091954 ,\n",
       "       0.03448276, 0.55632184, 0.47356322, 0.05057471, 0.47586207,\n",
       "       0.53563218, 0.07126437, 0.39310345])"
      ]
     },
     "execution_count": 6,
     "metadata": {},
     "output_type": "execute_result"
    }
   ],
   "source": [
    "# Poids absolus des modalités\n",
    "my_mca.mod_infos_[:,1]*my_mca.n_vars_"
   ]
  },
  {
   "attachments": {},
   "cell_type": "markdown",
   "metadata": {},
   "source": [
    "## Classification automatique"
   ]
  },
  {
   "cell_type": "code",
   "execution_count": 7,
   "metadata": {},
   "outputs": [],
   "source": [
    "from scientisttools.clustering import VARHCPC"
   ]
  },
  {
   "cell_type": "code",
   "execution_count": 8,
   "metadata": {},
   "outputs": [
    {
     "data": {
      "text/html": [
       "<style>#sk-container-id-2 {color: black;background-color: white;}#sk-container-id-2 pre{padding: 0;}#sk-container-id-2 div.sk-toggleable {background-color: white;}#sk-container-id-2 label.sk-toggleable__label {cursor: pointer;display: block;width: 100%;margin-bottom: 0;padding: 0.3em;box-sizing: border-box;text-align: center;}#sk-container-id-2 label.sk-toggleable__label-arrow:before {content: \"▸\";float: left;margin-right: 0.25em;color: #696969;}#sk-container-id-2 label.sk-toggleable__label-arrow:hover:before {color: black;}#sk-container-id-2 div.sk-estimator:hover label.sk-toggleable__label-arrow:before {color: black;}#sk-container-id-2 div.sk-toggleable__content {max-height: 0;max-width: 0;overflow: hidden;text-align: left;background-color: #f0f8ff;}#sk-container-id-2 div.sk-toggleable__content pre {margin: 0.2em;color: black;border-radius: 0.25em;background-color: #f0f8ff;}#sk-container-id-2 input.sk-toggleable__control:checked~div.sk-toggleable__content {max-height: 200px;max-width: 100%;overflow: auto;}#sk-container-id-2 input.sk-toggleable__control:checked~label.sk-toggleable__label-arrow:before {content: \"▾\";}#sk-container-id-2 div.sk-estimator input.sk-toggleable__control:checked~label.sk-toggleable__label {background-color: #d4ebff;}#sk-container-id-2 div.sk-label input.sk-toggleable__control:checked~label.sk-toggleable__label {background-color: #d4ebff;}#sk-container-id-2 input.sk-hidden--visually {border: 0;clip: rect(1px 1px 1px 1px);clip: rect(1px, 1px, 1px, 1px);height: 1px;margin: -1px;overflow: hidden;padding: 0;position: absolute;width: 1px;}#sk-container-id-2 div.sk-estimator {font-family: monospace;background-color: #f0f8ff;border: 1px dotted black;border-radius: 0.25em;box-sizing: border-box;margin-bottom: 0.5em;}#sk-container-id-2 div.sk-estimator:hover {background-color: #d4ebff;}#sk-container-id-2 div.sk-parallel-item::after {content: \"\";width: 100%;border-bottom: 1px solid gray;flex-grow: 1;}#sk-container-id-2 div.sk-label:hover label.sk-toggleable__label {background-color: #d4ebff;}#sk-container-id-2 div.sk-serial::before {content: \"\";position: absolute;border-left: 1px solid gray;box-sizing: border-box;top: 0;bottom: 0;left: 50%;z-index: 0;}#sk-container-id-2 div.sk-serial {display: flex;flex-direction: column;align-items: center;background-color: white;padding-right: 0.2em;padding-left: 0.2em;position: relative;}#sk-container-id-2 div.sk-item {position: relative;z-index: 1;}#sk-container-id-2 div.sk-parallel {display: flex;align-items: stretch;justify-content: center;background-color: white;position: relative;}#sk-container-id-2 div.sk-item::before, #sk-container-id-2 div.sk-parallel-item::before {content: \"\";position: absolute;border-left: 1px solid gray;box-sizing: border-box;top: 0;bottom: 0;left: 50%;z-index: -1;}#sk-container-id-2 div.sk-parallel-item {display: flex;flex-direction: column;z-index: 1;position: relative;background-color: white;}#sk-container-id-2 div.sk-parallel-item:first-child::after {align-self: flex-end;width: 50%;}#sk-container-id-2 div.sk-parallel-item:last-child::after {align-self: flex-start;width: 50%;}#sk-container-id-2 div.sk-parallel-item:only-child::after {width: 0;}#sk-container-id-2 div.sk-dashed-wrapped {border: 1px dashed gray;margin: 0 0.4em 0.5em 0.4em;box-sizing: border-box;padding-bottom: 0.4em;background-color: white;}#sk-container-id-2 div.sk-label label {font-family: monospace;font-weight: bold;display: inline-block;line-height: 1.2em;}#sk-container-id-2 div.sk-label-container {text-align: center;}#sk-container-id-2 div.sk-container {/* jupyter's `normalize.less` sets `[hidden] { display: none; }` but bootstrap.min.css set `[hidden] { display: none !important; }` so we also need the `!important` here to be able to override the default hidden behavior on the sphinx rendered scikit-learn.org. See: https://github.com/scikit-learn/scikit-learn/issues/21755 */display: inline-block !important;position: relative;}#sk-container-id-2 div.sk-text-repr-fallback {display: none;}</style><div id=\"sk-container-id-2\" class=\"sk-top-container\"><div class=\"sk-text-repr-fallback\"><pre>VARHCPC(method=&#x27;average&#x27;, n_clusters=3)</pre><b>In a Jupyter environment, please rerun this cell to show the HTML representation or trust the notebook. <br />On GitHub, the HTML representation is unable to render, please try loading this page with nbviewer.org.</b></div><div class=\"sk-container\" hidden><div class=\"sk-item\"><div class=\"sk-estimator sk-toggleable\"><input class=\"sk-toggleable__control sk-hidden--visually\" id=\"sk-estimator-id-2\" type=\"checkbox\" checked><label for=\"sk-estimator-id-2\" class=\"sk-toggleable__label sk-toggleable__label-arrow\">VARHCPC</label><div class=\"sk-toggleable__content\"><pre>VARHCPC(method=&#x27;average&#x27;, n_clusters=3)</pre></div></div></div></div></div>"
      ],
      "text/plain": [
       "VARHCPC(method='average', n_clusters=3)"
      ]
     },
     "execution_count": 8,
     "metadata": {},
     "output_type": "execute_result"
    }
   ],
   "source": [
    "# \n",
    "varhcpc = VARHCPC(n_clusters=3,\n",
    "                  metric=\"euclidean\",\n",
    "                  method=\"average\",\n",
    "                  parallelize=False)\n",
    "# Instanciation\n",
    "varhcpc.fit(my_mca)"
   ]
  },
  {
   "attachments": {},
   "cell_type": "markdown",
   "metadata": {},
   "source": [
    "### Dendrogram"
   ]
  },
  {
   "cell_type": "code",
   "execution_count": 9,
   "metadata": {},
   "outputs": [
    {
     "data": {
      "image/png": "[encoded data removed]",
      "text/plain": [
       "<Figure size 432x288 with 1 Axes>"
      ]
     },
     "metadata": {
      "needs_background": "light"
     },
     "output_type": "display_data"
    }
   ],
   "source": [
    "# Dendrogram\n",
    "import matplotlib.pyplot as plt\n",
    "from scientisttools.pyplot import plot_dendrogram\n",
    "\n",
    "plot_dendrogram(varhcpc,orientation='top',leaf_rotation=90,color_threshold=1.6)\n",
    "plt.show()"
   ]
  },
  {
   "cell_type": "code",
   "execution_count": 10,
   "metadata": {},
   "outputs": [
    {
     "data": {
      "text/html": [
       "<div>\n",
       "<style scoped>\n",
       "    .dataframe tbody tr th:only-of-type {\n",
       "        vertical-align: middle;\n",
       "    }\n",
       "\n",
       "    .dataframe tbody tr th {\n",
       "        vertical-align: top;\n",
       "    }\n",
       "\n",
       "    .dataframe thead th {\n",
       "        text-align: right;\n",
       "    }\n",
       "</style>\n",
       "<table border=\"1\" class=\"dataframe\">\n",
       "  <thead>\n",
       "    <tr style=\"text-align: right;\">\n",
       "      <th></th>\n",
       "      <th>Dim.1</th>\n",
       "      <th>Dim.2</th>\n",
       "    </tr>\n",
       "    <tr>\n",
       "      <th>cluster</th>\n",
       "      <th></th>\n",
       "      <th></th>\n",
       "    </tr>\n",
       "  </thead>\n",
       "  <tbody>\n",
       "    <tr>\n",
       "      <th>cluster_1</th>\n",
       "      <td>-0.005715</td>\n",
       "      <td>0.111920</td>\n",
       "    </tr>\n",
       "    <tr>\n",
       "      <th>cluster_2</th>\n",
       "      <td>0.072444</td>\n",
       "      <td>-3.707536</td>\n",
       "    </tr>\n",
       "    <tr>\n",
       "      <th>cluster_3</th>\n",
       "      <td>0.199041</td>\n",
       "      <td>-1.652219</td>\n",
       "    </tr>\n",
       "  </tbody>\n",
       "</table>\n",
       "</div>"
      ],
      "text/plain": [
       "              Dim.1     Dim.2\n",
       "cluster                      \n",
       "cluster_1 -0.005715  0.111920\n",
       "cluster_2  0.072444 -3.707536\n",
       "cluster_3  0.199041 -1.652219"
      ]
     },
     "execution_count": 10,
     "metadata": {},
     "output_type": "execute_result"
    }
   ],
   "source": [
    "varhcpc.cluster_centers_"
   ]
  },
  {
   "cell_type": "code",
   "execution_count": 11,
   "metadata": {},
   "outputs": [
    {
     "data": {
      "image/png": "[encoded data removed]",
      "text/plain": [
       "<Figure size 720x720 with 1 Axes>"
      ]
     },
     "metadata": {
      "needs_background": "light"
     },
     "output_type": "display_data"
    }
   ],
   "source": [
    "from scientisttools.pyplot import plotVARHCPC\n",
    "\n",
    "fig,axe =plt.subplots(figsize=(10,10))\n",
    "plotVARHCPC(varhcpc,ax=axe,xlim=(-1.5,2),ylim=(-5,1),repel=True,random_state=123,show_clust_cent=True)\n",
    "plt.show()"
   ]
  }
 ],
 "metadata": {
  "kernelspec": {
   "display_name": "Python 3",
   "language": "python",
   "name": "python3"
  },
  "language_info": {
   "codemirror_mode": {
    "name": "ipython",
    "version": 3
   },
   "file_extension": ".py",
   "mimetype": "text/x-python",
   "name": "python",
   "nbconvert_exporter": "python",
   "pygments_lexer": "ipython3",
   "version": "3.10.5"
  },
  "orig_nbformat": 4
 },
 "nbformat": 4,
 "nbformat_minor": 2
}
