{
 "cells": [
  {
   "attachments": {},
   "cell_type": "markdown",
   "metadata": {},
   "source": [
    "# Metric and Non - Metric MDS"
   ]
  },
  {
   "cell_type": "code",
   "execution_count": 1,
   "metadata": {},
   "outputs": [],
   "source": [
    "# Chargement des librairies\n",
    "import pandas as pd\n",
    "import numpy as np\n",
    "from plydata import *\n",
    "import matplotlib.pyplot as plt\n",
    "from scientisttools.extractfactor import get_mds\n",
    "from scipy.spatial.distance import pdist,squareform\n",
    "from scientisttools.pyplot import plot_shepard"
   ]
  },
  {
   "cell_type": "code",
   "execution_count": 2,
   "metadata": {},
   "outputs": [
    {
     "data": {
      "text/html": [
       "<div>\n",
       "<style scoped>\n",
       "    .dataframe tbody tr th:only-of-type {\n",
       "        vertical-align: middle;\n",
       "    }\n",
       "\n",
       "    .dataframe tbody tr th {\n",
       "        vertical-align: top;\n",
       "    }\n",
       "\n",
       "    .dataframe thead th {\n",
       "        text-align: right;\n",
       "    }\n",
       "</style>\n",
       "<table border=\"1\" class=\"dataframe\">\n",
       "  <thead>\n",
       "    <tr style=\"text-align: right;\">\n",
       "      <th></th>\n",
       "      <th>Antsiranana</th>\n",
       "      <th>Majunga</th>\n",
       "      <th>Tulear</th>\n",
       "      <th>Fianarantsoa</th>\n",
       "      <th>Tananarive</th>\n",
       "      <th>Toamasina</th>\n",
       "    </tr>\n",
       "    <tr>\n",
       "      <th>Ville</th>\n",
       "      <th></th>\n",
       "      <th></th>\n",
       "      <th></th>\n",
       "      <th></th>\n",
       "      <th></th>\n",
       "      <th></th>\n",
       "    </tr>\n",
       "  </thead>\n",
       "  <tbody>\n",
       "    <tr>\n",
       "      <th>Antsiranana</th>\n",
       "      <td>0</td>\n",
       "      <td>859</td>\n",
       "      <td>2038</td>\n",
       "      <td>1522</td>\n",
       "      <td>1109</td>\n",
       "      <td>1287</td>\n",
       "    </tr>\n",
       "    <tr>\n",
       "      <th>Majunga</th>\n",
       "      <td>859</td>\n",
       "      <td>0</td>\n",
       "      <td>1495</td>\n",
       "      <td>979</td>\n",
       "      <td>566</td>\n",
       "      <td>926</td>\n",
       "    </tr>\n",
       "    <tr>\n",
       "      <th>Tulear</th>\n",
       "      <td>2038</td>\n",
       "      <td>1495</td>\n",
       "      <td>0</td>\n",
       "      <td>516</td>\n",
       "      <td>930</td>\n",
       "      <td>1266</td>\n",
       "    </tr>\n",
       "    <tr>\n",
       "      <th>Fianarantsoa</th>\n",
       "      <td>1522</td>\n",
       "      <td>979</td>\n",
       "      <td>516</td>\n",
       "      <td>0</td>\n",
       "      <td>414</td>\n",
       "      <td>750</td>\n",
       "    </tr>\n",
       "    <tr>\n",
       "      <th>Tananarive</th>\n",
       "      <td>1109</td>\n",
       "      <td>566</td>\n",
       "      <td>930</td>\n",
       "      <td>414</td>\n",
       "      <td>0</td>\n",
       "      <td>355</td>\n",
       "    </tr>\n",
       "    <tr>\n",
       "      <th>Toamasina</th>\n",
       "      <td>1287</td>\n",
       "      <td>926</td>\n",
       "      <td>1266</td>\n",
       "      <td>750</td>\n",
       "      <td>355</td>\n",
       "      <td>0</td>\n",
       "    </tr>\n",
       "  </tbody>\n",
       "</table>\n",
       "</div>"
      ],
      "text/plain": [
       "              Antsiranana  Majunga  Tulear  Fianarantsoa  Tananarive   \n",
       "Ville                                                                  \n",
       "Antsiranana             0      859    2038          1522        1109  \\\n",
       "Majunga               859        0    1495           979         566   \n",
       "Tulear               2038     1495       0           516         930   \n",
       "Fianarantsoa         1522      979     516             0         414   \n",
       "Tananarive           1109      566     930           414           0   \n",
       "Toamasina            1287      926    1266           750         355   \n",
       "\n",
       "              Toamasina  \n",
       "Ville                    \n",
       "Antsiranana        1287  \n",
       "Majunga             926  \n",
       "Tulear             1266  \n",
       "Fianarantsoa        750  \n",
       "Tananarive          355  \n",
       "Toamasina             0  "
      ]
     },
     "metadata": {},
     "output_type": "display_data"
    }
   ],
   "source": [
    "#chargement - index_col = 0 pour indiquer que la colonne n°0 est un label import pandas \n",
    "D = pd.read_excel(\"Data_Methodes_Factorielles.xlsx\",sheet_name=\"MDS_MADAGASCAR\",index_col=0)\n",
    "display(D)"
   ]
  },
  {
   "cell_type": "code",
   "execution_count": 3,
   "metadata": {},
   "outputs": [
    {
     "name": "stderr",
     "output_type": "stream",
     "text": [
      "c:\\Users\\duver\\AppData\\Local\\Programs\\Python\\Python310\\lib\\site-packages\\outdated\\utils.py:14: OutdatedPackageWarning: The package outdated is out of date. Your version is 0.2.1, the latest is 0.2.2.\n",
      "Set the environment variable OUTDATED_IGNORE=1 to disable these warnings.\n",
      "  return warn(\n",
      "c:\\Users\\duver\\AppData\\Local\\Programs\\Python\\Python310\\lib\\site-packages\\outdated\\utils.py:14: OutdatedPackageWarning: The package pingouin is out of date. Your version is 0.5.2, the latest is 0.5.3.\n",
      "Set the environment variable OUTDATED_IGNORE=1 to disable these warnings.\n",
      "  return warn(\n"
     ]
    },
    {
     "data": {
      "image/png": "[encoded data removed]",
      "text/plain": [
       "<Figure size 720x720 with 1 Axes>"
      ]
     },
     "metadata": {
      "needs_background": "light"
     },
     "output_type": "display_data"
    }
   ],
   "source": [
    "from scientisttools.manifold import MDS\n",
    "my_mds = MDS(n_components=2,\n",
    "             random_state=123,\n",
    "             proximity =\"precomputed\",\n",
    "             labels=D.index.values,\n",
    "             normalized_stress=True).fit(D)"
   ]
  },
  {
   "cell_type": "code",
   "execution_count": 4,
   "metadata": {},
   "outputs": [
    {
     "data": {
      "text/html": [
       "<div>\n",
       "<style scoped>\n",
       "    .dataframe tbody tr th:only-of-type {\n",
       "        vertical-align: middle;\n",
       "    }\n",
       "\n",
       "    .dataframe tbody tr th {\n",
       "        vertical-align: top;\n",
       "    }\n",
       "\n",
       "    .dataframe thead th {\n",
       "        text-align: right;\n",
       "    }\n",
       "</style>\n",
       "<table border=\"1\" class=\"dataframe\">\n",
       "  <thead>\n",
       "    <tr style=\"text-align: right;\">\n",
       "      <th></th>\n",
       "      <th>Dim.1</th>\n",
       "      <th>Dim.2</th>\n",
       "    </tr>\n",
       "  </thead>\n",
       "  <tbody>\n",
       "    <tr>\n",
       "      <th>Antsiranana</th>\n",
       "      <td>48.626118</td>\n",
       "      <td>1097.674748</td>\n",
       "    </tr>\n",
       "    <tr>\n",
       "      <th>Majunga</th>\n",
       "      <td>376.251789</td>\n",
       "      <td>391.007366</td>\n",
       "    </tr>\n",
       "    <tr>\n",
       "      <th>Tulear</th>\n",
       "      <td>128.924451</td>\n",
       "      <td>-1000.502329</td>\n",
       "    </tr>\n",
       "    <tr>\n",
       "      <th>Fianarantsoa</th>\n",
       "      <td>25.630740</td>\n",
       "      <td>-473.424473</td>\n",
       "    </tr>\n",
       "    <tr>\n",
       "      <th>Tananarive</th>\n",
       "      <td>-80.086509</td>\n",
       "      <td>-38.472451</td>\n",
       "    </tr>\n",
       "    <tr>\n",
       "      <th>Toamasina</th>\n",
       "      <td>-499.346589</td>\n",
       "      <td>23.717139</td>\n",
       "    </tr>\n",
       "  </tbody>\n",
       "</table>\n",
       "</div>"
      ],
      "text/plain": [
       "                   Dim.1        Dim.2\n",
       "Antsiranana    48.626118  1097.674748\n",
       "Majunga       376.251789   391.007366\n",
       "Tulear        128.924451 -1000.502329\n",
       "Fianarantsoa   25.630740  -473.424473\n",
       "Tananarive    -80.086509   -38.472451\n",
       "Toamasina    -499.346589    23.717139"
      ]
     },
     "metadata": {},
     "output_type": "display_data"
    }
   ],
   "source": [
    "from scientisttools.extractfactor import get_mds\n",
    "coord = get_mds(my_mds)[\"coord\"]\n",
    "display(coord)"
   ]
  },
  {
   "cell_type": "code",
   "execution_count": 5,
   "metadata": {},
   "outputs": [
    {
     "name": "stdout",
     "output_type": "stream",
     "text": [
      "0.051363799503311755\n"
     ]
    }
   ],
   "source": [
    "print(my_mds.stress_)"
   ]
  },
  {
   "cell_type": "code",
   "execution_count": 6,
   "metadata": {},
   "outputs": [
    {
     "data": {
      "image/png": "[encoded data removed]",
      "text/plain": [
       "<Figure size 576x576 with 1 Axes>"
      ]
     },
     "metadata": {
      "needs_background": "light"
     },
     "output_type": "display_data"
    }
   ],
   "source": [
    "fig, axe =plt.subplots(figsize=(8,8))\n",
    "plot_shepard(my_mds,ax=axe)"
   ]
  }
 ],
 "metadata": {
  "kernelspec": {
   "display_name": "Python 3",
   "language": "python",
   "name": "python3"
  },
  "language_info": {
   "codemirror_mode": {
    "name": "ipython",
    "version": 3
   },
   "file_extension": ".py",
   "mimetype": "text/x-python",
   "name": "python",
   "nbconvert_exporter": "python",
   "pygments_lexer": "ipython3",
   "version": "3.10.5"
  },
  "orig_nbformat": 4,
  "vscode": {
   "interpreter": {
    "hash": "33c21fde6dc523fbc7c154ee58984d21664bddd64126b134548012e0ca003065"
   }
  }
 },
 "nbformat": 4,
 "nbformat_minor": 2
}
