{
 "cells": [
  {
   "attachments": {},
   "cell_type": "markdown",
   "metadata": {},
   "source": [
    "# Canonical discriminant analysis"
   ]
  },
  {
   "cell_type": "code",
   "execution_count": 1,
   "metadata": {},
   "outputs": [],
   "source": [
    "# Chargement des donnees\n",
    "import pandas as pd\n",
    "import numpy as np\n",
    "from plydata import *\n",
    "import os\n",
    "os.chdir(\"d:/Bureau/PythonProject/packages/scientisttools/data/\")"
   ]
  },
  {
   "cell_type": "code",
   "execution_count": 2,
   "metadata": {},
   "outputs": [
    {
     "data": {
      "text/html": [
       "<div>\n",
       "<style scoped>\n",
       "    .dataframe tbody tr th:only-of-type {\n",
       "        vertical-align: middle;\n",
       "    }\n",
       "\n",
       "    .dataframe tbody tr th {\n",
       "        vertical-align: top;\n",
       "    }\n",
       "\n",
       "    .dataframe thead th {\n",
       "        text-align: right;\n",
       "    }\n",
       "</style>\n",
       "<table border=\"1\" class=\"dataframe\">\n",
       "  <thead>\n",
       "    <tr style=\"text-align: right;\">\n",
       "      <th></th>\n",
       "      <th>Obs.</th>\n",
       "      <th>Temperature</th>\n",
       "      <th>Soleil</th>\n",
       "      <th>Chaleur</th>\n",
       "      <th>Pluie</th>\n",
       "      <th>Qualite</th>\n",
       "    </tr>\n",
       "    <tr>\n",
       "      <th>Annee</th>\n",
       "      <th></th>\n",
       "      <th></th>\n",
       "      <th></th>\n",
       "      <th></th>\n",
       "      <th></th>\n",
       "      <th></th>\n",
       "    </tr>\n",
       "  </thead>\n",
       "  <tbody>\n",
       "    <tr>\n",
       "      <th>1924</th>\n",
       "      <td>1</td>\n",
       "      <td>3064</td>\n",
       "      <td>1201</td>\n",
       "      <td>10</td>\n",
       "      <td>361</td>\n",
       "      <td>Moyen</td>\n",
       "    </tr>\n",
       "    <tr>\n",
       "      <th>1925</th>\n",
       "      <td>2</td>\n",
       "      <td>3000</td>\n",
       "      <td>1053</td>\n",
       "      <td>11</td>\n",
       "      <td>338</td>\n",
       "      <td>Mediocre</td>\n",
       "    </tr>\n",
       "    <tr>\n",
       "      <th>1926</th>\n",
       "      <td>3</td>\n",
       "      <td>3155</td>\n",
       "      <td>1133</td>\n",
       "      <td>19</td>\n",
       "      <td>393</td>\n",
       "      <td>Moyen</td>\n",
       "    </tr>\n",
       "    <tr>\n",
       "      <th>1927</th>\n",
       "      <td>4</td>\n",
       "      <td>3085</td>\n",
       "      <td>970</td>\n",
       "      <td>4</td>\n",
       "      <td>467</td>\n",
       "      <td>Mediocre</td>\n",
       "    </tr>\n",
       "    <tr>\n",
       "      <th>1928</th>\n",
       "      <td>5</td>\n",
       "      <td>3245</td>\n",
       "      <td>1258</td>\n",
       "      <td>36</td>\n",
       "      <td>294</td>\n",
       "      <td>Bon</td>\n",
       "    </tr>\n",
       "  </tbody>\n",
       "</table>\n",
       "</div>"
      ],
      "text/plain": [
       "       Obs.  Temperature  Soleil  Chaleur  Pluie   Qualite\n",
       "Annee                                                     \n",
       "1924      1         3064    1201       10    361     Moyen\n",
       "1925      2         3000    1053       11    338  Mediocre\n",
       "1926      3         3155    1133       19    393     Moyen\n",
       "1927      4         3085     970        4    467  Mediocre\n",
       "1928      5         3245    1258       36    294       Bon"
      ]
     },
     "metadata": {},
     "output_type": "display_data"
    }
   ],
   "source": [
    "wine = pd.read_excel(\"wine_quality.xls\",index_col=1)\n",
    "display(wine >> head()) "
   ]
  },
  {
   "cell_type": "code",
   "execution_count": 3,
   "metadata": {},
   "outputs": [],
   "source": [
    "from scientisttools.discriminant_analysis import CANDISC"
   ]
  },
  {
   "cell_type": "code",
   "execution_count": 4,
   "metadata": {},
   "outputs": [
    {
     "data": {
      "text/html": [
       "<style>#sk-container-id-1 {color: black;background-color: white;}#sk-container-id-1 pre{padding: 0;}#sk-container-id-1 div.sk-toggleable {background-color: white;}#sk-container-id-1 label.sk-toggleable__label {cursor: pointer;display: block;width: 100%;margin-bottom: 0;padding: 0.3em;box-sizing: border-box;text-align: center;}#sk-container-id-1 label.sk-toggleable__label-arrow:before {content: \"▸\";float: left;margin-right: 0.25em;color: #696969;}#sk-container-id-1 label.sk-toggleable__label-arrow:hover:before {color: black;}#sk-container-id-1 div.sk-estimator:hover label.sk-toggleable__label-arrow:before {color: black;}#sk-container-id-1 div.sk-toggleable__content {max-height: 0;max-width: 0;overflow: hidden;text-align: left;background-color: #f0f8ff;}#sk-container-id-1 div.sk-toggleable__content pre {margin: 0.2em;color: black;border-radius: 0.25em;background-color: #f0f8ff;}#sk-container-id-1 input.sk-toggleable__control:checked~div.sk-toggleable__content {max-height: 200px;max-width: 100%;overflow: auto;}#sk-container-id-1 input.sk-toggleable__control:checked~label.sk-toggleable__label-arrow:before {content: \"▾\";}#sk-container-id-1 div.sk-estimator input.sk-toggleable__control:checked~label.sk-toggleable__label {background-color: #d4ebff;}#sk-container-id-1 div.sk-label input.sk-toggleable__control:checked~label.sk-toggleable__label {background-color: #d4ebff;}#sk-container-id-1 input.sk-hidden--visually {border: 0;clip: rect(1px 1px 1px 1px);clip: rect(1px, 1px, 1px, 1px);height: 1px;margin: -1px;overflow: hidden;padding: 0;position: absolute;width: 1px;}#sk-container-id-1 div.sk-estimator {font-family: monospace;background-color: #f0f8ff;border: 1px dotted black;border-radius: 0.25em;box-sizing: border-box;margin-bottom: 0.5em;}#sk-container-id-1 div.sk-estimator:hover {background-color: #d4ebff;}#sk-container-id-1 div.sk-parallel-item::after {content: \"\";width: 100%;border-bottom: 1px solid gray;flex-grow: 1;}#sk-container-id-1 div.sk-label:hover label.sk-toggleable__label {background-color: #d4ebff;}#sk-container-id-1 div.sk-serial::before {content: \"\";position: absolute;border-left: 1px solid gray;box-sizing: border-box;top: 0;bottom: 0;left: 50%;z-index: 0;}#sk-container-id-1 div.sk-serial {display: flex;flex-direction: column;align-items: center;background-color: white;padding-right: 0.2em;padding-left: 0.2em;position: relative;}#sk-container-id-1 div.sk-item {position: relative;z-index: 1;}#sk-container-id-1 div.sk-parallel {display: flex;align-items: stretch;justify-content: center;background-color: white;position: relative;}#sk-container-id-1 div.sk-item::before, #sk-container-id-1 div.sk-parallel-item::before {content: \"\";position: absolute;border-left: 1px solid gray;box-sizing: border-box;top: 0;bottom: 0;left: 50%;z-index: -1;}#sk-container-id-1 div.sk-parallel-item {display: flex;flex-direction: column;z-index: 1;position: relative;background-color: white;}#sk-container-id-1 div.sk-parallel-item:first-child::after {align-self: flex-end;width: 50%;}#sk-container-id-1 div.sk-parallel-item:last-child::after {align-self: flex-start;width: 50%;}#sk-container-id-1 div.sk-parallel-item:only-child::after {width: 0;}#sk-container-id-1 div.sk-dashed-wrapped {border: 1px dashed gray;margin: 0 0.4em 0.5em 0.4em;box-sizing: border-box;padding-bottom: 0.4em;background-color: white;}#sk-container-id-1 div.sk-label label {font-family: monospace;font-weight: bold;display: inline-block;line-height: 1.2em;}#sk-container-id-1 div.sk-label-container {text-align: center;}#sk-container-id-1 div.sk-container {/* jupyter's `normalize.less` sets `[hidden] { display: none; }` but bootstrap.min.css set `[hidden] { display: none !important; }` so we also need the `!important` here to be able to override the default hidden behavior on the sphinx rendered scikit-learn.org. See: https://github.com/scikit-learn/scikit-learn/issues/21755 */display: inline-block !important;position: relative;}#sk-container-id-1 div.sk-text-repr-fallback {display: none;}</style><div id=\"sk-container-id-1\" class=\"sk-top-container\"><div class=\"sk-text-repr-fallback\"><pre>CANDISC(features_labels=[&#x27;Temperature&#x27;, &#x27;Soleil&#x27;, &#x27;Chaleur&#x27;, &#x27;Pluie&#x27;],\n",
       "        n_components=2,\n",
       "        row_labels=Int64Index([1924, 1925, 1926, 1927, 1928, 1929, 1930, 1931, 1932, 1933, 1934,\n",
       "            1935, 1936, 1937, 1938, 1939, 1940, 1941, 1942, 1943, 1944, 1945,\n",
       "            1946, 1947, 1948, 1949, 1950, 1951, 1952, 1953, 1954, 1955, 1956,\n",
       "            1957],\n",
       "           dtype=&#x27;int64&#x27;, name=&#x27;Annee&#x27;),\n",
       "        target=[&#x27;Qualite&#x27;])</pre><b>In a Jupyter environment, please rerun this cell to show the HTML representation or trust the notebook. <br />On GitHub, the HTML representation is unable to render, please try loading this page with nbviewer.org.</b></div><div class=\"sk-container\" hidden><div class=\"sk-item\"><div class=\"sk-estimator sk-toggleable\"><input class=\"sk-toggleable__control sk-hidden--visually\" id=\"sk-estimator-id-1\" type=\"checkbox\" checked><label for=\"sk-estimator-id-1\" class=\"sk-toggleable__label sk-toggleable__label-arrow\">CANDISC</label><div class=\"sk-toggleable__content\"><pre>CANDISC(features_labels=[&#x27;Temperature&#x27;, &#x27;Soleil&#x27;, &#x27;Chaleur&#x27;, &#x27;Pluie&#x27;],\n",
       "        n_components=2,\n",
       "        row_labels=Int64Index([1924, 1925, 1926, 1927, 1928, 1929, 1930, 1931, 1932, 1933, 1934,\n",
       "            1935, 1936, 1937, 1938, 1939, 1940, 1941, 1942, 1943, 1944, 1945,\n",
       "            1946, 1947, 1948, 1949, 1950, 1951, 1952, 1953, 1954, 1955, 1956,\n",
       "            1957],\n",
       "           dtype=&#x27;int64&#x27;, name=&#x27;Annee&#x27;),\n",
       "        target=[&#x27;Qualite&#x27;])</pre></div></div></div></div></div>"
      ],
      "text/plain": [
       "CANDISC(features_labels=['Temperature', 'Soleil', 'Chaleur', 'Pluie'],\n",
       "        n_components=2,\n",
       "        row_labels=Int64Index([1924, 1925, 1926, 1927, 1928, 1929, 1930, 1931, 1932, 1933, 1934,\n",
       "            1935, 1936, 1937, 1938, 1939, 1940, 1941, 1942, 1943, 1944, 1945,\n",
       "            1946, 1947, 1948, 1949, 1950, 1951, 1952, 1953, 1954, 1955, 1956,\n",
       "            1957],\n",
       "           dtype='int64', name='Annee'),\n",
       "        target=['Qualite'])"
      ]
     },
     "execution_count": 4,
     "metadata": {},
     "output_type": "execute_result"
    }
   ],
   "source": [
    "my_cda = CANDISC(n_components=2,\n",
    "                 target=[\"Qualite\"],\n",
    "                 row_labels=wine.index,\n",
    "                 features_labels=[\"Temperature\",\"Soleil\",\"Chaleur\",\"Pluie\"],\n",
    "                 parallelize=False)\n",
    "my_cda.fit(wine)"
   ]
  },
  {
   "cell_type": "code",
   "execution_count": 5,
   "metadata": {},
   "outputs": [
    {
     "data": {
      "text/plain": [
       "array(['Bon', 'Mediocre', 'Moyen'], dtype=object)"
      ]
     },
     "execution_count": 5,
     "metadata": {},
     "output_type": "execute_result"
    }
   ],
   "source": [
    "my_cda.classes_"
   ]
  },
  {
   "cell_type": "code",
   "execution_count": 6,
   "metadata": {},
   "outputs": [
    {
     "data": {
      "text/html": [
       "<div>\n",
       "<style scoped>\n",
       "    .dataframe tbody tr th:only-of-type {\n",
       "        vertical-align: middle;\n",
       "    }\n",
       "\n",
       "    .dataframe tbody tr th {\n",
       "        vertical-align: top;\n",
       "    }\n",
       "\n",
       "    .dataframe thead th {\n",
       "        text-align: right;\n",
       "    }\n",
       "</style>\n",
       "<table border=\"1\" class=\"dataframe\">\n",
       "  <thead>\n",
       "    <tr style=\"text-align: right;\">\n",
       "      <th></th>\n",
       "      <th>value</th>\n",
       "    </tr>\n",
       "  </thead>\n",
       "  <tbody>\n",
       "    <tr>\n",
       "      <th>Total Sample Size</th>\n",
       "      <td>34</td>\n",
       "    </tr>\n",
       "    <tr>\n",
       "      <th>Variables</th>\n",
       "      <td>4</td>\n",
       "    </tr>\n",
       "    <tr>\n",
       "      <th>Classes</th>\n",
       "      <td>3</td>\n",
       "    </tr>\n",
       "    <tr>\n",
       "      <th>DF Total</th>\n",
       "      <td>33</td>\n",
       "    </tr>\n",
       "    <tr>\n",
       "      <th>DF Within Classes</th>\n",
       "      <td>31</td>\n",
       "    </tr>\n",
       "    <tr>\n",
       "      <th>DF Between Classes</th>\n",
       "      <td>2</td>\n",
       "    </tr>\n",
       "  </tbody>\n",
       "</table>\n",
       "</div>"
      ],
      "text/plain": [
       "                    value\n",
       "Total Sample Size      34\n",
       "Variables               4\n",
       "Classes                 3\n",
       "DF Total               33\n",
       "DF Within Classes      31\n",
       "DF Between Classes      2"
      ]
     },
     "execution_count": 6,
     "metadata": {},
     "output_type": "execute_result"
    }
   ],
   "source": [
    "my_cda.summary_information_"
   ]
  },
  {
   "cell_type": "code",
   "execution_count": 7,
   "metadata": {},
   "outputs": [
    {
     "data": {
      "text/html": [
       "<div>\n",
       "<style scoped>\n",
       "    .dataframe tbody tr th:only-of-type {\n",
       "        vertical-align: middle;\n",
       "    }\n",
       "\n",
       "    .dataframe tbody tr th {\n",
       "        vertical-align: top;\n",
       "    }\n",
       "\n",
       "    .dataframe thead th {\n",
       "        text-align: right;\n",
       "    }\n",
       "</style>\n",
       "<table border=\"1\" class=\"dataframe\">\n",
       "  <thead>\n",
       "    <tr style=\"text-align: right;\">\n",
       "      <th></th>\n",
       "      <th>n(k)</th>\n",
       "      <th>p(k)</th>\n",
       "    </tr>\n",
       "    <tr>\n",
       "      <th>Qualite</th>\n",
       "      <th></th>\n",
       "      <th></th>\n",
       "    </tr>\n",
       "  </thead>\n",
       "  <tbody>\n",
       "    <tr>\n",
       "      <th>Mediocre</th>\n",
       "      <td>12</td>\n",
       "      <td>0.352941</td>\n",
       "    </tr>\n",
       "    <tr>\n",
       "      <th>Bon</th>\n",
       "      <td>11</td>\n",
       "      <td>0.323529</td>\n",
       "    </tr>\n",
       "    <tr>\n",
       "      <th>Moyen</th>\n",
       "      <td>11</td>\n",
       "      <td>0.323529</td>\n",
       "    </tr>\n",
       "  </tbody>\n",
       "</table>\n",
       "</div>"
      ],
      "text/plain": [
       "          n(k)      p(k)\n",
       "Qualite                 \n",
       "Mediocre    12  0.352941\n",
       "Bon         11  0.323529\n",
       "Moyen       11  0.323529"
      ]
     },
     "execution_count": 7,
     "metadata": {},
     "output_type": "execute_result"
    }
   ],
   "source": [
    "my_cda.class_level_information_"
   ]
  },
  {
   "cell_type": "code",
   "execution_count": 8,
   "metadata": {},
   "outputs": [
    {
     "data": {
      "text/html": [
       "<div>\n",
       "<style scoped>\n",
       "    .dataframe tbody tr th:only-of-type {\n",
       "        vertical-align: middle;\n",
       "    }\n",
       "\n",
       "    .dataframe tbody tr th {\n",
       "        vertical-align: top;\n",
       "    }\n",
       "\n",
       "    .dataframe thead th {\n",
       "        text-align: right;\n",
       "    }\n",
       "</style>\n",
       "<table border=\"1\" class=\"dataframe\">\n",
       "  <thead>\n",
       "    <tr style=\"text-align: right;\">\n",
       "      <th></th>\n",
       "      <th>Bon</th>\n",
       "      <th>Mediocre</th>\n",
       "      <th>Moyen</th>\n",
       "    </tr>\n",
       "  </thead>\n",
       "  <tbody>\n",
       "    <tr>\n",
       "      <th>Bon</th>\n",
       "      <td>0.000000</td>\n",
       "      <td>17.652729</td>\n",
       "      <td>4.519311</td>\n",
       "    </tr>\n",
       "    <tr>\n",
       "      <th>Mediocre</th>\n",
       "      <td>17.652729</td>\n",
       "      <td>0.000000</td>\n",
       "      <td>5.492267</td>\n",
       "    </tr>\n",
       "    <tr>\n",
       "      <th>Moyen</th>\n",
       "      <td>4.519311</td>\n",
       "      <td>5.492267</td>\n",
       "      <td>0.000000</td>\n",
       "    </tr>\n",
       "  </tbody>\n",
       "</table>\n",
       "</div>"
      ],
      "text/plain": [
       "                Bon   Mediocre     Moyen\n",
       "Bon        0.000000  17.652729  4.519311\n",
       "Mediocre  17.652729   0.000000  5.492267\n",
       "Moyen      4.519311   5.492267  0.000000"
      ]
     },
     "execution_count": 8,
     "metadata": {},
     "output_type": "execute_result"
    }
   ],
   "source": [
    "my_cda.squared_mdist_"
   ]
  },
  {
   "cell_type": "code",
   "execution_count": 9,
   "metadata": {},
   "outputs": [
    {
     "data": {
      "text/html": [
       "<div>\n",
       "<style scoped>\n",
       "    .dataframe tbody tr th:only-of-type {\n",
       "        vertical-align: middle;\n",
       "    }\n",
       "\n",
       "    .dataframe tbody tr th {\n",
       "        vertical-align: top;\n",
       "    }\n",
       "\n",
       "    .dataframe thead th {\n",
       "        text-align: right;\n",
       "    }\n",
       "</style>\n",
       "<table border=\"1\" class=\"dataframe\">\n",
       "  <thead>\n",
       "    <tr style=\"text-align: right;\">\n",
       "      <th></th>\n",
       "      <th>Std. Dev.</th>\n",
       "      <th>R-squared</th>\n",
       "      <th>Rsq/(1-Rsq)</th>\n",
       "      <th>F-statistic</th>\n",
       "      <th>Prob (F-statistic)</th>\n",
       "    </tr>\n",
       "  </thead>\n",
       "  <tbody>\n",
       "    <tr>\n",
       "      <th>Temperature</th>\n",
       "      <td>141.184334</td>\n",
       "      <td>0.638605</td>\n",
       "      <td>1.767052</td>\n",
       "      <td>27.389310</td>\n",
       "      <td>1.408416e-07</td>\n",
       "    </tr>\n",
       "    <tr>\n",
       "      <th>Soleil</th>\n",
       "      <td>126.622972</td>\n",
       "      <td>0.617857</td>\n",
       "      <td>1.616822</td>\n",
       "      <td>25.060741</td>\n",
       "      <td>3.345802e-07</td>\n",
       "    </tr>\n",
       "    <tr>\n",
       "      <th>Chaleur</th>\n",
       "      <td>10.016564</td>\n",
       "      <td>0.497312</td>\n",
       "      <td>0.989305</td>\n",
       "      <td>15.334220</td>\n",
       "      <td>2.344932e-05</td>\n",
       "    </tr>\n",
       "    <tr>\n",
       "      <th>Pluie</th>\n",
       "      <td>91.401608</td>\n",
       "      <td>0.352537</td>\n",
       "      <td>0.544491</td>\n",
       "      <td>8.439607</td>\n",
       "      <td>1.185298e-03</td>\n",
       "    </tr>\n",
       "  </tbody>\n",
       "</table>\n",
       "</div>"
      ],
      "text/plain": [
       "              Std. Dev.  R-squared  Rsq/(1-Rsq)  F-statistic  \\\n",
       "Temperature  141.184334   0.638605     1.767052    27.389310   \n",
       "Soleil       126.622972   0.617857     1.616822    25.060741   \n",
       "Chaleur       10.016564   0.497312     0.989305    15.334220   \n",
       "Pluie         91.401608   0.352537     0.544491     8.439607   \n",
       "\n",
       "             Prob (F-statistic)  \n",
       "Temperature        1.408416e-07  \n",
       "Soleil             3.345802e-07  \n",
       "Chaleur            2.344932e-05  \n",
       "Pluie              1.185298e-03  "
      ]
     },
     "execution_count": 9,
     "metadata": {},
     "output_type": "execute_result"
    }
   ],
   "source": [
    "my_cda.univariate_test_statistis_"
   ]
  },
  {
   "cell_type": "code",
   "execution_count": 10,
   "metadata": {},
   "outputs": [
    {
     "data": {
      "text/html": [
       "<div>\n",
       "<style scoped>\n",
       "    .dataframe tbody tr th:only-of-type {\n",
       "        vertical-align: middle;\n",
       "    }\n",
       "\n",
       "    .dataframe tbody tr th {\n",
       "        vertical-align: top;\n",
       "    }\n",
       "\n",
       "    .dataframe thead th {\n",
       "        text-align: right;\n",
       "    }\n",
       "</style>\n",
       "<table border=\"1\" class=\"dataframe\">\n",
       "  <thead>\n",
       "    <tr style=\"text-align: right;\">\n",
       "      <th></th>\n",
       "      <th></th>\n",
       "      <th>sum_sq</th>\n",
       "      <th>df</th>\n",
       "      <th>mean_sq</th>\n",
       "      <th>F</th>\n",
       "      <th>PR(&gt;F)</th>\n",
       "      <th>eta_sq</th>\n",
       "      <th>omega_sq</th>\n",
       "    </tr>\n",
       "  </thead>\n",
       "  <tbody>\n",
       "    <tr>\n",
       "      <th rowspan=\"2\" valign=\"top\">Temperature</th>\n",
       "      <th>C(Qualite)</th>\n",
       "      <td>420067.408200</td>\n",
       "      <td>2.0</td>\n",
       "      <td>210033.704100</td>\n",
       "      <td>27.389310</td>\n",
       "      <td>1.408416e-07</td>\n",
       "      <td>0.638605</td>\n",
       "      <td>0.608198</td>\n",
       "    </tr>\n",
       "    <tr>\n",
       "      <th>Residual</th>\n",
       "      <td>237722.121212</td>\n",
       "      <td>31.0</td>\n",
       "      <td>7668.455523</td>\n",
       "      <td>NaN</td>\n",
       "      <td>NaN</td>\n",
       "      <td>NaN</td>\n",
       "      <td>NaN</td>\n",
       "    </tr>\n",
       "    <tr>\n",
       "      <th rowspan=\"2\" valign=\"top\">Soleil</th>\n",
       "      <th>C(Qualite)</th>\n",
       "      <td>326909.069964</td>\n",
       "      <td>2.0</td>\n",
       "      <td>163454.534982</td>\n",
       "      <td>25.060741</td>\n",
       "      <td>3.345802e-07</td>\n",
       "      <td>0.617857</td>\n",
       "      <td>0.585979</td>\n",
       "    </tr>\n",
       "    <tr>\n",
       "      <th>Residual</th>\n",
       "      <td>202192.371212</td>\n",
       "      <td>31.0</td>\n",
       "      <td>6522.334555</td>\n",
       "      <td>NaN</td>\n",
       "      <td>NaN</td>\n",
       "      <td>NaN</td>\n",
       "      <td>NaN</td>\n",
       "    </tr>\n",
       "    <tr>\n",
       "      <th rowspan=\"2\" valign=\"top\">Chaleur</th>\n",
       "      <th>C(Qualite)</th>\n",
       "      <td>1646.569964</td>\n",
       "      <td>2.0</td>\n",
       "      <td>823.284982</td>\n",
       "      <td>15.334220</td>\n",
       "      <td>2.344932e-05</td>\n",
       "      <td>0.497312</td>\n",
       "      <td>0.457462</td>\n",
       "    </tr>\n",
       "    <tr>\n",
       "      <th>Residual</th>\n",
       "      <td>1664.371212</td>\n",
       "      <td>31.0</td>\n",
       "      <td>53.689394</td>\n",
       "      <td>NaN</td>\n",
       "      <td>NaN</td>\n",
       "      <td>NaN</td>\n",
       "      <td>NaN</td>\n",
       "    </tr>\n",
       "    <tr>\n",
       "      <th rowspan=\"2\" valign=\"top\">Pluie</th>\n",
       "      <th>C(Qualite)</th>\n",
       "      <td>97191.170232</td>\n",
       "      <td>2.0</td>\n",
       "      <td>48595.585116</td>\n",
       "      <td>8.439607</td>\n",
       "      <td>1.185298e-03</td>\n",
       "      <td>0.352537</td>\n",
       "      <td>0.304408</td>\n",
       "    </tr>\n",
       "    <tr>\n",
       "      <th>Residual</th>\n",
       "      <td>178499.212121</td>\n",
       "      <td>31.0</td>\n",
       "      <td>5758.039101</td>\n",
       "      <td>NaN</td>\n",
       "      <td>NaN</td>\n",
       "      <td>NaN</td>\n",
       "      <td>NaN</td>\n",
       "    </tr>\n",
       "  </tbody>\n",
       "</table>\n",
       "</div>"
      ],
      "text/plain": [
       "                               sum_sq    df        mean_sq          F  \\\n",
       "Temperature C(Qualite)  420067.408200   2.0  210033.704100  27.389310   \n",
       "            Residual    237722.121212  31.0    7668.455523        NaN   \n",
       "Soleil      C(Qualite)  326909.069964   2.0  163454.534982  25.060741   \n",
       "            Residual    202192.371212  31.0    6522.334555        NaN   \n",
       "Chaleur     C(Qualite)    1646.569964   2.0     823.284982  15.334220   \n",
       "            Residual      1664.371212  31.0      53.689394        NaN   \n",
       "Pluie       C(Qualite)   97191.170232   2.0   48595.585116   8.439607   \n",
       "            Residual    178499.212121  31.0    5758.039101        NaN   \n",
       "\n",
       "                              PR(>F)    eta_sq  omega_sq  \n",
       "Temperature C(Qualite)  1.408416e-07  0.638605  0.608198  \n",
       "            Residual             NaN       NaN       NaN  \n",
       "Soleil      C(Qualite)  3.345802e-07  0.617857  0.585979  \n",
       "            Residual             NaN       NaN       NaN  \n",
       "Chaleur     C(Qualite)  2.344932e-05  0.497312  0.457462  \n",
       "            Residual             NaN       NaN       NaN  \n",
       "Pluie       C(Qualite)  1.185298e-03  0.352537  0.304408  \n",
       "            Residual             NaN       NaN       NaN  "
      ]
     },
     "execution_count": 10,
     "metadata": {},
     "output_type": "execute_result"
    }
   ],
   "source": [
    "anova = my_cda.anova_\n",
    "anova"
   ]
  },
  {
   "cell_type": "code",
   "execution_count": 11,
   "metadata": {},
   "outputs": [
    {
     "data": {
      "text/html": [
       "<div>\n",
       "<style scoped>\n",
       "    .dataframe tbody tr th:only-of-type {\n",
       "        vertical-align: middle;\n",
       "    }\n",
       "\n",
       "    .dataframe tbody tr th {\n",
       "        vertical-align: top;\n",
       "    }\n",
       "\n",
       "    .dataframe thead th {\n",
       "        text-align: right;\n",
       "    }\n",
       "</style>\n",
       "<table border=\"1\" class=\"dataframe\">\n",
       "  <thead>\n",
       "    <tr style=\"text-align: right;\">\n",
       "      <th></th>\n",
       "      <th>Sum. Intra</th>\n",
       "      <th>Sum. Inter</th>\n",
       "      <th>correlation ratio</th>\n",
       "      <th>F-stats</th>\n",
       "      <th>pvalue</th>\n",
       "    </tr>\n",
       "  </thead>\n",
       "  <tbody>\n",
       "    <tr>\n",
       "      <th>Temperature</th>\n",
       "      <td>237722.1212</td>\n",
       "      <td>420067.4082</td>\n",
       "      <td>0.6386</td>\n",
       "      <td>27.3893</td>\n",
       "      <td>0.0000</td>\n",
       "    </tr>\n",
       "    <tr>\n",
       "      <th>Soleil</th>\n",
       "      <td>202192.3712</td>\n",
       "      <td>326909.0700</td>\n",
       "      <td>0.6179</td>\n",
       "      <td>25.0607</td>\n",
       "      <td>0.0000</td>\n",
       "    </tr>\n",
       "    <tr>\n",
       "      <th>Chaleur</th>\n",
       "      <td>1664.3712</td>\n",
       "      <td>1646.5700</td>\n",
       "      <td>0.4973</td>\n",
       "      <td>15.3342</td>\n",
       "      <td>0.0000</td>\n",
       "    </tr>\n",
       "    <tr>\n",
       "      <th>Pluie</th>\n",
       "      <td>178499.2121</td>\n",
       "      <td>97191.1702</td>\n",
       "      <td>0.3525</td>\n",
       "      <td>8.4396</td>\n",
       "      <td>0.0012</td>\n",
       "    </tr>\n",
       "  </tbody>\n",
       "</table>\n",
       "</div>"
      ],
      "text/plain": [
       "              Sum. Intra   Sum. Inter  correlation ratio  F-stats  pvalue\n",
       "Temperature  237722.1212  420067.4082             0.6386  27.3893  0.0000\n",
       "Soleil       202192.3712  326909.0700             0.6179  25.0607  0.0000\n",
       "Chaleur        1664.3712    1646.5700             0.4973  15.3342  0.0000\n",
       "Pluie        178499.2121   97191.1702             0.3525   8.4396  0.0012"
      ]
     },
     "execution_count": 11,
     "metadata": {},
     "output_type": "execute_result"
    }
   ],
   "source": [
    "my_cda.correlation_ratio_"
   ]
  },
  {
   "cell_type": "code",
   "execution_count": 12,
   "metadata": {},
   "outputs": [
    {
     "name": "stdout",
     "output_type": "stream",
     "text": [
      "                 Multivariate linear model\n",
      "============================================================\n",
      "                                                            \n",
      "------------------------------------------------------------\n",
      "        Qualite         Value  Num DF  Den DF F Value Pr > F\n",
      "------------------------------------------------------------\n",
      "          Wilks' lambda 0.2053 8.0000 56.0000  8.4505 0.0000\n",
      "         Pillai's trace 0.8880 8.0000 58.0000  5.7896 0.0000\n",
      " Hotelling-Lawley trace 3.4174 8.0000 37.7500 11.7280 0.0000\n",
      "    Roy's greatest root 3.2789 4.0000 29.0000 23.7717 0.0000\n",
      "============================================================\n",
      "\n"
     ]
    }
   ],
   "source": [
    "print(my_cda.manova_)"
   ]
  },
  {
   "cell_type": "code",
   "execution_count": 13,
   "metadata": {},
   "outputs": [
    {
     "name": "stdout",
     "output_type": "stream",
     "text": [
      "     Multiple Comparison of Means - Tukey HSD, FWER=0.05     \n",
      "=============================================================\n",
      " group1   group2   meandiff p-adj    lower     upper   reject\n",
      "-------------------------------------------------------------\n",
      "     Bon Mediocre -269.0303    0.0 -358.9958 -179.0648   True\n",
      "     Bon    Moyen -165.4545 0.0003  -257.355  -73.5541   True\n",
      "Mediocre    Moyen  103.5758 0.0213   13.6103  193.5412   True\n",
      "-------------------------------------------------------------\n"
     ]
    }
   ],
   "source": [
    "tukey = my_cda.tukey_\n",
    "print(tukey[\"Temperature\"])"
   ]
  },
  {
   "cell_type": "code",
   "execution_count": 14,
   "metadata": {},
   "outputs": [
    {
     "name": "stdout",
     "output_type": "stream",
     "text": [
      "Test Multiple Comparison ttest_ind \n",
      "FWER=0.05 method=bonf\n",
      "alphacSidak=0.02, alphacBonf=0.017\n",
      "=================================================\n",
      " group1   group2    stat   pval  pval_corr reject\n",
      "-------------------------------------------------\n",
      "     Bon Mediocre  7.9611    0.0       0.0   True\n",
      "     Bon    Moyen  4.0363 0.0006    0.0019   True\n",
      "Mediocre    Moyen -2.9072 0.0084    0.0253   True\n",
      "-------------------------------------------------\n"
     ]
    }
   ],
   "source": [
    "bonf_test = my_cda.bonferroni_correction_\n",
    "print(bonf_test[\"Temperature\"])"
   ]
  },
  {
   "cell_type": "code",
   "execution_count": 15,
   "metadata": {},
   "outputs": [
    {
     "name": "stdout",
     "output_type": "stream",
     "text": [
      "Test Multiple Comparison ttest_ind \n",
      "FWER=0.05 method=sidak\n",
      "alphacSidak=0.02, alphacBonf=0.017\n",
      "=================================================\n",
      " group1   group2    stat   pval  pval_corr reject\n",
      "-------------------------------------------------\n",
      "     Bon Mediocre  7.9611    0.0       0.0   True\n",
      "     Bon    Moyen  4.0363 0.0006    0.0019   True\n",
      "Mediocre    Moyen -2.9072 0.0084    0.0251   True\n",
      "-------------------------------------------------\n"
     ]
    }
   ],
   "source": [
    "sidak = my_cda.sidak_\n",
    "print(sidak[\"Temperature\"])"
   ]
  },
  {
   "cell_type": "code",
   "execution_count": 16,
   "metadata": {},
   "outputs": [
    {
     "data": {
      "text/html": [
       "<div>\n",
       "<style scoped>\n",
       "    .dataframe tbody tr th:only-of-type {\n",
       "        vertical-align: middle;\n",
       "    }\n",
       "\n",
       "    .dataframe tbody tr th {\n",
       "        vertical-align: top;\n",
       "    }\n",
       "\n",
       "    .dataframe thead th {\n",
       "        text-align: right;\n",
       "    }\n",
       "</style>\n",
       "<table border=\"1\" class=\"dataframe\">\n",
       "  <thead>\n",
       "    <tr style=\"text-align: right;\">\n",
       "      <th></th>\n",
       "      <th>Temperature</th>\n",
       "      <th>Soleil</th>\n",
       "      <th>Chaleur</th>\n",
       "      <th>Pluie</th>\n",
       "    </tr>\n",
       "  </thead>\n",
       "  <tbody>\n",
       "    <tr>\n",
       "      <th>Temperature</th>\n",
       "      <td>19346.750865</td>\n",
       "      <td>12360.302768</td>\n",
       "      <td>1187.420415</td>\n",
       "      <td>-5130.448097</td>\n",
       "    </tr>\n",
       "    <tr>\n",
       "      <th>Soleil</th>\n",
       "      <td>12360.302768</td>\n",
       "      <td>15561.807093</td>\n",
       "      <td>795.792388</td>\n",
       "      <td>-5317.760381</td>\n",
       "    </tr>\n",
       "    <tr>\n",
       "      <th>Chaleur</th>\n",
       "      <td>1187.420415</td>\n",
       "      <td>795.792388</td>\n",
       "      <td>97.380623</td>\n",
       "      <td>-356.451557</td>\n",
       "    </tr>\n",
       "    <tr>\n",
       "      <th>Pluie</th>\n",
       "      <td>-5130.448097</td>\n",
       "      <td>-5317.760381</td>\n",
       "      <td>-356.451557</td>\n",
       "      <td>8108.540657</td>\n",
       "    </tr>\n",
       "  </tbody>\n",
       "</table>\n",
       "</div>"
      ],
      "text/plain": [
       "              Temperature        Soleil      Chaleur        Pluie\n",
       "Temperature  19346.750865  12360.302768  1187.420415 -5130.448097\n",
       "Soleil       12360.302768  15561.807093   795.792388 -5317.760381\n",
       "Chaleur       1187.420415    795.792388    97.380623  -356.451557\n",
       "Pluie        -5130.448097  -5317.760381  -356.451557  8108.540657"
      ]
     },
     "execution_count": 16,
     "metadata": {},
     "output_type": "execute_result"
    }
   ],
   "source": [
    "my_cda.tcov_"
   ]
  },
  {
   "cell_type": "code",
   "execution_count": 17,
   "metadata": {},
   "outputs": [
    {
     "data": {
      "text/html": [
       "<div>\n",
       "<style scoped>\n",
       "    .dataframe tbody tr th:only-of-type {\n",
       "        vertical-align: middle;\n",
       "    }\n",
       "\n",
       "    .dataframe tbody tr th {\n",
       "        vertical-align: top;\n",
       "    }\n",
       "\n",
       "    .dataframe thead th {\n",
       "        text-align: right;\n",
       "    }\n",
       "</style>\n",
       "<table border=\"1\" class=\"dataframe\">\n",
       "  <thead>\n",
       "    <tr style=\"text-align: right;\">\n",
       "      <th></th>\n",
       "      <th>LD1</th>\n",
       "      <th>LD2</th>\n",
       "    </tr>\n",
       "  </thead>\n",
       "  <tbody>\n",
       "    <tr>\n",
       "      <th>Temperature</th>\n",
       "      <td>-0.900589</td>\n",
       "      <td>-0.374779</td>\n",
       "    </tr>\n",
       "    <tr>\n",
       "      <th>Soleil</th>\n",
       "      <td>-0.896744</td>\n",
       "      <td>0.116190</td>\n",
       "    </tr>\n",
       "    <tr>\n",
       "      <th>Chaleur</th>\n",
       "      <td>-0.770513</td>\n",
       "      <td>-0.590030</td>\n",
       "    </tr>\n",
       "    <tr>\n",
       "      <th>Pluie</th>\n",
       "      <td>0.662815</td>\n",
       "      <td>-0.361294</td>\n",
       "    </tr>\n",
       "  </tbody>\n",
       "</table>\n",
       "</div>"
      ],
      "text/plain": [
       "                  LD1       LD2\n",
       "Temperature -0.900589 -0.374779\n",
       "Soleil      -0.896744  0.116190\n",
       "Chaleur     -0.770513 -0.590030\n",
       "Pluie        0.662815 -0.361294"
      ]
     },
     "execution_count": 17,
     "metadata": {},
     "output_type": "execute_result"
    }
   ],
   "source": [
    "my_cda.tcorr_"
   ]
  },
  {
   "cell_type": "code",
   "execution_count": 18,
   "metadata": {},
   "outputs": [
    {
     "data": {
      "text/html": [
       "<div>\n",
       "<style scoped>\n",
       "    .dataframe tbody tr th:only-of-type {\n",
       "        vertical-align: middle;\n",
       "    }\n",
       "\n",
       "    .dataframe tbody tr th {\n",
       "        vertical-align: top;\n",
       "    }\n",
       "\n",
       "    .dataframe thead th {\n",
       "        text-align: right;\n",
       "    }\n",
       "</style>\n",
       "<table border=\"1\" class=\"dataframe\">\n",
       "  <thead>\n",
       "    <tr style=\"text-align: right;\">\n",
       "      <th></th>\n",
       "      <th></th>\n",
       "      <th>Temperature</th>\n",
       "      <th>Soleil</th>\n",
       "      <th>Chaleur</th>\n",
       "      <th>Pluie</th>\n",
       "    </tr>\n",
       "    <tr>\n",
       "      <th>Qualite</th>\n",
       "      <th></th>\n",
       "      <th></th>\n",
       "      <th></th>\n",
       "      <th></th>\n",
       "      <th></th>\n",
       "    </tr>\n",
       "  </thead>\n",
       "  <tbody>\n",
       "    <tr>\n",
       "      <th rowspan=\"4\" valign=\"top\">Bon</th>\n",
       "      <th>Temperature</th>\n",
       "      <td>8474.454545</td>\n",
       "      <td>3390.845455</td>\n",
       "      <td>585.281818</td>\n",
       "      <td>-2709.100000</td>\n",
       "    </tr>\n",
       "    <tr>\n",
       "      <th>Soleil</th>\n",
       "      <td>3390.845455</td>\n",
       "      <td>6449.054545</td>\n",
       "      <td>163.118182</td>\n",
       "      <td>-1336.100000</td>\n",
       "    </tr>\n",
       "    <tr>\n",
       "      <th>Chaleur</th>\n",
       "      <td>585.281818</td>\n",
       "      <td>163.118182</td>\n",
       "      <td>77.472727</td>\n",
       "      <td>-306.100000</td>\n",
       "    </tr>\n",
       "    <tr>\n",
       "      <th>Pluie</th>\n",
       "      <td>-2709.100000</td>\n",
       "      <td>-1336.100000</td>\n",
       "      <td>-306.100000</td>\n",
       "      <td>2734.600000</td>\n",
       "    </tr>\n",
       "    <tr>\n",
       "      <th rowspan=\"4\" valign=\"top\">Mediocre</th>\n",
       "      <th>Temperature</th>\n",
       "      <td>4807.878788</td>\n",
       "      <td>-1003.606061</td>\n",
       "      <td>233.515152</td>\n",
       "      <td>227.060606</td>\n",
       "    </tr>\n",
       "    <tr>\n",
       "      <th>Soleil</th>\n",
       "      <td>-1003.606061</td>\n",
       "      <td>7813.356061</td>\n",
       "      <td>157.416667</td>\n",
       "      <td>-59.787879</td>\n",
       "    </tr>\n",
       "    <tr>\n",
       "      <th>Chaleur</th>\n",
       "      <td>233.515152</td>\n",
       "      <td>157.416667</td>\n",
       "      <td>39.719697</td>\n",
       "      <td>-25.575758</td>\n",
       "    </tr>\n",
       "    <tr>\n",
       "      <th>Pluie</th>\n",
       "      <td>227.060606</td>\n",
       "      <td>-59.787879</td>\n",
       "      <td>-25.575758</td>\n",
       "      <td>10992.606061</td>\n",
       "    </tr>\n",
       "    <tr>\n",
       "      <th rowspan=\"4\" valign=\"top\">Moyen</th>\n",
       "      <th>Temperature</th>\n",
       "      <td>10009.090909</td>\n",
       "      <td>3541.590909</td>\n",
       "      <td>587.945455</td>\n",
       "      <td>3793.063636</td>\n",
       "    </tr>\n",
       "    <tr>\n",
       "      <th>Soleil</th>\n",
       "      <td>3541.590909</td>\n",
       "      <td>5175.490909</td>\n",
       "      <td>188.245455</td>\n",
       "      <td>912.063636</td>\n",
       "    </tr>\n",
       "    <tr>\n",
       "      <th>Chaleur</th>\n",
       "      <td>587.945455</td>\n",
       "      <td>188.245455</td>\n",
       "      <td>45.272727</td>\n",
       "      <td>226.281818</td>\n",
       "    </tr>\n",
       "    <tr>\n",
       "      <th>Pluie</th>\n",
       "      <td>3793.063636</td>\n",
       "      <td>912.063636</td>\n",
       "      <td>226.281818</td>\n",
       "      <td>3023.454545</td>\n",
       "    </tr>\n",
       "  </tbody>\n",
       "</table>\n",
       "</div>"
      ],
      "text/plain": [
       "                       Temperature       Soleil     Chaleur         Pluie\n",
       "Qualite                                                                  \n",
       "Bon      Temperature   8474.454545  3390.845455  585.281818  -2709.100000\n",
       "         Soleil        3390.845455  6449.054545  163.118182  -1336.100000\n",
       "         Chaleur        585.281818   163.118182   77.472727   -306.100000\n",
       "         Pluie        -2709.100000 -1336.100000 -306.100000   2734.600000\n",
       "Mediocre Temperature   4807.878788 -1003.606061  233.515152    227.060606\n",
       "         Soleil       -1003.606061  7813.356061  157.416667    -59.787879\n",
       "         Chaleur        233.515152   157.416667   39.719697    -25.575758\n",
       "         Pluie          227.060606   -59.787879  -25.575758  10992.606061\n",
       "Moyen    Temperature  10009.090909  3541.590909  587.945455   3793.063636\n",
       "         Soleil        3541.590909  5175.490909  188.245455    912.063636\n",
       "         Chaleur        587.945455   188.245455   45.272727    226.281818\n",
       "         Pluie         3793.063636   912.063636  226.281818   3023.454545"
      ]
     },
     "execution_count": 18,
     "metadata": {},
     "output_type": "execute_result"
    }
   ],
   "source": [
    "my_cda.gcov_"
   ]
  },
  {
   "cell_type": "code",
   "execution_count": 19,
   "metadata": {},
   "outputs": [
    {
     "data": {
      "text/html": [
       "<div>\n",
       "<style scoped>\n",
       "    .dataframe tbody tr th:only-of-type {\n",
       "        vertical-align: middle;\n",
       "    }\n",
       "\n",
       "    .dataframe tbody tr th {\n",
       "        vertical-align: top;\n",
       "    }\n",
       "\n",
       "    .dataframe thead th {\n",
       "        text-align: right;\n",
       "    }\n",
       "</style>\n",
       "<table border=\"1\" class=\"dataframe\">\n",
       "  <thead>\n",
       "    <tr style=\"text-align: right;\">\n",
       "      <th></th>\n",
       "      <th>Temperature</th>\n",
       "      <th>Soleil</th>\n",
       "      <th>Chaleur</th>\n",
       "      <th>Pluie</th>\n",
       "    </tr>\n",
       "  </thead>\n",
       "  <tbody>\n",
       "    <tr>\n",
       "      <th>Temperature</th>\n",
       "      <td>6991.827094</td>\n",
       "      <td>1714.255793</td>\n",
       "      <td>420.615865</td>\n",
       "      <td>392.273619</td>\n",
       "    </tr>\n",
       "    <tr>\n",
       "      <th>Soleil</th>\n",
       "      <td>1714.255793</td>\n",
       "      <td>5946.834447</td>\n",
       "      <td>154.271168</td>\n",
       "      <td>-144.059715</td>\n",
       "    </tr>\n",
       "    <tr>\n",
       "      <th>Chaleur</th>\n",
       "      <td>420.615865</td>\n",
       "      <td>154.271168</td>\n",
       "      <td>48.952094</td>\n",
       "      <td>-31.750446</td>\n",
       "    </tr>\n",
       "    <tr>\n",
       "      <th>Pluie</th>\n",
       "      <td>392.273619</td>\n",
       "      <td>-144.059715</td>\n",
       "      <td>-31.750446</td>\n",
       "      <td>5249.976827</td>\n",
       "    </tr>\n",
       "  </tbody>\n",
       "</table>\n",
       "</div>"
      ],
      "text/plain": [
       "             Temperature       Soleil     Chaleur        Pluie\n",
       "Temperature  6991.827094  1714.255793  420.615865   392.273619\n",
       "Soleil       1714.255793  5946.834447  154.271168  -144.059715\n",
       "Chaleur       420.615865   154.271168   48.952094   -31.750446\n",
       "Pluie         392.273619  -144.059715  -31.750446  5249.976827"
      ]
     },
     "execution_count": 19,
     "metadata": {},
     "output_type": "execute_result"
    }
   ],
   "source": [
    "my_cda.wcov_"
   ]
  },
  {
   "cell_type": "code",
   "execution_count": 20,
   "metadata": {},
   "outputs": [
    {
     "data": {
      "text/html": [
       "<div>\n",
       "<style scoped>\n",
       "    .dataframe tbody tr th:only-of-type {\n",
       "        vertical-align: middle;\n",
       "    }\n",
       "\n",
       "    .dataframe tbody tr th {\n",
       "        vertical-align: top;\n",
       "    }\n",
       "\n",
       "    .dataframe thead th {\n",
       "        text-align: right;\n",
       "    }\n",
       "</style>\n",
       "<table border=\"1\" class=\"dataframe\">\n",
       "  <thead>\n",
       "    <tr style=\"text-align: right;\">\n",
       "      <th></th>\n",
       "      <th>LD1</th>\n",
       "      <th>LD2</th>\n",
       "    </tr>\n",
       "  </thead>\n",
       "  <tbody>\n",
       "    <tr>\n",
       "      <th>Temperature</th>\n",
       "      <td>-0.724221</td>\n",
       "      <td>-0.584256</td>\n",
       "    </tr>\n",
       "    <tr>\n",
       "      <th>Soleil</th>\n",
       "      <td>-0.701280</td>\n",
       "      <td>0.176148</td>\n",
       "    </tr>\n",
       "    <tr>\n",
       "      <th>Chaleur</th>\n",
       "      <td>-0.525372</td>\n",
       "      <td>-0.779910</td>\n",
       "    </tr>\n",
       "    <tr>\n",
       "      <th>Pluie</th>\n",
       "      <td>0.398218</td>\n",
       "      <td>-0.420797</td>\n",
       "    </tr>\n",
       "  </tbody>\n",
       "</table>\n",
       "</div>"
      ],
      "text/plain": [
       "                  LD1       LD2\n",
       "Temperature -0.724221 -0.584256\n",
       "Soleil      -0.701280  0.176148\n",
       "Chaleur     -0.525372 -0.779910\n",
       "Pluie        0.398218 -0.420797"
      ]
     },
     "execution_count": 20,
     "metadata": {},
     "output_type": "execute_result"
    }
   ],
   "source": [
    "my_cda.wcorr_"
   ]
  },
  {
   "cell_type": "code",
   "execution_count": 21,
   "metadata": {},
   "outputs": [
    {
     "data": {
      "text/html": [
       "<div>\n",
       "<style scoped>\n",
       "    .dataframe tbody tr th:only-of-type {\n",
       "        vertical-align: middle;\n",
       "    }\n",
       "\n",
       "    .dataframe tbody tr th {\n",
       "        vertical-align: top;\n",
       "    }\n",
       "\n",
       "    .dataframe thead th {\n",
       "        text-align: right;\n",
       "    }\n",
       "</style>\n",
       "<table border=\"1\" class=\"dataframe\">\n",
       "  <thead>\n",
       "    <tr style=\"text-align: right;\">\n",
       "      <th></th>\n",
       "      <th>LD1</th>\n",
       "      <th>LD2</th>\n",
       "    </tr>\n",
       "  </thead>\n",
       "  <tbody>\n",
       "    <tr>\n",
       "      <th>Temperature</th>\n",
       "      <td>-0.986651</td>\n",
       "      <td>-0.211244</td>\n",
       "    </tr>\n",
       "    <tr>\n",
       "      <th>Soleil</th>\n",
       "      <td>-0.998654</td>\n",
       "      <td>0.002625</td>\n",
       "    </tr>\n",
       "    <tr>\n",
       "      <th>Chaleur</th>\n",
       "      <td>-0.957391</td>\n",
       "      <td>-0.335599</td>\n",
       "    </tr>\n",
       "    <tr>\n",
       "      <th>Pluie</th>\n",
       "      <td>0.976576</td>\n",
       "      <td>-0.166812</td>\n",
       "    </tr>\n",
       "  </tbody>\n",
       "</table>\n",
       "</div>"
      ],
      "text/plain": [
       "                  LD1       LD2\n",
       "Temperature -0.986651 -0.211244\n",
       "Soleil      -0.998654  0.002625\n",
       "Chaleur     -0.957391 -0.335599\n",
       "Pluie        0.976576 -0.166812"
      ]
     },
     "execution_count": 21,
     "metadata": {},
     "output_type": "execute_result"
    }
   ],
   "source": [
    "my_cda.bcorr_"
   ]
  },
  {
   "cell_type": "code",
   "execution_count": 22,
   "metadata": {},
   "outputs": [
    {
     "data": {
      "text/plain": [
       "array([[  3.27886049,   3.14028647,  95.94508632,  95.94508632],\n",
       "       [  0.13857402,          nan,   4.05491368, 100.        ]])"
      ]
     },
     "execution_count": 22,
     "metadata": {},
     "output_type": "execute_result"
    }
   ],
   "source": [
    "my_cda.eig_.T"
   ]
  },
  {
   "cell_type": "code",
   "execution_count": 23,
   "metadata": {},
   "outputs": [
    {
     "data": {
      "text/plain": [
       "array([32.87628192, -2.16527944])"
      ]
     },
     "execution_count": 23,
     "metadata": {},
     "output_type": "execute_result"
    }
   ],
   "source": [
    "my_cda.intercept_"
   ]
  },
  {
   "cell_type": "code",
   "execution_count": 24,
   "metadata": {},
   "outputs": [
    {
     "data": {
      "text/plain": [
       "array([[-8.56604551e-03,  4.62505890e-05],\n",
       "       [-6.77386899e-03,  5.32929330e-03],\n",
       "       [ 2.70544919e-02, -1.27636164e-01],\n",
       "       [ 5.86566500e-03, -6.17455623e-03]])"
      ]
     },
     "execution_count": 24,
     "metadata": {},
     "output_type": "execute_result"
    }
   ],
   "source": [
    "my_cda.coef_"
   ]
  },
  {
   "cell_type": "code",
   "execution_count": 25,
   "metadata": {},
   "outputs": [
    {
     "data": {
      "text/html": [
       "<div>\n",
       "<style scoped>\n",
       "    .dataframe tbody tr th:only-of-type {\n",
       "        vertical-align: middle;\n",
       "    }\n",
       "\n",
       "    .dataframe tbody tr th {\n",
       "        vertical-align: top;\n",
       "    }\n",
       "\n",
       "    .dataframe thead th {\n",
       "        text-align: right;\n",
       "    }\n",
       "</style>\n",
       "<table border=\"1\" class=\"dataframe\">\n",
       "  <thead>\n",
       "    <tr style=\"text-align: right;\">\n",
       "      <th></th>\n",
       "      <th>LD1</th>\n",
       "      <th>LD2</th>\n",
       "    </tr>\n",
       "    <tr>\n",
       "      <th>Annee</th>\n",
       "      <th></th>\n",
       "      <th></th>\n",
       "    </tr>\n",
       "  </thead>\n",
       "  <tbody>\n",
       "    <tr>\n",
       "      <th>1924</th>\n",
       "      <td>0.882552</td>\n",
       "      <td>0.871537</td>\n",
       "    </tr>\n",
       "    <tr>\n",
       "      <th>1925</th>\n",
       "      <td>2.325456</td>\n",
       "      <td>0.094220</td>\n",
       "    </tr>\n",
       "    <tr>\n",
       "      <th>1926</th>\n",
       "      <td>0.994856</td>\n",
       "      <td>-0.832957</td>\n",
       "    </tr>\n",
       "    <tr>\n",
       "      <th>1927</th>\n",
       "      <td>2.726862</td>\n",
       "      <td>-0.247244</td>\n",
       "    </tr>\n",
       "    <tr>\n",
       "      <th>1928</th>\n",
       "      <td>-0.743596</td>\n",
       "      <td>-1.721167</td>\n",
       "    </tr>\n",
       "  </tbody>\n",
       "</table>\n",
       "</div>"
      ],
      "text/plain": [
       "            LD1       LD2\n",
       "Annee                    \n",
       "1924   0.882552  0.871537\n",
       "1925   2.325456  0.094220\n",
       "1926   0.994856 -0.832957\n",
       "1927   2.726862 -0.247244\n",
       "1928  -0.743596 -1.721167"
      ]
     },
     "execution_count": 25,
     "metadata": {},
     "output_type": "execute_result"
    }
   ],
   "source": [
    "from scientisttools.extractfactor import get_candisc\n",
    "row_coord = get_candisc(my_cda)\n",
    "row_coord[\"coord\"].head()"
   ]
  },
  {
   "cell_type": "code",
   "execution_count": 26,
   "metadata": {},
   "outputs": [
    {
     "data": {
      "text/html": [
       "<div>\n",
       "<style scoped>\n",
       "    .dataframe tbody tr th:only-of-type {\n",
       "        vertical-align: middle;\n",
       "    }\n",
       "\n",
       "    .dataframe tbody tr th {\n",
       "        vertical-align: top;\n",
       "    }\n",
       "\n",
       "    .dataframe thead th {\n",
       "        text-align: right;\n",
       "    }\n",
       "</style>\n",
       "<table border=\"1\" class=\"dataframe\">\n",
       "  <thead>\n",
       "    <tr style=\"text-align: right;\">\n",
       "      <th></th>\n",
       "      <th>Stat</th>\n",
       "      <th>Value</th>\n",
       "      <th>p-value</th>\n",
       "    </tr>\n",
       "  </thead>\n",
       "  <tbody>\n",
       "    <tr>\n",
       "      <th>0</th>\n",
       "      <td>Wilks' Lambda</td>\n",
       "      <td>0.205263</td>\n",
       "      <td>NaN</td>\n",
       "    </tr>\n",
       "    <tr>\n",
       "      <th>1</th>\n",
       "      <td>Bartlett -- C(8)</td>\n",
       "      <td>46.712169</td>\n",
       "      <td>1.739815e-07</td>\n",
       "    </tr>\n",
       "    <tr>\n",
       "      <th>2</th>\n",
       "      <td>Rao -- F(8,56)</td>\n",
       "      <td>8.450507</td>\n",
       "      <td>1.890358e-07</td>\n",
       "    </tr>\n",
       "  </tbody>\n",
       "</table>\n",
       "</div>"
      ],
      "text/plain": [
       "               Stat      Value       p-value\n",
       "0     Wilks' Lambda   0.205263           NaN\n",
       "1  Bartlett -- C(8)  46.712169  1.739815e-07\n",
       "2    Rao -- F(8,56)   8.450507  1.890358e-07"
      ]
     },
     "execution_count": 26,
     "metadata": {},
     "output_type": "execute_result"
    }
   ],
   "source": [
    "my_cda.global_performance_"
   ]
  },
  {
   "cell_type": "code",
   "execution_count": 27,
   "metadata": {},
   "outputs": [
    {
     "data": {
      "text/html": [
       "<div>\n",
       "<style scoped>\n",
       "    .dataframe tbody tr th:only-of-type {\n",
       "        vertical-align: middle;\n",
       "    }\n",
       "\n",
       "    .dataframe tbody tr th {\n",
       "        vertical-align: top;\n",
       "    }\n",
       "\n",
       "    .dataframe thead th {\n",
       "        text-align: right;\n",
       "    }\n",
       "</style>\n",
       "<table border=\"1\" class=\"dataframe\">\n",
       "  <thead>\n",
       "    <tr style=\"text-align: right;\">\n",
       "      <th></th>\n",
       "      <th>statistic</th>\n",
       "      <th>DDL num.</th>\n",
       "      <th>DDL den.</th>\n",
       "      <th>Pr&gt;F</th>\n",
       "    </tr>\n",
       "  </thead>\n",
       "  <tbody>\n",
       "    <tr>\n",
       "      <th>0</th>\n",
       "      <td>8.450507</td>\n",
       "      <td>8.0</td>\n",
       "      <td>56.0</td>\n",
       "      <td>1.890358e-07</td>\n",
       "    </tr>\n",
       "    <tr>\n",
       "      <th>1</th>\n",
       "      <td>1.339549</td>\n",
       "      <td>3.0</td>\n",
       "      <td>29.0</td>\n",
       "      <td>2.807850e-01</td>\n",
       "    </tr>\n",
       "  </tbody>\n",
       "</table>\n",
       "</div>"
      ],
      "text/plain": [
       "   statistic  DDL num.  DDL den.          Pr>F\n",
       "0   8.450507       8.0      56.0  1.890358e-07\n",
       "1   1.339549       3.0      29.0  2.807850e-01"
      ]
     },
     "execution_count": 27,
     "metadata": {},
     "output_type": "execute_result"
    }
   ],
   "source": [
    "my_cda.likelihood_test_"
   ]
  },
  {
   "cell_type": "code",
   "execution_count": 28,
   "metadata": {},
   "outputs": [
    {
     "data": {
      "text/html": [
       "<div>\n",
       "<style scoped>\n",
       "    .dataframe tbody tr th:only-of-type {\n",
       "        vertical-align: middle;\n",
       "    }\n",
       "\n",
       "    .dataframe tbody tr th {\n",
       "        vertical-align: top;\n",
       "    }\n",
       "\n",
       "    .dataframe thead th {\n",
       "        text-align: right;\n",
       "    }\n",
       "</style>\n",
       "<table border=\"1\" class=\"dataframe\">\n",
       "  <thead>\n",
       "    <tr style=\"text-align: right;\">\n",
       "      <th></th>\n",
       "      <th>LD1</th>\n",
       "      <th>LD2</th>\n",
       "    </tr>\n",
       "    <tr>\n",
       "      <th>Annee</th>\n",
       "      <th></th>\n",
       "      <th></th>\n",
       "    </tr>\n",
       "  </thead>\n",
       "  <tbody>\n",
       "    <tr>\n",
       "      <th>1924</th>\n",
       "      <td>0.882552</td>\n",
       "      <td>0.871537</td>\n",
       "    </tr>\n",
       "    <tr>\n",
       "      <th>1925</th>\n",
       "      <td>2.325456</td>\n",
       "      <td>0.094220</td>\n",
       "    </tr>\n",
       "    <tr>\n",
       "      <th>1926</th>\n",
       "      <td>0.994856</td>\n",
       "      <td>-0.832957</td>\n",
       "    </tr>\n",
       "    <tr>\n",
       "      <th>1927</th>\n",
       "      <td>2.726862</td>\n",
       "      <td>-0.247244</td>\n",
       "    </tr>\n",
       "    <tr>\n",
       "      <th>1928</th>\n",
       "      <td>-0.743596</td>\n",
       "      <td>-1.721167</td>\n",
       "    </tr>\n",
       "  </tbody>\n",
       "</table>\n",
       "</div>"
      ],
      "text/plain": [
       "            LD1       LD2\n",
       "Annee                    \n",
       "1924   0.882552  0.871537\n",
       "1925   2.325456  0.094220\n",
       "1926   0.994856 -0.832957\n",
       "1927   2.726862 -0.247244\n",
       "1928  -0.743596 -1.721167"
      ]
     },
     "execution_count": 28,
     "metadata": {},
     "output_type": "execute_result"
    }
   ],
   "source": [
    "transform = my_cda.transform(wine.drop(columns=[\"Qualite\",\"Obs.\"]))\n",
    "transform.iloc[:5,:]"
   ]
  },
  {
   "cell_type": "code",
   "execution_count": 29,
   "metadata": {},
   "outputs": [
    {
     "data": {
      "text/html": [
       "<div>\n",
       "<style scoped>\n",
       "    .dataframe tbody tr th:only-of-type {\n",
       "        vertical-align: middle;\n",
       "    }\n",
       "\n",
       "    .dataframe tbody tr th {\n",
       "        vertical-align: top;\n",
       "    }\n",
       "\n",
       "    .dataframe thead th {\n",
       "        text-align: right;\n",
       "    }\n",
       "</style>\n",
       "<table border=\"1\" class=\"dataframe\">\n",
       "  <thead>\n",
       "    <tr style=\"text-align: right;\">\n",
       "      <th></th>\n",
       "      <th>Temperature</th>\n",
       "      <th>Soleil</th>\n",
       "      <th>Chaleur</th>\n",
       "      <th>Pluie</th>\n",
       "    </tr>\n",
       "  </thead>\n",
       "  <tbody>\n",
       "    <tr>\n",
       "      <th>1958</th>\n",
       "      <td>3000</td>\n",
       "      <td>1100</td>\n",
       "      <td>20</td>\n",
       "      <td>300</td>\n",
       "    </tr>\n",
       "  </tbody>\n",
       "</table>\n",
       "</div>"
      ],
      "text/plain": [
       "      Temperature  Soleil  Chaleur  Pluie\n",
       "1958         3000    1100       20    300"
      ]
     },
     "execution_count": 29,
     "metadata": {},
     "output_type": "execute_result"
    }
   ],
   "source": [
    "Xtest = pd.DataFrame(np.array([3000,1100,20,300]).reshape(1,4),index=['1958'],\n",
    "                     columns = my_cda.features_labels_)\n",
    "Xtest"
   ]
  },
  {
   "cell_type": "code",
   "execution_count": 30,
   "metadata": {},
   "outputs": [
    {
     "data": {
      "text/html": [
       "<div>\n",
       "<style scoped>\n",
       "    .dataframe tbody tr th:only-of-type {\n",
       "        vertical-align: middle;\n",
       "    }\n",
       "\n",
       "    .dataframe tbody tr th {\n",
       "        vertical-align: top;\n",
       "    }\n",
       "\n",
       "    .dataframe thead th {\n",
       "        text-align: right;\n",
       "    }\n",
       "</style>\n",
       "<table border=\"1\" class=\"dataframe\">\n",
       "  <thead>\n",
       "    <tr style=\"text-align: right;\">\n",
       "      <th></th>\n",
       "      <th>LD1</th>\n",
       "      <th>LD2</th>\n",
       "    </tr>\n",
       "  </thead>\n",
       "  <tbody>\n",
       "    <tr>\n",
       "      <th>1958</th>\n",
       "      <td>2.027679</td>\n",
       "      <td>-0.569395</td>\n",
       "    </tr>\n",
       "  </tbody>\n",
       "</table>\n",
       "</div>"
      ],
      "text/plain": [
       "           LD1       LD2\n",
       "1958  2.027679 -0.569395"
      ]
     },
     "execution_count": 30,
     "metadata": {},
     "output_type": "execute_result"
    }
   ],
   "source": [
    "my_cda.transform(Xtest)"
   ]
  },
  {
   "cell_type": "code",
   "execution_count": 31,
   "metadata": {},
   "outputs": [],
   "source": [
    "X = wine[my_cda.features_labels_]"
   ]
  },
  {
   "cell_type": "code",
   "execution_count": 32,
   "metadata": {},
   "outputs": [
    {
     "data": {
      "text/html": [
       "<div>\n",
       "<style scoped>\n",
       "    .dataframe tbody tr th:only-of-type {\n",
       "        vertical-align: middle;\n",
       "    }\n",
       "\n",
       "    .dataframe tbody tr th {\n",
       "        vertical-align: top;\n",
       "    }\n",
       "\n",
       "    .dataframe thead th {\n",
       "        text-align: right;\n",
       "    }\n",
       "</style>\n",
       "<table border=\"1\" class=\"dataframe\">\n",
       "  <thead>\n",
       "    <tr style=\"text-align: right;\">\n",
       "      <th></th>\n",
       "      <th>Bon</th>\n",
       "      <th>Mediocre</th>\n",
       "      <th>Moyen</th>\n",
       "    </tr>\n",
       "    <tr>\n",
       "      <th>Annee</th>\n",
       "      <th></th>\n",
       "      <th></th>\n",
       "      <th></th>\n",
       "    </tr>\n",
       "  </thead>\n",
       "  <tbody>\n",
       "    <tr>\n",
       "      <th>1924</th>\n",
       "      <td>0.0067</td>\n",
       "      <td>0.3446</td>\n",
       "      <td>0.6487</td>\n",
       "    </tr>\n",
       "    <tr>\n",
       "      <th>1925</th>\n",
       "      <td>0.0000</td>\n",
       "      <td>0.9588</td>\n",
       "      <td>0.0411</td>\n",
       "    </tr>\n",
       "    <tr>\n",
       "      <th>1926</th>\n",
       "      <td>0.0092</td>\n",
       "      <td>0.6980</td>\n",
       "      <td>0.2927</td>\n",
       "    </tr>\n",
       "    <tr>\n",
       "      <th>1927</th>\n",
       "      <td>0.0000</td>\n",
       "      <td>0.9865</td>\n",
       "      <td>0.0135</td>\n",
       "    </tr>\n",
       "    <tr>\n",
       "      <th>1928</th>\n",
       "      <td>0.6417</td>\n",
       "      <td>0.0313</td>\n",
       "      <td>0.3270</td>\n",
       "    </tr>\n",
       "  </tbody>\n",
       "</table>\n",
       "</div>"
      ],
      "text/plain": [
       "          Bon  Mediocre   Moyen\n",
       "Annee                          \n",
       "1924   0.0067    0.3446  0.6487\n",
       "1925   0.0000    0.9588  0.0411\n",
       "1926   0.0092    0.6980  0.2927\n",
       "1927   0.0000    0.9865  0.0135\n",
       "1928   0.6417    0.0313  0.3270"
      ]
     },
     "execution_count": 32,
     "metadata": {},
     "output_type": "execute_result"
    }
   ],
   "source": [
    "predict_proba = my_cda.predict_proba(X)\n",
    "predict_proba.head().round(4)"
   ]
  },
  {
   "cell_type": "code",
   "execution_count": 33,
   "metadata": {},
   "outputs": [
    {
     "data": {
      "text/html": [
       "<div>\n",
       "<style scoped>\n",
       "    .dataframe tbody tr th:only-of-type {\n",
       "        vertical-align: middle;\n",
       "    }\n",
       "\n",
       "    .dataframe tbody tr th {\n",
       "        vertical-align: top;\n",
       "    }\n",
       "\n",
       "    .dataframe thead th {\n",
       "        text-align: right;\n",
       "    }\n",
       "</style>\n",
       "<table border=\"1\" class=\"dataframe\">\n",
       "  <thead>\n",
       "    <tr style=\"text-align: right;\">\n",
       "      <th></th>\n",
       "      <th>Bon</th>\n",
       "      <th>Mediocre</th>\n",
       "      <th>Moyen</th>\n",
       "    </tr>\n",
       "  </thead>\n",
       "  <tbody>\n",
       "    <tr>\n",
       "      <th>1958</th>\n",
       "      <td>-7.56466</td>\n",
       "      <td>1.114437</td>\n",
       "      <td>-1.859627</td>\n",
       "    </tr>\n",
       "  </tbody>\n",
       "</table>\n",
       "</div>"
      ],
      "text/plain": [
       "          Bon  Mediocre     Moyen\n",
       "1958 -7.56466  1.114437 -1.859627"
      ]
     },
     "execution_count": 33,
     "metadata": {},
     "output_type": "execute_result"
    }
   ],
   "source": [
    "my_cda.decision_function(Xtest)"
   ]
  },
  {
   "cell_type": "code",
   "execution_count": 34,
   "metadata": {},
   "outputs": [
    {
     "data": {
      "text/html": [
       "<div>\n",
       "<style scoped>\n",
       "    .dataframe tbody tr th:only-of-type {\n",
       "        vertical-align: middle;\n",
       "    }\n",
       "\n",
       "    .dataframe tbody tr th {\n",
       "        vertical-align: top;\n",
       "    }\n",
       "\n",
       "    .dataframe thead th {\n",
       "        text-align: right;\n",
       "    }\n",
       "</style>\n",
       "<table border=\"1\" class=\"dataframe\">\n",
       "  <thead>\n",
       "    <tr style=\"text-align: right;\">\n",
       "      <th></th>\n",
       "      <th>Bon</th>\n",
       "      <th>Mediocre</th>\n",
       "      <th>Moyen</th>\n",
       "    </tr>\n",
       "    <tr>\n",
       "      <th>Annee</th>\n",
       "      <th></th>\n",
       "      <th></th>\n",
       "      <th></th>\n",
       "    </tr>\n",
       "  </thead>\n",
       "  <tbody>\n",
       "    <tr>\n",
       "      <th>1924</th>\n",
       "      <td>0.006695</td>\n",
       "      <td>0.344613</td>\n",
       "      <td>0.648692</td>\n",
       "    </tr>\n",
       "    <tr>\n",
       "      <th>1925</th>\n",
       "      <td>0.000045</td>\n",
       "      <td>0.958846</td>\n",
       "      <td>0.041109</td>\n",
       "    </tr>\n",
       "    <tr>\n",
       "      <th>1926</th>\n",
       "      <td>0.009222</td>\n",
       "      <td>0.698039</td>\n",
       "      <td>0.292739</td>\n",
       "    </tr>\n",
       "    <tr>\n",
       "      <th>1927</th>\n",
       "      <td>0.000009</td>\n",
       "      <td>0.986519</td>\n",
       "      <td>0.013472</td>\n",
       "    </tr>\n",
       "    <tr>\n",
       "      <th>1928</th>\n",
       "      <td>0.641715</td>\n",
       "      <td>0.031256</td>\n",
       "      <td>0.327029</td>\n",
       "    </tr>\n",
       "  </tbody>\n",
       "</table>\n",
       "</div>"
      ],
      "text/plain": [
       "            Bon  Mediocre     Moyen\n",
       "Annee                              \n",
       "1924   0.006695  0.344613  0.648692\n",
       "1925   0.000045  0.958846  0.041109\n",
       "1926   0.009222  0.698039  0.292739\n",
       "1927   0.000009  0.986519  0.013472\n",
       "1928   0.641715  0.031256  0.327029"
      ]
     },
     "execution_count": 34,
     "metadata": {},
     "output_type": "execute_result"
    }
   ],
   "source": [
    "predict_proba = my_cda.predict_proba(X)\n",
    "predict_proba.head()"
   ]
  },
  {
   "cell_type": "code",
   "execution_count": 35,
   "metadata": {},
   "outputs": [
    {
     "data": {
      "text/html": [
       "<div>\n",
       "<style scoped>\n",
       "    .dataframe tbody tr th:only-of-type {\n",
       "        vertical-align: middle;\n",
       "    }\n",
       "\n",
       "    .dataframe tbody tr th {\n",
       "        vertical-align: top;\n",
       "    }\n",
       "\n",
       "    .dataframe thead th {\n",
       "        text-align: right;\n",
       "    }\n",
       "</style>\n",
       "<table border=\"1\" class=\"dataframe\">\n",
       "  <thead>\n",
       "    <tr style=\"text-align: right;\">\n",
       "      <th></th>\n",
       "      <th>predict</th>\n",
       "    </tr>\n",
       "  </thead>\n",
       "  <tbody>\n",
       "    <tr>\n",
       "      <th>1958</th>\n",
       "      <td>Mediocre</td>\n",
       "    </tr>\n",
       "  </tbody>\n",
       "</table>\n",
       "</div>"
      ],
      "text/plain": [
       "       predict\n",
       "1958  Mediocre"
      ]
     },
     "execution_count": 35,
     "metadata": {},
     "output_type": "execute_result"
    }
   ],
   "source": [
    "my_cda.predict(Xtest)"
   ]
  },
  {
   "cell_type": "code",
   "execution_count": 36,
   "metadata": {},
   "outputs": [
    {
     "data": {
      "text/plain": [
       "0.7941176470588235"
      ]
     },
     "execution_count": 36,
     "metadata": {},
     "output_type": "execute_result"
    }
   ],
   "source": [
    "my_cda.score(X,wine[\"Qualite\"])"
   ]
  },
  {
   "cell_type": "code",
   "execution_count": 37,
   "metadata": {},
   "outputs": [
    {
     "data": {
      "text/html": [
       "<div>\n",
       "<style scoped>\n",
       "    .dataframe tbody tr th:only-of-type {\n",
       "        vertical-align: middle;\n",
       "    }\n",
       "\n",
       "    .dataframe tbody tr th {\n",
       "        vertical-align: top;\n",
       "    }\n",
       "\n",
       "    .dataframe thead th {\n",
       "        text-align: right;\n",
       "    }\n",
       "</style>\n",
       "<table border=\"1\" class=\"dataframe\">\n",
       "  <thead>\n",
       "    <tr style=\"text-align: right;\">\n",
       "      <th></th>\n",
       "      <th>eigenvalue</th>\n",
       "      <th>difference</th>\n",
       "      <th>proportion</th>\n",
       "      <th>cumulative</th>\n",
       "    </tr>\n",
       "  </thead>\n",
       "  <tbody>\n",
       "    <tr>\n",
       "      <th>LD1</th>\n",
       "      <td>3.278860</td>\n",
       "      <td>3.140286</td>\n",
       "      <td>95.945086</td>\n",
       "      <td>95.945086</td>\n",
       "    </tr>\n",
       "    <tr>\n",
       "      <th>LD2</th>\n",
       "      <td>0.138574</td>\n",
       "      <td>NaN</td>\n",
       "      <td>4.054914</td>\n",
       "      <td>100.000000</td>\n",
       "    </tr>\n",
       "  </tbody>\n",
       "</table>\n",
       "</div>"
      ],
      "text/plain": [
       "     eigenvalue  difference  proportion  cumulative\n",
       "LD1    3.278860    3.140286   95.945086   95.945086\n",
       "LD2    0.138574         NaN    4.054914  100.000000"
      ]
     },
     "execution_count": 37,
     "metadata": {},
     "output_type": "execute_result"
    }
   ],
   "source": [
    "from scientisttools.extractfactor import get_eigenvalue,summaryCANDISC,get_candisc_coef\n",
    "eig = get_eigenvalue(my_cda)\n",
    "eig"
   ]
  },
  {
   "cell_type": "code",
   "execution_count": 38,
   "metadata": {},
   "outputs": [
    {
     "data": {
      "text/html": [
       "<div>\n",
       "<style scoped>\n",
       "    .dataframe tbody tr th:only-of-type {\n",
       "        vertical-align: middle;\n",
       "    }\n",
       "\n",
       "    .dataframe tbody tr th {\n",
       "        vertical-align: top;\n",
       "    }\n",
       "\n",
       "    .dataframe thead th {\n",
       "        text-align: right;\n",
       "    }\n",
       "</style>\n",
       "<table border=\"1\" class=\"dataframe\">\n",
       "  <thead>\n",
       "    <tr style=\"text-align: right;\">\n",
       "      <th></th>\n",
       "      <th>LD1</th>\n",
       "      <th>LD2</th>\n",
       "    </tr>\n",
       "  </thead>\n",
       "  <tbody>\n",
       "    <tr>\n",
       "      <th>Temperature</th>\n",
       "      <td>-0.008566</td>\n",
       "      <td>0.000046</td>\n",
       "    </tr>\n",
       "    <tr>\n",
       "      <th>Soleil</th>\n",
       "      <td>-0.006774</td>\n",
       "      <td>0.005329</td>\n",
       "    </tr>\n",
       "    <tr>\n",
       "      <th>Chaleur</th>\n",
       "      <td>0.027054</td>\n",
       "      <td>-0.127636</td>\n",
       "    </tr>\n",
       "    <tr>\n",
       "      <th>Pluie</th>\n",
       "      <td>0.005866</td>\n",
       "      <td>-0.006175</td>\n",
       "    </tr>\n",
       "    <tr>\n",
       "      <th>Intercept</th>\n",
       "      <td>32.876282</td>\n",
       "      <td>-2.165279</td>\n",
       "    </tr>\n",
       "  </tbody>\n",
       "</table>\n",
       "</div>"
      ],
      "text/plain": [
       "                   LD1       LD2\n",
       "Temperature  -0.008566  0.000046\n",
       "Soleil       -0.006774  0.005329\n",
       "Chaleur       0.027054 -0.127636\n",
       "Pluie         0.005866 -0.006175\n",
       "Intercept    32.876282 -2.165279"
      ]
     },
     "execution_count": 38,
     "metadata": {},
     "output_type": "execute_result"
    }
   ],
   "source": [
    "coef = get_candisc_coef(my_cda,choice=\"absolute\")\n",
    "coef"
   ]
  },
  {
   "cell_type": "code",
   "execution_count": 39,
   "metadata": {},
   "outputs": [
    {
     "data": {
      "text/html": [
       "<div>\n",
       "<style scoped>\n",
       "    .dataframe tbody tr th:only-of-type {\n",
       "        vertical-align: middle;\n",
       "    }\n",
       "\n",
       "    .dataframe tbody tr th {\n",
       "        vertical-align: top;\n",
       "    }\n",
       "\n",
       "    .dataframe thead th {\n",
       "        text-align: right;\n",
       "    }\n",
       "</style>\n",
       "<table border=\"1\" class=\"dataframe\">\n",
       "  <thead>\n",
       "    <tr style=\"text-align: right;\">\n",
       "      <th></th>\n",
       "      <th>Bon</th>\n",
       "      <th>Mediocre</th>\n",
       "      <th>Moyen</th>\n",
       "    </tr>\n",
       "  </thead>\n",
       "  <tbody>\n",
       "    <tr>\n",
       "      <th>Temperature</th>\n",
       "      <td>0.018164</td>\n",
       "      <td>-0.017821</td>\n",
       "      <td>0.001277</td>\n",
       "    </tr>\n",
       "    <tr>\n",
       "      <th>Soleil</th>\n",
       "      <td>0.012925</td>\n",
       "      <td>-0.015263</td>\n",
       "      <td>0.003726</td>\n",
       "    </tr>\n",
       "    <tr>\n",
       "      <th>Chaleur</th>\n",
       "      <td>-0.022716</td>\n",
       "      <td>0.084484</td>\n",
       "      <td>-0.069449</td>\n",
       "    </tr>\n",
       "    <tr>\n",
       "      <th>Pluie</th>\n",
       "      <td>-0.010768</td>\n",
       "      <td>0.013562</td>\n",
       "      <td>-0.004026</td>\n",
       "    </tr>\n",
       "    <tr>\n",
       "      <th>Intercept</th>\n",
       "      <td>-72.590473</td>\n",
       "      <td>65.609287</td>\n",
       "      <td>-7.191833</td>\n",
       "    </tr>\n",
       "  </tbody>\n",
       "</table>\n",
       "</div>"
      ],
      "text/plain": [
       "                   Bon   Mediocre     Moyen\n",
       "Temperature   0.018164  -0.017821  0.001277\n",
       "Soleil        0.012925  -0.015263  0.003726\n",
       "Chaleur      -0.022716   0.084484 -0.069449\n",
       "Pluie        -0.010768   0.013562 -0.004026\n",
       "Intercept   -72.590473  65.609287 -7.191833"
      ]
     },
     "execution_count": 39,
     "metadata": {},
     "output_type": "execute_result"
    }
   ],
   "source": [
    "coef = get_candisc_coef(my_cda,choice=\"score\")\n",
    "coef"
   ]
  },
  {
   "cell_type": "code",
   "execution_count": 40,
   "metadata": {},
   "outputs": [
    {
     "name": "stdout",
     "output_type": "stream",
     "text": [
      "                     Canonical Discriminant Analysis - Results                     \n",
      "\n",
      "\n",
      "Summary Information\n",
      "|       |   Total Sample Size |   Variables |   Classes |   DF Total |   DF Within Classes |   DF Between Classes |\n",
      "|:------|--------------------:|------------:|----------:|-----------:|--------------------:|---------------------:|\n",
      "| value |                  34 |           4 |         3 |         33 |                  31 |                    2 |\n",
      "\n",
      "Class Level information\n",
      "|               |   n(k) |     p(k) |\n",
      "|:--------------|-------:|---------:|\n",
      "| ('Mediocre',) |     12 | 0.352941 |\n",
      "| ('Bon',)      |     11 | 0.323529 |\n",
      "| ('Moyen',)    |     11 | 0.323529 |\n",
      "\n",
      "Importance of components\n",
      "|                         |    LD1 |     LD2 |\n",
      "|:------------------------|-------:|--------:|\n",
      "| Variance                |  3.279 |   0.139 |\n",
      "| Difference              |  3.14  | nan     |\n",
      "| % of var.               | 95.945 |   4.055 |\n",
      "| Cumulative of % of var. | 95.945 | 100     |\n",
      "\n",
      "Group means:\n",
      "| Qualite   |   Temperature |   Soleil |   Chaleur |   Pluie |\n",
      "|:----------|--------------:|---------:|----------:|--------:|\n",
      "| Bon       |       3306.36 |  1363.64 |    28.545 | 305     |\n",
      "| Mediocre  |       3037.33 |  1126.42 |    12.083 | 430.333 |\n",
      "| Moyen     |       3140.91 |  1262.91 |    16.455 | 339.636 |\n",
      "\n",
      "Coefficients of canonical discriminants:\n",
      "|             |    LD1 |    LD2 |\n",
      "|:------------|-------:|-------:|\n",
      "| Temperature | -0.009 |  0     |\n",
      "| Soleil      | -0.007 |  0.005 |\n",
      "| Chaleur     |  0.027 | -0.128 |\n",
      "| Pluie       |  0.006 | -0.006 |\n",
      "| Intercept   | 32.876 | -2.165 |\n",
      "\n",
      "Classification functions coefficients:\n",
      "|             |     Bon |   Mediocre |   Moyen |\n",
      "|:------------|--------:|-----------:|--------:|\n",
      "| Temperature |   0.018 |     -0.018 |   0.001 |\n",
      "| Soleil      |   0.013 |     -0.015 |   0.004 |\n",
      "| Chaleur     |  -0.023 |      0.084 |  -0.069 |\n",
      "| Pluie       |  -0.011 |      0.014 |  -0.004 |\n",
      "| Intercept   | -72.59  |     65.609 |  -7.192 |\n",
      "\n",
      "Individuals (the 10 first)\n",
      "\n",
      "|   Annee |    LD1 |    LD2 |\n",
      "|--------:|-------:|-------:|\n",
      "|    1924 |  0.883 |  0.872 |\n",
      "|    1925 |  2.325 |  0.094 |\n",
      "|    1926 |  0.995 | -0.833 |\n",
      "|    1927 |  2.727 | -0.247 |\n",
      "|    1928 | -0.744 | -1.721 |\n",
      "|    1929 | -2.231 | -0.484 |\n",
      "|    1930 |  2.747 | -1.109 |\n",
      "|    1931 |  2.534 | -0.236 |\n",
      "|    1932 |  3.731 | -2.114 |\n",
      "|    1933 | -1.13  | -1.368 |\n",
      "\n",
      "Continues variables\n",
      "\n",
      "|             |   total.1 |   between.1 |   within.1 |   total.2 |   between.2 |   within.2 |\n",
      "|:------------|----------:|------------:|-----------:|----------:|------------:|-----------:|\n",
      "| Temperature |    -0.901 |      -0.987 |     -0.724 |    -0.375 |      -0.211 |     -0.584 |\n",
      "| Soleil      |    -0.897 |      -0.999 |     -0.701 |     0.116 |       0.003 |      0.176 |\n",
      "| Chaleur     |    -0.771 |      -0.957 |     -0.525 |    -0.59  |      -0.336 |     -0.78  |\n",
      "| Pluie       |     0.663 |       0.977 |      0.398 |    -0.361 |      -0.167 |     -0.421 |\n"
     ]
    }
   ],
   "source": [
    "summaryCANDISC(my_cda,to_markdown=True)"
   ]
  }
 ],
 "metadata": {
  "kernelspec": {
   "display_name": "Python 3",
   "language": "python",
   "name": "python3"
  },
  "language_info": {
   "codemirror_mode": {
    "name": "ipython",
    "version": 3
   },
   "file_extension": ".py",
   "mimetype": "text/x-python",
   "name": "python",
   "nbconvert_exporter": "python",
   "pygments_lexer": "ipython3",
   "version": "3.10.5"
  },
  "orig_nbformat": 4
 },
 "nbformat": 4,
 "nbformat_minor": 2
}
