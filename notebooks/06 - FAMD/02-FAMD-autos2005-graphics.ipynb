{
 "cells": [
  {
   "cell_type": "markdown",
   "metadata": {},
   "source": [
    "# FAMD graphics - `autos2025` Dataset"
   ]
  },
  {
   "cell_type": "code",
   "execution_count": null,
   "metadata": {},
   "outputs": [],
   "source": [
    "from warnings import simplefilter, filterwarnings\n",
    "simplefilter(action='ignore', category=FutureWarning)\n",
    "filterwarnings(\"ignore\")"
   ]
  },
  {
   "cell_type": "code",
   "execution_count": null,
   "metadata": {},
   "outputs": [],
   "source": [
    "from scientisttools import autos2005, FAMD\n",
    "res_famd = FAMD(ind_sup=(38,39,40,41,42,43,44),quanti_sup=(12,13,14),quali_sup=15)\n",
    "res_famd.fit(autos2005)"
   ]
  },
  {
   "cell_type": "markdown",
   "metadata": {},
   "source": [
    "## Eigenvalues\n",
    "\n",
    "### `eigenvalue`"
   ]
  },
  {
   "cell_type": "code",
   "execution_count": null,
   "metadata": {},
   "outputs": [],
   "source": [
    "#eigenvalue\n",
    "from scientisttools import fviz_screeplot\n",
    "p = fviz_screeplot(res_famd,element=\"eigenvalue\")\n",
    "print(p)"
   ]
  },
  {
   "cell_type": "markdown",
   "metadata": {},
   "source": [
    "### `proportion`"
   ]
  },
  {
   "cell_type": "code",
   "execution_count": null,
   "metadata": {},
   "outputs": [],
   "source": [
    "#proportion\n",
    "p = fviz_screeplot(res_famd,element=\"proportion\")\n",
    "print(p)"
   ]
  },
  {
   "cell_type": "markdown",
   "metadata": {},
   "source": [
    "### `cumulative`"
   ]
  },
  {
   "cell_type": "code",
   "execution_count": null,
   "metadata": {},
   "outputs": [],
   "source": [
    "#cumulative\n",
    "p = fviz_screeplot(res_famd,element=\"cumulative\")\n",
    "print(p)"
   ]
  },
  {
   "cell_type": "markdown",
   "metadata": {},
   "source": [
    "## Individuals Factor Map\n",
    "\n",
    "### Color by RGB colors\n",
    "\n",
    "#### Only active elements"
   ]
  },
  {
   "cell_type": "code",
   "execution_count": null,
   "metadata": {},
   "outputs": [],
   "source": [
    "#color by RGB\n",
    "from scientisttools import fviz_famd_ind\n",
    "p = fviz_famd_ind(res_famd,repel=True)\n",
    "print(p)"
   ]
  },
  {
   "cell_type": "markdown",
   "metadata": {},
   "source": [
    "#### With supplementary elements"
   ]
  },
  {
   "cell_type": "code",
   "execution_count": null,
   "metadata": {},
   "outputs": [],
   "source": [
    "p = fviz_famd_ind(res_famd,repel=True,ind_sup=True,quali_sup=True)\n",
    "print(p)"
   ]
  },
  {
   "cell_type": "markdown",
   "metadata": {},
   "source": [
    "### Color by `cos2`"
   ]
  },
  {
   "cell_type": "code",
   "execution_count": null,
   "metadata": {},
   "outputs": [],
   "source": [
    "#color by cos2\n",
    "p = fviz_famd_ind(res_famd,col_ind=\"cos2\",repel=True)\n",
    "print(p)"
   ]
  },
  {
   "cell_type": "code",
   "execution_count": null,
   "metadata": {},
   "outputs": [],
   "source": [
    "from scientisttools import fviz_corrplot\n",
    "p = fviz_corrplot(res_famd.ind_.cos2,x_label=\"Individuals\",title=\"Individuals Cos2\",legend_title=\"Cos2\")\n",
    "print(p)"
   ]
  },
  {
   "cell_type": "code",
   "execution_count": null,
   "metadata": {},
   "outputs": [],
   "source": [
    "from scientisttools import fviz_cos2\n",
    "p = fviz_cos2(res_famd,element=\"ind\",axis=0)\n",
    "print(p)"
   ]
  },
  {
   "cell_type": "markdown",
   "metadata": {},
   "source": [
    "### Color by `contrib`"
   ]
  },
  {
   "cell_type": "code",
   "execution_count": null,
   "metadata": {},
   "outputs": [],
   "source": [
    "#color by contrib\n",
    "p = fviz_famd_ind(res_famd,col_ind=\"contrib\",repel=True)\n",
    "print(p)"
   ]
  },
  {
   "cell_type": "code",
   "execution_count": null,
   "metadata": {},
   "outputs": [],
   "source": [
    "p = fviz_corrplot(res_famd.ind_.contrib,x_label=\"Individuals\",title=\"Individuals Contributions\",legend_title=\"Contrib\")\n",
    "print(p)"
   ]
  },
  {
   "cell_type": "code",
   "execution_count": null,
   "metadata": {},
   "outputs": [],
   "source": [
    "from scientisttools import fviz_contrib\n",
    "p = fviz_contrib(res_famd,element=\"ind\",axis=0)\n",
    "print(p)"
   ]
  },
  {
   "cell_type": "markdown",
   "metadata": {},
   "source": [
    "### Color by `coord`"
   ]
  },
  {
   "cell_type": "code",
   "execution_count": null,
   "metadata": {},
   "outputs": [],
   "source": [
    "#color by coord\n",
    "p = fviz_famd_ind(res_famd,col_ind=\"coord\",repel=True)\n",
    "print(p)"
   ]
  },
  {
   "cell_type": "markdown",
   "metadata": {},
   "source": [
    "### Color by quantitatives columns\n",
    "\n",
    "#### Active columns"
   ]
  },
  {
   "cell_type": "code",
   "execution_count": null,
   "metadata": {},
   "outputs": [],
   "source": [
    "#color by quantitative variables\n",
    "p = fviz_famd_ind(res_famd,col_ind=\"puissance\",repel=True)\n",
    "print(p)"
   ]
  },
  {
   "cell_type": "markdown",
   "metadata": {},
   "source": [
    "#### Supplementary columns"
   ]
  },
  {
   "cell_type": "code",
   "execution_count": null,
   "metadata": {},
   "outputs": [],
   "source": [
    "#color by quantitative variables\n",
    "p = fviz_famd_ind(res_famd,col_ind=\"reservoir\",repel=True)\n",
    "print(p)"
   ]
  },
  {
   "cell_type": "markdown",
   "metadata": {},
   "source": [
    "### Color by actives qualitatives columns\n",
    "\n",
    "#### Active elements"
   ]
  },
  {
   "cell_type": "code",
   "execution_count": null,
   "metadata": {},
   "outputs": [],
   "source": [
    "#color by categories\n",
    "p = fviz_famd_ind(res_famd,habillage=\"origine\",repel=True)\n",
    "print(p)"
   ]
  },
  {
   "cell_type": "markdown",
   "metadata": {},
   "source": [
    "#### Supplementary elements"
   ]
  },
  {
   "cell_type": "code",
   "execution_count": null,
   "metadata": {},
   "outputs": [],
   "source": [
    "#color by categories\n",
    "p = fviz_famd_ind(res_famd,habillage=\"surtaxe\",repel=True)\n",
    "print(p)"
   ]
  },
  {
   "cell_type": "markdown",
   "metadata": {},
   "source": [
    "### Color by numpy array"
   ]
  },
  {
   "cell_type": "code",
   "execution_count": null,
   "metadata": {},
   "outputs": [],
   "source": [
    "#color by numy array\n",
    "from numpy import random\n",
    "random.seed(123)\n",
    "color_numpy = random.normal(size=res_famd.call_.X.shape[0])\n",
    "p = fviz_famd_ind(res_famd,col_ind=color_numpy,repel=True)\n",
    "print(p)"
   ]
  },
  {
   "cell_type": "markdown",
   "metadata": {},
   "source": [
    "### Color by kmeans clustering"
   ]
  },
  {
   "cell_type": "code",
   "execution_count": null,
   "metadata": {},
   "outputs": [],
   "source": [
    "#color by cluster\n",
    "from sklearn.cluster import KMeans\n",
    "kmeans = KMeans(n_clusters=3, random_state=random.seed(123), n_init=\"auto\").fit(res_famd.ind_.coord)\n",
    "p = fviz_famd_ind(res_famd,col_ind=kmeans,repel=True)\n",
    "print(p)"
   ]
  },
  {
   "cell_type": "markdown",
   "metadata": {},
   "source": [
    "### Set limits\n",
    "\n",
    "#### Limit cos2"
   ]
  },
  {
   "cell_type": "code",
   "execution_count": null,
   "metadata": {},
   "outputs": [],
   "source": [
    "#limits cos2\n",
    "p = fviz_famd_ind(res_famd,lim_cos2=0.50,repel=True)\n",
    "print(p)"
   ]
  },
  {
   "cell_type": "markdown",
   "metadata": {},
   "source": [
    "#### limit contrib"
   ]
  },
  {
   "cell_type": "code",
   "execution_count": null,
   "metadata": {},
   "outputs": [],
   "source": [
    "#limits contrib\n",
    "p = fviz_famd_ind(res_famd,lim_contrib=20,repel=True)\n",
    "print(p)"
   ]
  },
  {
   "cell_type": "markdown",
   "metadata": {},
   "source": [
    "## Quantitatives variables\n",
    "\n",
    "### Color by RGB colors\n",
    "\n",
    "#### Active elements"
   ]
  },
  {
   "cell_type": "code",
   "execution_count": null,
   "metadata": {},
   "outputs": [],
   "source": [
    "#color by RBG\n",
    "from scientisttools import fviz_famd_var\n",
    "p = fviz_famd_var(res_famd,element=\"quanti_var\",repel=True)\n",
    "print(p)"
   ]
  },
  {
   "cell_type": "markdown",
   "metadata": {},
   "source": [
    "#### Supplementary elements"
   ]
  },
  {
   "cell_type": "code",
   "execution_count": null,
   "metadata": {},
   "outputs": [],
   "source": [
    "p = fviz_famd_var(res_famd,element=\"quanti_var\",repel=True,quanti_sup=True)\n",
    "print(p)"
   ]
  },
  {
   "cell_type": "markdown",
   "metadata": {},
   "source": [
    "### Color by `cos2`"
   ]
  },
  {
   "cell_type": "code",
   "execution_count": null,
   "metadata": {},
   "outputs": [],
   "source": [
    "#color by Cos2\n",
    "p = fviz_famd_var(res_famd,element=\"quanti_var\",col_var=\"cos2\",repel=True)\n",
    "print(p)"
   ]
  },
  {
   "cell_type": "code",
   "execution_count": null,
   "metadata": {},
   "outputs": [],
   "source": [
    "p = fviz_corrplot(res_famd.quanti_var_.cos2,title=\"Variables Cos2\",legend_title=\"Cos2\")\n",
    "print(p)"
   ]
  },
  {
   "cell_type": "code",
   "execution_count": null,
   "metadata": {},
   "outputs": [],
   "source": [
    "p = fviz_cos2(res_famd,element=\"quanti_var\",axis=0)\n",
    "print(p)"
   ]
  },
  {
   "cell_type": "markdown",
   "metadata": {},
   "source": [
    "### Color by `contrib`"
   ]
  },
  {
   "cell_type": "code",
   "execution_count": null,
   "metadata": {},
   "outputs": [],
   "source": [
    "#color by contrib\n",
    "p = fviz_famd_var(res_famd,element=\"quanti_var\",col_var=\"contrib\",repel=True)\n",
    "print(p)"
   ]
  },
  {
   "cell_type": "code",
   "execution_count": null,
   "metadata": {},
   "outputs": [],
   "source": [
    "p = fviz_corrplot(res_famd.quanti_var_.contrib,title=\"Variables Contributions\",legend_title=\"Contrib\")\n",
    "print(p)"
   ]
  },
  {
   "cell_type": "code",
   "execution_count": null,
   "metadata": {},
   "outputs": [],
   "source": [
    "p = fviz_contrib(res_famd,element=\"quanti_var\",axis=0)\n",
    "print(p)"
   ]
  },
  {
   "cell_type": "markdown",
   "metadata": {},
   "source": [
    "### Color by `coord`"
   ]
  },
  {
   "cell_type": "code",
   "execution_count": null,
   "metadata": {},
   "outputs": [],
   "source": [
    "#color by coord\n",
    "p = fviz_famd_var(res_famd,element=\"quanti_var\",col_var=\"coord\",repel=True)\n",
    "print(p)"
   ]
  },
  {
   "cell_type": "markdown",
   "metadata": {},
   "source": [
    "### Coloor by numpy array"
   ]
  },
  {
   "cell_type": "code",
   "execution_count": null,
   "metadata": {},
   "outputs": [],
   "source": [
    "#color by numpy array\n",
    "random.seed(123)\n",
    "col_num = random.normal(size=res_famd.quanti_var_.coord.shape[0])\n",
    "p = fviz_famd_var(res_famd,element=\"quanti_var\",col_var=col_num,repel=True)\n",
    "print(p)"
   ]
  },
  {
   "cell_type": "markdown",
   "metadata": {},
   "source": [
    "### Color by kmeans clustering"
   ]
  },
  {
   "cell_type": "code",
   "execution_count": null,
   "metadata": {},
   "outputs": [],
   "source": [
    "#color by cluster\n",
    "kmeans = KMeans(n_clusters=3, random_state=random.seed(123), n_init=\"auto\").fit(res_famd.quanti_var_.coord)\n",
    "p = fviz_famd_var(res_famd,element=\"quanti_var\",col_var=kmeans,repel=True)\n",
    "print(p)"
   ]
  },
  {
   "cell_type": "markdown",
   "metadata": {},
   "source": [
    "## Set limit\n",
    "\n",
    "### limit cos2"
   ]
  },
  {
   "cell_type": "code",
   "execution_count": null,
   "metadata": {},
   "outputs": [],
   "source": [
    "p = fviz_famd_var(res_famd,element=\"quanti_var\",lim_cos2=0.8,repel=True)\n",
    "print(p)"
   ]
  },
  {
   "cell_type": "markdown",
   "metadata": {},
   "source": [
    "### limit contrib"
   ]
  },
  {
   "cell_type": "code",
   "execution_count": null,
   "metadata": {},
   "outputs": [],
   "source": [
    "p = fviz_famd_var(res_famd,element=\"quanti_var\",lim_contrib=8,repel=True)\n",
    "print(p)"
   ]
  },
  {
   "cell_type": "markdown",
   "metadata": {},
   "source": [
    "## Qualitatives variables - Categories\n",
    "\n",
    "### Color by RGB colors\n",
    "\n",
    "#### Active elements"
   ]
  },
  {
   "cell_type": "code",
   "execution_count": null,
   "metadata": {},
   "outputs": [],
   "source": [
    "#color by RGB\n",
    "p = fviz_famd_var(res_famd,element=\"quali_var\",repel=True)\n",
    "print(p)"
   ]
  },
  {
   "cell_type": "markdown",
   "metadata": {},
   "source": [
    "#### Supplementary elements"
   ]
  },
  {
   "cell_type": "code",
   "execution_count": null,
   "metadata": {},
   "outputs": [],
   "source": [
    "#color by RGB\n",
    "p = fviz_famd_var(res_famd,element=\"quali_var\",repel=True,quali_sup=True)\n",
    "print(p)"
   ]
  },
  {
   "cell_type": "markdown",
   "metadata": {},
   "source": [
    "### Color by `cos2`"
   ]
  },
  {
   "cell_type": "code",
   "execution_count": null,
   "metadata": {},
   "outputs": [],
   "source": [
    "#color by cos2\n",
    "p = fviz_famd_var(res_famd,element=\"quali_var\",col_var=\"cos2\",repel=True)\n",
    "print(p)"
   ]
  },
  {
   "cell_type": "code",
   "execution_count": null,
   "metadata": {},
   "outputs": [],
   "source": [
    "p = fviz_corrplot(res_famd.quali_var_.cos2,x_label=\"Variables/Categories\",title=\"Variables/Categories Cos2\",legend_title=\"Cos2\")\n",
    "print(p)"
   ]
  },
  {
   "cell_type": "code",
   "execution_count": null,
   "metadata": {},
   "outputs": [],
   "source": [
    "p = fviz_cos2(res_famd,element=\"quali_var\",axis=0)\n",
    "print(p)"
   ]
  },
  {
   "cell_type": "markdown",
   "metadata": {},
   "source": [
    "### Color by `contrib`"
   ]
  },
  {
   "cell_type": "code",
   "execution_count": null,
   "metadata": {},
   "outputs": [],
   "source": [
    "#color by contrib\n",
    "p = fviz_famd_var(res_famd,element=\"quali_var\",col_var=\"contrib\",repel=True)\n",
    "print(p)"
   ]
  },
  {
   "cell_type": "code",
   "execution_count": null,
   "metadata": {},
   "outputs": [],
   "source": [
    "p = fviz_corrplot(res_famd.quali_var_.contrib,x_label=\"Variables/Categories\",title=\"Variables/Categories Contributions\",legend_title=\"Contrib\")\n",
    "print(p)"
   ]
  },
  {
   "cell_type": "code",
   "execution_count": null,
   "metadata": {},
   "outputs": [],
   "source": [
    "p = fviz_contrib(res_famd,element=\"quali_var\",axis=0)\n",
    "print(p)"
   ]
  },
  {
   "cell_type": "markdown",
   "metadata": {},
   "source": [
    "### color by `coord`"
   ]
  },
  {
   "cell_type": "code",
   "execution_count": null,
   "metadata": {},
   "outputs": [],
   "source": [
    "#color by coord\n",
    "p = fviz_famd_var(res_famd,element=\"quali_var\",col_var=\"coord\",repel=True)\n",
    "print(p)"
   ]
  },
  {
   "cell_type": "markdown",
   "metadata": {},
   "source": [
    "### Color by numpy array"
   ]
  },
  {
   "cell_type": "code",
   "execution_count": null,
   "metadata": {},
   "outputs": [],
   "source": [
    "#color by numpy array\n",
    "random.seed(123)\n",
    "col_num = random.normal(size=res_famd.quali_var_.coord.shape[0])\n",
    "p = fviz_famd_var(res_famd,element=\"quali_var\",col_var=col_num,repel=True)\n",
    "print(p)"
   ]
  },
  {
   "cell_type": "markdown",
   "metadata": {},
   "source": [
    "### Color by kmeans clustering"
   ]
  },
  {
   "cell_type": "code",
   "execution_count": null,
   "metadata": {},
   "outputs": [],
   "source": [
    "#color by cluster\n",
    "kmeans = KMeans(n_clusters=2, random_state=random.seed(123), n_init=\"auto\").fit(res_famd.quali_var_.coord)\n",
    "p = fviz_famd_var(res_famd,element=\"quali_var\",col_var=kmeans,repel=True)\n",
    "print(p)"
   ]
  },
  {
   "cell_type": "markdown",
   "metadata": {},
   "source": [
    "## Set limit\n",
    "\n",
    "### limit cos2"
   ]
  },
  {
   "cell_type": "code",
   "execution_count": null,
   "metadata": {},
   "outputs": [],
   "source": [
    "p = fviz_famd_var(res_famd,element=\"quali_var\",lim_cos2=0.1,repel=True)\n",
    "print(p)"
   ]
  },
  {
   "cell_type": "markdown",
   "metadata": {},
   "source": [
    "### limit contrib"
   ]
  },
  {
   "cell_type": "code",
   "execution_count": null,
   "metadata": {},
   "outputs": [],
   "source": [
    "p = fviz_famd_var(res_famd,element=\"quali_var\",lim_contrib=2,repel=True)\n",
    "print(p)"
   ]
  },
  {
   "cell_type": "markdown",
   "metadata": {},
   "source": [
    "## Variables\n",
    "\n",
    "### Color by RGB colors\n",
    "\n",
    "#### Active elements"
   ]
  },
  {
   "cell_type": "code",
   "execution_count": null,
   "metadata": {},
   "outputs": [],
   "source": [
    "#color by RGB\n",
    "p = fviz_famd_var(res_famd,element=\"var\",repel=True)\n",
    "print(p)"
   ]
  },
  {
   "cell_type": "markdown",
   "metadata": {},
   "source": [
    "#### Supplementary elements"
   ]
  },
  {
   "cell_type": "code",
   "execution_count": null,
   "metadata": {},
   "outputs": [],
   "source": [
    "#color by RGB\n",
    "p = fviz_famd_var(res_famd,element=\"var\",repel=True,quali_sup=True,quanti_sup=True)\n",
    "print(p)"
   ]
  },
  {
   "cell_type": "markdown",
   "metadata": {},
   "source": [
    "### Color by `cos2`"
   ]
  },
  {
   "cell_type": "code",
   "execution_count": null,
   "metadata": {},
   "outputs": [],
   "source": [
    "#color by cos2\n",
    "p = fviz_famd_var(res_famd,element=\"var\",col_var=\"cos2\",repel=True)\n",
    "print(p)"
   ]
  },
  {
   "cell_type": "code",
   "execution_count": null,
   "metadata": {},
   "outputs": [],
   "source": [
    "p = fviz_corrplot(res_famd.var_.cos2,x_label=\"Variables\",title=\"Variables Cos2\",legend_title=\"Cos2\")\n",
    "print(p)"
   ]
  },
  {
   "cell_type": "markdown",
   "metadata": {},
   "source": [
    "### Color by `contrib`"
   ]
  },
  {
   "cell_type": "code",
   "execution_count": null,
   "metadata": {},
   "outputs": [],
   "source": [
    "#color by contrib\n",
    "p = fviz_famd_var(res_famd,element=\"var\",col_var=\"contrib\",repel=True)\n",
    "print(p)"
   ]
  },
  {
   "cell_type": "code",
   "execution_count": null,
   "metadata": {},
   "outputs": [],
   "source": [
    "p = fviz_corrplot(res_famd.var_.contrib,x_label=\"Variables\",title=\"Variables Contributions\",legend_title=\"Contrib\")\n",
    "print(p)"
   ]
  },
  {
   "cell_type": "markdown",
   "metadata": {},
   "source": [
    "### Color by `coord`"
   ]
  },
  {
   "cell_type": "code",
   "execution_count": null,
   "metadata": {},
   "outputs": [],
   "source": [
    "#color by coord\n",
    "p = fviz_famd_var(res_famd,element=\"var\",col_var=\"coord\",repel=True)\n",
    "print(p)"
   ]
  },
  {
   "cell_type": "markdown",
   "metadata": {},
   "source": [
    "### Color by numpy array"
   ]
  },
  {
   "cell_type": "code",
   "execution_count": null,
   "metadata": {},
   "outputs": [],
   "source": [
    "#color by numpy array\n",
    "random.seed(123)\n",
    "col_num = random.normal(size=res_famd.var_.coord.shape[0])\n",
    "p = fviz_famd_var(res_famd,element=\"var\",col_var=col_num,repel=True)\n",
    "print(p)"
   ]
  },
  {
   "cell_type": "markdown",
   "metadata": {},
   "source": [
    "### color by kmeans"
   ]
  },
  {
   "cell_type": "code",
   "execution_count": null,
   "metadata": {},
   "outputs": [],
   "source": [
    "#color by cluster\n",
    "kmeans = KMeans(n_clusters=2, random_state=random.seed(123), n_init=\"auto\").fit(res_famd.var_.coord)\n",
    "p = fviz_famd_var(res_famd,element=\"var\",col_var=kmeans,repel=True)\n",
    "print(p)"
   ]
  },
  {
   "cell_type": "markdown",
   "metadata": {},
   "source": [
    "## Corrcircle"
   ]
  },
  {
   "cell_type": "code",
   "execution_count": null,
   "metadata": {},
   "outputs": [],
   "source": [
    "from scientisttools import fviz_corrcircle\n",
    "p = fviz_corrcircle(res_famd,repel=True)\n",
    "print(p)"
   ]
  }
 ],
 "metadata": {
  "kernelspec": {
   "display_name": "env",
   "language": "python",
   "name": "python3"
  },
  "language_info": {
   "codemirror_mode": {
    "name": "ipython",
    "version": 3
   },
   "file_extension": ".py",
   "mimetype": "text/x-python",
   "name": "python",
   "nbconvert_exporter": "python",
   "pygments_lexer": "ipython3",
   "version": "3.10.5"
  }
 },
 "nbformat": 4,
 "nbformat_minor": 2
}
