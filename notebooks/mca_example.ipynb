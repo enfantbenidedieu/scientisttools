{
 "cells": [
  {
   "attachments": {},
   "cell_type": "markdown",
   "metadata": {},
   "source": [
    "# Multiple Correspondence Analysis"
   ]
  },
  {
   "cell_type": "code",
   "execution_count": 1,
   "metadata": {},
   "outputs": [],
   "source": [
    "import pandas as pd\n",
    "import matplotlib.pyplot as plt\n",
    "from scientisttools.decomposition import MCA\n",
    "from scientisttools.extractfactor import get_eig,get_mca_ind,get_mca_mod,get_mca_var\n",
    "from scientisttools.pyplot import plotMCA,plot_eigenvalues\n",
    "from scientisttools.ggplot import fviz_mca_ind,fviz_mca_mod,fviz_mca_var\n",
    "from plydata import *\n",
    "\n",
    "import os\n",
    "os.chdir(\"d:/Bureau/PythonProject/packages/scientisttools/data/\")"
   ]
  },
  {
   "cell_type": "code",
   "execution_count": 2,
   "metadata": {},
   "outputs": [
    {
     "data": {
      "text/html": [
       "<div>\n",
       "<style scoped>\n",
       "    .dataframe tbody tr th:only-of-type {\n",
       "        vertical-align: middle;\n",
       "    }\n",
       "\n",
       "    .dataframe tbody tr th {\n",
       "        vertical-align: top;\n",
       "    }\n",
       "\n",
       "    .dataframe thead th {\n",
       "        text-align: right;\n",
       "    }\n",
       "</style>\n",
       "<table border=\"1\" class=\"dataframe\">\n",
       "  <thead>\n",
       "    <tr style=\"text-align: right;\">\n",
       "      <th></th>\n",
       "      <th>Taille</th>\n",
       "      <th>Velocite</th>\n",
       "      <th>Affection</th>\n",
       "      <th>Cote</th>\n",
       "      <th>Fonction</th>\n",
       "    </tr>\n",
       "    <tr>\n",
       "      <th>Chien</th>\n",
       "      <th></th>\n",
       "      <th></th>\n",
       "      <th></th>\n",
       "      <th></th>\n",
       "      <th></th>\n",
       "    </tr>\n",
       "  </thead>\n",
       "  <tbody>\n",
       "    <tr>\n",
       "      <th>Beauceron</th>\n",
       "      <td>Taille++</td>\n",
       "      <td>Veloc++</td>\n",
       "      <td>Affec+</td>\n",
       "      <td>2.0</td>\n",
       "      <td>utilite</td>\n",
       "    </tr>\n",
       "    <tr>\n",
       "      <th>Basset</th>\n",
       "      <td>Taill-</td>\n",
       "      <td>Velo-</td>\n",
       "      <td>Affe-</td>\n",
       "      <td>4.5</td>\n",
       "      <td>chasse</td>\n",
       "    </tr>\n",
       "    <tr>\n",
       "      <th>Berger All</th>\n",
       "      <td>Taille++</td>\n",
       "      <td>Veloc++</td>\n",
       "      <td>Affec+</td>\n",
       "      <td>2.5</td>\n",
       "      <td>utilite</td>\n",
       "    </tr>\n",
       "    <tr>\n",
       "      <th>Boxer</th>\n",
       "      <td>Taille+</td>\n",
       "      <td>Veloc+</td>\n",
       "      <td>Affec+</td>\n",
       "      <td>3.0</td>\n",
       "      <td>compagnie</td>\n",
       "    </tr>\n",
       "    <tr>\n",
       "      <th>Bull-Dog</th>\n",
       "      <td>Taill-</td>\n",
       "      <td>Velo-</td>\n",
       "      <td>Affec+</td>\n",
       "      <td>1.5</td>\n",
       "      <td>compagnie</td>\n",
       "    </tr>\n",
       "    <tr>\n",
       "      <th>Bull-Mastif</th>\n",
       "      <td>Taille++</td>\n",
       "      <td>Velo-</td>\n",
       "      <td>Affe-</td>\n",
       "      <td>1.0</td>\n",
       "      <td>utilite</td>\n",
       "    </tr>\n",
       "    <tr>\n",
       "      <th>Caniche</th>\n",
       "      <td>Taill-</td>\n",
       "      <td>Veloc+</td>\n",
       "      <td>Affec+</td>\n",
       "      <td>4.0</td>\n",
       "      <td>compagnie</td>\n",
       "    </tr>\n",
       "    <tr>\n",
       "      <th>Labrador</th>\n",
       "      <td>Taille+</td>\n",
       "      <td>Veloc+</td>\n",
       "      <td>Affec+</td>\n",
       "      <td>3.5</td>\n",
       "      <td>chasse</td>\n",
       "    </tr>\n",
       "  </tbody>\n",
       "</table>\n",
       "</div>"
      ],
      "text/plain": [
       "               Taille Velocite Affection  Cote   Fonction\n",
       "Chien                                                    \n",
       "Beauceron    Taille++  Veloc++    Affec+   2.0    utilite\n",
       "Basset         Taill-    Velo-     Affe-   4.5     chasse\n",
       "Berger All   Taille++  Veloc++    Affec+   2.5    utilite\n",
       "Boxer         Taille+   Veloc+    Affec+   3.0  compagnie\n",
       "Bull-Dog       Taill-    Velo-    Affec+   1.5  compagnie\n",
       "Bull-Mastif  Taille++    Velo-     Affe-   1.0    utilite\n",
       "Caniche        Taill-   Veloc+    Affec+   4.0  compagnie\n",
       "Labrador      Taille+   Veloc+    Affec+   3.5     chasse"
      ]
     },
     "metadata": {},
     "output_type": "display_data"
    }
   ],
   "source": [
    "# Chargement des données\n",
    "D = pd.read_excel(\"Data_Methodes_Factorielles.xlsx\",sheet_name=\"ACM_CANINES\",index_col=0)\n",
    "display(D)"
   ]
  },
  {
   "cell_type": "code",
   "execution_count": 3,
   "metadata": {},
   "outputs": [
    {
     "data": {
      "text/html": [
       "<div>\n",
       "<style scoped>\n",
       "    .dataframe tbody tr th:only-of-type {\n",
       "        vertical-align: middle;\n",
       "    }\n",
       "\n",
       "    .dataframe tbody tr th {\n",
       "        vertical-align: top;\n",
       "    }\n",
       "\n",
       "    .dataframe thead th {\n",
       "        text-align: right;\n",
       "    }\n",
       "</style>\n",
       "<table border=\"1\" class=\"dataframe\">\n",
       "  <thead>\n",
       "    <tr style=\"text-align: right;\">\n",
       "      <th></th>\n",
       "      <th>Taille</th>\n",
       "      <th>Velocite</th>\n",
       "      <th>Affection</th>\n",
       "    </tr>\n",
       "    <tr>\n",
       "      <th>Chien</th>\n",
       "      <th></th>\n",
       "      <th></th>\n",
       "      <th></th>\n",
       "    </tr>\n",
       "  </thead>\n",
       "  <tbody>\n",
       "    <tr>\n",
       "      <th>Beauceron</th>\n",
       "      <td>Taille++</td>\n",
       "      <td>Veloc++</td>\n",
       "      <td>Affec+</td>\n",
       "    </tr>\n",
       "    <tr>\n",
       "      <th>Basset</th>\n",
       "      <td>Taill-</td>\n",
       "      <td>Velo-</td>\n",
       "      <td>Affe-</td>\n",
       "    </tr>\n",
       "    <tr>\n",
       "      <th>Berger All</th>\n",
       "      <td>Taille++</td>\n",
       "      <td>Veloc++</td>\n",
       "      <td>Affec+</td>\n",
       "    </tr>\n",
       "    <tr>\n",
       "      <th>Boxer</th>\n",
       "      <td>Taille+</td>\n",
       "      <td>Veloc+</td>\n",
       "      <td>Affec+</td>\n",
       "    </tr>\n",
       "    <tr>\n",
       "      <th>Bull-Dog</th>\n",
       "      <td>Taill-</td>\n",
       "      <td>Velo-</td>\n",
       "      <td>Affec+</td>\n",
       "    </tr>\n",
       "    <tr>\n",
       "      <th>Bull-Mastif</th>\n",
       "      <td>Taille++</td>\n",
       "      <td>Velo-</td>\n",
       "      <td>Affe-</td>\n",
       "    </tr>\n",
       "    <tr>\n",
       "      <th>Caniche</th>\n",
       "      <td>Taill-</td>\n",
       "      <td>Veloc+</td>\n",
       "      <td>Affec+</td>\n",
       "    </tr>\n",
       "    <tr>\n",
       "      <th>Labrador</th>\n",
       "      <td>Taille+</td>\n",
       "      <td>Veloc+</td>\n",
       "      <td>Affec+</td>\n",
       "    </tr>\n",
       "  </tbody>\n",
       "</table>\n",
       "</div>"
      ],
      "text/plain": [
       "               Taille Velocite Affection\n",
       "Chien                                   \n",
       "Beauceron    Taille++  Veloc++    Affec+\n",
       "Basset         Taill-    Velo-     Affe-\n",
       "Berger All   Taille++  Veloc++    Affec+\n",
       "Boxer         Taille+   Veloc+    Affec+\n",
       "Bull-Dog       Taill-    Velo-    Affec+\n",
       "Bull-Mastif  Taille++    Velo-     Affe-\n",
       "Caniche        Taill-   Veloc+    Affec+\n",
       "Labrador      Taille+   Veloc+    Affec+"
      ]
     },
     "metadata": {},
     "output_type": "display_data"
    }
   ],
   "source": [
    "DActives = D[['Taille','Velocite','Affection']]\n",
    "display(DActives)"
   ]
  },
  {
   "attachments": {},
   "cell_type": "markdown",
   "metadata": {},
   "source": [
    "## Approche 1 : Tableau disjonctif complet"
   ]
  },
  {
   "cell_type": "code",
   "execution_count": 4,
   "metadata": {},
   "outputs": [
    {
     "data": {
      "text/html": [
       "<div>\n",
       "<style scoped>\n",
       "    .dataframe tbody tr th:only-of-type {\n",
       "        vertical-align: middle;\n",
       "    }\n",
       "\n",
       "    .dataframe tbody tr th {\n",
       "        vertical-align: top;\n",
       "    }\n",
       "\n",
       "    .dataframe thead th {\n",
       "        text-align: right;\n",
       "    }\n",
       "</style>\n",
       "<table border=\"1\" class=\"dataframe\">\n",
       "  <thead>\n",
       "    <tr style=\"text-align: right;\">\n",
       "      <th></th>\n",
       "      <th>Taille_Taill-</th>\n",
       "      <th>Taille_Taille+</th>\n",
       "      <th>Taille_Taille++</th>\n",
       "      <th>Velocite_Velo-</th>\n",
       "      <th>Velocite_Veloc+</th>\n",
       "      <th>Velocite_Veloc++</th>\n",
       "      <th>Affection_Affe-</th>\n",
       "      <th>Affection_Affec+</th>\n",
       "    </tr>\n",
       "    <tr>\n",
       "      <th>Chien</th>\n",
       "      <th></th>\n",
       "      <th></th>\n",
       "      <th></th>\n",
       "      <th></th>\n",
       "      <th></th>\n",
       "      <th></th>\n",
       "      <th></th>\n",
       "      <th></th>\n",
       "    </tr>\n",
       "  </thead>\n",
       "  <tbody>\n",
       "    <tr>\n",
       "      <th>Beauceron</th>\n",
       "      <td>0</td>\n",
       "      <td>0</td>\n",
       "      <td>1</td>\n",
       "      <td>0</td>\n",
       "      <td>0</td>\n",
       "      <td>1</td>\n",
       "      <td>0</td>\n",
       "      <td>1</td>\n",
       "    </tr>\n",
       "    <tr>\n",
       "      <th>Basset</th>\n",
       "      <td>1</td>\n",
       "      <td>0</td>\n",
       "      <td>0</td>\n",
       "      <td>1</td>\n",
       "      <td>0</td>\n",
       "      <td>0</td>\n",
       "      <td>1</td>\n",
       "      <td>0</td>\n",
       "    </tr>\n",
       "    <tr>\n",
       "      <th>Berger All</th>\n",
       "      <td>0</td>\n",
       "      <td>0</td>\n",
       "      <td>1</td>\n",
       "      <td>0</td>\n",
       "      <td>0</td>\n",
       "      <td>1</td>\n",
       "      <td>0</td>\n",
       "      <td>1</td>\n",
       "    </tr>\n",
       "    <tr>\n",
       "      <th>Boxer</th>\n",
       "      <td>0</td>\n",
       "      <td>1</td>\n",
       "      <td>0</td>\n",
       "      <td>0</td>\n",
       "      <td>1</td>\n",
       "      <td>0</td>\n",
       "      <td>0</td>\n",
       "      <td>1</td>\n",
       "    </tr>\n",
       "    <tr>\n",
       "      <th>Bull-Dog</th>\n",
       "      <td>1</td>\n",
       "      <td>0</td>\n",
       "      <td>0</td>\n",
       "      <td>1</td>\n",
       "      <td>0</td>\n",
       "      <td>0</td>\n",
       "      <td>0</td>\n",
       "      <td>1</td>\n",
       "    </tr>\n",
       "    <tr>\n",
       "      <th>Bull-Mastif</th>\n",
       "      <td>0</td>\n",
       "      <td>0</td>\n",
       "      <td>1</td>\n",
       "      <td>1</td>\n",
       "      <td>0</td>\n",
       "      <td>0</td>\n",
       "      <td>1</td>\n",
       "      <td>0</td>\n",
       "    </tr>\n",
       "    <tr>\n",
       "      <th>Caniche</th>\n",
       "      <td>1</td>\n",
       "      <td>0</td>\n",
       "      <td>0</td>\n",
       "      <td>0</td>\n",
       "      <td>1</td>\n",
       "      <td>0</td>\n",
       "      <td>0</td>\n",
       "      <td>1</td>\n",
       "    </tr>\n",
       "    <tr>\n",
       "      <th>Labrador</th>\n",
       "      <td>0</td>\n",
       "      <td>1</td>\n",
       "      <td>0</td>\n",
       "      <td>0</td>\n",
       "      <td>1</td>\n",
       "      <td>0</td>\n",
       "      <td>0</td>\n",
       "      <td>1</td>\n",
       "    </tr>\n",
       "  </tbody>\n",
       "</table>\n",
       "</div>"
      ],
      "text/plain": [
       "             Taille_Taill-  Taille_Taille+  Taille_Taille++  Velocite_Velo-  \\\n",
       "Chien                                                                         \n",
       "Beauceron                0               0                1               0   \n",
       "Basset                   1               0                0               1   \n",
       "Berger All               0               0                1               0   \n",
       "Boxer                    0               1                0               0   \n",
       "Bull-Dog                 1               0                0               1   \n",
       "Bull-Mastif              0               0                1               1   \n",
       "Caniche                  1               0                0               0   \n",
       "Labrador                 0               1                0               0   \n",
       "\n",
       "             Velocite_Veloc+  Velocite_Veloc++  Affection_Affe-  \\\n",
       "Chien                                                             \n",
       "Beauceron                  0                 1                0   \n",
       "Basset                     0                 0                1   \n",
       "Berger All                 0                 1                0   \n",
       "Boxer                      1                 0                0   \n",
       "Bull-Dog                   0                 0                0   \n",
       "Bull-Mastif                0                 0                1   \n",
       "Caniche                    1                 0                0   \n",
       "Labrador                   1                 0                0   \n",
       "\n",
       "             Affection_Affec+  \n",
       "Chien                          \n",
       "Beauceron                   1  \n",
       "Basset                      0  \n",
       "Berger All                  1  \n",
       "Boxer                       1  \n",
       "Bull-Dog                    1  \n",
       "Bull-Mastif                 0  \n",
       "Caniche                     1  \n",
       "Labrador                    1  "
      ]
     },
     "execution_count": 4,
     "metadata": {},
     "output_type": "execute_result"
    }
   ],
   "source": [
    "dummies = pd.get_dummies(DActives)\n",
    "dummies"
   ]
  },
  {
   "cell_type": "code",
   "execution_count": 5,
   "metadata": {},
   "outputs": [
    {
     "data": {
      "text/html": [
       "<style>#sk-container-id-1 {color: black;background-color: white;}#sk-container-id-1 pre{padding: 0;}#sk-container-id-1 div.sk-toggleable {background-color: white;}#sk-container-id-1 label.sk-toggleable__label {cursor: pointer;display: block;width: 100%;margin-bottom: 0;padding: 0.3em;box-sizing: border-box;text-align: center;}#sk-container-id-1 label.sk-toggleable__label-arrow:before {content: \"▸\";float: left;margin-right: 0.25em;color: #696969;}#sk-container-id-1 label.sk-toggleable__label-arrow:hover:before {color: black;}#sk-container-id-1 div.sk-estimator:hover label.sk-toggleable__label-arrow:before {color: black;}#sk-container-id-1 div.sk-toggleable__content {max-height: 0;max-width: 0;overflow: hidden;text-align: left;background-color: #f0f8ff;}#sk-container-id-1 div.sk-toggleable__content pre {margin: 0.2em;color: black;border-radius: 0.25em;background-color: #f0f8ff;}#sk-container-id-1 input.sk-toggleable__control:checked~div.sk-toggleable__content {max-height: 200px;max-width: 100%;overflow: auto;}#sk-container-id-1 input.sk-toggleable__control:checked~label.sk-toggleable__label-arrow:before {content: \"▾\";}#sk-container-id-1 div.sk-estimator input.sk-toggleable__control:checked~label.sk-toggleable__label {background-color: #d4ebff;}#sk-container-id-1 div.sk-label input.sk-toggleable__control:checked~label.sk-toggleable__label {background-color: #d4ebff;}#sk-container-id-1 input.sk-hidden--visually {border: 0;clip: rect(1px 1px 1px 1px);clip: rect(1px, 1px, 1px, 1px);height: 1px;margin: -1px;overflow: hidden;padding: 0;position: absolute;width: 1px;}#sk-container-id-1 div.sk-estimator {font-family: monospace;background-color: #f0f8ff;border: 1px dotted black;border-radius: 0.25em;box-sizing: border-box;margin-bottom: 0.5em;}#sk-container-id-1 div.sk-estimator:hover {background-color: #d4ebff;}#sk-container-id-1 div.sk-parallel-item::after {content: \"\";width: 100%;border-bottom: 1px solid gray;flex-grow: 1;}#sk-container-id-1 div.sk-label:hover label.sk-toggleable__label {background-color: #d4ebff;}#sk-container-id-1 div.sk-serial::before {content: \"\";position: absolute;border-left: 1px solid gray;box-sizing: border-box;top: 0;bottom: 0;left: 50%;z-index: 0;}#sk-container-id-1 div.sk-serial {display: flex;flex-direction: column;align-items: center;background-color: white;padding-right: 0.2em;padding-left: 0.2em;position: relative;}#sk-container-id-1 div.sk-item {position: relative;z-index: 1;}#sk-container-id-1 div.sk-parallel {display: flex;align-items: stretch;justify-content: center;background-color: white;position: relative;}#sk-container-id-1 div.sk-item::before, #sk-container-id-1 div.sk-parallel-item::before {content: \"\";position: absolute;border-left: 1px solid gray;box-sizing: border-box;top: 0;bottom: 0;left: 50%;z-index: -1;}#sk-container-id-1 div.sk-parallel-item {display: flex;flex-direction: column;z-index: 1;position: relative;background-color: white;}#sk-container-id-1 div.sk-parallel-item:first-child::after {align-self: flex-end;width: 50%;}#sk-container-id-1 div.sk-parallel-item:last-child::after {align-self: flex-start;width: 50%;}#sk-container-id-1 div.sk-parallel-item:only-child::after {width: 0;}#sk-container-id-1 div.sk-dashed-wrapped {border: 1px dashed gray;margin: 0 0.4em 0.5em 0.4em;box-sizing: border-box;padding-bottom: 0.4em;background-color: white;}#sk-container-id-1 div.sk-label label {font-family: monospace;font-weight: bold;display: inline-block;line-height: 1.2em;}#sk-container-id-1 div.sk-label-container {text-align: center;}#sk-container-id-1 div.sk-container {/* jupyter's `normalize.less` sets `[hidden] { display: none; }` but bootstrap.min.css set `[hidden] { display: none !important; }` so we also need the `!important` here to be able to override the default hidden behavior on the sphinx rendered scikit-learn.org. See: https://github.com/scikit-learn/scikit-learn/issues/21755 */display: inline-block !important;position: relative;}#sk-container-id-1 div.sk-text-repr-fallback {display: none;}</style><div id=\"sk-container-id-1\" class=\"sk-top-container\"><div class=\"sk-text-repr-fallback\"><pre>MCA(matrix_type=&#x27;disjonctif&#x27;,\n",
       "    mod_labels=array([&#x27;Taille_Taill-&#x27;, &#x27;Taille_Taille+&#x27;, &#x27;Taille_Taille++&#x27;,\n",
       "       &#x27;Velocite_Velo-&#x27;, &#x27;Velocite_Veloc+&#x27;, &#x27;Velocite_Veloc++&#x27;,\n",
       "       &#x27;Affection_Affe-&#x27;, &#x27;Affection_Affec+&#x27;], dtype=object),\n",
       "    row_labels=array([&#x27;Beauceron&#x27;, &#x27;Basset&#x27;, &#x27;Berger All&#x27;, &#x27;Boxer&#x27;, &#x27;Bull-Dog&#x27;,\n",
       "       &#x27;Bull-Mastif&#x27;, &#x27;Caniche&#x27;, &#x27;Labrador&#x27;], dtype=object))</pre><b>In a Jupyter environment, please rerun this cell to show the HTML representation or trust the notebook. <br />On GitHub, the HTML representation is unable to render, please try loading this page with nbviewer.org.</b></div><div class=\"sk-container\" hidden><div class=\"sk-item\"><div class=\"sk-estimator sk-toggleable\"><input class=\"sk-toggleable__control sk-hidden--visually\" id=\"sk-estimator-id-1\" type=\"checkbox\" checked><label for=\"sk-estimator-id-1\" class=\"sk-toggleable__label sk-toggleable__label-arrow\">MCA</label><div class=\"sk-toggleable__content\"><pre>MCA(matrix_type=&#x27;disjonctif&#x27;,\n",
       "    mod_labels=array([&#x27;Taille_Taill-&#x27;, &#x27;Taille_Taille+&#x27;, &#x27;Taille_Taille++&#x27;,\n",
       "       &#x27;Velocite_Velo-&#x27;, &#x27;Velocite_Veloc+&#x27;, &#x27;Velocite_Veloc++&#x27;,\n",
       "       &#x27;Affection_Affe-&#x27;, &#x27;Affection_Affec+&#x27;], dtype=object),\n",
       "    row_labels=array([&#x27;Beauceron&#x27;, &#x27;Basset&#x27;, &#x27;Berger All&#x27;, &#x27;Boxer&#x27;, &#x27;Bull-Dog&#x27;,\n",
       "       &#x27;Bull-Mastif&#x27;, &#x27;Caniche&#x27;, &#x27;Labrador&#x27;], dtype=object))</pre></div></div></div></div></div>"
      ],
      "text/plain": [
       "MCA(matrix_type='disjonctif',\n",
       "    mod_labels=array(['Taille_Taill-', 'Taille_Taille+', 'Taille_Taille++',\n",
       "       'Velocite_Velo-', 'Velocite_Veloc+', 'Velocite_Veloc++',\n",
       "       'Affection_Affe-', 'Affection_Affec+'], dtype=object),\n",
       "    row_labels=array(['Beauceron', 'Basset', 'Berger All', 'Boxer', 'Bull-Dog',\n",
       "       'Bull-Mastif', 'Caniche', 'Labrador'], dtype=object))"
      ]
     },
     "execution_count": 5,
     "metadata": {},
     "output_type": "execute_result"
    }
   ],
   "source": [
    "my_mca = MCA(n_components=None,\n",
    "             row_labels=dummies.index.values,\n",
    "             var_labels=None,\n",
    "             mod_labels=dummies.columns.values,\n",
    "             matrix_type=\"disjonctif\",\n",
    "             benzecri=True,\n",
    "             greenacre=True,\n",
    "             row_sup_labels=None,\n",
    "             quali_sup_labels=None,\n",
    "             quanti_sup_labels=None,\n",
    "             parallelize=False)\n",
    "my_mca.fit(dummies)"
   ]
  },
  {
   "attachments": {},
   "cell_type": "markdown",
   "metadata": {},
   "source": [
    "### Valeurs propres"
   ]
  },
  {
   "cell_type": "code",
   "execution_count": 6,
   "metadata": {},
   "outputs": [
    {
     "name": "stdout",
     "output_type": "stream",
     "text": [
      "       eigenvalue  difference  proportion  cumulative\n",
      "Dim.1    0.708031    0.116542   42.481875   42.481875\n",
      "Dim.2    0.591489    0.329498   35.489362   77.971237\n",
      "Dim.3    0.261992    0.192245   15.719509   93.690746\n",
      "Dim.4    0.069747    0.034339    4.184791   97.875538\n",
      "Dim.5    0.035408    0.035408    2.124462  100.000000\n"
     ]
    }
   ],
   "source": [
    "eig = get_eig(my_mca)\n",
    "print(eig)"
   ]
  },
  {
   "cell_type": "code",
   "execution_count": 7,
   "metadata": {},
   "outputs": [
    {
     "data": {
      "image/png": "[encoded data removed]",
      "text/plain": [
       "<Figure size 720x432 with 1 Axes>"
      ]
     },
     "metadata": {
      "needs_background": "light"
     },
     "output_type": "display_data"
    }
   ],
   "source": [
    "fig, axe = plt.subplots(figsize=(10,6))\n",
    "plot_eigenvalues(my_mca,choice=\"eigenvalue\",add_labels=True,add_kaiser=True,ax=axe)"
   ]
  },
  {
   "attachments": {},
   "cell_type": "markdown",
   "metadata": {},
   "source": [
    "##### Correction de Benzécri"
   ]
  },
  {
   "cell_type": "code",
   "execution_count": 8,
   "metadata": {},
   "outputs": [
    {
     "name": "stdout",
     "output_type": "stream",
     "text": [
      "       eigenvalue  proportion  cumulative\n",
      "Dim.1    0.315897   67.811269   67.811269\n",
      "Dim.2    0.149950   32.188731  100.000000\n"
     ]
    }
   ],
   "source": [
    "benzecri =my_mca.benzecri_correction_\n",
    "print(benzecri)"
   ]
  },
  {
   "attachments": {},
   "cell_type": "markdown",
   "metadata": {},
   "source": [
    "##### Correction de Greenacre"
   ]
  },
  {
   "cell_type": "code",
   "execution_count": 9,
   "metadata": {},
   "outputs": [
    {
     "name": "stdout",
     "output_type": "stream",
     "text": [
      "       eigenvalue  proportion  cumulative\n",
      "Dim.1    0.315897   56.861407   56.861407\n",
      "Dim.2    0.149950   26.991037   83.852444\n"
     ]
    }
   ],
   "source": [
    "greenacre = my_mca.greenacre_correction_\n",
    "print(greenacre)"
   ]
  },
  {
   "attachments": {},
   "cell_type": "markdown",
   "metadata": {},
   "source": [
    "### Individus"
   ]
  },
  {
   "cell_type": "code",
   "execution_count": 10,
   "metadata": {},
   "outputs": [
    {
     "name": "stdout",
     "output_type": "stream",
     "text": [
      "dict_keys(['coord', 'cos2', 'contrib', 'infos'])\n"
     ]
    }
   ],
   "source": [
    "row = get_mca_ind(my_mca)\n",
    "print(row.keys())"
   ]
  },
  {
   "attachments": {},
   "cell_type": "markdown",
   "metadata": {},
   "source": [
    "#### Coordonnées"
   ]
  },
  {
   "cell_type": "code",
   "execution_count": 11,
   "metadata": {},
   "outputs": [
    {
     "name": "stdout",
     "output_type": "stream",
     "text": [
      "                   Dim.1     Dim.2\n",
      "Beauceron   8.719576e-15 -1.279924\n",
      "Basset      1.150779e+00  0.799057\n",
      "Berger All  8.133229e-15 -1.279924\n",
      "Boxer      -1.150779e+00  0.385124\n",
      "Bull-Dog    4.284137e-01  0.509675\n"
     ]
    }
   ],
   "source": [
    "row_coord = row[\"coord\"]\n",
    "print(row_coord >> select(\"Dim.1\",\"Dim.2\")>> head())"
   ]
  },
  {
   "cell_type": "code",
   "execution_count": 12,
   "metadata": {},
   "outputs": [
    {
     "data": {
      "image/png": "[encoded data removed]",
      "text/plain": [
       "<Figure size 720x720 with 1 Axes>"
      ]
     },
     "metadata": {
      "needs_background": "light"
     },
     "output_type": "display_data"
    }
   ],
   "source": [
    "fig, axe = plt.subplots(figsize=(10,10))\n",
    "plotMCA(my_mca,choice=\"ind\",repel=True,ax=axe)"
   ]
  },
  {
   "attachments": {},
   "cell_type": "markdown",
   "metadata": {},
   "source": [
    "#### Cosinus carrés"
   ]
  },
  {
   "cell_type": "code",
   "execution_count": 13,
   "metadata": {},
   "outputs": [
    {
     "name": "stdout",
     "output_type": "stream",
     "text": [
      "                   Dim.1     Dim.2\n",
      "Beauceron   4.561861e-29  0.982924\n",
      "Basset      6.272969e-01  0.302444\n",
      "Berger All  3.968965e-29  0.982924\n",
      "Boxer       7.945760e-01  0.088993\n",
      "Bull-Dog    1.501677e-01  0.212538\n"
     ]
    }
   ],
   "source": [
    "row_cos2 = row[\"cos2\"]\n",
    "print(row_cos2 >> select(\"Dim.1\",\"Dim.2\")>> head())"
   ]
  },
  {
   "cell_type": "code",
   "execution_count": 14,
   "metadata": {},
   "outputs": [
    {
     "data": {
      "image/png": "[encoded data removed]",
      "text/plain": [
       "<Figure size 576x576 with 2 Axes>"
      ]
     },
     "metadata": {
      "needs_background": "light"
     },
     "output_type": "display_data"
    }
   ],
   "source": [
    "fig,axe = plt.subplots(figsize=(8,8))\n",
    "plotMCA(my_mca,choice=\"ind\",color=\"cos2\",repel=True,ax=axe)"
   ]
  },
  {
   "cell_type": "code",
   "execution_count": 15,
   "metadata": {},
   "outputs": [
    {
     "data": {
      "image/png": "[encoded data removed]",
      "text/plain": [
       "<Figure size 504x504 with 2 Axes>"
      ]
     },
     "metadata": {
      "needs_background": "light"
     },
     "output_type": "display_data"
    }
   ],
   "source": [
    "fig,axe = plt.subplots(figsize=(7,7))\n",
    "plotMCA(my_mca,color=\"cos2\",repel=True,ax=axe)"
   ]
  },
  {
   "attachments": {},
   "cell_type": "markdown",
   "metadata": {},
   "source": [
    "#### Contribution "
   ]
  },
  {
   "cell_type": "code",
   "execution_count": 16,
   "metadata": {},
   "outputs": [
    {
     "name": "stdout",
     "output_type": "stream",
     "text": [
      "                   Dim.1      Dim.2\n",
      "Beauceron   1.342296e-27  34.620365\n",
      "Basset      2.337985e+01  13.493329\n",
      "Berger All  1.167841e-27  34.620365\n",
      "Boxer       2.337985e+01   3.134479\n",
      "Bull-Dog    3.240293e+00   5.489722\n"
     ]
    }
   ],
   "source": [
    "row_contrib = row[\"contrib\"]\n",
    "print(row_contrib >> select(\"Dim.1\",\"Dim.2\")>> head())"
   ]
  },
  {
   "cell_type": "code",
   "execution_count": 17,
   "metadata": {},
   "outputs": [
    {
     "data": {
      "image/png": "[encoded data removed]",
      "text/plain": [
       "<Figure size 504x504 with 2 Axes>"
      ]
     },
     "metadata": {
      "needs_background": "light"
     },
     "output_type": "display_data"
    }
   ],
   "source": [
    "fig,axe = plt.subplots(figsize=(7,7))\n",
    "plotMCA(my_mca,choice=\"ind\",color=\"contrib\",repel=True,xlim=(-1.5,1.5),ylim=(-1.5,1.5))"
   ]
  },
  {
   "attachments": {},
   "cell_type": "markdown",
   "metadata": {},
   "source": [
    "##### Informations supplémentaires"
   ]
  },
  {
   "cell_type": "code",
   "execution_count": 18,
   "metadata": {},
   "outputs": [
    {
     "name": "stdout",
     "output_type": "stream",
     "text": [
      "              d(i,G)   p(i)    I(i,G)\n",
      "Beauceron   1.290994  0.125  0.208333\n",
      "Basset      1.452966  0.125  0.263889\n",
      "Berger All  1.290994  0.125  0.208333\n",
      "Boxer       1.290994  0.125  0.208333\n",
      "Bull-Dog    1.105542  0.125  0.152778\n"
     ]
    }
   ],
   "source": [
    "row_infos = row[\"infos\"]\n",
    "print(row_infos >> head())"
   ]
  },
  {
   "attachments": {},
   "cell_type": "markdown",
   "metadata": {},
   "source": [
    "#### Les modalités"
   ]
  },
  {
   "cell_type": "code",
   "execution_count": 19,
   "metadata": {},
   "outputs": [],
   "source": [
    "mod = get_mca_mod(my_mca)"
   ]
  },
  {
   "attachments": {},
   "cell_type": "markdown",
   "metadata": {},
   "source": [
    "##### Coordonnées"
   ]
  },
  {
   "cell_type": "code",
   "execution_count": 20,
   "metadata": {},
   "outputs": [
    {
     "name": "stdout",
     "output_type": "stream",
     "text": [
      "                    Dim.1     Dim.2\n",
      "Taille_Taill-    0.455874  0.788128\n",
      "Taille_Taille+  -1.367621  0.500758\n",
      "Taille_Taille++  0.455874 -1.121966\n",
      "Velocite_Velo-   1.081461  0.554740\n",
      "Velocite_Veloc+ -1.081461  0.554740\n"
     ]
    }
   ],
   "source": [
    "mod_coord = mod[\"coord\"]\n",
    "print(mod_coord >> select(\"Dim.1\",\"Dim.2\")>>head())"
   ]
  },
  {
   "cell_type": "code",
   "execution_count": 21,
   "metadata": {},
   "outputs": [
    {
     "data": {
      "image/png": "[encoded data removed]",
      "text/plain": [
       "<Figure size 504x504 with 1 Axes>"
      ]
     },
     "metadata": {
      "needs_background": "light"
     },
     "output_type": "display_data"
    }
   ],
   "source": [
    "fig,axe = plt.subplots(figsize=(7,7))\n",
    "plotMCA(my_mca,choice=\"mod\",repel=True,ax=axe,xlim=(-1.5,1.5),ylim=(-2,2))"
   ]
  },
  {
   "attachments": {},
   "cell_type": "markdown",
   "metadata": {},
   "source": [
    "#### Cosinus carré"
   ]
  },
  {
   "cell_type": "code",
   "execution_count": 22,
   "metadata": {},
   "outputs": [
    {
     "name": "stdout",
     "output_type": "stream",
     "text": [
      "                    Dim.1     Dim.2\n",
      "Taille_Taill-    0.124693  0.372687\n",
      "Taille_Taille+   0.623463  0.083586\n",
      "Taille_Taille++  0.124693  0.755285\n",
      "Velocite_Velo-   0.701735  0.184642\n",
      "Velocite_Veloc+  0.701735  0.184642\n"
     ]
    }
   ],
   "source": [
    "mod_cos2 = mod[\"cos2\"]\n",
    "print(mod_cos2 >> select(\"Dim.1\",\"Dim.2\")>>head())"
   ]
  },
  {
   "cell_type": "code",
   "execution_count": 23,
   "metadata": {},
   "outputs": [
    {
     "data": {
      "image/png": "[encoded data removed]",
      "text/plain": [
       "<Figure size 504x504 with 2 Axes>"
      ]
     },
     "metadata": {
      "needs_background": "light"
     },
     "output_type": "display_data"
    }
   ],
   "source": [
    "fig,axe = plt.subplots(figsize=(7,7))\n",
    "plotMCA(my_mca,choice=\"mod\",color=\"cos2\",repel=True,short_labels=True,ax=axe,\n",
    "        xlim=(-1.5,1.5),ylim=(-2,2))"
   ]
  },
  {
   "attachments": {},
   "cell_type": "markdown",
   "metadata": {},
   "source": [
    "##### Contributions"
   ]
  },
  {
   "cell_type": "code",
   "execution_count": 24,
   "metadata": {},
   "outputs": [
    {
     "name": "stdout",
     "output_type": "stream",
     "text": [
      "                    Dim.1     Dim.2\n",
      "Taille_Taill-    0.124693  0.372687\n",
      "Taille_Taille+   0.623463  0.083586\n",
      "Taille_Taille++  0.124693  0.755285\n",
      "Velocite_Velo-   0.701735  0.184642\n",
      "Velocite_Veloc+  0.701735  0.184642\n"
     ]
    }
   ],
   "source": [
    "mod_contrib = mod[\"contrib\"]\n",
    "print(mod_cos2 >> select(\"Dim.1\",\"Dim.2\")>>head())"
   ]
  },
  {
   "cell_type": "code",
   "execution_count": 25,
   "metadata": {},
   "outputs": [
    {
     "data": {
      "image/png": "[encoded data removed]",
      "text/plain": [
       "<Figure size 504x504 with 2 Axes>"
      ]
     },
     "metadata": {
      "needs_background": "light"
     },
     "output_type": "display_data"
    }
   ],
   "source": [
    "fig,axe = plt.subplots(figsize=(7,7))\n",
    "plotMCA(my_mca,choice=\"mod\",color=\"contrib\",repel=True,short_labels=False,ax=axe,\n",
    "        xlim=(-1.5,1.5),ylim=(-2,2))"
   ]
  },
  {
   "attachments": {},
   "cell_type": "markdown",
   "metadata": {},
   "source": [
    "#### Informations"
   ]
  },
  {
   "cell_type": "code",
   "execution_count": 26,
   "metadata": {},
   "outputs": [
    {
     "name": "stdout",
     "output_type": "stream",
     "text": [
      "                   d(k,G)      p(k)    I(k,G)\n",
      "Taille_Taill-    1.290994  0.125000  0.208333\n",
      "Taille_Taille+   1.732051  0.083333  0.250000\n",
      "Taille_Taille++  1.290994  0.125000  0.208333\n",
      "Velocite_Velo-   1.290994  0.125000  0.208333\n",
      "Velocite_Veloc+  1.290994  0.125000  0.208333\n"
     ]
    }
   ],
   "source": [
    "mod_infos = mod[\"infos\"]\n",
    "print(mod_infos >> head())"
   ]
  },
  {
   "attachments": {},
   "cell_type": "markdown",
   "metadata": {},
   "source": [
    "### Les variables"
   ]
  },
  {
   "cell_type": "code",
   "execution_count": 27,
   "metadata": {},
   "outputs": [
    {
     "name": "stdout",
     "output_type": "stream",
     "text": [
      "dict_keys(['chi2', 'inertia', 'eta2', 'cos2', 'contrib'])\n"
     ]
    }
   ],
   "source": [
    "var = get_mca_var(my_mca)\n",
    "print(var.keys())"
   ]
  },
  {
   "cell_type": "code",
   "execution_count": 28,
   "metadata": {},
   "outputs": [
    {
     "name": "stdout",
     "output_type": "stream",
     "text": [
      "dict_keys(['statistic', 'pvalue'])\n"
     ]
    }
   ],
   "source": [
    "chi2 = var[\"chi2\"]\n",
    "print(chi2.keys())"
   ]
  },
  {
   "cell_type": "code",
   "execution_count": 29,
   "metadata": {},
   "outputs": [
    {
     "data": {
      "text/html": [
       "<div>\n",
       "<style scoped>\n",
       "    .dataframe tbody tr th:only-of-type {\n",
       "        vertical-align: middle;\n",
       "    }\n",
       "\n",
       "    .dataframe tbody tr th {\n",
       "        vertical-align: top;\n",
       "    }\n",
       "\n",
       "    .dataframe thead th {\n",
       "        text-align: right;\n",
       "    }\n",
       "</style>\n",
       "<table border=\"1\" class=\"dataframe\">\n",
       "  <thead>\n",
       "    <tr style=\"text-align: right;\">\n",
       "      <th></th>\n",
       "      <th>Taille</th>\n",
       "      <th>Velocite</th>\n",
       "      <th>Affection</th>\n",
       "    </tr>\n",
       "  </thead>\n",
       "  <tbody>\n",
       "    <tr>\n",
       "      <th>Taille</th>\n",
       "      <td>16.000000</td>\n",
       "      <td>8.000000</td>\n",
       "      <td>0.888889</td>\n",
       "    </tr>\n",
       "    <tr>\n",
       "      <th>Velocite</th>\n",
       "      <td>8.000000</td>\n",
       "      <td>16.000000</td>\n",
       "      <td>4.444444</td>\n",
       "    </tr>\n",
       "    <tr>\n",
       "      <th>Affection</th>\n",
       "      <td>0.888889</td>\n",
       "      <td>4.444444</td>\n",
       "      <td>3.555556</td>\n",
       "    </tr>\n",
       "  </tbody>\n",
       "</table>\n",
       "</div>"
      ],
      "text/plain": [
       "              Taille   Velocite  Affection\n",
       "Taille     16.000000   8.000000   0.888889\n",
       "Velocite    8.000000  16.000000   4.444444\n",
       "Affection   0.888889   4.444444   3.555556"
      ]
     },
     "metadata": {},
     "output_type": "display_data"
    },
    {
     "data": {
      "text/html": [
       "<div>\n",
       "<style scoped>\n",
       "    .dataframe tbody tr th:only-of-type {\n",
       "        vertical-align: middle;\n",
       "    }\n",
       "\n",
       "    .dataframe tbody tr th {\n",
       "        vertical-align: top;\n",
       "    }\n",
       "\n",
       "    .dataframe thead th {\n",
       "        text-align: right;\n",
       "    }\n",
       "</style>\n",
       "<table border=\"1\" class=\"dataframe\">\n",
       "  <thead>\n",
       "    <tr style=\"text-align: right;\">\n",
       "      <th></th>\n",
       "      <th>Taille</th>\n",
       "      <th>Velocite</th>\n",
       "      <th>Affection</th>\n",
       "    </tr>\n",
       "  </thead>\n",
       "  <tbody>\n",
       "    <tr>\n",
       "      <th>Taille</th>\n",
       "      <td>0.003019</td>\n",
       "      <td>0.091578</td>\n",
       "      <td>0.641180</td>\n",
       "    </tr>\n",
       "    <tr>\n",
       "      <th>Velocite</th>\n",
       "      <td>0.091578</td>\n",
       "      <td>0.003019</td>\n",
       "      <td>0.108368</td>\n",
       "    </tr>\n",
       "    <tr>\n",
       "      <th>Affection</th>\n",
       "      <td>0.641180</td>\n",
       "      <td>0.108368</td>\n",
       "      <td>0.059346</td>\n",
       "    </tr>\n",
       "  </tbody>\n",
       "</table>\n",
       "</div>"
      ],
      "text/plain": [
       "             Taille  Velocite  Affection\n",
       "Taille     0.003019  0.091578   0.641180\n",
       "Velocite   0.091578  0.003019   0.108368\n",
       "Affection  0.641180  0.108368   0.059346"
      ]
     },
     "metadata": {},
     "output_type": "display_data"
    }
   ],
   "source": [
    "display(chi2[\"statistic\"])\n",
    "display(chi2[\"pvalue\"])"
   ]
  },
  {
   "attachments": {},
   "cell_type": "markdown",
   "metadata": {},
   "source": [
    "### Rapport de corrélation"
   ]
  },
  {
   "cell_type": "code",
   "execution_count": 30,
   "metadata": {},
   "outputs": [
    {
     "data": {
      "text/html": [
       "<div>\n",
       "<style scoped>\n",
       "    .dataframe tbody tr th:only-of-type {\n",
       "        vertical-align: middle;\n",
       "    }\n",
       "\n",
       "    .dataframe tbody tr th {\n",
       "        vertical-align: top;\n",
       "    }\n",
       "\n",
       "    .dataframe thead th {\n",
       "        text-align: right;\n",
       "    }\n",
       "</style>\n",
       "<table border=\"1\" class=\"dataframe\">\n",
       "  <thead>\n",
       "    <tr style=\"text-align: right;\">\n",
       "      <th></th>\n",
       "      <th>Dim.1</th>\n",
       "      <th>Dim.2</th>\n",
       "      <th>Dim.3</th>\n",
       "      <th>Dim.4</th>\n",
       "      <th>Dim.5</th>\n",
       "    </tr>\n",
       "  </thead>\n",
       "  <tbody>\n",
       "    <tr>\n",
       "      <th>Taille_Taill-</th>\n",
       "      <td>4.558738e-01</td>\n",
       "      <td>0.788128</td>\n",
       "      <td>-0.900396</td>\n",
       "      <td>-1.200054e-01</td>\n",
       "      <td>-0.112184</td>\n",
       "    </tr>\n",
       "    <tr>\n",
       "      <th>Taille_Taille+</th>\n",
       "      <td>-1.367621e+00</td>\n",
       "      <td>0.500758</td>\n",
       "      <td>0.836329</td>\n",
       "      <td>3.600163e-01</td>\n",
       "      <td>-0.223148</td>\n",
       "    </tr>\n",
       "    <tr>\n",
       "      <th>Taille_Taille++</th>\n",
       "      <td>4.558738e-01</td>\n",
       "      <td>-1.121966</td>\n",
       "      <td>0.342844</td>\n",
       "      <td>-1.200054e-01</td>\n",
       "      <td>0.260949</td>\n",
       "    </tr>\n",
       "    <tr>\n",
       "      <th>Velocite_Velo-</th>\n",
       "      <td>1.081461e+00</td>\n",
       "      <td>0.554740</td>\n",
       "      <td>0.099781</td>\n",
       "      <td>4.046921e-01</td>\n",
       "      <td>0.125062</td>\n",
       "    </tr>\n",
       "    <tr>\n",
       "      <th>Velocite_Veloc+</th>\n",
       "      <td>-1.081461e+00</td>\n",
       "      <td>0.554740</td>\n",
       "      <td>0.099781</td>\n",
       "      <td>-4.046921e-01</td>\n",
       "      <td>0.125062</td>\n",
       "    </tr>\n",
       "    <tr>\n",
       "      <th>Velocite_Veloc++</th>\n",
       "      <td>1.122634e-14</td>\n",
       "      <td>-1.664220</td>\n",
       "      <td>-0.299344</td>\n",
       "      <td>5.855604e-16</td>\n",
       "      <td>-0.375185</td>\n",
       "    </tr>\n",
       "    <tr>\n",
       "      <th>Affection_Affe-</th>\n",
       "      <td>1.367621e+00</td>\n",
       "      <td>0.500758</td>\n",
       "      <td>0.836329</td>\n",
       "      <td>-3.600163e-01</td>\n",
       "      <td>-0.223148</td>\n",
       "    </tr>\n",
       "    <tr>\n",
       "      <th>Affection_Affec+</th>\n",
       "      <td>-4.558738e-01</td>\n",
       "      <td>-0.166919</td>\n",
       "      <td>-0.278776</td>\n",
       "      <td>1.200054e-01</td>\n",
       "      <td>0.074383</td>\n",
       "    </tr>\n",
       "  </tbody>\n",
       "</table>\n",
       "</div>"
      ],
      "text/plain": [
       "                         Dim.1     Dim.2     Dim.3         Dim.4     Dim.5\n",
       "Taille_Taill-     4.558738e-01  0.788128 -0.900396 -1.200054e-01 -0.112184\n",
       "Taille_Taille+   -1.367621e+00  0.500758  0.836329  3.600163e-01 -0.223148\n",
       "Taille_Taille++   4.558738e-01 -1.121966  0.342844 -1.200054e-01  0.260949\n",
       "Velocite_Velo-    1.081461e+00  0.554740  0.099781  4.046921e-01  0.125062\n",
       "Velocite_Veloc+  -1.081461e+00  0.554740  0.099781 -4.046921e-01  0.125062\n",
       "Velocite_Veloc++  1.122634e-14 -1.664220 -0.299344  5.855604e-16 -0.375185\n",
       "Affection_Affe-   1.367621e+00  0.500758  0.836329 -3.600163e-01 -0.223148\n",
       "Affection_Affec+ -4.558738e-01 -0.166919 -0.278776  1.200054e-01  0.074383"
      ]
     },
     "metadata": {},
     "output_type": "display_data"
    }
   ],
   "source": [
    "display(mod_coord)"
   ]
  },
  {
   "cell_type": "code",
   "execution_count": 31,
   "metadata": {},
   "outputs": [
    {
     "data": {
      "text/html": [
       "<div>\n",
       "<style scoped>\n",
       "    .dataframe tbody tr th:only-of-type {\n",
       "        vertical-align: middle;\n",
       "    }\n",
       "\n",
       "    .dataframe tbody tr th {\n",
       "        vertical-align: top;\n",
       "    }\n",
       "\n",
       "    .dataframe thead th {\n",
       "        text-align: right;\n",
       "    }\n",
       "</style>\n",
       "<table border=\"1\" class=\"dataframe\">\n",
       "  <thead>\n",
       "    <tr style=\"text-align: right;\">\n",
       "      <th></th>\n",
       "      <th>Dim.1</th>\n",
       "      <th>Dim.2</th>\n",
       "      <th>Dim.3</th>\n",
       "      <th>Dim.4</th>\n",
       "      <th>Dim.5</th>\n",
       "    </tr>\n",
       "  </thead>\n",
       "  <tbody>\n",
       "    <tr>\n",
       "      <th>Taille</th>\n",
       "      <td>0.623463</td>\n",
       "      <td>0.767672</td>\n",
       "      <td>0.522957</td>\n",
       "      <td>0.043204</td>\n",
       "      <td>0.042704</td>\n",
       "    </tr>\n",
       "    <tr>\n",
       "      <th>Velocite</th>\n",
       "      <td>0.877168</td>\n",
       "      <td>0.923210</td>\n",
       "      <td>0.029869</td>\n",
       "      <td>0.122832</td>\n",
       "      <td>0.046921</td>\n",
       "    </tr>\n",
       "    <tr>\n",
       "      <th>Affection</th>\n",
       "      <td>0.623463</td>\n",
       "      <td>0.083586</td>\n",
       "      <td>0.233149</td>\n",
       "      <td>0.043204</td>\n",
       "      <td>0.016598</td>\n",
       "    </tr>\n",
       "  </tbody>\n",
       "</table>\n",
       "</div>"
      ],
      "text/plain": [
       "              Dim.1     Dim.2     Dim.3     Dim.4     Dim.5\n",
       "Taille     0.623463  0.767672  0.522957  0.043204  0.042704\n",
       "Velocite   0.877168  0.923210  0.029869  0.122832  0.046921\n",
       "Affection  0.623463  0.083586  0.233149  0.043204  0.016598"
      ]
     },
     "metadata": {},
     "output_type": "display_data"
    }
   ],
   "source": [
    "eta2 = var[\"eta2\"]\n",
    "display(eta2)"
   ]
  },
  {
   "cell_type": "code",
   "execution_count": 32,
   "metadata": {},
   "outputs": [
    {
     "data": {
      "image/png": "[encoded data removed]",
      "text/plain": [
       "<Figure size 504x504 with 2 Axes>"
      ]
     },
     "metadata": {
      "needs_background": "light"
     },
     "output_type": "display_data"
    }
   ],
   "source": [
    "fig,axe = plt.subplots(figsize=(7,7))\n",
    "plotMCA(my_mca,choice=\"var\",color=\"contrib\",repel=True,short_labels=False,ax=axe,\n",
    "        xlim=(0,1),ylim=(0,1))"
   ]
  },
  {
   "attachments": {},
   "cell_type": "markdown",
   "metadata": {},
   "source": [
    "### ACM sur données originales"
   ]
  },
  {
   "cell_type": "code",
   "execution_count": 33,
   "metadata": {},
   "outputs": [
    {
     "data": {
      "text/html": [
       "<style>#sk-container-id-2 {color: black;background-color: white;}#sk-container-id-2 pre{padding: 0;}#sk-container-id-2 div.sk-toggleable {background-color: white;}#sk-container-id-2 label.sk-toggleable__label {cursor: pointer;display: block;width: 100%;margin-bottom: 0;padding: 0.3em;box-sizing: border-box;text-align: center;}#sk-container-id-2 label.sk-toggleable__label-arrow:before {content: \"▸\";float: left;margin-right: 0.25em;color: #696969;}#sk-container-id-2 label.sk-toggleable__label-arrow:hover:before {color: black;}#sk-container-id-2 div.sk-estimator:hover label.sk-toggleable__label-arrow:before {color: black;}#sk-container-id-2 div.sk-toggleable__content {max-height: 0;max-width: 0;overflow: hidden;text-align: left;background-color: #f0f8ff;}#sk-container-id-2 div.sk-toggleable__content pre {margin: 0.2em;color: black;border-radius: 0.25em;background-color: #f0f8ff;}#sk-container-id-2 input.sk-toggleable__control:checked~div.sk-toggleable__content {max-height: 200px;max-width: 100%;overflow: auto;}#sk-container-id-2 input.sk-toggleable__control:checked~label.sk-toggleable__label-arrow:before {content: \"▾\";}#sk-container-id-2 div.sk-estimator input.sk-toggleable__control:checked~label.sk-toggleable__label {background-color: #d4ebff;}#sk-container-id-2 div.sk-label input.sk-toggleable__control:checked~label.sk-toggleable__label {background-color: #d4ebff;}#sk-container-id-2 input.sk-hidden--visually {border: 0;clip: rect(1px 1px 1px 1px);clip: rect(1px, 1px, 1px, 1px);height: 1px;margin: -1px;overflow: hidden;padding: 0;position: absolute;width: 1px;}#sk-container-id-2 div.sk-estimator {font-family: monospace;background-color: #f0f8ff;border: 1px dotted black;border-radius: 0.25em;box-sizing: border-box;margin-bottom: 0.5em;}#sk-container-id-2 div.sk-estimator:hover {background-color: #d4ebff;}#sk-container-id-2 div.sk-parallel-item::after {content: \"\";width: 100%;border-bottom: 1px solid gray;flex-grow: 1;}#sk-container-id-2 div.sk-label:hover label.sk-toggleable__label {background-color: #d4ebff;}#sk-container-id-2 div.sk-serial::before {content: \"\";position: absolute;border-left: 1px solid gray;box-sizing: border-box;top: 0;bottom: 0;left: 50%;z-index: 0;}#sk-container-id-2 div.sk-serial {display: flex;flex-direction: column;align-items: center;background-color: white;padding-right: 0.2em;padding-left: 0.2em;position: relative;}#sk-container-id-2 div.sk-item {position: relative;z-index: 1;}#sk-container-id-2 div.sk-parallel {display: flex;align-items: stretch;justify-content: center;background-color: white;position: relative;}#sk-container-id-2 div.sk-item::before, #sk-container-id-2 div.sk-parallel-item::before {content: \"\";position: absolute;border-left: 1px solid gray;box-sizing: border-box;top: 0;bottom: 0;left: 50%;z-index: -1;}#sk-container-id-2 div.sk-parallel-item {display: flex;flex-direction: column;z-index: 1;position: relative;background-color: white;}#sk-container-id-2 div.sk-parallel-item:first-child::after {align-self: flex-end;width: 50%;}#sk-container-id-2 div.sk-parallel-item:last-child::after {align-self: flex-start;width: 50%;}#sk-container-id-2 div.sk-parallel-item:only-child::after {width: 0;}#sk-container-id-2 div.sk-dashed-wrapped {border: 1px dashed gray;margin: 0 0.4em 0.5em 0.4em;box-sizing: border-box;padding-bottom: 0.4em;background-color: white;}#sk-container-id-2 div.sk-label label {font-family: monospace;font-weight: bold;display: inline-block;line-height: 1.2em;}#sk-container-id-2 div.sk-label-container {text-align: center;}#sk-container-id-2 div.sk-container {/* jupyter's `normalize.less` sets `[hidden] { display: none; }` but bootstrap.min.css set `[hidden] { display: none !important; }` so we also need the `!important` here to be able to override the default hidden behavior on the sphinx rendered scikit-learn.org. See: https://github.com/scikit-learn/scikit-learn/issues/21755 */display: inline-block !important;position: relative;}#sk-container-id-2 div.sk-text-repr-fallback {display: none;}</style><div id=\"sk-container-id-2\" class=\"sk-top-container\"><div class=\"sk-text-repr-fallback\"><pre>MCA(row_labels=Index([&#x27;Beauceron&#x27;, &#x27;Basset&#x27;, &#x27;Berger All&#x27;, &#x27;Boxer&#x27;, &#x27;Bull-Dog&#x27;, &#x27;Bull-Mastif&#x27;,\n",
       "       &#x27;Caniche&#x27;, &#x27;Labrador&#x27;],\n",
       "      dtype=&#x27;object&#x27;, name=&#x27;Chien&#x27;),\n",
       "    var_labels=Index([&#x27;Taille&#x27;, &#x27;Velocite&#x27;, &#x27;Affection&#x27;], dtype=&#x27;object&#x27;))</pre><b>In a Jupyter environment, please rerun this cell to show the HTML representation or trust the notebook. <br />On GitHub, the HTML representation is unable to render, please try loading this page with nbviewer.org.</b></div><div class=\"sk-container\" hidden><div class=\"sk-item\"><div class=\"sk-estimator sk-toggleable\"><input class=\"sk-toggleable__control sk-hidden--visually\" id=\"sk-estimator-id-2\" type=\"checkbox\" checked><label for=\"sk-estimator-id-2\" class=\"sk-toggleable__label sk-toggleable__label-arrow\">MCA</label><div class=\"sk-toggleable__content\"><pre>MCA(row_labels=Index([&#x27;Beauceron&#x27;, &#x27;Basset&#x27;, &#x27;Berger All&#x27;, &#x27;Boxer&#x27;, &#x27;Bull-Dog&#x27;, &#x27;Bull-Mastif&#x27;,\n",
       "       &#x27;Caniche&#x27;, &#x27;Labrador&#x27;],\n",
       "      dtype=&#x27;object&#x27;, name=&#x27;Chien&#x27;),\n",
       "    var_labels=Index([&#x27;Taille&#x27;, &#x27;Velocite&#x27;, &#x27;Affection&#x27;], dtype=&#x27;object&#x27;))</pre></div></div></div></div></div>"
      ],
      "text/plain": [
       "MCA(row_labels=Index(['Beauceron', 'Basset', 'Berger All', 'Boxer', 'Bull-Dog', 'Bull-Mastif',\n",
       "       'Caniche', 'Labrador'],\n",
       "      dtype='object', name='Chien'),\n",
       "    var_labels=Index(['Taille', 'Velocite', 'Affection'], dtype='object'))"
      ]
     },
     "execution_count": 33,
     "metadata": {},
     "output_type": "execute_result"
    }
   ],
   "source": [
    "my_mca2 = MCA(n_components=None,\n",
    "             row_labels=DActives.index,\n",
    "             var_labels=DActives.columns,\n",
    "             mod_labels=None,\n",
    "             matrix_type=\"completed\",\n",
    "             benzecri=True,\n",
    "             greenacre=True,\n",
    "             row_sup_labels=None,\n",
    "             quali_sup_labels=None,\n",
    "             quanti_sup_labels=None,\n",
    "             parallelize=False)\n",
    "my_mca2.fit(DActives)"
   ]
  },
  {
   "cell_type": "code",
   "execution_count": 34,
   "metadata": {},
   "outputs": [
    {
     "data": {
      "text/html": [
       "<div>\n",
       "<style scoped>\n",
       "    .dataframe tbody tr th:only-of-type {\n",
       "        vertical-align: middle;\n",
       "    }\n",
       "\n",
       "    .dataframe tbody tr th {\n",
       "        vertical-align: top;\n",
       "    }\n",
       "\n",
       "    .dataframe thead th {\n",
       "        text-align: right;\n",
       "    }\n",
       "</style>\n",
       "<table border=\"1\" class=\"dataframe\">\n",
       "  <thead>\n",
       "    <tr style=\"text-align: right;\">\n",
       "      <th></th>\n",
       "      <th>Dim.1</th>\n",
       "      <th>Dim.2</th>\n",
       "      <th>Dim.3</th>\n",
       "      <th>Dim.4</th>\n",
       "      <th>Dim.5</th>\n",
       "    </tr>\n",
       "    <tr>\n",
       "      <th>Chien</th>\n",
       "      <th></th>\n",
       "      <th></th>\n",
       "      <th></th>\n",
       "      <th></th>\n",
       "      <th></th>\n",
       "    </tr>\n",
       "  </thead>\n",
       "  <tbody>\n",
       "    <tr>\n",
       "      <th>Beauceron</th>\n",
       "      <td>8.719576e-15</td>\n",
       "      <td>-1.279924</td>\n",
       "      <td>-0.153220</td>\n",
       "      <td>-6.219819e-17</td>\n",
       "      <td>-0.070598</td>\n",
       "    </tr>\n",
       "    <tr>\n",
       "      <th>Basset</th>\n",
       "      <td>1.150779e+00</td>\n",
       "      <td>0.799057</td>\n",
       "      <td>0.023258</td>\n",
       "      <td>-9.507874e-02</td>\n",
       "      <td>-0.372484</td>\n",
       "    </tr>\n",
       "    <tr>\n",
       "      <th>Berger All</th>\n",
       "      <td>8.133229e-15</td>\n",
       "      <td>-1.279924</td>\n",
       "      <td>-0.153220</td>\n",
       "      <td>2.064286e-16</td>\n",
       "      <td>-0.070598</td>\n",
       "    </tr>\n",
       "    <tr>\n",
       "      <th>Boxer</th>\n",
       "      <td>-1.150779e+00</td>\n",
       "      <td>0.385124</td>\n",
       "      <td>0.428076</td>\n",
       "      <td>9.507874e-02</td>\n",
       "      <td>-0.041990</td>\n",
       "    </tr>\n",
       "    <tr>\n",
       "      <th>Bull-Dog</th>\n",
       "      <td>4.284137e-01</td>\n",
       "      <td>0.509675</td>\n",
       "      <td>-0.702933</td>\n",
       "      <td>5.107897e-01</td>\n",
       "      <td>0.154577</td>\n",
       "    </tr>\n",
       "    <tr>\n",
       "      <th>Bull-Mastif</th>\n",
       "      <td>1.150779e+00</td>\n",
       "      <td>-0.028809</td>\n",
       "      <td>0.832894</td>\n",
       "      <td>-9.507874e-02</td>\n",
       "      <td>0.288504</td>\n",
       "    </tr>\n",
       "    <tr>\n",
       "      <th>Caniche</th>\n",
       "      <td>-4.284137e-01</td>\n",
       "      <td>0.509675</td>\n",
       "      <td>-0.702933</td>\n",
       "      <td>-5.107897e-01</td>\n",
       "      <td>0.154577</td>\n",
       "    </tr>\n",
       "    <tr>\n",
       "      <th>Labrador</th>\n",
       "      <td>-1.150779e+00</td>\n",
       "      <td>0.385124</td>\n",
       "      <td>0.428076</td>\n",
       "      <td>9.507874e-02</td>\n",
       "      <td>-0.041990</td>\n",
       "    </tr>\n",
       "  </tbody>\n",
       "</table>\n",
       "</div>"
      ],
      "text/plain": [
       "                    Dim.1     Dim.2     Dim.3         Dim.4     Dim.5\n",
       "Chien                                                                \n",
       "Beauceron    8.719576e-15 -1.279924 -0.153220 -6.219819e-17 -0.070598\n",
       "Basset       1.150779e+00  0.799057  0.023258 -9.507874e-02 -0.372484\n",
       "Berger All   8.133229e-15 -1.279924 -0.153220  2.064286e-16 -0.070598\n",
       "Boxer       -1.150779e+00  0.385124  0.428076  9.507874e-02 -0.041990\n",
       "Bull-Dog     4.284137e-01  0.509675 -0.702933  5.107897e-01  0.154577\n",
       "Bull-Mastif  1.150779e+00 -0.028809  0.832894 -9.507874e-02  0.288504\n",
       "Caniche     -4.284137e-01  0.509675 -0.702933 -5.107897e-01  0.154577\n",
       "Labrador    -1.150779e+00  0.385124  0.428076  9.507874e-02 -0.041990"
      ]
     },
     "execution_count": 34,
     "metadata": {},
     "output_type": "execute_result"
    }
   ],
   "source": [
    "pd.DataFrame(my_mca2.row_coord_,index=my_mca2.row_labels_,columns=my_mca.dim_index_)"
   ]
  },
  {
   "cell_type": "code",
   "execution_count": 35,
   "metadata": {},
   "outputs": [
    {
     "data": {
      "text/html": [
       "<div>\n",
       "<style scoped>\n",
       "    .dataframe tbody tr th:only-of-type {\n",
       "        vertical-align: middle;\n",
       "    }\n",
       "\n",
       "    .dataframe tbody tr th {\n",
       "        vertical-align: top;\n",
       "    }\n",
       "\n",
       "    .dataframe thead th {\n",
       "        text-align: right;\n",
       "    }\n",
       "</style>\n",
       "<table border=\"1\" class=\"dataframe\">\n",
       "  <thead>\n",
       "    <tr style=\"text-align: right;\">\n",
       "      <th></th>\n",
       "      <th>Taille</th>\n",
       "      <th>Velocite</th>\n",
       "      <th>Affection</th>\n",
       "    </tr>\n",
       "    <tr>\n",
       "      <th>Chien</th>\n",
       "      <th></th>\n",
       "      <th></th>\n",
       "      <th></th>\n",
       "    </tr>\n",
       "  </thead>\n",
       "  <tbody>\n",
       "    <tr>\n",
       "      <th>Levrier</th>\n",
       "      <td>Taille++</td>\n",
       "      <td>Veloc++</td>\n",
       "      <td>Affe-</td>\n",
       "    </tr>\n",
       "  </tbody>\n",
       "</table>\n",
       "</div>"
      ],
      "text/plain": [
       "           Taille Velocite Affection\n",
       "Chien                               \n",
       "Levrier  Taille++  Veloc++     Affe-"
      ]
     },
     "metadata": {},
     "output_type": "display_data"
    }
   ],
   "source": [
    "Drow_sup = pd.read_excel(\"Data_Methodes_Factorielles.xlsx\",sheet_name=\"ACM_CANINES_SUPP\",index_col=0)\n",
    "display(Drow_sup)"
   ]
  },
  {
   "cell_type": "code",
   "execution_count": 36,
   "metadata": {},
   "outputs": [
    {
     "data": {
      "text/html": [
       "<div>\n",
       "<style scoped>\n",
       "    .dataframe tbody tr th:only-of-type {\n",
       "        vertical-align: middle;\n",
       "    }\n",
       "\n",
       "    .dataframe tbody tr th {\n",
       "        vertical-align: top;\n",
       "    }\n",
       "\n",
       "    .dataframe thead th {\n",
       "        text-align: right;\n",
       "    }\n",
       "</style>\n",
       "<table border=\"1\" class=\"dataframe\">\n",
       "  <thead>\n",
       "    <tr style=\"text-align: right;\">\n",
       "      <th></th>\n",
       "      <th>Dim.1</th>\n",
       "      <th>Dim.2</th>\n",
       "      <th>Dim.3</th>\n",
       "      <th>Dim.4</th>\n",
       "      <th>Dim.5</th>\n",
       "    </tr>\n",
       "    <tr>\n",
       "      <th>Chien</th>\n",
       "      <th></th>\n",
       "      <th></th>\n",
       "      <th></th>\n",
       "      <th></th>\n",
       "      <th></th>\n",
       "    </tr>\n",
       "  </thead>\n",
       "  <tbody>\n",
       "    <tr>\n",
       "      <th>Levrier</th>\n",
       "      <td>0.722366</td>\n",
       "      <td>-0.990542</td>\n",
       "      <td>0.572971</td>\n",
       "      <td>-0.605868</td>\n",
       "      <td>-0.597659</td>\n",
       "    </tr>\n",
       "  </tbody>\n",
       "</table>\n",
       "</div>"
      ],
      "text/plain": [
       "            Dim.1     Dim.2     Dim.3     Dim.4     Dim.5\n",
       "Chien                                                    \n",
       "Levrier  0.722366 -0.990542  0.572971 -0.605868 -0.597659"
      ]
     },
     "execution_count": 36,
     "metadata": {},
     "output_type": "execute_result"
    }
   ],
   "source": [
    "row_sup_coord = my_mca2.transform(Drow_sup)\n",
    "pd.DataFrame(row_sup_coord,index=Drow_sup.index,columns=my_mca.dim_index_)"
   ]
  },
  {
   "cell_type": "code",
   "execution_count": 37,
   "metadata": {},
   "outputs": [],
   "source": [
    "my_mca2._compute_row_sup_stats(Drow_sup)"
   ]
  },
  {
   "cell_type": "code",
   "execution_count": 38,
   "metadata": {},
   "outputs": [
    {
     "data": {
      "text/plain": [
       "array([[ 0.72236576, -0.99054221,  0.57297139, -0.60586847, -0.59765925]])"
      ]
     },
     "execution_count": 38,
     "metadata": {},
     "output_type": "execute_result"
    }
   ],
   "source": [
    "my_mca2.row_sup_coord_"
   ]
  },
  {
   "cell_type": "code",
   "execution_count": 39,
   "metadata": {},
   "outputs": [
    {
     "data": {
      "text/plain": [
       "array([[0.20418742, 0.3839376 , 0.12846373, 0.14363867, 0.13977257]])"
      ]
     },
     "execution_count": 39,
     "metadata": {},
     "output_type": "execute_result"
    }
   ],
   "source": [
    "my_mca2.row_sup_cos2_"
   ]
  },
  {
   "attachments": {},
   "cell_type": "markdown",
   "metadata": {},
   "source": [
    "#### Variables illustratives quantitatives"
   ]
  },
  {
   "cell_type": "code",
   "execution_count": 40,
   "metadata": {},
   "outputs": [
    {
     "data": {
      "text/html": [
       "<div>\n",
       "<style scoped>\n",
       "    .dataframe tbody tr th:only-of-type {\n",
       "        vertical-align: middle;\n",
       "    }\n",
       "\n",
       "    .dataframe tbody tr th {\n",
       "        vertical-align: top;\n",
       "    }\n",
       "\n",
       "    .dataframe thead th {\n",
       "        text-align: right;\n",
       "    }\n",
       "</style>\n",
       "<table border=\"1\" class=\"dataframe\">\n",
       "  <thead>\n",
       "    <tr style=\"text-align: right;\">\n",
       "      <th></th>\n",
       "      <th>Cote</th>\n",
       "    </tr>\n",
       "    <tr>\n",
       "      <th>Chien</th>\n",
       "      <th></th>\n",
       "    </tr>\n",
       "  </thead>\n",
       "  <tbody>\n",
       "    <tr>\n",
       "      <th>Beauceron</th>\n",
       "      <td>2.0</td>\n",
       "    </tr>\n",
       "    <tr>\n",
       "      <th>Basset</th>\n",
       "      <td>4.5</td>\n",
       "    </tr>\n",
       "    <tr>\n",
       "      <th>Berger All</th>\n",
       "      <td>2.5</td>\n",
       "    </tr>\n",
       "    <tr>\n",
       "      <th>Boxer</th>\n",
       "      <td>3.0</td>\n",
       "    </tr>\n",
       "    <tr>\n",
       "      <th>Bull-Dog</th>\n",
       "      <td>1.5</td>\n",
       "    </tr>\n",
       "    <tr>\n",
       "      <th>Bull-Mastif</th>\n",
       "      <td>1.0</td>\n",
       "    </tr>\n",
       "    <tr>\n",
       "      <th>Caniche</th>\n",
       "      <td>4.0</td>\n",
       "    </tr>\n",
       "    <tr>\n",
       "      <th>Labrador</th>\n",
       "      <td>3.5</td>\n",
       "    </tr>\n",
       "  </tbody>\n",
       "</table>\n",
       "</div>"
      ],
      "text/plain": [
       "             Cote\n",
       "Chien            \n",
       "Beauceron     2.0\n",
       "Basset        4.5\n",
       "Berger All    2.5\n",
       "Boxer         3.0\n",
       "Bull-Dog      1.5\n",
       "Bull-Mastif   1.0\n",
       "Caniche       4.0\n",
       "Labrador      3.5"
      ]
     },
     "metadata": {},
     "output_type": "display_data"
    }
   ],
   "source": [
    "Xquant_sup = D[\"Cote\"].to_frame()\n",
    "display(Xquant_sup)"
   ]
  },
  {
   "cell_type": "code",
   "execution_count": 41,
   "metadata": {},
   "outputs": [
    {
     "data": {
      "text/plain": [
       "dict_keys(['coord', 'cos2'])"
      ]
     },
     "metadata": {},
     "output_type": "display_data"
    }
   ],
   "source": [
    "var_quant_sup = my_mca2._compute_quanti_sup_stats(Xquant_sup)\n",
    "display(var_quant_sup.keys())"
   ]
  },
  {
   "cell_type": "code",
   "execution_count": 42,
   "metadata": {},
   "outputs": [
    {
     "data": {
      "text/html": [
       "<div>\n",
       "<style scoped>\n",
       "    .dataframe tbody tr th:only-of-type {\n",
       "        vertical-align: middle;\n",
       "    }\n",
       "\n",
       "    .dataframe tbody tr th {\n",
       "        vertical-align: top;\n",
       "    }\n",
       "\n",
       "    .dataframe thead th {\n",
       "        text-align: right;\n",
       "    }\n",
       "</style>\n",
       "<table border=\"1\" class=\"dataframe\">\n",
       "  <thead>\n",
       "    <tr style=\"text-align: right;\">\n",
       "      <th></th>\n",
       "      <th>Dim.1</th>\n",
       "      <th>Dim.2</th>\n",
       "      <th>Dim.3</th>\n",
       "      <th>Dim.4</th>\n",
       "      <th>Dim.5</th>\n",
       "    </tr>\n",
       "  </thead>\n",
       "  <tbody>\n",
       "    <tr>\n",
       "      <th>Cote</th>\n",
       "      <td>-0.288099</td>\n",
       "      <td>0.441753</td>\n",
       "      <td>-0.178114</td>\n",
       "      <td>-0.48829</td>\n",
       "      <td>-0.654134</td>\n",
       "    </tr>\n",
       "  </tbody>\n",
       "</table>\n",
       "</div>"
      ],
      "text/plain": [
       "         Dim.1     Dim.2     Dim.3    Dim.4     Dim.5\n",
       "Cote -0.288099  0.441753 -0.178114 -0.48829 -0.654134"
      ]
     },
     "execution_count": 42,
     "metadata": {},
     "output_type": "execute_result"
    }
   ],
   "source": [
    "var_quant_sup_coord = var_quant_sup[\"coord\"]\n",
    "pd.DataFrame(var_quant_sup_coord,index=Xquant_sup.columns,columns=my_mca.dim_index_)"
   ]
  },
  {
   "cell_type": "code",
   "execution_count": 43,
   "metadata": {},
   "outputs": [
    {
     "data": {
      "text/html": [
       "<div>\n",
       "<style scoped>\n",
       "    .dataframe tbody tr th:only-of-type {\n",
       "        vertical-align: middle;\n",
       "    }\n",
       "\n",
       "    .dataframe tbody tr th {\n",
       "        vertical-align: top;\n",
       "    }\n",
       "\n",
       "    .dataframe thead th {\n",
       "        text-align: right;\n",
       "    }\n",
       "</style>\n",
       "<table border=\"1\" class=\"dataframe\">\n",
       "  <thead>\n",
       "    <tr style=\"text-align: right;\">\n",
       "      <th></th>\n",
       "      <th>Dim.1</th>\n",
       "      <th>Dim.2</th>\n",
       "      <th>Dim.3</th>\n",
       "      <th>Dim.4</th>\n",
       "      <th>Dim.5</th>\n",
       "    </tr>\n",
       "  </thead>\n",
       "  <tbody>\n",
       "    <tr>\n",
       "      <th>Cote</th>\n",
       "      <td>0.083001</td>\n",
       "      <td>0.195146</td>\n",
       "      <td>0.031725</td>\n",
       "      <td>0.238428</td>\n",
       "      <td>0.427892</td>\n",
       "    </tr>\n",
       "  </tbody>\n",
       "</table>\n",
       "</div>"
      ],
      "text/plain": [
       "         Dim.1     Dim.2     Dim.3     Dim.4     Dim.5\n",
       "Cote  0.083001  0.195146  0.031725  0.238428  0.427892"
      ]
     },
     "execution_count": 43,
     "metadata": {},
     "output_type": "execute_result"
    }
   ],
   "source": [
    "var_quant_sup_cos2= var_quant_sup[\"cos2\"]\n",
    "pd.DataFrame(var_quant_sup_cos2,index=Xquant_sup.columns,columns=my_mca.dim_index_)"
   ]
  },
  {
   "attachments": {},
   "cell_type": "markdown",
   "metadata": {},
   "source": [
    "#### Variables qualitatives supplémentaires"
   ]
  },
  {
   "cell_type": "code",
   "execution_count": 44,
   "metadata": {},
   "outputs": [
    {
     "data": {
      "text/html": [
       "<div>\n",
       "<style scoped>\n",
       "    .dataframe tbody tr th:only-of-type {\n",
       "        vertical-align: middle;\n",
       "    }\n",
       "\n",
       "    .dataframe tbody tr th {\n",
       "        vertical-align: top;\n",
       "    }\n",
       "\n",
       "    .dataframe thead th {\n",
       "        text-align: right;\n",
       "    }\n",
       "</style>\n",
       "<table border=\"1\" class=\"dataframe\">\n",
       "  <thead>\n",
       "    <tr style=\"text-align: right;\">\n",
       "      <th></th>\n",
       "      <th>Fonction</th>\n",
       "    </tr>\n",
       "    <tr>\n",
       "      <th>Chien</th>\n",
       "      <th></th>\n",
       "    </tr>\n",
       "  </thead>\n",
       "  <tbody>\n",
       "    <tr>\n",
       "      <th>Beauceron</th>\n",
       "      <td>utilite</td>\n",
       "    </tr>\n",
       "    <tr>\n",
       "      <th>Basset</th>\n",
       "      <td>chasse</td>\n",
       "    </tr>\n",
       "    <tr>\n",
       "      <th>Berger All</th>\n",
       "      <td>utilite</td>\n",
       "    </tr>\n",
       "    <tr>\n",
       "      <th>Boxer</th>\n",
       "      <td>compagnie</td>\n",
       "    </tr>\n",
       "    <tr>\n",
       "      <th>Bull-Dog</th>\n",
       "      <td>compagnie</td>\n",
       "    </tr>\n",
       "    <tr>\n",
       "      <th>Bull-Mastif</th>\n",
       "      <td>utilite</td>\n",
       "    </tr>\n",
       "    <tr>\n",
       "      <th>Caniche</th>\n",
       "      <td>compagnie</td>\n",
       "    </tr>\n",
       "    <tr>\n",
       "      <th>Labrador</th>\n",
       "      <td>chasse</td>\n",
       "    </tr>\n",
       "  </tbody>\n",
       "</table>\n",
       "</div>"
      ],
      "text/plain": [
       "              Fonction\n",
       "Chien                 \n",
       "Beauceron      utilite\n",
       "Basset          chasse\n",
       "Berger All     utilite\n",
       "Boxer        compagnie\n",
       "Bull-Dog     compagnie\n",
       "Bull-Mastif    utilite\n",
       "Caniche      compagnie\n",
       "Labrador        chasse"
      ]
     },
     "metadata": {},
     "output_type": "display_data"
    }
   ],
   "source": [
    "# Variables qualitatives\n",
    "Xqual_sup = D[\"Fonction\"].to_frame()\n",
    "display(Xqual_sup)"
   ]
  },
  {
   "cell_type": "code",
   "execution_count": 45,
   "metadata": {},
   "outputs": [
    {
     "name": "stdout",
     "output_type": "stream",
     "text": [
      "dict_keys(['coord', 'cos2', 'dist', 'stats', 'vtest'])\n"
     ]
    }
   ],
   "source": [
    "mod_sup = my_mca2._compute_quali_sup_stats(Xqual_sup)\n",
    "print(mod_sup.keys())"
   ]
  },
  {
   "cell_type": "code",
   "execution_count": 46,
   "metadata": {},
   "outputs": [
    {
     "data": {
      "text/html": [
       "<div>\n",
       "<style scoped>\n",
       "    .dataframe tbody tr th:only-of-type {\n",
       "        vertical-align: middle;\n",
       "    }\n",
       "\n",
       "    .dataframe tbody tr th {\n",
       "        vertical-align: top;\n",
       "    }\n",
       "\n",
       "    .dataframe thead th {\n",
       "        text-align: right;\n",
       "    }\n",
       "</style>\n",
       "<table border=\"1\" class=\"dataframe\">\n",
       "  <thead>\n",
       "    <tr style=\"text-align: right;\">\n",
       "      <th></th>\n",
       "      <th>0</th>\n",
       "      <th>1</th>\n",
       "      <th>2</th>\n",
       "      <th>3</th>\n",
       "      <th>4</th>\n",
       "    </tr>\n",
       "  </thead>\n",
       "  <tbody>\n",
       "    <tr>\n",
       "      <th>Fonction_chasse</th>\n",
       "      <td>-4.749922e-15</td>\n",
       "      <td>0.769866</td>\n",
       "      <td>0.440884</td>\n",
       "      <td>9.721442e-16</td>\n",
       "      <td>-1.101330</td>\n",
       "    </tr>\n",
       "    <tr>\n",
       "      <th>Fonction_compagnie</th>\n",
       "      <td>-4.558738e-01</td>\n",
       "      <td>0.608722</td>\n",
       "      <td>-0.636767</td>\n",
       "      <td>1.200054e-01</td>\n",
       "      <td>0.473271</td>\n",
       "    </tr>\n",
       "    <tr>\n",
       "      <th>Fonction_utilite</th>\n",
       "      <td>4.558738e-01</td>\n",
       "      <td>-1.121966</td>\n",
       "      <td>0.342844</td>\n",
       "      <td>-1.200054e-01</td>\n",
       "      <td>0.260949</td>\n",
       "    </tr>\n",
       "  </tbody>\n",
       "</table>\n",
       "</div>"
      ],
      "text/plain": [
       "                               0         1         2             3         4\n",
       "Fonction_chasse    -4.749922e-15  0.769866  0.440884  9.721442e-16 -1.101330\n",
       "Fonction_compagnie -4.558738e-01  0.608722 -0.636767  1.200054e-01  0.473271\n",
       "Fonction_utilite    4.558738e-01 -1.121966  0.342844 -1.200054e-01  0.260949"
      ]
     },
     "execution_count": 46,
     "metadata": {},
     "output_type": "execute_result"
    }
   ],
   "source": [
    "mod_sup_coord = mod_sup[\"coord\"]\n",
    "mod_sup_coord"
   ]
  },
  {
   "cell_type": "code",
   "execution_count": 47,
   "metadata": {},
   "outputs": [
    {
     "data": {
      "text/html": [
       "<div>\n",
       "<style scoped>\n",
       "    .dataframe tbody tr th:only-of-type {\n",
       "        vertical-align: middle;\n",
       "    }\n",
       "\n",
       "    .dataframe tbody tr th {\n",
       "        vertical-align: top;\n",
       "    }\n",
       "\n",
       "    .dataframe thead th {\n",
       "        text-align: right;\n",
       "    }\n",
       "</style>\n",
       "<table border=\"1\" class=\"dataframe\">\n",
       "  <thead>\n",
       "    <tr style=\"text-align: right;\">\n",
       "      <th></th>\n",
       "      <th>0</th>\n",
       "      <th>1</th>\n",
       "      <th>2</th>\n",
       "      <th>3</th>\n",
       "      <th>4</th>\n",
       "    </tr>\n",
       "  </thead>\n",
       "  <tbody>\n",
       "    <tr>\n",
       "      <th>Fonction_chasse</th>\n",
       "      <td>1.128088e-29</td>\n",
       "      <td>0.296347</td>\n",
       "      <td>0.097190</td>\n",
       "      <td>4.725322e-31</td>\n",
       "      <td>0.606464</td>\n",
       "    </tr>\n",
       "    <tr>\n",
       "      <th>Fonction_compagnie</th>\n",
       "      <td>1.700353e-01</td>\n",
       "      <td>0.303172</td>\n",
       "      <td>0.331749</td>\n",
       "      <td>1.178288e-02</td>\n",
       "      <td>0.183261</td>\n",
       "    </tr>\n",
       "    <tr>\n",
       "      <th>Fonction_utilite</th>\n",
       "      <td>1.246926e-01</td>\n",
       "      <td>0.755285</td>\n",
       "      <td>0.070525</td>\n",
       "      <td>8.640781e-03</td>\n",
       "      <td>0.040857</td>\n",
       "    </tr>\n",
       "  </tbody>\n",
       "</table>\n",
       "</div>"
      ],
      "text/plain": [
       "                               0         1         2             3         4\n",
       "Fonction_chasse     1.128088e-29  0.296347  0.097190  4.725322e-31  0.606464\n",
       "Fonction_compagnie  1.700353e-01  0.303172  0.331749  1.178288e-02  0.183261\n",
       "Fonction_utilite    1.246926e-01  0.755285  0.070525  8.640781e-03  0.040857"
      ]
     },
     "execution_count": 47,
     "metadata": {},
     "output_type": "execute_result"
    }
   ],
   "source": [
    "mod_sup_cos2 = mod_sup[\"cos2\"]\n",
    "mod_sup_cos2"
   ]
  },
  {
   "cell_type": "code",
   "execution_count": 48,
   "metadata": {},
   "outputs": [
    {
     "data": {
      "text/html": [
       "<div>\n",
       "<style scoped>\n",
       "    .dataframe tbody tr th:only-of-type {\n",
       "        vertical-align: middle;\n",
       "    }\n",
       "\n",
       "    .dataframe tbody tr th {\n",
       "        vertical-align: top;\n",
       "    }\n",
       "\n",
       "    .dataframe thead th {\n",
       "        text-align: right;\n",
       "    }\n",
       "</style>\n",
       "<table border=\"1\" class=\"dataframe\">\n",
       "  <thead>\n",
       "    <tr style=\"text-align: right;\">\n",
       "      <th></th>\n",
       "      <th>Dist</th>\n",
       "    </tr>\n",
       "  </thead>\n",
       "  <tbody>\n",
       "    <tr>\n",
       "      <th>Fonction_chasse</th>\n",
       "      <td>3.000000</td>\n",
       "    </tr>\n",
       "    <tr>\n",
       "      <th>Fonction_compagnie</th>\n",
       "      <td>1.666667</td>\n",
       "    </tr>\n",
       "    <tr>\n",
       "      <th>Fonction_utilite</th>\n",
       "      <td>1.666667</td>\n",
       "    </tr>\n",
       "  </tbody>\n",
       "</table>\n",
       "</div>"
      ],
      "text/plain": [
       "                        Dist\n",
       "Fonction_chasse     3.000000\n",
       "Fonction_compagnie  1.666667\n",
       "Fonction_utilite    1.666667"
      ]
     },
     "execution_count": 48,
     "metadata": {},
     "output_type": "execute_result"
    }
   ],
   "source": [
    "mod_sup_dist = mod_sup[\"dist\"]\n",
    "pd.DataFrame(mod_sup_dist,columns=[\"Dist\"])"
   ]
  },
  {
   "cell_type": "code",
   "execution_count": 49,
   "metadata": {},
   "outputs": [
    {
     "data": {
      "text/html": [
       "<div>\n",
       "<style scoped>\n",
       "    .dataframe tbody tr th:only-of-type {\n",
       "        vertical-align: middle;\n",
       "    }\n",
       "\n",
       "    .dataframe tbody tr th {\n",
       "        vertical-align: top;\n",
       "    }\n",
       "\n",
       "    .dataframe thead th {\n",
       "        text-align: right;\n",
       "    }\n",
       "</style>\n",
       "<table border=\"1\" class=\"dataframe\">\n",
       "  <thead>\n",
       "    <tr style=\"text-align: right;\">\n",
       "      <th></th>\n",
       "      <th>sum</th>\n",
       "      <th>mean</th>\n",
       "    </tr>\n",
       "  </thead>\n",
       "  <tbody>\n",
       "    <tr>\n",
       "      <th>Fonction_chasse</th>\n",
       "      <td>2.0</td>\n",
       "      <td>0.250</td>\n",
       "    </tr>\n",
       "    <tr>\n",
       "      <th>Fonction_compagnie</th>\n",
       "      <td>3.0</td>\n",
       "      <td>0.375</td>\n",
       "    </tr>\n",
       "    <tr>\n",
       "      <th>Fonction_utilite</th>\n",
       "      <td>3.0</td>\n",
       "      <td>0.375</td>\n",
       "    </tr>\n",
       "  </tbody>\n",
       "</table>\n",
       "</div>"
      ],
      "text/plain": [
       "                    sum   mean\n",
       "Fonction_chasse     2.0  0.250\n",
       "Fonction_compagnie  3.0  0.375\n",
       "Fonction_utilite    3.0  0.375"
      ]
     },
     "metadata": {},
     "output_type": "display_data"
    }
   ],
   "source": [
    "mod_sup_stats = mod_sup[\"stats\"]\n",
    "display(mod_sup_stats)"
   ]
  },
  {
   "cell_type": "code",
   "execution_count": 50,
   "metadata": {},
   "outputs": [
    {
     "data": {
      "text/html": [
       "<div>\n",
       "<style scoped>\n",
       "    .dataframe tbody tr th:only-of-type {\n",
       "        vertical-align: middle;\n",
       "    }\n",
       "\n",
       "    .dataframe tbody tr th {\n",
       "        vertical-align: top;\n",
       "    }\n",
       "\n",
       "    .dataframe thead th {\n",
       "        text-align: right;\n",
       "    }\n",
       "</style>\n",
       "<table border=\"1\" class=\"dataframe\">\n",
       "  <thead>\n",
       "    <tr style=\"text-align: right;\">\n",
       "      <th></th>\n",
       "      <th>0</th>\n",
       "      <th>1</th>\n",
       "      <th>2</th>\n",
       "      <th>3</th>\n",
       "      <th>4</th>\n",
       "    </tr>\n",
       "  </thead>\n",
       "  <tbody>\n",
       "    <tr>\n",
       "      <th>Fonction_chasse</th>\n",
       "      <td>-7.255626e-15</td>\n",
       "      <td>1.175989</td>\n",
       "      <td>0.673462</td>\n",
       "      <td>1.484975e-15</td>\n",
       "      <td>-1.682309</td>\n",
       "    </tr>\n",
       "    <tr>\n",
       "      <th>Fonction_compagnie</th>\n",
       "      <td>-9.342633e-01</td>\n",
       "      <td>1.247510</td>\n",
       "      <td>-1.304983</td>\n",
       "      <td>2.459379e-01</td>\n",
       "      <td>0.969917</td>\n",
       "    </tr>\n",
       "    <tr>\n",
       "      <th>Fonction_utilite</th>\n",
       "      <td>9.342633e-01</td>\n",
       "      <td>-2.299347</td>\n",
       "      <td>0.702620</td>\n",
       "      <td>-2.459379e-01</td>\n",
       "      <td>0.534786</td>\n",
       "    </tr>\n",
       "  </tbody>\n",
       "</table>\n",
       "</div>"
      ],
      "text/plain": [
       "                               0         1         2             3         4\n",
       "Fonction_chasse    -7.255626e-15  1.175989  0.673462  1.484975e-15 -1.682309\n",
       "Fonction_compagnie -9.342633e-01  1.247510 -1.304983  2.459379e-01  0.969917\n",
       "Fonction_utilite    9.342633e-01 -2.299347  0.702620 -2.459379e-01  0.534786"
      ]
     },
     "execution_count": 50,
     "metadata": {},
     "output_type": "execute_result"
    }
   ],
   "source": [
    "mod_sup_vtest = mod_sup[\"vtest\"]\n",
    "mod_sup_vtest"
   ]
  },
  {
   "cell_type": "code",
   "execution_count": 51,
   "metadata": {},
   "outputs": [
    {
     "data": {
      "text/html": [
       "<style>#sk-container-id-3 {color: black;background-color: white;}#sk-container-id-3 pre{padding: 0;}#sk-container-id-3 div.sk-toggleable {background-color: white;}#sk-container-id-3 label.sk-toggleable__label {cursor: pointer;display: block;width: 100%;margin-bottom: 0;padding: 0.3em;box-sizing: border-box;text-align: center;}#sk-container-id-3 label.sk-toggleable__label-arrow:before {content: \"▸\";float: left;margin-right: 0.25em;color: #696969;}#sk-container-id-3 label.sk-toggleable__label-arrow:hover:before {color: black;}#sk-container-id-3 div.sk-estimator:hover label.sk-toggleable__label-arrow:before {color: black;}#sk-container-id-3 div.sk-toggleable__content {max-height: 0;max-width: 0;overflow: hidden;text-align: left;background-color: #f0f8ff;}#sk-container-id-3 div.sk-toggleable__content pre {margin: 0.2em;color: black;border-radius: 0.25em;background-color: #f0f8ff;}#sk-container-id-3 input.sk-toggleable__control:checked~div.sk-toggleable__content {max-height: 200px;max-width: 100%;overflow: auto;}#sk-container-id-3 input.sk-toggleable__control:checked~label.sk-toggleable__label-arrow:before {content: \"▾\";}#sk-container-id-3 div.sk-estimator input.sk-toggleable__control:checked~label.sk-toggleable__label {background-color: #d4ebff;}#sk-container-id-3 div.sk-label input.sk-toggleable__control:checked~label.sk-toggleable__label {background-color: #d4ebff;}#sk-container-id-3 input.sk-hidden--visually {border: 0;clip: rect(1px 1px 1px 1px);clip: rect(1px, 1px, 1px, 1px);height: 1px;margin: -1px;overflow: hidden;padding: 0;position: absolute;width: 1px;}#sk-container-id-3 div.sk-estimator {font-family: monospace;background-color: #f0f8ff;border: 1px dotted black;border-radius: 0.25em;box-sizing: border-box;margin-bottom: 0.5em;}#sk-container-id-3 div.sk-estimator:hover {background-color: #d4ebff;}#sk-container-id-3 div.sk-parallel-item::after {content: \"\";width: 100%;border-bottom: 1px solid gray;flex-grow: 1;}#sk-container-id-3 div.sk-label:hover label.sk-toggleable__label {background-color: #d4ebff;}#sk-container-id-3 div.sk-serial::before {content: \"\";position: absolute;border-left: 1px solid gray;box-sizing: border-box;top: 0;bottom: 0;left: 50%;z-index: 0;}#sk-container-id-3 div.sk-serial {display: flex;flex-direction: column;align-items: center;background-color: white;padding-right: 0.2em;padding-left: 0.2em;position: relative;}#sk-container-id-3 div.sk-item {position: relative;z-index: 1;}#sk-container-id-3 div.sk-parallel {display: flex;align-items: stretch;justify-content: center;background-color: white;position: relative;}#sk-container-id-3 div.sk-item::before, #sk-container-id-3 div.sk-parallel-item::before {content: \"\";position: absolute;border-left: 1px solid gray;box-sizing: border-box;top: 0;bottom: 0;left: 50%;z-index: -1;}#sk-container-id-3 div.sk-parallel-item {display: flex;flex-direction: column;z-index: 1;position: relative;background-color: white;}#sk-container-id-3 div.sk-parallel-item:first-child::after {align-self: flex-end;width: 50%;}#sk-container-id-3 div.sk-parallel-item:last-child::after {align-self: flex-start;width: 50%;}#sk-container-id-3 div.sk-parallel-item:only-child::after {width: 0;}#sk-container-id-3 div.sk-dashed-wrapped {border: 1px dashed gray;margin: 0 0.4em 0.5em 0.4em;box-sizing: border-box;padding-bottom: 0.4em;background-color: white;}#sk-container-id-3 div.sk-label label {font-family: monospace;font-weight: bold;display: inline-block;line-height: 1.2em;}#sk-container-id-3 div.sk-label-container {text-align: center;}#sk-container-id-3 div.sk-container {/* jupyter's `normalize.less` sets `[hidden] { display: none; }` but bootstrap.min.css set `[hidden] { display: none !important; }` so we also need the `!important` here to be able to override the default hidden behavior on the sphinx rendered scikit-learn.org. See: https://github.com/scikit-learn/scikit-learn/issues/21755 */display: inline-block !important;position: relative;}#sk-container-id-3 div.sk-text-repr-fallback {display: none;}</style><div id=\"sk-container-id-3\" class=\"sk-top-container\"><div class=\"sk-text-repr-fallback\"><pre>MCA(quali_sup_labels=[&#x27;Fonction&#x27;], quanti_sup_labels=[&#x27;Cote&#x27;],\n",
       "    row_labels=Index([&#x27;Beauceron&#x27;, &#x27;Basset&#x27;, &#x27;Berger All&#x27;, &#x27;Boxer&#x27;, &#x27;Bull-Dog&#x27;, &#x27;Bull-Mastif&#x27;,\n",
       "       &#x27;Caniche&#x27;, &#x27;Labrador&#x27;],\n",
       "      dtype=&#x27;object&#x27;, name=&#x27;Chien&#x27;),\n",
       "    var_labels=Index([&#x27;Taille&#x27;, &#x27;Velocite&#x27;, &#x27;Affection&#x27;], dtype=&#x27;object&#x27;))</pre><b>In a Jupyter environment, please rerun this cell to show the HTML representation or trust the notebook. <br />On GitHub, the HTML representation is unable to render, please try loading this page with nbviewer.org.</b></div><div class=\"sk-container\" hidden><div class=\"sk-item\"><div class=\"sk-estimator sk-toggleable\"><input class=\"sk-toggleable__control sk-hidden--visually\" id=\"sk-estimator-id-3\" type=\"checkbox\" checked><label for=\"sk-estimator-id-3\" class=\"sk-toggleable__label sk-toggleable__label-arrow\">MCA</label><div class=\"sk-toggleable__content\"><pre>MCA(quali_sup_labels=[&#x27;Fonction&#x27;], quanti_sup_labels=[&#x27;Cote&#x27;],\n",
       "    row_labels=Index([&#x27;Beauceron&#x27;, &#x27;Basset&#x27;, &#x27;Berger All&#x27;, &#x27;Boxer&#x27;, &#x27;Bull-Dog&#x27;, &#x27;Bull-Mastif&#x27;,\n",
       "       &#x27;Caniche&#x27;, &#x27;Labrador&#x27;],\n",
       "      dtype=&#x27;object&#x27;, name=&#x27;Chien&#x27;),\n",
       "    var_labels=Index([&#x27;Taille&#x27;, &#x27;Velocite&#x27;, &#x27;Affection&#x27;], dtype=&#x27;object&#x27;))</pre></div></div></div></div></div>"
      ],
      "text/plain": [
       "MCA(quali_sup_labels=['Fonction'], quanti_sup_labels=['Cote'],\n",
       "    row_labels=Index(['Beauceron', 'Basset', 'Berger All', 'Boxer', 'Bull-Dog', 'Bull-Mastif',\n",
       "       'Caniche', 'Labrador'],\n",
       "      dtype='object', name='Chien'),\n",
       "    var_labels=Index(['Taille', 'Velocite', 'Affection'], dtype='object'))"
      ]
     },
     "execution_count": 51,
     "metadata": {},
     "output_type": "execute_result"
    }
   ],
   "source": [
    "my_mca3 = MCA(n_components=None,\n",
    "             row_labels=DActives.index,\n",
    "             var_labels=DActives.columns,\n",
    "             mod_labels=None,\n",
    "             matrix_type=\"completed\",\n",
    "             benzecri=True,\n",
    "             greenacre=True,\n",
    "             row_sup_labels=None,\n",
    "             quali_sup_labels=[\"Fonction\"],\n",
    "             quanti_sup_labels=[\"Cote\"],\n",
    "             parallelize=False)\n",
    "my_mca3.fit(D)"
   ]
  },
  {
   "cell_type": "code",
   "execution_count": 52,
   "metadata": {},
   "outputs": [
    {
     "data": {
      "text/html": [
       "<div>\n",
       "<style scoped>\n",
       "    .dataframe tbody tr th:only-of-type {\n",
       "        vertical-align: middle;\n",
       "    }\n",
       "\n",
       "    .dataframe tbody tr th {\n",
       "        vertical-align: top;\n",
       "    }\n",
       "\n",
       "    .dataframe thead th {\n",
       "        text-align: right;\n",
       "    }\n",
       "</style>\n",
       "<table border=\"1\" class=\"dataframe\">\n",
       "  <thead>\n",
       "    <tr style=\"text-align: right;\">\n",
       "      <th></th>\n",
       "      <th>eigenvalue</th>\n",
       "      <th>difference</th>\n",
       "      <th>proportion</th>\n",
       "      <th>cumulative</th>\n",
       "    </tr>\n",
       "  </thead>\n",
       "  <tbody>\n",
       "    <tr>\n",
       "      <th>Dim.1</th>\n",
       "      <td>0.708031</td>\n",
       "      <td>0.116542</td>\n",
       "      <td>42.481875</td>\n",
       "      <td>42.481875</td>\n",
       "    </tr>\n",
       "    <tr>\n",
       "      <th>Dim.2</th>\n",
       "      <td>0.591489</td>\n",
       "      <td>0.329498</td>\n",
       "      <td>35.489362</td>\n",
       "      <td>77.971237</td>\n",
       "    </tr>\n",
       "    <tr>\n",
       "      <th>Dim.3</th>\n",
       "      <td>0.261992</td>\n",
       "      <td>0.192245</td>\n",
       "      <td>15.719509</td>\n",
       "      <td>93.690746</td>\n",
       "    </tr>\n",
       "    <tr>\n",
       "      <th>Dim.4</th>\n",
       "      <td>0.069747</td>\n",
       "      <td>0.034339</td>\n",
       "      <td>4.184791</td>\n",
       "      <td>97.875538</td>\n",
       "    </tr>\n",
       "    <tr>\n",
       "      <th>Dim.5</th>\n",
       "      <td>0.035408</td>\n",
       "      <td>0.035408</td>\n",
       "      <td>2.124462</td>\n",
       "      <td>100.000000</td>\n",
       "    </tr>\n",
       "  </tbody>\n",
       "</table>\n",
       "</div>"
      ],
      "text/plain": [
       "       eigenvalue  difference  proportion  cumulative\n",
       "Dim.1    0.708031    0.116542   42.481875   42.481875\n",
       "Dim.2    0.591489    0.329498   35.489362   77.971237\n",
       "Dim.3    0.261992    0.192245   15.719509   93.690746\n",
       "Dim.4    0.069747    0.034339    4.184791   97.875538\n",
       "Dim.5    0.035408    0.035408    2.124462  100.000000"
      ]
     },
     "metadata": {},
     "output_type": "display_data"
    }
   ],
   "source": [
    "eig3 = get_eig(my_mca3)\n",
    "display(eig3)"
   ]
  },
  {
   "cell_type": "code",
   "execution_count": 53,
   "metadata": {},
   "outputs": [
    {
     "name": "stdout",
     "output_type": "stream",
     "text": [
      "dict_keys(['coord', 'cos2', 'contrib', 'infos'])\n"
     ]
    }
   ],
   "source": [
    "row = get_mca_ind(my_mca3)\n",
    "print(row.keys())"
   ]
  },
  {
   "cell_type": "code",
   "execution_count": 54,
   "metadata": {},
   "outputs": [
    {
     "data": {
      "text/html": [
       "<div>\n",
       "<style scoped>\n",
       "    .dataframe tbody tr th:only-of-type {\n",
       "        vertical-align: middle;\n",
       "    }\n",
       "\n",
       "    .dataframe tbody tr th {\n",
       "        vertical-align: top;\n",
       "    }\n",
       "\n",
       "    .dataframe thead th {\n",
       "        text-align: right;\n",
       "    }\n",
       "</style>\n",
       "<table border=\"1\" class=\"dataframe\">\n",
       "  <thead>\n",
       "    <tr style=\"text-align: right;\">\n",
       "      <th></th>\n",
       "      <th>Dim.1</th>\n",
       "      <th>Dim.2</th>\n",
       "      <th>Dim.3</th>\n",
       "      <th>Dim.4</th>\n",
       "      <th>Dim.5</th>\n",
       "    </tr>\n",
       "    <tr>\n",
       "      <th>Chien</th>\n",
       "      <th></th>\n",
       "      <th></th>\n",
       "      <th></th>\n",
       "      <th></th>\n",
       "      <th></th>\n",
       "    </tr>\n",
       "  </thead>\n",
       "  <tbody>\n",
       "    <tr>\n",
       "      <th>Beauceron</th>\n",
       "      <td>8.719576e-15</td>\n",
       "      <td>-1.279924</td>\n",
       "      <td>-0.153220</td>\n",
       "      <td>-6.219819e-17</td>\n",
       "      <td>-0.070598</td>\n",
       "    </tr>\n",
       "    <tr>\n",
       "      <th>Basset</th>\n",
       "      <td>1.150779e+00</td>\n",
       "      <td>0.799057</td>\n",
       "      <td>0.023258</td>\n",
       "      <td>-9.507874e-02</td>\n",
       "      <td>-0.372484</td>\n",
       "    </tr>\n",
       "    <tr>\n",
       "      <th>Berger All</th>\n",
       "      <td>8.133229e-15</td>\n",
       "      <td>-1.279924</td>\n",
       "      <td>-0.153220</td>\n",
       "      <td>2.064286e-16</td>\n",
       "      <td>-0.070598</td>\n",
       "    </tr>\n",
       "    <tr>\n",
       "      <th>Boxer</th>\n",
       "      <td>-1.150779e+00</td>\n",
       "      <td>0.385124</td>\n",
       "      <td>0.428076</td>\n",
       "      <td>9.507874e-02</td>\n",
       "      <td>-0.041990</td>\n",
       "    </tr>\n",
       "    <tr>\n",
       "      <th>Bull-Dog</th>\n",
       "      <td>4.284137e-01</td>\n",
       "      <td>0.509675</td>\n",
       "      <td>-0.702933</td>\n",
       "      <td>5.107897e-01</td>\n",
       "      <td>0.154577</td>\n",
       "    </tr>\n",
       "    <tr>\n",
       "      <th>Bull-Mastif</th>\n",
       "      <td>1.150779e+00</td>\n",
       "      <td>-0.028809</td>\n",
       "      <td>0.832894</td>\n",
       "      <td>-9.507874e-02</td>\n",
       "      <td>0.288504</td>\n",
       "    </tr>\n",
       "    <tr>\n",
       "      <th>Caniche</th>\n",
       "      <td>-4.284137e-01</td>\n",
       "      <td>0.509675</td>\n",
       "      <td>-0.702933</td>\n",
       "      <td>-5.107897e-01</td>\n",
       "      <td>0.154577</td>\n",
       "    </tr>\n",
       "    <tr>\n",
       "      <th>Labrador</th>\n",
       "      <td>-1.150779e+00</td>\n",
       "      <td>0.385124</td>\n",
       "      <td>0.428076</td>\n",
       "      <td>9.507874e-02</td>\n",
       "      <td>-0.041990</td>\n",
       "    </tr>\n",
       "  </tbody>\n",
       "</table>\n",
       "</div>"
      ],
      "text/plain": [
       "                    Dim.1     Dim.2     Dim.3         Dim.4     Dim.5\n",
       "Chien                                                                \n",
       "Beauceron    8.719576e-15 -1.279924 -0.153220 -6.219819e-17 -0.070598\n",
       "Basset       1.150779e+00  0.799057  0.023258 -9.507874e-02 -0.372484\n",
       "Berger All   8.133229e-15 -1.279924 -0.153220  2.064286e-16 -0.070598\n",
       "Boxer       -1.150779e+00  0.385124  0.428076  9.507874e-02 -0.041990\n",
       "Bull-Dog     4.284137e-01  0.509675 -0.702933  5.107897e-01  0.154577\n",
       "Bull-Mastif  1.150779e+00 -0.028809  0.832894 -9.507874e-02  0.288504\n",
       "Caniche     -4.284137e-01  0.509675 -0.702933 -5.107897e-01  0.154577\n",
       "Labrador    -1.150779e+00  0.385124  0.428076  9.507874e-02 -0.041990"
      ]
     },
     "metadata": {},
     "output_type": "display_data"
    }
   ],
   "source": [
    "row_coord = row[\"coord\"]\n",
    "display(row_coord)"
   ]
  },
  {
   "cell_type": "code",
   "execution_count": 55,
   "metadata": {},
   "outputs": [
    {
     "name": "stdout",
     "output_type": "stream",
     "text": [
      "dict_keys(['coord', 'corrected_coord', 'cos2', 'contrib', 'vtest', 'infos'])\n"
     ]
    }
   ],
   "source": [
    "mod = get_mca_mod(my_mca)\n",
    "print(mod.keys())"
   ]
  },
  {
   "cell_type": "code",
   "execution_count": 56,
   "metadata": {},
   "outputs": [
    {
     "name": "stdout",
     "output_type": "stream",
     "text": [
      "                    d(k,G)      p(k)    I(k,G)\n",
      "Taille_Taill-     1.290994  0.125000  0.208333\n",
      "Taille_Taille+    1.732051  0.083333  0.250000\n",
      "Taille_Taille++   1.290994  0.125000  0.208333\n",
      "Velocite_Velo-    1.290994  0.125000  0.208333\n",
      "Velocite_Veloc+   1.290994  0.125000  0.208333\n",
      "Velocite_Veloc++  1.732051  0.083333  0.250000\n",
      "Affection_Affe-   1.732051  0.083333  0.250000\n",
      "Affection_Affec+  0.577350  0.250000  0.083333\n"
     ]
    }
   ],
   "source": [
    "mod_infos = mod[\"infos\"]\n",
    "print(mod_infos)"
   ]
  },
  {
   "cell_type": "code",
   "execution_count": 57,
   "metadata": {},
   "outputs": [
    {
     "name": "stdout",
     "output_type": "stream",
     "text": [
      "                         Dim.1     Dim.2     Dim.3         Dim.4     Dim.5\n",
      "Taille_Taill-     4.558738e-01  0.788128 -0.900396 -1.200054e-01 -0.112184\n",
      "Taille_Taille+   -1.367621e+00  0.500758  0.836329  3.600163e-01 -0.223148\n",
      "Taille_Taille++   4.558738e-01 -1.121966  0.342844 -1.200054e-01  0.260949\n",
      "Velocite_Velo-    1.081461e+00  0.554740  0.099781  4.046921e-01  0.125062\n",
      "Velocite_Veloc+  -1.081461e+00  0.554740  0.099781 -4.046921e-01  0.125062\n",
      "Velocite_Veloc++  1.122634e-14 -1.664220 -0.299344  5.855604e-16 -0.375185\n",
      "Affection_Affe-   1.367621e+00  0.500758  0.836329 -3.600163e-01 -0.223148\n",
      "Affection_Affec+ -4.558738e-01 -0.166919 -0.278776  1.200054e-01  0.074383\n"
     ]
    }
   ],
   "source": [
    "mod_coord = mod[\"coord\"]\n",
    "print(mod_coord)"
   ]
  },
  {
   "cell_type": "code",
   "execution_count": 58,
   "metadata": {},
   "outputs": [
    {
     "data": {
      "text/html": [
       "<div>\n",
       "<style scoped>\n",
       "    .dataframe tbody tr th:only-of-type {\n",
       "        vertical-align: middle;\n",
       "    }\n",
       "\n",
       "    .dataframe tbody tr th {\n",
       "        vertical-align: top;\n",
       "    }\n",
       "\n",
       "    .dataframe thead th {\n",
       "        text-align: right;\n",
       "    }\n",
       "</style>\n",
       "<table border=\"1\" class=\"dataframe\">\n",
       "  <thead>\n",
       "    <tr style=\"text-align: right;\">\n",
       "      <th></th>\n",
       "      <th>d(i,G)</th>\n",
       "      <th>p(i)</th>\n",
       "      <th>I(i,G)</th>\n",
       "    </tr>\n",
       "    <tr>\n",
       "      <th>Chien</th>\n",
       "      <th></th>\n",
       "      <th></th>\n",
       "      <th></th>\n",
       "    </tr>\n",
       "  </thead>\n",
       "  <tbody>\n",
       "    <tr>\n",
       "      <th>Beauceron</th>\n",
       "      <td>1.290994</td>\n",
       "      <td>0.125</td>\n",
       "      <td>0.208333</td>\n",
       "    </tr>\n",
       "    <tr>\n",
       "      <th>Basset</th>\n",
       "      <td>1.452966</td>\n",
       "      <td>0.125</td>\n",
       "      <td>0.263889</td>\n",
       "    </tr>\n",
       "    <tr>\n",
       "      <th>Berger All</th>\n",
       "      <td>1.290994</td>\n",
       "      <td>0.125</td>\n",
       "      <td>0.208333</td>\n",
       "    </tr>\n",
       "    <tr>\n",
       "      <th>Boxer</th>\n",
       "      <td>1.290994</td>\n",
       "      <td>0.125</td>\n",
       "      <td>0.208333</td>\n",
       "    </tr>\n",
       "    <tr>\n",
       "      <th>Bull-Dog</th>\n",
       "      <td>1.105542</td>\n",
       "      <td>0.125</td>\n",
       "      <td>0.152778</td>\n",
       "    </tr>\n",
       "    <tr>\n",
       "      <th>Bull-Mastif</th>\n",
       "      <td>1.452966</td>\n",
       "      <td>0.125</td>\n",
       "      <td>0.263889</td>\n",
       "    </tr>\n",
       "    <tr>\n",
       "      <th>Caniche</th>\n",
       "      <td>1.105542</td>\n",
       "      <td>0.125</td>\n",
       "      <td>0.152778</td>\n",
       "    </tr>\n",
       "    <tr>\n",
       "      <th>Labrador</th>\n",
       "      <td>1.290994</td>\n",
       "      <td>0.125</td>\n",
       "      <td>0.208333</td>\n",
       "    </tr>\n",
       "  </tbody>\n",
       "</table>\n",
       "</div>"
      ],
      "text/plain": [
       "               d(i,G)   p(i)    I(i,G)\n",
       "Chien                                 \n",
       "Beauceron    1.290994  0.125  0.208333\n",
       "Basset       1.452966  0.125  0.263889\n",
       "Berger All   1.290994  0.125  0.208333\n",
       "Boxer        1.290994  0.125  0.208333\n",
       "Bull-Dog     1.105542  0.125  0.152778\n",
       "Bull-Mastif  1.452966  0.125  0.263889\n",
       "Caniche      1.105542  0.125  0.152778\n",
       "Labrador     1.290994  0.125  0.208333"
      ]
     },
     "execution_count": 58,
     "metadata": {},
     "output_type": "execute_result"
    }
   ],
   "source": [
    "row[\"infos\"]"
   ]
  },
  {
   "cell_type": "code",
   "execution_count": 59,
   "metadata": {},
   "outputs": [
    {
     "data": {
      "text/plain": [
       "1.6666666666666665"
      ]
     },
     "execution_count": 59,
     "metadata": {},
     "output_type": "execute_result"
    }
   ],
   "source": [
    "my_mca3.inertia_"
   ]
  },
  {
   "attachments": {},
   "cell_type": "markdown",
   "metadata": {},
   "source": [
    "### ACM sur données"
   ]
  },
  {
   "cell_type": "code",
   "execution_count": 60,
   "metadata": {},
   "outputs": [
    {
     "data": {
      "text/html": [
       "<div>\n",
       "<style scoped>\n",
       "    .dataframe tbody tr th:only-of-type {\n",
       "        vertical-align: middle;\n",
       "    }\n",
       "\n",
       "    .dataframe tbody tr th {\n",
       "        vertical-align: top;\n",
       "    }\n",
       "\n",
       "    .dataframe thead th {\n",
       "        text-align: right;\n",
       "    }\n",
       "</style>\n",
       "<table border=\"1\" class=\"dataframe\">\n",
       "  <thead>\n",
       "    <tr style=\"text-align: right;\">\n",
       "      <th></th>\n",
       "      <th>Origin</th>\n",
       "      <th>Size</th>\n",
       "      <th>Type</th>\n",
       "      <th>Home</th>\n",
       "      <th>Income</th>\n",
       "      <th>Marital</th>\n",
       "      <th>Sex</th>\n",
       "    </tr>\n",
       "  </thead>\n",
       "  <tbody>\n",
       "    <tr>\n",
       "      <th>0</th>\n",
       "      <td>American</td>\n",
       "      <td>Large</td>\n",
       "      <td>Family</td>\n",
       "      <td>Own</td>\n",
       "      <td>1_Income</td>\n",
       "      <td>Married_With_Kids</td>\n",
       "      <td>Male</td>\n",
       "    </tr>\n",
       "    <tr>\n",
       "      <th>1</th>\n",
       "      <td>Japanese</td>\n",
       "      <td>Small</td>\n",
       "      <td>Sporty</td>\n",
       "      <td>Own</td>\n",
       "      <td>1_Income</td>\n",
       "      <td>Single</td>\n",
       "      <td>Male</td>\n",
       "    </tr>\n",
       "    <tr>\n",
       "      <th>2</th>\n",
       "      <td>Japanese</td>\n",
       "      <td>Small</td>\n",
       "      <td>Family</td>\n",
       "      <td>Own</td>\n",
       "      <td>2_Incomes</td>\n",
       "      <td>Married</td>\n",
       "      <td>Male</td>\n",
       "    </tr>\n",
       "    <tr>\n",
       "      <th>3</th>\n",
       "      <td>American</td>\n",
       "      <td>Large</td>\n",
       "      <td>Family</td>\n",
       "      <td>Rent</td>\n",
       "      <td>1_Income</td>\n",
       "      <td>Single</td>\n",
       "      <td>Male</td>\n",
       "    </tr>\n",
       "    <tr>\n",
       "      <th>4</th>\n",
       "      <td>American</td>\n",
       "      <td>Medium</td>\n",
       "      <td>Family</td>\n",
       "      <td>Own</td>\n",
       "      <td>2_Incomes</td>\n",
       "      <td>Married_With_Kids</td>\n",
       "      <td>Male</td>\n",
       "    </tr>\n",
       "    <tr>\n",
       "      <th>...</th>\n",
       "      <td>...</td>\n",
       "      <td>...</td>\n",
       "      <td>...</td>\n",
       "      <td>...</td>\n",
       "      <td>...</td>\n",
       "      <td>...</td>\n",
       "      <td>...</td>\n",
       "    </tr>\n",
       "    <tr>\n",
       "      <th>329</th>\n",
       "      <td>American</td>\n",
       "      <td>Medium</td>\n",
       "      <td>Family</td>\n",
       "      <td>Own</td>\n",
       "      <td>1_Income</td>\n",
       "      <td>Married_With_Kids</td>\n",
       "      <td>Male</td>\n",
       "    </tr>\n",
       "    <tr>\n",
       "      <th>330</th>\n",
       "      <td>European</td>\n",
       "      <td>Small</td>\n",
       "      <td>Sporty</td>\n",
       "      <td>Rent</td>\n",
       "      <td>1_Income</td>\n",
       "      <td>Single</td>\n",
       "      <td>Male</td>\n",
       "    </tr>\n",
       "    <tr>\n",
       "      <th>331</th>\n",
       "      <td>American</td>\n",
       "      <td>Medium</td>\n",
       "      <td>Family</td>\n",
       "      <td>Rent</td>\n",
       "      <td>1_Income</td>\n",
       "      <td>Single</td>\n",
       "      <td>Female</td>\n",
       "    </tr>\n",
       "    <tr>\n",
       "      <th>332</th>\n",
       "      <td>Japanese</td>\n",
       "      <td>Medium</td>\n",
       "      <td>Family</td>\n",
       "      <td>Rent</td>\n",
       "      <td>2_Incomes</td>\n",
       "      <td>Married</td>\n",
       "      <td>Female</td>\n",
       "    </tr>\n",
       "    <tr>\n",
       "      <th>333</th>\n",
       "      <td>American</td>\n",
       "      <td>Medium</td>\n",
       "      <td>Family</td>\n",
       "      <td>Rent</td>\n",
       "      <td>1_Income</td>\n",
       "      <td>Single</td>\n",
       "      <td>Male</td>\n",
       "    </tr>\n",
       "  </tbody>\n",
       "</table>\n",
       "<p>334 rows × 7 columns</p>\n",
       "</div>"
      ],
      "text/plain": [
       "       Origin    Size    Type  Home     Income            Marital     Sex\n",
       "0    American   Large  Family   Own   1_Income  Married_With_Kids    Male\n",
       "1    Japanese   Small  Sporty   Own   1_Income             Single    Male\n",
       "2    Japanese   Small  Family   Own  2_Incomes            Married    Male\n",
       "3    American   Large  Family  Rent   1_Income             Single    Male\n",
       "4    American  Medium  Family   Own  2_Incomes  Married_With_Kids    Male\n",
       "..        ...     ...     ...   ...        ...                ...     ...\n",
       "329  American  Medium  Family   Own   1_Income  Married_With_Kids    Male\n",
       "330  European   Small  Sporty  Rent   1_Income             Single    Male\n",
       "331  American  Medium  Family  Rent   1_Income             Single  Female\n",
       "332  Japanese  Medium  Family  Rent  2_Incomes            Married  Female\n",
       "333  American  Medium  Family  Rent   1_Income             Single    Male\n",
       "\n",
       "[334 rows x 7 columns]"
      ]
     },
     "metadata": {},
     "output_type": "display_data"
    }
   ],
   "source": [
    "D = pd.read_excel(\"Data_Methodes_Factorielles.xlsx\",sheet_name=\"ACM_CARS\",index_col=None)\n",
    "display(D)"
   ]
  },
  {
   "cell_type": "code",
   "execution_count": 61,
   "metadata": {},
   "outputs": [
    {
     "data": {
      "text/html": [
       "<style>#sk-container-id-4 {color: black;background-color: white;}#sk-container-id-4 pre{padding: 0;}#sk-container-id-4 div.sk-toggleable {background-color: white;}#sk-container-id-4 label.sk-toggleable__label {cursor: pointer;display: block;width: 100%;margin-bottom: 0;padding: 0.3em;box-sizing: border-box;text-align: center;}#sk-container-id-4 label.sk-toggleable__label-arrow:before {content: \"▸\";float: left;margin-right: 0.25em;color: #696969;}#sk-container-id-4 label.sk-toggleable__label-arrow:hover:before {color: black;}#sk-container-id-4 div.sk-estimator:hover label.sk-toggleable__label-arrow:before {color: black;}#sk-container-id-4 div.sk-toggleable__content {max-height: 0;max-width: 0;overflow: hidden;text-align: left;background-color: #f0f8ff;}#sk-container-id-4 div.sk-toggleable__content pre {margin: 0.2em;color: black;border-radius: 0.25em;background-color: #f0f8ff;}#sk-container-id-4 input.sk-toggleable__control:checked~div.sk-toggleable__content {max-height: 200px;max-width: 100%;overflow: auto;}#sk-container-id-4 input.sk-toggleable__control:checked~label.sk-toggleable__label-arrow:before {content: \"▾\";}#sk-container-id-4 div.sk-estimator input.sk-toggleable__control:checked~label.sk-toggleable__label {background-color: #d4ebff;}#sk-container-id-4 div.sk-label input.sk-toggleable__control:checked~label.sk-toggleable__label {background-color: #d4ebff;}#sk-container-id-4 input.sk-hidden--visually {border: 0;clip: rect(1px 1px 1px 1px);clip: rect(1px, 1px, 1px, 1px);height: 1px;margin: -1px;overflow: hidden;padding: 0;position: absolute;width: 1px;}#sk-container-id-4 div.sk-estimator {font-family: monospace;background-color: #f0f8ff;border: 1px dotted black;border-radius: 0.25em;box-sizing: border-box;margin-bottom: 0.5em;}#sk-container-id-4 div.sk-estimator:hover {background-color: #d4ebff;}#sk-container-id-4 div.sk-parallel-item::after {content: \"\";width: 100%;border-bottom: 1px solid gray;flex-grow: 1;}#sk-container-id-4 div.sk-label:hover label.sk-toggleable__label {background-color: #d4ebff;}#sk-container-id-4 div.sk-serial::before {content: \"\";position: absolute;border-left: 1px solid gray;box-sizing: border-box;top: 0;bottom: 0;left: 50%;z-index: 0;}#sk-container-id-4 div.sk-serial {display: flex;flex-direction: column;align-items: center;background-color: white;padding-right: 0.2em;padding-left: 0.2em;position: relative;}#sk-container-id-4 div.sk-item {position: relative;z-index: 1;}#sk-container-id-4 div.sk-parallel {display: flex;align-items: stretch;justify-content: center;background-color: white;position: relative;}#sk-container-id-4 div.sk-item::before, #sk-container-id-4 div.sk-parallel-item::before {content: \"\";position: absolute;border-left: 1px solid gray;box-sizing: border-box;top: 0;bottom: 0;left: 50%;z-index: -1;}#sk-container-id-4 div.sk-parallel-item {display: flex;flex-direction: column;z-index: 1;position: relative;background-color: white;}#sk-container-id-4 div.sk-parallel-item:first-child::after {align-self: flex-end;width: 50%;}#sk-container-id-4 div.sk-parallel-item:last-child::after {align-self: flex-start;width: 50%;}#sk-container-id-4 div.sk-parallel-item:only-child::after {width: 0;}#sk-container-id-4 div.sk-dashed-wrapped {border: 1px dashed gray;margin: 0 0.4em 0.5em 0.4em;box-sizing: border-box;padding-bottom: 0.4em;background-color: white;}#sk-container-id-4 div.sk-label label {font-family: monospace;font-weight: bold;display: inline-block;line-height: 1.2em;}#sk-container-id-4 div.sk-label-container {text-align: center;}#sk-container-id-4 div.sk-container {/* jupyter's `normalize.less` sets `[hidden] { display: none; }` but bootstrap.min.css set `[hidden] { display: none !important; }` so we also need the `!important` here to be able to override the default hidden behavior on the sphinx rendered scikit-learn.org. See: https://github.com/scikit-learn/scikit-learn/issues/21755 */display: inline-block !important;position: relative;}#sk-container-id-4 div.sk-text-repr-fallback {display: none;}</style><div id=\"sk-container-id-4\" class=\"sk-top-container\"><div class=\"sk-text-repr-fallback\"><pre>MCA(parallelize=True,\n",
       "    var_labels=Index([&#x27;Origin&#x27;, &#x27;Size&#x27;, &#x27;Type&#x27;, &#x27;Home&#x27;, &#x27;Income&#x27;, &#x27;Marital&#x27;, &#x27;Sex&#x27;], dtype=&#x27;object&#x27;))</pre><b>In a Jupyter environment, please rerun this cell to show the HTML representation or trust the notebook. <br />On GitHub, the HTML representation is unable to render, please try loading this page with nbviewer.org.</b></div><div class=\"sk-container\" hidden><div class=\"sk-item\"><div class=\"sk-estimator sk-toggleable\"><input class=\"sk-toggleable__control sk-hidden--visually\" id=\"sk-estimator-id-4\" type=\"checkbox\" checked><label for=\"sk-estimator-id-4\" class=\"sk-toggleable__label sk-toggleable__label-arrow\">MCA</label><div class=\"sk-toggleable__content\"><pre>MCA(parallelize=True,\n",
       "    var_labels=Index([&#x27;Origin&#x27;, &#x27;Size&#x27;, &#x27;Type&#x27;, &#x27;Home&#x27;, &#x27;Income&#x27;, &#x27;Marital&#x27;, &#x27;Sex&#x27;], dtype=&#x27;object&#x27;))</pre></div></div></div></div></div>"
      ],
      "text/plain": [
       "MCA(parallelize=True,\n",
       "    var_labels=Index(['Origin', 'Size', 'Type', 'Home', 'Income', 'Marital', 'Sex'], dtype='object'))"
      ]
     },
     "execution_count": 61,
     "metadata": {},
     "output_type": "execute_result"
    }
   ],
   "source": [
    "my_mca4 = MCA(n_components=None,\n",
    "             row_labels=None,\n",
    "             var_labels=D.columns,\n",
    "             mod_labels=None,\n",
    "             matrix_type=\"completed\",\n",
    "             benzecri=True,\n",
    "             greenacre=True,\n",
    "             row_sup_labels=None,\n",
    "             quali_sup_labels=None,\n",
    "             quanti_sup_labels=None,\n",
    "             parallelize=True)\n",
    "my_mca4.fit(D)"
   ]
  },
  {
   "cell_type": "code",
   "execution_count": 62,
   "metadata": {},
   "outputs": [
    {
     "data": {
      "text/html": [
       "<div>\n",
       "<style scoped>\n",
       "    .dataframe tbody tr th:only-of-type {\n",
       "        vertical-align: middle;\n",
       "    }\n",
       "\n",
       "    .dataframe tbody tr th {\n",
       "        vertical-align: top;\n",
       "    }\n",
       "\n",
       "    .dataframe thead th {\n",
       "        text-align: right;\n",
       "    }\n",
       "</style>\n",
       "<table border=\"1\" class=\"dataframe\">\n",
       "  <thead>\n",
       "    <tr style=\"text-align: right;\">\n",
       "      <th></th>\n",
       "      <th>Dim.1</th>\n",
       "      <th>Dim.2</th>\n",
       "      <th>Dim.3</th>\n",
       "      <th>Dim.4</th>\n",
       "      <th>Dim.5</th>\n",
       "      <th>Dim.6</th>\n",
       "      <th>Dim.7</th>\n",
       "      <th>Dim.8</th>\n",
       "      <th>Dim.9</th>\n",
       "      <th>Dim.10</th>\n",
       "      <th>Dim.11</th>\n",
       "      <th>Dim.12</th>\n",
       "    </tr>\n",
       "  </thead>\n",
       "  <tbody>\n",
       "    <tr>\n",
       "      <th>row_1</th>\n",
       "      <td>-0.409260</td>\n",
       "      <td>1.087816</td>\n",
       "      <td>0.502596</td>\n",
       "      <td>0.031782</td>\n",
       "      <td>0.054829</td>\n",
       "      <td>0.021965</td>\n",
       "      <td>-0.423248</td>\n",
       "      <td>0.111268</td>\n",
       "      <td>-0.184520</td>\n",
       "      <td>-0.195959</td>\n",
       "      <td>0.090873</td>\n",
       "      <td>-0.350352</td>\n",
       "    </tr>\n",
       "    <tr>\n",
       "      <th>row_2</th>\n",
       "      <td>0.819813</td>\n",
       "      <td>-0.222057</td>\n",
       "      <td>0.378136</td>\n",
       "      <td>0.097232</td>\n",
       "      <td>-0.210917</td>\n",
       "      <td>-0.050534</td>\n",
       "      <td>-0.194576</td>\n",
       "      <td>-0.163099</td>\n",
       "      <td>-0.443573</td>\n",
       "      <td>-0.223460</td>\n",
       "      <td>-0.184660</td>\n",
       "      <td>0.009356</td>\n",
       "    </tr>\n",
       "    <tr>\n",
       "      <th>row_3</th>\n",
       "      <td>-0.219293</td>\n",
       "      <td>-0.532847</td>\n",
       "      <td>0.159535</td>\n",
       "      <td>-0.321312</td>\n",
       "      <td>0.094489</td>\n",
       "      <td>-0.411387</td>\n",
       "      <td>-0.267053</td>\n",
       "      <td>0.469523</td>\n",
       "      <td>-0.037934</td>\n",
       "      <td>-0.198146</td>\n",
       "      <td>-0.294807</td>\n",
       "      <td>0.089143</td>\n",
       "    </tr>\n",
       "    <tr>\n",
       "      <th>row_4</th>\n",
       "      <td>0.438170</td>\n",
       "      <td>1.179864</td>\n",
       "      <td>0.212335</td>\n",
       "      <td>-0.009725</td>\n",
       "      <td>0.631115</td>\n",
       "      <td>-0.052913</td>\n",
       "      <td>-0.346335</td>\n",
       "      <td>0.099503</td>\n",
       "      <td>0.237225</td>\n",
       "      <td>-0.235357</td>\n",
       "      <td>0.174826</td>\n",
       "      <td>0.148118</td>\n",
       "    </tr>\n",
       "    <tr>\n",
       "      <th>row_5</th>\n",
       "      <td>-0.675013</td>\n",
       "      <td>0.360023</td>\n",
       "      <td>0.094197</td>\n",
       "      <td>0.300440</td>\n",
       "      <td>-0.174056</td>\n",
       "      <td>-0.455086</td>\n",
       "      <td>0.175224</td>\n",
       "      <td>0.083313</td>\n",
       "      <td>-0.200503</td>\n",
       "      <td>0.333626</td>\n",
       "      <td>0.024802</td>\n",
       "      <td>0.186857</td>\n",
       "    </tr>\n",
       "    <tr>\n",
       "      <th>...</th>\n",
       "      <td>...</td>\n",
       "      <td>...</td>\n",
       "      <td>...</td>\n",
       "      <td>...</td>\n",
       "      <td>...</td>\n",
       "      <td>...</td>\n",
       "      <td>...</td>\n",
       "      <td>...</td>\n",
       "      <td>...</td>\n",
       "      <td>...</td>\n",
       "      <td>...</td>\n",
       "      <td>...</td>\n",
       "    </tr>\n",
       "    <tr>\n",
       "      <th>row_330</th>\n",
       "      <td>-0.299198</td>\n",
       "      <td>0.653484</td>\n",
       "      <td>0.060390</td>\n",
       "      <td>0.356178</td>\n",
       "      <td>-0.276979</td>\n",
       "      <td>-0.387739</td>\n",
       "      <td>0.185855</td>\n",
       "      <td>0.092270</td>\n",
       "      <td>-0.233454</td>\n",
       "      <td>0.277040</td>\n",
       "      <td>-0.220596</td>\n",
       "      <td>-0.328872</td>\n",
       "    </tr>\n",
       "    <tr>\n",
       "      <th>row_331</th>\n",
       "      <td>1.079145</td>\n",
       "      <td>-0.146768</td>\n",
       "      <td>0.315051</td>\n",
       "      <td>0.671786</td>\n",
       "      <td>0.101091</td>\n",
       "      <td>0.494923</td>\n",
       "      <td>-0.160106</td>\n",
       "      <td>0.355531</td>\n",
       "      <td>0.338013</td>\n",
       "      <td>0.308607</td>\n",
       "      <td>0.163998</td>\n",
       "      <td>0.051868</td>\n",
       "    </tr>\n",
       "    <tr>\n",
       "      <th>row_332</th>\n",
       "      <td>0.395790</td>\n",
       "      <td>0.635826</td>\n",
       "      <td>-0.616444</td>\n",
       "      <td>0.256948</td>\n",
       "      <td>0.331487</td>\n",
       "      <td>-0.168027</td>\n",
       "      <td>0.154077</td>\n",
       "      <td>-0.393885</td>\n",
       "      <td>0.406622</td>\n",
       "      <td>0.228646</td>\n",
       "      <td>-0.209832</td>\n",
       "      <td>0.058620</td>\n",
       "    </tr>\n",
       "    <tr>\n",
       "      <th>row_333</th>\n",
       "      <td>-0.190472</td>\n",
       "      <td>-0.357573</td>\n",
       "      <td>-0.704083</td>\n",
       "      <td>-0.142953</td>\n",
       "      <td>0.417358</td>\n",
       "      <td>-0.445398</td>\n",
       "      <td>0.121835</td>\n",
       "      <td>0.024817</td>\n",
       "      <td>0.557904</td>\n",
       "      <td>-0.151337</td>\n",
       "      <td>0.250232</td>\n",
       "      <td>-0.085366</td>\n",
       "    </tr>\n",
       "    <tr>\n",
       "      <th>row_334</th>\n",
       "      <td>0.548232</td>\n",
       "      <td>0.745532</td>\n",
       "      <td>-0.229871</td>\n",
       "      <td>0.314670</td>\n",
       "      <td>0.299307</td>\n",
       "      <td>-0.462617</td>\n",
       "      <td>0.262768</td>\n",
       "      <td>0.080504</td>\n",
       "      <td>0.188291</td>\n",
       "      <td>0.237642</td>\n",
       "      <td>-0.136643</td>\n",
       "      <td>0.169598</td>\n",
       "    </tr>\n",
       "  </tbody>\n",
       "</table>\n",
       "<p>334 rows × 12 columns</p>\n",
       "</div>"
      ],
      "text/plain": [
       "            Dim.1     Dim.2     Dim.3     Dim.4     Dim.5     Dim.6     Dim.7  \\\n",
       "row_1   -0.409260  1.087816  0.502596  0.031782  0.054829  0.021965 -0.423248   \n",
       "row_2    0.819813 -0.222057  0.378136  0.097232 -0.210917 -0.050534 -0.194576   \n",
       "row_3   -0.219293 -0.532847  0.159535 -0.321312  0.094489 -0.411387 -0.267053   \n",
       "row_4    0.438170  1.179864  0.212335 -0.009725  0.631115 -0.052913 -0.346335   \n",
       "row_5   -0.675013  0.360023  0.094197  0.300440 -0.174056 -0.455086  0.175224   \n",
       "...           ...       ...       ...       ...       ...       ...       ...   \n",
       "row_330 -0.299198  0.653484  0.060390  0.356178 -0.276979 -0.387739  0.185855   \n",
       "row_331  1.079145 -0.146768  0.315051  0.671786  0.101091  0.494923 -0.160106   \n",
       "row_332  0.395790  0.635826 -0.616444  0.256948  0.331487 -0.168027  0.154077   \n",
       "row_333 -0.190472 -0.357573 -0.704083 -0.142953  0.417358 -0.445398  0.121835   \n",
       "row_334  0.548232  0.745532 -0.229871  0.314670  0.299307 -0.462617  0.262768   \n",
       "\n",
       "            Dim.8     Dim.9    Dim.10    Dim.11    Dim.12  \n",
       "row_1    0.111268 -0.184520 -0.195959  0.090873 -0.350352  \n",
       "row_2   -0.163099 -0.443573 -0.223460 -0.184660  0.009356  \n",
       "row_3    0.469523 -0.037934 -0.198146 -0.294807  0.089143  \n",
       "row_4    0.099503  0.237225 -0.235357  0.174826  0.148118  \n",
       "row_5    0.083313 -0.200503  0.333626  0.024802  0.186857  \n",
       "...           ...       ...       ...       ...       ...  \n",
       "row_330  0.092270 -0.233454  0.277040 -0.220596 -0.328872  \n",
       "row_331  0.355531  0.338013  0.308607  0.163998  0.051868  \n",
       "row_332 -0.393885  0.406622  0.228646 -0.209832  0.058620  \n",
       "row_333  0.024817  0.557904 -0.151337  0.250232 -0.085366  \n",
       "row_334  0.080504  0.188291  0.237642 -0.136643  0.169598  \n",
       "\n",
       "[334 rows x 12 columns]"
      ]
     },
     "metadata": {},
     "output_type": "display_data"
    }
   ],
   "source": [
    "row3 = get_mca_ind(my_mca4)\n",
    "display(row3[\"coord\"])"
   ]
  },
  {
   "cell_type": "code",
   "execution_count": 63,
   "metadata": {},
   "outputs": [
    {
     "data": {
      "text/html": [
       "<div>\n",
       "<style scoped>\n",
       "    .dataframe tbody tr th:only-of-type {\n",
       "        vertical-align: middle;\n",
       "    }\n",
       "\n",
       "    .dataframe tbody tr th {\n",
       "        vertical-align: top;\n",
       "    }\n",
       "\n",
       "    .dataframe thead th {\n",
       "        text-align: right;\n",
       "    }\n",
       "</style>\n",
       "<table border=\"1\" class=\"dataframe\">\n",
       "  <thead>\n",
       "    <tr style=\"text-align: right;\">\n",
       "      <th></th>\n",
       "      <th>Dim.1</th>\n",
       "      <th>Dim.2</th>\n",
       "      <th>Dim.3</th>\n",
       "      <th>Dim.4</th>\n",
       "      <th>Dim.5</th>\n",
       "      <th>Dim.6</th>\n",
       "      <th>Dim.7</th>\n",
       "      <th>Dim.8</th>\n",
       "      <th>Dim.9</th>\n",
       "      <th>Dim.10</th>\n",
       "      <th>Dim.11</th>\n",
       "      <th>Dim.12</th>\n",
       "    </tr>\n",
       "  </thead>\n",
       "  <tbody>\n",
       "    <tr>\n",
       "      <th>Origin_American</th>\n",
       "      <td>-0.403473</td>\n",
       "      <td>0.812864</td>\n",
       "      <td>-0.043983</td>\n",
       "      <td>-0.010940</td>\n",
       "      <td>0.580578</td>\n",
       "      <td>0.041380</td>\n",
       "      <td>0.054838</td>\n",
       "      <td>-0.168933</td>\n",
       "      <td>-0.384468</td>\n",
       "      <td>0.531181</td>\n",
       "      <td>-0.202130</td>\n",
       "      <td>0.072482</td>\n",
       "    </tr>\n",
       "    <tr>\n",
       "      <th>Origin_European</th>\n",
       "      <td>-0.056844</td>\n",
       "      <td>-0.555184</td>\n",
       "      <td>0.388053</td>\n",
       "      <td>1.527663</td>\n",
       "      <td>-0.231008</td>\n",
       "      <td>1.461025</td>\n",
       "      <td>0.097540</td>\n",
       "      <td>0.877352</td>\n",
       "      <td>0.908300</td>\n",
       "      <td>0.051970</td>\n",
       "      <td>0.003363</td>\n",
       "      <td>0.013056</td>\n",
       "    </tr>\n",
       "    <tr>\n",
       "      <th>Origin_Japanese</th>\n",
       "      <td>0.320820</td>\n",
       "      <td>-0.467757</td>\n",
       "      <td>-0.070160</td>\n",
       "      <td>-0.399089</td>\n",
       "      <td>-0.378230</td>\n",
       "      <td>-0.420955</td>\n",
       "      <td>-0.067555</td>\n",
       "      <td>-0.105981</td>\n",
       "      <td>0.049050</td>\n",
       "      <td>-0.416269</td>\n",
       "      <td>0.152232</td>\n",
       "      <td>-0.058392</td>\n",
       "    </tr>\n",
       "    <tr>\n",
       "      <th>Size_Large</th>\n",
       "      <td>-0.694886</td>\n",
       "      <td>1.566557</td>\n",
       "      <td>0.803534</td>\n",
       "      <td>-0.388621</td>\n",
       "      <td>0.827714</td>\n",
       "      <td>0.751141</td>\n",
       "      <td>-0.695938</td>\n",
       "      <td>-0.027451</td>\n",
       "      <td>0.079815</td>\n",
       "      <td>-1.023859</td>\n",
       "      <td>0.653254</td>\n",
       "      <td>-0.053992</td>\n",
       "    </tr>\n",
       "    <tr>\n",
       "      <th>Size_Medium</th>\n",
       "      <td>-0.256244</td>\n",
       "      <td>0.096485</td>\n",
       "      <td>-0.518716</td>\n",
       "      <td>0.547285</td>\n",
       "      <td>-0.072848</td>\n",
       "      <td>-0.353571</td>\n",
       "      <td>0.756561</td>\n",
       "      <td>-0.071313</td>\n",
       "      <td>-0.028141</td>\n",
       "      <td>-0.094503</td>\n",
       "      <td>0.083883</td>\n",
       "      <td>-0.026210</td>\n",
       "    </tr>\n",
       "    <tr>\n",
       "      <th>Size_Small</th>\n",
       "      <td>0.432554</td>\n",
       "      <td>-0.525826</td>\n",
       "      <td>0.260864</td>\n",
       "      <td>-0.402948</td>\n",
       "      <td>-0.162202</td>\n",
       "      <td>0.121229</td>\n",
       "      <td>-0.512886</td>\n",
       "      <td>0.074226</td>\n",
       "      <td>0.004077</td>\n",
       "      <td>0.373027</td>\n",
       "      <td>-0.260028</td>\n",
       "      <td>0.039492</td>\n",
       "    </tr>\n",
       "    <tr>\n",
       "      <th>Type_Family</th>\n",
       "      <td>-0.420123</td>\n",
       "      <td>0.360167</td>\n",
       "      <td>-0.290575</td>\n",
       "      <td>0.112489</td>\n",
       "      <td>-0.081478</td>\n",
       "      <td>-0.411697</td>\n",
       "      <td>-0.336657</td>\n",
       "      <td>0.223830</td>\n",
       "      <td>0.311031</td>\n",
       "      <td>-0.088327</td>\n",
       "      <td>-0.262606</td>\n",
       "      <td>0.056163</td>\n",
       "    </tr>\n",
       "    <tr>\n",
       "      <th>Type_Sporty</th>\n",
       "      <td>0.660357</td>\n",
       "      <td>-0.669622</td>\n",
       "      <td>0.127193</td>\n",
       "      <td>0.554426</td>\n",
       "      <td>0.281485</td>\n",
       "      <td>0.275736</td>\n",
       "      <td>-0.118319</td>\n",
       "      <td>-0.333016</td>\n",
       "      <td>-0.683643</td>\n",
       "      <td>0.062788</td>\n",
       "      <td>0.425389</td>\n",
       "      <td>-0.102381</td>\n",
       "    </tr>\n",
       "    <tr>\n",
       "      <th>Type_Work</th>\n",
       "      <td>0.057473</td>\n",
       "      <td>0.153905</td>\n",
       "      <td>0.686621</td>\n",
       "      <td>-1.450783</td>\n",
       "      <td>-0.290002</td>\n",
       "      <td>0.785320</td>\n",
       "      <td>1.317038</td>\n",
       "      <td>-0.067531</td>\n",
       "      <td>0.339755</td>\n",
       "      <td>0.161359</td>\n",
       "      <td>0.011151</td>\n",
       "      <td>0.020002</td>\n",
       "    </tr>\n",
       "    <tr>\n",
       "      <th>Home_Own</th>\n",
       "      <td>-0.388715</td>\n",
       "      <td>-0.094273</td>\n",
       "      <td>0.178173</td>\n",
       "      <td>0.074128</td>\n",
       "      <td>-0.192705</td>\n",
       "      <td>0.113272</td>\n",
       "      <td>0.022833</td>\n",
       "      <td>-0.058966</td>\n",
       "      <td>-0.238280</td>\n",
       "      <td>-0.158983</td>\n",
       "      <td>-0.216564</td>\n",
       "      <td>0.004536</td>\n",
       "    </tr>\n",
       "    <tr>\n",
       "      <th>Home_Rent</th>\n",
       "      <td>1.022491</td>\n",
       "      <td>0.247980</td>\n",
       "      <td>-0.468673</td>\n",
       "      <td>-0.194990</td>\n",
       "      <td>0.506897</td>\n",
       "      <td>-0.297955</td>\n",
       "      <td>-0.060061</td>\n",
       "      <td>0.155106</td>\n",
       "      <td>0.626780</td>\n",
       "      <td>0.418194</td>\n",
       "      <td>0.569657</td>\n",
       "      <td>-0.011930</td>\n",
       "    </tr>\n",
       "    <tr>\n",
       "      <th>Income_1_Income</th>\n",
       "      <td>0.825123</td>\n",
       "      <td>0.547191</td>\n",
       "      <td>-0.055688</td>\n",
       "      <td>0.088589</td>\n",
       "      <td>-0.153890</td>\n",
       "      <td>0.100039</td>\n",
       "      <td>0.013966</td>\n",
       "      <td>0.011392</td>\n",
       "      <td>-0.040048</td>\n",
       "      <td>-0.061250</td>\n",
       "      <td>-0.247129</td>\n",
       "      <td>-0.367463</td>\n",
       "    </tr>\n",
       "    <tr>\n",
       "      <th>Income_2_Incomes</th>\n",
       "      <td>-0.672654</td>\n",
       "      <td>-0.446080</td>\n",
       "      <td>0.045397</td>\n",
       "      <td>-0.072219</td>\n",
       "      <td>0.125454</td>\n",
       "      <td>-0.081554</td>\n",
       "      <td>-0.011385</td>\n",
       "      <td>-0.009287</td>\n",
       "      <td>0.032647</td>\n",
       "      <td>0.049932</td>\n",
       "      <td>0.201464</td>\n",
       "      <td>0.299562</td>\n",
       "    </tr>\n",
       "    <tr>\n",
       "      <th>Marital_Married</th>\n",
       "      <td>-0.416883</td>\n",
       "      <td>-0.795392</td>\n",
       "      <td>-0.162327</td>\n",
       "      <td>-0.313666</td>\n",
       "      <td>0.984578</td>\n",
       "      <td>-0.075192</td>\n",
       "      <td>0.153194</td>\n",
       "      <td>0.471600</td>\n",
       "      <td>-0.027335</td>\n",
       "      <td>-0.156586</td>\n",
       "      <td>-0.213096</td>\n",
       "      <td>-0.290097</td>\n",
       "    </tr>\n",
       "    <tr>\n",
       "      <th>Marital_Married_With_Kids</th>\n",
       "      <td>-0.820025</td>\n",
       "      <td>0.323750</td>\n",
       "      <td>0.395707</td>\n",
       "      <td>0.141758</td>\n",
       "      <td>-0.792442</td>\n",
       "      <td>-0.180556</td>\n",
       "      <td>-0.183969</td>\n",
       "      <td>-0.211585</td>\n",
       "      <td>0.079748</td>\n",
       "      <td>0.408329</td>\n",
       "      <td>0.381607</td>\n",
       "      <td>-0.228891</td>\n",
       "    </tr>\n",
       "    <tr>\n",
       "      <th>Marital_Single</th>\n",
       "      <td>1.146126</td>\n",
       "      <td>0.293049</td>\n",
       "      <td>0.174635</td>\n",
       "      <td>0.291124</td>\n",
       "      <td>0.072054</td>\n",
       "      <td>0.028773</td>\n",
       "      <td>0.082337</td>\n",
       "      <td>-0.452820</td>\n",
       "      <td>0.145126</td>\n",
       "      <td>-0.246257</td>\n",
       "      <td>-0.251147</td>\n",
       "      <td>0.432278</td>\n",
       "    </tr>\n",
       "    <tr>\n",
       "      <th>Marital_Single_With_Kids</th>\n",
       "      <td>0.437349</td>\n",
       "      <td>0.873572</td>\n",
       "      <td>-3.051482</td>\n",
       "      <td>-1.033588</td>\n",
       "      <td>-1.394669</td>\n",
       "      <td>1.609251</td>\n",
       "      <td>-0.292974</td>\n",
       "      <td>1.652576</td>\n",
       "      <td>-1.450023</td>\n",
       "      <td>-0.123374</td>\n",
       "      <td>0.486839</td>\n",
       "      <td>0.475379</td>\n",
       "    </tr>\n",
       "    <tr>\n",
       "      <th>Sex_Female</th>\n",
       "      <td>-0.336514</td>\n",
       "      <td>-0.205671</td>\n",
       "      <td>-0.640245</td>\n",
       "      <td>-0.092242</td>\n",
       "      <td>0.048378</td>\n",
       "      <td>0.439969</td>\n",
       "      <td>-0.143564</td>\n",
       "      <td>-0.606658</td>\n",
       "      <td>0.266796</td>\n",
       "      <td>-0.009790</td>\n",
       "      <td>-0.074106</td>\n",
       "      <td>-0.079503</td>\n",
       "    </tr>\n",
       "    <tr>\n",
       "      <th>Sex_Male</th>\n",
       "      <td>0.271030</td>\n",
       "      <td>0.165649</td>\n",
       "      <td>0.515657</td>\n",
       "      <td>0.074292</td>\n",
       "      <td>-0.038964</td>\n",
       "      <td>-0.354353</td>\n",
       "      <td>0.115627</td>\n",
       "      <td>0.488606</td>\n",
       "      <td>-0.214879</td>\n",
       "      <td>0.007885</td>\n",
       "      <td>0.059685</td>\n",
       "      <td>0.064032</td>\n",
       "    </tr>\n",
       "  </tbody>\n",
       "</table>\n",
       "</div>"
      ],
      "text/plain": [
       "                              Dim.1     Dim.2     Dim.3     Dim.4     Dim.5  \\\n",
       "Origin_American           -0.403473  0.812864 -0.043983 -0.010940  0.580578   \n",
       "Origin_European           -0.056844 -0.555184  0.388053  1.527663 -0.231008   \n",
       "Origin_Japanese            0.320820 -0.467757 -0.070160 -0.399089 -0.378230   \n",
       "Size_Large                -0.694886  1.566557  0.803534 -0.388621  0.827714   \n",
       "Size_Medium               -0.256244  0.096485 -0.518716  0.547285 -0.072848   \n",
       "Size_Small                 0.432554 -0.525826  0.260864 -0.402948 -0.162202   \n",
       "Type_Family               -0.420123  0.360167 -0.290575  0.112489 -0.081478   \n",
       "Type_Sporty                0.660357 -0.669622  0.127193  0.554426  0.281485   \n",
       "Type_Work                  0.057473  0.153905  0.686621 -1.450783 -0.290002   \n",
       "Home_Own                  -0.388715 -0.094273  0.178173  0.074128 -0.192705   \n",
       "Home_Rent                  1.022491  0.247980 -0.468673 -0.194990  0.506897   \n",
       "Income_1_Income            0.825123  0.547191 -0.055688  0.088589 -0.153890   \n",
       "Income_2_Incomes          -0.672654 -0.446080  0.045397 -0.072219  0.125454   \n",
       "Marital_Married           -0.416883 -0.795392 -0.162327 -0.313666  0.984578   \n",
       "Marital_Married_With_Kids -0.820025  0.323750  0.395707  0.141758 -0.792442   \n",
       "Marital_Single             1.146126  0.293049  0.174635  0.291124  0.072054   \n",
       "Marital_Single_With_Kids   0.437349  0.873572 -3.051482 -1.033588 -1.394669   \n",
       "Sex_Female                -0.336514 -0.205671 -0.640245 -0.092242  0.048378   \n",
       "Sex_Male                   0.271030  0.165649  0.515657  0.074292 -0.038964   \n",
       "\n",
       "                              Dim.6     Dim.7     Dim.8     Dim.9    Dim.10  \\\n",
       "Origin_American            0.041380  0.054838 -0.168933 -0.384468  0.531181   \n",
       "Origin_European            1.461025  0.097540  0.877352  0.908300  0.051970   \n",
       "Origin_Japanese           -0.420955 -0.067555 -0.105981  0.049050 -0.416269   \n",
       "Size_Large                 0.751141 -0.695938 -0.027451  0.079815 -1.023859   \n",
       "Size_Medium               -0.353571  0.756561 -0.071313 -0.028141 -0.094503   \n",
       "Size_Small                 0.121229 -0.512886  0.074226  0.004077  0.373027   \n",
       "Type_Family               -0.411697 -0.336657  0.223830  0.311031 -0.088327   \n",
       "Type_Sporty                0.275736 -0.118319 -0.333016 -0.683643  0.062788   \n",
       "Type_Work                  0.785320  1.317038 -0.067531  0.339755  0.161359   \n",
       "Home_Own                   0.113272  0.022833 -0.058966 -0.238280 -0.158983   \n",
       "Home_Rent                 -0.297955 -0.060061  0.155106  0.626780  0.418194   \n",
       "Income_1_Income            0.100039  0.013966  0.011392 -0.040048 -0.061250   \n",
       "Income_2_Incomes          -0.081554 -0.011385 -0.009287  0.032647  0.049932   \n",
       "Marital_Married           -0.075192  0.153194  0.471600 -0.027335 -0.156586   \n",
       "Marital_Married_With_Kids -0.180556 -0.183969 -0.211585  0.079748  0.408329   \n",
       "Marital_Single             0.028773  0.082337 -0.452820  0.145126 -0.246257   \n",
       "Marital_Single_With_Kids   1.609251 -0.292974  1.652576 -1.450023 -0.123374   \n",
       "Sex_Female                 0.439969 -0.143564 -0.606658  0.266796 -0.009790   \n",
       "Sex_Male                  -0.354353  0.115627  0.488606 -0.214879  0.007885   \n",
       "\n",
       "                             Dim.11    Dim.12  \n",
       "Origin_American           -0.202130  0.072482  \n",
       "Origin_European            0.003363  0.013056  \n",
       "Origin_Japanese            0.152232 -0.058392  \n",
       "Size_Large                 0.653254 -0.053992  \n",
       "Size_Medium                0.083883 -0.026210  \n",
       "Size_Small                -0.260028  0.039492  \n",
       "Type_Family               -0.262606  0.056163  \n",
       "Type_Sporty                0.425389 -0.102381  \n",
       "Type_Work                  0.011151  0.020002  \n",
       "Home_Own                  -0.216564  0.004536  \n",
       "Home_Rent                  0.569657 -0.011930  \n",
       "Income_1_Income           -0.247129 -0.367463  \n",
       "Income_2_Incomes           0.201464  0.299562  \n",
       "Marital_Married           -0.213096 -0.290097  \n",
       "Marital_Married_With_Kids  0.381607 -0.228891  \n",
       "Marital_Single            -0.251147  0.432278  \n",
       "Marital_Single_With_Kids   0.486839  0.475379  \n",
       "Sex_Female                -0.074106 -0.079503  \n",
       "Sex_Male                   0.059685  0.064032  "
      ]
     },
     "metadata": {},
     "output_type": "display_data"
    }
   ],
   "source": [
    "col4 = get_mca_mod(my_mca4)\n",
    "display(col4[\"coord\"])"
   ]
  },
  {
   "cell_type": "code",
   "execution_count": 64,
   "metadata": {},
   "outputs": [
    {
     "data": {
      "text/html": [
       "<div>\n",
       "<style scoped>\n",
       "    .dataframe tbody tr th:only-of-type {\n",
       "        vertical-align: middle;\n",
       "    }\n",
       "\n",
       "    .dataframe tbody tr th {\n",
       "        vertical-align: top;\n",
       "    }\n",
       "\n",
       "    .dataframe thead th {\n",
       "        text-align: right;\n",
       "    }\n",
       "</style>\n",
       "<table border=\"1\" class=\"dataframe\">\n",
       "  <thead>\n",
       "    <tr style=\"text-align: right;\">\n",
       "      <th></th>\n",
       "      <th>eigenvalue</th>\n",
       "      <th>proportion</th>\n",
       "      <th>cumulative</th>\n",
       "    </tr>\n",
       "  </thead>\n",
       "  <tbody>\n",
       "    <tr>\n",
       "      <th>Dim.1</th>\n",
       "      <td>0.044737</td>\n",
       "      <td>75.518928</td>\n",
       "      <td>75.518928</td>\n",
       "    </tr>\n",
       "    <tr>\n",
       "      <th>Dim.2</th>\n",
       "      <td>0.011256</td>\n",
       "      <td>19.001209</td>\n",
       "      <td>94.520137</td>\n",
       "    </tr>\n",
       "    <tr>\n",
       "      <th>Dim.3</th>\n",
       "      <td>0.002135</td>\n",
       "      <td>3.604741</td>\n",
       "      <td>98.124877</td>\n",
       "    </tr>\n",
       "    <tr>\n",
       "      <th>Dim.4</th>\n",
       "      <td>0.000993</td>\n",
       "      <td>1.676723</td>\n",
       "      <td>99.801600</td>\n",
       "    </tr>\n",
       "    <tr>\n",
       "      <th>Dim.5</th>\n",
       "      <td>0.000076</td>\n",
       "      <td>0.128432</td>\n",
       "      <td>99.930032</td>\n",
       "    </tr>\n",
       "    <tr>\n",
       "      <th>Dim.6</th>\n",
       "      <td>0.000041</td>\n",
       "      <td>0.069968</td>\n",
       "      <td>100.000000</td>\n",
       "    </tr>\n",
       "  </tbody>\n",
       "</table>\n",
       "</div>"
      ],
      "text/plain": [
       "       eigenvalue  proportion  cumulative\n",
       "Dim.1    0.044737   75.518928   75.518928\n",
       "Dim.2    0.011256   19.001209   94.520137\n",
       "Dim.3    0.002135    3.604741   98.124877\n",
       "Dim.4    0.000993    1.676723   99.801600\n",
       "Dim.5    0.000076    0.128432   99.930032\n",
       "Dim.6    0.000041    0.069968  100.000000"
      ]
     },
     "execution_count": 64,
     "metadata": {},
     "output_type": "execute_result"
    }
   ],
   "source": [
    "my_mca4.benzecri_correction_"
   ]
  },
  {
   "cell_type": "code",
   "execution_count": 65,
   "metadata": {},
   "outputs": [
    {
     "data": {
      "text/html": [
       "<div>\n",
       "<style scoped>\n",
       "    .dataframe tbody tr th:only-of-type {\n",
       "        vertical-align: middle;\n",
       "    }\n",
       "\n",
       "    .dataframe tbody tr th {\n",
       "        vertical-align: top;\n",
       "    }\n",
       "\n",
       "    .dataframe thead th {\n",
       "        text-align: right;\n",
       "    }\n",
       "</style>\n",
       "<table border=\"1\" class=\"dataframe\">\n",
       "  <thead>\n",
       "    <tr style=\"text-align: right;\">\n",
       "      <th></th>\n",
       "      <th>eigenvalue</th>\n",
       "      <th>proportion</th>\n",
       "      <th>cumulative</th>\n",
       "    </tr>\n",
       "  </thead>\n",
       "  <tbody>\n",
       "    <tr>\n",
       "      <th>Dim.1</th>\n",
       "      <td>0.044737</td>\n",
       "      <td>55.739008</td>\n",
       "      <td>55.739008</td>\n",
       "    </tr>\n",
       "    <tr>\n",
       "      <th>Dim.2</th>\n",
       "      <td>0.011256</td>\n",
       "      <td>14.024412</td>\n",
       "      <td>69.763420</td>\n",
       "    </tr>\n",
       "    <tr>\n",
       "      <th>Dim.3</th>\n",
       "      <td>0.002135</td>\n",
       "      <td>2.660587</td>\n",
       "      <td>72.424007</td>\n",
       "    </tr>\n",
       "    <tr>\n",
       "      <th>Dim.4</th>\n",
       "      <td>0.000993</td>\n",
       "      <td>1.237556</td>\n",
       "      <td>73.661563</td>\n",
       "    </tr>\n",
       "    <tr>\n",
       "      <th>Dim.5</th>\n",
       "      <td>0.000076</td>\n",
       "      <td>0.094793</td>\n",
       "      <td>73.756356</td>\n",
       "    </tr>\n",
       "    <tr>\n",
       "      <th>Dim.6</th>\n",
       "      <td>0.000041</td>\n",
       "      <td>0.051642</td>\n",
       "      <td>73.807998</td>\n",
       "    </tr>\n",
       "  </tbody>\n",
       "</table>\n",
       "</div>"
      ],
      "text/plain": [
       "       eigenvalue  proportion  cumulative\n",
       "Dim.1    0.044737   55.739008   55.739008\n",
       "Dim.2    0.011256   14.024412   69.763420\n",
       "Dim.3    0.002135    2.660587   72.424007\n",
       "Dim.4    0.000993    1.237556   73.661563\n",
       "Dim.5    0.000076    0.094793   73.756356\n",
       "Dim.6    0.000041    0.051642   73.807998"
      ]
     },
     "execution_count": 65,
     "metadata": {},
     "output_type": "execute_result"
    }
   ],
   "source": [
    "my_mca4.greenacre_correction_"
   ]
  },
  {
   "attachments": {},
   "cell_type": "markdown",
   "metadata": {},
   "source": [
    "### Extraction des résultats\n",
    "\n",
    "#### Résultats sur les individus"
   ]
  },
  {
   "cell_type": "code",
   "execution_count": 66,
   "metadata": {},
   "outputs": [
    {
     "name": "stdout",
     "output_type": "stream",
     "text": [
      "dict_keys(['coord', 'cos2', 'contrib', 'infos'])\n"
     ]
    }
   ],
   "source": [
    "row_mca = get_mca_ind(my_mca4)\n",
    "print(row_mca.keys())"
   ]
  },
  {
   "attachments": {},
   "cell_type": "markdown",
   "metadata": {},
   "source": [
    "##### Coordonnées"
   ]
  },
  {
   "cell_type": "code",
   "execution_count": 67,
   "metadata": {},
   "outputs": [
    {
     "data": {
      "text/html": [
       "<div>\n",
       "<style scoped>\n",
       "    .dataframe tbody tr th:only-of-type {\n",
       "        vertical-align: middle;\n",
       "    }\n",
       "\n",
       "    .dataframe tbody tr th {\n",
       "        vertical-align: top;\n",
       "    }\n",
       "\n",
       "    .dataframe thead th {\n",
       "        text-align: right;\n",
       "    }\n",
       "</style>\n",
       "<table border=\"1\" class=\"dataframe\">\n",
       "  <thead>\n",
       "    <tr style=\"text-align: right;\">\n",
       "      <th></th>\n",
       "      <th>Dim.1</th>\n",
       "      <th>Dim.2</th>\n",
       "      <th>Dim.3</th>\n",
       "      <th>Dim.4</th>\n",
       "      <th>Dim.5</th>\n",
       "      <th>Dim.6</th>\n",
       "      <th>Dim.7</th>\n",
       "      <th>Dim.8</th>\n",
       "      <th>Dim.9</th>\n",
       "      <th>Dim.10</th>\n",
       "      <th>Dim.11</th>\n",
       "      <th>Dim.12</th>\n",
       "    </tr>\n",
       "  </thead>\n",
       "  <tbody>\n",
       "    <tr>\n",
       "      <th>row_1</th>\n",
       "      <td>-0.409260</td>\n",
       "      <td>1.087816</td>\n",
       "      <td>0.502596</td>\n",
       "      <td>0.031782</td>\n",
       "      <td>0.054829</td>\n",
       "      <td>0.021965</td>\n",
       "      <td>-0.423248</td>\n",
       "      <td>0.111268</td>\n",
       "      <td>-0.184520</td>\n",
       "      <td>-0.195959</td>\n",
       "      <td>0.090873</td>\n",
       "      <td>-0.350352</td>\n",
       "    </tr>\n",
       "    <tr>\n",
       "      <th>row_2</th>\n",
       "      <td>0.819813</td>\n",
       "      <td>-0.222057</td>\n",
       "      <td>0.378136</td>\n",
       "      <td>0.097232</td>\n",
       "      <td>-0.210917</td>\n",
       "      <td>-0.050534</td>\n",
       "      <td>-0.194576</td>\n",
       "      <td>-0.163099</td>\n",
       "      <td>-0.443573</td>\n",
       "      <td>-0.223460</td>\n",
       "      <td>-0.184660</td>\n",
       "      <td>0.009356</td>\n",
       "    </tr>\n",
       "    <tr>\n",
       "      <th>row_3</th>\n",
       "      <td>-0.219293</td>\n",
       "      <td>-0.532847</td>\n",
       "      <td>0.159535</td>\n",
       "      <td>-0.321312</td>\n",
       "      <td>0.094489</td>\n",
       "      <td>-0.411387</td>\n",
       "      <td>-0.267053</td>\n",
       "      <td>0.469523</td>\n",
       "      <td>-0.037934</td>\n",
       "      <td>-0.198146</td>\n",
       "      <td>-0.294807</td>\n",
       "      <td>0.089143</td>\n",
       "    </tr>\n",
       "    <tr>\n",
       "      <th>row_4</th>\n",
       "      <td>0.438170</td>\n",
       "      <td>1.179864</td>\n",
       "      <td>0.212335</td>\n",
       "      <td>-0.009725</td>\n",
       "      <td>0.631115</td>\n",
       "      <td>-0.052913</td>\n",
       "      <td>-0.346335</td>\n",
       "      <td>0.099503</td>\n",
       "      <td>0.237225</td>\n",
       "      <td>-0.235357</td>\n",
       "      <td>0.174826</td>\n",
       "      <td>0.148118</td>\n",
       "    </tr>\n",
       "    <tr>\n",
       "      <th>row_5</th>\n",
       "      <td>-0.675013</td>\n",
       "      <td>0.360023</td>\n",
       "      <td>0.094197</td>\n",
       "      <td>0.300440</td>\n",
       "      <td>-0.174056</td>\n",
       "      <td>-0.455086</td>\n",
       "      <td>0.175224</td>\n",
       "      <td>0.083313</td>\n",
       "      <td>-0.200503</td>\n",
       "      <td>0.333626</td>\n",
       "      <td>0.024802</td>\n",
       "      <td>0.186857</td>\n",
       "    </tr>\n",
       "    <tr>\n",
       "      <th>row_6</th>\n",
       "      <td>-0.177783</td>\n",
       "      <td>0.144109</td>\n",
       "      <td>-1.067415</td>\n",
       "      <td>-0.241484</td>\n",
       "      <td>-0.749213</td>\n",
       "      <td>0.037232</td>\n",
       "      <td>0.078188</td>\n",
       "      <td>0.918000</td>\n",
       "      <td>-0.697407</td>\n",
       "      <td>-0.419194</td>\n",
       "      <td>0.276219</td>\n",
       "      <td>0.630193</td>\n",
       "    </tr>\n",
       "  </tbody>\n",
       "</table>\n",
       "</div>"
      ],
      "text/plain": [
       "          Dim.1     Dim.2     Dim.3     Dim.4     Dim.5     Dim.6     Dim.7  \\\n",
       "row_1 -0.409260  1.087816  0.502596  0.031782  0.054829  0.021965 -0.423248   \n",
       "row_2  0.819813 -0.222057  0.378136  0.097232 -0.210917 -0.050534 -0.194576   \n",
       "row_3 -0.219293 -0.532847  0.159535 -0.321312  0.094489 -0.411387 -0.267053   \n",
       "row_4  0.438170  1.179864  0.212335 -0.009725  0.631115 -0.052913 -0.346335   \n",
       "row_5 -0.675013  0.360023  0.094197  0.300440 -0.174056 -0.455086  0.175224   \n",
       "row_6 -0.177783  0.144109 -1.067415 -0.241484 -0.749213  0.037232  0.078188   \n",
       "\n",
       "          Dim.8     Dim.9    Dim.10    Dim.11    Dim.12  \n",
       "row_1  0.111268 -0.184520 -0.195959  0.090873 -0.350352  \n",
       "row_2 -0.163099 -0.443573 -0.223460 -0.184660  0.009356  \n",
       "row_3  0.469523 -0.037934 -0.198146 -0.294807  0.089143  \n",
       "row_4  0.099503  0.237225 -0.235357  0.174826  0.148118  \n",
       "row_5  0.083313 -0.200503  0.333626  0.024802  0.186857  \n",
       "row_6  0.918000 -0.697407 -0.419194  0.276219  0.630193  "
      ]
     },
     "metadata": {},
     "output_type": "display_data"
    }
   ],
   "source": [
    "row_mca_coord = row_mca[\"coord\"]\n",
    "display(row_mca_coord >> head(6))"
   ]
  },
  {
   "attachments": {},
   "cell_type": "markdown",
   "metadata": {},
   "source": [
    "##### Cosinus carré"
   ]
  },
  {
   "cell_type": "code",
   "execution_count": 68,
   "metadata": {},
   "outputs": [
    {
     "data": {
      "text/html": [
       "<div>\n",
       "<style scoped>\n",
       "    .dataframe tbody tr th:only-of-type {\n",
       "        vertical-align: middle;\n",
       "    }\n",
       "\n",
       "    .dataframe tbody tr th {\n",
       "        vertical-align: top;\n",
       "    }\n",
       "\n",
       "    .dataframe thead th {\n",
       "        text-align: right;\n",
       "    }\n",
       "</style>\n",
       "<table border=\"1\" class=\"dataframe\">\n",
       "  <thead>\n",
       "    <tr style=\"text-align: right;\">\n",
       "      <th></th>\n",
       "      <th>Dim.1</th>\n",
       "      <th>Dim.2</th>\n",
       "      <th>Dim.3</th>\n",
       "      <th>Dim.4</th>\n",
       "      <th>Dim.5</th>\n",
       "      <th>Dim.6</th>\n",
       "      <th>Dim.7</th>\n",
       "      <th>Dim.8</th>\n",
       "      <th>Dim.9</th>\n",
       "      <th>Dim.10</th>\n",
       "      <th>Dim.11</th>\n",
       "      <th>Dim.12</th>\n",
       "    </tr>\n",
       "  </thead>\n",
       "  <tbody>\n",
       "    <tr>\n",
       "      <th>row_1</th>\n",
       "      <td>0.083625</td>\n",
       "      <td>0.590812</td>\n",
       "      <td>0.126118</td>\n",
       "      <td>0.000504</td>\n",
       "      <td>0.001501</td>\n",
       "      <td>0.000241</td>\n",
       "      <td>0.089439</td>\n",
       "      <td>0.006181</td>\n",
       "      <td>0.016999</td>\n",
       "      <td>0.019172</td>\n",
       "      <td>0.004123</td>\n",
       "      <td>0.061284</td>\n",
       "    </tr>\n",
       "    <tr>\n",
       "      <th>row_2</th>\n",
       "      <td>0.530786</td>\n",
       "      <td>0.038942</td>\n",
       "      <td>0.112924</td>\n",
       "      <td>0.007466</td>\n",
       "      <td>0.035133</td>\n",
       "      <td>0.002017</td>\n",
       "      <td>0.029900</td>\n",
       "      <td>0.021008</td>\n",
       "      <td>0.155389</td>\n",
       "      <td>0.039436</td>\n",
       "      <td>0.026930</td>\n",
       "      <td>0.000069</td>\n",
       "    </tr>\n",
       "    <tr>\n",
       "      <th>row_3</th>\n",
       "      <td>0.045103</td>\n",
       "      <td>0.266296</td>\n",
       "      <td>0.023871</td>\n",
       "      <td>0.096831</td>\n",
       "      <td>0.008374</td>\n",
       "      <td>0.158731</td>\n",
       "      <td>0.066889</td>\n",
       "      <td>0.206763</td>\n",
       "      <td>0.001350</td>\n",
       "      <td>0.036824</td>\n",
       "      <td>0.081515</td>\n",
       "      <td>0.007453</td>\n",
       "    </tr>\n",
       "    <tr>\n",
       "      <th>row_4</th>\n",
       "      <td>0.082600</td>\n",
       "      <td>0.598904</td>\n",
       "      <td>0.019397</td>\n",
       "      <td>0.000041</td>\n",
       "      <td>0.171360</td>\n",
       "      <td>0.001205</td>\n",
       "      <td>0.051604</td>\n",
       "      <td>0.004260</td>\n",
       "      <td>0.024211</td>\n",
       "      <td>0.023831</td>\n",
       "      <td>0.013149</td>\n",
       "      <td>0.009439</td>\n",
       "    </tr>\n",
       "    <tr>\n",
       "      <th>row_5</th>\n",
       "      <td>0.397428</td>\n",
       "      <td>0.113056</td>\n",
       "      <td>0.007739</td>\n",
       "      <td>0.078732</td>\n",
       "      <td>0.026425</td>\n",
       "      <td>0.180643</td>\n",
       "      <td>0.026781</td>\n",
       "      <td>0.006054</td>\n",
       "      <td>0.035065</td>\n",
       "      <td>0.097085</td>\n",
       "      <td>0.000537</td>\n",
       "      <td>0.030455</td>\n",
       "    </tr>\n",
       "    <tr>\n",
       "      <th>row_6</th>\n",
       "      <td>0.008324</td>\n",
       "      <td>0.005469</td>\n",
       "      <td>0.300061</td>\n",
       "      <td>0.015357</td>\n",
       "      <td>0.147827</td>\n",
       "      <td>0.000365</td>\n",
       "      <td>0.001610</td>\n",
       "      <td>0.221936</td>\n",
       "      <td>0.128090</td>\n",
       "      <td>0.046278</td>\n",
       "      <td>0.020093</td>\n",
       "      <td>0.104590</td>\n",
       "    </tr>\n",
       "  </tbody>\n",
       "</table>\n",
       "</div>"
      ],
      "text/plain": [
       "          Dim.1     Dim.2     Dim.3     Dim.4     Dim.5     Dim.6     Dim.7  \\\n",
       "row_1  0.083625  0.590812  0.126118  0.000504  0.001501  0.000241  0.089439   \n",
       "row_2  0.530786  0.038942  0.112924  0.007466  0.035133  0.002017  0.029900   \n",
       "row_3  0.045103  0.266296  0.023871  0.096831  0.008374  0.158731  0.066889   \n",
       "row_4  0.082600  0.598904  0.019397  0.000041  0.171360  0.001205  0.051604   \n",
       "row_5  0.397428  0.113056  0.007739  0.078732  0.026425  0.180643  0.026781   \n",
       "row_6  0.008324  0.005469  0.300061  0.015357  0.147827  0.000365  0.001610   \n",
       "\n",
       "          Dim.8     Dim.9    Dim.10    Dim.11    Dim.12  \n",
       "row_1  0.006181  0.016999  0.019172  0.004123  0.061284  \n",
       "row_2  0.021008  0.155389  0.039436  0.026930  0.000069  \n",
       "row_3  0.206763  0.001350  0.036824  0.081515  0.007453  \n",
       "row_4  0.004260  0.024211  0.023831  0.013149  0.009439  \n",
       "row_5  0.006054  0.035065  0.097085  0.000537  0.030455  \n",
       "row_6  0.221936  0.128090  0.046278  0.020093  0.104590  "
      ]
     },
     "metadata": {},
     "output_type": "display_data"
    }
   ],
   "source": [
    "row_mca_cos2 = row_mca[\"cos2\"]\n",
    "display(row_mca_cos2 >> head(6))"
   ]
  },
  {
   "attachments": {},
   "cell_type": "markdown",
   "metadata": {},
   "source": [
    "##### Contributions"
   ]
  },
  {
   "cell_type": "code",
   "execution_count": 69,
   "metadata": {},
   "outputs": [
    {
     "data": {
      "text/html": [
       "<div>\n",
       "<style scoped>\n",
       "    .dataframe tbody tr th:only-of-type {\n",
       "        vertical-align: middle;\n",
       "    }\n",
       "\n",
       "    .dataframe tbody tr th {\n",
       "        vertical-align: top;\n",
       "    }\n",
       "\n",
       "    .dataframe thead th {\n",
       "        text-align: right;\n",
       "    }\n",
       "</style>\n",
       "<table border=\"1\" class=\"dataframe\">\n",
       "  <thead>\n",
       "    <tr style=\"text-align: right;\">\n",
       "      <th></th>\n",
       "      <th>Dim.1</th>\n",
       "      <th>Dim.2</th>\n",
       "      <th>Dim.3</th>\n",
       "      <th>Dim.4</th>\n",
       "      <th>Dim.5</th>\n",
       "      <th>Dim.6</th>\n",
       "      <th>Dim.7</th>\n",
       "      <th>Dim.8</th>\n",
       "      <th>Dim.9</th>\n",
       "      <th>Dim.10</th>\n",
       "      <th>Dim.11</th>\n",
       "      <th>Dim.12</th>\n",
       "    </tr>\n",
       "  </thead>\n",
       "  <tbody>\n",
       "    <tr>\n",
       "      <th>row_1</th>\n",
       "      <td>0.154704</td>\n",
       "      <td>1.515398</td>\n",
       "      <td>0.414485</td>\n",
       "      <td>0.001780</td>\n",
       "      <td>0.005987</td>\n",
       "      <td>0.000974</td>\n",
       "      <td>0.462158</td>\n",
       "      <td>0.034074</td>\n",
       "      <td>0.102626</td>\n",
       "      <td>0.145927</td>\n",
       "      <td>0.036254</td>\n",
       "      <td>1.076511</td>\n",
       "    </tr>\n",
       "    <tr>\n",
       "      <th>row_2</th>\n",
       "      <td>0.620773</td>\n",
       "      <td>0.063146</td>\n",
       "      <td>0.234621</td>\n",
       "      <td>0.016663</td>\n",
       "      <td>0.088598</td>\n",
       "      <td>0.005153</td>\n",
       "      <td>0.097674</td>\n",
       "      <td>0.073212</td>\n",
       "      <td>0.593068</td>\n",
       "      <td>0.189760</td>\n",
       "      <td>0.149703</td>\n",
       "      <td>0.000768</td>\n",
       "    </tr>\n",
       "    <tr>\n",
       "      <th>row_3</th>\n",
       "      <td>0.044417</td>\n",
       "      <td>0.363597</td>\n",
       "      <td>0.041762</td>\n",
       "      <td>0.181965</td>\n",
       "      <td>0.017781</td>\n",
       "      <td>0.341501</td>\n",
       "      <td>0.183990</td>\n",
       "      <td>0.606732</td>\n",
       "      <td>0.004337</td>\n",
       "      <td>0.149203</td>\n",
       "      <td>0.381561</td>\n",
       "      <td>0.069692</td>\n",
       "    </tr>\n",
       "    <tr>\n",
       "      <th>row_4</th>\n",
       "      <td>0.177332</td>\n",
       "      <td>1.782706</td>\n",
       "      <td>0.073980</td>\n",
       "      <td>0.000167</td>\n",
       "      <td>0.793258</td>\n",
       "      <td>0.005650</td>\n",
       "      <td>0.309451</td>\n",
       "      <td>0.027249</td>\n",
       "      <td>0.169626</td>\n",
       "      <td>0.210503</td>\n",
       "      <td>0.134183</td>\n",
       "      <td>0.192408</td>\n",
       "    </tr>\n",
       "    <tr>\n",
       "      <th>row_5</th>\n",
       "      <td>0.420850</td>\n",
       "      <td>0.165988</td>\n",
       "      <td>0.014559</td>\n",
       "      <td>0.159092</td>\n",
       "      <td>0.060336</td>\n",
       "      <td>0.417906</td>\n",
       "      <td>0.079211</td>\n",
       "      <td>0.019103</td>\n",
       "      <td>0.121176</td>\n",
       "      <td>0.422984</td>\n",
       "      <td>0.002701</td>\n",
       "      <td>0.306215</td>\n",
       "    </tr>\n",
       "    <tr>\n",
       "      <th>row_6</th>\n",
       "      <td>0.029193</td>\n",
       "      <td>0.026595</td>\n",
       "      <td>1.869549</td>\n",
       "      <td>0.102781</td>\n",
       "      <td>1.117912</td>\n",
       "      <td>0.002797</td>\n",
       "      <td>0.015772</td>\n",
       "      <td>2.319362</td>\n",
       "      <td>1.466041</td>\n",
       "      <td>0.667782</td>\n",
       "      <td>0.334963</td>\n",
       "      <td>3.483018</td>\n",
       "    </tr>\n",
       "  </tbody>\n",
       "</table>\n",
       "</div>"
      ],
      "text/plain": [
       "          Dim.1     Dim.2     Dim.3     Dim.4     Dim.5     Dim.6     Dim.7  \\\n",
       "row_1  0.154704  1.515398  0.414485  0.001780  0.005987  0.000974  0.462158   \n",
       "row_2  0.620773  0.063146  0.234621  0.016663  0.088598  0.005153  0.097674   \n",
       "row_3  0.044417  0.363597  0.041762  0.181965  0.017781  0.341501  0.183990   \n",
       "row_4  0.177332  1.782706  0.073980  0.000167  0.793258  0.005650  0.309451   \n",
       "row_5  0.420850  0.165988  0.014559  0.159092  0.060336  0.417906  0.079211   \n",
       "row_6  0.029193  0.026595  1.869549  0.102781  1.117912  0.002797  0.015772   \n",
       "\n",
       "          Dim.8     Dim.9    Dim.10    Dim.11    Dim.12  \n",
       "row_1  0.034074  0.102626  0.145927  0.036254  1.076511  \n",
       "row_2  0.073212  0.593068  0.189760  0.149703  0.000768  \n",
       "row_3  0.606732  0.004337  0.149203  0.381561  0.069692  \n",
       "row_4  0.027249  0.169626  0.210503  0.134183  0.192408  \n",
       "row_5  0.019103  0.121176  0.422984  0.002701  0.306215  \n",
       "row_6  2.319362  1.466041  0.667782  0.334963  3.483018  "
      ]
     },
     "metadata": {},
     "output_type": "display_data"
    }
   ],
   "source": [
    "row_mca_contrib = row_mca[\"contrib\"]\n",
    "display(row_mca_contrib >> head(6))"
   ]
  },
  {
   "attachments": {},
   "cell_type": "markdown",
   "metadata": {},
   "source": [
    "##### Informations"
   ]
  },
  {
   "cell_type": "code",
   "execution_count": 70,
   "metadata": {},
   "outputs": [
    {
     "data": {
      "text/html": [
       "<div>\n",
       "<style scoped>\n",
       "    .dataframe tbody tr th:only-of-type {\n",
       "        vertical-align: middle;\n",
       "    }\n",
       "\n",
       "    .dataframe tbody tr th {\n",
       "        vertical-align: top;\n",
       "    }\n",
       "\n",
       "    .dataframe thead th {\n",
       "        text-align: right;\n",
       "    }\n",
       "</style>\n",
       "<table border=\"1\" class=\"dataframe\">\n",
       "  <thead>\n",
       "    <tr style=\"text-align: right;\">\n",
       "      <th></th>\n",
       "      <th>d(i,G)</th>\n",
       "      <th>p(i)</th>\n",
       "      <th>I(i,G)</th>\n",
       "    </tr>\n",
       "  </thead>\n",
       "  <tbody>\n",
       "    <tr>\n",
       "      <th>row_1</th>\n",
       "      <td>1.415242</td>\n",
       "      <td>0.002994</td>\n",
       "      <td>0.005997</td>\n",
       "    </tr>\n",
       "    <tr>\n",
       "      <th>row_2</th>\n",
       "      <td>1.125266</td>\n",
       "      <td>0.002994</td>\n",
       "      <td>0.003791</td>\n",
       "    </tr>\n",
       "    <tr>\n",
       "      <th>row_3</th>\n",
       "      <td>1.032571</td>\n",
       "      <td>0.002994</td>\n",
       "      <td>0.003192</td>\n",
       "    </tr>\n",
       "    <tr>\n",
       "      <th>row_4</th>\n",
       "      <td>1.524591</td>\n",
       "      <td>0.002994</td>\n",
       "      <td>0.006959</td>\n",
       "    </tr>\n",
       "    <tr>\n",
       "      <th>row_5</th>\n",
       "      <td>1.070737</td>\n",
       "      <td>0.002994</td>\n",
       "      <td>0.003433</td>\n",
       "    </tr>\n",
       "    <tr>\n",
       "      <th>row_6</th>\n",
       "      <td>1.948627</td>\n",
       "      <td>0.002994</td>\n",
       "      <td>0.011369</td>\n",
       "    </tr>\n",
       "  </tbody>\n",
       "</table>\n",
       "</div>"
      ],
      "text/plain": [
       "         d(i,G)      p(i)    I(i,G)\n",
       "row_1  1.415242  0.002994  0.005997\n",
       "row_2  1.125266  0.002994  0.003791\n",
       "row_3  1.032571  0.002994  0.003192\n",
       "row_4  1.524591  0.002994  0.006959\n",
       "row_5  1.070737  0.002994  0.003433\n",
       "row_6  1.948627  0.002994  0.011369"
      ]
     },
     "metadata": {},
     "output_type": "display_data"
    }
   ],
   "source": [
    "row_mca_infos = row_mca[\"infos\"]\n",
    "display(row_mca_infos >> head(6))"
   ]
  },
  {
   "cell_type": "code",
   "execution_count": 71,
   "metadata": {},
   "outputs": [],
   "source": [
    "from scientisttools.extractfactor import summaryMCA"
   ]
  },
  {
   "cell_type": "code",
   "execution_count": 72,
   "metadata": {},
   "outputs": [
    {
     "name": "stdout",
     "output_type": "stream",
     "text": [
      "                     Multiple Correspondance Analysis - Results                     \n",
      "\n",
      "Importance of components\n",
      "                          Dim.1   Dim.2   Dim.3   Dim.4    Dim.5\n",
      "Variance                  0.708   0.591   0.262   0.070    0.035\n",
      "Difference                0.117   0.329   0.192   0.034    0.035\n",
      "% of var.                42.482  35.489  15.720   4.185    2.124\n",
      "Cumulative of % of var.  42.482  77.971  93.691  97.876  100.000\n",
      "\n",
      "Individuals (the 8 first)\n",
      "\n",
      "             d(i,G)   p(i)  I(i,G)  Dim.1    ctr   cos2  Dim.2     ctr   cos2  \\\n",
      "Beauceron     1.291  0.125   0.208  0.000   0.00  0.000 -1.280  34.620  0.983   \n",
      "Basset        1.453  0.125   0.264  1.151  23.38  0.627  0.799  13.493  0.302   \n",
      "Berger All    1.291  0.125   0.208  0.000   0.00  0.000 -1.280  34.620  0.983   \n",
      "Boxer         1.291  0.125   0.208 -1.151  23.38  0.795  0.385   3.134  0.089   \n",
      "Bull-Dog      1.106  0.125   0.153  0.428   3.24  0.150  0.510   5.490  0.213   \n",
      "Bull-Mastif   1.453  0.125   0.264  1.151  23.38  0.627 -0.029   0.018  0.000   \n",
      "Caniche       1.106  0.125   0.153 -0.428   3.24  0.150  0.510   5.490  0.213   \n",
      "Labrador      1.291  0.125   0.208 -1.151  23.38  0.795  0.385   3.134  0.089   \n",
      "\n",
      "             Dim.3     ctr   cos2  \n",
      "Beauceron   -0.153   1.120  0.014  \n",
      "Basset       0.023   0.026  0.000  \n",
      "Berger All  -0.153   1.120  0.014  \n",
      "Boxer        0.428   8.743  0.110  \n",
      "Bull-Dog    -0.703  23.575  0.404  \n",
      "Bull-Mastif  0.833  33.098  0.329  \n",
      "Caniche     -0.703  23.575  0.404  \n",
      "Labrador     0.428   8.743  0.110  \n",
      "\n",
      "Categories\n",
      "\n",
      "                  d(k,G)   p(k)  I(k,G)  Dim.1     ctr   cos2  vtest  Dim.2  \\\n",
      "Taille_Taill-      1.291  0.125   0.208  0.456   3.669  0.125  0.934  0.788   \n",
      "Taille_Taille+     1.732  0.083   0.250 -1.368  22.014  0.623 -2.089  0.501   \n",
      "Taille_Taille++    1.291  0.125   0.208  0.456   3.669  0.125  0.934 -1.122   \n",
      "Velocite_Velo-     1.291  0.125   0.208  1.081  20.648  0.702  2.216  0.555   \n",
      "Velocite_Veloc+    1.291  0.125   0.208 -1.081  20.648  0.702 -2.216  0.555   \n",
      "Velocite_Veloc++   1.732  0.083   0.250  0.000   0.000  0.000  0.000 -1.664   \n",
      "Affection_Affe-    1.732  0.083   0.250  1.368  22.014  0.623  2.089  0.501   \n",
      "Affection_Affec+   0.577  0.250   0.083 -0.456   7.338  0.623 -2.089 -0.167   \n",
      "\n",
      "                     ctr   cos2  vtest  Dim.3     ctr   cos2  vtest  \n",
      "Taille_Taill-     13.127  0.373  1.615 -0.900  38.680  0.486 -1.845  \n",
      "Taille_Taille+     3.533  0.084  0.765  0.836  22.248  0.233  1.278  \n",
      "Taille_Taille++   26.603  0.755 -2.299  0.343   5.608  0.071  0.703  \n",
      "Velocite_Velo-     6.503  0.185  1.137  0.100   0.475  0.006  0.204  \n",
      "Velocite_Veloc+    6.503  0.185  1.137  0.100   0.475  0.006  0.204  \n",
      "Velocite_Veloc++  39.021  0.923 -2.542 -0.299   2.850  0.030 -0.457  \n",
      "Affection_Affe-    3.533  0.084  0.765  0.836  22.248  0.233  1.278  \n",
      "Affection_Affec+   1.178  0.084 -0.765 -0.279   7.416  0.233 -1.278  \n",
      "\n",
      "Categorical variables\n",
      "\n",
      "           I(j,G)  eta2.1    ctr.1  cos2.1  eta2.2    ctr.2  cos2.2  eta2.3  \\\n",
      "Taille      0.667   0.623   88.056   0.312   0.768  129.786   0.384   0.523   \n",
      "Velocite    0.667   0.877  123.888   0.439   0.923  156.082   0.462   0.030   \n",
      "Affection   0.333   0.623   88.056   0.623   0.084   14.131   0.084   0.233   \n",
      "\n",
      "             ctr.3  cos2.3  \n",
      "Taille     199.608   0.261  \n",
      "Velocite    11.401   0.015  \n",
      "Affection   88.991   0.233  \n"
     ]
    }
   ],
   "source": [
    "summaryMCA(my_mca,to_markdown=False)"
   ]
  },
  {
   "cell_type": "code",
   "execution_count": 73,
   "metadata": {},
   "outputs": [
    {
     "name": "stdout",
     "output_type": "stream",
     "text": [
      "                     Multiple Correspondance Analysis - Results                     \n",
      "\n",
      "Importance of components\n",
      "|                         |   Dim.1 |   Dim.2 |   Dim.3 |   Dim.4 |   Dim.5 |\n",
      "|:------------------------|--------:|--------:|--------:|--------:|--------:|\n",
      "| Variance                |   0.708 |   0.591 |   0.262 |   0.07  |   0.035 |\n",
      "| Difference              |   0.117 |   0.329 |   0.192 |   0.034 |   0.035 |\n",
      "| % of var.               |  42.482 |  35.489 |  15.72  |   4.185 |   2.124 |\n",
      "| Cumulative of % of var. |  42.482 |  77.971 |  93.691 |  97.876 | 100     |\n",
      "\n",
      "Individuals (the 8 first)\n",
      "\n",
      "|             |   d(i,G) |   p(i) |   I(i,G) |   Dim.1 |   ctr |   cos2 |   Dim.2 |    ctr |   cos2 |   Dim.3 |    ctr |   cos2 |\n",
      "|:------------|---------:|-------:|---------:|--------:|------:|-------:|--------:|-------:|-------:|--------:|-------:|-------:|\n",
      "| Beauceron   |    1.291 |  0.125 |    0.208 |   0     |  0    |  0     |  -1.28  | 34.62  |  0.983 |  -0.153 |  1.12  |  0.014 |\n",
      "| Basset      |    1.453 |  0.125 |    0.264 |   1.151 | 23.38 |  0.627 |   0.799 | 13.493 |  0.302 |   0.023 |  0.026 |  0     |\n",
      "| Berger All  |    1.291 |  0.125 |    0.208 |   0     |  0    |  0     |  -1.28  | 34.62  |  0.983 |  -0.153 |  1.12  |  0.014 |\n",
      "| Boxer       |    1.291 |  0.125 |    0.208 |  -1.151 | 23.38 |  0.795 |   0.385 |  3.134 |  0.089 |   0.428 |  8.743 |  0.11  |\n",
      "| Bull-Dog    |    1.106 |  0.125 |    0.153 |   0.428 |  3.24 |  0.15  |   0.51  |  5.49  |  0.213 |  -0.703 | 23.575 |  0.404 |\n",
      "| Bull-Mastif |    1.453 |  0.125 |    0.264 |   1.151 | 23.38 |  0.627 |  -0.029 |  0.018 |  0     |   0.833 | 33.098 |  0.329 |\n",
      "| Caniche     |    1.106 |  0.125 |    0.153 |  -0.428 |  3.24 |  0.15  |   0.51  |  5.49  |  0.213 |  -0.703 | 23.575 |  0.404 |\n",
      "| Labrador    |    1.291 |  0.125 |    0.208 |  -1.151 | 23.38 |  0.795 |   0.385 |  3.134 |  0.089 |   0.428 |  8.743 |  0.11  |\n",
      "\n",
      "Categories\n",
      "\n",
      "|                  |   d(k,G) |   p(k) |   I(k,G) |   Dim.1 |    ctr |   cos2 |   vtest |   Dim.2 |    ctr |   cos2 |   vtest |   Dim.3 |    ctr |   cos2 |   vtest |\n",
      "|:-----------------|---------:|-------:|---------:|--------:|-------:|-------:|--------:|--------:|-------:|-------:|--------:|--------:|-------:|-------:|--------:|\n",
      "| Taille_Taill-    |    1.291 |  0.125 |    0.208 |   0.456 |  3.669 |  0.125 |   0.934 |   0.788 | 13.127 |  0.373 |   1.615 |  -0.9   | 38.68  |  0.486 |  -1.845 |\n",
      "| Taille_Taille+   |    1.732 |  0.083 |    0.25  |  -1.368 | 22.014 |  0.623 |  -2.089 |   0.501 |  3.533 |  0.084 |   0.765 |   0.836 | 22.248 |  0.233 |   1.278 |\n",
      "| Taille_Taille++  |    1.291 |  0.125 |    0.208 |   0.456 |  3.669 |  0.125 |   0.934 |  -1.122 | 26.603 |  0.755 |  -2.299 |   0.343 |  5.608 |  0.071 |   0.703 |\n",
      "| Velocite_Velo-   |    1.291 |  0.125 |    0.208 |   1.081 | 20.648 |  0.702 |   2.216 |   0.555 |  6.503 |  0.185 |   1.137 |   0.1   |  0.475 |  0.006 |   0.204 |\n",
      "| Velocite_Veloc+  |    1.291 |  0.125 |    0.208 |  -1.081 | 20.648 |  0.702 |  -2.216 |   0.555 |  6.503 |  0.185 |   1.137 |   0.1   |  0.475 |  0.006 |   0.204 |\n",
      "| Velocite_Veloc++ |    1.732 |  0.083 |    0.25  |   0     |  0     |  0     |   0     |  -1.664 | 39.021 |  0.923 |  -2.542 |  -0.299 |  2.85  |  0.03  |  -0.457 |\n",
      "| Affection_Affe-  |    1.732 |  0.083 |    0.25  |   1.368 | 22.014 |  0.623 |   2.089 |   0.501 |  3.533 |  0.084 |   0.765 |   0.836 | 22.248 |  0.233 |   1.278 |\n",
      "| Affection_Affec+ |    0.577 |  0.25  |    0.083 |  -0.456 |  7.338 |  0.623 |  -2.089 |  -0.167 |  1.178 |  0.084 |  -0.765 |  -0.279 |  7.416 |  0.233 |  -1.278 |\n",
      "\n",
      "Categorical variables\n",
      "\n",
      "|           |   I(j,G) |   eta2.1 |   ctr.1 |   cos2.1 |   eta2.2 |   ctr.2 |   cos2.2 |   eta2.3 |   ctr.3 |   cos2.3 |\n",
      "|:----------|---------:|---------:|--------:|---------:|---------:|--------:|---------:|---------:|--------:|---------:|\n",
      "| Taille    |    0.667 |    0.623 |  88.056 |    0.312 |    0.768 | 129.786 |    0.384 |    0.523 | 199.608 |    0.261 |\n",
      "| Velocite  |    0.667 |    0.877 | 123.888 |    0.439 |    0.923 | 156.082 |    0.462 |    0.03  |  11.401 |    0.015 |\n",
      "| Affection |    0.333 |    0.623 |  88.056 |    0.623 |    0.084 |  14.131 |    0.084 |    0.233 |  88.991 |    0.233 |\n"
     ]
    }
   ],
   "source": [
    "summaryMCA(my_mca,to_markdown=True)"
   ]
  },
  {
   "cell_type": "code",
   "execution_count": 74,
   "metadata": {},
   "outputs": [
    {
     "data": {
      "image/png": "[encoded data removed]",
      "text/plain": [
       "<Figure size 640x480 with 1 Axes>"
      ]
     },
     "metadata": {},
     "output_type": "display_data"
    },
    {
     "name": "stdout",
     "output_type": "stream",
     "text": [
      "\n"
     ]
    }
   ],
   "source": [
    "p = fviz_mca_ind(my_mca3,\n",
    "                 repel=True,\n",
    "                 color=\"cos2\",\n",
    "                 gradient_cols = (\"#00AFBB\", \"#E7B800\", \"#FC4E07\"),\n",
    "                 text_type=\"label\")\n",
    "print(p)"
   ]
  },
  {
   "cell_type": "code",
   "execution_count": 75,
   "metadata": {},
   "outputs": [
    {
     "data": {
      "image/png": "[encoded data removed]",
      "text/plain": [
       "<Figure size 640x480 with 1 Axes>"
      ]
     },
     "metadata": {},
     "output_type": "display_data"
    },
    {
     "name": "stdout",
     "output_type": "stream",
     "text": [
      "\n"
     ]
    }
   ],
   "source": [
    "p = fviz_mca_mod(my_mca3,repel=True,\n",
    "                 color=\"cos2\",\n",
    "                 text_type=\"label\",\n",
    "                 gradient_cols = (\"#00AFBB\", \"#E7B800\", \"#FC4E07\"),\n",
    "                 short_labels=True,\n",
    "                 quali_sup=True)\n",
    "print(p)"
   ]
  },
  {
   "cell_type": "code",
   "execution_count": 76,
   "metadata": {},
   "outputs": [
    {
     "data": {
      "image/png": "[encoded data removed]",
      "text/plain": [
       "<Figure size 640x480 with 1 Axes>"
      ]
     },
     "metadata": {},
     "output_type": "display_data"
    },
    {
     "name": "stdout",
     "output_type": "stream",
     "text": [
      "\n"
     ]
    }
   ],
   "source": [
    "p = fviz_mca_var(my_mca3,color=\"cos2\",repel=True)\n",
    "print(p)"
   ]
  }
 ],
 "metadata": {
  "kernelspec": {
   "display_name": "Python 3",
   "language": "python",
   "name": "python3"
  },
  "language_info": {
   "codemirror_mode": {
    "name": "ipython",
    "version": 3
   },
   "file_extension": ".py",
   "mimetype": "text/x-python",
   "name": "python",
   "nbconvert_exporter": "python",
   "pygments_lexer": "ipython3",
   "version": "3.10.5"
  },
  "orig_nbformat": 4,
  "vscode": {
   "interpreter": {
    "hash": "33c21fde6dc523fbc7c154ee58984d21664bddd64126b134548012e0ca003065"
   }
  }
 },
 "nbformat": 4,
 "nbformat_minor": 2
}
