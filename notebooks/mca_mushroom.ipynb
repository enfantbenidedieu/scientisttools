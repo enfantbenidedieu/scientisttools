{
 "cells": [
  {
   "attachments": {},
   "cell_type": "markdown",
   "metadata": {},
   "source": [
    "# MCA"
   ]
  },
  {
   "cell_type": "code",
   "execution_count": 1,
   "metadata": {},
   "outputs": [
    {
     "name": "stdout",
     "output_type": "stream",
     "text": [
      "<class 'pandas.core.frame.DataFrame'>\n",
      "RangeIndex: 4124 entries, 0 to 4123\n",
      "Data columns (total 19 columns):\n",
      " #   Column             Non-Null Count  Dtype \n",
      "---  ------             --------------  ----- \n",
      " 0   capshape           4124 non-null   object\n",
      " 1   capsurface         4124 non-null   object\n",
      " 2   capcolor           4124 non-null   object\n",
      " 3   bruises            4124 non-null   object\n",
      " 4   gillattachment     4124 non-null   object\n",
      " 5   gillspacing        4124 non-null   object\n",
      " 6   gillsize           4124 non-null   object\n",
      " 7   gillcolor          4124 non-null   object\n",
      " 8   stalkshape         4124 non-null   object\n",
      " 9   stalksurfaceabove  4124 non-null   object\n",
      " 10  stalksurfacebelow  4124 non-null   object\n",
      " 11  stalkcoloraboveri  4124 non-null   object\n",
      " 12  stalkcolorbelowri  4124 non-null   object\n",
      " 13  veilcolor          4124 non-null   object\n",
      " 14  ringnumber         4124 non-null   object\n",
      " 15  ringtype           4124 non-null   object\n",
      " 16  sporeprintcolor    4124 non-null   object\n",
      " 17  population         4124 non-null   object\n",
      " 18  habitat            4124 non-null   object\n",
      "dtypes: object(19)\n",
      "memory usage: 612.3+ KB\n"
     ]
    }
   ],
   "source": [
    "#changement de dossier\n",
    "import os\n",
    "os.chdir(\"d:/Bureau/PythonProject/packages/scientisttools/data/\")\n",
    "\n",
    "#importation des données\n",
    "import pandas\n",
    "df = pandas.read_excel(\"mushroom_acm.xlsx\")\n",
    "#df = pandas.read_excel(\"canines.xlsx\")\n",
    "df.info()"
   ]
  },
  {
   "cell_type": "code",
   "execution_count": 2,
   "metadata": {},
   "outputs": [
    {
     "name": "stderr",
     "output_type": "stream",
     "text": [
      "c:\\Users\\duver\\AppData\\Local\\Programs\\Python\\Python310\\lib\\site-packages\\numpy\\core\\fromnumeric.py:59: FutureWarning: 'DataFrame.swapaxes' is deprecated and will be removed in a future version. Please use 'DataFrame.transpose' instead.\n",
      "c:\\Users\\duver\\AppData\\Local\\Programs\\Python\\Python310\\lib\\site-packages\\numpy\\core\\fromnumeric.py:59: FutureWarning: 'DataFrame.swapaxes' is deprecated and will be removed in a future version. Please use 'DataFrame.transpose' instead.\n",
      "c:\\Users\\duver\\AppData\\Local\\Programs\\Python\\Python310\\lib\\site-packages\\numpy\\core\\fromnumeric.py:59: FutureWarning: 'DataFrame.swapaxes' is deprecated and will be removed in a future version. Please use 'DataFrame.transpose' instead.\n",
      "c:\\Users\\duver\\AppData\\Local\\Programs\\Python\\Python310\\lib\\site-packages\\numpy\\core\\fromnumeric.py:59: FutureWarning: 'DataFrame.swapaxes' is deprecated and will be removed in a future version. Please use 'DataFrame.transpose' instead.\n",
      "c:\\Users\\duver\\AppData\\Local\\Programs\\Python\\Python310\\lib\\site-packages\\numpy\\core\\fromnumeric.py:59: FutureWarning: 'DataFrame.swapaxes' is deprecated and will be removed in a future version. Please use 'DataFrame.transpose' instead.\n",
      "c:\\Users\\duver\\AppData\\Local\\Programs\\Python\\Python310\\lib\\site-packages\\numpy\\core\\fromnumeric.py:59: FutureWarning: 'DataFrame.swapaxes' is deprecated and will be removed in a future version. Please use 'DataFrame.transpose' instead.\n",
      "c:\\Users\\duver\\AppData\\Local\\Programs\\Python\\Python310\\lib\\site-packages\\numpy\\core\\fromnumeric.py:59: FutureWarning: 'DataFrame.swapaxes' is deprecated and will be removed in a future version. Please use 'DataFrame.transpose' instead.\n",
      "c:\\Users\\duver\\AppData\\Local\\Programs\\Python\\Python310\\lib\\site-packages\\numpy\\core\\fromnumeric.py:59: FutureWarning: 'DataFrame.swapaxes' is deprecated and will be removed in a future version. Please use 'DataFrame.transpose' instead.\n",
      "c:\\Users\\duver\\AppData\\Local\\Programs\\Python\\Python310\\lib\\site-packages\\numpy\\core\\fromnumeric.py:59: FutureWarning: 'DataFrame.swapaxes' is deprecated and will be removed in a future version. Please use 'DataFrame.transpose' instead.\n",
      "c:\\Users\\duver\\AppData\\Local\\Programs\\Python\\Python310\\lib\\site-packages\\numpy\\core\\fromnumeric.py:59: FutureWarning: 'DataFrame.swapaxes' is deprecated and will be removed in a future version. Please use 'DataFrame.transpose' instead.\n",
      "c:\\Users\\duver\\AppData\\Local\\Programs\\Python\\Python310\\lib\\site-packages\\numpy\\core\\fromnumeric.py:59: FutureWarning: 'DataFrame.swapaxes' is deprecated and will be removed in a future version. Please use 'DataFrame.transpose' instead.\n",
      "c:\\Users\\duver\\AppData\\Local\\Programs\\Python\\Python310\\lib\\site-packages\\numpy\\core\\fromnumeric.py:59: FutureWarning: 'DataFrame.swapaxes' is deprecated and will be removed in a future version. Please use 'DataFrame.transpose' instead.\n",
      "c:\\Users\\duver\\AppData\\Local\\Programs\\Python\\Python310\\lib\\site-packages\\numpy\\core\\fromnumeric.py:59: FutureWarning: 'DataFrame.swapaxes' is deprecated and will be removed in a future version. Please use 'DataFrame.transpose' instead.\n",
      "c:\\Users\\duver\\AppData\\Local\\Programs\\Python\\Python310\\lib\\site-packages\\numpy\\core\\fromnumeric.py:59: FutureWarning: 'DataFrame.swapaxes' is deprecated and will be removed in a future version. Please use 'DataFrame.transpose' instead.\n",
      "c:\\Users\\duver\\AppData\\Local\\Programs\\Python\\Python310\\lib\\site-packages\\numpy\\core\\fromnumeric.py:59: FutureWarning: 'DataFrame.swapaxes' is deprecated and will be removed in a future version. Please use 'DataFrame.transpose' instead.\n",
      "c:\\Users\\duver\\AppData\\Local\\Programs\\Python\\Python310\\lib\\site-packages\\numpy\\core\\fromnumeric.py:59: FutureWarning: 'DataFrame.swapaxes' is deprecated and will be removed in a future version. Please use 'DataFrame.transpose' instead.\n",
      "c:\\Users\\duver\\AppData\\Local\\Programs\\Python\\Python310\\lib\\site-packages\\numpy\\core\\fromnumeric.py:59: FutureWarning: 'DataFrame.swapaxes' is deprecated and will be removed in a future version. Please use 'DataFrame.transpose' instead.\n",
      "c:\\Users\\duver\\AppData\\Local\\Programs\\Python\\Python310\\lib\\site-packages\\numpy\\core\\fromnumeric.py:59: FutureWarning: 'DataFrame.swapaxes' is deprecated and will be removed in a future version. Please use 'DataFrame.transpose' instead.\n",
      "c:\\Users\\duver\\AppData\\Local\\Programs\\Python\\Python310\\lib\\site-packages\\numpy\\core\\fromnumeric.py:59: FutureWarning: 'DataFrame.swapaxes' is deprecated and will be removed in a future version. Please use 'DataFrame.transpose' instead.\n",
      "c:\\Users\\duver\\AppData\\Local\\Programs\\Python\\Python310\\lib\\site-packages\\numpy\\core\\fromnumeric.py:59: FutureWarning: 'DataFrame.swapaxes' is deprecated and will be removed in a future version. Please use 'DataFrame.transpose' instead.\n",
      "c:\\Users\\duver\\AppData\\Local\\Programs\\Python\\Python310\\lib\\site-packages\\numpy\\core\\fromnumeric.py:59: FutureWarning: 'DataFrame.swapaxes' is deprecated and will be removed in a future version. Please use 'DataFrame.transpose' instead.\n",
      "c:\\Users\\duver\\AppData\\Local\\Programs\\Python\\Python310\\lib\\site-packages\\numpy\\core\\fromnumeric.py:59: FutureWarning: 'DataFrame.swapaxes' is deprecated and will be removed in a future version. Please use 'DataFrame.transpose' instead.\n",
      "c:\\Users\\duver\\AppData\\Local\\Programs\\Python\\Python310\\lib\\site-packages\\numpy\\core\\fromnumeric.py:59: FutureWarning: 'DataFrame.swapaxes' is deprecated and will be removed in a future version. Please use 'DataFrame.transpose' instead.\n"
     ]
    },
    {
     "data": {
      "text/html": [
       "<style>#sk-container-id-1 {color: black;background-color: white;}#sk-container-id-1 pre{padding: 0;}#sk-container-id-1 div.sk-toggleable {background-color: white;}#sk-container-id-1 label.sk-toggleable__label {cursor: pointer;display: block;width: 100%;margin-bottom: 0;padding: 0.3em;box-sizing: border-box;text-align: center;}#sk-container-id-1 label.sk-toggleable__label-arrow:before {content: \"▸\";float: left;margin-right: 0.25em;color: #696969;}#sk-container-id-1 label.sk-toggleable__label-arrow:hover:before {color: black;}#sk-container-id-1 div.sk-estimator:hover label.sk-toggleable__label-arrow:before {color: black;}#sk-container-id-1 div.sk-toggleable__content {max-height: 0;max-width: 0;overflow: hidden;text-align: left;background-color: #f0f8ff;}#sk-container-id-1 div.sk-toggleable__content pre {margin: 0.2em;color: black;border-radius: 0.25em;background-color: #f0f8ff;}#sk-container-id-1 input.sk-toggleable__control:checked~div.sk-toggleable__content {max-height: 200px;max-width: 100%;overflow: auto;}#sk-container-id-1 input.sk-toggleable__control:checked~label.sk-toggleable__label-arrow:before {content: \"▾\";}#sk-container-id-1 div.sk-estimator input.sk-toggleable__control:checked~label.sk-toggleable__label {background-color: #d4ebff;}#sk-container-id-1 div.sk-label input.sk-toggleable__control:checked~label.sk-toggleable__label {background-color: #d4ebff;}#sk-container-id-1 input.sk-hidden--visually {border: 0;clip: rect(1px 1px 1px 1px);clip: rect(1px, 1px, 1px, 1px);height: 1px;margin: -1px;overflow: hidden;padding: 0;position: absolute;width: 1px;}#sk-container-id-1 div.sk-estimator {font-family: monospace;background-color: #f0f8ff;border: 1px dotted black;border-radius: 0.25em;box-sizing: border-box;margin-bottom: 0.5em;}#sk-container-id-1 div.sk-estimator:hover {background-color: #d4ebff;}#sk-container-id-1 div.sk-parallel-item::after {content: \"\";width: 100%;border-bottom: 1px solid gray;flex-grow: 1;}#sk-container-id-1 div.sk-label:hover label.sk-toggleable__label {background-color: #d4ebff;}#sk-container-id-1 div.sk-serial::before {content: \"\";position: absolute;border-left: 1px solid gray;box-sizing: border-box;top: 0;bottom: 0;left: 50%;z-index: 0;}#sk-container-id-1 div.sk-serial {display: flex;flex-direction: column;align-items: center;background-color: white;padding-right: 0.2em;padding-left: 0.2em;position: relative;}#sk-container-id-1 div.sk-item {position: relative;z-index: 1;}#sk-container-id-1 div.sk-parallel {display: flex;align-items: stretch;justify-content: center;background-color: white;position: relative;}#sk-container-id-1 div.sk-item::before, #sk-container-id-1 div.sk-parallel-item::before {content: \"\";position: absolute;border-left: 1px solid gray;box-sizing: border-box;top: 0;bottom: 0;left: 50%;z-index: -1;}#sk-container-id-1 div.sk-parallel-item {display: flex;flex-direction: column;z-index: 1;position: relative;background-color: white;}#sk-container-id-1 div.sk-parallel-item:first-child::after {align-self: flex-end;width: 50%;}#sk-container-id-1 div.sk-parallel-item:last-child::after {align-self: flex-start;width: 50%;}#sk-container-id-1 div.sk-parallel-item:only-child::after {width: 0;}#sk-container-id-1 div.sk-dashed-wrapped {border: 1px dashed gray;margin: 0 0.4em 0.5em 0.4em;box-sizing: border-box;padding-bottom: 0.4em;background-color: white;}#sk-container-id-1 div.sk-label label {font-family: monospace;font-weight: bold;display: inline-block;line-height: 1.2em;}#sk-container-id-1 div.sk-label-container {text-align: center;}#sk-container-id-1 div.sk-container {/* jupyter's `normalize.less` sets `[hidden] { display: none; }` but bootstrap.min.css set `[hidden] { display: none !important; }` so we also need the `!important` here to be able to override the default hidden behavior on the sphinx rendered scikit-learn.org. See: https://github.com/scikit-learn/scikit-learn/issues/21755 */display: inline-block !important;position: relative;}#sk-container-id-1 div.sk-text-repr-fallback {display: none;}</style><div id=\"sk-container-id-1\" class=\"sk-top-container\"><div class=\"sk-text-repr-fallback\"><pre>MCA(parallelize=True,\n",
       "    row_labels=array([   0,    1,    2, ..., 4121, 4122, 4123], dtype=int64),\n",
       "    var_labels=array([&#x27;capshape&#x27;, &#x27;capsurface&#x27;, &#x27;capcolor&#x27;, &#x27;bruises&#x27;, &#x27;gillattachment&#x27;,\n",
       "       &#x27;gillspacing&#x27;, &#x27;gillsize&#x27;, &#x27;gillcolor&#x27;, &#x27;stalkshape&#x27;,\n",
       "       &#x27;stalksurfaceabove&#x27;, &#x27;stalksurfacebelow&#x27;, &#x27;stalkcoloraboveri&#x27;,\n",
       "       &#x27;stalkcolorbelowri&#x27;, &#x27;veilcolor&#x27;, &#x27;ringnumber&#x27;, &#x27;ringtype&#x27;,\n",
       "       &#x27;sporeprintcolor&#x27;, &#x27;population&#x27;, &#x27;habitat&#x27;], dtype=object))</pre><b>In a Jupyter environment, please rerun this cell to show the HTML representation or trust the notebook. <br />On GitHub, the HTML representation is unable to render, please try loading this page with nbviewer.org.</b></div><div class=\"sk-container\" hidden><div class=\"sk-item\"><div class=\"sk-estimator sk-toggleable\"><input class=\"sk-toggleable__control sk-hidden--visually\" id=\"sk-estimator-id-1\" type=\"checkbox\" checked><label for=\"sk-estimator-id-1\" class=\"sk-toggleable__label sk-toggleable__label-arrow\">MCA</label><div class=\"sk-toggleable__content\"><pre>MCA(parallelize=True,\n",
       "    row_labels=array([   0,    1,    2, ..., 4121, 4122, 4123], dtype=int64),\n",
       "    var_labels=array([&#x27;capshape&#x27;, &#x27;capsurface&#x27;, &#x27;capcolor&#x27;, &#x27;bruises&#x27;, &#x27;gillattachment&#x27;,\n",
       "       &#x27;gillspacing&#x27;, &#x27;gillsize&#x27;, &#x27;gillcolor&#x27;, &#x27;stalkshape&#x27;,\n",
       "       &#x27;stalksurfaceabove&#x27;, &#x27;stalksurfacebelow&#x27;, &#x27;stalkcoloraboveri&#x27;,\n",
       "       &#x27;stalkcolorbelowri&#x27;, &#x27;veilcolor&#x27;, &#x27;ringnumber&#x27;, &#x27;ringtype&#x27;,\n",
       "       &#x27;sporeprintcolor&#x27;, &#x27;population&#x27;, &#x27;habitat&#x27;], dtype=object))</pre></div></div></div></div></div>"
      ],
      "text/plain": [
       "MCA(parallelize=True,\n",
       "    row_labels=array([   0,    1,    2, ..., 4121, 4122, 4123], dtype=int64),\n",
       "    var_labels=array(['capshape', 'capsurface', 'capcolor', 'bruises', 'gillattachment',\n",
       "       'gillspacing', 'gillsize', 'gillcolor', 'stalkshape',\n",
       "       'stalksurfaceabove', 'stalksurfacebelow', 'stalkcoloraboveri',\n",
       "       'stalkcolorbelowri', 'veilcolor', 'ringnumber', 'ringtype',\n",
       "       'sporeprintcolor', 'population', 'habitat'], dtype=object))"
      ]
     },
     "execution_count": 2,
     "metadata": {},
     "output_type": "execute_result"
    }
   ],
   "source": [
    "from scientisttools.decomposition import MCA\n",
    "my_mca = MCA(n_components=None,\n",
    "              row_labels=df.index.values,\n",
    "              var_labels=df.columns.values,\n",
    "              mod_labels=None,\n",
    "              matrix_type='completed',\n",
    "              benzecri=True,\n",
    "              greenacre=True,\n",
    "              row_sup_labels=None,\n",
    "              quali_sup_labels=None,\n",
    "              quanti_sup_labels=None,\n",
    "              parallelize=True)\n",
    "#entraînement\n",
    "my_mca.fit(df)"
   ]
  },
  {
   "cell_type": "code",
   "execution_count": 3,
   "metadata": {},
   "outputs": [
    {
     "name": "stdout",
     "output_type": "stream",
     "text": [
      "[3.37993138e-01 3.14143403e-01 2.77878930e-01 2.45259749e-01\n",
      " 2.24977891e-01 2.11197791e-01 1.69615673e-01 1.47169111e-01\n",
      " 1.12736842e-01 9.27934347e-02 8.99591647e-02 8.21022481e-02\n",
      " 7.76640672e-02 6.92042624e-02 6.86477519e-02 6.39109567e-02\n",
      " 5.99691781e-02 5.75428337e-02 5.60466775e-02 5.44489575e-02\n",
      " 5.35031951e-02 5.32705553e-02 5.30480180e-02 5.17137172e-02\n",
      " 5.07706538e-02 5.05961447e-02 4.92516979e-02 4.80638288e-02\n",
      " 4.72480786e-02 4.62808373e-02 4.59205404e-02 4.51508527e-02\n",
      " 4.43270344e-02 4.40205773e-02 4.24815202e-02 4.18901486e-02\n",
      " 4.05379383e-02 3.96867869e-02 3.83675681e-02 3.71779129e-02\n",
      " 3.61814116e-02 3.47012581e-02 3.28866374e-02 3.20190812e-02\n",
      " 3.05073005e-02 2.97877818e-02 2.88363673e-02 2.87524455e-02\n",
      " 2.75504921e-02 2.69452457e-02 2.55152312e-02 2.45246654e-02\n",
      " 2.34311127e-02 2.31780119e-02 2.10241941e-02 2.01053592e-02\n",
      " 1.82270200e-02 1.67886951e-02 1.60881530e-02 1.58198753e-02\n",
      " 1.53776564e-02 1.48717342e-02 1.38005240e-02 1.26382406e-02\n",
      " 1.15507872e-02 1.00549621e-02 8.77600517e-03 8.03408135e-03\n",
      " 7.13149119e-03 4.84066360e-03 3.63757655e-03 2.98019421e-03\n",
      " 1.87943955e-03 1.48744708e-03 8.77624579e-04 8.04413359e-04\n",
      " 2.38206205e-04 3.28831865e-30 6.57608253e-31 3.73203214e-31\n",
      " 2.69435274e-31 1.91202862e-31 1.69652776e-31]\n"
     ]
    }
   ],
   "source": [
    "#valeurs propres\n",
    "print(my_mca.eig_[0])"
   ]
  }
 ],
 "metadata": {
  "kernelspec": {
   "display_name": "Python 3",
   "language": "python",
   "name": "python3"
  },
  "language_info": {
   "codemirror_mode": {
    "name": "ipython",
    "version": 3
   },
   "file_extension": ".py",
   "mimetype": "text/x-python",
   "name": "python",
   "nbconvert_exporter": "python",
   "pygments_lexer": "ipython3",
   "version": "3.10.5"
  },
  "orig_nbformat": 4
 },
 "nbformat": 4,
 "nbformat_minor": 2
}
