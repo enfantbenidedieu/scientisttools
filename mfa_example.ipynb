{
 "cells": [
  {
   "attachments": {},
   "cell_type": "markdown",
   "metadata": {},
   "source": [
    "# Multiple Factor Analysis (MFA)"
   ]
  },
  {
   "cell_type": "code",
   "execution_count": 1,
   "metadata": {},
   "outputs": [
    {
     "name": "stdout",
     "output_type": "stream",
     "text": [
      "<class 'pandas.core.frame.DataFrame'>\n",
      "Index: 21 entries, 2EL  to T2  \n",
      "Data columns (total 31 columns):\n",
      " #   Column                         Non-Null Count  Dtype  \n",
      "---  ------                         --------------  -----  \n",
      " 0   Label                          21 non-null     object \n",
      " 1   Soil                           21 non-null     object \n",
      " 2   Odor.Intensity.before.shaking  21 non-null     float64\n",
      " 3   Aroma.quality.before.shaking   21 non-null     float64\n",
      " 4   Fruity.before.shaking          21 non-null     float64\n",
      " 5   Flower.before.shaking          21 non-null     float64\n",
      " 6   Spice.before.shaking           21 non-null     float64\n",
      " 7   Visual.intensity               21 non-null     float64\n",
      " 8   Nuance                         21 non-null     float64\n",
      " 9   Surface.feeling                21 non-null     float64\n",
      " 10  Odor.Intensity                 21 non-null     float64\n",
      " 11  Quality.of.odour               21 non-null     float64\n",
      " 12  Fruity                         21 non-null     float64\n",
      " 13  Flower                         21 non-null     float64\n",
      " 14  Spice                          21 non-null     float64\n",
      " 15  Plante                         21 non-null     float64\n",
      " 16  Phenolic                       21 non-null     float64\n",
      " 17  Aroma.intensity                21 non-null     float64\n",
      " 18  Aroma.persistency              21 non-null     float64\n",
      " 19  Aroma.quality                  21 non-null     float64\n",
      " 20  Attack.intensity               21 non-null     float64\n",
      " 21  Acidity                        21 non-null     float64\n",
      " 22  Astringency                    21 non-null     float64\n",
      " 23  Alcohol                        21 non-null     float64\n",
      " 24  Balance                        21 non-null     float64\n",
      " 25  Smooth                         21 non-null     float64\n",
      " 26  Bitterness                     21 non-null     float64\n",
      " 27  Intensity                      21 non-null     float64\n",
      " 28  Harmony                        21 non-null     float64\n",
      " 29  Overall.quality                21 non-null     float64\n",
      " 30  Typical                        21 non-null     float64\n",
      "dtypes: float64(29), object(2)\n",
      "memory usage: 5.2+ KB\n"
     ]
    }
   ],
   "source": [
    "#changement de dossier\n",
    "import os\n",
    "os.chdir(\"d:/Bureau/PythonProject/packages/scientisttools/data/\")\n",
    "\n",
    "#importation des données\n",
    "import pandas as pd\n",
    "url = \"http://factominer.free.fr/factomethods/datasets/wine.txt\"\n",
    "wine = pd.read_table(url,sep=\"\\t\")\n",
    "wine.info()"
   ]
  },
  {
   "cell_type": "markdown",
   "metadata": {},
   "source": [
    "Pour réaliser un analyse factorielle multiple avec scientisttools, nous devons effectuer un traitement de notre jeu de données"
   ]
  },
  {
   "cell_type": "markdown",
   "metadata": {},
   "source": [
    "### MFA"
   ]
  },
  {
   "cell_type": "code",
   "execution_count": 2,
   "metadata": {},
   "outputs": [],
   "source": [
    "wine2 = pd.DataFrame(data=wine.values,\n",
    "                     columns = pd.MultiIndex.from_tuples(\n",
    "    [\n",
    "        (\"others\",\"Label\"),\n",
    "        (\"others\",\"Soil\"),\n",
    "        (\"before shaking\",\"Odor.Intensity\"),\n",
    "        (\"before shaking\",\"Aroma.quality\"),\n",
    "        (\"before shaking\",\"Fruity\"),\n",
    "        (\"before shaking\",\"Flower\"),\n",
    "        (\"before shaking\",\"Spice\"),\n",
    "        (\"vision\",\"Visual.intensity\"),\n",
    "        (\"vision\",\"Nuance\"),\n",
    "        (\"vision\",\"Surface.feeling\"),\n",
    "        (\"after shaking\",\"Odor.intensity\"),\n",
    "        (\"after shaking\",\"Quality.of.odour\"),\n",
    "        (\"after shaking\",\"Fruity\"),\n",
    "        (\"after shaking\",\"Flower\"),\n",
    "        (\"after shaking\",\"Spice\"),\n",
    "        (\"after shaking\",\"Plante\"),\n",
    "        (\"after shaking\",\"Phenolic\"),\n",
    "        (\"after shaking\",\"Aroma.intensity\"),\n",
    "        (\"after shaking\",\"Aroma.persistency\"),\n",
    "        (\"after shaking\",\"Aroma.quality\"),\n",
    "        (\"gustation\",\"Attack.intensity\"),\n",
    "        (\"gustation\",\"Acidity\"),\n",
    "        (\"gustation\",\"Astringency\"),\n",
    "        (\"gustation\",\"Alcohol\"),\n",
    "        (\"gustation\",\"Balance\"),\n",
    "        (\"gustation\",\"Smooth\"),\n",
    "        (\"gustation\",\"Bitterness\"),\n",
    "        (\"gustation\",\"Intensity\"),\n",
    "        (\"gustation\",\"Harmony\"),\n",
    "        (\"overall judgement\",\"Overall.quality\"),\n",
    "        (\"overall judgement\",\"Typical\")\n",
    "    ]\n",
    "))\n",
    "wine2.index= wine.index"
   ]
  },
  {
   "cell_type": "code",
   "execution_count": 3,
   "metadata": {},
   "outputs": [
    {
     "data": {
      "text/plain": [
       "['after shaking', 'before shaking', 'gustation', 'vision']"
      ]
     },
     "execution_count": 3,
     "metadata": {},
     "output_type": "execute_result"
    }
   ],
   "source": [
    "groups = wine2.columns.levels[0].drop([\"others\",\"overall judgement\"]).tolist()\n",
    "groups"
   ]
  },
  {
   "cell_type": "code",
   "execution_count": 4,
   "metadata": {},
   "outputs": [
    {
     "name": "stdout",
     "output_type": "stream",
     "text": [
      "<class 'pandas.core.frame.DataFrame'>\n",
      "Index: 21 entries, 2EL  to T2  \n",
      "Data columns (total 31 columns):\n",
      " #   Column                         Non-Null Count  Dtype  \n",
      "---  ------                         --------------  -----  \n",
      " 0   Label                          21 non-null     object \n",
      " 1   Soil                           21 non-null     object \n",
      " 2   Odor.Intensity.before.shaking  21 non-null     float64\n",
      " 3   Aroma.quality.before.shaking   21 non-null     float64\n",
      " 4   Fruity.before.shaking          21 non-null     float64\n",
      " 5   Flower.before.shaking          21 non-null     float64\n",
      " 6   Spice.before.shaking           21 non-null     float64\n",
      " 7   Visual.intensity               21 non-null     float64\n",
      " 8   Nuance                         21 non-null     float64\n",
      " 9   Surface.feeling                21 non-null     float64\n",
      " 10  Odor.Intensity                 21 non-null     float64\n",
      " 11  Quality.of.odour               21 non-null     float64\n",
      " 12  Fruity                         21 non-null     float64\n",
      " 13  Flower                         21 non-null     float64\n",
      " 14  Spice                          21 non-null     float64\n",
      " 15  Plante                         21 non-null     float64\n",
      " 16  Phenolic                       21 non-null     float64\n",
      " 17  Aroma.intensity                21 non-null     float64\n",
      " 18  Aroma.persistency              21 non-null     float64\n",
      " 19  Aroma.quality                  21 non-null     float64\n",
      " 20  Attack.intensity               21 non-null     float64\n",
      " 21  Acidity                        21 non-null     float64\n",
      " 22  Astringency                    21 non-null     float64\n",
      " 23  Alcohol                        21 non-null     float64\n",
      " 24  Balance                        21 non-null     float64\n",
      " 25  Smooth                         21 non-null     float64\n",
      " 26  Bitterness                     21 non-null     float64\n",
      " 27  Intensity                      21 non-null     float64\n",
      " 28  Harmony                        21 non-null     float64\n",
      " 29  Overall.quality                21 non-null     float64\n",
      " 30  Typical                        21 non-null     float64\n",
      "dtypes: float64(29), object(2)\n",
      "memory usage: 5.2+ KB\n"
     ]
    }
   ],
   "source": [
    "for g in groups:\n",
    "    wine2[g] = wine2[g].astype(\"float\")\n",
    "wine.info()"
   ]
  },
  {
   "cell_type": "code",
   "execution_count": 5,
   "metadata": {},
   "outputs": [
    {
     "name": "stdout",
     "output_type": "stream",
     "text": [
      "<class 'pandas.core.frame.DataFrame'>\n",
      "Index: 21 entries, 2EL  to T2  \n",
      "Data columns (total 27 columns):\n",
      " #   Column                              Non-Null Count  Dtype  \n",
      "---  ------                              --------------  -----  \n",
      " 0   (after shaking, Odor.intensity)     21 non-null     float64\n",
      " 1   (after shaking, Quality.of.odour)   21 non-null     float64\n",
      " 2   (after shaking, Fruity)             21 non-null     float64\n",
      " 3   (after shaking, Flower)             21 non-null     float64\n",
      " 4   (after shaking, Spice)              21 non-null     float64\n",
      " 5   (after shaking, Plante)             21 non-null     float64\n",
      " 6   (after shaking, Phenolic)           21 non-null     float64\n",
      " 7   (after shaking, Aroma.intensity)    21 non-null     float64\n",
      " 8   (after shaking, Aroma.persistency)  21 non-null     float64\n",
      " 9   (after shaking, Aroma.quality)      21 non-null     float64\n",
      " 10  (before shaking, Odor.Intensity)    21 non-null     float64\n",
      " 11  (before shaking, Aroma.quality)     21 non-null     float64\n",
      " 12  (before shaking, Fruity)            21 non-null     float64\n",
      " 13  (before shaking, Flower)            21 non-null     float64\n",
      " 14  (before shaking, Spice)             21 non-null     float64\n",
      " 15  (gustation, Attack.intensity)       21 non-null     float64\n",
      " 16  (gustation, Acidity)                21 non-null     float64\n",
      " 17  (gustation, Astringency)            21 non-null     float64\n",
      " 18  (gustation, Alcohol)                21 non-null     float64\n",
      " 19  (gustation, Balance)                21 non-null     float64\n",
      " 20  (gustation, Smooth)                 21 non-null     float64\n",
      " 21  (gustation, Bitterness)             21 non-null     float64\n",
      " 22  (gustation, Intensity)              21 non-null     float64\n",
      " 23  (gustation, Harmony)                21 non-null     float64\n",
      " 24  (vision, Visual.intensity)          21 non-null     float64\n",
      " 25  (vision, Nuance)                    21 non-null     float64\n",
      " 26  (vision, Surface.feeling)           21 non-null     float64\n",
      "dtypes: float64(27)\n",
      "memory usage: 4.6+ KB\n",
      "None\n"
     ]
    },
    {
     "data": {
      "text/html": [
       "<style>#sk-container-id-1 {color: black;background-color: white;}#sk-container-id-1 pre{padding: 0;}#sk-container-id-1 div.sk-toggleable {background-color: white;}#sk-container-id-1 label.sk-toggleable__label {cursor: pointer;display: block;width: 100%;margin-bottom: 0;padding: 0.3em;box-sizing: border-box;text-align: center;}#sk-container-id-1 label.sk-toggleable__label-arrow:before {content: \"▸\";float: left;margin-right: 0.25em;color: #696969;}#sk-container-id-1 label.sk-toggleable__label-arrow:hover:before {color: black;}#sk-container-id-1 div.sk-estimator:hover label.sk-toggleable__label-arrow:before {color: black;}#sk-container-id-1 div.sk-toggleable__content {max-height: 0;max-width: 0;overflow: hidden;text-align: left;background-color: #f0f8ff;}#sk-container-id-1 div.sk-toggleable__content pre {margin: 0.2em;color: black;border-radius: 0.25em;background-color: #f0f8ff;}#sk-container-id-1 input.sk-toggleable__control:checked~div.sk-toggleable__content {max-height: 200px;max-width: 100%;overflow: auto;}#sk-container-id-1 input.sk-toggleable__control:checked~label.sk-toggleable__label-arrow:before {content: \"▾\";}#sk-container-id-1 div.sk-estimator input.sk-toggleable__control:checked~label.sk-toggleable__label {background-color: #d4ebff;}#sk-container-id-1 div.sk-label input.sk-toggleable__control:checked~label.sk-toggleable__label {background-color: #d4ebff;}#sk-container-id-1 input.sk-hidden--visually {border: 0;clip: rect(1px 1px 1px 1px);clip: rect(1px, 1px, 1px, 1px);height: 1px;margin: -1px;overflow: hidden;padding: 0;position: absolute;width: 1px;}#sk-container-id-1 div.sk-estimator {font-family: monospace;background-color: #f0f8ff;border: 1px dotted black;border-radius: 0.25em;box-sizing: border-box;margin-bottom: 0.5em;}#sk-container-id-1 div.sk-estimator:hover {background-color: #d4ebff;}#sk-container-id-1 div.sk-parallel-item::after {content: \"\";width: 100%;border-bottom: 1px solid gray;flex-grow: 1;}#sk-container-id-1 div.sk-label:hover label.sk-toggleable__label {background-color: #d4ebff;}#sk-container-id-1 div.sk-serial::before {content: \"\";position: absolute;border-left: 1px solid gray;box-sizing: border-box;top: 0;bottom: 0;left: 50%;z-index: 0;}#sk-container-id-1 div.sk-serial {display: flex;flex-direction: column;align-items: center;background-color: white;padding-right: 0.2em;padding-left: 0.2em;position: relative;}#sk-container-id-1 div.sk-item {position: relative;z-index: 1;}#sk-container-id-1 div.sk-parallel {display: flex;align-items: stretch;justify-content: center;background-color: white;position: relative;}#sk-container-id-1 div.sk-item::before, #sk-container-id-1 div.sk-parallel-item::before {content: \"\";position: absolute;border-left: 1px solid gray;box-sizing: border-box;top: 0;bottom: 0;left: 50%;z-index: -1;}#sk-container-id-1 div.sk-parallel-item {display: flex;flex-direction: column;z-index: 1;position: relative;background-color: white;}#sk-container-id-1 div.sk-parallel-item:first-child::after {align-self: flex-end;width: 50%;}#sk-container-id-1 div.sk-parallel-item:last-child::after {align-self: flex-start;width: 50%;}#sk-container-id-1 div.sk-parallel-item:only-child::after {width: 0;}#sk-container-id-1 div.sk-dashed-wrapped {border: 1px dashed gray;margin: 0 0.4em 0.5em 0.4em;box-sizing: border-box;padding-bottom: 0.4em;background-color: white;}#sk-container-id-1 div.sk-label label {font-family: monospace;font-weight: bold;display: inline-block;line-height: 1.2em;}#sk-container-id-1 div.sk-label-container {text-align: center;}#sk-container-id-1 div.sk-container {/* jupyter's `normalize.less` sets `[hidden] { display: none; }` but bootstrap.min.css set `[hidden] { display: none !important; }` so we also need the `!important` here to be able to override the default hidden behavior on the sphinx rendered scikit-learn.org. See: https://github.com/scikit-learn/scikit-learn/issues/21755 */display: inline-block !important;position: relative;}#sk-container-id-1 div.sk-text-repr-fallback {display: none;}</style><div id=\"sk-container-id-1\" class=\"sk-top-container\"><div class=\"sk-text-repr-fallback\"><pre>MFA(groups=[&#x27;after shaking&#x27;, &#x27;before shaking&#x27;, &#x27;gustation&#x27;, &#x27;vision&#x27;],\n",
       "    groups_sup=[&#x27;others&#x27;, &#x27;overall judgement&#x27;], n_components=3,\n",
       "    parallelize=True,\n",
       "    row_labels=Index([&#x27;2EL &#x27;, &#x27;1CHA&#x27;, &#x27;1FON&#x27;, &#x27;1VAU&#x27;, &#x27;1DAM&#x27;, &#x27;2BOU&#x27;, &#x27;1BOI&#x27;, &#x27;3EL &#x27;, &#x27;DOM1&#x27;,\n",
       "       &#x27;1TUR&#x27;, &#x27;4EL &#x27;, &#x27;PER1&#x27;, &#x27;2DAM&#x27;, &#x27;1POY&#x27;, &#x27;1ING&#x27;, &#x27;1BEN&#x27;, &#x27;2BEA&#x27;, &#x27;1ROC&#x27;,\n",
       "       &#x27;2ING&#x27;, &#x27;T1  &#x27;, &#x27;T2  &#x27;],\n",
       "      dtype=&#x27;object&#x27;))</pre><b>In a Jupyter environment, please rerun this cell to show the HTML representation or trust the notebook. <br />On GitHub, the HTML representation is unable to render, please try loading this page with nbviewer.org.</b></div><div class=\"sk-container\" hidden><div class=\"sk-item\"><div class=\"sk-estimator sk-toggleable\"><input class=\"sk-toggleable__control sk-hidden--visually\" id=\"sk-estimator-id-1\" type=\"checkbox\" checked><label for=\"sk-estimator-id-1\" class=\"sk-toggleable__label sk-toggleable__label-arrow\">MFA</label><div class=\"sk-toggleable__content\"><pre>MFA(groups=[&#x27;after shaking&#x27;, &#x27;before shaking&#x27;, &#x27;gustation&#x27;, &#x27;vision&#x27;],\n",
       "    groups_sup=[&#x27;others&#x27;, &#x27;overall judgement&#x27;], n_components=3,\n",
       "    parallelize=True,\n",
       "    row_labels=Index([&#x27;2EL &#x27;, &#x27;1CHA&#x27;, &#x27;1FON&#x27;, &#x27;1VAU&#x27;, &#x27;1DAM&#x27;, &#x27;2BOU&#x27;, &#x27;1BOI&#x27;, &#x27;3EL &#x27;, &#x27;DOM1&#x27;,\n",
       "       &#x27;1TUR&#x27;, &#x27;4EL &#x27;, &#x27;PER1&#x27;, &#x27;2DAM&#x27;, &#x27;1POY&#x27;, &#x27;1ING&#x27;, &#x27;1BEN&#x27;, &#x27;2BEA&#x27;, &#x27;1ROC&#x27;,\n",
       "       &#x27;2ING&#x27;, &#x27;T1  &#x27;, &#x27;T2  &#x27;],\n",
       "      dtype=&#x27;object&#x27;))</pre></div></div></div></div></div>"
      ],
      "text/plain": [
       "MFA(groups=['after shaking', 'before shaking', 'gustation', 'vision'],\n",
       "    groups_sup=['others', 'overall judgement'], n_components=3,\n",
       "    parallelize=True,\n",
       "    row_labels=Index(['2EL ', '1CHA', '1FON', '1VAU', '1DAM', '2BOU', '1BOI', '3EL ', 'DOM1',\n",
       "       '1TUR', '4EL ', 'PER1', '2DAM', '1POY', '1ING', '1BEN', '2BEA', '1ROC',\n",
       "       '2ING', 'T1  ', 'T2  '],\n",
       "      dtype='object'))"
      ]
     },
     "execution_count": 5,
     "metadata": {},
     "output_type": "execute_result"
    }
   ],
   "source": [
    "from scientisttools.decomposition import MFA\n",
    "\n",
    "mfa = MFA(n_components=3,\n",
    "          groups=groups,\n",
    "          groups_sup=[\"others\",\"overall judgement\"],\n",
    "          row_labels=wine2.index,\n",
    "          parallelize=True)\n",
    "\n",
    "mfa.fit(wine2)"
   ]
  },
  {
   "cell_type": "code",
   "execution_count": 6,
   "metadata": {},
   "outputs": [
    {
     "data": {
      "text/html": [
       "<div>\n",
       "<style scoped>\n",
       "    .dataframe tbody tr th:only-of-type {\n",
       "        vertical-align: middle;\n",
       "    }\n",
       "\n",
       "    .dataframe tbody tr th {\n",
       "        vertical-align: top;\n",
       "    }\n",
       "\n",
       "    .dataframe thead th {\n",
       "        text-align: right;\n",
       "    }\n",
       "</style>\n",
       "<table border=\"1\" class=\"dataframe\">\n",
       "  <thead>\n",
       "    <tr style=\"text-align: right;\">\n",
       "      <th></th>\n",
       "      <th>eigenvalue</th>\n",
       "      <th>difference</th>\n",
       "      <th>proportion</th>\n",
       "      <th>cumulative</th>\n",
       "    </tr>\n",
       "  </thead>\n",
       "  <tbody>\n",
       "    <tr>\n",
       "      <th>Dim.1</th>\n",
       "      <td>3.461950</td>\n",
       "      <td>2.095182</td>\n",
       "      <td>49.378382</td>\n",
       "      <td>49.378382</td>\n",
       "    </tr>\n",
       "    <tr>\n",
       "      <th>Dim.2</th>\n",
       "      <td>1.366768</td>\n",
       "      <td>0.751339</td>\n",
       "      <td>19.494446</td>\n",
       "      <td>68.872829</td>\n",
       "    </tr>\n",
       "    <tr>\n",
       "      <th>Dim.3</th>\n",
       "      <td>0.615429</td>\n",
       "      <td>0.243229</td>\n",
       "      <td>8.777969</td>\n",
       "      <td>77.650797</td>\n",
       "    </tr>\n",
       "  </tbody>\n",
       "</table>\n",
       "</div>"
      ],
      "text/plain": [
       "       eigenvalue  difference  proportion  cumulative\n",
       "Dim.1    3.461950    2.095182   49.378382   49.378382\n",
       "Dim.2    1.366768    0.751339   19.494446   68.872829\n",
       "Dim.3    0.615429    0.243229    8.777969   77.650797"
      ]
     },
     "metadata": {},
     "output_type": "display_data"
    }
   ],
   "source": [
    "# Valeurs propres\n",
    "from scientisttools.extractfactor import get_eig\n",
    "eig = get_eig(mfa)\n",
    "display(eig)"
   ]
  },
  {
   "cell_type": "code",
   "execution_count": 7,
   "metadata": {},
   "outputs": [
    {
     "data": {
      "image/png": "[encoded data removed]",
      "text/plain": [
       "<Figure size 720x432 with 1 Axes>"
      ]
     },
     "metadata": {
      "needs_background": "light"
     },
     "output_type": "display_data"
    }
   ],
   "source": [
    "from scientisttools.pyplot import plot_eigenvalues\n",
    "import matplotlib.pyplot as plt\n",
    "\n",
    "fig, axe = plt.subplots(figsize=(10,6))\n",
    "plot_eigenvalues(mfa,choice=\"eigenvalue\",ax=axe)\n",
    "plt.show()"
   ]
  },
  {
   "cell_type": "code",
   "execution_count": 8,
   "metadata": {},
   "outputs": [
    {
     "data": {
      "image/png": "[encoded data removed]",
      "text/plain": [
       "<Figure size 864x864 with 1 Axes>"
      ]
     },
     "metadata": {
      "needs_background": "light"
     },
     "output_type": "display_data"
    }
   ],
   "source": [
    "from scientisttools.pyplot import plotMFA\n",
    "\n",
    "fig, axe = plt.subplots(figsize=(12,12))\n",
    "plotMFA(mfa,repel=True,ax=axe)\n",
    "plt.show()"
   ]
  },
  {
   "cell_type": "code",
   "execution_count": 9,
   "metadata": {},
   "outputs": [
    {
     "name": "stdout",
     "output_type": "stream",
     "text": [
      "                     Multiple Factor Analysis - Results                     \n",
      "\n",
      "Importance of components\n",
      "|                         |   Dim.1 |   Dim.2 |   Dim.3 |\n",
      "|:------------------------|--------:|--------:|--------:|\n",
      "| Variance                |   3.462 |   1.367 |   0.615 |\n",
      "| Difference              |   2.095 |   0.751 |   0.243 |\n",
      "| % of var.               |  49.378 |  19.494 |   8.778 |\n",
      "| Cumulative of % of var. |  49.378 |  68.873 |  77.651 |\n",
      "\n",
      "Individuals (the 10 first)\n",
      "\n",
      "|      |   Dim.1 |   Dim.2 |   Dim.3 |\n",
      "|:-----|--------:|--------:|--------:|\n",
      "| 2EL  |  -0.239 |   0.797 |  -0.936 |\n",
      "| 1CHA |   2.045 |   1.383 |  -1.514 |\n",
      "| 1FON |   1.22  |   0.459 |  -0.062 |\n",
      "| 1VAU |   4.381 |  -0.995 |   0.033 |\n",
      "| 1DAM |  -2.696 |   0.12  |   0.69  |\n",
      "| 2BOU |  -0.869 |   0.326 |  -0.391 |\n",
      "| 1BOI |  -1.553 |   0.28  |   0.414 |\n",
      "| 3EL  |  -0.129 |  -0.789 |  -1.858 |\n",
      "| DOM1 |   0.066 |   0.253 |   0.459 |\n",
      "| 1TUR |   1.202 |   0.375 |   0.716 |\n"
     ]
    }
   ],
   "source": [
    "from scientisttools.extractfactor import summaryMFA\n",
    "summaryMFA(mfa,to_markdown=True)"
   ]
  }
 ],
 "metadata": {
  "kernelspec": {
   "display_name": "Python 3",
   "language": "python",
   "name": "python3"
  },
  "language_info": {
   "codemirror_mode": {
    "name": "ipython",
    "version": 3
   },
   "file_extension": ".py",
   "mimetype": "text/x-python",
   "name": "python",
   "nbconvert_exporter": "python",
   "pygments_lexer": "ipython3",
   "version": "3.10.5"
  },
  "orig_nbformat": 4
 },
 "nbformat": 4,
 "nbformat_minor": 2
}
