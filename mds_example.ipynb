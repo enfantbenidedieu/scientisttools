{
 "cells": [
  {
   "attachments": {},
   "cell_type": "markdown",
   "metadata": {},
   "source": [
    "# Metric and Non - Metric MDS"
   ]
  },
  {
   "cell_type": "code",
   "execution_count": 1,
   "metadata": {},
   "outputs": [],
   "source": [
    "# Chargement des librairies\n",
    "import pandas as pd\n",
    "\n",
    "import os\n",
    "os.chdir(\"d:/Bureau/PythonProject/packages/scientisttools/data/\")"
   ]
  },
  {
   "cell_type": "code",
   "execution_count": 2,
   "metadata": {},
   "outputs": [
    {
     "data": {
      "text/html": [
       "<div>\n",
       "<style scoped>\n",
       "    .dataframe tbody tr th:only-of-type {\n",
       "        vertical-align: middle;\n",
       "    }\n",
       "\n",
       "    .dataframe tbody tr th {\n",
       "        vertical-align: top;\n",
       "    }\n",
       "\n",
       "    .dataframe thead th {\n",
       "        text-align: right;\n",
       "    }\n",
       "</style>\n",
       "<table border=\"1\" class=\"dataframe\">\n",
       "  <thead>\n",
       "    <tr style=\"text-align: right;\">\n",
       "      <th></th>\n",
       "      <th>Antsiranana</th>\n",
       "      <th>Majunga</th>\n",
       "      <th>Tulear</th>\n",
       "      <th>Fianarantsoa</th>\n",
       "      <th>Tananarive</th>\n",
       "      <th>Toamasina</th>\n",
       "    </tr>\n",
       "    <tr>\n",
       "      <th>Ville</th>\n",
       "      <th></th>\n",
       "      <th></th>\n",
       "      <th></th>\n",
       "      <th></th>\n",
       "      <th></th>\n",
       "      <th></th>\n",
       "    </tr>\n",
       "  </thead>\n",
       "  <tbody>\n",
       "    <tr>\n",
       "      <th>Antsiranana</th>\n",
       "      <td>0</td>\n",
       "      <td>859</td>\n",
       "      <td>2038</td>\n",
       "      <td>1522</td>\n",
       "      <td>1109</td>\n",
       "      <td>1287</td>\n",
       "    </tr>\n",
       "    <tr>\n",
       "      <th>Majunga</th>\n",
       "      <td>859</td>\n",
       "      <td>0</td>\n",
       "      <td>1495</td>\n",
       "      <td>979</td>\n",
       "      <td>566</td>\n",
       "      <td>926</td>\n",
       "    </tr>\n",
       "    <tr>\n",
       "      <th>Tulear</th>\n",
       "      <td>2038</td>\n",
       "      <td>1495</td>\n",
       "      <td>0</td>\n",
       "      <td>516</td>\n",
       "      <td>930</td>\n",
       "      <td>1266</td>\n",
       "    </tr>\n",
       "    <tr>\n",
       "      <th>Fianarantsoa</th>\n",
       "      <td>1522</td>\n",
       "      <td>979</td>\n",
       "      <td>516</td>\n",
       "      <td>0</td>\n",
       "      <td>414</td>\n",
       "      <td>750</td>\n",
       "    </tr>\n",
       "    <tr>\n",
       "      <th>Tananarive</th>\n",
       "      <td>1109</td>\n",
       "      <td>566</td>\n",
       "      <td>930</td>\n",
       "      <td>414</td>\n",
       "      <td>0</td>\n",
       "      <td>355</td>\n",
       "    </tr>\n",
       "    <tr>\n",
       "      <th>Toamasina</th>\n",
       "      <td>1287</td>\n",
       "      <td>926</td>\n",
       "      <td>1266</td>\n",
       "      <td>750</td>\n",
       "      <td>355</td>\n",
       "      <td>0</td>\n",
       "    </tr>\n",
       "  </tbody>\n",
       "</table>\n",
       "</div>"
      ],
      "text/plain": [
       "              Antsiranana  Majunga  Tulear  Fianarantsoa  Tananarive  \\\n",
       "Ville                                                                  \n",
       "Antsiranana             0      859    2038          1522        1109   \n",
       "Majunga               859        0    1495           979         566   \n",
       "Tulear               2038     1495       0           516         930   \n",
       "Fianarantsoa         1522      979     516             0         414   \n",
       "Tananarive           1109      566     930           414           0   \n",
       "Toamasina            1287      926    1266           750         355   \n",
       "\n",
       "              Toamasina  \n",
       "Ville                    \n",
       "Antsiranana        1287  \n",
       "Majunga             926  \n",
       "Tulear             1266  \n",
       "Fianarantsoa        750  \n",
       "Tananarive          355  \n",
       "Toamasina             0  "
      ]
     },
     "metadata": {},
     "output_type": "display_data"
    }
   ],
   "source": [
    "#chargement - index_col = 0 pour indiquer que la colonne n°0 est un label import pandas \n",
    "D = pd.read_excel(\"Data_Methodes_Factorielles.xlsx\",sheet_name=\"MDS_MADAGASCAR\",index_col=0)\n",
    "display(D)"
   ]
  },
  {
   "cell_type": "code",
   "execution_count": 3,
   "metadata": {},
   "outputs": [
    {
     "name": "stderr",
     "output_type": "stream",
     "text": [
      "c:\\Users\\duver\\AppData\\Local\\Programs\\Python\\Python310\\lib\\site-packages\\numpy\\core\\fromnumeric.py:86: FutureWarning: The behavior of DataFrame.sum with axis=None is deprecated, in a future version this will reduce over both axes and return a scalar. To retain the old behavior, pass axis=0 (or do not pass axis)\n"
     ]
    },
    {
     "data": {
      "text/html": [
       "<style>#sk-container-id-1 {color: black;background-color: white;}#sk-container-id-1 pre{padding: 0;}#sk-container-id-1 div.sk-toggleable {background-color: white;}#sk-container-id-1 label.sk-toggleable__label {cursor: pointer;display: block;width: 100%;margin-bottom: 0;padding: 0.3em;box-sizing: border-box;text-align: center;}#sk-container-id-1 label.sk-toggleable__label-arrow:before {content: \"▸\";float: left;margin-right: 0.25em;color: #696969;}#sk-container-id-1 label.sk-toggleable__label-arrow:hover:before {color: black;}#sk-container-id-1 div.sk-estimator:hover label.sk-toggleable__label-arrow:before {color: black;}#sk-container-id-1 div.sk-toggleable__content {max-height: 0;max-width: 0;overflow: hidden;text-align: left;background-color: #f0f8ff;}#sk-container-id-1 div.sk-toggleable__content pre {margin: 0.2em;color: black;border-radius: 0.25em;background-color: #f0f8ff;}#sk-container-id-1 input.sk-toggleable__control:checked~div.sk-toggleable__content {max-height: 200px;max-width: 100%;overflow: auto;}#sk-container-id-1 input.sk-toggleable__control:checked~label.sk-toggleable__label-arrow:before {content: \"▾\";}#sk-container-id-1 div.sk-estimator input.sk-toggleable__control:checked~label.sk-toggleable__label {background-color: #d4ebff;}#sk-container-id-1 div.sk-label input.sk-toggleable__control:checked~label.sk-toggleable__label {background-color: #d4ebff;}#sk-container-id-1 input.sk-hidden--visually {border: 0;clip: rect(1px 1px 1px 1px);clip: rect(1px, 1px, 1px, 1px);height: 1px;margin: -1px;overflow: hidden;padding: 0;position: absolute;width: 1px;}#sk-container-id-1 div.sk-estimator {font-family: monospace;background-color: #f0f8ff;border: 1px dotted black;border-radius: 0.25em;box-sizing: border-box;margin-bottom: 0.5em;}#sk-container-id-1 div.sk-estimator:hover {background-color: #d4ebff;}#sk-container-id-1 div.sk-parallel-item::after {content: \"\";width: 100%;border-bottom: 1px solid gray;flex-grow: 1;}#sk-container-id-1 div.sk-label:hover label.sk-toggleable__label {background-color: #d4ebff;}#sk-container-id-1 div.sk-serial::before {content: \"\";position: absolute;border-left: 1px solid gray;box-sizing: border-box;top: 0;bottom: 0;left: 50%;z-index: 0;}#sk-container-id-1 div.sk-serial {display: flex;flex-direction: column;align-items: center;background-color: white;padding-right: 0.2em;padding-left: 0.2em;position: relative;}#sk-container-id-1 div.sk-item {position: relative;z-index: 1;}#sk-container-id-1 div.sk-parallel {display: flex;align-items: stretch;justify-content: center;background-color: white;position: relative;}#sk-container-id-1 div.sk-item::before, #sk-container-id-1 div.sk-parallel-item::before {content: \"\";position: absolute;border-left: 1px solid gray;box-sizing: border-box;top: 0;bottom: 0;left: 50%;z-index: -1;}#sk-container-id-1 div.sk-parallel-item {display: flex;flex-direction: column;z-index: 1;position: relative;background-color: white;}#sk-container-id-1 div.sk-parallel-item:first-child::after {align-self: flex-end;width: 50%;}#sk-container-id-1 div.sk-parallel-item:last-child::after {align-self: flex-start;width: 50%;}#sk-container-id-1 div.sk-parallel-item:only-child::after {width: 0;}#sk-container-id-1 div.sk-dashed-wrapped {border: 1px dashed gray;margin: 0 0.4em 0.5em 0.4em;box-sizing: border-box;padding-bottom: 0.4em;background-color: white;}#sk-container-id-1 div.sk-label label {font-family: monospace;font-weight: bold;display: inline-block;line-height: 1.2em;}#sk-container-id-1 div.sk-label-container {text-align: center;}#sk-container-id-1 div.sk-container {/* jupyter's `normalize.less` sets `[hidden] { display: none; }` but bootstrap.min.css set `[hidden] { display: none !important; }` so we also need the `!important` here to be able to override the default hidden behavior on the sphinx rendered scikit-learn.org. See: https://github.com/scikit-learn/scikit-learn/issues/21755 */display: inline-block !important;position: relative;}#sk-container-id-1 div.sk-text-repr-fallback {display: none;}</style><div id=\"sk-container-id-1\" class=\"sk-top-container\"><div class=\"sk-text-repr-fallback\"><pre>MDS(n_components=None, proximity=&#x27;precomputed&#x27;)</pre><b>In a Jupyter environment, please rerun this cell to show the HTML representation or trust the notebook. <br />On GitHub, the HTML representation is unable to render, please try loading this page with nbviewer.org.</b></div><div class=\"sk-container\" hidden><div class=\"sk-item\"><div class=\"sk-estimator sk-toggleable\"><input class=\"sk-toggleable__control sk-hidden--visually\" id=\"sk-estimator-id-1\" type=\"checkbox\" checked><label for=\"sk-estimator-id-1\" class=\"sk-toggleable__label sk-toggleable__label-arrow\">MDS</label><div class=\"sk-toggleable__content\"><pre>MDS(n_components=None, proximity=&#x27;precomputed&#x27;)</pre></div></div></div></div></div>"
      ],
      "text/plain": [
       "MDS(n_components=None, proximity='precomputed')"
      ]
     },
     "execution_count": 3,
     "metadata": {},
     "output_type": "execute_result"
    }
   ],
   "source": [
    "from scientisttools import MDS\n",
    "my_mds = MDS(n_components=None,proximity =\"precomputed\",normalized_stress=True)\n",
    "my_mds.fit(D)"
   ]
  },
  {
   "cell_type": "markdown",
   "metadata": {},
   "source": [
    "### Coordinates"
   ]
  },
  {
   "cell_type": "code",
   "execution_count": 4,
   "metadata": {},
   "outputs": [
    {
     "data": {
      "text/html": [
       "<div>\n",
       "<style scoped>\n",
       "    .dataframe tbody tr th:only-of-type {\n",
       "        vertical-align: middle;\n",
       "    }\n",
       "\n",
       "    .dataframe tbody tr th {\n",
       "        vertical-align: top;\n",
       "    }\n",
       "\n",
       "    .dataframe thead th {\n",
       "        text-align: right;\n",
       "    }\n",
       "</style>\n",
       "<table border=\"1\" class=\"dataframe\">\n",
       "  <thead>\n",
       "    <tr style=\"text-align: right;\">\n",
       "      <th></th>\n",
       "      <th>Dim.1</th>\n",
       "      <th>Dim.2</th>\n",
       "    </tr>\n",
       "    <tr>\n",
       "      <th>Ville</th>\n",
       "      <th></th>\n",
       "      <th></th>\n",
       "    </tr>\n",
       "  </thead>\n",
       "  <tbody>\n",
       "    <tr>\n",
       "      <th>Antsiranana</th>\n",
       "      <td>-1031.255405</td>\n",
       "      <td>379.163780</td>\n",
       "    </tr>\n",
       "    <tr>\n",
       "      <th>Majunga</th>\n",
       "      <td>-258.445246</td>\n",
       "      <td>477.210993</td>\n",
       "    </tr>\n",
       "    <tr>\n",
       "      <th>Tulear</th>\n",
       "      <td>992.437598</td>\n",
       "      <td>-180.885749</td>\n",
       "    </tr>\n",
       "    <tr>\n",
       "      <th>Fianarantsoa</th>\n",
       "      <td>458.920629</td>\n",
       "      <td>-119.027292</td>\n",
       "    </tr>\n",
       "    <tr>\n",
       "      <th>Tananarive</th>\n",
       "      <td>12.387486</td>\n",
       "      <td>-87.903492</td>\n",
       "    </tr>\n",
       "    <tr>\n",
       "      <th>Toamasina</th>\n",
       "      <td>-174.045062</td>\n",
       "      <td>-468.558240</td>\n",
       "    </tr>\n",
       "  </tbody>\n",
       "</table>\n",
       "</div>"
      ],
      "text/plain": [
       "                    Dim.1       Dim.2\n",
       "Ville                                \n",
       "Antsiranana  -1031.255405  379.163780\n",
       "Majunga       -258.445246  477.210993\n",
       "Tulear         992.437598 -180.885749\n",
       "Fianarantsoa   458.920629 -119.027292\n",
       "Tananarive      12.387486  -87.903492\n",
       "Toamasina     -174.045062 -468.558240"
      ]
     },
     "execution_count": 4,
     "metadata": {},
     "output_type": "execute_result"
    }
   ],
   "source": [
    "# Position\n",
    "coord = my_mds.result_[\"coord\"]\n",
    "coord"
   ]
  },
  {
   "cell_type": "markdown",
   "metadata": {},
   "source": [
    "### Normalized stress"
   ]
  },
  {
   "cell_type": "code",
   "execution_count": 5,
   "metadata": {},
   "outputs": [
    {
     "data": {
      "text/plain": [
       "Ville\n",
       "Antsiranana     0.068705\n",
       "Majunga         0.096571\n",
       "Tulear          0.072272\n",
       "Fianarantsoa    0.105573\n",
       "Tananarive      0.132536\n",
       "Toamasina       0.099580\n",
       "dtype: float64"
      ]
     },
     "execution_count": 5,
     "metadata": {},
     "output_type": "execute_result"
    }
   ],
   "source": [
    "normalized_stress = my_mds.result_[\"stress\"]\n",
    "normalized_stress"
   ]
  },
  {
   "cell_type": "markdown",
   "metadata": {},
   "source": [
    "### Distance"
   ]
  },
  {
   "cell_type": "code",
   "execution_count": 6,
   "metadata": {},
   "outputs": [
    {
     "data": {
      "text/html": [
       "<div>\n",
       "<style scoped>\n",
       "    .dataframe tbody tr th:only-of-type {\n",
       "        vertical-align: middle;\n",
       "    }\n",
       "\n",
       "    .dataframe tbody tr th {\n",
       "        vertical-align: top;\n",
       "    }\n",
       "\n",
       "    .dataframe thead th {\n",
       "        text-align: right;\n",
       "    }\n",
       "</style>\n",
       "<table border=\"1\" class=\"dataframe\">\n",
       "  <thead>\n",
       "    <tr style=\"text-align: right;\">\n",
       "      <th>Ville</th>\n",
       "      <th>Antsiranana</th>\n",
       "      <th>Majunga</th>\n",
       "      <th>Tulear</th>\n",
       "      <th>Fianarantsoa</th>\n",
       "      <th>Tananarive</th>\n",
       "      <th>Toamasina</th>\n",
       "    </tr>\n",
       "    <tr>\n",
       "      <th>Ville</th>\n",
       "      <th></th>\n",
       "      <th></th>\n",
       "      <th></th>\n",
       "      <th></th>\n",
       "      <th></th>\n",
       "      <th></th>\n",
       "    </tr>\n",
       "  </thead>\n",
       "  <tbody>\n",
       "    <tr>\n",
       "      <th>Antsiranana</th>\n",
       "      <td>0</td>\n",
       "      <td>859</td>\n",
       "      <td>2038</td>\n",
       "      <td>1522</td>\n",
       "      <td>1109</td>\n",
       "      <td>1287</td>\n",
       "    </tr>\n",
       "    <tr>\n",
       "      <th>Majunga</th>\n",
       "      <td>859</td>\n",
       "      <td>0</td>\n",
       "      <td>1495</td>\n",
       "      <td>979</td>\n",
       "      <td>566</td>\n",
       "      <td>926</td>\n",
       "    </tr>\n",
       "    <tr>\n",
       "      <th>Tulear</th>\n",
       "      <td>2038</td>\n",
       "      <td>1495</td>\n",
       "      <td>0</td>\n",
       "      <td>516</td>\n",
       "      <td>930</td>\n",
       "      <td>1266</td>\n",
       "    </tr>\n",
       "    <tr>\n",
       "      <th>Fianarantsoa</th>\n",
       "      <td>1522</td>\n",
       "      <td>979</td>\n",
       "      <td>516</td>\n",
       "      <td>0</td>\n",
       "      <td>414</td>\n",
       "      <td>750</td>\n",
       "    </tr>\n",
       "    <tr>\n",
       "      <th>Tananarive</th>\n",
       "      <td>1109</td>\n",
       "      <td>566</td>\n",
       "      <td>930</td>\n",
       "      <td>414</td>\n",
       "      <td>0</td>\n",
       "      <td>355</td>\n",
       "    </tr>\n",
       "    <tr>\n",
       "      <th>Toamasina</th>\n",
       "      <td>1287</td>\n",
       "      <td>926</td>\n",
       "      <td>1266</td>\n",
       "      <td>750</td>\n",
       "      <td>355</td>\n",
       "      <td>0</td>\n",
       "    </tr>\n",
       "  </tbody>\n",
       "</table>\n",
       "</div>"
      ],
      "text/plain": [
       "Ville         Antsiranana  Majunga  Tulear  Fianarantsoa  Tananarive  \\\n",
       "Ville                                                                  \n",
       "Antsiranana             0      859    2038          1522        1109   \n",
       "Majunga               859        0    1495           979         566   \n",
       "Tulear               2038     1495       0           516         930   \n",
       "Fianarantsoa         1522      979     516             0         414   \n",
       "Tananarive           1109      566     930           414           0   \n",
       "Toamasina            1287      926    1266           750         355   \n",
       "\n",
       "Ville         Toamasina  \n",
       "Ville                    \n",
       "Antsiranana        1287  \n",
       "Majunga             926  \n",
       "Tulear             1266  \n",
       "Fianarantsoa        750  \n",
       "Tananarive          355  \n",
       "Toamasina             0  "
      ]
     },
     "execution_count": 6,
     "metadata": {},
     "output_type": "execute_result"
    }
   ],
   "source": [
    "dist = my_mds.result_[\"dist\"]\n",
    "dist"
   ]
  },
  {
   "cell_type": "markdown",
   "metadata": {},
   "source": [
    "### Distance restituée"
   ]
  },
  {
   "cell_type": "code",
   "execution_count": 7,
   "metadata": {},
   "outputs": [
    {
     "data": {
      "text/html": [
       "<div>\n",
       "<style scoped>\n",
       "    .dataframe tbody tr th:only-of-type {\n",
       "        vertical-align: middle;\n",
       "    }\n",
       "\n",
       "    .dataframe tbody tr th {\n",
       "        vertical-align: top;\n",
       "    }\n",
       "\n",
       "    .dataframe thead th {\n",
       "        text-align: right;\n",
       "    }\n",
       "</style>\n",
       "<table border=\"1\" class=\"dataframe\">\n",
       "  <thead>\n",
       "    <tr style=\"text-align: right;\">\n",
       "      <th>Ville</th>\n",
       "      <th>Antsiranana</th>\n",
       "      <th>Majunga</th>\n",
       "      <th>Tulear</th>\n",
       "      <th>Fianarantsoa</th>\n",
       "      <th>Tananarive</th>\n",
       "      <th>Toamasina</th>\n",
       "    </tr>\n",
       "    <tr>\n",
       "      <th>Ville</th>\n",
       "      <th></th>\n",
       "      <th></th>\n",
       "      <th></th>\n",
       "      <th></th>\n",
       "      <th></th>\n",
       "      <th></th>\n",
       "    </tr>\n",
       "  </thead>\n",
       "  <tbody>\n",
       "    <tr>\n",
       "      <th>Antsiranana</th>\n",
       "      <td>0.000000</td>\n",
       "      <td>779.005005</td>\n",
       "      <td>2099.759236</td>\n",
       "      <td>1571.247579</td>\n",
       "      <td>1143.390712</td>\n",
       "      <td>1205.587904</td>\n",
       "    </tr>\n",
       "    <tr>\n",
       "      <th>Majunga</th>\n",
       "      <td>779.005005</td>\n",
       "      <td>0.000000</td>\n",
       "      <td>1413.435252</td>\n",
       "      <td>932.798955</td>\n",
       "      <td>626.661591</td>\n",
       "      <td>949.527689</td>\n",
       "    </tr>\n",
       "    <tr>\n",
       "      <th>Tulear</th>\n",
       "      <td>2099.759236</td>\n",
       "      <td>1413.435252</td>\n",
       "      <td>0.000000</td>\n",
       "      <td>537.091078</td>\n",
       "      <td>984.451077</td>\n",
       "      <td>1201.431338</td>\n",
       "    </tr>\n",
       "    <tr>\n",
       "      <th>Fianarantsoa</th>\n",
       "      <td>1571.247579</td>\n",
       "      <td>932.798955</td>\n",
       "      <td>537.091078</td>\n",
       "      <td>0.000000</td>\n",
       "      <td>447.616508</td>\n",
       "      <td>723.061166</td>\n",
       "    </tr>\n",
       "    <tr>\n",
       "      <th>Tananarive</th>\n",
       "      <td>1143.390712</td>\n",
       "      <td>626.661591</td>\n",
       "      <td>984.451077</td>\n",
       "      <td>447.616508</td>\n",
       "      <td>0.000000</td>\n",
       "      <td>423.857444</td>\n",
       "    </tr>\n",
       "    <tr>\n",
       "      <th>Toamasina</th>\n",
       "      <td>1205.587904</td>\n",
       "      <td>949.527689</td>\n",
       "      <td>1201.431338</td>\n",
       "      <td>723.061166</td>\n",
       "      <td>423.857444</td>\n",
       "      <td>0.000000</td>\n",
       "    </tr>\n",
       "  </tbody>\n",
       "</table>\n",
       "</div>"
      ],
      "text/plain": [
       "Ville         Antsiranana      Majunga       Tulear  Fianarantsoa  \\\n",
       "Ville                                                               \n",
       "Antsiranana      0.000000   779.005005  2099.759236   1571.247579   \n",
       "Majunga        779.005005     0.000000  1413.435252    932.798955   \n",
       "Tulear        2099.759236  1413.435252     0.000000    537.091078   \n",
       "Fianarantsoa  1571.247579   932.798955   537.091078      0.000000   \n",
       "Tananarive    1143.390712   626.661591   984.451077    447.616508   \n",
       "Toamasina     1205.587904   949.527689  1201.431338    723.061166   \n",
       "\n",
       "Ville          Tananarive    Toamasina  \n",
       "Ville                                   \n",
       "Antsiranana   1143.390712  1205.587904  \n",
       "Majunga        626.661591   949.527689  \n",
       "Tulear         984.451077  1201.431338  \n",
       "Fianarantsoa   447.616508   723.061166  \n",
       "Tananarive       0.000000   423.857444  \n",
       "Toamasina      423.857444     0.000000  "
      ]
     },
     "execution_count": 7,
     "metadata": {},
     "output_type": "execute_result"
    }
   ],
   "source": [
    "res_dist = my_mds.result_[\"res_dist\"]\n",
    "res_dist"
   ]
  },
  {
   "cell_type": "markdown",
   "metadata": {},
   "source": [
    "## Graph"
   ]
  },
  {
   "cell_type": "code",
   "execution_count": 8,
   "metadata": {},
   "outputs": [
    {
     "data": {
      "image/png": "[encoded data removed]",
      "text/plain": [
       "<Figure size 432x288 with 1 Axes>"
      ]
     },
     "metadata": {
      "needs_background": "light"
     },
     "output_type": "display_data"
    },
    {
     "name": "stdout",
     "output_type": "stream",
     "text": [
      "\n"
     ]
    }
   ],
   "source": [
    "from scientisttools import fviz_mds\n",
    "p = fviz_mds(my_mds,repel=True)\n",
    "print(p)"
   ]
  },
  {
   "cell_type": "markdown",
   "metadata": {},
   "source": [
    "## Shepard Diagram"
   ]
  },
  {
   "cell_type": "code",
   "execution_count": 9,
   "metadata": {},
   "outputs": [
    {
     "data": {
      "image/png": "[encoded data removed]",
      "text/plain": [
       "<Figure size 640x480 with 1 Axes>"
      ]
     },
     "metadata": {
      "needs_background": "light"
     },
     "output_type": "display_data"
    },
    {
     "name": "stdout",
     "output_type": "stream",
     "text": [
      "\n"
     ]
    }
   ],
   "source": [
    "from scientisttools import fviz_shepard\n",
    "p = fviz_shepard(my_mds)\n",
    "print(p)"
   ]
  }
 ],
 "metadata": {
  "kernelspec": {
   "display_name": "Python 3",
   "language": "python",
   "name": "python3"
  },
  "language_info": {
   "codemirror_mode": {
    "name": "ipython",
    "version": 3
   },
   "file_extension": ".py",
   "mimetype": "text/x-python",
   "name": "python",
   "nbconvert_exporter": "python",
   "pygments_lexer": "ipython3",
   "version": "3.10.5"
  },
  "orig_nbformat": 4,
  "vscode": {
   "interpreter": {
    "hash": "33c21fde6dc523fbc7c154ee58984d21664bddd64126b134548012e0ca003065"
   }
  }
 },
 "nbformat": 4,
 "nbformat_minor": 2
}
