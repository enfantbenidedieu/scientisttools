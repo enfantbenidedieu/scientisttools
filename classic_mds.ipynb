{
 "cells": [
  {
   "attachments": {},
   "cell_type": "markdown",
   "metadata": {},
   "source": [
    "# Classic Multidimensional Scaling (MDS)"
   ]
  },
  {
   "cell_type": "code",
   "execution_count": null,
   "metadata": {},
   "outputs": [],
   "source": [
    "# Chargement des librairies\n",
    "import pandas as pd\n",
    "import numpy as np\n",
    "from plydata import *\n",
    "import seaborn as sns\n",
    "import matplotlib.pyplot as plt\n",
    "from scientisttools.extractfactor import get_mds,get_eig\n",
    "from scipy.spatial.distance import pdist,squareform\n",
    "from scientisttools.manifold import CMDSCALE\n",
    "from scientisttools.pyplot import plotCMDS, plot_shepard,plot_eigenvalues\n",
    "from scientisttools.ggplot import fviz_cmds,fviz_shepard\n",
    "import warnings\n",
    "warnings.filterwarnings(\"ignore\")\n",
    "\n",
    "import os\n",
    "os.chdir(\"d:/Bureau/PythonProject/packages/scientisttools/data/\")"
   ]
  },
  {
   "cell_type": "code",
   "execution_count": null,
   "metadata": {},
   "outputs": [],
   "source": [
    "# Chargement de la base\n",
    "D = pd.read_excel(\"Data_Methodes_Factorielles.xlsx\",sheet_name=\"AUTOS_MDS\",index_col=0) \n",
    "display(D)"
   ]
  },
  {
   "cell_type": "code",
   "execution_count": null,
   "metadata": {},
   "outputs": [],
   "source": [
    "#heatmap des distances \n",
    "fig, axe = plt.subplots(figsize=(10,10))\n",
    "sns.heatmap(D,cmap='coolwarm',linewidth=0.5,ax=axe)\n",
    "plt.show()"
   ]
  },
  {
   "cell_type": "code",
   "execution_count": null,
   "metadata": {},
   "outputs": [],
   "source": [
    "# Fit model - cLassic MDS\n",
    "my_cmds = CMDSCALE(n_components=2,\n",
    "                  labels = D.index,\n",
    "                  proximity=\"precomputed\",\n",
    "                  normalized_stress=True,\n",
    "                  parallelize=False)\n",
    "my_cmds.fit(D)"
   ]
  },
  {
   "cell_type": "code",
   "execution_count": null,
   "metadata": {},
   "outputs": [],
   "source": [
    "# Valeur propres\n",
    "eig = get_eig(my_cmds)\n",
    "print(eig.round(3))"
   ]
  },
  {
   "cell_type": "code",
   "execution_count": null,
   "metadata": {},
   "outputs": [],
   "source": [
    "# Coordonnées factorielles\n",
    "coord = get_mds(my_cmds)[\"coord\"]\n",
    "display(coord.round(2))"
   ]
  },
  {
   "cell_type": "code",
   "execution_count": null,
   "metadata": {},
   "outputs": [],
   "source": [
    "fig,axe =plt.subplots(figsize=(10,6))\n",
    "plot_eigenvalues(my_cmds,ax=axe)"
   ]
  },
  {
   "cell_type": "code",
   "execution_count": null,
   "metadata": {},
   "outputs": [],
   "source": [
    "# Représentation des coordonnées\n",
    "fig, axe = plt.subplots(figsize=(8,8))\n",
    "plotCMDS(my_cmds,xlim=(-550,550),ylim=(-550,550),repel=True,ax=axe)"
   ]
  },
  {
   "cell_type": "code",
   "execution_count": null,
   "metadata": {},
   "outputs": [],
   "source": [
    "fig, axe =plt.subplots(figsize=(10,10))\n",
    "plotCMDS(my_cmds,xlim=(-550,550),ylim=(-550,550),repel=True,ax=axe)"
   ]
  },
  {
   "cell_type": "code",
   "execution_count": null,
   "metadata": {},
   "outputs": [],
   "source": [
    "p = fviz_cmds(my_cmds,xlim=(-550,550),ylim=(-550,550),repel=True)\n",
    "print(p)"
   ]
  },
  {
   "cell_type": "code",
   "execution_count": null,
   "metadata": {},
   "outputs": [],
   "source": [
    "res_D = get_mds(my_cmds)[\"res.dist\"]\n",
    "display(res_D.round(2))"
   ]
  },
  {
   "cell_type": "code",
   "execution_count": null,
   "metadata": {},
   "outputs": [],
   "source": [
    "# Représentation graphique\n",
    "fig, axe = plt.subplots(1,2,figsize=(20,8))\n",
    "sns.heatmap(D,cmap='coolwarm',annot=True,linewidth=0.5,fmt=\".1f\",ax=axe[0])\n",
    "sns.heatmap(res_D,cmap='coolwarm',annot=True,linewidth=0.5,fmt=\".1f\",ax=axe[1])\n",
    "plt.show()"
   ]
  },
  {
   "cell_type": "code",
   "execution_count": null,
   "metadata": {},
   "outputs": [],
   "source": [
    "#Calcul du stress\n",
    "print(my_cmds.stress_)"
   ]
  },
  {
   "cell_type": "code",
   "execution_count": null,
   "metadata": {},
   "outputs": [],
   "source": [
    "# Diagramme de Shepard\n",
    "fig, axe = plt.subplots(figsize=(10,10))\n",
    "plot_shepard(my_cmds,ax=axe)"
   ]
  },
  {
   "cell_type": "code",
   "execution_count": null,
   "metadata": {},
   "outputs": [],
   "source": [
    "p = fviz_shepard(my_cmds)\n",
    "print(p)"
   ]
  },
  {
   "cell_type": "code",
   "execution_count": null,
   "metadata": {},
   "outputs": [],
   "source": [
    "# Individus supplémentaire\n",
    "DSupp = pd.read_excel(\"Data_Methodes_Factorielles.xlsx\",sheet_name=\"AUTOS_MDS_SUPP\",index_col=0)\n",
    "print(DSupp.transpose())"
   ]
  },
  {
   "cell_type": "code",
   "execution_count": null,
   "metadata": {},
   "outputs": [],
   "source": [
    "my_cmds.transform(DSupp)"
   ]
  },
  {
   "cell_type": "code",
   "execution_count": null,
   "metadata": {},
   "outputs": [],
   "source": [
    "DRaw = pd.read_excel(\"Data_Methodes_Factorielles.xlsx\",sheet_name=\"AUTOS_MDS_SOURCE\",index_col=0)\n",
    "print(DRaw)"
   ]
  },
  {
   "cell_type": "code",
   "execution_count": null,
   "metadata": {},
   "outputs": [],
   "source": [
    "my_cmds2=CMDSCALE(n_components=2,\n",
    "                 labels = D.index,\n",
    "                 proximity=\"euclidean\",\n",
    "                 normalized_stress=True,\n",
    "                 parallelize=False)\n",
    "my_cmds2.fit(DRaw)"
   ]
  },
  {
   "cell_type": "code",
   "execution_count": null,
   "metadata": {},
   "outputs": [],
   "source": [
    "# Valeurs propres\n",
    "eig2 = get_eig(my_cmds2)\n",
    "print(eig2.round(2))"
   ]
  },
  {
   "cell_type": "code",
   "execution_count": null,
   "metadata": {},
   "outputs": [],
   "source": [
    "D = pd.read_excel(\"Data_Methodes_Factorielles.xlsx\",index_col=0,sheet_name=\"DATA_ACP_ACTIF\")\n",
    "D = D.loc[DSupp.index,:]\n",
    "D"
   ]
  },
  {
   "cell_type": "code",
   "execution_count": null,
   "metadata": {},
   "outputs": [],
   "source": [
    "pd.DataFrame(my_cmds2.transform(D))"
   ]
  },
  {
   "attachments": {},
   "cell_type": "markdown",
   "metadata": {},
   "source": [
    "## MDS et PCA"
   ]
  },
  {
   "cell_type": "code",
   "execution_count": null,
   "metadata": {},
   "outputs": [],
   "source": [
    "# ACP non normée\n",
    "from scientisttools.decomposition import PCA\n",
    "from scientisttools.extractfactor import get_pca_ind\n",
    "my_pca = PCA(normalize=False,\n",
    "             n_components=2,\n",
    "             row_labels=DRaw.index,\n",
    "             col_labels=DRaw.columns,\n",
    "             parallelize=False).fit(DRaw)"
   ]
  },
  {
   "cell_type": "code",
   "execution_count": null,
   "metadata": {},
   "outputs": [],
   "source": [
    "coord2 = get_pca_ind(my_pca)[\"coord\"]\n",
    "display(coord2.round(2))"
   ]
  }
 ],
 "metadata": {
  "kernelspec": {
   "display_name": "Python 3",
   "language": "python",
   "name": "python3"
  },
  "language_info": {
   "codemirror_mode": {
    "name": "ipython",
    "version": 3
   },
   "file_extension": ".py",
   "mimetype": "text/x-python",
   "name": "python",
   "nbconvert_exporter": "python",
   "pygments_lexer": "ipython3",
   "version": "3.10.5"
  },
  "orig_nbformat": 4,
  "vscode": {
   "interpreter": {
    "hash": "33c21fde6dc523fbc7c154ee58984d21664bddd64126b134548012e0ca003065"
   }
  }
 },
 "nbformat": 4,
 "nbformat_minor": 2
}
