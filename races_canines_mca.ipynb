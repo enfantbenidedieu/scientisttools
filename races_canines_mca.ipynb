{
 "cells": [
  {
   "cell_type": "markdown",
   "metadata": {},
   "source": [
    "# Analyse des Correspondances Multiples (ACM)"
   ]
  },
  {
   "cell_type": "code",
   "execution_count": 1,
   "metadata": {},
   "outputs": [
    {
     "name": "stdout",
     "output_type": "stream",
     "text": [
      "<class 'pandas.core.frame.DataFrame'>\n",
      "Index: 33 entries, Beauceron to Wisky\n",
      "Data columns (total 8 columns):\n",
      " #   Column        Non-Null Count  Dtype  \n",
      "---  ------        --------------  -----  \n",
      " 0   Taille        33 non-null     object \n",
      " 1   Poids         33 non-null     object \n",
      " 2   Velocite      33 non-null     object \n",
      " 3   Intelligence  33 non-null     object \n",
      " 4   Affection     33 non-null     object \n",
      " 5   Agressivite   33 non-null     object \n",
      " 6   Fonction      27 non-null     object \n",
      " 7   Cote          27 non-null     float64\n",
      "dtypes: float64(1), object(7)\n",
      "memory usage: 2.3+ KB\n"
     ]
    }
   ],
   "source": [
    "# Chargement des données\n",
    "import pandas as pd\n",
    "# Données actives\n",
    "A = pd.read_excel(\"./scientisttoolsdoc/donnee/races_canines_acm.xls\",header=0,sheet_name=0,index_col=0)\n",
    "# Individus supplémentaires\n",
    "B = pd.read_excel(\"./scientisttoolsdoc/donnee/races_canines_acm.xls\",header=0,sheet_name=1,index_col=0)\n",
    "# Variables qualitative supplémentaires\n",
    "C = pd.read_excel(\"./scientisttoolsdoc/donnee/races_canines_acm.xls\",header=0,sheet_name=2,index_col=0)\n",
    "# Variables quantitatives supplémentaires\n",
    "D = pd.read_excel(\"./scientisttoolsdoc/donnee/races_canines_acm.xls\",header=0,sheet_name=3,index_col=0)\n",
    "C.index = D.index = A.index\n",
    "# Concaténation\n",
    "Data = pd.concat([pd.concat([A,B],axis=0),C,D],axis=1)\n",
    "Data.info()"
   ]
  },
  {
   "cell_type": "code",
   "execution_count": 2,
   "metadata": {},
   "outputs": [],
   "source": [
    "from scientisttools.decomposition import MCA"
   ]
  },
  {
   "cell_type": "code",
   "execution_count": 3,
   "metadata": {},
   "outputs": [
    {
     "data": {
      "text/html": [
       "<style>#sk-container-id-1 {color: black;background-color: white;}#sk-container-id-1 pre{padding: 0;}#sk-container-id-1 div.sk-toggleable {background-color: white;}#sk-container-id-1 label.sk-toggleable__label {cursor: pointer;display: block;width: 100%;margin-bottom: 0;padding: 0.3em;box-sizing: border-box;text-align: center;}#sk-container-id-1 label.sk-toggleable__label-arrow:before {content: \"▸\";float: left;margin-right: 0.25em;color: #696969;}#sk-container-id-1 label.sk-toggleable__label-arrow:hover:before {color: black;}#sk-container-id-1 div.sk-estimator:hover label.sk-toggleable__label-arrow:before {color: black;}#sk-container-id-1 div.sk-toggleable__content {max-height: 0;max-width: 0;overflow: hidden;text-align: left;background-color: #f0f8ff;}#sk-container-id-1 div.sk-toggleable__content pre {margin: 0.2em;color: black;border-radius: 0.25em;background-color: #f0f8ff;}#sk-container-id-1 input.sk-toggleable__control:checked~div.sk-toggleable__content {max-height: 200px;max-width: 100%;overflow: auto;}#sk-container-id-1 input.sk-toggleable__control:checked~label.sk-toggleable__label-arrow:before {content: \"▾\";}#sk-container-id-1 div.sk-estimator input.sk-toggleable__control:checked~label.sk-toggleable__label {background-color: #d4ebff;}#sk-container-id-1 div.sk-label input.sk-toggleable__control:checked~label.sk-toggleable__label {background-color: #d4ebff;}#sk-container-id-1 input.sk-hidden--visually {border: 0;clip: rect(1px 1px 1px 1px);clip: rect(1px, 1px, 1px, 1px);height: 1px;margin: -1px;overflow: hidden;padding: 0;position: absolute;width: 1px;}#sk-container-id-1 div.sk-estimator {font-family: monospace;background-color: #f0f8ff;border: 1px dotted black;border-radius: 0.25em;box-sizing: border-box;margin-bottom: 0.5em;}#sk-container-id-1 div.sk-estimator:hover {background-color: #d4ebff;}#sk-container-id-1 div.sk-parallel-item::after {content: \"\";width: 100%;border-bottom: 1px solid gray;flex-grow: 1;}#sk-container-id-1 div.sk-label:hover label.sk-toggleable__label {background-color: #d4ebff;}#sk-container-id-1 div.sk-serial::before {content: \"\";position: absolute;border-left: 1px solid gray;box-sizing: border-box;top: 0;bottom: 0;left: 50%;z-index: 0;}#sk-container-id-1 div.sk-serial {display: flex;flex-direction: column;align-items: center;background-color: white;padding-right: 0.2em;padding-left: 0.2em;position: relative;}#sk-container-id-1 div.sk-item {position: relative;z-index: 1;}#sk-container-id-1 div.sk-parallel {display: flex;align-items: stretch;justify-content: center;background-color: white;position: relative;}#sk-container-id-1 div.sk-item::before, #sk-container-id-1 div.sk-parallel-item::before {content: \"\";position: absolute;border-left: 1px solid gray;box-sizing: border-box;top: 0;bottom: 0;left: 50%;z-index: -1;}#sk-container-id-1 div.sk-parallel-item {display: flex;flex-direction: column;z-index: 1;position: relative;background-color: white;}#sk-container-id-1 div.sk-parallel-item:first-child::after {align-self: flex-end;width: 50%;}#sk-container-id-1 div.sk-parallel-item:last-child::after {align-self: flex-start;width: 50%;}#sk-container-id-1 div.sk-parallel-item:only-child::after {width: 0;}#sk-container-id-1 div.sk-dashed-wrapped {border: 1px dashed gray;margin: 0 0.4em 0.5em 0.4em;box-sizing: border-box;padding-bottom: 0.4em;background-color: white;}#sk-container-id-1 div.sk-label label {font-family: monospace;font-weight: bold;display: inline-block;line-height: 1.2em;}#sk-container-id-1 div.sk-label-container {text-align: center;}#sk-container-id-1 div.sk-container {/* jupyter's `normalize.less` sets `[hidden] { display: none; }` but bootstrap.min.css set `[hidden] { display: none !important; }` so we also need the `!important` here to be able to override the default hidden behavior on the sphinx rendered scikit-learn.org. See: https://github.com/scikit-learn/scikit-learn/issues/21755 */display: inline-block !important;position: relative;}#sk-container-id-1 div.sk-text-repr-fallback {display: none;}</style><div id=\"sk-container-id-1\" class=\"sk-top-container\"><div class=\"sk-text-repr-fallback\"><pre>MCA(quali_sup_labels=[&#x27;Fonction&#x27;], quanti_sup_labels=[&#x27;Cote&#x27;],\n",
       "    row_labels=Index([&#x27;Beauceron&#x27;, &#x27;Basset&#x27;, &#x27;Berger All&#x27;, &#x27;Boxer&#x27;, &#x27;Bull-Dog&#x27;, &#x27;Bull-Mastif&#x27;,\n",
       "       &#x27;Caniche&#x27;, &#x27;Chihuahua&#x27;, &#x27;Cocker&#x27;, &#x27;Colley&#x27;, &#x27;Dalmatien&#x27;, &#x27;Doberman&#x27;,\n",
       "       &#x27;Dogue All&#x27;, &#x27;Epag. Breton&#x27;, &#x27;Epag. Français&#x27;, &#x27;Fox-Hound&#x27;,\n",
       "       &#x27;Fox-Terrier&#x27;, &#x27;Gd Bleu Gasc&#x27;, &#x27;Labrador&#x27;, &#x27;Levrier&#x27;, &#x27;Mastiff&#x27;,\n",
       "       &#x27;Pekinois&#x27;, &#x27;Pointer&#x27;, &#x27;St-Bernard&#x27;, &#x27;Setter&#x27;, &#x27;Teckel&#x27;, &#x27;Terre-Neuve&#x27;],\n",
       "      dtype=&#x27;object&#x27;, name=&#x27;Chien&#x27;),\n",
       "    row_sup_labels=Index([&#x27;Medor&#x27;, &#x27;Djeck&#x27;, &#x27;Taico&#x27;, &#x27;Rocky&#x27;, &#x27;Boudog&#x27;, &#x27;Wisky&#x27;], dtype=&#x27;object&#x27;, name=&#x27;Chien&#x27;),\n",
       "    var_labels=Index([&#x27;Taille&#x27;, &#x27;Poids&#x27;, &#x27;Velocite&#x27;, &#x27;Intelligence&#x27;, &#x27;Affection&#x27;,\n",
       "       &#x27;Agressivite&#x27;],\n",
       "      dtype=&#x27;object&#x27;))</pre><b>In a Jupyter environment, please rerun this cell to show the HTML representation or trust the notebook. <br />On GitHub, the HTML representation is unable to render, please try loading this page with nbviewer.org.</b></div><div class=\"sk-container\" hidden><div class=\"sk-item\"><div class=\"sk-estimator sk-toggleable\"><input class=\"sk-toggleable__control sk-hidden--visually\" id=\"sk-estimator-id-1\" type=\"checkbox\" checked><label for=\"sk-estimator-id-1\" class=\"sk-toggleable__label sk-toggleable__label-arrow\">MCA</label><div class=\"sk-toggleable__content\"><pre>MCA(quali_sup_labels=[&#x27;Fonction&#x27;], quanti_sup_labels=[&#x27;Cote&#x27;],\n",
       "    row_labels=Index([&#x27;Beauceron&#x27;, &#x27;Basset&#x27;, &#x27;Berger All&#x27;, &#x27;Boxer&#x27;, &#x27;Bull-Dog&#x27;, &#x27;Bull-Mastif&#x27;,\n",
       "       &#x27;Caniche&#x27;, &#x27;Chihuahua&#x27;, &#x27;Cocker&#x27;, &#x27;Colley&#x27;, &#x27;Dalmatien&#x27;, &#x27;Doberman&#x27;,\n",
       "       &#x27;Dogue All&#x27;, &#x27;Epag. Breton&#x27;, &#x27;Epag. Français&#x27;, &#x27;Fox-Hound&#x27;,\n",
       "       &#x27;Fox-Terrier&#x27;, &#x27;Gd Bleu Gasc&#x27;, &#x27;Labrador&#x27;, &#x27;Levrier&#x27;, &#x27;Mastiff&#x27;,\n",
       "       &#x27;Pekinois&#x27;, &#x27;Pointer&#x27;, &#x27;St-Bernard&#x27;, &#x27;Setter&#x27;, &#x27;Teckel&#x27;, &#x27;Terre-Neuve&#x27;],\n",
       "      dtype=&#x27;object&#x27;, name=&#x27;Chien&#x27;),\n",
       "    row_sup_labels=Index([&#x27;Medor&#x27;, &#x27;Djeck&#x27;, &#x27;Taico&#x27;, &#x27;Rocky&#x27;, &#x27;Boudog&#x27;, &#x27;Wisky&#x27;], dtype=&#x27;object&#x27;, name=&#x27;Chien&#x27;),\n",
       "    var_labels=Index([&#x27;Taille&#x27;, &#x27;Poids&#x27;, &#x27;Velocite&#x27;, &#x27;Intelligence&#x27;, &#x27;Affection&#x27;,\n",
       "       &#x27;Agressivite&#x27;],\n",
       "      dtype=&#x27;object&#x27;))</pre></div></div></div></div></div>"
      ],
      "text/plain": [
       "MCA(quali_sup_labels=['Fonction'], quanti_sup_labels=['Cote'],\n",
       "    row_labels=Index(['Beauceron', 'Basset', 'Berger All', 'Boxer', 'Bull-Dog', 'Bull-Mastif',\n",
       "       'Caniche', 'Chihuahua', 'Cocker', 'Colley', 'Dalmatien', 'Doberman',\n",
       "       'Dogue All', 'Epag. Breton', 'Epag. Français', 'Fox-Hound',\n",
       "       'Fox-Terrier', 'Gd Bleu Gasc', 'Labrador', 'Levrier', 'Mastiff',\n",
       "       'Pekinois', 'Pointer', 'St-Bernard', 'Setter', 'Teckel', 'Terre-Neuve'],\n",
       "      dtype='object', name='Chien'),\n",
       "    row_sup_labels=Index(['Medor', 'Djeck', 'Taico', 'Rocky', 'Boudog', 'Wisky'], dtype='object', name='Chien'),\n",
       "    var_labels=Index(['Taille', 'Poids', 'Velocite', 'Intelligence', 'Affection',\n",
       "       'Agressivite'],\n",
       "      dtype='object'))"
      ]
     },
     "execution_count": 3,
     "metadata": {},
     "output_type": "execute_result"
    }
   ],
   "source": [
    "# ACM avec les éléments supplémentaires\n",
    "my_mca = MCA(n_components=None,\n",
    "             row_labels=A.index,\n",
    "             var_labels=A.columns,\n",
    "             mod_labels=None,\n",
    "             matrix_type=\"completed\",\n",
    "             benzecri=True,\n",
    "             greenacre=True,\n",
    "             row_sup_labels=B.index,\n",
    "             quali_sup_labels=[\"Fonction\"],\n",
    "             quanti_sup_labels=[\"Cote\"],\n",
    "             parallelize=False)\n",
    "# Estimation\n",
    "my_mca.fit(Data)"
   ]
  },
  {
   "cell_type": "code",
   "execution_count": 4,
   "metadata": {},
   "outputs": [
    {
     "name": "stdout",
     "output_type": "stream",
     "text": [
      "                     Multiple Correspondance Analysis - Results                     \n",
      "\n",
      "Importance of components\n",
      "                          Dim.1   Dim.2   Dim.3   Dim.4   Dim.5   Dim.6  \\\n",
      "Variance                  0.482   0.385   0.211   0.158   0.150   0.123   \n",
      "Difference                0.097   0.174   0.053   0.007   0.027   0.042   \n",
      "% of var.                28.896  23.084  12.657   9.453   9.008   7.398   \n",
      "Cumulative of % of var.  28.896  51.981  64.638  74.091  83.099  90.497   \n",
      "\n",
      "                          Dim.7   Dim.8   Dim.9   Dim.10  \n",
      "Variance                  0.081   0.046   0.024    0.008  \n",
      "Difference                0.036   0.022   0.016    0.008  \n",
      "% of var.                 4.888   2.740   1.413    0.463  \n",
      "Cumulative of % of var.  95.385  98.125  99.537  100.000  \n",
      "\n",
      "Individuals (the 10 first)\n",
      "\n",
      "             d(i,G)   p(i)  I(i,G)  Dim.1    ctr   cos2  Dim.2     ctr   cos2  \\\n",
      "Chien                                                                           \n",
      "Beauceron     1.065  0.037   0.042 -0.317  0.774  0.089 -0.418   1.680  0.154   \n",
      "Basset        1.382  0.037   0.071  0.254  0.497  0.034  1.101  11.674  0.635   \n",
      "Berger All    1.241  0.037   0.057 -0.486  1.819  0.154 -0.464   2.077  0.140   \n",
      "Boxer         1.341  0.037   0.067  0.447  1.539  0.111 -0.882   7.485  0.433   \n",
      "Bull-Dog      1.282  0.037   0.061  1.013  7.897  0.624  0.550   2.911  0.184   \n",
      "Bull-Mastif   1.446  0.037   0.077 -0.753  4.356  0.271  0.547   2.879  0.143   \n",
      "Caniche       1.470  0.037   0.080  0.912  6.401  0.385 -0.016   0.003  0.000   \n",
      "Chihuahua     1.364  0.037   0.069  0.841  5.437  0.380  0.844   6.855  0.383   \n",
      "Cocker        1.388  0.037   0.071  0.733  4.135  0.279  0.079   0.060  0.003   \n",
      "Colley        1.054  0.037   0.041 -0.117  0.106  0.012 -0.526   2.665  0.249   \n",
      "\n",
      "             Dim.3    ctr   cos2  \n",
      "Chien                             \n",
      "Beauceron   -0.101  0.181  0.009  \n",
      "Basset      -0.191  0.638  0.019  \n",
      "Berger All  -0.498  4.357  0.161  \n",
      "Boxer        0.692  8.408  0.266  \n",
      "Bull-Dog    -0.163  0.469  0.016  \n",
      "Bull-Mastif  0.498  4.347  0.118  \n",
      "Caniche     -0.577  5.836  0.154  \n",
      "Chihuahua   -0.470  3.877  0.119  \n",
      "Cocker       0.662  7.700  0.228  \n",
      "Colley      -0.335  1.969  0.101  \n",
      "\n",
      "Supplementary Individuals\n",
      "\n",
      "        Dim.1   cos2  Dim.2   cos2  Dim.3   cos2\n",
      "Chien                                           \n",
      "Medor   0.177  0.013  0.181  0.014  0.311  0.041\n",
      "Djeck   0.071  0.003 -0.183  0.019  0.599  0.205\n",
      "Taico  -0.001  0.000 -0.211  0.024 -0.703  0.263\n",
      "Rocky   0.475  0.113 -0.696  0.244  0.152  0.012\n",
      "Boudog  0.136  0.011  0.427  0.104 -0.307  0.054\n",
      "Wisky   0.036  0.001  0.413  0.069  0.929  0.348\n",
      "\n",
      "Categories (the 10 first)\n",
      "\n",
      "                      d(k,G)   p(k)  I(k,G)  Dim.1     ctr   cos2  vtest  \\\n",
      "Taille_Taille+         2.098  0.031   0.136  0.851   4.642  0.165  2.069   \n",
      "Taille_Taille++        0.894  0.093   0.074 -0.837  13.459  0.875 -4.770   \n",
      "Taille_Taille-         1.690  0.043   0.123  1.185  12.598  0.491  3.575   \n",
      "Poids_Poids+           0.964  0.086   0.080 -0.305   1.674  0.100 -1.616   \n",
      "Poids_Poids++          2.098  0.031   0.136 -1.015   6.604  0.234 -2.468   \n",
      "Poids_Poids-           1.541  0.049   0.117  1.169  14.010  0.575  3.868   \n",
      "Velocite_Veloc+        1.541  0.049   0.117  0.604   3.737  0.153  1.997   \n",
      "Velocite_Veloc++       1.414  0.056   0.111 -0.892   9.180  0.398 -3.217   \n",
      "Velocite_Veloc-        1.304  0.062   0.105  0.320   1.312  0.060  1.251   \n",
      "Intelligence_Intell+   1.038  0.080   0.086  0.369   2.274  0.127  1.815   \n",
      "\n",
      "                      Dim.2     ctr   cos2  vtest  Dim.3     ctr   cos2  vtest  \n",
      "Taille_Taille+       -1.232  12.171  0.345 -2.994  1.016  15.104  0.235  2.470  \n",
      "Taille_Taille++      -0.021   0.010  0.001 -0.117 -0.051   0.115  0.003 -0.292  \n",
      "Taille_Taille-        0.924   9.587  0.299  2.787 -0.616   7.772  0.133 -1.858  \n",
      "Poids_Poids+         -0.819  15.062  0.722 -4.333 -0.231   2.191  0.058 -1.224  \n",
      "Poids_Poids++         0.974   7.609  0.216  2.367  1.222  21.833  0.339  2.970  \n",
      "Poids_Poids-          0.824   8.722  0.286  2.727 -0.359   3.013  0.054 -1.187  \n",
      "Velocite_Veloc+      -0.888  10.117  0.332 -2.937  0.356   2.972  0.053  1.179  \n",
      "Velocite_Veloc++     -0.372   1.996  0.069 -1.341 -0.763  15.335  0.291 -2.751  \n",
      "Velocite_Veloc-       1.045  17.517  0.642  4.086  0.402   4.722  0.095  1.571  \n",
      "Intelligence_Intell+ -0.286   1.700  0.076 -1.403  0.493   9.253  0.226  2.423  \n",
      "\n",
      "Categorical variables\n",
      "\n",
      "              I(j,G)  eta2.1    ctr.1  cos2.1  eta2.2    ctr.2  cos2.2  \\\n",
      "Taille         0.333   0.887  184.191   0.444   0.502  130.605   0.251   \n",
      "Poids          0.333   0.644  133.729   0.322   0.725  188.359   0.362   \n",
      "Velocite       0.333   0.411   85.376   0.206   0.684  177.786   0.342   \n",
      "Intelligence   0.333   0.127   26.321   0.063   0.280   72.743   0.140   \n",
      "Affection      0.167   0.648  134.478   0.648   0.077   19.945   0.077   \n",
      "Agressivite    0.167   0.173   35.906   0.173   0.041   10.562   0.041   \n",
      "\n",
      "              eta2.3    ctr.3  cos2.3  \n",
      "Taille         0.291  137.951   0.146  \n",
      "Poids          0.342  162.226   0.171  \n",
      "Velocite       0.291  138.177   0.146  \n",
      "Intelligence   0.234  110.787   0.117  \n",
      "Affection      0.004    1.887   0.004  \n",
      "Agressivite    0.103   48.972   0.103  \n",
      "\n",
      "Supplementary continuous variable\n",
      "\n",
      "         Dim.1     Dim.2     Dim.3\n",
      "Cote -0.042141  0.601291  0.258801\n",
      "\n",
      "Supplementary categories\n",
      "\n",
      "                     Dist  Dim.1   cos2  v.test  Dim.2   cos2  v.test  Dim.3  \\\n",
      "Fonction_chasse     1.414 -0.322  0.070  -1.162 -0.432  0.126  -1.559 -0.349   \n",
      "Fonction_compagnie  1.304  1.039  0.866   4.065  0.095  0.007   0.373 -0.068   \n",
      "Fonction_utilite    1.541 -0.936  0.434  -3.099  0.367  0.067   1.215  0.477   \n",
      "\n",
      "                     cos2  v.test  \n",
      "Fonction_chasse     0.082  -1.257  \n",
      "Fonction_compagnie  0.004  -0.266  \n",
      "Fonction_utilite    0.113   1.579  \n"
     ]
    }
   ],
   "source": [
    "from scientisttools.extractfactor import summaryMCA\n",
    "summaryMCA(my_mca)"
   ]
  },
  {
   "cell_type": "code",
   "execution_count": 5,
   "metadata": {},
   "outputs": [
    {
     "data": {
      "text/html": [
       "<div>\n",
       "<style scoped>\n",
       "    .dataframe tbody tr th:only-of-type {\n",
       "        vertical-align: middle;\n",
       "    }\n",
       "\n",
       "    .dataframe tbody tr th {\n",
       "        vertical-align: top;\n",
       "    }\n",
       "\n",
       "    .dataframe thead th {\n",
       "        text-align: right;\n",
       "    }\n",
       "</style>\n",
       "<table border=\"1\" class=\"dataframe\">\n",
       "  <thead>\n",
       "    <tr style=\"text-align: right;\">\n",
       "      <th></th>\n",
       "      <th>eigenvalue</th>\n",
       "      <th>difference</th>\n",
       "      <th>proportion</th>\n",
       "      <th>cumulative</th>\n",
       "    </tr>\n",
       "  </thead>\n",
       "  <tbody>\n",
       "    <tr>\n",
       "      <th>Dim.1</th>\n",
       "      <td>0.481606</td>\n",
       "      <td>0.096869</td>\n",
       "      <td>28.896370</td>\n",
       "      <td>28.896370</td>\n",
       "    </tr>\n",
       "    <tr>\n",
       "      <th>Dim.2</th>\n",
       "      <td>0.384737</td>\n",
       "      <td>0.173783</td>\n",
       "      <td>23.084237</td>\n",
       "      <td>51.980607</td>\n",
       "    </tr>\n",
       "    <tr>\n",
       "      <th>Dim.3</th>\n",
       "      <td>0.210954</td>\n",
       "      <td>0.053400</td>\n",
       "      <td>12.657243</td>\n",
       "      <td>64.637850</td>\n",
       "    </tr>\n",
       "    <tr>\n",
       "      <th>Dim.4</th>\n",
       "      <td>0.157554</td>\n",
       "      <td>0.007421</td>\n",
       "      <td>9.453242</td>\n",
       "      <td>74.091092</td>\n",
       "    </tr>\n",
       "    <tr>\n",
       "      <th>Dim.5</th>\n",
       "      <td>0.150133</td>\n",
       "      <td>0.026837</td>\n",
       "      <td>9.007960</td>\n",
       "      <td>83.099052</td>\n",
       "    </tr>\n",
       "    <tr>\n",
       "      <th>Dim.6</th>\n",
       "      <td>0.123295</td>\n",
       "      <td>0.041833</td>\n",
       "      <td>7.397718</td>\n",
       "      <td>90.496770</td>\n",
       "    </tr>\n",
       "    <tr>\n",
       "      <th>Dim.7</th>\n",
       "      <td>0.081462</td>\n",
       "      <td>0.035793</td>\n",
       "      <td>4.887748</td>\n",
       "      <td>95.384518</td>\n",
       "    </tr>\n",
       "    <tr>\n",
       "      <th>Dim.8</th>\n",
       "      <td>0.045670</td>\n",
       "      <td>0.022128</td>\n",
       "      <td>2.740185</td>\n",
       "      <td>98.124703</td>\n",
       "    </tr>\n",
       "    <tr>\n",
       "      <th>Dim.9</th>\n",
       "      <td>0.023542</td>\n",
       "      <td>0.015829</td>\n",
       "      <td>1.412515</td>\n",
       "      <td>99.537218</td>\n",
       "    </tr>\n",
       "    <tr>\n",
       "      <th>Dim.10</th>\n",
       "      <td>0.007713</td>\n",
       "      <td>0.007713</td>\n",
       "      <td>0.462782</td>\n",
       "      <td>100.000000</td>\n",
       "    </tr>\n",
       "  </tbody>\n",
       "</table>\n",
       "</div>"
      ],
      "text/plain": [
       "        eigenvalue  difference  proportion  cumulative\n",
       "Dim.1     0.481606    0.096869   28.896370   28.896370\n",
       "Dim.2     0.384737    0.173783   23.084237   51.980607\n",
       "Dim.3     0.210954    0.053400   12.657243   64.637850\n",
       "Dim.4     0.157554    0.007421    9.453242   74.091092\n",
       "Dim.5     0.150133    0.026837    9.007960   83.099052\n",
       "Dim.6     0.123295    0.041833    7.397718   90.496770\n",
       "Dim.7     0.081462    0.035793    4.887748   95.384518\n",
       "Dim.8     0.045670    0.022128    2.740185   98.124703\n",
       "Dim.9     0.023542    0.015829    1.412515   99.537218\n",
       "Dim.10    0.007713    0.007713    0.462782  100.000000"
      ]
     },
     "execution_count": 5,
     "metadata": {},
     "output_type": "execute_result"
    }
   ],
   "source": [
    "# Extract eigenvalues/variances\n",
    "from scientisttools.extractfactor import get_eig\n",
    "get_eig(my_mca)"
   ]
  },
  {
   "cell_type": "code",
   "execution_count": 6,
   "metadata": {},
   "outputs": [
    {
     "data": {
      "image/png": "[encoded data removed]",
      "text/plain": [
       "<Figure size 432x288 with 1 Axes>"
      ]
     },
     "metadata": {},
     "output_type": "display_data"
    },
    {
     "name": "stdout",
     "output_type": "stream",
     "text": [
      "\n"
     ]
    }
   ],
   "source": [
    "# Visualize eigenvalues/variances\n",
    "from scientisttools.ggplot import fviz_screeplot\n",
    "p = fviz_screeplot(my_mca,add_labels=True,ylim=(0,35))\n",
    "print(p)"
   ]
  },
  {
   "cell_type": "markdown",
   "metadata": {},
   "source": [
    "# Extract and visualize results for modalities"
   ]
  },
  {
   "cell_type": "code",
   "execution_count": 7,
   "metadata": {},
   "outputs": [
    {
     "name": "stdout",
     "output_type": "stream",
     "text": [
      "dict_keys(['coord', 'corrected_coord', 'cos2', 'contrib', 'vtest', 'infos', 'sup'])\n"
     ]
    }
   ],
   "source": [
    "# Extract the results for categories\n",
    "from scientisttools.extractfactor import get_mca_mod\n",
    "mod = get_mca_mod(my_mca)\n",
    "print(mod.keys())"
   ]
  },
  {
   "cell_type": "code",
   "execution_count": 8,
   "metadata": {},
   "outputs": [
    {
     "data": {
      "text/html": [
       "<div>\n",
       "<style scoped>\n",
       "    .dataframe tbody tr th:only-of-type {\n",
       "        vertical-align: middle;\n",
       "    }\n",
       "\n",
       "    .dataframe tbody tr th {\n",
       "        vertical-align: top;\n",
       "    }\n",
       "\n",
       "    .dataframe thead th {\n",
       "        text-align: right;\n",
       "    }\n",
       "</style>\n",
       "<table border=\"1\" class=\"dataframe\">\n",
       "  <thead>\n",
       "    <tr style=\"text-align: right;\">\n",
       "      <th></th>\n",
       "      <th>Dim.1</th>\n",
       "      <th>Dim.2</th>\n",
       "      <th>Dim.3</th>\n",
       "      <th>Dim.4</th>\n",
       "      <th>Dim.5</th>\n",
       "      <th>Dim.6</th>\n",
       "      <th>Dim.7</th>\n",
       "      <th>Dim.8</th>\n",
       "      <th>Dim.9</th>\n",
       "      <th>Dim.10</th>\n",
       "    </tr>\n",
       "  </thead>\n",
       "  <tbody>\n",
       "    <tr>\n",
       "      <th>Taille_Taille+</th>\n",
       "      <td>0.851088</td>\n",
       "      <td>-1.231720</td>\n",
       "      <td>1.016052</td>\n",
       "      <td>0.342456</td>\n",
       "      <td>-0.310040</td>\n",
       "      <td>0.118297</td>\n",
       "      <td>0.858306</td>\n",
       "      <td>-0.259599</td>\n",
       "      <td>0.307322</td>\n",
       "      <td>0.015208</td>\n",
       "    </tr>\n",
       "    <tr>\n",
       "      <th>Taille_Taille++</th>\n",
       "      <td>-0.836675</td>\n",
       "      <td>-0.020578</td>\n",
       "      <td>-0.051217</td>\n",
       "      <td>-0.170222</td>\n",
       "      <td>0.112663</td>\n",
       "      <td>-0.049965</td>\n",
       "      <td>-0.117844</td>\n",
       "      <td>0.056414</td>\n",
       "      <td>-0.144633</td>\n",
       "      <td>-0.121550</td>\n",
       "    </tr>\n",
       "    <tr>\n",
       "      <th>Taille_Taille-</th>\n",
       "      <td>1.184956</td>\n",
       "      <td>0.923897</td>\n",
       "      <td>-0.616000</td>\n",
       "      <td>0.120149</td>\n",
       "      <td>-0.019963</td>\n",
       "      <td>0.022569</td>\n",
       "      <td>-0.360553</td>\n",
       "      <td>0.064541</td>\n",
       "      <td>0.090411</td>\n",
       "      <td>0.249601</td>\n",
       "    </tr>\n",
       "    <tr>\n",
       "      <th>Poids_Poids+</th>\n",
       "      <td>-0.305405</td>\n",
       "      <td>-0.818876</td>\n",
       "      <td>-0.231272</td>\n",
       "      <td>-0.118364</td>\n",
       "      <td>-0.190201</td>\n",
       "      <td>0.012908</td>\n",
       "      <td>0.037178</td>\n",
       "      <td>-0.125673</td>\n",
       "      <td>-0.184946</td>\n",
       "      <td>0.097573</td>\n",
       "    </tr>\n",
       "    <tr>\n",
       "      <th>Poids_Poids++</th>\n",
       "      <td>-1.015134</td>\n",
       "      <td>0.973901</td>\n",
       "      <td>1.221595</td>\n",
       "      <td>0.067605</td>\n",
       "      <td>0.614518</td>\n",
       "      <td>0.289232</td>\n",
       "      <td>0.067864</td>\n",
       "      <td>0.641508</td>\n",
       "      <td>0.204009</td>\n",
       "      <td>0.071494</td>\n",
       "    </tr>\n",
       "    <tr>\n",
       "      <th>Poids_Poids-</th>\n",
       "      <td>1.168918</td>\n",
       "      <td>0.824345</td>\n",
       "      <td>-0.358770</td>\n",
       "      <td>0.164884</td>\n",
       "      <td>-0.051221</td>\n",
       "      <td>-0.203360</td>\n",
       "      <td>-0.107475</td>\n",
       "      <td>-0.181014</td>\n",
       "      <td>0.196151</td>\n",
       "      <td>-0.215436</td>\n",
       "    </tr>\n",
       "  </tbody>\n",
       "</table>\n",
       "</div>"
      ],
      "text/plain": [
       "                    Dim.1     Dim.2     Dim.3     Dim.4     Dim.5     Dim.6  \\\n",
       "Taille_Taille+   0.851088 -1.231720  1.016052  0.342456 -0.310040  0.118297   \n",
       "Taille_Taille++ -0.836675 -0.020578 -0.051217 -0.170222  0.112663 -0.049965   \n",
       "Taille_Taille-   1.184956  0.923897 -0.616000  0.120149 -0.019963  0.022569   \n",
       "Poids_Poids+    -0.305405 -0.818876 -0.231272 -0.118364 -0.190201  0.012908   \n",
       "Poids_Poids++   -1.015134  0.973901  1.221595  0.067605  0.614518  0.289232   \n",
       "Poids_Poids-     1.168918  0.824345 -0.358770  0.164884 -0.051221 -0.203360   \n",
       "\n",
       "                    Dim.7     Dim.8     Dim.9    Dim.10  \n",
       "Taille_Taille+   0.858306 -0.259599  0.307322  0.015208  \n",
       "Taille_Taille++ -0.117844  0.056414 -0.144633 -0.121550  \n",
       "Taille_Taille-  -0.360553  0.064541  0.090411  0.249601  \n",
       "Poids_Poids+     0.037178 -0.125673 -0.184946  0.097573  \n",
       "Poids_Poids++    0.067864  0.641508  0.204009  0.071494  \n",
       "Poids_Poids-    -0.107475 -0.181014  0.196151 -0.215436  "
      ]
     },
     "execution_count": 8,
     "metadata": {},
     "output_type": "execute_result"
    }
   ],
   "source": [
    "# Coordinates of categories\n",
    "mod[\"coord\"].head(6)"
   ]
  },
  {
   "cell_type": "code",
   "execution_count": 10,
   "metadata": {},
   "outputs": [
    {
     "data": {
      "text/html": [
       "<div>\n",
       "<style scoped>\n",
       "    .dataframe tbody tr th:only-of-type {\n",
       "        vertical-align: middle;\n",
       "    }\n",
       "\n",
       "    .dataframe tbody tr th {\n",
       "        vertical-align: top;\n",
       "    }\n",
       "\n",
       "    .dataframe thead th {\n",
       "        text-align: right;\n",
       "    }\n",
       "</style>\n",
       "<table border=\"1\" class=\"dataframe\">\n",
       "  <thead>\n",
       "    <tr style=\"text-align: right;\">\n",
       "      <th></th>\n",
       "      <th>Dim.1</th>\n",
       "      <th>Dim.2</th>\n",
       "      <th>Dim.3</th>\n",
       "      <th>Dim.4</th>\n",
       "      <th>Dim.5</th>\n",
       "      <th>Dim.6</th>\n",
       "      <th>Dim.7</th>\n",
       "      <th>Dim.8</th>\n",
       "      <th>Dim.9</th>\n",
       "      <th>Dim.10</th>\n",
       "    </tr>\n",
       "  </thead>\n",
       "  <tbody>\n",
       "    <tr>\n",
       "      <th>Taille_Taille+</th>\n",
       "      <td>0.590637</td>\n",
       "      <td>-0.764001</td>\n",
       "      <td>0.466670</td>\n",
       "      <td>0.135931</td>\n",
       "      <td>-0.120131</td>\n",
       "      <td>0.041538</td>\n",
       "      <td>0.244974</td>\n",
       "      <td>-0.055478</td>\n",
       "      <td>0.047154</td>\n",
       "      <td>0.001336</td>\n",
       "    </tr>\n",
       "    <tr>\n",
       "      <th>Taille_Taille++</th>\n",
       "      <td>-0.580635</td>\n",
       "      <td>-0.012764</td>\n",
       "      <td>-0.023524</td>\n",
       "      <td>-0.067566</td>\n",
       "      <td>0.043653</td>\n",
       "      <td>-0.017544</td>\n",
       "      <td>-0.033635</td>\n",
       "      <td>0.012056</td>\n",
       "      <td>-0.022192</td>\n",
       "      <td>-0.010675</td>\n",
       "    </tr>\n",
       "    <tr>\n",
       "      <th>Taille_Taille-</th>\n",
       "      <td>0.822334</td>\n",
       "      <td>0.573067</td>\n",
       "      <td>-0.282927</td>\n",
       "      <td>0.047691</td>\n",
       "      <td>-0.007735</td>\n",
       "      <td>0.007925</td>\n",
       "      <td>-0.102908</td>\n",
       "      <td>0.013793</td>\n",
       "      <td>0.013872</td>\n",
       "      <td>0.021921</td>\n",
       "    </tr>\n",
       "    <tr>\n",
       "      <th>Poids_Poids+</th>\n",
       "      <td>-0.211945</td>\n",
       "      <td>-0.507926</td>\n",
       "      <td>-0.106223</td>\n",
       "      <td>-0.046982</td>\n",
       "      <td>-0.073697</td>\n",
       "      <td>0.004533</td>\n",
       "      <td>0.010611</td>\n",
       "      <td>-0.026857</td>\n",
       "      <td>-0.028377</td>\n",
       "      <td>0.008569</td>\n",
       "    </tr>\n",
       "    <tr>\n",
       "      <th>Poids_Poids++</th>\n",
       "      <td>-0.704481</td>\n",
       "      <td>0.604083</td>\n",
       "      <td>0.561075</td>\n",
       "      <td>0.026834</td>\n",
       "      <td>0.238107</td>\n",
       "      <td>0.101559</td>\n",
       "      <td>0.019369</td>\n",
       "      <td>0.137093</td>\n",
       "      <td>0.031302</td>\n",
       "      <td>0.006279</td>\n",
       "    </tr>\n",
       "    <tr>\n",
       "      <th>Poids_Poids-</th>\n",
       "      <td>0.811204</td>\n",
       "      <td>0.511318</td>\n",
       "      <td>-0.164782</td>\n",
       "      <td>0.065447</td>\n",
       "      <td>-0.019847</td>\n",
       "      <td>-0.071407</td>\n",
       "      <td>-0.030675</td>\n",
       "      <td>-0.038684</td>\n",
       "      <td>0.030096</td>\n",
       "      <td>-0.018920</td>\n",
       "    </tr>\n",
       "  </tbody>\n",
       "</table>\n",
       "</div>"
      ],
      "text/plain": [
       "                    Dim.1     Dim.2     Dim.3     Dim.4     Dim.5     Dim.6  \\\n",
       "Taille_Taille+   0.590637 -0.764001  0.466670  0.135931 -0.120131  0.041538   \n",
       "Taille_Taille++ -0.580635 -0.012764 -0.023524 -0.067566  0.043653 -0.017544   \n",
       "Taille_Taille-   0.822334  0.573067 -0.282927  0.047691 -0.007735  0.007925   \n",
       "Poids_Poids+    -0.211945 -0.507926 -0.106223 -0.046982 -0.073697  0.004533   \n",
       "Poids_Poids++   -0.704481  0.604083  0.561075  0.026834  0.238107  0.101559   \n",
       "Poids_Poids-     0.811204  0.511318 -0.164782  0.065447 -0.019847 -0.071407   \n",
       "\n",
       "                    Dim.7     Dim.8     Dim.9    Dim.10  \n",
       "Taille_Taille+   0.244974 -0.055478  0.047154  0.001336  \n",
       "Taille_Taille++ -0.033635  0.012056 -0.022192 -0.010675  \n",
       "Taille_Taille-  -0.102908  0.013793  0.013872  0.021921  \n",
       "Poids_Poids+     0.010611 -0.026857 -0.028377  0.008569  \n",
       "Poids_Poids++    0.019369  0.137093  0.031302  0.006279  \n",
       "Poids_Poids-    -0.030675 -0.038684  0.030096 -0.018920  "
      ]
     },
     "execution_count": 10,
     "metadata": {},
     "output_type": "execute_result"
    }
   ],
   "source": [
    "# Corrected coordinates of categories\n",
    "mod[\"corrected_coord\"].head(6)"
   ]
  },
  {
   "cell_type": "code",
   "execution_count": null,
   "metadata": {},
   "outputs": [],
   "source": [
    "# Contribution of modalities\n",
    "mod[\"contrib\"].head(6)"
   ]
  },
  {
   "cell_type": "code",
   "execution_count": 15,
   "metadata": {},
   "outputs": [
    {
     "data": {
      "image/png": "[encoded data removed]",
      "text/plain": [
       "<Figure size 640x480 with 1 Axes>"
      ]
     },
     "metadata": {},
     "output_type": "display_data"
    },
    {
     "name": "stdout",
     "output_type": "stream",
     "text": [
      "\n"
     ]
    }
   ],
   "source": [
    "# Graph of modalities: default plot\n",
    "from scientisttools.ggplot import fviz_mca_mod\n",
    "p = fviz_mca_mod(my_mca,color = \"black\",repel=True)\n",
    "print(p)"
   ]
  },
  {
   "cell_type": "code",
   "execution_count": 16,
   "metadata": {},
   "outputs": [
    {
     "data": {
      "image/png": "[encoded data removed]",
      "text/plain": [
       "<Figure size 640x480 with 1 Axes>"
      ]
     },
     "metadata": {},
     "output_type": "display_data"
    },
    {
     "name": "stdout",
     "output_type": "stream",
     "text": [
      "\n"
     ]
    }
   ],
   "source": [
    "# Graph of modalities: default plot with corrected coordinates\n",
    "p = fviz_mca_mod(my_mca,color=\"black\",corrected=True,repel=True)\n",
    "print(p)"
   ]
  },
  {
   "cell_type": "markdown",
   "metadata": {},
   "source": [
    "It's possible to control variable colors using their contributions (\"contrib\") to the principal axes"
   ]
  },
  {
   "cell_type": "code",
   "execution_count": 12,
   "metadata": {},
   "outputs": [
    {
     "ename": "NameError",
     "evalue": "name 'fviz_mca_ind' is not defined",
     "output_type": "error",
     "traceback": [
      "\u001b[1;31m---------------------------------------------------------------------------\u001b[0m",
      "\u001b[1;31mNameError\u001b[0m                                 Traceback (most recent call last)",
      "\u001b[1;32md:\\Bureau\\PythonProject\\packages\\scientisttools\\races_canines_mca.ipynb Cell 14\u001b[0m line \u001b[0;36m<cell line: 1>\u001b[1;34m()\u001b[0m\n\u001b[1;32m----> <a href='vscode-notebook-cell:/d%3A/Bureau/PythonProject/packages/scientisttools/races_canines_mca.ipynb#X12sZmlsZQ%3D%3D?line=0'>1</a>\u001b[0m p \u001b[39m=\u001b[39m fviz_mca_ind(my_mca,color\u001b[39m=\u001b[39m\u001b[39m\"\u001b[39m\u001b[39mcos2\u001b[39m\u001b[39m\"\u001b[39m,add_ellipse\u001b[39m=\u001b[39m\u001b[39mTrue\u001b[39;00m,repel\u001b[39m=\u001b[39m\u001b[39mTrue\u001b[39;00m)\n\u001b[0;32m      <a href='vscode-notebook-cell:/d%3A/Bureau/PythonProject/packages/scientisttools/races_canines_mca.ipynb#X12sZmlsZQ%3D%3D?line=1'>2</a>\u001b[0m \u001b[39mprint\u001b[39m(p)\n",
      "\u001b[1;31mNameError\u001b[0m: name 'fviz_mca_ind' is not defined"
     ]
    }
   ],
   "source": [
    "p = fviz_mca_mod(my_mca,\n",
    "                 color=\"contrib\",\n",
    "                 gradient_cols = c(\"#00AFBB\", \"#E7B800\", \"#FC4E07\"),\n",
    "                 repel=True)\n",
    "print(p)"
   ]
  },
  {
   "cell_type": "code",
   "execution_count": null,
   "metadata": {},
   "outputs": [],
   "source": [
    "p = fviz_mca_ind(my_mca,color=\"contrib\",add_ellipse=True,repel=True)\n",
    "print(p)"
   ]
  },
  {
   "cell_type": "code",
   "execution_count": null,
   "metadata": {},
   "outputs": [],
   "source": [
    "from scientisttools.ggplot import fviz_mca_mod\n",
    "p = fviz_mca_mod(my_mca,repel=True)\n",
    "print(p)"
   ]
  },
  {
   "cell_type": "code",
   "execution_count": null,
   "metadata": {},
   "outputs": [],
   "source": [
    "from scientisttools.extractfactor import get_mca_var\n",
    "var = get_mca_var(my_mca)\n",
    "var.keys()"
   ]
  }
 ],
 "metadata": {
  "kernelspec": {
   "display_name": "Python 3",
   "language": "python",
   "name": "python3"
  },
  "language_info": {
   "codemirror_mode": {
    "name": "ipython",
    "version": 3
   },
   "file_extension": ".py",
   "mimetype": "text/x-python",
   "name": "python",
   "nbconvert_exporter": "python",
   "pygments_lexer": "ipython3",
   "version": "3.10.5"
  }
 },
 "nbformat": 4,
 "nbformat_minor": 2
}
