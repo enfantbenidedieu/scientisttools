{
 "cells": [
  {
   "attachments": {},
   "cell_type": "markdown",
   "metadata": {},
   "source": [
    "# Multiple Factor Analysis (MFA)"
   ]
  },
  {
   "cell_type": "code",
   "execution_count": 1,
   "metadata": {},
   "outputs": [
    {
     "name": "stdout",
     "output_type": "stream",
     "text": [
      "<class 'pandas.core.frame.DataFrame'>\n",
      "Index: 21 entries, 2EL  to T2  \n",
      "Data columns (total 31 columns):\n",
      " #   Column                         Non-Null Count  Dtype  \n",
      "---  ------                         --------------  -----  \n",
      " 0   Label                          21 non-null     object \n",
      " 1   Soil                           21 non-null     object \n",
      " 2   Odor.Intensity.before.shaking  21 non-null     float64\n",
      " 3   Aroma.quality.before.shaking   21 non-null     float64\n",
      " 4   Fruity.before.shaking          21 non-null     float64\n",
      " 5   Flower.before.shaking          21 non-null     float64\n",
      " 6   Spice.before.shaking           21 non-null     float64\n",
      " 7   Visual.intensity               21 non-null     float64\n",
      " 8   Nuance                         21 non-null     float64\n",
      " 9   Surface.feeling                21 non-null     float64\n",
      " 10  Odor.Intensity                 21 non-null     float64\n",
      " 11  Quality.of.odour               21 non-null     float64\n",
      " 12  Fruity                         21 non-null     float64\n",
      " 13  Flower                         21 non-null     float64\n",
      " 14  Spice                          21 non-null     float64\n",
      " 15  Plante                         21 non-null     float64\n",
      " 16  Phenolic                       21 non-null     float64\n",
      " 17  Aroma.intensity                21 non-null     float64\n",
      " 18  Aroma.persistency              21 non-null     float64\n",
      " 19  Aroma.quality                  21 non-null     float64\n",
      " 20  Attack.intensity               21 non-null     float64\n",
      " 21  Acidity                        21 non-null     float64\n",
      " 22  Astringency                    21 non-null     float64\n",
      " 23  Alcohol                        21 non-null     float64\n",
      " 24  Balance                        21 non-null     float64\n",
      " 25  Smooth                         21 non-null     float64\n",
      " 26  Bitterness                     21 non-null     float64\n",
      " 27  Intensity                      21 non-null     float64\n",
      " 28  Harmony                        21 non-null     float64\n",
      " 29  Overall.quality                21 non-null     float64\n",
      " 30  Typical                        21 non-null     float64\n",
      "dtypes: float64(29), object(2)\n",
      "memory usage: 5.2+ KB\n"
     ]
    }
   ],
   "source": [
    "#changement de dossier\n",
    "import os\n",
    "os.chdir(\"d:/Bureau/PythonProject/packages/scientisttools/data/\")\n",
    "\n",
    "#importation des données\n",
    "import pandas as pd\n",
    "url = \"http://factominer.free.fr/factomethods/datasets/wine.txt\"\n",
    "wine = pd.read_table(url,sep=\"\\t\")\n",
    "wine.info()"
   ]
  },
  {
   "cell_type": "markdown",
   "metadata": {},
   "source": [
    "Pour réaliser un analyse factorielle multiple avec scientisttools, nous devons effectuer un traitement de notre jeu de données"
   ]
  },
  {
   "cell_type": "markdown",
   "metadata": {},
   "source": [
    "### MFA"
   ]
  },
  {
   "cell_type": "code",
   "execution_count": 2,
   "metadata": {},
   "outputs": [],
   "source": [
    "wine2 = pd.DataFrame(data=wine.values,\n",
    "                     columns = pd.MultiIndex.from_tuples(\n",
    "    [\n",
    "        (\"others\",\"Label\"),\n",
    "        (\"others\",\"Soil\"),\n",
    "        (\"before shaking\",\"Odor.Intensity\"),\n",
    "        (\"before shaking\",\"Aroma.quality\"),\n",
    "        (\"before shaking\",\"Fruity\"),\n",
    "        (\"before shaking\",\"Flower\"),\n",
    "        (\"before shaking\",\"Spice\"),\n",
    "        (\"vision\",\"Visual.intensity\"),\n",
    "        (\"vision\",\"Nuance\"),\n",
    "        (\"vision\",\"Surface.feeling\"),\n",
    "        (\"after shaking\",\"Odor.intensity\"),\n",
    "        (\"after shaking\",\"Quality.of.odour\"),\n",
    "        (\"after shaking\",\"Fruity\"),\n",
    "        (\"after shaking\",\"Flower\"),\n",
    "        (\"after shaking\",\"Spice\"),\n",
    "        (\"after shaking\",\"Plante\"),\n",
    "        (\"after shaking\",\"Phenolic\"),\n",
    "        (\"after shaking\",\"Aroma.intensity\"),\n",
    "        (\"after shaking\",\"Aroma.persistency\"),\n",
    "        (\"after shaking\",\"Aroma.quality\"),\n",
    "        (\"gustation\",\"Attack.intensity\"),\n",
    "        (\"gustation\",\"Acidity\"),\n",
    "        (\"gustation\",\"Astringency\"),\n",
    "        (\"gustation\",\"Alcohol\"),\n",
    "        (\"gustation\",\"Balance\"),\n",
    "        (\"gustation\",\"Smooth\"),\n",
    "        (\"gustation\",\"Bitterness\"),\n",
    "        (\"gustation\",\"Intensity\"),\n",
    "        (\"gustation\",\"Harmony\"),\n",
    "        (\"overall judgement\",\"Overall.quality\"),\n",
    "        (\"overall judgement\",\"Typical\")\n",
    "    ]\n",
    "))\n",
    "wine2.index= wine.index"
   ]
  },
  {
   "cell_type": "code",
   "execution_count": 3,
   "metadata": {},
   "outputs": [
    {
     "data": {
      "text/plain": [
       "['after shaking', 'before shaking', 'gustation', 'vision']"
      ]
     },
     "execution_count": 3,
     "metadata": {},
     "output_type": "execute_result"
    }
   ],
   "source": [
    "groups = wine2.columns.levels[0].drop([\"others\",\"overall judgement\"]).tolist()\n",
    "groups"
   ]
  },
  {
   "cell_type": "code",
   "execution_count": 4,
   "metadata": {},
   "outputs": [
    {
     "name": "stdout",
     "output_type": "stream",
     "text": [
      "<class 'pandas.core.frame.DataFrame'>\n",
      "Index: 21 entries, 2EL  to T2  \n",
      "Data columns (total 31 columns):\n",
      " #   Column                                Non-Null Count  Dtype  \n",
      "---  ------                                --------------  -----  \n",
      " 0   (others, Label)                       21 non-null     object \n",
      " 1   (others, Soil)                        21 non-null     object \n",
      " 2   (before shaking, Odor.Intensity)      21 non-null     float64\n",
      " 3   (before shaking, Aroma.quality)       21 non-null     float64\n",
      " 4   (before shaking, Fruity)              21 non-null     float64\n",
      " 5   (before shaking, Flower)              21 non-null     float64\n",
      " 6   (before shaking, Spice)               21 non-null     float64\n",
      " 7   (vision, Visual.intensity)            21 non-null     float64\n",
      " 8   (vision, Nuance)                      21 non-null     float64\n",
      " 9   (vision, Surface.feeling)             21 non-null     float64\n",
      " 10  (after shaking, Odor.intensity)       21 non-null     float64\n",
      " 11  (after shaking, Quality.of.odour)     21 non-null     float64\n",
      " 12  (after shaking, Fruity)               21 non-null     float64\n",
      " 13  (after shaking, Flower)               21 non-null     float64\n",
      " 14  (after shaking, Spice)                21 non-null     float64\n",
      " 15  (after shaking, Plante)               21 non-null     float64\n",
      " 16  (after shaking, Phenolic)             21 non-null     float64\n",
      " 17  (after shaking, Aroma.intensity)      21 non-null     float64\n",
      " 18  (after shaking, Aroma.persistency)    21 non-null     float64\n",
      " 19  (after shaking, Aroma.quality)        21 non-null     float64\n",
      " 20  (gustation, Attack.intensity)         21 non-null     float64\n",
      " 21  (gustation, Acidity)                  21 non-null     float64\n",
      " 22  (gustation, Astringency)              21 non-null     float64\n",
      " 23  (gustation, Alcohol)                  21 non-null     float64\n",
      " 24  (gustation, Balance)                  21 non-null     float64\n",
      " 25  (gustation, Smooth)                   21 non-null     float64\n",
      " 26  (gustation, Bitterness)               21 non-null     float64\n",
      " 27  (gustation, Intensity)                21 non-null     float64\n",
      " 28  (gustation, Harmony)                  21 non-null     float64\n",
      " 29  (overall judgement, Overall.quality)  21 non-null     object \n",
      " 30  (overall judgement, Typical)          21 non-null     object \n",
      "dtypes: float64(27), object(4)\n",
      "memory usage: 5.2+ KB\n"
     ]
    }
   ],
   "source": [
    "for g in groups:\n",
    "    wine2[g] = wine2[g].astype(\"float\")\n",
    "wine2.info()"
   ]
  },
  {
   "cell_type": "code",
   "execution_count": 5,
   "metadata": {},
   "outputs": [
    {
     "name": "stdout",
     "output_type": "stream",
     "text": [
      "[[3.46200e+00 2.09520e+00 4.93784e+01 4.93784e+01]\n",
      " [1.36680e+00 7.51300e-01 1.94944e+01 6.88728e+01]\n",
      " [6.15400e-01 2.43200e-01 8.77800e+00 7.76508e+01]\n",
      " [3.72200e-01 1.01800e-01 5.30870e+00 8.29595e+01]\n",
      " [2.70400e-01 6.80000e-02 3.85650e+00 8.68161e+01]\n",
      " [2.02400e-01 2.67000e-02 2.88690e+00 8.97030e+01]\n",
      " [1.75700e-01 4.98000e-02 2.50620e+00 9.22092e+01]\n",
      " [1.25900e-01 2.06000e-02 1.79570e+00 9.40049e+01]\n",
      " [1.05300e-01 2.65000e-02 1.50160e+00 9.55065e+01]\n",
      " [7.88000e-02 4.90000e-03 1.12380e+00 9.66303e+01]\n",
      " [7.39000e-02 1.36000e-02 1.05390e+00 9.76842e+01]\n",
      " [6.03000e-02 3.16000e-02 8.60600e-01 9.85448e+01]\n",
      " [2.87000e-02 6.70000e-03 4.09400e-01 9.89543e+01]\n",
      " [2.20000e-02 2.80000e-03 3.13300e-01 9.92675e+01]\n",
      " [1.92000e-02 8.20000e-03 2.73300e-01 9.95409e+01]\n",
      " [1.09000e-02 1.80000e-03 1.56000e-01 9.96969e+01]\n",
      " [9.20000e-03 2.80000e-03 1.30600e-01 9.98275e+01]\n",
      " [6.40000e-03 3.10000e-03 9.09000e-02 9.99184e+01]\n",
      " [3.30000e-03 9.00000e-04 4.71000e-02 9.99655e+01]\n",
      " [2.40000e-03 2.40000e-03 3.45000e-02 1.00000e+02]\n",
      " [0.00000e+00         nan 0.00000e+00 1.00000e+02]]\n"
     ]
    },
    {
     "ename": "NameError",
     "evalue": "name 'Z' is not defined",
     "output_type": "error",
     "traceback": [
      "\u001b[1;31m---------------------------------------------------------------------------\u001b[0m",
      "\u001b[1;31mNameError\u001b[0m                                 Traceback (most recent call last)",
      "Input \u001b[1;32mIn [5]\u001b[0m, in \u001b[0;36m<cell line: 9>\u001b[1;34m()\u001b[0m\n\u001b[0;32m      1\u001b[0m \u001b[38;5;28;01mfrom\u001b[39;00m \u001b[38;5;21;01mscientisttools\u001b[39;00m\u001b[38;5;21;01m.\u001b[39;00m\u001b[38;5;21;01mdecomposition\u001b[39;00m \u001b[38;5;28;01mimport\u001b[39;00m MFA\n\u001b[0;32m      3\u001b[0m mfa \u001b[38;5;241m=\u001b[39m MFA(n_components\u001b[38;5;241m=\u001b[39m\u001b[38;5;28;01mNone\u001b[39;00m,\n\u001b[0;32m      4\u001b[0m           group\u001b[38;5;241m=\u001b[39mgroups,\n\u001b[0;32m      5\u001b[0m           group_sup\u001b[38;5;241m=\u001b[39m[\u001b[38;5;124m\"\u001b[39m\u001b[38;5;124mothers\u001b[39m\u001b[38;5;124m\"\u001b[39m,\u001b[38;5;124m\"\u001b[39m\u001b[38;5;124moverall judgement\u001b[39m\u001b[38;5;124m\"\u001b[39m],\n\u001b[0;32m      6\u001b[0m           row_labels\u001b[38;5;241m=\u001b[39mwine2\u001b[38;5;241m.\u001b[39mindex,\n\u001b[0;32m      7\u001b[0m           parallelize\u001b[38;5;241m=\u001b[39m\u001b[38;5;28;01mTrue\u001b[39;00m)\n\u001b[1;32m----> 9\u001b[0m \u001b[43mmfa\u001b[49m\u001b[38;5;241;43m.\u001b[39;49m\u001b[43mfit\u001b[49m\u001b[43m(\u001b[49m\u001b[43mwine2\u001b[49m\u001b[43m)\u001b[49m\n",
      "File \u001b[1;32md:\\Bureau\\PythonProject\\packages\\scientisttools\\scientisttools\\decomposition.py:3694\u001b[0m, in \u001b[0;36mMFA.fit\u001b[1;34m(self, X, y)\u001b[0m\n\u001b[0;32m   3691\u001b[0m \u001b[38;5;28mself\u001b[39m\u001b[38;5;241m.\u001b[39mactive_data_ \u001b[38;5;241m=\u001b[39m X_\n\u001b[0;32m   3693\u001b[0m \u001b[38;5;66;03m# Compute stats\u001b[39;00m\n\u001b[1;32m-> 3694\u001b[0m \u001b[38;5;28;43mself\u001b[39;49m\u001b[38;5;241;43m.\u001b[39;49m\u001b[43m_compute_stats\u001b[49m\u001b[43m(\u001b[49m\u001b[43mX_\u001b[49m\u001b[43m)\u001b[49m\n\u001b[0;32m   3696\u001b[0m \u001b[38;5;66;03m# Compute columns supplementary coordinates\u001b[39;00m\n\u001b[0;32m   3697\u001b[0m \u001b[38;5;28mself\u001b[39m\u001b[38;5;241m.\u001b[39m_compute_groups_sup_coord(X\u001b[38;5;241m=\u001b[39mXsup)\n",
      "File \u001b[1;32md:\\Bureau\\PythonProject\\packages\\scientisttools\\scientisttools\\decomposition.py:3874\u001b[0m, in \u001b[0;36mMFA._compute_stats\u001b[1;34m(self, X)\u001b[0m\n\u001b[0;32m   3861\u001b[0m \u001b[38;5;28mself\u001b[39m\u001b[38;5;241m.\u001b[39minertia_ratio_ \u001b[38;5;241m=\u001b[39m inertia_ratio\n\u001b[0;32m   3863\u001b[0m whitin_inertia \u001b[38;5;241m=\u001b[39m pd\u001b[38;5;241m.\u001b[39mconcat(\n\u001b[0;32m   3864\u001b[0m     [\n\u001b[0;32m   3865\u001b[0m         \u001b[38;5;28mself\u001b[39m\u001b[38;5;241m.\u001b[39madd_index(\n\u001b[1;32m   (...)\u001b[0m\n\u001b[0;32m   3871\u001b[0m     axis\u001b[38;5;241m=\u001b[39m\u001b[38;5;124m\"\u001b[39m\u001b[38;5;124mcolumns\u001b[39m\u001b[38;5;124m\"\u001b[39m,\n\u001b[0;32m   3872\u001b[0m )\n\u001b[1;32m-> 3874\u001b[0m \u001b[38;5;28mself\u001b[39m\u001b[38;5;241m.\u001b[39mnormalized_data_ \u001b[38;5;241m=\u001b[39m \u001b[43mZ\u001b[49m\n\u001b[0;32m   3875\u001b[0m \u001b[38;5;28mself\u001b[39m\u001b[38;5;241m.\u001b[39mpca_normalized_data_ \u001b[38;5;241m=\u001b[39m pca_model\u001b[38;5;241m.\u001b[39mnormalized_data_\n\u001b[0;32m   3876\u001b[0m \u001b[38;5;28mself\u001b[39m\u001b[38;5;241m.\u001b[39mweight_normalized_data_ \u001b[38;5;241m=\u001b[39m Zb\n",
      "\u001b[1;31mNameError\u001b[0m: name 'Z' is not defined"
     ]
    }
   ],
   "source": [
    "from scientisttools.decomposition import MFA\n",
    "\n",
    "mfa = MFA(n_components=None,\n",
    "          group=groups,\n",
    "          group_sup=[\"others\",\"overall judgement\"],\n",
    "          row_labels=wine2.index,\n",
    "          parallelize=True)\n",
    "\n",
    "mfa.fit(wine2)"
   ]
  },
  {
   "cell_type": "code",
   "execution_count": null,
   "metadata": {},
   "outputs": [],
   "source": [
    "# Valeurs propres\n",
    "from scientisttools.extractfactor import get_eig\n",
    "eig = get_eig(mfa)\n",
    "display(eig)"
   ]
  },
  {
   "cell_type": "code",
   "execution_count": null,
   "metadata": {},
   "outputs": [],
   "source": [
    "from scientisttools.pyplot import plot_eigenvalues\n",
    "import matplotlib.pyplot as plt\n",
    "\n",
    "fig, axe = plt.subplots(figsize=(10,6))\n",
    "plot_eigenvalues(mfa,choice=\"eigenvalue\",ax=axe)\n",
    "plt.show()"
   ]
  },
  {
   "cell_type": "code",
   "execution_count": null,
   "metadata": {},
   "outputs": [],
   "source": [
    "from scientisttools.pyplot import plotMFA\n",
    "\n",
    "fig, axe = plt.subplots(figsize=(12,12))\n",
    "plotMFA(mfa,repel=True,ax=axe)\n",
    "plt.show()"
   ]
  },
  {
   "cell_type": "code",
   "execution_count": null,
   "metadata": {},
   "outputs": [],
   "source": [
    "from scientisttools.ggplot import fviz_mfa_var\n",
    "print(fviz_mfa_var(mfa,quanti_sup=False,color=\"group\"))"
   ]
  },
  {
   "cell_type": "code",
   "execution_count": null,
   "metadata": {},
   "outputs": [],
   "source": [
    "from scientisttools.extractfactor import summaryMFA\n",
    "summaryMFA(mfa,to_markdown=True)"
   ]
  }
 ],
 "metadata": {
  "kernelspec": {
   "display_name": "Python 3",
   "language": "python",
   "name": "python3"
  },
  "language_info": {
   "codemirror_mode": {
    "name": "ipython",
    "version": 3
   },
   "file_extension": ".py",
   "mimetype": "text/x-python",
   "name": "python",
   "nbconvert_exporter": "python",
   "pygments_lexer": "ipython3",
   "version": "3.10.5"
  },
  "orig_nbformat": 4
 },
 "nbformat": 4,
 "nbformat_minor": 2
}
