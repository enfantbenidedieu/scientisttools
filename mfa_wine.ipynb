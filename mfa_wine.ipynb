{
 "cells": [
  {
   "attachments": {},
   "cell_type": "markdown",
   "metadata": {},
   "source": [
    "# Multiple Factor Analysis (MFA)"
   ]
  },
  {
   "cell_type": "code",
   "execution_count": 1,
   "metadata": {},
   "outputs": [
    {
     "name": "stdout",
     "output_type": "stream",
     "text": [
      "<class 'pandas.core.frame.DataFrame'>\n",
      "Index: 21 entries, 2EL  to T2  \n",
      "Data columns (total 31 columns):\n",
      " #   Column                         Non-Null Count  Dtype  \n",
      "---  ------                         --------------  -----  \n",
      " 0   Label                          21 non-null     object \n",
      " 1   Soil                           21 non-null     object \n",
      " 2   Odor.Intensity.before.shaking  21 non-null     float64\n",
      " 3   Aroma.quality.before.shaking   21 non-null     float64\n",
      " 4   Fruity.before.shaking          21 non-null     float64\n",
      " 5   Flower.before.shaking          21 non-null     float64\n",
      " 6   Spice.before.shaking           21 non-null     float64\n",
      " 7   Visual.intensity               21 non-null     float64\n",
      " 8   Nuance                         21 non-null     float64\n",
      " 9   Surface.feeling                21 non-null     float64\n",
      " 10  Odor.Intensity                 21 non-null     float64\n",
      " 11  Quality.of.odour               21 non-null     float64\n",
      " 12  Fruity                         21 non-null     float64\n",
      " 13  Flower                         21 non-null     float64\n",
      " 14  Spice                          21 non-null     float64\n",
      " 15  Plante                         21 non-null     float64\n",
      " 16  Phenolic                       21 non-null     float64\n",
      " 17  Aroma.intensity                21 non-null     float64\n",
      " 18  Aroma.persistency              21 non-null     float64\n",
      " 19  Aroma.quality                  21 non-null     float64\n",
      " 20  Attack.intensity               21 non-null     float64\n",
      " 21  Acidity                        21 non-null     float64\n",
      " 22  Astringency                    21 non-null     float64\n",
      " 23  Alcohol                        21 non-null     float64\n",
      " 24  Balance                        21 non-null     float64\n",
      " 25  Smooth                         21 non-null     float64\n",
      " 26  Bitterness                     21 non-null     float64\n",
      " 27  Intensity                      21 non-null     float64\n",
      " 28  Harmony                        21 non-null     float64\n",
      " 29  Overall.quality                21 non-null     float64\n",
      " 30  Typical                        21 non-null     float64\n",
      "dtypes: float64(29), object(2)\n",
      "memory usage: 5.2+ KB\n"
     ]
    }
   ],
   "source": [
    "#changement de dossier\n",
    "import os\n",
    "os.chdir(\"d:/Bureau/PythonProject/packages/scientisttools/data/\")\n",
    "\n",
    "#importation des données\n",
    "import pandas as pd\n",
    "url = \"http://factominer.free.fr/factomethods/datasets/wine.txt\"\n",
    "wine = pd.read_table(url,sep=\"\\t\")\n",
    "wine.info()"
   ]
  },
  {
   "cell_type": "markdown",
   "metadata": {},
   "source": [
    "Pour réaliser un analyse factorielle multiple avec scientisttools, nous devons effectuer un traitement de notre jeu de données"
   ]
  },
  {
   "cell_type": "markdown",
   "metadata": {},
   "source": [
    "### MFA"
   ]
  },
  {
   "cell_type": "code",
   "execution_count": 2,
   "metadata": {},
   "outputs": [],
   "source": [
    "wine2 = pd.DataFrame(data=wine.values,\n",
    "                     columns = pd.MultiIndex.from_tuples(\n",
    "    [\n",
    "        (\"others\",\"Label\"),\n",
    "        (\"others\",\"Soil\"),\n",
    "        (\"before shaking\",\"Odor.Intensity\"),\n",
    "        (\"before shaking\",\"Aroma.quality\"),\n",
    "        (\"before shaking\",\"Fruity\"),\n",
    "        (\"before shaking\",\"Flower\"),\n",
    "        (\"before shaking\",\"Spice\"),\n",
    "        (\"vision\",\"Visual.intensity\"),\n",
    "        (\"vision\",\"Nuance\"),\n",
    "        (\"vision\",\"Surface.feeling\"),\n",
    "        (\"after shaking\",\"Odor.intensity\"),\n",
    "        (\"after shaking\",\"Quality.of.odour\"),\n",
    "        (\"after shaking\",\"Fruity\"),\n",
    "        (\"after shaking\",\"Flower\"),\n",
    "        (\"after shaking\",\"Spice\"),\n",
    "        (\"after shaking\",\"Plante\"),\n",
    "        (\"after shaking\",\"Phenolic\"),\n",
    "        (\"after shaking\",\"Aroma.intensity\"),\n",
    "        (\"after shaking\",\"Aroma.persistency\"),\n",
    "        (\"after shaking\",\"Aroma.quality\"),\n",
    "        (\"gustation\",\"Attack.intensity\"),\n",
    "        (\"gustation\",\"Acidity\"),\n",
    "        (\"gustation\",\"Astringency\"),\n",
    "        (\"gustation\",\"Alcohol\"),\n",
    "        (\"gustation\",\"Balance\"),\n",
    "        (\"gustation\",\"Smooth\"),\n",
    "        (\"gustation\",\"Bitterness\"),\n",
    "        (\"gustation\",\"Intensity\"),\n",
    "        (\"gustation\",\"Harmony\"),\n",
    "        (\"overall judgement\",\"Overall.quality\"),\n",
    "        (\"overall judgement\",\"Typical\")\n",
    "    ]\n",
    "))\n",
    "wine2.index= wine.index"
   ]
  },
  {
   "cell_type": "code",
   "execution_count": 3,
   "metadata": {},
   "outputs": [
    {
     "data": {
      "text/plain": [
       "['after shaking', 'before shaking', 'gustation', 'vision']"
      ]
     },
     "execution_count": 3,
     "metadata": {},
     "output_type": "execute_result"
    }
   ],
   "source": [
    "groups = wine2.columns.levels[0].drop([\"others\",\"overall judgement\"]).tolist()\n",
    "groups"
   ]
  },
  {
   "cell_type": "code",
   "execution_count": 4,
   "metadata": {},
   "outputs": [
    {
     "name": "stdout",
     "output_type": "stream",
     "text": [
      "<class 'pandas.core.frame.DataFrame'>\n",
      "Index: 21 entries, 2EL  to T2  \n",
      "Data columns (total 31 columns):\n",
      " #   Column                         Non-Null Count  Dtype  \n",
      "---  ------                         --------------  -----  \n",
      " 0   Label                          21 non-null     object \n",
      " 1   Soil                           21 non-null     object \n",
      " 2   Odor.Intensity.before.shaking  21 non-null     float64\n",
      " 3   Aroma.quality.before.shaking   21 non-null     float64\n",
      " 4   Fruity.before.shaking          21 non-null     float64\n",
      " 5   Flower.before.shaking          21 non-null     float64\n",
      " 6   Spice.before.shaking           21 non-null     float64\n",
      " 7   Visual.intensity               21 non-null     float64\n",
      " 8   Nuance                         21 non-null     float64\n",
      " 9   Surface.feeling                21 non-null     float64\n",
      " 10  Odor.Intensity                 21 non-null     float64\n",
      " 11  Quality.of.odour               21 non-null     float64\n",
      " 12  Fruity                         21 non-null     float64\n",
      " 13  Flower                         21 non-null     float64\n",
      " 14  Spice                          21 non-null     float64\n",
      " 15  Plante                         21 non-null     float64\n",
      " 16  Phenolic                       21 non-null     float64\n",
      " 17  Aroma.intensity                21 non-null     float64\n",
      " 18  Aroma.persistency              21 non-null     float64\n",
      " 19  Aroma.quality                  21 non-null     float64\n",
      " 20  Attack.intensity               21 non-null     float64\n",
      " 21  Acidity                        21 non-null     float64\n",
      " 22  Astringency                    21 non-null     float64\n",
      " 23  Alcohol                        21 non-null     float64\n",
      " 24  Balance                        21 non-null     float64\n",
      " 25  Smooth                         21 non-null     float64\n",
      " 26  Bitterness                     21 non-null     float64\n",
      " 27  Intensity                      21 non-null     float64\n",
      " 28  Harmony                        21 non-null     float64\n",
      " 29  Overall.quality                21 non-null     float64\n",
      " 30  Typical                        21 non-null     float64\n",
      "dtypes: float64(29), object(2)\n",
      "memory usage: 5.2+ KB\n"
     ]
    }
   ],
   "source": [
    "for g in groups:\n",
    "    wine2[g] = wine2[g].astype(\"float\")\n",
    "wine.info()"
   ]
  },
  {
   "cell_type": "code",
   "execution_count": 5,
   "metadata": {},
   "outputs": [
    {
     "name": "stdout",
     "output_type": "stream",
     "text": [
      "<class 'pandas.core.frame.DataFrame'>\n",
      "Index: 21 entries, 2EL  to T2  \n",
      "Data columns (total 27 columns):\n",
      " #   Column                              Non-Null Count  Dtype  \n",
      "---  ------                              --------------  -----  \n",
      " 0   (after shaking, Odor.intensity)     21 non-null     float64\n",
      " 1   (after shaking, Quality.of.odour)   21 non-null     float64\n",
      " 2   (after shaking, Fruity)             21 non-null     float64\n",
      " 3   (after shaking, Flower)             21 non-null     float64\n",
      " 4   (after shaking, Spice)              21 non-null     float64\n",
      " 5   (after shaking, Plante)             21 non-null     float64\n",
      " 6   (after shaking, Phenolic)           21 non-null     float64\n",
      " 7   (after shaking, Aroma.intensity)    21 non-null     float64\n",
      " 8   (after shaking, Aroma.persistency)  21 non-null     float64\n",
      " 9   (after shaking, Aroma.quality)      21 non-null     float64\n",
      " 10  (before shaking, Odor.Intensity)    21 non-null     float64\n",
      " 11  (before shaking, Aroma.quality)     21 non-null     float64\n",
      " 12  (before shaking, Fruity)            21 non-null     float64\n",
      " 13  (before shaking, Flower)            21 non-null     float64\n",
      " 14  (before shaking, Spice)             21 non-null     float64\n",
      " 15  (gustation, Attack.intensity)       21 non-null     float64\n",
      " 16  (gustation, Acidity)                21 non-null     float64\n",
      " 17  (gustation, Astringency)            21 non-null     float64\n",
      " 18  (gustation, Alcohol)                21 non-null     float64\n",
      " 19  (gustation, Balance)                21 non-null     float64\n",
      " 20  (gustation, Smooth)                 21 non-null     float64\n",
      " 21  (gustation, Bitterness)             21 non-null     float64\n",
      " 22  (gustation, Intensity)              21 non-null     float64\n",
      " 23  (gustation, Harmony)                21 non-null     float64\n",
      " 24  (vision, Visual.intensity)          21 non-null     float64\n",
      " 25  (vision, Nuance)                    21 non-null     float64\n",
      " 26  (vision, Surface.feeling)           21 non-null     float64\n",
      "dtypes: float64(27)\n",
      "memory usage: 4.6+ KB\n",
      "None\n"
     ]
    },
    {
     "data": {
      "text/html": [
       "<style>#sk-container-id-1 {color: black;background-color: white;}#sk-container-id-1 pre{padding: 0;}#sk-container-id-1 div.sk-toggleable {background-color: white;}#sk-container-id-1 label.sk-toggleable__label {cursor: pointer;display: block;width: 100%;margin-bottom: 0;padding: 0.3em;box-sizing: border-box;text-align: center;}#sk-container-id-1 label.sk-toggleable__label-arrow:before {content: \"▸\";float: left;margin-right: 0.25em;color: #696969;}#sk-container-id-1 label.sk-toggleable__label-arrow:hover:before {color: black;}#sk-container-id-1 div.sk-estimator:hover label.sk-toggleable__label-arrow:before {color: black;}#sk-container-id-1 div.sk-toggleable__content {max-height: 0;max-width: 0;overflow: hidden;text-align: left;background-color: #f0f8ff;}#sk-container-id-1 div.sk-toggleable__content pre {margin: 0.2em;color: black;border-radius: 0.25em;background-color: #f0f8ff;}#sk-container-id-1 input.sk-toggleable__control:checked~div.sk-toggleable__content {max-height: 200px;max-width: 100%;overflow: auto;}#sk-container-id-1 input.sk-toggleable__control:checked~label.sk-toggleable__label-arrow:before {content: \"▾\";}#sk-container-id-1 div.sk-estimator input.sk-toggleable__control:checked~label.sk-toggleable__label {background-color: #d4ebff;}#sk-container-id-1 div.sk-label input.sk-toggleable__control:checked~label.sk-toggleable__label {background-color: #d4ebff;}#sk-container-id-1 input.sk-hidden--visually {border: 0;clip: rect(1px 1px 1px 1px);clip: rect(1px, 1px, 1px, 1px);height: 1px;margin: -1px;overflow: hidden;padding: 0;position: absolute;width: 1px;}#sk-container-id-1 div.sk-estimator {font-family: monospace;background-color: #f0f8ff;border: 1px dotted black;border-radius: 0.25em;box-sizing: border-box;margin-bottom: 0.5em;}#sk-container-id-1 div.sk-estimator:hover {background-color: #d4ebff;}#sk-container-id-1 div.sk-parallel-item::after {content: \"\";width: 100%;border-bottom: 1px solid gray;flex-grow: 1;}#sk-container-id-1 div.sk-label:hover label.sk-toggleable__label {background-color: #d4ebff;}#sk-container-id-1 div.sk-serial::before {content: \"\";position: absolute;border-left: 1px solid gray;box-sizing: border-box;top: 0;bottom: 0;left: 50%;z-index: 0;}#sk-container-id-1 div.sk-serial {display: flex;flex-direction: column;align-items: center;background-color: white;padding-right: 0.2em;padding-left: 0.2em;position: relative;}#sk-container-id-1 div.sk-item {position: relative;z-index: 1;}#sk-container-id-1 div.sk-parallel {display: flex;align-items: stretch;justify-content: center;background-color: white;position: relative;}#sk-container-id-1 div.sk-item::before, #sk-container-id-1 div.sk-parallel-item::before {content: \"\";position: absolute;border-left: 1px solid gray;box-sizing: border-box;top: 0;bottom: 0;left: 50%;z-index: -1;}#sk-container-id-1 div.sk-parallel-item {display: flex;flex-direction: column;z-index: 1;position: relative;background-color: white;}#sk-container-id-1 div.sk-parallel-item:first-child::after {align-self: flex-end;width: 50%;}#sk-container-id-1 div.sk-parallel-item:last-child::after {align-self: flex-start;width: 50%;}#sk-container-id-1 div.sk-parallel-item:only-child::after {width: 0;}#sk-container-id-1 div.sk-dashed-wrapped {border: 1px dashed gray;margin: 0 0.4em 0.5em 0.4em;box-sizing: border-box;padding-bottom: 0.4em;background-color: white;}#sk-container-id-1 div.sk-label label {font-family: monospace;font-weight: bold;display: inline-block;line-height: 1.2em;}#sk-container-id-1 div.sk-label-container {text-align: center;}#sk-container-id-1 div.sk-container {/* jupyter's `normalize.less` sets `[hidden] { display: none; }` but bootstrap.min.css set `[hidden] { display: none !important; }` so we also need the `!important` here to be able to override the default hidden behavior on the sphinx rendered scikit-learn.org. See: https://github.com/scikit-learn/scikit-learn/issues/21755 */display: inline-block !important;position: relative;}#sk-container-id-1 div.sk-text-repr-fallback {display: none;}</style><div id=\"sk-container-id-1\" class=\"sk-top-container\"><div class=\"sk-text-repr-fallback\"><pre>MFA(groups=[&#x27;after shaking&#x27;, &#x27;before shaking&#x27;, &#x27;gustation&#x27;, &#x27;vision&#x27;],\n",
       "    groups_sup=[&#x27;others&#x27;, &#x27;overall judgement&#x27;], n_components=None,\n",
       "    parallelize=True,\n",
       "    row_labels=Index([&#x27;2EL &#x27;, &#x27;1CHA&#x27;, &#x27;1FON&#x27;, &#x27;1VAU&#x27;, &#x27;1DAM&#x27;, &#x27;2BOU&#x27;, &#x27;1BOI&#x27;, &#x27;3EL &#x27;, &#x27;DOM1&#x27;,\n",
       "       &#x27;1TUR&#x27;, &#x27;4EL &#x27;, &#x27;PER1&#x27;, &#x27;2DAM&#x27;, &#x27;1POY&#x27;, &#x27;1ING&#x27;, &#x27;1BEN&#x27;, &#x27;2BEA&#x27;, &#x27;1ROC&#x27;,\n",
       "       &#x27;2ING&#x27;, &#x27;T1  &#x27;, &#x27;T2  &#x27;],\n",
       "      dtype=&#x27;object&#x27;))</pre><b>In a Jupyter environment, please rerun this cell to show the HTML representation or trust the notebook. <br />On GitHub, the HTML representation is unable to render, please try loading this page with nbviewer.org.</b></div><div class=\"sk-container\" hidden><div class=\"sk-item\"><div class=\"sk-estimator sk-toggleable\"><input class=\"sk-toggleable__control sk-hidden--visually\" id=\"sk-estimator-id-1\" type=\"checkbox\" checked><label for=\"sk-estimator-id-1\" class=\"sk-toggleable__label sk-toggleable__label-arrow\">MFA</label><div class=\"sk-toggleable__content\"><pre>MFA(groups=[&#x27;after shaking&#x27;, &#x27;before shaking&#x27;, &#x27;gustation&#x27;, &#x27;vision&#x27;],\n",
       "    groups_sup=[&#x27;others&#x27;, &#x27;overall judgement&#x27;], n_components=None,\n",
       "    parallelize=True,\n",
       "    row_labels=Index([&#x27;2EL &#x27;, &#x27;1CHA&#x27;, &#x27;1FON&#x27;, &#x27;1VAU&#x27;, &#x27;1DAM&#x27;, &#x27;2BOU&#x27;, &#x27;1BOI&#x27;, &#x27;3EL &#x27;, &#x27;DOM1&#x27;,\n",
       "       &#x27;1TUR&#x27;, &#x27;4EL &#x27;, &#x27;PER1&#x27;, &#x27;2DAM&#x27;, &#x27;1POY&#x27;, &#x27;1ING&#x27;, &#x27;1BEN&#x27;, &#x27;2BEA&#x27;, &#x27;1ROC&#x27;,\n",
       "       &#x27;2ING&#x27;, &#x27;T1  &#x27;, &#x27;T2  &#x27;],\n",
       "      dtype=&#x27;object&#x27;))</pre></div></div></div></div></div>"
      ],
      "text/plain": [
       "MFA(groups=['after shaking', 'before shaking', 'gustation', 'vision'],\n",
       "    groups_sup=['others', 'overall judgement'], n_components=None,\n",
       "    parallelize=True,\n",
       "    row_labels=Index(['2EL ', '1CHA', '1FON', '1VAU', '1DAM', '2BOU', '1BOI', '3EL ', 'DOM1',\n",
       "       '1TUR', '4EL ', 'PER1', '2DAM', '1POY', '1ING', '1BEN', '2BEA', '1ROC',\n",
       "       '2ING', 'T1  ', 'T2  '],\n",
       "      dtype='object'))"
      ]
     },
     "execution_count": 5,
     "metadata": {},
     "output_type": "execute_result"
    }
   ],
   "source": [
    "from scientisttools.decomposition import MFA\n",
    "\n",
    "mfa = MFA(n_components=None,\n",
    "          groups=groups,\n",
    "          groups_sup=[\"others\",\"overall judgement\"],\n",
    "          row_labels=wine2.index,\n",
    "          parallelize=True)\n",
    "\n",
    "mfa.fit(wine2)"
   ]
  },
  {
   "cell_type": "code",
   "execution_count": 6,
   "metadata": {},
   "outputs": [
    {
     "data": {
      "text/html": [
       "<div>\n",
       "<style scoped>\n",
       "    .dataframe tbody tr th:only-of-type {\n",
       "        vertical-align: middle;\n",
       "    }\n",
       "\n",
       "    .dataframe tbody tr th {\n",
       "        vertical-align: top;\n",
       "    }\n",
       "\n",
       "    .dataframe thead th {\n",
       "        text-align: right;\n",
       "    }\n",
       "</style>\n",
       "<table border=\"1\" class=\"dataframe\">\n",
       "  <thead>\n",
       "    <tr style=\"text-align: right;\">\n",
       "      <th></th>\n",
       "      <th>eigenvalue</th>\n",
       "      <th>difference</th>\n",
       "      <th>proportion</th>\n",
       "      <th>cumulative</th>\n",
       "    </tr>\n",
       "  </thead>\n",
       "  <tbody>\n",
       "    <tr>\n",
       "      <th>Dim.1</th>\n",
       "      <td>3.461950e+00</td>\n",
       "      <td>2.095182</td>\n",
       "      <td>4.937838e+01</td>\n",
       "      <td>49.378382</td>\n",
       "    </tr>\n",
       "    <tr>\n",
       "      <th>Dim.2</th>\n",
       "      <td>1.366768e+00</td>\n",
       "      <td>0.751339</td>\n",
       "      <td>1.949445e+01</td>\n",
       "      <td>68.872829</td>\n",
       "    </tr>\n",
       "    <tr>\n",
       "      <th>Dim.3</th>\n",
       "      <td>6.154291e-01</td>\n",
       "      <td>0.243229</td>\n",
       "      <td>8.777969e+00</td>\n",
       "      <td>77.650797</td>\n",
       "    </tr>\n",
       "    <tr>\n",
       "      <th>Dim.4</th>\n",
       "      <td>3.721997e-01</td>\n",
       "      <td>0.101817</td>\n",
       "      <td>5.308747e+00</td>\n",
       "      <td>82.959544</td>\n",
       "    </tr>\n",
       "    <tr>\n",
       "      <th>Dim.5</th>\n",
       "      <td>2.703825e-01</td>\n",
       "      <td>0.067979</td>\n",
       "      <td>3.856511e+00</td>\n",
       "      <td>86.816055</td>\n",
       "    </tr>\n",
       "    <tr>\n",
       "      <th>Dim.6</th>\n",
       "      <td>2.024033e-01</td>\n",
       "      <td>0.026690</td>\n",
       "      <td>2.886912e+00</td>\n",
       "      <td>89.702967</td>\n",
       "    </tr>\n",
       "    <tr>\n",
       "      <th>Dim.7</th>\n",
       "      <td>1.757134e-01</td>\n",
       "      <td>0.049815</td>\n",
       "      <td>2.506230e+00</td>\n",
       "      <td>92.209197</td>\n",
       "    </tr>\n",
       "    <tr>\n",
       "      <th>Dim.8</th>\n",
       "      <td>1.258987e-01</td>\n",
       "      <td>0.020623</td>\n",
       "      <td>1.795714e+00</td>\n",
       "      <td>94.004911</td>\n",
       "    </tr>\n",
       "    <tr>\n",
       "      <th>Dim.9</th>\n",
       "      <td>1.052755e-01</td>\n",
       "      <td>0.026484</td>\n",
       "      <td>1.501563e+00</td>\n",
       "      <td>95.506474</td>\n",
       "    </tr>\n",
       "    <tr>\n",
       "      <th>Dim.10</th>\n",
       "      <td>7.879120e-02</td>\n",
       "      <td>0.004899</td>\n",
       "      <td>1.123812e+00</td>\n",
       "      <td>96.630286</td>\n",
       "    </tr>\n",
       "    <tr>\n",
       "      <th>Dim.11</th>\n",
       "      <td>7.389241e-02</td>\n",
       "      <td>0.013554</td>\n",
       "      <td>1.053940e+00</td>\n",
       "      <td>97.684226</td>\n",
       "    </tr>\n",
       "    <tr>\n",
       "      <th>Dim.12</th>\n",
       "      <td>6.033844e-02</td>\n",
       "      <td>0.031633</td>\n",
       "      <td>8.606173e-01</td>\n",
       "      <td>98.544843</td>\n",
       "    </tr>\n",
       "    <tr>\n",
       "      <th>Dim.13</th>\n",
       "      <td>2.870501e-02</td>\n",
       "      <td>0.006742</td>\n",
       "      <td>4.094244e-01</td>\n",
       "      <td>98.954268</td>\n",
       "    </tr>\n",
       "    <tr>\n",
       "      <th>Dim.14</th>\n",
       "      <td>2.196255e-02</td>\n",
       "      <td>0.002799</td>\n",
       "      <td>3.132555e-01</td>\n",
       "      <td>99.267523</td>\n",
       "    </tr>\n",
       "    <tr>\n",
       "      <th>Dim.15</th>\n",
       "      <td>1.916399e-02</td>\n",
       "      <td>0.008224</td>\n",
       "      <td>2.733392e-01</td>\n",
       "      <td>99.540862</td>\n",
       "    </tr>\n",
       "    <tr>\n",
       "      <th>Dim.16</th>\n",
       "      <td>1.094029e-02</td>\n",
       "      <td>0.001784</td>\n",
       "      <td>1.560432e-01</td>\n",
       "      <td>99.696906</td>\n",
       "    </tr>\n",
       "    <tr>\n",
       "      <th>Dim.17</th>\n",
       "      <td>9.156013e-03</td>\n",
       "      <td>0.002785</td>\n",
       "      <td>1.305938e-01</td>\n",
       "      <td>99.827499</td>\n",
       "    </tr>\n",
       "    <tr>\n",
       "      <th>Dim.18</th>\n",
       "      <td>6.370966e-03</td>\n",
       "      <td>0.003068</td>\n",
       "      <td>9.087016e-02</td>\n",
       "      <td>99.918369</td>\n",
       "    </tr>\n",
       "    <tr>\n",
       "      <th>Dim.19</th>\n",
       "      <td>3.303413e-03</td>\n",
       "      <td>0.000884</td>\n",
       "      <td>4.711714e-02</td>\n",
       "      <td>99.965487</td>\n",
       "    </tr>\n",
       "    <tr>\n",
       "      <th>Dim.20</th>\n",
       "      <td>2.419756e-03</td>\n",
       "      <td>0.002420</td>\n",
       "      <td>3.451339e-02</td>\n",
       "      <td>100.000000</td>\n",
       "    </tr>\n",
       "    <tr>\n",
       "      <th>Dim.21</th>\n",
       "      <td>1.370396e-32</td>\n",
       "      <td>NaN</td>\n",
       "      <td>1.954619e-31</td>\n",
       "      <td>100.000000</td>\n",
       "    </tr>\n",
       "  </tbody>\n",
       "</table>\n",
       "</div>"
      ],
      "text/plain": [
       "          eigenvalue  difference    proportion  cumulative\n",
       "Dim.1   3.461950e+00    2.095182  4.937838e+01   49.378382\n",
       "Dim.2   1.366768e+00    0.751339  1.949445e+01   68.872829\n",
       "Dim.3   6.154291e-01    0.243229  8.777969e+00   77.650797\n",
       "Dim.4   3.721997e-01    0.101817  5.308747e+00   82.959544\n",
       "Dim.5   2.703825e-01    0.067979  3.856511e+00   86.816055\n",
       "Dim.6   2.024033e-01    0.026690  2.886912e+00   89.702967\n",
       "Dim.7   1.757134e-01    0.049815  2.506230e+00   92.209197\n",
       "Dim.8   1.258987e-01    0.020623  1.795714e+00   94.004911\n",
       "Dim.9   1.052755e-01    0.026484  1.501563e+00   95.506474\n",
       "Dim.10  7.879120e-02    0.004899  1.123812e+00   96.630286\n",
       "Dim.11  7.389241e-02    0.013554  1.053940e+00   97.684226\n",
       "Dim.12  6.033844e-02    0.031633  8.606173e-01   98.544843\n",
       "Dim.13  2.870501e-02    0.006742  4.094244e-01   98.954268\n",
       "Dim.14  2.196255e-02    0.002799  3.132555e-01   99.267523\n",
       "Dim.15  1.916399e-02    0.008224  2.733392e-01   99.540862\n",
       "Dim.16  1.094029e-02    0.001784  1.560432e-01   99.696906\n",
       "Dim.17  9.156013e-03    0.002785  1.305938e-01   99.827499\n",
       "Dim.18  6.370966e-03    0.003068  9.087016e-02   99.918369\n",
       "Dim.19  3.303413e-03    0.000884  4.711714e-02   99.965487\n",
       "Dim.20  2.419756e-03    0.002420  3.451339e-02  100.000000\n",
       "Dim.21  1.370396e-32         NaN  1.954619e-31  100.000000"
      ]
     },
     "metadata": {},
     "output_type": "display_data"
    }
   ],
   "source": [
    "# Valeurs propres\n",
    "from scientisttools.extractfactor import get_eig\n",
    "eig = get_eig(mfa)\n",
    "display(eig)"
   ]
  },
  {
   "cell_type": "code",
   "execution_count": 7,
   "metadata": {},
   "outputs": [
    {
     "data": {
      "image/png": "[encoded data removed]",
      "text/plain": [
       "<Figure size 720x432 with 1 Axes>"
      ]
     },
     "metadata": {
      "needs_background": "light"
     },
     "output_type": "display_data"
    }
   ],
   "source": [
    "from scientisttools.pyplot import plot_eigenvalues\n",
    "import matplotlib.pyplot as plt\n",
    "\n",
    "fig, axe = plt.subplots(figsize=(10,6))\n",
    "plot_eigenvalues(mfa,choice=\"eigenvalue\",ax=axe)\n",
    "plt.show()"
   ]
  },
  {
   "cell_type": "code",
   "execution_count": 8,
   "metadata": {},
   "outputs": [
    {
     "data": {
      "image/png": "[encoded data removed]",
      "text/plain": [
       "<Figure size 864x864 with 1 Axes>"
      ]
     },
     "metadata": {
      "needs_background": "light"
     },
     "output_type": "display_data"
    }
   ],
   "source": [
    "from scientisttools.pyplot import plotMFA\n",
    "\n",
    "fig, axe = plt.subplots(figsize=(12,12))\n",
    "plotMFA(mfa,repel=True,ax=axe)\n",
    "plt.show()"
   ]
  },
  {
   "cell_type": "code",
   "execution_count": 9,
   "metadata": {},
   "outputs": [
    {
     "name": "stdout",
     "output_type": "stream",
     "text": [
      "                     Multiple Factor Analysis - Results                     \n",
      "\n",
      "Importance of components\n",
      "|                         |   Dim.1 |   Dim.2 |   Dim.3 |   Dim.4 |   Dim.5 |   Dim.6 |   Dim.7 |   Dim.8 |   Dim.9 |   Dim.10 |   Dim.11 |   Dim.12 |   Dim.13 |   Dim.14 |   Dim.15 |   Dim.16 |   Dim.17 |   Dim.18 |   Dim.19 |   Dim.20 |   Dim.21 |\n",
      "|:------------------------|--------:|--------:|--------:|--------:|--------:|--------:|--------:|--------:|--------:|---------:|---------:|---------:|---------:|---------:|---------:|---------:|---------:|---------:|---------:|---------:|---------:|\n",
      "| Variance                |   3.462 |   1.367 |   0.615 |   0.372 |   0.27  |   0.202 |   0.176 |   0.126 |   0.105 |    0.079 |    0.074 |    0.06  |    0.029 |    0.022 |    0.019 |    0.011 |    0.009 |    0.006 |    0.003 |    0.002 |        0 |\n",
      "| Difference              |   2.095 |   0.751 |   0.243 |   0.102 |   0.068 |   0.027 |   0.05  |   0.021 |   0.026 |    0.005 |    0.014 |    0.032 |    0.007 |    0.003 |    0.008 |    0.002 |    0.003 |    0.003 |    0.001 |    0.002 |      nan |\n",
      "| % of var.               |  49.378 |  19.494 |   8.778 |   5.309 |   3.857 |   2.887 |   2.506 |   1.796 |   1.502 |    1.124 |    1.054 |    0.861 |    0.409 |    0.313 |    0.273 |    0.156 |    0.131 |    0.091 |    0.047 |    0.035 |        0 |\n",
      "| Cumulative of % of var. |  49.378 |  68.873 |  77.651 |  82.96  |  86.816 |  89.703 |  92.209 |  94.005 |  95.506 |   96.63  |   97.684 |   98.545 |   98.954 |   99.268 |   99.541 |   99.697 |   99.827 |   99.918 |   99.965 |  100     |      100 |\n",
      "\n",
      "Individuals (the 10 first)\n",
      "\n",
      "|      |   Dim.1 |   Dim.2 |   Dim.3 |\n",
      "|:-----|--------:|--------:|--------:|\n",
      "| 2EL  |  -0.239 |   0.797 |  -0.936 |\n",
      "| 1CHA |   2.045 |   1.383 |  -1.514 |\n",
      "| 1FON |   1.22  |   0.459 |  -0.062 |\n",
      "| 1VAU |   4.381 |  -0.995 |   0.033 |\n",
      "| 1DAM |  -2.696 |   0.12  |   0.69  |\n",
      "| 2BOU |  -0.869 |   0.326 |  -0.391 |\n",
      "| 1BOI |  -1.553 |   0.28  |   0.414 |\n",
      "| 3EL  |  -0.129 |  -0.789 |  -1.858 |\n",
      "| DOM1 |   0.066 |   0.253 |   0.459 |\n",
      "| 1TUR |   1.202 |   0.375 |   0.716 |\n"
     ]
    }
   ],
   "source": [
    "from scientisttools.extractfactor import summaryMFA\n",
    "summaryMFA(mfa,to_markdown=True)"
   ]
  }
 ],
 "metadata": {
  "kernelspec": {
   "display_name": "Python 3",
   "language": "python",
   "name": "python3"
  },
  "language_info": {
   "codemirror_mode": {
    "name": "ipython",
    "version": 3
   },
   "file_extension": ".py",
   "mimetype": "text/x-python",
   "name": "python",
   "nbconvert_exporter": "python",
   "pygments_lexer": "ipython3",
   "version": "3.10.5"
  },
  "orig_nbformat": 4
 },
 "nbformat": 4,
 "nbformat_minor": 2
}
