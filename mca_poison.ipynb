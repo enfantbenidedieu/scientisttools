{
 "cells": [
  {
   "cell_type": "markdown",
   "metadata": {},
   "source": [
    "# MCA poison"
   ]
  },
  {
   "cell_type": "code",
   "execution_count": 1,
   "metadata": {},
   "outputs": [],
   "source": [
    "import warnings\n",
    "warnings.simplefilter(action='ignore', category=FutureWarning)\n",
    "warnings.filterwarnings(\"ignore\")"
   ]
  },
  {
   "cell_type": "code",
   "execution_count": 2,
   "metadata": {},
   "outputs": [
    {
     "name": "stdout",
     "output_type": "stream",
     "text": [
      "odict_keys(['poison'])\n"
     ]
    }
   ],
   "source": [
    "import pyreadr\n",
    "import pandas as pd\n",
    "result = pyreadr.read_r('./data/poison.rda') # also works for Rds, rda\n",
    "\n",
    "# done! let's see what we got\n",
    "# result is a dictionary where keys are the name of objects and the values python\n",
    "# objects\n",
    "print(result.keys()) # let's check what objects we got"
   ]
  },
  {
   "cell_type": "code",
   "execution_count": 3,
   "metadata": {},
   "outputs": [
    {
     "data": {
      "text/html": [
       "<div>\n",
       "<style scoped>\n",
       "    .dataframe tbody tr th:only-of-type {\n",
       "        vertical-align: middle;\n",
       "    }\n",
       "\n",
       "    .dataframe tbody tr th {\n",
       "        vertical-align: top;\n",
       "    }\n",
       "\n",
       "    .dataframe thead th {\n",
       "        text-align: right;\n",
       "    }\n",
       "</style>\n",
       "<table border=\"1\" class=\"dataframe\">\n",
       "  <thead>\n",
       "    <tr style=\"text-align: right;\">\n",
       "      <th></th>\n",
       "      <th>Age</th>\n",
       "      <th>Time</th>\n",
       "      <th>Sick</th>\n",
       "      <th>Sex</th>\n",
       "      <th>Nausea</th>\n",
       "      <th>Vomiting</th>\n",
       "      <th>Abdominals</th>\n",
       "      <th>Fever</th>\n",
       "      <th>Diarrhae</th>\n",
       "      <th>Potato</th>\n",
       "      <th>Fish</th>\n",
       "      <th>Mayo</th>\n",
       "      <th>Courgette</th>\n",
       "      <th>Cheese</th>\n",
       "      <th>Icecream</th>\n",
       "    </tr>\n",
       "    <tr>\n",
       "      <th>rownames</th>\n",
       "      <th></th>\n",
       "      <th></th>\n",
       "      <th></th>\n",
       "      <th></th>\n",
       "      <th></th>\n",
       "      <th></th>\n",
       "      <th></th>\n",
       "      <th></th>\n",
       "      <th></th>\n",
       "      <th></th>\n",
       "      <th></th>\n",
       "      <th></th>\n",
       "      <th></th>\n",
       "      <th></th>\n",
       "      <th></th>\n",
       "    </tr>\n",
       "  </thead>\n",
       "  <tbody>\n",
       "    <tr>\n",
       "      <th>1</th>\n",
       "      <td>9</td>\n",
       "      <td>22</td>\n",
       "      <td>Sick_y</td>\n",
       "      <td>F</td>\n",
       "      <td>Nausea_y</td>\n",
       "      <td>Vomit_n</td>\n",
       "      <td>Abdo_y</td>\n",
       "      <td>Fever_y</td>\n",
       "      <td>Diarrhea_y</td>\n",
       "      <td>Potato_y</td>\n",
       "      <td>Fish_y</td>\n",
       "      <td>Mayo_y</td>\n",
       "      <td>Courg_y</td>\n",
       "      <td>Cheese_y</td>\n",
       "      <td>Icecream_y</td>\n",
       "    </tr>\n",
       "    <tr>\n",
       "      <th>2</th>\n",
       "      <td>5</td>\n",
       "      <td>0</td>\n",
       "      <td>Sick_n</td>\n",
       "      <td>F</td>\n",
       "      <td>Nausea_n</td>\n",
       "      <td>Vomit_n</td>\n",
       "      <td>Abdo_n</td>\n",
       "      <td>Fever_n</td>\n",
       "      <td>Diarrhea_n</td>\n",
       "      <td>Potato_y</td>\n",
       "      <td>Fish_y</td>\n",
       "      <td>Mayo_y</td>\n",
       "      <td>Courg_y</td>\n",
       "      <td>Cheese_n</td>\n",
       "      <td>Icecream_y</td>\n",
       "    </tr>\n",
       "    <tr>\n",
       "      <th>3</th>\n",
       "      <td>6</td>\n",
       "      <td>16</td>\n",
       "      <td>Sick_y</td>\n",
       "      <td>F</td>\n",
       "      <td>Nausea_n</td>\n",
       "      <td>Vomit_y</td>\n",
       "      <td>Abdo_y</td>\n",
       "      <td>Fever_y</td>\n",
       "      <td>Diarrhea_y</td>\n",
       "      <td>Potato_y</td>\n",
       "      <td>Fish_y</td>\n",
       "      <td>Mayo_y</td>\n",
       "      <td>Courg_y</td>\n",
       "      <td>Cheese_y</td>\n",
       "      <td>Icecream_y</td>\n",
       "    </tr>\n",
       "    <tr>\n",
       "      <th>4</th>\n",
       "      <td>9</td>\n",
       "      <td>0</td>\n",
       "      <td>Sick_n</td>\n",
       "      <td>F</td>\n",
       "      <td>Nausea_n</td>\n",
       "      <td>Vomit_n</td>\n",
       "      <td>Abdo_n</td>\n",
       "      <td>Fever_n</td>\n",
       "      <td>Diarrhea_n</td>\n",
       "      <td>Potato_y</td>\n",
       "      <td>Fish_y</td>\n",
       "      <td>Mayo_n</td>\n",
       "      <td>Courg_y</td>\n",
       "      <td>Cheese_y</td>\n",
       "      <td>Icecream_y</td>\n",
       "    </tr>\n",
       "    <tr>\n",
       "      <th>5</th>\n",
       "      <td>7</td>\n",
       "      <td>14</td>\n",
       "      <td>Sick_y</td>\n",
       "      <td>M</td>\n",
       "      <td>Nausea_n</td>\n",
       "      <td>Vomit_y</td>\n",
       "      <td>Abdo_y</td>\n",
       "      <td>Fever_y</td>\n",
       "      <td>Diarrhea_y</td>\n",
       "      <td>Potato_y</td>\n",
       "      <td>Fish_y</td>\n",
       "      <td>Mayo_y</td>\n",
       "      <td>Courg_y</td>\n",
       "      <td>Cheese_y</td>\n",
       "      <td>Icecream_y</td>\n",
       "    </tr>\n",
       "    <tr>\n",
       "      <th>6</th>\n",
       "      <td>72</td>\n",
       "      <td>9</td>\n",
       "      <td>Sick_y</td>\n",
       "      <td>M</td>\n",
       "      <td>Nausea_n</td>\n",
       "      <td>Vomit_n</td>\n",
       "      <td>Abdo_y</td>\n",
       "      <td>Fever_y</td>\n",
       "      <td>Diarrhea_y</td>\n",
       "      <td>Potato_y</td>\n",
       "      <td>Fish_n</td>\n",
       "      <td>Mayo_y</td>\n",
       "      <td>Courg_y</td>\n",
       "      <td>Cheese_y</td>\n",
       "      <td>Icecream_y</td>\n",
       "    </tr>\n",
       "  </tbody>\n",
       "</table>\n",
       "</div>"
      ],
      "text/plain": [
       "          Age  Time    Sick Sex    Nausea Vomiting Abdominals    Fever  \\\n",
       "rownames                                                                 \n",
       "1           9    22  Sick_y   F  Nausea_y  Vomit_n     Abdo_y  Fever_y   \n",
       "2           5     0  Sick_n   F  Nausea_n  Vomit_n     Abdo_n  Fever_n   \n",
       "3           6    16  Sick_y   F  Nausea_n  Vomit_y     Abdo_y  Fever_y   \n",
       "4           9     0  Sick_n   F  Nausea_n  Vomit_n     Abdo_n  Fever_n   \n",
       "5           7    14  Sick_y   M  Nausea_n  Vomit_y     Abdo_y  Fever_y   \n",
       "6          72     9  Sick_y   M  Nausea_n  Vomit_n     Abdo_y  Fever_y   \n",
       "\n",
       "            Diarrhae    Potato    Fish    Mayo Courgette    Cheese    Icecream  \n",
       "rownames                                                                        \n",
       "1         Diarrhea_y  Potato_y  Fish_y  Mayo_y   Courg_y  Cheese_y  Icecream_y  \n",
       "2         Diarrhea_n  Potato_y  Fish_y  Mayo_y   Courg_y  Cheese_n  Icecream_y  \n",
       "3         Diarrhea_y  Potato_y  Fish_y  Mayo_y   Courg_y  Cheese_y  Icecream_y  \n",
       "4         Diarrhea_n  Potato_y  Fish_y  Mayo_n   Courg_y  Cheese_y  Icecream_y  \n",
       "5         Diarrhea_y  Potato_y  Fish_y  Mayo_y   Courg_y  Cheese_y  Icecream_y  \n",
       "6         Diarrhea_y  Potato_y  Fish_n  Mayo_y   Courg_y  Cheese_y  Icecream_y  "
      ]
     },
     "execution_count": 3,
     "metadata": {},
     "output_type": "execute_result"
    }
   ],
   "source": [
    "# Chargement des données\n",
    "poison = result[\"poison\"]\n",
    "poison.head(6)"
   ]
  },
  {
   "cell_type": "code",
   "execution_count": 4,
   "metadata": {},
   "outputs": [
    {
     "data": {
      "text/html": [
       "<style>#sk-container-id-1 {color: black;background-color: white;}#sk-container-id-1 pre{padding: 0;}#sk-container-id-1 div.sk-toggleable {background-color: white;}#sk-container-id-1 label.sk-toggleable__label {cursor: pointer;display: block;width: 100%;margin-bottom: 0;padding: 0.3em;box-sizing: border-box;text-align: center;}#sk-container-id-1 label.sk-toggleable__label-arrow:before {content: \"▸\";float: left;margin-right: 0.25em;color: #696969;}#sk-container-id-1 label.sk-toggleable__label-arrow:hover:before {color: black;}#sk-container-id-1 div.sk-estimator:hover label.sk-toggleable__label-arrow:before {color: black;}#sk-container-id-1 div.sk-toggleable__content {max-height: 0;max-width: 0;overflow: hidden;text-align: left;background-color: #f0f8ff;}#sk-container-id-1 div.sk-toggleable__content pre {margin: 0.2em;color: black;border-radius: 0.25em;background-color: #f0f8ff;}#sk-container-id-1 input.sk-toggleable__control:checked~div.sk-toggleable__content {max-height: 200px;max-width: 100%;overflow: auto;}#sk-container-id-1 input.sk-toggleable__control:checked~label.sk-toggleable__label-arrow:before {content: \"▾\";}#sk-container-id-1 div.sk-estimator input.sk-toggleable__control:checked~label.sk-toggleable__label {background-color: #d4ebff;}#sk-container-id-1 div.sk-label input.sk-toggleable__control:checked~label.sk-toggleable__label {background-color: #d4ebff;}#sk-container-id-1 input.sk-hidden--visually {border: 0;clip: rect(1px 1px 1px 1px);clip: rect(1px, 1px, 1px, 1px);height: 1px;margin: -1px;overflow: hidden;padding: 0;position: absolute;width: 1px;}#sk-container-id-1 div.sk-estimator {font-family: monospace;background-color: #f0f8ff;border: 1px dotted black;border-radius: 0.25em;box-sizing: border-box;margin-bottom: 0.5em;}#sk-container-id-1 div.sk-estimator:hover {background-color: #d4ebff;}#sk-container-id-1 div.sk-parallel-item::after {content: \"\";width: 100%;border-bottom: 1px solid gray;flex-grow: 1;}#sk-container-id-1 div.sk-label:hover label.sk-toggleable__label {background-color: #d4ebff;}#sk-container-id-1 div.sk-serial::before {content: \"\";position: absolute;border-left: 1px solid gray;box-sizing: border-box;top: 0;bottom: 0;left: 50%;z-index: 0;}#sk-container-id-1 div.sk-serial {display: flex;flex-direction: column;align-items: center;background-color: white;padding-right: 0.2em;padding-left: 0.2em;position: relative;}#sk-container-id-1 div.sk-item {position: relative;z-index: 1;}#sk-container-id-1 div.sk-parallel {display: flex;align-items: stretch;justify-content: center;background-color: white;position: relative;}#sk-container-id-1 div.sk-item::before, #sk-container-id-1 div.sk-parallel-item::before {content: \"\";position: absolute;border-left: 1px solid gray;box-sizing: border-box;top: 0;bottom: 0;left: 50%;z-index: -1;}#sk-container-id-1 div.sk-parallel-item {display: flex;flex-direction: column;z-index: 1;position: relative;background-color: white;}#sk-container-id-1 div.sk-parallel-item:first-child::after {align-self: flex-end;width: 50%;}#sk-container-id-1 div.sk-parallel-item:last-child::after {align-self: flex-start;width: 50%;}#sk-container-id-1 div.sk-parallel-item:only-child::after {width: 0;}#sk-container-id-1 div.sk-dashed-wrapped {border: 1px dashed gray;margin: 0 0.4em 0.5em 0.4em;box-sizing: border-box;padding-bottom: 0.4em;background-color: white;}#sk-container-id-1 div.sk-label label {font-family: monospace;font-weight: bold;display: inline-block;line-height: 1.2em;}#sk-container-id-1 div.sk-label-container {text-align: center;}#sk-container-id-1 div.sk-container {/* jupyter's `normalize.less` sets `[hidden] { display: none; }` but bootstrap.min.css set `[hidden] { display: none !important; }` so we also need the `!important` here to be able to override the default hidden behavior on the sphinx rendered scikit-learn.org. See: https://github.com/scikit-learn/scikit-learn/issues/21755 */display: inline-block !important;position: relative;}#sk-container-id-1 div.sk-text-repr-fallback {display: none;}</style><div id=\"sk-container-id-1\" class=\"sk-top-container\"><div class=\"sk-text-repr-fallback\"><pre>MCA(n_components=5, quali_sup_labels=[&#x27;Sick&#x27;, &#x27;Sex&#x27;],\n",
       "    quanti_sup_labels=[&#x27;Age&#x27;, &#x27;Time&#x27;],\n",
       "    row_labels=[&#x27;1&#x27;, &#x27;2&#x27;, &#x27;3&#x27;, &#x27;4&#x27;, &#x27;5&#x27;, &#x27;6&#x27;, &#x27;7&#x27;, &#x27;8&#x27;, &#x27;9&#x27;, &#x27;10&#x27;, &#x27;11&#x27;, &#x27;12&#x27;,\n",
       "                &#x27;13&#x27;, &#x27;14&#x27;, &#x27;15&#x27;, &#x27;16&#x27;, &#x27;17&#x27;, &#x27;18&#x27;, &#x27;19&#x27;, &#x27;20&#x27;, &#x27;21&#x27;, &#x27;22&#x27;,\n",
       "                &#x27;23&#x27;, &#x27;24&#x27;, &#x27;25&#x27;, &#x27;26&#x27;, &#x27;27&#x27;, &#x27;28&#x27;, &#x27;29&#x27;, &#x27;30&#x27;, ...],\n",
       "    row_sup_labels=[&#x27;51&#x27;, &#x27;52&#x27;, &#x27;53&#x27;, &#x27;54&#x27;, &#x27;55&#x27;],\n",
       "    var_labels=[&#x27;Nausea&#x27;, &#x27;Vomiting&#x27;, &#x27;Abdominals&#x27;, &#x27;Fever&#x27;, &#x27;Diarrhae&#x27;,\n",
       "                &#x27;Potato&#x27;, &#x27;Fish&#x27;, &#x27;Mayo&#x27;, &#x27;Courgette&#x27;, &#x27;Cheese&#x27;, &#x27;Icecream&#x27;])</pre><b>In a Jupyter environment, please rerun this cell to show the HTML representation or trust the notebook. <br />On GitHub, the HTML representation is unable to render, please try loading this page with nbviewer.org.</b></div><div class=\"sk-container\" hidden><div class=\"sk-item\"><div class=\"sk-estimator sk-toggleable\"><input class=\"sk-toggleable__control sk-hidden--visually\" id=\"sk-estimator-id-1\" type=\"checkbox\" checked><label for=\"sk-estimator-id-1\" class=\"sk-toggleable__label sk-toggleable__label-arrow\">MCA</label><div class=\"sk-toggleable__content\"><pre>MCA(n_components=5, quali_sup_labels=[&#x27;Sick&#x27;, &#x27;Sex&#x27;],\n",
       "    quanti_sup_labels=[&#x27;Age&#x27;, &#x27;Time&#x27;],\n",
       "    row_labels=[&#x27;1&#x27;, &#x27;2&#x27;, &#x27;3&#x27;, &#x27;4&#x27;, &#x27;5&#x27;, &#x27;6&#x27;, &#x27;7&#x27;, &#x27;8&#x27;, &#x27;9&#x27;, &#x27;10&#x27;, &#x27;11&#x27;, &#x27;12&#x27;,\n",
       "                &#x27;13&#x27;, &#x27;14&#x27;, &#x27;15&#x27;, &#x27;16&#x27;, &#x27;17&#x27;, &#x27;18&#x27;, &#x27;19&#x27;, &#x27;20&#x27;, &#x27;21&#x27;, &#x27;22&#x27;,\n",
       "                &#x27;23&#x27;, &#x27;24&#x27;, &#x27;25&#x27;, &#x27;26&#x27;, &#x27;27&#x27;, &#x27;28&#x27;, &#x27;29&#x27;, &#x27;30&#x27;, ...],\n",
       "    row_sup_labels=[&#x27;51&#x27;, &#x27;52&#x27;, &#x27;53&#x27;, &#x27;54&#x27;, &#x27;55&#x27;],\n",
       "    var_labels=[&#x27;Nausea&#x27;, &#x27;Vomiting&#x27;, &#x27;Abdominals&#x27;, &#x27;Fever&#x27;, &#x27;Diarrhae&#x27;,\n",
       "                &#x27;Potato&#x27;, &#x27;Fish&#x27;, &#x27;Mayo&#x27;, &#x27;Courgette&#x27;, &#x27;Cheese&#x27;, &#x27;Icecream&#x27;])</pre></div></div></div></div></div>"
      ],
      "text/plain": [
       "MCA(n_components=5, quali_sup_labels=['Sick', 'Sex'],\n",
       "    quanti_sup_labels=['Age', 'Time'],\n",
       "    row_labels=['1', '2', '3', '4', '5', '6', '7', '8', '9', '10', '11', '12',\n",
       "                '13', '14', '15', '16', '17', '18', '19', '20', '21', '22',\n",
       "                '23', '24', '25', '26', '27', '28', '29', '30', ...],\n",
       "    row_sup_labels=['51', '52', '53', '54', '55'],\n",
       "    var_labels=['Nausea', 'Vomiting', 'Abdominals', 'Fever', 'Diarrhae',\n",
       "                'Potato', 'Fish', 'Mayo', 'Courgette', 'Cheese', 'Icecream'])"
      ]
     },
     "execution_count": 4,
     "metadata": {},
     "output_type": "execute_result"
    }
   ],
   "source": [
    "from scientisttools.decomposition import MCA\n",
    "res_mca = MCA(n_components=5,\n",
    "              row_labels=poison.index.tolist()[:50],\n",
    "              row_sup_labels=poison.index.tolist()[50:],\n",
    "              var_labels=poison.columns.tolist()[4:],\n",
    "              quali_sup_labels=[\"Sick\",\"Sex\"],\n",
    "              quanti_sup_labels=[\"Age\",\"Time\"])\n",
    "res_mca.fit(poison)"
   ]
  },
  {
   "cell_type": "code",
   "execution_count": 5,
   "metadata": {},
   "outputs": [
    {
     "data": {
      "text/plain": [
       "array([[-0.43064982, -0.27575839,  0.11875995, -0.00993168, -0.05187669],\n",
       "       [ 0.87478877, -0.02667484, -0.19087644, -0.32182847,  0.38020102],\n",
       "       [-0.42167412,  0.12821547, -0.21309429, -0.12091883, -0.1695415 ],\n",
       "       [ 0.91675794, -0.01437043,  0.11141221,  0.10421984, -0.17705475],\n",
       "       [-0.42167412,  0.12821547, -0.21309429, -0.12091883, -0.1695415 ],\n",
       "       [-0.32443341, -0.42541818, -1.30919251,  1.48611881,  0.35267982]])"
      ]
     },
     "execution_count": 5,
     "metadata": {},
     "output_type": "execute_result"
    }
   ],
   "source": [
    "res_mca.transform(res_mca.original_data_)[:6,:]"
   ]
  },
  {
   "cell_type": "code",
   "execution_count": 7,
   "metadata": {},
   "outputs": [
    {
     "data": {
      "text/plain": [
       "array([[-0.43064982, -0.27575839,  0.11875995, -0.00993168, -0.05187669],\n",
       "       [ 0.87478877, -0.02667484, -0.19087644, -0.32182847,  0.38020102],\n",
       "       [-0.42167412,  0.12821547, -0.21309429, -0.12091883, -0.1695415 ],\n",
       "       [ 0.91675794, -0.01437043,  0.11141221,  0.10421984, -0.17705475],\n",
       "       [-0.42167412,  0.12821547, -0.21309429, -0.12091883, -0.1695415 ],\n",
       "       [-0.32443341, -0.42541818, -1.30919251,  1.48611881,  0.35267982]])"
      ]
     },
     "execution_count": 7,
     "metadata": {},
     "output_type": "execute_result"
    }
   ],
   "source": [
    "res_mca.fit_transform(poison)[:6,:]"
   ]
  }
 ],
 "metadata": {
  "kernelspec": {
   "display_name": "Python 3",
   "language": "python",
   "name": "python3"
  },
  "language_info": {
   "codemirror_mode": {
    "name": "ipython",
    "version": 3
   },
   "file_extension": ".py",
   "mimetype": "text/x-python",
   "name": "python",
   "nbconvert_exporter": "python",
   "pygments_lexer": "ipython3",
   "version": "3.10.5"
  }
 },
 "nbformat": 4,
 "nbformat_minor": 2
}
