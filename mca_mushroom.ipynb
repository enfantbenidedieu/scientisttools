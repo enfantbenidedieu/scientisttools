{
 "cells": [
  {
   "attachments": {},
   "cell_type": "markdown",
   "metadata": {},
   "source": [
    "# MCA"
   ]
  },
  {
   "cell_type": "code",
   "execution_count": 1,
   "metadata": {},
   "outputs": [],
   "source": [
    "import warnings\n",
    "warnings.simplefilter(action='ignore', category=FutureWarning)\n",
    "warnings.filterwarnings(\"ignore\")"
   ]
  },
  {
   "cell_type": "code",
   "execution_count": 2,
   "metadata": {},
   "outputs": [
    {
     "name": "stdout",
     "output_type": "stream",
     "text": [
      "<class 'pandas.core.frame.DataFrame'>\n",
      "RangeIndex: 4124 entries, 0 to 4123\n",
      "Data columns (total 19 columns):\n",
      " #   Column             Non-Null Count  Dtype \n",
      "---  ------             --------------  ----- \n",
      " 0   capshape           4124 non-null   object\n",
      " 1   capsurface         4124 non-null   object\n",
      " 2   capcolor           4124 non-null   object\n",
      " 3   bruises            4124 non-null   object\n",
      " 4   gillattachment     4124 non-null   object\n",
      " 5   gillspacing        4124 non-null   object\n",
      " 6   gillsize           4124 non-null   object\n",
      " 7   gillcolor          4124 non-null   object\n",
      " 8   stalkshape         4124 non-null   object\n",
      " 9   stalksurfaceabove  4124 non-null   object\n",
      " 10  stalksurfacebelow  4124 non-null   object\n",
      " 11  stalkcoloraboveri  4124 non-null   object\n",
      " 12  stalkcolorbelowri  4124 non-null   object\n",
      " 13  veilcolor          4124 non-null   object\n",
      " 14  ringnumber         4124 non-null   object\n",
      " 15  ringtype           4124 non-null   object\n",
      " 16  sporeprintcolor    4124 non-null   object\n",
      " 17  population         4124 non-null   object\n",
      " 18  habitat            4124 non-null   object\n",
      "dtypes: object(19)\n",
      "memory usage: 612.3+ KB\n"
     ]
    }
   ],
   "source": [
    "#importation des données\n",
    "import pandas\n",
    "df = pandas.read_excel(\"./data/mushroom_acm.xlsx\")\n",
    "df.info()"
   ]
  },
  {
   "cell_type": "code",
   "execution_count": 3,
   "metadata": {},
   "outputs": [
    {
     "ename": "ModuleNotFoundError",
     "evalue": "No module named 'scientisttools.decomposition'",
     "output_type": "error",
     "traceback": [
      "\u001b[1;31m---------------------------------------------------------------------------\u001b[0m",
      "\u001b[1;31mModuleNotFoundError\u001b[0m                       Traceback (most recent call last)",
      "Input \u001b[1;32mIn [3]\u001b[0m, in \u001b[0;36m<cell line: 1>\u001b[1;34m()\u001b[0m\n\u001b[1;32m----> 1\u001b[0m \u001b[38;5;28;01mfrom\u001b[39;00m \u001b[38;5;21;01mscientisttools\u001b[39;00m\u001b[38;5;21;01m.\u001b[39;00m\u001b[38;5;21;01mdecomposition\u001b[39;00m \u001b[38;5;28;01mimport\u001b[39;00m MCA\n\u001b[0;32m      2\u001b[0m my_mca \u001b[38;5;241m=\u001b[39m MCA(n_components\u001b[38;5;241m=\u001b[39m\u001b[38;5;28;01mNone\u001b[39;00m,\n\u001b[0;32m      3\u001b[0m               row_labels\u001b[38;5;241m=\u001b[39mdf\u001b[38;5;241m.\u001b[39mindex\u001b[38;5;241m.\u001b[39mvalues,\n\u001b[0;32m      4\u001b[0m               var_labels\u001b[38;5;241m=\u001b[39mdf\u001b[38;5;241m.\u001b[39mcolumns\u001b[38;5;241m.\u001b[39mvalues,\n\u001b[1;32m   (...)\u001b[0m\n\u001b[0;32m     11\u001b[0m               quanti_sup_labels\u001b[38;5;241m=\u001b[39m\u001b[38;5;28;01mNone\u001b[39;00m,\n\u001b[0;32m     12\u001b[0m               parallelize\u001b[38;5;241m=\u001b[39m\u001b[38;5;28;01mTrue\u001b[39;00m)\n\u001b[0;32m     13\u001b[0m \u001b[38;5;66;03m#entraînement\u001b[39;00m\n",
      "\u001b[1;31mModuleNotFoundError\u001b[0m: No module named 'scientisttools.decomposition'"
     ]
    }
   ],
   "source": [
    "from scientisttools import MCA\n",
    "my_mca = MCA(n_components=None,benzecri=True,greenacre=True,parallelize=True)\n",
    "#entraînement\n",
    "my_mca.fit(df)"
   ]
  },
  {
   "cell_type": "code",
   "execution_count": null,
   "metadata": {},
   "outputs": [],
   "source": [
    "#valeurs propres\n",
    "print(my_mca.eig_[0])"
   ]
  }
 ],
 "metadata": {
  "kernelspec": {
   "display_name": "Python 3",
   "language": "python",
   "name": "python3"
  },
  "language_info": {
   "codemirror_mode": {
    "name": "ipython",
    "version": 3
   },
   "file_extension": ".py",
   "mimetype": "text/x-python",
   "name": "python",
   "nbconvert_exporter": "python",
   "pygments_lexer": "ipython3",
   "version": "3.10.5"
  },
  "orig_nbformat": 4
 },
 "nbformat": 4,
 "nbformat_minor": 2
}
