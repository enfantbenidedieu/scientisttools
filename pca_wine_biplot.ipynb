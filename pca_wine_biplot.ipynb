{
 "cells": [
  {
   "cell_type": "code",
   "execution_count": 1,
   "metadata": {},
   "outputs": [],
   "source": [
    "import warnings\n",
    "warnings.simplefilter(action='ignore', category=FutureWarning)\n",
    "warnings.filterwarnings(\"ignore\")"
   ]
  },
  {
   "cell_type": "code",
   "execution_count": 2,
   "metadata": {},
   "outputs": [
    {
     "name": "stdout",
     "output_type": "stream",
     "text": [
      "<class 'pandas.core.frame.DataFrame'>\n",
      "Index: 21 entries, 2EL  to T2  \n",
      "Data columns (total 31 columns):\n",
      " #   Column                         Non-Null Count  Dtype  \n",
      "---  ------                         --------------  -----  \n",
      " 0   Label                          21 non-null     object \n",
      " 1   Soil                           21 non-null     object \n",
      " 2   Odor.Intensity.before.shaking  21 non-null     float64\n",
      " 3   Aroma.quality.before.shaking   21 non-null     float64\n",
      " 4   Fruity.before.shaking          21 non-null     float64\n",
      " 5   Flower.before.shaking          21 non-null     float64\n",
      " 6   Spice.before.shaking           21 non-null     float64\n",
      " 7   Visual.intensity               21 non-null     float64\n",
      " 8   Nuance                         21 non-null     float64\n",
      " 9   Surface.feeling                21 non-null     float64\n",
      " 10  Odor.Intensity                 21 non-null     float64\n",
      " 11  Quality.of.odour               21 non-null     float64\n",
      " 12  Fruity                         21 non-null     float64\n",
      " 13  Flower                         21 non-null     float64\n",
      " 14  Spice                          21 non-null     float64\n",
      " 15  Plante                         21 non-null     float64\n",
      " 16  Phenolic                       21 non-null     float64\n",
      " 17  Aroma.intensity                21 non-null     float64\n",
      " 18  Aroma.persistency              21 non-null     float64\n",
      " 19  Aroma.quality                  21 non-null     float64\n",
      " 20  Attack.intensity               21 non-null     float64\n",
      " 21  Acidity                        21 non-null     float64\n",
      " 22  Astringency                    21 non-null     float64\n",
      " 23  Alcohol                        21 non-null     float64\n",
      " 24  Balance                        21 non-null     float64\n",
      " 25  Smooth                         21 non-null     float64\n",
      " 26  Bitterness                     21 non-null     float64\n",
      " 27  Intensity                      21 non-null     float64\n",
      " 28  Harmony                        21 non-null     float64\n",
      " 29  Overall.quality                21 non-null     float64\n",
      " 30  Typical                        21 non-null     float64\n",
      "dtypes: float64(29), object(2)\n",
      "memory usage: 5.2+ KB\n"
     ]
    }
   ],
   "source": [
    "#importation des données\n",
    "import pandas as pd\n",
    "url = \"http://factominer.free.fr/factomethods/datasets/wine.txt\"\n",
    "wine = pd.read_table(url,sep=\"\\t\")\n",
    "wine.info()"
   ]
  },
  {
   "cell_type": "code",
   "execution_count": 3,
   "metadata": {},
   "outputs": [
    {
     "data": {
      "text/html": [
       "<style>#sk-container-id-1 {color: black;background-color: white;}#sk-container-id-1 pre{padding: 0;}#sk-container-id-1 div.sk-toggleable {background-color: white;}#sk-container-id-1 label.sk-toggleable__label {cursor: pointer;display: block;width: 100%;margin-bottom: 0;padding: 0.3em;box-sizing: border-box;text-align: center;}#sk-container-id-1 label.sk-toggleable__label-arrow:before {content: \"▸\";float: left;margin-right: 0.25em;color: #696969;}#sk-container-id-1 label.sk-toggleable__label-arrow:hover:before {color: black;}#sk-container-id-1 div.sk-estimator:hover label.sk-toggleable__label-arrow:before {color: black;}#sk-container-id-1 div.sk-toggleable__content {max-height: 0;max-width: 0;overflow: hidden;text-align: left;background-color: #f0f8ff;}#sk-container-id-1 div.sk-toggleable__content pre {margin: 0.2em;color: black;border-radius: 0.25em;background-color: #f0f8ff;}#sk-container-id-1 input.sk-toggleable__control:checked~div.sk-toggleable__content {max-height: 200px;max-width: 100%;overflow: auto;}#sk-container-id-1 input.sk-toggleable__control:checked~label.sk-toggleable__label-arrow:before {content: \"▾\";}#sk-container-id-1 div.sk-estimator input.sk-toggleable__control:checked~label.sk-toggleable__label {background-color: #d4ebff;}#sk-container-id-1 div.sk-label input.sk-toggleable__control:checked~label.sk-toggleable__label {background-color: #d4ebff;}#sk-container-id-1 input.sk-hidden--visually {border: 0;clip: rect(1px 1px 1px 1px);clip: rect(1px, 1px, 1px, 1px);height: 1px;margin: -1px;overflow: hidden;padding: 0;position: absolute;width: 1px;}#sk-container-id-1 div.sk-estimator {font-family: monospace;background-color: #f0f8ff;border: 1px dotted black;border-radius: 0.25em;box-sizing: border-box;margin-bottom: 0.5em;}#sk-container-id-1 div.sk-estimator:hover {background-color: #d4ebff;}#sk-container-id-1 div.sk-parallel-item::after {content: \"\";width: 100%;border-bottom: 1px solid gray;flex-grow: 1;}#sk-container-id-1 div.sk-label:hover label.sk-toggleable__label {background-color: #d4ebff;}#sk-container-id-1 div.sk-serial::before {content: \"\";position: absolute;border-left: 1px solid gray;box-sizing: border-box;top: 0;bottom: 0;left: 50%;z-index: 0;}#sk-container-id-1 div.sk-serial {display: flex;flex-direction: column;align-items: center;background-color: white;padding-right: 0.2em;padding-left: 0.2em;position: relative;}#sk-container-id-1 div.sk-item {position: relative;z-index: 1;}#sk-container-id-1 div.sk-parallel {display: flex;align-items: stretch;justify-content: center;background-color: white;position: relative;}#sk-container-id-1 div.sk-item::before, #sk-container-id-1 div.sk-parallel-item::before {content: \"\";position: absolute;border-left: 1px solid gray;box-sizing: border-box;top: 0;bottom: 0;left: 50%;z-index: -1;}#sk-container-id-1 div.sk-parallel-item {display: flex;flex-direction: column;z-index: 1;position: relative;background-color: white;}#sk-container-id-1 div.sk-parallel-item:first-child::after {align-self: flex-end;width: 50%;}#sk-container-id-1 div.sk-parallel-item:last-child::after {align-self: flex-start;width: 50%;}#sk-container-id-1 div.sk-parallel-item:only-child::after {width: 0;}#sk-container-id-1 div.sk-dashed-wrapped {border: 1px dashed gray;margin: 0 0.4em 0.5em 0.4em;box-sizing: border-box;padding-bottom: 0.4em;background-color: white;}#sk-container-id-1 div.sk-label label {font-family: monospace;font-weight: bold;display: inline-block;line-height: 1.2em;}#sk-container-id-1 div.sk-label-container {text-align: center;}#sk-container-id-1 div.sk-container {/* jupyter's `normalize.less` sets `[hidden] { display: none; }` but bootstrap.min.css set `[hidden] { display: none !important; }` so we also need the `!important` here to be able to override the default hidden behavior on the sphinx rendered scikit-learn.org. See: https://github.com/scikit-learn/scikit-learn/issues/21755 */display: inline-block !important;position: relative;}#sk-container-id-1 div.sk-text-repr-fallback {display: none;}</style><div id=\"sk-container-id-1\" class=\"sk-top-container\"><div class=\"sk-text-repr-fallback\"><pre>PCA(parallelize=True, quali_sup=[0, 1], quanti_sup=[29, 30])</pre><b>In a Jupyter environment, please rerun this cell to show the HTML representation or trust the notebook. <br />On GitHub, the HTML representation is unable to render, please try loading this page with nbviewer.org.</b></div><div class=\"sk-container\" hidden><div class=\"sk-item\"><div class=\"sk-estimator sk-toggleable\"><input class=\"sk-toggleable__control sk-hidden--visually\" id=\"sk-estimator-id-1\" type=\"checkbox\" checked><label for=\"sk-estimator-id-1\" class=\"sk-toggleable__label sk-toggleable__label-arrow\">PCA</label><div class=\"sk-toggleable__content\"><pre>PCA(parallelize=True, quali_sup=[0, 1], quanti_sup=[29, 30])</pre></div></div></div></div></div>"
      ],
      "text/plain": [
       "PCA(parallelize=True, quali_sup=[0, 1], quanti_sup=[29, 30])"
      ]
     },
     "execution_count": 3,
     "metadata": {},
     "output_type": "execute_result"
    }
   ],
   "source": [
    "from scientisttools import PCA\n",
    "# Instanciation\n",
    "res_pca = PCA(standardize=True,n_components=5,quanti_sup=[29,30],quali_sup=[0,1],parallelize=True)\n",
    "res_pca.fit(wine)"
   ]
  },
  {
   "cell_type": "code",
   "execution_count": 4,
   "metadata": {},
   "outputs": [
    {
     "name": "stdout",
     "output_type": "stream",
     "text": [
      "                                   xvar      yvar\n",
      "Odor.Intensity.before.shaking  0.225141  0.480853\n",
      "Aroma.quality.before.shaking   0.342536 -0.022113\n",
      "Fruity.before.shaking          0.289820 -0.077753\n",
      "Flower.before.shaking          0.192081 -0.248375\n",
      "Spice.before.shaking           0.002240  0.565841\n",
      "Visual.intensity               0.367403  0.183521\n",
      "Nuance                         0.359973  0.181853\n",
      "Surface.feeling                0.400056  0.068652\n",
      "Odor.Intensity                 0.253696  0.429957\n",
      "Quality.of.odour               0.340798 -0.240218\n",
      "Fruity                         0.308447 -0.207010\n",
      "Flower                         0.095824 -0.394201\n",
      "Spice                          0.111187  0.494334\n",
      "Plante                        -0.233985  0.442550\n",
      "Phenolic                       0.162357  0.245867\n",
      "Aroma.intensity                0.381641  0.036254\n",
      "Aroma.persistency              0.393694  0.093611\n",
      "Aroma.quality                  0.328785 -0.367012\n",
      "Attack.intensity               0.367793  0.033434\n",
      "Acidity                       -0.083140  0.277229\n",
      "Astringency                    0.330515  0.341150\n",
      "Alcohol                        0.331686  0.166202\n",
      "Balance                        0.344751 -0.344483\n",
      "Smooth                         0.366285 -0.282098\n",
      "Bitterness                     0.152315  0.474479\n",
      "Intensity                      0.397814  0.044356\n",
      "Harmony                        0.393243 -0.162650\n"
     ]
    }
   ],
   "source": [
    "from scientisttools import fviz_pca_biplot\n",
    "p = fviz_pca_biplot(res_pca)"
   ]
  }
 ],
 "metadata": {
  "kernelspec": {
   "display_name": "Python 3",
   "language": "python",
   "name": "python3"
  },
  "language_info": {
   "codemirror_mode": {
    "name": "ipython",
    "version": 3
   },
   "file_extension": ".py",
   "mimetype": "text/x-python",
   "name": "python",
   "nbconvert_exporter": "python",
   "pygments_lexer": "ipython3",
   "version": "3.10.5"
  }
 },
 "nbformat": 4,
 "nbformat_minor": 2
}
