{
 "cells": [
  {
   "cell_type": "markdown",
   "metadata": {},
   "source": [
    "# Multiple Factor Analysis (MFA) with categorical variables"
   ]
  },
  {
   "cell_type": "code",
   "execution_count": 1,
   "metadata": {},
   "outputs": [],
   "source": [
    "import warnings\n",
    "warnings.simplefilter(action='ignore', category=FutureWarning)\n",
    "warnings.filterwarnings(\"ignore\")"
   ]
  },
  {
   "cell_type": "code",
   "execution_count": 2,
   "metadata": {},
   "outputs": [
    {
     "name": "stdout",
     "output_type": "stream",
     "text": [
      "odict_keys(['poison'])\n"
     ]
    }
   ],
   "source": [
    "import pyreadr\n",
    "import pandas as pd\n",
    "result = pyreadr.read_r('./data/poison.rda') # also works for Rds, rda\n",
    "\n",
    "# done! let's see what we got\n",
    "# result is a dictionary where keys are the name of objects and the values python\n",
    "# objects\n",
    "print(result.keys()) # let's check what objects we got"
   ]
  },
  {
   "cell_type": "code",
   "execution_count": 3,
   "metadata": {},
   "outputs": [
    {
     "data": {
      "text/html": [
       "<div>\n",
       "<style scoped>\n",
       "    .dataframe tbody tr th:only-of-type {\n",
       "        vertical-align: middle;\n",
       "    }\n",
       "\n",
       "    .dataframe tbody tr th {\n",
       "        vertical-align: top;\n",
       "    }\n",
       "\n",
       "    .dataframe thead th {\n",
       "        text-align: right;\n",
       "    }\n",
       "</style>\n",
       "<table border=\"1\" class=\"dataframe\">\n",
       "  <thead>\n",
       "    <tr style=\"text-align: right;\">\n",
       "      <th></th>\n",
       "      <th>Age</th>\n",
       "      <th>Time</th>\n",
       "      <th>Sick</th>\n",
       "      <th>Sex</th>\n",
       "      <th>Nausea</th>\n",
       "      <th>Vomiting</th>\n",
       "      <th>Abdominals</th>\n",
       "      <th>Fever</th>\n",
       "      <th>Diarrhae</th>\n",
       "      <th>Potato</th>\n",
       "      <th>Fish</th>\n",
       "      <th>Mayo</th>\n",
       "      <th>Courgette</th>\n",
       "      <th>Cheese</th>\n",
       "      <th>Icecream</th>\n",
       "    </tr>\n",
       "    <tr>\n",
       "      <th>rownames</th>\n",
       "      <th></th>\n",
       "      <th></th>\n",
       "      <th></th>\n",
       "      <th></th>\n",
       "      <th></th>\n",
       "      <th></th>\n",
       "      <th></th>\n",
       "      <th></th>\n",
       "      <th></th>\n",
       "      <th></th>\n",
       "      <th></th>\n",
       "      <th></th>\n",
       "      <th></th>\n",
       "      <th></th>\n",
       "      <th></th>\n",
       "    </tr>\n",
       "  </thead>\n",
       "  <tbody>\n",
       "    <tr>\n",
       "      <th>1</th>\n",
       "      <td>9</td>\n",
       "      <td>22</td>\n",
       "      <td>Sick_y</td>\n",
       "      <td>F</td>\n",
       "      <td>Nausea_y</td>\n",
       "      <td>Vomit_n</td>\n",
       "      <td>Abdo_y</td>\n",
       "      <td>Fever_y</td>\n",
       "      <td>Diarrhea_y</td>\n",
       "      <td>Potato_y</td>\n",
       "      <td>Fish_y</td>\n",
       "      <td>Mayo_y</td>\n",
       "      <td>Courg_y</td>\n",
       "      <td>Cheese_y</td>\n",
       "      <td>Icecream_y</td>\n",
       "    </tr>\n",
       "    <tr>\n",
       "      <th>2</th>\n",
       "      <td>5</td>\n",
       "      <td>0</td>\n",
       "      <td>Sick_n</td>\n",
       "      <td>F</td>\n",
       "      <td>Nausea_n</td>\n",
       "      <td>Vomit_n</td>\n",
       "      <td>Abdo_n</td>\n",
       "      <td>Fever_n</td>\n",
       "      <td>Diarrhea_n</td>\n",
       "      <td>Potato_y</td>\n",
       "      <td>Fish_y</td>\n",
       "      <td>Mayo_y</td>\n",
       "      <td>Courg_y</td>\n",
       "      <td>Cheese_n</td>\n",
       "      <td>Icecream_y</td>\n",
       "    </tr>\n",
       "    <tr>\n",
       "      <th>3</th>\n",
       "      <td>6</td>\n",
       "      <td>16</td>\n",
       "      <td>Sick_y</td>\n",
       "      <td>F</td>\n",
       "      <td>Nausea_n</td>\n",
       "      <td>Vomit_y</td>\n",
       "      <td>Abdo_y</td>\n",
       "      <td>Fever_y</td>\n",
       "      <td>Diarrhea_y</td>\n",
       "      <td>Potato_y</td>\n",
       "      <td>Fish_y</td>\n",
       "      <td>Mayo_y</td>\n",
       "      <td>Courg_y</td>\n",
       "      <td>Cheese_y</td>\n",
       "      <td>Icecream_y</td>\n",
       "    </tr>\n",
       "    <tr>\n",
       "      <th>4</th>\n",
       "      <td>9</td>\n",
       "      <td>0</td>\n",
       "      <td>Sick_n</td>\n",
       "      <td>F</td>\n",
       "      <td>Nausea_n</td>\n",
       "      <td>Vomit_n</td>\n",
       "      <td>Abdo_n</td>\n",
       "      <td>Fever_n</td>\n",
       "      <td>Diarrhea_n</td>\n",
       "      <td>Potato_y</td>\n",
       "      <td>Fish_y</td>\n",
       "      <td>Mayo_n</td>\n",
       "      <td>Courg_y</td>\n",
       "      <td>Cheese_y</td>\n",
       "      <td>Icecream_y</td>\n",
       "    </tr>\n",
       "    <tr>\n",
       "      <th>5</th>\n",
       "      <td>7</td>\n",
       "      <td>14</td>\n",
       "      <td>Sick_y</td>\n",
       "      <td>M</td>\n",
       "      <td>Nausea_n</td>\n",
       "      <td>Vomit_y</td>\n",
       "      <td>Abdo_y</td>\n",
       "      <td>Fever_y</td>\n",
       "      <td>Diarrhea_y</td>\n",
       "      <td>Potato_y</td>\n",
       "      <td>Fish_y</td>\n",
       "      <td>Mayo_y</td>\n",
       "      <td>Courg_y</td>\n",
       "      <td>Cheese_y</td>\n",
       "      <td>Icecream_y</td>\n",
       "    </tr>\n",
       "    <tr>\n",
       "      <th>6</th>\n",
       "      <td>72</td>\n",
       "      <td>9</td>\n",
       "      <td>Sick_y</td>\n",
       "      <td>M</td>\n",
       "      <td>Nausea_n</td>\n",
       "      <td>Vomit_n</td>\n",
       "      <td>Abdo_y</td>\n",
       "      <td>Fever_y</td>\n",
       "      <td>Diarrhea_y</td>\n",
       "      <td>Potato_y</td>\n",
       "      <td>Fish_n</td>\n",
       "      <td>Mayo_y</td>\n",
       "      <td>Courg_y</td>\n",
       "      <td>Cheese_y</td>\n",
       "      <td>Icecream_y</td>\n",
       "    </tr>\n",
       "  </tbody>\n",
       "</table>\n",
       "</div>"
      ],
      "text/plain": [
       "          Age  Time    Sick Sex    Nausea Vomiting Abdominals    Fever  \\\n",
       "rownames                                                                 \n",
       "1           9    22  Sick_y   F  Nausea_y  Vomit_n     Abdo_y  Fever_y   \n",
       "2           5     0  Sick_n   F  Nausea_n  Vomit_n     Abdo_n  Fever_n   \n",
       "3           6    16  Sick_y   F  Nausea_n  Vomit_y     Abdo_y  Fever_y   \n",
       "4           9     0  Sick_n   F  Nausea_n  Vomit_n     Abdo_n  Fever_n   \n",
       "5           7    14  Sick_y   M  Nausea_n  Vomit_y     Abdo_y  Fever_y   \n",
       "6          72     9  Sick_y   M  Nausea_n  Vomit_n     Abdo_y  Fever_y   \n",
       "\n",
       "            Diarrhae    Potato    Fish    Mayo Courgette    Cheese    Icecream  \n",
       "rownames                                                                        \n",
       "1         Diarrhea_y  Potato_y  Fish_y  Mayo_y   Courg_y  Cheese_y  Icecream_y  \n",
       "2         Diarrhea_n  Potato_y  Fish_y  Mayo_y   Courg_y  Cheese_n  Icecream_y  \n",
       "3         Diarrhea_y  Potato_y  Fish_y  Mayo_y   Courg_y  Cheese_y  Icecream_y  \n",
       "4         Diarrhea_n  Potato_y  Fish_y  Mayo_n   Courg_y  Cheese_y  Icecream_y  \n",
       "5         Diarrhea_y  Potato_y  Fish_y  Mayo_y   Courg_y  Cheese_y  Icecream_y  \n",
       "6         Diarrhea_y  Potato_y  Fish_n  Mayo_y   Courg_y  Cheese_y  Icecream_y  "
      ]
     },
     "execution_count": 3,
     "metadata": {},
     "output_type": "execute_result"
    }
   ],
   "source": [
    "# Chargement des données\n",
    "poison = result[\"poison\"]\n",
    "poison.head(6)"
   ]
  },
  {
   "cell_type": "code",
   "execution_count": 4,
   "metadata": {},
   "outputs": [
    {
     "name": "stdout",
     "output_type": "stream",
     "text": [
      "<class 'pandas.core.frame.DataFrame'>\n",
      "Index: 55 entries, 1 to 55\n",
      "Data columns (total 15 columns):\n",
      " #   Column      Non-Null Count  Dtype   \n",
      "---  ------      --------------  -----   \n",
      " 0   Age         55 non-null     int32   \n",
      " 1   Time        55 non-null     int32   \n",
      " 2   Sick        55 non-null     category\n",
      " 3   Sex         55 non-null     category\n",
      " 4   Nausea      55 non-null     category\n",
      " 5   Vomiting    55 non-null     category\n",
      " 6   Abdominals  55 non-null     category\n",
      " 7   Fever       55 non-null     category\n",
      " 8   Diarrhae    55 non-null     category\n",
      " 9   Potato      55 non-null     category\n",
      " 10  Fish        55 non-null     category\n",
      " 11  Mayo        55 non-null     category\n",
      " 12  Courgette   55 non-null     category\n",
      " 13  Cheese      55 non-null     category\n",
      " 14  Icecream    55 non-null     category\n",
      "dtypes: category(13), int32(2)\n",
      "memory usage: 3.1+ KB\n"
     ]
    }
   ],
   "source": [
    "poison.info()"
   ]
  },
  {
   "cell_type": "code",
   "execution_count": 5,
   "metadata": {},
   "outputs": [],
   "source": [
    "poison2 = pd.DataFrame(data=poison.values,\n",
    "                     columns = pd.MultiIndex.from_tuples(\n",
    "    [\n",
    "        (\"desc\",\"Age\"),\n",
    "        (\"desc\",\"Time\"),\n",
    "        (\"desc2\",\"Sick\"),\n",
    "        (\"desc2\",\"Sex\"),\n",
    "        (\"symptom\",\"Nausea\"),\n",
    "        (\"symptom\",\"Vomiting\"),\n",
    "        (\"symptom\",\"Abdominals\"),\n",
    "        (\"symptom\",\"Fever\"),\n",
    "        (\"symptom\",\"Diarrhae\"),\n",
    "        (\"eat\",\"Potato\"),\n",
    "        (\"eat\",\"Fish\"),\n",
    "        (\"eat\",\"Mayo\"),\n",
    "        (\"eat\",\"Courgette\"),\n",
    "        (\"eat\",\"Cheese\"),\n",
    "        (\"eat\",\"Icecream\") \n",
    "    ]\n",
    "))\n",
    "poison2.index= poison.index"
   ]
  },
  {
   "cell_type": "code",
   "execution_count": 6,
   "metadata": {},
   "outputs": [
    {
     "data": {
      "text/plain": [
       "['eat', 'symptom']"
      ]
     },
     "execution_count": 6,
     "metadata": {},
     "output_type": "execute_result"
    }
   ],
   "source": [
    "group = poison2.columns.levels[0].drop([\"desc\",\"desc2\"]).tolist()\n",
    "group"
   ]
  },
  {
   "cell_type": "code",
   "execution_count": 7,
   "metadata": {},
   "outputs": [
    {
     "data": {
      "text/plain": [
       "['desc', 'desc2']"
      ]
     },
     "execution_count": 7,
     "metadata": {},
     "output_type": "execute_result"
    }
   ],
   "source": [
    "group_sup = poison2.columns.levels[0].drop(group).tolist()\n",
    "group_sup"
   ]
  },
  {
   "cell_type": "code",
   "execution_count": 8,
   "metadata": {},
   "outputs": [],
   "source": [
    "poison2[\"desc\"] = poison2[\"desc\"].astype(\"float\")"
   ]
  },
  {
   "cell_type": "code",
   "execution_count": 9,
   "metadata": {},
   "outputs": [
    {
     "ename": "ValueError",
     "evalue": "Length of s must be M or N.",
     "output_type": "error",
     "traceback": [
      "\u001b[1;31m---------------------------------------------------------------------------\u001b[0m",
      "\u001b[1;31mValueError\u001b[0m                                Traceback (most recent call last)",
      "Input \u001b[1;32mIn [9]\u001b[0m, in \u001b[0;36m<cell line: 9>\u001b[1;34m()\u001b[0m\n\u001b[0;32m      3\u001b[0m res_mfa \u001b[38;5;241m=\u001b[39m MFA(n_components\u001b[38;5;241m=\u001b[39m\u001b[38;5;28;01mNone\u001b[39;00m,\n\u001b[0;32m      4\u001b[0m               group\u001b[38;5;241m=\u001b[39mgroup,\n\u001b[0;32m      5\u001b[0m               group_sup\u001b[38;5;241m=\u001b[39mgroup_sup,\n\u001b[0;32m      6\u001b[0m               row_labels\u001b[38;5;241m=\u001b[39mpoison2\u001b[38;5;241m.\u001b[39mindex,\n\u001b[0;32m      7\u001b[0m               parallelize\u001b[38;5;241m=\u001b[39m\u001b[38;5;28;01mTrue\u001b[39;00m)\n\u001b[0;32m      8\u001b[0m \u001b[38;5;66;03m# Instanciation\u001b[39;00m\n\u001b[1;32m----> 9\u001b[0m \u001b[43mres_mfa\u001b[49m\u001b[38;5;241;43m.\u001b[39;49m\u001b[43mfit\u001b[49m\u001b[43m(\u001b[49m\u001b[43mpoison2\u001b[49m\u001b[43m)\u001b[49m\n",
      "File \u001b[1;32md:\\Bureau\\PythonProject\\packages\\scientisttools\\scientisttools\\decomposition.py:3938\u001b[0m, in \u001b[0;36mMFA.fit\u001b[1;34m(self, X, y)\u001b[0m\n\u001b[0;32m   3935\u001b[0m \u001b[38;5;28mself\u001b[39m\u001b[38;5;241m.\u001b[39mmod_labels_ \u001b[38;5;241m=\u001b[39m \u001b[38;5;28;01mNone\u001b[39;00m\n\u001b[0;32m   3937\u001b[0m \u001b[38;5;66;03m# Compute stats\u001b[39;00m\n\u001b[1;32m-> 3938\u001b[0m \u001b[38;5;28;43mself\u001b[39;49m\u001b[38;5;241;43m.\u001b[39;49m\u001b[43m_compute_stats\u001b[49m\u001b[43m(\u001b[49m\u001b[43mX_\u001b[49m\u001b[43m)\u001b[49m\n\u001b[0;32m   3940\u001b[0m \u001b[38;5;66;03m# Compute columns supplementary coordinates\u001b[39;00m\n\u001b[0;32m   3941\u001b[0m \u001b[38;5;28;01mif\u001b[39;00m \u001b[38;5;28mself\u001b[39m\u001b[38;5;241m.\u001b[39mgroup_sup \u001b[38;5;129;01mis\u001b[39;00m \u001b[38;5;129;01mnot\u001b[39;00m \u001b[38;5;28;01mNone\u001b[39;00m:\n",
      "File \u001b[1;32md:\\Bureau\\PythonProject\\packages\\scientisttools\\scientisttools\\decomposition.py:4042\u001b[0m, in \u001b[0;36mMFA._compute_stats\u001b[1;34m(self, X)\u001b[0m\n\u001b[0;32m   4040\u001b[0m         var_group_labels \u001b[38;5;241m=\u001b[39m var_group_labels \u001b[38;5;241m+\u001b[39m [grp]\u001b[38;5;241m*\u001b[39mXg\u001b[38;5;241m.\u001b[39mshape[\u001b[38;5;241m1\u001b[39m]\n\u001b[0;32m   4041\u001b[0m     \u001b[38;5;66;03m# Fit the model\u001b[39;00m\n\u001b[1;32m-> 4042\u001b[0m     model[grp] \u001b[38;5;241m=\u001b[39m \u001b[43mfa\u001b[49m\u001b[38;5;241;43m.\u001b[39;49m\u001b[43mfit\u001b[49m\u001b[43m(\u001b[49m\u001b[43mXg\u001b[49m\u001b[43m)\u001b[49m\n\u001b[0;32m   4044\u001b[0m \u001b[38;5;66;03m##################### Compute group disto\u001b[39;00m\n\u001b[0;32m   4045\u001b[0m group_disto \u001b[38;5;241m=\u001b[39m np\u001b[38;5;241m.\u001b[39marray([np\u001b[38;5;241m.\u001b[39msum(model[grp]\u001b[38;5;241m.\u001b[39meig_[\u001b[38;5;241m0\u001b[39m]\u001b[38;5;241m*\u001b[39m\u001b[38;5;241m*\u001b[39m\u001b[38;5;241m2\u001b[39m)\u001b[38;5;241m/\u001b[39mmodel[grp]\u001b[38;5;241m.\u001b[39meig_[\u001b[38;5;241m0\u001b[39m][\u001b[38;5;241m0\u001b[39m]\u001b[38;5;241m*\u001b[39m\u001b[38;5;241m*\u001b[39m\u001b[38;5;241m2\u001b[39m \u001b[38;5;28;01mfor\u001b[39;00m grp, cols \u001b[38;5;129;01min\u001b[39;00m \u001b[38;5;28mself\u001b[39m\u001b[38;5;241m.\u001b[39mgroup_\u001b[38;5;241m.\u001b[39mitems()])\n",
      "File \u001b[1;32md:\\Bureau\\PythonProject\\packages\\scientisttools\\scientisttools\\decomposition.py:2611\u001b[0m, in \u001b[0;36mMCA.fit\u001b[1;34m(self, X, y)\u001b[0m\n\u001b[0;32m   2608\u001b[0m \u001b[38;5;28;01mif\u001b[39;00m \u001b[38;5;28mself\u001b[39m\u001b[38;5;241m.\u001b[39mn_components \u001b[38;5;241m==\u001b[39m \u001b[38;5;241m1\u001b[39m:\n\u001b[0;32m   2609\u001b[0m     \u001b[38;5;28;01mraise\u001b[39;00m \u001b[38;5;167;01mValueError\u001b[39;00m(\u001b[38;5;124m\"\u001b[39m\u001b[38;5;124mn_components must be grather than 1.\u001b[39m\u001b[38;5;124m\"\u001b[39m)\n\u001b[1;32m-> 2611\u001b[0m \u001b[38;5;28;43mself\u001b[39;49m\u001b[38;5;241;43m.\u001b[39;49m\u001b[43m_compute_svds\u001b[49m\u001b[43m(\u001b[49m\u001b[43mX_\u001b[49m\u001b[43m)\u001b[49m\n\u001b[0;32m   2613\u001b[0m \u001b[38;5;66;03m# Compute supplementary quantitatives variables statistics\u001b[39;00m\n\u001b[0;32m   2614\u001b[0m \u001b[38;5;28;01mif\u001b[39;00m \u001b[38;5;28mself\u001b[39m\u001b[38;5;241m.\u001b[39mquanti_sup_labels_ \u001b[38;5;129;01mis\u001b[39;00m \u001b[38;5;129;01mnot\u001b[39;00m \u001b[38;5;28;01mNone\u001b[39;00m:\n",
      "File \u001b[1;32md:\\Bureau\\PythonProject\\packages\\scientisttools\\scientisttools\\decomposition.py:2736\u001b[0m, in \u001b[0;36mMCA._compute_svds\u001b[1;34m(self, X)\u001b[0m\n\u001b[0;32m   2733\u001b[0m     \u001b[38;5;28mself\u001b[39m\u001b[38;5;241m.\u001b[39m_greenacre(eigen_value)\n\u001b[0;32m   2735\u001b[0m \u001b[38;5;66;03m# Row and columns coordinates\u001b[39;00m\n\u001b[1;32m-> 2736\u001b[0m row_coord \u001b[38;5;241m=\u001b[39m (\u001b[38;5;28mself\u001b[39m\u001b[38;5;241m.\u001b[39mD_r\u001b[38;5;241m.\u001b[39mdot(U)\u001b[38;5;241m.\u001b[39mdot(\u001b[43msp\u001b[49m\u001b[38;5;241;43m.\u001b[39;49m\u001b[43mlinalg\u001b[49m\u001b[38;5;241;43m.\u001b[39;49m\u001b[43mdiagsvd\u001b[49m\u001b[43m(\u001b[49m\u001b[43mdelta\u001b[49m\u001b[43m[\u001b[49m\u001b[43m:\u001b[49m\u001b[38;5;28;43mself\u001b[39;49m\u001b[38;5;241;43m.\u001b[39;49m\u001b[43mn_components_\u001b[49m\u001b[43m]\u001b[49m\u001b[43m,\u001b[49m\u001b[38;5;28;43mself\u001b[39;49m\u001b[38;5;241;43m.\u001b[39;49m\u001b[43m_numitems\u001b[49m\u001b[43m,\u001b[49m\u001b[38;5;28;43mself\u001b[39;49m\u001b[38;5;241;43m.\u001b[39;49m\u001b[43mn_components_\u001b[49m\u001b[43m)\u001b[49m))\n\u001b[0;32m   2737\u001b[0m mod_coord \u001b[38;5;241m=\u001b[39m _mul(\u001b[38;5;28mself\u001b[39m\u001b[38;5;241m.\u001b[39mD_c, V_T\u001b[38;5;241m.\u001b[39mT, sp\u001b[38;5;241m.\u001b[39mlinalg\u001b[38;5;241m.\u001b[39mdiagsvd(delta[:\u001b[38;5;28mself\u001b[39m\u001b[38;5;241m.\u001b[39mn_components_],\u001b[38;5;28mlen\u001b[39m(V_T),\u001b[38;5;28mself\u001b[39m\u001b[38;5;241m.\u001b[39mn_components_))\n\u001b[0;32m   2739\u001b[0m \u001b[38;5;66;03m# Store information\u001b[39;00m\n",
      "File \u001b[1;32m~\\AppData\\Roaming\\Python\\Python310\\site-packages\\scipy\\linalg\\_decomp_svd.py:282\u001b[0m, in \u001b[0;36mdiagsvd\u001b[1;34m(s, M, N)\u001b[0m\n\u001b[0;32m    280\u001b[0m     \u001b[38;5;28;01mreturn\u001b[39;00m r_[part, zeros((M\u001b[38;5;241m-\u001b[39mN, N), typ)]\n\u001b[0;32m    281\u001b[0m \u001b[38;5;28;01melse\u001b[39;00m:\n\u001b[1;32m--> 282\u001b[0m     \u001b[38;5;28;01mraise\u001b[39;00m \u001b[38;5;167;01mValueError\u001b[39;00m(\u001b[38;5;124m\"\u001b[39m\u001b[38;5;124mLength of s must be M or N.\u001b[39m\u001b[38;5;124m\"\u001b[39m)\n",
      "\u001b[1;31mValueError\u001b[0m: Length of s must be M or N."
     ]
    }
   ],
   "source": [
    "from scientisttools.decomposition import MFA\n",
    "\n",
    "res_mfa = MFA(n_components=None,\n",
    "              group=group,\n",
    "              group_sup=group_sup,\n",
    "              row_labels=poison2.index,\n",
    "              parallelize=True)\n",
    "# Instanciation\n",
    "res_mfa.fit(poison2)"
   ]
  },
  {
   "cell_type": "markdown",
   "metadata": {},
   "source": [
    "## Eigenvalues"
   ]
  },
  {
   "cell_type": "code",
   "execution_count": null,
   "metadata": {},
   "outputs": [],
   "source": [
    "from scientisttools.extractfactor import get_eig\n",
    "eig = get_eig(res_mfa)\n",
    "eig"
   ]
  },
  {
   "cell_type": "markdown",
   "metadata": {},
   "source": [
    "## Separate analyses"
   ]
  },
  {
   "cell_type": "code",
   "execution_count": null,
   "metadata": {},
   "outputs": [],
   "source": [
    "res_mfa.separate_analyses_.keys()"
   ]
  },
  {
   "cell_type": "markdown",
   "metadata": {},
   "source": [
    "## Individuals informations"
   ]
  },
  {
   "cell_type": "code",
   "execution_count": null,
   "metadata": {},
   "outputs": [],
   "source": [
    "from scientisttools.extractfactor import get_mfa_ind\n",
    "ind = get_mfa_ind(res_mfa)\n",
    "ind.keys()"
   ]
  },
  {
   "cell_type": "markdown",
   "metadata": {},
   "source": [
    "### Coordinates"
   ]
  },
  {
   "cell_type": "code",
   "execution_count": null,
   "metadata": {},
   "outputs": [],
   "source": [
    "ind[\"coord\"].head(6)"
   ]
  },
  {
   "cell_type": "markdown",
   "metadata": {},
   "source": [
    "### Cos2"
   ]
  },
  {
   "cell_type": "code",
   "execution_count": null,
   "metadata": {},
   "outputs": [],
   "source": [
    "ind[\"cos2\"].head(6)"
   ]
  },
  {
   "cell_type": "markdown",
   "metadata": {},
   "source": [
    "### Contributions"
   ]
  },
  {
   "cell_type": "code",
   "execution_count": null,
   "metadata": {},
   "outputs": [],
   "source": [
    "ind[\"contrib\"].head(6)"
   ]
  },
  {
   "cell_type": "markdown",
   "metadata": {},
   "source": [
    "### Partiel coordinates"
   ]
  },
  {
   "cell_type": "code",
   "execution_count": null,
   "metadata": {},
   "outputs": [],
   "source": [
    "ind[\"coord_partiel\"].head(6)"
   ]
  },
  {
   "cell_type": "markdown",
   "metadata": {},
   "source": [
    "### Within inertia"
   ]
  },
  {
   "cell_type": "code",
   "execution_count": null,
   "metadata": {},
   "outputs": [],
   "source": [
    "ind[\"within_inertia\"].head(6)"
   ]
  },
  {
   "cell_type": "markdown",
   "metadata": {},
   "source": [
    "### Within partial inertia"
   ]
  },
  {
   "cell_type": "code",
   "execution_count": null,
   "metadata": {},
   "outputs": [],
   "source": [
    "ind[\"within_partial_inertia\"].head(6).round(6)"
   ]
  },
  {
   "cell_type": "code",
   "execution_count": null,
   "metadata": {},
   "outputs": [],
   "source": [
    "res_mfa.group_sup_"
   ]
  },
  {
   "cell_type": "markdown",
   "metadata": {},
   "source": [
    "## Categories"
   ]
  },
  {
   "cell_type": "code",
   "execution_count": null,
   "metadata": {},
   "outputs": [],
   "source": [
    "from scientisttools.extractfactor import get_mfa_var\n",
    "quali_var = get_mfa_var(res_mfa,element=\"quali_var\")\n",
    "quali_var.keys()"
   ]
  },
  {
   "cell_type": "markdown",
   "metadata": {},
   "source": [
    "### Coordinates"
   ]
  },
  {
   "cell_type": "code",
   "execution_count": null,
   "metadata": {},
   "outputs": [],
   "source": [
    "quali_var[\"coord\"]"
   ]
  },
  {
   "cell_type": "markdown",
   "metadata": {},
   "source": [
    "### Cos2"
   ]
  },
  {
   "cell_type": "code",
   "execution_count": null,
   "metadata": {},
   "outputs": [],
   "source": [
    "quali_var[\"cos2\"]"
   ]
  },
  {
   "cell_type": "markdown",
   "metadata": {},
   "source": [
    "### Contributions"
   ]
  },
  {
   "cell_type": "code",
   "execution_count": null,
   "metadata": {},
   "outputs": [],
   "source": [
    "# A vérifier\n",
    "quali_var[\"contrib\"]"
   ]
  },
  {
   "cell_type": "markdown",
   "metadata": {},
   "source": [
    "### VTest"
   ]
  },
  {
   "cell_type": "code",
   "execution_count": null,
   "metadata": {},
   "outputs": [],
   "source": [
    "quali_var[\"vtest\"]"
   ]
  },
  {
   "cell_type": "markdown",
   "metadata": {},
   "source": [
    "### Coord partial"
   ]
  },
  {
   "cell_type": "code",
   "execution_count": null,
   "metadata": {},
   "outputs": [],
   "source": [
    "quali_var[\"coord_partiel\"]"
   ]
  },
  {
   "cell_type": "markdown",
   "metadata": {},
   "source": [
    "### whithin inertia"
   ]
  },
  {
   "cell_type": "code",
   "execution_count": null,
   "metadata": {},
   "outputs": [],
   "source": [
    "quali_var[\"within_inertia\"] # A vérifier"
   ]
  },
  {
   "cell_type": "markdown",
   "metadata": {},
   "source": [
    "### Whitin partial inertia"
   ]
  },
  {
   "cell_type": "code",
   "execution_count": null,
   "metadata": {},
   "outputs": [],
   "source": [
    "quali_var[\"within_partial_inertia\"] # A vérifier"
   ]
  },
  {
   "cell_type": "markdown",
   "metadata": {},
   "source": [
    "## Groups"
   ]
  },
  {
   "cell_type": "code",
   "execution_count": null,
   "metadata": {},
   "outputs": [],
   "source": [
    "group = get_mfa_var(res_mfa,element=\"group\")\n",
    "group.keys()"
   ]
  },
  {
   "cell_type": "markdown",
   "metadata": {},
   "source": [
    "### Coordinates"
   ]
  },
  {
   "cell_type": "code",
   "execution_count": null,
   "metadata": {},
   "outputs": [],
   "source": [
    "group[\"coord\"].head(6)"
   ]
  },
  {
   "cell_type": "markdown",
   "metadata": {},
   "source": [
    "### Contributions"
   ]
  },
  {
   "cell_type": "code",
   "execution_count": null,
   "metadata": {},
   "outputs": [],
   "source": [
    "group[\"contrib\"].head(6)"
   ]
  },
  {
   "cell_type": "markdown",
   "metadata": {},
   "source": [
    "### Correlation"
   ]
  },
  {
   "cell_type": "code",
   "execution_count": null,
   "metadata": {},
   "outputs": [],
   "source": [
    "group[\"correlation\"].head(6)"
   ]
  },
  {
   "cell_type": "markdown",
   "metadata": {},
   "source": [
    "### Lg"
   ]
  },
  {
   "cell_type": "code",
   "execution_count": null,
   "metadata": {},
   "outputs": [],
   "source": [
    "group[\"Lg\"]"
   ]
  },
  {
   "cell_type": "markdown",
   "metadata": {},
   "source": [
    "### RV"
   ]
  },
  {
   "cell_type": "code",
   "execution_count": null,
   "metadata": {},
   "outputs": [],
   "source": [
    "group[\"RV\"]"
   ]
  },
  {
   "cell_type": "markdown",
   "metadata": {},
   "source": [
    "### Dist"
   ]
  },
  {
   "cell_type": "code",
   "execution_count": null,
   "metadata": {},
   "outputs": [],
   "source": [
    "group[\"dist\"]"
   ]
  },
  {
   "cell_type": "markdown",
   "metadata": {},
   "source": [
    "### Cos2"
   ]
  },
  {
   "cell_type": "code",
   "execution_count": null,
   "metadata": {},
   "outputs": [],
   "source": [
    "group[\"cos2\"]"
   ]
  },
  {
   "cell_type": "markdown",
   "metadata": {},
   "source": [
    "### Supplementary groups"
   ]
  },
  {
   "cell_type": "code",
   "execution_count": null,
   "metadata": {},
   "outputs": [],
   "source": [
    "group_sup = group[\"sup\"]\n",
    "group_sup.keys()"
   ]
  },
  {
   "cell_type": "markdown",
   "metadata": {},
   "source": [
    "#### Coordinates"
   ]
  },
  {
   "cell_type": "code",
   "execution_count": null,
   "metadata": {},
   "outputs": [],
   "source": [
    "group_sup[\"coord\"]"
   ]
  },
  {
   "cell_type": "markdown",
   "metadata": {},
   "source": [
    "#### Dist2"
   ]
  },
  {
   "cell_type": "code",
   "execution_count": null,
   "metadata": {},
   "outputs": [],
   "source": [
    "group_sup[\"dist\"]"
   ]
  },
  {
   "cell_type": "markdown",
   "metadata": {},
   "source": [
    "#### Cos2"
   ]
  },
  {
   "cell_type": "code",
   "execution_count": null,
   "metadata": {},
   "outputs": [],
   "source": [
    "group_sup[\"cos2\"]"
   ]
  },
  {
   "cell_type": "markdown",
   "metadata": {},
   "source": [
    "## Partial axes"
   ]
  },
  {
   "cell_type": "code",
   "execution_count": null,
   "metadata": {},
   "outputs": [],
   "source": [
    "from scientisttools.extractfactor import get_mfa_partial_axes\n",
    "partial_axes = get_mfa_partial_axes(res_mfa)\n",
    "partial_axes.keys()"
   ]
  },
  {
   "cell_type": "markdown",
   "metadata": {},
   "source": [
    "### Coordinates"
   ]
  },
  {
   "cell_type": "code",
   "execution_count": null,
   "metadata": {},
   "outputs": [],
   "source": [
    "partial_axes[\"coord\"]"
   ]
  },
  {
   "cell_type": "markdown",
   "metadata": {},
   "source": [
    "### Cor"
   ]
  },
  {
   "cell_type": "code",
   "execution_count": null,
   "metadata": {},
   "outputs": [],
   "source": [
    "partial_axes[\"cor\"]"
   ]
  },
  {
   "cell_type": "markdown",
   "metadata": {},
   "source": [
    "### Corr between"
   ]
  },
  {
   "cell_type": "code",
   "execution_count": null,
   "metadata": {},
   "outputs": [],
   "source": [
    "partial_axes[\"cor_between\"].round(5)"
   ]
  },
  {
   "cell_type": "markdown",
   "metadata": {},
   "source": [
    "## Inertia ratio"
   ]
  },
  {
   "cell_type": "code",
   "execution_count": null,
   "metadata": {},
   "outputs": [],
   "source": [
    "res_mfa.inertia_ratio_"
   ]
  },
  {
   "cell_type": "markdown",
   "metadata": {},
   "source": [
    "## Inertia ratio"
   ]
  },
  {
   "cell_type": "code",
   "execution_count": null,
   "metadata": {},
   "outputs": [],
   "source": [
    "res_mfa.inertia_ratio_"
   ]
  },
  {
   "cell_type": "markdown",
   "metadata": {},
   "source": [
    "## Supplementary qualitatives variables"
   ]
  },
  {
   "cell_type": "code",
   "execution_count": null,
   "metadata": {},
   "outputs": [],
   "source": [
    "quali_var_sup = quali_var[\"sup\"]\n",
    "quali_var_sup.keys()"
   ]
  },
  {
   "cell_type": "markdown",
   "metadata": {},
   "source": [
    "### Coordinates"
   ]
  },
  {
   "cell_type": "code",
   "execution_count": null,
   "metadata": {},
   "outputs": [],
   "source": [
    "quali_var_sup[\"coord\"].head(6)"
   ]
  },
  {
   "cell_type": "markdown",
   "metadata": {},
   "source": [
    "### Cos2"
   ]
  },
  {
   "cell_type": "code",
   "execution_count": null,
   "metadata": {},
   "outputs": [],
   "source": [
    "quali_var_sup[\"cos2\"].head(6)"
   ]
  },
  {
   "cell_type": "markdown",
   "metadata": {},
   "source": [
    "### VTest"
   ]
  },
  {
   "cell_type": "code",
   "execution_count": null,
   "metadata": {},
   "outputs": [],
   "source": [
    "quali_var_sup[\"vtest\"].head(6)"
   ]
  },
  {
   "cell_type": "markdown",
   "metadata": {},
   "source": [
    "### Coord partiel"
   ]
  },
  {
   "cell_type": "code",
   "execution_count": null,
   "metadata": {},
   "outputs": [],
   "source": [
    "quali_var_sup[\"coord_partiel\"].head(6)"
   ]
  },
  {
   "cell_type": "markdown",
   "metadata": {},
   "source": [
    "## Supplementary continues columns"
   ]
  },
  {
   "cell_type": "code",
   "execution_count": null,
   "metadata": {},
   "outputs": [],
   "source": [
    "quanti_var_sup =get_mfa_var(res_mfa,element=\"quanti_var\")[\"sup\"]\n",
    "quanti_var_sup.keys()"
   ]
  },
  {
   "cell_type": "markdown",
   "metadata": {},
   "source": [
    "#### Coordinates"
   ]
  },
  {
   "cell_type": "code",
   "execution_count": null,
   "metadata": {},
   "outputs": [],
   "source": [
    "quanti_var_sup[\"coord\"].head(6)"
   ]
  },
  {
   "cell_type": "markdown",
   "metadata": {},
   "source": [
    "### Cor"
   ]
  },
  {
   "cell_type": "code",
   "execution_count": null,
   "metadata": {},
   "outputs": [],
   "source": [
    "quanti_var_sup[\"cor\"].head(6)"
   ]
  },
  {
   "cell_type": "markdown",
   "metadata": {},
   "source": [
    "### Cos2"
   ]
  },
  {
   "cell_type": "code",
   "execution_count": null,
   "metadata": {},
   "outputs": [],
   "source": [
    "quanti_var_sup[\"cos2\"].head(6)"
   ]
  },
  {
   "cell_type": "markdown",
   "metadata": {},
   "source": [
    "## Summary"
   ]
  },
  {
   "cell_type": "code",
   "execution_count": null,
   "metadata": {},
   "outputs": [],
   "source": [
    "res_mfa.summary_quanti_"
   ]
  },
  {
   "cell_type": "code",
   "execution_count": null,
   "metadata": {},
   "outputs": [],
   "source": [
    "res_mfa.summary_quali_"
   ]
  },
  {
   "cell_type": "code",
   "execution_count": null,
   "metadata": {},
   "outputs": [],
   "source": [
    "X = res_mfa.active_data_\n",
    "res_mfa.transform(X)"
   ]
  },
  {
   "cell_type": "markdown",
   "metadata": {},
   "source": []
  }
 ],
 "metadata": {
  "kernelspec": {
   "display_name": "Python 3",
   "language": "python",
   "name": "python3"
  },
  "language_info": {
   "codemirror_mode": {
    "name": "ipython",
    "version": 3
   },
   "file_extension": ".py",
   "mimetype": "text/x-python",
   "name": "python",
   "nbconvert_exporter": "python",
   "pygments_lexer": "ipython3",
   "version": "3.10.5"
  }
 },
 "nbformat": 4,
 "nbformat_minor": 2
}
