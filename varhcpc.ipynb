{
 "cells": [
  {
   "attachments": {},
   "cell_type": "markdown",
   "metadata": {},
   "source": [
    "# VARHCPC"
   ]
  },
  {
   "cell_type": "code",
   "execution_count": null,
   "metadata": {},
   "outputs": [],
   "source": [
    "#changement de dossier\n",
    "import os\n",
    "os.chdir(\"d:/Bureau/PythonProject/packages/scientisttools/data/\")\n",
    "\n",
    "#importation des données\n",
    "import pandas as pd\n",
    "vote = pd.read_excel(\"vote_clustering.xlsx\")\n",
    "vote.head()"
   ]
  },
  {
   "cell_type": "code",
   "execution_count": null,
   "metadata": {},
   "outputs": [],
   "source": [
    "#variables actives\n",
    "X = vote.iloc[:,1:]\n",
    "print(X.columns)"
   ]
  },
  {
   "attachments": {},
   "cell_type": "markdown",
   "metadata": {},
   "source": [
    "## ACM sur les données actives"
   ]
  },
  {
   "cell_type": "code",
   "execution_count": null,
   "metadata": {},
   "outputs": [],
   "source": [
    "# ACM\n",
    "from scientisttools.decomposition import MCA\n",
    "\n",
    "my_mca = MCA(n_components=2,\n",
    "             row_labels=X.index,\n",
    "             var_labels=X.columns,\n",
    "             mod_labels=None,\n",
    "             matrix_type=\"completed\",\n",
    "             benzecri=True,\n",
    "             greenacre=True,\n",
    "             row_sup_labels=None,\n",
    "             quali_sup_labels=None,\n",
    "             quanti_sup_labels=None,\n",
    "             graph=False,\n",
    "             figsize=(20,8))\n",
    "my_mca.fit(X)"
   ]
  },
  {
   "cell_type": "code",
   "execution_count": null,
   "metadata": {},
   "outputs": [],
   "source": [
    "# Coordonnées des modalités\n",
    "pd.DataFrame(my_mca.mod_coord_,index=my_mca.mod_labels_,columns=my_mca.dim_index_)"
   ]
  },
  {
   "cell_type": "code",
   "execution_count": null,
   "metadata": {},
   "outputs": [],
   "source": [
    "pd.DataFrame(my_mca.mod_infos_,index=my_mca.mod_labels_,columns=[\"dist\",\"weight\",\"Inertie\"])"
   ]
  },
  {
   "attachments": {},
   "cell_type": "markdown",
   "metadata": {},
   "source": [
    "> Note\n",
    "\n",
    "Dans ce tableau `weight` représente le poids relatif de chaque modalité, c'est - à - dire :\n",
    "\n",
    "$$\n",
    "w_{k} = \\dfrac{n_{k}}{n\\times p}\n",
    "$$\n",
    "\n",
    "où \n",
    "* $n_{k}$ est le nombre d'individu possédant la modalité $k$\n",
    "* $n$ le nombre total d'individu\n",
    "* $p$ le nombre de variables catégorielles\n",
    "\n",
    "Dans le cadre de la classification automatique, on utilise le poids absolu (ou proportion), c'est - à - dire :\n",
    "\n",
    "$$\n",
    "p_{k} = \\dfrac{n_{k}}{n} = w_{k}\\times p\n",
    "$$"
   ]
  },
  {
   "cell_type": "code",
   "execution_count": null,
   "metadata": {},
   "outputs": [],
   "source": [
    "# Poids absolus des modalités\n",
    "my_mca.mod_infos_[:,1]*my_mca.n_vars_"
   ]
  },
  {
   "attachments": {},
   "cell_type": "markdown",
   "metadata": {},
   "source": [
    "## Classification automatique"
   ]
  },
  {
   "cell_type": "code",
   "execution_count": null,
   "metadata": {},
   "outputs": [],
   "source": [
    "from scientisttools.clustering import VARHCPC"
   ]
  },
  {
   "cell_type": "code",
   "execution_count": null,
   "metadata": {},
   "outputs": [],
   "source": [
    "my_mca.model_"
   ]
  },
  {
   "cell_type": "code",
   "execution_count": null,
   "metadata": {},
   "outputs": [],
   "source": [
    "varhcpc = VARHCPC(n_clusters=4,\n",
    "                  metric=\"euclidean\",\n",
    "                  method=\"average\",\n",
    "                  parallelize=False)\n",
    "\n",
    "varhcpc.fit(my_mca)"
   ]
  },
  {
   "attachments": {},
   "cell_type": "markdown",
   "metadata": {},
   "source": [
    "### Dendrogram"
   ]
  },
  {
   "cell_type": "code",
   "execution_count": null,
   "metadata": {},
   "outputs": [],
   "source": [
    "# Dendrogram\n",
    "import matplotlib.pyplot as plt\n",
    "from scientisttools.pyplot import plot_dendrogram\n",
    "\n",
    "plot_dendrogram(varhcpc,orientation='top',leaf_rotation=90,color_threshold=1.6)\n",
    "plt.show()"
   ]
  },
  {
   "cell_type": "code",
   "execution_count": null,
   "metadata": {},
   "outputs": [],
   "source": [
    "varhcpc.cluster_centers_"
   ]
  },
  {
   "cell_type": "code",
   "execution_count": null,
   "metadata": {},
   "outputs": [],
   "source": [
    "cluster = varhcpc.cluster_\n"
   ]
  }
 ],
 "metadata": {
  "kernelspec": {
   "display_name": "Python 3",
   "language": "python",
   "name": "python3"
  },
  "language_info": {
   "codemirror_mode": {
    "name": "ipython",
    "version": 3
   },
   "file_extension": ".py",
   "mimetype": "text/x-python",
   "name": "python",
   "nbconvert_exporter": "python",
   "pygments_lexer": "ipython3",
   "version": "3.10.5"
  },
  "orig_nbformat": 4
 },
 "nbformat": 4,
 "nbformat_minor": 2
}
