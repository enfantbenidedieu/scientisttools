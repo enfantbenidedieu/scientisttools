{
 "cells": [
  {
   "cell_type": "code",
   "execution_count": 1,
   "metadata": {},
   "outputs": [],
   "source": [
    "import warnings\n",
    "warnings.simplefilter(action='ignore', category=FutureWarning)\n",
    "warnings.filterwarnings(\"ignore\")"
   ]
  },
  {
   "cell_type": "code",
   "execution_count": 2,
   "metadata": {},
   "outputs": [
    {
     "data": {
      "text/html": [
       "<div>\n",
       "<style scoped>\n",
       "    .dataframe tbody tr th:only-of-type {\n",
       "        vertical-align: middle;\n",
       "    }\n",
       "\n",
       "    .dataframe tbody tr th {\n",
       "        vertical-align: top;\n",
       "    }\n",
       "\n",
       "    .dataframe thead th {\n",
       "        text-align: right;\n",
       "    }\n",
       "</style>\n",
       "<table border=\"1\" class=\"dataframe\">\n",
       "  <thead>\n",
       "    <tr style=\"text-align: right;\">\n",
       "      <th></th>\n",
       "      <th>X100m</th>\n",
       "      <th>Long.jump</th>\n",
       "      <th>Shot.put</th>\n",
       "      <th>High.jump</th>\n",
       "      <th>X400m</th>\n",
       "      <th>X110m.hurdle</th>\n",
       "      <th>Discus</th>\n",
       "      <th>Pole.vault</th>\n",
       "      <th>Javeline</th>\n",
       "      <th>X1500m</th>\n",
       "      <th>Rank</th>\n",
       "      <th>Points</th>\n",
       "      <th>Competition</th>\n",
       "    </tr>\n",
       "    <tr>\n",
       "      <th>name</th>\n",
       "      <th></th>\n",
       "      <th></th>\n",
       "      <th></th>\n",
       "      <th></th>\n",
       "      <th></th>\n",
       "      <th></th>\n",
       "      <th></th>\n",
       "      <th></th>\n",
       "      <th></th>\n",
       "      <th></th>\n",
       "      <th></th>\n",
       "      <th></th>\n",
       "      <th></th>\n",
       "    </tr>\n",
       "  </thead>\n",
       "  <tbody>\n",
       "    <tr>\n",
       "      <th>SEBRLE</th>\n",
       "      <td>11.04</td>\n",
       "      <td>7.58</td>\n",
       "      <td>14.83</td>\n",
       "      <td>2.07</td>\n",
       "      <td>49.81</td>\n",
       "      <td>14.69</td>\n",
       "      <td>43.75</td>\n",
       "      <td>5.02</td>\n",
       "      <td>63.19</td>\n",
       "      <td>291.7</td>\n",
       "      <td>1</td>\n",
       "      <td>8217</td>\n",
       "      <td>Decastar</td>\n",
       "    </tr>\n",
       "    <tr>\n",
       "      <th>CLAY</th>\n",
       "      <td>10.76</td>\n",
       "      <td>7.40</td>\n",
       "      <td>14.26</td>\n",
       "      <td>1.86</td>\n",
       "      <td>49.37</td>\n",
       "      <td>14.05</td>\n",
       "      <td>50.72</td>\n",
       "      <td>4.92</td>\n",
       "      <td>60.15</td>\n",
       "      <td>301.5</td>\n",
       "      <td>2</td>\n",
       "      <td>8122</td>\n",
       "      <td>Decastar</td>\n",
       "    </tr>\n",
       "    <tr>\n",
       "      <th>BERNARD</th>\n",
       "      <td>11.02</td>\n",
       "      <td>7.23</td>\n",
       "      <td>14.25</td>\n",
       "      <td>1.92</td>\n",
       "      <td>48.93</td>\n",
       "      <td>14.99</td>\n",
       "      <td>40.87</td>\n",
       "      <td>5.32</td>\n",
       "      <td>62.77</td>\n",
       "      <td>280.1</td>\n",
       "      <td>4</td>\n",
       "      <td>8067</td>\n",
       "      <td>Decastar</td>\n",
       "    </tr>\n",
       "    <tr>\n",
       "      <th>YURKOV</th>\n",
       "      <td>11.34</td>\n",
       "      <td>7.09</td>\n",
       "      <td>15.19</td>\n",
       "      <td>2.10</td>\n",
       "      <td>50.42</td>\n",
       "      <td>15.31</td>\n",
       "      <td>46.26</td>\n",
       "      <td>4.72</td>\n",
       "      <td>63.44</td>\n",
       "      <td>276.4</td>\n",
       "      <td>5</td>\n",
       "      <td>8036</td>\n",
       "      <td>Decastar</td>\n",
       "    </tr>\n",
       "    <tr>\n",
       "      <th>ZSIVOCZKY</th>\n",
       "      <td>11.13</td>\n",
       "      <td>7.30</td>\n",
       "      <td>13.48</td>\n",
       "      <td>2.01</td>\n",
       "      <td>48.62</td>\n",
       "      <td>14.17</td>\n",
       "      <td>45.67</td>\n",
       "      <td>4.42</td>\n",
       "      <td>55.37</td>\n",
       "      <td>268.0</td>\n",
       "      <td>7</td>\n",
       "      <td>8004</td>\n",
       "      <td>Decastar</td>\n",
       "    </tr>\n",
       "  </tbody>\n",
       "</table>\n",
       "</div>"
      ],
      "text/plain": [
       "           X100m  Long.jump  Shot.put  High.jump  X400m  X110m.hurdle  Discus  \\\n",
       "name                                                                            \n",
       "SEBRLE     11.04       7.58     14.83       2.07  49.81         14.69   43.75   \n",
       "CLAY       10.76       7.40     14.26       1.86  49.37         14.05   50.72   \n",
       "BERNARD    11.02       7.23     14.25       1.92  48.93         14.99   40.87   \n",
       "YURKOV     11.34       7.09     15.19       2.10  50.42         15.31   46.26   \n",
       "ZSIVOCZKY  11.13       7.30     13.48       2.01  48.62         14.17   45.67   \n",
       "\n",
       "           Pole.vault  Javeline  X1500m  Rank  Points Competition  \n",
       "name                                                               \n",
       "SEBRLE           5.02     63.19   291.7     1    8217    Decastar  \n",
       "CLAY             4.92     60.15   301.5     2    8122    Decastar  \n",
       "BERNARD          5.32     62.77   280.1     4    8067    Decastar  \n",
       "YURKOV           4.72     63.44   276.4     5    8036    Decastar  \n",
       "ZSIVOCZKY        4.42     55.37   268.0     7    8004    Decastar  "
      ]
     },
     "execution_count": 2,
     "metadata": {},
     "output_type": "execute_result"
    }
   ],
   "source": [
    "from scientisttools.datasets import load_decathlon2\n",
    "X = load_decathlon2()\n",
    "X.head()"
   ]
  },
  {
   "cell_type": "code",
   "execution_count": 3,
   "metadata": {},
   "outputs": [
    {
     "data": {
      "text/html": [
       "<style>#sk-container-id-1 {color: black;background-color: white;}#sk-container-id-1 pre{padding: 0;}#sk-container-id-1 div.sk-toggleable {background-color: white;}#sk-container-id-1 label.sk-toggleable__label {cursor: pointer;display: block;width: 100%;margin-bottom: 0;padding: 0.3em;box-sizing: border-box;text-align: center;}#sk-container-id-1 label.sk-toggleable__label-arrow:before {content: \"▸\";float: left;margin-right: 0.25em;color: #696969;}#sk-container-id-1 label.sk-toggleable__label-arrow:hover:before {color: black;}#sk-container-id-1 div.sk-estimator:hover label.sk-toggleable__label-arrow:before {color: black;}#sk-container-id-1 div.sk-toggleable__content {max-height: 0;max-width: 0;overflow: hidden;text-align: left;background-color: #f0f8ff;}#sk-container-id-1 div.sk-toggleable__content pre {margin: 0.2em;color: black;border-radius: 0.25em;background-color: #f0f8ff;}#sk-container-id-1 input.sk-toggleable__control:checked~div.sk-toggleable__content {max-height: 200px;max-width: 100%;overflow: auto;}#sk-container-id-1 input.sk-toggleable__control:checked~label.sk-toggleable__label-arrow:before {content: \"▾\";}#sk-container-id-1 div.sk-estimator input.sk-toggleable__control:checked~label.sk-toggleable__label {background-color: #d4ebff;}#sk-container-id-1 div.sk-label input.sk-toggleable__control:checked~label.sk-toggleable__label {background-color: #d4ebff;}#sk-container-id-1 input.sk-hidden--visually {border: 0;clip: rect(1px 1px 1px 1px);clip: rect(1px, 1px, 1px, 1px);height: 1px;margin: -1px;overflow: hidden;padding: 0;position: absolute;width: 1px;}#sk-container-id-1 div.sk-estimator {font-family: monospace;background-color: #f0f8ff;border: 1px dotted black;border-radius: 0.25em;box-sizing: border-box;margin-bottom: 0.5em;}#sk-container-id-1 div.sk-estimator:hover {background-color: #d4ebff;}#sk-container-id-1 div.sk-parallel-item::after {content: \"\";width: 100%;border-bottom: 1px solid gray;flex-grow: 1;}#sk-container-id-1 div.sk-label:hover label.sk-toggleable__label {background-color: #d4ebff;}#sk-container-id-1 div.sk-serial::before {content: \"\";position: absolute;border-left: 1px solid gray;box-sizing: border-box;top: 0;bottom: 0;left: 50%;z-index: 0;}#sk-container-id-1 div.sk-serial {display: flex;flex-direction: column;align-items: center;background-color: white;padding-right: 0.2em;padding-left: 0.2em;position: relative;}#sk-container-id-1 div.sk-item {position: relative;z-index: 1;}#sk-container-id-1 div.sk-parallel {display: flex;align-items: stretch;justify-content: center;background-color: white;position: relative;}#sk-container-id-1 div.sk-item::before, #sk-container-id-1 div.sk-parallel-item::before {content: \"\";position: absolute;border-left: 1px solid gray;box-sizing: border-box;top: 0;bottom: 0;left: 50%;z-index: -1;}#sk-container-id-1 div.sk-parallel-item {display: flex;flex-direction: column;z-index: 1;position: relative;background-color: white;}#sk-container-id-1 div.sk-parallel-item:first-child::after {align-self: flex-end;width: 50%;}#sk-container-id-1 div.sk-parallel-item:last-child::after {align-self: flex-start;width: 50%;}#sk-container-id-1 div.sk-parallel-item:only-child::after {width: 0;}#sk-container-id-1 div.sk-dashed-wrapped {border: 1px dashed gray;margin: 0 0.4em 0.5em 0.4em;box-sizing: border-box;padding-bottom: 0.4em;background-color: white;}#sk-container-id-1 div.sk-label label {font-family: monospace;font-weight: bold;display: inline-block;line-height: 1.2em;}#sk-container-id-1 div.sk-label-container {text-align: center;}#sk-container-id-1 div.sk-container {/* jupyter's `normalize.less` sets `[hidden] { display: none; }` but bootstrap.min.css set `[hidden] { display: none !important; }` so we also need the `!important` here to be able to override the default hidden behavior on the sphinx rendered scikit-learn.org. See: https://github.com/scikit-learn/scikit-learn/issues/21755 */display: inline-block !important;position: relative;}#sk-container-id-1 div.sk-text-repr-fallback {display: none;}</style><div id=\"sk-container-id-1\" class=\"sk-top-container\"><div class=\"sk-text-repr-fallback\"><pre>PCA(ind_sup=[23, 24, 25, 26], parallelize=True, quali_sup=12,\n",
       "    quanti_sup=[10, 11])</pre><b>In a Jupyter environment, please rerun this cell to show the HTML representation or trust the notebook. <br />On GitHub, the HTML representation is unable to render, please try loading this page with nbviewer.org.</b></div><div class=\"sk-container\" hidden><div class=\"sk-item\"><div class=\"sk-estimator sk-toggleable\"><input class=\"sk-toggleable__control sk-hidden--visually\" id=\"sk-estimator-id-1\" type=\"checkbox\" checked><label for=\"sk-estimator-id-1\" class=\"sk-toggleable__label sk-toggleable__label-arrow\">PCA</label><div class=\"sk-toggleable__content\"><pre>PCA(ind_sup=[23, 24, 25, 26], parallelize=True, quali_sup=12,\n",
       "    quanti_sup=[10, 11])</pre></div></div></div></div></div>"
      ],
      "text/plain": [
       "PCA(ind_sup=[23, 24, 25, 26], parallelize=True, quali_sup=12,\n",
       "    quanti_sup=[10, 11])"
      ]
     },
     "execution_count": 3,
     "metadata": {},
     "output_type": "execute_result"
    }
   ],
   "source": [
    "from scientisttools.decomposition import PCA\n",
    "res_pca = PCA(standardize=True,n_components=5,ind_sup=list(range(23,X.shape[0])),quanti_sup=[10,11],quali_sup=12,parallelize=True)\n",
    "res_pca.fit(X)"
   ]
  },
  {
   "cell_type": "code",
   "execution_count": 4,
   "metadata": {},
   "outputs": [
    {
     "data": {
      "text/plain": [
       "(253,)"
      ]
     },
     "execution_count": 4,
     "metadata": {},
     "output_type": "execute_result"
    }
   ],
   "source": [
    "from scipy.spatial.distance import squareform, pdist\n",
    "X = res_pca.ind_[\"coord\"]\n",
    "d = pdist(X,metric=\"sqeuclidean\")\n",
    "d.shape"
   ]
  },
  {
   "cell_type": "code",
   "execution_count": 5,
   "metadata": {},
   "outputs": [],
   "source": [
    "import fastcluster\n",
    "hc = fastcluster.linkage(d,method=\"ward\")"
   ]
  },
  {
   "cell_type": "code",
   "execution_count": 6,
   "metadata": {},
   "outputs": [
    {
     "data": {
      "text/plain": [
       "array([[17.        , 22.        ,  1.68487709,  2.        ],\n",
       "       [11.        , 12.        ,  1.98802413,  2.        ],\n",
       "       [19.        , 21.        ,  2.01133108,  2.        ],\n",
       "       [ 5.        , 18.        ,  2.7646909 ,  2.        ],\n",
       "       [ 7.        , 20.        ,  3.49834749,  2.        ],\n",
       "       [ 3.        , 16.        ,  3.52994692,  2.        ],\n",
       "       [ 2.        , 25.        ,  4.7848578 ,  3.        ],\n",
       "       [ 8.        , 27.        ,  5.26748258,  3.        ],\n",
       "       [ 4.        , 23.        ,  6.23421731,  3.        ],\n",
       "       [ 0.        , 29.        ,  8.12998775,  4.        ],\n",
       "       [14.        , 26.        ,  9.66860916,  3.        ],\n",
       "       [ 1.        , 15.        , 11.67968145,  2.        ],\n",
       "       [30.        , 32.        , 12.11789564,  7.        ],\n",
       "       [31.        , 33.        , 13.39758159,  6.        ],\n",
       "       [13.        , 24.        , 15.05509509,  3.        ],\n",
       "       [ 6.        , 28.        , 17.5139005 ,  3.        ],\n",
       "       [ 9.        , 10.        , 17.82779049,  2.        ],\n",
       "       [34.        , 35.        , 19.44583558,  9.        ],\n",
       "       [36.        , 38.        , 24.97254547,  9.        ],\n",
       "       [39.        , 40.        , 38.00564386, 11.        ],\n",
       "       [41.        , 42.        , 43.63953304, 20.        ],\n",
       "       [37.        , 43.        , 68.83259464, 23.        ]])"
      ]
     },
     "execution_count": 6,
     "metadata": {},
     "output_type": "execute_result"
    }
   ],
   "source": [
    "hc"
   ]
  },
  {
   "cell_type": "code",
   "execution_count": 7,
   "metadata": {},
   "outputs": [
    {
     "name": "stdout",
     "output_type": "stream",
     "text": [
      "[7.21848847 5.72212772 4.77344221 3.94723257 3.40435114 2.98161559\n",
      " 2.59405492 2.21331796 1.88603328 1.59478151 1.33134899 1.07744287\n",
      " 0.86725572 0.69051685 0.55499039 0.4404799  0.33646125 0.25972328\n",
      " 0.18367224 0.12357027 0.07984568 0.03662776]\n",
      "1    65.581673\n",
      "2    43.147453\n",
      "3     9.346570\n",
      "dtype: float64\n"
     ]
    },
    {
     "ename": "TypeError",
     "evalue": "HCPC.__init__.<locals>.auto_cut_tree() missing 5 required positional arguments: 'min_clust', 'max_clust', 'metric', 'method', and 'order'",
     "output_type": "error",
     "traceback": [
      "\u001b[1;31m---------------------------------------------------------------------------\u001b[0m",
      "\u001b[1;31mTypeError\u001b[0m                                 Traceback (most recent call last)",
      "Input \u001b[1;32mIn [7]\u001b[0m, in \u001b[0;36m<cell line: 2>\u001b[1;34m()\u001b[0m\n\u001b[0;32m      1\u001b[0m \u001b[38;5;28;01mfrom\u001b[39;00m \u001b[38;5;21;01mscientisttools\u001b[39;00m\u001b[38;5;21;01m.\u001b[39;00m\u001b[38;5;21;01mclustering\u001b[39;00m \u001b[38;5;28;01mimport\u001b[39;00m HCPC\n\u001b[1;32m----> 2\u001b[0m res_hcpc \u001b[38;5;241m=\u001b[39m \u001b[43mHCPC\u001b[49m\u001b[43m(\u001b[49m\u001b[43mres_pca\u001b[49m\u001b[43m,\u001b[49m\u001b[43morder\u001b[49m\u001b[38;5;241;43m=\u001b[39;49m\u001b[38;5;28;43;01mTrue\u001b[39;49;00m\u001b[43m)\u001b[49m\n",
      "File \u001b[1;32md:\\Bureau\\PythonProject\\packages\\scientisttools\\scientisttools\\clustering.py:310\u001b[0m, in \u001b[0;36mHCPC.__init__\u001b[1;34m(self, model, n_clusters, min_cluster, max_cluster, metric, method, consol, max_iter, proba, n_paragons, order, parallelize)\u001b[0m\n\u001b[0;32m    308\u001b[0m max_cluster \u001b[38;5;241m=\u001b[39m \u001b[38;5;28mmin\u001b[39m(max_cluster,model\u001b[38;5;241m.\u001b[39mind_[\u001b[38;5;124m\"\u001b[39m\u001b[38;5;124mcoord\u001b[39m\u001b[38;5;124m\"\u001b[39m]\u001b[38;5;241m.\u001b[39mshape[\u001b[38;5;241m0\u001b[39m]\u001b[38;5;241m-\u001b[39m\u001b[38;5;241m1\u001b[39m)\n\u001b[0;32m    309\u001b[0m \u001b[38;5;28;01mif\u001b[39;00m model\u001b[38;5;241m.\u001b[39mmodel_ \u001b[38;5;129;01min\u001b[39;00m [\u001b[38;5;124m\"\u001b[39m\u001b[38;5;124mpca\u001b[39m\u001b[38;5;124m\"\u001b[39m,\u001b[38;5;124m\"\u001b[39m\u001b[38;5;124mmca\u001b[39m\u001b[38;5;124m\"\u001b[39m,\u001b[38;5;124m\"\u001b[39m\u001b[38;5;124mfamd\u001b[39m\u001b[38;5;124m\"\u001b[39m,\u001b[38;5;124m\"\u001b[39m\u001b[38;5;124mmfa\u001b[39m\u001b[38;5;124m\"\u001b[39m,\u001b[38;5;124m\"\u001b[39m\u001b[38;5;124mmfaqual\u001b[39m\u001b[38;5;124m\"\u001b[39m,\u001b[38;5;124m\"\u001b[39m\u001b[38;5;124mmfamix\u001b[39m\u001b[38;5;124m\"\u001b[39m]:\n\u001b[1;32m--> 310\u001b[0m     t \u001b[38;5;241m=\u001b[39m \u001b[43mauto_cut_tree\u001b[49m\u001b[43m(\u001b[49m\u001b[43mmodel\u001b[49m\u001b[38;5;241;43m=\u001b[39;49m\u001b[43mmodel\u001b[49m\u001b[43m,\u001b[49m\u001b[43m)\u001b[49m\n\u001b[0;32m    313\u001b[0m \u001b[38;5;66;03m# Agglomerative clustering\u001b[39;00m\n\u001b[0;32m    314\u001b[0m link_matrix \u001b[38;5;241m=\u001b[39m hierarchy\u001b[38;5;241m.\u001b[39mlinkage(model\u001b[38;5;241m.\u001b[39mind_[\u001b[38;5;124m\"\u001b[39m\u001b[38;5;124mcoord\u001b[39m\u001b[38;5;124m\"\u001b[39m],method\u001b[38;5;241m=\u001b[39mlink_method,metric \u001b[38;5;241m=\u001b[39m link_metric,optimal_ordering\u001b[38;5;241m=\u001b[39m\u001b[38;5;28;01mFalse\u001b[39;00m)\n",
      "\u001b[1;31mTypeError\u001b[0m: HCPC.__init__.<locals>.auto_cut_tree() missing 5 required positional arguments: 'min_clust', 'max_clust', 'metric', 'method', and 'order'"
     ]
    }
   ],
   "source": [
    "from scientisttools.clustering import HCPC\n",
    "res_hcpc = HCPC(res_pca,order=True)"
   ]
  },
  {
   "cell_type": "code",
   "execution_count": null,
   "metadata": {},
   "outputs": [],
   "source": [
    "res_hcpc.call_[\"t\"]"
   ]
  }
 ],
 "metadata": {
  "kernelspec": {
   "display_name": "Python 3",
   "language": "python",
   "name": "python3"
  },
  "language_info": {
   "codemirror_mode": {
    "name": "ipython",
    "version": 3
   },
   "file_extension": ".py",
   "mimetype": "text/x-python",
   "name": "python",
   "nbconvert_exporter": "python",
   "pygments_lexer": "ipython3",
   "version": "3.10.5"
  }
 },
 "nbformat": 4,
 "nbformat_minor": 2
}
